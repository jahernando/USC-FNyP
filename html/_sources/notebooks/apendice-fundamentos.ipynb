{
 "cells": [
  {
   "cell_type": "markdown",
   "metadata": {
    "slideshow": {
     "slide_type": "slide"
    }
   },
   "source": [
    "# Introducción a Física de Partículas\n",
    "\n",
    "\n",
    "## Apéndice: Unidades, relatividad y ecuación de Dirac\n",
    "\n",
    "\n",
    "Jose A. Hernando\n",
    "\n",
    "*Departamento de Física de Partículas. Universidade de Santiago de Compostela*\n",
    "\n",
    "Septiembre 2021\n"
   ]
  },
  {
   "cell_type": "code",
   "execution_count": 4,
   "metadata": {
    "slideshow": {
     "slide_type": "fragment"
    }
   },
   "outputs": [
    {
     "name": "stdout",
     "output_type": "stream",
     "text": [
      " Last version  Mon Jan 17 10:11:01 2022\n"
     ]
    }
   ],
   "source": [
    "import time\n",
    "print(' Last version ', time.asctime() )"
   ]
  },
  {
   "cell_type": "code",
   "execution_count": 5,
   "metadata": {},
   "outputs": [],
   "source": [
    "# general imports\n",
    "%matplotlib inline\n",
    "%reload_ext autoreload\n",
    "%autoreload 2\n",
    "\n",
    "# numpy and matplotlib\n",
    "import numpy as np\n",
    "import matplotlib\n",
    "import matplotlib.pyplot as plt"
   ]
  },
  {
   "cell_type": "markdown",
   "metadata": {
    "slideshow": {
     "slide_type": "slide"
    }
   },
   "source": [
    "# Indice\n",
    "\n",
    " * Unidades\n",
    " * Relatividad especial\n",
    "    * Transformación de Lorentz\n",
    "    * cuadrimomentos\n",
    " * Amplitudes de desintegración y secciones eficaces\n",
    "    * versión relativista de la regla de oro de Fermi \n",
    "    * amplitud de desintegración a dos cuerpos\n",
    "    * sección eficaz de la interacción de dos cuerpos\n",
    " * Invariantes de Mandelstam"
   ]
  },
  {
   "cell_type": "markdown",
   "metadata": {
    "slideshow": {
     "slide_type": "slide"
    }
   },
   "source": [
    "## Unidades\n",
    "\n",
    "Las unidades del SI son kg, m, s.\n",
    "\n",
    "Pero no son  convenientes en Física de Partículas, por ejemplo, $m_e = 9.1 \\, 10^{-31}$ kg.\n",
    "\n",
    "Se utilizan unidades más convenientes, por ejemplo, para la sección eficaz se usa el barn = $10^{-20}$ m$^2$. Los valores de las secciones eficaces están en pbarns o fbarns.\n",
    "\n",
    "Las magnitudes convenientes son $\\hbar, c$, GeV.\n",
    "\n",
    "| ---- $\\hbar$ ------| ---- $c$ ------ | ---- GeV ----- |\n",
    "| :--     | :--  | :-- |\n",
    "| $1.055$ $10^{-34}$ Js | $2.998$ $10^8$ m/s| $1.602$  $10^{-10}$ J |\n"
   ]
  },
  {
   "cell_type": "markdown",
   "metadata": {
    "slideshow": {
     "slide_type": "slide"
    }
   },
   "source": [
    "En Física de Partículas se usan  las Unidades Naturales (NU) donde $\\hbar = c = 1$\n",
    "\n",
    "Así tenemos $E^2 = m^2 c^2 + p^2 c^2$ $\\to$ $E^2 = m^2 + p^2$, que es la ecuación de Einstein.\n"
   ]
  },
  {
   "cell_type": "markdown",
   "metadata": {
    "slideshow": {
     "slide_type": "slide"
    }
   },
   "source": [
    "La tabla muestra como las unidades de las magnitudes más comunes en NU:\n",
    "\n",
    "| Cantidad | kg, m, s|  $\\hbar, c$, GeV|  NU|\n",
    "|:--       | :--     |:---             | :--                  | \n",
    "| Energía  | kg m$^2$ s$^{-1}$ | GeV          | GeV |\n",
    "| momento  | kg m s$^{-1}$    | GeV/$c$      | GeV |\n",
    "| masa     | kg               | GeV/$c^{2}$ | GeV |\n",
    "| tiempo   | s                | $\\hbar$/GeV | GeV$^{-1}$|\n",
    "| distance | m                | ($\\hbar c$/GeV) | GeV$^{-1}$ |\n",
    "| área     | m$^2$            | ($\\hbar c$/GeV)$^{2}$ | GeV$^{-2}$ |\n",
    "\n",
    "Es útil recordar el factor de conversión: $\\hbar c$ = 0.197 GeV fm.\n",
    "\n",
    "Para convertir de NU a SI se añaden los factores $\\hbar, c$ correspondientes y para cuadrar las magnitudes."
   ]
  },
  {
   "cell_type": "markdown",
   "metadata": {
    "slideshow": {
     "slide_type": "slide"
    }
   },
   "source": [
    "*Cuestión*: expresa el radio del protón $r = 4.1$ GeV$^{-1}$ en el S.I."
   ]
  },
  {
   "cell_type": "code",
   "execution_count": 3,
   "metadata": {
    "slideshow": {
     "slide_type": "fragment"
    }
   },
   "outputs": [
    {
     "name": "stdout",
     "output_type": "stream",
     "text": [
      " radio del protón  8.076999999999999e-16  m\n"
     ]
    }
   ],
   "source": [
    "r = 4.1\n",
    "hbarc = 0.197e-15\n",
    "r_si = r * hbarc\n",
    "print(' radio del protón ', r_si, ' m')"
   ]
  },
  {
   "cell_type": "markdown",
   "metadata": {
    "slideshow": {
     "slide_type": "slide"
    }
   },
   "source": [
    "## Relatividad special\n",
    "\n",
    "### Transformación de Lorentz\n",
    "\n",
    "La transformación de Lorentz nos relaciona el espacio-tiempo $(t, {\\bf r})$ en un sistema inercial $\\Sigma$ con el espacio-tiempo $(t' {\\bf r}')$ en otros sistema inercial $\\Sigma'$ que se desplaza respecto del primero con velocidad $v$ en la dirección $z$.\n",
    "\n",
    "| |\n",
    "|:--:|\n",
    "|<img src=\"./imgs/fun_frames_relativity.png\" width = 400 align=\"center\">|\n",
    "| Sistemas inerciales, $\\Sigma'$ se desplaza con velocidad $v$ respecto $\\Sigma$ [MT2.2]|\n",
    "\n",
    "Einstein postuló que la velocidad de la luz, $c$, es la misma en los dos sistemas y nada puede viajar más rápido que la luz $v \\lt c$. \n",
    "\n",
    "La luz producida en $t = t' = 0$, cuando el origen de los dos sistemas coincide, cumple: \n",
    "\n",
    "$$\n",
    "c^2t^2 - {\\bf r}^2 = c^2 t'^2 - {\\bf r}'^2,\n",
    "$$\n",
    "\n",
    "donde ${\\bf r} = (x, y, z)$, y de igual manera para ${\\bf r}' = (x', y', z')$.\n"
   ]
  },
  {
   "cell_type": "markdown",
   "metadata": {
    "slideshow": {
     "slide_type": "slide"
    }
   },
   "source": [
    "Se cumple esa condición si las coordenadas en los dos sistemas están relacionadas por la transformación de Lorentz.\n",
    "\n",
    "$$\n",
    "t' = \\gamma \\left( t - \\frac{v}{c^2} z \\right), \\; x' = x, \\; y' = y, \\, z' = \\gamma (z - vt) \n",
    "$$\n",
    "\n",
    "donde introducimos, el **factor de Lorentz**, $\\gamma$, y $\\beta$:\n",
    "\n",
    "$$\n",
    "\\gamma = (1 - \\beta^2)^{-1/2}, \\; \\; \\beta = v/c \n",
    "$$\n"
   ]
  },
  {
   "cell_type": "markdown",
   "metadata": {
    "slideshow": {
     "slide_type": "slide"
    }
   },
   "source": [
    "En NU:\n",
    "\n",
    "$$\n",
    "t' = \\gamma (1 - \\beta z),  \\; x' = x, \\; y' = y, z' = \\gamma (z - \\beta t)\n",
    "$$\n",
    "\n",
    "$$\n",
    "\\begin{pmatrix} t' \\\\ x' \\\\ y' \\\\ z' \\end{pmatrix} = \n",
    "\\begin{pmatrix} \\gamma         & 0 & 0 & -\\gamma \\beta \\\\\n",
    "                 0             & 1 & 0 & 0 \\\\\n",
    "                 0             & 0 & 1 & 0 \\\\\n",
    "                 -\\gamma \\beta & 0 & 0 & \\gamma \n",
    "\\end{pmatrix}\n",
    "\\begin{pmatrix}t \\\\ x \\\\ y \\\\ z \\end{pmatrix}\n",
    "$$\n"
   ]
  },
  {
   "cell_type": "markdown",
   "metadata": {
    "slideshow": {
     "slide_type": "slide"
    }
   },
   "source": [
    "\n",
    "La transformación inversa (de $\\Sigma' \\to \\Sigma$) viene dada por:\n",
    "\n",
    "$$\n",
    "\\begin{pmatrix} t \\\\ x \\\\ y \\\\ z \\end{pmatrix} = \n",
    "\\begin{pmatrix} \\gamma         & 0 & 0 & +\\gamma \\beta \\\\\n",
    "                 0             & 1 & 0 & 0 \\\\\n",
    "                 0             & 0 & 1 & 0 \\\\\n",
    "                 +\\gamma \\beta & 0 & 0 & \\gamma \n",
    "\\end{pmatrix}\n",
    "\\begin{pmatrix}t' \\\\ x' \\\\ y' \\\\ z' \\end{pmatrix}\n",
    "$$\n",
    "\n",
    "La matriz, ${\\bf \\Lambda}^{-1}$, de la segunda transformación, es inversa de la primera, ${\\bf \\Lambda}$. Esto es: ${\\bf \\Lambda} {\\bf \\Lambda}^{-1} = {\\bf I}$"
   ]
  },
  {
   "cell_type": "markdown",
   "metadata": {
    "slideshow": {
     "slide_type": "slide"
    }
   },
   "source": [
    "### cuatro-vectores\n",
    "\n",
    "La magnitud ${\\bf r}^2$, de un vector 3D, donde ${\\bf r} = (x, y, z)$, es invariante bajo rotaciones.\n",
    "\n",
    "El producto escalar, $x^\\mu x_\\mu = t^2 - x^2 - y^2 - z^2$, definido entre cuadri-vectores dados por: $x^\\mu = (t, x, y, z), \\;\\, x_\\mu = (t, -x, -y, -z)$, es invariante respecto tranformaciones de Lorentz.\n",
    "\n",
    "El cuadri-vector, $x^\\mu$, se llama **contra-variante** y $x_\\mu$, **co-variante**.\n"
   ]
  },
  {
   "cell_type": "markdown",
   "metadata": {
    "slideshow": {
     "slide_type": "slide"
    }
   },
   "source": [
    "\n",
    "Están relacionados via  $x_\\mu = g_{\\mu\\nu} x^\\nu$. \n",
    "\n",
    "Donde $g_{\\mu\\nu}$ es el **tensor diagonal de la métrica**:\n",
    "\n",
    "$$\n",
    "g_{\\mu\\nu } = \\begin{pmatrix} 1 & 0 & 0 & 0 \\\\ 0 & -1 & 0 & 0 \\\\ 0 & 0 & -1 & 0 \\\\ 0 & 0 & 0 & -1 \\end{pmatrix}\n",
    "$$\n",
    "\n",
    "El producto entre dos cuadrivectores $a^\\nu, b^\\mu$ se puede denotar:\n",
    "$$\n",
    " g_{\\nu\\mu} a^\\nu b^\\mu  = a^\\nu b_\\nu  = a_\\mu b^\\mu,\n",
    "$$\n",
    "donde los índices repetidos implica el sumatorio en los mismos. \n",
    "$$\n",
    "g_{\\nu\\mu} a^\\nu b^\\mu \\equiv \\sum_{\\mu=0}^3 \\sum_{\\nu = 0}^3 g_{\\mu\\nu} a^\\nu b^\\mu, \\;\\;\\; a_\\mu b^\\mu \\equiv \\sum_{\\mu=0}^3 a_\\mu b^\\mu\n",
    "$$"
   ]
  },
  {
   "cell_type": "markdown",
   "metadata": {
    "slideshow": {
     "slide_type": "slide"
    }
   },
   "source": [
    "La tranformación de Lorentz de $\\Sigma \\to \\Sigma'$ viene dada por:\n",
    "\n",
    "para el cuadri-vector contra-variante:\n",
    "\n",
    "$$x'^\\mu = \\Lambda^\\mu _{\\;\\; \\nu} x^\\nu,$$ \n",
    "\n",
    "donde $\\Lambda^\\mu_{\\;\\; \\nu}$ es el elemento de la matriz de la transformación $\\Sigma \\to \\Sigma'$ y los índices repetidos se suman.\n",
    "\n",
    "para el co-variante:\n",
    "$$x'_\\mu = \\Lambda_\\mu ^{\\;\\; \\nu} x_\\nu,$$\n",
    "\n",
    "donde $\\Lambda_\\mu^{\\;\\; \\nu}$ corresponde a los índices de la matriz ${\\bf \\Lambda}^{-1}$"
   ]
  },
  {
   "cell_type": "markdown",
   "metadata": {
    "slideshow": {
     "slide_type": "slide"
    }
   },
   "source": [
    "### Cuadri-momento\n",
    "\n",
    "Definimos el **cuadrimomento** (como vector contra-variante); $p^\\mu = (E, p_x, p_y, p_z)$\n",
    "\n",
    "El producto escalar es un invariante Lorentz:\n",
    "\n",
    "$$\n",
    "p^2 = p^\\mu p_\\mu = E^2 - {\\bf p}^2 = m^2,\n",
    "$$ \n",
    "dado que para ${\\bf p} = {\\bf 0}$, tenemos $p_\\mu = (m, 0, 0, 0)$.\n",
    "\n",
    "Esta expresion es *la relación de Einstein entre energía y momento*.\n",
    "\n",
    "En general usaremos $p^2 = p^\\mu p_\\mu$, para distinguirlo del producto escalar en 3D, ${\\bf p}^2  = |{\\bf p}|^2$"
   ]
  },
  {
   "cell_type": "markdown",
   "metadata": {
    "slideshow": {
     "slide_type": "slide"
    }
   },
   "source": [
    "\n",
    "La energía y el momento de una partícula relativista de masa $m$ y velocidad ${\\bf v}$ son\n",
    "\n",
    "$$\n",
    "E = \\gamma m c^2, \\;\\;\\; {\\bf p } = \\gamma  m {\\bf v}\n",
    "$$\n",
    "\n",
    "En NU:\n",
    "\n",
    "$$\n",
    "E = \\gamma m, \\;\\;\\; {\\bf p} = \\gamma m {\\bf \\beta} \n",
    "$$\n",
    "\n",
    "De donde obtenemos:\n",
    "\n",
    "$$\n",
    "\\gamma = \\frac{E}{m}, \\;\\;\\; \\beta = \\frac{p}{E}\n",
    "$$"
   ]
  },
  {
   "cell_type": "markdown",
   "metadata": {
    "slideshow": {
     "slide_type": "slide"
    }
   },
   "source": [
    "En el caso de *un sistema de n partículas*, $i = 1, \\dots, n$, el cuadrimomento total:\n",
    "\n",
    "$$\n",
    "p = \\sum_i p_i,\n",
    "$$\n",
    "cumple:\n",
    "$$\n",
    "p^2 = \\left(\\sum_i E_i \\right)^2 - \\left( \\sum_i {\\bf p}_i \\right)^2\n",
    "$$\n",
    "\n",
    "En el caso en el que una partícula se desintegre $a \\to b + c$, se cumple:\n",
    "\n",
    "$$\n",
    "(p_b + p_c)^2 = p_a^2 = m^2_a,\n",
    "$$\n",
    "que se demonima, redundantemente, **masa invariante**."
   ]
  },
  {
   "cell_type": "markdown",
   "metadata": {
    "slideshow": {
     "slide_type": "slide"
    }
   },
   "source": [
    "Es útil trabajar en el sitema **centro de masas** (CM), donde se cumple:\n",
    "\n",
    "$$\n",
    "\\sum_i {\\bf p}_i = {\\bf 0}\n",
    "$$\n",
    "\n",
    "Es habitual utilizar la notación, $E^*, {\\bf p}^*$ para la energía y el momento dados en el CM."
   ]
  },
  {
   "cell_type": "markdown",
   "metadata": {
    "slideshow": {
     "slide_type": "slide"
    }
   },
   "source": [
    "## Regla de oro de Fermi\n",
    "\n",
    "\n",
    "La **regla de oro de Fermi** establece que la **frecuencia de transición**, $R$, entre los estados $i$-inicial y $f$-final regidos por un hamiltoniano de interacción $H_{int}$ es:\n",
    "\n",
    "$$\n",
    "R = (2\\pi) \\, |M_{fi}|^2 \\rho(E),\n",
    "$$\n",
    "\n",
    "donde:\n",
    "\n",
    "   * $M_{if}$ es **el elemento de la matríz** de transición $M_{fi} = \\langle f | H | i \\rangle$\n",
    "   \n",
    "   * $\\rho(E)$ es **la densidad de estados disponibles** $\\rho(E)$, que depende de las posibilidades de momento que pueden tener los estados finales.\n",
    "   \n",
    "Notar que:\n",
    "   \n",
    "   * la física inherente a la interacción aparece en el elemento de matríz,\n",
    "\n",
    "   * la densidad de estados disponibles depende sólo de la cinemática del evento."
   ]
  },
  {
   "cell_type": "markdown",
   "metadata": {
    "slideshow": {
     "slide_type": "slide"
    }
   },
   "source": [
    "\n",
    "En mecánica cuántica se calculan dichos factores en la aproximación no-relativista.\n",
    "\n",
    "En Física de Partículas se precisa su versión relativista donde los factores $M_{fi}$ y $\\rho(E)$ deben ser invariantes Lorentz.\n",
    "\n",
    "La versión relativista pasa por dar un tratamiento relativista a la normalización de función de ondas. "
   ]
  },
  {
   "cell_type": "markdown",
   "metadata": {
    "slideshow": {
     "slide_type": "slide"
    }
   },
   "source": [
    "#### normalización de la función de ondas relativista\n",
    "\n",
    "En mecánica cuántica normalizamos la función de ondas, $\\psi$ en un cubo de lados $L$, con volumen $V = L^3$, a la unidad:\n",
    "\n",
    "$$\n",
    "\\int_V \\psi^* \\psi \\, \\mathrm{d}^3x = 1 \n",
    "$$\n",
    "\n",
    "Esto es, la partícula está contenida en $V$.\n",
    "\n",
    "La densidad densidad de estados disnponible asociada a ese volumen es:\n",
    "$$\n",
    "\\frac{\\mathrm{d}^3{\\bf p}}{(2\\pi)},\n",
    "$$\n",
    "\n",
    "que viene de expresar $\\frac{\\mathrm{d}^3 {\\bf p}}{h}$ en NU, recordando que en NU: $h = 2\\pi$."
   ]
  },
  {
   "cell_type": "markdown",
   "metadata": {
    "slideshow": {
     "slide_type": "slide"
    }
   },
   "source": [
    "\n",
    "En tratamiento relativista, el volumen no es un invariante Lorentz.\n",
    "\n",
    "Un cubo de lado $L$ en un sistema con un factor de Lorentz, $\\gamma$ es\n",
    "$$\n",
    "V ' = \\gamma L^3 = \\gamma V\n",
    "$$\n",
    "\n",
    "Si en ese cubo estaba contenida la partícula  $E_0 = m$, en el sistema con factor $\\gamma$, su energía es:\n",
    "\n",
    "$$\n",
    "E' = \\gamma E_0\n",
    "$$"
   ]
  },
  {
   "cell_type": "markdown",
   "metadata": {
    "slideshow": {
     "slide_type": "slide"
    }
   },
   "source": [
    "\n",
    "Vemos que $V, E$ se tranforman Lorentz de igual forma, via un factor $\\gamma$. \n",
    "\n",
    "En mecánica cuántica relativista, normalizamos la función de ondas, $\\Psi$, \n",
    "en un volumen $V$ a $2E$:\n",
    "\n",
    "$$\n",
    "\\int_V \\Psi^* \\Psi \\, \\mathrm{d}^3 x = 2E,\n",
    "$$\n",
    "El factor $2$ es por conveniencia."
   ]
  },
  {
   "cell_type": "markdown",
   "metadata": {
    "slideshow": {
     "slide_type": "slide"
    }
   },
   "source": [
    "#### elemento de matriz relativista\n",
    "\n",
    "Como consecuencia de la normalización relativista de la función de ondas $\\Psi$, el elemento de matriz relativista $|M_{fi}| = \\langle \\Psi_f| H_{int}| \\Psi_i \\rangle$ se relaciona con el no-relativista $T_{fi} = \\langle \\psi_f | H_{int}| \\psi_i \\rangle$ por un factor que proviene de la normalización. \n",
    "\n",
    "$$\n",
    "M_{fi} = \\langle \\Psi_f | H_{int}| \\Psi_i \\rangle = \\left(\\prod_i \\sqrt{2E_i} \\right) \\langle  \\psi_f | H_{int}| \\psi_i \\rangle =  \\left(\\prod_i \\sqrt{2E_i} \\right)  T_{fi}\n",
    "$$\n",
    "donde índice $i$ corre en las $n$ partículas iniciales y finales.\n",
    "\n",
    "Pare recuperar las expresiones de la amplitud de transición o la sección eficaz en el tratamiento no relativista debemos introducir el inverso de ese factor al cuadrado, esto es:\n",
    "\n",
    "$$\n",
    "\\frac{1}{\\prod_i (2E_i)}\n",
    "$$"
   ]
  },
  {
   "cell_type": "markdown",
   "metadata": {
    "slideshow": {
     "slide_type": "slide"
    }
   },
   "source": [
    "La amplitud de desintegración de una partícula de $E_a$ a $m$ partículas finales.  \n",
    "\n",
    "Pasamos de la expresión no-relativista\n",
    "\n",
    "$$\n",
    "\\Gamma  = (2\\pi)^4 \\int |T_{fi}|^2 \\delta^4 \\left(\\sum_k p_k - p_a \\right) \\, \\prod_i \\frac{\\mathrm{d}^3{\\bf p}_i}{(2\\pi)^3}\n",
    "$$\n",
    "donde $p_a$ es el cuadrimomento de la partícula inicial y $p_i$ los de las finales, $i = 1, \\dots, m$. Recordar que las deltas de Dirac imponen la conservación de energía y momento entre la partícula inicial y las finales. \n",
    "\n",
    "A la relativista:\n",
    "\n",
    "$$\n",
    "\\Gamma = \\frac{(2\\pi)^4}{2 E_a} \\int |M_{fi}|^2 \\delta^4 \\left(\\sum_k p_k - p_a \\right) \\, \\prod_i \\frac{\\mathrm{d}^3{\\bf p}_i}{(2\\pi)^3 (2E_i)}\n",
    "$$"
   ]
  },
  {
   "cell_type": "markdown",
   "metadata": {
    "slideshow": {
     "slide_type": "slide"
    }
   },
   "source": [
    "Para la sección eficaz de la interacción de dos partículas $ a + b$ en $m$ partículas finales.\n",
    "\n",
    "La expresión no relativista:\n",
    "$$\n",
    "\\sigma = \\frac{(2\\pi)^4}{|v_a + v_b|} \\int |T_{fi}|^2 \\delta^4 \\left(\\sum_k p_k - p_a - p_b \\right) \\, \\prod_i \\frac{\\mathrm{d}^3{\\bf p}_i}{(2\\pi)^3},\n",
    "$$\n",
    "\n",
    "donde $v_a, v_b$ son el módulo de las velocidades, considerando que las partículas colisionan en una misma dirección y tienen sentidos opuestos. Las deltas de Dirac imponen la condición de conservación de la energía y momento entre los estados inicial y final.\n",
    "\n",
    "La expresión relativista es:\n",
    "$$\n",
    "\\sigma = \\frac{(2\\pi)^4}{(2 E_a) (2 E_b) (\\beta_a + \\beta_b)} \\int |M_{fi}|^2 \\delta^4 \\left(\\sum_k p_k - p_a -p_b\\right) \\, \\prod_i \\frac{\\mathrm{d}^3{\\bf p}_i}{(2\\pi)^3 (2E_i)}\n",
    "$$\n",
    "\n"
   ]
  },
  {
   "cell_type": "markdown",
   "metadata": {
    "slideshow": {
     "slide_type": "slide"
    }
   },
   "source": [
    "En la versión relativista, cada uno de los factores de la sección eficaz es invariante Lorentz:\n",
    "\n",
    "   * el elemento de matriz al cuadrado: $|M_{fi}|^2 = | \\langle \\Psi_f| H_{int} | \\Psi i\\rangle |^2$\n",
    "   \n",
    "   * la densidad de estados: $\\frac{\\mathrm{d}^3 {\\bf p}}{(2\\pi)^3 (2E)}$\n",
    "   \n",
    "   * el término asociado al flujo: $4 E_a E_b (\\beta_a + \\beta_b)$\n",
    "   \n",
    "Notar que a partir de la propiedad de la función delta de Dirac, $\\int \\delta(E^2-{\\bf p}^2 - m^2) \\, \\mathrm{d}E = \\frac{1}{2E}$, podemos reescribir:\n",
    "\n",
    "$$\n",
    "\\frac{\\mathrm{d}^3{\\bf p}}{(2\\pi)^3 (2E)} = \\int \\delta(p^2-m^2) \\frac{\\mathrm{d}^4p}{(2\\pi)^3}\n",
    "$$"
   ]
  },
  {
   "cell_type": "markdown",
   "metadata": {
    "slideshow": {
     "slide_type": "subslide"
    }
   },
   "source": [
    "*Cuestión*: Demostrar que $4 E_a E_b (\\beta_a + \\beta_b) = 16 \\sqrt{(p_a \\cdot p_b)^2 - m^2_a m^2_b}$"
   ]
  },
  {
   "cell_type": "markdown",
   "metadata": {},
   "source": [
    "## Anchura de desintegración\n",
    "\n",
    "Un sistema de N partículas en un volumen V que se desintegran en el tiempo a una frecuencia constante:\n",
    "\n",
    "$$\n",
    "\\frac{\\mathrm{d}N}{\\mathrm{d}t} = - \\Gamma N\n",
    "$$\n",
    "\n",
    "Cumple:\n",
    "$$\n",
    "N(t) = N \\, e^{-\\Gamma t}\n",
    "$$\n",
    "\n",
    "A $\\Gamma$ la llamamos **anchura de desintegración** y a su inverso, $\\tau$ **tiempo de vida media**:\n",
    "\n",
    "$$\n",
    "\\tau = \\frac{1}{\\Gamma}, \\;\\; N = N \\, e^{-t/\\tau}\n",
    "$$"
   ]
  },
  {
   "cell_type": "markdown",
   "metadata": {
    "slideshow": {
     "slide_type": "slide"
    }
   },
   "source": [
    "En el caso de que la partícula se desintegra a $n$ varios canales, $i = 0, \\dots, n$.\n",
    "\n",
    "Para cada uno habrá una **anchura parcial de desintegración**, $\\Gamma_i$\n",
    "\n",
    "La anchura total será la suma de las parciales:\n",
    "\n",
    "$$\n",
    "\\Gamma = \\sum_i \\Gamma_i\n",
    "$$\n",
    "\n",
    "Y llamaremos fracción de desintegración, $\\mathcal{Br}_i$, de un canal al porcentaje de veces que una partícula se desintegra en ese canal, que corresponde a:\n",
    "\n",
    "$$\n",
    "\\mathcal{Br}_i = \\frac{\\Gamma_i}{\\Gamma}\n",
    "$$"
   ]
  },
  {
   "cell_type": "markdown",
   "metadata": {
    "slideshow": {
     "slide_type": "slide"
    }
   },
   "source": [
    "En mecánica cuántica la función de ondas se normaliza a 1 un un volumen unidad\n",
    "\n",
    "La relación entre la anchura de desintegración, $\\Gamma$ y la frecuencia de transición es simplemente:\n",
    "\n",
    "$$\n",
    "\\Gamma = R\n",
    "$$\n",
    "\n",
    "En la formulación relativista, tenemos que introducir los factores de normalización $\\frac{1}{(2E)}$, para cada partícula.\n",
    "\n",
    "$$\n",
    "\\Gamma = \\frac{(2\\pi)^4}{2 E_a} \\int |M_{fi}|^2 \\delta^4 \\left(\\sum_k p_k - p_a \\right) \\, \\prod_i \\frac{\\mathrm{d}^3{\\bf p}_i}{(2\\pi)^3 (2E_i)}\n",
    "$$"
   ]
  },
  {
   "cell_type": "markdown",
   "metadata": {
    "slideshow": {
     "slide_type": "slide"
    }
   },
   "source": [
    "### Anchura de desintegración a dos partículas\n",
    "\n",
    "Consideremos la desintegración de una partícula $a$ en dos $b, d$, con masas $m_a, m_b, m_c$.\n",
    "\n",
    "| |\n",
    "|:--:|\n",
    "|<img src=\"./imgs/intro_drawing_decay2.png\" width = 400 align=\"center\">|\n",
    "| Esquema de desintegración de la partícula $a$ a dos $b, c$ en el CM|\n",
    "\n",
    "El sistema más conveniente para tratar el proceso es el CM, donde la partícula $a$ está en reposo, y tiene $E = m_a$.\n",
    "\n",
    "Las partículas $b, c$ salen con momentos opuestos ${\\bf p}^* = {\\bf p}_b = - {\\bf p}_c$. \n",
    "\n",
    "El módulo del momento de las partículas salientes, $p^*$ es (ver sección de los invariantes de Mendelstam): \n",
    "\n",
    "$$\n",
    "p^*= \\frac{1}{2m_a} \\sqrt{[m^2_a - (m_b+m_c)^2] \\, [m^2_a - (m_b - m_c)^2] }\n",
    "$$\n",
    "\n",
    "Notar que a falta de un espín polarizado de la partícula $a$ (que definiría un eje) no hay ninguna dirección privilegiada."
   ]
  },
  {
   "cell_type": "markdown",
   "metadata": {
    "slideshow": {
     "slide_type": "slide"
    }
   },
   "source": [
    "La anchura de desintegración, $\\Gamma$, es la razón de transición de la regla de oro de Fermi.\n",
    "\n",
    "Integramos usando $\\delta({\\bf p}_b + {\\bf p}_c)$ en  $\\mathrm{d}^3p_{c}$ directamente.\n",
    "\n",
    "$$\n",
    "\\Gamma = \\frac{1}{(2 E) (2\\pi)^2} \\int |M_{fi}|^2 \\delta \\left(E - E_b - E_c \\right) \\frac{p^2_b }{4 E_b E_c}\\,  \\mathrm{d}p_b \\mathrm{d}\\Omega^*,\n",
    "$$\n",
    "\n",
    "donde $E_b = \\sqrt{m^2_b + p^2_b}, \\; E_c = \\sqrt{m^2_c + p^2_b}$ y $\\mathrm{d}\\Omega^*$ el diferencial de ángulo sólido.\n"
   ]
  },
  {
   "cell_type": "markdown",
   "metadata": {},
   "source": [
    "Si aplicamos la siguiente propiedad de la delta de Dirac: $\\int \\delta(f(p))\\,  \\mathrm{d} p = \\left|\\frac{\\mathrm{d}f(p)}{\\mathrm{d}p} \\right|_{p'}^{-1}$, donde $p'$ cumple $f(p') = 0$\n",
    "\n",
    "con $f(p_b) = E -  \\sqrt{m^2_b + p^2_b}- \\sqrt{m^2_c + p^2_b}$ respecto $p = p_b$, y $p' = p^*$:\n",
    "\n",
    "$$\n",
    "\\frac{\\mathrm{d}f(p_b)}{\\mathrm{d}p_b} = \\frac{p_b}{\\sqrt{m^2_b + p^2_b}} + \\frac{p_b}{\\sqrt{m^2_c + p^2_c}} = p_b \\frac{E_c + E_d}{E_c E_d} = p_b \\frac{E}{E_c E_d}\n",
    "$$\n",
    "\n",
    "La anchura de desintegración queda:\n",
    "\n",
    "$$\n",
    "\\Gamma = \\frac{1}{8 \\pi^2 E} \\frac{(p^*)^2}{4 E_b E_c} \\frac{E_b E_c}{p^* E} \\int |M_{fi}|^2 \\, \\mathrm{d}\\Omega^* = \n",
    "\\frac{1}{8\\pi^3}\\frac{p^*}{4 E^2} \\int |M_{fi}|^2 \\, \\mathrm{d}\\Omega^*\n",
    "$$"
   ]
  },
  {
   "cell_type": "markdown",
   "metadata": {
    "slideshow": {
     "slide_type": "slide"
    }
   },
   "source": [
    "La anchura de desintegracion, en este caso, solo depende de $p^*$, si colocamos $E = E_a = m_a$ en el CM:\n",
    "\n",
    "$$\n",
    "\\Gamma = \\frac{p^*}{32 \\pi^2 m^2_a} \\int_{\\Omega} |M_{fi}|^2 \\mathrm{d}\\Omega^*\n",
    "$$"
   ]
  },
  {
   "cell_type": "markdown",
   "metadata": {
    "slideshow": {
     "slide_type": "slide"
    }
   },
   "source": [
    "### Sección eficaz de una interacción de dos cuerpos\n",
    "\n",
    "Sea la interacción entres dos partículas $a, b$ que da lugar a $m$ particulas finales.\n",
    "\n",
    "Sea un flujo de partículas $a$, con densidad de $N_a$ partículas en un volumen $V$ que se mueve contra un blanco de $N_b$ partículas en un volumen $V$ que se mueven en sentido opuesto con $v_b$.\n",
    "\n",
    "Asignamos una sección eficaz $\\sigma$ de interacción a la partículas blanco $b$. La frecuencia de interacciónes corresponderá al número de partículas $a$ que atraviesa un cilindro de base $\\sigma$ y altura $v_a + v_b$ para cada partícula $b$.\n",
    "\n",
    "| |\n",
    "|:--|\n",
    "|<img src=\"./imgs/fun_drawing_xsection.png\" width = 400 align=\"center\">|\n",
    "| (a) una partícula $a$ recorre en $\\mathrm{d}t$ un cilindro de longitud $v_a+v_b$ [MT3.4] |\n",
    "| (b) visión transversal del cilindro, las partículas $b$ en el mismo con el disco de la sección eficaz|\n"
   ]
  },
  {
   "cell_type": "markdown",
   "metadata": {
    "slideshow": {
     "slide_type": "slide"
    }
   },
   "source": [
    "\n",
    "Esto es, en número de interacciones en un volumen $V$ y un tiempo $\\mathrm{d}t$ es:\n",
    "\n",
    "$$\n",
    "\\mathrm{d}N = (v_a + v_b) \\sigma \\, n_a N_b \\, \\mathrm{d}t\n",
    "$$\n",
    "\n",
    "El factor $(v_a + v_b) n_a$ es el flujo de partículas $a$, $\\phi_a$, con velocidad $v_a$ que atraviesan una superficie perpendicular a su velocidad, cuando ésta se mueve contra ellas con velocidad $v_b$.\n",
    "\n",
    "Luego, la frecuencia de interacciones, $R$, en un volumen, V, donde hay $N_b$, partículas blanco, al que llega un flujo $\\phi_a$ de partículas $a$ es:\n",
    "\n",
    "$$\n",
    "R = \\phi_a \\, \\sigma \\, N_b\n",
    "$$\n",
    "\n"
   ]
  },
  {
   "cell_type": "markdown",
   "metadata": {
    "slideshow": {
     "slide_type": "slide"
    }
   },
   "source": [
    "En mecánica cuántica se adopta la normalización de una partícula en una unidad de volumen, $V = 1, n_a = 1, n_b = 1$, en ese caso:\n",
    "\n",
    "$$\n",
    "R = (v_a + v_b) \\, \\sigma, \\;\\;\\; \\sigma = \\frac{R}{(v_a+v_b)}\n",
    "$$\n",
    "\n",
    "En la formulación relativista, tenemos que introdocir in factor de normalización $\\frac{1}{(2E)}$ para cada partícula.\n",
    "\n",
    "$$\n",
    "\\sigma = \\frac{(2\\pi)^4}{(2 E_a) (2 E_b) (\\beta_a + \\beta_b)} \\int |M_{fi}|^2 \\delta^4 \\left(\\sum_k p_k - p_a -p_b\\right) \\, \\prod_i \\frac{\\mathrm{d}^3{\\bf p}_i}{(2\\pi)^3 (2E_i)}\n",
    "$$"
   ]
  },
  {
   "cell_type": "markdown",
   "metadata": {
    "slideshow": {
     "slide_type": "slide"
    }
   },
   "source": [
    "### Sección eficaz de interacción de dos cuerpos\n",
    "\n",
    "Sea la interacción entre dos $a, b$ partículas incidentes que da lugar a dos partículas finales $c, d$.\n",
    "\n",
    "| |\n",
    "|:--:|\n",
    "|<img src=\"./imgs/intro_drawing_int2.png\" width = 400 align=\"center\">|\n",
    "| Esquema de interacción de las partículs $a, b$ a $c, d$ en el CM|\n",
    "\n",
    "El sistema más conviente para calcula la sección eficaz es el CM. En este sistema, se conservan los momentos:\n",
    "\n",
    "$$\n",
    "{\\bf p}^*_i = {\\bf p}_a = - {\\bf p}_b, \\;\\; {\\bf p}^*_f = {\\bf p}_c = - {\\bf p}_d\n",
    "$$\n",
    "\n",
    "Notar que las partículas están en un plano, y el único parámetro libre es el ángulo, $\\theta^*$ entre ${\\bf p}^*_f$ y ${\\bf p}^*_i$, y este último define el eje.\n"
   ]
  },
  {
   "cell_type": "markdown",
   "metadata": {
    "slideshow": {
     "slide_type": "slide"
    }
   },
   "source": [
    "La sección eficaz se obtiene a partir de la expresión general donde $E = E_a + E_b$, $p_b = p_a = p^*_i$ y $p_d = p_c = p^*_f$.\n",
    "\n",
    "El término del espacio fásico se calcula igual que en el apartado de la amplitud de desintegración a dos cuerpos, solo que ahora $E = E_a + E_b$:\n",
    "\n",
    "$$\n",
    "\\frac{1}{(2\\pi)^2}\\frac{p^*_f}{4 E} \\int  |M_{fi}|^2 \\, \\mathrm{d}\\Omega^*\n",
    "$$\n",
    "\n",
    "\n",
    "El término asociado al flujo:\n",
    "\n",
    "$$\n",
    "4 E_a E_b (\\beta_b + \\beta_a) = 4 E_a E_b \\left(\\frac{p_a}{E_a} + \\frac{p_b}{E_b}\\right) = 8 E p^*_i\n",
    "$$"
   ]
  },
  {
   "cell_type": "markdown",
   "metadata": {
    "slideshow": {
     "slide_type": "slide"
    }
   },
   "source": [
    "La sección queda:\n",
    "\n",
    "$$\n",
    "\\sigma = \\frac{1}{64 \\pi^2 E^2} \\frac{p^*_f}{p^*_i} \\int_\\Omega |M_{fi}|^2 \\, \\mathrm{d}\\Omega^*\n",
    "$$\n",
    "\n",
    "si sustituimos $E^2 =  s$ donde $s = \\left[(E_a, {\\bf p}_a) + (E_b, {\\bf p}_b)\\right]^2 = [(E_a + E_b, {\\bf 0})]^2$, es el cuadrimomento transferido al cuadrado.\n",
    "\n",
    "$$\n",
    "\\sigma = \\frac{1}{64 \\pi^2 s} \\frac{p^*_f}{p^*_i} \\int_\\Omega |M_{fi}|^2 \\, \\mathrm{d}\\Omega\n",
    "$$"
   ]
  },
  {
   "cell_type": "markdown",
   "metadata": {
    "slideshow": {
     "slide_type": "slide"
    }
   },
   "source": [
    "## Invariables de Mandelstam y cinemática\n",
    "\n",
    "| | \n",
    "| :-- |\n",
    "| <img src=\"./imgs/feynman_stchannels.png\" width = 400 align=\"center\">|\n",
    "| Diagramas asociados a los invariantes de Mandelstam (izda) dispersión (derecha) aniquilación|\n",
    "\n",
    "\n",
    "Los cuadrimomentos transferidos, $q^2$, entre las corrientes, de los diagramas de la figura, se denota con:\n",
    "\n",
    "$$\n",
    "t = (p_c - p_a)^2 = (p_d - p_b)^2, \\;\\;\\; s = (p_a +p_b)^2 = (p_c + p_d)^2,\n",
    "$$\n",
    "\n",
    "donde $p_\\alpha$, $\\alpha = a, b, c, d$ son los cuadrimomentos de las partículas, \n",
    "\n",
    "y se denominan **invariantes de Mandelstam** y que corresponden a los **canales** $t$ de dispersión y $s$ de aniquilación respectivamente.\n"
   ]
  },
  {
   "cell_type": "markdown",
   "metadata": {
    "slideshow": {
     "slide_type": "slide"
    }
   },
   "source": [
    "### Cinemática con el invariante $s$\n",
    "\n",
    "La cantidad $\\sqrt{s}$ es la energía en el centro de masas, (CM), de una aniquilación\n",
    "$$\n",
    "s = (p_a + p_b) = (E^*_a + E^*_b) - ({\\bf p}^*_a +{\\bf p}^*_b) = (E^*_a + E^*_b)^2,\n",
    "$$\n",
    "\n",
    "dado que ${\\bf p}^*_i = {\\bf p}^*_a = -{\\bf p}^*_b$ (ver figura de la dispersión de dos cuerpos arriba).\n",
    "\n",
    "En la literatura se denota $\\sqrt{s}$ para indicar la **energía en el centro de masas**.\n"
   ]
  },
  {
   "cell_type": "markdown",
   "metadata": {
    "slideshow": {
     "slide_type": "slide"
    }
   },
   "source": [
    "Podemos calcular $E^*_a, E^*_b$ a partir de $s$ y las masas $m_a, m_b$.\n",
    "\n",
    "Si calculamos, $E^{*2}_a$ teniendo en cuenta que $E^*_a = (\\sqrt{s} - E^*_b)$, y $p^*_a = p^*_b = p^*_i$, obtenemos:\n",
    "\n",
    "$$\n",
    "E^{*2}_a = m^2_a + p_i^{*2} = E^{*2}_b - 2 \\sqrt{s}E^*_b + s = m^2_b + p_i^{*2} - 2 \\sqrt{s}E^*_b + s \\\\\n",
    "m^2_a = m^2_b + s - 2 \\sqrt{s} E^*_b\n",
    "$$\n",
    "\n",
    "\n",
    "y como el tratamiento para $a$ es idéntico al de $b$, obtenemos:\n",
    "\n",
    "$$\n",
    "E^*_a = \\frac{s + m^2_a - m^2_b}{2 \\sqrt{s}}, \\;\\; E^*_b = \\frac{s + m^2_b - m^2_a}{2 \\sqrt{s}}.\n",
    "$$\n",
    "\n"
   ]
  },
  {
   "cell_type": "markdown",
   "metadata": {
    "slideshow": {
     "slide_type": "slide"
    }
   },
   "source": [
    "El momento será:\n",
    "    \n",
    "$$\n",
    "p^{*}_i = \\sqrt{E^{*2}_a - m^2_a} = p^* = \\sqrt{E^{*2}_b - m^2_b}, 2 p^{2*} = E^{*2}_a + E^{*2}_b - m^2_a - m^2_b \\\\\n",
    "$$\n",
    "\n",
    "por lo tanto\n",
    "\n",
    "$$\n",
    "p^{2*}_i = \\frac{E^{*2}_a + E^{*2}_b - m^2_a - m^2_b}{2} = \\\\ \n",
    "\\frac{\\left[s + (m^2_a - m^2_b) \\right]^2 + \\left[s - (m^2_a - m^2_b)\\right]^2 - 4 s (m^2_a + m^2_b)}{8 s} = \\\\\n",
    "\\frac{s^2 + (m^2_a - m^2_b)^2 - 2 s (m^2_a + m^2_b)}{4s}\n",
    "$$\n",
    "\n"
   ]
  },
  {
   "cell_type": "markdown",
   "metadata": {
    "slideshow": {
     "slide_type": "slide"
    }
   },
   "source": [
    "como: \n",
    "\n",
    "$$\n",
    "m^2_a - m^2_b = (m_a + m_b) (m_a - m_b), \\\\ 2(m^2_a + m^2_b) = (m_a+m_b)^2 + (m_a-m_b)^2\n",
    "$$\n",
    "\n",
    "tenemos:\n",
    "\n",
    "$$\n",
    "p^{*2}_i = \\frac{s^2 + (m_a+m_b)^2(m_a-m_b)^2 - s \\left[ (m_a+m_b)^2 + (m_a - m_b)^2 \\right] }{4s} = \\\\\n",
    "       = \\frac{\\left[s- (m_a+m_b)^2\\right] \\, \\left[s - (m_a-m_b)^2\\right]}{4s}\n",
    "$$\n",
    "\n",
    "por lo que el momento inicial es:\n",
    "\n",
    "$$\n",
    "p^*_i = \\frac{\\sqrt{\\left[s- (m_a+m_b)^2\\right] \\, \\left[s - (m_a-m_b)^2\\right]}}{2\\sqrt{s}}\n",
    "$$\n"
   ]
  },
  {
   "cell_type": "markdown",
   "metadata": {
    "slideshow": {
     "slide_type": "slide"
    }
   },
   "source": [
    "Como la situación es idéntica para las partícula finales tenemos:\n",
    "\n",
    "$$\n",
    "E^*_c = \\frac{s + m^2_c - m^2_d}{2 \\sqrt{s}}, \\;\\; E^*_d = \\frac{s + m^2_d - m^2_c}{2 \\sqrt{s}} \\\\\n",
    "p^*_f = \\frac{\\sqrt{\\left[s- (m_c+m_d)^2\\right] \\, \\left[s - (m_c-m_d)^2\\right]}}{2 \\sqrt{s}}\n",
    "$$"
   ]
  },
  {
   "cell_type": "markdown",
   "metadata": {
    "slideshow": {
     "slide_type": "slide"
    }
   },
   "source": [
    "En el caso de la desintegración a dos cuerpos, $a \\to c + d$, la energía en el CM es $ \\sqrt{s} = m_a$.\n",
    "\n",
    "Los momentos y energía finales son en ese caso:\n",
    "\n",
    "$$\n",
    "E^*_c = \\frac{m^2_a + m^2_c - m^2_d}{2 m_a}, \\;\\; E^*_d = \\frac{m^2_a + m^2_d - m^2_c}{2 m_a} \\\\\n",
    "p^*_f = \\frac{1}{2m_a}\\sqrt{\\left[m^2_a- (m_c+m_d)^2\\right] \\, \\left[m^2_a - (m_c-m_d)^2\\right]}\n",
    "$$"
   ]
  },
  {
   "cell_type": "markdown",
   "metadata": {
    "slideshow": {
     "slide_type": "slide"
    }
   },
   "source": [
    "### Cinemática con el invariante $t$\n",
    "\n",
    "\n",
    "El invariante t, $t = (p_c - p_a)^2 = (p_d - p_b)^2$, es:\n",
    "\n",
    "$$\n",
    "t = (p_c - p_a)^2 = p^2_c + p^2_a - 2 p_c \\cdot p_a = m^2_a + m^2_c + 2 |{\\bf p}_a| |{\\bf p}_c| \\cos \\theta_{ab} - 2 E_a E_c \\\\\n",
    "t = (p_d - p_b)^2 = p^2_d + p^2_b - 2 p_d \\cdot p_b = m^2_b + m^2_d + 2 |{\\bf p}_b| |{\\bf p}_d| \\cos \\theta_{bd} - 2 E_b E_d\n",
    "$$\n",
    "\n",
    "donde $\\theta_{ac}, \\theta_{bd}$ son los ángulos entre los momentos de $ac$ y $bd$ respectivamente.\n",
    "\n"
   ]
  },
  {
   "cell_type": "markdown",
   "metadata": {
    "slideshow": {
     "slide_type": "slide"
    }
   },
   "source": [
    "En el sistema de laboratorio $p_b = (m_b, {\\bf 0})$, tenemos :\n",
    "\n",
    "$$\n",
    " t = m^2_b + m^2_d - 2m_b E_d, \\;\\; E_d = \\frac{m^2_b + m^2_d - t}{2m_b}\n",
    "$$\n",
    "\n",
    "\n",
    "En el sistema CM (ver figura de la interacción a dos cuerpos), $|{\\bf p}_a| = p^*_i, \\; |{\\bf p}_c| = p^*_f$ y $\\theta_{ac} = \\theta^*$\n",
    "\n",
    "$$\n",
    "t = m^2_a + m^2_c + 2 p^*_i p^*_f \\cos \\theta^* - 2E_a E_c, \\\\\n",
    "\\cos \\theta^* = \\frac{t - m^2_a - m^2_b + 2E^*_aE^*_c}{2 p^*_i p^*_f}\n",
    "$$\n",
    "\n",
    "\n"
   ]
  },
  {
   "cell_type": "markdown",
   "metadata": {
    "slideshow": {
     "slide_type": "slide"
    }
   },
   "source": [
    "## Bibliografía\n",
    "\n",
    " * [AB] Alessandro Bettini, \"*Introduction to Elementary Particle Physics*\", Cambridge U. press. Tema 1\n",
    "\n",
    " * [MT] Mark Tomson, \"*Modern Particle Physics*\", Cambridge U. press. Tema 2 y 3.\n"
   ]
  }
 ],
 "metadata": {
  "anaconda-cloud": {},
  "celltoolbar": "Slideshow",
  "kernelspec": {
   "display_name": "Python 3",
   "language": "python",
   "name": "python3"
  },
  "language_info": {
   "codemirror_mode": {
    "name": "ipython",
    "version": 3
   },
   "file_extension": ".py",
   "mimetype": "text/x-python",
   "name": "python",
   "nbconvert_exporter": "python",
   "pygments_lexer": "ipython3",
   "version": "3.8.8"
  }
 },
 "nbformat": 4,
 "nbformat_minor": 4
}
