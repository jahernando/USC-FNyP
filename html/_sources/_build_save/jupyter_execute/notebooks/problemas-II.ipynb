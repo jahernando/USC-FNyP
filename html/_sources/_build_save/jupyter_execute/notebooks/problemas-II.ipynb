{
 "cells": [
  {
   "cell_type": "markdown",
   "metadata": {
    "slideshow": {
     "slide_type": "slide"
    }
   },
   "source": [
    "# Introducción a Física de Partículas\n",
    "\n",
    "\n",
    "## Boletín de problemas II\n",
    "\n",
    "\n",
    "Jose A. Hernando\n",
    "\n",
    "*Departamento de Física de Partículas. Universidade de Santiago de Compostela*\n",
    "\n",
    "Octubre 2021\n"
   ]
  },
  {
   "cell_type": "code",
   "execution_count": 1,
   "metadata": {
    "slideshow": {
     "slide_type": "fragment"
    }
   },
   "outputs": [
    {
     "name": "stdout",
     "output_type": "stream",
     "text": [
      " Last version  Tue Nov  7 16:33:46 2023\n"
     ]
    }
   ],
   "source": [
    "import time\n",
    "print(' Last version ', time.asctime() )"
   ]
  },
  {
   "cell_type": "code",
   "execution_count": 2,
   "metadata": {},
   "outputs": [],
   "source": [
    "# general imports\n",
    "%matplotlib inline\n",
    "%reload_ext autoreload\n",
    "%autoreload 2\n",
    "\n",
    "# numpy and matplotlib\n",
    "import numpy as np\n",
    "import matplotlib\n",
    "import matplotlib.pyplot as plt\n",
    "\n",
    "import scipy.constants as units"
   ]
  },
  {
   "cell_type": "markdown",
   "metadata": {
    "slideshow": {
     "slide_type": "slide"
    }
   },
   "source": [
    "## Leptons"
   ]
  },
  {
   "cell_type": "markdown",
   "metadata": {
    "slideshow": {
     "slide_type": "slide"
    }
   },
   "source": [
    "## Problemas varios\n",
    "\n"
   ]
  },
  {
   "cell_type": "markdown",
   "metadata": {
    "slideshow": {
     "slide_type": "slide"
    }
   },
   "source": [
    "## Problemas M.Tompson\n",
    "\n",
    "1.1) Indica si son posibles los siguientes vértices:\n",
    "\n",
    "| |\n",
    "| :--: |\n",
    "| <img src=\"./imgs/prob_feynman_e1.png\" width = 500 align=\"center\"> |\n",
    "| Indentfica los vértices [MT1.P1]|\n",
    "\n",
    "\n",
    "1.2)  Dibuja los diagramas árbol de las posibles interacciones, e indica si son aniquilaciones o dispersiones: \n",
    "\n",
    "\n",
    "  * a) $e+e\\to e+e$\n",
    "  \n",
    "  * b)  $e+e^+ \\to \\mu + \\mu^+$\n",
    "  \n",
    "  * c) $e + e^+ \\to e + e^+$\n",
    "\n",
    "\n",
    "[mixture] Completa las siguientes desintegraciones añadiendo los neutrinos y antinuetrinos necesarios y dibuja los diagramas de Feynman: \n",
    "\n",
    "   * a) $\\tau \\to e + \\nu s$,\n",
    "   * b) $\\mu^+ \\to e^+ + \\nu s$, \n",
    "   * c) $\\tau^+ \\to \\mu^+ + \\nu s$\n",
    "\n",
    "[mixture] Indica los posible mediadores entre las siguientes interacciones y dibuja los diagramas de Feynman correspondientes: \n",
    "\n",
    "   * a) $\\nu_e + e \\to \\nu_e + e$ \n",
    "   * b) $\\bar{\\nu}_e + e \\to \\bar{\\nu}_e + e$\n",
    "\n",
    "[mixture] Dibuja los diagramas de Feynman de las desintegraciones:\n",
    "\n",
    "   * a) $\\pi^+ \\to \\mu^+ + \\nu_\\mu$, donde $\\pi^+$ es un mesón $(u \\bar{d})$\n",
    "   * b) $\\Lambda \\to p + e + \\bar{\\nu}_e$, donde $\\Lambda$ es un barión $(uds)$.\n",
    "   \n",
    "\n",
    "[mixture] Calcula la energía y momento de las partículas finales en el CM en la desintegración. Calcula también la $\\beta$ de los leptones cargados:\n",
    "\n",
    "   * a) $\\pi^+ \\to \\mu^+ + \\nu_\\mu$ \n",
    "   * b) $\\pi^+ \\to e^+ + \\nu_e$.\n"
   ]
  },
  {
   "cell_type": "markdown",
   "metadata": {
    "slideshow": {
     "slide_type": "slide"
    }
   },
   "source": [
    "## Soluciones M.T"
   ]
  },
  {
   "cell_type": "markdown",
   "metadata": {
    "slideshow": {
     "slide_type": "slide"
    }
   },
   "source": [
    "### Ejercicio MT 1.1) \n",
    "\n",
    "Indica si son posibles los siguientes vértices:\n",
    "\n",
    "| |\n",
    "| :--: |\n",
    "| <img src=\"./imgs/prob_feynman_e1.png\" width = 500 align=\"center\"> |\n",
    "| Indentfica los vértices [MT1.P1]|\n"
   ]
  },
  {
   "cell_type": "markdown",
   "metadata": {
    "slideshow": {
     "slide_type": "subslide"
    }
   },
   "source": [
    "\n",
    "a) $e,e,\\gamma$, Sí, el fotón se acopla al $e$,\n",
    "\n",
    "b) $\\nu_e, \\nu_e, \\gamma$. No. Los neutrinos solo interaccionan débilmente, esto es con el $W$ o el $Z$\n",
    "\n",
    "c) $e, e^+, \\gamma$. No. Excepto el $W$, el resto de bosones se acoplan entre partículas del mismo sabor, y aquí se acopla un electrón con un positrón. El acoplo permitido es $f, f, V$, siendo $f$ el fermión y $V$ el bosón vectorial $\\gamma, Z,$ o gluón.\n",
    "\n",
    "d) $\\nu_e, \\nu_e, Z$. Sí. El neutrino se acopla con el $Z$\n",
    "\n",
    "e) $e, \\mu, \\gamma$. No. De nuevo las partículas del acoplo deben tener el mismo sabor si se acoplan con el $\\gamma$ y aquí cambia de $e$ a $\\mu$.\n",
    "\n",
    "f) $e, \\nu_e, W$. Sí. El $W$ cambia el sabor entre leptones de la misma generación, en este caso $e, \\nu_e$.\n",
    "\n",
    "g) $e, \\tau, Z$. No, de nuevo la partículas deben tener el mismo sabor si se acoplan al $Z$. \n",
    "\n",
    "h) $e, \\nu_\\mu, W$. No porque el $W$ acopla las parejas de la misma generación y $e, \\nu_\\mu$ son de generaciones deferentes."
   ]
  },
  {
   "cell_type": "markdown",
   "metadata": {
    "slideshow": {
     "slide_type": "slide"
    }
   },
   "source": [
    "### Ejercicio MT 1.2)\n",
    "\n",
    "1.2)  Dibuja los diagramas árbol de las posibles interacciones, e indica si son aniquilaciones o dispersiones: \n",
    "\n",
    "  * a) $e+e\\to e+e$\n",
    "  \n",
    "  * b)  $e+e^+ \\to \\mu + \\mu^+$\n",
    "  \n",
    "  * c) $e + e^+ \\to e + e^+$\n"
   ]
  },
  {
   "cell_type": "markdown",
   "metadata": {
    "slideshow": {
     "slide_type": "subslide"
    }
   },
   "source": [
    "a) Dispersión\n",
    "\n",
    "b) Aniquilación\n",
    "\n",
    "c) dispersion y aniquilación (los dos son posibles)\n",
    "\n",
    "| |\n",
    "| :--: |\n",
    "| <img src=\"./imgs/prob_feynman_e2.png\" width = 300 align=\"center\"> |\n",
    "| a) arriba-izda, b) arriba-derecha, c) abajo [MT1.P2]|\n"
   ]
  },
  {
   "cell_type": "markdown",
   "metadata": {
    "slideshow": {
     "slide_type": "slide"
    }
   },
   "source": [
    "### Ejercicio [mixture] \n",
    "\n",
    "Completa las siguientes desintegraciones añadiendo los neutrinos y antinuetrinos necesarios y dibuja los diagramas de Feynman: \n",
    "\n",
    "   * a) $\\tau \\to e + \\nu s$,\n",
    "   * b) $\\mu^+ \\to e^+ + \\nu s$, \n",
    "   * c) $\\tau^+ \\to \\mu^+ + \\nu s$\n"
   ]
  },
  {
   "cell_type": "markdown",
   "metadata": {
    "slideshow": {
     "slide_type": "subslide"
    }
   },
   "source": [
    "a) $\\tau \\to e + \\nu_\\tau + \\bar{\\nu}_e$\n",
    "\n",
    "b) $\\mu^+ \\to e^+ + \\bar{\\nu}_\\mu + \\nu_e$\n",
    "\n",
    "c) $\\tau^+ \\to \\mu^+ + \\nu_\\mu + \\bar{\\nu}_\\tau$\n",
    "\n",
    "| |\n",
    "| :--: |\n",
    "| <img src=\"./imgs/prob_feynman_e3.png\" width = 300 align=\"center\"> |\n",
    "| a) arriba-izda, b) arriba-dereca, c) abajo|\n"
   ]
  },
  {
   "cell_type": "markdown",
   "metadata": {
    "slideshow": {
     "slide_type": "slide"
    }
   },
   "source": [
    "### Ejercicio [mixture] \n",
    "\n",
    "Indica los posible mediadores entre las siguientes interacciones y dibuja los diagramas de Feynman correspondientes: \n",
    "\n",
    "   * a) $\\nu_e + e \\to \\nu_e + e$ \n",
    "   * b) $\\bar{\\nu}_e + e \\to \\bar{\\nu}_e + e$"
   ]
  },
  {
   "cell_type": "markdown",
   "metadata": {
    "slideshow": {
     "slide_type": "subslide"
    }
   },
   "source": [
    "a) Dispersion via Z y también via W\n",
    "\n",
    "b) dispersión via Z, aniquiliación via un W\n",
    "\n",
    "| |\n",
    "| :--: |\n",
    "| <img src=\"./imgs/prob_feynman_e4.png\" width = 300 align=\"center\"> |\n",
    "| a) arriba, b) abajo|"
   ]
  },
  {
   "cell_type": "markdown",
   "metadata": {
    "slideshow": {
     "slide_type": "slide"
    }
   },
   "source": [
    "### Ejercicio [mixture] \n",
    "\n",
    "\n",
    "Dibuja los diagramas de Feynman de las desintegraciones:\n",
    "\n",
    "   * a) $\\pi^+ \\to \\mu^+ + \\nu_\\mu$, donde $\\pi^+$ es un mesón $(u \\bar{d})$\n",
    "   * b) $\\Lambda \\to p + e + \\bar{\\nu}_e$, donde $\\Lambda$ es un barión $(uds)$."
   ]
  },
  {
   "cell_type": "markdown",
   "metadata": {
    "slideshow": {
     "slide_type": "subslide"
    }
   },
   "source": [
    "| |\n",
    "| :--: |\n",
    "| <img src=\"./imgs/prob_feynman_e5.png\" width = 300 align=\"center\"> |\n",
    "| a) izda, b) dereca|"
   ]
  },
  {
   "cell_type": "markdown",
   "metadata": {
    "slideshow": {
     "slide_type": "slide"
    }
   },
   "source": [
    "### Problems A. Bettini (2nd edition)\n",
    "\n",
    "2.1) Calcula la energía y momento de las partículas finales en el CM en la desintegración. Calcula también la $\\beta$ de los leptones cargados:\n",
    "\n",
    "   * a) $\\pi^+ \\to \\mu^+ + \\nu_\\mu$ \n",
    "   * b) $\\pi^+ \\to e^+ + \\nu_e$.\n",
    "\n",
    "2.2) Considera la desintegración $K^- \\to \\mu + \\bar{\\nu}_\\mu$. Calcula la energía y momento en el CM del $\\nu, \\bar{\\nu}_\\mu$ y el máximo momento del $\\mu$ si el $K^-$ tienen un momento de 5 GeV.\n",
    "\n",
    "2.14) Calcula la energía de umbral del $\\nu$ para producir los procesos: $\\nu_e + n \\to e + p$, $\\nu_\\mu + n \\to \\mu^- + p$, $\\nu_\\tau + n \\to \\tau + p$.\n",
    "\n",
    "[Reines.Cowen] (pag 74)\n",
    "\n",
    "[Mixture] Indica si los siguientes procesos están permitidos y si no, por qué [SOL]\n",
    "\n",
    "a) $\\pi^+ \\to \\mu^+ + \\nu_{\\mu}$\n",
    "\n",
    "b) $\\pi^+ \\to \\mu^+ + \\bar{\\nu}_\\mu$\n",
    "\n",
    "c) $n \\to p + e$\n",
    "\n",
    "d) $e \\to \\nu_e + \\gamma$\n",
    "\n",
    "e) $p \\to e^+ + \\bar{\\nu}_e$\n",
    "\n",
    "f) $p \\to n + e + \\bar{\\nu}_e$\n",
    "\n",
    "h) $n \\to p + e + \\nu_e$\n",
    "\n",
    "3.8) Indica si son posibles los procesos [SOL]:\n",
    "\n",
    "   a) $p \\to n + e^+$\n",
    "\n",
    "   b) $\\mu^+ \\to \\nu_\\mu + e^+$\n",
    "\n",
    "   c) $e^+ + e \\to \\nu_\\mu + \\bar{\\nu}_\\mu$\n",
    "\n",
    "   d) $\\nu_\\mu + p \\to \\mu^+ + p$\n",
    "\n",
    "   e) $\\nu_\\mu + n \\to \\nu + p$\n",
    "\n",
    "   f) $\\nu_\\mu + n \\to e^- + p$\n",
    "\n",
    "   g) $e^+ + n \\to p + \\nu_e$\n",
    "\n",
    "   h) $e + p \\to n + \\bar{\\nu}_e$\n",
    "\n",
    "71) 7.2) Dibuja los diagramas de Feynman para: $\\pi^+ \\to e^+ \\nu_e$, $\\Lambda \\to p + e + \\bar{\\nu}_e$\n",
    "\n",
    "7.3) Da la Constante de Fermi en el SI, $G_F = 1.16 \\times 10^{-5}$ GeV$^{-2}$. [SOL]\n",
    "\n",
    "7.4) El colisionador PEP de SLAC $e+e^+ \\to \\tau + \\tau^+$ a una energía $\\sqrt{s} = 29$ GeV, calcular la distancia media que recorre el $\\tau$. [SOL]\n",
    "\n",
    "7.5) Considerar $\\mu^+ \\to e^+ + \\nu_e + \\bar{\\nu}_\\mu$ y $\\tau^+ \\to e^+ + \\nu_e + \\bar{\\nu}_\\tau$, la razón de desintegración el primero es $\\mathcal{B} = 100$ % y del segundo 17 %. Si la vida media del muón $\\tau_\\mu = 2.2$ $\\mu$s, calcula la vida media del tau $\\tau_\\tau$. [SOL]\n"
   ]
  },
  {
   "cell_type": "markdown",
   "metadata": {},
   "source": [
    "\n",
    "7.7) ¿Cuál es la diferencia entre un neutrino y su anti-neutrino? ¿Qué cantidades se conservan en las dispersiones de neutrinos? Completa la dispersión y dibuja el diagrama de Feynman asoaciado: $\\nu_\\mu + e \\to \\mu + ...$ Si los neutrinos no tienen masa ¿Cuál es la dirección de su espín? ¿Y para los anti-neutrinos?. Si el Universo contiene neutrinos a 2K de temperatura, ¿cuál es la velocidad de los neutrinos? [SOL]\n",
    "\n",
    "7.8) [modificada] Exite las desintegraciones $\\mu^+ \\to e^+ + \\gamma, \\; \\mu^+ \\to e^+ + e^+ + e$ ¿Por qué? [SOL]\n",
    "\n",
    "7.12) ¿Cuál es la energía mínima y máxima del electrón en la desintegración de un $\\mu$ en reposo?\n",
    "\n",
    "7.13) Los rayos cósmicos son principalmente protones. Su espectro de energía decrece con la energía. En las interacciones con los núcleos de la atmósfera producen mesones, que a su vez, al desintegrarse producen $\\nu_\\mu, \\nu_e$. Aproximadamente a 1 GeV se procuden $N = 10^6$ $\\nu_\\mu$, ¿Cuántos de ellos interaccionan al atravesar el diámetro de la Tierra? Considear $sigma = 7$ fbarn, $\\rho = 5 \\, 10^3$ kg m$^{-3}$ y el radio $R= 6000$ km. [SOL]\n",
    "\n",
    "7.15) Dibuja los diagramas de Feynman para la dispersión $\\bar{\\nu}_e + e$ y para $\\nu_e + e$.\n",
    "\n",
    "7.16) El experimento GALLEX del Laboratorio Nacional de Gran Sasso (LNGS) en Itialia, medió el flujo de $\\nu_e$ del Sol a partir de la reacción $\\nu_e + ^{71}\\mathrm{Ga} \\to ^{Ge}\\mathrm{Ge} + e$ que tiene un umbral de energía $E = 233$ keV. El flujo de nuetrinos del sol es $\\phi = 6 \\, 10^{14}$ m$^{-2}$s$^{-1}$. Consideremos que la sección eficaz es $\\sigma = 10^{-48}$ m$^2$. Si consideramos una efficiencia de selección del 40%, ¿Cuántos nucleos de $^{71}$Ga son necesarios para tener una interacción al día? Si la abundancia natural del $^{71}$Ga es 40%, ¿Cuánta masa se necesita de galio? [SOL]\n",
    "\n",
    "7.17) ¿Cuántos metros de Fe se precisan para que un $\\nu_\\mu$ de 1 GeV interaccione en promedio una vez? Compara la distancia con el diámetro de la Tierra. Considera $\\sigma = 0.017$ fb, $\\rho = 7.7 \\, 10^{3}$ kg m$^{-3}$, Z= 26, A = 56. [SOL-TODO:check]\n",
    "\n",
    "7.26) Un pión de momento 500 MeV decay en $\\pi^- \\to \\mu + \\bar{\\nu}$. Da el valor mínimo y máximo del momento del muón. Indica el sabor el la quiralidad del neutrino.\n",
    "\n",
    "7.27) Considera un tanque de agua para detector neutrinos solares por efector Cherenkov (como SuperKamiokande) mediante la interacción $\\nu_e + e \\to \\nu_e + e$. Si la sección eficaz es $\\sigma = 10^{-47}$ m$^2$, y el flujo incidente por encima de la energía umbral $\\Phi = 10^{10}$ m$^{-2}$s$^{-2}$, ¿Cuál es la masa necesaria para tener una razón de intracción de 10  eventos al día con una efficiencia de detección de 50%? [SOL]"
   ]
  },
  {
   "cell_type": "markdown",
   "metadata": {},
   "source": [
    "\n",
    "#### Bettini 1st edition\n",
    "\n",
    "1) [AB1.7.P3] Reescribe la constante de Fermi en el SI\n",
    "\n",
    "2) [AB1.7.P1] Dibuja los diagramas de Feynman de las desintegraciones: $K^{*+} \\to K^0 + \\pi^+$, $n \\to p + e + \\bar{\\nu}_e$, $\\pi^+ \\to \\mu^+ + \\nu_\\mu$\n",
    "\n",
    "3) [AB1.7.P7] ¿Cuáles son las diferencias entre neutrinos y antineutrinos? Completa la interacción: $\\nu_\\mu + e \\to \\mu  + ?$. El Universo este lleno de neutrinos con temperatura $2$ K, si los neutrinos tienen una masa de 50 meV, ¿Cuál es su velocidad?\n",
    "\n",
    "4) [AB1.7.P8] Escribe las corrientes cargadas de $\\nu_\\mu$ con protón y nucleón para producir un pión. Existen las desintegraciones $\\mu^+ \\to e^+ + \\gamma$, $\\mu^+ \\to e + e^+ + e^+$\n",
    "\n",
    "5) [AB1.7.P13] Si en las interacciones de los rayos cósmicos (principalmente protones) con la atmósfera se producen $N_\\nu = 10^6$ neutrinos a 1 GeV, considera cuántos interaccionan si atraviesan el diámetro de Tierra dada la sección eficaz 7 fb, la densidad de la tierra $\\rho = 5 \\, 10^3$ kg/m$^3$ y el radio $R = 6000$ km.\n",
    "\n",
    "6) [AB1.7.PX] El experimento GALLEX del Laboratorio del Gran Sasso, Italia, medía la interacción de los $\\nu_e$ solares con $^{71}$Ga, $\\nu_e + ^{71}\\mathrm{Ga} \\to ^{71}\\mathrm{Ge} + e$, que tiene una en energía umbral $E_0 = 233$ keV.\n",
    "La predicción flujo solar es $\\phi = 6 \\, 10^{14}$ m$^{-2}$s$^{-1}$ y la sección eficaz $\\sigma = 10^{-48}$ m$^2$. Si la eficiencia de detección, $\\epsilon$ es del 40 % y la abundancia, $\\eta$ del isótopo $^{71}$Ga en is 40%, Calcula la masa necesaria de Ga natural para tener una razón de detección de 1 evento al día.\n"
   ]
  },
  {
   "cell_type": "markdown",
   "metadata": {
    "slideshow": {
     "slide_type": "slide"
    }
   },
   "source": [
    "### Problems A. L\n",
    "\n",
    "1) [AL10.P7] IceCube es un gigantesco detector de neutrinos en la Antartida, construido con sondas verticales instrumentalizadas de PMTs a una profundidad de 1.6 km de la superficie, donde el hielo es muy transparente, estudia las interacciones de neutirnos atmosféricos y cósmicos que interaccionan con el detector via ${\\bar \\nu}_\\mu + p \\to \\mu^+ + n$. Considera un neutrino incidente con energía $E$ ultra-energético, del orden de TeV, calcula en momento del $\\mu^+$, $p_\\mu$, dependiendo de su ángulo de emisión $\\theta$.\n",
    "\n",
    "El 4 de diciembre del 2014, IceCube, detector \"Big Bird\" un $\\mu^+$ de 2 PeV, ¿Cuál es la energía mínima del $\\bar{\\nu}_\\mu$ que lo produjo? ¿Y su ángulo máximo respecto a la dirección del $\\mu^+$?\n"
   ]
  },
  {
   "cell_type": "markdown",
   "metadata": {
    "slideshow": {
     "slide_type": "slide"
    }
   },
   "source": [
    "## Soluciones"
   ]
  },
  {
   "cell_type": "code",
   "execution_count": 3,
   "metadata": {
    "slideshow": {
     "slide_type": "slide"
    }
   },
   "outputs": [
    {
     "name": "stdout",
     "output_type": "stream",
     "text": [
      "hbar = 1.054572e-34 J m/s\n",
      "c  = 2.997925e+08 m/2\n",
      "GeV  = 1.602177e-10 J \n",
      "hbar c  =  1.973270e-01 GeV fm\n"
     ]
    }
   ],
   "source": [
    "print('hbar = {:4e} J m/s'.format(units.hbar))\n",
    "print('c  = {:4e} m/2'.format(units.c))\n",
    "GeV_to_Julio = units.giga * units.eV\n",
    "print('GeV  = {:4e} J '.format(GeV_to_Julio))\n",
    "print('hbar c  =  {:4e} GeV fm'.format(units.hbar * units.c / (GeV_to_Julio * units.femto)))"
   ]
  },
  {
   "cell_type": "code",
   "execution_count": 4,
   "metadata": {},
   "outputs": [
    {
     "name": "stdout",
     "output_type": "stream",
     "text": [
      "electron mass 0.511 MeV\n",
      "proton   mass 0.938 GeV\n"
     ]
    }
   ],
   "source": [
    "me = (units.m_e * units.c**2)/(GeV_to_Julio) # GeV\n",
    "mp = (units.m_p * units.c**2)/(GeV_to_Julio) # GeV\n",
    "\n",
    "print('electron mass {:4.3f} MeV'.format(me *1e3))\n",
    "print('proton   mass {:4.3f} GeV'.format(mp))"
   ]
  },
  {
   "cell_type": "code",
   "execution_count": 5,
   "metadata": {},
   "outputs": [],
   "source": [
    "energy         = lambda m, p : np.sqrt(m**2 + p**2)\n",
    "momentum       = lambda m, E : np.sqrt(E**2 - m**2)\n",
    "gamma_lorentz  = lambda m, E : E/m\n",
    "beta_lorentz   = lambda p, E : p/E\n",
    "kinetic_energy = lambda m, E : E - m"
   ]
  },
  {
   "cell_type": "markdown",
   "metadata": {
    "slideshow": {
     "slide_type": "slide"
    }
   },
   "source": [
    "### Ejercicio  A.B 2.1)\n",
    "\n",
    "Calcula la energía y momento de las partículas finales en el CM en la desintegración. Calcula también la $\\beta$ de los leptones cargados:\n",
    "\n",
    "   * a) $\\pi^+ \\to \\mu^+ + \\nu_\\mu$ \n",
    "   * b) $\\pi^+ \\to e^+ + \\nu_e$."
   ]
  },
  {
   "cell_type": "markdown",
   "metadata": {
    "slideshow": {
     "slide_type": "subslide"
    }
   },
   "source": [
    "Esta resuelto en clase (ver apuntes leptones)\n",
    "\n",
    "$$\n",
    "E_l = \\frac{m^2_\\pi + m^2_l}{2 m_\\pi}, \\; \\; p_l = \\frac{m^2_\\pi - m^2_l}{2 m_\\pi}, \\;\\;\n",
    "$$\n"
   ]
  },
  {
   "cell_type": "code",
   "execution_count": 6,
   "metadata": {
    "slideshow": {
     "slide_type": "subslide"
    }
   },
   "outputs": [
    {
     "name": "stdout",
     "output_type": "stream",
     "text": [
      " beta mu    = 0.270970, beta       e = 0.999973    \n",
      " energy mu  = 109.767 MeV, energy  e = 69.756 MeV\n",
      " momento mu = 29.743 MeV,  momento e = 69.754 MeV\n"
     ]
    }
   ],
   "source": [
    "mpi = 139.51  # MeV\n",
    "mmu = 105.66  # MeV\n",
    "me  =   0.511 # MeV\n",
    "ene_cm = lambda ml, mhad = mpi : (mhad**2 + ml**2)/(2*mhad)\n",
    "p_cm   = lambda ml, mhad = mpi : (mhad**2 - ml**2)/(2*mhad)\n",
    "a_R    = lambda ml, mhad = mpi : (1 - p_cm(ml)/(ene_cm(ml) + ml))/2\n",
    "\n",
    "beta_mu, beta_e = p_cm(mmu)/ene_cm(mmu), p_cm(me)/ene_cm(me)\n",
    "print(' beta mu    = {:7.6f}, beta       e = {:7.6f}    '.format(beta_mu, beta_e))\n",
    "print(' energy mu  = {:5.3f} MeV, energy  e = {:5.3f} MeV'.format(ene_cm(mmu), ene_cm(me)))\n",
    "print(' momento mu = {:5.3f} MeV,  momento e = {:5.3f} MeV'.format(p_cm(mmu), p_cm(me)))"
   ]
  },
  {
   "cell_type": "markdown",
   "metadata": {
    "slideshow": {
     "slide_type": "slide"
    }
   },
   "source": [
    "### Ejercicio 2.2)\n",
    "\n",
    "Considera la desintegración $K^- \\to \\mu + \\bar{\\nu}_\\mu$. Calcula la energía y momento en el CM del $\\mu, \\bar{\\nu}_\\mu$ y el máximo momento del $\\mu$ si el $K^-$ tienen un momento de 5 GeV.\n"
   ]
  },
  {
   "cell_type": "markdown",
   "metadata": {
    "slideshow": {
     "slide_type": "subslide"
    }
   },
   "source": [
    "La energía y momento del leptón son:\n",
    "$$\n",
    "E_l = \\frac{m^2_K + m^2_l}{2 m_K}, \\; \\; p_l = \\frac{m^2_K - m^2_l}{2 m_K}, \\;\\;\n",
    "$$\n",
    "\n",
    "El momento máximo corresponderá al momento del $\\mu$ en la dirección y sentido del $K$ incidente, que recibirá un *boost* de $\\gamma = E_K/m_K, \\; \\beta = p_K/E_K$. Asi:\n",
    "\n",
    "$$\n",
    "p'_\\mu = \\gamma \\beta E^*_\\mu + \\gamma p^*_\\mu\n",
    "$$\n"
   ]
  },
  {
   "cell_type": "code",
   "execution_count": 7,
   "metadata": {
    "slideshow": {
     "slide_type": "subslide"
    }
   },
   "outputs": [
    {
     "name": "stdout",
     "output_type": "stream",
     "text": [
      " energy mu  = 258.142 MeV\n",
      " momento mu = 235.528 MeV \n",
      " momentum mu maximo en lab = 4987.225 MeV \n",
      " momentum nu minimo en lab = -11.656 MeV \n"
     ]
    }
   ],
   "source": [
    "mkaon = 493.67 # MeV\n",
    "e_mu, p_mu = ene_cm(mmu, mkaon), p_cm(mmu, mkaon)\n",
    "e_nu, p_nu = p_mu, p_mu\n",
    "print(' energy mu  = {:5.3f} MeV'.format(e_mu))\n",
    "print(' momento mu = {:5.3f} MeV '.format(p_mu))\n",
    "\n",
    "e_kaon = 5000 # MeV\n",
    "p_kaon = momentum(mkaon, e_kaon)\n",
    "gamma_kaon, beta_kaon = e_kaon/mkaon, p_kaon/e_kaon\n",
    "p_max_mu = gamma_kaon * beta_kaon * e_mu + gamma_kaon * p_mu\n",
    "print(' momentum mu maximo en lab = {:5.3f} MeV '.format(p_max_mu))\n",
    "p_min_nu = gamma_kaon * beta_kaon * e_nu - gamma_kaon * p_nu\n",
    "print(' momentum nu minimo en lab = {:5.3f} MeV '.format(p_min_nu))"
   ]
  },
  {
   "cell_type": "markdown",
   "metadata": {
    "slideshow": {
     "slide_type": "slide"
    }
   },
   "source": [
    "### Ejercicion AB [Mixture] \n",
    "\n",
    "Indica si los siguientes procesos están permitidos y si no, por qué\n",
    "\n",
    "a) $\\pi^+ \\to \\mu^+ + \\nu_{\\mu}$\n",
    "\n",
    "b) $\\pi^+ \\to \\mu^+ + \\bar{\\nu}_\\mu$\n",
    "\n",
    "c) $n \\to p + e$\n",
    "\n",
    "d) $e \\to \\nu_e + \\gamma$\n",
    "\n",
    "e) $p \\to e^+ + \\bar{\\nu}_e$\n",
    "\n",
    "f) $p \\to n + e + \\bar{\\nu}_e$\n",
    "\n",
    "h) $n \\to p + e + \\nu_e$"
   ]
  },
  {
   "cell_type": "markdown",
   "metadata": {
    "slideshow": {
     "slide_type": "subslide"
    }
   },
   "source": [
    "a) $\\pi^+ \\to \\mu^+ + \\nu_{\\mu}$\n",
    "\n",
    "Sí. Conserva carga, número léptónico y muónico, y la masa del $m_\\pi = 139$ MeV, menor que la masa del múon $m_\\mu = 106$ MeV\n",
    "\n",
    "b) $\\pi^+ \\to \\mu^+ + \\bar{\\nu}_\\mu$\n",
    "\n",
    "No. No conserva el número leptónico.\n",
    "\n",
    "c) $n \\to p + e$\n",
    "\n",
    "No. No conserva el número leptónico.\n",
    "\n",
    "d) $e \\to \\nu_e + \\gamma$\n",
    "\n",
    "No. No conserva la carga eléctrica.\n",
    "\n",
    "e) $p \\to e^+ + \\bar{\\nu}_e$\n",
    "\n",
    "No. No conserva el número bariónico, ni el leptónico.\n",
    "\n",
    "f) $p \\to n + e + \\bar{\\nu}_e$\n",
    "\n",
    "No. No conserva la carga eléctrica\n",
    "\n",
    "h) $n \\to p + e + \\nu_e$\n",
    "\n",
    "No. No conserva el número leptónico"
   ]
  },
  {
   "cell_type": "markdown",
   "metadata": {
    "slideshow": {
     "slide_type": "slide"
    }
   },
   "source": [
    "### Ejercicio AB 3.8) \n",
    "\n",
    "Indica si son posibles los procesos:\n",
    "\n",
    "   a) $p \\to n + e^+$\n",
    "\n",
    "   b) $\\mu^+ \\to \\nu_\\mu + e^+$\n",
    "\n",
    "   c) $e^+ + e \\to \\nu_\\mu + \\bar{\\nu}_\\mu$\n",
    "\n",
    "   d) $\\nu_\\mu + p \\to \\mu^+ + p$\n",
    "\n",
    "   e) $\\nu_\\mu + n \\to \\nu + p$\n",
    "\n",
    "   f) $\\nu_\\mu + n \\to e^- + p$\n",
    "\n",
    "   g) $e^+ + n \\to p + \\nu_e$\n",
    "\n",
    "   h) $e + p \\to n + \\bar{\\nu}_e$\n"
   ]
  },
  {
   "cell_type": "markdown",
   "metadata": {
    "slideshow": {
     "slide_type": "subslide"
    }
   },
   "source": [
    "\n",
    "a) $p \\to n + e^+$\n",
    "\n",
    "No, no conserva el número leptónico.\n",
    "\n",
    "b) $\\mu^+ \\to \\nu_\\mu + e^+$\n",
    "\n",
    "No, no conserva el número leptónico total, ni el de sabor.\n",
    "\n",
    "c) $e^+ + e \\to \\nu_\\mu + \\bar{\\nu}_\\mu$\n",
    "\n",
    "Sí. conserva la carga, el númerl leptónico total y de sabor.\n",
    "\n",
    "d) $\\nu_\\mu + p \\to \\mu^+ + p$\n",
    "\n",
    "No. No conserva carga, ni el número leptónico total, ni de sabor.\n",
    "\n",
    "e) $\\nu_\\mu + n \\to \\nu_\\nu + p$\n",
    "\n",
    "No. No conserva la carga.\n",
    "\n",
    "f) $\\nu_\\mu + n \\to e^- + p$\n",
    "\n",
    "No. No conserva el número leptónico de sabor.\n",
    "\n",
    "g) $e^+ + n \\to p + \\nu_e$\n",
    "\n",
    "No. No conserva el número leptónico.\n",
    "\n",
    "h) $e + p \\to n + \\bar{\\nu}_e$\n",
    "\n",
    "No. No conserval el número leptónico."
   ]
  },
  {
   "cell_type": "markdown",
   "metadata": {
    "slideshow": {
     "slide_type": "slide"
    }
   },
   "source": [
    "### ejercicio AB 7.3\n",
    "\n",
    "Reescribe la constante de Fermi en el SI\n"
   ]
  },
  {
   "cell_type": "code",
   "execution_count": 8,
   "metadata": {
    "slideshow": {
     "slide_type": "subslide"
    }
   },
   "outputs": [
    {
     "name": "stdout",
     "output_type": "stream",
     "text": [
      "GF 1.166379e-05 1/Gev^2\n",
      "GF 4.543796e+14 1/Julios^2 \n"
     ]
    }
   ],
   "source": [
    "GF = units.value(\"Fermi coupling constant\")\n",
    "print('GF {:e} 1/Gev^2'.format(GF))\n",
    "GF_si = GF /(GeV_to_Julio)**2\n",
    "print('GF {:e} 1/Julios^2 '.format(GF_si))"
   ]
  },
  {
   "cell_type": "markdown",
   "metadata": {
    "slideshow": {
     "slide_type": "slide"
    }
   },
   "source": [
    "### Ejercio AB 7.4) \n",
    "\n",
    "El colisionador PEP de SLAC produjo $e+e^+ \\to \\tau + \\tau^+$ a una energía $\\sqrt{s} = 29$ GeV, calcular la distancia media que recorrían los $\\tau$s."
   ]
  },
  {
   "cell_type": "markdown",
   "metadata": {
    "slideshow": {
     "slide_type": "subslide"
    }
   },
   "source": [
    "el cuadrimomento de las partículas salientes en el CM $p_c = (E_c, {\\bf p}^*_f), \\; p_d=(E_d, -{\\bf p}^*_f)$, $s = (2E_\\tau, {\\bf 0})^2 = 29^2$ GeV$^2$. Esto es $E_\\tau = 29$ GeV\n",
    "\n",
    "\n",
    "La distancia recorrida por la transformación de Lorentz de $(\\tau, {\\bf 0})$ en la dirección $z$ de $\\gamma = E/m$, tenemos $d = \\gamma \\beta \\tau$."
   ]
  },
  {
   "cell_type": "code",
   "execution_count": 9,
   "metadata": {
    "slideshow": {
     "slide_type": "subslide"
    }
   },
   "outputs": [
    {
     "name": "stdout",
     "output_type": "stream",
     "text": [
      " tau gamma 16.384, beta 0.9981 \n",
      " distance 1.422 mm\n"
     ]
    }
   ],
   "source": [
    "m_tau   = 1.77 # GeV\n",
    "tau_tau = 0.29 * units.pico # s\n",
    "sqrt_s  = 29.  # GeV\n",
    "E_tau   = sqrt_s\n",
    "p_tau   = momentum(m_tau, E_tau)\n",
    "gamma   = gamma_lorentz(m_tau, E_tau)\n",
    "beta    = beta_lorentz (p_tau, E_tau)\n",
    "print(' tau gamma {:4.3f}, beta {:4.4f} '.format(gamma, beta))\n",
    "print(' distance {:4.3f} mm'.format(gamma * beta * tau_tau * units.c * units.kilo))"
   ]
  },
  {
   "cell_type": "markdown",
   "metadata": {
    "slideshow": {
     "slide_type": "slide"
    }
   },
   "source": [
    "### Ejercicio AB 7.5\n",
    "\n",
    "Considerar $\\mu^+ \\to e^+ + \\nu_e + \\bar{\\nu}_\\mu$ y $\\tau^+ \\to e^+ + \\nu_e + \\bar{\\nu}_\\tau$, la razón de desintegración el primero es $\\mathcal{B} = 100$ % y del segundo 17 %. Si la vida media del muón $\\tau_\\mu = 2.2$ $\\mu$s, calcula la vida media del tau $\\tau_\\tau$. "
   ]
  },
  {
   "cell_type": "markdown",
   "metadata": {
    "slideshow": {
     "slide_type": "subslide"
    }
   },
   "source": [
    "Vimos en clase que la anchura de desintegración $l \\to \\nu_l + e + \\bar{\\nu}_e$, con $l = \\mu, \\tau$, viene dada por:\n",
    "\n",
    "$$\n",
    "\\Gamma_l (l \\to \\nu_l + e + \\bar{\\nu}_e) =  \\frac{\\mathcal{B}(l \\to \\nu_l + e + \\bar{\\nu}_e)}{\\tau_l} = \\frac{G^2_F m^5_l}{192 \\pi^3}\n",
    "$$\n",
    "\n",
    "Por lo que la razón entre las vidas medias de $\\tau$ y del $\\mu$ viene dada por:\n",
    "\n",
    "$$\n",
    "\\frac{\\tau_\\tau}{\\tau_\\mu} = \\frac{m^5_\\mu}{m_\\tau^5} \\frac{\\mathcal{B}(\\tau \\to \\nu_\\tau + e + \\bar{\\nu}_e)}{\\mathcal{B}(\\mu \\to \\nu_\\mu + e + \\bar{\\nu}_e)}\n",
    "$$"
   ]
  },
  {
   "cell_type": "code",
   "execution_count": 10,
   "metadata": {
    "slideshow": {
     "slide_type": "subslide"
    }
   },
   "outputs": [
    {
     "name": "stdout",
     "output_type": "stream",
     "text": [
      " tau half live 2.880943e-13 s\n"
     ]
    }
   ],
   "source": [
    "m_tau  = 1.77  # GeV\n",
    "m_mu   = 0.106 # GeV\n",
    "tau_mu = 2.2 * units.micro # s\n",
    "B_tau_e = 0.17\n",
    "B_mu_e  = 1.\n",
    "tau_tau_exp = tau_mu * (m_mu/m_tau)**5  * B_tau_e\n",
    "print(' tau half live {:e} s'.format(tau_tau_exp))"
   ]
  },
  {
   "cell_type": "markdown",
   "metadata": {
    "slideshow": {
     "slide_type": "slide"
    }
   },
   "source": [
    "### ejercicio AB 7.7)\n",
    "\n",
    "¿Cuáles son las diferencias entre neutrinos y antineutrinos? Completa la interacción: $\\nu_\\mu + e \\to \\mu  + ?$. El Universo este lleno de neutrinos con temperatura $2$ K, si los neutrinos tienen una masa de 50 meV, ¿Cuál es su velocidad?\n"
   ]
  },
  {
   "cell_type": "markdown",
   "metadata": {
    "slideshow": {
     "slide_type": "subslide"
    }
   },
   "source": [
    "Los neutrinos tienen número leptónico total y de sabor positivo y los antineutrinos negativo\n",
    "\n",
    "La interacción es $\\nu_\\mu + e \\to \\mu + \\nu_e$\n",
    "\n",
    "De la relación of kinetic energy\n",
    "\n",
    "$$\n",
    "E_k = k_B T = m (\\gamma - 1); \\;\\;\\; \\gamma = \\frac{1}{\\sqrt{1 - \\beta^2}}\n",
    "$$\n",
    "\n",
    "Obtenemos:\n",
    "\n",
    "$$\n",
    "\\beta = \\sqrt{1 - \\frac{m^2}{(m + k_B T)^2}}\n",
    "$$"
   ]
  },
  {
   "cell_type": "code",
   "execution_count": 11,
   "metadata": {
    "slideshow": {
     "slide_type": "subslide"
    }
   },
   "outputs": [
    {
     "name": "stdout",
     "output_type": "stream",
     "text": [
      "neutrinos kinetic energy 1.723467e-04 eV \n",
      "neutrinos mass           5.000000e-02 eV \n",
      "neutrinos beta           8.281537e-02    \n",
      "neutrinos gamma          1.003447e+00    \n",
      "neutrinos veolicity      2.489156e+07 m/s  \n"
     ]
    }
   ],
   "source": [
    "T   = 2 # K\n",
    "kene = units.giga * units.k * T / GeV_to_Julio # J\n",
    "mnu = 50 * units.milli\n",
    "kappa = mnu/(mnu + kene)\n",
    "beta = np.sqrt(1 - kappa*kappa)\n",
    "gamma = 1./np.sqrt(1 - beta**2)\n",
    "betap = np.sqrt(2 * kene/mnu)\n",
    "print('neutrinos kinetic energy {:e} eV '.format(kene))\n",
    "print('neutrinos mass           {:e} eV '.format(mnu))\n",
    "print('neutrinos beta           {:e}    '.format(beta))\n",
    "print('neutrinos gamma          {:e}    '.format(gamma))\n",
    "print('neutrinos veolicity      {:e} m/s  '.format(betap * units.c))"
   ]
  },
  {
   "cell_type": "markdown",
   "metadata": {
    "slideshow": {
     "slide_type": "slide"
    }
   },
   "source": [
    "### Ejercicio AB 7.8) [modificado]\n",
    "\n",
    "Existen las desintegraciones $\\mu^+ \\to e^+ + \\gamma, \\; \\mu^+ \\to e^+ + e^+ + e$ ¿Por qué?"
   ]
  },
  {
   "cell_type": "markdown",
   "metadata": {
    "slideshow": {
     "slide_type": "subslide"
    }
   },
   "source": [
    "En ambo casos se viola el número leptónica. A pesar de la intensa búsqueda de la primera, sólo se han impuesto cotas."
   ]
  },
  {
   "cell_type": "markdown",
   "metadata": {
    "slideshow": {
     "slide_type": "slide"
    }
   },
   "source": [
    "### Problema AB 7.13) \n",
    "\n",
    "Los rayos cósmicos son principalmente protones. Su espectro de energía decrece con la energía. En las interacciones con los núcleos de la atmósfera producen mesones, que a su vez, al desintegrarse producen $\\nu_\\mu, \\nu_e$. Aproximadamente a 1 GeV se procuden $N = 10^6$ $\\nu_\\mu$, ¿Cuántos de ellos interaccionan al atravesar el diámetro de la Tierra? Considear $\\sigma = 7$ fbarn, $\\rho = 5 \\, 10^3$ kg m$^{-3}$ y el radio $R= 6000$ km."
   ]
  },
  {
   "cell_type": "markdown",
   "metadata": {
    "slideshow": {
     "slide_type": "subslide"
    }
   },
   "source": [
    "En A. Bettini considera un cilindro de longitud $2R$, en vez de una esfera en ese caso\n",
    "\n",
    "$$\n",
    "N_n = \\pi R^2 (2 R) \\rho N_A 10^3; \\;\\; \\Phi = \\frac{N_\\nu}{\\pi R^2};\n",
    "$$\n",
    "\n",
    "y el número de interacciones:\n",
    "\n",
    "$$\n",
    "N = 2 R \\rho N_A 10^3 \\sigma N_\\nu\n",
    "$$"
   ]
  },
  {
   "cell_type": "code",
   "execution_count": 12,
   "metadata": {
    "slideshow": {
     "slide_type": "subslide"
    }
   },
   "outputs": [
    {
     "name": "stdout",
     "output_type": "stream",
     "text": [
      "interactions 2.529299e+01  \n"
     ]
    }
   ],
   "source": [
    "rho   = 5e3 # kg/m3\n",
    "sigma = 7 * 1e-15 * 1e-28  \n",
    "R     = 6e6 # m \n",
    "Nnu   = 1e6 # nuetrinos\n",
    "val = Nnu * rho * 2 * R * units.N_A * 1e3 * sigma\n",
    "print('interactions {:e}  '.format(val))"
   ]
  },
  {
   "cell_type": "markdown",
   "metadata": {
    "slideshow": {
     "slide_type": "subslide"
    }
   },
   "source": [
    "En el caso de que consideremos una esfera en vez de un cilindro:\n",
    "\n",
    "El número de nucleones en la tierra\n",
    "$$\n",
    "N_n = \\frac{4}{3} \\pi R^3 \\frac{\\rho}{m_p}\n",
    "$$\n",
    "\n",
    "El flujo:\n",
    "\n",
    "$$\n",
    "\\phi = \\frac{N_\\nu}{\\pi R^2}\n",
    "$$\n",
    "\n",
    "Y el número de interacciones:\n",
    "\n",
    "$$\n",
    "N = \\phi \\sigma N_n = \\frac{4}{3} \\frac{R \\rho \\sigma N_\\nu}{m_p}\n",
    "$$"
   ]
  },
  {
   "cell_type": "code",
   "execution_count": 13,
   "metadata": {
    "slideshow": {
     "slide_type": "slide"
    }
   },
   "outputs": [
    {
     "name": "stdout",
     "output_type": "stream",
     "text": [
      "targets 2.704672e+51 nucleons \n",
      "beam    8.841941e-09 neutrinos/m2\n",
      "interactions 1.674018e+01 \n",
      "interactions 1.674018e+01 \n"
     ]
    }
   ],
   "source": [
    "Np    = 4 * np.pi * R**3 * rho / (3 * units.m_p)\n",
    "phi   = Nnu/(np.pi * R**2)\n",
    "print('targets {:e} nucleons '.format(Np))\n",
    "print('beam    {:e} neutrinos/m2'.format(phi))\n",
    "print('interactions {:e} '.format(phi * sigma * Np))\n",
    "val = 4 * R * sigma * rho * Nnu / (3 * units.m_p)\n",
    "print('interactions {:e} '.format(val))"
   ]
  },
  {
   "cell_type": "markdown",
   "metadata": {
    "slideshow": {
     "slide_type": "slide"
    }
   },
   "source": [
    "### Ejercicio 7.16) \n",
    "\n",
    "El experimento GALLEX del Laboratorio Nacional de Gran Sasso (LNGS) en Itialia, medió el flujo de $\\nu_e$ del Sol a partir de la reacción $\\nu_e + ^{71}\\mathrm{Ga} \\to ^{Ge}\\mathrm{Ge} + e$ que tiene un umbral de energía $E = 233$ keV. El flujo de nuetrinos del sol es $\\phi = 6 \\, 10^{14}$ m$^{-2}$s$^{-1}$. Consideremos que la sección eficaz es $\\sigma = 10^{-48}$ m$^2$. Si consideramos una efficiencia de selección del 40%, ¿Cuántos nucleos de $^{71}$Ga son necesarios para tener una interacción al día? Si la abundancia natural del $^{71}$Ga es 40%, ¿Cuánta masa se necesita de galio?"
   ]
  },
  {
   "cell_type": "markdown",
   "metadata": {
    "slideshow": {
     "slide_type": "subslide"
    }
   },
   "source": [
    "Sea $n$ el número de moles necesarios para tener una interacción, $N=1$, en $t$ s del día:\n",
    "\n",
    "$$\n",
    "\\frac{N}{t} = \\phi \\sigma \\epsilon N_A \\, n\n",
    "$$\n",
    "\n",
    "que convertimos en masa, si $\\eta$ es la abundancia natural del $^{71}$Ga:\n",
    "\n",
    "$$\n",
    "M \\eta = n A\n",
    "$$"
   ]
  },
  {
   "cell_type": "code",
   "execution_count": 14,
   "metadata": {
    "slideshow": {
     "slide_type": "slide"
    }
   },
   "outputs": [
    {
     "name": "stdout",
     "output_type": "stream",
     "text": [
      "1 day 8.640000e+04 s\n",
      "number of moles 71Ga 8.008001e+04 \n",
      "71Ga mass 5.685681e+03 kg\n",
      "Ga mass   1.421420e+04 kg\n"
     ]
    }
   ],
   "source": [
    "phi     = 6e14  # /m2s\n",
    "sigma   = 1e-48 # m2\n",
    "epsilon = 0.4\n",
    "N       = 1 \n",
    "t       = 24 * 60 * 60 # s\n",
    "\n",
    "print('1 day {:e} s'.format(t))\n",
    "\n",
    "nmoles = N / ( t * epsilon * phi * sigma * units.N_A) \n",
    "eta     = 0.4\n",
    "A       = 71e-3\n",
    "M       = nmoles * A / eta\n",
    "print('number of moles 71Ga {:e} '.format(nmoles))\n",
    "print('71Ga mass {:e} kg'.format(nmoles * A))\n",
    "print('Ga mass   {:e} kg'.format(M))"
   ]
  },
  {
   "cell_type": "markdown",
   "metadata": {
    "slideshow": {
     "slide_type": "slide"
    }
   },
   "source": [
    "### Ejercicio AB 7.17) \n",
    "\n",
    "¿Cuántos metros de Fe se precisan para que un $\\nu_\\mu$ de 1 GeV interaccione en promedio una vez? Compara la distancia con el diámetro de la Tierra. Considera $\\sigma = 0.017$ fb, $\\rho = 7.7 \\, 10^{3}$ kg m$^{-3}$, Z= 26, A = 56."
   ]
  },
  {
   "cell_type": "markdown",
   "metadata": {
    "slideshow": {
     "slide_type": "subslide"
    }
   },
   "source": [
    "La razón de producción es:\n",
    "\n",
    "$$\n",
    "R = \\Phi \\sigma N\n",
    "$$\n",
    "\n",
    "La densida en número de moles es $n = 10^3 \\rho/A$, pero en cada mol hay $A$ nucleones, luego la densidad de nucleones\n",
    "$n_A = 10^3 \\rho$\n",
    "\n",
    "Sea $S$ la sección de la barra de hierro, entonces $\\Phi = 1/S$ y $N = 10^3 \\, N_A L S \\rho$ \n",
    "\n",
    "Por lo tanto:\n",
    "$$\n",
    "R = 10^3 \\, N_A L \\rho \\sigma \n",
    "$$\n",
    "Con $R = 1$\n",
    "$$\n",
    "L = 10^{-3} \\frac{1}{N_A \\rho \\sigma}\n",
    "$$"
   ]
  },
  {
   "cell_type": "code",
   "execution_count": 15,
   "metadata": {},
   "outputs": [
    {
     "name": "stdout",
     "output_type": "stream",
     "text": [
      "distance 1.268555e+14 m\n",
      "distance in units of Earth diameters 1.057130e+07 \n"
     ]
    }
   ],
   "source": [
    "rho      = 7.7e3 # kg/m3\n",
    "sigma    = 0.017 * units.femto * 1e-28 # m2\n",
    "N_A      = units.N_A\n",
    "distance = (1e-3)  / (N_A * rho * sigma)\n",
    "print('distance {:e} m'.format(distance))\n",
    "print('distance in units of Earth diameters {:e} '.format(distance/12e6))"
   ]
  },
  {
   "cell_type": "markdown",
   "metadata": {
    "slideshow": {
     "slide_type": "slide"
    }
   },
   "source": [
    "### Ejercicio AB 7.27) \n",
    "\n",
    "Considera un tanque de agua para detector neutrinos solares por efector Cherenkov (como SuperKamiokande) mediante la interacción $\\nu_e + e \\to \\nu_e + e$. Si la sección eficaz es $\\sigma = 10^{-47}$ m$^2$, y el flujo incidente por encima de la energía umbral $\\Phi = 10^{10}$ m$^{-2}$s$^{-2}$, ¿Cuál es la masa necesaria para tener una razón de intracción de 10  eventos al día con una efficiencia de detección de 50%?"
   ]
  },
  {
   "cell_type": "markdown",
   "metadata": {
    "slideshow": {
     "slide_type": "subslide"
    }
   },
   "source": [
    "La razón de producción es:\n",
    "\n",
    "$$\n",
    "R = \\epsilon \\, \\Phi \\sigma N_e\n",
    "$$\n",
    "\n",
    "Donde $N_e$ es el número de electrones en el blanco. \n",
    "\n",
    "El número de electrones un una masa $M$ con densidad $\\rho$, número A, Z es:\n",
    "\n",
    "$$\n",
    "N_e = Z N_A M/ A,\n",
    "$$\n",
    "Para el caso el agua $Z = 10, A = 18$ \n",
    "\n",
    "De donde:\n",
    "\n",
    "$$\n",
    "M = \\frac{R A}{\\epsilon \\Phi \\sigma Z N_A}\n",
    "$$"
   ]
  },
  {
   "cell_type": "code",
   "execution_count": 16,
   "metadata": {
    "slideshow": {
     "slide_type": "subslide"
    }
   },
   "outputs": [
    {
     "name": "stdout",
     "output_type": "stream",
     "text": [
      " mass 6.150145e+06 kg\n"
     ]
    }
   ],
   "source": [
    "R       = 10/(24*60*60) # 1/s\n",
    "epsilon = 0.5\n",
    "A       = 16\n",
    "Z       = 10\n",
    "sigma   = 1e-47 # m2\n",
    "phi     = 1e10  # 1/m2s\n",
    "\n",
    "mass =  1e-3 * (R * A) / (epsilon * phi * sigma * Z * N_A)\n",
    "print(' mass {:e} kg'.format(mass))"
   ]
  },
  {
   "cell_type": "code",
   "execution_count": null,
   "metadata": {},
   "outputs": [],
   "source": []
  },
  {
   "cell_type": "code",
   "execution_count": null,
   "metadata": {},
   "outputs": [],
   "source": []
  },
  {
   "cell_type": "code",
   "execution_count": 17,
   "metadata": {},
   "outputs": [
    {
     "name": "stdout",
     "output_type": "stream",
     "text": [
      "1.758272104362873  mm\n",
      "0.25852563701591313\n"
     ]
    },
    {
     "data": {
      "image/png": "[encoded data removed]",
      "text/plain": [
       "<Figure size 640x480 with 1 Axes>"
      ]
     },
     "metadata": {
      "filenames": {
       "image/png": "/Users/hernando/work/docencia/grado/Fisica_Nuclear_y_de_Partículas/USC-FNyP/_build/jupyter_execute/notebooks/problemas-II_64_1.png"
      }
     },
     "output_type": "display_data"
    }
   ],
   "source": [
    "import scipy.stats as stats\n",
    "size = 10000\n",
    "tau_tau = 0.23 * units.pico\n",
    "m_tau = 1.77 #GeV\n",
    "e_tau = 0.5 * 91 # GeV\n",
    "gamma = e_tau/m_tau\n",
    "p_tau = np.sqrt(e_tau**2 - m_tau**2)\n",
    "beta  = p_tau/e_tau\n",
    "ts = stats.expon.rvs(scale = tau_tau, size = size)\n",
    "ds = gamma * beta * ts * units.c * units.kilo\n",
    "ds += 0.3 * stats.norm.rvs(size = size)\n",
    "plt.hist(ds, 100);\n",
    "print(np.mean(ds), ' mm')\n",
    "xs = list(ds[ds<0])+list(-ds[ds<0])\n",
    "print(np.std(xs))"
   ]
  },
  {
   "cell_type": "code",
   "execution_count": null,
   "metadata": {},
   "outputs": [],
   "source": []
  },
  {
   "cell_type": "markdown",
   "metadata": {
    "slideshow": {
     "slide_type": "slide"
    }
   },
   "source": [
    "### 1.2 ejercicio\n",
    "\n",
    "Dibuja los diagramas de Feynman de las desintegraciones: $K^{*+} \\to K^0 + \\pi^+$, $n \\to p + e + \\bar{\\nu}_e$, $\\pi^+ \\to \\mu^+ + \\nu_\\mu$\n",
    "\n",
    "[AB7.P1]"
   ]
  },
  {
   "cell_type": "markdown",
   "metadata": {
    "slideshow": {
     "slide_type": "slide"
    }
   },
   "source": [
    "### 1.4 ejercicio\n",
    "\n",
    "Escribe las corrientes cargadas de $\\nu_\\mu$ con protón y nucleón para producir un pión.\n",
    "\n",
    "Existen las desintegraciones $\\mu^+ \\to e^+ + \\gamma$, $\\mu^+ \\to e + e^+ + e^+$\n",
    "\n",
    "[AB7.P8]"
   ]
  },
  {
   "cell_type": "markdown",
   "metadata": {
    "slideshow": {
     "slide_type": "subslide"
    }
   },
   "source": [
    "a1) $\\nu_\\mu + p \\to \\mu + p + \\pi^+$,\n",
    "\n",
    "a2) $\\nu_\\mu + n \\to \\mu + n + \\pi^+$\n",
    "\n",
    "b1) No es posible porque mo conserva el número leptónico de sabor. $L_\\mu = -1, 0$ (antes y después). También $L_e = 0, 1$ (antes y después)\n",
    "\n",
    "b2) No es posible porque no conserva el número leptónico de sabor. $L_\\mu = -1, 0$ (antes y después). $L_e = 0, 1$ (antes y después)"
   ]
  },
  {
   "cell_type": "markdown",
   "metadata": {
    "slideshow": {
     "slide_type": "slide"
    }
   },
   "source": [
    "### Ejercicio IceCube\n",
    "\n",
    "IceCube es un gigantesco detector de neutrinos en la Antartida, construido con sondas instrumentalizadas de PMTs a una profundidad de 1.6 km de la superficie, donde el hielo es muy transparente, estudia las interacciones de neutirnos atmosféricos y cósmicos que interaccionan con el detector via ${\\bar \\nu}_\\mu + p \\to \\mu^+ + n$. Considera un neutrino incidente con energía $E_a$ ultra-energético, del orden de TeV, calcula en momento del $\\mu^+$, $p_\\mu$, dependiendo de su ángulo de emisión $\\theta$.\n",
    "\n",
    "El 4 de diciembre del 2014, IceCube, detector \"Big Bird\" un $\\mu^+$ de 2 PeV, ¿Cuál es la energía mínima del $\\bar{\\nu}_\\mu$ que lo produjo? ¿Y su ángulo máximo respecto a la dirección del $\\mu^+$?\n",
    "\n",
    "[AL10.P7]"
   ]
  },
  {
   "cell_type": "markdown",
   "metadata": {
    "slideshow": {
     "slide_type": "subslide"
    }
   },
   "source": [
    "El cuadrimomento del anti-muón $p_c$ y del anti-neutrino $\\bar{\\nu_e}$ están relacionados por:\n",
    "\n",
    "$$\n",
    "p_c = \\frac{E_a m_N}{ m_N + E_a (1-\\cos \\theta)} \\left(1, 0, \\sin \\theta, \\cos\\theta \\right)\n",
    "$$\n",
    "\n",
    "De donde despejamos:\n",
    "\n",
    "$$\n",
    "E_a = \\frac{p_c}{1 - \\frac{p}{m} (1-\\cos \\theta)}\n",
    "$$\n",
    "\n",
    "Para el caso $\\theta = 0$, tenemos $E_a = p_c$\n",
    "\n",
    "El ángulo máximo de emisión corresponderá con:\n",
    "\n",
    "$\n",
    "p (1-\\cos \\theta) = m,\\;\\;\\; \\theta = \\sqrt{\\frac{2m}{p}}\n",
    "$\n"
   ]
  },
  {
   "cell_type": "code",
   "execution_count": 18,
   "metadata": {
    "slideshow": {
     "slide_type": "subslide"
    }
   },
   "outputs": [
    {
     "name": "stdout",
     "output_type": "stream",
     "text": [
      " theta max 5.729578e-02 degrees\n"
     ]
    }
   ],
   "source": [
    "p = 2 * units.peta\n",
    "m = 1 * units.giga\n",
    "theta = np.sqrt(2*m/p)\n",
    "print(' theta max {:e} degrees'.format(theta * 180/np.pi))"
   ]
  },
  {
   "cell_type": "markdown",
   "metadata": {
    "slideshow": {
     "slide_type": "slide"
    }
   },
   "source": [
    "## Mas problemas"
   ]
  },
  {
   "cell_type": "markdown",
   "metadata": {
    "slideshow": {
     "slide_type": "slide"
    }
   },
   "source": [
    "*ejercicio*: Dibuja los diagramas de Feynman para los siguientes procesos:\n",
    "\n",
    "  * $\\tau \\to \\pi^- + \\nu_\\tau$, siendo $\\pi^-$ la combinación de quarks ($d\\bar{u}$)\n",
    "  \n",
    "  * $\\pi^+ \\to \\mu^+ + \\nu_\\mu$.\n",
    "  \n",
    "  * $K^+ \\to  \\mu^+ + \\nu_\\mu$, siendo $K^+$ la combinación ($s\\bar{u}$)\n"
   ]
  },
  {
   "cell_type": "markdown",
   "metadata": {
    "slideshow": {
     "slide_type": "slide"
    }
   },
   "source": [
    "*ejercicio*: Dibuja los diagramas de Fynman para los sigientes procesos:\n",
    "\n",
    "  * $\\tau \\to \\mu + \\bar{\\nu}_\\mu + \\nu_\\tau$\n",
    "  \n",
    "  * $\\tau \\to e + \\bar{\\nu}_e + \\nu_\\tau$\n",
    "  \n",
    "  * $\\mu \\to e + \\bar{\\nu}_e + \\nu_\\mu$"
   ]
  },
  {
   "cell_type": "markdown",
   "metadata": {
    "slideshow": {
     "slide_type": "slide"
    }
   },
   "source": [
    "*ejercicio*: Considera $\\pi^0$ una combinación $(u\\bar{u})$ y dibuja e indica su relativa intensidad de las siguientes desintegraciones teniendo en cuenta en número de vértices:\n",
    "\n",
    "  * $\\pi^0 \\to \\gamma \\gamma$\n",
    "  \n",
    "  * $\\pi^0 \\to \\gamma + e + e^+$\n",
    "  \n",
    "  * $\\pi^0 \\to e + e^+$"
   ]
  },
  {
   "cell_type": "markdown",
   "metadata": {
    "slideshow": {
     "slide_type": "slide"
    }
   },
   "source": [
    "*ejercicio*: Dibuja los diagramas árbol de las posible interacciones, e indica si son aniquilaciones o interacciones:\n",
    "        \n",
    "  * $e+e\\to e+e$\n",
    "  \n",
    "  * $e+e^+ \\to \\mu + \\mu^+$\n",
    "  \n",
    "  * $e + e^+ \\to e + e^+$\n",
    "  \n",
    "  * $e + \\nu_e \\to e \\nu_e$\n",
    "  \n",
    "  * $e + \\bar{\\nu}_e \\to e + \\bar{\\nu}_e$"
   ]
  },
  {
   "cell_type": "markdown",
   "metadata": {
    "slideshow": {
     "slide_type": "slide"
    }
   },
   "source": [
    "## 4 Detectors\n"
   ]
  },
  {
   "cell_type": "markdown",
   "metadata": {},
   "source": [
    "### 4.1 ejercicio\n",
    "\n",
    "Sea un $\\pi^\\pm$ y un $K^\\pm$ con el mismo momento $p$ 4 GeV, evaluar la distancia $L$ que deben recorrer entre dos centelleadores cuya resolución temporal es $\\sigma_t = 300$ ps, para que puedan distinguirse con la medida de su tiempo de vuelo en al menos dos descibaciones estándard.\n",
    "\n",
    "[AB1.24]"
   ]
  },
  {
   "cell_type": "markdown",
   "metadata": {},
   "source": [
    "## Otros"
   ]
  },
  {
   "cell_type": "markdown",
   "metadata": {
    "slideshow": {
     "slide_type": "slide"
    }
   },
   "source": [
    "*ejercicio*: Demostrar que en un sistema de partículas con cuadrimomentos $p_i$, $i = 1, \\dots, n$, la cantidad: \n",
    "$$\n",
    "\\left( \\sum_i E_i \\right)^2 - \\left( \\sum_i {\\bf p}_i \\right)^2\n",
    "$$\n",
    "es un invariante Lorentz"
   ]
  },
  {
   "cell_type": "markdown",
   "metadata": {},
   "source": [
    "*ejercicio*: Demostrar que $\\hat{P} \\, u_+ (\\theta, \\phi) = v_-(\\pi-\\theta, \\pi + \\theta)$"
   ]
  },
  {
   "cell_type": "markdown",
   "metadata": {
    "slideshow": {
     "slide_type": "slide"
    }
   },
   "source": [
    "### Bibliografía\n",
    "\n",
    "* \"Elementary Particle Physics\", S. Bettini, Cambridge.\n",
    "\n",
    "* \"Modern Particle Physics\", Mark Thomson, Cambridge.\n",
    "\n",
    "* \"Lepton and Quark\", Francis Halzen, Alan D. Martin, Josh Wiley & Sons.\n",
    "\n"
   ]
  },
  {
   "cell_type": "code",
   "execution_count": null,
   "metadata": {},
   "outputs": [],
   "source": []
  }
 ],
 "metadata": {
  "anaconda-cloud": {},
  "celltoolbar": "Slideshow",
  "kernelspec": {
   "display_name": "Python 3 (ipykernel)",
   "language": "python",
   "name": "python3"
  },
  "language_info": {
   "codemirror_mode": {
    "name": "ipython",
    "version": 3
   },
   "file_extension": ".py",
   "mimetype": "text/x-python",
   "name": "python",
   "nbconvert_exporter": "python",
   "pygments_lexer": "ipython3",
   "version": "3.9.13"
  }
 },
 "nbformat": 4,
 "nbformat_minor": 4
}