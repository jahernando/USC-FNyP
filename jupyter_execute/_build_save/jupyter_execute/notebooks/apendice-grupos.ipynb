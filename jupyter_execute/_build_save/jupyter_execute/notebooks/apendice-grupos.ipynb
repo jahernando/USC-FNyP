{
 "cells": [
  {
   "cell_type": "markdown",
   "metadata": {
    "slideshow": {
     "slide_type": "slide"
    }
   },
   "source": [
    "# Introducción a Física de Partículas\n",
    "\n",
    "\n",
    "## Apéndice: Grupos\n",
    "\n",
    "\n",
    "Jose A. Hernando\n",
    "\n",
    "*Departamento de Física de Partículas. Universidade de Santiago de Compostela*\n",
    "\n",
    "Septiembre 2021\n"
   ]
  },
  {
   "cell_type": "code",
   "execution_count": 1,
   "metadata": {
    "slideshow": {
     "slide_type": "fragment"
    }
   },
   "outputs": [
    {
     "name": "stdout",
     "output_type": "stream",
     "text": [
      " Last version  Mon Nov 20 13:05:28 2023\n"
     ]
    }
   ],
   "source": [
    "import time\n",
    "print(' Last version ', time.asctime() )"
   ]
  },
  {
   "cell_type": "code",
   "execution_count": 2,
   "metadata": {},
   "outputs": [],
   "source": [
    "# general imports\n",
    "%matplotlib inline\n",
    "%reload_ext autoreload\n",
    "%autoreload 2\n",
    "\n",
    "# numpy and matplotlib\n",
    "import numpy as np\n",
    "import matplotlib\n",
    "import matplotlib.pyplot as plt"
   ]
  },
  {
   "cell_type": "markdown",
   "metadata": {
    "slideshow": {
     "slide_type": "slide"
    }
   },
   "source": [
    "# Indice\n",
    "\n",
    " * Grupos, definitions\n",
    " * SU(2)\n",
    "    * Generadores y álgebra\n",
    "    * producto\n",
    " * SU(3)\n",
    "    * Generadores y álgebra\n",
    "    * productos"
   ]
  },
  {
   "cell_type": "markdown",
   "metadata": {
    "slideshow": {
     "slide_type": "slide"
    }
   },
   "source": [
    "## Grupos\n",
    "\n",
    "Definimos una partícula a partir de su masa, su espín y sus **cargas** respecto a las fuerzas. \n",
    "\n",
    "Todos esos valores son constantes y no dependen (y no pueden depender) del sistema en el que definamos la partículas. Son **invariantes respecto a un determinado grupo de simetría**.\n",
    "\n",
    "Sabemos por el teorema de Nöether que una simetría del sistema físico representa una cantidad conservada.\n",
    "\n",
    "Los grupos de simetría son una de las herramientas matemáticas principales de la Física de Partículas:\n",
    "\n",
    "  * están relacionadas con las cantidades conservadas, las cargas, que definen la partícula.\n",
    " \n",
    "  * sirven para representar los estados de las partículas que los asignamos a los elementos de la base de las representaciones irreducibles de los grupos.\n",
    "\n",
    "Vamos a recordar el concepto de grupo, de representación, para después revisar los grupos principales en Partículas"
   ]
  },
  {
   "cell_type": "markdown",
   "metadata": {
    "slideshow": {
     "slide_type": "slide"
    }
   },
   "source": [
    "Los grupos más comunes en física de partículas son:\n",
    "\n",
    " * El **grupo de Lorentz-Poincaré**, asociado a las rotaciones, traslaciones y cambios de sistemas de referencia inerciales en el espacio-tiempo.\n",
    "   \n",
    "     Las representaciones más comunes que encontramos son: **escalar, vectorial, espinorial**\n",
    "     \n",
    "     \n",
    " * Los **grupos unitarios** (cuya representación son matrices unitarias) de dimensiones pequeñas:\n",
    "   \n",
    "   * **U(1)** rotación de una fase de un número complejo, que asociamos con la conservación de la carga eléctrica. \n",
    "      \n",
    "   * **SU(2)** matrices unitarias de dimensión 2 con determinante positivo, que asociamos al espín, y a otras contidades físicas como el iso-espín débil. Su base fundamental es un duplete con posiciones arriba y abajo.\n",
    "      \n",
    "   * **SU(3)** matrices unitarias de dimensión 3 con determinante positivo, que asociamos al color. Su base fundamental es un triplete, que asociamos en el caso del color con los tres colores: rojo, verde y azul."
   ]
  },
  {
   "cell_type": "markdown",
   "metadata": {},
   "source": [
    "### Definión de grupo\n",
    "\n",
    "Un grupo es una colección de elementos ${g_i}$, finito o infinito, que complen las siguientre propiedades:\n",
    "\n",
    "   * completitud: $g_i \\cdot g_j = g_k$ (la multiplicación de dos elementos del grupo da otro elemento del grupo)\n",
    "   \n",
    "   * asociación: $g_i \\cdot (g_j \\cdot g_k) = (g_i \\cdot g_j) \\cdot g_k$\n",
    "   \n",
    "   * existencia de la identidad, $1$: $ g_i \\cdot 1 = 1 \\cdot g_i = g_i$\n",
    "   \n",
    "   * existencia de la inversa, $g_i \\cdot g^{-1}_i = 1$ para todo $g_i$ del grupo.\n",
    "   \n",
    "Decimos que el grupo es abeliano si es conmutativo: $g_i \\cdot g_j = g_j \\cdot g_i$, si no, es no-abeliano\n"
   ]
  },
  {
   "cell_type": "markdown",
   "metadata": {
    "slideshow": {
     "slide_type": "slide"
    }
   },
   "source": [
    "\n",
    "#### Clasificación de grupos\n",
    "\n",
    "Los grupos principales son:\n",
    "\n",
    "* espacio-temporales, lo que incluye el grupo de Lorentz\n",
    "\n",
    "* simetrías internas es una espacio interno, llamado *isotópico*, que pueden ser globales o locales (que depende del punto espacio-temporal).\n",
    "\n",
    "Tambien se pueden calsificar los grupos en:\n",
    "\n",
    "* continuos, si el grupo depende de un parámetro $\\theta$ continuo, que puede ser compacto o no dependiendo si el intervalo del valor que toma $\\theta$ es abierto o cerrado. Poe ejemplo el grupo de Lorentz que depende del parámetro $\\beta = v/c$ no es compacto porque no puede tomar el valor $\\beta = 1$.\n",
    "\n",
    "* discretos, donde hay un grupo finito de elementos. Por ejemplo la inversión por paridad forma un grupo discreto de un elemento.\n",
    "\n",
    "En Física de Partículas juegan un papel fundamental los **grupos de Lie** que son aquellos cuya elementos se relacionan de forma continua y diferenciable con respecto a un conjunto de parámetros $\\theta$.\n"
   ]
  },
  {
   "cell_type": "markdown",
   "metadata": {
    "slideshow": {
     "slide_type": "slide"
    }
   },
   "source": [
    "### Representaciones\n",
    "\n",
    "Llamamos **representación $D(g)$** lineal al conjunto de matrices asociadas con los elementos $g$ de un grupo $G$ que cumplen **las mismas reglas de multiplicación** que los elementos de $G$.\n",
    "\n",
    "Esto es:\n",
    "\n",
    "$$\n",
    " g_i \\cdot g_j = g_k \\; \\Rightarrow D(g_i) \\, \\cdot D(g_j) = D(g_k)\n",
    "$$\n",
    "\n",
    "La **dimensión de la representación**, $n$, es la dimensión de las matrices.\n",
    "\n",
    "Los vectores de dimensión $n$ sobre los que actuan las matrices forman la **base de la representación**.\n",
    "\n",
    "Llamamos **representación fundamental** aquella representación con la dimensión menor. "
   ]
  },
  {
   "cell_type": "markdown",
   "metadata": {
    "slideshow": {
     "slide_type": "slide"
    }
   },
   "source": [
    "#### representación irreducible\n",
    "\n",
    "Decimos que una representación $D(g)$ de un grupo $G$ es reducible si puede descomponerse en representaciones más pequeñas.\n",
    "\n",
    "Sea la representación $D(g)$ de matrices de dimensión $n\\times n$ de un grupo, la representación es redudible si la matrix $D(g)$ se pueden descomponer en diagonal con matrices de menor dimensión, $D_1(g), D_2(g)$, de la forma:\n",
    "\n",
    "$$\n",
    "D(g) = \\begin{pmatrix} D_1(g) & 0 \\\\ 0 & D_2(g) \\end{pmatrix}\n",
    "$$\n",
    "\n",
    "También podemos decir que la base de la representación $D(g)$ se puede descomponer en varias bases, de tal forma que los elementos de cada sub-base forma su propio grupo. Los elementos de la base $D_1(g)$ no se mezclan con los elementos de la base de $D_2(g)$.\n",
    "\n",
    "Como dijimos antes los estados de las partículas se representan en las bases de la representación irreducible."
   ]
  },
  {
   "cell_type": "markdown",
   "metadata": {
    "slideshow": {
     "slide_type": "subslide"
    }
   },
   "source": [
    "**Ejemplo**\n",
    "\n",
    "El ejemplo conocido, y que veremos luego, es la combinación de espíns 1/2:\n",
    "\n",
    "Sea el duplete:\n",
    "$$\n",
    "\\uparrow = \\begin{pmatrix} 1 \\\\ 0 \\end{pmatrix}, \\;\\; \\downarrow = \\begin{pmatrix} 0 \\\\ 1 \\end{pmatrix}.\n",
    "$$\n",
    "\n",
    "Es la base de la representación fundamental de $SU(2)$ que tiene $2$ elementos.\n",
    "\n",
    "Asociamos los elementos de la base a los estados de espín $|j, m\\rangle$, donde $j=1/2, m = \\pm 1/2$."
   ]
  },
  {
   "cell_type": "markdown",
   "metadata": {},
   "source": [
    "El producto de dos dupletes, que se denota por ${\\bf 2} \\otimes {\\bf 2}$, es: $\\uparrow\\uparrow, \\uparrow\\downarrow,\n",
    "\\downarrow\\uparrow, \\downarrow\\downarrow$.\n",
    "\n",
    "La representación del la composición ${\\bf 2} \\otimes {\\bf 2}$ tienen dimensión 4, cuya representación irreducible es está formada por un triplete y un singlete, que se denota como ${\\bf 3} \\oplus {\\bf 1}$.\n",
    "\n",
    "El triplete es:\n",
    "$$\n",
    "|1, 1 \\rangle = \\; \\uparrow\\uparrow, \\;\\;\\;\n",
    "|1, 0 \\rangle = \\frac{1}{\\sqrt{2}} (\\uparrow\\downarrow + \\downarrow\\uparrow),  \\;\\;\\; |1, -1 \\rangle, = \\; \\downarrow\\downarrow, \n",
    "$$\n",
    "y el singlete:\n",
    "$$\n",
    "|0, 0 \\rangle = \\frac{1}{\\sqrt{2}}(\\uparrow\\downarrow - \\downarrow\\uparrow)\n",
    "$$\n",
    "\n",
    "Que asociamos con los estados, $|j, m\\rangle$, donde $j$ es el espín total $j = |j_1-j_2| \\le j \\le j_1 + j_2$ y $m = -j, \\dots, j$, su tercera componente de espín.\n",
    "\n",
    "Veremos abajo cómo se contruye esta representación irredudible."
   ]
  },
  {
   "cell_type": "markdown",
   "metadata": {
    "slideshow": {
     "slide_type": "slide"
    }
   },
   "source": [
    "## El grupo U(1)\n",
    "\n",
    "Consideremos el grupo de las rotaciones de fase $\\theta$ en el espacio complejo, $x  = a \\, e^{i\\phi}$, con $a>0$.\n",
    "\n",
    "La rotación de un ángulo $\\theta$ corresponde a un factor $D(\\theta) = e^{i \\theta} $:\n",
    "\n",
    "$$\n",
    "x' = D(\\theta) \\, x = e ^{i\\theta} \\, x\n",
    "$$\n",
    "\n",
    "La cantidad conservada es el módulo del número complejo: $a$.\n",
    "\n",
    "Este grupo se denomina **grupo unitario** U(1).\n"
   ]
  },
  {
   "cell_type": "markdown",
   "metadata": {},
   "source": [
    "La multiplicación de los elementos del grupo es:\n",
    "\n",
    "$$\n",
    "D(\\theta_1) \\cdot D(\\theta_2) = D(\\theta_1 + \\theta_2), \\;\\;\\; D(\\theta + 2 \\pi) = D(\\theta)\n",
    "$$\n",
    "\n",
    "Nos dice que es un grupo abeliano. No importa el orden en que se realizan dos rotaciones. Esto es el orden de multiplicación.\n",
    "\n",
    "La inversa es simplemente:\n",
    "\n",
    "$$\n",
    "D(\\theta) = e^{i\\theta}, \\;\\;\\; D^{-1}(\\theta) = D(-\\theta) = e^{-i\\theta}\n",
    "$$\n",
    "\n",
    "Vemos pues que la representación fundamental tiene dimensión 1."
   ]
  },
  {
   "cell_type": "markdown",
   "metadata": {
    "slideshow": {
     "slide_type": "slide"
    }
   },
   "source": [
    "### Relación con SO(2)\n",
    "\n",
    "El grupo U(1) está relacionado con el grupo SO(2)\n",
    "\n",
    "El grupo SO(2) está formado por la matrices de las rotaciones en dos dimensiones, $U(\\theta)$, propias, esto es con el determinante positivo, $\\mathrm{det}(U(\\theta)) > 0$\n",
    "\n",
    "Sea $(x, y)$ un punto del espacio bi-dimensional, la rotación es:\n",
    "\n",
    "$$\n",
    "\\begin{pmatrix} x' \\\\ y'\\end{pmatrix} =\n",
    "\\begin{pmatrix} \\cos \\theta & \\sin \\theta \\\\ - \\sin \\theta & \\cos \\theta \\end{pmatrix} \\, \n",
    "\\begin{pmatrix} x \\\\ y \\end{pmatrix}\n",
    "$$\n",
    "\n",
    "Donde \n",
    "$$\n",
    "U(\\theta) = \\begin{pmatrix} \\cos \\theta & \\sin \\theta \\\\ - \\sin \\theta & \\cos \\theta \\end{pmatrix}, \\;\\;\\; \n",
    "\\mathrm{det}(D(\\theta)) = 1\n",
    "$$\n",
    "\n",
    "El grupo SO(2) es continuo y compacto, con $\\theta \\in [0, 2 \\pi]$.\n",
    "\n",
    "Esta simetría preserva la distancia, o el modulo del vector:\n",
    "\n",
    "$$\n",
    "x'^2 + y'^2 = x^2 + y^2\n",
    "$$\n"
   ]
  },
  {
   "cell_type": "markdown",
   "metadata": {
    "slideshow": {
     "slide_type": "slide"
    }
   },
   "source": [
    "Las reglas de multiplicación son:\n",
    "\n",
    "$$\n",
    "U(\\theta_1) \\cdot U(\\theta_2) = U(\\theta_1 + \\theta_2), \\;\\;\\; U(\\theta + 2 \\pi) = U(\\theta)\n",
    "$$\n",
    "\n",
    "Si hacemos una rotación de $\\theta_2$ después de hacer una rotación previa de $\\theta_1$ es equivalente a rotar desde el principio con $\\theta_1+\\theta_2$\n",
    " \n",
    "Es por lo tanto un grupo abeliano.\n",
    "\n",
    "La inversa de una rotación con $\\theta$ es simplemente rotar con $-\\theta$:\n",
    "\n",
    "$$\n",
    "U^{-1}(\\theta) = U(-\\theta)\n",
    "$$\n",
    "\n",
    "En la representación matricial $2\\times2$, la inversa es la transpuesta:\n",
    "\n",
    "$$\n",
    "U(\\theta)  = \\begin{pmatrix} \\cos \\theta & \\sin \\theta \\\\ - \\sin \\theta & \\cos \\theta \\end{pmatrix}, \\;\\;\\;\n",
    "U^{-1}(\\theta)  = U(-\\theta) = U^T(\\theta) = \\begin{pmatrix} \\cos \\theta & -\\sin \\theta \\\\  \\sin \\theta & \\cos \\theta \\end{pmatrix}\n",
    "$$"
   ]
  },
  {
   "cell_type": "markdown",
   "metadata": {
    "slideshow": {
     "slide_type": "slide"
    }
   },
   "source": [
    "### Generadores\n",
    "\n",
    "Podemos definir las rotaciones abusando de la notación de la exponencial y su desarrollo de Taylor:\n",
    "\n",
    "$$\n",
    "U(\\theta) = e ^{i \\theta T} = \\sum_n \\frac{(i\\theta T)^n}{n!} = 1 + i \\theta T - \\frac{\\theta^2}{2} T^2 + \\dots  = \n",
    "I \\cos \\theta + T \\sin \\theta = \n",
    "\\begin{pmatrix} \\cos \\theta & \\sin \\theta \\\\ - \\sin \\theta & \\cos \\theta \\end{pmatrix},\n",
    "$$\n",
    "\n",
    "si  definimos:\n",
    "\n",
    "$$\n",
    "T = -i \\begin{pmatrix} 0 & 1 \\\\ -1 & 0 \\end{pmatrix}\n",
    "$$\n",
    "\n",
    "$T$ es el **generador** de la rotación infinitesimal $\\delta \\theta$ del grupo SO(2):\n",
    "\n",
    "$$\n",
    "U(\\delta \\theta) \\simeq 1 + i T \\, \\delta \\theta\n",
    "$$\n",
    "\n",
    "Notar que el generador es hermítico: $T^\\dagger = T^T = T$"
   ]
  },
  {
   "cell_type": "markdown",
   "metadata": {
    "slideshow": {
     "slide_type": "slide"
    }
   },
   "source": [
    "Las reglas de multiplicación del grupo SO(2) y $U(1)$ son las mismas:\n",
    "\n",
    "$$\n",
    "D(\\theta_1) \\cdot D(\\theta_2) = D(\\theta_1 + \\theta_2), \\;\\;\\; D(\\theta + 2 \\pi) = D(\\theta)\n",
    "$$\n",
    "\n",
    "Decimos que dos grupos son **isomorfos** si comparten las mismas reglas de multiplación.\n",
    "\n",
    "En este caso SO(2) y U(1) son isomorfos.\n",
    "\n",
    "$$\n",
    "SO(2) \\sim U(1)\n",
    "$$\n",
    "\n",
    "La base de uno y otro se relacionan por:\n",
    "\n",
    "$$\n",
    "|a| e^{i\\phi} \\leftrightarrow (x, y) = (|a| \\cos \\theta, |a| \\sin \\theta)\n",
    "$$\n",
    "\n",
    "Notar que el generador de U(1) es simplemente 1."
   ]
  },
  {
   "cell_type": "markdown",
   "metadata": {
    "slideshow": {
     "slide_type": "slide"
    }
   },
   "source": [
    "## El grupo SU(2)\n",
    "\n",
    "**SU(2)** es el grupo que forman las **matrices complejas unitarias $2 \\times 2$ con determinante unidad**.\n",
    "\n",
    "$$\n",
    "U^\\dagger U = I, \\;\\; \\mathrm{det}(U) = 1\n",
    "$$\n",
    "\n",
    "Las matrices de SU(2) se definen con 3 parámetros, o ángulos: $\\alpha_i, \\, i = 1, 2, 3$.\n",
    "\n",
    "Notar que hay 8 parámetros reales en $U$, la condición de unitariedad impone 4 ligaduras, y la del determinante una más. \n",
    "\n",
    "Las matrices pueden construirse a partir de los ángulos $\\alpha_i$ y 3 **generadores** $T_i$, con $i=1, 2, 3$:\n",
    "\n",
    "$$\n",
    "U({\\bf \\alpha}) = e^{i \\alpha \\cdot {\\bf T}} = e^{i \\sum_i \\alpha_i T^i}\n",
    "$$"
   ]
  },
  {
   "cell_type": "markdown",
   "metadata": {
    "slideshow": {
     "slide_type": "slide"
    }
   },
   "source": [
    "Los generadores son las matrices de Pauli:\n",
    "\n",
    "$$\n",
    "T^i = \\frac{1}{2} \\sigma^i\n",
    "$$\n",
    "\n",
    "$$\n",
    "\\sigma^1 = \\begin{pmatrix} 0 & 1 \\\\ 1 & 0 \\end{pmatrix}, \\;\\;\n",
    "\\sigma^2 = \\begin{pmatrix} 0 & -i \\\\ i & 0 \\end{pmatrix}, \\;\\;\n",
    "\\sigma^3 = \\begin{pmatrix} 1 & 0 \\\\ 0 & -1\\end{pmatrix}.\n",
    "$$\n",
    "\n",
    "que cumplen la siguientes relaciones:\n",
    "\n",
    "$$\n",
    "[T^1, T^2] = i T^3, \\;\\; [T^2, T^3] = i T^1, \\;\\; [T^3, T^1] = i T^2,\n",
    "$$\n",
    "\n",
    "donde $[T^1, T^2] = T^1 T^2 - T^2 T^1$ es el conmutador.\n"
   ]
  },
  {
   "cell_type": "markdown",
   "metadata": {
    "slideshow": {
     "slide_type": "slide"
    }
   },
   "source": [
    "\n",
    "esto es:\n",
    "$$\n",
    "[T^i, T^j] = i \\epsilon_{ijk} T^k,\n",
    "$$\n",
    "donde $\\epsilon_{ijk}$ es el tensor de Levi-Civita de 3 dimensiones.\n",
    "\n",
    "La relación anterior es la **algebra de Lie** de grupo. Todos los grupos que tengas esta álgebra son isomorfos.\n",
    "\n",
    "Reconocemos en ellas las reglas de conmutación del momento angular y del espín ${\\bf S}$:\n",
    "\n",
    "$$\n",
    "[S^i, S^j] = i \\epsilon_{ijk} S^k\n",
    "$$\n"
   ]
  },
  {
   "cell_type": "markdown",
   "metadata": {
    "slideshow": {
     "slide_type": "slide"
    }
   },
   "source": [
    "Por similitud con el espín, sabemos que existen dos operadores que conmutan, ${\\bf T}^2$, que llamaremos **isoespín** para distinguirlo del espín, y la tercera componente de isospin, $T_3$:\n",
    "\n",
    "$$\n",
    "{\\bf T}^2 = (T^1)^2 + (T^2)^2 + (T^3)^3, \\;\\; T_3; \\;\\; [{\\bf T}^2, T_3] = 0\n",
    "$$\n",
    "\n",
    "Sabmos igualmente que podemos dar los estados con los autovalores del ${\\bf T}^2, T_3$, $|I, I_3 \\rangle$.\n",
    "\n",
    "$$\n",
    "{\\bf T}^2 \\, |I, I_3 \\rangle = I (I+1) \\, | I, I_3 \\rangle, \\\\ T_3 \\, |I, I_3 \\rangle = I_3 \\, |I, I_3 \\rangle.\n",
    "$$\n",
    "\n",
    "La base de la representación fundamental de SU(2) será, por similitud con el espín, $|1/2, \\pm 1/2 \\rangle$:\n",
    "\n",
    "$$\n",
    "\\uparrow = \\begin{pmatrix} 1 \\\\ 0 \\end{pmatrix} = |1/2, 1/2 \\rangle, \\;\\; \n",
    "\\downarrow =  \\begin{pmatrix} 0 \\\\ 1 \\end{pmatrix} = |1/2, -1/2 \\rangle.\n",
    "$$"
   ]
  },
  {
   "cell_type": "markdown",
   "metadata": {
    "slideshow": {
     "slide_type": "slide"
    }
   },
   "source": [
    "### representaciones \n",
    "\n",
    "Podemos construir representaciones de SU(2) de mayor dimensión a partir del producto (o combinación) de los estados de la base de la representación fundamental: $\\uparrow, \\downarrow$.\n",
    "\n",
    "El producto de dos dupletes, ${\\bf 2} \\otimes {\\bf 2}$, es: $\\uparrow\\uparrow, \\uparrow\\downarrow,\n",
    "\\downarrow\\uparrow, \\downarrow\\downarrow$, tiene dimensión 4.\n",
    "\n",
    "Y su representación irreducible es un triplete y un singlete: $\\bf{3} \\oplus {\\bf 1}$\n",
    "\n",
    "Para construirla utilizamos los operadores escalera:\n",
    "\n",
    "$$\n",
    "T^\\pm \\equiv T^1 \\pm i T^2 \n",
    "$$\n",
    "\n",
    "que en la representación fundamental son simplemente:\n",
    "\n",
    "$$\n",
    "T^+ = \\sigma^+ = \\begin{pmatrix} 0 & 1 \\\\ 0 & 0 \\end{pmatrix}, \\;\\;\\;\n",
    "T^- = \\sigma^- = \\begin{pmatrix} 0 & 0 \\\\ 1 & 0 \\end{pmatrix}.\n",
    "$$\n"
   ]
  },
  {
   "cell_type": "markdown",
   "metadata": {
    "slideshow": {
     "slide_type": "slide"
    }
   },
   "source": [
    "Aplicando los operadores escalera obtenemos los estados del triplete, $I = 1$:\n",
    "\n",
    "$$\n",
    "\\uparrow\\uparrow = |1, 1 \\rangle, \\\\\n",
    "T_- \\, \\uparrow\\uparrow = (T_-\\uparrow)\\uparrow + \\uparrow (T_- \\uparrow), \\\\\n",
    "T_- \\left(\\uparrow\\downarrow + \\downarrow\\uparrow \\right) = 2 \\downarrow \\downarrow\n",
    "$$\n",
    "\n",
    "Que si normalizamos:\n",
    "$$\n",
    "|1, 1 \\rangle =  \\uparrow\\uparrow, \\;\\; \n",
    "|1, 0 \\rangle = \\frac{1}{\\sqrt{2}} (\\uparrow\\downarrow + \\downarrow\\uparrow), \\;\\;\n",
    "|1, -1 \\rangle = \\downarrow\\downarrow.\n",
    "$$\n",
    "\n",
    "y finalmente, el miembro del singlete $I= 0$ es el ortogonal a $|1, 0 \\rangle$:\n",
    "\n",
    "$$\n",
    "|0, 0 \\rangle = \\frac{1}{\\sqrt{2}}(\\uparrow\\downarrow - \\downarrow\\uparrow)\n",
    "$$\n",
    "\n",
    "Los miembros del triplete son simétricos bajo el intercambio $\\uparrow \\leftrightarrow \\downarrow$ y el singlete anti-simétrico."
   ]
  },
  {
   "cell_type": "markdown",
   "metadata": {
    "slideshow": {
     "slide_type": "slide"
    }
   },
   "source": [
    "### reglas de combinación de espinores:\n",
    "\n",
    "\n",
    "Para construir las representaciones de SU(2) de mayor dimensión recurrimos a las reglas que conocemos del espín. O a partir de primeros principios con los operadores escalera.\n",
    "\n",
    "Recordemos que los operadores escalrera actuan sobre la base $|I, I_3 \\rangle$ de la siguiente forma:\n",
    "\n",
    "$$\n",
    "T_+ \\, |I, I_3 \\rangle = \\sqrt{I (I+1) - I_3 (I_3+1)} \\, |I, I_3 \\rangle, \\\\\n",
    "T_- \\, |I, I_3 \\rangle = \\sqrt{I (I+1) - I_3 (I_3-1)} \\; |I, I_3 \\rangle. \\\\\n",
    "$$\n",
    "\n",
    "suben arriba y abajo en los elementos de la base."
   ]
  },
  {
   "cell_type": "markdown",
   "metadata": {},
   "source": [
    "Una representación irreducible tiene como base $|I, I_3 \\rangle$ donde $I$ puede tomar los valores, $I = 0, \\frac{1}{2}, 1, \\frac{3}{2}, \\dots$, e $I_3 = -I, \\dots, I$, con incrementos de 1. \n",
    "\n",
    "La dimesión de la representación irreducible es $2I + 1$.\n",
    "\n",
    "La representación irreducible de la combinación de dos representaciones de menor dimension, cuyas bases son, $|I^1, I^1_3 \\rangle, \\; | I^2, I^2_3 \\rangle$, tendrá una dimensión $(2I^1+1) (2I*2+1)$, y se compondrá de varios multipletes $| I, I_3 \\rangle$, con valores de $I, I_3$ que vienen dados por:\n",
    "\n",
    "   * $I = |I^1 - I^2|, \\dots, I^1 + I^2$, en incrementos de 1.\n",
    "   \n",
    "   * $I_3 = -I , \\dots, I $, en incrementos de 1.\n",
    "      \n",
    "Los elementos de la base $|I, I_3 \\rangle$ se relacionan con los iniciales $|I^1, I^1_3\\rangle |I^2, I^2_3 \\rangle$ mediante los coeficientes de [Clebsch-Gordan](https://pdg.lbl.gov/2018/reviews/rpp2018-rev-clebsch-gordan-coefs.pdf)."
   ]
  },
  {
   "cell_type": "markdown",
   "metadata": {
    "slideshow": {
     "slide_type": "slide"
    }
   },
   "source": [
    "### Relación con el grupo SO(3)\n",
    "\n",
    "Llamamos SO(3) al grupo de las rotaciones en el espacio vectorial de tres dimensiones, cuya matriz de rotación tiene determinate positivo.\n",
    "\n",
    "$$\n",
    "x' = U({\\bf \\theta}) \\, x, \\;\\;\\; \\mathrm{det}(U(\\theta)) = 1\n",
    "$$\n",
    "\n",
    "$U(\\theta)$ una matriz real $3 \\times 3$, y $x = (x, y, z)$ un vector tridimensional.\n",
    "\n",
    "Las matrices quedan definidas con tres ángulos, $\\theta_i$, con $i=1, 2, 3$, "
   ]
  },
  {
   "cell_type": "markdown",
   "metadata": {
    "slideshow": {
     "slide_type": "slide"
    }
   },
   "source": [
    "La matrix $U(\\theta)$ puede obtenerse a partir de los 3 generadores $T^i$ del grupo:\n",
    "\n",
    "$$\n",
    "U(\\theta) = e^{i \\theta \\cdot T} = e^{i \\sum_{i=1}^3 \\theta_i T^i}\n",
    "$$\n",
    "\n",
    "Notar que $\\theta \\cdot T$ es el producto de los tres angulos $\\theta_i$ con tres generadores $T^i$, con $i=1, 2, 3$\n",
    "\n",
    "    \n",
    "$$\n",
    "T^1 = -i \\begin{pmatrix} 0 & 0 & 0 \\\\ 0 & 0 & 1 \\\\ 0 & -1 & 0\\end{pmatrix}, \\;\\;\n",
    "T^2 = -i \\begin{pmatrix} 0 & 0 & -1 \\\\ 0 & 0 & 0 \\\\ 1 & 0 & 0\\end{pmatrix}, \\;\\;\n",
    "T^3 = -i \\begin{pmatrix} 0 & 1 & 0 \\\\ -1 & 0 & 0 \\\\ 0 & 0 & 0\\end{pmatrix}. \n",
    "$$\n"
   ]
  },
  {
   "cell_type": "markdown",
   "metadata": {},
   "source": [
    "\n",
    "Las reglas de conmutación de los generadores son:\n",
    "\n",
    "$$\n",
    "[T^1, T^2] = iT^3, \\;\\;\\; [T^2, T^3] = i T^1, \\;\\;\\; [T^3, T^1] = i T^2\n",
    "$$\n",
    "\n",
    "Esto es:\n",
    "\n",
    "$$\n",
    "[T^i, T^j] = i \\, \\epsilon_{ijk} \\, T^k\n",
    "$$\n",
    "\n",
    "donde $\\epsilon_{ijk}$ es el tensor Levi-Civita.\n",
    "\n",
    "Notar que las reglas de conmutación coinciden con las del grupo $SU(2)$ y son las del momento angular y el espín."
   ]
  },
  {
   "cell_type": "markdown",
   "metadata": {
    "slideshow": {
     "slide_type": "slide"
    }
   },
   "source": [
    "El grupo SU(2) es por lo tanto isomorfo a SO(3)\n",
    "\n",
    "$$\n",
    "SU(2) \\sim SO(3)\n",
    "$$\n",
    "\n",
    "En el caso $SO(2)$ y $U(1)$, habíamos visto que sus elementos se relacionaban:\n",
    "\n",
    "$$\n",
    "(x, y) \\sim a e^{i\\phi}\n",
    "$$\n",
    "\n",
    "En este caso la relación viene de:\n",
    "\n",
    "$$\n",
    "(x, y, z) \\sim \\sigma \\cdot x = \\begin{pmatrix} z & x - i y \\\\ x + iy & z \\end{pmatrix}\n",
    "$$\n"
   ]
  },
  {
   "cell_type": "markdown",
   "metadata": {
    "slideshow": {
     "slide_type": "slide"
    }
   },
   "source": [
    "### Rotación de espín\n",
    "\n",
    "Es común que a la hora de calcular elementos de matriz utilizando los espinores de helicidad de Dirac en secciones eficaces nos aparezca una configuración de espín de salida $|1, m' \\rangle_{\\theta}$ en una dirección ${\\bf n} = (\\sin \\theta, 0, \\cos \\theta)$ que queremos relacionar con configuración de espín inicial en $|1, m \\rangle$ en el eje $z$.\n",
    "\n",
    "Es el caso de la interacción $e + e^+ \\to \\mu + \\mu^+$ donde hay cuatro combinaciones posibles de helicidad:\n",
    "\n",
    "| |\n",
    "| :--: |\n",
    "|  <img src=\"./imgs/hadrons_eemumu_helicities_2.png\" width = 700 align=\"center\"> |\n",
    "| Las posibles combinaciones de helicidad de $e^++e \\to \\mu^+ + \\mu$ en el CM, negro (momento), azul (espín) |\n",
    "\n",
    "En la figura representamos el plano $(x, z)$ donde el eje $z$ viene dado por la dirección del electrón incidente, la dirección de salida del muón, es por lo tanto ${\\bf n} = (\\sin \\theta, 0, \\cos \\theta)$\n",
    "\n",
    "Por ejemplo, en la interacción $RL\\to RL$ (derecha) la composición de espín de entrada es $|1, 1 \\rangle$ y la de salida $|1, 1 \\rangle_{\\theta}$.\n"
   ]
  },
  {
   "cell_type": "markdown",
   "metadata": {
    "slideshow": {
     "slide_type": "slide"
    }
   },
   "source": [
    "Los generadores de las rotaciones que se corresponden a la representación de dimensión 1 del grupo SU(2) se pueden obtener a partir de los operadores escalera.\n",
    "\n",
    "La matriz de rotación de un ángulo $\\theta$ en torno al eje $y$ es:\n",
    "\n",
    "$$\n",
    "U(\\theta) = e^{i \\theta T^2} = \\sum_n \\frac{(i\\theta T^2)^n}{n!}\n",
    "$$\n",
    "\n",
    "Donde \n",
    "$$\n",
    "T^2 = - \\frac{i}{2} (T^+ - T^-)\n",
    "$$\n",
    "\n",
    "Teniendo en cuenta el funcionamiento de los operadores escalera para $I = 1$ (ver la definición anterior) construimos su representación matricial:\n",
    "\n",
    "$$\n",
    "T^+ = \\begin{pmatrix} 0 & \\sqrt{2} & 0 \\\\ 0 & 0 & \\sqrt{2} \\\\ 0 & 0 & 0 \\end{pmatrix}, \\;\\;\\;\n",
    "T^- = \\begin{pmatrix} 0 & 0 & 0 \\\\ \\sqrt{2} & 0 & 0\\\\ 0 & \\sqrt{2} & 0\\end{pmatrix}\n",
    "$$"
   ]
  },
  {
   "cell_type": "markdown",
   "metadata": {
    "slideshow": {
     "slide_type": "slide"
    }
   },
   "source": [
    "Y por lo tanto:\n",
    "$$\n",
    "T^2 = -\\frac{i}{\\sqrt{2}} \\begin{pmatrix} 0 & 1 & 0 \\\\ -1 & 0 & 1 \\\\ 0 & -1 & 0\\end{pmatrix}\n",
    "$$\n",
    "\n",
    "Se puede comprobar fácilmente que: $(T^2)^{2n+1} = T^2$, y:\n",
    "\n",
    "$$\n",
    "(T^2)^{2n} = \\frac{1}{2} \\begin{pmatrix}1  & 0 & -1 \\\\ 0 & 2 & 0 \\\\ -1 & 0 & 1 \\end{pmatrix}\n",
    "$$\n",
    "con $n=1, 2, \\dots$"
   ]
  },
  {
   "cell_type": "markdown",
   "metadata": {
    "slideshow": {
     "slide_type": "slide"
    }
   },
   "source": [
    "Del desarrollo:\n",
    "\n",
    "$$\n",
    "U(\\theta) = I + i \\theta T^2 - \\frac{\\theta^2}{2} (T^2)^2 + \\dots = I + i T^2 \\sin \\theta + (T^2)^2 (\\cos \\theta -1)\n",
    "$$\n",
    "\n",
    "Obtenemos:\n",
    "\n",
    "$$\n",
    "U(\\theta) = \\begin{pmatrix} \n",
    "\\frac{1}{2} (1+\\cos \\theta) & \\frac{1}{\\sqrt{2}} \\sin \\theta &\\frac{1}{2}(1-\\cos \\theta) \\\\\n",
    "-\\frac{1}{\\sqrt{2}} \\sin \\theta & \\cos \\theta &  \\frac{1}{\\sqrt{2}}\\sin \\theta  \\\\\n",
    "\\frac{1}{2} (1-\\cos \\theta) & -\\frac{1}{\\sqrt{2}} \\sin \\theta &\\frac{1}{2}(1+\\cos \\theta) \\\\\n",
    "\\end{pmatrix}\n",
    "$$\n"
   ]
  },
  {
   "cell_type": "markdown",
   "metadata": {
    "slideshow": {
     "slide_type": "slide"
    }
   },
   "source": [
    "El estado de espín total de salida, $|1, 1 \\rangle_{\\theta}$, se relaciona con los posibles estados de espín total de entrada, $|1, m \\rangle$ con $m=1, 2, 3$, por:\n",
    "\n",
    "$$\n",
    "| 1, 1 \\rangle_{\\theta} = \\frac{1}{2}(1+\\cos \\theta) \\, |1, 1 \\rangle + \\frac{1}{\\sqrt{2}} \\sin \\theta \\, |1, 0 \\rangle + \\frac{1}{2}(1-\\cos \\theta) \\, |1, -1 \\rangle\n",
    "$$\n",
    "\n",
    "En el caso de $RL\\to RL$ (derecha), el factor asociado al espín que entra en el elemento de Matriz, $M_{fi}$, es:\n",
    "\n",
    "$$\n",
    "\\langle 1, 1 | 1, 1 \\rangle_\\theta = \\frac{1}{2}(1+\\cos \\theta)\n",
    "$$\n",
    "\n",
    "Puede observarse por el dibujo (derecha) que para $\\theta = 0$ el factor es 1 (el espín total de entrada y salida están alineados) y para $\\theta = \\pi$, el factor es nulo (el espín total de entrada y salida son opuestos)\n"
   ]
  },
  {
   "cell_type": "markdown",
   "metadata": {
    "slideshow": {
     "slide_type": "slide"
    }
   },
   "source": [
    "\n",
    "La matriz anterior $U_{m', m} (\\theta)$, donde $m$ corresponde a los índices $m = -1, 0, 1$ del espín total de entrada y $m' = -1, 0, 1$ del de salida, es la (transpuesta) de la matriz \"*Darkstellung*\" $d^j_{m, m'}(\\theta)$ de Wigner con $j=1$.\n",
    "\n",
    "Los elementos $d^j_{m, m'}(\\theta)$ de la matrices $d$ se definen:\n",
    "\n",
    "$$\n",
    "d^j_{m', m} (\\theta) = \\langle m', j | e^{-i\\theta T^2} | j, m \\rangle\n",
    "$$\n",
    "\n",
    "Los valores $d^j_{m', m}(\\theta)$ de las configuraciones de $j$ menores se recogen en la tabla del PDG de los [Clebsch-Gordan](https://pdg.lbl.gov/2018/reviews/rpp2018-rev-clebsch-gordan-coefs.pdf).\n",
    "\n",
    "En nuestro caso, donde $\\theta$ es la rotación del sistema de referencia, utilizaríamos:\n",
    "\n",
    "$$\n",
    "|j, m' \\rangle_{\\theta} = \\sum_{m=-j}^j d^j_{m', m}(-\\theta) \\, |j, m \\rangle = \\sum_{m=-j}^j d^j_{m, m'}(\\theta) \\, |j, m \\rangle\n",
    "$$\n",
    "\n"
   ]
  },
  {
   "cell_type": "markdown",
   "metadata": {
    "slideshow": {
     "slide_type": "slide"
    }
   },
   "source": [
    "## SU(3)\n",
    "\n",
    "SU(3) es el grupo de las **matrices unitarias $3 \\times 3$ con determinante unidad**. Cumplen:\n",
    "\n",
    "$$\n",
    "U^\\dagger U = I, \\;\\; \\mathrm{det}(U) = 1\n",
    "$$\n",
    "\n",
    "El número de parámetros reales libres de SU(3) es 8. Hay $18 = 3 \\times 3 \\times 2$ parámetros reales en $U$, 9 ligaduras de la condición de unitariedad y 1 por ser el determinante unidad.\n",
    "\n",
    "Las matrices de SU(3) pueden construirse a partir 8 generadores hemíticos, $T_i$, y $\\alpha_i$ con $i = 1, \\dots, 8$\n",
    "\n",
    "$$\n",
    "U(\\alpha) = e^{i \\alpha \\cdot {\\bf T}}\n",
    "$$\n",
    "\n",
    "\n",
    "\n"
   ]
  },
  {
   "cell_type": "markdown",
   "metadata": {
    "slideshow": {
     "slide_type": "slide"
    }
   },
   "source": [
    "Notar que los generadores de los grupos unitarios son hermíticos.\n",
    "\n",
    "Si hacemos una rotación infinitesimal $\\delta \\alpha_i$ tenemos:\n",
    "\n",
    "$$\n",
    "I = U(\\delta \\alpha_i)^\\dagger U(\\delta \\alpha_i) \\simeq (I - i \\alpha_i T^{i\\dagger})(I + i \\alpha_i T^i) \\simeq I + i \\alpha_i (T^i - T^{i\\dagger}), \\;\\;\\; T^{i\\dagger} = T\n",
    "$$\n",
    "\n",
    "para cada generador $T^i$."
   ]
  },
  {
   "cell_type": "markdown",
   "metadata": {
    "slideshow": {
     "slide_type": "slide"
    }
   },
   "source": [
    "Una opción conveniente para los generadores es construirlos a partir de las matrices $\\lambda$ de Gell-Mann.\n",
    "\n",
    "$$\n",
    "T_i = \\frac{1}{2} \\lambda_i\n",
    "$$\n",
    "\n",
    "Donde:\n",
    "\n",
    "$$\n",
    "\\lambda_1 = \\begin{pmatrix} 0 & 1 & 0  \\\\  1 & 0 & 0 \\\\ 0 & 0 & 0 \\end{pmatrix}, \\;\n",
    "\\lambda_2 = \\begin{pmatrix} 0 & -i & 0 \\\\  i & 0 & 0 \\\\ 0 & 0 & 0 \\end{pmatrix}, \\;\n",
    "\\lambda_3 = \\begin{pmatrix} 1 & 0 & 0  \\\\ 0 & -1 & 0 \\\\ 0 & 0 & 0 \\end{pmatrix}, \\;\n",
    "\\lambda_4 = \\begin{pmatrix} 0 & 0 & 1  \\\\ 0 & 0 & 0  \\\\ 1 & 0 & 0 \\end{pmatrix}, \\\\\n",
    "\\lambda_5 = \\begin{pmatrix} 0 & 0 & -i \\\\ 0 & 0 & 0  \\\\ i & 0 & 0 \\end{pmatrix}, \\;\n",
    "\\lambda_6 = \\begin{pmatrix} 0 & 0 & 0  \\\\ 0 & 0 & 1  \\\\ 0 & 1 & 0 \\end{pmatrix}, \\;\n",
    "\\lambda_7 = \\begin{pmatrix} 0 & 0 & 0  \\\\ 0 & 0 & -i \\\\ 0 & i & 0 \\end{pmatrix}, \\;\n",
    "\\lambda_8 = \\frac{1}{\\sqrt{3}}\\begin{pmatrix} 1 & 0 & 0  \\\\ 0 & 1 & 0 \\\\ 0 & 0 & -2 \\end{pmatrix}.\n",
    "$$\n"
   ]
  },
  {
   "cell_type": "markdown",
   "metadata": {
    "slideshow": {
     "slide_type": "slide"
    }
   },
   "source": [
    "Solo existen tres generadores que conmutan: $T^2, T_3, Y_8$, que asociaremos con los números cuánticos de *tercera componente del espinor*, $I_3$, e **hypercarga**, $Y$.\n",
    "\n",
    "$$\n",
    "T^2 = \\sum_{i=1}^8 T^2_i = \\frac{4}{3}    \\begin{pmatrix} 1 & 0 & 0 \\\\ 0 &  1 & 0 \\\\ 0 & 0 & 1 \\end{pmatrix}, \\;\n",
    "T_3 = \\frac{1}{2} \\lambda_3 = \\frac{1}{2} \\begin{pmatrix} 1 & 0 & 0 \\\\ 0 & -1 & 0 \\\\ 0 & 0 & 0 \\end{pmatrix}, \\;\n",
    "\\;\\; Y = \\frac{1}{\\sqrt{3}} \\lambda_8   = \\frac{1}{3} \\begin{pmatrix} 1 & 0 & 0 \\\\ 0 & 1 & 0 \\\\ 0 & 0 & -2 \\end{pmatrix}, \n",
    "$$\n",
    "\n",
    "Si definimos como los spinors: \n",
    "$$\n",
    "r = \\begin{pmatrix} 1 \\\\ 0 \\\\ 0\\end{pmatrix}, \\;\n",
    "g = \\begin{pmatrix} 0 \\\\ 1 \\\\ 0\\end{pmatrix}, \\;\n",
    "b = \\begin{pmatrix} 0 \\\\ 0 \\\\ 1\\end{pmatrix}.\n",
    "$$\n",
    "\n",
    "Tienen como tercera componente e hypercarga:\n",
    "\n",
    "$$\n",
    "T_3 r = 1/2 r, \\; Y r = 1/3 r; \\;\\;\\;\n",
    "T_3 g = -1/2 g, \\; Y g = 1/3 g; \\;\\;\\;\n",
    "T_3 b = 0, \\; Y b = -2/3 b\n",
    "$$"
   ]
  },
  {
   "cell_type": "markdown",
   "metadata": {
    "slideshow": {
     "slide_type": "slide"
    }
   },
   "source": [
    "El grupo SU(3) se asocia a los quarks, que tendrán carga $r, g, b$, los anti-quarks tendrán cargas opuestas (opuesta $T_3 ,Y$). \n",
    "\n",
    "La figura muestra los dos tripletes de color ${\\bf 3}$ de los quarks y anti-quarks ${\\bf \\bar{3}}$ en el plano $T_3, Y$. Notar la oposición de cargas.\n",
    "\n",
    "| | \n",
    "| :--: |\n",
    "|  <img src=\"./imgs/groups_su3_color.png\" width = 500 align=\"center\"> |\n",
    "| Posición de $r, g, b$ en $(T_3, Y)$, ${\\bf 3}$, y la dirección de los operadores $T_\\pm, V_\\pm, U_\\pm$ (izda) y de los $\\bar{r}, \\bar{g}, \\bar{b}$, ${\\bf \\bar{3}}$, (derecha)|\n",
    "\n",
    "\n",
    "Existen ahora tres operadores escalera:\n",
    "$$\n",
    "T_{\\pm} = \\frac{1}{2}(\\lambda_1 \\pm i \\lambda_2), \\; V_{\\pm} = \\frac{1}{2} (\\lambda_4 \\pm i \\lambda_5), \\; \n",
    "U_{\\pm} = \\frac{1}{2}(\\lambda_6 \\pm 9 \\lambda_7)\n",
    "$$\n",
    "\n",
    "que suben y bajan los spinores a lo largo de la direcciones del triángulo (ver figura):\n",
    "\n",
    "$$\n",
    "T_+ g = r, \\; T_- r = g; \\;\\;\\; V_+ b = r, \\; V_-r = b; \\;\\; U_+b = g, \\; U_-g = b\n",
    "$$\n"
   ]
  },
  {
   "cell_type": "markdown",
   "metadata": {
    "slideshow": {
     "slide_type": "slide"
    }
   },
   "source": [
    "La combinación de quark y antiquark (mesón), ${\\bf 3} \\otimes {\\bf \\bar{3}}$, se efectua colocando el triplete ${\\bf \\bar{3}}$ sobre los vértices del ${\\bf 3}$. Lo que da lugar a un octete y un singlete en su representación irreducible.\n",
    "\n",
    "| | \n",
    "| :--: |\n",
    "|  <img src=\"./imgs/groups_su3_33b.png\" width = 550 align=\"center\"> |\n",
    "| Combinación ${\\bf 3} \\otimes {\\bf \\bar{3}} = {\\bf 8} \\oplus {\\bf 1}$ [MT]|\n",
    "\n",
    "El único singlete ($T_3, Y = 0$), sin color, es:\n",
    "\n",
    "$$\n",
    "\\frac{1}{\\sqrt{3}} (r\\bar{r} + g\\bar{g} + b \\bar{b})\n",
    "$$"
   ]
  },
  {
   "cell_type": "markdown",
   "metadata": {},
   "source": [
    "La combinación de dos quarks, ${\\bf 3} \\otimes {\\bf 3}$, no da un singlete de color pero sí la de tres quarks, ${\\bf 3} \\otimes {\\bf 3} \\otimes {\\bf 3}$ (ver figura).\n",
    "\n",
    "| | \n",
    "| :--: |\n",
    "|  <img src=\"./imgs/groups_su3_333.png\" width = 550 align=\"center\"> |\n",
    "| Combinación ${\\bf 3} \\otimes {\\bf \\bar{3}} = {\\bf 10} \\oplus {\\bf 8} \\otimes {\\bf 8} \\otimes {\\bf 1}$ [MT]|\n",
    "\n",
    "El singlete ($T_3, Y = 0$), sin color, es:\n",
    "\n",
    "$$\n",
    "\\frac{1}{\\sqrt{6}} (rgb - rbg + gbr - grb + brg - brg)\n",
    "$$\n"
   ]
  },
  {
   "cell_type": "code",
   "execution_count": null,
   "metadata": {},
   "outputs": [],
   "source": []
  },
  {
   "cell_type": "code",
   "execution_count": null,
   "metadata": {},
   "outputs": [],
   "source": []
  },
  {
   "cell_type": "code",
   "execution_count": null,
   "metadata": {},
   "outputs": [],
   "source": []
  },
  {
   "cell_type": "code",
   "execution_count": null,
   "metadata": {},
   "outputs": [],
   "source": []
  },
  {
   "cell_type": "code",
   "execution_count": 3,
   "metadata": {
    "slideshow": {
     "slide_type": "slide"
    }
   },
   "outputs": [
    {
     "data": {
      "image/png": "[encoded data removed]",
      "text/plain": [
       "<Figure size 1200x500 with 2 Axes>"
      ]
     },
     "metadata": {
      "filenames": {
       "image/png": "/Users/hernando/work/docencia/grado/Fisica_Nuclear_y_de_Partículas/USC-FNyP/_build/jupyter_execute/_build_save/jupyter_execute/notebooks/apendice-grupos_47_0.png"
      }
     },
     "output_type": "display_data"
    }
   ],
   "source": [
    "plt.figure(figsize = (12, 5));\n",
    "plt.subplot(1, 2, 1)\n",
    "plt.xlim((-1, 1)); plt.ylim((-1, 1)); plt.gca().set_aspect('equal');\n",
    "plt.plot((-1, 1), (0, 0), c = 'grey'); plt.plot((0, 0), (-1, 1), c = 'grey');\n",
    "opts = {'length_includes_head' : True, 'head_width' : 0.1, 'head_length' : 0.1}\n",
    "plt.arrow(0, -2/3, 1/2, 1, color = 'magenta', width = 0.01, **opts)\n",
    "plt.arrow(1/2, 1/3, -1/2, -1, color = 'magenta', width = 0.01, **opts)\n",
    "plt.arrow(0, -2/3, -1/2, 1, color = 'cyan', width = 0.01,  **opts)\n",
    "plt.arrow(-1/2, 1/3, 1/2, -1, color = 'cyan', width = 0.01,  **opts)\n",
    "plt.arrow(-1/2, 1/3, 1, 0, color = 'yellow', width = 0.01,  **opts)\n",
    "plt.arrow(1/2, 1/3, -1, 0, color = 'yellow', width = 0.01,  **opts)\n",
    "plt.scatter((1/2), (1/3), c = 'r', label = 'r', s = 200 , alpha = 1 );\n",
    "plt.scatter((-1/2), (1/3), c = 'g', label = 'g', s = 200, alpha = 1 );\n",
    "plt.scatter((0), (-2/3), c = 'b', label = 'b', s = 200, alpha = 1 );\n",
    "epsilon = 1/6\n",
    "plt.annotate('r', (0, 0), (1/2, 1/3 + epsilon), fontsize = 15)\n",
    "plt.annotate('g', (0, 0), (-1/2, 1/3 + epsilon), fontsize = 15)\n",
    "plt.annotate('b', (0, 0), (0, -2/3 - epsilon), fontsize = 15)\n",
    "plt.annotate('$T_{\\pm}$', (0, 0), (0, 1/3 + epsilon), fontsize = 15)\n",
    "plt.annotate('$V_{\\pm}$', (0, 0), ( 1/4  + epsilon/2, -1/4), fontsize = 15)\n",
    "plt.annotate('$U_{\\pm}$', (0, 0), (-1/4  - epsilon, -1/4), fontsize = 15);\n",
    "plt.xlabel('$T_3$'); plt.ylabel('Y');\n",
    "\n",
    "plt.subplot(1, 2, 2)\n",
    "plt.scatter((-1/2), (-1/3), c = 'r', label = 'r', s = 200 , alpha = 1 );\n",
    "plt.scatter((1/2), (-1/3), c = 'g', label = 'g', s = 200, alpha = 1 );\n",
    "plt.scatter((0), (2/3), c = 'b', label = 'b', s = 200, alpha = 1 );\n",
    "#plt.annotate(s = 'r', xy =  (0, 0), xytext = (1/2, 1/3), fontsize = 16)\n",
    "plt.xlim((-1, 1)); plt.ylim((-1, 1)); plt.gca().set_aspect('equal');\n",
    "plt.plot((-1, 1), (0, 0), c = 'grey'); plt.plot((0, 0), (-1, 1), c = 'grey');\n",
    "plt.plot((-1/2, 1/2), (-1/3, -1/3), c = 'black', ls = '--' )\n",
    "plt.plot((-1/2, 0)  , (-1/3,  2/3), c = 'black', ls = '--' )\n",
    "plt.plot((0  , 1/2) , (2/3, -1/3), c = 'black', ls = '--' )\n",
    "epsilon = 1/6\n",
    "plt.annotate(r'$\\bar{r}$', (0, 0), (-1/2, -1/3 - 1.5 * epsilon), fontsize = 15)\n",
    "plt.annotate(r'$\\bar{g}$', (0, 0), (1/2, -1/3 - 1.5 * epsilon), fontsize = 15)\n",
    "plt.annotate(r'$\\bar{b}$', (0, 0), (0, 2/3 + epsilon), fontsize = 15)\n",
    "plt.xlabel('$T_3$'); plt.ylabel('Y');"
   ]
  },
  {
   "cell_type": "code",
   "execution_count": 4,
   "metadata": {
    "slideshow": {
     "slide_type": "fragment"
    }
   },
   "outputs": [
    {
     "data": {
      "text/plain": [
       "8.076999999999999e-16"
      ]
     },
     "execution_count": 4,
     "metadata": {},
     "output_type": "execute_result"
    }
   ],
   "source": [
    "r = 4.1\n",
    "hbarc = 0.197e-15\n",
    "r_si = r * hbarc\n",
    "r_si"
   ]
  },
  {
   "cell_type": "markdown",
   "metadata": {
    "slideshow": {
     "slide_type": "slide"
    }
   },
   "source": [
    "## Relatividad special\n",
    "\n",
    "### Transformación de Lorentz\n",
    "\n",
    "La transformación de Lorentz nos relaciona el espacio-tiempo $(t, {\\bf r})$ en un sistema inercial $\\Sigma$ con el espacio-tiempo $(t' {\\bf r}')$ en otros sistema inercial $\\Sigma'$ que se desplaza respecto del primero con velocidad $v$ en la dirección $z$.\n",
    "\n",
    "Einstein postuló que la velocidad de la luz, $c$, es la misma en los dos sistemas y nada puede viajar más rápido que la luz $v \\lt c$. \n",
    "\n",
    "La luz producida en $t = t' = 0$, cuando los dos sistemas coinciden, cumple: $c^2t^2 - {\\bf r}^2 = c^2 t'^2 - {\\bf r}'^2$. \n",
    "\n",
    "Si ${\\bf r} = (x, y, z)$, y de igual manera para ${\\bf r}' = (x', y', z')$.\n"
   ]
  },
  {
   "cell_type": "markdown",
   "metadata": {
    "slideshow": {
     "slide_type": "slide"
    }
   },
   "source": [
    "La condición se cumple si las coordenadas en los dos sistemas están relacionadas por la transformación de Lorentz.\n",
    "\n",
    "$$\n",
    "t' = \\gamma \\left( t - \\frac{v}{c^2} z \\right), \\; x' = x, \\; y' = y, \\, z' = \\gamma (z - vt) \n",
    "$$\n",
    "\n",
    "donde introducimos, el **factor de Lorentz**, $\\gamma$\n",
    "\n",
    "$$\n",
    "\\gamma = (1 - \\beta^2)^{-1/2}, \\; \\; \\beta = v/c \n",
    "$$\n"
   ]
  },
  {
   "cell_type": "markdown",
   "metadata": {
    "slideshow": {
     "slide_type": "slide"
    }
   },
   "source": [
    "En UN:\n",
    "\n",
    "$$\n",
    "t' = \\gamma (1 - \\beta z),  \\; x' = x, \\; y' = y, z' = \\gamma (z - \\beta t)\n",
    "$$\n",
    "\n",
    "$$\n",
    "\\begin{pmatrix} t' \\\\ x' \\\\ y' \\\\ z' \\end{pmatrix} = \n",
    "\\begin{pmatrix} \\gamma         & 0 & 0 & -\\gamma \\beta \\\\\n",
    "                 0             & 1 & 0 & 0 \\\\\n",
    "                 0             & 0 & 1 & 0 \\\\\n",
    "                 -\\gamma \\beta & 0 & 0 & \\gamma \n",
    "\\end{pmatrix}\n",
    "\\begin{pmatrix}t \\\\ x \\\\ y \\\\ z \\end{pmatrix}\n",
    "$$\n",
    "\n",
    "La transformación inversa (de $\\Sigma' \\to \\Sigma$) viene dada por:\n",
    "\n",
    "$$\n",
    "\\begin{pmatrix} t \\\\ x \\\\ y \\\\ z \\end{pmatrix} = \n",
    "\\begin{pmatrix} \\gamma         & 0 & 0 & +\\gamma \\beta \\\\\n",
    "                 0             & 1 & 0 & 0 \\\\\n",
    "                 0             & 0 & 1 & 0 \\\\\n",
    "                 +\\gamma \\beta & 0 & 0 & \\gamma \n",
    "\\end{pmatrix}\n",
    "\\begin{pmatrix}t' \\\\ x' \\\\ y' \\\\ z' \\end{pmatrix}\n",
    "$$\n",
    "\n",
    "La matriz, ${\\bf \\Lambda}^{-1}$, de la segunda transformación, es inversa de la primera, ${\\bf \\Lambda}$. Esto es: ${\\bf \\Lambda} {\\bf \\Lambda}^{-1} = {\\bf I}$"
   ]
  },
  {
   "cell_type": "markdown",
   "metadata": {
    "slideshow": {
     "slide_type": "slide"
    }
   },
   "source": [
    "### cuatro-vectores\n",
    "\n",
    "La magnitud ${\\bf r}^2$, de un vector 3D, donde ${\\bf r} = (x, y, z)$, es invariante bajo rotaciones.\n",
    "\n",
    "El producto escalar, $x^\\mu x_\\mu = t^2 - x^2 - y^2 - z^2$, definido entre cuadri-vectores dados por: $x^\\mu = (t, x, y, z), \\;\\, x_\\mu = (t, -x, -y, -z)$, es invariante respecto tranformaciones de Lorentz.\n",
    "\n",
    "El primero, $x^\\mu$, se llama cuadri-vector **contra-variante** y el segundo, $x_\\mu$, **co-variante**.\n",
    "\n",
    "Están relacionados: $x_\\mu = g_{\\mu\\nu} x^\\nu$. \n",
    "\n",
    "Donde:\n",
    "\n",
    "$$\n",
    "g_{\\mu\\nu } = \\begin{pmatrix} 1 & 0 & 0 & 0 \\\\ 0 & -1 & 0 & 0 \\\\ 0 & 0 & -1 & 0 \\\\ 0 & 0 & 0 & -1 \\end{pmatrix}\n",
    "$$\n",
    "\n",
    "El producto entre ambos se puede denotar:\n",
    "\n",
    "$$a^\\nu b_\\nu = g_{\\nu\\mu} a^\\nu b^\\mu = a_\\mu b^\\mu$$"
   ]
  },
  {
   "cell_type": "markdown",
   "metadata": {
    "slideshow": {
     "slide_type": "slide"
    }
   },
   "source": [
    "La tranformación de Lorentz de $\\Sigma \\to \\Sigma'$ viene dada por:\n",
    "\n",
    "para el cuadri-vector contra-variante:\n",
    "\n",
    "$$x'^\\mu = \\Lambda^\\mu _{\\;\\; \\nu} x^\\nu,$$ \n",
    "\n",
    "donde $\\Lambda^\\mu_{\\;\\; \\nu}$ es el elemento de la matriz de la transformación $\\Sigma \\to \\Sigma'$ y los índices repetidos se suman.\n",
    "\n",
    "para el co-variante:\n",
    "$$x'_\\mu = \\Lambda_\\mu ^{\\;\\; \\nu} x_\\nu,$$\n",
    "\n",
    "donde $\\Lambda_\\mu^{\\;\\; \\nu}$ corresponde a los índices de la matriz ${\\bf \\Lambda}^{-1}$"
   ]
  },
  {
   "cell_type": "markdown",
   "metadata": {
    "slideshow": {
     "slide_type": "slide"
    }
   },
   "source": [
    "### Cuadri-momento\n",
    "\n",
    "La energía y el momento de una partícula relativista de masa $m$ y velocidad ${bf v}$ son $E = \\gamma m c^2, \\, {\\bf p } = \\gamma m {\\bf v}$, en UN: $E = \\gamma m, \\; {\\bf p} = \\gamma m \\bf{\\beta}$.\n",
    "\n",
    "Definimos el **cuadrimomento** (como vector contra-variante); $p^\\mu = (E, p_x, p_y, p_z)$\n",
    "\n",
    "El producto escalar es un invariante Lorentz:\n",
    "$$\n",
    "p^\\mu p_\\mu = E^2 - {\\bf p}^2 = m^2,\n",
    "$$ \n",
    "dado que para el caso ${\\bf p} = {\\bf 0}$, tenemos $p_\\mu = (m, 0, 0, 0)$.\n",
    "\n",
    "Esta expresion es *la relación de Einstein entre energía y momento*.\n",
    "\n",
    "En general usaremos $p^2 = p^\\mu p_\\mu$, para distinguirlo del producto escalar en 3D, ${\\bf p}^2  = |{\\bf p}|^2$"
   ]
  },
  {
   "cell_type": "markdown",
   "metadata": {},
   "source": [
    "En el caso de un sistema de n partículas, $i = 1, \\dots, n$, el cuadrimomento total,\n",
    "\n",
    "$$\n",
    "p^\\mu = \\sum_i p^\\mu_i,\n",
    "$$\n",
    "cumple:\n",
    "$$\n",
    "p^\\mu p_\\mu = \\left(\\sum_i E_i \\right)^2 - \\left( \\sum_i {\\bf p}_i \\right)^2\n",
    "$$\n",
    "\n",
    "En el caso en el que una partícula se desintegre $a \\to c + d$, se cumple:\n",
    "\n",
    "$$\n",
    "(p_b + p_c)^\\mu (p_b + p_c)_\\mu = p_a^\\mu p_{a\\mu} = m^2_a,\n",
    "$$\n",
    "que se demonima la *masa invariante*."
   ]
  },
  {
   "cell_type": "markdown",
   "metadata": {
    "slideshow": {
     "slide_type": "slide"
    }
   },
   "source": [
    "En general usaremos $p^2 = p^\\mu p_\\mu$, para distinguirlo del producto escalar en 3D, ${\\bf p}^2  = |{\\bf p}|^2$\n",
    "\n",
    "Para indicar que el evento está definido en el caso especial del *sistema del centro de masas*, dode se cumple $\\sum_i {\\bf p}_i = {\\bf 0}$, usamos la notación, $p^*$ para el cuadri-momento, y $E^*, {\\bf p}^*$ para la energía y el momento."
   ]
  },
  {
   "cell_type": "markdown",
   "metadata": {},
   "source": [
    "### Derivadas co-variantes y contra-variantes\n",
    "\n",
    "La derivadas primeras en el sistema $\\Sigma'$ se relactionan con las del sistema $\\Sigma$ por:\n",
    "\n",
    "\n",
    "$$\n",
    "\\begin{pmatrix} \\partial/\\partial t' \\\\ \\partial/\\partial x' \\\\  \n",
    "                \\partial/\\partial y'  \\\\ \\partial/\\partial z' \\end{pmatrix} = \n",
    "\\begin{pmatrix} \\gamma         & 0 & 0 & +\\gamma \\beta \\\\\n",
    "                 0             & 1 & 0 & 0 \\\\\n",
    "                 0             & 0 & 1 & 0 \\\\\n",
    "                 +\\gamma \\beta & 0 & 0 & \\gamma \n",
    "\\end{pmatrix}\n",
    "\\begin{pmatrix} \\partial/\\partial t \\\\ \\partial/\\partial x \\\\  \n",
    "                \\partial/\\partial y  \\\\ \\partial/\\partial z \\end{pmatrix}\n",
    "$$\n",
    "\n"
   ]
  },
  {
   "cell_type": "markdown",
   "metadata": {
    "slideshow": {
     "slide_type": "slide"
    }
   },
   "source": [
    "Luego:\n",
    "$$\\partial_\\mu = \\left( \\frac{\\partial}{\\partial t}, \\frac{\\partial}{\\partial x},  \n",
    "                \\frac{\\partial}{\\partial y}, \\frac{\\partial}{\\partial z}  \\right),$$\n",
    "transforma como un cuadri-vector *co-variante*. Es **derivada co-variante**\n",
    "\n",
    "Y\n",
    "$$\\partial^\\mu = \\left( \\frac{\\partial}{\\partial t}, -\\frac{\\partial}{\\partial x},  \n",
    "                -\\frac{\\partial}{\\partial y}, -\\frac{\\partial}{\\partial z}  \\right),$$\n",
    "lo hace como *contra-variante*. Es la *derivada contra-variante*.\n",
    "\n",
    "El equivalente para el laplaciando para cuadri-vectores:\n",
    "\n",
    "$$\n",
    "\\Box^2 = \\partial^\\mu \\partial_\\mu = \\frac{\\partial}{\\partial t^2} -\\frac{\\partial}{\\partial x^2}   \n",
    "                -\\frac{\\partial}{\\partial y^2} -\\frac{\\partial}{\\partial z^2}\n",
    "$$\n"
   ]
  },
  {
   "cell_type": "markdown",
   "metadata": {
    "slideshow": {
     "slide_type": "slide"
    }
   },
   "source": [
    "### Invariables de Mandelstam\n",
    "\n",
    "\n",
    "Si consideramos los siguientes diagramas de Feynman,\n",
    "\n",
    "| | \n",
    "| :-- |\n",
    "| <img src=\"./imgs/feynman_channels.png\" width = 500 align=\"center\">|\n",
    "| Diagramas asociados a los invariantes de Mandelstam |\n",
    "\n",
    "\n",
    "El cuadrimomento transferido, $q^2$, entre las corrientes, se denota con:\n",
    "\n",
    "$$\n",
    " s = (p_a +p_b)^2 = (p_c + p_d)^2, \\;\\; t = (p_c - p_a)^2 = (p_d - p_b)^2, \\;\\; u = (p_d-p_a)^2 = (p_c - p_b)^2\n",
    "$$\n",
    "\n",
    "que corresponden a los **canales $s, t, u$**. \n"
   ]
  },
  {
   "cell_type": "markdown",
   "metadata": {
    "slideshow": {
     "slide_type": "slide"
    }
   },
   "source": [
    "\n",
    "El canal $s$ es relevante en los procesos de aniquilación, y correponde a la energía en el centro de masas.\n",
    "\n",
    "$$s = (p_a + p_b) = (E^*_a + E^*_b) - (p^*_a + p^*_b) = (E^*_a + E^*_b)^2.$$\n",
    "\n",
    "En la literatura se denota $\\sqrt{s}$ para indicar la **energía en el centro de masas** de los colisionadores.\n",
    "\n",
    "El canal $t$ es relevante en los procesos de dispersión (*scattering*), y el $u$ en los procesos con partículas finales indistiguibles."
   ]
  },
  {
   "cell_type": "markdown",
   "metadata": {},
   "source": [
    "## Ecuación de Dirac\n",
    "\n",
    "La ecuación de Klein-Gordon se deriva de la equación de momento-energía: $E^2 = {\\bf p}^2 + m^2$, considerando los operadores cuánticos de momento y energía. \n",
    "\n",
    "Dirac propuso una solución lineal en espacio-tiempo, que cumpliese también la equación momento-energía. La **ecuación de Dirac** es:\n",
    "\n",
    "$$\n",
    "\\hat{E} \\Psi = \\left( \\bf{\\alpha} \\cdot {\\bf \\hat p} + \\beta m \\right) \\Psi\n",
    "$$\n",
    "\n",
    "Las condiciones de ${\\bf \\alpha}, \\beta$, se obtienen al elevar 'al cuadrado' la ecuación.\n",
    "\n",
    "$$\n",
    "\\alpha_i^2 = \\beta^2 = I, \\;\\; \\alpha_i \\alpha_j + \\alpha_j \\alpha_i = 0 \\; (i \\neq j), \\;\\; \\alpha_i \\beta + \\beta \\alpha_i = 0,\n",
    "$$\n",
    "con $i= 1, 2, 3$. \n",
    "\n",
    "Y deben ser además hermíticas $\\alpha_i = \\alpha_i^\\dagger, \\; \\beta = \\beta^\\dagger$, para que el hamiltonianto tenga valores reales.\n"
   ]
  },
  {
   "cell_type": "markdown",
   "metadata": {},
   "source": [
    "Las soluciones más sencillas son matrices $4 \\times 4$.\n",
    "\n",
    "Una **representación** de las matrices conveniente es la **Pauli-Dirac** que usa las **matrices de Dirac** $2 \\times 2$, $\\sigma_i$ con $i=1, 2, 3$.\n",
    "\n",
    "$$\n",
    "\\beta = \\begin{pmatrix} I & 0 \\\\ 0 & I \\end{pmatrix}, \\;\\;\n",
    "\\alpha_i = \\begin{pmatrix} 0 & \\sigma_i \\\\ \\sigma_i & 0 \\end{pmatrix}\n",
    "$$\n",
    "\n",
    "Donde:\n",
    "\n",
    "$$\n",
    "I = \\begin{pmatrix} 1 & 0 \\\\ 0 & 1 \\end{pmatrix}, \\;\\;\n",
    "\\sigma_1 = \\begin{pmatrix} 0 & 1 \\\\ 1 & 0 \\end{pmatrix}, \\;\\;\n",
    "\\sigma_2 = \\begin{pmatrix} 0 & -i \\\\ i & 0 \\end{pmatrix}, \\;\\;\n",
    "\\sigma_3 = \\begin{pmatrix} 1 & 0 \\\\ 0 & -1 \\end{pmatrix}, \\;\\;\n",
    "$$\n",
    "\n",
    "Existen otras representaciones útiles, por ejemplo la quiral, pero la física de la ecuación de Dirac no depende de la representación."
   ]
  },
  {
   "cell_type": "markdown",
   "metadata": {
    "slideshow": {
     "slide_type": "slide"
    }
   },
   "source": [
    "### Representación covariante de la ecuación de Dirac \n",
    "\n",
    "La **matrices-$\\gamma$** se definien:\n",
    "\n",
    "$$\n",
    "\\gamma^0 = \\beta, \\;\\; \\gamma^1 = \\beta \\alpha_1, \\; \\gamma^2 = \\beta \\alpha_2, \\;\\; \\gamma^3 = \\beta \\alpha_3\n",
    "$$\n",
    "\n",
    "y usamos la derivada covariante:\n",
    "\n",
    "$$\\partial_\\mu = \\left( \\frac{\\partial}{\\partial t}, \\frac{\\partial}{\\partial x},  \n",
    "                \\frac{\\partial}{\\partial y}, \\frac{\\partial}{\\partial z}  \\right),$$\n",
    "\n",
    "podemos reexpresar la ecuación de Dirac de forma covariante:\n",
    "\n",
    "$$\n",
    "(i \\gamma^\\mu \\partial_\\mu  - m) \\Psi = 0.\n",
    "$$"
   ]
  },
  {
   "cell_type": "markdown",
   "metadata": {
    "slideshow": {
     "slide_type": "slide"
    }
   },
   "source": [
    "Las matrices-$\\gamma$ cumplen:\n",
    "$$\n",
    "(\\gamma^0)^2 = I, \\; (\\gamma^k)^2 = - I, \\;\\; \\gamma^\\mu \\gamma^\\nu = - \\gamma^\\nu \\gamma^\\mu \\, (\\mu \\neq \\nu),\n",
    "$$\n",
    "con $k=1, 2, 3$, y $\\mu = 0, 1, 2, 3$.\n",
    "\n",
    "De forma equivalente, cumplen las siguientes relaciones de anti-conmutación: \n",
    "\n",
    "$$\n",
    "\\{ \\gamma^\\mu, \\gamma^\\nu \\} \\equiv \\gamma^\\mu \\gamma^\\nu + \\gamma^\\nu \\gamma^\\mu = 2 g^{\\mu\\nu}\n",
    "$$\n",
    "\n",
    "La matrix $\\gamma^0$ es hermítica y las otras anti-hermíticas:\n",
    "\n",
    "$$\n",
    "\\gamma^{0\\dagger} = \\gamma^0, \\;\\; \\gamma^{k \\dagger} = - \\gamma^{k}\n",
    "$$"
   ]
  },
  {
   "cell_type": "markdown",
   "metadata": {
    "slideshow": {
     "slide_type": "slide"
    }
   },
   "source": [
    "#### Matrix $\\gamma^5$\n",
    "\n",
    "Definimos la matrix $\\gamma^5$ a partir del producto del resto de matrices gamma:\n",
    "\n",
    "$$\n",
    "\\gamma^5 \\equiv i \\gamma^0 \\gamma^1 \\gamma^2 \\gamma^3,\n",
    "$$\n",
    "\n",
    "La matrix $\\gamma^5$ tiene las siguientes propiedades:\n",
    "\n",
    "$$\n",
    "(\\gamma^5)^2 = I, \\;\\; \\gamma^{5\\dagger} = \\gamma^5, \\;\\; \\gamma^5\\gamma^\\mu = - \\gamma^\\mu \\gamma^5\n",
    "$$"
   ]
  },
  {
   "cell_type": "markdown",
   "metadata": {
    "slideshow": {
     "slide_type": "slide"
    }
   },
   "source": [
    "En la representación de Pauli-Dirac, la matrices $\\gamma$ son:\n",
    "\n",
    "$$\n",
    "\\gamma^0 = \\begin{pmatrix} I & 0 \\\\ 0 & -I \\end{pmatrix}, \\;\\;\n",
    "\\gamma^k = \\begin{pmatrix} 0 & \\sigma_k \\\\ -\\sigma_k & 0 \\end{pmatrix}, \\;\\;\n",
    "\\gamma^5 = \\begin{pmatrix} 0 & I \\\\ I & 0 \\end{pmatrix},\n",
    "$$\n",
    "\n",
    "donde $I$ es la matriz identidad $2\\times2$."
   ]
  },
  {
   "cell_type": "markdown",
   "metadata": {
    "slideshow": {
     "slide_type": "slide"
    }
   },
   "source": [
    "#### El espinor de Dirac\n",
    "\n",
    "El Hamiltoniano de Dirac actua en un función de onda, $\\Psi$ de cuatro componentes, quer se llama **cuadri-spinor de Dirac**:\n",
    "\n",
    "$$\n",
    "\\Psi = \\begin{pmatrix} \\psi_1 \\\\ \\psi_2 \\\\ \\psi_3 \\\\ \\psi_4\\end{pmatrix}.\n",
    "$$\n",
    "\n",
    "Es conveniente definir el **spinor adjunto** como:\n",
    "\n",
    "$$\n",
    "\\bar{\\Psi} = \\Psi^\\dagger \\gamma^0\n",
    "$$\n",
    "\n",
    "Esto es, en la representación de Pauli-Dirac:\n",
    "$$\\bar{\\Psi} = (\\psi^*_1, \\psi^*_2, -\\psi^*_3, -\\psi^*_4).$$"
   ]
  },
  {
   "cell_type": "markdown",
   "metadata": {
    "slideshow": {
     "slide_type": "slide"
    }
   },
   "source": [
    "#### Densidad y corriente de probabilidad\n",
    "\n",
    "La densidad y la corriente de probabilidad del spinor de Dirac son:\n",
    "\n",
    "$$\n",
    "\\rho = \\Psi^\\dagger \\Psi = |\\psi_1|^2 + |\\psi_2|^2 + |\\psi_3|^2 + |\\psi_4|^2, \\;\\; j^k  = \\Psi^\\dagger \\alpha_k \\Psi\n",
    "$$\n",
    "\n",
    "que cumplen:\n",
    "$$\n",
    "\\frac{\\partial \\rho}{\\partial t} + \\nabla \\cdot {\\bf j} = 0.\n",
    "$$\n",
    "\n",
    "Podemos introducir el cuadri-vector covariante de las corriente de probabilidad:\n",
    "\n",
    "$$\n",
    "j^\\mu = \\Psi^\\dagger \\gamma^0 \\gamma^\\mu \\Psi = \\bar{\\Psi} \\gamma^\\mu \\Psi,\n",
    "$$\n",
    "\n",
    "Y la conservación de probabilidad puede expresarse:\n",
    "\n",
    "$$\n",
    "\\partial_\\mu j^\\mu = 0\n",
    "$$\n"
   ]
  },
  {
   "cell_type": "markdown",
   "metadata": {
    "slideshow": {
     "slide_type": "slide"
    }
   },
   "source": [
    "### Spin en la ecuación de Dirac\n",
    "\n",
    "En mecánica cuántica la evolución temporal de un observable, O, con operador, $\\hat O$, y hamiltoniano $\\hat H$, viene dada por:\n",
    "\n",
    "$$\\frac{d O}{dt} = i \\langle | \\Psi | [\\hat H, \\hat O] | \\Psi \\rangle $$ \n",
    "\n",
    "En el caso del operador momento angular: ${\\bf \\hat L} = {\\bf \\hat r} \\times {\\bf \\hat p}$, y el hamiltoniano de Dirac: $\\hat H = {\\bf \\alpha } \\cdot {\\bf \\hat p} + \\beta m$, obtenemos:\n",
    "\n",
    "$$[\\hat H, {\\bf \\hat L}] = - i {\\bf \\alpha} \\times {\\bf \\hat p}$$\n",
    "\n",
    "No se conserva en el tiempo."
   ]
  },
  {
   "cell_type": "markdown",
   "metadata": {
    "slideshow": {
     "slide_type": "slide"
    }
   },
   "source": [
    "Pero si consideramos el operador spín, ${\\bf \\hat S}$, definido por:\n",
    "\n",
    "$$\n",
    "{\\bf \\hat S } = \\frac{1}{2} {\\bf \\hat \\Sigma} = \n",
    "\\frac{1}{2} \\begin{pmatrix} {\\bf \\sigma} & 0 \\\\ 0 & {\\bf \\sigma} \\end{pmatrix} \n",
    "$$\n",
    "\n",
    "obtenemos que:\n",
    "\n",
    "$$\n",
    "[\\hat H, {\\bf \\hat S}] = i {\\bf \\alpha} \\times {\\bf \\hat p}\n",
    "$$"
   ]
  },
  {
   "cell_type": "markdown",
   "metadata": {
    "slideshow": {
     "slide_type": "slide"
    }
   },
   "source": [
    "Luego el momento angular total: ${\\bf \\hat J} = {\\bf \\hat L} + {\\bf \\hat S}$, se conserva.\n",
    "    \n",
    "Podemos interpretar ${\\bf \\hat S}$ como un momento angular intrínsico, el spín, de la partícula.\n",
    "\n",
    "${\\bf \\hat S}$ tiene las mismas relaciones de conmutación que ${\\bf \\hat L}$:\n",
    "\n",
    "$$\n",
    "[\\hat S_x, \\hat S_y] = i \\hat S_z, \\;\\; \n",
    "[\\hat S_y, \\hat S_z] = i \\hat S_z, \\;\\,\n",
    "[\\hat S_z, \\hat S_x] = i \\hat S_y, \\\\\n",
    "[\\hat S^2, \\hat S_y] =  [\\hat S^2, \\hat S_z] = [\\hat S^2, \\hat S_x] = 0. \n",
    "$$"
   ]
  },
  {
   "cell_type": "markdown",
   "metadata": {
    "slideshow": {
     "slide_type": "slide"
    }
   },
   "source": [
    "### Soluciones de la ecuación de Dirac\n",
    "\n",
    "Las soluciones de onda plana de una partícula libre serán de la forma:\n",
    "\n",
    "$$\n",
    "\\Psi = u(E, {\\bf p}) \\, e^{i ({\\bf p} \\cdot {\\bf x} - E t)}\n",
    "$$\n",
    "\n",
    "Donde $u(E,{\\bf p})$ es un espinor de Dirac que no depende de ${\\bf x}, t$, que ahora debe cumplir la ecuación:\n",
    "\n",
    "$$\n",
    "(\\gamma^\\mu p_\\mu - m) \\, u = 0,\n",
    "$$\n",
    "\n",
    "que no contiene derivadas.\n"
   ]
  },
  {
   "cell_type": "markdown",
   "metadata": {
    "slideshow": {
     "slide_type": "slide"
    }
   },
   "source": [
    "### Soluciones de la partícula en reposo\n",
    "\n",
    "Para una partícula en reposo ${\\bf p} = {\\bf 0}$, la onda de la partícula libre es: $\\Psi = u(E)\\,e^{-iEt}$\n",
    "y la ecuación para el espinor $u$:\n",
    "\n",
    "$$\n",
    "\\left(E \\gamma^0 - m \\right) \\, u = 0\n",
    "$$\n",
    "\n",
    "En la representación de Pauli-Dirac nos da cuatro soluciones:\n",
    "$$\n",
    "u_1 = N \\begin{pmatrix} 1 \\\\ 0 \\\\ 0 \\\\ 0 \\end{pmatrix} \\;\n",
    "u_2 = N \\begin{pmatrix} 0 \\\\ 1 \\\\ 0 \\\\ 0 \\end{pmatrix} \\;\n",
    "u_3 = N \\begin{pmatrix} 0 \\\\ 0 \\\\ 1 \\\\ 0 \\end{pmatrix} \\;\n",
    "u_4 = N \\begin{pmatrix} 0 \\\\ 0 \\\\ 0 \\\\ 1 \\end{pmatrix} . \n",
    "$$\n",
    "Donde $N$ es un factor de normalización.\n",
    "\n",
    "$u_1, u_2$ tiene energía positiva $+m$. $u_3, u_4$ negativa, $-m$. $u_1, u_3$ tiene spín arriba, $u_2, u_4$ spín abajo."
   ]
  },
  {
   "cell_type": "markdown",
   "metadata": {
    "slideshow": {
     "slide_type": "slide"
    }
   },
   "source": [
    "Respecto al hamiltoniano $\\hat H$:\n",
    "\n",
    "   * $u_1, u_2$ tiene energía positiva $E = +m$. \n",
    "\n",
    "   * $u_3, u_4$ negativa, $E = -m$.\n",
    "\n",
    "Respecto al spín ${\\hat S_z}$\n",
    "\n",
    "   * $u_1, u_3$ tiene spín $1/2$, arriba. \n",
    "   \n",
    "   * $u_2, u_4$ tiene spin $-1/2$, abajo.\n",
    "   \n",
    "Asociamos estas soluciones de energía positica con una partícula de spín $1/2$ y las soluciones de energía negativa con una antipartícla de spín $1/2$."
   ]
  },
  {
   "cell_type": "markdown",
   "metadata": {},
   "source": [
    "#### ¿Cuál es el significado de la solución de energía negativa?\n",
    "\n",
    "Dirac propuso la teoría del \"mar de Dirac\". El *vacio* estaba lleno con todos los estados de energía negativos ocupados. Un fotón con $E > 2 m_e c^2$ podía hacer salat un electrón del vacio a la zona de energía positiva produciendo un electrón y un hueco en vacio que se interpreta como el positrón.\n",
    "\n",
    "Feynman y Stückelberg propusieron que en las soluciones de energía negativa se propagaban hacía atrás en el tiempo. De esta forma el factor $e^{-iEt}$ no cambia $E \\to - E, \\; t \\to -t$. \n",
    "\n",
    "Pero sí cambia el signo del momento ${\\bf p} \\to {\\bf p}$. De ahí que en los diagramas de Feynman los anti-fermiones tengan una flecha hacia atrás en el tiempo.\n",
    "\n",
    "Podemos obtener los spinores de las antipartículas $v_1, v_2$, que experimentalmente se comportan como partículas y van hacia delante en el tiempo con la inversión: \n",
    "\n",
    "@check (-E)(-t)\n",
    "$$\n",
    "v_1(E, {\\bf p}) \\, e^{-i ({\\bf p} \\cdot {\\bf x} - Et)} = u_3(-E, -{\\bf p}) \\, e^{i(-{\\bf p} \\cdot {\\bf x} + Et)} \\\\\n",
    "v_2(E, {\\bf p}) \\, e^{-i ({\\bf p} \\cdot {\\bf x} - Et)} = u_4(-E, -{\\bf p}) \\; e^{i(-{\\bf p} \\cdot {\\bf x} + Et)} \\\\\n",
    "$$ \n",
    "\n"
   ]
  },
  {
   "cell_type": "markdown",
   "metadata": {
    "slideshow": {
     "slide_type": "slide"
    }
   },
   "source": [
    "### Soluciones generales de la partícula libre\n",
    "\n",
    "En el caso $\\Psi = u(E, {\\bf p}) \\, e^{i({\\bf p} \\cdot x - E t)}$, la ecuación sobre el spinor $u$ queda:\n",
    "\n",
    "$$\n",
    "\\left[ \\begin{pmatrix} I & 0 \\\\ 0 & - I\\end{pmatrix} E - \n",
    "        \\begin{pmatrix} 0 & \\sigma \\cdot {\\bf p} \\\\ - \\sigma \\cdot {\\bf p} & 0 \\end{pmatrix} - \n",
    "        m \\begin{pmatrix} I & 0 \\\\ 0 & I \\end{pmatrix}\\right] u = 0\n",
    "$$\n",
    "\n",
    "si expresamos el spinor a partir de dos espinores de dos componentes: \n",
    "\n",
    "$$\n",
    "u = \\begin{pmatrix} u_A \\\\ u_B \\end{pmatrix}\n",
    "$$\n",
    "Obtenemos:\n",
    "\n",
    "$$\n",
    "\\begin{pmatrix} (E-m) I & - \\sigma \\cdot {\\bf p} \\\\ \\sigma \\cdot {\\bf p} & - (E + m) I\\end{pmatrix}  \n",
    "\\begin{pmatrix} u_A \\\\ u_B \\end{pmatrix} = 0\n",
    "$$\n"
   ]
  },
  {
   "cell_type": "markdown",
   "metadata": {
    "slideshow": {
     "slide_type": "slide"
    }
   },
   "source": [
    "que se reduce a dos equaciones acopladas:\n",
    "$$\n",
    "u_A = \\frac{\\sigma \\cdot {\\bf p}}{E - m} u_B \\\\\n",
    "u_B = \\frac{\\sigma \\cdot {\\bf p}}{E + m} u_A \\\\\n",
    "$$\n",
    "\n",
    "y cuatro soluciones:\n",
    "\n",
    "$$\n",
    "u_1 = N \\begin{pmatrix} 1 \\\\ 0 \\\\ \\frac{p_z}{E+m} \\\\ \\frac{p_x+ip_y}{E+m} \\end{pmatrix}, \\;\n",
    "u_2 = N \\begin{pmatrix} 0 \\\\ 1 \\\\ \\frac{p_x-ip_y}{E+m} \\\\ \\frac{-p_z}{E+m} \\end{pmatrix}, \\;\n",
    "u_3 = N \\begin{pmatrix} \\frac{p_z}{E-m} \\\\ \\frac{p_x+ip_y}{E-m} \\\\ 1 \\\\ 0 \\end{pmatrix}, \\;\n",
    "u_4 = N \\begin{pmatrix} \\frac{p_x-ip_y}{E-m} \\\\ \\frac{-p_z}{E-m} \\\\ 0 \\\\ 1 \\end{pmatrix}. \n",
    "$$\n",
    "\n",
    "Donde $N$ son factores de normalización."
   ]
  },
  {
   "cell_type": "markdown",
   "metadata": {
    "slideshow": {
     "slide_type": "slide"
    }
   },
   "source": [
    "Que en el límite ${\\bf p} = {\\bf 0}$, se reducen a los casos con energía positiva y negativa.\n",
    "\n",
    "$u_1, u_2$ están asociados a la energía positiva: $E = + \\sqrt{p^2 + m^2}$\n",
    "\n",
    "$u_3, u_4$ están asociados a la energía negativa: $E = - \\sqrt{p^2 + m^2}$"
   ]
  },
  {
   "cell_type": "markdown",
   "metadata": {},
   "source": [
    "### Spinores de las anti-partículas\n",
    "\n",
    "En la Naturaleza las anti-partículas se comportan como las partículas y van hacia delante en el tiempo. \n",
    "Es mejor trabajar con spinores de anti-partículas, $v_1(E, {\\bf p}), v_2(E, {\\bf p})$, en vez de con las soluciones de energía negativa $u_3, u_4$.\n",
    "\n",
    "Podemos obtenerlos simplemente con los cambios:\n",
    "\n",
    "@check (-E)(-t)\n",
    "$$\n",
    "v_1(E, {\\bf p}) \\, e^{-i ({\\bf p} \\cdot {\\bf x} - Et)} = u_3(-E, -{\\bf p}) \\, e^{i(-{\\bf p} \\cdot {\\bf x} + Et)} \\\\\n",
    "v_2(E, {\\bf p}) \\, e^{-i ({\\bf p} \\cdot {\\bf x} - Et)} = u_4(-E, -{\\bf p}) \\; e^{i(-{\\bf p} \\cdot {\\bf x} + Et)} \\\\\n",
    "$$ \n",
    "\n"
   ]
  },
  {
   "cell_type": "markdown",
   "metadata": {
    "slideshow": {
     "slide_type": "slide"
    }
   },
   "source": [
    "O formalmente a partir de las ondas planas de las antipartículas:\n",
    "\n",
    "$$\n",
    "\\Psi({\\bf x}, t) = v(E, {\\bf p}) \\, e^{-i ({\\bf p} \\cdot {\\bf x} - E t)}\n",
    "$$\n",
    "\n",
    "que dan lugar a la ecuación para los spinores de las antipartículas:\n",
    "\n",
    "$$ \n",
    "\\left(\\gamma^\\mu p_\\mu + m \\right) v = 0\n",
    "$$\n",
    "Si consideramos un espinor compuesto de dos espinores de dos componentes: \n",
    "\n",
    "$$\n",
    "v = \\begin{pmatrix} v_A \\\\ v_B\\end{pmatrix}\n",
    "$$\n",
    "Obtenemos de nuevos dos ecuaciones acopladas:\n",
    "\n",
    "$$\n",
    "v_A = \\frac{{\\bf \\sigma} \\cdot {\\bf p}}{E + m} v_B, \\;\\; v_B = \\frac{{\\bf \\sigma} \\cdot {\\bf p}}{E - m} v_A,\n",
    "$$"
   ]
  },
  {
   "cell_type": "markdown",
   "metadata": {
    "slideshow": {
     "slide_type": "slide"
    }
   },
   "source": [
    "Así obtenemos cuatro soluciones, las dos primeras, son las de las antipartículas, ahora con energía positiva:\n",
    "\n",
    "$$\n",
    "v_1 = N \\begin{pmatrix} \\frac{p_x - ip_y}{E+m} \\\\ \\frac{-p_z}{E+m} \\\\ 0 \\\\ 1 \\end{pmatrix}, \\;\n",
    "v_2 = N \\begin{pmatrix} \\frac{p_z}{E+m} \\\\ \\frac{p_x + ip_y}{+m} \\\\ 1 \\\\ 0 \\end{pmatrix}. \n",
    "$$\n",
    "    \n",
    "    "
   ]
  },
  {
   "cell_type": "markdown",
   "metadata": {
    "slideshow": {
     "slide_type": "slide"
    }
   },
   "source": [
    "Las funciones de ondas solución de la ecuación de Dirac para partículas y antipartículas son: \n",
    "\n",
    "$$\n",
    "\\Psi_i = u_i(E, {\\bf p}) \\, e^{+i({\\bf p} \\cdot {\\bf x} - E t)}, \\;\\; \n",
    "\\Psi_{2+i} = v_i(E, {\\bf p}) \\, e^{-i({\\bf p} \\cdot {\\bf x} - E t)}\n",
    "$$\n",
    "\n",
    "donde:\n",
    "$$\n",
    "u_1 = N \\begin{pmatrix} 1 \\\\ 0 \\\\ \\frac{p_z}{E+m} \\\\ \\frac{p_x+ip_y}{E+m} \\end{pmatrix}, \\;\n",
    "u_2 = N \\begin{pmatrix} 0 \\\\ 1 \\\\ \\frac{p_x-ip_y}{E+m} \\\\ \\frac{-p_z}{E+m} \\end{pmatrix}, \\;\n",
    "v_1 = N \\begin{pmatrix} \\frac{p_x-ip_y}{E+m} \\\\ \\frac{-p_z}{E+m} \\\\ 0 \\\\ 1 \\end{pmatrix}, \\;\n",
    "v_2 = N \\begin{pmatrix} \\frac{p_z}{E+m} \\\\ \\frac{p_x + ip_y}{E+m} \\\\ 1 \\\\ 0 \\end{pmatrix}. \n",
    "$$\n",
    "\n"
   ]
  },
  {
   "cell_type": "markdown",
   "metadata": {
    "slideshow": {
     "slide_type": "slide"
    }
   },
   "source": [
    "### Conjungación de carga\n",
    "\n",
    "La conjungación de carga cambia partículas por antipartículas pero manteniendo el spin, esto es los espinores $u_i \\to v_i$ con $i=1, 2$.\n",
    "\n",
    "En la representación de Pauli-Dirac, el **operador cojungación de carga** viene dado por:\n",
    "\n",
    "$$\n",
    "\\Psi' = \\hat C \\Psi = i \\gamma^2 \\Psi^*\n",
    "$$\n",
    "\n",
    "Podemos comprobarlo, al aplicarlo sobre $\\Psi_1$, lo cambia a $\\Psi_3$\n",
    "\n",
    "$$\n",
    "\\Psi' = \\hat C \\Psi_1 = i \\gamma^2 u^*_1 \\, e^{-i ({\\bf p} \\cdot {\\bf x} - Et)} = v_1 e^{-i ({\\bf p} \\cdot {\\bf x} - Et)} = \\Psi_3\n",
    "$$\n",
    "\n",
    "Dado que: \n",
    "$$\n",
    "i \n",
    "\\begin{pmatrix} 0 & 0 & 0 & -i  \\\\ 0 & 0 & i & 0 \\\\ \n",
    "                0 & i & 0 & 0   \\\\ -i & 0 & 0 & 0  \\end{pmatrix}\n",
    "\\begin{pmatrix} 1 \\\\ 0 \\\\ \\frac{p_z}{E+m} \\\\ \\frac{p_x - i p_y}{E+m}\\end{pmatrix} = \n",
    "\\begin{pmatrix} \\frac{p_x - ip_y}{E+m} \\\\ \\frac{-p_z}{E+m} \\\\ 0 \\\\ 1 \\end{pmatrix}\n",
    "$$"
   ]
  },
  {
   "cell_type": "markdown",
   "metadata": {
    "slideshow": {
     "slide_type": "slide"
    }
   },
   "source": [
    "#### Operadores sobre los spinores de anti-partículas\n",
    "\n",
    "Recordemos que los operadores ${\\hat H} = i \\frac{\\partial}{\\partial t}, \\; {\\hat {\\bf p}} = - i \\nabla$. Al aplicarlos sobre las soluciones de las anti-partículas nos dan:\n",
    "\n",
    "$$\n",
    "\\hat{H} \\Psi = - E \\Psi, \\;\\; {\\bf \\hat p} \\Psi = - {\\bf p} \\Psi,\n",
    "$$\n",
    "\n",
    "que son las soluciones de energía negativa yendo hacia atrás en el tiempo.\n",
    "\n",
    "por lo que los operadores que dan las canditades *físicas* de las anti-partículas (denotados con superíndice $v$) deben ser:\n",
    "\n",
    "$${\\hat H}^v = - i \\frac{\\partial}{\\partial t}, \\; {\\hat {\\bf p}}^v = i \\nabla, \\; {\\hat S}^v = - {\\hat S}$$"
   ]
  },
  {
   "cell_type": "markdown",
   "metadata": {
    "slideshow": {
     "slide_type": "slide"
    }
   },
   "source": [
    "#### Factor de normalización\n",
    "\n",
    "Si normalizamos la densidad por unidad de volumen a $2E$. Obtenemos, por ejemplo para $\\Psi_1$:\n",
    "\n",
    "$$\n",
    "\\rho = \\Psi^\\dagger \\Psi = u_1^\\dagger u_1 =\n",
    "|N|^2 \\left(1 + \\frac{p_z^2}{(E+m)^2} + \\frac{p^2_x + p^2_y}{(E+m)^2} \\right) = |N|^2 \\frac{2E}{E+m}\n",
    "$$\n",
    "\n",
    "Obtenemos:\n",
    "$$\n",
    "N = \\sqrt{E + m}\n",
    "$$"
   ]
  },
  {
   "cell_type": "markdown",
   "metadata": {
    "slideshow": {
     "slide_type": "slide"
    }
   },
   "source": [
    "### Paridad\n",
    "\n",
    "La operación de paridad, ${\\hat P}$, cambia ${\\bf x} to -{\\bf x}$. \n",
    "\n",
    "Si exigimos que la función de onda transformada bajo paridad, $\\Psi' = \\hat{P} \\Psi$, satisfaga la ecuación de Dirac, y dado que ${\\hat P}^2 = I$, encontramos que: $\\hat{P} = \\pm \\gamma^0$.\n",
    "\n",
    "Definimos el operador paridad: \n",
    "$$\n",
    "\\hat{P} \\equiv \\gamma^0,\n",
    "$$\n",
    "\n",
    "de tal forma que las partículas tienen autoestad +1 bajo paridad y las anti-partículas negativo:\n",
    "\n",
    "$$\n",
    "\\hat{P} \\, u_i = \\gamma^0 u_i = + u_i, \\;\\; \\hat{P} \\, v_i = \\gamma^0 v_i = - v_i\n",
    "$$\n",
    "\n",
    "\n"
   ]
  },
  {
   "cell_type": "markdown",
   "metadata": {
    "slideshow": {
     "slide_type": "slide"
    }
   },
   "source": [
    "### Helicidad y Quiralidad\n",
    "\n",
    "#### Tercera componente de spin\n",
    "\n",
    "Los espinores en reposo, $u_i(m, 0), v_i(m, 0)$, con $i=1, 2$, son autoestados del operador spín, ${\\hat S}_z$.\n",
    "\n",
    "En ausencia de un campo magnético o un sistema de referencia externo, la dirección $z$ viene definida por la dirección del momento ${\\bf p} = p {\\hat k}$. \n",
    "\n",
    "En ese caso los espinores, $u_i(E, p \\hat{k}), v_i(E, p \\hat{k})$ también son autoestados del operador spín.\n",
    "\n",
    "$$\n",
    "u_1 = N \\begin{pmatrix} 1 \\\\ 0 \\\\ \\frac{p}{E+m} \\\\ 0 \\end{pmatrix}, \\;\n",
    "u_2 = N \\begin{pmatrix} 0 \\\\ 1 \\\\ 0 \\\\ \\frac{-p_z}{E+m} \\end{pmatrix}, \\;\n",
    "v_1 = N \\begin{pmatrix} 0 \\\\ \\frac{-p_z}{E+m} \\\\ 0 \\\\ 1 \\end{pmatrix}, \\;\n",
    "v_2 = N \\begin{pmatrix} \\frac{p_z}{E-m} \\\\ 0 \\\\ 1 \\\\ 0 \\end{pmatrix} \n",
    "$$\n",
    " \n",
    "se cumple:\n",
    "$$\n",
    "\\hat{S}_z u_i(E, p \\hat{k}) = \\pm \\frac{1}{2} u_i(E, p \\hat{k}), \\;\\;\\;\n",
    "\\hat{S}^v_z v_i(E, p \\hat{k}) = \\pm \\frac{1}{2} v_i(E, p \\hat{k}),\n",
    "$$\n",
    "\n",
    "donde los espinores con $i=1$ tiene autoestade $+1/2$ (up) y los de $i=2$, $-1/2$ (down)"
   ]
  },
  {
   "cell_type": "markdown",
   "metadata": {
    "slideshow": {
     "slide_type": "slide"
    }
   },
   "source": [
    "### Helicidad\n",
    "\n",
    "Definimos la helicidad como la proyección normalizada del spin sobre el momento:\n",
    "\n",
    "$$\n",
    "h \\equiv \\frac{{\\bf S} \\cdot {\\bf p}}{p}.\n",
    "$$\n",
    "\n",
    "Para un espinor de Dirac el operador de helicidad en la representación Pauli-Dirac:\n",
    "\n",
    "$$\n",
    "{\\hat h} = \\frac{{\\bf \\Sigma} \\cdot {\\hat {\\bf p}}}{ 2 p} = \\frac{1}{2p} \n",
    "\\begin{pmatrix} {\\bf \\sigma} \\cdot {\\bf {\\hat p}} & 0 \\\\ 0 & {\\bf \\sigma} \\cdot {\\bf {\\hat p}} \\end{pmatrix}\n",
    "$$\n",
    "\n",
    "Las interacciones se analizan en muchas ocasiones respecto a los espines de las partículas, y en ese caso la valided de los espinores $u_1, u_2, v_1, v_2$ es limitada.\n",
    "\n",
    "El operador spín no comunta con el hamiltoniano libre: $[{\\hat H}, {\\hat S}_z] \\neq 0$\n",
    "\n"
   ]
  },
  {
   "cell_type": "markdown",
   "metadata": {
    "slideshow": {
     "slide_type": "slide"
    }
   },
   "source": [
    "El operador spín, ${\\hat S}_z$ no comunta con el hamiltoniano libre: $[{\\hat H}, {\\hat S}_z] \\neq 0$ pero sí el operador helicidad: $[H, {\\hat h}] = 0 $\n",
    "\n",
    "Por lo tanto existen soluciones a la ecuación de Dirac que son también autoestados de helicidad.\n",
    "\n",
    "Si expresamos ${\\bf p} = p ( \\sin \\theta \\cos \\phi, \\sin \\theta \\sin \\phi, \\cos \\theta)$ en esféricas y $c = \\cos \\theta/2, \\, s = \\sin \\theta/2$. Esos espinores son:\n",
    "\n",
    "$$\n",
    "u_{+} = N \\begin{pmatrix} c \\\\ s e^{i\\theta} \\\\ \\frac{p}{E+m} c \\\\ \\frac{p}{E+m} s e^{i\\theta} \\end{pmatrix}, \\;\n",
    "u_{-} = N \\begin{pmatrix} -s \\\\ c e^{i\\theta} \\\\ \\frac{p}{E+m} s \\\\ -\\frac{p}{E+m} c e^{i\\theta}\\end{pmatrix}, \\;\n",
    "v_{+} = N \\begin{pmatrix} \\frac{p}{E+m} s \\\\ -\\frac{-p}{E+m} c e^{i\\theta}\\\\ -s \\\\ ce^{i\\theta} \\end{pmatrix}, \\;\n",
    "v_{-} = N \\begin{pmatrix} \\frac{p}{E+m} c \\\\ \\frac{p}{E+m} s e^{i\\theta}\\\\ c \\\\ s e^{i\\theta} \\end{pmatrix}. \n",
    "$$\n",
    "\n",
    "Donde $u_{+}, v_{+}$ son espinores de helicidad positiva (el espín va en la misma dirección que el momento) y $u_{-}, v_{-}$ negativa, esto es:\n",
    "\n",
    "$$\n",
    "{\\hat h} \\, u_{\\pm} = \\pm \\frac{1}{2} u_{\\pm}, \\;\\;\\; {\\hat h}^v \\, v_{\\pm} = \\mp \\frac{1}{2} v_{\\pm}\n",
    "$$\n",
    "\n",
    "@todo: check $v_{\\pm}$\n"
   ]
  },
  {
   "cell_type": "markdown",
   "metadata": {
    "slideshow": {
     "slide_type": "subslide"
    }
   },
   "source": [
    "El elemento:\n",
    "\n",
    "$$\n",
    "\\frac{{\\bf \\sigma} \\cdot {\\bf p}}{p} = \\begin{pmatrix} p_z & px - ipy \\\\ px+ipy & -pz \\end{pmatrix} = \n",
    "\\begin{pmatrix} \\cos\\theta & \\sin\\theta e^{-i\\phi} \\\\ \\sin\\theta e^{i\\phi} & -\\cos\\theta \\end{pmatrix}\n",
    "$$"
   ]
  },
  {
   "cell_type": "markdown",
   "metadata": {
    "slideshow": {
     "slide_type": "slide"
    }
   },
   "source": [
    "Las interacciones se analizan en muchas ocasiones respecto a los espines de las partículas, y en ese caso la valided de los espinores $u_1, u_2, v_1, v_2$ es limitada.\n",
    "\n",
    "El operador spín no conmunta con el hamiltoniano libre: $[{\\hat H}, {\\hat S}_z] \\neq 0$.\n",
    "\n",
    "**La helicidad no es un invariante Lorentz**, para una partícula siempre podemos encontrar un sistema de referencia (con una velocidad mayor) que revierta el momento y por lo tanto la helicidad!"
   ]
  },
  {
   "cell_type": "markdown",
   "metadata": {
    "slideshow": {
     "slide_type": "slide"
    }
   },
   "source": [
    "### Quiralidad\n",
    "\n",
    "La quiralidad corresponde a los autoestados del operador $\\gamma^5$. \n",
    "\n",
    "Podemos dar dos operadores de proyección de quiralidad a derechas, $P_R$, y a izquierdad, $P_L$:\n",
    "\n",
    "$$\n",
    "P_R = \\frac{1}{2} (I + \\gamma^5), \\;\\;\\, P_L = \\frac{1}{2} (I - \\gamma^5)\n",
    "$$\n",
    "\n",
    "cumples las condiciones de proyección:\n",
    "$$\n",
    "P_R + P_L = I, \\;\\; P^2_R = P_R, \\;\\;, P^2_L = P_L, \\;\\; P_L P_R = P_R P_L = 0\n",
    "$$\n",
    "\n",
    "De tal forma que los espinores se pueden descomponer en una parte de quiralidad a izquierdas y derechas:\n",
    "\n",
    "$$\n",
    "u = P_R u + P_L u, \\;\\; u_R = P_R u, \\;\\; u_L = P_L u\n",
    "$$\n",
    "\n"
   ]
  },
  {
   "cell_type": "markdown",
   "metadata": {
    "slideshow": {
     "slide_type": "slide"
    }
   },
   "source": [
    "Las proyecciones complen:\n",
    "\n",
    "$$\n",
    "P_R u_R = u_R, \\,\\, P_R u_L = 0, \\;\\; P_R v_R = 0, \\;\\; P_R v_L = v_L, \\\\\n",
    "P_L u_R = 0, \\,\\, P_L u_L = u_L, \\;\\; P_L v_R = v_L, \\;\\; P_L v_L = 0.\n",
    "$$\n",
    "\n",
    "Las siguientes corrientes entre las proyecciones de chiralidad son nulas:\n",
    "\n",
    "$$\n",
    "{\\bar u}_L \\gamma^\\mu u_R = {\\bar u}_R \\gamma^\\mu u_L = {\\bar v}_L \\gamma^\\mu u_R = {\\bar v}_R \\gamma^\\mu u_L = \n",
    "{\\bar v}_L \\gamma^\\mu v_R = {\\bar v}_R \\gamma^\\mu v_L = 0\n",
    "$$\n",
    "\n",
    "La quiralidad es fundamental en las interacciones débiles.\n",
    "\n",
    "En las corrientes cargadas intervendrán solamente los espinores a izquierdad de las partículas, $u_L$, y a derechas de las antipartículas, $u_R$."
   ]
  },
  {
   "cell_type": "markdown",
   "metadata": {
    "slideshow": {
     "slide_type": "slide"
    }
   },
   "source": [
    "Si aplicamos paridad a los espinores de quiralidad:\n",
    "    \n",
    "$$\n",
    "\\hat{P} \\, u_R = u_L, \\;\\; \\hat{P} \\, u_L = u_R \\\\\n",
    "\\hat{P} \\, v_R = v_L, \\;\\; \\hat{P} \\, v_L = v_R\n",
    "$$\n",
    " \n",
    "cambia su quiralidad de izquierdas a derechas y viceversa."
   ]
  },
  {
   "cell_type": "markdown",
   "metadata": {
    "slideshow": {
     "slide_type": "slide"
    }
   },
   "source": [
    "@CHECK\n",
    "\n",
    "Si aplicamos conjugación de carga sobre los espinores de quiralidad:\n",
    "\n",
    "$$\n",
    "\\hat{C} \\, u_R = v_L, \\;\\; \\hat{C} \\, u_L = v_R \\\\\n",
    "\\hat{C} \\, v_R = u_L, \\;\\; \\hat{C} \\, v_L = u_R\n",
    "$$\n",
    "cambia partícula por antipartícula, e izquierda por derecha."
   ]
  },
  {
   "cell_type": "markdown",
   "metadata": {
    "slideshow": {
     "slide_type": "slide"
    }
   },
   "source": [
    "### Relación entre helicidad y quiralidad\n",
    "\n",
    "Los espinores de helicidad para partículas sin masa, $m = 0$, o relativistas ($E >> m, \\, E = p$) son:\n",
    "\n",
    "$$\n",
    "u_{+} = N \\begin{pmatrix} c \\\\ s e^{i\\theta} \\\\ c \\\\  s e^{i\\theta} \\end{pmatrix}, \\;\n",
    "u_{-} = N \\begin{pmatrix} -s \\\\ c e^{i\\theta} \\\\ s \\\\ - c e^{i\\theta}\\end{pmatrix}, \\;\n",
    "v_{+} = N \\begin{pmatrix}  s \\\\ - c e^{i\\theta}\\\\ -s \\\\ ce^{i\\theta} \\end{pmatrix}, \\;\n",
    "v_{-} = N \\begin{pmatrix}  c \\\\ s e^{i\\theta}\\\\ c \\\\ s e^{i\\theta} \\end{pmatrix}. \n",
    "$$\n",
    "también sus proyecciones de quiralidad: \n",
    "\n",
    "$$\n",
    "u_R \\equiv  P_R u_{+} = u_{+} , \\;\\; u_L \\equiv P_R u_{-} = u_{-}, \\;\\;\n",
    "v_R \\equiv  P_R v_{+} = v_{+}, \\;\\; v_L \\equiv P_L v_{-} = v_{-} \n",
    "$$\n",
    "\n"
   ]
  },
  {
   "cell_type": "markdown",
   "metadata": {
    "slideshow": {
     "slide_type": "slide"
    }
   },
   "source": [
    "Si definimos:\n",
    "\n",
    "$$\n",
    "\\kappa = \\frac{p}{E+m}\n",
    "$$\n",
    "\n",
    "podemos expresar los espinores de helicidad en función de los de quiralidad:\n",
    "\n",
    "$$\n",
    "u_{+} \\propto \\frac{1}{2} (1 + \\kappa) \\, u_R + \\frac{1}{2} (1 - \\kappa) \\, u_L\n",
    "$$\n",
    "\n",
    "En el caso de $E >> m$ ($\\kappa \\to 1$), los espinores de helicidad positiva convergen a los de quiralidad positiva, y solo tiene una pequeña fracción $(1-\\kappa)/2$ de la quiralidad negativa. "
   ]
  },
  {
   "cell_type": "code",
   "execution_count": null,
   "metadata": {},
   "outputs": [],
   "source": []
  }
 ],
 "metadata": {
  "anaconda-cloud": {},
  "celltoolbar": "Slideshow",
  "kernelspec": {
   "display_name": "Python 3",
   "language": "python",
   "name": "python3"
  },
  "language_info": {
   "codemirror_mode": {
    "name": "ipython",
    "version": 3
   },
   "file_extension": ".py",
   "mimetype": "text/x-python",
   "name": "python",
   "nbconvert_exporter": "python",
   "pygments_lexer": "ipython3",
   "version": "3.9.13"
  }
 },
 "nbformat": 4,
 "nbformat_minor": 4
}