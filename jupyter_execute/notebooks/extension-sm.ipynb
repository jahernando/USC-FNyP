{
 "cells": [
  {
   "cell_type": "markdown",
   "metadata": {
    "slideshow": {
     "slide_type": "slide"
    }
   },
   "source": [
    "# Introducción a Física de Partículas\n",
    "\n",
    "\n",
    "## Extensión -  Modelo Estandard\n",
    "\n",
    "\n",
    "Jose A. Hernando\n",
    "\n",
    "*Departamento de Física de Partículas. Universidade de Santiago de Compostela*\n",
    "\n",
    "Noviembre 2021\n"
   ]
  },
  {
   "cell_type": "code",
   "execution_count": 1,
   "metadata": {
    "slideshow": {
     "slide_type": "fragment"
    }
   },
   "outputs": [
    {
     "name": "stdout",
     "output_type": "stream",
     "text": [
      " Last version  Mon Nov 20 13:06:20 2023\n"
     ]
    }
   ],
   "source": [
    "import time\n",
    "print(' Last version ', time.asctime() )"
   ]
  },
  {
   "cell_type": "code",
   "execution_count": 2,
   "metadata": {},
   "outputs": [],
   "source": [
    "# general imports\n",
    "%matplotlib inline\n",
    "%reload_ext autoreload\n",
    "%autoreload 2\n",
    "\n",
    "# numpy and matplotlib\n",
    "import numpy as np\n",
    "import matplotlib\n",
    "import matplotlib.pyplot as plt\n",
    "\n",
    "import scipy.constants as units"
   ]
  },
  {
   "cell_type": "markdown",
   "metadata": {
    "slideshow": {
     "slide_type": "slide"
    }
   },
   "source": [
    "### Objetivos\n",
    "  \n",
    "Conocer:\n",
    "  \n",
    "  * El lagrangiano para campos escalares, fermiónicos y vectoriales.\n",
    "  \n",
    "  * La invariance Gauge\n",
    "  \n",
    "  * La unificación electro-débil\n",
    "  \n",
    "  * El mecanismo de Higgs y la dotación de masas a los bosones vectoriales débiles y los fermiones\n",
    "  "
   ]
  },
  {
   "cell_type": "markdown",
   "metadata": {
    "slideshow": {
     "slide_type": "slide"
    }
   },
   "source": [
    "## Índice\n",
    "\n",
    "  * Lagrangiano y simetrías gauge\n",
    "  \n",
    "  * Simetrías del SM \n",
    "  \n",
    "  * Mecanismo de Higgs "
   ]
  },
  {
   "cell_type": "markdown",
   "metadata": {
    "slideshow": {
     "slide_type": "slide"
    }
   },
   "source": [
    "## El Lagrangiado del SM\n",
    "\n",
    "### De la Física Clásica a la Teoría Cuántica de Campos\n",
    "\n",
    "La dinámica de un sistema en Física Clásica queda determinada por el lagrangiano: \n",
    "\n",
    "$$\n",
    "L(q, \\dot{q}) = T -V\n",
    "$$\n",
    "\n",
    "que depende de las coordenadas generalizadas $q_i$, con $i=1, \\dots, n$ y sus derivadas temporales $\\dot{q}$\n",
    "\n",
    "las ecuaciones del movimiento viene dadas por las escuaciones de Euler-Lagrange:\n",
    "\n",
    "$$\n",
    "\\frac{\\mathrm{d}}{\\mathrm{dt}} \\left( \\frac{\\partial L}{\\partial \\dot{q}_i}\\right) = \\frac{\\partial L}{\\partial q_i}\n",
    "$$"
   ]
  },
  {
   "cell_type": "markdown",
   "metadata": {
    "slideshow": {
     "slide_type": "subslide"
    }
   },
   "source": [
    "En el caso de una partícula en un potencial, el lagrangiano es su energía cinética menos su potencial:\n",
    "\n",
    "$$\n",
    "L = \\frac{1}{2} m \\dot{x}^2 - V(x) \n",
    "$$\n",
    "\n",
    "las ecuaciones del movimiento dan:\n",
    "$$\n",
    "m \\ddot{x} = -\\frac{\\partial V(x)}{\\partial x}\n",
    "$$\n",
    "\n",
    "que es la ecuación de Newton."
   ]
  },
  {
   "cell_type": "markdown",
   "metadata": {
    "slideshow": {
     "slide_type": "slide"
    }
   },
   "source": [
    "En teoría cuántica de campos, TCC, introducimos campo $\\phi(x)$ definido en el espacio $x$ con un lagrangiano:\n",
    "\n",
    "$$\n",
    "L = \\int \\mathcal{L}(\\phi, \\partial_\\mu \\phi) \\, \\mathrm{d}^3x \n",
    "$$\n",
    "\n",
    "donde $\\mathcal{L}$ es la densidad lagrangiana, o por abuso del lenguaje, el lagrangiano.\n",
    "\n",
    "La ecuaciones del movimiento son:\n",
    "\n",
    "$$\n",
    "\\partial_\\mu \\left( \\frac{\\partial \\mathcal{L}}{\\partial (\\partial_\\mu \\phi)}\\right) = \\frac{\\partial \\mathcal{L}}{\\partial \\phi}\n",
    "$$\n",
    "\n",
    "En TCC entendemos las partículas como excitaciones del campo $\\phi$."
   ]
  },
  {
   "cell_type": "markdown",
   "metadata": {
    "slideshow": {
     "slide_type": "slide"
    }
   },
   "source": [
    "### Lagrangiano del campo escalar\n",
    "\n",
    "Sea $\\phi(x)$ un campo escalar asociado a partículas de masa $m$ su lagrangiano viene dado por:\n",
    "\n",
    "$$\n",
    "\\mathcal{L}(\\phi) = \\frac{1}{2} (\\partial_\\mu \\phi) \\, (\\partial^\\mu \\phi) - \\frac{1}{2} m^2 \\phi^2\n",
    "$$\n",
    "\n",
    "Y su ecuación de movimiento:\n",
    "\n",
    "$$\n",
    "\\partial_\\mu \\partial^\\mu \\phi + m^2 \\phi = 0\n",
    "$$\n",
    "\n",
    "Es la ecuación Klein-Gordon"
   ]
  },
  {
   "cell_type": "markdown",
   "metadata": {},
   "source": [
    "### Lagrangiano del los fermiones (espín 1/2)\n",
    "\n",
    "Sea $\\Psi$ un campo espinorial de Dirac, su langrangiano es:\n",
    "\n",
    "$$\n",
    "\\mathcal{L}(\\Psi) = i \\bar{\\Psi} \\gamma^\\mu \\partial_\\mu \\Psi - m \\bar{\\Psi} \\Psi\n",
    "$$\n",
    "\n",
    "Donde:\n",
    "$$\n",
    "\\Psi = \\begin{pmatrix} \\psi_1 \\\\ \\psi_2 \\\\ \\psi_3 \\\\ \\psi_4\\end{pmatrix},\n",
    "$$\n",
    "\n",
    "cada $\\psi_i$ con $i=1, \\dots, 4$ es un campo complejo. Y las $\\gamma$'s son matrices complejas $4 \\times 4$, con reglas de conmutación determinadas (ver [apendice-Dirac])\n"
   ]
  },
  {
   "cell_type": "markdown",
   "metadata": {
    "slideshow": {
     "slide_type": "slide"
    }
   },
   "source": [
    "La ecuación del Euler-Lagrange con respecto a $\\bar{\\Psi}$ nos da:\n",
    "\n",
    "$$\n",
    "(i \\gamma^\\mu \\partial_\\mu - m)  \\, \\Psi = 0 \n",
    "$$\n",
    "\n",
    "que es la ecuación de Dirac"
   ]
  },
  {
   "cell_type": "markdown",
   "metadata": {
    "slideshow": {
     "slide_type": "slide"
    }
   },
   "source": [
    "### Lagrangiano del campo vectorial\n",
    "\n",
    "Sea el campo vectorial $A^\\mu(x)$, por ejemplo electromagnético, $A^\\mu = (\\phi, {\\bf A})$, donde $\\Phi$ es el potencial eléctrico y ${\\bf A}$ el potencial vector magnético.\n",
    "\n",
    "El tensor de fuerza es:\n",
    "\n",
    "$$\n",
    "F^{\\mu \\nu} = \\partial^\\mu A^\\nu - \\partial^\\nu A^\\mu\n",
    "$$\n",
    "\n",
    "y la corriente $j^\\mu = (\\rho, {\\bf j})$, donde $\\rho$ es la densidad eléctrica y ${\\bf j}$ la corriente eléctrica.\n",
    "\n",
    "La ecuación del movimiento:\n",
    "\n",
    "$$\n",
    "\\partial_\\mu F^{\\mu\\nu} = j^\\nu\n",
    "$$\n",
    "\n",
    "nos da las ecuaciones de Maxwell."
   ]
  },
  {
   "cell_type": "markdown",
   "metadata": {
    "slideshow": {
     "slide_type": "slide"
    }
   },
   "source": [
    "La ecuación se obtiene del lagrangiano:\n",
    "\n",
    "$$\n",
    "\\mathcal{L}(A) = - \\frac{1}{4} F_{\\mu\\nu} F^{\\mu\\nu} - j^\\mu A_\\mu\n",
    "$$\n",
    "\n",
    "donde el término $j^\\mu A_\\mu$ representa la interacción de una corriente eléctroca con el foton.\n",
    "\n",
    "Para el fotón aislado:\n",
    "\n",
    "$$\n",
    "\\mathcal{L}(A) = - \\frac{1}{4} F_{\\mu\\nu} F^{\\mu\\nu}\n",
    "$$\n",
    "\n",
    "Y para un fotón masivo, con masa, $m_A$:\n",
    "\n",
    "$$\n",
    "\\mathcal{L}(A) = - \\frac{1}{4}  F_{\\mu\\nu} F^{\\mu\\nu} + \\frac{1}{4} m_A^2 A^\\mu A_\\mu\n",
    "$$\n",
    "\n",
    "que se conoce como lagrangiano de Proca.\n"
   ]
  },
  {
   "cell_type": "markdown",
   "metadata": {
    "slideshow": {
     "slide_type": "slide"
    }
   },
   "source": [
    "## Simetría gauge\n",
    "\n",
    "### QED\n",
    "\n",
    "El lagrangiano de un fermión es invariante respecto a una tranformación global de U(1), esto es respecto una fase global, $q\\theta$:\n",
    "\n",
    "$$\n",
    "\\Psi(x) \\to \\Psi'(x) = e^{iq\\theta} \\Psi(x)\n",
    "$$\n",
    "\n",
    "donde $q$ es el valor de la carga conservada asociada al campo y la simetría conservada.\n",
    "\n",
    "que es inmediato de comprobar, dado que $\\bar{\\Psi'} = \\bar{\\Psi} \\, e^{-i\\theta}$\n"
   ]
  },
  {
   "cell_type": "markdown",
   "metadata": {
    "slideshow": {
     "slide_type": "slide"
    }
   },
   "source": [
    "\n",
    "Llamamos **invariancia gauge local** si el lagrangiano es invariante bajo una tranformación local de un grupo de simetría.\n",
    "\n",
    "En el caso del campo del fermion, sea una tranformación local bajo el grupo $U(1)$\n",
    "\n",
    "$$\n",
    "\\Psi(x) \\to \\Psi'(x) = e^{i q \\theta(x)} \\Psi\n",
    "$$\n",
    "\n",
    "donde $\\theta(x)$ depende ahora del punto local $x$, y $q$ en el caso del electromagnetismo es el acoplo electromagnético, en este caso la carga eléctrica del fermión, por ejemplo $-e$ para el electrón.\n",
    "\n",
    "El lagrangiano bajo esta tranformación queda:\n",
    "\n",
    "$$\n",
    "\\mathcal{L'}(\\Psi') = i \\bar{\\Psi} \\gamma^\\mu \\partial_\\mu \\Psi - m \\bar{\\Psi} \\Psi - q \\bar{\\Psi} \\gamma^\\mu \\Psi (\\partial_\\mu \\theta)\n",
    "$$\n"
   ]
  },
  {
   "cell_type": "markdown",
   "metadata": {
    "slideshow": {
     "slide_type": "slide"
    }
   },
   "source": [
    "El siguiente término rompe la invariancia:\n",
    "\n",
    "$$\n",
    "- q \\bar{\\Psi} \\gamma^\\mu \\Psi \\, (\\partial_\\mu \\theta(x))\n",
    "$$\n",
    "\n",
    "que interpretamos como el acoplo de una corriente $j^\\mu = q \\bar{\\Psi} \\gamma^\\mu \\Psi$, la electromagnética, con un campo vectorial $A_\\mu = \\partial_\\mu \\theta(x)$:\n",
    "\n",
    "$$\n",
    " - j^\\mu \\, A_{\\mu}\n",
    "$$\n",
    "\n",
    "Si consideramos el lagrangiano donde hemos añadido el término del campo vectorial:\n",
    "\n",
    "$$\n",
    "\\mathcal{L}_{EL}(\\Psi, A) = i \\bar{\\Psi} \\gamma^\\mu \\partial_\\mu \\Psi - m \\bar{\\Psi}\\Psi -  j^\\mu  A_\\mu - \\frac{1}{4} F^{\\mu\\nu}F_{\\mu\\nu}\n",
    "$$\n",
    "\n",
    "Este es el lagrangiano del electromagnetico si $q$ es la carga eléctrica.\n"
   ]
  },
  {
   "cell_type": "markdown",
   "metadata": {
    "slideshow": {
     "slide_type": "slide"
    }
   },
   "source": [
    "El lagrangiano del EM es ahora invariante bajo la tranformación gauge local de U(1) del campo del fermión, $\\Psi(x)$, si el campo vectorial, $A^\\mu(x)$, cambia de forma acorde:\n",
    "\n",
    "$$\n",
    "\\Psi'(x) = e^{iq \\theta(x)} \\Psi(x), \\;\\;\\; A'_\\mu(x) = A_\\mu(x) - \\partial_\\mu \\theta(x)\n",
    "$$\n",
    "\n",
    "que se puede expresar más elegantemente sustituyendo:\n",
    "\n",
    "$$\n",
    "\\partial_\\mu \\to D_\\mu = \\partial_\\mu + i q A_\\mu\n",
    "$$\n",
    "\n",
    "$D_\\mu$ se denomina **derivada covariante generalizada**.\n",
    "\n",
    "El Lagrangiano del electromagnetismo, que describe el fermión, el fotón y su interacción, queda:\n",
    "\n",
    "$$\n",
    "\\mathcal{L}_{EM}(\\Psi, A) = i \\bar{\\Psi} \\gamma^\\mu D_\\mu \\Psi - m \\bar{\\Psi}\\Psi - \\frac{1}{4} F^{\\mu\\nu}F_{\\mu\\nu}\n",
    "$$\n"
   ]
  },
  {
   "cell_type": "markdown",
   "metadata": {
    "slideshow": {
     "slide_type": "slide"
    }
   },
   "source": [
    "#### No invariancia del término de masas del bosón\n",
    "\n",
    "Sin embargo el término de masas del bosón vectorial $A$, no es invariante gauge:\n",
    "\n",
    "$$\n",
    "\\frac{1}{4} m_A^2 A'^\\mu A'_\\mu  = \\frac{1}{4}m_A^2 (A^\\mu - \\partial^\\mu \\theta) \\, (A_\\mu - \\partial_\\mu \\theta)\n",
    "$$\n",
    "\n",
    "por eso decimos que los terminos de masa de los bosones vectoriales rompen la simetría gauge."
   ]
  },
  {
   "cell_type": "markdown",
   "metadata": {
    "slideshow": {
     "slide_type": "slide"
    }
   },
   "source": [
    "### Clase acelerada sobre el Higgs en el SM:\n",
    "\n",
    "| | | | |\n",
    "| :--: |:--: | :--: | :--: |\n",
    "| ----- Tipo ----- | --------------- Escalar ---------------- | ---------- Espinor ------------ | ------ Bosón vectorial ---------- |\n",
    "| | Klein-Gordon | Dirac | Maxwell |\n",
    "|Ecuación | $(\\partial^\\mu\\partial_\\mu + m^2) \\, \\phi = 0$ | $(i\\gamma^\\mu \\partial_\\mu - m) \\, \\Psi = 0$ | $\\partial_\\mu F^{\\mu\\nu} = j^\\nu$ |\n",
    "|Lagrangiano| $\\frac{1}{2} (D_\\mu \\phi)^\\dagger (D^\\mu \\phi) - \\frac{1}{2} m^2 \\phi^\\dagger \\phi$ | $i\\bar{\\Psi}\\gamma^\\mu D_\\mu \\Psi - m \\bar{\\Psi}\\Psi$|  $-\\frac{1}{4}F^{\\mu\\nu}F_{\\mu\\nu} \\left[- \\frac{1}{4} m^2 A_\\mu A^\\mu \\right]$|\n",
    "\n",
    "Donde:\n",
    "\n",
    "$$\n",
    "D_\\mu = \\partial_\\mu + i g A_\\mu, \\;\\;\\; F^{\\mu\\nu} = \\partial^\\mu A^\\nu - \\partial^\\nu A^\\mu\n",
    "$$\n",
    "\n",
    "siendo $g$ una constante de acoplo, por ejemplo $g=e$, y si $A_\\mu$, el fotón, obtenemos el electromagnetismo."
   ]
  },
  {
   "cell_type": "markdown",
   "metadata": {
    "slideshow": {
     "slide_type": "slide"
    }
   },
   "source": [
    "El Lagrangiano de espinores y bosones vectoriales:\n",
    "\n",
    "$$\n",
    "i \\bar{\\Psi} \\gamma^\\mu D_\\mu \\Psi - m \\bar{\\Psi} \\Psi - \\frac{1}{4} F^{\\mu\\nu}F_{\\mu\\nu}\n",
    "$$\n",
    "\n",
    "Es invariante bajo la simetría gauge local, dada por $\\theta(x)$:\n",
    "    \n",
    "$$\n",
    "\\Psi'(x) = e^{i g \\theta(x)} \\, \\Psi(x), \\;\\;\\; A'_\\mu(x) = A_\\mu(x) -i\\partial_\\mu \\theta(x)\n",
    "$$ \n",
    "\n",
    "Pero no el término de masas del bosón vectorial:\n",
    "\n",
    "$$\n",
    "\\frac{1}{2} m_A^2 A'^\\mu A'_\\mu  = \\frac{1}{2}m_A^2 (A^\\mu - \\partial^\\mu \\theta) \\, (A_\\mu - \\partial_\\mu \\theta)\n",
    "$$"
   ]
  },
  {
   "cell_type": "markdown",
   "metadata": {
    "slideshow": {
     "slide_type": "slide"
    }
   },
   "source": [
    "Notar que nos en lagrangiano aparece el término:\n",
    "    \n",
    "$$\n",
    "i \\bar{\\Psi} \\gamma^\\mu D_\\mu \\Psi = \\dots + (i g \\bar{\\Psi} \\gamma^\\mu \\Psi) \\, A_\\mu  \n",
    "$$\n",
    "\n",
    "que es el acoplo de una corriente fermiónica con un acoplo $g = e$ al fotón que interpretamos como el vértice:\n",
    "\n",
    "$$\n",
    "e \\bar{\\Psi} \\gamma^\\mu \\Psi \\, A_\\mu = j^\\mu_{EL} \\, A_\\mu\n",
    "$$"
   ]
  },
  {
   "cell_type": "markdown",
   "metadata": {
    "slideshow": {
     "slide_type": "slide"
    }
   },
   "source": [
    "### ¿Cómo el higgs da masa a fermiones y bosones?\n",
    "\n",
    "Consideremos un campo complejo escalar particular, con un valor $v$ en el **vacío**:\n",
    "\n",
    "$$\n",
    "\\phi(x) = \\frac{1}{\\sqrt{2}}\\left(v + h(x)\\right) \n",
    "$$\n",
    "\n",
    "Consideremos primero los fermiones:\n",
    "\n",
    "La posible interacción en el lagrangiano entre fermiones y este campo, controlada por un acoplo (llamado de **Yukawa**), $\\lambda$\n",
    "\n",
    "$$\n",
    "-\\lambda \\bar{\\Psi} \\Psi \\, \\phi = -\\frac{\\lambda v}{\\sqrt{2}} \\bar{\\Psi} \\Psi - \\frac{\\lambda}{\\sqrt{2}} \\bar{\\Psi} \\, \\Psi h(x)\n",
    "$$"
   ]
  },
  {
   "cell_type": "markdown",
   "metadata": {
    "slideshow": {
     "slide_type": "slide"
    }
   },
   "source": [
    "El primero nos da la masa del fermión:\n",
    "\n",
    "$$\n",
    "m= \\frac{\\lambda v}{\\sqrt{2}}\n",
    "$$\n",
    "\n",
    "Y el segundo la interacción (la desintegración por ejemplo) del Higgs a un par fermión, anti-fermión"
   ]
  },
  {
   "cell_type": "markdown",
   "metadata": {
    "slideshow": {
     "slide_type": "slide"
    }
   },
   "source": [
    "Veamos como el mecanismo dota de masa a los bosones:\n",
    "\n",
    "La deriviada covariante es:\n",
    "$$\n",
    "D_\\mu \\phi = (\\partial_\\mu + i g A_\\mu) \\frac{1}{\\sqrt{2}} \\left( v + h(x) \\right)  = \\frac{1}{\\sqrt{2}} \\left(\\partial_\\mu h(x) + ig v \\, A_\\mu + i g h(x) A_\\mu \\right)\n",
    "$$\n",
    "\n",
    "Con lo que en el término del lagrangiano aparecen, entre otros, los términos:\n",
    "\n",
    "$$\n",
    "\\frac{1}{4}(D^\\mu \\phi)^*(D_\\mu \\phi) = \\dots + \\frac{1}{4} \\frac{q^2 v^2}{2} A^\\mu A_\\mu + \n",
    "$$\n"
   ]
  },
  {
   "cell_type": "markdown",
   "metadata": {
    "slideshow": {
     "slide_type": "slide"
    }
   },
   "source": [
    "El primero es el término de masas del bosón vectorial:\n",
    "\n",
    "$$\n",
    "m_A = \\frac{g v}{\\sqrt{2}}\n",
    "$$\n",
    "\n",
    "Y el segundo la interacción del higgs con un par de bosones vectoriales:\n"
   ]
  },
  {
   "cell_type": "markdown",
   "metadata": {
    "slideshow": {
     "slide_type": "slide"
    }
   },
   "source": [
    "Un simil útil es considerar que el valor esperado en el vacío del campo de Higgs hace que el vacío sea en realidad una \"pradera cubierta de nieve\", y que las partículas cuando se deslizan sobre ella lo hacen con una inercia (masa) que depende de $\\lambda$."
   ]
  },
  {
   "cell_type": "markdown",
   "metadata": {},
   "source": [
    "### ¿Cómo aparece el campo de higgs?\n",
    "\n",
    "¿Cómo aparece un campo que tenga un valor en el vacío?\n",
    "\n",
    "No sabemos por qué, pero se puede obtener si consideramos que un campo escalar $\\phi(x)$ interacciona consigo mismo con un determinado potencial, que se llama, del sombrero mexicano:\n",
    "$$\n",
    "V(\\phi) = \\frac{\\mu^2}{2} (\\phi^\\dagger \\phi) + \\frac{\\lambda}{4} (\\phi^\\dagger \\phi)^2\n",
    "$$\n",
    "\n",
    "y desarrollando el campo escalar alrededor del mínimo, $v$, del potencial.\n",
    "\n",
    "$$\n",
    "\\phi(x) = \\frac{1}{\\sqrt{v}} \\left( v + h(x)\\right)\n",
    "$$"
   ]
  },
  {
   "cell_type": "markdown",
   "metadata": {
    "slideshow": {
     "slide_type": "slide"
    }
   },
   "source": [
    "Las siguientes figuras muestran el potencial del sombrero mexicano para el caso $\\mu^2>0, \\mu^2<0$ para un campo escalar real $\\phi(x)$"
   ]
  },
  {
   "cell_type": "code",
   "execution_count": 3,
   "metadata": {
    "slideshow": {
     "slide_type": "fragment"
    }
   },
   "outputs": [
    {
     "data": {
      "image/png": "[encoded data removed]",
      "text/plain": [
       "<Figure size 640x480 with 2 Axes>"
      ]
     },
     "metadata": {
      "filenames": {
       "image/png": "/Users/hernando/work/docencia/grado/Fisica_Nuclear_y_de_Partículas/USC-FNyP/_build/jupyter_execute/notebooks/extension-sm_28_0.png"
      }
     },
     "output_type": "display_data"
    }
   ],
   "source": [
    "higgs_potential = lambda phi, mu, xlambda : ((mu**2).real * phi**2)/2 + (xlambda/4) * (phi**2)**2\n",
    "phis = np.linspace(-10, 10, 100)\n",
    "mu  = 6; xlambda = 1\n",
    "plt.subplot(1, 2, 1); plt.plot(phis, higgs_potential(phis, mu, xlambda));\n",
    "plt.subplot(1, 2, 2); plt.plot(phis, higgs_potential(phis, mu*(1j), xlambda));"
   ]
  },
  {
   "cell_type": "markdown",
   "metadata": {
    "slideshow": {
     "slide_type": "slide"
    }
   },
   "source": [
    "El el caso $\\mu^2 >0$ el potencial tiene un mínimo en $v = 0$\n",
    "\n",
    "Mientras que el caso $\\mu^2 <0$ tiene mínimos en:\n",
    "\n",
    "$$\n",
    "v = \\pm  \\sqrt{\\frac{-\\mu^2}{\\lambda}}\n",
    "$$\n",
    "\n",
    "a $v$ denomina **valor esperado en el vacío** (*vev*).\n",
    "\n"
   ]
  },
  {
   "cell_type": "markdown",
   "metadata": {
    "slideshow": {
     "slide_type": "slide"
    }
   },
   "source": [
    "Si consideramos un campo escalar complejo, obtenemos el potencial del sobrero\n",
    "\n",
    "En el caso de que $\\phi$ sea un complejo obtenemos la curva del potencial conocida como sobrero mexicano:\n",
    "\n",
    "| | \n",
    "| :--: |\n",
    "|  <img src=\"./imgs/sm_mexican_hat.png\" width = 300 align=\"center\"> |\n",
    "| potencial del campo complejo de Higgs $V(\\phi)$ [Wikipedia]|\n",
    "\n",
    "\n",
    "La elección de un mínimo de los infinitos se conoce como **rotura espontánea de simetría**"
   ]
  },
  {
   "cell_type": "markdown",
   "metadata": {
    "slideshow": {
     "slide_type": "slide"
    }
   },
   "source": [
    "Para dotar de masa a los bosones $W^\\pm, Z$ tendríamos que extender este mecanismo a las interacciones eletro-débiles.\n",
    "\n",
    "Pero aún así quedan dudas por responder:\n",
    "\n",
    "  * ¿Por qué esa interacción del campo de higgs consigo mismo¿ ¿Por qué el potencial del sobrero mexicano?\n",
    "  \n",
    "  * ¿Es el Higgs fundamental?"
   ]
  },
  {
   "cell_type": "markdown",
   "metadata": {},
   "source": [
    "\n",
    "## La teoría electrodébil en detalle\n",
    "\n",
    "El Modelo Estandard se desarrolló en los 60's por A. Salam, S. Weinberg y S. Glashow.\n",
    "\n",
    "Establece la unificación de las fuerzas débil y electromagnética en la fuerza electrodébil.\n",
    "\n",
    "El modelo incluye para ser coherente las fuerzas electrodébil y fuerte.\n",
    "\n",
    "Está basado en toerías gauge locales."
   ]
  },
  {
   "cell_type": "markdown",
   "metadata": {
    "slideshow": {
     "slide_type": "slide"
    }
   },
   "source": [
    "El SM establece la invariancia respecto a U(1)$_Y$ SU(2)$_L$ SU(3)$_C$\n",
    "\n",
    "Donde $Y$ es la hipercarga débil, $L$ es la quiralidad de los fermiones, y $C$ el color. El SM introduce para el grupo SU(2)$_L$ el isoespín débil, $I_W$. \n",
    "\n",
    "Consideraremos aquí solo la teoría electro-débil, sin el color, pero el tratamiento para éste es similar. \n",
    "\n",
    "Cada fermión tendrá asociada una carga de hypercarga, $Y$, e isospín débil, $I_w$."
   ]
  },
  {
   "cell_type": "markdown",
   "metadata": {
    "slideshow": {
     "slide_type": "slide"
    }
   },
   "source": [
    "### Hypercarga e isoespín débil.\n",
    "\n",
    "El SM organiza las partículas dependiendo de su quiralidad.\n",
    "\n",
    "Recordemos que todo espinor de Dirac se puede descomponer en parte a izquierdad y derechas de quiralidad.\n",
    "\n",
    "Cada generación se agrupa en un duplete a izquierdad para leptones, esto es $I_W = 1/2$, y quarks y singletes a derechas, $I_W = 0$:\n",
    "\n",
    "$$\n",
    "\\begin{pmatrix} \\nu_{eL} \\\\ e_L \\end{pmatrix}, \\, e_R; \\;\\;\\;  \n",
    "\\begin{pmatrix} u_L \\\\ d'_L \\end{pmatrix}, \\, u_R, d'_r. \n",
    "$$\n",
    "\n",
    "De igual forma para las otras dos generaciones.\n",
    "\n",
    "¡Notar que no existe el siglete a derechas para los neutrinos!"
   ]
  },
  {
   "cell_type": "markdown",
   "metadata": {
    "slideshow": {
     "slide_type": "slide"
    }
   },
   "source": [
    "Los dupletes tienen tercera componente de isoespín débil, $I^3_W$:\n",
    "\n",
    "$$\n",
    "I^3_W(\\nu_{eL}) = 1/2, \\;\\; I^3_W(e_L) = -1/2; \\\\\n",
    "I^3_W(u_L) = 1/2, \\;\\; I^3_W(d'_L) = -1/2 \n",
    "$$\n",
    "\n",
    "Por ejemplo, para el $\\nu_e$:\n",
    "\n",
    "$$\n",
    "\\frac{1}{2}\\sigma ^2 \\begin{pmatrix} \\nu_{eL} \\\\ 0 \\end{pmatrix} = \\frac{1}{2} \n",
    "\\begin{pmatrix} 1 & 0 \\\\ 0  & -1 \\end{pmatrix}\n",
    "\\begin{pmatrix} \\nu_{eL} \\\\ 0 \\end{pmatrix} = \n",
    "+ \\frac{1}{2} \\begin{pmatrix} \\nu_{eL} \\\\ 0 \\end{pmatrix}\n",
    "$$\n",
    "\n",
    "Mientras que los singletes no tienen tercera componente de isoespín débil:\n",
    "\n",
    "$$\n",
    "I^3_W (e_R) = I^3_W(u_R) = I^3_W(d'_R) = 0\n",
    "$$"
   ]
  },
  {
   "cell_type": "markdown",
   "metadata": {
    "slideshow": {
     "slide_type": "slide"
    }
   },
   "source": [
    "Definimos al hypercarga débil, $Y_W$, como:\n",
    "    \n",
    "$$\n",
    "Y_W \\equiv 2 (Q - I^3_W)\n",
    "$$\n",
    "\n",
    "Lo que nos da\n",
    "\n",
    "$$\n",
    "Y_W(\\nu_{eL}) = -1, \\;\\; Y_W(e_L) = -1; \\\\\n",
    "Y_W(u_L) = 1/2, \\;\\; I^3_W(d'_L) = -1/2 \n",
    "$$\n"
   ]
  },
  {
   "cell_type": "markdown",
   "metadata": {
    "slideshow": {
     "slide_type": "slide"
    }
   },
   "source": [
    "### Interacciones débiles y electromagnéticas\n",
    "\n",
    "\n",
    "El campo del fermión debe ser invariante bajo transformaciones locales\n",
    "\n",
    "   * una fase local, $\\theta(x)$, del grupo U(1), relacionada con la hypercarga débil $Y$, cuyo acoplo denotamos por $g_Y$,\n",
    "   \n",
    "   * una triple fase local, $\\alpha(x)_i$ con $i=1, 2, 3$ del grupo SU(2), asociada al isosespín débil SU(2)$_L$, cuyo acoplo es $g_W$.\n",
    "\n",
    "$$\n",
    "\\Psi'(x) = e^{ig' \\frac{\\theta(x)}{2}} \\, e^{ig \\bf{T} \\cdot {\\bf \\alpha}(x)} \\,\\, \\Psi(x)\n",
    "$$\n",
    "\n",
    "donde ${\\bf T}$ son los generadores de SU(2), esto es la matrices de Pauli, $T_i = \\frac{\\sigma_i}{2}$ con $i=1, 2, 3$. \n",
    "\n",
    "El factor $1/2$ en el primer exponente es por conveniencia."
   ]
  },
  {
   "cell_type": "markdown",
   "metadata": {
    "slideshow": {
     "slide_type": "slide"
    }
   },
   "source": [
    "\n",
    "Imponer invariance gauge en este grupo equivale a extender la derivada covariante generalizada:\n",
    "\n",
    "$$\n",
    "D_\\mu \\equiv \\partial_\\mu - \\frac{g'}{2} B_\\mu - g \\frac{\\sigma}{2} \\cdot {\\bf W}_\\mu\n",
    "$$\n",
    "\n",
    "Donde:\n",
    "\n",
    "  * $B_\\mu$ es el campo vectorial asociado al grupo U(1)\n",
    "\n",
    "  * ${\\bf W}_\\mu$ son tres campos vectoriales, $W^i_\\mu$, con $i=1, 2, 3$, asociados al grupo SU(2)"
   ]
  },
  {
   "cell_type": "markdown",
   "metadata": {
    "slideshow": {
     "slide_type": "subslide"
    }
   },
   "source": [
    "### Inciso\n",
    "\n",
    "La siguiente tabla muestra los generadores, los campos y el acoplo de los grupos de simetría de SM. \n",
    "\n",
    "\n",
    "\n",
    "|      |   hypercarga débil   | ---- isoespín débil ---- |   ----- color  ----- |\n",
    "| :--: | :--:                 | :--:           | :--:     |\n",
    "| grupo| U$_Y$(1) | SU(2)$_L$ | SU(3) |\n",
    "| generadores | $\\frac{1}{2}$ | $T^i = \\frac{1}{2} \\sigma^i$ | $\\frac{1}{2}\\lambda^j$ |\n",
    "| mediadores | $B_\\mu$ | $W^i_\\mu$| $a^j_\\mu$ |\n",
    "| acoplos    | $g'$ | $g$| $g_S$ |\n",
    "\n",
    "donde $\\sigma^i$ son las tres matrices de Pauli y $\\lambda^j$ las 8 matrices de Gellman.\n",
    "\n",
    "$g_s$ es el acoplo fuerte y $a^j_\\mu$ los campos vectoriales de los ocho gluones, $j = 1, \\dots, 8$.\n"
   ]
  },
  {
   "cell_type": "markdown",
   "metadata": {
    "slideshow": {
     "slide_type": "slide"
    }
   },
   "source": [
    "La derivada covariante generalizada nos dara lugar a la interacción de cuatro corrientes que se acopplan con los cuatro campos vectoriales $B_\\mu, {\\bf W}_\\mu$:\n",
    "\n",
    "\n",
    "$$\n",
    "(j^\\mu_{1W} W^1_\\mu + j^\\mu_{2W} W^2_\\mu + j^\\mu_{3W} W^3_\\mu) +  j^\\mu_Y B_\\mu\n",
    "$$\n",
    "\n",
    "Donde (con $i=1, 2, 3$):\n",
    "\n",
    "$$\n",
    "j^\\mu_{iW} = g_W \\bar{\\Psi} \\frac{\\sigma_i}{2} \\gamma^\\mu \\Psi, \\;\\;\\; j^\\mu_Y = \\frac{g_Y}{2} \\bar{\\Psi} \\gamma^\\mu \\Psi\n",
    "$$\n",
    "\n",
    "Vamos a relacionar estar corrientes con las corrientes físicas: la del electromagnetismo y la de las corrientes débiles.\n",
    "\n"
   ]
  },
  {
   "cell_type": "markdown",
   "metadata": {},
   "source": [
    "\n",
    "Si reescribimos los campos, y las corrientes:\n",
    "\n",
    "$$\n",
    "W^\\pm_\\mu = \\frac{1}{\\sqrt{2}}(W^1_\\mu \\mp i W^2_\\mu), \\;\\; j^\\mu_{\\pm} = \\frac{g_W}{\\sqrt{2}} (j^\\mu_1 \\pm i j^\\mu_2)\n",
    "$$\n",
    "\n",
    "Obtenemos:\n",
    "\n",
    "$$\n",
    " \\left(j^\\mu_+ W^+_\\mu + j^\\mu_- W^-_\\mu \\right) + j^\\mu_3 W^3_\\mu +  j^\\mu_Y B_\\mu\n",
    "$$\n",
    "\n",
    "\n",
    "Donde los dos primeros sumandos corresponden a la interacción de las corrientes débiles cargadas con los bosones $W^\\pm$."
   ]
  },
  {
   "cell_type": "markdown",
   "metadata": {
    "slideshow": {
     "slide_type": "subslide"
    }
   },
   "source": [
    "\n",
    "Podemos reescribir explícitamente las corrientes débiles cargadas:\n",
    "\n",
    "$$\n",
    "j^\\mu_{\\pm} = \\frac{g_W}{\\sqrt{2}} \\bar{\\Psi} \\sigma^\\pm \\Psi\n",
    "$$\n",
    "con:\n",
    "$$\n",
    "\\sigma^\\pm = \\frac{\\sigma_1}{2} \\pm i \\frac{\\sigma_2}{2}, \\;\\;\n",
    "\\sigma^+ = \\begin{pmatrix} 0 & 1 \\\\ 0 & 0 \\end{pmatrix}, \\;\\;\n",
    "\\sigma^- = \\begin{pmatrix} 0 & 0 \\\\ 1 & 0 \\end{pmatrix}\n",
    "$$"
   ]
  },
  {
   "cell_type": "markdown",
   "metadata": {
    "slideshow": {
     "slide_type": "slide"
    }
   },
   "source": [
    "Para más claridad escribimos expresamente la corriente positiva, la que se acopla a $W^+$, para los leptones de la primera familia:\n",
    "\n",
    "$$\n",
    " j^\\mu_+ = \\begin{pmatrix} \\bar{u}(\\nu_e)_{L}, \\bar{u}(e)_L \\end{pmatrix} \\, \\gamma^\\mu \\frac{1}{2}\\left(\\sigma^1 + i \\sigma^2 \\right)  \\, \\begin{pmatrix} \\bar{u}(\\nu_e)_{L} \\\\ \\bar{u}(e)_L \\end{pmatrix} = \\\\\n",
    "\\begin{pmatrix} \\bar{u}(\\nu_e)_{L}, \\bar{u}(e)_L \\end{pmatrix} \\, \\gamma^\\mu \\sigma^+  \\, \\begin{pmatrix} \\bar{u}(\\nu_e)_{L} \\\\ \\bar{u}(e)_L \\end{pmatrix} = \n",
    " \\begin{pmatrix} \\bar{u}(\\nu_e)_L, \\bar{u}(e)_L \\end{pmatrix} \\, \\gamma^\\mu \\begin{pmatrix} 0 & 1 \\\\ 0 & 0 \\end{pmatrix} \\begin{pmatrix} \\bar{u}(\\nu_e)_L \\\\ \\bar{e}_L \\end{pmatrix} = \\\\\n",
    " \\bar{u}(\\nu_e)_L \\, \\gamma^\\mu \\, u(e)_L = \n",
    " \\bar{u}(\\nu_e) \\, \\gamma^\\mu \\frac{1}{2} (I - \\gamma^5) \\, u(e)\n",
    "$$\n",
    "\n",
    "donde $u(\\nu_e), u(e)$ son los espinores de Dirac del $\\nu_e$ y $e$ respectivamente.\n",
    "\n",
    "Y de igual forma procederíamos para $j^\\mu_-$"
   ]
  },
  {
   "cell_type": "markdown",
   "metadata": {
    "slideshow": {
     "slide_type": "slide"
    }
   },
   "source": [
    "También por claridad podemos expresar la corriente $j^\\mu_3$:\n",
    "    \n",
    "$$\n",
    "j^\\mu_3 =  \\begin{pmatrix} \\bar{u}(\\nu_e)_{L}, \\bar{u}(e)_L \\end{pmatrix} \\, \\gamma^\\mu \\frac{1}{2} \\sigma^2  \\, \\begin{pmatrix} u(\\nu_e)_{L} \\\\ u(e)_L \\end{pmatrix} = \\\\\n",
    "\\begin{pmatrix} \\bar{u}(\\nu_e)_L, \\bar{u}(e)_L \\end{pmatrix} \\, \\gamma^\\mu \\frac{1}{2}\\begin{pmatrix} 1 & 0 \\\\ 0 & -1 \\end{pmatrix} \\begin{pmatrix} u(\\nu_e)_L \\\\ u(e)_L) \\end{pmatrix} = \\\\\n",
    "\\frac{1}{2} \\bar{u}(\\nu_e)_L \\gamma^\\mu u(\\nu_e)_L - \\frac{1}{2} \\bar{u}(e)_L \\gamma^\\mu u(e)_L = \\\\\n",
    "I^3_W(\\nu_{eL}) \\,\\,  \\bar{u}(\\nu_e)_L \\gamma^\\mu u(\\nu_e)_L + I^3_W(e_L) \\,\\, \\bar{u}(e)_L \\gamma^\\mu u(e)_L\n",
    "$$\n",
    "    \n",
    "Notar que los factores en cada sumando corresponde al valor de su tercera componente de isospín débil, esto es: $I^3_W(\\nu_{eL}) = 1/2, \\; I^3_W(e_L) = -1/2$."
   ]
  },
  {
   "cell_type": "markdown",
   "metadata": {
    "slideshow": {
     "slide_type": "slide"
    }
   },
   "source": [
    "#### Las corrientes neutras y electromagnéticas\n",
    "\n",
    "Para recuperar la interacción de las corrientes electromagnéticas con el fotón, la teoría electrodébil establece que existe una rotación entre los campos $B_\\mu, W^3_\\mu$ y los campos físicos $A_\\mu, Z_\\mu$. Donde $A$ es el fotón y $Z$ el bosón $Z$ neutro.\n",
    "\n",
    "$$\n",
    "A_\\mu = B_\\mu \\cos \\theta_W  + W^3_\\mu \\sin \\theta_W +\\\\\n",
    "Z_\\mu = -B_\\mu \\sin \\theta_W + W^3_\\mu \\cos \\theta_W\n",
    "$$\n",
    "\n",
    "donde $\\theta_W$ se denomina ángulo de Weinberg.\n",
    "\n"
   ]
  },
  {
   "cell_type": "markdown",
   "metadata": {},
   "source": [
    "Si reescribimos los dos sumandos anteriores\n",
    "\n",
    "$$\n",
    "j^\\mu_3 W^3_\\mu + j^\\mu_Y B_\\mu =  \\\\\n",
    "( \\sin \\theta_W j^\\mu_3 +  \\cos \\theta_W j^\\mu_Y) \\, A_\\mu + \n",
    "(\\cos \\theta_W j^\\mu_3 - \\sin \\theta_W j^\\mu_Y) \\, Z_\\mu \n",
    "$$\n",
    "\n",
    "En este caso, el primer sumando, corresponde a las interacciones electromagnéticas, donde la intensidad del acoplo es $e$ y $Q(f)$, la carga en unidades de $e$ del fermión, por ejemplo $Q(e) = -1$ para el electrón.\n",
    "\n",
    "$$\n",
    "j^\\mu_{EL} = Q(f) \\, e \\, \\Psi \\gamma^\\mu \\Psi\n",
    "$$\n"
   ]
  },
  {
   "cell_type": "markdown",
   "metadata": {},
   "source": [
    "En el caso de los neutrinos, que no interacciona electromagnéticamente, su corriente EL es nula:\n",
    "\n",
    "$$\n",
    "\\left[ I^3_W(\\nu_{eL}) \\, g_W \\sin \\theta_W + Y_W(\\nu_{eL}) \\, \\frac{g_Y}{2} \\cos \\theta_W  \\right] \\, \\bar{u}(\\nu_{e})_L \\gamma^\\mu u(\\nu_e)_L = 0\n",
    "$$\n",
    "\n",
    "donde $I^3_W(\\nu_{eL})$ es la tercera componente de isospín y $Y_W(\\nu_{eL})$ la hipercarga débil del $\\nu_{eL}$. Ambos son las cargas del $\\nu_{eL}$ respecto a la tercerca componente de isospín e hypercarga débil.\n",
    "\n",
    "Como: \n",
    "$$\n",
    "I^3_W(\\nu_{eL}) = 1/2, \\;\\;\\; Y_W(\\nu_{eL}) = 2 \\, (Q(\\nu_{eL}) - I^3_W(\\nu_{eL})) = 2 \\, (0 -1/2) = -1\n",
    "$$\n",
    "\n",
    "dado que la carga del neutrino es nula, $Q(\\nu_{eL}) = 0$, obtenemos la relación:\n",
    "\n",
    "$$\n",
    "-g_W \\sin \\theta_W + g_Y \\cos \\theta_W = 0, \\;\\;\\; \\tan \\theta_W = \\frac{g_Y}{g_W}\n",
    "$$\n"
   ]
  },
  {
   "cell_type": "markdown",
   "metadata": {
    "slideshow": {
     "slide_type": "slide"
    }
   },
   "source": [
    "Las corrientes que se acoplan al fotón y al $Z$ se simplifican:\n",
    "    \n",
    "$$\n",
    "\\sin \\theta_W (j^\\mu_3 + \\frac{1}{2} j^\\mu_Y) \\, A_\\mu + \\frac{1}{\\cos \\theta_W} (j^\\mu_3 \\cos^2 \\theta_W- \\sin^2 \\theta_W j^\\mu_Y) \\, Z_\\mu\n",
    "$$\n",
    "\n",
    "Dada la definición que hemos hecho de hypercarga $Y = 2(Q-I^3_W)$, vemos que efectivamente el primer sumando para un fermión, f, que tiene carga eléctrica Q:\n",
    "\n",
    "$$\n",
    "Q  \\, g_W \\sin \\theta_W \\,\\, \\bar{\\Psi} \\gamma^\\mu \\Psi  = Q \\, e \\, \\bar{\\Psi} \\, \\gamma^\\mu \\Psi\n",
    "$$\n",
    "\n",
    "Se cumple la relación:\n",
    "\n",
    "$$\n",
    "g_W \\sin \\theta_W = e = \\sqrt{4 \\pi \\alpha}\n",
    "$$\n",
    "\n",
    "donde $e$ es la carga eléctrica, y $\\alpha$ la constante de estructura fina."
   ]
  },
  {
   "cell_type": "markdown",
   "metadata": {
    "slideshow": {
     "slide_type": "slide"
    }
   },
   "source": [
    "Si atendemos a la interacción con el $Z$, si sustituimos $j^\\mu_Y = 2 (j^\\mu_Q - j^\\mu_3)$, obtenemos:\n",
    "\n",
    "$$\n",
    "\\frac{g_W}{\\cos \\theta_W} (j^\\mu_3 - Q \\, \\sin^2 \\theta_W j^\\mu_Q) \\, Z_\\mu\n",
    "$$\n",
    "\n",
    "Sea por ejemplo el neutrino como su carga es nula $Q(\\nu_{eL}) = 0$ y su tercera componente de isoespín débil, $I^3_W(\\nu_{eL}) = 1/2$, obtenemos:\n",
    "\n",
    "$$\n",
    "\\frac{g_W}{\\cos \\theta_W} \\frac{1}{2} \\; \\bar{u}(\\nu_e)_L \\gamma^\\mu u(\\nu_e)_L \\, Z_\\mu \n",
    "$$\n",
    "\n",
    "Podemos identificar la constante de acoplo $g_Z$:\n",
    "\n",
    "$$\n",
    "g_Z = \\frac{g_W}{ \\cos \\theta_W}\n",
    "$$\n"
   ]
  },
  {
   "cell_type": "markdown",
   "metadata": {
    "slideshow": {
     "slide_type": "slide"
    }
   },
   "source": [
    "De forma general para un fermión obtendremos para sus componentes a izquierdas y derechas:\n",
    "\n",
    "$$\n",
    "g_Z \\left[ \\left( I^3_W - Q \\sin^2 \\theta_W \\right) \\bar{u}_L \\gamma^\\mu u_L - Q \\sin^2 \\theta_W \\bar{u}_R \\gamma^\\mu u_R \\right] \n",
    "$$\n",
    "\n",
    "Donde $I^3_W$ es la tercera componente de isoespín débil del fermión a izquierdas y $Q$ la carga del fermión en unidades de $e$."
   ]
  },
  {
   "cell_type": "markdown",
   "metadata": {},
   "source": [
    "\n",
    "Que podemos reescribir:\n",
    "\n",
    "$$\n",
    "g_Z \\left[ \\left( I^3_W - Q \\sin^2 \\theta_W \\right) \\bar{u} \\gamma^\\mu \\frac{1}{2} (I - \\gamma^5) u - Q \\sin^2 \\theta_W \\bar{u} \\gamma^\\mu \\frac{1}{2}(I + \\gamma^5) u \\right] = \\\\\n",
    "g_Z \\; \\bar{u} \\gamma^\\mu \\left[ \\left( I^3_W - 2 Q(f) \\sin^2 \\theta_W \\right) I - I^3_W \\gamma^5 \\right] u\n",
    "$$\n",
    "\n",
    "Donde identificamos los factores vectorial y axial de las interacciones neutras de un fermión:\n",
    "\n",
    "$$\n",
    "c_V = I^3_W - 2 Q \\sin^2 \\theta_W, \\;\\;\\; c_A = I^3_W\n",
    "$$"
   ]
  },
  {
   "cell_type": "markdown",
   "metadata": {
    "slideshow": {
     "slide_type": "slide"
    }
   },
   "source": [
    "La siguiente tabla indica el valor $I^3_W, Q, c_V, c_A$ de los fermiones de la primera generación:\n",
    "\n",
    "| fermión | --- $I^3_W$ --- | --- $Q$ --- | --------- $c_V$ --------- | --- $c_A$ --- |\n",
    "| :--:    | :--:    | :--: | :--:  | :--: |\n",
    "| $\\nu_e$ | 1/2     | 0   | 1/2     | 1/2  |\n",
    "| $e$     | -1/2    | -1  | $-1/2 + s^2$ | -1/2|\n",
    "| $u$     | 1/2     | +2/3  | $1/2 - (2/3) s^2$ | 1/2 |\n",
    "| $d$     | -1/2    | -1/3 | $-1/2 + (1/3)s^2$ | -1/2|\n",
    "\n",
    "\n",
    "donde $s^2_W = \\sin^2 \\theta_W$"
   ]
  },
  {
   "cell_type": "markdown",
   "metadata": {
    "slideshow": {
     "slide_type": "slide"
    }
   },
   "source": [
    "y para los antifermiones:\n",
    "\n",
    "| antifermión | --- $I^3_W$ --- | --- $Q$ --- | ---------- $c_V$ ---------- | --- $c_A$ --- |\n",
    "| :--:    | :--:    | :--: | :--:  | :--: |\n",
    "| $e^+$ | 1/2     | +1   | $1/2 - s^2$      | 1/2  |\n",
    "| $\\bar{\\nu}_e$  | -1/2  | 0  | -1/2 | -1/2|\n",
    "| $\\bar{d}$     | 1/2     | +1/3  | $1/2 - (1/3) s^2$ | 1/2 |\n",
    "| $\\bar{u}$     | -1/2    | -2/3 | $-1/2 + (2/3) s^2$ | -1/2|"
   ]
  },
  {
   "cell_type": "markdown",
   "metadata": {
    "slideshow": {
     "slide_type": "slide"
    }
   },
   "source": [
    "### Las corrientes físicas: electromagnéticas, y débiles cargadas y neutras\n",
    "\n",
    "Recordemos pues la **relaciones entre las constantes de acoplo**:\n",
    "    \n",
    "$$\n",
    "e = g_W \\sin \\theta_W = g_Z \\sin \\theta_W \\cos \\theta_W\n",
    "$$\n",
    "    \n",
    "Esto es $g_W, g_Z$ vienen dadas por $e$ y el ángulo de Weinberg $\\theta_W$.\n",
    "\n",
    "Le valor $\\theta_W \\simeq 33^o$, se ha determinado de numerosas maneras, (ver después)\n",
    "\n",
    "$$\n",
    "\\sin^2 \\theta_W = 0.23146 \\pm 0.000012\n",
    "$$"
   ]
  },
  {
   "cell_type": "markdown",
   "metadata": {
    "slideshow": {
     "slide_type": "slide"
    }
   },
   "source": [
    "La parte electródebil del SM, en particular la interacción con el $Z$, queda determinada por tres parámetros:\n",
    "    \n",
    "$$\n",
    "e, \\sin \\theta_W, M_W\n",
    "$$\n",
    "    \n",
    "y experimentalmente por:\n",
    "    \n",
    "$$\n",
    "\\alpha, G_F, M_Z\n",
    "$$\n",
    "\n",
    "la constante de estructura fina, $\\alpha$, la constante de Fermi, $G_F$ y la masa del bosón, $M_Z$"
   ]
  },
  {
   "cell_type": "markdown",
   "metadata": {
    "slideshow": {
     "slide_type": "slide"
    }
   },
   "source": [
    "#### Las corrientes electromagnéticas y el vértice del fotón\n",
    "\n",
    "\n",
    "Las corrientes electromagnéticas no cambian la carga, ni el sabor y conservan paridad.\n",
    "\n",
    "| |\n",
    "|:--:|\n",
    "|<img src=\"./imgs/sm_emcur.png\" width = 250 align=\"center\">|\n",
    "| Corriente electromagnética|\n",
    "\n",
    "En el vértice con un fotón, introducimos (en la reglas de Feynman) la constante de acoplo $e$ y la carga, $Q$ del fermión:\n",
    "\n",
    "$$\n",
    "A: \\;\\;\\; Q e \\, \\bar{u} \\gamma^\\mu u = Q e \\, \\left( \\bar{u}_L \\gamma^\\mu u_L + \\bar{u}_R \\gamma^\\mu u_R \\right)\n",
    "$$"
   ]
  },
  {
   "cell_type": "markdown",
   "metadata": {
    "slideshow": {
     "slide_type": "slide"
    }
   },
   "source": [
    "#### Las corrientes cargadas y el vértice del $W$\n",
    "\n",
    "Las corrientes cargadas cambian el sabor, la carga en una unidad, y la tercerca componente de isoespín.\n",
    "\n",
    "En las corrientes mediadas por $W^+$ suben una unidad $I^3_W$, y $W^-$ lo bajan.\n",
    "\n",
    "Solo intervienen los estados de quiralidad a izquierdas para los fermiones.\n",
    "\n",
    "| |\n",
    "|:--:|\n",
    "|<img src=\"./imgs/sm_wcur.png\" width = 350 align=\"center\">|\n",
    "| Corriente cargada|"
   ]
  },
  {
   "cell_type": "markdown",
   "metadata": {
    "slideshow": {
     "slide_type": "slide"
    }
   },
   "source": [
    "\n",
    "En el vértice con un $W^+$ introducimos la constante de acoplo $g_W/\\sqrt{2}$ entre dos fermiones de arriba, $f_\\uparrow$ y abajo $f_\\downarrow$ del duplete de quiralidad a izquierdas:\n",
    "\n",
    "$$\n",
    "W^+: \\;\\; \\frac{g_W}{\\sqrt{2}} \\, \\bar{u}(f_\\uparrow)_L \\gamma^\\mu u(f_\\downarrow)_L = \\frac{g_W}{\\sqrt{2}} \\bar{u}(f_\\uparrow) \\gamma^\\mu \\frac{1}{2}(I-\\gamma^5) u(f_\\downarrow), \\\\\n",
    "W^-: \\;\\; \\frac{g_W}{\\sqrt{2}} \\, \\bar{u}(f_\\downarrow)_L \\gamma^\\mu u(f_\\uparrow)_L = \\frac{g_W}{\\sqrt{2}} \\bar{u}(f_\\downarrow) \\gamma^\\mu \\frac{1}{2}(I-\\gamma^5) u(f_\\uparrow),\n",
    "$$\n"
   ]
  },
  {
   "cell_type": "markdown",
   "metadata": {
    "slideshow": {
     "slide_type": "slide"
    }
   },
   "source": [
    "De otra forma podemos decir del vértice de las corrientes cargadas:\n",
    "    \n",
    "  * tiene la constante de acoplo $g_W/\\sqrt{2}$\n",
    "  \n",
    "  * solo afectan a los espinores de izquierdas de los fermiones, o equivalente, aparece un factor $\\frac{1}{2} (I-\\gamma^5)$\n",
    "  \n",
    "  * suben o bajan la tercera componente o aparece como factor la matriz $\\sigma^\\pm = \\frac{1}{2}(\\sigma^1 \\pm i \\sigma^2)$ que media entre los estados de los dupletes"
   ]
  },
  {
   "cell_type": "markdown",
   "metadata": {
    "slideshow": {
     "slide_type": "subslide"
    }
   },
   "source": [
    "Veámoslo de forma práctica para  el vértice de un $W^+$ con un $e$ y $\\nu_e$:\n",
    "\n",
    "$$\n",
    "\\frac{g_W}{\\sqrt{2}} \\begin{pmatrix}\\bar{u}(\\nu_e), & 0 \\end{pmatrix} \\gamma^\\mu \\frac{1}{2} (I - \\gamma^5) \\sigma^+ \n",
    "\\begin{pmatrix} 0 \\\\ u(e)\\end{pmatrix} = \\frac{g_W}{\\sqrt{2}} \\bar{u}(\\nu_e)_L \\gamma^\\mu u(e)_L \n",
    "$$"
   ]
  },
  {
   "cell_type": "markdown",
   "metadata": {
    "slideshow": {
     "slide_type": "slide"
    }
   },
   "source": [
    "#### El vértice del Z\n",
    "\n",
    "Las interacciones con el $Z$ no cambian el sabor de la partícula, ni tampoco su carga eléctrica, ni su tercerca componente de isoespín débil.\n",
    "\n",
    "Pero cambia de forma no trivial la paridad.\n",
    "\n",
    "El bosón $Z$ actua diferente para la quiralidad de izquierdas y de derechas, dependiendo del fermión.\n",
    "\n",
    "| |\n",
    "|:--:|\n",
    "|<img src=\"./imgs/sm_zcur.png\" width = 350 align=\"center\">|\n",
    "| Corriente neutra|"
   ]
  },
  {
   "cell_type": "markdown",
   "metadata": {
    "slideshow": {
     "slide_type": "slide"
    }
   },
   "source": [
    "La corriente neutra con el bosón $Z$ tiene la forma:\n",
    "\n",
    "$$\n",
    "Z: \\;\\;\\; g_Z \\left( c_L \\, \\bar{u}_L \\gamma^\\mu \\bar{u}_L + c_R \\, \\bar{u}_R \\gamma^\\mu \\bar{u}_R \\right) = g_Z \\,\\bar{u} \\frac{1}{2}\\left(c_V I - c_A \\gamma^5\\right) u \n",
    "$$\n",
    "\n",
    "donde $g_Z$ es la constante de acoplo y $c_L, c_R$ los factores asociados a la parte de quiralidad.\n",
    "\n",
    "O equivalente, dos factores $c_V, c_A$, vectorial y axial."
   ]
  },
  {
   "cell_type": "markdown",
   "metadata": {
    "slideshow": {
     "slide_type": "slide"
    }
   },
   "source": [
    "En el vértice de Feynman de una iteracción con el bosón $Z$ intervendrán los factores:\n",
    "    \n",
    "   * la intensidad: $g_Z$\n",
    "   \n",
    "   * las parte de quiralidad a izquierdas: $c_L = I^3_W - Q \\sin^2 \\theta_W$, donde $Q$ es la carga eléctrica del fermión en unidades de $e$ e $I^3_W$ la tercerca componente de isoespín débil\n",
    "   \n",
    "   * la parte de quiralidad a derechas: $c_R = -Q \\sin^2 \\theta_W$"
   ]
  },
  {
   "cell_type": "markdown",
   "metadata": {
    "slideshow": {
     "slide_type": "subslide"
    }
   },
   "source": [
    "Por ejemplo para el neutrino\n",
    "\n",
    "No tiene parte a derechas, ni tampoco carga $Q(\\nu)=0$, solo $I^3_W(\\nu) = 1/2$\n",
    "\n",
    "Su componente $c_L = 1/2$ y $c_R = 0$\n",
    "\n",
    "la corriente neutra con el $Z$ será:\n",
    "    \n",
    "$$\n",
    "\\frac{g_Z}{2} \\bar{u}(\\nu_e)_L \\gamma^\\mu u(\\nu_e)_L \n",
    "$$"
   ]
  },
  {
   "cell_type": "markdown",
   "metadata": {
    "slideshow": {
     "slide_type": "subslide"
    }
   },
   "source": [
    "Mientras que para el electrón\n",
    "\n",
    "Tiene carga $Q(e)=-1$ y su parte a izquierdas $I^3_W(e_L) = -1/2$. \n",
    "\n",
    "Por lo tanto $c_L = -\\frac{1}{2} + \\sin^2 \\theta_W$ y $c_R = \\sin^2 \\theta_W$.\n",
    "\n",
    "Así la corriente neutra con el $Z$ es:\n",
    "    \n",
    "$$\n",
    "g_Z \\left(  \\left(-\\frac{1}{2} + \\sin^2 \\theta_W\\right) \\, \\bar{u}_L \\gamma^\\mu u_L  + \\sin^2 \\theta_W \\, \\bar{u}_R \\gamma^\\mu u_R \\right)\n",
    "$$"
   ]
  },
  {
   "cell_type": "markdown",
   "metadata": {
    "slideshow": {
     "slide_type": "slide"
    }
   },
   "source": [
    "De forma equivalente podemos dar las componentes vectorial y axial de las corrientes neutras:\n",
    "    \n",
    "$$\n",
    "c_V = I^3_W - Q \\sin^2 \\theta_W, \\;\\; c_A = I^3_W \n",
    "$$\n"
   ]
  },
  {
   "cell_type": "markdown",
   "metadata": {
    "slideshow": {
     "slide_type": "slide"
    }
   },
   "source": [
    "### Proceso de aniquilación\n",
    "\n",
    "En la aniquilación $e + e^+ \\to \\mu + \\mu^+$ intervienen el $\\gamma$ y el $Z$.\n",
    "\n",
    "| |\n",
    "|:--:|\n",
    "|<img src=\"./imgs/sm_gz.png\" width = 400 align=\"center\">|\n",
    "| aniquilación $e+e^+ \\to \\mu + \\mu^+$ mediada por el fotín (izda) o el $Z$ (derecha) |\n",
    "\n",
    "Recordemos los propagadores:\n",
    "\n",
    "$$\n",
    "-i\\frac{g_{\\mu\\nu}}{q^2}, \\;\\; -i\\frac{g_{\\mu\\nu}}{q^2 - m_Z^2},\n",
    "$$\n",
    "donde $m_Z = 91.2$ GeV es la masa del $Z$.\n",
    "\n",
    "QED conserva paridad y las corrientes neutras no. \n"
   ]
  },
  {
   "cell_type": "markdown",
   "metadata": {
    "slideshow": {
     "slide_type": "slide"
    }
   },
   "source": [
    "La figura muestra la sección eficaz $\\sigma(e+e^+ \\to \\mathrm{hadrons}$ con los datos de diversos experimentos y la curva teórica.\n",
    "\n",
    "Se observa que QED, la contribución del fotón, es dominante a baja energía; y la resonancia del $Z$.\n",
    "                  \n",
    "| |\n",
    "|:--:|\n",
    "|<img src=\"./imgs/sm_sigma_eeqq.png\" width = 400 align=\"center\">|\n",
    "| $\\sigma(e+e^+ \\to \\mathrm{hadrons})$ vs $\\sqrt{s}$ de [MT16.2] [LEP-SLD]|\n",
    "\n",
    "En la región donde $Z$ domine deben aparecer efectos de violación de paridad que dependerán de $\\sin^2 \\theta_W$\n",
    "                                                                                     "
   ]
  },
  {
   "cell_type": "markdown",
   "metadata": {
    "slideshow": {
     "slide_type": "slide"
    }
   },
   "source": [
    "Experimentalmente calculamos asimetrías. La asimetría *forward-backward*, $A_{FB}, $que depende de forma no trivial de $\\sin^2 \\theta_W$ y de $\\sqrt{s}$, se calcula a partir del número de eventos $N_F$ en la que el $\\mu$ va en dirección hacia delante (dada por el $e$) o *forward* y $N_B$ hacia atrás o *backward*:\n",
    "\n",
    "$$\n",
    "A_{FB} = \\frac{N_F - N_B}{N_F + N_B}\n",
    "$$\n",
    "\n",
    "| |\n",
    "|:--:|\n",
    "|<img src=\"./imgs/sm_afb.png\" width = 400 align=\"center\">|\n",
    "| Asimetría *forward-backward* $e+e^+ \\to \\mu + \\mu^+$ vs $\\sqrt{s}$ de [DELPHI]|\n",
    "\n",
    "\n",
    "En la figura se muestran la asimetría, $A_{FB}$, medida en experimento DELPHI de LEP para $e+e^+ \\to \\mu+\\mu^+$ y $e+e^+ \\to \\tau + \\tau^+$ en función de $\\sqrt{s}$ y la predicción del SM para un valor $\\sin^2\\theta_W \\simeq 0.23$."
   ]
  },
  {
   "cell_type": "markdown",
   "metadata": {
    "slideshow": {
     "slide_type": "subslide"
    }
   },
   "source": [
    "*Nota adicional*\n",
    "\n",
    "Notar que la interferencia en el elemento de Matriz, por el efecto de los propagadores, es proporcional a:\n",
    "\n",
    "$$\n",
    "\\frac{Q^2 \\alpha }{q^2} + \\frac{g^2_Z \\beta}{q^2 - m^2_Z}\n",
    "$$\n",
    "\n",
    "el sugundo sumando cambia de signo al pasar por el polo del $m_Z$. \n",
    "\n",
    "El factor $\\beta$ dependerá de las 4 posibles combinaciones de helicidad."
   ]
  },
  {
   "cell_type": "markdown",
   "metadata": {
    "slideshow": {
     "slide_type": "slide"
    }
   },
   "source": [
    "## Anchura de desintegración del $Z$\n",
    "\n",
    "El colisionador LEP $e+e^+$ que operó durante los 90's verificó con gran detalle las predicciones del SM, especialmente la física del Z.\n",
    "\n",
    "Durante un periodo LEP operó a $\\sqrt{s} = m_Z = 91$ GeV produciendo millones de $Z$.\n",
    "\n",
    "Uno de los estudios más importantes de LEP es la medición de la anchura de desintegración de $Z$."
   ]
  },
  {
   "cell_type": "markdown",
   "metadata": {
    "slideshow": {
     "slide_type": "slide"
    }
   },
   "source": [
    "### Anchura de desintegración parcial\n",
    "\n",
    "Sea la desintegración: $ Z \\to f + \\bar{f}$, a un par de fermión y antifermión.\n",
    "\n",
    "La anchura de desintegración viene dada por:\n",
    "\n",
    "$$\n",
    "\\Gamma = \\frac{p^*}{8 \\pi s} \\langle |M_{fi}|^2 \\rangle\n",
    "$$\n",
    "\n",
    "donde en este caso $\\sqrt{s} = m_Z$ y $p^* = m_z/2$, si despreciamos la masa del fermión en comparación con la del $m_Z$"
   ]
  },
  {
   "cell_type": "markdown",
   "metadata": {
    "slideshow": {
     "slide_type": "slide"
    }
   },
   "source": [
    "El cálculo del $M_{fi}$, aunque no es complicado, escapa al nivel de este curso.\n",
    "\n",
    "aunque ya sabemos que debe involucrar a la corriente neutra:\n",
    "\n",
    "$$\n",
    "g_z \\left( c_L \\bar{u}_L \\gamma^\\mu v_L + c_R \\bar{u}_R \\gamma^\\mu v_R \\right)\n",
    "$$\n",
    "\n",
    "Su valor es:\n",
    "\n",
    "$$\n",
    "\\langle |M_{fi}|^2 \\rangle = \\frac{2}{3} (c^2_L + c^2_R) g^2_Z m^2_Z\n",
    "$$\n",
    "\n"
   ]
  },
  {
   "cell_type": "markdown",
   "metadata": {
    "slideshow": {
     "slide_type": "slide"
    }
   },
   "source": [
    "La anchura parcial de desintegración $Z \\to f + \\bar{f}$ es:\n",
    "\n",
    "$$\n",
    "\\Gamma(Z \\to f + \\bar{f}) = \\frac{m_Z}{16 \\pi m^2_Z} \\frac{2}{3} (c^2_L + c^2_R) g^2_Z m^2_Z = \\frac{g^2_Z m_Z}{24 \\pi} (c^2_L + c^2_R)\n",
    "$$"
   ]
  },
  {
   "cell_type": "markdown",
   "metadata": {
    "slideshow": {
     "slide_type": "slide"
    }
   },
   "source": [
    "Por ejemplo para $\\nu_e$ como $c^2_L = 1/4$\n",
    "\n",
    "$$\n",
    "\\Gamma (Z \\to \\nu_e + \\bar{\\nu}_e) = \\frac{g^2_Z m_Z}{96 \\pi} = 166 \\; \\mathrm{MeV}\n",
    "$$"
   ]
  },
  {
   "cell_type": "markdown",
   "metadata": {
    "slideshow": {
     "slide_type": "subslide"
    }
   },
   "source": [
    "*Cuestión*: Calcula las anchuras de desintegración parciales y totales de $Z$ y sus fracciones de desintegración."
   ]
  },
  {
   "cell_type": "code",
   "execution_count": 4,
   "metadata": {
    "slideshow": {
     "slide_type": "subslide"
    }
   },
   "outputs": [
    {
     "name": "stdout",
     "output_type": "stream",
     "text": [
      "gw    0.6526\n",
      "gz    0.7403\n",
      "Gamma nue 0.1657 GeV\n"
     ]
    }
   ],
   "source": [
    "GF  = units.value(\"Fermi coupling constant\")\n",
    "s2t = units.value(\"weak mixing angle\")\n",
    "MW  = 80.34 # GeV \n",
    "MZ  = 91.19 # GeV\n",
    "g2w = 8 * MW**2 * GF /np.sqrt(2)\n",
    "g2z = g2w/(1-s2t) \n",
    "gamma_nu = g2z*MZ/(96*np.pi)\n",
    "print('gw    {:5.4f}'.format(np.sqrt(g2w)))\n",
    "print('gz    {:5.4f}'.format(np.sqrt(g2z)))\n",
    "print('Gamma nue {:5.4f} GeV'.format(gamma_nu))"
   ]
  },
  {
   "cell_type": "code",
   "execution_count": 5,
   "metadata": {
    "slideshow": {
     "slide_type": "subslide"
    }
   },
   "outputs": [
    {
     "name": "stdout",
     "output_type": "stream",
     "text": [
      "Gamma e 0.0838 GeV\n",
      "Gamma nue 0.1657 GeV\n",
      "Gamma u 0.2894 GeV\n",
      "Gamma d 0.3713 GeV\n"
     ]
    }
   ],
   "source": [
    "nc   = 3 # 3 colors for the quarks\n",
    "pars = {'e':(-0.5+s2t, s2t), 'nue': (0.5, 0), 'u' : (0.5-2*s2t/3, -2*s2t/3), 'd': (-0.5+s2t/3, s2t/3)}\n",
    "gamma = lambda cl, cr: g2z*MZ/(24*np.pi)*(cl**2 + cr**2)\n",
    "gammas = {}\n",
    "for key in pars.keys():\n",
    "    cl, cr = pars[key]\n",
    "    gammai = gamma(cl, cr)\n",
    "    gammai = nc * gammai if key in ('u', 'd') else gammai\n",
    "    comment = 'Gamma ' + key + ' {:5.4f} GeV'.format(gammai) \n",
    "    print(comment)\n",
    "    gammas[key] = gammai"
   ]
  },
  {
   "cell_type": "code",
   "execution_count": 6,
   "metadata": {
    "slideshow": {
     "slide_type": "slide"
    }
   },
   "outputs": [
    {
     "name": "stdout",
     "output_type": "stream",
     "text": [
      "Total Gamma 2.4414 GeV \n",
      "BR e 3.4 %\n",
      "BR nue 6.8 %\n",
      "BR u 11.9 %\n",
      "BR d 15.2 %\n"
     ]
    }
   ],
   "source": [
    "gamma_total = 3 * gammas['nue'] + 3 * gammas['e'] + 2 * gammas['u'] + 3 * gammas['d']\n",
    "print('Total Gamma {:5.4f} GeV '.format(gamma_total))\n",
    "for key in gammas.keys():\n",
    "    #n  = 2 if key == 'u' else 3\n",
    "    br = 100 * gammas[key]/gamma_total\n",
    "    print('BR ' + key + ' {:3.1f} %'.format(br))"
   ]
  },
  {
   "cell_type": "markdown",
   "metadata": {
    "slideshow": {
     "slide_type": "slide"
    }
   },
   "source": [
    "### Sección eficaz\n",
    "\n",
    "Aunque no la calcularemos, vamos a presentar ahora los distintos elementos que se necesitan en la sección eficaz de $e+e^+ \\to f + \\bar{f}$ en el $Z$, donde recordemos la contribución del $\\gamma$ es pequeña.\n",
    "\n",
    "Sabemos que la sección eficaz viene dada por:\n",
    "\n",
    "$$\n",
    "\\sigma = \\frac{1}{64 \\pi^2 s} \\frac{p^*_f}{p^*_i} \\int_\\Omega \\langle |M_{fi}|^2 \\rangle \\, \\mathrm{d}\\Omega\n",
    "$$\n",
    "\n",
    "Donde en este caso $p^*_i = p^*_f = m_Z/2$ si despreciamos las masas de los fermiones en comparación con $m_Z$."
   ]
  },
  {
   "cell_type": "markdown",
   "metadata": {
    "slideshow": {
     "slide_type": "slide"
    }
   },
   "source": [
    "Al estar tan próximos del polo del $Z$ debemos incluir en el propagador la parte asociada a su anchura $\\Gamma_Z$ que habitualmente despreciamos:\n",
    "\n",
    "$$\n",
    "\\frac{1}{q^2 - m^2_Z} \\to \\frac{1}{q^2 - (m_Z - i \\Gamma_Z/2)^2} \\simeq \\frac{1}{q^2 - m^2_Z +i m_z\\Gamma_Z}\n",
    "$$\n",
    "\n",
    "que al elevar al cuadrado nos da la expresión:\n",
    "\n",
    "$$\n",
    "P_Z(s) \\equiv \\left|\\frac{1}{q^2 - m^2_Z +i m_z\\Gamma_Z} \\right|^2 = \\frac{1}{(s-m^2_Z)^2 + m^2_Z \\Gamma^2_Z} \n",
    "$$"
   ]
  },
  {
   "cell_type": "markdown",
   "metadata": {
    "slideshow": {
     "slide_type": "subslide"
    }
   },
   "source": [
    "#### Inciso: sobre la anchura y masa\n",
    "\n",
    "El cálculo correcto se hace en TQC, aquí solo damos una aproximación:\n",
    "\n",
    "Si una partícula, con masa $m$, es estable su función de ondas en reposo:\n",
    "\n",
    "$$\n",
    "\\Psi \\propto e^{-imt}.\n",
    "$$\n",
    "\n",
    "Si consideramos que es inestable con una anchura $\\Gamma = 1/\\tau$, modificamos la función de onda:\n",
    "\n",
    "$$\n",
    "\\Psi \\propto e^{-imt} e ^{-\\Gamma t/2}\n",
    "$$\n",
    "\n",
    "Que es equivalente, a reemplazar:\n",
    "\n",
    "$$\n",
    "m \\to m - i \\Gamma/2\n",
    "$$"
   ]
  },
  {
   "cell_type": "markdown",
   "metadata": {
    "slideshow": {
     "slide_type": "slide"
    }
   },
   "source": [
    "el proceso $e+e^+\\to \\mu+\\mu^+$, mediado solo por el fotón, lo estudiamos ya (ver hadrones).\n",
    "\n",
    "Las distintas combinaciones de helicidad son las mismas:\n",
    "\n",
    "| | \n",
    "| :--: |\n",
    "|  <img src=\"./imgs/hadrons_eemumu_helicities_2.png\" width = 600 align=\"center\"> |\n",
    "| Las posibles combinaciones de helicidad de $e^++e \\to \\mu^+ + \\mu$ en el CM en el régimen relativista |\n",
    "\n",
    "En el elemento de matriz cuando antes nos apareció $e^2$ ahora aparecerá $g^2_Z$ y los acoplos $c_L, c_R$ correspondientes.\n",
    "\n",
    "Los $M_{fi}$ contienen los acoplos de las corrientes y las distribuciones angulares siguientes:\n",
    "\n",
    "|      | | | | \n",
    "| :--: | :--: | :--: | :--: |\n",
    "| $LR \\to LR$ | $LR \\to RL$ | $RL \\to LR$ | $RL \\to RL$ |\n",
    "| $g^2_Z s (1+\\cos \\theta)$| $g^2_z s (1-\\cos \\theta)$ | $g^2_Z s (1-\\cos\\theta)$ | $g^2_Z s (1+\\cos\\theta)$ | \n",
    "| $c_L(e) \\, c_L(\\mu)$ |$c_L(e) \\, c_R(\\mu)$ | $c_R(e) \\, c_L(\\mu)$| $c_R(e) \\, c_R(\\mu)$ |\n"
   ]
  },
  {
   "cell_type": "markdown",
   "metadata": {
    "slideshow": {
     "slide_type": "slide"
    }
   },
   "source": [
    "Para dar la sección eficaz calculamos el promedio de los cuatro elementos de matriz e integramos en el ángulo sólido.\n",
    "\n",
    "No hacemos el cálculo, pero damos el resultado. \n",
    "\n",
    "La sección eficaz es:  \n",
    "\n",
    "$$\n",
    "\\sigma (e+e^+\\to Z \\to \\mu+\\mu^+)= \\frac{1}{64\\pi^2 s} \\frac{1}{4}\\frac{g^4_z s^2}{(s-m^2_Z)^2 + m^2_Z\\Gamma^2_Z} \n",
    "\\frac{16\\pi}{3} [c^2_L(e) + c^2_R(e)] [c^2_L(\\mu) + c^2_R(\\mu)] = \\\\\n",
    " \\frac{1}{48\\pi} \\frac{g^4_z s}{(s-m^2_Z)^2 + m^2_Z\\Gamma^2_Z}  [c^2_L(e) + c^2_R(e)] [c^2_L(\\mu) + c^2_R(\\mu)]\n",
    "$$\n",
    "\n",
    "En la segunda igualdad pueden identificarse los distintos factores que intervienen."
   ]
  },
  {
   "cell_type": "markdown",
   "metadata": {
    "slideshow": {
     "slide_type": "slide"
    }
   },
   "source": [
    "Que podemos reescribir introduciendo las anchuras de desintegración parciales:\n",
    "\n",
    "$$\n",
    "\\Gamma_{ee} = \\frac{g^2_z m_z}{24} [c^2_L(e) + c^2_R(e)] \\\\\n",
    "\\Gamma_{\\mu\\mu} = \\frac{g^2_z m_z}{24} [c^2_L(\\mu) + c^2_R(\\mu)] \\\\\n",
    "$$\n",
    "\n",
    "Por lo tanto:\n",
    "\n",
    "$$\n",
    "\\sigma (e+e^+\\to Z \\to \\mu+\\mu^+)= \\frac{12 \\pi s}{m^2_Z} \\frac{\\Gamma_{ee} \\Gamma_{\\mu\\mu}}{(s-m^2_Z)^2 + m^2_Z\\Gamma^2_Z} \n",
    "$$\n"
   ]
  },
  {
   "cell_type": "markdown",
   "metadata": {
    "slideshow": {
     "slide_type": "slide"
    }
   },
   "source": [
    "Observamos:\n",
    "    \n",
    "  * Se trata de una función de tipo Breit-Wigner\n",
    "  \n",
    "  * En el polo $\\sqrt{s} = m_z$ obtenemos el máximo de la sección eficaz:\n",
    "  \n",
    "  $$\n",
    "  \\sigma_{\\max} = \\frac{12\\pi}{m^2_Z} \\frac{\\Gamma_{ee}\\Gamma_{\\mu\\mu}}{\\Gamma^2_Z} \n",
    "  $$\n",
    "  \n",
    "  * En los valores $\\sqrt{s} = m_Z \\pm \\Gamma_Z/2$ la sección eficaz:\n",
    "  \n",
    "  $$\n",
    "  \\sigma \\left(\\sqrt{s} = m_Z \\pm \\Gamma_Z/2 \\right) = \\frac{\\sigma_{\\max}}{2}\n",
    "  $$\n",
    "  \n",
    "  O lo que es lo mismo la anchura a mitad de altura, FWHM, es $\\Gamma_Z$"
   ]
  },
  {
   "cell_type": "markdown",
   "metadata": {
    "slideshow": {
     "slide_type": "subslide"
    }
   },
   "source": [
    "*Cuestión* Calcula el máximo de la sección eficaz para $e+e^+\\to \\mu+\\mu^+$ y $e+e^+\\to \\mathrm{hadrones}$ y la curva se la sección eficaz para hadrones en el pico del $Z$."
   ]
  },
  {
   "cell_type": "code",
   "execution_count": 7,
   "metadata": {
    "slideshow": {
     "slide_type": "subslide"
    }
   },
   "outputs": [
    {
     "name": "stdout",
     "output_type": "stream",
     "text": [
      "sigma max (ee->mumu) 2.1 nbarns \n",
      "sigma max (ee->had) 41.6 nbarns \n"
     ]
    }
   ],
   "source": [
    "Gee = 0.0838 # GeV \n",
    "Gmm = 0.0838 # GeV\n",
    "Guu = 0.2894 # GeV\n",
    "Gdd = 0.3713 # GeV\n",
    "Ghad = 2 * Guu + 3 * Gdd\n",
    "mz  = 91.19  # GeV\n",
    "Gz  =  2.45  # GeV\n",
    "sigma_mumu = (12 * np.pi)/(mz**2) * (Gee * Gmm)/Gz**2\n",
    "sigma_had  = (12 * np.pi)/(mz**2) * (Gee * Ghad)/Gz**2\n",
    "hbarc  = 0.197 * units.femto # GeV m\n",
    "barn =  1e-28 # m^2\n",
    "sigma_to_barn = (hbarc**2) / barn\n",
    "print('sigma max (ee->mumu) {:3.1f} nbarns '.format(sigma_to_barn * sigma_mumu / units.nano))\n",
    "print('sigma max (ee->had) {:3.1f} nbarns '.format(sigma_to_barn * sigma_had /units.nano))"
   ]
  },
  {
   "cell_type": "code",
   "execution_count": 8,
   "metadata": {
    "slideshow": {
     "slide_type": "subslide"
    }
   },
   "outputs": [
    {
     "data": {
      "image/png": "[encoded data removed]",
      "text/plain": [
       "<Figure size 640x480 with 1 Axes>"
      ]
     },
     "metadata": {
      "filenames": {
       "image/png": "/Users/hernando/work/docencia/grado/Fisica_Nuclear_y_de_Partículas/USC-FNyP/_build/jupyter_execute/notebooks/extension-sm_89_0.png"
      }
     },
     "output_type": "display_data"
    }
   ],
   "source": [
    "def sigma(s, Gff = Gmm):\n",
    "    return (12 * np.pi *s)/(mz**2) * (Gee*Gff/((s-mz**2)**2 + (mz*Gz)**2))\n",
    "ss = np.linspace(mz-8, mz+8, 100)\n",
    "plt.plot(ss, sigma_to_barn * sigma(ss*ss, Ghad) / units.nano); \n",
    "plt.grid(); plt.xlabel(r'$\\sqrt{s}$ (GeV)'); plt.ylabel(r'$\\sigma$ (nbarn)');"
   ]
  },
  {
   "cell_type": "markdown",
   "metadata": {
    "slideshow": {
     "slide_type": "slide"
    }
   },
   "source": [
    "### Tres familias de neutrinos\n",
    "\n",
    "Uno de los resultados más importantes de la era LEP es la determinación del número de neutrinos.\n",
    "\n",
    "Se obtiene a partir de la anchura de desintegración, $\\gamma_Z$, del $Z$."
   ]
  },
  {
   "cell_type": "markdown",
   "metadata": {
    "slideshow": {
     "slide_type": "slide"
    }
   },
   "source": [
    "\n",
    "| | \n",
    "| :--: |\n",
    "|  <img src=\"./imgs/sm_zresonance.png\" width = 350 align=\"center\"> |\n",
    "| $\\sigma(e+e^+ \\to \\mathrm{hadrons})$ vs $\\sqrt{s}$ de los experimentos de LEP [PDG]|\n",
    "\n",
    "La siguiente figura muestra la sección eficaz $\\sigma(e+e^+ \\to \\mathrm{hadrons})$  en función de $\\sqrt{s}$ obtenida por los experimentos de LEP: ALEPH, DELPHI, L3, OPAL. "
   ]
  },
  {
   "cell_type": "markdown",
   "metadata": {},
   "source": [
    "\n",
    "Se muestra sobreimpuesta la curva teórica cuando consideramos $N_\\nu$ neutrinos.\n",
    "\n",
    "Recordemos que el número de neutrinos, $N_\\nu$, entra en la anchura de desintegración:\n",
    "\n",
    "$$\n",
    "\\Gamma_Z = 3 \\Gamma_{ee} + 2 \\Gamma_{uu} + 3 \\Gamma_{dd} + N_\\nu \\, \\Gamma_{\\nu\\nu}\n",
    "$$\n",
    "\n",
    "A parti de la medida de $\\Gamma_Z$ y del valor esperado $\\Gamma_{\\nu\\nu}$ obtenemos:\n",
    "\n",
    "$$\n",
    "N_\\nu = 2.9840\\pm 0.0082\n",
    "$$\n",
    "\n",
    "por lo tanto, **existen tres familias de neutrinos**."
   ]
  },
  {
   "cell_type": "markdown",
   "metadata": {
    "slideshow": {
     "slide_type": "slide"
    }
   },
   "source": [
    "En la figura, la vista transversal de varios eventos en ALEP, $e+e^+ \\to Z$ y $Z \\to$ hadrons, $e+^+, \\mu+\\mu^+, \\tau+\\tau^+$:\n",
    "\n",
    "| | \n",
    "| :--: |\n",
    "|  <img src=\"./imgs/sm_Zevents_ALEPH.png\" width = 400 align=\"center\"> |\n",
    "| $Z\\to$ hadrons, $e+e^+$, $\\mu+\\mu^+$, $\\tau + \\tau^+$ [ALEPH]|"
   ]
  },
  {
   "cell_type": "markdown",
   "metadata": {
    "slideshow": {
     "slide_type": "slide"
    }
   },
   "source": [
    "## El bosón de Higgs\n",
    "\n",
    "La teoría electrodébil necesita para ser coherente del mecanismo de Higgs.\n",
    "\n",
    "El modelo de Higgs da respuesta (quizás la única posible) a los siguientes problemas graves:\n",
    "\n",
    "  * Los bosones débiles son masivos, sin embargo las teorías gauge existen bosones sin masa. ¿Cómo dotar de masa a los bosones $W^\\pm, Z$?\n",
    "\n",
    "\n",
    "  * La simetría electrodébil, U(1)$_Y$ SU(2)$_L$, separa fermiones a derechas e izquierdas, $f_L, f_R$, y exige que no tengan masas.\n",
    "\n",
    "\n",
    "  * otras sección eficaz, $W^+ + W^- \\to W^+ + W^-$, crece indefinidamente a no ser que un escalar con los acoplos apropiados la controle.\n",
    "  "
   ]
  },
  {
   "cell_type": "markdown",
   "metadata": {
    "slideshow": {
     "slide_type": "slide"
    }
   },
   "source": [
    "El mecanismo de Higgs permite resolver los tres problemas de una forma económica.\n",
    "\n",
    "Es imposible discutir sobre el mecanismo de Higgs sin recurrir a TQC y el lagrangiano del SM.\n",
    "\n",
    "Vamos a dar solo unas ideas que nos permitan entender su comportamiento y descubrimiento."
   ]
  },
  {
   "cell_type": "markdown",
   "metadata": {
    "slideshow": {
     "slide_type": "slide"
    }
   },
   "source": [
    "### El bosón Higgs y sus implicaciones\n",
    "\n",
    "La forma más económica del mecanismo de Higgs es considerar la existencia de un campo escalar complejo, $\\phi$, que interacciona consigo mismo con un potencial $V(\\phi)$.\n",
    "\n",
    "El campo es un doblete de U(1)$_Y$SU(2)$_L$:\n",
    "\n",
    "$$\n",
    "\\phi = \\begin{pmatrix} \\phi^+ \\\\ \\phi^o \\end{pmatrix}\n",
    "$$\n",
    "donde $\\phi^0, \\phi^+$ son campos complejos\n",
    "\n",
    "El potencial $V(\\Phi)$ se conoce como el potencial del sombrero mexicano\n",
    "\n",
    "$$\n",
    "V(\\phi) = \\frac{\\mu^2}{2} (\\phi^\\dagger \\phi) + \\frac{\\lambda}{4} (\\phi^\\dagger \\phi)^2\n",
    "$$"
   ]
  },
  {
   "cell_type": "markdown",
   "metadata": {},
   "source": [
    "La elección de unos de sus mínimos se denomina **rotura espontánea de simetría**.\n",
    "\n",
    "Expresamos el campo de Higgs, $h(x)$ como una perturbación respecto el valor en el vacío: \n",
    "\n",
    "$$\n",
    "\\langle \\phi(x) \\rangle = \\frac{1}{\\sqrt{2}}\\begin{pmatrix}  0 \\\\ v + h(x) \\end{pmatrix}\n",
    "$$\n",
    "\n",
    "Este elección se conoce como **gauge unitaria**.\n",
    "\n",
    "La elección no cambia la física subyacente pero nos da lugar a los campos físicos conocidos.\n",
    "\n",
    "*Nota adicional:* Matemáticamente de los 4 grados de libertad iniciales, $\\phi$, quedan en uno, el bosón de Higgs, $h(x)$, los otros tres se trasladarán a las componentes logitudinales de los bosones $W^\\pm, Z$."
   ]
  },
  {
   "cell_type": "markdown",
   "metadata": {
    "slideshow": {
     "slide_type": "slide"
    }
   },
   "source": [
    "Al establecer invariancia gauge, el campo de Higgs da lugar a las interacciones:\n",
    "\n",
    " * entre los bosones débiles, $W^\\pm, Z$ y el valor $v$ del vacío, que interpretamos como la **masa de los bosones $W^\\pm, Z$**.\n",
    " \n",
    " * entre las dos componentes de quiralidad de los fermiones y el *vev*, lo que da lugar a las **masas de los fermiones**.\n",
    " \n",
    " * a interacciones entre el higgs, $h(x)$, y los bosones débiles, $W, Z$, y dar lugar a **desintegraciones del Higgs a los bosones vectoriales**\n",
    " \n",
    " * a interacciones entre el higgs, $h(x)$, y los fermiones, que a su vez da lugar a **desintegraciones a pares fermión-antifermión**\n",
    " \n",
    "*nota adicional* Además el higgs se acopla consigo mismo en vértices de tres y cuatro ramas, y con los bosones vectorales débiles en vértices de cuatro ramas."
   ]
  },
  {
   "cell_type": "markdown",
   "metadata": {
    "slideshow": {
     "slide_type": "slide"
    }
   },
   "source": [
    "### Las masas\n",
    "\n",
    "La fricción de los bosones y los fermiones con el *vev* da lugar a las masas:\n",
    "\n",
    "| | \n",
    "| :--: |\n",
    "|  <img src=\"./imgs/sm_vev_mass.png\" width = 400 align=\"center\"> |\n",
    "| acción del *vev* sobre los fermiones y los bosones débiles |\n",
    "\n",
    "En la tabla se muestra la relación entre las masas se relacionan con el *vev* y las costantes de acoplo:\n",
    "\n",
    "|  ---- fermión ---- |  ---- bosones $W^\\pm$  -----  | ------ bosón $Z$ ------ | ----- Higgs ----- |\n",
    "| :--: | :--: | :--: | :--: |\n",
    "| $m_f = \\frac{1}{\\sqrt{2}}\\lambda_f v $ | $m_W = \\frac{1}{2} g_W v$| $ m_Z = \\frac{1}{2} \\frac{g_W}{\\cos \\theta_W} v$ | $m_H = 2 \\lambda v^2$|"
   ]
  },
  {
   "cell_type": "markdown",
   "metadata": {
    "slideshow": {
     "slide_type": "slide"
    }
   },
   "source": [
    "Observamos:\n",
    "    \n",
    "   * Hay un parámetro del modelo $\\lambda_f$, que se llama **acoplo de Yukawa**, para dar la masa de cada fermión y del vev $v$. ¡Hay tantos acoplos de Yukawa como fermiones cargados!\n",
    "    \n",
    "   * Que la masa de los bosones vectoriales, $m_W, m_Z$ está fijada por $v$ y los acoplos, $g_W, g_Z$.\n",
    "   \n",
    "   * Que la masa del Higgs depende de $v^2$ y $\\lambda$. El parámetro $\\lambda$ solo interviene en la masa del Higgs.\n",
    "    \n",
    "El mecanismo de Higgs establece una relación entre la masa de los bosones vectoriales:\n",
    "\n",
    "$$\n",
    " \\cos \\theta_W = \\frac{m_W}{m_Z}\n",
    "$$"
   ]
  },
  {
   "cell_type": "markdown",
   "metadata": {
    "slideshow": {
     "slide_type": "slide"
    }
   },
   "source": [
    "A partir de los datos experimentales, $M_z, \\sin^2 \\theta_W$, el SM predice:\n",
    "\n",
    "$$\n",
    "m_W \\simeq 80.34 \\;\\; \\mathrm{GeV}\n",
    "$$\n",
    "\n",
    "Que se aproxima mucho al valor experimental.\n",
    "\n",
    "Esta relación dio credibilidad al mecanismo de Higgs antes de que se el Higgs se descubriera.\n",
    "\n",
    "*Nota adicional*: En la determinación de la masa debemos considerar también diagramas de más dimensiones, las correcciones que introducen son de tipo logaritmico, cuya dependencia principal está relacionada con la masa del $t$.\n",
    "\n",
    "Estar correcciones predijeron que la masa del $t$ ~175 GeV. El top se descubrió con el Tevatron de Fermilab en 1995."
   ]
  },
  {
   "cell_type": "code",
   "execution_count": 9,
   "metadata": {},
   "outputs": [
    {
     "name": "stdout",
     "output_type": "stream",
     "text": [
      " W mass esperada a primer orde 80.385 GeV, medida 80.378 GeV\n"
     ]
    }
   ],
   "source": [
    "s2t = units.value(\"weak mixing angle\")\n",
    "MW  = 80.378 # GeV \n",
    "MZ  = 91.1876 # GeV\n",
    "cw = np.sqrt(1 - s2t)\n",
    "mw_pred = MZ * cw\n",
    "print(' W mass esperada a primer orde {:4.3f} GeV, medida {:4.3f} GeV'.format(mw_pred, MW))"
   ]
  },
  {
   "cell_type": "markdown",
   "metadata": {},
   "source": [
    "Finalmente el valor del $vev$ se puede determinar a partir de $g_W, m_W$, o simplemente de $G_F$:\n",
    "\n",
    "$$\n",
    "v = \\frac{2m_W}{g_W} = \\sqrt{\\frac{1}{\\sqrt{2} G_F}} = 246 \\; \\mathrm{GeV}\n",
    "$$\n"
   ]
  },
  {
   "cell_type": "markdown",
   "metadata": {
    "slideshow": {
     "slide_type": "slide"
    }
   },
   "source": [
    "### La desintegración\n",
    "\n",
    "La interacción del Higgs con los fermiones y bosones vectoriales determina sus fracciones de desintegración.\n",
    "\n",
    "| | \n",
    "| :--: |\n",
    "|  <img src=\"./imgs/sm_higgs_decay.png\" width = 400 align=\"center\"> |\n",
    "| Canales de desintegración principales del Higgs |\n",
    "\n",
    "Notar que el Higgs se acopla a sus canales de desintegración proporcionalmente a la masa de éstos:\n",
    "\n",
    "\n",
    "|  ---- fermión ---- |  ---- bosones $W^\\pm$  -----  | ------ bosón $Z$ ------ |\n",
    "| :--: | :--: | :--: |\n",
    "| $\\frac{\\lambda_f}{\\sqrt{2}} = \\frac{m_f}{v} $ | $g_Z m_W $| $ g_Z m_Z$ |\n",
    "\n",
    "*Nota adicional*: El macanimos introduce vértices adicionales tripes, $HHH$, y cuadrupes, $HHVV, HHHH$, donde $H$ es el Higgs y $V$ el bosón vectorial débil. "
   ]
  },
  {
   "cell_type": "markdown",
   "metadata": {
    "slideshow": {
     "slide_type": "slide"
    }
   },
   "source": [
    "Las fracciones de desintegracción de Higgs dependeran a qué canales pueda desintegrarse respecto a su masa.\n",
    "\n",
    "Como el acoplo del Higgs es proporcional a la masa, aquellos canales permitidos con mayor masa son los favorecidos.\n",
    "\n",
    "| --------- canal ------- | ----- $Br$ ----- |\n",
    "| :--          | --: | \n",
    "| $H\\to b + \\bar{b}$ | 57.8 % |\n",
    "| $H \\to W^+ + W^-$  | 21.6 % |\n",
    "| $H \\to \\tau + \\tau^+$| 6.4 % |\n",
    "| $H \\to g + g$         |  8.6 % |\n",
    "| $H \\to c + \\bar{c}$   | 2.9 % |\n",
    "| $H \\to Z + Z^*$       | 2.7 % |\n",
    "| $H \\to \\gamma + \\gamma$| 0.2 % |\n",
    "\n",
    "En la tabla se muestran las fracciones de desintegración del Higgs para diversos canales en función de su masa.\n",
    "\n",
    "*Nota adicional* Las desintegraciones $H\\to \\gamma + \\gamma, H \\to g + g$ ocurren a través de diagramas de lazo, por ejemplo, con el intercambio en triángulo de un $t$."
   ]
  },
  {
   "cell_type": "markdown",
   "metadata": {
    "slideshow": {
     "slide_type": "slide"
    }
   },
   "source": [
    "## Descubrimiento del bosón de Higgs\n",
    "\n",
    "El bosón de Higgs se descubrió en 2012 en los experimentos ATLAS y CMS del LHC del CERN.\n",
    "\n",
    "Con anterioridad los experimentos de LEP y los experimentos CDF y D0 de Fermilab habían constreñido el valor de su masa más ligera entre: $115-150$ GeV.\n",
    "\n",
    "Los experimentos y el acelerador LHC se diseñaron en los 90's y su operación se inición a finales de los 2000's.\n",
    "\n",
    "En el LHC colisionan $p+p$ a una energía $\\sqrt{s}= 7- 14$ TeV y con una luminosidad $\\mathcal{L}(t) = 10^{34}$ cm$^{-2}$. Hay $10^{11}$ protones por paquete y una frecuencia de colisión de 40 MHz (cada 25 ns).\n",
    "\n",
    "El número de colisiones $10^{9}$ por segundo y por cada cruce hay como máximo $35$ colisiones, lo que de denomila *pile-up* (apilamiento)."
   ]
  },
  {
   "cell_type": "markdown",
   "metadata": {
    "slideshow": {
     "slide_type": "slide"
    }
   },
   "source": [
    "Las sección eficaz $p+p$ is del ~100 mbars en el LHC.\n",
    "\n",
    "Las sección eficaz de producción del $H$ entre 20 pb y 60 pbs!\n",
    "\n",
    "Los canales de desintegración dónde la señal es más fácil distingible del fondo son $H\\to Z+Z^+$ y $H \\to \\gamma \\gamma$.\n",
    "\n",
    "Eso equivale a buscar una desintegración relevante entre $10^{13}$."
   ]
  },
  {
   "cell_type": "markdown",
   "metadata": {},
   "source": [
    "@check NUMBERS"
   ]
  },
  {
   "cell_type": "markdown",
   "metadata": {
    "slideshow": {
     "slide_type": "slide"
    }
   },
   "source": [
    "### Sobre ATLAS y CMS"
   ]
  },
  {
   "cell_type": "markdown",
   "metadata": {
    "slideshow": {
     "slide_type": "slide"
    }
   },
   "source": [
    "### El descubrimiento del Higgs"
   ]
  },
  {
   "cell_type": "markdown",
   "metadata": {
    "slideshow": {
     "slide_type": "slide"
    }
   },
   "source": [
    "El Higgs se descubrión en dos canales limpios (donde los sucesos de contaminación son o afectan menos).\n",
    "\n",
    "  * $H \\to \\gamma + \\gamma$, buscando dos deposiciones en el calorímetro electromagnético, $\\gamma$s.\n",
    "  \n",
    "  Se calcula la masa invariante de los $\\gamma$s que provienen del punto de interacción.\n",
    "\n",
    "\n",
    "  * En el canal $H \\to Z + Z^* \\to (l+l^+) + (l'+l'^+)$, en cuatro leptones ($4l$), agrupados en dos parejas del mismo sabor y carga opuesta.\n",
    "  \n",
    "  Una pareja proviene de un $Z$ real, *on-shell*, y su masa invariantes es próxima al $Z$, y otra del $Z^*$ *off-shell*, que tiene menor masa invariante que el $Z$. \n"
   ]
  },
  {
   "cell_type": "markdown",
   "metadata": {
    "slideshow": {
     "slide_type": "slide"
    }
   },
   "source": [
    "La siguiente figura muestra la presenta la distribución de la masa invariante de $2 \\gamma$ (izda) para el caso de CMS y de $(4 l)$ para el caso de ATLAS con la estadística de Run-I del LHC \n",
    "\n",
    "| | \n",
    "| :--: |\n",
    "|  <img src=\"./imgs/sm_higgs_CMS_ATLAS.png\" width = 600 align=\"center\"> |\n",
    "| masa invariante para $H \\to \\gamma \\gamma$ (izda, [CMS]) y $H \\to Z+ Z^* \\to 4 l$ (derecha, [ATLAS])|\n"
   ]
  },
  {
   "cell_type": "markdown",
   "metadata": {
    "slideshow": {
     "slide_type": "slide"
    }
   },
   "source": [
    "Observamos:\n",
    "    \n",
    "   * La presencia de un pico en la masa invariante en ambas distribuciones a 125 GeV.\n",
    "   \n",
    "   * Ese pico es incompatible con el fondo, en combinación a ~6 desviaciones estandars. \n",
    "  \n",
    "Con los datos del run-I del LHC se pudo concluir además:\n",
    "   \n",
    "   * que se trataba de una partícula escalar a partir de las distribuciones angulares de $(4l)$ en el canal $H\\to 4 l$.\n",
    "   \n",
    "   * que el acoplo a otros canales $\\tau\\tau^+, b \\bar{b}$ es el esperado por el SM"
   ]
  },
  {
   "cell_type": "markdown",
   "metadata": {
    "slideshow": {
     "slide_type": "slide"
    }
   },
   "source": [
    "En la figura dos eventos de ATLAS, identificados como $H \\to \\gamma\\gamma$ (izda) y $H \\to e+e^++\\mu+\\mu^+$\n",
    "\n",
    "| | |\n",
    "| :--: | :--: |\n",
    "|  <img src=\"./imgs/sm_atlas_h2gammas_event.png\" width = 320 align=\"center\"> | <img src=\"./imgs/sm_atlas_h4leptons_event.png\" width = 320 align=\"center\"> |\n",
    "| $H \\to \\gamma + \\gamma$ event | $H \\to 4l$ event [ATLAS events](https://twiki.cern.ch/twiki/bin/view/AtlasPublic/EventDisplaysFromHiggsSearches) |"
   ]
  },
  {
   "cell_type": "markdown",
   "metadata": {
    "slideshow": {
     "slide_type": "slide"
    }
   },
   "source": [
    "## Conclusions\n",
    "\n",
    "El SM:\n",
    "\n",
    "  * El SM describe con gran precisión las partículas y las interacciones que conocemos.\n",
    "  \n",
    "  * El SM se ha verificado en una gran cantidad de precesos físicos.\n",
    "  \n",
    "  * No obstante sabemos que los neutrinos tienen masa, lo que implica que debemos extender el SM.\n",
    "  \n",
    "Pero:\n",
    "  \n",
    "  * No incluye otra física conocida, como la materia oscura, ¿qué partículas la forman?\n",
    "  \n",
    "  * El modelo tiene cinco parámetros fundamentales $e, g_W, g_S, v, \\lambda$, dos de ellos corresponden al Higgs. Experimentalmente $\\alpha, G_L, \\alpha_S, m_W, M_H$.\n",
    "\n",
    "  * Tiene 9 parámetros adcionales, los acoplos de Yukawa; 4 más para acomodar la matriz CKM de los quarks, y 3 o 4 más para la PNMS de los leptones. \n"
   ]
  },
  {
   "cell_type": "markdown",
   "metadata": {
    "slideshow": {
     "slide_type": "slide"
    }
   },
   "source": [
    "### cuestiones abiertas\n",
    "\n",
    " * ¿Es el neutrino su propia antipartícula? ¿Cómo se acopla al Higgs?\n",
    "\n",
    " * ¿Cuál es el origen de los valores de masas? ¿Por qué es tan pequeña la del neutrino?\n",
    "\n",
    " * ¿Por qué hay 3 familias? ¿Qué releación guardan, si la hay, la matriz CKM y PNMS?\n",
    "\n",
    " * ¿El el Higgs único? ¿Es el Higgs compuesto?\n",
    " \n",
    " * ¿Cuál es el origen del potecial del bosón de Higgs, $V(\\Phi)$?\n",
    " \n",
    " * ¿Hasta qué escala de energía, $\\Lambda$, es válido el SM? ¿A qué energía aparecerá nueva física?\n"
   ]
  },
  {
   "cell_type": "markdown",
   "metadata": {},
   "source": [
    "## Bibliografía\n",
    "\n",
    "\n",
    "  * [MT] Mark Tomsom, \"Modern Particle Physics\", Cambridge U. press, Temas 15, 16 y 17.\n",
    "  \n",
    "  * [AB] Alessandro Bettini, \"Introduction to Elementary Particle Physcs\", Cambridge U. press, Tema 9. \n",
    "  \n",
    "  * [PK] M. Peskik, Lectures on the Theory of the Weak Interaction, SLAC–PUB–17142, (2017), [arXiv:1708.0943v1](https://arxiv.org/abs/1708.09043)\n",
    "  \n",
    "  * [PDG](https://pdg.lbl.gov/) Particle Data Group.\n",
    "  \n",
    "  * [LEP-SLD] LEP and SLD Collaborations. 2006. Phys. Rept., 427, 257–454.\n",
    "  \n",
    "  * [DELPHI] P. Abreu et al., DELPHI Collaboration, *Eur. Phys. J.* **C 11**, 383 (1999).\n",
    "  \n",
    "  * [ALEPH] D. Decamp et al., ALEPH Collaboration, *Z. Phys.* **C 48**, 365 (1990)\n",
    "\n",
    "  * [CMS] V. Khachatryan et al., CMS Collaboration, *Eur. Phys. J.* **C 74**, no. 10, 3076 (2014) [arXiv:1407.0558](https://arxiv.org/abs/1407.0558) \n",
    "  \n",
    "  * [ATLAS] G. Aad et al., ATLAS Collaboration, *Phys. Lett.* **B 726**, 88 (2013) Erratum: [Phys. Lett. B 734, 406 (2014)] [arXiv:1307.1427](https://arxiv.org/abs/1307.1427)"
   ]
  },
  {
   "cell_type": "code",
   "execution_count": 10,
   "metadata": {
    "slideshow": {
     "slide_type": "slide"
    }
   },
   "outputs": [
    {
     "ename": "NameError",
     "evalue": "name 'Ejercicio' is not defined",
     "output_type": "error",
     "traceback": [
      "\u001b[0;31m---------------------------------------------------------------------------\u001b[0m",
      "\u001b[0;31mNameError\u001b[0m                                 Traceback (most recent call last)",
      "\u001b[0;32m/var/folders/56/_pmdccc97ljb_l3v3s6gkrxm0000gn/T/ipykernel_13595/2716437163.py\u001b[0m in \u001b[0;36m<module>\u001b[0;34m\u001b[0m\n\u001b[0;32m----> 1\u001b[0;31m \u001b[0mEjercicio\u001b[0m\u001b[0;34m\u001b[0m\u001b[0;34m\u001b[0m\u001b[0m\n\u001b[0m",
      "\u001b[0;31mNameError\u001b[0m: name 'Ejercicio' is not defined"
     ]
    }
   ],
   "source": [
    "Ejercicio"
   ]
  },
  {
   "cell_type": "code",
   "execution_count": 7,
   "metadata": {},
   "outputs": [
    {
     "name": "stdout",
     "output_type": "stream",
     "text": [
      "Expected tau, tau+ events  2057142.857142857\n",
      "Observed mu, mu+   events  2378.057142857143\n"
     ]
    }
   ],
   "source": [
    "sigma   = 60 * units.nano * 1e-24\n",
    "lumi    = 1e32\n",
    "t       = 1e7\n",
    "Gz      = 2.45 # GeV\n",
    "Gl      = 0.084 # GeV\n",
    "Br      = 0.17\n",
    "epsilon = 0.2\n",
    "Ntau    = sigma * lumi * t * Gl /Gz\n",
    "Nmu     = Ntau * (Br * epsilon)**2\n",
    "print('Expected tau, tau+ events ', Ntau)\n",
    "print('Observed mu, mu+   events ', Nmu)"
   ]
  },
  {
   "cell_type": "markdown",
   "metadata": {
    "slideshow": {
     "slide_type": "slide"
    }
   },
   "source": [
    "#### Partículas y Cosmología\n",
    "\n",
    "La Física de Partículas también nos permite entender la evolución primigenia del Universo (Cosmología).\n",
    "\n",
    "  A partir de los $10^{-32}$ s después del Big Bang el Universo se rigue por el Modelo Estardad, y depués de 100 s tiene lugar la Nucleoséntisis (Nuclear).\n",
    "\n",
    "\n",
    "<img src=\"./imgs/intro_particles_cosmology.jpg\" width = 600 align=\"center\">\n"
   ]
  },
  {
   "cell_type": "markdown",
   "metadata": {
    "slideshow": {
     "slide_type": "slide"
    }
   },
   "source": [
    "Existe una relación de continuidad entre ramas de la física:\n",
    "\n",
    "<center>\n",
    "Astropartículas $\\Leftrightarrow$ Partículas $\\Leftrightarrow$ Nuclear\n",
    "</center>\n",
    " \n",
    "El *Instituto Galego de Fíxica de Altas Enerxías*, [IGFAE](https://igfae.usc.es/igfae/gl/), cubre las tres ramas y sus posibles aplicaciones."
   ]
  },
  {
   "cell_type": "markdown",
   "metadata": {
    "slideshow": {
     "slide_type": "slide"
    }
   },
   "source": [
    "#### Teoría, experimentos, detectores\n",
    "\n",
    "La Física de Partículas es una rama que involucra a la física teórica, experimental y la de detectores.\n",
    "\n",
    "   * Los avances en detección hicieron posible nuevos discubrimientos (i.e detectores de silicio para el LHC)\n",
    "\n",
    "   * Los descubrimientos marcan las líneas permitidas de las teorías (i.e. violación de Paridad)\n",
    "\n",
    "   * La teoría indica experimentos de interés (i.e. descubrimiento de las corrientes neutras, el bosón de Higgs)\n",
    "   \n",
    "   \n",
    " <center>\n",
    "   Detectores $\\Leftrightarrow$ Experimentos $\\Leftrightarrow$ Teorías\n",
    " </center>\n",
    " \n",
    " y se relaciona con otras áreas:\n",
    " \n",
    " <center>\n",
    "    Ingeniería | Química | Computación\n",
    " </center>"
   ]
  },
  {
   "cell_type": "markdown",
   "metadata": {
    "slideshow": {
     "slide_type": "slide"
    }
   },
   "source": [
    "#### La gran ciencia\n",
    "\n",
    "Algunos de los experimentos y de los acelerados son grandes construcciones únicas, que requieren de la participación de centenares o miles de científicos y una gran financiación.\n",
    "\n",
    "Las estructuras de los experimentos son complejos, su planificación, construcción y explotación duran décadas.\n",
    "\n",
    "<img src=\"./imgs/intro_atlas.jpg\" width = 500 align=\"center\">\n",
    "\n",
    "El experimento [ATLAS](https://atlas.cern/) del LHC es uno de los más grandes experimentos construidos. \n"
   ]
  },
  {
   "cell_type": "markdown",
   "metadata": {
    "slideshow": {
     "slide_type": "slide"
    }
   },
   "source": [
    "#### Grandes Laboratorios\n",
    "\n",
    "Los experimentos de Física de Partículas tienen lugar en grandes laboratorios internacionales.\n",
    "  \n",
    "Basados en aceleradores:\n",
    "  \n",
    "   * [CERN](https://home.cern) (Ginebra, Suiza).\n",
    "     \n",
    "   * [Fermilab](https://www.fnal.gov/) (cerca de Chicago, Illinois), [SLAC](https://www6.slac.stanford.edu/) (Stanford, California), [Brookhaven](https://www.bnl.gov/world/) (New York)\n",
    "     \n",
    "   * [KEK](https://www.kek.jp/en/) (Japón)\n",
    "     \n",
    "Subterráneos:\n",
    "  \n",
    "   * [LNGS](https://www.lngs.infn.it/en) (Italia), [Kamioka](http://www-sk.icrr.u-tokyo.ac.jp/index-e.html) (Japon), [SNOLAB](https://www.snolab.ca/) (Canada), [Canfranc](https://lsc-canfranc.es/) (Spain)."
   ]
  },
  {
   "cell_type": "markdown",
   "metadata": {
    "slideshow": {
     "slide_type": "slide"
    }
   },
   "source": [
    "#### Aplicaciones prácticas\n",
    "\n",
    "Las técnicas desarrolladas para los detectores y el volumen de tratamiento de datos han dado lugar a aplicaciones fundamentales:\n",
    "\n",
    "   * Física Médica (rayos-X, PEP, terapia hadrónica)\n",
    "   \n",
    "   * World Wide Wed ([WWW](https://home.cern/science/computing/birth-web/short-history-web)) "
   ]
  },
  {
   "cell_type": "markdown",
   "metadata": {
    "slideshow": {
     "slide_type": "slide"
    }
   },
   "source": [
    "### History\n",
    "\n",
    "La historia de Partículas es una carrera por alcanzar haces de más energía y detectores más precisos.\n",
    "\n",
    "La Física de Partículas es una rama que involucra a la física teórica, experimental y la de detectores.\n",
    "\n",
    "<img src=\"./imgs/intro_detector_experiment_theory.jpg\" width = 500 align=\"center\">"
   ]
  },
  {
   "cell_type": "markdown",
   "metadata": {
    "slideshow": {
     "slide_type": "slide"
    }
   },
   "source": [
    "<img src=\"./imgs/intro_particles_history.jpg\" width = 800 align=\"center\">"
   ]
  },
  {
   "cell_type": "markdown",
   "metadata": {
    "slideshow": {
     "slide_type": "slide"
    }
   },
   "source": [
    "@TODO: add fechas \n",
    "\n",
    "Los grandes desarrollos de detetectores y aceleradores se traducen en descubrimientos científicos.\n",
    "\n",
    "  * Las emusionen permitieron la observación de partículas, $\\mu, \\pi$\n",
    "\n",
    "  * Las centelleadores y los reactores nucleares el descubrimiento del neutrino $\\nu_e$. \n",
    "  \n",
    "  * Las cámaras de hilos el descubrimiento de los bosones $W$\n",
    "  \n",
    "  * Los detectores de silicio la determinación de partículas con vida corta $\\tau, B$"
   ]
  },
  {
   "cell_type": "markdown",
   "metadata": {
    "slideshow": {
     "slide_type": "slide"
    }
   },
   "source": [
    "Los experimentos revelan una Naturaleza inesperada:\n",
    "\n",
    "  * La violación de Paridad y CP en corrientes débiles.\n",
    "  \n",
    "  * Tres familias de leptones y de quarks.\n",
    "  \n",
    "  * La matrix de mezcla, CKM, que rigue los corrientes cargadas entre los quarks.\n",
    "  \n",
    "  * Oscilaciones de neutrinos."
   ]
  },
  {
   "cell_type": "markdown",
   "metadata": {
    "slideshow": {
     "slide_type": "slide"
    }
   },
   "source": [
    "La construcción de la teoría guía a los descubrimientos:\n",
    "\n",
    "  * Pauli postula la existencia del neutrino.\n",
    "\n",
    "  * Gellman propone el modelo de quarks y las ordenación de 'zoo' de hadrones.\n",
    "    \n",
    "  * La unificaficación electro-debil predice las corrientes neutras de neutrinos.\n",
    "  \n",
    "  * La rotura espontánea de simetría postula la existencia del bosón de Higgs."
   ]
  },
  {
   "cell_type": "markdown",
   "metadata": {
    "slideshow": {
     "slide_type": "slide"
    }
   },
   "source": [
    "Los avacen experimentales más relevantes:\n",
    "    \n",
    "  * El descubrimento del positron (antimateria)\n",
    "  \n",
    "  * El descubrimiento de partículas inesperadass: $\\mu, ...$\n",
    "  \n",
    "  * El descubrimiento del neutrino y sus propiedades.\n",
    "  \n",
    "  * La violación de Paridad y de CP en corrientes débiles\n",
    "  \n",
    "  * La existencia de los quarks y los gluones\n",
    "  \n",
    "  * La existencia de las corrientes neutras y la verificación del SM\n",
    "  \n",
    "  * La verificación de la matrix de mezclas CKM\n",
    "  \n",
    "  * El descubrimiento de oscilaciones de neutrinos\n",
    "  \n",
    "  * La descubrimiento del bosón de Higgs"
   ]
  },
  {
   "cell_type": "markdown",
   "metadata": {
    "slideshow": {
     "slide_type": "slide"
    }
   },
   "source": [
    "Los avences tóricos más importantes:\n",
    "\n",
    "  * La ecuación de Dirac y la existancia de la antimateria\n",
    "  \n",
    "  * El potencial de Yukawa\n",
    "  \n",
    "  * La teoría de Fermi, interacciones entre corrientes.\n",
    "  \n",
    "  * Los diagramas de Feymann (QED)\n",
    "  \n",
    "  * El modelo de quarks de Gellman and Zweig.\n",
    "  \n",
    "  * La unificación electro-débil, la modelo estandard (MS) de Glashow, Salam y Weinberg.\n",
    "  \n",
    "  * El mecanismo de Higgs y Englert."
   ]
  },
  {
   "cell_type": "markdown",
   "metadata": {
    "slideshow": {
     "slide_type": "slide"
    }
   },
   "source": [
    "### El modelo estandar\n",
    "\n",
    "EL modelo estandar (SM) de Física de Partículas que clasifica las partículas elementales y establece sus interacciones a través de las fuerzas electromagnética, débil y fuerte.\n",
    "\n",
    "El *Particle Data Group* ([PDG](https://pdg.lbl.gov/)) recopila toda la información relevantes sobre física de partículas. "
   ]
  },
  {
   "cell_type": "markdown",
   "metadata": {
    "slideshow": {
     "slide_type": "slide"
    }
   },
   "source": [
    "<img src=\"./imgs/intro_SM_table.png\" width = 600 align=\"center\">"
   ]
  },
  {
   "cell_type": "markdown",
   "metadata": {
    "slideshow": {
     "slide_type": "slide"
    }
   },
   "source": [
    "Recordemos que la fuerzas son responsables entre otras:\n",
    "    \n",
    "   * electromagnética: de la estabilidad y complejidad de los átomos\n",
    "        \n",
    "   * fuerte: de la estabilidad y complejidad de los núcleos (protones y neutrones)\n",
    "        \n",
    "   * débil: de las desintegraciones $\\beta$ nucleares."
   ]
  },
  {
   "cell_type": "markdown",
   "metadata": {
    "slideshow": {
     "slide_type": "slide"
    }
   },
   "source": [
    "#### Fermiones\n",
    "\n",
    "Los **fermiones** son las partículas fundamentales, tienen spin 1/2, y son los constituyentes básicos de la materia. \n",
    "\n",
    "Se dividen en:\n",
    "\n",
    "  * **quarks** : si interaccional fuertemente\n",
    "  \n",
    "  * **leptons**: si no interaccionan fuertemente\n",
    "    \n",
    "| fuerte | electromagnética | débil | \n",
    "|---      |:--       | :--          |\n",
    "| quarks | quarks y leptones cargados  | quarks y leptones |\n",
    "\n",
    "Los neutrinos sólo sienten la fuerza débil."
   ]
  },
  {
   "cell_type": "markdown",
   "metadata": {},
   "source": [
    "#### anti-partículas\n",
    "\n",
    "Los fermiones se riguen por la ecuación de Dirac. Son espinores de Dirac. Por cada fermión existe un anti-fermión.\n",
    "\n",
    "Una **antipartícula** tiene las cargas y los números cuánticos opuestos a su partícula (a excepción del spín y la masa que no cambian)\n",
    "\n",
    "Si $f$ es un fermión, denotamos $\\bar{f}$ como su anti-fermión,\n",
    "excepto para los leptones cargados, donde indicamos su anti-leptón con la carga positivos: $e^+, \\mu^+, \\tau^+$"
   ]
  },
  {
   "cell_type": "markdown",
   "metadata": {
    "slideshow": {
     "slide_type": "slide"
    }
   },
   "source": [
    "#### las tres generaciones de fermiones\n",
    "\n",
    "Los fermiones (tanto leptones como quarks) se agrupan en **tres generaciones** o familias. \n",
    "\n",
    "Las tres generaciones de leptones se comportan con **universalidad** (de igual manera) frente a las interacciones si se tiene en cuenta que sus masas son diferentes. \n",
    "\n",
    "\n",
    "En cada generación, tanto leptones como quarks, se agrupan en **dupletes** con posiciones **arriba** y **abajo**.\n",
    "\n",
    "Su posición está asociada a la carga débil que se denomina **isoespín débil**."
   ]
  },
  {
   "cell_type": "markdown",
   "metadata": {
    "slideshow": {
     "slide_type": "slide"
    }
   },
   "source": [
    "|         | posición |             | mass        |              | Q (e)           | fuerte | electromagnética | débil | \n",
    "|---      |:--       | :--         |:--          | :--          | :--             | :--    |:--     |:--   |\n",
    "|         |          |      I       |    II      |       III            |           |  |  | | \n",
    "|quarks   | up       |  u  (2 MeV) | c (1.2 GeV) | t (170 GeV)  | $\\frac{2}{3}$   | sí | sí | sí |\n",
    "|         | down     |  d  (5 MeV)  | s (93 MeV)  | b (4.2 GeV)  |  $\\frac{-1}{3}$ | sí | sí|  sí |\n",
    "|         |\n",
    "| leptons | up       | $\\nu_e$ (< eV)| $\\nu_\\mu$ (< eV) | $\\nu_\\tau$ (<eV)   | 0  | no | no | sí |\n",
    "|         | down     | $e$   (511 keV)| $\\mu$  (106 MeV)| $\\tau$  (1.85 GeV) | -1 | no | sí | sí |\n",
    "\n",
    "\n",
    "La carga eléctrica depende de su posición en el duplete. \n",
    "\n",
    "Las masas son muy diferentes entre generaciones. La mayor diferencia se da entre el $e$ y su neutrino $\\nu_e$.\n",
    "\n",
    "El electrón es 2000 veces más ligero que un protón. Del neutrino desconocemos su masa, pero es al menos $5 \\times 10^5$ veces más pequeña que el electrón.\n",
    "\n",
    "@todo hacer plot de scala de masas y puntos con labels"
   ]
  },
  {
   "cell_type": "markdown",
   "metadata": {
    "slideshow": {
     "slide_type": "slide"
    }
   },
   "source": [
    "#### Los hadrones.\n",
    "\n",
    "Los leptones se presentan aislados en la naturaleza.\n",
    "\n",
    "Los quarks no. Siempre están en particulas compuestas con carga eléctrica entera.\n",
    "\n",
    "La fuerza fuerze describe esta realidad con la propiedad de **confinamiento**: los quarks no peuden ser libres.\n",
    "\n",
    "La carga asociada a la fuerza fuerte es el **color** que tiene tres posibilidades: RGB (red, green, blue). Y por supuesto no tiene nada que ver con los colores habituales. Los hadrones no tiene color global (son *blancos*).\n"
   ]
  },
  {
   "cell_type": "markdown",
   "metadata": {
    "slideshow": {
     "slide_type": "slide"
    }
   },
   "source": [
    "\n",
    "Las partículas con varios quarks se llaman **hadrones**.\n",
    "\n",
    "Los hadrones formados con tres quarks se llaman **bariones**. \n",
    "\n",
    "Los hadrones formados por un quark y un anti-quark se llaman **mesones**.\n",
    "\n",
    "\n",
    "<img src=\"./imgs/intro_hadrons.png\" width = 300 align=\"center\">\n"
   ]
  },
  {
   "cell_type": "markdown",
   "metadata": {
    "slideshow": {
     "slide_type": "slide"
    }
   },
   "source": [
    "El protón y el neutrón son bariones.\n",
    "\n",
    "El protón está formado por el trío $uud$ y el neutrón por $udd$.\n",
    "\n",
    "Existe un zoo de hadrones, con propiedades varias, dependiendo de sus masas, carga y composición. \n",
    "\n",
    "los piones, $\\pi^\\pm, \\pi^0$, son los mesones más ligeros y están formado por combinaciones de quarks y antiquarks $ud$\n",
    "\n",
    "los kaones, $K^{\\pm}, K^0$, son mesones que contienen un quark extraño $s$ y otro quark $u$ o $d$.\n"
   ]
  },
  {
   "cell_type": "markdown",
   "metadata": {
    "slideshow": {
     "slide_type": "slide"
    }
   },
   "source": [
    "#### Estabilidad.\n",
    "\n",
    "Las generaciones II y III son inestables, y se desintegran via la interación fuertes, débiles o electromagnéticas, dependiendo de la partícula y sus propiedades, hasta partículas compuestas por la generación I, neutrinos o fotones.\n",
    "\n",
    "Los leptones cargados se desintegran débilmente, sus vidas son (s):\n",
    "\n",
    "\n",
    "| $e$ | $\\mu$ | $\\tau$|\n",
    "| :------------| :------------- | :--------------- |\n",
    "| estable | $2.6 \\, 10^{-6}$| $2.9 \\, 10^{-13}$|\n",
    "\n",
    "\n",
    "Los leptones estables son el $e$ y los neutrinos.\n"
   ]
  },
  {
   "cell_type": "markdown",
   "metadata": {},
   "source": [
    "Los hadrones libres se desintegran, dependiendo de la interacción que tienen permitida.\n",
    "\n",
    "Vidas de algunos hadrones (s):\n",
    "\n",
    "\n",
    "| $p$ | $n$ | $\\pi^0$| $\\pi^\\pm$ | $K^\\pm$| \n",
    "| :--- | :--- | :--- | :-- | :-- | \n",
    "| estable | $900$| $8.4 \\, 10^{-17}$| $2.6 \\, 10^{-8}$| $1.23 \\, 10^{-8}$ |\n",
    "\n",
    "La única partícula hadrónica libre estable es el protón.\n",
    "\n",
    "El Universo está formado casi en totalidad por protones, neutrones, electrones y neutrinos. Esto es (𝑢,𝑑),(𝜈,𝑒)\n",
    "\n",
    "\n",
    "Por eso decimos que el Universo es de 'baja energía'.\n",
    "\n",
    "El átomo está compuesto de un núcleo con protones (que a su vez tiene un trio de quarks 𝑢𝑢𝑑\n",
    ") y neutrones (𝑢𝑑𝑑); y electrones.\n",
    "\n",
    "@todo plot con las vidas medias de algunas partículas."
   ]
  },
  {
   "cell_type": "markdown",
   "metadata": {},
   "source": [
    "#### Creación de partículas\n",
    "\n",
    "Para crear una partícula necesitamos al menos una energía equivalente a la masa de la nueva partícula. $E = m c^2$.\n",
    "\n",
    "Un par fermión-antifermión se puede aniquilar (mediante el intercambio de bosones neutros) para producir otro par de fermión-antifermión. $(e^- + e^- \\to \\mu^- + \\mu^+)$.\n",
    "\n",
    "Siempre que producimos una anti-fermión producimos también su fermión. Siempre que creamos anti-materia creamos materia.\n",
    "\n",
    "Existen dos tipos principales de experimentos de creacción de partículas:\n",
    "\n",
    "  * colisionador: haces de $e, e^+, p, \\bar{p}$ colisionan entre sí, por ejemplo [LEP](https://es.wikipedia.org/wiki/Large_Electron-Positron_collider) ($e^+e^-$)\n",
    "\n",
    "  * blanco fijo (*fixed target*): haces de $e, p, \\mu, \\nu$ contra un material (átomos, núcleos). Experimentos de neutrinos, por ejemplo el experimento [Gargamelle](https://en.wikipedia.org/wiki/Gargamelle).\n",
    "\n",
    " "
   ]
  },
  {
   "cell_type": "markdown",
   "metadata": {},
   "source": [
    "#### Colisionadores\n",
    "\n",
    "Colisionadores recientes:\n",
    "\n",
    "| collider | Laboratory | Type       | Period    | Energy, $\\sqrt{s}$, (GeV) | Luminosity, $\\mathcal{L}$, ($cm^{-2}s^{-1})$ |\n",
    "| :--      | :--        | :--        | :--       | :--              | :-- |\n",
    "| PEP-II   | SLAC       | $e^+e^-$   | 1999-2009 | 10.5             | $1.2 \\, 10^{34}$|\n",
    "| LEP      | CERN       | $e^+e^-$   | 1989-2000 | 90-209           |  $10^{32}$ |\n",
    "| Tevatron | Fermilab   | $p\\bar{p}$ | 1987-2012 | 1960             | $4 \\, 10^{32}$ |\n",
    "| LHC      | CERN       | $p p$      | 2009-     | 14000            | $10^{34}$| "
   ]
  },
  {
   "cell_type": "markdown",
   "metadata": {
    "slideshow": {
     "slide_type": "slide"
    }
   },
   "source": [
    "Los dos parámetros fundamentales de un colisionador son:\n",
    "    \n",
    " * **Energía** en el centro de masas, $\\sqrt{s}$, que limita la masa de las partículas que podemos crear.\n",
    "\n",
    " * **Luminosidad**, o el número de partículas que lanzamos entre ellas por unidad de área y tiempo.\n",
    "Delimita el número de interacciones interesantes en cada cruze. \n",
    "\n"
   ]
  },
  {
   "cell_type": "markdown",
   "metadata": {
    "slideshow": {
     "slide_type": "slide"
    }
   },
   "source": [
    "\n",
    "Para dos vagones con $n_1, n_2$ partículas que se cruzan entre sí en la dirección $z$ con una frecuencia $f$ y que tienen una sección transversal gausiana $\\sigma_x, \\sigma_y$, la luminosidad es:\n",
    " \n",
    " $$\n",
    " \\mathcal{L} = f \\frac{n_1 n_2}{ 4 \\pi \\sigma_x \\sigma_y}\n",
    " $$\n",
    " \n",
    " Si un tipo de interacción tiene una sección eficaz $\\sigma$, esperamos $n = \\sigma \\mathcal{L}$ interaciones por cruze. Recordar que la sección eficaz $\\sigma$ se mide en $m^2$ o en unidades naturales barns (1 barn = $10^{-24} cm^2$.\n",
    "\n",
    " Y a lo largo de un tiempo (típicamente años), $N = \\int_t \\sigma \\mathcal{L}(t) \\, \\mathrm{d}t$. \n",
    " \n",
    " Donde $\\mathcal{L}(t)$ es la luminosidad instantanea. A la canditad $\\int_t \\mathcal{L}(t) \\, \\mathrm{d}t$ la llamamos luminosidad integrada.\n",
    "\n",
    " A la interación por cruce se las conoce como **evento**.\n"
   ]
  },
  {
   "cell_type": "markdown",
   "metadata": {},
   "source": [
    "#### Alguna preguntas sin respuesta:\n",
    "\n",
    "* ¿Son los quarks y leptones elementales?\n",
    "\n",
    "* ¿Por qué hay 3 generaciones?\n",
    "\n",
    "* ¿Hay un patrón de masas de los fermiones?\n",
    "\n",
    "* ¿Por qué hay tanta disparidad de masas entre el neutrino y el resto de fermiones?\n",
    "\n",
    "* ¿Por qué el Universo está formado muy primordialmente por materia y no anti-materia?\n",
    "\n",
    "* ¿Por qué si el protón es compuesto su carga eléctrica es exactamente igual y opuesta a la del electrón?"
   ]
  },
  {
   "cell_type": "markdown",
   "metadata": {
    "slideshow": {
     "slide_type": "slide"
    }
   },
   "source": [
    "##### Propiedades de los portadores\n",
    "\n",
    "La interacción se describe entre dos fermiones mediante el intercambia de otra partícula (virtual) que es el portador.\n",
    "\n",
    "Cada portador interviene según la carga (eléctrica, isospín débil, color) del fermión al que se acopla.\n",
    "\n",
    "Los portadores son bosones vectoriales (spín 1), son los trasmisores de la fuerza.\n",
    "\n",
    "\n",
    "La intensidad approximada para dos partículas a una distancia de $10^{-15}$ m. \n",
    "\n",
    "| fuerza            | intensidad | bosón            | Q (e) | mass (GeV) |\n",
    "| :--               | :--        | :--              | :--   | :--     | \n",
    "| fuerte            | 1          | $g$ (gluón)      | 0     | 0       | \n",
    "| electromagnetismo | $10^{-3}$  | $\\gamma$ (fotón) | 0     | 0       | \n",
    "| débil             | $10^{-8}$  | $W^{\\pm}$        | $\\pm1$  | 80.4 | \n",
    "|                   |           | $Z^0$              | 0  | 91.2 |\n",
    "| gravedad          | $10^{-37}$| "
   ]
  },
  {
   "cell_type": "markdown",
   "metadata": {},
   "source": [
    "La masa del bosón determina el rango (en distancia) de la interacción. El rango de la interacciones débiles es de $10^{-15}$ m. \n",
    "\n",
    "El rango de $100$ GeV, aproximadamente la masa del bosón $Z$, se conoce como **escala electrodébil.**\n",
    "\n",
    "Los bosones $W^\\pm$ son cargados. Sus interacciones se conocen como **corrientes cargadas** (CC).\n",
    "\n",
    "Las interacciones del bosón $Z^0$ se denominan también **corrientes neutras** (NC). \n",
    "\n",
    "Existen 8 typos de gluones, que cambian el color de los quarks, son electricamente neutros y de masa nula. \n",
    "\n",
    "Los quarks y gluones exiben la propiedad de confinamiento y no pueden observarse aislados. Es por ello que a pesar de su masa nula, el rango de acción de la fuerza fuerte es también de $10^{-15}$ m."
   ]
  },
  {
   "cell_type": "markdown",
   "metadata": {},
   "source": [
    "### Observables\n",
    "\n",
    "En física de partículas habitualmente estimamos:\n",
    "\n",
    "  * La sección eficaz, $\\sigma$, de una interacción (barns).\n",
    "  \n",
    "  * El tiempo de vida, $\\tau$, (s) o su inverso, la anchura de desintegración, $\\Gamma$, (GeV).\n",
    "  \n",
    "  * La fracción de desintegración, $\\mathcal{BR}$, en un canal (%) (por ejemplo: $\\tau \\to \\mu \\bar{\\nu}_\\mu \\bar{\\nu}_\\tau$)\n",
    "  \n",
    " \n",
    "\n",
    "\n"
   ]
  },
  {
   "cell_type": "markdown",
   "metadata": {
    "slideshow": {
     "slide_type": "slide"
    }
   },
   "source": [
    "#### Elementos de la interacción.\n",
    "\n",
    "La ideas fundamentales sobre la interacción entre partículas:\n",
    "\n",
    "  * se produce mediante un portador o mediador (Yukawa).\n",
    "  \n",
    "  * tiene lugar entre dos corrientes de fermiones (Fermi).\n",
    "  \n",
    "  * Regla de Oro de Fermi. La probabilidad de la interacción es proporcional a $|M_{if}|^2$, donde $M_{if}$ es la matriz de transición entre los estados iniciales y finales.\n",
    "  "
   ]
  },
  {
   "cell_type": "markdown",
   "metadata": {},
   "source": [
    "#### Diagrammas de Feynman\n",
    "\n",
    "Son una representación gráfica de la interacción y proporcional una reglas de cálculo de la matriz de transición.\n",
    "\n",
    "La derivación se obtiene de teoría cuántica de campos (QFT)\n"
   ]
  },
  {
   "cell_type": "markdown",
   "metadata": {
    "slideshow": {
     "slide_type": "slide"
    }
   },
   "source": [
    "\n",
    "En los diagramas de Feynman:\n",
    "    \n",
    "<img src=\"./imgs/feynman_default.png\" width = 300 align=\"center\">\n",
    "\n",
    "   * partículas iniciales (a, b) y finales (c,d), el portador de la interacción (X), vértices de interacción, con itensidad dada por la **constante de acoplo** $g$. El eje temporal es el horizontal.\n",
    "\n",
    "   * Dado que no observamos $X$ lo colocamos verticalmente porque no sabemos su ordenamiento en el tiempo."
   ]
  },
  {
   "cell_type": "markdown",
   "metadata": {},
   "source": [
    "#### Vértices con las interacciones\n",
    "\n",
    "<img src=\"./imgs/feynman_forces.png\" width = 500 align=\"center\">\n",
    "\n",
    "\n",
    "En los vértices se conserva la carga eléctrica y el número total de partículas + antipartículas.\n",
    "\n",
    "Las interacciones no cambian la identidad del fermión a excepción de la corriente débil cargada (mediada por $W^\\pm$) que cambia la identidad, cambia el **sabor**.\n",
    "\n",
    "Cada interacción tiene una intensidad relacionada con (un scalar) asociado al vértice: $e, g_s, g_w, q_z$"
   ]
  },
  {
   "cell_type": "markdown",
   "metadata": {},
   "source": [
    "El bosón $W$ se acopla con un leptón de arriba y abajo pero siempre de la misma generación.\n",
    "\n",
    "$$\n",
    "\\begin{pmatrix}\\nu_e \\\\ e \\end{pmatrix}, \\; \\begin{pmatrix}\\nu_\\mu \\\\ \\mu \\end{pmatrix}, \\;\n",
    "\\begin{pmatrix}\\nu_\\tau \\\\ \\tau \\end{pmatrix}\n",
    "$$\n",
    "\n",
    "La constante de acoplo es la misma para las tres generaciones $g_W$ (universalidad).\n",
    "\n",
    "<img src=\"./imgs/feynman_wleptons.png\" width = 500 align=\"center\">\n"
   ]
  },
  {
   "cell_type": "markdown",
   "metadata": {
    "slideshow": {
     "slide_type": "slide"
    }
   },
   "source": [
    "O entre un quark de arriba y de abajo:\n",
    "$$\n",
    "\\begin{pmatrix}u \\\\ d \\end{pmatrix}, \\; \\begin{pmatrix} u \\\\ s \\end{pmatrix}, \\; \\begin{pmatrix}u \\\\ b \\end{pmatrix} \\\\\n",
    "\\begin{pmatrix}c \\\\ d \\end{pmatrix}, \\; \\begin{pmatrix} c \\\\ s \\end{pmatrix}, \\; \\begin{pmatrix}c \\\\ b \\end{pmatrix} \\\\\n",
    "\\begin{pmatrix}t \\\\ d \\end{pmatrix}, \\; \\begin{pmatrix} t \\\\ s \\end{pmatrix}, \\; \\begin{pmatrix}t \\\\ b \\end{pmatrix}\n",
    "$$\n",
    "\n",
    "La constante de acoplo depende del par arriba y abajo que se acopla, $g_W V_{ij}$, (donde $i = \\{u, c, t\\}, j = \\{d, s, b\\}$).\n",
    "\n",
    "Los elementos $V_{ij}$ forman una matriz unitaria llamada de **matrix CKM** (Cabibbo, Kobayashi, Maskawa). \n",
    "\n",
    "El acoplo es más intenso entre pares de la misma generación.\n",
    "\n",
    "<img src=\"./imgs/feynman_wquarks.png\" width = 500 align=\"center\">"
   ]
  },
  {
   "cell_type": "markdown",
   "metadata": {
    "slideshow": {
     "slide_type": "slide"
    }
   },
   "source": [
    "##### Dispersión y aniquilación\n",
    "\n",
    "Existen tres tipos de diagramas principales: **dispersión**, **desintegración** y **aniquilación**\n",
    "\n",
    "<img src=\"./imgs/feynman_annhilation.png\" width = 500 align=\"center\">"
   ]
  },
  {
   "cell_type": "markdown",
   "metadata": {
    "slideshow": {
     "slide_type": "slide"
    }
   },
   "source": [
    "Los líneas de los antifermiones llevan una fecha en sentido contratio al tiempo. De tal forma que una corriente no se crea, es una continuidad\n",
    "\n",
    "En los procesos de aniquilación un par fermión-antifermión se aniquilan y se median mediante ($Z, \\gamma$) y producen otro par fermión-antifermión."
   ]
  },
  {
   "cell_type": "markdown",
   "metadata": {
    "slideshow": {
     "slide_type": "slide"
    }
   },
   "source": [
    "\n",
    "ejemplos de dispersión de electrones, desintegración de un muón, y de aniquilación $e^+e^- \\to \\mu^+\\mu^-$\n",
    "\n",
    "<img src=\"./imgs/feynman_examples.png\" width = 450 align=\"center\">\n",
    "\n",
    "*cuestión*: verifica la conservación de la carga eléctrica y número de partículas y anti-partículas en cada vértice y en los estados iniciales y finales."
   ]
  },
  {
   "cell_type": "markdown",
   "metadata": {
    "slideshow": {
     "slide_type": "slide"
    }
   },
   "source": [
    "El diagrama de Feynman para la desintegración $\\beta$ de un neutrón sería:\n",
    "\n",
    "<img src=\"./imgs/feynman_neutron_decay.png\" width = 250 align=\"center\">\n",
    "\n",
    "Los quarks (ud) de arriba actuan como meros 'espectadores'."
   ]
  },
  {
   "cell_type": "markdown",
   "metadata": {
    "slideshow": {
     "slide_type": "slide"
    }
   },
   "source": [
    "#### Diagramas de árbol y de lazo\n",
    "\n",
    "En un diagrama de Feynman cada vértice introduce una constante de acoplo, $g$. \n",
    "\n",
    "La matriz de transición, $M_{if}$, de un diagrama árbol será proporcional a $g^2$. Y la probabilidad de una interacción a $|M_{if}|^2 \\propto g^4$.\n",
    "\n",
    "En algunas ocasiones se utiliza la constante sin dimensiones, $\\alpha \\propto g^2$, que caracteriza la intensidad de un diagrama. Para el electromagneticos asociamos $\\alpha$ a la constante de estructura fina:\n",
    "$$\n",
    "\\alpha = \\frac{e^2}{4 \\pi \\epsilon_0 \\hbar c}\n",
    "$$\n",
    "\n",
    "Las constantes de las fuerzas serían aproximadamente:\n",
    "\n",
    "| electromagnetismo | débil | fuerte |\n",
    "| :--  | :-- | :-- |  \n",
    "1/137 | 1/30 | 1 |\n"
   ]
  },
  {
   "cell_type": "markdown",
   "metadata": {},
   "source": [
    "Los siguientes diagramas corresponden a un diagrama de árbol y de lazo.\n",
    "\n",
    "\n",
    "<img src=\"./imgs/feynman_tree_loop.png\" width = 400 align=\"center\">\n",
    "\n",
    "La matriz de transición del primer diagrama es $\\propto \\alpha^2$, mientras que la del segundo $\\propto \\alpha^4$.\n",
    "\n",
    "Si aplicamos aproximaciones perturbativas, podemos considerar solo el primer nivel (*leading order*) o nivel árbol es relevante, pero dependera de cada situación.\n",
    "\n"
   ]
  },
  {
   "cell_type": "markdown",
   "metadata": {
    "slideshow": {
     "slide_type": "slide"
    }
   },
   "source": [
    "#### Nomenclatura:\n",
    "\n",
    "| nombres          | definición |\n",
    "| :---          | :--- |\n",
    "| *partícula*  | corpúsculo que puede sentir la fuerzas electromagnética, débil o fuerte |\n",
    "| *antipartícula* | partícula con las cargas y números cuánticos (excepto masa y spín) opuestos a la partícula|\n",
    "| *fermión*  | partícula de spin 1/2 |\n",
    "| *leptón*  (liguero) | fermión que no siente la fuerza fuerte |\n",
    "| *quark*    | fermión que siente la fuerta fuerte |\n",
    "| *bosón*    | particula de spín entero |\n",
    "| *gauge boson*| bosones portadores de la fuerza $W, Z, \\gamma$ tienen spín 1 (vectoriales) |\n",
    "| *hadrón*  (fuerte) | partícula compuesta que siente la fuerza fuerte|\n",
    "| *barión*   | hadrón compuesto de tres quarks |\n",
    "| *mesón*   (mediano)| hadrón compuesto de quark y antiquark |\n",
    "\n"
   ]
  },
  {
   "cell_type": "code",
   "execution_count": 11,
   "metadata": {
    "scrolled": false
   },
   "outputs": [
    {
     "data": {
      "image/png": "[encoded data removed]",
      "text/plain": [
       "<Figure size 432x288 with 1 Axes>"
      ]
     },
     "metadata": {
      "filenames": {
       "image/png": "/Users/hernando/work/docencia/grado/Fisica_Nuclear_y_de_Partículas/USC-FNyP/_build/jupyter_execute/notebooks/extension-sm_166_0.png"
      },
      "needs_background": "light"
     },
     "output_type": "display_data"
    }
   ],
   "source": [
    "labels = (r'$\\rho$', r'$J/\\psi$')\n",
    "forces = (3, 1)\n",
    "times  = (1e-24, 1e-21)\n",
    "\n",
    "plt.scatter(np.log(times), forces)\n",
    "ax  = plt.gca();\n",
    "for i, name in enumerate(labels):\n",
    "    ax.annotate(name, (np.log(times[i]), forces[i]), fontsize = 20)"
   ]
  },
  {
   "cell_type": "markdown",
   "metadata": {
    "slideshow": {
     "slide_type": "slide"
    }
   },
   "source": [
    "Las partículas se clasifican de acuerdo con sus 'cargas' frente a las fuerzas y determinados números cuánticos (spín).\n"
   ]
  },
  {
   "cell_type": "code",
   "execution_count": null,
   "metadata": {
    "slideshow": {
     "slide_type": "slide"
    }
   },
   "outputs": [],
   "source": [
    "Un poco de léxico:\n",
    "    \n",
    "    "
   ]
  },
  {
   "cell_type": "markdown",
   "metadata": {
    "slideshow": {
     "slide_type": "slide"
    }
   },
   "source": [
    "### Tema I \n",
    "\n"
   ]
  },
  {
   "cell_type": "markdown",
   "metadata": {
    "slideshow": {
     "slide_type": "slide"
    }
   },
   "source": [
    "### Extras\n"
   ]
  },
  {
   "cell_type": "markdown",
   "metadata": {
    "slideshow": {
     "slide_type": "slide"
    }
   },
   "source": [
    "La Física de Partículas está ligada al desarrollo tecnológico de aceleradores.\n",
    "   \n",
    "![](./imgs/intro_markII_colider.jpg) ![](./imgs/intro_slac_aerial.jpg \"title-2\")\n",
    "   \n",
    "<img src=\"./imgs/intro_markII_colider.jpg\" width = 100 /> <img src=\"./imgs/intro_slac_aerial.jpg\"    width = 100 /> \n",
    "\n",
    "<p float='center'>\n",
    "<img src=\"./imgs/intro_markII_colider.jpg\" width = 20 />\n",
    "<img src=\"./imgs/intro_slac_aerial.jpg\"    width = 20 />\n",
    "</p>\n",
    "   \n",
    "  * <font color= 'blue'> El acelarador actual más potentes el LHC (Large Hadron Collider) en el CERN </font>\n",
    "    \n",
    "Pero también hay aceleradores naturales:\n",
    "\n",
    "  * Rayos Cósmicos (protons, ...) pero también neutrinos\n",
    "  \n",
    "  "
   ]
  },
  {
   "cell_type": "markdown",
   "metadata": {},
   "source": [
    "##### Propiedades de los fermiones\n",
    "\n",
    "| lepton | Q (e) | mass (GeV) | lifetime (s) | | quark | Q (e) | mass (GeV) |\n",
    "| :--    | :--   | :--       | :--            | | :--   | ---   | :--        |\n",
    "| $\\nu_e$  | 0     | $<10^{-9}$ | $\\infty$   | | u     | $\\frac{-1}{3}$ | $\\sim0.002$         |\n",
    "| $e$      | -1    | 0.000511     | $\\infty$    | | d     |  $\\frac{2}{3}$  |$\\sim0.005$         |\n",
    "| --- |\n",
    "| $\\nu_\\mu$  | 0     | $<10^{-9}$ | $\\infty$  | | c     | $\\frac{-1}{3}$ | $\\sim1.2$         |\n",
    "| $\\mu$      | -1    | 0.106      |   $2.2 \\times 10^{-6}$        | | s     |  $\\frac{2}{3}$ | $\\sim0.093$         |\n",
    "| --- |\n",
    "| $\\nu_\\tau$ | 0     | $<10^{-9}$ | $\\infty$  | | t     | $\\frac{-1}{3}$ | $\\sim 170$         |\n",
    "| $\\tau$      | -1    | 1.850      |    $2.9 \\times 10^{-13}$         | | b     |  $\\frac{2}{3}$ | $\\sim $4.2$         |\n",
    "\n",
    "\n",
    "@todo hacer plot de scala de masas y puntos con labels"
   ]
  },
  {
   "cell_type": "markdown",
   "metadata": {
    "slideshow": {
     "slide_type": "slide"
    }
   },
   "source": [
    "### Tema III "
   ]
  },
  {
   "cell_type": "markdown",
   "metadata": {
    "slideshow": {
     "slide_type": "slide"
    }
   },
   "source": [
    "### Bibliografía\n",
    "\n",
    "* \"Elementary Particle Physics\", S. Bettini, Cambridge.\n",
    "\n",
    "* \"Modern Particle Physics\", Mark Thomson, Cambridge.\n",
    "\n",
    "* \"Lepton and Quark\", Francis Halzen, Alan D. Martin, Josh Wiley & Sons\n"
   ]
  },
  {
   "cell_type": "code",
   "execution_count": null,
   "metadata": {},
   "outputs": [],
   "source": []
  }
 ],
 "metadata": {
  "anaconda-cloud": {},
  "celltoolbar": "Slideshow",
  "kernelspec": {
   "display_name": "Python 3",
   "language": "python",
   "name": "python3"
  },
  "language_info": {
   "codemirror_mode": {
    "name": "ipython",
    "version": 3
   },
   "file_extension": ".py",
   "mimetype": "text/x-python",
   "name": "python",
   "nbconvert_exporter": "python",
   "pygments_lexer": "ipython3",
   "version": "3.9.13"
  }
 },
 "nbformat": 4,
 "nbformat_minor": 4
}