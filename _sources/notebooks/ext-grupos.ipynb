{
 "cells": [
  {
   "cell_type": "markdown",
   "metadata": {
    "slideshow": {
     "slide_type": "slide"
    }
   },
   "source": [
    "## Extensión: grupos"
   ]
  },
  {
   "cell_type": "code",
   "execution_count": 2,
   "metadata": {
    "slideshow": {
     "slide_type": "fragment"
    }
   },
   "outputs": [
    {
     "name": "stdout",
     "output_type": "stream",
     "text": [
      " Last version  Wed Nov 27 12:36:05 2024\n"
     ]
    }
   ],
   "source": [
    "import time\n",
    "print(' Last version ', time.asctime() )"
   ]
  },
  {
   "cell_type": "markdown",
   "metadata": {
    "slideshow": {
     "slide_type": "slide"
    }
   },
   "source": [
    "## Introducción\n",
    "\n",
    "En esta extensión vamos a revisar los conceptos de grupo, representación fundamentl e irreducible. Recordaremos todos ellos con un ejemplo conocido de la mecánica cuántica: es espín $s=1/2$.\n",
    "\n",
    "\n",
    "Luego definiremos los grupos principales y nombraremos su uso principal en Física de Partículas.\n",
    "\n",
    " * Grupo $U(1)$ y $SO(2)$. La carga eléctrica.\n",
    "\n",
    " * Grupo $SU(2)$ y $SO(3)$. El isoespín débil.\n",
    "\n",
    " * Grupo $SU(3)$. El isoespín de sabor y de color."
   ]
  },
  {
   "cell_type": "markdown",
   "metadata": {
    "slideshow": {
     "slide_type": "slide"
    }
   },
   "source": [
    "## sobre los grupos\n",
    "\n",
    "Los grupos de simetría son una de las herramientas matemáticas principales de la Física de Partículas:\n",
    "\n",
    "  * están relacionadas con las **cantidades conservadas**, por ejemplo con las cargas que definen una partícula.\n",
    " \n",
    "  * sirven para **representar los estados de las partículas**. En este sentido usamos las bases de las representaciones irreducibles para representar los estados de las partículas.\n",
    "\n",
    "Vamos a recordar el concepto de grupo, de representación, y después revisaremos los grupos principales $U(1), SU(2)$ y $SU(3)$."
   ]
  },
  {
   "cell_type": "markdown",
   "metadata": {
    "slideshow": {
     "slide_type": "slide"
    }
   },
   "source": [
    "Los grupos más comunes en física de partículas son:\n",
    "\n",
    " * El **grupo de Lorentz-Poincaré**, asociado a las rotaciones, traslaciones y cambios de sistemas de referencia inerciales en el espacio-tiempo.\n",
    "   \n",
    "     Las representaciones más comunes que encontramos son: **escalar, vectorial, espinorial**\n",
    "     \n",
    "     Par la discusión sobre el grupo y las representación de Lorentz ver extensión [ext-trans-Lorentz].\n",
    "     \n",
    " * Los **grupos unitarios** (cuya representación son matrices unitarias) de dimensiones pequeñas:\n",
    "   \n",
    "   * **U(1)** rotación de una fase de un número complejo, que asociamos con la conservación de la carga eléctrica. \n",
    "      \n",
    "   * **SU(2)** matrices unitarias de dimensión 2 con determinante positivo, que asociamos al espín, y a otras contidades físicas como el isoespín débil. Su base fundamental es un duplete con posiciones arriba y abajo.\n",
    "      \n",
    "   * **SU(3)** matrices unitarias de dimensión 3 con determinante positivo, que asociamos al color. Su base fundamental es un triplete, que asociamos en el caso del color con los tres colores: rojo, verde y azul."
   ]
  },
  {
   "cell_type": "markdown",
   "metadata": {},
   "source": [
    "### Definión de grupo\n",
    "\n",
    "Un grupo es una colección de elementos, $\\{g_i\\}$, finito o infinito entre los que hay definida una operación, la multiplicación ($\\cdot$), y que cumple las siguientre propiedades:\n",
    "\n",
    "   * completitud: $g_i \\cdot g_j = g_k$ (la multiplicación de dos elementos del grupo da otro elemento del grupo)\n",
    "   \n",
    "   * asociación: $g_i \\cdot (g_j \\cdot g_k) = (g_i \\cdot g_j) \\cdot g_k$\n",
    "   \n",
    "   * existencia de la identidad, $1$: $ g_i \\cdot 1 = 1 \\cdot g_i = g_i$\n",
    "   \n",
    "   * existencia de la inversa, $g_i \\cdot g^{-1}_i = 1$ para todo $g_i$ del grupo.\n",
    "   \n",
    "Decimos que el grupo es abeliano si es conmutativo: $g_i \\cdot g_j = g_j \\cdot g_i$, si no, es no-abeliano\n"
   ]
  },
  {
   "cell_type": "markdown",
   "metadata": {
    "slideshow": {
     "slide_type": "slide"
    }
   },
   "source": [
    "\n",
    "#### Clasificación de grupos\n",
    "\n",
    "Los grupos principales son:\n",
    "\n",
    "* **espacio-temporales**, lo que incluye el grupo de Lorentz\n",
    "\n",
    "* de un **espacio interno**, llamado **isotópico**, que pueden ser globales o locales (esto es que depende del punto espacio-temporal).\n",
    "\n",
    "Tambien se pueden clasificar los grupos en:\n",
    "\n",
    "* **continuos**, si el grupo depende de un parámetro $\\theta$ continuo, que puede ser compacto o no dependiendo si el intervalo del valor que toma $\\theta$ es abierto o cerrado. Por ejemplo el grupo de Lorentz que depende del parámetro $\\beta = v/c$ no es compacto porque no puede tomar el valor $\\beta = 1$.\n",
    "\n",
    "* **discretos**, donde hay un grupo finito de elementos. Por ejemplo la inversión por paridad forma un grupo discreto de un elemento.\n",
    "\n",
    "En Física de Partículas juegan un papel fundamental los **grupos de Lie** que son aquellos cuya elementos se relacionan de forma continua y diferenciable con respecto a un conjunto de parámetros $\\theta$.\n"
   ]
  },
  {
   "cell_type": "markdown",
   "metadata": {
    "slideshow": {
     "slide_type": "slide"
    }
   },
   "source": [
    "### Representaciones\n",
    "\n",
    "Llamamos **representación líneal $D(g)$** al conjunto de matrices asociadas con los elementos $g$ de un grupo $G$ que cumplen **las mismas reglas de multiplicación** que los elementos de $G$.\n",
    "\n",
    "Esto es:\n",
    "\n",
    "$$\n",
    " g_i \\cdot g_j = g_k \\; \\Rightarrow D(g_i) \\, \\cdot D(g_j) = D(g_k)\n",
    "$$\n",
    "\n",
    "La **dimensión de la representación**, $n$, es la dimensión de las matrices.\n",
    "\n",
    "Los vectores de dimensión $n$ sobre los que actuan las matrices forman la **base de la representación**.\n",
    "\n",
    "Llamamos **representación fundamental** aquella representación del grupo con la dimensión menor. "
   ]
  },
  {
   "cell_type": "markdown",
   "metadata": {
    "slideshow": {
     "slide_type": "slide"
    }
   },
   "source": [
    "#### Representación irreducible\n",
    "\n",
    "Decimos que una representación $D(g)$ de un grupo $G$ es reducible si puede descomponerse en representaciones más pequeñas.\n",
    "\n",
    "Sea la representación $D(g)$ de matrices de dimensión $n\\times n$ de un grupo, la representación es redudible si la matrix $D(g)$ se puede descomponer en diagonal con matrices de menor dimensión, $D_1(g), D_2(g)$, de la forma:\n",
    "\n",
    "$$\n",
    "D(g) = \\begin{pmatrix} D_1(g) & 0 \\\\ 0 & D_2(g) \\end{pmatrix}\n",
    "$$\n",
    "\n",
    "También podemos decir que la base de la representación $D(g)$ se puede descomponer en varias bases, de tal forma que los elementos de cada sub-base forman su propio grupo. Esto es, los elementos de la base $D_1(g)$ no se mezclan con los elementos de la base de $D_2(g)$.\n",
    "\n",
    "Como dijimos antes los estados de las partículas se representan en las bases de la representación irreducible."
   ]
  },
  {
   "cell_type": "markdown",
   "metadata": {
    "slideshow": {
     "slide_type": "subslide"
    }
   },
   "source": [
    "### Ejemplo: el espín\n",
    "\n",
    "El conjunto de matrices complejas unitarias don determinante unidad (esto es *propias*) forman el grupo $SU(2)$. \n",
    "\n",
    "El álgebra de este grupo es igual a la del momento angular, y usamos este grupo para representar el espín de los fermiones $s = 1/2$, que contiene dos estados en su base fundamental, el duplete:\n",
    "\n",
    "$$\n",
    "\\begin{pmatrix} 1 \\\\ 0 \\end{pmatrix} \\equiv \\, \\uparrow, \\;\\; \\begin{pmatrix} 0 \\\\ 1 \\end{pmatrix} \\equiv \\, \\downarrow.\n",
    "$$\n"
   ]
  },
  {
   "cell_type": "markdown",
   "metadata": {},
   "source": [
    "Los generadores del grupo son los operadores proyección de espín en las coordemadas $x, y, z$:\n",
    "$$\n",
    "S^i = \\frac{1}{2} \\sigma^i\n",
    "$$\n",
    "donde $\\sigma^i$ son las matrices de Pauli.\n",
    "\n",
    "$$\n",
    "\\sigma^1 = \\begin{pmatrix} 0 & 1 \\\\ 1 & 0 \\end{pmatrix}, \\;\\;\n",
    "\\sigma^2 = \\begin{pmatrix} 0 & -i \\\\ i & 0 \\end{pmatrix}, \\;\\;\n",
    "\\sigma^3 = \\begin{pmatrix} 1 & 0 \\\\ 0 & -1\\end{pmatrix}.\n",
    "$$\n",
    "\n",
    "\n",
    "que cumplen la siguiente álgebra\n",
    "$$\n",
    "[S^i, S^j] = \\epsilon_{ijk} S^k\n",
    "$$\n",
    "donde $\\epsilon_{ijk}$ es el tensor de Levi-Civita. Esta es el álgebra del momento angular.\n"
   ]
  },
  {
   "cell_type": "markdown",
   "metadata": {},
   "source": [
    "Las matrices del grupo $SU(2)$ se construyen a partir de los generadores mediante exponenciación y su desarrollo de Taylor. \n",
    "$$\n",
    "U(\\theta) = e^{i\\vec{\\theta} \\cdot {\\bf S}} = e^{i \\theta_i S^i}\n",
    "$$\n",
    "donde $\\theta_i$ son tres ángulos de rotación alrededor de los ejes $x, y, z$. \n",
    "\n",
    "Por ejemplo la rotación de un ángulo $\\theta$ alrededor del eje $y$ queda:\n",
    "$$\n",
    "U(\\theta) = e ^{i \\theta S^2} = \\sum_n \\frac{1}{n!}(i\\theta S^2)^n = 1 + i \\theta S^2 - \\frac{1}{2} \\theta^2  (S^2)^2 + \\dots \n",
    "$$\n",
    "\n",
    "dado que $(\\sigma^2)^2 = I$ obtenemos\n",
    "\n",
    "$$\n",
    "U(\\theta) = \\begin{pmatrix} \\cos \\theta/2 & - \\sin \\theta/2 \\\\ \\sin \\theta/2 & \\cos \\theta/2 \\end{pmatrix}\n",
    "$$\n",
    "\n",
    "\n"
   ]
  },
  {
   "cell_type": "markdown",
   "metadata": {},
   "source": [
    "Recordemos que dado que $U$ es unitaria los generadores, $S^i$, son hermíticos y por lo tanto tienen asociados valores observables.\n",
    "\n",
    "Los tres generadores, $S^i$ no conmutan entre sí. Pero el operador momento total al cuadrado\n",
    "$$\n",
    "{\\bf S}^2 = (S^1)^2 + (S^2)^2 + (S^3)^2\n",
    "$$\n",
    "conmuta con $S^3$, esto es:\n",
    "$$\n",
    "[{\\bf S}^2, S^3] = 0.\n",
    "$$\n",
    "\n",
    "De tal forma que damos los estados a partir de los números cuánticos de ambos operadores, como $|j, m \\rangle$, donde $j$ es el momento angular total y $m$ la tercera componente, así:\n",
    "\n",
    "$$\n",
    "{\\bf S}^2 \\, |j, m \\rangle = j (j+1) \\, | j, m \\rangle, \\;\\;\\; S^3 \\, | j, m \\rangle = m \\, |j, m \\rangle\n",
    "$$\n",
    "\n",
    "Y hacemos la asociación:\n",
    "\n",
    "$$\n",
    "\\uparrow \\equiv |1/2, 1/2 \\rangle, \\;\\;\\; \\downarrow \\equiv | 1/2, -1/2 \\rangle\n",
    "$$"
   ]
  },
  {
   "cell_type": "markdown",
   "metadata": {},
   "source": [
    "El producto de dos spines $s=1/2$, dos dupletes, que se denota por ${\\bf 2} \\otimes {\\bf 2}$, nos da las siguientes combinaciones:\n",
    "$$\n",
    "\\uparrow\\uparrow, \\, \\uparrow\\downarrow, \\,\n",
    "\\downarrow\\uparrow, \\, \\downarrow\\downarrow\n",
    "$$.\n",
    "\n",
    "La representación del la composición ${\\bf 2} \\otimes {\\bf 2}$ tiene dimensión 4. Su representación irreducible está formada por un triplete y un singlete, que se denota como ${\\bf 3} \\oplus {\\bf 1}$.\n",
    "\n",
    "El triplete es:\n",
    "$$\n",
    "|1, 1 \\rangle = \\; \\uparrow\\uparrow, \\;\\;\\;\n",
    "|1, 0 \\rangle = \\frac{1}{\\sqrt{2}} (\\uparrow\\downarrow + \\downarrow\\uparrow),  \\;\\;\\; |1, -1 \\rangle, = \\; \\downarrow\\downarrow, \n",
    "$$\n",
    "y el singlete:\n",
    "$$\n",
    "|0, 0 \\rangle = \\frac{1}{\\sqrt{2}}(\\uparrow\\downarrow - \\downarrow\\uparrow)\n",
    "$$\n",
    "\n",
    "Que asociamos con los estados, $|j, m\\rangle$, donde $j = 1$ y $m = 1, 0, -1$, y $j = 0, m=0$ "
   ]
  },
  {
   "cell_type": "markdown",
   "metadata": {},
   "source": [
    "para construir la representación irreducible usamos los operadores escalera:\n",
    "\n",
    "$$\n",
    "S^\\pm \\equiv S^1 \\pm i S^2 \n",
    "$$\n",
    "\n",
    "que en la representación fundamental son simplemente:\n",
    "$$\n",
    "S^+ = \\sigma^+ = \\begin{pmatrix} 0 & 1 \\\\ 0 & 0 \\end{pmatrix}, \\;\\;\\;\n",
    "S^- = \\sigma^- = \\begin{pmatrix} 0 & 0 \\\\ 1 & 0 \\end{pmatrix}.\n",
    "$$\n",
    "\n",
    "El producto ${\\bf 2} \\otimes {\\bf 2}$ se construye a partir por ejemplo del estado $\\uparrow\\uparrow$ y el operador $S^{-1}$\n",
    "\n",
    "$$\n",
    "|1, 1 \\rangle = \\uparrow \\uparrow\\\\\n",
    "|1, 0 \\rangle \\propto S^- \\, \\uparrow\\uparrow = (S^-\\uparrow)\\uparrow + \\uparrow (S^- \\uparrow), \\\\\n",
    "|1, -1 \\rangle \\propto S^- \\left(\\uparrow\\downarrow + \\downarrow\\uparrow \\right) = 2 \\downarrow \\downarrow\n",
    "$$\n",
    "\n",
    "Que si normalizamos:\n",
    "$$\n",
    "|1, 1 \\rangle =  \\uparrow\\uparrow, \\;\\; \n",
    "|1, 0 \\rangle = \\frac{1}{\\sqrt{2}} (\\uparrow\\downarrow + \\downarrow\\uparrow), \\;\\;\n",
    "|1, -1 \\rangle = \\downarrow\\downarrow.\n",
    "$$\n",
    "\n",
    "y finalmente, el miembro del singlete, $|0, 0 \\rangle$, es el ortogonal a $|1, 0 \\rangle$:\n",
    "\n",
    "$$\n",
    "|0, 0 \\rangle = \\frac{1}{\\sqrt{2}}(\\uparrow\\downarrow - \\downarrow\\uparrow)\n",
    "$$\n",
    "\n",
    "Los miembros del triplete son simétricos bajo el intercambio $\\uparrow \\leftrightarrow \\downarrow$ y el singlete anti-simétrico.\n",
    "\n"
   ]
  },
  {
   "cell_type": "markdown",
   "metadata": {},
   "source": [
    "De forma genérica para el producto de dos representaciones $|j_1, m_1 \\rangle |j_2, m_2 \\rangle$, las representaciones irreducibles vienen dadas por:\n",
    "\n",
    "* $j = |j_1 - j_2|, \\, |j_1 - j_2| + 1, \\dots, \\, j_1+j_2, \\, j_1+j_2$\n",
    "\n",
    "* $m = -j, -j+1, \\dots, j-1, j$.\n",
    "\n",
    "Para obtener la base $|j, m \\rangle$, usamos los operadores escalera, $J^+, J^-$, que recordemos actuan de la siguiente forma:\n",
    "$$\n",
    "J^+ \\, |j, m \\rangle = \\sqrt{j (j+1) - m (m+1)} \\, |j, m \\rangle \\\\\n",
    "J^- \\, |j, m \\rangle = \\sqrt{j (j+1) - m (m-1)} \\, |j, m \\rangle \n",
    "$$\n",
    "esto es, suben arriba y abajo en los elementos de la base.\n",
    "\n",
    "Recordemos finalmente que los coeficientes de [Clebsch-Gordan](https://pdg.lbl.gov/2018/reviews/rpp2018-rev-clebsch-gordan-coefs.pdf) nos relacionan los elementos de la base $|j, m \\rangle$ con los iniciales $|j_1, m_1 \\rangle |j_2, m_2 \\rangle$."
   ]
  },
  {
   "cell_type": "markdown",
   "metadata": {},
   "source": [
    "Para construir las matrices unitarias de una representación irreducible obtenemos primero sus generadores a partir de los operadores escalera.\n",
    "\n",
    "Para $j=1$ los operadores escalera, cuyos coeficientes pueden obtenerse de las reglas de operación anteriores, son:\n",
    "\n",
    "$$\n",
    "J^+ = \\begin{pmatrix} 0 & \\sqrt{2} & 0 \\\\ 0 & 0 & \\sqrt{2} \\\\ 0 & 0 & 0 \\end{pmatrix}, \\;\\;\\;\n",
    "J^- = \\begin{pmatrix} 0 & 0 & 0 \\\\ \\sqrt{2} & 0 & 0\\\\ 0 & \\sqrt{2} & 0\\end{pmatrix}\n",
    "$$\n",
    "\n",
    "El generador de la rotaciones, $J^2$, para $j=1$ alrededor del eje $y$, viene dado por:\n",
    "$$\n",
    "J^2 = - \\frac{i}{2} (J^+ - J^-), \\;\\; J^2 = -\\frac{i}{\\sqrt{2}} \\begin{pmatrix} 0 & 1 & 0 \\\\ -1 & 0 & 1 \\\\ 0 & -1 & 0\\end{pmatrix}\n",
    "$$\n",
    "\n",
    "De tal forma que la matriz de rotación de un ángulo $\\theta$ alrededor del eje $y$ para $j=1$ viene dada por:\n",
    "$$\n",
    "U(\\theta) = e^{i \\theta J^2} = \\sum_n \\frac{1}{n!} (i \\theta J^2)^n =  \\begin{pmatrix} \n",
    "\\frac{1}{2} (1+\\cos \\theta) & \\frac{1}{\\sqrt{2}} \\sin \\theta &\\frac{1}{2}(1-\\cos \\theta) \\\\\n",
    "-\\frac{1}{\\sqrt{2}} \\sin \\theta & \\cos \\theta &  \\frac{1}{\\sqrt{2}}\\sin \\theta  \\\\\n",
    "\\frac{1}{2} (1-\\cos \\theta) & -\\frac{1}{\\sqrt{2}} \\sin \\theta &\\frac{1}{2}(1+\\cos \\theta) \\\\\n",
    "\\end{pmatrix}\n",
    "$$\n",
    "\n",
    "Los valores $d^j_{m', m}(\\theta)$ de las configuraciones de $j$ menores se recogen en la tabla del PDG de los [Clebsch-Gordan](https://pdg.lbl.gov/2018/reviews/rpp2018-rev-clebsch-gordan-coefs.pdf), a partir de ellos podemos reconstruir las matrices de rotación para la representación $j$.\n"
   ]
  },
  {
   "cell_type": "markdown",
   "metadata": {
    "slideshow": {
     "slide_type": "slide"
    }
   },
   "source": [
    "## El grupo $U(1)$\n",
    "\n",
    "El grupo $U(1)$ lo forman las rotaciones, $D(\\theta)$, de 1 dimensión en el espacio complejo.\n",
    "\n",
    "Consideremos un número complejo, $x$, relacionado con otro número complejo, $x'$, simplemente por una fase $x' = e^{i\\theta} x$. La rotación entre ellos es:\n",
    "\n",
    "$$\n",
    "D(\\theta) = e^{i\\theta}, \\;\\;\\, x' = D(\\theta) \\, x \n",
    "$$\n",
    "\n",
    "Estas rotaciones dejan invariante la norma:\n",
    "$$\n",
    "|x'|^2 = |x|\n",
    "$$"
   ]
  },
  {
   "cell_type": "markdown",
   "metadata": {},
   "source": [
    "La multiplicación de los elementos del grupo es:\n",
    "\n",
    "$$\n",
    "D(\\theta_1) \\cdot D(\\theta_2) = D(\\theta_1 + \\theta_2), \\;\\;\\; D(\\theta + 2 \\pi) = D(\\theta)\n",
    "$$\n",
    "\n",
    "Nos dice que es un grupo abeliano. No importa el orden en que se realizan dos rotaciones. Esto es el orden de multiplicación.\n",
    "\n",
    "La inversa es simplemente:\n",
    "\n",
    "$$\n",
    "D(\\theta) = e^{i\\theta}, \\;\\;\\; D^{-1}(\\theta) = D(-\\theta) = e^{-i\\theta}\n",
    "$$\n",
    "\n",
    "La representación fundamental tienen demisión 1. Y el generador de las rotaciones es también la unidad."
   ]
  },
  {
   "cell_type": "markdown",
   "metadata": {
    "slideshow": {
     "slide_type": "slide"
    }
   },
   "source": [
    "### El grupo $SO(2)$\n",
    "\n",
    "El grupo $SO(2)$ está formado por matrices de las rotaciones, $R(\\theta)$, propias en dos dimensiones, $R(\\theta)$.\n",
    "Recordemos que las matrices propias tiene el determinante positivo.\n",
    "\n",
    "Sea $(x, y)$ un punto del espacio bi-dimensional, el efecto de una rotación es:\n",
    "\n",
    "$$\n",
    "\\begin{pmatrix} x' \\\\ y'\\end{pmatrix} =\n",
    "\\begin{pmatrix} \\cos \\theta & \\sin \\theta \\\\ - \\sin \\theta & \\cos \\theta \\end{pmatrix} \\, \n",
    "\\begin{pmatrix} x \\\\ y \\end{pmatrix}\n",
    "$$\n",
    "\n",
    "Donde \n",
    "$$\n",
    "R(\\theta) = \\begin{pmatrix} \\cos \\theta & \\sin \\theta \\\\ - \\sin \\theta & \\cos \\theta \\end{pmatrix}, \\;\\;\\; \n",
    "\\mathrm{det}(D(\\theta)) = 1\n",
    "$$\n",
    "\n",
    "El grupo SO(2) es continuo y compacto, con $\\theta \\in [0, 2 \\pi]$.\n",
    "\n",
    "Las rotaciones preservan el modulo del vector:\n",
    "\n",
    "$$\n",
    "x'^2 + y'^2 = x^2 + y^2\n",
    "$$\n"
   ]
  },
  {
   "cell_type": "markdown",
   "metadata": {
    "slideshow": {
     "slide_type": "slide"
    }
   },
   "source": [
    "Las reglas de multiplicación de las matrices $R(\\theta)$ son:\n",
    "\n",
    "$$\n",
    "R(\\theta_1) \\cdot R(\\theta_2) = R(\\theta_1 + \\theta_2), \\;\\;\\; R(\\theta + 2 \\pi) = R(\\theta)\n",
    "$$\n",
    "\n",
    "Si hacemos una rotación de $\\theta_2$ después de hacer una rotación previa de $\\theta_1$ es equivalente a rotar desde el principio con $\\theta_1+\\theta_2$\n",
    " \n",
    "Se trata de un grupo abeliano, $D(\\theta_1) \\cdot D(\\theta_2) = D(\\theta_2) \\cdot D(\\theta_1)$\n",
    "\n",
    "La inversa de una rotación con $\\theta$ es simplemente rotar con $-\\theta$:\n",
    "$$\n",
    "R^{-1}(\\theta) = R(-\\theta)\n",
    "$$\n",
    "\n",
    "En la representación matricial $2\\times2$, la inversa es la transpuesta:\n",
    "\n",
    "$$\n",
    "R(\\theta)  = \\begin{pmatrix} \\cos \\theta & \\sin \\theta \\\\ - \\sin \\theta & \\cos \\theta \\end{pmatrix}, \\;\\;\\;\n",
    "R^{-1}(\\theta)  = R(-\\theta) = R^T(\\theta) = \\begin{pmatrix} \\cos \\theta & -\\sin \\theta \\\\  \\sin \\theta & \\cos \\theta \\end{pmatrix}\n",
    "$$"
   ]
  },
  {
   "cell_type": "markdown",
   "metadata": {
    "slideshow": {
     "slide_type": "slide"
    }
   },
   "source": [
    "\n",
    "El generador de la rotaciones es:\n",
    "\n",
    "$$\n",
    "T = -i \\begin{pmatrix} 0 & 1 \\\\ -1 & 0 \\end{pmatrix}\n",
    "$$\n",
    "\n",
    "De tal forma que:\n",
    "$$\n",
    "R(\\theta) = e ^{i \\theta T} = \\sum_n \\frac{(i\\theta T)^n}{n!} =\n",
    "\\begin{pmatrix} \\cos \\theta & \\sin \\theta \\\\ - \\sin \\theta & \\cos \\theta \\end{pmatrix},\n",
    "$$\n"
   ]
  },
  {
   "cell_type": "markdown",
   "metadata": {
    "slideshow": {
     "slide_type": "slide"
    }
   },
   "source": [
    "Las reglas de multiplicación del grupo $SO(2)$ y $U(1)$ son las mismas:\n",
    "\n",
    "$$\n",
    "D(\\theta_1) \\cdot D(\\theta_2) = D(\\theta_1 + \\theta_2), \\;\\;\\; D(\\theta + 2 \\pi) = D(\\theta)\n",
    "$$\n",
    "\n",
    "Decimos que dos grupos son **isomorfos** si comparten las mismas reglas de multiplicación.\n",
    "\n",
    "En este caso decimos que SO(2) y U(1) son isomorfos.\n",
    "\n",
    "$$\n",
    "SO(2) \\sim U(1)\n",
    "$$\n",
    "\n",
    "La base de uno y otro se relacionan por:\n",
    "\n",
    "$$\n",
    "|\\rho| e^{i\\theta} \\leftrightarrow (|\\rho| \\cos \\theta, |\\rho| \\sin \\theta)\n",
    "$$\n"
   ]
  },
  {
   "cell_type": "markdown",
   "metadata": {},
   "source": [
    "### la carga eléctrica\n",
    "\n",
    "El grupo $U(1)$ lo utilizamos en Física de Partículas para dar la invariancia gauge local de los espinores de Dirac frente al cambio de una fase global (lo que asociaremos con la conservación de números cuánticos como el número leptónico) o local (lo que asociaremos con la conservación de la carga eléctrica y que dará lugar a la interacción de los fermiones cargados con el campo electromagnético)\n",
    "\n",
    "El grupo $U(1)$ global respecto a los espinores de Dirac:\n",
    "$$\n",
    "\\Psi(x) \\to e^{i \\theta} \\Psi(x)\n",
    "$$\n",
    "\n",
    "Y el grupo $U(1)$ local:\n",
    "$$\n",
    "\\Psi(x) \\to e^{i \\theta(x)} \\Psi(x)\n",
    "$$\n",
    "donde $\\theta(x)$ depende de forma continua y *local* con respecto al punto espacio-temporal $x$.\n",
    "\n",
    "\n"
   ]
  },
  {
   "cell_type": "markdown",
   "metadata": {},
   "source": [
    "## El grupo $SU(2)$\n",
    "\n",
    "El grupo $SU(2)$ lo forman las **matrices complejas unitarias $2 \\times 2$ con determinante unidad**. $S$ es por propias, con determinante unidad, $U$ por complejas unitarias y $2$ corresponde a la dimensión.\n",
    "\n",
    "Las matrices cumplen:\n",
    "$$\n",
    "U^\\dagger U = I, \\;\\; \\mathrm{det}(U) = 1\n",
    "$$\n",
    "\n",
    "Sea un vector de dos componentes complejas ${\\bf x} = (x, y)$, la matrices lo transforman es:\n",
    "$$\n",
    "{\\bf x}' = U \\, {\\bf x}\n",
    "$$\n",
    "y conservarn el módulo del vector:\n",
    "$$\n",
    "|{\\bf x}'|^2 = |{\\bf x}|^2\n",
    "$$"
   ]
  },
  {
   "cell_type": "markdown",
   "metadata": {},
   "source": [
    "Las matrices, $U(\\theta)$ pueden construirse a partir de los ángulos $\\theta_i$ y 3 **generadores** hermíticos $T_i$, con $i=1, 2, 3$:\n",
    "$$\n",
    "U({\\bf \\theta}) = e^{i \\vec{\\theta }\\cdot {\\bf T}} = e^{i \\sum_i \\theta_i T^i}\n",
    "$$\n",
    "\n",
    "Los generadores $T^i$ son:\n",
    "$$\n",
    "T^i = \\frac{1}{2} \\sigma^i\n",
    "$$\n",
    "y $\\sigma^i$ las matrices de Pauli. Cumplen las siguiente álgebra de conmutación:\n",
    "$$\n",
    "[T^i, T^j] = i \\epsilon_{ijk} T^k,\n",
    "$$\n",
    "donde $\\epsilon_{ijk}$ es el tensor de Levi-Civita.\n",
    "\n",
    "\n"
   ]
  },
  {
   "cell_type": "markdown",
   "metadata": {},
   "source": [
    "Los elementos de la base los damos a partir de los números cuánticos de los operadores ${\\bf T}^2, T^3$, dados por $|j, m \\rangle$. Donde:\n",
    "\n",
    "$$\n",
    "{\\bf T}^2 | j, m \\rangle = j (j +1) | j, m \\rangle, \\;\\;\\; T^3 |j, m \\rangle = m | j, m \\rangle\n",
    "$$\n",
    "\n",
    "La representación fundamental, $j=1/2$, es:\n",
    "$$\n",
    "\\begin{pmatrix} 1 \\\\ 0 \\end{pmatrix} = |1/2, 1/2 \\rangle, \\;\\; \n",
    "\\begin{pmatrix} 0 \\\\ 1 \\end{pmatrix} = |1/2, -1/2 \\rangle, \\;\\; \n",
    "$$\n",
    "\n",
    "La discusión sobre composición de estados y representaciones irreducibles is idéntica a las del espín (ver arriba)"
   ]
  },
  {
   "cell_type": "markdown",
   "metadata": {
    "slideshow": {
     "slide_type": "slide"
    }
   },
   "source": [
    "### El grupo $SO(2)$\n",
    "\n",
    "El grupo $SO(3)$ lo forman las matrices ortogonales, $R$, de determinante positivo que corresponden a las rotaciones en el espacio vectorial de tres dimensiones. La $O$ del nombre del grupo indica que son ortogonales.\n",
    "\n",
    "$$\n",
    "R^T \\, R = I, \\;\\;\\; \\mathrm{det}(R) = 1\n",
    "$$\n",
    "\n",
    "Las rotaciones nos dejan invariante la norma del vector ${\\bf x} = (x, y, z)$.\n",
    "\n",
    "$$\n",
    "{\\bf x}' = R \\, {\\bf x}, \\;\\; |{\\bf x}'|^2 = |{\\bf x}|^2\n",
    "$$"
   ]
  },
  {
   "cell_type": "markdown",
   "metadata": {},
   "source": [
    "Las matrices, $R(\\theta)$, quedan definidas con tres ángulos, $\\theta_i$, con $i=1, 2, 3$, a través de tres generadores hermíticos:\n",
    "$$\n",
    "R(\\theta) = e^{i \\vec{\\theta} \\cdot T} = e^{i \\sum_i \\theta_i T^i}\n",
    "$$\n",
    "donde:\n",
    "$$\n",
    "T^1 = -i \\begin{pmatrix} 0 & 0 & 0 \\\\ 0 & 0 & 1 \\\\ 0 & -1 & 0\\end{pmatrix}, \\;\\;\n",
    "T^2 = -i \\begin{pmatrix} 0 & 0 & -1 \\\\ 0 & 0 & 0 \\\\ 1 & 0 & 0\\end{pmatrix}, \\;\\;\n",
    "T^3 = -i \\begin{pmatrix} 0 & 1 & 0 \\\\ -1 & 0 & 0 \\\\ 0 & 0 & 0\\end{pmatrix}. \n",
    "$$\n",
    "\n",
    "Que cumplen la siguiente algebra de conmutación:\n",
    "$$\n",
    "[T^i, T^j] = i \\, \\epsilon_{ijk} \\, T^k\n",
    "$$\n",
    "donde $\\epsilon_{ijk}$ es el tensor Levi-Civita.\n",
    "\n",
    "Estas son nuevamente las reglas de conmutación del momento angular y del grupo $SU(2)$.\n"
   ]
  },
  {
   "cell_type": "markdown",
   "metadata": {
    "slideshow": {
     "slide_type": "slide"
    }
   },
   "source": [
    "Como comparten la misma álgebra decimos que grupo $SU(2)$ es isomorfo a $SO(3)$\n",
    "\n",
    "$$\n",
    "SU(2) \\sim SO(3)\n",
    "$$\n",
    "\n",
    "La relación entre los elementos de cada grupo es:\n",
    "\n",
    "$$\n",
    "(x, y, z) \\leftrightarrow \\sigma \\cdot x = \\begin{pmatrix} z & x - i y \\\\ x + iy & z \\end{pmatrix}\n",
    "$$\n"
   ]
  },
  {
   "cell_type": "markdown",
   "metadata": {},
   "source": [
    "### El isoespín de sabor\n",
    "\n",
    "El quark $u$ y el quark $d$ se diferencian principalmente por su carga, dado que tienen masas muy similares. La fuerza fuerte sin embargo no hace distinción entre ellos, no distingue el sabor de los quarks.\n",
    "\n",
    "Podemos definir entonces un *isoespín* de sabor y asociar cada uno de los quarks con los elementos de la base fundamental del $SU(2)$, (o ${\\bf 2})$. La fuerza fuerte debe ser invariante respecto una tranformación unitaria entre ambos.\n",
    "\n",
    "$$\n",
    "u \\equiv \\begin{pmatrix} 1 \\\\ 0 \\end{pmatrix}, \\;\\;\\; d \\equiv \\begin{pmatrix} 0 \\\\ 1 \\end{pmatrix} \n",
    "$$\n",
    "\n",
    "Igualmente podemos asociar también los antiquarks a la representación fundamental ${\\bf \\bar{2}} $\n",
    "\n",
    "De tal forma que los mesones ligeros podemos asociarlos a los elementos de las representaciones irreducibles de un par quark-antiquark ${\\bf 2} \\otimes {\\bf \\bar{2}}$ y los bariones ligeros a tres quarks ${\\bf 2} \\otimes {\\bf 2} \\otimes {\\bf 2}$"
   ]
  },
  {
   "cell_type": "markdown",
   "metadata": {},
   "source": [
    "### El isoespín débil\n",
    "\n",
    "Para las interacciones débiles definimos un *isoespín débil* asociando el espinor a izquierdas de leptón cargado y del neutrino de su sabor con los elementos de un duplete de $SU(2)$, y de igual forma hacemos con el espinor a izquierdas de quark de abajo y arriba:\n",
    "\n",
    "Por ejemplo para la primera generación de leptones y quarks, tendríamos los dupletes\n",
    "$$\n",
    "L \\equiv \\begin{pmatrix} \\nu_e|_L \\\\ e_L \\end{pmatrix}, \\;\\; Q \\equiv \\begin{pmatrix} u_L \\\\ d_L \\end{pmatrix},\n",
    "$$\n",
    "\n",
    "\n",
    "y exegimos que el lagrangiano débil sea invariante bajo rotaciones *locales* en el espacio de *isoespín débil*\n",
    "\n",
    "$$\n",
    "L' = e^{i \\theta_i(x) T^i} L, \\;\\; Q' = e^{i \\theta_i(x) T^i} Q\n",
    "$$\n",
    "\n",
    "donde $\\theta_i(x)$ son funciones continuas y locales del punto espacio-temporal\n"
   ]
  },
  {
   "cell_type": "markdown",
   "metadata": {
    "slideshow": {
     "slide_type": "slide"
    }
   },
   "source": [
    "## El grupo SU(3)\n",
    "\n",
    "Las **matrices unitarias $3 \\times 3$ con determinante unidad** forman el grupo $SU(3)$.\n",
    "\n",
    "Las matrices, $U$, cumplen:\n",
    "$$\n",
    "U^\\dagger U = I, \\;\\; \\mathrm{det}(U) = 1\n",
    "$$\n",
    "\n",
    "Un vector complejo ${\\bf x} = (x, y, z)$ mantiene la norma bajo transformacion del grupo $SU(3)$.\n",
    "\n",
    "$$\n",
    "{\\bf x}' = U \\, {\\bf x}, \\;\\; |{\\bf x}'|^2 = |{\\bf x}|^2\n",
    "$$\n",
    "\n",
    "El número de parámetros reales libres de SU(3) es 8. Hay $18 = 3 \\times 3 \\times 2$ parámetros reales en $U$, 9 ligaduras de la condición de unitariedad y 1 por ser el determinante unidad.\n",
    "\n",
    "Las matrices de SU(3) pueden construirse a partir 8 generadores hemíticos, $T_i$, y $\\theta_i$ con $i = 1, \\dots, 8$\n",
    "\n",
    "$$\n",
    "U(\\theta) = e^{i \\theta \\cdot {\\bf T}}\n",
    "$$\n"
   ]
  },
  {
   "cell_type": "markdown",
   "metadata": {},
   "source": [
    "Las matrices $U(\\theta)$ de $SU(3)$ se contruyen con 8 ángulos, $\\theta_i$ y 8 generadores hermíticos, $T^i$,\n",
    "\n",
    "$$\n",
    "U(\\theta) = e^{i \\vec{\\theta} \\cdot {\\bf T}} = e^{i \\sum \\theta_i T^i}\n",
    "$$\n",
    "\n",
    "El número de parámetros reales libres de SU(3) es 8. Hay $18 = 3 \\times 3 \\times 2$ parámetros reales en $U$, 9 ligaduras de la condición de unitariedad y 1 por ser el determinante unidad.\n"
   ]
  },
  {
   "cell_type": "markdown",
   "metadata": {
    "slideshow": {
     "slide_type": "slide"
    }
   },
   "source": [
    "Una opción conveniente para los generadores es construirlos a partir de las matrices $\\lambda$ de Gell-Mann.\n",
    "\n",
    "$$\n",
    "T_i = \\frac{1}{2} \\lambda_i\n",
    "$$\n",
    "\n",
    "Donde:\n",
    "\n",
    "$$\n",
    "\\lambda_1 = \\begin{pmatrix} 0 & 1 & 0  \\\\  1 & 0 & 0 \\\\ 0 & 0 & 0 \\end{pmatrix}, \\;\n",
    "\\lambda_2 = \\begin{pmatrix} 0 & -i & 0 \\\\  i & 0 & 0 \\\\ 0 & 0 & 0 \\end{pmatrix}, \\;\n",
    "\\lambda_3 = \\begin{pmatrix} 1 & 0 & 0  \\\\ 0 & -1 & 0 \\\\ 0 & 0 & 0 \\end{pmatrix}, \\;\n",
    "\\lambda_4 = \\begin{pmatrix} 0 & 0 & 1  \\\\ 0 & 0 & 0  \\\\ 1 & 0 & 0 \\end{pmatrix}, \\\\\n",
    "\\lambda_5 = \\begin{pmatrix} 0 & 0 & -i \\\\ 0 & 0 & 0  \\\\ i & 0 & 0 \\end{pmatrix}, \\;\n",
    "\\lambda_6 = \\begin{pmatrix} 0 & 0 & 0  \\\\ 0 & 0 & 1  \\\\ 0 & 1 & 0 \\end{pmatrix}, \\;\n",
    "\\lambda_7 = \\begin{pmatrix} 0 & 0 & 0  \\\\ 0 & 0 & -i \\\\ 0 & i & 0 \\end{pmatrix}, \\;\n",
    "\\lambda_8 = \\frac{1}{\\sqrt{3}}\\begin{pmatrix} 1 & 0 & 0  \\\\ 0 & 1 & 0 \\\\ 0 & 0 & -2 \\end{pmatrix}.\n",
    "$$\n"
   ]
  },
  {
   "cell_type": "markdown",
   "metadata": {
    "slideshow": {
     "slide_type": "slide"
    }
   },
   "source": [
    "Solo tres de los generadores conmutan entre ellos, ${\\bf T}^2, T_3, Y_8$.\n",
    "\n",
    "Podemos escribir un elemento del grupo  con los números cuánticos $|j, m, y \\rangle$. En  la representación fundamental:\n",
    "\n",
    "$$\n",
    "{\\bf T}^2 = \\sum_{i=1}^8 T^2_i = \\frac{4}{3}    \\begin{pmatrix} 1 & 0 & 0 \\\\ 0 &  1 & 0 \\\\ 0 & 0 & 1 \\end{pmatrix}, \\;\n",
    "T_3 = \\frac{1}{2} \\lambda_3 = \\frac{1}{2} \\begin{pmatrix} 1 & 0 & 0 \\\\ 0 & -1 & 0 \\\\ 0 & 0 & 0 \\end{pmatrix}, \\;\n",
    "\\;\\; Y = \\frac{1}{\\sqrt{3}} \\lambda_8   = \\frac{1}{3} \\begin{pmatrix} 1 & 0 & 0 \\\\ 0 & 1 & 0 \\\\ 0 & 0 & -2 \\end{pmatrix}, \n",
    "$$\n",
    "\n",
    "Los números cuánticos ahora serán $m$, *tercera componente del isoespín*, asociada a $T^3$, e $y$ a la *hypercarga*, a $Y_8$.\n",
    "\n",
    "Los elementos de la representación fundamental en función del la tercera componente y de la hypercarga quedan:\n",
    "\n",
    "$$\n",
    "\\begin{pmatrix}  1 \\\\ 0 \\\\ 0 \\end{pmatrix} = |1/2, 1/3 \\rangle, \\;\\;\n",
    "\\begin{pmatrix} 0 \\\\ 1 \\\\ 0 \\end{pmatrix}  = |-1/2, 1/3 \\rangle, \\;\n",
    "\\begin{pmatrix}  0 \\\\0 \\\\ 1 \\end{pmatrix} = |0, -2/3 \\rangle\n",
    "$$\n"
   ]
  },
  {
   "cell_type": "markdown",
   "metadata": {},
   "source": [
    "### simetría $SU(3)$ de sabor.\n",
    "\n",
    "Aún podemos considerar que los tres quarks ligeros, de masas parecidas, se diferencian sólo por su sabor y su carga. \n",
    "\n",
    "Pero la fuerza fuerte es insensible al sabor. Por lo que podemos asociar dada uno de los quarks ligeros, $u, d, s$ a los elementos de un triplete de $SU(3)$. De tal forma que la fuerza fuerte sea invariante frente a transformaciones unitarias de los tres.\n",
    "\n",
    "$$\n",
    "u = \\begin{pmatrix} 1 \\\\ 0 \\\\ 0 \\end{pmatrix}, \\;\\; d = \\begin{pmatrix} 0 \\\\ 1 \\\\ 0 \\end{pmatrix}, \\;\\;\n",
    "c = \\begin{pmatrix} 0 \\\\ 0 \\\\ 1 \\end{pmatrix}\n",
    "$$\n",
    "\n",
    "De esta forma nuevamente, la combinación de un par quark, anti-quark, ${\\bf 3} \\otimes {\\bf \\bar{3}}$ y de tres quarks ${\\bf 3} \\otimes {\\bf 3} \\otimes {\\bf 3}$ nos permite obtener la composición de los mesones y los bariones ligeros."
   ]
  },
  {
   "cell_type": "markdown",
   "metadata": {},
   "source": [
    "### El color\n",
    "\n",
    "La fuerza fuerza establece que tenemos tres colores, rojo, verde y azúl, $r, g, b$, que podemos asociar a un triplete de $SU(3)$. En el Modelo Estándar se exige que la fuerza fuerte sea invariante bajo transformaciones unitarias locales del color.\n",
    "\n",
    "Los tres colores son los elementos del triplete:\n",
    "\n",
    "$$\n",
    "r = \\begin{pmatrix} 1 \\\\ 0 \\\\ 0 \\end{pmatrix}, \\;\\; g = \\begin{pmatrix} 0 \\\\ 1 \\\\ 0 \\end{pmatrix}, \\;\\;\n",
    "b = \\begin{pmatrix} 0 \\\\ 0 \\\\ 1 \\end{pmatrix}\n",
    "$$\n",
    "\n",
    "Esta invariancia gauge local nos dará lugar a la cromodinámica cuántica (QCD)."
   ]
  },
  {
   "cell_type": "markdown",
   "metadata": {},
   "source": [
    "También nos permite dar las composición de sabor de los mesones y bariones. Exigiremos que los hadrones sean *incoloros*, es decir que sus números cuánticos (tercera componente y hypercarga) de sabor sean nulos."
   ]
  },
  {
   "cell_type": "markdown",
   "metadata": {
    "slideshow": {
     "slide_type": "slide"
    }
   },
   "source": [
    "\n",
    "\n",
    "La figura muestra los dos tripletes de color ${\\bf 3}$ de los quarks y anti-quarks ${\\bf \\bar{3}}$ en el plano $T_3, Y$. Notar la oposición de cargas para los elementos de la representación ${\\bf \\bar{3}}$.\n",
    "\n",
    "| | \n",
    "| :--: |\n",
    "|  <img src=\"./imgs/groups_su3_color.png\" width = 500 align=\"center\"> |\n",
    "| Posición de $r, g, b$ en $(T_3, Y)$, ${\\bf 3}$, y la dirección de los operadores $T_\\pm, V_\\pm, U_\\pm$ (izda) y de los $\\bar{r}, \\bar{g}, \\bar{b}$, ${\\bf \\bar{3}}$, (derecha)|\n",
    "\n",
    "\n",
    "Existen ahora tres operadores escalera:\n",
    "$$\n",
    "T_{\\pm} = \\frac{1}{2}(\\lambda_1 \\pm i \\lambda_2), \\; V_{\\pm} = \\frac{1}{2} (\\lambda_4 \\pm i \\lambda_5), \\; \n",
    "U_{\\pm} = \\frac{1}{2}(\\lambda_6 \\pm 9 \\lambda_7)\n",
    "$$\n",
    "\n",
    "que suben y bajan los spinores a lo largo de la direcciones del triángulo (ver figura):\n",
    "\n",
    "$$\n",
    "T_+ g = r, \\; T_- r = g, \\\\ V_+ b = r, \\; V_-r = b, \\\\ U_+b = g, \\; U_-g = b\n",
    "$$\n"
   ]
  },
  {
   "cell_type": "markdown",
   "metadata": {
    "slideshow": {
     "slide_type": "slide"
    }
   },
   "source": [
    "La combinación de los colores de quark y antiquark (mesón), ${\\bf 3} \\otimes {\\bf \\bar{3}}$, se efectua colocando el triplete ${\\bf \\bar{3}}$ sobre los vértices del ${\\bf 3}$. Lo que da lugar a un octete y un singlete en su representación irreducible.\n",
    "\n",
    "| | \n",
    "| :--: |\n",
    "|  <img src=\"./imgs/groups_su3_33b.png\" width = 550 align=\"center\"> |\n",
    "| Combinación ${\\bf 3} \\otimes {\\bf \\bar{3}} = {\\bf 8} \\oplus {\\bf 1}$ [MT]|\n",
    "\n",
    "El único singlete tiene $T_3 = , Y = 0$, esto es es incoloro, viene dado por:\n",
    "\n",
    "$$\n",
    "\\frac{1}{\\sqrt{3}} (r\\bar{r} + g\\bar{g} + b \\bar{b})\n",
    "$$"
   ]
  },
  {
   "cell_type": "markdown",
   "metadata": {},
   "source": [
    "La combinación de dos quarks, ${\\bf 3} \\otimes {\\bf 3}$, no da un singlete de color pero sí la de tres quarks, ${\\bf 3} \\otimes {\\bf 3} \\otimes {\\bf 3}$ (ver figura).\n",
    "\n",
    "| | \n",
    "| :--: |\n",
    "|  <img src=\"./imgs/groups_su3_333.png\" width = 550 align=\"center\"> |\n",
    "| Combinación ${\\bf 3} \\otimes {\\bf 3} \\otimes {\\bf 3} = {\\bf 10} \\oplus {\\bf 8} \\otimes {\\bf 8} \\otimes {\\bf 1}$ [MT]|\n",
    "\n",
    "El singlete, con $T_3 = 0, Y = 0$, este es sin color, viene dado por:\n",
    "\n",
    "$$\n",
    "\\frac{1}{\\sqrt{6}} (rgb - rbg + gbr - grb + brg - brg)\n",
    "$$\n"
   ]
  }
 ],
 "metadata": {
  "anaconda-cloud": {},
  "celltoolbar": "Slideshow",
  "kernelspec": {
   "display_name": "Python 3",
   "language": "python",
   "name": "python3"
  },
  "language_info": {
   "codemirror_mode": {
    "name": "ipython",
    "version": 3
   },
   "file_extension": ".py",
   "mimetype": "text/x-python",
   "name": "python",
   "nbconvert_exporter": "python",
   "pygments_lexer": "ipython3",
   "version": "3.9.13"
  }
 },
 "nbformat": 4,
 "nbformat_minor": 4
}
