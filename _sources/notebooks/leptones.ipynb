{
 "cells": [
  {
   "cell_type": "markdown",
   "metadata": {
    "slideshow": {
     "slide_type": "slide"
    }
   },
   "source": [
    "# Sobre los leptones"
   ]
  },
  {
   "cell_type": "code",
   "execution_count": 1,
   "metadata": {
    "slideshow": {
     "slide_type": "fragment"
    }
   },
   "outputs": [
    {
     "name": "stdout",
     "output_type": "stream",
     "text": [
      " Last version  Thu Nov 28 16:06:03 2024\n"
     ]
    }
   ],
   "source": [
    "import time\n",
    "print(' Last version ', time.asctime() )"
   ]
  },
  {
   "cell_type": "code",
   "execution_count": 2,
   "metadata": {
    "slideshow": {
     "slide_type": "subslide"
    }
   },
   "outputs": [],
   "source": [
    "# general imports\n",
    "%matplotlib inline\n",
    "%reload_ext autoreload\n",
    "%autoreload 2\n",
    "\n",
    "# numpy and matplotlib\n",
    "import numpy as np\n",
    "import matplotlib\n",
    "import matplotlib.pyplot as plt\n",
    "\n",
    "import scipy.constants as units"
   ]
  },
  {
   "cell_type": "markdown",
   "metadata": {
    "slideshow": {
     "slide_type": "slide"
    }
   },
   "source": [
    "## Objetivos\n",
    "\n",
    "   * Los leptones sienten la fuerza electro-débil y se clasifican en tres familias que se comportan de forma universal.\n",
    "   \n",
    "   * las corrientes cargadas presentan violación de carga y paridad. \n",
    "   \n",
    "   *  la violación de paridad está asociada a una propiedad que se llama quiralidad\n",
    "\n",
    "   * los neutrinos solo sienten la fuerza débil y oscilan entre ellos.\n",
    "   "
   ]
  },
  {
   "cell_type": "markdown",
   "metadata": {
    "slideshow": {
     "slide_type": "slide"
    }
   },
   "source": [
    "## Características de los leptones\n",
    "\n",
    "Los leptones se presentan en tres generaciones agrupados en dupletes:\n",
    "\n",
    "$$\n",
    "\\begin{pmatrix}\\nu_e \\\\ e \\end{pmatrix}, \\; \\begin{pmatrix}\\nu_\\mu \\\\ \\mu \\end{pmatrix}, \\;\n",
    "\\begin{pmatrix}\\nu_\\tau \\\\ \\tau \\end{pmatrix}\n",
    "$$\n",
    "\n",
    "Sus propiedades:\n",
    "\n",
    "|       | $e$ | $\\mu$ | $\\tau$ | $\\nu$ |\n",
    "| :--   | :-- | :--   | :--    | :--   |\n",
    "| masa  | 0.511 MeV    | 105.7 MeV  |  1777 MeV|   $\\le$ 1 eV     |  \n",
    "| carga |   -1  | -1 | -1 | 0 |\n",
    "| vida media ($\\tau$)| estable | $2.197$ $\\mu\\mathrm{s}$ | $290.6$ fs | estable|"
   ]
  },
  {
   "cell_type": "markdown",
   "metadata": {
    "slideshow": {
     "slide_type": "subslide"
    }
   },
   "source": [
    "*Cuestión*: ¿Cuál es el recorrido medio del $\\mu, \\, \\tau$ con momento $p = 10$ GeV en el vacío?\n",
    "\n",
    "Aplicando la transformación de Lorentz del tiempo propio del sistema en reposo al sistema del observador, obtenemos:\n",
    "\n",
    "$$\n",
    "d = \\, \\gamma \\, \\beta \\, \\tau \\, c, \\;\\; \\gamma = \\frac{E}{m}, \\; \\beta = \\frac{p}{E}\n",
    "$$"
   ]
  },
  {
   "cell_type": "code",
   "execution_count": 3,
   "metadata": {
    "slideshow": {
     "slide_type": "subslide"
    }
   },
   "outputs": [
    {
     "name": "stdout",
     "output_type": "stream",
     "text": [
      " distance 6.222108e+04 m\n"
     ]
    }
   ],
   "source": [
    "mass = 0.106 # GeV\n",
    "tau  = 2.2 * units.micro # s\n",
    "p    = 10 # GeV\n",
    "ene  = np.sqrt(mass**2 + p**2)\n",
    "gamma = ene/mass\n",
    "beta  = p/ene\n",
    "distance = gamma * beta * tau * units.c\n",
    "print(' distance {:e} m'.format(distance))"
   ]
  },
  {
   "cell_type": "markdown",
   "metadata": {
    "slideshow": {
     "slide_type": "slide"
    }
   },
   "source": [
    "### Desintegraciones\n",
    "\n",
    "\n",
    "Los siguientes diagramas de Feynman muestran las desintegraciones de los leptones cargados:\n",
    "\n",
    "| |\n",
    "| :-- |\n",
    "<img src=\"./imgs/feynman_lepton_decays.png\" width = 500 align = \"center\">\n",
    "|Desintegraciones del $\\mu$ (arriba) y del $\\tau$ (abajo)|"
   ]
  },
  {
   "cell_type": "markdown",
   "metadata": {
    "slideshow": {
     "slide_type": "slide"
    }
   },
   "source": [
    "Desintegraciones principales:\n",
    "\n",
    "|    | Fracción de desintegración |\n",
    "|:-- | --:                                          |\n",
    "| $\\mu  \\to e + \\bar{\\nu_e} + \\nu_\\mu$  | $\\sim 100$ %|\n",
    "| $\\tau \\to \\mu + \\bar{\\nu_\\mu} + \\nu_\\tau$| $17.4$ % |\n",
    "| $\\tau \\to e + \\bar{\\nu_e} + \\nu_\\tau$| $17.8$ % |\n",
    "| $\\tau \\to \\mathrm{hadrons}+ \\nu_\\tau$| $\\sim 64$ % |"
   ]
  },
  {
   "cell_type": "markdown",
   "metadata": {
    "slideshow": {
     "slide_type": "slide"
    }
   },
   "source": [
    "#### Conservación del número leptónico.\n",
    "\n",
    "Experimentalmente en toda interacción se conservan el número total de leptones menos anti-leptones de la misma generación y también el total. \n",
    "\n",
    "Asignamos un número leptónico a cada generación (es negativo para las antipartículas). \n",
    "\n",
    "|                                                 | $L_e$   | $L_\\mu$ | $L_\\tau$  |  $L$ |\n",
    "| :--                                             | --      | --      | --        | --   |\n",
    "| $(e, \\nu_e), \\; (e^+, \\bar{\\nu}_e)$            | +1, -1  |  0      | 0         | +1, -1 |\n",
    "| $(\\mu, \\nu_\\mu), \\; (\\mu^+, \\bar{\\nu}_\\mu)$     | 0       |  +1,-1  | 0         | +1, -1 |\n",
    "| $(\\tau, \\nu_\\tau), \\; (\\tau^+, \\bar{\\nu}_\\tau)$ | 0       |  0      | +1,-1     | +1, -1 |    \n",
    "\n",
    "**El número leptónico de sabor** (por generación) **y el total se conservan.**"
   ]
  },
  {
   "cell_type": "markdown",
   "metadata": {
    "slideshow": {
     "slide_type": "subslide"
    }
   },
   "source": [
    "\n",
    "*Cuestión*: Verifica que el número leptónico de sabor y el total se conservan en las desintegraciones de $\\mu, \\tau$.\n"
   ]
  },
  {
   "cell_type": "markdown",
   "metadata": {
    "slideshow": {
     "slide_type": "slide"
    }
   },
   "source": [
    "\n",
    "Los experimentos que han buscado la violación del número léptonico solo han puesto límites a los valores de vida media de los procesos que lo violan, por ejemplo en la búsqueda $\\mu \\to e + \\gamma$\n",
    "\n",
    "La conservación de la carga eléctrica fuerza que el electrón, la partícula cargada más ligera, sea estable. \n",
    "\n",
    "*Nota adicional* Como veremos posteriormente las oscilaciones de neutrinos violan el número leptónico de sabor pero en la propagación de los neutrinos.\n",
    "\n",
    "*Cuestión*: ¿La desintegración $\\mu \\to \\nu_\\mu + e + e^+$ viola alguna regla de conservación? ¿Y la desintegración $\\tau \\to \\mu + \\mu + \\mu^+$?"
   ]
  },
  {
   "cell_type": "markdown",
   "metadata": {
    "slideshow": {
     "slide_type": "slide"
    }
   },
   "source": [
    "### Descubrimientos de los leptones\n",
    "    \n",
    "  * El 1932 C. Anderson descubrió **el positrón** en una cámara de burbujas en un campo magnético. Observó que de los productos con rayos cósmicos aparecían trazas que por su curvatura eran electrones pero con carga positiva.\n",
    "    \n",
    "  * En 1937 Aderson y Nedermayer descubrieron partículas penetrantes en los rayos cósmicos. En 1947 se observaron en emulsiones fotográficas con rayos cósmicos la desintegraciones del pión y del **muón**, que se correspondía a una partícula penetrante.\n",
    "    \n",
    "  * en 1975 M. Perl en el colisionador $e^+e^-$ de SLAC descubrió **el tau** en la producción de pares $e+e^+ \\to \\tau+\\tau^+$, donde éstos se desintegraban leptónicamente $\\tau \\to\\mu +\\bar{\\nu}_\\mu + \\nu_\\tau$\n",
    "    "
   ]
  },
  {
   "cell_type": "markdown",
   "metadata": {
    "slideshow": {
     "slide_type": "slide"
    }
   },
   "source": [
    "  * En 1930 **Pauli** propuso **el neutrino** como solución desperada para resolver el problema de la no conservación de energía y momento en las desintegraciones $\\beta$, la existencia de un fermión neutro de pequeña masa que escaparía indetectada.\n",
    "   \n",
    "  * En 1956 **Reines y Cowan** detectaron el $\\nu_e$. A partir del flujo intenso de neutrinos del reactor nuclear de Savannah, Carolina del Sur, detectaron la interacción $\\beta$ inversa $\\bar{\\nu}_e + p \\to e^+ +n $ en un detector con líquido centelleador y agua como blanco. \n",
    "   \n",
    "  * En 1962 Schwartz, Lederman y Steinberger descubrieron el $\\nu_\\mu$ con el haz de $\\nu_\\mu$ producido en el AGS de Brookhaven, Nueva York, con un detector de placas alternadas de material pasivo y cámaras de chispas. Demostraron que los $\\nu_\\mu$ son distintos a los $\\nu_e$ y que aparecen en parejas con sus fermiones cargados $\\mu$.\n",
    "   \n",
    "  * En 2001 la colaboración DONUT de Fermilab en emulsiones fotográficas observó la primera interacción de un $\\nu_{\\tau}$."
   ]
  },
  {
   "cell_type": "markdown",
   "metadata": {
    "slideshow": {
     "slide_type": "slide"
    }
   },
   "source": [
    "**Otros hitos relevantes relacionados con los leptones**\n",
    "     \n",
    "   * 1956 Experimento de **Wu**. Descubrimiento de **la violación de paridad**.\n",
    "\n",
    "   * 1958 Goldhaber descubre que el neutrino tiene helicidad negativa.\n",
    "   \n",
    "   * 1970 **David et al, y Bahcall**, descubren **el problema de los neutrinos solares**.\n",
    "   \n",
    "   * 1998 Tajita et al, Descubrimiento de **oscilaciones de neutrinos** en el experimento **Super-Kamiokande**.\n",
    "   \n",
    "   * 2012 McDonald et al, Solución del problema de los neutrinos solares, en el experimento SNO."
   ]
  },
  {
   "cell_type": "markdown",
   "metadata": {
    "slideshow": {
     "slide_type": "slide"
    }
   },
   "source": [
    "#### Descubrimiento del neutrino\n",
    "\n",
    "El espectro continuo de energía de las desintegraciones $\\beta$ era un misterio en la década de los 20 en del siglo XX.\n",
    "\n",
    "$$\n",
    "^A_Z X \\to ^A_{Z+1}X' + e \\;\\; (?)\n",
    "$$\n",
    "\n",
    "| |\n",
    "|:--:|\n",
    "|<img src=\"./imgs/intro_bspectrum_1935.png\" width=300 align=\"center\">|\n",
    "| Espectro $\\beta$|\n",
    "\n",
    "Si el nucleo padre está en reposo y sólo se emiten dos partículas, el núcleo hijo y el electrón, $\\beta$, éste debería ser mono-energético, por conservación del momento. La energía a repartir entre el núcleo hijo y el electrón es $Q$ y en el CM ambos salen con el mismo momento $p^*$.\n",
    "\n",
    "N. Bohr: *”At the present stage of atomic theory, however, we may say that we have no argument... for upholding the energy principle in the case of 𝛽-ray disintegrations.”*\n"
   ]
  },
  {
   "cell_type": "markdown",
   "metadata": {
    "slideshow": {
     "slide_type": "slide"
    }
   },
   "source": [
    "[Pauli](https://en.wikipedia.org/wiki/Wolfgang_Pauli) postuó la existencia del neutrino en una histórica carta.\n",
    "\n",
    "| |\n",
    "| :--: |\n",
    "|<img src=\"./imgs/intro_Pauli_letter.jpg\" width=600 align=\"center\">|\n",
    "||\n"
   ]
  },
  {
   "cell_type": "markdown",
   "metadata": {
    "slideshow": {
     "slide_type": "slide"
    }
   },
   "source": [
    "B. Pontecorvo [[>]](https://www.youtube.com/watch?v=yXrHnsBgQSw&t=9s) sugirió utilizar el flujo de neutrinos generado en los reactores nucleares.\n",
    "\n",
    "| | |\n",
    "| :--: | :--: |\n",
    "| <img src=\"./imgs/intro_cowan_reines_detector.png\" width=300 align=\"center\"> | <img src=\"./imgs/leptons_cowanreines_drawing.png\" width=320 align=\"center\">|\n",
    "| Detector Cowan-Reines | Esquema de detección [AB2.6]|\n",
    "\n",
    "F. Reines and C. L. Cowan detectaron el neutrino con la interacción $\\beta$ inversa usando el flujo de neutrinos, $\\Phi \\simeq 10^{17}$ $\\nu\\mathrm{/(m^2 \\, s)}$, generado en el reactor nuclear de Savanna River, SC, EE.UU.\n",
    "\n",
    "Se trataba de un contador de positrones (detectaban simultaneamente en los centelleadores gammas de 511 keV provinientes de la aniquilación del positrón) en coincidencia retardada con la detección de los gammas emitidos en la captura del neutrón por un núcleo de Cd."
   ]
  },
  {
   "cell_type": "markdown",
   "metadata": {
    "slideshow": {
     "slide_type": "slide"
    }
   },
   "source": [
    "| | \n",
    "| :--: | \n",
    "| <img src=\"./imgs/intro_cowan_reines_telegram.png\" width=350 align=\"center\">|\n",
    "| telegrama anunciando el descrubrimiento del neutrino|\n"
   ]
  },
  {
   "cell_type": "markdown",
   "metadata": {
    "slideshow": {
     "slide_type": "slide"
    }
   },
   "source": [
    "[Para esta sección ver AB2.2]"
   ]
  },
  {
   "cell_type": "markdown",
   "metadata": {
    "slideshow": {
     "slide_type": "slide"
    }
   },
   "source": [
    "## Características de las interacciones débiles\n",
    "\n",
    "### Universalidad leptónica\n",
    "\n",
    "La **Universalidad leptónica** nos dice que la intensidad del acoplo de los vértices de las corrientes cargadas es igual para las tres generaciones de leptones.\n",
    "\n",
    "Vamos a probar con los datos experimentales, que efectivamente es así.\n",
    "\n",
    "Podemos suponer que en la constante de acoplo débil $g_W^\\alpha$, con $\\alpha = e, \\mu, \\tau$ es *distinta para cada sabor*.\n",
    "\n",
    "La anchura de desintegración del $\\mu$, que se calcula en un curso más avanzado, es:\n",
    " \n",
    "$$\n",
    "\\Gamma (\\mu \\to e + \\bar{\\nu}_e + \\nu_\\mu) \\equiv  \\frac{1}{\\tau_\\mu} = \\frac{G^2_F m^5_\\mu}{192 \\pi^3} = \\frac{g^4_W}{32 m^4_W} \\frac{m^5_\\mu}{192 \\pi^3}\n",
    "$$\n",
    "\n",
    "*Cuestión*: verifica que las dimensiones en la fórmula de la anchura de desintegración son correctas.\n",
    "\n"
   ]
  },
  {
   "cell_type": "markdown",
   "metadata": {
    "slideshow": {
     "slide_type": "slide"
    }
   },
   "source": [
    "Para la desintegración $\\tau \\to e + \\bar{\\nu}_e + \\nu_\\tau$ intervendrán las constantes $g^\\tau_W$ en la corriente tauónica y $g^e_W$ en la eléctrica, que pueden ser diferentes.\n",
    "\n",
    "La anchura de desintegración parcial:\n",
    "\n",
    "$$\n",
    "\\Gamma (\\tau \\to e + \\bar{\\nu}_e + \\nu_\\tau) = \\frac{(g^\\tau_W)^2 (g^e_W)^2}{32 m^4_W} \\frac{m^5_\\tau}{192 \\pi^3},\n",
    "$$\n",
    "\n",
    "La anchura de desintegración total es la suma de las parciales: $\\Gamma = \\sum_i \\Gamma \\equiv 1/\\tau_\\tau$, y la fracción de desintegración, $Br$, se relaciona con la anchura total y parcial por:\n",
    "\n",
    "$$\n",
    "Br(\\tau \\to e + \\bar{\\nu}_e + \\nu_\\tau) = \\frac{\\Gamma(\\tau \\to e + \\bar{\\nu}_e + \\nu_\\tau)}{\\Gamma_\\tau} = \\tau_\\tau \\, \\Gamma(\\tau \\to e + \\bar{\\nu}_e + \\nu_\\tau)\n",
    "$$\n",
    "\n",
    "donde $\\tau_\\tau$ es la vida media del $\\tau$.\n",
    "\n",
    "Luego:\n",
    "\n",
    "$$\n",
    "\\Gamma(\\tau \\to e + \\bar{\\nu}_e + \\nu_\\tau) = \\frac{1}{\\tau_\\tau} \\, Br(\\tau \\to e + \\bar{\\nu}_e + \\nu_\\tau) \n",
    "$$\n"
   ]
  },
  {
   "cell_type": "markdown",
   "metadata": {
    "slideshow": {
     "slide_type": "slide"
    }
   },
   "source": [
    "A partir de la razón entre las dos anchuras:\n",
    "\n",
    "$$\n",
    "\\frac{\\Gamma(\\tau \\to \\nu_\\tau + e + \\bar{\\nu}_e)}{\\Gamma(\\mu \\to \\nu_\\mu + e + \\bar{\\nu}_e)} = \\frac{\\tau_\\mu}{\\tau_\\tau} \\mathcal{Br}(\\tau \\to \\nu_\\tau + e + \\bar{\\nu}_e) = \\frac{(g^\\tau_W)^2 m^5_\\tau}{(g^\\mu_W)^2 m^5_\\mu}\n",
    "$$\n",
    "\n",
    "Podemos despejar la razón entre las constantes de Fermi para cada sabor, y sustituyendo por sus valores experimentales obtenemos:\n",
    "\n",
    "$$\n",
    "\\left( \\frac{g^\\tau_W}{g^\\mu_W} \\right)^2= \\frac{m^5_\\mu \\tau_\\mu}{m^5_\\tau \\tau_\\tau} \\, Br(\\tau \\to e + \\bar{\\nu}_e + \\nu_\\tau) = 1.0023 \\pm 0.033\n",
    "$$\n"
   ]
  },
  {
   "cell_type": "code",
   "execution_count": 3,
   "metadata": {
    "slideshow": {
     "slide_type": "subslide"
    }
   },
   "outputs": [
    {
     "name": "stdout",
     "output_type": "stream",
     "text": [
      "Gamma ratio 1.002\n"
     ]
    }
   ],
   "source": [
    "tau_tau  = 290.6 * units.femto # s\n",
    "mass_tau = 1777  # MeV\n",
    "tau_mu   = 2.197 * units.micro # s\n",
    "mass_mu  = 105.7   # MeV\n",
    "br_tau_e = 0.178\n",
    "ratio    = (tau_mu * mass_mu**5)/(tau_tau * mass_tau**5) * br_tau_e\n",
    "print('Gamma ratio {:4.3f}'.format(ratio))"
   ]
  },
  {
   "cell_type": "markdown",
   "metadata": {
    "slideshow": {
     "slide_type": "slide"
    }
   },
   "source": [
    "La constande de Fermi es común a todos los vértices de las corrientes cargadas entre leptones:\n",
    "\n",
    "$$\n",
    "G_F = 1.166 \\times 10^{-5} \\;\\; \\mathrm{GeV}^{-2}.\n",
    "$$\n",
    "\n",
    "$G_F$ está relacionada con el intensidad del acoplo $g_W$ del modelo estándar por:\n",
    "\n",
    "$$\n",
    "\\frac{G_F}{\\sqrt{2}} = \\frac{g^2_W}{8 m^2_W},\n",
    "$$\n",
    "\n",
    "donde $m_W = 80.385 \\pm 0.015$ GeV es la masa del $W$."
   ]
  },
  {
   "cell_type": "markdown",
   "metadata": {
    "slideshow": {
     "slide_type": "subslide"
    }
   },
   "source": [
    "*Cuestión*: A partir de las anchuras de desintegración $\\Gamma(\\tau \\to \\mu + \\nu_\\mu + \\bar{\\nu}_\\tau)$ y $\\Gamma(\\tau \\to e + \\nu_e + \\bar{\\nu}_\\tau)$ calcular $(g^e_W/g^\\mu_W)^2$. La desviación respecto de la unidad se compensa con un factor de espacio de fase."
   ]
  },
  {
   "cell_type": "markdown",
   "metadata": {},
   "source": [
    "[Para esta sección ver AB7.2]"
   ]
  },
  {
   "cell_type": "markdown",
   "metadata": {
    "slideshow": {
     "slide_type": "slide"
    }
   },
   "source": [
    "### Violación de Paridad\n",
    "\n",
    "Recordemos que es la operación de inversión por paridad, $P$: \n",
    "\n",
    "$$\n",
    "P  \\, : \\; {\\bf x} \\to - {\\bf x}, \\;\\;\\;  \\Psi({\\bf x}, t) \\to  \\Psi(-{\\bf x}, t).\n",
    "$$\n",
    "\n",
    "Recordemos también cómo se clasifican distintas magnitudes bajo paridad:\n",
    "\n",
    "|        | Rango | Paridad | Ejemplo |\n",
    "|:--     | --    | -- | :-- |\n",
    "| scalar | 0     | +1 | temperatura |\n",
    "|pseudo-scalar| 0 | -1 | helicidad |\n",
    "| vector | 1 | -1   | momento |\n",
    "|axial-vector | 1 | +1 | momento angular, campo magnético | \n",
    "\n"
   ]
  },
  {
   "cell_type": "markdown",
   "metadata": {
    "slideshow": {
     "slide_type": "slide"
    }
   },
   "source": [
    "#### Violación de paridad\n",
    "\n",
    "En 1957 Ms Wu y colaboradores descubrieron que las corrientes cargadas no conservan paridad. \n",
    "\n",
    "En el experimento polarizaban temporalmente $^{60}\\mathrm{Co}$ mediante un campo magnético ${\\bf B}$. El $^{60}\\mathrm{Co}$ se desintegra $\\beta$:\n",
    "\n",
    "$$\n",
    "^{60}\\mathrm{Co} \\to ^{60}\\mathrm{Ni}^* + e + \\bar{\\nu}_e.\n",
    "$$\n",
    "\n",
    "| |\n",
    "| :-- |\n",
    "| <img src=\"./imgs/leptons_Co_scheme.jpeg\" width = 200 align = \"center\"> |\n",
    "|Esquema de la desintegración $\\beta$ del $^{60}\\mathrm{Co}$ polarizado|\n",
    "\n",
    "y estudiaron la emisión de $e$ hacia arriba en los casos de campo magnético hacia arriba o hacia abajo.\n",
    "\n",
    "Si la paridad se conservase, el número de electrones emitidos en las dos configuraciones debería ser el mismo."
   ]
  },
  {
   "cell_type": "markdown",
   "metadata": {
    "slideshow": {
     "slide_type": "slide"
    }
   },
   "source": [
    "Considera los siguientes gráficos, el de la derecha es la inversión por paridad del de la izquierda. \n",
    "\n",
    "| | \n",
    "| :--: | \n",
    "| <img src=\"./imgs/leptons_Co_spins.png\" width = 400 align = \"center\"> | <\n",
    "|Esquema de la desintegración $\\beta$ del $^{60}\\mathrm{Co}$ polarizado|\n",
    "\n",
    "El nucleo de $^{60}\\mathrm{Co}$ tiene un momento magnético ${\\bf \\mu}$, dado por su espín, ${\\bf S}$, que está alineado en la dirección de un campo magnético ${\\bf B}$. \n",
    "\n",
    "Tanto ${\\bf B}$, como ${\\bf \\mu}$ y ${\\bf S}$, son vectores axiales, no cambian bajo paridad; mientras que el momento, ${\\bf p}$, del electrón sí cambia por ser un vector.\n",
    "\n",
    "Si se conserva la paridad, el electrón debe salir con igual probabilidad en los dos sentidos. Esto es con $\\theta$ respecto a la vertical y con $\\pi-\\theta$.\n",
    "\n",
    "En el caso extremo, cuando el electrón sale en la vertical, el electrón sale con la misma probabilidad hacia arriba que hacia abajo.\n",
    "\n",
    "*Nota* En la figura no se dibuja el neutrino que se emite en la desintegración $\\beta$."
   ]
  },
  {
   "cell_type": "markdown",
   "metadata": {
    "slideshow": {
     "slide_type": "slide"
    }
   },
   "source": [
    "| | \n",
    "| :--: | \n",
    "| <img src=\"./imgs/leptons_Co_results.png\" width = 360 align = \"center\"> |\n",
    "| Razón de detección de $e$ en función del tiempo y la polarización de ${\\bf B}$ [WU]|\n",
    "\n",
    "\n",
    "En la figura se observa la asimetría arriba abajo en función del tiempo de la prueba (el periodo durante el cual la muestra estaba fría y los nucleos estaban polarizados). Vemos que los electrones se emitieron con preferencia en la dirección opuesta al campo magnético. \n",
    "\n",
    "Luego las desintegraciones $\\beta$ o **las corrientes cargadas violan paridad**.\n",
    "\n",
    "Nota: el $^{60}\\mathrm{Co}$ se desmagnetizaba al cabo de un tiempo, al perder temperatura la muestra. \n"
   ]
  },
  {
   "cell_type": "markdown",
   "metadata": {
    "slideshow": {
     "slide_type": "slide"
    }
   },
   "source": [
    "| | \n",
    "| :--: | \n",
    "| <img src=\"./imgs/leptons_Wu_mirror.png\" width = 500 align = \"center\"> |\n",
    "| Chien-Shiung Wu con su experimento (y ante el espejo) |\n",
    "\n",
    "*Cuestión:* Observa las imágenes, la una es el espejo de la otra, pero solo una es real ¿Cuál de las imágenes es la original y cuál su reflejo en el espejo?"
   ]
  },
  {
   "cell_type": "markdown",
   "metadata": {
    "slideshow": {
     "slide_type": "subslide"
    }
   },
   "source": [
    "#### Las corrientes bajo paridad\n",
    "\n",
    "En la teoría de Fermi, el elemento de Matriz se construía con el producto de dos corrientes, la hadrónica y la fermiónica.\n",
    "\n",
    "$$\n",
    "M_{fi} \\propto j^\\mu_{\\mathrm{had}}  \\, g_{\\mu\\nu} \\, j^\\nu_{\\mathrm{lep}} = j_{\\mathrm{had}}  \\cdot  j_{\\mathrm{lep}}\n",
    "$$\n",
    "\n",
    "Cada corriente cambia bajo paridad:\n",
    "\n",
    "$$\n",
    "P \\; : \\; j^\\mu = (\\rho, {\\bf j}) \\to (\\rho, - {\\bf j}),\n",
    "$$\n",
    "\n",
    "pero $M_{fi}$ es invariante bajo paridad\n",
    "\n",
    "$$\n",
    "P \\; : \\; (\\rho, {\\bf j})_{\\mathrm{had}} \\cdot (\\rho, {\\bf j})_{\\mathrm{lep}} = (\\rho, - {\\bf j})_{\\mathrm{had}} \\cdot (\\rho, - {\\bf j})_{\\mathrm{lep}}\n",
    "$$\n",
    "\n",
    "¡Luego no representa la física de las corrientas cargadas!"
   ]
  },
  {
   "cell_type": "markdown",
   "metadata": {
    "slideshow": {
     "slide_type": "subslide"
    }
   },
   "source": [
    "*cuestión*: Aplicar paridad $P = \\gamma^0$ sobre la corriente fermiónica $\\bar{\\Psi} \\gamma^\\mu \\Psi$.\n",
    "\n",
    "En la representación Pauli-Dirac, la operación paridad es simplemente: $P = \\gamma^0$\n",
    "\n",
    "La corriente de probabilidad $j^\\mu = \\bar{\\Psi} \\gamma^\\mu \\Psi$ bajo paridad se transforma a ${\\bar \\Psi} \\gamma^0 \\gamma^\\mu \\gamma^0 \\Psi$, esto es:\n",
    "\n",
    "$$\n",
    "(j^0, {\\bf j}) \\to (j^0, -{\\bf j}^k)\n",
    "$$\n",
    "\n",
    "dado que:\n",
    "$$\n",
    "\\gamma^0 \\gamma^k = - \\gamma^k \\gamma^0\n",
    "$$\n",
    "\n",
    "donde $k = 1, 2, 3$"
   ]
  },
  {
   "cell_type": "markdown",
   "metadata": {
    "slideshow": {
     "slide_type": "subslide"
    }
   },
   "source": [
    "En este punto tenemos que introducir la matriz $\\gamma^5$ es:\n",
    "\n",
    "$$\n",
    "\\gamma^5 = i \\gamma^0 \\gamma^1 \\gamma^2 \\gamma^3 \\gamma^4\n",
    "$$\n",
    "\n",
    "que en la representación Pauli-Dirac es:\n",
    "\n",
    "$$\n",
    "\\gamma^5 = \\begin{pmatrix} 0 & I \\\\ I & 0 \\end{pmatrix}\n",
    "$$\n",
    "\n",
    "La matriz $\\gamma^5$ cumple las siguientes propiedades\n",
    "\n",
    "$$\n",
    "(\\gamma^5)^2 = I, \\;\\;\\; (\\gamma^5)^\\dagger = \\gamma^5, \\;\\;\\; \\gamma^5\\gamma^\\mu = - \\gamma^\\mu \\gamma^5\n",
    "$$\n",
    "\n",
    "*cuestión:* verifica las propiedades anteriores de $\\gamma^5$."
   ]
  },
  {
   "cell_type": "markdown",
   "metadata": {
    "slideshow": {
     "slide_type": "slide"
    }
   },
   "source": [
    "Todas las posibles formas bilineales en $\\Psi$ del tipo $\\bar{\\Psi} \\Gamma \\Psi$, donde $\\Gamma$ son las posibles combinaciones independientes que podemos crear con las matrices $\\gamma^\\mu$) si son:\n",
    "\n",
    "|        | -------- Forma -------- | Componentes | Spin |\n",
    "|:--     | :--:    | :--: | :--: |\n",
    "| scalar | ${\\bar \\Psi} \\Psi$   | 1 | 0 |\n",
    "|pseudo-scalar|  ${\\bar \\Psi} \\gamma^5 \\Psi$  | 1 | 0|\n",
    "| vector | ${\\bar \\Psi} \\gamma^\\mu \\Psi$  | 4   | 1 |\n",
    "|pseudo-vector | ${\\bar \\Psi} \\gamma^\\mu \\gamma^5 \\Psi$ | 4 | 1 | \n",
    "|tensor | ${\\bar \\Psi} (\\gamma^\\mu\\gamma^\\nu - \\gamma^\\nu \\gamma^\\mu) \\Psi$ | 6 | 2 | \n",
    "\n",
    "La matriz $\\gamma^5$ nos cambia la escalar en pseudo-escalar y el vector en pseudo-vector.\n",
    "\n",
    "Estas son las formas que usamos para definir nuestro elemento de matrix genérico, $M_{fi}$, ¿cuál es la que ha escogido la Naturaleza?"
   ]
  },
  {
   "cell_type": "markdown",
   "metadata": {
    "slideshow": {
     "slide_type": "slide"
    }
   },
   "source": [
    "\n",
    "A partir del estudio de las desintegraciones de los muones $\\mu \\to e + \\nu_\\mu + \\bar{\\nu}_e$ se determinó qué formas que intervienen en el acoplo de las corrientes débiles cargadas.\n",
    "\n",
    "| |\n",
    "| :-- |\n",
    "<img src=\"./imgs/leptons_espectrum_mudecay.png\" width = 300 align = \"center\">\n",
    "|Espectro del electrón en $\\mu$ decays, la línea es la teoría V-A [MU]|\n",
    "\n"
   ]
  },
  {
   "cell_type": "markdown",
   "metadata": {
    "slideshow": {
     "slide_type": "slide"
    }
   },
   "source": [
    "La forma fenomenológica que corresponde a las desintegraciones de muones (y las corrientes cargadas) es:\n",
    "\n",
    "$$\n",
    "{\\bar \\Psi} \\left[ \\gamma^\\mu \\frac{1}{2}(I - \\gamma^5) \\right] \\Psi\n",
    "$$\n",
    "\n",
    "Esto es intervienen dos corrientes:\n",
    "\n",
    " * La corriente $j^\\mu_V = \\frac{1}{2}{\\bar \\Psi} \\gamma^\\mu \\Psi$ es **vectorial** porque cambia como un vector frente a paridad. \n",
    "\n",
    "\n",
    "* La corriente $j^\\mu_A = \\frac{1}{2}{\\bar \\Psi} \\gamma^\\mu \\gamma^5 \\Psi$ es **axial** porque cambia como un axial-vector frente a paridad. \n",
    "\n",
    "Decimos que las corrientes cargadas tienen una **estructura $V-A$**"
   ]
  },
  {
   "cell_type": "markdown",
   "metadata": {},
   "source": [
    "¿Cómo cambia $M_{fi}$ ahora bajo paridad?\n",
    "\n",
    "$$\n",
    "P \\, : \\, j^\\mu_V - j^\\mu_A = (\\rho_V - \\rho_A, \\; {\\bf j}_V - {\\bf j}_A) \\to (\\rho_V + \\rho_A, - {\\bf j}_V - {\\bf j}_A)\n",
    "$$\n",
    "\n",
    "Y ahora $M_{fi}$, al ser el producto de dos corrientes $V-A$, ¡cambia bajo paridad! \n",
    "\n",
    "$$\n",
    "(\\rho_V - \\rho_A, \\; {\\bf j}_V - {\\bf j}_A)_{\\mathrm{had}} \\cdot (\\rho_V - \\rho_A, \\; {\\bf j}_V - {\\bf j}_A)_{\\mathrm{lep}} \\neq \n",
    "(\\rho_V + \\rho_A, \\; -{\\bf j}_V - {\\bf j}_A)_{\\mathrm{had}} \\cdot (\\rho_V + \\rho_A, \\; -{\\bf j}_V - {\\bf j}_A)_{\\mathrm{lep}}\n",
    "$$\n",
    "\n",
    "aunque sigue siendo un invariante Lorentz."
   ]
  },
  {
   "cell_type": "markdown",
   "metadata": {
    "slideshow": {
     "slide_type": "slide"
    }
   },
   "source": [
    "#### La quiralidad\n",
    "\n",
    "En vez de ver la interacción como $V-A$ podemos preguntarnos ¿qué es $P_L \\equiv \\frac{1}{2} (I-\\gamma^5)$?\n",
    "\n",
    "Es un proyector que actua sobre el sobre el espinor de Dirac:\n",
    "\n",
    "$$\n",
    "\\Psi_L = \\frac{1}{2}(I - \\gamma^5) \\, \\Psi\n",
    "$$\n",
    "\n",
    "Existen dos proyectores complementarios:\n",
    "\n",
    "$$\n",
    "P_L = \\frac{1}{2} (I-\\gamma^5) \\,, \\;\\;\\; P_R = \\frac{1}{2} (I+\\gamma^5).\n",
    "$$\n",
    "\n",
    "Cumplen:\n",
    "\n",
    "$$\n",
    "I = P_R + P_L, \\;\\; P^2_R = P_R, \\;\\; P^2_L = P_L, \\; P_R P_L = P_L P_R = 0 \n",
    "$$\n",
    "\n",
    "Estos proyectores se llaman de **quiralidad** y proyectan a **izquierda y derecha**.\n",
    "\n",
    "*Cuestión:* Verifica que $P_L, P_R$ cumplen las condiciones anteriores."
   ]
  },
  {
   "cell_type": "markdown",
   "metadata": {
    "slideshow": {
     "slide_type": "slide"
    }
   },
   "source": [
    "De tal forma que un **espinor de Dirac** se descompone en dos proyecciones, **quiralidad a izquierdas y derechas**:\n",
    "\n",
    "$$\n",
    "\\Psi = \\Psi_R + \\Psi_L \n",
    "$$\n",
    "$$\n",
    "\\Psi_R = P_R \\, \\Psi, \\;\\;\\; \\Psi_L = P_L \\, \\Psi,\n",
    "$$\n",
    "\n",
    "**la quiralidad se invierte al aplicar paridad**:\n",
    "\n",
    "Comprobémoslo:\n",
    "\n",
    "$$\n",
    "P : P_L \\leftrightarrow P_R, \\;\\; \\Psi_L \\leftrightarrow \\Psi_R\n",
    "$$\n",
    "\n",
    "\n",
    "La transformación paridad $P = \\gamma^0$ cambia los proyectores de quiralidad:\n",
    "\n",
    "$$\n",
    "P^{-1} \\, P_L \\, P =  \\gamma^0 \\frac{1}{2}(1 - \\gamma^5) \\gamma^0 = \\frac{1}{2} (1+\\gamma^5) (\\gamma^0)^2 = P_R \n",
    "$$\n"
   ]
  },
  {
   "cell_type": "markdown",
   "metadata": {},
   "source": [
    "*ejercicio:* Verifica que:\n",
    "\n",
    "$$\n",
    "\\bar{\\Psi} \\gamma^\\mu \\frac{1}{2}(1-\\gamma^5) \\Psi = \\bar{\\Psi}_L \\gamma^\\mu \\Psi_L\n",
    "$$\n",
    "$$\n",
    "\\bar{\\Psi} \\gamma^\\mu \\frac{1}{2}(1+\\gamma^5) \\Psi = \\bar{\\Psi}_R \\gamma^\\mu \\Psi_R\n",
    "$$\n",
    "\n",
    "Y por lo tanto:\n",
    "\n",
    "$$\n",
    "\\bar{\\Psi} \\gamma^\\mu \\Psi = \\bar{\\Psi}_L \\gamma^\\mu \\Psi_L + \\bar{\\Psi}_R \\gamma^\\mu \\Psi_R\n",
    "$$"
   ]
  },
  {
   "cell_type": "markdown",
   "metadata": {
    "slideshow": {
     "slide_type": "slide"
    }
   },
   "source": [
    "¿Cómo podemos definir la quiralidad?\n",
    "\n",
    "La quiralidad es una **propiedad matemática** de los espinores que nos dice si son autovectores de la matriz $\\gamma^5$.\n",
    "\n",
    "$$\n",
    "\\frac{1}{2}(1 \\pm \\gamma^5) \\, u_{R/L} = u_{R/L} \\;\\; \\Rightarrow \\;\\; \\gamma^5 \\, u_{R/L} = \\pm \\, u_{R/L}\n",
    "$$\n",
    "\n",
    "con autovalores $+1$ para la quiralidad a derechas, $u_R$, y $-1$ para izquierdas, $u_L$.\n",
    "\n",
    "Luego una teoría que es invariante bajo paridad debe considerar los espinores de quiralidad a izquierdas y derechas en condiciones de igualdad.\n",
    "\n",
    "Una teoría que viole paridad favorece una quiralidad respecto a la otra."
   ]
  },
  {
   "cell_type": "markdown",
   "metadata": {
    "slideshow": {
     "slide_type": "slide"
    }
   },
   "source": [
    "Los físicos del siglo XX utilizaron definiciones que llevan a la confusión, como el abuso de los diversos \"isoespins\", pero especial cuiado hay que tener de no confundir la *helicidad* con la *quiralidad*.\n",
    "\n",
    "Otro punto de confusión, viene dado porque cuando trabajamos con espinores directamente (esto es, no trabajamos directamente en TCQ), el resultado físico de algunos operadores sobre las antipartículas requiere invertir el signo, como es de nuevo el caso para la quiralidad. \n",
    "\n",
    "$$\n",
    "v_{R/L} = \\mp \\gamma^5 v_{R/L} \n",
    "$$\n",
    "\n",
    "Desafortunadamente, de esta forma, la proyección de quiralidad a derechas del espinor $v(p)$ viene dada por:\n",
    "\n",
    "$$\n",
    "v_R(p) = \\frac{1}{2}(1-\\gamma^5) \\, v(p)\n",
    "$$\n"
   ]
  },
  {
   "cell_type": "markdown",
   "metadata": {
    "slideshow": {
     "slide_type": "subslide"
    }
   },
   "source": [
    "\n",
    "Podemos decir de forma equivalente que, **las corrientas cargadas**\n",
    "\n",
    "* **Son de tipo V-A**, $\\; {\\bar \\Psi} \\, \\frac{1}{2}\\gamma^\\mu (I - \\gamma^5) \\, \\Psi$ \n",
    "\n",
    "* O **solo intervienen los espinores a izquierdas de los fermiones**, $u_L = \\frac{1}{2} (I - \\gamma^5) \\, u$, y **de derechas a los anti-fermiones**, $v_R$ \n",
    "\n",
    "En las corrientes cargadas *solo* interviene la parte a izquierdas de los espinores de las partículas, la parte a derechas no juega ningún papel. Para las anti-partículas es al contrario, solo interviene su espinor a derechas.\n"
   ]
  },
  {
   "cell_type": "markdown",
   "metadata": {
    "slideshow": {
     "slide_type": "subslide"
    }
   },
   "source": [
    "Podemos intentar el simil de las cartas de juego de naipes para comprender el efecto de la quiralidad y la inversión de paridad.\n",
    "\n",
    "Las cartas tienen dos caras, la de la figura y el reverso, similar a los espinores que tiene la quiralidad a izquierdas y de derechas. La inversión de cara nos da la vuelta a la carta. La inversión por paridad nos cambia la quiralidad de espinor.\n",
    "\n",
    "Un juego de cartas invariante respecto a la inversión de caras sería simplemente contarlas, poquito más, algo muy aburrido. Los juegos de cartas violan la inversión de caras, solo usamos la cara de la figura, y ahí es dónde las cosas se hacen divertidas.\n",
    "\n",
    "Algo así sucede en la Naturaleza, los espinores tienen dos quiralidades, la inversión de paridad invierte la quiralidad. En las interacciones débiles y fuertes no han distinción de las quiralidades de los espinores, preservan la paridad, pero sí hay distinción en las interaciones débiles. En las corrientes débiles cargadas (mediadas por $W^\\pm$) solo se juega con los espinores a izquierdas de las partículas y los de derechas de las antipartículas, esto es, se viola paridad."
   ]
  },
  {
   "cell_type": "markdown",
   "metadata": {
    "slideshow": {
     "slide_type": "subslide"
    }
   },
   "source": [
    "#### Proyección de los espinores de helicidad\n",
    "\n",
    "Aunque *helicidad* y *quiralidad* no son lo mismo, hay un caso muy relevante, donde coinciden.\n",
    "\n",
    "En la representación de Pauli-Dirac, los proyectores de quiralidad son simplemente:\n",
    "\n",
    "$$\n",
    "P_R = \\frac{1}{2}\\begin{pmatrix} I & I \\\\ I & I \\end{pmatrix}, \\;\\;\\;\n",
    "P_L = \\frac{1}{2}\\begin{pmatrix} I & -I \\\\ -I & I \\end{pmatrix},\n",
    "$$\n",
    "\n",
    "\n",
    "Sean ahora los espinores de helicidad con ${\\bf p} = p \\, \\hat{k}$ en la dirección $z$:\n",
    "\n",
    "$$\n",
    "u_{+} = N \\begin{pmatrix} 1 \\\\ 0 \\\\ \\kappa  \\\\ 0 \\end{pmatrix}, \\;\n",
    "u_{-} = N \\begin{pmatrix} 0 \\\\ 1 \\\\ 0 \\\\ -\\kappa  \\end{pmatrix}, \\;\n",
    "v_{+} = N \\begin{pmatrix} 0 \\\\ -\\kappa  \\\\ 0 \\\\ 1 \\end{pmatrix}, \\;\n",
    "v_{-} = N \\begin{pmatrix} \\kappa  \\\\ 0 \\\\ 1 \\\\ 0 \\end{pmatrix}. \n",
    "$$\n",
    "donde $N$ es un factor de normalización y:\n",
    " \n",
    "$$\n",
    "\\kappa = \\frac{p}{E+m}\n",
    "$$\n"
   ]
  },
  {
   "cell_type": "markdown",
   "metadata": {
    "slideshow": {
     "slide_type": "subslide"
    }
   },
   "source": [
    "Si aplicamos los proyectores de quiralidad sobre los espinores $u_{\\pm}$ de helicidad, obtenemos:\n",
    "\n",
    "$$\n",
    "P_R \\, u_+ = \\frac{1}{2}(1+\\kappa) N \\begin{pmatrix} 1 \\\\ 0 \\\\ 1  \\\\ 0 \\end{pmatrix}, \\;\\;\\;\n",
    "P_L \\, u_+ = \\frac{1}{2}(1-\\kappa) N \\begin{pmatrix} 1 \\\\ 0 \\\\ -1  \\\\ 0 \\end{pmatrix}, \\\\\n",
    "P_R \\, u_- = \\frac{1}{2}(1-\\kappa) N \\begin{pmatrix} 0 \\\\ 1 \\\\ 0  \\\\ 1 \\end{pmatrix}, \\;\\;\\;\n",
    "P_L \\, u_- = \\frac{1}{2}(1+\\kappa) N \\begin{pmatrix} 0 \\\\ 1 \\\\ 0  \\\\ -1 \\end{pmatrix}, \\;\\;\\;\n",
    "$$\n"
   ]
  },
  {
   "cell_type": "markdown",
   "metadata": {
    "slideshow": {
     "slide_type": "subslide"
    }
   },
   "source": [
    "Así tenemos la tabla que relaciona las componentes de quiralidad y de helicidad de los espinores $u$:\n",
    "\n",
    "| helicidad $\\downarrow$ \\ quiralidad  $\\rightarrow$| --- R --- | --- L --- |\n",
    "| :--: | :--: | :--: | \n",
    "| + | $\\frac{1}{2}(1+\\kappa)$ | $\\frac{1}{2}(1-\\kappa)$ |\n",
    "| - | $\\frac{1}{2}(1-\\kappa)$ | $\\frac{1}{2}(1+\\kappa)$ |\n",
    "| en los acoplos con el $W$  | anti-fermiones, $v_R$     | fermiones, $u_L$ |\n",
    "\n",
    "Hemos dicho que en la interacciones débiles cargadas solo participan los espinores $u_L$, esto es la última columna, L.\n",
    "\n",
    "Si repitiésemos los cálculos para los espinores $v_R$ obtendríamos los mismos coeficientes. En las corrientes débiles entraría la parte $v_R$ que correpondería a la columna del medio, R.\n"
   ]
  },
  {
   "cell_type": "markdown",
   "metadata": {
    "slideshow": {
     "slide_type": "subslide"
    }
   },
   "source": [
    "Consideremos ahora el caso de partículas sin masa, $m=0$, o ultra-relativistas, $m \\ll E$, en ambos casos tenemos que $\\kappa = 1$ y por lo tanto:\n",
    "\n",
    "| helicidad $\\downarrow$ \\ quiralidad  $\\rightarrow$ | --- R --- | --- L --- |\n",
    "| :--: | :--: | :--: | \n",
    "| + | 1 | 0 |\n",
    "| - | 0 | 1 |\n",
    "| en los acoplos con el $W$    | anti-fermiones, $v_R$     | fermiones, $u_L$ |\n",
    "\n",
    "Esto es **para partículas sin masa o ultra-relativistas la quiralidad y la helicidad coinciden**.\n",
    "\n",
    "*En esos dos casos*, *¡que son los más comunes a alta energías!*, en las corrientes cargadas solo participan los espinores de los fermiones $u_-$ con helicidad negativa y de los antifermiones $v_+$ con helicidad positiva.\n"
   ]
  },
  {
   "cell_type": "markdown",
   "metadata": {
    "slideshow": {
     "slide_type": "slide"
    }
   },
   "source": [
    "### Helicidad del neutrino\n",
    "\n",
    "En 1957 Goldhaber y colaboradores midieron  en Brookhaven, NY, la helicidad del neutrino, que resultó ser siempre negativa.\n",
    "\n",
    "Este es uno de los experimentos más sofisticados de la historía de Física de Partículas.\n",
    "\n",
    "Si recordamos que la masa del neutrino es muy pequeña (< eV), si la masa es nula la helicidad del neutrino equivale a su quiralidad, como acabamos de ver.\n",
    "\n",
    "| |\n",
    "| :-- |\n",
    "<img src=\"./imgs/leptons_goldhaber_experiment.png\" width = 200 align = \"center\">\n",
    "|Esquema del experimento de Goldhaber [GOL]|\n",
    "\n",
    "Mediante la siguiente captura electrónica, tras polarizar el electrón de captura en un campo magnético.\n",
    "\n",
    "$$\n",
    "^{152}\\mathrm{Eu}(J = 0) + e \\to ^{152}\\mathrm{Sm}^*(J = 1) + \\nu_e \\to ^{150}\\mathrm{Sm}(J =0) + \\gamma\n",
    "$$\n"
   ]
  },
  {
   "cell_type": "markdown",
   "metadata": {
    "slideshow": {
     "slide_type": "slide"
    }
   },
   "source": [
    "Se cambia la polaridad del campo ${\\bf B}$ y se determina el número de fotones en cada orientación del campo.\n",
    "\n",
    "Si se producen neutrinos con las dos helicidades independientemente de la polaridad de ${\\bf B}$ se medirán el mismo número de fotones.\n",
    "\n",
    "| |\n",
    "| :-- |\n",
    "<img src=\"./imgs/leptons_goldhaber_spins.png\" width = 200 align = \"center\">\n",
    "|helicidades en el experimento de Goldhaber|\n"
   ]
  },
  {
   "cell_type": "markdown",
   "metadata": {
    "slideshow": {
     "slide_type": "slide"
    }
   },
   "source": [
    "La dirección $z$ es la \"vertical\" definida por el eje del campo ${\\bf B}$.\n",
    "\n",
    "El campo ${\\bf B}$ polariza el electrón de la captura de $^{152}\\mathrm{Eu}$ arriba o abajo, $S_z(e) = \\pm 1/2$ dependiendo de la orientación del campo. \n",
    "\n",
    "Se seleccionan los fotones que salen hacia abajo por lo que el neutrino sale hacia arriba.\n",
    "\n",
    "La tercera componente del spín $\\pm 1/2$ en $z$ se conserva.\n",
    "\n",
    "Lo que implica que la helicidad del neutrino es la del fotón."
   ]
  },
  {
   "cell_type": "markdown",
   "metadata": {
    "slideshow": {
     "slide_type": "slide"
    }
   },
   "source": [
    "\n",
    "La siguiente tabla muestra las dos posibilidades de espín y helicidades posibles en el experimento de Goldhaber.\n",
    "\n",
    "| ----- $S_z(e)$ -----  | ----- $S_z(\\nu)$ ----- | ----- $S_z(\\gamma)$ ----- | ----- $h(\\nu)$ ----- | ----- $h(\\gamma)$ -----|  observación |\n",
    "| :--:   | :--:        | :--:         |:--:           | :--:         | :--: |\n",
    "|  1/2   |  -1/2  |  1  |  -   |  -      |  si|\n",
    "|-1/2   |  1/2  |  -1  | +    |+     |  no|\n",
    "\n",
    "En la Naturaleza solo se realiza la primera posibilidad (fila en la tabla). Solo existen neutrinos con helicidad negativa y no existen con helicidad positiva. \n",
    "\n",
    "Ya vimos que para una partícula con masa nula, helicidad es quiralidad, luego neutrinos con helicidad negativa implica neutrinos a izquierdas."
   ]
  },
  {
   "cell_type": "markdown",
   "metadata": {
    "slideshow": {
     "slide_type": "slide"
    }
   },
   "source": [
    "### La masa del neutrino\n",
    "\n",
    "\n",
    "La masa del neutrino no se ha medido, se establece su límite, $\\lt 1$ eV, con la forma final del espectro de energía de los electrones en desintegración $\\beta$ del tritio,\n",
    "\n",
    "$$\n",
    "^3\\mathrm{H} \\to ^3\\mathrm{He} + e + \\bar{\\nu}_e,\n",
    "$$\n",
    "que debería verse reducido por la masa del neutrino.\n",
    "\n",
    "| |\n",
    "| :-- |\n",
    "<img src=\"./imgs/leptons_numass_tritium.jpeg\" width = 500 align = \"center\">\n",
    "|Espectro del electrón en un decay de tritio si el neutrino tiene masa $\\sim$ 1 eV|\n",
    "\n",
    "El experimento [KATRIN] busca actualmente medir directamente la masa de los neutrinos, el límite: $m_{\\nu_e} < 0.2$ eV.\n",
    "\n"
   ]
  },
  {
   "cell_type": "markdown",
   "metadata": {},
   "source": [
    "### Espinores de Weyl\n",
    "\n",
    "Vamos a ver que el espinor de Dirac de los neutrinos, al carecer de masa, se compone de dos espinores independientes, llamados de Weyl, cada uno con una quiralidad.\n",
    "\n",
    "Vamos a considerar la representación de Weyl (o quiral) de las matrices $\\gamma^\\mu$:\n",
    "\n",
    "$$\n",
    "\\gamma^0 = \\begin{pmatrix} 0 & I \\\\ I & 0 \\end{pmatrix}, \\;\\;\n",
    "\\gamma^k = \\begin{pmatrix} 0 & \\sigma^k \\\\ -\\sigma^k & 0 \\end{pmatrix}, \\;\\;\n",
    "\\gamma^5 = \\begin{pmatrix} -I & 0 \\\\ 0 & I \\end{pmatrix}\n",
    "$$\n",
    "\n",
    "Con lo que que:\n",
    "\n",
    "$$\n",
    "P_L = \\begin{pmatrix} I & 0 \\\\ 0 & 0 \\end{pmatrix}, \\;\n",
    "P_R = \\begin{pmatrix} 0 & 0 \\\\ 0 & I \\end{pmatrix} \\;\n",
    "$$\n",
    "\n",
    "*cuestión:* Verifica que la matrices de la representación de Weyl cumplen las condiciones de las matrices $\\gamma^\\mu$."
   ]
  },
  {
   "cell_type": "markdown",
   "metadata": {},
   "source": [
    "El espinor de Dirac está compuesto de dos bi-espinores, $u_L, u_R$, llamados de Weyl, que corresponden con la parte de quiralidad a izquierdas y a derechas del espinor de Dirac.\n",
    "\n",
    "$$\n",
    "u(p) = \\begin{pmatrix} u_L(p) \\\\ u_R(p)\\end{pmatrix}\n",
    "$$\n",
    "\n",
    "Si ahora consideramos el caso revelador de *un fermión sin masa $m=0$*, la ec. de Dirac queda:\n",
    "\n",
    "$$\n",
    "\\gamma^\\mu p_\\mu \\, u(p) = 0\n",
    "$$"
   ]
  },
  {
   "cell_type": "markdown",
   "metadata": {},
   "source": [
    "que se descompone en dos ecuaciones independientes:\n",
    "\n",
    "$$\n",
    "(E - {\\bf p} \\cdot \\vec{\\sigma}) \\, u_R(p) = 0, \\\\\n",
    "(E + {\\bf p} \\cdot \\vec{\\sigma}) \\, u_L(p) = 0.\n",
    "$$\n",
    "\n",
    "Esto es, el espinor de Dirac se compone de dos espinores de Weyl independientes. \n",
    "\n",
    "O en otras palabras, es el término de masa en la ec. de Dirac, la que hace que los dos espinores de Weyl estén conectados.\n"
   ]
  },
  {
   "cell_type": "markdown",
   "metadata": {},
   "source": [
    "dado que $E = \\text{p}$, donde ${\\bf p} = \\text{p} \\hat{\\bf v}$, estas ecuaciones son equivalentes a:\n",
    "\n",
    "$$\n",
    "(\\hat{\\bf v} \\cdot \\vec{\\sigma}) \\; u_R(p) = + u_R(p), \\\\ (\\hat{\\bf v} \\cdot \\vec{\\sigma}) \\; u_L(p) = - u_L(p).\n",
    "$$\n",
    "\n",
    "Esto es, hay una conexión uno a uno entre helicidad y quiralidad. El espinor de Weyl a izquierdas tiene helicidad negativa y el de derechas positiva.\n",
    "\n",
    "$$\n",
    "u_R = u_+, \\;\\;\\; u_L = u_-\n",
    "$$\n",
    "\n",
    "En este caso de las partículas sin masa, quiralidad y la helicidad son ambas propiedades equivalentes, son cantidades estacionarias e invariantes Lorentz.\n"
   ]
  },
  {
   "cell_type": "markdown",
   "metadata": {
    "slideshow": {
     "slide_type": "slide"
    }
   },
   "source": [
    "### El neutrino en el SM\n",
    "\n",
    "*El Modelo Estandar postulaba que el neutrino no tiene masa*. Sus espinores de quiralidad a izquierdad y derechas son independientes.\n",
    "\n",
    "Los neutrinos solo interaccionan débilmente, y *en las interacciones débiles solo intervienen las proyecciones a izquierdas*, esto es $u_L$ y $v_R$. *Solo son reales esos dos espinores* para el neutrino:\n",
    "\n",
    "$$\n",
    "u_L \\equiv u_-, \\;\\;\\; v_R \\equiv v_+\n",
    "$$\n",
    "\n",
    "En términos de la conjugación de Carga y Paridad encontramos:\n",
    "\n",
    "| |      |  $\\hat{P}$| |\n",
    "| :--: | :--: | :--: | :-- |\n",
    "|  | $\\nu_L$| $\\Rightarrow$ | $\\nu_R$  (no existe)|\n",
    "| $\\hat{C}$ | $\\Downarrow$|  |  $\\Downarrow$|\n",
    "|  | $\\bar{\\nu}_L$ (no existe) | $\\Rightarrow$| $\\bar{\\nu}_R$ \n",
    "\n",
    "**La fuerza débil viola de forma máxima paridad, $P$, y conjugación de carga, $C$, pero no $CP$**.\n"
   ]
  },
  {
   "cell_type": "markdown",
   "metadata": {
    "slideshow": {
     "slide_type": "slide"
    }
   },
   "source": [
    "Dado que **el neutrino**:\n",
    "\n",
    "  * **tiene masa compatible con nula**.\n",
    "  \n",
    "  * **la helicidad es negativa** (para el anti-neutrino positiva).\n",
    "  \n",
    "**El Modelo Estándar postula** que **los neutrinos no tienen masa**, solo existen en **quiralidad a izquierdas**, y el antineutrino con quiralidad a derechas, \n",
    "\n",
    "$$\n",
    "\\nu_L, \\;\\;\\; {\\bar \\nu}_R.\n",
    "$$ \n"
   ]
  },
  {
   "cell_type": "markdown",
   "metadata": {
    "slideshow": {
     "slide_type": "slide"
    }
   },
   "source": [
    "**Las corrientes cargadas en leptones violan paridad, P, y carga, C; pero preservan CP**\n",
    "\n",
    "| |\n",
    "| -- |\n",
    " <img src=\"./imgs/leptons_escher.jpg\" width = 450 align = \"center\"> |\n",
    "\n",
    "Efecto de aplicar paridad (reflejo, izquierda-derecha) y carga (invertir grises, arriba-abajo) en un dibujo inicial de M.C. Escher. CP se conserva.\n"
   ]
  },
  {
   "cell_type": "markdown",
   "metadata": {
    "slideshow": {
     "slide_type": "subslide"
    }
   },
   "source": [
    "Los físicos de partículas se sintieron muy reconfortados (durante un breve periodo) al considerar que aunque la inversión por paridad, $P$, y la inversión por carga, $C$, se violaban, se mantenía la inversión conjunta $CP$.\n",
    "\n",
    "En este sentido, a mitad del siglo XX cuando los extraterrestres estaban de moda, Feynman se preguntaba, ¿Cómo estar seguro de estrechar la mano de un alienígena cuando éste puede estar compuesto de sólo antipartículas? \n",
    "\n",
    "Y se contestaba: le pediría que repita el experimento de Ms. Wu, que me diga la dirección privilegiada hacia donde salen los electrones de su mundo en una desintegración $\\beta$ fijando la dirección de un campo magnético $B$. Si salen en la dirección opuesta le doy la mano, si salen en la misma, pues mejor no."
   ]
  },
  {
   "cell_type": "markdown",
   "metadata": {
    "slideshow": {
     "slide_type": "slide"
    }
   },
   "source": [
    "### Desintegración del pión\n",
    "\n",
    "| |\n",
    "| -- |\n",
    "<img src=\"./imgs/feynman_pion_decay.png\" width = 300 align = \"center\">\n",
    "|Diagrama de Feynman de $\\pi^+ \\to l^+ + \\nu_l$|\n",
    "\n",
    "La desintegración del pión $\\pi^+ \\to l^+  + \\nu_l$ ejemplifica los efectos de la estructura V-A de las corrientes cargadas.\n",
    "\n",
    "La razón de las anchuras de desintegración a $l = \\mu, e$ medida es:\n",
    "\n",
    "$$\n",
    "\\frac{\\Gamma(\\pi^+ \\to e^+ + \\nu_e)}{\\Gamma(\\pi^+ \\to \\mu^+ + \\nu_\\mu)} = 1.230 \\pm 0.004 \\; 10^{-4}\n",
    "$$\n",
    "\n",
    "Sin embargo el espacio fásico disponible para el $e$ es mayor que el del $\\mu$ dado que la razón entre ellos viene dada por $p^*_e/p^*_\\mu$, y el momento $p^*_e > p^*_\\mu$.\n",
    "\n",
    "¿Por qué es así entonces?"
   ]
  },
  {
   "cell_type": "markdown",
   "metadata": {
    "slideshow": {
     "slide_type": "subslide"
    }
   },
   "source": [
    "*Cuestión:* Calcula $p^*_l, E^*_l$ en el CM.\n",
    "\n",
    "*Cuestión:* Calcula la razón entre el $p^*_e/p^*_\\mu$.\n",
    "\n",
    "En el CM\n",
    "$$\n",
    "E_l = \\frac{m^2_\\pi + m^2_l}{2 m_\\pi}, \\; \\; p_l = \\frac{m^2_\\pi - m^2_l}{2 m_\\pi}\n",
    "$$"
   ]
  },
  {
   "cell_type": "code",
   "execution_count": 5,
   "metadata": {
    "slideshow": {
     "slide_type": "subslide"
    }
   },
   "outputs": [
    {
     "name": "stdout",
     "output_type": "stream",
     "text": [
      " beta mu   = 0.270970   , beta   e = 0.999973    \n",
      " energy mu = 109.767 MeV, energy e = 69.756 MeV\n",
      " espacio fásico          = 2.345194e+00\n"
     ]
    }
   ],
   "source": [
    "mpi = 139.51  # MeV\n",
    "mmu = 105.66  # MeV\n",
    "me  =   0.511 # MeV\n",
    "ene_cm = lambda ml : (mpi**2 + ml**2)/(2*mpi)\n",
    "p_cm   = lambda ml : (mpi**2 - ml**2)/(2*mpi)\n",
    "a_R    = lambda ml : (1 - p_cm(ml)/(ene_cm(ml) + ml))/2\n",
    "\n",
    "beta_mu, beta_e = p_cm(mmu)/ene_cm(mmu), p_cm(me)/ene_cm(me)\n",
    "espace_phase    = p_cm(me)/p_cm(mmu)\n",
    "print(' beta mu   = {:7.6f}   , beta   e = {:7.6f}    '.format(beta_mu, beta_e))\n",
    "print(' energy mu = {:5.3f} MeV, energy e = {:5.3f} MeV'.format(ene_cm(mmu), ene_cm(me)))\n",
    "print(' espacio fásico          = {:e}'.format(espace_phase))"
   ]
  },
  {
   "cell_type": "markdown",
   "metadata": {},
   "source": [
    "El $\\mu$ no es relativista, $\\beta = 0.27$, pero sí el electrón, $\\beta = 0.99997$. \n"
   ]
  },
  {
   "cell_type": "markdown",
   "metadata": {
    "slideshow": {
     "slide_type": "slide"
    }
   },
   "source": [
    "Revisemos la helicidad de las partículas de la desintegración.\n",
    "\n",
    "| |\n",
    "| :-- |\n",
    "<img src=\"./imgs/leptons_piondecay_spins.png\" width = 300 align = \"center\">\n",
    "|Momento y spin de $\\pi^+ \\to l^+ + \\nu_l$ en el CM|\n",
    "\n",
    "En el CM, el $\\pi^+$ tiene $J= 0$, el neutrino, $\\nu_l$, sabemos que tiene helicidad (-), y para conservar $J$, el anti-leptón cargardo, $l^+$ debe tener helicidad (-).\n",
    "\n",
    "| | | | \n",
    "|:--: | :--: | :--: |\n",
    "|  | $l^+$ | $\\nu_l$ |\n",
    "| helicidad | (-)  | (-) |"
   ]
  },
  {
   "cell_type": "markdown",
   "metadata": {
    "slideshow": {
     "slide_type": "slide"
    }
   },
   "source": [
    "Por otro lado, sabemos que solo la proyección con quiralidad a derechas del $l^+$ interviene en la desintegración. ¿Cuánto vale esa parte para el $e^+$ y el $\\mu^+$?\n",
    "\n",
    "\n",
    "Sabemos que el espinor $v_-$ con helicidad (-) tiene como coeficiente de quiralidad a derechas:\n",
    "\n",
    "$$\n",
    "\\frac{1}{2}(1-\\kappa) = \\frac{1}{2}\\left(1 - \\frac{p_l}{E_l + m_l} \\right)\n",
    "$$ \n",
    "\n",
    "A partir de la $E_l, p$ en el CM, obtenemos:\n",
    "\n",
    "$$\n",
    "\\frac{1}{2}(1-\\kappa) = \\frac{m_l}{m_\\pi + m_l}\n",
    "$$\n",
    "\n",
    "El factor $(1-\\kappa)/2$ es mucho más pequeño para $e$ que para el $\\mu$.\n"
   ]
  },
  {
   "cell_type": "markdown",
   "metadata": {},
   "source": [
    "El factor asociado a las proyecciones a derechas entre el $e$ y $\\mu$ que aparece en $|M_{fi}|^2$ será:\n",
    "\n",
    "$$\n",
    "\\frac{m^2_e}{m^2_\\mu} \\frac{(m_\\pi + m_e)^2}{(m_\\pi + m_\\mu)^2}\\sim 7 \\, 10^{-5}\n",
    "$$\n",
    "\n",
    "La desintegración de $\\pi^+$ a $e^+$ está muy suprimida porque la componente de quiralidad a derechas del $e^+$ está muy suprimida dado que la helicidad del $e^+$ es negativa, por conservación del momento angular en la desintegración, y porque $e^+$ en la desintegración es ultra-relativista, $\\beta \\simeq 1$.\n",
    "\n",
    "Luego las fracciones de desintegración de $\\pi^+$ se explican por la naturaleza $V-A$ de las interacciones débiles cargadas."
   ]
  },
  {
   "cell_type": "code",
   "execution_count": 6,
   "metadata": {
    "slideshow": {
     "slide_type": "subslide"
    }
   },
   "outputs": [
    {
     "name": "stdout",
     "output_type": "stream",
     "text": [
      " supresion por helicidad = 7.170821e-05\n",
      " total                   = 1.681697e-04\n"
     ]
    }
   ],
   "source": [
    "helicity_supres = a_R(me)/a_R(mmu)\n",
    "print(' supresion por helicidad = {:e}'.format(helicity_supres**2))\n",
    "print(' total                   = {:e}'.format(espace_phase * helicity_supres**2))"
   ]
  },
  {
   "cell_type": "markdown",
   "metadata": {
    "slideshow": {
     "slide_type": "slide"
    }
   },
   "source": [
    "En la siguiente distribución de la energía del espectro de electrones en las desintegraciones del $\\pi^+$.\n",
    "\n",
    "| |\n",
    "| :-- |\n",
    "<img src=\"./imgs/leptons_espectrum_pidecay.png\" width = 400 align = \"center\">\n",
    "|Espectro de energías del $e$ en las desintegraciones del $\\pi$ [AB]|\n",
    "\n",
    "Puede observarse que la desintegración de $\\pi$ a $e$ está suprimida, que esta es monoenergética, mientras que aquellos electrones que provienen del $\\mu$ son más abundantes y con una distribución continua."
   ]
  },
  {
   "cell_type": "markdown",
   "metadata": {},
   "source": [
    "[Para esta sección ver MT11.2.3, MT11.6, AB7.3, AB7.4, AB7.5]"
   ]
  },
  {
   "cell_type": "markdown",
   "metadata": {
    "slideshow": {
     "slide_type": "slide"
    }
   },
   "source": [
    "## Oscilaciones de neutrinos\n",
    "\n",
    "Sabemos experimentalmente que **los neutrinos oscilan entre sus sabores en su propagación**. \n",
    "\n",
    "Las oscilaciones **dependen de las masas** de los neutrinos. \n",
    "\n",
    "Pero recordemos que el Modelo Estándar postula que los neutrinos no tienen masas.\n",
    "\n",
    "Esto hace que las oscilaciones de neutrinos sean por ahora la **única prueba experimental** de que **el SM necesita revisarse**.\n"
   ]
  },
  {
   "cell_type": "markdown",
   "metadata": {
    "slideshow": {
     "slide_type": "slide"
    }
   },
   "source": [
    "\n",
    "### El puzzle solar\n",
    "\n",
    "En la década de los 60, el experimento de R. David en la mina de Homestake, Dakota del Sur, midió el flujo de $\\nu_e$  solares y resultaba ser $1/3$ del esperado según el modelo teórico del Sol desarrollado por J. Bahcall. \n",
    "\n",
    "Durante aproximadamente 40 años los resultados de los experimentos que medían el flujo de $\\nu_e$ solares mostraban un deficit respecto al flujo esperado según el modelo solar.\n",
    "\n",
    "En el 2004 El experimento SNO (en Canada) midió el flujo total (la suma de los flujos de los diferentes sabores) de neutrinos y verificó que estaba en acuerdo con el esperado por el modelo solar para los neutrinos, todos $\\nu_e$, producidos en el Sol. Por lo tanto los neutrinos que llegan a la tierra corresponden con los emitidos del Sol, solo que allí se producen como $\\nu_e$ y en la Tierra se detectan solo 1/3 con ese sabor, el 2/3 restante cambia de sabor.\n",
    "\n",
    "Pontecorbo en los 50's adelantó que los neutrinos podrían oscilar entre sus diversos sabores si tenían masas distintas.\n",
    "\n"
   ]
  },
  {
   "cell_type": "markdown",
   "metadata": {
    "slideshow": {
     "slide_type": "slide"
    }
   },
   "source": [
    "### Neutrinos atmosféricos\n",
    "\n",
    "En 1998 el experimento Super-Kamiokande en la mina de Kamioka, Japón, midió que el flujo de $\\nu_\\mu$ producido en las interacciones de los rayos cósmicos con la atmósfera dependía de la dirección de llegada, en concreto midió que existía una asimetría arriba y abajo, donde abajo correspondía a los neutrinos que habían atravesado la Tierra, y arriba sólo la atmósfera.\n",
    "\n",
    "Ahora sabemos que los $\\nu_\\mu$ dependiendo de la distancia recorrida se transforman de sabor a los dos otros neutrinos, pero principalmente en $\\nu_\\tau$."
   ]
  },
  {
   "cell_type": "markdown",
   "metadata": {
    "slideshow": {
     "slide_type": "slide"
    }
   },
   "source": [
    "La siguiente figura muestra el detector Super-Kamiokande. \n",
    "\n",
    "| |\n",
    "| :-- |\n",
    "<img src=\"./imgs/leptons_SK.png\" width = 460 align = \"center\">\n",
    "|Super-Kamiokande a) dibujo del detector b) principio de detección [SK, MT13.2]|\n",
    "\n",
    "SK es un tanque de agua de 50 kton, 36 m de altura y 34 de diámetro, con 11 k PMTs en las paredes.\n"
   ]
  },
  {
   "cell_type": "markdown",
   "metadata": {
    "slideshow": {
     "slide_type": "slide"
    }
   },
   "source": [
    "SK detecta las corrientes cargadas de neutrinos $\\nu_e \\to e + X$ o $\\nu_\\mu \\to \\mu + X$, a partir del leptón cargado. \n",
    "\n",
    "En el agua, el leptón a partir de un umbral de energía emite luz Cherenkov, en forma de cono, que se detecta en gigantescos PMTs colocados en las paredes del detector. \n",
    "\n",
    "A partir de la luz y el tiempo de de su llegada a los PMTs se determina la energía y dirección del neutrino. \n",
    "\n",
    "Se pueden distingir $e$ de $\\mu$ por los patrones de luz en los PMTs."
   ]
  },
  {
   "cell_type": "markdown",
   "metadata": {
    "slideshow": {
     "slide_type": "slide"
    }
   },
   "source": [
    "Resultados de la colaboración SK. \n",
    "\n",
    "| |\n",
    "| :-- |\n",
    "<img src=\"./imgs/leptons_SK_results.png\" width = 420 align = \"center\">\n",
    "|eventos de $\\nu_e$ (izda), $\\nu_\\mu$ (dcha) detectados por SK en función del ángulo [SK]|\n"
   ]
  },
  {
   "cell_type": "markdown",
   "metadata": {
    "slideshow": {
     "slide_type": "slide"
    }
   },
   "source": [
    "En la figura, el eje $x$, correponde al $\\cos \\theta$, donde $\\theta$ es el ángulo de llegada, $\\cos \\theta = 1$ indica arriba, y $\\cos \\theta = -1$, abajo (o sea, atravesando la Tierra).\n",
    "\n",
    "Observamos:\n",
    "\n",
    " * Para los $\\nu_e$ la predicción y la observación coinciden.\n",
    "\n",
    " * Para los $\\nu_\\mu$, de multi-GeV, hay un déficit para aquellos que provienen de 'abajo'.\n",
    "\n",
    " * La línea corresponde a las predicción en caso de oscilaciones.\n",
    "\n",
    "\n",
    " Luego SK concluyó que los neutrinos producidos $\\nu_\\mu$ en las atmósfera oscilan en su recorrido hasta el detector."
   ]
  },
  {
   "cell_type": "markdown",
   "metadata": {
    "slideshow": {
     "slide_type": "slide"
    }
   },
   "source": [
    "### Oscilaciones en dos familias\n",
    "\n",
    "Como los neutrinos son neutros, un neutrino de un sabor, por ejemplo $\\nu_e$, puede estar compuesto por una combinación de neutrinos con diferentes masas. \n",
    "\n",
    "Cada neutrino se propagará libremente de acuerdo con su masa como una onda libre; y con la distancia -o el tiempo transcurrido-, la composición inicial de los diferentes tipos de neutrinos cambia.\n",
    "\n",
    "Los neutrinos pueden oscilar si los estados de sabor no son los mismos que los estados de masas y las masas de los neutrinos son distintas.\n",
    "\n",
    "Los estados de sabor son $\\nu_\\alpha$, con $\\alpha = e, \\mu, \\tau$, y los estados de masas $\\nu_i$ con masas $m_i$  donde $i = 1, 2, 3$. \n",
    "\n",
    "Consideremos por simplicidad solo dos sabores y dos masas. Los sabores serán: $\\alpha, \\beta$\n",
    "\n",
    "La relación entre estados de masas y de sabor de neutrinos viene dada por una matriz de mezcla:\n",
    "\n",
    "$$\n",
    "\\begin{pmatrix} \\nu_\\alpha \\\\ \\nu_\\beta \\end{pmatrix} = \\begin{pmatrix} \\cos \\theta & \\sin \\theta \\\\ - \\sin \\theta & \\cos \\theta \\end{pmatrix} \\begin{pmatrix} \\nu_1 \\\\ \\nu_2 \\end{pmatrix} \n",
    "$$\n"
   ]
  },
  {
   "cell_type": "markdown",
   "metadata": {
    "slideshow": {
     "slide_type": "slide"
    }
   },
   "source": [
    "Si producimos un neutrino de un determinado sabor, $\\nu_\\alpha$, en un tiempo $t_0  = 0$, con un momento $p$, este es una combinación de los neutrinos de masas $| \\nu_1 \\rangle, \\, | \\nu_2 \\rangle$ que depende de un ángulo $\\theta$.\n",
    "   \n",
    "$$\n",
    "| \\nu_\\alpha \\rangle = \\cos \\theta | \\nu_1 \\rangle + \\sin \\theta | \\nu_2 \\rangle\n",
    "$$\n",
    "    \n",
    "La evolución de cada neutrino de masas corresponde a la de una partícula libre, esto es:\n",
    "\n",
    "$$\n",
    "| \\nu (t) \\rangle  = \\cos \\theta e^{+i({\\bf p x} - E_1t)}| \\nu_1 \\rangle + \\sin \\theta e^{+i({\\bf p x} - E_2t)}| \\nu_2 \\rangle\n",
    "$$\n",
    "\n",
    "donde $E_i = \\sqrt{m^2_i + p^2}$, con $i = 1, 2$\n"
   ]
  },
  {
   "cell_type": "markdown",
   "metadata": {
    "slideshow": {
     "slide_type": "slide"
    }
   },
   "source": [
    "En un determinado tiempo $t$, o equivalentemente a una distancia $L$, podemos detectar el neutrino con otro sabor $\\beta$.\n",
    "\n",
    "$$\n",
    "| \\nu_\\beta \\rangle = -\\sin \\theta | \\nu_1 \\rangle + \\cos \\theta | \\nu_2 \\rangle\n",
    "$$\n",
    "\n",
    "¡Recordemos que las interacciones de los neutrinos tienen lugar en sus estados de sabor!\n",
    "\n",
    "Calculamos la amplitud de transición:\n",
    "\n",
    "$$\n",
    "A_{\\alpha \\beta}(t) = \\langle \\nu_\\beta | \\nu(t) \\rangle = -\\sin\\theta\\cos\\theta e^{-iE_1t} + \\sin\\theta\\cos\\theta e^{-iE_2t} \n",
    "$$\n",
    "\n",
    "recordemos que una fase global en la amplitud, en este caso $e^{i{\\bf px}}$ no afecta a la física del proceso."
   ]
  },
  {
   "cell_type": "markdown",
   "metadata": {
    "slideshow": {
     "slide_type": "slide"
    }
   },
   "source": [
    "Si operamos:    \n",
    "$$\n",
    "A_{\\alpha\\beta}(t) = \\frac{1}{2}\\sin 2 \\theta e^{-iE_1} \\left( 1 + e^{-i(E_2 - E_1)t}\\right)\n",
    "$$\n",
    "\n",
    "de nuevo la fase global $e^{-iE_1t}$ no altera la física, y si desarrollamos:\n",
    "\n",
    "$$\n",
    "E_2 - E_1 \\simeq \\frac{p}{2}  \\left(1 + \\frac{m_2^2}{p^2}\\right) - \\frac{p}{2}  \\left(1 + \\frac{m_1^2}{p^2}\\right) = \\frac{m_2^2 - m^2_1}{2p} \\simeq \\frac{\\Delta m^2_{21}}{2E}\n",
    "$$\n",
    "\n",
    "donde $\\Delta m_{21}^2 = m_2^2 - m^2_1$, y dado que $m_i \\sim 0$ aproximamos $p \\sim E$\n"
   ]
  },
  {
   "cell_type": "markdown",
   "metadata": {
    "slideshow": {
     "slide_type": "slide"
    }
   },
   "source": [
    "La probabilidad de aparición, o de oscilación, de un $\\nu_\\alpha$ como $\\nu_\\beta$ a un tiempo $t$ es:\n",
    "\n",
    "$$\n",
    "P_{\\alpha\\beta}(t) = |A_{\\alpha\\beta}|^2 = \\frac{1}{4} \\sin^2 2 \\theta (1 + e^{-i \\frac{\\Delta m^2_{21}t}{2E}}) (1 + e^{+i \\frac{\\Delta m^2_{21}t}{2E}})  \\\\\n",
    "= \\frac{1}{4} \\sin^2 2 \\theta \\left(2 - 2 \\cos \\frac{\\Delta m^2_{21}t}{2E} \\right)  \\\\\n",
    "= \\sin^2 2 \\theta \\sin^2 \\frac{\\Delta m^2_{21}t}{4E}\n",
    "$$"
   ]
  },
  {
   "cell_type": "markdown",
   "metadata": {
    "slideshow": {
     "slide_type": "slide"
    }
   },
   "source": [
    "Podemos dar la probabilidad de oscilación a una distancia $L$, que corresponde a tiempo, $t$. \n",
    "\n",
    "Notar que los experimentos se situan a una distancia $L$ de la fuente de neutrinos.\n",
    "\n",
    "$$\n",
    "P_{\\alpha\\beta}(L) = \\sin^2 2 \\theta \\sin^2 \\frac{\\Delta m^2_{21}L}{4E}\n",
    "$$\n",
    "\n",
    "Si damos unidades:\n",
    "\n",
    "$$\n",
    "P_{\\alpha\\beta}(L) = \\sin^2 2 \\theta \\sin^2 \\frac{1.27 \\Delta m^2_{21} [\\mathrm{eV}^2]L [\\mathrm{km}]}{4E[\\mathrm{GeV}]}\n",
    "$$\n",
    "\n",
    "Se trata de una probabilidad de forma oscilatoria, cuya amplitud están controlada por $\\theta$, si $\\theta = 0$ no hay oscilación, y su frecuencia por $\\Delta m^2_{21}$, si los dos neutrinos tienen igual masa, tampoco hay oscilación.\n"
   ]
  },
  {
   "cell_type": "markdown",
   "metadata": {
    "slideshow": {
     "slide_type": "slide"
    }
   },
   "source": [
    "En la fórmula anterior hay dos parámetros físicos, $\\Delta m^2_{21}$ y $\\theta$ y dos experimentales $E$ y $L$. Para observar la oscilación, dado un $\\Delta m^2_{12}$ y una energía $E$ debemos colocar el detector a una distancia $L$ adecuada.\n",
    "\n",
    "Consideremos el caso de $\\Delta m^2 = 2 \\times 10^{-3} \\; \\mathrm{eV}^2$ y $\\theta = 47^o$\n",
    "\n",
    "Vamos a calcular la probabilidad de oscilación $P_{\\alpha\\beta}(L)$\n",
    "\n",
    "*Cuestion*: ¿A qué distancia deberíamos colocar el detector para observar la oscilación máxima?"
   ]
  },
  {
   "cell_type": "code",
   "execution_count": 7,
   "metadata": {
    "slideshow": {
     "slide_type": "fragment"
    }
   },
   "outputs": [
    {
     "data": {
      "image/png": "[encoded data removed]",
      "text/plain": [
       "<Figure size 432x288 with 1 Axes>"
      ]
     },
     "metadata": {
      "needs_background": "light"
     },
     "output_type": "display_data"
    }
   ],
   "source": [
    "theta    = np.pi * 47/180. # rad\n",
    "ls       = np.linspace(0, 2000, 100) # km\n",
    "ene      = 1. # GeV\n",
    "delta_m2 = 0.0025 # eV^2\n",
    "posc     = lambda d: np.sin(2*theta)**2 * np.sin(1.27 * delta_m2 * d / ene)**2\n",
    "plt.plot(ls, posc(ls))\n",
    "plt.grid(); plt.xlabel(r'$L$ (km)'); plt.ylabel(r'$P_{\\alpha\\beta}(L)$'); plt.ylim((0, 1.));"
   ]
  },
  {
   "cell_type": "markdown",
   "metadata": {
    "slideshow": {
     "slide_type": "slide"
    }
   },
   "source": [
    "### Oscilaciones en tres familias\n",
    "\n",
    "Como existen tres neutrinos hay dos diferencias al cuadrado de sus masas, que controlan las fases de oscilación de los neutrinos solares, $\\Delta m^2_{sol}$ (por los neutrinos solares) y de $\\Delta m^2_{atm}$ (por los atmosféricos), cuyos valores son [PDG]:\n",
    "\n",
    "$$\n",
    "\\Delta m^2_{sol} \\simeq 7.5 \\ 10^{-5} \\; \\mathrm{eV}^2, \\;\\;\\; |\\Delta m^2_{atm}| \\simeq 2.5 \\; 10^{-3} \\mathrm{eV}^2  \n",
    "$$\n",
    "\n",
    "Notar que los neutrinos son quasi-degenerados en masa."
   ]
  },
  {
   "cell_type": "markdown",
   "metadata": {
    "slideshow": {
     "slide_type": "slide"
    }
   },
   "source": [
    "La relación entre los estados de sabor $\\nu_\\alpha$ con $\\alpha = e, \\mu, \\tau$ con los estados de masas $\\nu_i$ con masas $m_i$ donde $i = 1, 2, 3$, viene dada por una matriz unitaria $U_{PMNS}$, conocida como PMNS (Pontecorvo-Maki-Nakagawa-Sakata)\n",
    "\n",
    "La matiz $U$ tiene 3 ángulos de mezcla y una fase compleja (de forma similar a la matriz CKM).\n",
    "\n",
    "Se han medido experimentalmente los tres ángulos [PDG], pero no la fase compleja $\\delta$.\n",
    "\n",
    "$$\n",
    "\\theta_{sol} \\simeq 33^0, \\; \\theta_{atm} \\simeq 47^o \\; \\theta_{13} \\simeq 8^o\n",
    "$$\n",
    "\n",
    "\n"
   ]
  },
  {
   "cell_type": "markdown",
   "metadata": {
    "slideshow": {
     "slide_type": "slide"
    }
   },
   "source": [
    "### El futuro de las oscilaciones de neutrinos\n",
    "\n",
    "En la próxima década el detector Hyper-Kamiokande, [HK](https://www-sk.icrr.u-tokyo.ac.jp/en/hk/) en Japón y [DUNE](https://www.dunescience.org/) en los USA determinarán seguramente la fase $\\delta$ y fijarán nuestra comprensión de las oscilaciones de neutrinos.\n",
    "\n",
    "HK estudiará las oscilaciones $\\nu_\\mu \\to \\nu_e$ y $\\bar{\\nu}_\\mu \\to \\bar{\\nu}_e$ con energías de 0.6 GeV y una distancia 295 km, desde su producción en J-Parc hasta su detección en HK en la mina de Kamioka.\n",
    "\n",
    "| |\n",
    "| :-- |\n",
    "<img src=\"./imgs/leptons_HK.png\" width = 400 align = \"center\">\n",
    "|Dibujo del detector HK comparado con Notre-Dame de Paris|\n"
   ]
  },
  {
   "cell_type": "markdown",
   "metadata": {},
   "source": [
    "[Para esta sección ver y profundizar en AB10.1, AB10.2, AB10.14 y MT13]"
   ]
  },
  {
   "cell_type": "markdown",
   "metadata": {
    "slideshow": {
     "slide_type": "slide"
    }
   },
   "source": [
    "### Bibliografía\n",
    "\n",
    " * [AB] Alessandro Bettini, \"Introduction to Elementary Particle Physcs\", Cambridge U. press. Temas 7 y 10.\n",
    "\n",
    " * [MT] Mark Tomsom, \"Modern Particle Physics\", Cambridge U. press. Temas 11, 12 y 13.\n",
    "    \n",
    " * [PDG](https://pdg.lbl.gov/) Particle Data Group.\n",
    "\n",
    " * [WU] C.S. Wu et al, *Phys. Rev.* **D17** 2369 (1957)\n",
    "\n",
    " * [MU] M. Bardon, P. Norton, J. Peoples, A. M. Sachs and J. Lee-Franzini, *Phys. Rev.\n",
    "Lett.* **14**, 449 (1965).\n",
    "\n",
    " * [GOL] M. Goldhaber et al, *Phys Rev* **109** 1015 (1958)\n",
    "\n",
    " * [KATRIN] M. Aker et al. (KATRIN Collaboration)\n",
    "*Phys. Rev. Lett.* **123**, 221802 (2019)\n",
    "\n",
    " * [SK] Y. Ashie et al, SK Collaboration, *Phys. Rev.* **D71** 112005 (2005)\n"
   ]
  }
 ],
 "metadata": {
  "anaconda-cloud": {},
  "celltoolbar": "Slideshow",
  "kernelspec": {
   "display_name": "Python 3 (ipykernel)",
   "language": "python",
   "name": "python3"
  },
  "language_info": {
   "codemirror_mode": {
    "name": "ipython",
    "version": 3
   },
   "file_extension": ".py",
   "mimetype": "text/x-python",
   "name": "python",
   "nbconvert_exporter": "python",
   "pygments_lexer": "ipython3",
   "version": "3.9.13"
  }
 },
 "nbformat": 4,
 "nbformat_minor": 4
}
