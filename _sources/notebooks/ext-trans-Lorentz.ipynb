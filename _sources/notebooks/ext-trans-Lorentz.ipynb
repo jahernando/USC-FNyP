{
 "cells": [
  {
   "cell_type": "markdown",
   "metadata": {
    "slideshow": {
     "slide_type": "slide"
    }
   },
   "source": [
    "# Extensión: Simetrías. Transformaciones Lorentz"
   ]
  },
  {
   "cell_type": "code",
   "execution_count": 1,
   "metadata": {
    "slideshow": {
     "slide_type": "fragment"
    }
   },
   "outputs": [
    {
     "name": "stdout",
     "output_type": "stream",
     "text": [
      " Last version  Sat Dec  9 16:37:10 2023\n"
     ]
    }
   ],
   "source": [
    "import time\n",
    "print(' Last version ', time.asctime() )"
   ]
  },
  {
   "cell_type": "markdown",
   "metadata": {},
   "source": [
    "## Introducción\n",
    "\n",
    "En la presente extensión revistaremos la importancia de las simetrías en Física, la transformación de Lorentz y las transformaciones unitarias.\n",
    "\n",
    "Revisaremos en detalle los *boost* y rotaciones de Lorentz y desarrollaremos su representación espinorial.\n",
    "\n",
    "Verificaremos después que las formas bilineales de norma y corriente femiónica transforman Lorentz de acuerdo con un escalar y un vector.\n",
    "\n",
    "Posteriormente estudiaremos la inversión de Paridad y cómo afecta a las formas bilineales.\n",
    "\n",
    "Finalmente discutiremos las inversión de Carga.\n",
    "\n",
    "Las transformaciones internas basadas en grupos unitarios, esenciales para el entramado matemático del Modelo Estándar, si describen en la extensión [ext-grupos]\n"
   ]
  },
  {
   "cell_type": "markdown",
   "metadata": {},
   "source": [
    "## Simetrías y transformaciones\n",
    "\n",
    "En Física las simetrías juegan un papel fundamental. \n",
    "\n",
    "Las simetrías implican una transformación del sistema que lo deja indistinguible. Por ejemplo, una esfera tiene simetría esférica, al rotar una esfera sin marcas no podemos saber si se esta rotó.\n",
    "\n",
    "Las simetrías en Física implican la invariancia matemática del lagrangiano (o equivalentemente dl hamiltoniano, o de las ecuaciones de movimiento) bajo las transformaciones asociadas.\n",
    "\n",
    "Por un lado, sabemos que las ecuaciones de movimiento son iguales en sistemas inerciales, lo que implica que las ecuaciones deben ser invariantes bajos **transformaciones de Lorentz**.\n",
    "\n",
    "Por otro, en mecánica cuántica describimos los sistemas físicos por estados, y sus observables a través de la norma. Por lo tanto las transformaciones válidad son aquellas que preservan la norma o **unitariedad**.  Estas simetrías están relacionadas con la teoría de grupos. Asl estudiar los grupos identificaremos sus estados fundamentales que los asociaremos con las distintas partículas."
   ]
  },
  {
   "cell_type": "markdown",
   "metadata": {},
   "source": [
    "\n",
    "Las simetrías pueden ser continuas o discretas. Las simetrías continuas van a tener asociada por el teorema de Noether una cantidad conservada. \n",
    "\n",
    "Las transformaciones de Lorentz propias (como las rotaciones o *boosts*) son cotinuas.\n",
    "\n",
    "Mientras que la inversión de paridad es impropia y discreta. También la inversión por carga es una simetría discreta. "
   ]
  },
  {
   "cell_type": "markdown",
   "metadata": {},
   "source": [
    "### Transformaciones de Lorentz\n",
    "\n",
    " Sabemos que las ecuaciones del movimiento deben ser iguales independientemente del sistema inercial que eligamos. Esto es, son invariantes bajo transformaciones de Lorentz.\n",
    "\n",
    "Exigiremos siempre que nuestra teoría, nuestro lagrangiano, sea invariante Lorentz.\n",
    "\n",
    "Las transformaciones de Lorentz son aquellas que dejan invariante la norma de un vector espacio-temporal  usando la métrica de Minkowski.\n",
    "\n",
    "$$\n",
    "x'^{\\mu} = \\Lambda^{\\mu}_{\\;\\;\\nu} x^\\nu\n",
    "$$\n",
    "se cumple:\n",
    "$$\n",
    " x'^\\mu g_{\\mu\\nu} x'^\\nu = x^\\mu g_{\\mu\\nu}x^\\nu \n",
    " $$\n",
    " donde $g_{\\mu\\nu}$ es la métrica de Minkowsky.\n",
    "\n",
    "Las transformaciones de Lorentz pueden ser continuas y propias como los ***boost* o rotaciones** y otras discretas e impropias como la **inversión por paridad**.\n",
    "\n",
    "La siguiente sección desarrolla en detalle las transformaciones de Lorentz propias. La extensión [ext-cpt] cubre la inversión por paridad."
   ]
  },
  {
   "cell_type": "markdown",
   "metadata": {},
   "source": [
    "### Unitariedad\n",
    "\n",
    "En mecánica cuántica una transformación asociada un estado a otro del espacio de Hilbert, mediante un operador $U$.\n",
    "\n",
    "$$\n",
    "| \\psi \\rangle \\to  | \\psi' \\rangle = U \\; | \\psi \\rangle\n",
    "$$\n",
    "\n",
    "Y la información física relevante (que sea observable) se obtiene a partir del cuadrado del producto $|\\langle \\phi | \\psi \\rangle |^2$, lo que lleva (teorema de Wigner) a que las transformaciones posibles sean unitarias o anti-unitarias (unitaria y anti-lineal)\n",
    "\n",
    "$$\n",
    "|\\langle \\phi' | \\psi' \\rangle|^2 = |\\langle \\phi | U^\\dagger U | \\psi \\rangle|^2\n",
    "$$"
   ]
  },
  {
   "cell_type": "markdown",
   "metadata": {},
   "source": [
    "La actuación del operador unitario, $U$ y anti-unitario ${\\tilde U}$ afectan al producto escalar de la siguiente forma:\n",
    "\n",
    "$$\n",
    "\\langle \\phi | U^\\dagger U | \\psi \\rangle = \\langle \\phi | \\psi \\rangle \\\\\n",
    "\\langle \\phi | {\\tilde U}^\\dagger {\\tilde U} | \\psi \\rangle^ = \\langle \\phi | \\psi \\rangle^*\n",
    "$$\n",
    "\n",
    "Ambas dejan invariante la norma $|\\langle \\phi | \\psi \\rangle |^2$.\n",
    "\n",
    "En mecánica cuántica exigiremos que las transformaciones son las unitarias (o anti-unitarias). Un operador unitario cumple:\n",
    "\n",
    "$$\n",
    "U^\\dagger U = I, \\;\\; U^{-1} = U^{\\dagger}\n",
    "$$\n"
   ]
  },
  {
   "cell_type": "markdown",
   "metadata": {},
   "source": [
    "\n",
    "\n",
    "Una operación anti-unitaria, ${\\tilde U}$, toma el complejo conjugado:\n",
    "\n",
    "$$\n",
    "{\\tilde U} \\, \\alpha | \\psi \\rangle = \\alpha^* | \\psi \\rangle\n",
    "$$\n",
    "\n",
    "Los operadores anti-unitarios hay que tratarlos con cuidado. \n",
    "\n",
    "Las transformaciones continuas son unitarias. Las anti-unitarias solo aparecen en transformaciones discretas, la más relevante de ellas es la inversión temporal."
   ]
  },
  {
   "cell_type": "markdown",
   "metadata": {},
   "source": [
    "#### Transformación activa y pasiva\n",
    "\n",
    "Podemos entender las transformaciones como activas o pasivas. Las activas transforman el estado, mientras que las pasivas transforman el sistema de referencia.\n",
    "\n",
    "Cuando verificamos una simetría de forma activa, verificamos que el comportamiento del estado transformado es el mismo que el original, mientras que de forma pasiva, verificamos que describimos el comportamiento del estado con las mismas ecuaciones en el sistema de coordenadas original y transformadio."
   ]
  },
  {
   "cell_type": "markdown",
   "metadata": {},
   "source": [
    "Si hacemos una rotación activa un punto ${\\bf x}$ se traslada a otro punto ${\\bf x}'$, pero los dos los damos en el mismo sistema de coordenadas, $\\{{\\bf e}_i\\}$. Mientras que cuando hacemos una rotación pasiva, rotamos los ejes de coordenadas y expresamos un mismo punto $x$ en el sistema inicial $\\{{\\bf e}_i\\}$ o rotado $\\{{\\bf e}'_i\\}$. En las transformaciones activas pensamos en que un punto se traslada en otro y no en un cambio de coordenadas.\n",
    "\n",
    "Asi la rotación activa de un ángulo $\\theta$ alrededor de $z$ en sentido anti-horario nos dice que el punto original $(1, 0, 0)$ se traslada a $(\\cos \\theta, \\sin \\theta, 0)$. Mientras que una rotación pasiva expresaríamos el mismo punto como $(1, 0, 0)$ en el sistema original y $(\\cos \\theta, -\\sin \\theta, 0)$ en el nuevo sistema de coordenadas transformado, rotado respecto al original un ángulo $\\theta$ en sentido anti-horario alrededor del eje $z$."
   ]
  },
  {
   "cell_type": "markdown",
   "metadata": {},
   "source": [
    "Es más natural introducir las transformaciones de Lorentz desde un punto de vista pasivo, como cambio de coordenadas, pero resulta más conveniente tomar un punto de vista activo cuando se trabaja con conceptos más abstractos como campos. \n",
    "\n",
    "En la literatura aparecen las transformaciones activas y pasivas y a veces no se indica de cuál se trata. Es importante saber siempre con qué tipo de transformación se está trabajando. Nosotros usaremos transformaciones activas. "
   ]
  },
  {
   "cell_type": "markdown",
   "metadata": {},
   "source": [
    "#### Transformación de estados (Schrödinger) o de operadores (Heidelberg)\n",
    "\n",
    "Podemos no obstante considerar dos tipos de transforemaciones activas, según la versión de Schrödinger o la de Heidelberg.\n",
    "\n",
    "En la de Schrödenger transformamos los $| \\psi \\rangle$, mientras que en la de Heidelberg, transformamos los operadores, $O$, (visión de Heidelberg). Esta última es la más habitual en TCQ.\n",
    "\n",
    "Una transformación unitaria, queda en la versión de Schrödinger:\n",
    "$$\n",
    "| \\psi \\rangle \\to | \\psi' \\rangle = U \\, | \\psi \\rangle, \\;\\;\\; O \\to O\n",
    "$$\n",
    "\n",
    "y en la versión de Heidelberg:\n",
    "$$\n",
    "| \\psi \\rangle \\to \\ \\psi \\rangle, \\;\\;\\; O \\to O' = U^{-1} O U = U^\\dagger O U\n",
    "$$\n"
   ]
  },
  {
   "cell_type": "markdown",
   "metadata": {},
   "source": [
    "Decimos que un sistema tiene una determinada simetría si la transformación asociada, $U$, deja invariante el valor esperado de un operador hermítico (esto es observable), $O$. Esto se cumple si $U$ y $O$ conmutan, $[U, O] = 0$.\n",
    "\n",
    "$$\n",
    "\\langle \\psi | O | \\psi \\rangle \\to \\langle \\psi | U^\\dagger O U | \\psi \\rangle = \\langle \\psi | U^\\dagger U O | \\psi \\rangle = \\langle \\psi | O | \\psi \\rangle\n",
    "$$\n",
    "\n",
    "En el caso de que $U$ sea el hamiltoniano $H$, entonces los auto-estados de $O$ son estacionarios (no cambian con el tiempo). \n",
    "\n",
    "$$\n",
    "i \\hbar \\frac{\\mathrm{d}}{\\mathrm{d}t} \\langle O \\rangle = \\langle [O, H]\\rangle\n",
    "$$"
   ]
  },
  {
   "cell_type": "markdown",
   "metadata": {},
   "source": [
    "Para las transiciones entre estados, inicial $| i \\rangle$, a final, $| f \\rangle$, calculamos el elemento de matriz de la matriz de transición $M$, $\\langle f | M | i \\rangle$.\n",
    "\n",
    "Si $M$ conmuta con $U$, y los estados $|i\\rangle, | f \\rangle$ son autoestados de $U$ con autovalores $u_i, u_f$ respectivamente, entonces tenemos una ley de conservación:\n",
    "\n",
    "$$\n",
    "0 = \\langle f | [U, M] | i \\rangle = (u_f - u_i) \\langle f | M | i \\rangle\n",
    "$$\n",
    "\n",
    "Los autovalores, antes y después de la interacción, $u_f, u_i$ deben ser iguales.\n"
   ]
  },
  {
   "cell_type": "markdown",
   "metadata": {},
   "source": [
    "### Teorema de Noether\n",
    "\n",
    "El teorema de Noether afirma que un sistema con una simetría continua (por ejemplo rotación) tiene una cantidad conservada asociada (para la rotación sería el momento angular total).\n",
    "\n",
    "Si la simetría es continua, podemos expresarla a partir de transformaciones infinitesimales, esto es, sea $\\alpha$ pequeña:\n",
    "\n",
    "$$\n",
    "U(\\alpha) \\simeq e^{i\\alpha G} \\simeq I + i \\alpha G\n",
    "$$\n",
    "\n",
    "Donde $G$ son los generadores del la transformación que definen un grupo y sus reglas de conmutación definen las reglas del grupo."
   ]
  },
  {
   "cell_type": "markdown",
   "metadata": {},
   "source": [
    "La unitariedad $U$ implica la hermicidad de $G$.\n",
    "\n",
    "$$\n",
    "U^\\dagger U = (I - i \\alpha G^\\dagger) (I + i \\alpha G) \\simeq I + i \\alpha (G - G^\\dagger) = I \n",
    "$$\n",
    "\n",
    "Luego:\n",
    "\n",
    "$$\n",
    "G^\\dagger = G\n",
    "$$\n",
    "\n",
    "Al ser hemíticos, los generadores son observables. "
   ]
  },
  {
   "cell_type": "markdown",
   "metadata": {},
   "source": [
    "### Transformaciones discretas e inversiones\n",
    "\n",
    "Las transformaciones discretas no se conectan continuamente con la identidad.\n",
    "\n",
    "Las inversiones son aquellas transformaciones discretas que nos devuelven si las aplicamos dos veces seguidas al sistema original, por ejemplo, la inversión por paridad o por carga. \n",
    "\n",
    "$$\n",
    "| \\Psi \\rangle \\to U_I \\, |\\Psi \\rangle \\to (U_I)^2 |\\Psi \\rangle = \\eta \\, |\\Psi \\rangle\n",
    "$$\n",
    "donde $\\eta$ es una fase compleja sin implicaciones físicas.\n",
    "\n",
    "Las inversiones tienen asociadas un operador unitario $U_I$. El operador puede introducir una fase al operar sobre un autoestado, $U_I |\\psi \\rangle = \\eta_I | \\psi \\rangle$. En general la fase es espúrea, no tiene implicaciones físicas, pero en determinados casos puede ser o tomarse por convención como $\\pm 1$. [CHECK]\n",
    "\n",
    "*cuestión:* A partir de los estados $| \\psi_1 \\rangle, \\, | \\psi_2 \\rangle$ que bajo una inversión $U_I$ se transforman como $| \\psi_1 \\rangle \\leftrightarrow | \\psi_2 \\rangle$, escribe los autoestados de $U_I$ y sus autovalores."
   ]
  },
  {
   "cell_type": "markdown",
   "metadata": {},
   "source": [
    "#### cantidades conservadas\n",
    "\n",
    "Si $U_I$ es hermítico y observable, exite también una cantidad que se conserva. \n",
    "\n",
    "En el caso de multiples estados, la cantidad conservada es multiplicativa, el producto de las individuales, mientras que para el caso de transformaciones continuas era aditiva. \n",
    "\n",
    "En el caso de que $G$ sea un generador de una transformación continua, dada por $U = e^{i\\theta G}$, y $| \\psi_1 \\rangle, | \\psi_2 \\rangle$ dos estados con autovalores $g_1, g_2$ de $G$ respectivamente.\n",
    "\n",
    "$$\n",
    "G | \\psi_1 \\rangle = g_1 | \\psi_1 \\rangle, \\;\\;\\; G | \\psi_2 \\rangle = g_2 | \\psi_2 \\rangle\n",
    "$$\n",
    "\n",
    "El estado dado por $|\\psi_1 \\rangle, \\psi_2 \\rangle$ es también autoestado de $G$ con autovalores $g_1+g_2$:\n",
    "\n",
    "$$\n",
    "U | \\psi_1 \\psi_2 \\rangle = e^{i\\theta G} |\\psi_1 \\psi_2 \\rangle = (e^{i\\theta G} |\\psi_1 \\rangle) (e^{i\\theta G} |\\psi_2 \\rangle) = e^{i \\theta (g_1+g_2)} | \\psi_1 \\psi_2 \\rangle\n",
    "$$\n",
    "\n",
    "esto es:\n",
    "\n",
    "$$\n",
    "G | \\psi_1 \\psi_2 \\rangle = (g_1+g_2) | \\psi_1 \\psi_2 \\rangle\n",
    "$$"
   ]
  },
  {
   "cell_type": "markdown",
   "metadata": {},
   "source": [
    "Mientras que para el caso de una inversión con operador hermício sea $U_I$, siendo $| \\psi_1 \\rangle, | \\psi_2 \\rangle$ dos estados con autovalores $u_1, u_2$ de $G$ respectivamente, \n",
    "\n",
    "$$\n",
    "U_I | \\psi_1 \\rangle = u_1 | \\psi_1 \\rangle, \\;\\;\\; U_I | \\psi_2 \\rangle = u_2 | \\psi_2 \\rangle\n",
    "$$\n",
    "\n",
    "obtenemos:\n",
    "\n",
    "$$\n",
    "U_I | \\psi_1 \\psi_2 \\rangle = U_I |\\psi_1 \\psi_2 \\rangle = (U_I |\\psi_1 \\rangle) (U_I |\\psi_2 \\rangle) = u_1 u_2| \\psi_1 \\psi_2 \\rangle\n",
    "$$\n",
    "\n",
    "Luego la cantidad conservas en inversiones es multiplicativa.\n"
   ]
  },
  {
   "cell_type": "markdown",
   "metadata": {},
   "source": [
    "## Transformaciones de Lorentz\n"
   ]
  },
  {
   "cell_type": "markdown",
   "metadata": {},
   "source": [
    "\n",
    "Recordemos que las transformaciones de Lorentz son aquellas que conservan el producto escalar de los cuadri-vectores usando la métrica de Minkowski, y que se representan con matrices que denotamos como $\\Lambda$.\n",
    "\n",
    "La transformación de un caudri-vector, $x^\\mu$, o de un cuadri-momento, $p^\\mu$, viene dada por:\n",
    "\n",
    "$$\n",
    "x' = \\Lambda \\, x, \\;\\;\\; x'^\\mu = \\Lambda^{\\mu}_{\\;\\;\\nu} \\, x^\\nu \\\\\n",
    "p' = \\Lambda \\, p, \\;\\;\\; p'^{\\mu} = \\Lambda^{\\mu}_{\\;\\;\\nu} \\, p^{\\nu}\n",
    "$$\n",
    "\n",
    "donde los índices $\\mu, \\nu$ hacen referencia a las columnas y filas respectivamente de la matriz $\\Lambda$."
   ]
  },
  {
   "cell_type": "markdown",
   "metadata": {},
   "source": [
    "Las transformaciones de Lorentz preservan el producto escalar:\n",
    "\n",
    "$$\n",
    "x' \\cdot y' = x \\cdot y, \\\\\n",
    "(\\Lambda^{\\rho}_{\\;\\;\\mu} \\, x^\\mu) \\, g_{\\rho\\sigma} \\, (\\Lambda^{\\sigma}_{\\;\\;\\nu} \\, y^\\nu) = g_{\\mu\\nu} \\, x^\\mu y^\\nu\n",
    "$$\n",
    "\n",
    "Esto es:\n",
    "\n",
    "$$\n",
    "g_{\\rho\\sigma} \\Lambda^{\\rho}_{\\;\\;\\mu} \\Lambda^{\\sigma}_{\\;\\;\\nu} = g_{\\mu\\nu}\n",
    "$$\n",
    "\n",
    "O en forma matricial:\n",
    "\n",
    "$$\n",
    "\\Lambda^{T} g \\Lambda = g\n",
    "$$"
   ]
  },
  {
   "cell_type": "markdown",
   "metadata": {},
   "source": [
    "\n",
    "Además existe la transformación inversa $\\Lambda^{-1}$\n",
    "\n",
    "$$\n",
    "\\Lambda \\, \\Lambda^{-1} = I, \\;\\; \\Lambda^{\\nu}_{\\;\\;\\rho} (\\Lambda^{-1})^{\\rho}_{\\;\\; \\mu} = \\delta^{\\nu}_{\\;\\;\\mu}\n",
    "$$\n"
   ]
  },
  {
   "cell_type": "markdown",
   "metadata": {},
   "source": [
    "### Transformaciones propias e impropias\n",
    "\n",
    "Sabemos que las transformaciones *propias* de Lorentz corresponden a las rotaciones en el espacio y los *boost*. Esto implica que:\n",
    "$$\n",
    "\\det(\\Lambda) = 1\n",
    "$$\n",
    "las transformaciones propias que están conectada de forman continua con la identidad.\n",
    "\n",
    "Mientras que la inversión por paridad es una transformación de Lorentz *impropia*, donde\n",
    "$$\n",
    "\\det(\\Lambda) = -1\n",
    "$$ \n",
    "y en este caso no hay conexión continua con la identidad."
   ]
  },
  {
   "cell_type": "markdown",
   "metadata": {},
   "source": [
    "Genéricamente **el grupo de Lorentz** son las matrices ortogonales que preservan la métrica de Minkowski, $g_{\\mu\\nu}$, o en otras palabras, preservan el producto escalar de dos cuadrivectores, esto es, la matrices cumplen:\n",
    "\n",
    "$$\n",
    "\\Lambda^T g \\Lambda  = g\n",
    "$$\n",
    "\n",
    "El grupo de Lorentz se denota como $O(1,3)$.\n",
    "\n",
    "De la condición anterior se sigue:\n",
    "\n",
    "$$\n",
    "\\det(\\Lambda) = \\pm 1\n",
    "$$\n",
    "\n",
    "Las transformaciones con $\\det(\\Lambda) = +1$ forman un subgrupo, llamado $SO(1, 3)$, el de transformaciones propias. Este subgrupo incluye las rotaciones y los *boosts*.\n",
    "\n",
    "Las transformaciones con $\\det(\\Lambda) = -1$ se llaman impropias, pero no forman un subgrupo porque no contienen el elemento identidad $I$. La transformación de la inversión de paridad es impropia."
   ]
  },
  {
   "cell_type": "markdown",
   "metadata": {},
   "source": [
    "### Transformaciones activas y pasivas.\n",
    "\n",
    "La matriz asociada a una rotación *activa* de $\\theta$ alrededor del eje $z$ (en sentido antihorario) y un *boost* *activo* en z con velocidad $\\beta$ son respectivamente:\n",
    "\n",
    "$$\n",
    "\\Lambda(\\theta) = \n",
    "\\begin{pmatrix} 1    & 0 & 0 & 0 \\\\\n",
    "                 0   & \\cos\\theta & -\\sin\\theta & 0 \\\\\n",
    "                 0   & \\sin\\theta & \\cos\\theta & 0 \\\\\n",
    "                 1  & 0 & 0 & 1 \n",
    "\\end{pmatrix}\n",
    "\\;\\;\\; \n",
    "\\Lambda(\\beta) =  \n",
    "\\begin{pmatrix} \\gamma         & 0 & 0 & \\gamma \\beta \\\\\n",
    "                 0             & 1 & 0 & 0 \\\\\n",
    "                 0             & 0 & 1 & 0 \\\\\n",
    "                 \\gamma \\beta & 0 & 0 & \\gamma \n",
    "\\end{pmatrix}\n",
    "$$\n",
    "\n",
    "En un boost activo convertimos una partícula en reposo, con cuadri-momento $p = (m, {\\bf 0})$, en una partícula en movimiento con velocidad $\\beta$ en dirección $\\hat{{\\bf v}}$ cuyo cuadrimomento es $p' = (E, {\\bf p}) = (\\gamma m, \\gamma \\beta \\hat{{\\bf v}}$).\n",
    "\n",
    "El cambio de una transformación activa a pasiva -y viceversa- implica cambiar $\\theta \\to - \\theta$ y $\\beta \\to -\\beta$ en las matrices de sus representaciones."
   ]
  },
  {
   "cell_type": "markdown",
   "metadata": {},
   "source": [
    "*Ejercicio:* Comprueba $\\Lambda^T g \\Lambda = g, \\;\\; \\Lambda^{-1}  \\Lambda  = I$ con las representaciones de $\\Lambda(\\theta)$ y $\\Lambda(\\beta)$"
   ]
  },
  {
   "cell_type": "markdown",
   "metadata": {},
   "source": [
    "### Generadores de rotaciones y *boosts*\n",
    "\n",
    "Las transformaciones de Lorentz propias se pueden construir a partir de la sucesión de transformaciones infinitesimales.\n",
    "\n",
    "Estas transformaciones dependen de tres posibles ángulos de rotación $\\vec{\\theta}$ alrededor de cada eje y de las tres componentes de la velocidad $\\vec{\\beta}$.\n"
   ]
  },
  {
   "cell_type": "markdown",
   "metadata": {},
   "source": [
    "#### Generadores de rotaciones\n",
    "\n",
    "La rotación de un angulo *infinitesimal* $\\theta$ a lo largo del eje $z$ viene dada por:\n",
    "\n",
    "$$\n",
    "\\Lambda(\\theta) = \n",
    "\\begin{pmatrix} 1    & 0 & 0 & 0 \\\\\n",
    "                 0   & 1 & -\\theta & 0 \\\\\n",
    "                 0   & \\theta & 1 & 0 \\\\\n",
    "                 0  & 0 & 0 & 1 \n",
    "\\end{pmatrix} = \n",
    "\\begin{pmatrix}  1    & 0 & 0 & 0 \\\\\n",
    "                 0   & 1 & 0 & 0 \\\\\n",
    "                 0   & 0 & 1 & 0 \\\\\n",
    "                 0  & 0 & 0 & 1 \\end{pmatrix}\n",
    " +\n",
    " \\theta\n",
    "\\begin{pmatrix} 0    & 0 & 0 & 0 \\\\\n",
    "                 0   & 0 & -1 & 0 \\\\\n",
    "                 0   & 1 & 0 & 0 \\\\\n",
    "                 0  & 0 & 0 & 0 \\end{pmatrix} \n",
    "$$"
   ]
  },
  {
   "cell_type": "markdown",
   "metadata": {},
   "source": [
    "Podemos dar la rotación anterior como:\n",
    "\n",
    "$$\n",
    "\\Lambda(\\theta) \\equiv e^{i\\theta J_3} \\simeq I +i \\theta J_{3},\n",
    "$$\n",
    "\n",
    "donde:\n",
    "\n",
    "$$\n",
    "\\;\\; J_{3} \\equiv  -i \\begin{pmatrix} 0    & 0 & 0 & 0 \\\\\n",
    "                 0   & 0 & -1 & 0 \\\\\n",
    "                 0   & 1 & 0 & 0 \\\\\n",
    "                 0  & 0 & 0 & 0 \\end{pmatrix} \n",
    "$$\n",
    "\n",
    "A $J_3$ lo llamamos el **generador** de las rotaciones en torno al eje $z$.\n"
   ]
  },
  {
   "cell_type": "markdown",
   "metadata": {},
   "source": [
    "\n",
    "Podemos dar la rotación de un ángulo $\\theta$ en torno a $z$ como una sucessión de rotaciones infinitesimales. La matriz que representa la rotación, $\\Lambda(\\theta)$, la podemos dar como el producto de las matrices de rotaciones infinitesimales.\n",
    "\n",
    "De esta forma definimos la rotación a lo largo del eje $y$ de un ángulo $\\theta$ como:\n",
    "\n",
    "$$\n",
    "\\Lambda(\\theta) \\equiv e^{i \\theta J_3} \\equiv \\sum_{k=0} \\frac{(i \\theta)^k}{k!} (J_3)^k \n",
    "$$\n",
    "\n",
    "Dado que:\n",
    "\n",
    "$$\n",
    "\\Lambda(\\theta) = \\Lambda\\left(\\sum_N \\frac{\\theta}{N}\\right) = \\prod_{N} \\Lambda\\left(\\frac{\\theta}{N}\\right) = \\lim_{N \\to \\infty} \\left(I + i \\frac{\\theta}{N}J_3 \\right)^N\n",
    "$$"
   ]
  },
  {
   "cell_type": "markdown",
   "metadata": {},
   "source": [
    "Si separamos la serie en términos pares e impares:\n",
    "\n",
    "$$\n",
    "I + \\sum_{k=1}  i^{2k} \\frac{\\theta^{2k}}{2k!} (J_3)^{2k} + \\sum_{k=0}  i^{2k+1} \\frac{\\theta^{2k+1}}{(2k+1)!} (J_3)^{2k+1} =  \\\\\n",
    "I + \\sum_{k=1}  (-1)^k \\frac{\\theta^{2k}}{2k!} (J_3)^{2k} + i \\sum_{k=0}  (-1)^k \\frac{\\theta^{2k+1}}{(2k+1)!} (J_3)^{2k+1}\n",
    "$$\n",
    "\n",
    "y haciendo uso de:\n",
    "\n",
    "$$\n",
    "(J_3)^{2k} = \\begin{pmatrix}  0    & 0 & 0 & 0 \\\\\n",
    "                 0   & 1 & 0 & 0 \\\\\n",
    "                 0   & 0 & 1 & 0 \\\\\n",
    "                 0  & 0 & 0 & 0 \\end{pmatrix} \\equiv  I_{12}, \\;\\;\n",
    "(J_3)^{2k+1} = J_3,\n",
    "$$\n",
    "\n",
    "Obtenemos:\n",
    "\n",
    "$$\n",
    "I + \\cos \\theta \\,  I_{12}  + i  \\sin \\theta \\, J_3, \n",
    "$$\n",
    "\n",
    "Y de forma explícita:\n",
    "\n",
    "$$\n",
    "\\Lambda(\\theta) = \\begin{pmatrix}  1    & 0 & 0 & 0 \\\\\n",
    "                 0   & \\cos\\theta & -\\sin\\theta & 0 \\\\\n",
    "                 0   & \\sin\\theta & \\cos\\theta & 0 \\\\\n",
    "                 0  & 0 & 0 & 1 \\end{pmatrix}, \n",
    "$$"
   ]
  },
  {
   "cell_type": "markdown",
   "metadata": {},
   "source": [
    "### generadores de *boosts*\n",
    "\n",
    "Vamos a determinar ahora la matriz asociada a un *boost*, $\\Lambda(\\eta)$. \n",
    "\n",
    "Definimos primero el parámetro $\\eta$, llamado **rapidez**, como $\\beta = \\tanh \\eta$, lo que implica:\n",
    "\n",
    "$$\n",
    "\\gamma = \\cosh \\eta, \\;\\; \\beta = \\tanh \\eta, \\;\\; \\gamma \\beta = \\sinh \\eta.\n",
    "$$\n",
    "\n",
    "Notar que el rango de $\\beta$, que es $(-1, 1)$, se traslada en $\\eta$ en $(-\\infty, \\infty)$.\n",
    "\n",
    "Decimos que el grupo de Lorentz no es compacto porque los valores de $|\\beta| = 1$ no son posibles, esto es el intervalo de $\\beta$ es abierto.\n",
    "\n",
    "La transformación de Lorentz de un boots en $z$ con velocidad $\\beta$ o rapidez $\\eta$ queda:\n",
    "\n",
    "$$\n",
    "\\Lambda(\\eta) =  \n",
    "\\begin{pmatrix} \\cosh \\eta         & 0 & 0 & \\sinh \\eta \\\\\n",
    "                 0             & 1 & 0 & 0 \\\\\n",
    "                 0             & 0 & 1 & 0 \\\\\n",
    "                 \\sinh \\eta & 0 & 0 & \\cosh \\eta \n",
    "\\end{pmatrix}\n",
    "$$"
   ]
  },
  {
   "cell_type": "markdown",
   "metadata": {},
   "source": [
    "que podemos dar como sucesivos boost infinitesimales en la dirección $z$\n",
    "\n",
    "$$\n",
    "\\Lambda(\\eta) = e^{i \\eta K_3}, \\;\\;  K_3 = -i \\begin{pmatrix} 0   & 0 & 0 & 1 \\\\\n",
    "                 0   & 0 & 0 & 0 \\\\\n",
    "                 0   & 0 & 0 & 0 \\\\\n",
    "                 1  & 0 & 0 & 0 \\end{pmatrix} \n",
    "$$\n",
    "\n",
    "donde $K_3$ es el generador de los boost en $z$."
   ]
  },
  {
   "cell_type": "markdown",
   "metadata": {},
   "source": [
    "\n",
    "A partir de:\n",
    "\n",
    "$$\n",
    "\\Lambda(\\eta) = e^{i\\eta K_3} \\equiv \\sum_{k} \\frac{(i\\eta)^k}{k!} \\, (K_3)^k\n",
    "$$\n",
    "\n",
    "separando en términos pares e impares:\n",
    "\n",
    "$$\n",
    "I + \\sum_{k=1} (-1)^{k} \\frac{\\eta^{2k}}{2k!} (K_3)^{2k} + i \\sum_{k=0} (-1)^k  \\frac{\\eta^{2k+1}}{(2k+1)!} (K_3)^{2k+1} =  \\\\\n",
    "$$\n",
    "\n",
    "y dado que:\n",
    "\n",
    "$$\n",
    "(K_3)^{2k} = (-1)^k \\begin{pmatrix} 1   & 0 & 0 & 0 \\\\\n",
    "                 0   & 0 & 0 & 0 \\\\\n",
    "                 0   & 0 & 0 & 0 \\\\\n",
    "                 0  & 0 & 0 & 1 \\end{pmatrix} \\equiv (-1)^k I_{03}, \\;\\; \n",
    "(K_3)^{2k+1} = (-1)^k K_3\n",
    "$$"
   ]
  },
  {
   "cell_type": "markdown",
   "metadata": {},
   "source": [
    "obtenemos\n",
    "\n",
    "$$\n",
    "\\Lambda(\\eta) = I +  \\sum_{k=1} \\frac{\\eta^{2k}}{(2k)!} \\, I_{03} + i \\sum_{k=1}  \\frac{\\eta^{2k+1}}{(2k+1)!} \\, K_3 = \\\\\n",
    "\\cosh \\eta + i \\sinh \\eta K_3\n",
    "$$\n",
    "\n",
    "de forma explícita:\n",
    "\n",
    "$$\n",
    "\\Lambda(\\eta) =  \n",
    "\\begin{pmatrix} \\cosh \\eta         & 0 & 0 & \\sinh \\eta \\\\\n",
    "                 0             & 1 & 0 & 0 \\\\\n",
    "                 0             & 0 & 1 & 0 \\\\\n",
    "                 \\sinh \\eta & 0 & 0 & \\cosh \\eta \n",
    "\\end{pmatrix}\n",
    "$$"
   ]
  },
  {
   "cell_type": "markdown",
   "metadata": {},
   "source": [
    "Así pues, las transformaciones de Lorentz quedan definidas de forma genérica con un ángulo de rotación $\\theta$ alrededor de un eje $\\hat{{\\bf n}}$ en sentido antihorario, y un boost de rapidez $\\eta$ en la dirección $\\hat{\\bf v}$; y con sus correspondientes generadores ${\\bf J}, {\\bf K}$.\n",
    "\n",
    "$$\n",
    "\\Lambda(\\theta \\, \\hat{{\\bf n}}+ \\eta \\, \\hat{{\\bf v}})  = e^{i (\\theta {\\hat{\\bf n}} \\, {\\bf J}  + {\\eta \\hat{\\bf v} \\, {\\bf K}})}\n",
    "$$"
   ]
  },
  {
   "cell_type": "markdown",
   "metadata": {},
   "source": [
    "Las expresiones de los generadores son:\n",
    "\n",
    "$$\n",
    "J_1 = -i\\begin{pmatrix} 0   & 0 & 0 & 0 \\\\\n",
    "                 0   & 0 & 0 & 0 \\\\\n",
    "                 0   & 0 & 0 & -1 \\\\\n",
    "                 0  & 0 & 1 & 0 \\end{pmatrix}, \\;\\;\n",
    "J_2 = -i\\begin{pmatrix} 0   & 0 & 0 & 0 \\\\\n",
    "                 0   & 0 & 0 & 1 \\\\\n",
    "                 0   & 0 & 0 & 0 \\\\\n",
    "                 0  & -1 & 0 & 0 \\end{pmatrix}, \\;\\;\n",
    "J_3 = -i\\begin{pmatrix} 0   & 0 & 0 & 0 \\\\\n",
    "                 0   & 0 & -1 & 0 \\\\\n",
    "                 0   & 1 & 0 & 0 \\\\\n",
    "                 0  & 0 & 0 & 0 \\end{pmatrix}, \\\\\n",
    "K_1 = -i\\begin{pmatrix} 0   & 1 & 0 & 0 \\\\\n",
    "                 1   & 0 & 0 & 0 \\\\\n",
    "                 0   & 0 & 0 & 0 \\\\\n",
    "                 0  & 0 & 0 & 0 \\end{pmatrix}, \\;\\;\n",
    "K_2 = -i\\begin{pmatrix} 0   & 0 & 1 & 0 \\\\\n",
    "                 0   & 0 & 0 & 0 \\\\\n",
    "                 1   & 0 & 0 & 0 \\\\\n",
    "                 0  & 0 & 0 & 0 \\end{pmatrix}, \\;\\;\n",
    "K_3 = -i\\begin{pmatrix} 0   & 0 & 0 & 1 \\\\\n",
    "                 0   & 0 & 0 & 0 \\\\\n",
    "                 0   & 0 & 0 & 0 \\\\\n",
    "                 1  & 0 & 0 & 0 \\end{pmatrix}. \n",
    "$$\n",
    "\n",
    "*Ejercicio:* Comprueba que: \n",
    "\n",
    "$$\n",
    "[J_i, J_j] =  i\\epsilon_{ijk} J_k, \\; [K_i, K_j] = -i\\epsilon_{ijk} J_k, \\; [J_i, K_j] = i\\epsilon_{ijk} K_k\n",
    "$$ \n"
   ]
  },
  {
   "cell_type": "markdown",
   "metadata": {},
   "source": [
    "## Representación espinorial\n",
    "\n",
    "En esta sección vamos a construir la representación espinorial de las rotaciones y *boost* del grupo de Lorentz.\n",
    "\n",
    "Esto es para cada transformación de Lorentz $\\Lambda$, existe una matrix $S(\\Lambda)$, de tal forma que el espinor de dirac, $\\Psi(x)$ transforma bajo Lorentz como:\n",
    "\n",
    "$$\n",
    "\\Psi(x) \\to \\Psi'(x) = S(\\Lambda) \\, \\Psi(\\Lambda^{-1} x)\n",
    "$$"
   ]
  },
  {
   "cell_type": "markdown",
   "metadata": {},
   "source": [
    "### sobre la representación espinorial\n",
    "\n",
    "Recordemos que si hacemos una transformación activa, esto es transformamos los campos manteniendo las coordenadas, un campo escalar, $\\phi(x)$, y otro vectorial, $A^\\mu(x)$, transforman de la siguiente manera:\n",
    "\n",
    "$$\n",
    "\\phi'(x) = \\phi(\\Lambda^{-1} x)\\\\\n",
    "A'^\\mu(x) = \\Lambda^{\\mu}_{\\;\\; \\nu} \\, A^{\\nu} (\\Lambda^{-1} x)\n",
    "$$\n",
    "\n",
    "Por ejemplo, el campo escalar transformado $\\phi'(x)$ vale en un punto $x$ lo que vale el campo en el punto de origen antes de la transformación, $\\phi(\\Lambda^{-1} x)$.\n",
    "\n",
    "Mientras que el campo vectorial transformado $A'^\\mu(x)$ corresponde en $x$ al campo $A^\\nu(\\Lambda^{-1} x)$ que había el punto original $\\Lambda^{-1}x$ al que rotaremos por $\\Lambda^\\mu_{\\;\\;\\nu}$.\n",
    "\n",
    "[ADD] Dibujo de la transformación activa de un campo escalar y vectorial"
   ]
  },
  {
   "cell_type": "markdown",
   "metadata": {},
   "source": [
    "La cuestión ahora es ¿Cómo transforma el espinor solución de la ec. de Dirac? ¿Cómo se transforma un campo espinorial, $\\Psi(x)$, frente a transformaciones Lorentz?\n",
    "\n",
    "Como $\\Psi(x)$ tiene cuatro componentes complejas, la representación de la transformación de Lorentz en el espacio espinorial será una matriz compleja  $4\\times4$ que dependera de $\\Lambda$, que denotamos $S(\\Lambda)$ y que transformará linealmente el campo:\n",
    "\n",
    "$$\n",
    "\\Psi'(x) = S(\\Lambda) \\, \\Psi( \\Lambda^{-1}x)\n",
    "$$\n",
    "\n",
    "Al ser $S(\\Lambda)$ una matriz de cumple que la transformación que corresponde a dos transformaciones consecutivas $\\Lambda = \\Lambda_2 \\Lambda_1$  es:\n",
    "\n",
    "$$\n",
    "\\Psi'(x) = S(\\Lambda) \\, \\Psi( \\Lambda^{-1} x) = S(\\Lambda_2) S(\\Lambda_1) \\, \\Psi(\\Lambda_1^{-1} \\Lambda_2^{-1} x) \n",
    "$$\n",
    "\n",
    "Esto significa que las matrices $S(\\Lambda)$ forman una representación del grupo de Lorentz:\n",
    "\n",
    "$$\n",
    "\\Lambda \\to S(\\Lambda), \\\\\n",
    "\\Lambda  =\\Lambda_2 \\,\\Lambda_1 \\to S(\\Lambda) = S(\\Lambda_2) \\, S(\\Lambda_1)\n",
    "$$\n",
    "\n",
    "A cada transformación de Lorentz le corresponde una matriz en el espacio espinorial que la representa, y la matriz que representa la sucesión de las dos transformaciones es el producto de las matrices de cada transformación por separado.\n",
    "\n",
    "A partir de ahora no explicitaremos la dependencia de $S$ con $\\Lambda$ por simplicidad."
   ]
  },
  {
   "cell_type": "markdown",
   "metadata": {},
   "source": [
    "#### Condiciones de las matrices $S$\n",
    "\n",
    "Para establecer la condiciones de las matrices $S$, utilizamos que la ec. de Dirac debe ser válida para los campos transformados.\n",
    "\n",
    "Esto es:\n",
    "\n",
    "$$\n",
    "(i\\gamma^\\mu \\partial_\\mu - m) \\, S \\, \\Psi(\\Lambda^{-1} x) = 0\n",
    "$$\n",
    "\n",
    "Si definimos $y = \\Lambda^{-1} x, \\; y^\\mu = (\\Lambda^{-1})^\\mu_{\\;\\; \\nu} x^{\\nu}$, el término:\n",
    "\n",
    "$$\n",
    "\\partial_\\mu (S \\Psi(y)) = S \\frac{\\partial \\Psi(y)}{\\partial x^\\mu} = S  \\frac{\\partial \\Psi(y)}{\\partial y^\\nu} \\frac{\\partial y^\\nu}{\\partial x^\\mu} = S \\, \\frac{\\partial \\Psi(y)}{\\partial y^\\nu} \\, (\\Lambda^{-1})^\\nu_{\\;\\; \\mu}\n",
    "$$\n",
    "\n",
    "La ecuación de Dirac queda:\n",
    "\n",
    "$$\n",
    "i \\gamma^\\mu S (\\Lambda^{-1})^\\nu_{\\;\\;\\mu} \\frac{\\partial \\Psi(y)} {\\partial y^\\nu} - m S \\Psi(y) = 0\n",
    "$$\n",
    "\n",
    "Si multiplicamos por $S^{-1}$ por la izquierda.\n",
    "\n",
    "$$\n",
    "i  S^{-1} \\gamma^\\mu S \\; (\\Lambda^{-1})^\\nu_{\\;\\;\\mu} \\frac{\\partial \\Psi(y)}{\\partial y^\\nu} - m \\Psi(y) = 0 \n",
    "$$\n"
   ]
  },
  {
   "cell_type": "markdown",
   "metadata": {},
   "source": [
    "Si imponemos que $\\Psi(y)$ cumple la ecuación de Dirac en coordenadas $y$, esto es:\n",
    "\n",
    "$$\n",
    "i \\gamma^\\nu \\frac{\\partial \\Psi(y)}{\\partial y^\\nu} - m \\Psi(y) = 0\n",
    "$$\n",
    "\n",
    "se cumple:\n",
    "\n",
    "$$\n",
    "S^{-1} \\gamma^\\mu S \\; (\\Lambda^{-1})^\\nu_{\\;\\;\\mu} = \\gamma^\\nu\n",
    "$$\n",
    "\n",
    "Si multiplicamos por la derecha por $\\Lambda$, esto es por $\\Lambda^{\\rho}_{\\;\\; \\nu}$:\n",
    "\n",
    "$$\n",
    "S^{-1} \\gamma^\\mu S \\; (\\Lambda^{-1})^\\nu_{\\;\\;\\mu} \\Lambda^{\\rho}_{\\;\\; \\nu} = \\gamma^\\nu \\, \\Lambda^{\\rho}_{\\;\\; \\nu} \\\\\n",
    "S^{-1} \\gamma^\\mu S \\, \\delta^\\rho_{\\;\\;\\mu}  = \\Lambda^{\\rho}_{\\;\\; \\nu} \\, \\gamma^\\nu \\\\\n",
    "$$"
   ]
  },
  {
   "cell_type": "markdown",
   "metadata": {},
   "source": [
    "Notar que los valores de $\\Lambda^{\\rho}_{\\;\\;\\nu}$ son coeficientes que multiplican a la matrices $\\gamma^\\nu$, y así obtenemos finalmente:\n",
    "\n",
    "$$\n",
    "S^{-1} \\gamma^\\mu S  = \\Lambda^\\mu_{\\;\\;\\nu}\\gamma^\\nu\n",
    "$$\n",
    "\n",
    "Esta ecuación nos dice las condiciones que deben cumplir las matrices $S$ para ser la representación de las transformaciones de Lorentz $\\Lambda$. "
   ]
  },
  {
   "cell_type": "markdown",
   "metadata": {},
   "source": [
    "### Generadores de boost y rotaciones"
   ]
  },
  {
   "cell_type": "markdown",
   "metadata": {},
   "source": [
    "Vamos a determinar ahora los generadores de las transformaciones de Lorentz en el espacio de los espinores.\n",
    "\n",
    "Las matrices $S$ se generan nuevamente a partir de sucesivas transformaciones infinitesimales.\n",
    "Cada una de ellas estará definida a partir de unos generadores asociados a las rotaciones o al *boost*, de forma similar a como sucede con el espacio espacio-temporal. \n"
   ]
  },
  {
   "cell_type": "markdown",
   "metadata": {},
   "source": [
    "#### generadores de los *boosts*\n",
    "\n",
    "Consideremos un *boost* $\\eta$ *infinitesimal* en $z$. La matriz de Lorentz asociada es:\n",
    "\n",
    "$$\n",
    "\\Lambda(\\eta) = I + i \\eta K_3\n",
    "$$\n",
    "\n",
    "donde $K_3$ es el generador del boost en $z$ en el espacio espacio-temporal.\n",
    "\n",
    "Y la representación de *boost* infinitesimal en el espacio de espinores será:\n",
    "\n",
    "$$\n",
    "S(\\eta)  = I + i \\eta \\, K^S_3 \n",
    "$$\n",
    "\n",
    "donde $K^S_3$ es el generador de los *boost* en el espacio de los espinores."
   ]
  },
  {
   "cell_type": "markdown",
   "metadata": {},
   "source": [
    "Las condiciones de las matrices $S$ se traducen para esta caso en:\n",
    "\n",
    "$$\n",
    "S^{-1} \\gamma^0 S =  \\gamma^0   + \\eta \\, \\gamma^3\\\\\n",
    "S^{-1}\\gamma^1 S = \\gamma^1 \\\\\n",
    "S^{-1}\\gamma^2 S = \\gamma^2 \\\\\n",
    "S^{-1 }\\gamma^3 S = \\eta \\, \\gamma^0 + \\gamma^3 \\\\\n",
    "$$\n",
    "\n",
    "De la segunda y tercera condición deducimos que $S$ y por lo tanto $K^S_3$ conmutan con $\\gamma^1, \\gamma^2$. Con lo que podemos proponer:\n",
    "\n",
    "$$\n",
    "K^S_3 = -\\alpha i \\gamma^0 \\gamma^3\n",
    "$$\n",
    "\n",
    "que conmuta con $\\gamma^2, \\gamma^3$, y donde $\\alpha$ es una constante que vamos a determinar."
   ]
  },
  {
   "cell_type": "markdown",
   "metadata": {},
   "source": [
    "De la primera condición:\n",
    "\n",
    "$$\n",
    "(I - \\eta \\, \\alpha \\gamma^0\\gamma^3) \\gamma^0 (I + \\eta \\, \\alpha \\gamma^0 \\gamma^3) =  \\gamma^0   + \\gamma^3  \\eta\n",
    "$$\n",
    "\n",
    "Si en la parte de la izquierda de la ecuación trasladamos $\\gamma^0$ del centro a la izquierda, usando las propiedades de conmutación de las $\\gamma$, obtenemos:\n",
    "\n",
    "$$\n",
    "\\gamma^0 \\, (I + \\eta \\, \\alpha \\gamma^0\\gamma^3)^2 =  \\gamma^0   + \\gamma^3  \\eta\n",
    "$$\n",
    "\n",
    "Multiplicando por $\\gamma^0$ por la izquierda, desarrollando el cuadrado, y despreciando términos en $\\eta^2$ al tratarse de un boost infinitesimal:\n",
    "\n",
    "$$\n",
    "(I + \\eta \\, 2 \\alpha \\gamma^0\\gamma^3) =  I   + \\eta \\gamma^0 \\gamma^3 \n",
    "$$\n",
    "\n",
    "De donde concluimos que:\n",
    "\n",
    "$$\n",
    "K^S_3 = - \\frac{1}{2} i \\gamma^0 \\gamma^3\n",
    "$$\n"
   ]
  },
  {
   "cell_type": "markdown",
   "metadata": {},
   "source": [
    "#### generadores de rotaciones\n",
    "\n",
    "Consideremos ahora una rotación infinitesimal $\\theta$ a lo largo del eje $z$. \n",
    "\n",
    "La transformación infinitesimal en el espacio espacio-temporal viene dada por:\n",
    "\n",
    "$$\n",
    "\\Lambda(\\theta) = I +i \\theta \\, J_3 \n",
    "$$\n",
    "\n",
    "Mientras que en el espacio de espinores:\n",
    "\n",
    "$$\n",
    "S(\\theta) = I +i \\theta \\, J^S_3\n",
    "$$\n"
   ]
  },
  {
   "cell_type": "markdown",
   "metadata": {},
   "source": [
    "Las condiciones que deben cumplir son:\n",
    "\n",
    "$$\n",
    "S^{-1} \\gamma^0 S =  \\gamma^0  \\\\\n",
    "S^{-1}\\gamma^1 S = \\gamma^1 - \\theta \\, \\gamma^2 \\\\\n",
    "S^{-1}\\gamma^2 S = \\theta \\, \\gamma^1 + \\gamma^2 \\\\\n",
    "S^{-1 }\\gamma^3 S = \\gamma^3 \\\\\n",
    "$$\n",
    "\n",
    "Vemos que $S$ \\, y por lo tanto $J^S_3$ deben conmutar con $\\gamma^0, \\, \\gamma^3$, luego podemos suponer que:\n",
    "\n",
    "$$\n",
    "J^S_3 = -\\alpha i \\gamma^1\\gamma^2\n",
    "$$\n",
    "\n",
    "donde $\\alpha$ es de nuevo una constante."
   ]
  },
  {
   "cell_type": "markdown",
   "metadata": {},
   "source": [
    "De la segunda condición, obtenemos:\n",
    "\n",
    "$$\n",
    "(I - \\theta \\, \\alpha \\gamma^1 \\gamma^2) \\gamma^1 (I + \\theta \\, \\alpha \\gamma^1 \\gamma^2) = \\gamma^1 - \\theta \\, \\gamma^2\n",
    "$$\n",
    "\n",
    "Transladando $\\gamma^1$ en la parte de la izquierda de la igualdad a la izquierda, y usando las reglas de conmutación de las matrices $\\gamma$:\n",
    "\n",
    "$$\n",
    "\\gamma^1 \\, (I + \\theta \\, \\alpha \\gamma^1 \\gamma^2)^2 = \\gamma^1 - \\theta \\, \\gamma^2 \n",
    "$$\n",
    "\n",
    "Multiplicando ambos lados por $\\gamma^1$ y recordando que $(\\gamma^1)^2 = -I$\n",
    "\n",
    "$$\n",
    "(I + 2 \\theta \\, \\alpha \\gamma^1 \\gamma^2) = I + \\theta \\gamma^1\\gamma^2\n",
    "$$\n",
    "Obtenemos que:\n",
    "\n",
    "$$\n",
    "J^S_3 = -\\frac{1}{2} i \\gamma^1\\gamma^2 \n",
    "$$\n"
   ]
  },
  {
   "cell_type": "markdown",
   "metadata": {},
   "source": [
    "\n",
    "Los generadores, $J_s, K_3$ en la representación de Pauli-Dirac.\n",
    "\n",
    "$$\n",
    "K^S_3  = -\\frac{1}{2}  i \\gamma^0 \\gamma^3 = -\\frac{1}{2} i \\begin{pmatrix} I & 0 \\\\ 0 & - I \\end{pmatrix} \\begin{pmatrix} 0 & \\sigma_3 \\\\ -\\sigma_3 & 0 \\end{pmatrix} = - \\frac{1}{2} i \n",
    "\\begin{pmatrix} 0 & \\sigma_3 \\\\ \\sigma_3 & 0 \\end{pmatrix}\n",
    "$$\n",
    "\n",
    "$$\n",
    "J^S_3 = -\\frac{1}{2} i \\gamma^1\\gamma^2 = -\\frac{1}{2} i \\begin{pmatrix} 0 & \\sigma_1  \\\\ -\\sigma_1 & 0 \\end{pmatrix} \\begin{pmatrix} 0 & \\sigma_2  \\\\ -\\sigma_2 & 0 \\end{pmatrix} =  - \\frac{1}{2} \\begin{pmatrix}  \\sigma_3 & 0  \\\\ 0 &  \\sigma_3 \\end{pmatrix} = - \\frac{1}{2}\\Sigma_3\n",
    "$$"
   ]
  },
  {
   "cell_type": "markdown",
   "metadata": {},
   "source": [
    "De forma similar daríamos el resto de rotaciones y boost, obtenemos\n",
    "\n",
    "$$\n",
    "K^S_i = -\\frac{1}{2}i \\gamma^0\\gamma^i, \\;\\; J^S_k = -\\epsilon_{ijk} \\, \\frac{1}{2} i \\gamma^i\\gamma^k\n",
    "$$\n",
    "\n",
    "donde $i \\lt j, \\, i, j = 1, 2, 3$.\n",
    "\n",
    "De tal forma que recuperamos los generadores en $z$ y podemos dar además los de $x, y$."
   ]
  },
  {
   "cell_type": "markdown",
   "metadata": {},
   "source": [
    "Vemos que el generador de las rotaciones en el espacio de los espinores es el **espín**\n",
    "\n",
    "$$\n",
    "{\\bf S} = \\frac{1}{2} {\\bf \\Sigma}\n",
    "$$"
   ]
  },
  {
   "cell_type": "markdown",
   "metadata": {},
   "source": [
    "### Representaciones espinoriales de *boosts* y rotaciones.\n",
    "\n",
    "Calculemos ahora la representación espinorial, $S(\\eta)$, de un boost $\\eta$ en $z$\n",
    "\n",
    "Que obtendríamos de la sucesión de transformación infinitesimales, esto es:\n",
    "\n",
    "$$\n",
    "S(\\eta) = e^{i \\eta K^S_3}  = e^{\\frac{\\eta}{2} \\gamma^0\\gamma^3} \\equiv \\sum_{k= 0}^\\infty \\frac{1}{k!} \\left(\\frac{\\eta}{2} \\right)^k \\begin{pmatrix} 0 & \\sigma_3 \\\\ \\sigma_3 & 0 \\end{pmatrix}^k \n",
    "$$\n",
    "\n",
    "\n",
    "Dado que \n",
    "\n",
    "$$\n",
    "\\begin{pmatrix} 0 & \\sigma_3 \\\\ \\sigma_3 & 0 \\end{pmatrix}^2 = \\begin{pmatrix} I & 0 \\\\ 0 & I \\end{pmatrix}\n",
    "$$\n",
    "\n",
    "podemos separar los términos pares e impares de la sucesión:\n",
    "\n",
    "\n",
    "$$\n",
    "S(\\eta) = \\sum_{k= 0}^\\infty \\left(\\frac{\\eta}{2}\\right)^{2k} \\frac{1}{2k!} \\begin{pmatrix} I & 0 \\\\ 0 & I \\end{pmatrix} \n",
    "+ \\sum_{k= 0}^\\infty \\left(\\frac{\\eta}{2}\\right)^{2k+1} \\frac{1}{(2k+1)!} \\begin{pmatrix} 0 & \\sigma_3 \\\\ \\sigma_3 & 0 \\end{pmatrix} \n",
    "$$\n",
    "\n",
    "Y podemos expresar $S(\\eta)$ como:\n",
    "\n",
    "$$\n",
    "S(\\eta)  = \\cosh \\frac{\\eta}{2}  \\begin{pmatrix} I & 0 \\\\ 0 & I \\end{pmatrix} + \\sinh \\frac{\\eta}{2} \\begin{pmatrix} 0 & \\sigma_3 \\\\ \\sigma_3 & 0 \\end{pmatrix} = \\\\\n",
    "\\cosh \\frac{\\eta}{2} \\, I + \\gamma^0\\gamma^3 \\, \\sinh \\frac{\\eta}{2} \n",
    "$$"
   ]
  },
  {
   "cell_type": "markdown",
   "metadata": {},
   "source": [
    "O simplemente:\n",
    "\n",
    "$$\n",
    "S(\\eta)  = \\begin{pmatrix} \\cosh \\frac{\\eta}{2} I  & \\sinh \\frac{\\eta}{2} \\sigma_3 \\\\ \\sinh \\frac{\\eta}{2} \\sigma_3 & \\cosh \\frac{\\eta}{2} I \\end{pmatrix} \n",
    "$$\n"
   ]
  },
  {
   "cell_type": "markdown",
   "metadata": {},
   "source": [
    "Que podemos reescribir en una expresión más conocida, si usamos las relaciones trigonométricas hyperbólicas: \n",
    "\n",
    "$$\n",
    "\\cosh \\frac{\\eta}{2} = \\sqrt{\\frac{\\cosh \\eta + 1}{2}} = \\sqrt{\\frac{\\gamma+1}{2}}, \\;\\; \\sinh \\frac{\\eta}{2} = \\text{sign}(\\eta) \\, \\sqrt{\\frac{\\cosh \\eta-1}{2}} = \\text{sign}(\\eta) \\, \\sqrt{\\frac{\\gamma-1}{2}}\n",
    "$$\n",
    "\n",
    "Si introducimos que $E = \\gamma m$, obtenemos las siguientes relaciones:\n",
    "\n",
    "$$\n",
    "\\sqrt{\\frac{\\gamma+1}{2}} = \\sqrt{\\frac{E+m}{2m}}, \\;\\; \\sqrt{\\frac{\\gamma-1}{\\gamma+1}} = \\sqrt{\\frac{E-m}{E+m}} = \\frac{\\sqrt{E^2-m^2}}{E+m} = \\frac{p}{E+m} = \\kappa\n",
    "$$"
   ]
  },
  {
   "cell_type": "markdown",
   "metadata": {},
   "source": [
    "Asi pues, la matriz $S$, al hacer un boost en la dirección $z$, queda:\n",
    "\n",
    "$$\n",
    "S(\\beta) = \\sqrt{\\frac{E+m}{2m}} \\begin{pmatrix} I & \\kappa \\, \\sigma_3 \\\\ \\kappa \\, \\sigma_3 & I \\end{pmatrix}\n",
    "$$\n",
    "\n",
    "Si aplicamos un boost sobre un espinor en reposo, $u_s(m)$, el espinor que obtendríamos sería, $u_s(p)$:\n",
    "\n",
    "$$\n",
    "u_s(p) = S(\\beta) \\, u_s(m),\n",
    "$$\n",
    "\n",
    "Esto es:\n",
    "\n",
    "$$\n",
    "u_s(p) = \\sqrt{\\frac{E+m}{2m}} \\begin{pmatrix} I & \\kappa \\, \\sigma_3 \\\\ \\kappa \\, \\sigma_3 & I \\end{pmatrix} \n",
    "\\, \\sqrt{2m} \\begin{pmatrix} \\chi_s \\\\ 0 \\end{pmatrix} =\n",
    "\\sqrt{E+m} \\begin{pmatrix} \\chi_s \\\\ \\kappa \\sigma_3 \\chi_s \\end{pmatrix}\n",
    "$$\n",
    "\n",
    "que es el espinor $u_s(p)$ para un fermión en movimiento en la dirección $z$, que hemos obtenido en la extensión [ext-Dirac]."
   ]
  },
  {
   "cell_type": "markdown",
   "metadata": {},
   "source": [
    "*Ejercicio:* Comprobar que $S(\\eta)$ cumple las condiciones de las matrices $S$"
   ]
  },
  {
   "cell_type": "markdown",
   "metadata": {},
   "source": [
    "Por similitud, las matrices $S(\\eta_i)$ que representan a los *boosts* en las tres posibles direcciones, $\\eta_i, \\, i = 1, 2, 3$, son:\n",
    "\n",
    "$$\n",
    "S(\\eta_i) = e^{i \\eta_i K^S_i } = e^{\\frac{\\eta_i}{2} \\gamma^0\\gamma^i } = \\begin{pmatrix} \\cosh \\frac{\\eta_i}{2} I  & \\sinh \\frac{\\eta_i}{2} \\sigma_i \\\\ \\sinh \\frac{\\eta_i}{2} \\sigma_i & \\cosh \\frac{\\eta_i}{2} I \\end{pmatrix}\n",
    "$$\n",
    "\n",
    "Y si hacemos un boost con rapidez $\\eta$ en la dirección $\\hat{{\\bf v}}$:\n",
    "\n",
    "$$\n",
    "S(\\eta \\, \\hat{{\\bf v}}) = \\begin{pmatrix} \\cosh \\frac{\\eta}{2} I  & \\sinh \\frac{\\eta}{2} \\, (\\vec{\\sigma} \\cdot \\hat{{\\bf v}}) \\\\ \\sinh \\frac{\\eta}{2} \\, ({\\vec \\sigma} \\cdot \\hat{{\\bf v}}) & \\cosh \\frac{\\eta}{2} I \\end{pmatrix} = \\\\\n",
    "$$\n",
    "\n",
    "Esto es:\n",
    "\n",
    "$$\n",
    "S(\\beta \\hat{\\bf v}) = \\sqrt{\\frac{E+m}{2m}} \\begin{pmatrix} I & \\kappa \\, (\\vec{\\sigma} \\cdot \\hat{{\\bf v}}) \\\\ \\kappa \\, (\\vec{\\sigma} \\cdot \\hat{\\bf v}) & I \\end{pmatrix}\n",
    "$$"
   ]
  },
  {
   "cell_type": "markdown",
   "metadata": {},
   "source": [
    "Determinemos ahora las matrices $S(\\theta)$ asociadas a una rotación $\\theta$ alrededor de $z$:\n",
    "\n",
    "$$\n",
    "S(\\theta) = e^{i \\theta J^S_s} = e^{-i \\theta S_3} = e^{-i \\frac{\\theta}{2} \\Sigma_3}\n",
    "$$"
   ]
  },
  {
   "cell_type": "markdown",
   "metadata": {},
   "source": [
    "A partir de:\n",
    "\n",
    "$$\n",
    "S(\\theta) = e^{-i \\frac{\\theta}{2} \\Sigma_3} = \\sum_{k=0} \\frac{1}{k!} \\left(\\frac{i\\theta}{2} \\right)^k  (\\Sigma_3)^k\n",
    "$$\n",
    "\n",
    "separando en términos pares e impares\n",
    "\n",
    "$$\n",
    "\\sum_{k=0} (-1)^k \\frac{1}{2k!}\\left(\\frac{\\theta}{2}\\right)^{2k} I - i \\sum_{k=0} (-1)^k \\frac{1}{(2k+1)!} \\left(\\frac{\\theta}{2}\\right)^{2k+1}  \\Sigma_3 \n",
    "$$\n",
    "\n",
    "usando:\n",
    "\n",
    "$$\n",
    "(\\Sigma_k)^{2k} =  I, \\;\\; (\\Sigma_3)^{2k+1} = \\Sigma_3\n",
    "$$\n",
    "\n",
    "Obtenemos:\n",
    "\n",
    "$$\n",
    "S(\\theta) = \\begin{pmatrix} e^{-i\\frac{\\theta}{2} \\sigma_3} & 0 \\\\ 0 & e^{-i\\frac{\\theta}{2} \\sigma_3} \\end{pmatrix}  = \\begin{pmatrix} \\cos \\frac{\\theta}{2} I - i \\sin \\frac{\\theta}{2} \\sigma_3  & 0 \\\\ 0 & \\cos \\frac{\\theta}{2} I - i \\sin \\frac{\\theta}{2} \\sigma_3 \\end{pmatrix} \n",
    "$$\n"
   ]
  },
  {
   "cell_type": "markdown",
   "metadata": {},
   "source": [
    "Para una rotación de un ángulo $\\theta$ alrededor de un eje dado por $\\hat{{\\bf n}}$ en sentido anti-horario, la expresión de $S$ es:\n",
    "\n",
    "$$\n",
    "S(\\theta \\, \\hat{\\bf n}) = e^{i\\frac{\\theta}{2} \\hat{\\bf n} \\, {\\bf \\Sigma}} = \\cos \\frac{\\theta}{2} I - i \\sin \\frac{\\theta}{2} (\\hat{\\bf n} \\cdot {\\bf \\Sigma})  \n",
    "$$\n",
    "\n",
    "O simplemente:\n",
    "\n",
    "$$ \n",
    "S(\\theta \\, \\hat{\\bf n})  = \\begin{pmatrix} e^{-i\\frac{\\theta}{2} \\, (\\hat{{\\bf n}} \\cdot {\\vec \\sigma})} & 0 \\\\ 0 & e^{-i\\frac{\\theta}{2} \\, (\\hat{{\\bf n}} \\cdot {\\vec \\sigma})} \\end{pmatrix} \n",
    "$$"
   ]
  },
  {
   "cell_type": "markdown",
   "metadata": {},
   "source": [
    "Vemos que para $\\theta = 2 \\pi$ tenemos $S(2\\pi ) = -I$, y que hacen falta dos vueltas completas, $\\theta = 4 \\pi$, para regresar a la identidad $S(4\\pi) = I$. \n",
    "\n",
    "¡La rotación de un espinor es diferente a la de un vector!\n",
    "\n",
    "También observamos que los dos bi-espinores del espinor de Dirac se transforman igual pero independientemente, sin afectar uno a otro."
   ]
  },
  {
   "cell_type": "markdown",
   "metadata": {},
   "source": [
    "La siguiente figura muestra un dibujo de Escher en el que una hormiga (el espín) tiene que realizar dos vueltas ($4\\pi$ para el espín) en la cinta de Moebius para regresar a su estado inicial. Si la hormiga solo da una vuelta, queda invertida, igual que el espín bajo una rotación de $2\\pi$.\n",
    "\n",
    "| |\n",
    "| :-- |\n",
    "<img src=\"./imgs/dirac_Escher_Moebius.jpg\" width = 300 align = \"center\">\n",
    "|Hormiga en una cita de Moebius por Escher|\n",
    "\n"
   ]
  },
  {
   "cell_type": "markdown",
   "metadata": {},
   "source": [
    "Recopilemos: de forma genérica podemos dar ahora la representación $S$ de una rotación $\\theta$ alrededor de un eje $\\hat{{\\bf n}}$ en sentido anti-horario y un boost de rapidez $\\eta$ en dirección $\\hat{{\\bf v}}$ como:\n",
    "\n",
    "$$\n",
    "S(\\theta \\, \\hat{{\\bf n}}, \\, \\eta \\hat{{\\bf v}}) = e^{-i \\theta \\, \\hat{{\\bf n}} \\cdot {\\bf S} + i \\eta \\, \\hat{{\\bf v}} \\cdot {\\bf K^S} }\n",
    "$$\n",
    "\n",
    "*Ejercicio:* A partir de las expresiones de los generadores en la representación Pauli-Dirac comprueba las reglas de conmutación:\n",
    "\n",
    "$$\n",
    "[S_i, S_j] =  i\\epsilon_{ijk} S_k, \\; [K^S_i, K^S_j] = -i\\epsilon_{ijk} S_k, \\; [S_i, K^S_j] = i\\epsilon_{ijk} K^S_k\n",
    "$$ \n",
    "\n",
    "\n"
   ]
  },
  {
   "cell_type": "markdown",
   "metadata": {},
   "source": [
    "*Ejercicio:* Rota el espinor en reposo $u_s(m)$ respecto al eje $y$ por un ángulo $\\theta$, y verfica que se trata del espinor cuyo espín entá alineado en la dirección donde queda el vector ${\\hat k}$ tras la rotación."
   ]
  },
  {
   "cell_type": "markdown",
   "metadata": {},
   "source": [
    "### No unitariedad de los *boosts*\n",
    "\n",
    "\n",
    "Una último apunte importante: *Las transformaciones por boost no son unitarias*, pero sí las rotaciones.\n",
    "\n",
    "Para que la transformación, $S$, sea unitaria debe cumplir\n",
    "\n",
    "$$\n",
    "S^{-1} = S^\\dagger, \\;\\; S^\\dagger \\, S = I\n",
    "$$"
   ]
  },
  {
   "cell_type": "markdown",
   "metadata": {},
   "source": [
    "Véamoslo con la expresión infinitesimal, (aunque puede verse igualmente con la expresión explícita $S(\\eta)$).\n",
    "\n",
    "La transformación inversa es $S^{-1}(\\eta) =  S(-\\eta)$, que viene de exigir que al hacer la transformación inversa obtenemos la identidad, lo que para la representación se traduce\n",
    "\n",
    "$$\n",
    "S(\\Lambda^{-1}) \\, S(\\Lambda) = I, \\;\\; S(\\Lambda^{-1}) = S^{-1}(\\Lambda)\n",
    "$$\n",
    "\n",
    "Si hacemos el traspuesto conjungado de $S(\\eta)$ para un boost, $\\eta$, infinitesimal en $z$. \n",
    "$$\n",
    "S^\\dagger(\\eta) = \n",
    "I + \\frac{\\eta}{2} (\\gamma^0 \\gamma^1)^\\dagger = I + \\frac{\\eta}{2} (\\gamma^1)^\\dagger (\\gamma^0)^\\dagger = \\\\\n",
    "I + \\frac{\\eta}{2} (-\\gamma^1)(\\gamma^0) = I + \\frac{1}{2} (\\gamma^0\\gamma^i) = S(\\eta)\n",
    "$$\n",
    "\n",
    "Luego:\n",
    "\n",
    "$$\n",
    " S^{-1}(\\eta) \\neq S^\\dagger(\\eta)\n",
    "$$\n",
    "\n",
    "Esto tendrá consecuencias relevantes cuando más tarde, cuando veamos que el término $\\Psi^\\dagger(x) \\Psi(x)$ aunque invariante Lorentz no respeta unitariedad."
   ]
  },
  {
   "cell_type": "markdown",
   "metadata": {},
   "source": [
    "Sin embargo, las rotaciones sí respetan unitariedad:\n",
    "\n",
    "$$\n",
    "S^{-1}(\\theta) = S(-\\theta) = S^\\dagger(\\theta)\n",
    "$$\n",
    "\n",
    "Veámoslo con una rotación $\\theta$ infinitesimal alrededor de $z$, \n",
    "\n",
    "$$\n",
    "S^\\dagger(\\theta) = I + \\frac{\\theta}{2} (\\gamma^1\\gamma^2)^\\dagger = \n",
    " I + \\frac{\\theta}{2} (\\gamma^2)^\\dagger(\\gamma^1)^\\dagger = \\\\\n",
    " I + \\frac{\\theta}{2} (-\\gamma^2)(-\\gamma^1) = I + \\frac{\\theta}{2} \\gamma^2\\gamma^1 \\\\\n",
    " I - \\frac{\\theta}{2} \\gamma^1 \\gamma^2 = S(-\\theta) = S^{-1}(\\theta)\n",
    "$$\n",
    "\n",
    "Luego las rotaciones si son transformaciones unitarias en el espacio de los espinores."
   ]
  },
  {
   "cell_type": "markdown",
   "metadata": {},
   "source": [
    "## Norma y corriente de espinores\n",
    "\n",
    "En mecánica cuántica definimos una densidad de probabilidad, asociada a la norma de la función de ondas, $|\\psi(x)|^2 = \\psi^*(x) \\psi(x)$, y una corriente de probabilidad conservada. \n",
    "\n",
    "La expresión similar que obtenemos con espinores de Dirac, $|\\Psi(x)|^2 = \\Psi^\\dagger(x) \\Psi(x)$, no es un invariante Lorentz, y nos obliga a introducir el espinor adjunto:\n",
    "\n",
    "$$\n",
    "\\bar{\\Psi}(x) = \\Psi^\\dagger(x) \\, \\gamma^0\n",
    "$$\n",
    "\n",
    "A partir de aquí, podemos construir dos de las formas bilineales:\n",
    "\n",
    " * la norma, $\\bar{\\Psi}\\Psi$ que es un escalar Lorentz.\n",
    "\n",
    " * la corriente de probabilidad o fermiónica, $\\bar{\\Psi}(x) \\gamma^\\mu \\Psi(x)$ que es un vector bajor Lorentz\n",
    "\n",
    " Vamos a verificar en esta sección el comportamiento bajo Lorentz de la norma y de la corriente. "
   ]
  },
  {
   "cell_type": "markdown",
   "metadata": {},
   "source": [
    "### Norma\n",
    "\n",
    "El término \n",
    "\n",
    "$$\n",
    "\\Psi^\\dagger \\Psi = |\\psi_1|^2 + |\\psi_2|^2 + |\\psi_2|^2 + |\\psi_4|^2\n",
    "$$\n",
    "\n",
    "está asociado a la densidad de probabilidad, es siempre una cantidad positiva."
   ]
  },
  {
   "cell_type": "markdown",
   "metadata": {},
   "source": [
    "Sin embargo no es un invariante Lorentz, debido a que las matrices que representan el *boost* en el espacio de los espinores no son unitarias.\n",
    "\n",
    "Sabemos que:\n",
    "\n",
    "$$\n",
    "S^{-1}(\\eta) = S(-\\eta) \\neq S^\\dagger (\\eta)\n",
    "$$\n",
    "\n",
    "Por lo tanto la transformación por boost del término $\\Psi^\\dagger(x) \\Psi(x)$,\n",
    "\n",
    "$$\n",
    "\\Psi^\\dagger(x) \\Psi(x) \\to \\Psi'^\\dagger(x) \\Psi'(x)  = \\\\\n",
    "\\Psi^\\dagger(y) S^{\\dagger}(\\eta) S(\\eta) \\Psi(y) \\neq \\Psi^\\dagger(y) \\Psi(y)\n",
    "$$\n",
    "\n",
    "con $y = \\Lambda^{-1} x$, no es invariante Lorentz.\n"
   ]
  },
  {
   "cell_type": "markdown",
   "metadata": {},
   "source": [
    "Para definir la corriente de probabilidad introducimos el espinor adjunto:\n",
    "\n",
    "$$\n",
    "\\bar{\\Psi}(x) = \\Psi^\\dagger(x) \\gamma^0\n",
    "$$\n",
    "\n",
    "En la representación de Pauli-Dirac:\n",
    "\n",
    "$$\n",
    "\\bar{\\Psi}(x) = (\\psi^*_1(x), \\psi^*_2(x), -\\psi^*_3(x), -\\psi^*_4(x)),\n",
    "$$\n",
    "\n",
    "que tiene forma de vector fila."
   ]
  },
  {
   "cell_type": "markdown",
   "metadata": {},
   "source": [
    "Veremos ahora que término $\\bar{\\Psi}(x)\\Psi(x)$ es un invariante Lorentz y es unitario, y está asociado a la masa de la partícula. \n",
    "\n",
    "Hemos visto que para boosts, $S(\\eta)$ no es unitaria, pero que $S(\\theta)$, asociada a las rotaciones, sí lo es.\n",
    "\n",
    "$$\n",
    "S^{-1}(\\eta)   = \\gamma^0 S^\\dagger(\\eta) \\gamma^0 \\neq S^{\\dagger}(\\eta) \\\\\n",
    "S^{-1}(\\theta) = \\gamma^0 S^\\dagger(\\theta) \\gamma^0 = S^\\dagger(\\theta)\n",
    "$$"
   ]
  },
  {
   "cell_type": "markdown",
   "metadata": {},
   "source": [
    "Veamos que $\\bar{\\Psi}(x) \\Psi(x)$ es un escalar Lorentz:\n",
    "\n",
    "$$\n",
    "\\bar{\\Psi}(x) \\Psi(x) \\to \\bar{\\Psi}'(x) \\Psi'(x) = \\\\\n",
    "(S \\, \\Psi(y))^\\dagger \\gamma^0 (S \\, \\Psi(y)) = \n",
    "\\Psi^\\dagger(y) \\, S^{\\dagger} \\gamma^ 0 S \\, \\Psi(y)  = \n",
    "\\Psi^\\dagger(y) \\gamma^0 (\\gamma^0 S^{\\dagger} \\gamma^ 0)  S \\, \\Psi(y)  = \\\\\n",
    "\\Psi^\\dagger(y) \\gamma^0 (S^{-1} S)  \\Psi(y)) = \n",
    "\\Psi^\\dagger(y) \\gamma^0 \\Psi(y) = \\bar{\\Psi}(y) \\Psi(y)\n",
    "$$\n",
    "\n",
    "donde $y = \\Lambda^{-1} x$.\n",
    "\n",
    "*Cuestión*: Verifica que $\\bar{\\Psi}(x) \\Psi(x) = 2 m$, para las soluciones de la ec. de Dirac. \n"
   ]
  },
  {
   "cell_type": "markdown",
   "metadata": {},
   "source": [
    "### Corriente fermiónica\n",
    "\n",
    "La corriente de probabilidad fermiónica es un cuadrivector dado por:\n",
    "\n",
    "$$\n",
    "\\bar{\\Psi} \\gamma^\\mu \\Psi = (\\rho, {\\bf j})\n",
    "$$"
   ]
  },
  {
   "cell_type": "markdown",
   "metadata": {},
   "source": [
    "Vamos a comprobar ahora que $\\bar{\\Psi}(x) \\gamma^\\mu \\Psi(x)$ es un cuadri-vector y que se transforma como tal bajo transformaciones Lorentz.\n",
    "\n",
    "Si aplicamos una transformación de Lorentz, con representación espinorial $S$, la corriente transforma como:\n",
    "\n",
    "$$\n",
    "\\bar{\\Psi} \\gamma^\\mu \\Psi \\to \\bar{\\Psi}'(x) \\gamma^\\mu \\Psi'(x) = \\Psi(y)^\\dagger S^\\dagger \\, \\gamma^0 \\gamma^\\mu \\, S \\Psi(y)\n",
    "$$\n",
    "\n",
    "con $y = \\Lambda^{-1} x$.\n",
    "\n",
    "Que la corriente se transforme como un vector implica que:\n",
    "\n",
    "$$\n",
    "\\bar{\\Psi}'(x) \\gamma^\\mu \\Psi'(x) = \\Lambda^{\\mu}_{\\;\\;\\nu} \\, \\bar{\\Psi}(y) \\gamma^\\nu \\Psi(y) \n",
    "$$\n",
    "\n",
    "Esto es:\n",
    "\n",
    "$$\n",
    "\\Psi^\\dagger(y) \\, S^\\dagger \\gamma^0 \\gamma^\\mu S \\, \\Psi(y) = \\Lambda^{\\mu}_{\\;\\;\\nu} \\, \\Psi^\\dagger(y) \\gamma^0 \\gamma^\\nu \\Psi(y) \\\\\n",
    "$$\n",
    "\n",
    "O que se cumple:\n",
    "\n",
    "$$\n",
    "S^\\dagger \\gamma^0 \\gamma^\\mu \\, S  = \\Lambda^{\\mu}_{\\;\\;\\nu} \\gamma^0 \\gamma^\\nu\n",
    "$$"
   ]
  },
  {
   "cell_type": "markdown",
   "metadata": {},
   "source": [
    "En la parte derecha de la ecuación, haciendo uso $S^\\dagger \\gamma^0 = \\gamma^0 S^{-1}$, \n",
    "\n",
    "$$\n",
    "\\gamma^0 S^{-1} \\gamma^\\mu S \n",
    "$$\n",
    "\n",
    "Y aplicando las condiciones de las matrices $S$, esto es, $S^{-1} \\gamma^\\mu S  = \\Lambda^\\mu_{\\;\\;\\nu}\\gamma^\\nu\n",
    "$\n",
    "\n",
    "nos queda:\n",
    "\n",
    "$$\n",
    "\\Lambda^{\\mu}_{\\;\\;\\nu} \\gamma^0 \\gamma^\\nu \n",
    "$$ \n",
    "\n",
    "Luego, efecticamente, $\\bar{\\Psi}(x) \\gamma^\\mu \\Psi(x)$ se comporta como vector con respecto a las transformaciones Lorentz.\n",
    "\n"
   ]
  },
  {
   "cell_type": "markdown",
   "metadata": {},
   "source": [
    "## Inversión bajo paridad\n",
    "\n",
    "La inversión de paridad invierte la coordenadas especiales, ${\\bf x } \\to -{\\bf x}$. Es una transformación de Lorentz porque preserva el producto escalar de cuadrivectores.\n",
    "\n",
    "La matriz de la representación, $\\Lambda(P)$ debe invertir las coordenadas espaciales, esto es:\n",
    "\n",
    "$$\n",
    "x'^\\mu = \\Lambda^{\\mu}_{\\;\\;\\nu}(P) \\, x^\\nu\n",
    "$$\n",
    "\n",
    "luego:\n",
    "\n",
    "$$\n",
    "\\Lambda(P) = \\begin{pmatrix} 1 &  0 &  0 &  0 \\\\\n",
    "                            0 & -1 &  0 &  0 \\\\\n",
    "                            0 &  0 & -1 &  0 \\\\\n",
    "                            0 &  0 &  0 & -1 \\end{pmatrix}  \n",
    "$$\n",
    "\n",
    "Es una transformación impropia dado que su determinante es -1.\n",
    "$$\n",
    "\\det(\\Lambda) = -1\n",
    "$$"
   ]
  },
  {
   "cell_type": "markdown",
   "metadata": {},
   "source": [
    "### representación espinorial\n",
    "\n",
    "\n",
    "La matriz que representa en el espacio de espinores la inversión por paridad, $S(P)$, \n",
    "\n",
    "$$\n",
    "\\Psi(x) \\to \\Psi(x^0, {\\bf x}) = S(P) \\, \\Psi(x^0, -{\\bf x})\n",
    "$$\n",
    "\n",
    "debe cumplir (por las condiciones de las matrices $S$, ver extensión [ext-trans-Lorentz]):\n",
    "\n",
    "$$\n",
    "S^{-1}\\gamma^0 S = \\gamma^0,  \\\\\n",
    "S^{-1}\\gamma^1 S = -\\gamma^1, \\\\\n",
    "S^{-1}\\gamma^2 S = -\\gamma^2, \\\\\n",
    "S^{-1}\\gamma^3 S = -\\gamma^3. \\\\\n",
    "$$\n",
    "\n",
    "Esto es, si multiplicamos por $S$ a ambos lados de la igualdad por la izquierda:\n",
    "\n",
    "$$\n",
    "\\gamma^0  S = S \\gamma^0, \\;\\; \\gamma^i S = - S \\gamma^{i}\n",
    "$$\n",
    "\n",
    "La matriz que cumple esta condición es:\n",
    "\n",
    "$$\n",
    "S(P) = \\gamma^{0}\n",
    "$$\n",
    "\n",
    "La matriz $S$ podría incluir una pase compleja, pero por convención se tomó como 1."
   ]
  },
  {
   "cell_type": "markdown",
   "metadata": {},
   "source": [
    "Si aplicamos paridad sobre los espinores nos encontramos:\n",
    "\n",
    "$$\n",
    "u_s(E, {\\bf p}) \\to S(P) \\, u_s(E, -{\\bf p}) = + \\, u_s(E, {\\bf p}), \\\\\n",
    "v_s(E, {\\bf p}) \\to S(P) \\, v_s(E, -{\\bf p}) = - \\, v_s(E, {\\bf p}), \\;\\;\n",
    "$$\n",
    "\n",
    "Los espinores en reposo son autoestados de paridad, los de los fermiones, $u_s(m, {\\bf 0})$, tienen paridad positiva, mientras que los de los antifermiones $v_s(m, {\\bf 0})$, negativa."
   ]
  },
  {
   "cell_type": "markdown",
   "metadata": {},
   "source": [
    "### comportamiento de las formas bilineales\n",
    "\n",
    "Vamos a verificar que la paridad afecta de la siguiente forma a las formas bilineales principales:\n",
    "\n",
    "| | |\n",
    "| :--: | :--: |\n",
    "| $\\bar{\\Psi} \\Psi$| escalar | \n",
    "| $\\bar{\\Psi} \\gamma^5 \\Psi$|pseudo-escalar | \n",
    "| $\\bar{\\Psi} \\gamma^\\mu \\Psi $| vectorial | \n",
    "| $\\bar{\\Psi} \\gamma^\\mu \\gamma^5 \\Psi$| vector axial |\n",
    "\n",
    "A partir del hecho que:\n",
    "$$\n",
    "S^{-1} \\gamma^5 S = \\gamma^5, \\;\\; \\gamma^5 S = S \\gamma^5\n",
    "$$\n",
    "\n",
    "es sencillo comprobar que $\\bar{\\Psi}(x) \\gamma^5 \\Psi(x)$ y $\\bar{\\Psi}(x) \\gamma^\\mu \\gamma^5 \\Psi(x)$ se transforman frente a boosts y rotaciones como un escalar y un vector respectivamente.\n"
   ]
  },
  {
   "cell_type": "markdown",
   "metadata": {},
   "source": [
    "Vamos a ver como se comportan con respecto a la inversión por paridad.\n",
    "\n",
    "Recordemos que la representación espinorial de la inversión de paridad es simplemente, $S(P) = \\gamma^0$.\n",
    "\n",
    "#### norma escalar\n",
    "\n",
    "Apliquemos inversión de paridad a $\\bar{\\Psi}(x) \\Psi(x)$:\n",
    "\n",
    "$$\n",
    "\\bar{\\Psi}(x) \\Psi(x) \\to (S \\Psi(y))^\\dagger \\gamma^0 (S \\Psi(x)) = \\\\\n",
    "\\Psi^\\dagger(y) (\\gamma^0)^\\dagger \\gamma^0 \\gamma^0 \\Psi(y) = \\Psi^\\dagger(y) \\gamma^0 \\Psi(y) = \\bar{\\Psi}(y) \\Psi(y)\n",
    "$$\n",
    "\n",
    "donde $y = \\Lambda^{-1}x$. \n",
    "\n",
    "Por lo tanto $\\bar{\\Psi}(x) \\Psi(x)$ es un escalar bajo paridad."
   ]
  },
  {
   "cell_type": "markdown",
   "metadata": {},
   "source": [
    "#### pseudo-escalar\n",
    "\n",
    "Apliquemos inversión de paridad ahora a $\\Psi(x) \\gamma^5 \\Psi(x)$:\n",
    "\n",
    "$$\n",
    "\\bar{\\Psi}(x) \\gamma^5 \\Psi(x) \\to (S \\Psi(y))^\\dagger \\gamma^0 \\gamma^5 (S \\Psi(y)) = \\\\\n",
    "\\Psi^\\dagger(y) (\\gamma^0)^\\dagger \\gamma^0 \\gamma^5 \\gamma^0 \\Psi(y) = \n",
    "\\Psi^\\dagger(y) \\gamma^5 \\gamma^0 \\Psi(y) = \\\\\n",
    "- \\Psi^\\dagger(y) \\gamma^0 \\gamma^5 \\Psi(y) = - \\bar{\\Psi}(y) \\gamma^5 \\Psi(y)\n",
    "$$\n",
    "\n",
    "donde $y = \\Lambda^{-1}x$. \n",
    "\n",
    "Por lo tanto $\\Psi(x) \\gamma^5 \\Psi(x)$ es un pseudo-escalar bajo paridad."
   ]
  },
  {
   "cell_type": "markdown",
   "metadata": {},
   "source": [
    "#### corriente vectorial\n",
    "\n",
    "Aplicamos inversión de paridad a la corriente $\\bar{\\Psi}(x) \\gamma^\\mu \\Psi(x)$:\n",
    "\n",
    "$$\n",
    "\\bar{\\Psi}(x) \\gamma^\\mu \\Psi(x) \\to (S \\Psi(y))^\\dagger \\gamma^0 \\gamma^\\mu (S \\Psi(y)) = \\\\\n",
    "\\Psi^\\dagger(y) (\\gamma^0)^\\dagger \\gamma^0 \\gamma^\\mu \\gamma^0 \\Psi(y) = \n",
    "\\Psi^\\dagger(y) \\gamma^\\mu  \\gamma^0 \\Psi(y) \n",
    "$$\n",
    "\n",
    "donde $y= \\Lambda^{-1}x$.\n",
    "\n",
    "para $\\mu = 0$\n",
    "\n",
    "$$\n",
    "(\\Psi^\\dagger(y) \\gamma^0)  \\gamma^0 \\Psi(y)  = \\bar{\\Psi}(y) \\gamma^0 \\Psi(y)\n",
    "$$\n",
    "\n",
    "para los índices espaciales, $k = 1, 2, 3$.\n",
    "\n",
    "$$\n",
    "\\Psi^\\dagger(y) \\gamma^k  \\gamma^0 \\Psi(y)  = - (\\Psi^\\dagger(y) \\gamma^0)  \\gamma^k \\Psi(y)  = - \\bar{\\Psi}(y) \\gamma^k \\Psi(y)\n",
    "$$"
   ]
  },
  {
   "cell_type": "markdown",
   "metadata": {},
   "source": [
    "Luego bajo paridad:\n",
    "\n",
    "$$\n",
    "\\bar{\\Psi}(x) \\gamma^\\mu \\Psi(x) = (\\bar{\\Psi}(x) \\gamma^0 \\Psi(x), \\bar{\\Psi}(x) \\gamma^k \\Psi(x)) \\to \\\\\n",
    "\\bar{\\Psi}'(x) \\gamma^\\mu \\Psi'(x) = (\\bar{\\Psi}(y) \\gamma^0 \\Psi(y), -\\bar{\\Psi}(y) \\gamma^k \\Psi(y))\n",
    "$$\n",
    "\n",
    "La componente temporal no cambia de signo, pero si las espaciales, que es justamente la operación de paridad sobre un cuadri-vector.\n",
    "\n",
    "Luego $\\Psi(x) \\gamma^\\mu\\Psi(x)$ es un vector bajo paridad."
   ]
  },
  {
   "cell_type": "markdown",
   "metadata": {},
   "source": [
    "#### corriente axial\n",
    "\n",
    "Aplicamos ahora inversión de paridad a $\\bar{\\Psi}(x) \\gamma^\\mu \\gamma^5 \\Psi(x)$:\n",
    "\n",
    "$$\n",
    "\\bar{\\Psi}(x) \\gamma^\\mu \\gamma^5 \\Psi(x) \\to (S \\Psi(y))^\\dagger \\gamma^0 \\gamma^\\mu \\gamma^5 (S \\Psi(y)) = \\\\ \\Psi^\\dagger(y) (\\gamma^0)^\\dagger \\gamma^0 \\gamma^\\mu \\gamma^5 \\gamma^0 \\Psi(y) = \n",
    "\\Psi^\\dagger(y) \\gamma^\\mu \\gamma^5 \\gamma^0 \\Psi(y) = - \\Psi^\\dagger(y) \\gamma^\\mu \\gamma^0 \\gamma^5 \\Psi(y)\n",
    "$$\n",
    "\n",
    "Reencontramos la misma situación que antes, al intercambair $\\gamma^\\mu\\gamma^0 \\to \\gamma^0 \\gamma^\\mu$, la parte temporal no introduce cambio de signo $\\mu = 0$, pero si la espacial, $k = 1, 2, 3$. \n",
    "\n",
    "Así pues:\n",
    "\n",
    "$$\n",
    "\\bar{\\Psi}(x) \\gamma^\\mu \\gamma^5 \\Psi(x) = (\\bar{\\Psi}(x) \\gamma^0 \\gamma^5 \\Psi(x), \\bar{\\Psi}(x) \\gamma^k \\gamma^5 \\Psi(x)) \\to \\\\\n",
    "\\bar{\\Psi}'(x) \\gamma^\\mu \\gamma^5 \\Psi'(x) = (-\\bar{\\Psi}(y) \\gamma^0 \\gamma^5\\Psi(y), \\bar{\\Psi}(y) \\gamma^k \\gamma^5 \\Psi(y)) \\\\\n",
    "$$\n",
    "\n",
    "Cambia de signo la parte temporal pero no la espacial.\n",
    "\n",
    "Luego $\\Psi(x) \\gamma^\\mu \\gamma^5 \\Psi(x)$ se comporta como un vector axial bajo paridad.\n",
    "\n"
   ]
  },
  {
   "cell_type": "markdown",
   "metadata": {},
   "source": [
    "## Inversión de carga\n",
    "\n",
    "\n",
    "### representación espinorial\n",
    "\n",
    "La operación de inversión de carga debe cambiar las soluciones de Dirac de fermiones a anti-fermiones, $\\Psi(x) \\to \\Phi(x)$ (con la excepción de una posible fase).\n",
    "\n",
    "Para cambiar la parte espacio-temporal, la operación debe incluir el complejo conjugado.\n",
    "\n",
    "La operación de carga debe tener la expresión:\n",
    "\n",
    "$$\n",
    "\\Psi(x) \\to S(C) \\, \\Psi^*(x)\n",
    "$$\n",
    "\n",
    "Donde $S(C)$ es la matriz que representa la inversión de carga en el espacio espinorial."
   ]
  },
  {
   "cell_type": "markdown",
   "metadata": {},
   "source": [
    "Si exigimos que la ecuación de Dirac sea válida para $S \\, \\Psi^*(x)$:\n",
    "\n",
    "$$\n",
    "(i \\gamma^{\\mu} S \\partial_\\mu - m) \\,S \\, \\Psi^*(x) = 0\n",
    "$$\n",
    "\n",
    "Si multiplicamos por la izquierda por $S^{-1}$ obtenemos:\n",
    "\n",
    "$$\n",
    "(i S^{-1} \\gamma^{\\mu} S \\partial_\\mu - m)\\, \\Psi^*(x) = 0\n",
    "$$\n",
    "\n",
    "Por otro lado, si tomamos el complejo conjugado de la ecuación de Dirac inicial:\n",
    "\n",
    "$$\n",
    "(-i (\\gamma^\\mu)^* \\partial_\\mu - m) \\, \\Psi^*(x) = 0\n",
    "$$\n",
    "\n",
    "Para que ambas sean iguales debe cumplirse que:\n",
    "\n",
    "$$\n",
    "S^{-1} \\gamma^\\mu S = - (\\gamma^\\mu)^*\n",
    "$$"
   ]
  },
  {
   "cell_type": "markdown",
   "metadata": {},
   "source": [
    "En la representación de Pauli-Dirac, la única matriz $\\gamma^\\mu$ que cambia al aplicar el complejo conjugado es $(\\gamma^2)^* = - \\gamma^2$, asi pues, las condiciones anteriores se traducen en:\n",
    "\n",
    "$$\n",
    "S^{-1}\\gamma^0 S = - \\gamma^0, \\\\\n",
    "S^{-1}\\gamma^1 S = - \\gamma^1, \\\\\n",
    "S^{-1}\\gamma^2 S = \\gamma^2, \\\\\n",
    "S^{-1}\\gamma^3 S = - \\gamma^3.\n",
    "$$"
   ]
  },
  {
   "cell_type": "markdown",
   "metadata": {},
   "source": [
    "Y la matriz que las cumple es:\n",
    "\n",
    "$$\n",
    "S(C) = i \\gamma^2 \n",
    "$$\n",
    "\n",
    "Donde el factor $i$ es una convención, que permite que la matriz $S$ sea real.\n",
    "\n",
    "$$\n",
    "i \\gamma^2 = i \\begin{pmatrix} 0 &  0 &  0 &  -i \\\\\n",
    "                            0 & 0 &  i &  0 \\\\\n",
    "                            0 &  i & 0 &  0 \\\\\n",
    "                            -i &  0 &  0 & 0 \\end{pmatrix} = \n",
    "              \\begin{pmatrix} 0 &  0 &  0 &  1 \\\\\n",
    "                            0 & 0 &  -1 &  0 \\\\\n",
    "                            0 &  -1 & 0 &  0 \\\\\n",
    "                            1 &  0 &  0 & 0 \\end{pmatrix}\n",
    "$$"
   ]
  },
  {
   "cell_type": "markdown",
   "metadata": {},
   "source": [
    "*Ejercicio:* Verifica que la conjugación de carga cambia $\\Psi_i(x) \\to \\Phi_i(x)$. Usa los espinores autoestados de helicidad que se deplazan en la dirección $z$"
   ]
  },
  {
   "cell_type": "markdown",
   "metadata": {},
   "source": [
    "### Invariancia de la ec. de Dirac \n",
    "\n",
    "Para incluir la interacción del fermión con carga $q$ con un campo electromagnético $A_\\mu$ modificamos de forma mínima la ecuación de Dirac:\n",
    "\n",
    "$$\n",
    "\\left[\\gamma^\\mu (i\\partial_\\mu - q A_\\mu) - m \\right] \\, \\Psi(x) = 0\n",
    "$$\n",
    "\n",
    "Vamos a transformar las soluciones de fermiones en las de antifermiones y ver cómo queda la interacción con el campo $A_\\mu$.\n"
   ]
  },
  {
   "cell_type": "markdown",
   "metadata": {},
   "source": [
    "Si tomamos el complejo conjugado y multiplicamos por $i\\gamma^2$ por la izquierda:\n",
    "\n",
    "$$\n",
    "i\\gamma^2 \\left[-i (\\gamma^\\mu)^* \\partial_\\mu - q (\\gamma^\\mu)^* A_\\mu - m \\right] \\, \\Psi^*(x) = 0\n",
    "$$\n",
    "\n",
    "Aplicando las reglas de conmutación de las matrices $\\gamma^2 \\gamma^\\mu$ y el hecho de que bajo el conjugado solo cambia $(\\gamma^2)^* = - \\gamma^2$, obtenemos:\n",
    "\n",
    "$$\n",
    "\\left[i \\gamma^\\mu \\partial_\\mu + q \\gamma^\\mu A_\\mu -m \\right] \\, i \\gamma^2 \\Psi^*(x) = 0 \\\\\n",
    "\\left[\\gamma^\\mu (i\\partial_\\mu + q A_\\mu) - m \\right] \\, i \\gamma^2 \\Psi^*(x) = 0\n",
    "$$\n",
    "\n",
    "Luego al intercambiar las gammas en $\\gamma^2(\\gamma^\\mu)^*$, el factor que se acopla con $A_\\mu$, se produce un cambio de signo.\n",
    "\n",
    "Esto es la solución $\\Phi(x) = i \\gamma^2 \\Psi^*(x)$ tiene carga opuesta: en la ecuación de Dirac ha cambiado $-q \\to q$.\n",
    "\n",
    "$$\n",
    "\\left[i\\gamma^\\mu(i\\partial_\\mu + q A_\\mu) -m \\right] \\Phi(x) = 0\n",
    "$$\n",
    "\n"
   ]
  },
  {
   "cell_type": "markdown",
   "metadata": {},
   "source": []
  }
 ],
 "metadata": {
  "anaconda-cloud": {},
  "celltoolbar": "Slideshow",
  "kernelspec": {
   "display_name": "Python 3 (ipykernel)",
   "language": "python",
   "name": "python3"
  },
  "language_info": {
   "codemirror_mode": {
    "name": "ipython",
    "version": 3
   },
   "file_extension": ".py",
   "mimetype": "text/x-python",
   "name": "python",
   "nbconvert_exporter": "python",
   "pygments_lexer": "ipython3",
   "version": "3.9.13"
  }
 },
 "nbformat": 4,
 "nbformat_minor": 4
}
