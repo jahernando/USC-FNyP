{
 "cells": [
  {
   "cell_type": "markdown",
   "id": "193f14b7",
   "metadata": {},
   "source": [
    "### Controles"
   ]
  },
  {
   "cell_type": "code",
   "execution_count": 4,
   "id": "2f087370",
   "metadata": {},
   "outputs": [],
   "source": [
    "import numpy as np\n",
    "import scipy.constants as units"
   ]
  },
  {
   "cell_type": "code",
   "execution_count": 23,
   "id": "a6786707",
   "metadata": {},
   "outputs": [
    {
     "name": "stdout",
     "output_type": "stream",
     "text": [
      "Number of neutrinos  2.9871856287425134\n"
     ]
    }
   ],
   "source": [
    "GZ   = 2495.2\n",
    "Gmu  = 83.98  \n",
    "Ghad = 1744.4\n",
    "Gnu  = 167\n",
    "N = (GZ-Ghad-3*Gmu)/Gnu\n",
    "print(\"Number of neutrinos \", N)"
   ]
  },
  {
   "cell_type": "code",
   "execution_count": 22,
   "id": "3cded695",
   "metadata": {},
   "outputs": [
    {
     "name": "stdout",
     "output_type": "stream",
     "text": [
      "0.01838010941540403\n",
      "Error in the number of neutrinos  0.01838010941540403\n"
     ]
    }
   ],
   "source": [
    "eGZ   = 2.3\n",
    "eGmu  = 0.08\n",
    "eGhad = 2.0\n",
    "eGnu  = np.sqrt(eGZ**2 + 3*eGmu**2+eGhad**2)\n",
    "print(\"Error in the number of neutrinos \", eGnu/Gnu)"
   ]
  },
  {
   "cell_type": "code",
   "execution_count": 55,
   "id": "ea8a0fed",
   "metadata": {},
   "outputs": [
    {
     "name": "stdout",
     "output_type": "stream",
     "text": [
      "0.033656620711766595\n",
      "N0  71486.66239179226\n"
     ]
    }
   ],
   "source": [
    "Bmu = Gmu/GZ\n",
    "print(Bmu)\n",
    "T = 1e7\n",
    "L = 1e31\n",
    "N = 71.5e3\n",
    "epsilon = 0.6\n",
    "sigma = 59*1e-9*1e-24\n",
    "#sigma = N/(Bmu*L*T*epsilon*epsilon)\n",
    "N0 = sigma*L*T*Bmu*epsilon*epsilon\n",
    "print('N0 ', N0)"
   ]
  },
  {
   "cell_type": "code",
   "execution_count": 56,
   "id": "6ff47e15",
   "metadata": {},
   "outputs": [
    {
     "name": "stdout",
     "output_type": "stream",
     "text": [
      "5.901100791193671e-32\n"
     ]
    }
   ],
   "source": [
    "print(N/(L*T*Bmu*epsilon*epsilon))"
   ]
  },
  {
   "cell_type": "code",
   "execution_count": 48,
   "id": "14941fb1",
   "metadata": {},
   "outputs": [
    {
     "name": "stdout",
     "output_type": "stream",
     "text": [
      "1.485591807573232e-31\n"
     ]
    }
   ],
   "source": [
    "print(sigma)"
   ]
  },
  {
   "cell_type": "code",
   "execution_count": null,
   "id": "a85cd6eb",
   "metadata": {},
   "outputs": [],
   "source": []
  }
 ],
 "metadata": {
  "kernelspec": {
   "display_name": "Python 3 (ipykernel)",
   "language": "python",
   "name": "python3"
  },
  "language_info": {
   "codemirror_mode": {
    "name": "ipython",
    "version": 3
   },
   "file_extension": ".py",
   "mimetype": "text/x-python",
   "name": "python",
   "nbconvert_exporter": "python",
   "pygments_lexer": "ipython3",
   "version": "3.9.13"
  }
 },
 "nbformat": 4,
 "nbformat_minor": 5
}
