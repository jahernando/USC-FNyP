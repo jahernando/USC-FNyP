{
 "cells": [
  {
   "cell_type": "markdown",
   "metadata": {
    "slideshow": {
     "slide_type": "slide"
    }
   },
   "source": [
    "## Extensión: Transformaciones discretas: P, C y CP."
   ]
  },
  {
   "cell_type": "code",
   "execution_count": 1,
   "metadata": {
    "slideshow": {
     "slide_type": "fragment"
    }
   },
   "outputs": [
    {
     "name": "stdout",
     "output_type": "stream",
     "text": [
      " Last version  Wed Nov 27 12:50:27 2024\n"
     ]
    }
   ],
   "source": [
    "import time\n",
    "print(' Last version ', time.asctime() )"
   ]
  },
  {
   "cell_type": "markdown",
   "metadata": {},
   "source": [
    "## Introducción\n",
    "\n",
    "En esta extensión vamos a revisar las inversiones principales: por paridad (P), por carga (CP), y la conjunta (CP).\n",
    "\n",
    "Las interacciones electromagnéticas y fuertes preservan P, C (y CP). Mientras que las débiles violan P, C de forma máxima y CP.\n",
    "\n",
    "Veremos cómo afecta las inversiones a los espinores de Dirac, a las formas bilineales que podemos construir con ellos, a los estados de las partículas y también a las combinaciones de varias partículas.\n",
    "\n",
    "En el caso de Paridad, tiene sentido de hablar de conservación en la interacción y asociar una paridad a los hadrones, siempre que estemos trabajando con interacciones fuertes o electromagnéticas."
   ]
  },
  {
   "cell_type": "markdown",
   "metadata": {},
   "source": [
    "## Inversión bajo paridad\n",
    "\n",
    "La inversión de paridad invierte la coordenadas especiales, ${\\bf x } \\to -{\\bf x}$. Es una transformación de Lorentz porque preserva el producto escalar de cuadrivectores.\n",
    "\n",
    "La matriz de la representación, $\\Lambda(P)$ debe invertir las coordenadas espaciales, esto es:\n",
    "\n",
    "$$\n",
    "x'^\\mu = \\Lambda^{\\mu}_{\\;\\;\\nu}(P) \\, x^\\nu\n",
    "$$\n",
    "\n",
    "luego:\n",
    "\n",
    "$$\n",
    "\\Lambda(P) = \\begin{pmatrix} 1 &  0 &  0 &  0 \\\\\n",
    "                            0 & -1 &  0 &  0 \\\\\n",
    "                            0 &  0 & -1 &  0 \\\\\n",
    "                            0 &  0 &  0 & -1 \\end{pmatrix}  \n",
    "$$\n",
    "\n",
    "Es una transformación impropia dado que su determinante es -1.\n",
    "$$\n",
    "\\det(\\Lambda) = -1\n",
    "$$"
   ]
  },
  {
   "cell_type": "markdown",
   "metadata": {},
   "source": [
    "### Espinores de Dirac\n",
    "\n",
    "\n",
    "La matriz que representa en el espacio de espinores la inversión por paridad, $S(P)$, \n",
    "\n",
    "$$\n",
    "\\Psi(x) \\to \\Psi(x^0, {\\bf x}) = S(P) \\, \\Psi(x^0, -{\\bf x})\n",
    "$$\n",
    "\n",
    "debe cumplir (por las condiciones de las matrices $S$, ver extensión [ext-trans-Lorentz]):\n",
    "\n",
    "$$\n",
    "S^{-1}\\gamma^0 S = \\gamma^0,  \\\\\n",
    "S^{-1}\\gamma^1 S = -\\gamma^1, \\\\\n",
    "S^{-1}\\gamma^2 S = -\\gamma^2, \\\\\n",
    "S^{-1}\\gamma^3 S = -\\gamma^3. \\\\\n",
    "$$\n",
    "\n",
    "Esto es, si multiplicamos por $S$ a ambos lados de la igualdad por la izquierda:\n",
    "\n",
    "$$\n",
    "\\gamma^0  S = S \\gamma^0, \\;\\; \\gamma^i S = - S \\gamma^{i}\n",
    "$$\n",
    "\n",
    "La matriz que cumple esta condición es:\n",
    "\n",
    "$$\n",
    "S(P) = \\gamma^{0}\n",
    "$$\n",
    "\n",
    "La matriz $S$ podría incluir una pase compleja, pero por convención se tomó como 1."
   ]
  },
  {
   "cell_type": "markdown",
   "metadata": {},
   "source": [
    "Si aplicamos paridad sobre los espinores nos encontramos:\n",
    "\n",
    "$$\n",
    "u_s(E, {\\bf p}) \\to S(P) \\, u_s(E, -{\\bf p}) = + \\, u_s(E, {\\bf p}), \\\\\n",
    "v_s(E, {\\bf p}) \\to S(P) \\, v_s(E, -{\\bf p}) = - \\, v_s(E, {\\bf p}), \\;\\;\n",
    "$$\n",
    "\n",
    "Los espinores en reposo son autoestados de paridad, los de los fermiones, $u_s(m, {\\bf 0})$, tienen paridad positiva, mientras que los de los antifermiones $v_s(m, {\\bf 0})$, negativa."
   ]
  },
  {
   "cell_type": "markdown",
   "metadata": {},
   "source": [
    "### Formas bilineales\n",
    "\n",
    "Vamos a verificar que la paridad afecta de la siguiente forma a las formas bilineales principales:\n",
    "\n",
    "|  |  | \n",
    "| :--: | :--: |\n",
    "| $\\bar{\\Psi} \\Psi$| escalar | \n",
    "| $\\bar{\\Psi} \\gamma^5 \\Psi$|pseudo-escalar | \n",
    "| $\\bar{\\Psi} \\gamma^\\mu \\Psi$| vectorial | \n",
    "| $\\bar{\\Psi} \\gamma^\\mu \\gamma^5 \\Psi$| vector axial |\n",
    "\n",
    "A partir del hecho que:\n",
    "$$\n",
    "S^{-1} \\gamma^5 S = \\gamma^5, \\;\\; \\gamma^5 S = S \\gamma^5\n",
    "$$\n",
    "\n",
    "es sencillo comprobar que $\\bar{\\Psi}(x) \\gamma^5 \\Psi(x)$ y $\\bar{\\Psi}(x) \\gamma^\\mu \\gamma^5 \\Psi(x)$ se transforman frente a boosts y rotaciones como un escalar y un vector respectivamente.\n"
   ]
  },
  {
   "cell_type": "markdown",
   "metadata": {},
   "source": [
    "Vamos a ver como se comportan con respecto a la inversión por paridad.\n",
    "\n",
    "Recordemos que la representación espinorial de la inversión de paridad es simplemente, $S(P) = \\gamma^0$.\n",
    "\n",
    "Apliquemos inversión de paridad a $\\bar{\\Psi}(x) \\Psi(x)$:\n",
    "\n",
    "$$\n",
    "\\bar{\\Psi}(x) \\Psi(x) \\to (S \\Psi(y))^\\dagger \\gamma^0 (S \\Psi(x)) = \\\\\n",
    "\\Psi^\\dagger(y) (\\gamma^0)^\\dagger \\gamma^0 \\gamma^0 \\Psi(y) = \\Psi^\\dagger(y) \\gamma^0 \\Psi(y) = \\bar{\\Psi}(y) \\Psi(y)\n",
    "$$\n",
    "\n",
    "donde $y = \\Lambda^{-1}x$. \n",
    "\n",
    "Por lo tanto $\\bar{\\Psi}(x) \\Psi(x)$ es un escalar bajo paridad."
   ]
  },
  {
   "cell_type": "markdown",
   "metadata": {},
   "source": [
    "Apliquemos inversión de paridad ahora a $\\Psi(x) \\gamma^5 \\Psi(x)$:\n",
    "\n",
    "$$\n",
    "\\bar{\\Psi}(x) \\gamma^5 \\Psi(x) \\to (S \\Psi(y))^\\dagger \\gamma^0 \\gamma^5 (S \\Psi(y)) = \\\\\n",
    "\\Psi^\\dagger(y) (\\gamma^0)^\\dagger \\gamma^0 \\gamma^5 \\gamma^0 \\Psi(y) = \n",
    "\\Psi^\\dagger(y) \\gamma^5 \\gamma^0 \\Psi(y) = \\\\\n",
    "- \\Psi^\\dagger(y) \\gamma^0 \\gamma^5 \\Psi(y) = - \\bar{\\Psi}(y) \\gamma^5 \\Psi(y)\n",
    "$$\n",
    "\n",
    "donde $y = \\Lambda^{-1}x$. \n",
    "\n",
    "Por lo tanto $\\Psi(x) \\gamma^5 \\Psi(x)$ es un pseudo-escalar bajo paridad."
   ]
  },
  {
   "cell_type": "markdown",
   "metadata": {},
   "source": [
    "Aplicamos inversión de paridad a la corriente $\\bar{\\Psi}(x) \\gamma^\\mu \\Psi(x)$:\n",
    "\n",
    "$$\n",
    "\\bar{\\Psi}(x) \\gamma^\\mu \\Psi(x) \\to (S \\Psi(y))^\\dagger \\gamma^0 \\gamma^\\mu (S \\Psi(y)) = \\\\\n",
    "\\Psi^\\dagger(y) (\\gamma^0)^\\dagger \\gamma^0 \\gamma^\\mu \\gamma^0 \\Psi(y) = \n",
    "\\Psi^\\dagger(y) \\gamma^\\mu  \\gamma^0 \\Psi(y) \n",
    "$$\n",
    "\n",
    "donde $y= \\Lambda^{-1}x$.\n",
    "\n",
    "para $\\mu = 0$\n",
    "\n",
    "$$\n",
    "(\\Psi^\\dagger(y) \\gamma^0)  \\gamma^0 \\Psi(y)  = \\bar{\\Psi}(y) \\gamma^0 \\Psi(y)\n",
    "$$\n",
    "\n",
    "para los índices espaciales, $k = 1, 2, 3$.\n",
    "\n",
    "$$\n",
    "\\Psi^\\dagger(y) \\gamma^k  \\gamma^0 \\Psi(y)  = - (\\Psi^\\dagger(y) \\gamma^0)  \\gamma^k \\Psi(y)  = - \\bar{\\Psi}(y) \\gamma^k \\Psi(y)\n",
    "$$"
   ]
  },
  {
   "cell_type": "markdown",
   "metadata": {},
   "source": [
    "\n",
    "Luego bajo paridad:\n",
    "\n",
    "$$\n",
    "\\bar{\\Psi}(x) \\gamma^\\mu \\Psi(x) = (\\bar{\\Psi}(x) \\gamma^0 \\Psi(x), \\bar{\\Psi}(x) \\gamma^k \\Psi(x)) \\to \\\\\n",
    "\\bar{\\Psi}'(x) \\gamma^\\mu \\Psi'(x) = (\\bar{\\Psi}(y) \\gamma^0 \\Psi(y), -\\bar{\\Psi}(y) \\gamma^k \\Psi(y))\n",
    "$$\n",
    "\n",
    "La componente temporal no cambia de signo, pero si las espaciales, que es justamente la operación de paridad sobre un cuadri-vector.\n",
    "\n",
    "Luego $\\Psi(x) \\gamma^\\mu\\Psi(x)$ es un vector bajo paridad."
   ]
  },
  {
   "cell_type": "markdown",
   "metadata": {},
   "source": [
    "Aplicamos ahora inversión de paridad a $\\bar{\\Psi}(x) \\gamma^\\mu \\gamma^5 \\Psi(x)$:\n",
    "\n",
    "$$\n",
    "\\bar{\\Psi}(x) \\gamma^\\mu \\gamma^5 \\Psi(x) \\to (S \\Psi(y))^\\dagger \\gamma^0 \\gamma^\\mu \\gamma^5 (S \\Psi(y)) = \\\\ \\Psi^\\dagger(y) (\\gamma^0)^\\dagger \\gamma^0 \\gamma^\\mu \\gamma^5 \\gamma^0 \\Psi(y) = \n",
    "\\Psi^\\dagger(y) \\gamma^\\mu \\gamma^5 \\gamma^0 \\Psi(y) = - \\Psi^\\dagger(y) \\gamma^\\mu \\gamma^0 \\gamma^5 \\Psi(y)\n",
    "$$\n",
    "\n",
    "Reencontramos la misma situación que antes, al intercambair $\\gamma^\\mu\\gamma^0 \\to \\gamma^0 \\gamma^\\mu$, la parte temporal no introduce cambio de signo $\\mu = 0$, pero si la espacial, $k = 1, 2, 3$. \n",
    "\n",
    "Así pues:\n",
    "\n",
    "$$\n",
    "\\bar{\\Psi}(x) \\gamma^\\mu \\gamma^5 \\Psi(x) = (\\bar{\\Psi}(x) \\gamma^0 \\gamma^5 \\Psi(x), \\bar{\\Psi}(x) \\gamma^k \\gamma^5 \\Psi(x)) \\to \\\\\n",
    "\\bar{\\Psi}'(x) \\gamma^\\mu \\gamma^5 \\Psi'(x) = (-\\bar{\\Psi}(y) \\gamma^0 \\gamma^5\\Psi(y), \\bar{\\Psi}(y) \\gamma^k \\gamma^5 \\Psi(y)) \\\\\n",
    "$$\n",
    "\n",
    "Cambia de signo la parte temporal pero no la espcial.\n",
    "\n",
    "Luego $\\Psi(x) \\gamma^\\mu \\gamma^5 \\Psi(x)$ se comporta como un vector axial bajo paridad.\n",
    "\n"
   ]
  },
  {
   "cell_type": "markdown",
   "metadata": {},
   "source": [
    "## Inversión de carga\n",
    "\n",
    "\n",
    "### Espinores de Dirac\n",
    "\n",
    "La operación de inversión de carga debe cambiar las soluciones de Dirac de fermiones a anti-fermiones, $\\Psi(x) \\to \\Phi(x)$ (con la excepción de una posible fase).\n",
    "\n",
    "Para cambiar la parte espacio-temporal, la operación debe incluir el complejo conjugado.\n",
    "\n",
    "La operación de carga debe tener la expresión:\n",
    "\n",
    "$$\n",
    "\\Psi(x) \\to S(C) \\, \\Psi^*(x)\n",
    "$$\n",
    "\n",
    "Donde $S(C)$ es la matriz que representa la inversión de carga en el espacio espinorial."
   ]
  },
  {
   "cell_type": "markdown",
   "metadata": {},
   "source": [
    "\n",
    "Si exigimos que la ecuación de Dirac sea válida para $S \\, \\Psi^*(x)$:\n",
    "\n",
    "$$\n",
    "(i \\gamma^{\\mu} S \\partial_\\mu - m) \\,S \\, \\Psi^*(x) = 0\n",
    "$$\n",
    "\n",
    "Si multiplicamos por la izquierda por $S^{-1}$ obtenemos:\n",
    "\n",
    "$$\n",
    "(i S^{-1} \\gamma^{\\mu} S \\partial_\\mu - m)\\, \\Psi^*(x) = 0\n",
    "$$\n",
    "\n",
    "Por otro lado, si tomamos el complejo conjugado de la ecuación de Dirac inicial:\n",
    "\n",
    "$$\n",
    "(-i (\\gamma^\\mu)^* \\partial_\\mu - m) \\, \\Psi^*(x) = 0\n",
    "$$\n",
    "\n",
    "Para que ambas sean iguales debe cumplirse que:\n",
    "\n",
    "$$\n",
    "S^{-1} \\gamma^\\mu S = - (\\gamma^\\mu)^*\n",
    "$$"
   ]
  },
  {
   "cell_type": "markdown",
   "metadata": {},
   "source": [
    "En la representación de Pauli-Dirac, la única matriz $\\gamma^\\mu$ que cambia al aplicar el complejo conjugado es $(\\gamma^2)^* = - \\gamma^2$, asi pues, las condiciones anteriores se traducen en:\n",
    "\n",
    "$$\n",
    "S^{-1}\\gamma^0 S = - \\gamma^0, \\\\\n",
    "S^{-1}\\gamma^1 S = - \\gamma^1, \\\\\n",
    "S^{-1}\\gamma^2 S = \\gamma^2, \\\\\n",
    "S^{-1}\\gamma^3 S = - \\gamma^3.\n",
    "$$"
   ]
  },
  {
   "cell_type": "markdown",
   "metadata": {},
   "source": [
    "Y la matriz que las cumple es:\n",
    "\n",
    "$$\n",
    "S(C) = i \\gamma^2 \n",
    "$$\n",
    "\n",
    "Donde el factor $i$ es una convención, que permite que la matriz $S$ sea real.\n",
    "\n",
    "$$\n",
    "i \\gamma^2 = i \\begin{pmatrix} 0 &  0 &  0 &  -i \\\\\n",
    "                            0 & 0 &  i &  0 \\\\\n",
    "                            0 &  i & 0 &  0 \\\\\n",
    "                            -i &  0 &  0 & 0 \\end{pmatrix} = \n",
    "              \\begin{pmatrix} 0 &  0 &  0 &  1 \\\\\n",
    "                            0 & 0 &  -1 &  0 \\\\\n",
    "                            0 &  -1 & 0 &  0 \\\\\n",
    "                            1 &  0 &  0 & 0 \\end{pmatrix}\n",
    "$$"
   ]
  },
  {
   "cell_type": "markdown",
   "metadata": {},
   "source": [
    "*Ejercicio:* Verifica que la conjugación de carga cambia $\\Psi_i(x) \\to \\Phi_i(x)$. Usa los espinores autoestados de helicidad que se deplazan en la dirección $z$"
   ]
  },
  {
   "cell_type": "markdown",
   "metadata": {},
   "source": [
    "### Ecuación de Dirac \n",
    "\n",
    "Para incluir la interacción del fermión con carga $q$ con un campo electromagnético $A_\\mu$ modificamos de forma mínima la ecuación de Dirac:\n",
    "\n",
    "$$\n",
    "\\left[\\gamma^\\mu (i\\partial_\\mu - q A_\\mu) - m \\right] \\, \\Psi(x) = 0\n",
    "$$\n",
    "\n",
    "Vamos a transformar las soluciones de fermiones en las de antifermiones y ver cómo queda la interacción con el campo $A_\\mu$.\n"
   ]
  },
  {
   "cell_type": "markdown",
   "metadata": {},
   "source": [
    "Si tomamos el complejo conjugado y multiplicamos por $i\\gamma^2$ por la izquierda:\n",
    "\n",
    "$$\n",
    "i\\gamma^2 \\left[-i (\\gamma^\\mu)^* \\partial_\\mu - q (\\gamma^\\mu)^* A_\\mu - m \\right] \\, \\Psi^*(x) = 0\n",
    "$$\n",
    "\n",
    "Aplicando las reglas de conmutación de las matrices $\\gamma^2 \\gamma^\\mu$ y el hecho de que bajo el conjugado solo cambia $(\\gamma^2)^* = - \\gamma^2$, obtenemos:\n",
    "\n",
    "$$\n",
    "\\left[i \\gamma^\\mu \\partial_\\mu + q \\gamma^\\mu A_\\mu -m \\right] \\, i \\gamma^2 \\Psi^*(x) = 0 \\\\\n",
    "\\left[\\gamma^\\mu (i\\partial_\\mu + q A_\\mu) - m \\right] \\, i \\gamma^2 \\Psi^*(x) = 0\n",
    "$$\n",
    "\n",
    "Luego al intercambiar las gammas en $\\gamma^2(\\gamma^\\mu)^*$, el factor que se acopla con $A_\\mu$, se produce un cambio de signo.\n",
    "\n",
    "Esto es la solución $\\Phi(x) = i \\gamma^2 \\Psi^*(x)$ tiene carga opuesta: en la ecuación de Dirac ha cambiado $-q \\to q$.\n",
    "\n",
    "$$\n",
    "\\left[i\\gamma^\\mu(i\\partial_\\mu + q A_\\mu) -m \\right] \\Phi(x) = 0\n",
    "$$\n",
    "\n"
   ]
  },
  {
   "cell_type": "markdown",
   "metadata": {},
   "source": [
    "## Inversión conjunta de carga y paridad"
   ]
  }
 ],
 "metadata": {
  "anaconda-cloud": {},
  "celltoolbar": "Slideshow",
  "kernelspec": {
   "display_name": "Python 3",
   "language": "python",
   "name": "python3"
  },
  "language_info": {
   "codemirror_mode": {
    "name": "ipython",
    "version": 3
   },
   "file_extension": ".py",
   "mimetype": "text/x-python",
   "name": "python",
   "nbconvert_exporter": "python",
   "pygments_lexer": "ipython3",
   "version": "3.9.13"
  }
 },
 "nbformat": 4,
 "nbformat_minor": 4
}
