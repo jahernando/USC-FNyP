{
 "cells": [
  {
   "cell_type": "markdown",
   "metadata": {
    "slideshow": {
     "slide_type": "slide"
    }
   },
   "source": [
    "## Extensión: grupos"
   ]
  },
  {
   "cell_type": "code",
   "execution_count": 1,
   "metadata": {
    "slideshow": {
     "slide_type": "fragment"
    }
   },
   "outputs": [
    {
     "name": "stdout",
     "output_type": "stream",
     "text": [
      " Last version  Sat Nov 23 21:01:28 2024\n"
     ]
    }
   ],
   "source": [
    "import time\n",
    "print(' Last version ', time.asctime() )"
   ]
  },
  {
   "cell_type": "code",
   "execution_count": 2,
   "metadata": {},
   "outputs": [],
   "source": [
    "# general imports\n",
    "%matplotlib inline\n",
    "%reload_ext autoreload\n",
    "%autoreload 2\n",
    "\n",
    "# numpy and matplotlib\n",
    "import numpy as np\n",
    "import matplotlib\n",
    "import matplotlib.pyplot as plt"
   ]
  },
  {
   "cell_type": "markdown",
   "metadata": {
    "slideshow": {
     "slide_type": "slide"
    }
   },
   "source": [
    "# Objeticos\n",
    "\n",
    " * Definición de grupo, representaciones y representaciones irreducibles\n",
    "\n",
    " * Grupo U(1) y O(2)\n",
    "\n",
    " * Grupo SU(2) y O(3), ejemplos de isoespín, representaciones y relación con las rotaciones espaciales.\n",
    "\n",
    " * Grupo SU(3), ejemplos isoespín y color, hypercarga."
   ]
  },
  {
   "cell_type": "markdown",
   "metadata": {
    "slideshow": {
     "slide_type": "slide"
    }
   },
   "source": [
    "## sobre los grupos\n",
    "\n",
    "Los grupos de simetría son una de las herramientas matemáticas principales de la Física de Partículas:\n",
    "\n",
    "  * están relacionadas con las **cantidades conservada**s, las cargas, que definen la partícula.\n",
    " \n",
    "  * sirven para **representar los estados de las partículas**. Asignamos dichos estados con los elementos de la base de las representaciones irreducibles de los grupos.\n",
    "\n",
    "Vamos a recordar el concepto de grupo, de representación, y después revisaremos los grupos principales en Partículas"
   ]
  },
  {
   "cell_type": "markdown",
   "metadata": {
    "slideshow": {
     "slide_type": "slide"
    }
   },
   "source": [
    "Los grupos más comunes en física de partículas son:\n",
    "\n",
    " * El **grupo de Lorentz-Poincaré**, asociado a las rotaciones, traslaciones y cambios de sistemas de referencia inerciales en el espacio-tiempo.\n",
    "   \n",
    "     Las representaciones más comunes que encontramos son: **escalar, vectorial, espinorial**\n",
    "     \n",
    "     \n",
    " * Los **grupos unitarios** (cuya representación son matrices unitarias) de dimensiones pequeñas:\n",
    "   \n",
    "   * **U(1)** rotación de una fase de un número complejo, que asociamos con la conservación de la carga eléctrica. \n",
    "      \n",
    "   * **SU(2)** matrices unitarias de dimensión 2 con determinante positivo, que asociamos al espín, y a otras contidades físicas como el iso-espín débil. Su base fundamental es un duplete con posiciones arriba y abajo.\n",
    "      \n",
    "   * **SU(3)** matrices unitarias de dimensión 3 con determinante positivo, que asociamos al color. Su base fundamental es un triplete, que asociamos en el caso del color con los tres colores: rojo, verde y azul."
   ]
  },
  {
   "cell_type": "markdown",
   "metadata": {},
   "source": [
    "### Definión de grupo\n",
    "\n",
    "Un grupo es una colección de elementos ${g_i}$, finito o infinito entre los que hay definida una operación, la multiplicación ($\\cdot$), y que cumplen las siguientre propiedades:\n",
    "\n",
    "   * completitud: $g_i \\cdot g_j = g_k$ (la multiplicación de dos elementos del grupo da otro elemento del grupo)\n",
    "   \n",
    "   * asociación: $g_i \\cdot (g_j \\cdot g_k) = (g_i \\cdot g_j) \\cdot g_k$\n",
    "   \n",
    "   * existencia de la identidad, $1$: $ g_i \\cdot 1 = 1 \\cdot g_i = g_i$\n",
    "   \n",
    "   * existencia de la inversa, $g_i \\cdot g^{-1}_i = 1$ para todo $g_i$ del grupo.\n",
    "   \n",
    "Decimos que el grupo es abeliano si es conmutativo: $g_i \\cdot g_j = g_j \\cdot g_i$, si no, es no-abeliano\n"
   ]
  },
  {
   "cell_type": "markdown",
   "metadata": {
    "slideshow": {
     "slide_type": "slide"
    }
   },
   "source": [
    "\n",
    "#### Clasificación de grupos\n",
    "\n",
    "Los grupos principales son:\n",
    "\n",
    "* espacio-temporales, lo que incluye el grupo de Lorentz\n",
    "\n",
    "* simetrías internas es una espacio interno, llamado *isotópico*, que pueden ser globales o locales (esto es que depende del punto espacio-temporal).\n",
    "\n",
    "Tambien se pueden clasificar los grupos en:\n",
    "\n",
    "* continuos, si el grupo depende de un parámetro $\\theta$ continuo, que puede ser compacto o no dependiendo si el intervalo del valor que toma $\\theta$ es abierto o cerrado. Por ejemplo el grupo de Lorentz que depende del parámetro $\\beta = v/c$ no es compacto porque no puede tomar el valor $\\beta = 1$.\n",
    "\n",
    "* discretos, donde hay un grupo finito de elementos. Por ejemplo la inversión por paridad forma un grupo discreto de un elemento.\n",
    "\n",
    "En Física de Partículas juegan un papel fundamental los **grupos de Lie** que son aquellos cuya elementos se relacionan de forma continua y diferenciable con respecto a un conjunto de parámetros $\\theta$.\n"
   ]
  },
  {
   "cell_type": "markdown",
   "metadata": {
    "slideshow": {
     "slide_type": "slide"
    }
   },
   "source": [
    "### Representaciones\n",
    "\n",
    "Llamamos **representación $D(g)$** lineal al conjunto de matrices asociadas con los elementos $g$ de un grupo $G$ que cumplen **las mismas reglas de multiplicación** que los elementos de $G$.\n",
    "\n",
    "Esto es:\n",
    "\n",
    "$$\n",
    " g_i \\cdot g_j = g_k \\; \\Rightarrow D(g_i) \\, \\cdot D(g_j) = D(g_k)\n",
    "$$\n",
    "\n",
    "La **dimensión de la representación**, $n$, es la dimensión de las matrices.\n",
    "\n",
    "Los vectores de dimensión $n$ sobre los que actuan las matrices forman la **base de la representación**.\n",
    "\n",
    "Llamamos **representación fundamental** aquella representación del grupo con la dimensión menor. "
   ]
  },
  {
   "cell_type": "markdown",
   "metadata": {
    "slideshow": {
     "slide_type": "slide"
    }
   },
   "source": [
    "#### representación irreducible\n",
    "\n",
    "Decimos que una representación $D(g)$ de un grupo $G$ es reducible si puede descomponerse en representaciones más pequeñas.\n",
    "\n",
    "Sea la representación $D(g)$ de matrices de dimensión $n\\times n$ de un grupo, la representación es redudible si la matrix $D(g)$ se pueden descomponer en diagonal con matrices de menor dimensión, $D_1(g), D_2(g)$, de la forma:\n",
    "\n",
    "$$\n",
    "D(g) = \\begin{pmatrix} D_1(g) & 0 \\\\ 0 & D_2(g) \\end{pmatrix}\n",
    "$$\n",
    "\n",
    "También podemos decir que la base de la representación $D(g)$ se puede descomponer en varias bases, de tal forma que los elementos de cada sub-base forma su propio grupo. Los elementos de la base $D_1(g)$ no se mezclan con los elementos de la base de $D_2(g)$.\n",
    "\n",
    "Como dijimos antes los estados de las partículas se representan en las bases de la representación irreducible."
   ]
  },
  {
   "cell_type": "markdown",
   "metadata": {
    "slideshow": {
     "slide_type": "subslide"
    }
   },
   "source": [
    "**Ejemplo: espín**\n",
    "\n",
    "\n",
    "El ejemplo conocido, y que veremos luego, es la combinación de espíns 1/2:\n",
    "\n",
    "El duplete:\n",
    "$$\n",
    "\\uparrow = \\begin{pmatrix} 1 \\\\ 0 \\end{pmatrix}, \\;\\; \\downarrow = \\begin{pmatrix} 0 \\\\ 1 \\end{pmatrix}.\n",
    "$$\n",
    "es la base de la representación fundamental de $SU(2)$ que tiene $2$ elementos.\n",
    "\n",
    "Asociamos los elementos de la base a los estados de espín $|j, m\\rangle$, donde $j=1/2, m = \\pm 1/2$."
   ]
  },
  {
   "cell_type": "markdown",
   "metadata": {},
   "source": [
    "El producto de dos dupletes, que se denota por ${\\bf 2} \\otimes {\\bf 2}$, es: $\\uparrow\\uparrow, \\uparrow\\downarrow,\n",
    "\\downarrow\\uparrow, \\downarrow\\downarrow$.\n",
    "\n",
    "La representación del la composición ${\\bf 2} \\otimes {\\bf 2}$ tienen dimensión 4, cuya representación irreducible está formada por un triplete y un singlete, que se denota como ${\\bf 3} \\oplus {\\bf 1}$.\n",
    "\n",
    "El triplete es:\n",
    "$$\n",
    "|1, 1 \\rangle = \\; \\uparrow\\uparrow, \\;\\;\\;\n",
    "|1, 0 \\rangle = \\frac{1}{\\sqrt{2}} (\\uparrow\\downarrow + \\downarrow\\uparrow),  \\;\\;\\; |1, -1 \\rangle, = \\; \\downarrow\\downarrow, \n",
    "$$\n",
    "y el singlete:\n",
    "$$\n",
    "|0, 0 \\rangle = \\frac{1}{\\sqrt{2}}(\\uparrow\\downarrow - \\downarrow\\uparrow)\n",
    "$$\n",
    "\n",
    "Que asociamos con los estados, $|j, m\\rangle$, donde $j$ es el espín total $j = |j_1-j_2| \\le j \\le j_1 + j_2$ y $m = -j, \\dots, j$, su tercera componente de espín.\n",
    "\n",
    "Veremos abajo cómo se contruye esta representación irredudible."
   ]
  },
  {
   "cell_type": "markdown",
   "metadata": {
    "slideshow": {
     "slide_type": "slide"
    }
   },
   "source": [
    "## El grupo U(1)\n",
    "\n",
    "Consideremos un número complejo, $x$, relacionado con otro número complejo, $x'$, simplemente por una fase $x' = e^{i\\theta} x$, ambos números complejos tiene la misma norma, $|x'| = |x|$. \n",
    "\n",
    "También podemos pensar en una función de onda $\\psi(x)$ relacionada con otra función de onda $\\psi'(x)$ mediante una fase complaje, $\\Psi'(x) = e^{i\\theta} \\psi(x)$. La Física depende solo de la norma de la función de ondas, y en este caso las dos son iguales $|\\phi'(x)| = |\\psi(x)|$.\n",
    "\n",
    "En ambos casos hay una simetría, una rotación en el espacio complejo, $D(\\theta) = e^{i \\theta} $:\n",
    "\n",
    "$$\n",
    "x' = D(\\theta) \\, x = \\, e ^{i\\theta} \\, x\n",
    "$$\n",
    "\n",
    "deja invariante la norma.\n",
    "\n",
    "El grupo de las rotaciones, $D(\\theta)$, en el espacio complejo se denomina **grupo unitario** U(1)."
   ]
  },
  {
   "cell_type": "markdown",
   "metadata": {},
   "source": [
    "La multiplicación de los elementos del grupo es:\n",
    "\n",
    "$$\n",
    "D(\\theta_1) \\cdot D(\\theta_2) = D(\\theta_1 + \\theta_2), \\;\\;\\; D(\\theta + 2 \\pi) = D(\\theta)\n",
    "$$\n",
    "\n",
    "Nos dice que es un grupo abeliano. No importa el orden en que se realizan dos rotaciones. Esto es el orden de multiplicación.\n",
    "\n",
    "La inversa es simplemente:\n",
    "\n",
    "$$\n",
    "D(\\theta) = e^{i\\theta}, \\;\\;\\; D^{-1}(\\theta) = D(-\\theta) = e^{-i\\theta}\n",
    "$$\n",
    "\n",
    "Vemos pues que la representación fundamental tiene dimensión 1."
   ]
  },
  {
   "cell_type": "markdown",
   "metadata": {
    "slideshow": {
     "slide_type": "slide"
    }
   },
   "source": [
    "### Relación con SO(2)\n",
    "\n",
    "El grupo SO(2) está formado por la matrices propias de las rotaciones en dos dimensiones, $R(\\theta)$.\n",
    "Las matrices propias tiene el determinante positivo, $\\mathrm{det}(R(\\theta)) > 0$\n",
    "\n",
    "Vamos a ver cómo el grupo U(1) está relacionado con el grupo SO(2).\n",
    "\n",
    "Sea $(x, y)$ un punto del espacio bi-dimensional, el efecto de una rotación es:\n",
    "\n",
    "$$\n",
    "\\begin{pmatrix} x' \\\\ y'\\end{pmatrix} =\n",
    "\\begin{pmatrix} \\cos \\theta & \\sin \\theta \\\\ - \\sin \\theta & \\cos \\theta \\end{pmatrix} \\, \n",
    "\\begin{pmatrix} x \\\\ y \\end{pmatrix}\n",
    "$$\n",
    "\n",
    "Donde \n",
    "$$\n",
    "R(\\theta) = \\begin{pmatrix} \\cos \\theta & \\sin \\theta \\\\ - \\sin \\theta & \\cos \\theta \\end{pmatrix}, \\;\\;\\; \n",
    "\\mathrm{det}(D(\\theta)) = 1\n",
    "$$\n",
    "\n",
    "El grupo SO(2) es continuo y compacto, con $\\theta \\in [0, 2 \\pi]$.\n",
    "\n",
    "Las rotaciones preservan el modulo del vector:\n",
    "\n",
    "$$\n",
    "x'^2 + y'^2 = x^2 + y^2\n",
    "$$\n",
    "\n",
    "esto es, existe simetría rotacional y se preserva la norma del vector."
   ]
  },
  {
   "cell_type": "markdown",
   "metadata": {
    "slideshow": {
     "slide_type": "slide"
    }
   },
   "source": [
    "Las reglas de multiplicación de las matrices $R(\\theta)$ son:\n",
    "\n",
    "$$\n",
    "R(\\theta_1) \\cdot R(\\theta_2) = R(\\theta_1 + \\theta_2), \\;\\;\\; R(\\theta + 2 \\pi) = R(\\theta)\n",
    "$$\n",
    "\n",
    "Si hacemos una rotación de $\\theta_2$ después de hacer una rotación previa de $\\theta_1$ es equivalente a rotar desde el principio con $\\theta_1+\\theta_2$\n",
    " \n",
    "Se trata de un grupo abeliano, $D(\\theta_1) \\cdot D(\\theta_2) = D(\\theta_2) \\cdot D(\\theta_1)$\n",
    "\n",
    "La inversa de una rotación con $\\theta$ es simplemente rotar con $-\\theta$:\n",
    "$$\n",
    "R^{-1}(\\theta) = R(-\\theta)\n",
    "$$\n",
    "\n",
    "En la representación matricial $2\\times2$, la inversa es la transpuesta:\n",
    "\n",
    "$$\n",
    "R(\\theta)  = \\begin{pmatrix} \\cos \\theta & \\sin \\theta \\\\ - \\sin \\theta & \\cos \\theta \\end{pmatrix}, \\;\\;\\;\n",
    "R^{-1}(\\theta)  = R(-\\theta) = R^T(\\theta) = \\begin{pmatrix} \\cos \\theta & -\\sin \\theta \\\\  \\sin \\theta & \\cos \\theta \\end{pmatrix}\n",
    "$$"
   ]
  },
  {
   "cell_type": "markdown",
   "metadata": {
    "slideshow": {
     "slide_type": "slide"
    }
   },
   "source": [
    "### Generadores\n",
    "\n",
    "Podemos definir las rotaciones usdando la notación de la exponencial y su desarrollo de Taylor:\n",
    "\n",
    "$$\n",
    "R(\\theta) = e ^{i \\theta T} = \\sum_n \\frac{(i\\theta T)^n}{n!} = 1 + i \\theta T - \\frac{\\theta^2}{2} T^2 + \\dots  = \n",
    "I \\cos \\theta + T \\sin \\theta = \n",
    "\\begin{pmatrix} \\cos \\theta & \\sin \\theta \\\\ - \\sin \\theta & \\cos \\theta \\end{pmatrix},\n",
    "$$\n",
    "\n",
    "si  definimos:\n",
    "\n",
    "$$\n",
    "T = -i \\begin{pmatrix} 0 & 1 \\\\ -1 & 0 \\end{pmatrix}\n",
    "$$\n",
    "\n",
    "$T$ es el **generador** de la rotación infinitesimal $\\delta \\theta$ del grupo SO(2):\n",
    "\n",
    "$$\n",
    "U(\\delta \\theta) \\simeq 1 + i T \\, \\delta \\theta\n",
    "$$\n",
    "\n",
    "Recordar que el generador es hermítico: $T^\\dagger = T^T = T$"
   ]
  },
  {
   "cell_type": "markdown",
   "metadata": {
    "slideshow": {
     "slide_type": "slide"
    }
   },
   "source": [
    "Las reglas de multiplicación del grupo $SO(2)$ y $U(1)$ son las mismas:\n",
    "\n",
    "$$\n",
    "D(\\theta_1) \\cdot D(\\theta_2) = D(\\theta_1 + \\theta_2), \\;\\;\\; D(\\theta + 2 \\pi) = D(\\theta)\n",
    "$$\n",
    "\n",
    "Decimos que dos grupos son **isomorfos** si comparten las mismas reglas de multiplicación.\n",
    "\n",
    "En este caso SO(2) y U(1) son isomorfos.\n",
    "\n",
    "$$\n",
    "SO(2) \\sim U(1)\n",
    "$$\n",
    "\n",
    "La base de uno y otro se relacionan por:\n",
    "\n",
    "$$\n",
    "|a| e^{i\\phi} \\leftrightarrow (x, y) = (|a| \\cos \\theta, |a| \\sin \\theta)\n",
    "$$\n",
    "\n",
    "Notar que el generador de U(1) es simplemente 1."
   ]
  },
  {
   "cell_type": "markdown",
   "metadata": {},
   "source": [
    "## El grupo SU(2)\n",
    "\n",
    "Consideremos el caso de un grupo con los dos quarks ligeros $u$ y $d$, con masas muy similares, podemos distinguirlos por sus cargas eléctricas, pero desde el punto de vista de la interacción fuerte son iguales.\n",
    "Podemos situarlos como los elementos de un duplete de *isoespín*, y la fuerza fuerte debe ser invariante bajo rotación dentro de ese espacio interno\n",
    "$$\n",
    "u \\equiv \\begin{pmatrix} 1 \\\\ 0 \\end{pmatrix}, \\;\\;\\; d \\equiv \\begin{pmatrix} 0 \\\\ 1 \\end{pmatrix} \n",
    "$$\n",
    "\n",
    "La rotación unitaria, $U(\\theta)$, de $u, d$ a $u', d'$ \n",
    "$$\n",
    "\\begin{pmatrix} u' \\\\ d' \\end{pmatrix} = U(\\theta) \\begin{pmatrix} u \\\\ d \\end{pmatrix}\n",
    "$$\n",
    "no debe afectar a las interacciones fuertes.\n",
    "\n",
    "El conjunto de matrices unitarias que nos cambiarían el par $u, d$ forman un grupo."
   ]
  },
  {
   "cell_type": "markdown",
   "metadata": {
    "slideshow": {
     "slide_type": "slide"
    }
   },
   "source": [
    "Llamamos **SU(2)** es el grupo que forman las **matrices complejas unitarias $2 \\times 2$ con determinante unidad**.\n",
    "\n",
    "$$\n",
    "U^\\dagger U = I, \\;\\; \\mathrm{det}(U) = 1\n",
    "$$\n",
    "\n",
    "Las matrices de SU(2) se definen con 3 parámetros, o ángulos: $\\theta_i, \\, i = 1, 2, 3$.\n",
    "\n",
    "Notar que hay 8 parámetros reales en $U$, la condición de unitariedad impone 4 ligaduras, y la del determinante una más. \n",
    "\n",
    "Las matrices pueden construirse a partir de los ángulos $\\theta_i$ y 3 **generadores** $T_i$, con $i=1, 2, 3$:\n",
    "\n",
    "$$\n",
    "U({\\bf \\theta}) = e^{i \\vec{\\theta }\\cdot {\\bf T}} = e^{i \\sum_i \\theta_i T^i}\n",
    "$$\n",
    "\n",
    "recordemos que los generadores son hermíticos."
   ]
  },
  {
   "cell_type": "markdown",
   "metadata": {
    "slideshow": {
     "slide_type": "slide"
    }
   },
   "source": [
    "Los generadores de $SU(2)$ son las matrices de Pauli:\n",
    "\n",
    "$$\n",
    "T^i = \\frac{1}{2} \\sigma^i\n",
    "$$\n",
    "\n",
    "$$\n",
    "\\sigma^1 = \\begin{pmatrix} 0 & 1 \\\\ 1 & 0 \\end{pmatrix}, \\;\\;\n",
    "\\sigma^2 = \\begin{pmatrix} 0 & -i \\\\ i & 0 \\end{pmatrix}, \\;\\;\n",
    "\\sigma^3 = \\begin{pmatrix} 1 & 0 \\\\ 0 & -1\\end{pmatrix}.\n",
    "$$\n",
    "\n",
    "que cumplen la siguientes relaciones:\n",
    "\n",
    "$$\n",
    "[T^1, T^2] = i T^3, \\;\\; [T^2, T^3] = i T^1, \\;\\; [T^3, T^1] = i T^2,\n",
    "$$"
   ]
  },
  {
   "cell_type": "markdown",
   "metadata": {
    "slideshow": {
     "slide_type": "slide"
    }
   },
   "source": [
    "\n",
    "esto es:\n",
    "$$\n",
    "[T^i, T^j] = i \\epsilon_{ijk} T^k,\n",
    "$$\n",
    "donde $\\epsilon_{ijk}$ es el tensor de Levi-Civita de 3 dimensiones.\n",
    "\n",
    "La relación anterior es la **algebra de Lie** de grupo. Todos los grupos que tengan esta álgebra son isomorfos.\n",
    "\n",
    "Reconocemos en ellas las reglas de conmutación del momento angular y del espín ${\\bf S}$:\n",
    "\n",
    "$$\n",
    "[S^i, S^j] = i \\epsilon_{ijk} S^k\n",
    "$$\n"
   ]
  },
  {
   "cell_type": "markdown",
   "metadata": {
    "slideshow": {
     "slide_type": "slide"
    }
   },
   "source": [
    "Por similitud con el espín, sabemos que existen dos operadores que conmutan, ${\\bf T}^2$, que llamaremos **isoespín** para distinguirlo del espín, y la tercera componente de isospin, $T_3$:\n",
    "\n",
    "$$\n",
    "{\\bf T}^2 = (T^1)^2 + (T^2)^2 + (T^3)^2, \\;\\; T_3; \\;\\; [{\\bf T}^2, T_3] = 0\n",
    "$$\n",
    "\n",
    "Sabemos igualmente que podemos dar los estados con los autovalores del ${\\bf T}^2, T_3$, $|I, I_3 \\rangle$.\n",
    "\n",
    "$$\n",
    "{\\bf T}^2 \\, |I, I_3 \\rangle = I (I+1) \\, | I, I_3 \\rangle, \\\\ T_3 \\, |I, I_3 \\rangle = I_3 \\, |I, I_3 \\rangle.\n",
    "$$\n",
    "\n",
    "La base de la representación fundamental de SU(2) será, por similitud con el espín, $|1/2, \\pm 1/2 \\rangle$:\n",
    "\n",
    "$$\n",
    "u \\equiv \\begin{pmatrix} 1 \\\\ 0 \\end{pmatrix} = |1/2, 1/2 \\rangle = \\uparrow, \\;\\; \n",
    "d \\equiv \\begin{pmatrix} 0 \\\\ 1 \\end{pmatrix} = |1/2, -1/2 \\rangle = \\downarrow.\n",
    "$$"
   ]
  },
  {
   "cell_type": "markdown",
   "metadata": {
    "slideshow": {
     "slide_type": "slide"
    }
   },
   "source": [
    "### representaciones \n",
    "\n",
    "Podemos construir representaciones de SU(2) de mayor dimensión a partir del producto (o combinación) de los estados de la base de la representación fundamental: $\\uparrow$ y $\\downarrow$.\n",
    "\n",
    "El producto de dos dupletes, ${\\bf 2} \\otimes {\\bf 2}$, es:\n",
    "$$\n",
    "\\uparrow \\uparrow, \\;\\; \\uparrow \\downarrow, \\;\\; \n",
    "\\downarrow \\uparrow, \\;\\; \\downarrow, \\downarrow\n",
    "$$\n",
    "tiene dimensión 4. Su representación irreducible es un triplete y un singlete: $\\bf{3} \\oplus {\\bf 1}$\n",
    "\n",
    "Para construirla utilizamos los operadores escalera:\n",
    "$$\n",
    "T^\\pm \\equiv T^1 \\pm i T^2 \n",
    "$$\n",
    "\n",
    "que en la representación fundamental son simplemente:\n",
    "$$\n",
    "T^+ = \\sigma^+ = \\begin{pmatrix} 0 & 1 \\\\ 0 & 0 \\end{pmatrix}, \\;\\;\\;\n",
    "T^- = \\sigma^- = \\begin{pmatrix} 0 & 0 \\\\ 1 & 0 \\end{pmatrix}.\n",
    "$$\n"
   ]
  },
  {
   "cell_type": "markdown",
   "metadata": {
    "slideshow": {
     "slide_type": "slide"
    }
   },
   "source": [
    "Aplicando los operadores escalera obtenemos los estados del triplete, $\\bf 3$, $I = 1$:\n",
    "\n",
    "$$\n",
    "|1, 1 \\rangle = \\uparrow \\uparrow\\\\\n",
    "|1, 0 \\rangle \\propto T_- \\, \\uparrow\\uparrow = (T_-\\uparrow)\\uparrow + \\uparrow (T_- \\uparrow), \\\\\n",
    "|1, -1 \\rangle \\propto T_- \\left(\\uparrow\\downarrow + \\downarrow\\uparrow \\right) = 2 \\downarrow \\downarrow\n",
    "$$\n",
    "\n",
    "Que si normalizamos:\n",
    "$$\n",
    "|1, 1 \\rangle =  \\uparrow\\uparrow, \\;\\; \n",
    "|1, 0 \\rangle = \\frac{1}{\\sqrt{2}} (\\uparrow\\downarrow + \\downarrow\\uparrow), \\;\\;\n",
    "|1, -1 \\rangle = \\downarrow\\downarrow.\n",
    "$$\n",
    "\n",
    "y finalmente, el miembro del singlete, $\\bf 0$, $I= 0$ es el ortogonal a $|1, 0 \\rangle$:\n",
    "\n",
    "$$\n",
    "|0, 0 \\rangle = \\frac{1}{\\sqrt{2}}(\\uparrow\\downarrow - \\downarrow\\uparrow)\n",
    "$$\n",
    "\n",
    "Los miembros del triplete son simétricos bajo el intercambio $\\uparrow \\leftrightarrow \\downarrow$ y el singlete anti-simétrico."
   ]
  },
  {
   "cell_type": "markdown",
   "metadata": {
    "slideshow": {
     "slide_type": "slide"
    }
   },
   "source": [
    "### reglas de combinación de espinores:\n",
    "\n",
    "\n",
    "Para construir las representaciones de SU(2) de mayor dimensión recurrimos a las reglas que conocemos del espín. O a partir de primeros principios con los operadores escalera.\n",
    "\n",
    "Recordemos que los operadores escalera actuan sobre la base $|I, I_3 \\rangle$ de la siguiente forma:\n",
    "\n",
    "$$\n",
    "T_+ \\, |I, I_3 \\rangle = \\sqrt{I (I+1) - I_3 (I_3+1)} \\, |I, I_3 \\rangle, \\\\\n",
    "T_- \\, |I, I_3 \\rangle = \\sqrt{I (I+1) - I_3 (I_3-1)} \\; |I, I_3 \\rangle. \\\\\n",
    "$$\n",
    "\n",
    "suben arriba y abajo en los elementos de la base."
   ]
  },
  {
   "cell_type": "markdown",
   "metadata": {},
   "source": [
    "Una representación irreducible tiene como base $|I, I_3 \\rangle$ donde $I$ puede tomar los valores:\n",
    "\n",
    " *  $I = 0, \\frac{1}{2}, 1, \\frac{3}{2}, \\dots$, \n",
    " \n",
    " *  $I_3 = -I, \\dots, I$, con incrementos de 1. \n",
    "\n",
    "La dimesión de la representación irreducible es $2I + 1$.\n",
    "\n",
    "La representación irreducible de la combinación de dos representaciones de menor dimension, cuyas bases son, $|I^1, I^1_3 \\rangle, \\; | I^2, I^2_3 \\rangle$, tendrá una dimensión $(2I^1+1) (2I^2+1)$, y se compondrá de varios multipletes $| I, I_3 \\rangle$, con valores de $I, I_3$ que vienen dados por:\n",
    "\n",
    "   * $I = |I^1 - I^2|, \\dots, I^1 + I^2$, en incrementos de 1.\n",
    "   \n",
    "   * $I_3 = -I , \\dots, I $, en incrementos de 1.\n",
    "      \n",
    "Los elementos de la base $|I, I_3 \\rangle$ se relacionan con los iniciales $|I^1, I^1_3\\rangle |I^2, I^2_3 \\rangle$ mediante los coeficientes de [Clebsch-Gordan](https://pdg.lbl.gov/2018/reviews/rpp2018-rev-clebsch-gordan-coefs.pdf)."
   ]
  },
  {
   "cell_type": "markdown",
   "metadata": {
    "slideshow": {
     "slide_type": "slide"
    }
   },
   "source": [
    "### Relación con el grupo SO(3)\n",
    "\n",
    "Llamamos SO(3) al grupo de las rotaciones en el espacio vectorial de tres dimensiones, cuya matriz de rotación tiene determinate positivo.\n",
    "\n",
    "$$\n",
    "x' = R({\\bf \\theta}) \\, x, \\;\\;\\; \\mathrm{det}(R(\\theta)) = 1\n",
    "$$\n",
    "\n",
    "$R(\\theta)$ una matriz real $3 \\times 3$, y $x = (x, y, z)$ un vector tridimensional.\n",
    "\n",
    "Las rotaciones nos dejan invariante la norma del vector $(x, y, z)$.\n",
    "\n",
    "Las matrices, $R(\\theta)$, quedan definidas con tres ángulos, $\\theta_i$, con $i=1, 2, 3$, "
   ]
  },
  {
   "cell_type": "markdown",
   "metadata": {
    "slideshow": {
     "slide_type": "slide"
    }
   },
   "source": [
    "La matrix $R(\\theta)$ puede obtenerse a partir de los 3 generadores $T^i$ del grupo:\n",
    "\n",
    "$$\n",
    "U(\\theta) = e^{i \\vec{\\theta} \\cdot T} = e^{i \\sum_{i=1}^3 \\theta_i T^i}\n",
    "$$\n",
    "\n",
    "Notar que $\\vec{\\theta} \\cdot T$ es el producto de los tres angulos $\\theta_i$ con tres generadores $T^i$, con $i=1, 2, 3$\n",
    "\n",
    "    \n",
    "$$\n",
    "T^1 = -i \\begin{pmatrix} 0 & 0 & 0 \\\\ 0 & 0 & 1 \\\\ 0 & -1 & 0\\end{pmatrix}, \\;\\;\n",
    "T^2 = -i \\begin{pmatrix} 0 & 0 & -1 \\\\ 0 & 0 & 0 \\\\ 1 & 0 & 0\\end{pmatrix}, \\;\\;\n",
    "T^3 = -i \\begin{pmatrix} 0 & 1 & 0 \\\\ -1 & 0 & 0 \\\\ 0 & 0 & 0\\end{pmatrix}. \n",
    "$$\n"
   ]
  },
  {
   "cell_type": "markdown",
   "metadata": {},
   "source": [
    "\n",
    "Las reglas de conmutación de los generadores son:\n",
    "\n",
    "$$\n",
    "[T^1, T^2] = iT^3, \\;\\;\\; [T^2, T^3] = i T^1, \\;\\;\\; [T^3, T^1] = i T^2\n",
    "$$\n",
    "\n",
    "Esto es:\n",
    "\n",
    "$$\n",
    "[T^i, T^j] = i \\, \\epsilon_{ijk} \\, T^k\n",
    "$$\n",
    "\n",
    "donde $\\epsilon_{ijk}$ es el tensor Levi-Civita.\n",
    "\n",
    "Notar que las reglas de conmutación coinciden con las del grupo $SU(2)$ y son las del momento angular y el espín."
   ]
  },
  {
   "cell_type": "markdown",
   "metadata": {
    "slideshow": {
     "slide_type": "slide"
    }
   },
   "source": [
    "El grupo SU(2) es por lo tanto isomorfo a SO(3)\n",
    "\n",
    "$$\n",
    "SU(2) \\sim SO(3)\n",
    "$$\n",
    "\n",
    "En el caso $SO(2)$ y $U(1)$, habíamos visto que sus elementos se relacionaban:\n",
    "\n",
    "$$\n",
    "(x, y) \\sim a e^{i\\phi}\n",
    "$$\n",
    "\n",
    "En este caso la relación viene de:\n",
    "\n",
    "$$\n",
    "(x, y, z) \\sim \\sigma \\cdot x = \\begin{pmatrix} z & x - i y \\\\ x + iy & z \\end{pmatrix}\n",
    "$$\n"
   ]
  },
  {
   "cell_type": "markdown",
   "metadata": {
    "slideshow": {
     "slide_type": "slide"
    }
   },
   "source": [
    "### Rotación de espín\n",
    "\n",
    "Es común que a la hora de calcular elementos de matriz utilizando los espinores de helicidad de Dirac en secciones eficaces nos aparezca una configuración de espín de salida $|1, m' \\rangle_{\\theta}$ en una dirección ${\\bf n} = (\\sin \\theta, 0, \\cos \\theta)$ que queremos relacionar con configuración de espín inicial en $|1, m \\rangle$ en el eje $z$.\n",
    "\n",
    "Es el caso de la interacción $e + e^+ \\to \\mu + \\mu^+$ donde hay cuatro combinaciones posibles de helicidad:\n",
    "\n",
    "| |\n",
    "| :--: |\n",
    "|  <img src=\"./imgs/hadrons_eemumu_helicities_2.png\" width = 700 align=\"center\"> |\n",
    "| Las posibles combinaciones de helicidad de $e^++e \\to \\mu^+ + \\mu$ en el CM, negro (momento), azul (espín) |\n",
    "\n",
    "En la figura representamos el plano $(x, z)$ donde el eje $z$ viene dado por la dirección del electrón incidente, la dirección de salida del muón, es por lo tanto ${\\bf n} = (\\sin \\theta, 0, \\cos \\theta)$\n",
    "\n",
    "Por ejemplo, en la interacción $RL\\to RL$ (derecha) la composición de espín de entrada es $|1, 1 \\rangle$ y la de salida $|1, 1 \\rangle_{\\theta}$.\n"
   ]
  },
  {
   "cell_type": "markdown",
   "metadata": {
    "slideshow": {
     "slide_type": "slide"
    }
   },
   "source": [
    "Los generadores de las rotaciones que se corresponden a la representación de dimensión 1 del grupo SU(2) se pueden obtener a partir de los operadores escalera.\n",
    "\n",
    "La matriz de rotación de un ángulo $\\theta$ en torno al eje $y$ es:\n",
    "\n",
    "$$\n",
    "U(\\theta) = e^{i \\theta T^2} = \\sum_n \\frac{(i\\theta T^2)^n}{n!}\n",
    "$$\n",
    "\n",
    "Donde \n",
    "$$\n",
    "T^2 = - \\frac{i}{2} (T^+ - T^-)\n",
    "$$\n",
    "\n",
    "Teniendo en cuenta el funcionamiento de los operadores escalera para $I = 1$ (ver la definición anterior) construimos su representación matricial:\n",
    "\n",
    "$$\n",
    "T^+ = \\begin{pmatrix} 0 & \\sqrt{2} & 0 \\\\ 0 & 0 & \\sqrt{2} \\\\ 0 & 0 & 0 \\end{pmatrix}, \\;\\;\\;\n",
    "T^- = \\begin{pmatrix} 0 & 0 & 0 \\\\ \\sqrt{2} & 0 & 0\\\\ 0 & \\sqrt{2} & 0\\end{pmatrix}\n",
    "$$"
   ]
  },
  {
   "cell_type": "markdown",
   "metadata": {
    "slideshow": {
     "slide_type": "slide"
    }
   },
   "source": [
    "Y por lo tanto:\n",
    "$$\n",
    "T^2 = -\\frac{i}{\\sqrt{2}} \\begin{pmatrix} 0 & 1 & 0 \\\\ -1 & 0 & 1 \\\\ 0 & -1 & 0\\end{pmatrix}\n",
    "$$\n",
    "\n",
    "Se puede comprobar fácilmente que: $(T^2)^{2n+1} = T^2$, y:\n",
    "\n",
    "$$\n",
    "(T^2)^{2n} = \\frac{1}{2} \\begin{pmatrix}1  & 0 & -1 \\\\ 0 & 2 & 0 \\\\ -1 & 0 & 1 \\end{pmatrix}\n",
    "$$\n",
    "con $n=1, 2, \\dots$"
   ]
  },
  {
   "cell_type": "markdown",
   "metadata": {
    "slideshow": {
     "slide_type": "slide"
    }
   },
   "source": [
    "Del desarrollo:\n",
    "\n",
    "$$\n",
    "U(\\theta) = I + i \\theta T^2 - \\frac{\\theta^2}{2} (T^2)^2 + \\dots = I + i T^2 \\sin \\theta + (T^2)^2 (\\cos \\theta -1)\n",
    "$$\n",
    "\n",
    "Obtenemos:\n",
    "\n",
    "$$\n",
    "U(\\theta) = \\begin{pmatrix} \n",
    "\\frac{1}{2} (1+\\cos \\theta) & \\frac{1}{\\sqrt{2}} \\sin \\theta &\\frac{1}{2}(1-\\cos \\theta) \\\\\n",
    "-\\frac{1}{\\sqrt{2}} \\sin \\theta & \\cos \\theta &  \\frac{1}{\\sqrt{2}}\\sin \\theta  \\\\\n",
    "\\frac{1}{2} (1-\\cos \\theta) & -\\frac{1}{\\sqrt{2}} \\sin \\theta &\\frac{1}{2}(1+\\cos \\theta) \\\\\n",
    "\\end{pmatrix}\n",
    "$$\n"
   ]
  },
  {
   "cell_type": "markdown",
   "metadata": {
    "slideshow": {
     "slide_type": "slide"
    }
   },
   "source": [
    "El estado de espín total de salida, $|1, 1 \\rangle_{\\theta}$, se relaciona con los posibles estados de espín total de entrada, $|1, m \\rangle$ con $m=1, 2, 3$, por:\n",
    "\n",
    "$$\n",
    "| 1, 1 \\rangle_{\\theta} = \\frac{1}{2}(1+\\cos \\theta) \\, |1, 1 \\rangle + \\frac{1}{\\sqrt{2}} \\sin \\theta \\, |1, 0 \\rangle + \\frac{1}{2}(1-\\cos \\theta) \\, |1, -1 \\rangle\n",
    "$$\n",
    "\n",
    "En el caso de $RL\\to RL$ (derecha), el factor asociado al espín que entra en el elemento de Matriz, $M_{fi}$, es:\n",
    "\n",
    "$$\n",
    "\\langle 1, 1 | 1, 1 \\rangle_\\theta = \\frac{1}{2}(1+\\cos \\theta)\n",
    "$$\n",
    "\n",
    "Puede observarse por el dibujo (derecha) que para $\\theta = 0$ el factor es 1 (el espín total de entrada y salida están alineados) y para $\\theta = \\pi$, el factor es nulo (el espín total de entrada y salida son opuestos)\n"
   ]
  },
  {
   "cell_type": "markdown",
   "metadata": {
    "slideshow": {
     "slide_type": "slide"
    }
   },
   "source": [
    "\n",
    "La matriz anterior $U_{m', m} (\\theta)$, donde $m$ corresponde a los índices $m = -1, 0, 1$ del espín total de entrada y $m' = -1, 0, 1$ del de salida, es la (transpuesta) de la matriz \"*Darkstellung*\" $d^j_{m, m'}(\\theta)$ de Wigner con $j=1$.\n",
    "\n",
    "Los elementos $d^j_{m, m'}(\\theta)$ de la matrices $d$ se definen:\n",
    "\n",
    "$$\n",
    "d^j_{m', m} (\\theta) = \\langle m', j | e^{-i\\theta T^2} | j, m \\rangle\n",
    "$$\n",
    "\n",
    "Los valores $d^j_{m', m}(\\theta)$ de las configuraciones de $j$ menores se recogen en la tabla del PDG de los [Clebsch-Gordan](https://pdg.lbl.gov/2018/reviews/rpp2018-rev-clebsch-gordan-coefs.pdf).\n",
    "\n",
    "En nuestro caso, donde $\\theta$ es la rotación del sistema de referencia, utilizaríamos:\n",
    "\n",
    "$$\n",
    "|j, m' \\rangle_{\\theta} = \\sum_{m=-j}^j d^j_{m', m}(-\\theta) \\, |j, m \\rangle = \\sum_{m=-j}^j d^j_{m, m'}(\\theta) \\, |j, m \\rangle\n",
    "$$\n",
    "\n"
   ]
  },
  {
   "cell_type": "markdown",
   "metadata": {
    "slideshow": {
     "slide_type": "slide"
    }
   },
   "source": [
    "## El grupo SU(3)\n",
    "\n",
    "Podemos extender nuestra analogía con los quarks, y a pesar de sus diferencias de masas, considerar que para la fuerza fuerte es invariante bajo transformaciones unitarias entre los tres quarks ligeros $u, d, s$.\n",
    "\n",
    "$$\n",
    "u = \\begin{pmatrix} 1 \\\\ 0 \\\\ 0 \\end{pmatrix}, \\;\\; d = \\begin{pmatrix} 0 \\\\ 1 \\\\ 0 \\end{pmatrix}, \\;\\;\n",
    "c = \\begin{pmatrix} 0 \\\\ 0 \\\\ 1 \\end{pmatrix}\n",
    "$$\n",
    "\n",
    "Una transformación unitaria, $U(\\theta)$, entre los estados $(u, d, c)$ a $(u', d', c')$ de nuevo no debe afectar (en primer orden) la interacción fuerte.\n",
    "\n",
    "$$\n",
    "\\begin{pmatrix} u' \\\\ d' \\\\ c' \\end{pmatrix} = U(\\theta) \\begin{pmatrix} u \\\\ d \\\\ c \\end{pmatrix}\n",
    "$$"
   ]
  },
  {
   "cell_type": "markdown",
   "metadata": {},
   "source": [
    "Otro ejemplo de simetría $SU(3)$ es el color.\n",
    "\n",
    "La fuerza fuerza establece que tenemos tres colores, que podemos asociar a un triplete, y exiguiremos que sea invariante bajo transformaciones uniatarias de ese triplete.\n",
    "\n",
    "Los tres colores correponden\n",
    "\n",
    "$$\n",
    "r = \\begin{pmatrix} 1 \\\\ 0 \\\\ 0 \\end{pmatrix}, \\;\\; g = \\begin{pmatrix} 0 \\\\ 1 \\\\ 0 \\end{pmatrix}, \\;\\;\n",
    "b = \\begin{pmatrix} 0 \\\\ 0 \\\\ 1 \\end{pmatrix}\n",
    "$$\n",
    "\n",
    "Y la transformación unitaria, $U(\\theta)$, cambia $(r, g, b)$ a $(r', g', b')$ \n",
    "\n",
    "$$\n",
    "\\begin{pmatrix} r' \\\\ g' \\\\ b' \\end{pmatrix} = U(\\theta) \\begin{pmatrix} r \\\\ g \\\\ b \\end{pmatrix}\n",
    "$$\n"
   ]
  },
  {
   "cell_type": "markdown",
   "metadata": {},
   "source": [
    "las **matrices unitarias $3 \\times 3$ con determinante unidad** forman el grupo $SU(3)$.\n",
    "\n",
    "$$\n",
    "U^\\dagger U = I, \\;\\; \\mathrm{det}(U) = 1\n",
    "$$\n",
    "\n",
    "El número de parámetros reales libres de SU(3) es 8. Hay $18 = 3 \\times 3 \\times 2$ parámetros reales en $U$, 9 ligaduras de la condición de unitariedad y 1 por ser el determinante unidad.\n",
    "\n",
    "Las matrices de SU(3) pueden construirse a partir 8 generadores hemíticos, $T_i$, y $\\theta_i$ con $i = 1, \\dots, 8$\n",
    "\n",
    "$$\n",
    "U(\\theta) = e^{i \\theta \\cdot {\\bf T}}\n",
    "$$\n",
    "\n"
   ]
  },
  {
   "cell_type": "markdown",
   "metadata": {
    "slideshow": {
     "slide_type": "slide"
    }
   },
   "source": [
    "Una opción conveniente para los generadores es construirlos a partir de las matrices $\\lambda$ de Gell-Mann.\n",
    "\n",
    "$$\n",
    "T_i = \\frac{1}{2} \\lambda_i\n",
    "$$\n",
    "\n",
    "Donde:\n",
    "\n",
    "$$\n",
    "\\lambda_1 = \\begin{pmatrix} 0 & 1 & 0  \\\\  1 & 0 & 0 \\\\ 0 & 0 & 0 \\end{pmatrix}, \\;\n",
    "\\lambda_2 = \\begin{pmatrix} 0 & -i & 0 \\\\  i & 0 & 0 \\\\ 0 & 0 & 0 \\end{pmatrix}, \\;\n",
    "\\lambda_3 = \\begin{pmatrix} 1 & 0 & 0  \\\\ 0 & -1 & 0 \\\\ 0 & 0 & 0 \\end{pmatrix}, \\;\n",
    "\\lambda_4 = \\begin{pmatrix} 0 & 0 & 1  \\\\ 0 & 0 & 0  \\\\ 1 & 0 & 0 \\end{pmatrix}, \\\\\n",
    "\\lambda_5 = \\begin{pmatrix} 0 & 0 & -i \\\\ 0 & 0 & 0  \\\\ i & 0 & 0 \\end{pmatrix}, \\;\n",
    "\\lambda_6 = \\begin{pmatrix} 0 & 0 & 0  \\\\ 0 & 0 & 1  \\\\ 0 & 1 & 0 \\end{pmatrix}, \\;\n",
    "\\lambda_7 = \\begin{pmatrix} 0 & 0 & 0  \\\\ 0 & 0 & -i \\\\ 0 & i & 0 \\end{pmatrix}, \\;\n",
    "\\lambda_8 = \\frac{1}{\\sqrt{3}}\\begin{pmatrix} 1 & 0 & 0  \\\\ 0 & 1 & 0 \\\\ 0 & 0 & -2 \\end{pmatrix}.\n",
    "$$\n"
   ]
  },
  {
   "cell_type": "markdown",
   "metadata": {
    "slideshow": {
     "slide_type": "slide"
    }
   },
   "source": [
    "Solo tres de los generadores conmutan entre ellos, ${\\bf T}^2, T_3, Y_8$. Asociaremos $I_3$ a la tercera componente del isoespín e $Y$ a la *hypercarga*.\n",
    "\n",
    "Esto es podemos dar el elemento como $|{\\bf T}^2, T_3, Y_8 \\rangle$,\n",
    "\n",
    "$$\n",
    "{\\bf T}^2 = \\sum_{i=1}^8 T^2_i = \\frac{4}{3}    \\begin{pmatrix} 1 & 0 & 0 \\\\ 0 &  1 & 0 \\\\ 0 & 0 & 1 \\end{pmatrix}, \\;\n",
    "T_3 = \\frac{1}{2} \\lambda_3 = \\frac{1}{2} \\begin{pmatrix} 1 & 0 & 0 \\\\ 0 & -1 & 0 \\\\ 0 & 0 & 0 \\end{pmatrix}, \\;\n",
    "\\;\\; Y = \\frac{1}{\\sqrt{3}} \\lambda_8   = \\frac{1}{3} \\begin{pmatrix} 1 & 0 & 0 \\\\ 0 & 1 & 0 \\\\ 0 & 0 & -2 \\end{pmatrix}, \n",
    "$$\n",
    "\n",
    "Si definimos como los elementos del tripplete de color, ${\\bf 3}$ son: \n",
    "\n",
    "$$\n",
    "r = |4/3, 1/2, 1/3 \\rangle, \\;\\;\n",
    "g = |4/3, -1/2, 1/3 \\rangle, \\;\n",
    "b = |4/3, 0, -2/3 \\rangle\n",
    "$$\n",
    "\n",
    "Y los elementos del triplete $\\bar{3}$ tendrán cargas opuestas.\n",
    "$$\n",
    "r = |4/3, -1/2, -1/3 \\rangle, \\;\\;\n",
    "g = |4/3, +1/2, -1/3 \\rangle, \\;\n",
    "b = |4/3, 0, 2/3 \\rangle\n",
    "$$\n"
   ]
  },
  {
   "cell_type": "markdown",
   "metadata": {
    "slideshow": {
     "slide_type": "slide"
    }
   },
   "source": [
    "\n",
    "\n",
    "La figura muestra los dos tripletes de color ${\\bf 3}$ de los quarks y anti-quarks ${\\bf \\bar{3}}$ en el plano $T_3, Y$. Notar la oposición de cargas.\n",
    "\n",
    "| | \n",
    "| :--: |\n",
    "|  <img src=\"./imgs/groups_su3_color.png\" width = 500 align=\"center\"> |\n",
    "| Posición de $r, g, b$ en $(T_3, Y)$, ${\\bf 3}$, y la dirección de los operadores $T_\\pm, V_\\pm, U_\\pm$ (izda) y de los $\\bar{r}, \\bar{g}, \\bar{b}$, ${\\bf \\bar{3}}$, (derecha)|\n",
    "\n",
    "\n",
    "Existen ahora tres operadores escalera:\n",
    "$$\n",
    "T_{\\pm} = \\frac{1}{2}(\\lambda_1 \\pm i \\lambda_2), \\; V_{\\pm} = \\frac{1}{2} (\\lambda_4 \\pm i \\lambda_5), \\; \n",
    "U_{\\pm} = \\frac{1}{2}(\\lambda_6 \\pm 9 \\lambda_7)\n",
    "$$\n",
    "\n",
    "que suben y bajan los spinores a lo largo de la direcciones del triángulo (ver figura):\n",
    "\n",
    "$$\n",
    "T_+ g = r, \\; T_- r = g; \\;\\;\\; V_+ b = r, \\; V_-r = b; \\;\\; U_+b = g, \\; U_-g = b\n",
    "$$\n"
   ]
  },
  {
   "cell_type": "markdown",
   "metadata": {
    "slideshow": {
     "slide_type": "slide"
    }
   },
   "source": [
    "La combinación de quark y antiquark (mesón), ${\\bf 3} \\otimes {\\bf \\bar{3}}$, se efectua colocando el triplete ${\\bf \\bar{3}}$ sobre los vértices del ${\\bf 3}$. Lo que da lugar a un octete y un singlete en su representación irreducible.\n",
    "\n",
    "| | \n",
    "| :--: |\n",
    "|  <img src=\"./imgs/groups_su3_33b.png\" width = 550 align=\"center\"> |\n",
    "| Combinación ${\\bf 3} \\otimes {\\bf \\bar{3}} = {\\bf 8} \\oplus {\\bf 1}$ [MT]|\n",
    "\n",
    "El único singlete ($T_3, Y = 0$), sin color, es:\n",
    "\n",
    "$$\n",
    "\\frac{1}{\\sqrt{3}} (r\\bar{r} + g\\bar{g} + b \\bar{b})\n",
    "$$"
   ]
  },
  {
   "cell_type": "markdown",
   "metadata": {},
   "source": [
    "La combinación de dos quarks, ${\\bf 3} \\otimes {\\bf 3}$, no da un singlete de color pero sí la de tres quarks, ${\\bf 3} \\otimes {\\bf 3} \\otimes {\\bf 3}$ (ver figura).\n",
    "\n",
    "| | \n",
    "| :--: |\n",
    "|  <img src=\"./imgs/groups_su3_333.png\" width = 550 align=\"center\"> |\n",
    "| Combinación ${\\bf 3} \\otimes {\\bf \\bar{3}} = {\\bf 10} \\oplus {\\bf 8} \\otimes {\\bf 8} \\otimes {\\bf 1}$ [MT]|\n",
    "\n",
    "El singlete ($T_3, Y = 0$), sin color, es:\n",
    "\n",
    "$$\n",
    "\\frac{1}{\\sqrt{6}} (rgb - rbg + gbr - grb + brg - brg)\n",
    "$$\n"
   ]
  },
  {
   "cell_type": "code",
   "execution_count": 115,
   "metadata": {
    "slideshow": {
     "slide_type": "slide"
    }
   },
   "outputs": [
    {
     "data": {
      "image/png": "[encoded data removed]",
      "text/plain": [
       "<Figure size 864x360 with 2 Axes>"
      ]
     },
     "metadata": {
      "needs_background": "light"
     },
     "output_type": "display_data"
    }
   ],
   "source": [
    "plt.figure(figsize = (12, 5));\n",
    "plt.subplot(1, 2, 1)\n",
    "plt.xlim((-1, 1)); plt.ylim((-1, 1)); plt.gca().set_aspect('equal');\n",
    "plt.plot((-1, 1), (0, 0), c = 'grey'); plt.plot((0, 0), (-1, 1), c = 'grey');\n",
    "opts = {'length_includes_head' : True, 'head_width' : 0.1, 'head_length' : 0.1}\n",
    "plt.arrow(0, -2/3, 1/2, 1, color = 'magenta', width = 0.01, **opts)\n",
    "plt.arrow(1/2, 1/3, -1/2, -1, color = 'magenta', width = 0.01, **opts)\n",
    "plt.arrow(0, -2/3, -1/2, 1, color = 'cyan', width = 0.01,  **opts)\n",
    "plt.arrow(-1/2, 1/3, 1/2, -1, color = 'cyan', width = 0.01,  **opts)\n",
    "plt.arrow(-1/2, 1/3, 1, 0, color = 'yellow', width = 0.01,  **opts)\n",
    "plt.arrow(1/2, 1/3, -1, 0, color = 'yellow', width = 0.01,  **opts)\n",
    "plt.scatter((1/2), (1/3), c = 'r', label = 'r', s = 200 , alpha = 1 );\n",
    "plt.scatter((-1/2), (1/3), c = 'g', label = 'g', s = 200, alpha = 1 );\n",
    "plt.scatter((0), (-2/3), c = 'b', label = 'b', s = 200, alpha = 1 );\n",
    "epsilon = 1/6\n",
    "plt.annotate('r', (0, 0), (1/2, 1/3 + epsilon), fontsize = 15)\n",
    "plt.annotate('g', (0, 0), (-1/2, 1/3 + epsilon), fontsize = 15)\n",
    "plt.annotate('b', (0, 0), (0, -2/3 - epsilon), fontsize = 15)\n",
    "plt.annotate('$T_{\\pm}$', (0, 0), (0, 1/3 + epsilon), fontsize = 15)\n",
    "plt.annotate('$V_{\\pm}$', (0, 0), ( 1/4  + epsilon/2, -1/4), fontsize = 15)\n",
    "plt.annotate('$U_{\\pm}$', (0, 0), (-1/4  - epsilon, -1/4), fontsize = 15);\n",
    "plt.xlabel('$T_3$'); plt.ylabel('Y');\n",
    "\n",
    "plt.subplot(1, 2, 2)\n",
    "plt.scatter((-1/2), (-1/3), c = 'r', label = 'r', s = 200 , alpha = 1 );\n",
    "plt.scatter((1/2), (-1/3), c = 'g', label = 'g', s = 200, alpha = 1 );\n",
    "plt.scatter((0), (2/3), c = 'b', label = 'b', s = 200, alpha = 1 );\n",
    "#plt.annotate(s = 'r', xy =  (0, 0), xytext = (1/2, 1/3), fontsize = 16)\n",
    "plt.xlim((-1, 1)); plt.ylim((-1, 1)); plt.gca().set_aspect('equal');\n",
    "plt.plot((-1, 1), (0, 0), c = 'grey'); plt.plot((0, 0), (-1, 1), c = 'grey');\n",
    "plt.plot((-1/2, 1/2), (-1/3, -1/3), c = 'black', ls = '--' )\n",
    "plt.plot((-1/2, 0)  , (-1/3,  2/3), c = 'black', ls = '--' )\n",
    "plt.plot((0  , 1/2) , (2/3, -1/3), c = 'black', ls = '--' )\n",
    "epsilon = 1/6\n",
    "plt.annotate(r'$\\bar{r}$', (0, 0), (-1/2, -1/3 - 1.5 * epsilon), fontsize = 15)\n",
    "plt.annotate(r'$\\bar{g}$', (0, 0), (1/2, -1/3 - 1.5 * epsilon), fontsize = 15)\n",
    "plt.annotate(r'$\\bar{b}$', (0, 0), (0, 2/3 + epsilon), fontsize = 15)\n",
    "plt.xlabel('$T_3$'); plt.ylabel('Y');"
   ]
  },
  {
   "cell_type": "code",
   "execution_count": null,
   "metadata": {},
   "outputs": [],
   "source": []
  }
 ],
 "metadata": {
  "anaconda-cloud": {},
  "celltoolbar": "Slideshow",
  "kernelspec": {
   "display_name": "Python 3",
   "language": "python",
   "name": "python3"
  },
  "language_info": {
   "codemirror_mode": {
    "name": "ipython",
    "version": 3
   },
   "file_extension": ".py",
   "mimetype": "text/x-python",
   "name": "python",
   "nbconvert_exporter": "python",
   "pygments_lexer": "ipython3",
   "version": "3.9.13"
  }
 },
 "nbformat": 4,
 "nbformat_minor": 4
}
