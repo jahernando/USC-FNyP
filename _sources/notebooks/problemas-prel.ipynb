{
 "cells": [
  {
   "cell_type": "markdown",
   "metadata": {
    "slideshow": {
     "slide_type": "slide"
    }
   },
   "source": [
    "# Boletín de problemas - preliminar\n",
    "\n",
    "\n",
    "Jose A. Hernando\n",
    "\n",
    "*Departamento de Física de Partículas. Universidade de Santiago de Compostela*\n",
    "\n",
    "Octubre 2024\n"
   ]
  },
  {
   "cell_type": "code",
   "execution_count": 7,
   "metadata": {
    "slideshow": {
     "slide_type": "fragment"
    }
   },
   "outputs": [
    {
     "name": "stdout",
     "output_type": "stream",
     "text": [
      " Last version  Thu Oct 31 18:10:23 2024\n"
     ]
    }
   ],
   "source": [
    "import time\n",
    "print(' Last version ', time.asctime() )"
   ]
  },
  {
   "cell_type": "code",
   "execution_count": 8,
   "metadata": {
    "slideshow": {
     "slide_type": "slide"
    }
   },
   "outputs": [],
   "source": [
    "# general imports\n",
    "%matplotlib inline\n",
    "%reload_ext autoreload\n",
    "%autoreload 2\n",
    "\n",
    "# numpy and matplotlib\n",
    "import numpy as np\n",
    "import matplotlib\n",
    "import matplotlib.pyplot as plt\n",
    "\n",
    "import scipy.constants as units"
   ]
  },
  {
   "cell_type": "code",
   "execution_count": 9,
   "metadata": {
    "slideshow": {
     "slide_type": "slide"
    }
   },
   "outputs": [
    {
     "name": "stdout",
     "output_type": "stream",
     "text": [
      "hbar = 1.054572e-34 J/s\n",
      "c  = 2.997925e+08 m/s\n",
      "GeV  = 1.602177e-10 J \n",
      "hbar c  =  1.973270e-01 GeV fm\n"
     ]
    }
   ],
   "source": [
    "print('hbar = {:4e} J/s'.format(units.hbar))\n",
    "print('c  = {:4e} m/s'.format(units.c))\n",
    "GeV_to_Julio = units.giga * units.eV\n",
    "print('GeV  = {:4e} J '.format(GeV_to_Julio))\n",
    "hbarc = units.hbar * units.c / (GeV_to_Julio * units.femto) # GeV fm\n",
    "print('hbar c  =  {:4e} GeV fm'.format(hbarc))"
   ]
  },
  {
   "cell_type": "markdown",
   "metadata": {
    "slideshow": {
     "slide_type": "skip"
    }
   },
   "source": [
    "---------"
   ]
  },
  {
   "cell_type": "markdown",
   "metadata": {
    "slideshow": {
     "slide_type": "slide"
    }
   },
   "source": [
    "**problema 1**\n",
    "\n",
    "Considera que el protón pudiera desintegrarse a $p \\to e^+ + \\pi^0$ y considera el límite en el tiempo parcial de vida media publicado en [SK](https://arxiv.org/abs/2010.16098)¿Cómo compara con la edad del Universo? ¿Qué cantidad de agua necesitarías para detectar u obtener un límite de la vida media del protón mejor que el actual considerando que se desintegran los protones del H del agua? Los artículos en HEP aparecen habitualmente en el siguiente [archivo](https://arxiv.org/archive/hep-ex) y en la base de datos  [INSPIRE](https://inspirehep.net/). ¿Puedes encontrar cuál es el artículo más citado del experimento SuperKamiokande?\n"
   ]
  },
  {
   "cell_type": "markdown",
   "metadata": {
    "slideshow": {
     "slide_type": "slide"
    }
   },
   "source": [
    "*solución*\n",
    "\n",
    "Del artículo obtenemos\n",
    "\n",
    "$$\n",
    "\\tau/B > 2.4 \\times 10^{34} \\;\\; \\mathrm{años}\n",
    "$$\n",
    "\n",
    "La edad del universo es aproximadamente $13.7 \\times 10^{9}$ años.\n",
    "\n"
   ]
  },
  {
   "cell_type": "markdown",
   "metadata": {
    "slideshow": {
     "slide_type": "slide"
    }
   },
   "source": [
    "*Cuestión* ¿Es la desintegración, $p \\to e^+ + \\pi^0$, posible?"
   ]
  },
  {
   "cell_type": "markdown",
   "metadata": {
    "slideshow": {
     "slide_type": "fragment"
    }
   },
   "source": [
    "\n",
    "\n",
    "No, no lo es porque violaría el número leptónico y el número bariónico. \n",
    "\n",
    "Comentario: Sin embargo no viola B-L. B-L se debe conservar para que no se cree carga eléctrica neta.\n",
    "\n"
   ]
  },
  {
   "cell_type": "markdown",
   "metadata": {
    "slideshow": {
     "slide_type": "slide"
    }
   },
   "source": [
    "*Cuestión* ¿Qué significa $\\tau/B$?"
   ]
  },
  {
   "cell_type": "markdown",
   "metadata": {
    "slideshow": {
     "slide_type": "fragment"
    }
   },
   "source": [
    "Es el tiempo de vida parcial de esa desintegración, la posible $ p \\to e^+ + \\pi^0$, pero el protón pudiera desintegrarse de otras formas, a otros canales.\n",
    "\n",
    "Recordemos la relación entre anchura de desintegración y tiempo de vida: \n",
    "\n",
    "$$\\tau = 1/\\Gamma$$\n",
    "\n",
    "La anchura total se obtiene de la suma de las parciales: \n",
    "\n",
    "$$\\Gamma = \\sum_i \\Gamma_i$$\n",
    "\n",
    "Y la fracción de desintegración $\\mathcal{B}_i$\n",
    "\n",
    "$$\n",
    "\\mathcal{B}_i = \\frac{\\Gamma_i}{\\Gamma}\n",
    "$$\n",
    "\n",
    "Esto es la vida parcial \n",
    "\n",
    "$$\n",
    "\\tau_i = \\frac{1}{\\Gamma_i} = \\frac{1}{\\Gamma} \\frac{\\Gamma}{\\Gamma_i} = \\frac{\\tau}{\\mathcal{B}_i}\n",
    "$$"
   ]
  },
  {
   "cell_type": "markdown",
   "metadata": {
    "slideshow": {
     "slide_type": "slide"
    }
   },
   "source": [
    "*Cuestión* ¿Cuál es la masa necesario para poner un límite mejor que el actual en este canal?\n",
    "\n",
    "En realidad se trata de le exposición: kton año"
   ]
  },
  {
   "cell_type": "markdown",
   "metadata": {
    "slideshow": {
     "slide_type": "slide"
    }
   },
   "source": [
    "Sea $M$ la masa de agua en g, sea $M_A = 18$ g/mol, siendo $N_A$ el número de Avogadro, el número de protones $N$ del Hidrógeno es:\n",
    "\n",
    "$$\n",
    "N = 2 N_A \\, \\frac{M}{M_A}\n",
    "$$\n",
    "\n",
    "\n",
    "Si tenenos $N$ protones y la vida media es $\\tau$ en $t=1$ año sobreviven, dado que $t \\ll \\tau$:\n",
    "\n",
    "$$\n",
    "N(t) = N_0 e^{-t/\\tau} = N_0 \\left( 1-\\frac{t}{\\tau} \\right)\n",
    "$$\n",
    "\n",
    "donde $\\tau$ aquí es la vida media parcial $\\tau_i$, pero omitimos el sub-índice. \n",
    "\n",
    "En un año $t=1$ se han desintegrado\n",
    "\n",
    "$$\n",
    "\\nu = N_0 \\frac{t}{\\tau} \n",
    "$$"
   ]
  },
  {
   "cell_type": "markdown",
   "metadata": {
    "slideshow": {
     "slide_type": "slide"
    }
   },
   "source": [
    "¿Qué masa necesitamos para ver una desintegración si la cuota $\\tau$ fuera el valor real?\n",
    "\n",
    "$$\n",
    "N_0 \\frac{t}{\\tau} = 1\n",
    "$$"
   ]
  },
  {
   "cell_type": "code",
   "execution_count": 14,
   "metadata": {
    "slideshow": {
     "slide_type": "fragment"
    }
   },
   "outputs": [
    {
     "name": "stdout",
     "output_type": "stream",
     "text": [
      "water mass 3.59e+02 k tons\n"
     ]
    }
   ],
   "source": [
    "tau = 2.4e34 # partial proton mean lifetime \n",
    "NA  = units.N_A # Avogadro number\n",
    "MA  = 18 # g/mol\n",
    "\n",
    "M =  tau * MA/(2*NA)\n",
    "\n",
    "print('water mass {:1.2e} k tons'.format(M*(1e-9)))\n"
   ]
  },
  {
   "cell_type": "markdown",
   "metadata": {
    "slideshow": {
     "slide_type": "slide"
    }
   },
   "source": [
    "*Cuestión* Si $\\tau$ es tal que para $N_0$ esperamos en un año $t=1$, $\\nu = 1$ eventos, ¿qué podemos esperar? ¿Siempre mediremos 1 evento? ¿qué distribución sigue?"
   ]
  },
  {
   "cell_type": "markdown",
   "metadata": {
    "slideshow": {
     "slide_type": "fragment"
    }
   },
   "source": [
    "\n",
    "No, no siempre medimos 1 evento, la distribución de las medidas sigue una distribución de poisson, Porque la probabilidad de que se produzca una desintegración es $1/\\tau$, ridículamente pequeña, y el número de intentos de intentos muy alto, luego la binomial original con $p$ muy pequeña y $N$ intentos altos, es una distribución de poisson con $\\nu = p N = 1$, siendo $p = 1/\\tau$"
   ]
  },
  {
   "cell_type": "code",
   "execution_count": 11,
   "metadata": {
    "slideshow": {
     "slide_type": "fragment"
    }
   },
   "outputs": [
    {
     "data": {
      "image/png": "[encoded data removed]",
      "text/plain": [
       "<Figure size 640x480 with 1 Axes>"
      ]
     },
     "metadata": {},
     "output_type": "display_data"
    }
   ],
   "source": [
    "from scipy.stats import poisson\n",
    "\n",
    "nu = 2\n",
    "ns = np.arange(12)\n",
    "\n",
    "plt.bar(ns, poisson.pmf(ns, nu))\n",
    "plt.xlabel(r'$n$'); plt.ylabel(r'pmf$(n | \\nu)$'); plt.grid();\n"
   ]
  },
  {
   "cell_type": "markdown",
   "metadata": {
    "slideshow": {
     "slide_type": "slide"
    }
   },
   "source": [
    "*Cuestión* ¿Qué límite ponemos a la vida media al 90% CL si al hacer un experimento observamos 0 eventos?\n"
   ]
  },
  {
   "cell_type": "markdown",
   "metadata": {
    "slideshow": {
     "slide_type": "fragment"
    }
   },
   "source": [
    "Decimos, por convención, que los valores excluidos del parámetro relevante (en este caso la vida media) al 90% CL son aquellos valores que nos daría una probabilidad de obtener un resultado como el que hemos obtenido o peor menor del 10%.\n",
    "\n",
    "La cuestión se convierte entonces en ¿Cuál es la probabilidad de medir 0 si la media de Poisson es $\\nu$? ¿Cuándo dicha probabilidad es menor del 10% (esto es el límite al 90%CL)?"
   ]
  },
  {
   "cell_type": "code",
   "execution_count": 6,
   "metadata": {
    "slideshow": {
     "slide_type": "fragment"
    }
   },
   "outputs": [
    {
     "data": {
      "image/png": "[encoded data removed]",
      "text/plain": [
       "<Figure size 640x480 with 1 Axes>"
      ]
     },
     "metadata": {},
     "output_type": "display_data"
    }
   ],
   "source": [
    "nus = np.arange(0.1, 4, 0.1)\n",
    "plt.plot(nus, poisson.pmf(0, nus)); plt.grid(); plt.plot((0, 4), (0.1, 0.1))\n",
    "plt.xlabel(r'$\\nu$'); plt.ylabel(r'pmf$(0 | \\nu)$');"
   ]
  },
  {
   "cell_type": "markdown",
   "metadata": {
    "slideshow": {
     "slide_type": "slide"
    }
   },
   "source": [
    "Esto es si no observamos ninguna desintegración. $n = 0$, en un año $t=1$, en $N_0$ protones el valor del posible $\\nu$ que nos daría que nuestro resultado de obtener 0 tiene una probabilidad menor del 10% (de ahí el 90% CL), es 2.4.\n",
    "\n",
    "Luego, si medimos $n=0$, al 90% CL le corresponde un valor $\\nu = 2.4$, luego el valor del límite $\\tau$ se obtendría de:\n",
    "\n",
    "$$\n",
    "\\frac{t}{\\tau} = \\frac{\\nu}{N_0} \\Rightarrow \\tau = \\frac{N_0}{\\nu} t\n",
    "$$"
   ]
  },
  {
   "cell_type": "markdown",
   "metadata": {},
   "source": [
    "*Nota* Esto no quiere decir que el valor $\\tau$ del límite no sea el valor verdadero, existe todavía un 10% de posibilidades de con ese valor, si realizase un experimento obtuvera un resultado como el que obtenido (en este caso 0) o peor."
   ]
  },
  {
   "cell_type": "markdown",
   "metadata": {},
   "source": [
    "*Cuestión* ¿Qué pasa en el caso más general? ¿Qué región de nuestro parámetro $\\tau$ decimos que esta excluida al 90% CL?\n",
    "\n",
    "En el caso general al hacer un experimento de búsqueda de una nueva señal esperamos encontrar en nuestra muestra $b$ eventos de fondo (distribuidos poisson, siendo $b$ pequeño) y observamos $n$, por lo que necesitamos una construcción que nos permita encontrar a partir de $(b, n)$ qué valores teóricos $\\nu$ de señal nos darían una probabilidad de obtener una observación como la que hemos obtenido o peor menor con un 10% probabilidades.\n",
    "\n",
    "La [construcción moderna](https://arxiv.org/abs/physics/9711021) se debe a dos físicos de neutrinos, G. Feldman y B. Cousins, que proposieron un método que lleva su nombre."
   ]
  },
  {
   "cell_type": "markdown",
   "metadata": {
    "slideshow": {
     "slide_type": "slide"
    }
   },
   "source": [
    "*Cuestión* ¿Cuál es el artículo más citado?\n",
    "\n"
   ]
  },
  {
   "cell_type": "markdown",
   "metadata": {
    "slideshow": {
     "slide_type": "fragment"
    }
   },
   "source": [
    "En INSPIRE seleccionar experimento SuperKamiokande, luego en ordenar artículos escoger 'most cited', \n",
    "\n",
    "\"Evidence for oscillation of atmospheric neutrinos\", [hep-exp/9807003](https://arxiv.org/abs/hep-ex/9807003), Phys. Rev. Lett 81, 1562-1567,1998\n",
    "\n",
    "*Cuestión* Lee el abstract. Nota la precaución con la que indican la posible presencia de oscilaciones, por las que después el director del experimento. T. Kajita recibiría el premio Nobel en 2015."
   ]
  },
  {
   "cell_type": "markdown",
   "metadata": {
    "slideshow": {
     "slide_type": "skip"
    }
   },
   "source": [
    "--------"
   ]
  },
  {
   "cell_type": "markdown",
   "metadata": {
    "slideshow": {
     "slide_type": "slide"
    }
   },
   "source": [
    "**2) Problema**\n",
    "\n",
    "¿Cuál es la masa del neutrino? ¿Qué experimento tiene la cuota más baja hasta la fecha? Los experimentos de oscilaciones de neutrinos han medido no obstante las dos diferencias de masas al cuadrado entre los tres neutrinos existentes. $\\Delta m^2_{21} = m^2_2 - m^2_1$, es la diferencia de masas al cuadrado entre el neutrino 2 y el 1. Si los resultados experimentales son $\\Delta m^2_{21} = 7.5 \\times 10^{-5}$ eV$^2$, y $|\\Delta m^2_{31}| = 2.5 \\times 10^{-3}$ eV$^2$. ¿Puedes hacer un gráfico de la masa de los neutrinos en función de la masa del más ligero?\n"
   ]
  },
  {
   "cell_type": "markdown",
   "metadata": {
    "slideshow": {
     "slide_type": "slide"
    }
   },
   "source": [
    "*Solución*\n",
    "\n",
    "La melor cuota de la masa del neutrino la ha publicado el experimento [KATRIN](https://en.wikipedia.org/wiki/KATRIN) en 2024, [arXic.2406.13517](https://arxiv.org/abs/2406.13516) y es $m_\\nu \\lt 0.45$ eV al 90% C.L."
   ]
  },
  {
   "cell_type": "markdown",
   "metadata": {
    "slideshow": {
     "slide_type": "fragment"
    }
   },
   "source": [
    "Sabemos que la masa del neutrino $m_2 \\gt m_{light}$, siendo $m_{light}$ el más ligero, pero nos sabemos, dado que solo conocemos el valor absoluto de $|\\Delta m^2_{31}|$, si el neutrino 1 o el neutrino 3 son los más ligeros.\n",
    "\n",
    "Vamos "
   ]
  },
  {
   "cell_type": "code",
   "execution_count": 67,
   "metadata": {
    "slideshow": {
     "slide_type": "fragment"
    }
   },
   "outputs": [
    {
     "data": {
      "text/plain": [
       "Text(0.5, 1.0, 'Inverted')"
      ]
     },
     "execution_count": 67,
     "metadata": {},
     "output_type": "execute_result"
    },
    {
     "data": {
      "image/png": "[encoded data removed]",
      "text/plain": [
       "<Figure size 640x480 with 2 Axes>"
      ]
     },
     "metadata": {},
     "output_type": "display_data"
    }
   ],
   "source": [
    "dm21 = 7.5e-5\n",
    "dm31 = 2.5e-3\n",
    "\n",
    "m0 = np.array((1e-5, 1e-4, 1e-3, 5e-3, 1e-2, 5e-2, 1e-1, 5e-1, 1.))\n",
    "\n",
    "m2    = lambda m0 : np.sqrt(dm21+m0**2)\n",
    "mup   = lambda m0 : np.sqrt(dm31+m0**2)\n",
    "\n",
    "plt.subplot(1, 2, 1)\n",
    "plt.plot(m0, m0, label = r'$m_1$'); plt.plot(m0, m2(m0), label = '$m_2$'), plt.plot(m0, mup(m0), label = 'm3')\n",
    "plt.xscale('log'); plt.yscale('log'); plt.legend(); plt.xlabel(r'$m_{light}$ (eV)'); plt.ylabel(r\"(eV)\"); plt.grid(); plt.title('Normal')\n",
    "plt.subplot(1, 2, 2)\n",
    "plt.plot(m0, m0, label = r'$m_3$'); plt.plot(m0, mup(m0), label = '$m_1$'), plt.plot(m0, mup(m0) + m2(m0), label = 'm2')\n",
    "plt.xscale('log'); plt.yscale('log'); plt.legend(); plt.xlabel(r'$m_{light}$ (eV)'); plt.ylabel(r\"(eV)\"); plt.grid(); plt.title('Inverted')"
   ]
  },
  {
   "cell_type": "markdown",
   "metadata": {},
   "source": [
    "------"
   ]
  },
  {
   "cell_type": "markdown",
   "metadata": {
    "slideshow": {
     "slide_type": "slide"
    }
   },
   "source": [
    "***problema* A partir de los datos del [PDF](https://pdglive.lbl.gov) elabora una tabla con la masa, carga, espín, paridad, vida media y desintegración principal de los leptones. \n"
   ]
  },
  {
   "cell_type": "markdown",
   "metadata": {
    "slideshow": {
     "slide_type": "fragment"
    }
   },
   "source": [
    "|       | $e$ | $\\mu$ | $\\tau$ | $\\nu$ |\n",
    "| :--   | :-- | :--   | :--    | :--   |\n",
    "| masa  | 0.511 MeV    | 105.7 MeV  |  1777 MeV|   $\\le$ 1 eV     |  \n",
    "| carga |   -1  | -1 | -1 | 0 |\n",
    "| vida media ($\\tau$)| estable | $2.197$ $\\mu\\mathrm{s}$ | $290.6$ fs | estable|"
   ]
  },
  {
   "cell_type": "markdown",
   "metadata": {
    "slideshow": {
     "slide_type": "slide"
    }
   },
   "source": [
    "|    | Fracción de desintegración |\n",
    "|:-- | --:                                          |\n",
    "| $\\mu  \\to e + \\bar{\\nu_e} + \\nu_\\mu$  | $\\sim 100$ %|\n",
    "| $\\tau \\to \\mu + \\bar{\\nu_\\mu} + \\nu_\\tau$| $17.4$ % |\n",
    "| $\\tau \\to e + \\bar{\\nu_e} + \\nu_\\tau$| $17.8$ % |\n",
    "| $\\tau \\to \\mathrm{hadrons}+ \\nu_\\tau$| $\\sim 64$ % |"
   ]
  },
  {
   "cell_type": "markdown",
   "metadata": {},
   "source": [
    "----------"
   ]
  },
  {
   "cell_type": "markdown",
   "metadata": {
    "slideshow": {
     "slide_type": "slide"
    }
   },
   "source": [
    "Crea una segunda tabla con la composición de quarks, masa, carga, espín, paridad, vida media y desintegración principal de los siguientes mesones \\$\\pi^\\pm, \\pi^0$, $K^\\pm,$ $K^0, D^\\pm, D^0, J/\\Psi, \\Upsilon, B^0, B^0_s$. "
   ]
  },
  {
   "cell_type": "markdown",
   "metadata": {
    "slideshow": {
     "slide_type": "fragment"
    }
   },
   "source": [
    "| nombre    | &emsp; quark composition |  $J^{P}$ | &emsp; &emsp;  mass (MeV) &emsp;&emsp; | &emsp;  &emsp; &emsp; life-time &emsp;  | &emsp; &emsp; &emsp; &emsp; main decays &emsp; &emsp; |\n",
    "| :-- | :--: | :--: | :----:  | :--: | :-- |\n",
    "| $\\pi^0$   | $(\\bar{u}u, \\bar{d}d)$ | $0^-$   | $134.97$       | $8.43\\pm0.6 \\, 10^{-17}$  s| $2\\gamma$  (98%)|\n",
    "| $\\pi^\\pm$ | ($u\\bar{d}, \\bar{u}d$) | $0^{-}$ | $139.57$       | $26.033\\pm0.05$ ns | $\\mu + \\bar{\\nu}_\\mu$ (98%) |\n",
    "| $\\rho$    | ($u\\bar{u}, \\bar{d}d$) | $1^-$   | $7775.5\\pm0.4$ | $194.4\\pm1$ MeV | $2\\pi$| \n",
    "| $K^\\pm$   | $(\\bar{s}u, s\\bar{u})$ | $0^{-}$ | $493.677\\pm 0.016$| $12.39\\pm0.02$ ns | $\\mu+ \\bar{\\nu}_\\mu$ (63%), $\\pi^- \\pi^0$ (20 %) |\n",
    "| $K^0_S$   | $(\\bar{s}d, \\bar{d}s)$ | $0^{-}$  | $497.648\\pm0.022$ | $89.5\\pm0.05$ ps | $\\pi^++\\pi^-$ (69%), $2\\pi^0 $ (30%)|\n",
    "| $K^0_L$   | $(\\bar{s}d, \\bar{d}s)$ | $0^{-}$  | $497.648\\pm0.022$ | $51.14\\pm0.21$ ns | $\\pi^\\pm + e^\\pm + \\nu_e$ (40%), $\\pi^\\pm + \\mu^\\pm + \\bar{\\nu}_\\mu$ (27%)|\n",
    "| $\\phi$    | $(s\\bar{s})$          | $1^-$    | $1019.46\\pm0.019$ | $4.26\\pm0.05$ MeV | $K+\\bar{K}, \\pi^++\\pi^-+\\pi^0$|\n",
    "| $D^\\pm$   | $(c\\bar{d},d\\bar{c})$ |$0^{-}$ | $1869.3\\pm0.4$ | $0.500\\pm 0.007$ ps | $K+...$ |\n",
    "| $D^0, \\bar{D}^0$    | $(c\\bar{u},u\\bar{c})$ |$0^{-}$ | $1864.5\\pm0.4$    | $0.410\\pm 0.002$ ps | $K+...$ |\n",
    "| $B^0, \\bar{B}^0$    | $(b\\bar{d},d\\bar{b})$ |$0^{-}$ | $5279.4\\pm0.5$    | $1.530\\pm 0.009$ ps | $D+...$ |\n",
    "| $B^0_s, \\bar{B}^0_s$| $(b\\bar{s},s\\bar{b})$ |$0^{-}$ | $5367.5\\pm1.8$    | $1.466\\pm 0.059$ ps | $D^\\pm_s+...$ |\n",
    "| $J/\\Psi$            | $(c\\bar{c})$          |$1^{-}$ | $3096.92\\pm0.011$ | $93.4\\pm2.1$ keV    | hadrons (87%), $\\mu+\\mu^+, e+e^+$ (6%) |\n",
    "| $\\Upsilon$      | $(b\\bar{b})$          |$1^{-}$ | $9460.3\\pm0.3$ | $31.98\\pm2.63$ keV | $l+l^+$ |"
   ]
  },
  {
   "cell_type": "markdown",
   "metadata": {},
   "source": [
    "-----"
   ]
  },
  {
   "cell_type": "markdown",
   "metadata": {
    "slideshow": {
     "slide_type": "slide"
    }
   },
   "source": [
    "**problema** Identifica los bariones que se forman con los quarks ligeros $(u, d, s)$. "
   ]
  },
  {
   "cell_type": "markdown",
   "metadata": {
    "slideshow": {
     "slide_type": "fragment"
    }
   },
   "source": [
    "| nombre    | &emsp; quark composition |  $J^{P}$ | &emsp; &emsp;  mass (MeV) &emsp;&emsp; | &emsp;  &emsp; &emsp; life-time &emsp;  | &emsp; &emsp; &emsp; &emsp; main decays &emsp; &emsp; |\n",
    "| :-- | :--: | :--: | :----:  | :--: | :-- |\n",
    "| $p$            | (uud) | $1/2^+$ | $938.27$              | $>3.6 \\, 10^{29}$ y        | None |\n",
    "| $n$            | (udd) | $1/2^+$ | $939.56$              | $874.4\\pm0.6$ s            | $p +e +\\bar{\\nu}_e$ (100%)|\n",
    "| $\\Delta$ | (uuu) | $3/2^+$ | $1232 \\pm 2$         | $118 \\pm 2$ MeV             | $p + \\pi^-, n+ \\pi^0$ |\n",
    "| $\\Lambda$      | (uus) | $1/2^+$ | $1115.683 \\pm 0.006$ | $263 \\pm2$ ps               | $p + \\pi^0, n+ \\pi^+$|\n",
    "| $\\Sigma^0$     | (uds) | $1/2^+$ | $1182.64 \\pm 0.02$   | $7.4 \\pm 0.7 \\, 10^{-20}$ s | $\\Lambda+\\gamma$|\n",
    "| $\\Omega^-$     | (sss) | $3/2^+$ | $1672.45 \\pm 0.29$   | $82.1\\pm 1.1$ ps            | $\\Lambda+K^+, ...$|\n",
    "\n",
    "\n",
    "[Sobre el descubrimiento de $\\Omega^-$](https://en.wikipedia.org/wiki/Omega_baryon)"
   ]
  },
  {
   "cell_type": "markdown",
   "metadata": {},
   "source": [
    "------"
   ]
  },
  {
   "cell_type": "markdown",
   "metadata": {
    "slideshow": {
     "slide_type": "slide"
    }
   },
   "source": [
    "**problema** Sean $\\Lambda \\rightarrow p + \\pi^-$ y $\\Xi^- \\rightarrow \\Lambda+\\pi^-$. ¿Cuál es la carga de $\\Lambda$? Indica si $\\Lambda$ y $\\Xi^-$ son bariones o mesones. Indicas sus masa, sus vidas medias y su fracción de desintegración. ¿Qué tipo de desintegración es, débil o fuerte? "
   ]
  },
  {
   "cell_type": "markdown",
   "metadata": {
    "slideshow": {
     "slide_type": "fragment"
    }
   },
   "source": [
    "Del [PDG](https://pdg.lbl.gov/2021/listings/contents_listings.html)\n",
    "\n",
    "$m(\\Lambda) = 1115.683 \\pm 0.006$ MeV, $\\mathcal{Br}(\\Lambda \\to p + \\pi^-) = 63.9 \\pm 0.5$ %, $\\tau = (2.632 \\pm 0.02) \\, 10^{-10}$ s\n",
    "\n",
    "Del [PDG](https://pdg.lbl.gov/2021/listings/contents_listings.html)\n",
    "                                        \n",
    "$m(\\Xi^-) = 1321.71 \\pm 0.07$ MeV, $\\mathcal{Br}(\\Xi^- \\to \\Lambda + \\pi^-) = 99.9$ %, $\\tau = (1.639 \\pm 0.015) \\, 10^{-10}$ s\n",
    "\n",
    "Los dos son bariones, $\\Lambda$ tiene carga 0, y por el valor de la vida media se desintegran débilmente."
   ]
  },
  {
   "cell_type": "markdown",
   "metadata": {},
   "source": [
    "-----"
   ]
  },
  {
   "cell_type": "markdown",
   "metadata": {
    "slideshow": {
     "slide_type": "slide"
    }
   },
   "source": [
    "**problema** Recientemente el CERN ha festejado su 70 aniversario. ¿Indica cuáles han sido los dos grandes colionadores del CERN y sus parámetros principales? ¿Cuáles son los hitos y descubrimientos principales realizados en el CERN? "
   ]
  },
  {
   "cell_type": "markdown",
   "metadata": {
    "slideshow": {
     "slide_type": "fragment"
    }
   },
   "source": [
    "* [Discovery of the $W^\\pm$ bosons](https://home.cern/news/news/physics/w-boson-turns-40#:~:text=Exactly%20four%20decades%20ago%20today,elementary%20particle%20%E2%80%93%20the%20W%20boson.)\n",
    "\n",
    "* [Discovery of the neutral currents](https://home.cern/news/news/physics/forty-years-neutral-currents)\n",
    "\n",
    "* [Verification of the $Z^0$ propierties and the 3 neutrino flavours](https://home.cern/news/opinion/physics/thirty-years-leps-z0-line-shape)\n",
    "\n",
    "* [Discovery of the Higgs](https://home.cern/science/physics/higgs-boson)\n",
    "\n",
    "* [Invention of the WWW](https://home.cern/science/computing/birth-web)"
   ]
  },
  {
   "cell_type": "markdown",
   "metadata": {
    "slideshow": {
     "slide_type": "fragment"
    }
   },
   "source": [
    "Aceleradores\n",
    "\n",
    "* [LHC](https://home.cern/science/accelerators/large-hadron-collider) protón-protón colisions at 7, 13 TeV CM energy\n",
    "\n",
    "* [LEP](https://home.cern/science/accelerators/large-electron-positron-collider), e+ + e- colider at 91 GeV CM Energy and up to 200 GeV in Run-II"
   ]
  },
  {
   "cell_type": "markdown",
   "metadata": {},
   "source": [
    "----"
   ]
  },
  {
   "cell_type": "markdown",
   "metadata": {
    "slideshow": {
     "slide_type": "slide"
    }
   },
   "source": [
    "**problema** Investiga brevemente la bibliografía y contribuciones de los siguientes físicos:  Paul Dirac, Ettore Majorana, Wolfgang Pauli, Enrico Fermi, Richard Feynman, Chien-Shiung Wu, Bruno Pontecorvo, Sheldon Glashow, Steven Weinberg, Abdus Salam y Peter Higgs."
   ]
  },
  {
   "cell_type": "markdown",
   "metadata": {
    "slideshow": {
     "slide_type": "fragment"
    }
   },
   "source": [
    "* [Paul Dirac](https://en.wikipedia.org/wiki/Paul_Dirac)\n",
    "\n",
    "* [Ettore Majorana](https://en.wikipedia.org/wiki/Ettore_Majorana)\n",
    "\n",
    "* [Wolfgang Pauli](https://en.wikipedia.org/wiki/Wolfgang_Pauli)\n",
    "\n",
    "* [Erico Fermi](https://en.wikipedia.org/wiki/Enrico_Fermi)\n",
    "\n",
    "* [Richar Feynman](https://en.wikipedia.org/wiki/Richard_Feynman)\n",
    "\n",
    "* [Chien-Shiung Wu](https://en.wikipedia.org/wiki/Chien-Shiung_Wu)\n",
    "\n",
    "* [Bruno Pontecorvo](https://en.wikipedia.org/wiki/Bruno_Pontecorvo)\n",
    "\n",
    "* [Sheldon Glashow](https://en.wikipedia.org/wiki/Sheldon_Glashow)\n",
    "\n",
    "* [Steven Weinberg](https://en.wikipedia.org/wiki/Steven_Weinberg)\n",
    "\n",
    "* [Abdus Salam](https://en.wikipedia.org/wiki/Abdus_Salam)\n",
    "\n",
    "* [Peter Higgs](https://en.wikipedia.org/wiki/Peter_Higgs)"
   ]
  },
  {
   "cell_type": "markdown",
   "metadata": {},
   "source": [
    "----"
   ]
  },
  {
   "cell_type": "markdown",
   "metadata": {
    "slideshow": {
     "slide_type": "slide"
    }
   },
   "source": [
    "**problema** Identifica el objetivo, detectores, periodo de operación y tamaño de los siguientes experimentos: SuperKamiokande, ATLAS, LHCb, IceCube, ALEPH, DELPHI, Gargamelle, BaBar, UA1, Gerda y SNO. \n"
   ]
  },
  {
   "cell_type": "markdown",
   "metadata": {
    "slideshow": {
     "slide_type": "fragment"
    }
   },
   "source": [
    "* [SuperKamiokande](https://www-sk.icrr.u-tokyo.ac.jp/en/sk/)\n",
    "\n",
    "* [ATLAS](https://atlas.cern/)\n",
    "\n",
    "* [LHCb](https://home.cern/science/experiments/lhcb)\n",
    "\n",
    "* [IceCube](https://icecube.wisc.edu/)\n",
    "\n",
    "* [ALEPH](https://en.wikipedia.org/wiki/ALEPH_experiment)\n",
    "\n",
    "* [DElPHI](https://en.wikipedia.org/wiki/DELPHI_experiment)\n",
    "\n",
    "* [Gargamelle](https://en.wikipedia.org/wiki/Gargamelle)\n",
    "\n",
    "* [BaBar](https://en.wikipedia.org/wiki/BaBar_experiment)\n",
    "\n",
    "* [UA1](https://en.wikipedia.org/wiki/UA1_experiment)\n",
    "\n",
    "* [Gerda](https://www.mpi-hd.mpg.de/gerda/)\n",
    "\n",
    "* [SNO](https://en.wikipedia.org/wiki/Sudbury_Neutrino_Observatory)"
   ]
  }
 ],
 "metadata": {
  "anaconda-cloud": {},
  "celltoolbar": "Slideshow",
  "kernelspec": {
   "display_name": "Python 3 (ipykernel)",
   "language": "python",
   "name": "python3"
  },
  "language_info": {
   "codemirror_mode": {
    "name": "ipython",
    "version": 3
   },
   "file_extension": ".py",
   "mimetype": "text/x-python",
   "name": "python",
   "nbconvert_exporter": "python",
   "pygments_lexer": "ipython3",
   "version": "3.9.13"
  }
 },
 "nbformat": 4,
 "nbformat_minor": 4
}
