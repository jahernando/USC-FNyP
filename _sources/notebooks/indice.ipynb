{
 "cells": [
  {
   "cell_type": "markdown",
   "metadata": {
    "slideshow": {
     "slide_type": "slide"
    }
   },
   "source": [
    "# Introducción a Física de Partículas\n",
    "\n",
    "\n",
    "## Índice del curso\n",
    "\n",
    "\n",
    "Jose A. Hernando\n",
    "\n",
    "*Departamento de Física de Partículas. Universidade de Santiago de Compostela*\n",
    "\n",
    "Septiembre 2021\n"
   ]
  },
  {
   "cell_type": "markdown",
   "metadata": {
    "slideshow": {
     "slide_type": "slide"
    }
   },
   "source": [
    "## Cuestiones prácticas\n",
    "\n",
    "Profesor: José Ángel Hernando Morata\n",
    "\n",
    "departamento: Física de Partículas, Instituto Galego de Altas Enerxias, USC\n",
    "\n",
    "email: jose.hernando@usc.es\n",
    "\n",
    "dirección: despacho 1, Edificio Monte la Condesa\n"
   ]
  },
  {
   "cell_type": "markdown",
   "metadata": {
    "slideshow": {
     "slide_type": "slide"
    }
   },
   "source": [
    "### Apuntes del curso\n",
    "\n",
    "* Los apuntes están en [Jupyter Notebooks](https:jupyter.org) (NB).\n",
    "\n",
    "\n",
    "\n",
    "* En el siguiente repositorio de [GitHub](https://github.com): [jahernando/USC-FNyP](https://github.com/jahernando/USC-FNyP)\n",
    "\n",
    "\n",
    "   * El índice está en [indice.ipynb](https://github.com/jahernando/USC-FNyP/blob/main/indice.ipynb).\n"
   ]
  },
  {
   "cell_type": "markdown",
   "metadata": {
    "slideshow": {
     "slide_type": "slide"
    }
   },
   "source": [
    "### Objectives\n",
    "\n",
    "\n",
    "* Dar una visión de la Física de Partículas y su estado\n",
    "\n",
    "    \n",
    "* Conocer los partículas y conceptos fundamentales sin entrar en detalles o el formalismo matemático    \n",
    "    \n",
    "\n",
    "* Una introducción a la Física experimental y algunas herramientos teóricas de cálculo\n",
    "\n",
    "\n",
    "   cómo detectar partículas, tipos de experimentos, los observables físicos, los diagramas de Feynman\n",
    "    \n",
    "\n",
    "* Revisar las partículas fundamentales y las propiedades relevantes del Modelo Estándar de Partículas\n",
    "\n",
    "   leptones, hadrones, bosones Z, W, bosón de Higgs, sabor, violación de Paridad, de carga-Paridad \n"
   ]
  },
  {
   "cell_type": "markdown",
   "metadata": {
    "slideshow": {
     "slide_type": "slide"
    }
   },
   "source": [
    "### Descarga de los apuntes\n",
    "\n",
    "en la dirección: https://github.com/jahernando/USC-FNyP\n",
    "\n",
    "download: \n",
    "\n",
    "  * forma sencilla: en la pestañita: **code**, luego **download zip**\n",
    "\n",
    "  * en la consola de Unix (para MaC/Linux) haz un **clone del repositorio**\n",
    "   \n",
    "          git clone https://github.com/jahernando/USC-FNyP.git\n",
    "  "
   ]
  },
  {
   "cell_type": "markdown",
   "metadata": {
    "slideshow": {
     "slide_type": "slide"
    }
   },
   "source": [
    "### Abrir y editar los NB:\n",
    "\n",
    "   * via Anaconda, in Windows, Mac, busca el icono de Jypyter Notebook: [NB](https://jupyter.org/)\n",
    "   \n",
    "   * en la consola Unix (Linux/Mac), en el directorio donde has situado los apuntes, via el comando:\n",
    "   \n",
    "          jupyter notebook &"
   ]
  },
  {
   "cell_type": "markdown",
   "metadata": {
    "slideshow": {
     "slide_type": "slide"
    }
   },
   "source": [
    "## Bibliografía\n",
    "\n",
    "* [AB] \"Elementary Particle Physics\", A. Bettini, Cambridge.\n",
    "\n",
    "* [BM] \"Nuclear and Particle Physics, (an introduction)\", B. R. Martin, Wiley\n",
    "\n",
    "* [MS] \"Particle Physics\", B.R. Martin, G. Shaw, John Wiley & Sons\n",
    "\n",
    "* [MT] \"Modern Particle Physics\", Mark Thomson, Cambridge.\n",
    "\n",
    "* [FH] \"Leptons and Quarks\", Francis Halzen, Alan D. Martin, Josh Wiley & Sons\n",
    "\n",
    "* [DG] \"Introduction to Elementary Particles\", D. Griffiths, Wiley-VCH\n",
    "\n",
    "* [AL] \"Elementary Particle Physcis (an intuitive introduction)\", A. Loarkoski, Cambridge\n"
   ]
  },
  {
   "cell_type": "markdown",
   "metadata": {
    "slideshow": {
     "slide_type": "slide"
    }
   },
   "source": [
    "## [Introducción](introduccion.ipynb)\n",
    "\n",
    " * Introducción a Física de Partículas\n",
    " \n",
    " * Introducción al Modelo Estándar\n",
    " \n",
    " * Observables: secciones eficaces y anchuras de desintegración\n",
    " \n",
    " * Diagramas de Feynman\n"
   ]
  },
  {
   "cell_type": "markdown",
   "metadata": {
    "slideshow": {
     "slide_type": "slide"
    }
   },
   "source": [
    "## [Tema I: detección](./deteccion.ipynb)\n",
    "\n",
    " * introducción a aceleradores y colisionadores\n",
    " \n",
    " * interacción de las partículas con la materia\n",
    " \n",
    "    * ionización\n",
    "    * electrones y fotones\n",
    "    * hadrónica\n",
    "    \n",
    " * Detectores\n",
    "    * detector tipo, de trazas, calorímetros y Cherenkov\n",
    "    * trigger, procesado y presentación de los observables\n"
   ]
  },
  {
   "cell_type": "markdown",
   "metadata": {
    "slideshow": {
     "slide_type": "slide"
    }
   },
   "source": [
    "## [Tema II: leptones](./leptones.ipynb) \n",
    "\n",
    "  * Características de los leptones\n",
    "      * Características y familias leptónicas\n",
    "      * universalidad leptónica\n",
    "      \n",
    "  * Características de la interacciones débiles de leptones\n",
    "      * violación de paridad y helicidad del neutrino. \n",
    "      * corrientes V-A y quiralidad. \n",
    "      * Desintegración del $\\pi^\\pm$\n",
    "      \n",
    "  * Neutrinos:\n",
    "      * oscilaciones de neutrinos"
   ]
  },
  {
   "cell_type": "markdown",
   "metadata": {
    "slideshow": {
     "slide_type": "slide"
    }
   },
   "source": [
    "## [Tema III: quarks y hadrones](./quarks_hadrones.ipynb) "
   ]
  },
  {
   "cell_type": "markdown",
   "metadata": {
    "slideshow": {
     "slide_type": "slide"
    }
   },
   "source": [
    "## [Tema IV: Modelo Estándar (SM)](./sm.ipynb)"
   ]
  },
  {
   "cell_type": "markdown",
   "metadata": {
    "slideshow": {
     "slide_type": "slide"
    }
   },
   "source": [
    "## [Apéndice: Fundamentos](./apendice-fundamentos.ipynb)\n",
    "\n",
    "  * Unidades Naturales\n",
    "  \n",
    "  * Aplitudes de desintegración y secciones eficaces:\n",
    "  \n",
    "    * desintegración a dos cuerpos\n",
    "    \n",
    "    * interacción de dos cuerpos\n",
    "  \n",
    "  * Invariantes de Mandelstam"
   ]
  },
  {
   "cell_type": "markdown",
   "metadata": {
    "slideshow": {
     "slide_type": "slide"
    }
   },
   "source": [
    "## [Apéndice: Ecuación de Dirac](./apendice-dirac.ipynb)\n",
    "\n",
    " * Ecuación de Dirac\n",
    "    * Ecuación de Dirac y matrices $\\gamma$s\n",
    " * Soluciones de la partícula libre.\n",
    "    * espinores de fermiones y anti-fermiones\n",
    " * Helicidad y quiralidad\n",
    "    * espinores autoestados de helicidad\n",
    "    * proyectores de quiralidad."
   ]
  },
  {
   "cell_type": "markdown",
   "metadata": {
    "slideshow": {
     "slide_type": "slide"
    }
   },
   "source": [
    "## Apéndice : sobre grupos"
   ]
  },
  {
   "cell_type": "markdown",
   "metadata": {
    "slideshow": {
     "slide_type": "slide"
    }
   },
   "source": [
    "## [Extensión: SM](./extension-sm.ipynb)"
   ]
  }
 ],
 "metadata": {
  "anaconda-cloud": {},
  "celltoolbar": "Slideshow",
  "kernelspec": {
   "display_name": "Python 3 (ipykernel)",
   "language": "python",
   "name": "python3"
  },
  "language_info": {
   "codemirror_mode": {
    "name": "ipython",
    "version": 3
   },
   "file_extension": ".py",
   "mimetype": "text/x-python",
   "name": "python",
   "nbconvert_exporter": "python",
   "pygments_lexer": "ipython3",
   "version": "3.9.13"
  }
 },
 "nbformat": 4,
 "nbformat_minor": 4
}
