{
 "cells": [
  {
   "cell_type": "markdown",
   "metadata": {
    "slideshow": {
     "slide_type": "slide"
    }
   },
   "source": [
    "# Fundamentos del Modelo Estándar\n",
    "\n",
    "Jose A. Hernando\n",
    "\n",
    "*Departamento de Física de Partículas. Universidade de Santiago de Compostela*\n",
    "\n",
    "Diciembre 2023\n"
   ]
  },
  {
   "cell_type": "code",
   "execution_count": null,
   "metadata": {
    "slideshow": {
     "slide_type": "fragment"
    }
   },
   "outputs": [
    {
     "name": "stdout",
     "output_type": "stream",
     "text": [
      " Last version  Thu Dec  9 15:51:18 2021\n"
     ]
    }
   ],
   "source": [
    "import time\n",
    "print(' Last version ', time.asctime() )"
   ]
  },
  {
   "cell_type": "code",
   "execution_count": 3,
   "metadata": {},
   "outputs": [],
   "source": [
    "# general imports\n",
    "%matplotlib inline\n",
    "%reload_ext autoreload\n",
    "%autoreload 2\n",
    "\n",
    "# numpy and matplotlib\n",
    "import numpy as np\n",
    "import matplotlib\n",
    "import matplotlib.pyplot as plt\n",
    "\n",
    "import scipy.constants as units"
   ]
  },
  {
   "cell_type": "markdown",
   "metadata": {},
   "source": [
    "### Introducción\n",
    "\n",
    "El Modelo Estandar define el marco teórico que clasifica la materia y establece las interacciones fundamentales. Su construcción constituye uno de los grandes logros en Física Teórica y está ligada a la evolución de nuestro conocimiento de las interacciones fundamentales a lo largo del siglo XX. \n",
    "\n",
    "El Modelo cumple requisitos esenciales, como que el lagrangiano debe ser invariante Lorentz y que las teorías subjacentes tienen que ser invariantes gauge. Esta última condición es necesaria para que las teorías sean *renormalizables* y se pueden calcular observables como la sección eficaz y las anchuras de desintegración sin que aparezcan infinitos en los cálculos.\n",
    "\n",
    "Las interacciones electromagnéticas y fuertes aparecen en el modelo de manera natural a partir de la invariancia gauge local. Sin embargo, la inclusión de las interacciones débiles requiere cierto encaje, primero porque las interacciones no preservan paridad, y separan los campos en quiralidad a izquierdas y derechas, y segundo, que tras esta separación, para dotar de masa a las partículas es preciso incorporar un mecanismo específico, el mecanismo de Higgs, sin el cual el modelo carece de sentido.\n",
    "\n",
    "Estas notas presentan una estructura matemática del modelo sin pretender ser exhaustivas. Revisaremos primero los lagrangianos de los campos escalar, espinorial y vectorial, introduciremos después la invariancia gauge y la derivada covariante en la interaciones electromagnéticas y fuertes. Luego la introduciremos en la interacción electrodébil; veremos cómo aparecen las corrientes cargadas y neutras; y terminaremos con el mecanismo de Higgs para dotar de masas a los fermiones y los bosones vectoriales $W^\\pm$ y $Z^0$. "
   ]
  },
  {
   "cell_type": "markdown",
   "metadata": {},
   "source": [
    "## Simetría gauge\n",
    "\n",
    "Vamos a introducir el concepto de simetría gauge utilizando para ello el lagrangiano de Dirac y del campo electromagnético. De tal forma que veremos que podemos dar la interacción electromagnética como una consecuencia de la posibilidad de rotar el campo fermiónico por un fase local, esto es, que el lagrangiano será invariance gauge bajo el grupo $U(1)$.\n",
    "\n",
    "Posteriormente extenderemos el lagrangiano de Dirac para incluir el *color* de los quaks. En este caso asignaremos los tres colores de un mismo quark a los elementos del triplete del grupo $SU(3)_C$, donde $C$ es por color, y veremos que la invariancia gauge de este lagrangiano bajo transformaciones en $SU(3)_C$ es más rica y compleja que con $U(1)$."
   ]
  },
  {
   "cell_type": "markdown",
   "metadata": {
    "slideshow": {
     "slide_type": "slide"
    }
   },
   "source": [
    "### Recordatorio de los diversos lagrangianos \n",
    "\n",
    "#### Revisión sobre el lagrangiano\n",
    "\n",
    "Recordemos que en mecánica clásica definimos el lagrangiano como:\n",
    "\n",
    "$$\n",
    "L(q, \\dot{q}) = T -V\n",
    "$$\n",
    "\n",
    "donde $T$ es la energía cinética, $V$ el potencial, $q_i$, con $i=1, \\dots, n$, son las coordenadas generalizadas y $\\dot{q}$ sus derivadas temporales.\n",
    "\n",
    "y las ecuaciones del movimiento viene dadas por las escuaciones de Euler-Lagrange:\n",
    "\n",
    "$$\n",
    "\\frac{\\mathrm{d}}{\\mathrm{dt}} \\left( \\frac{\\partial L}{\\partial \\dot{q}_i}\\right) = \\frac{\\partial L}{\\partial q_i}\n",
    "$$\n",
    "\n",
    "que provienen de exigir que la acción del sistema, $S$, sea mínima, siendo:\n",
    "\n",
    "$$\n",
    "S = \\int L(q_i, \\dot{q}_i) \\, \\mathrm{d} t\n",
    "$$"
   ]
  },
  {
   "cell_type": "markdown",
   "metadata": {
    "slideshow": {
     "slide_type": "subslide"
    }
   },
   "source": [
    "En el caso de una partícula en un potencial, el lagrangiano es su energía cinética menos su potencial:\n",
    "\n",
    "$$\n",
    "L = \\frac{1}{2} m \\dot{x}^2 - V(x) \n",
    "$$\n",
    "\n",
    "las ecuaciones del movimiento dan:\n",
    "\n",
    "$$\n",
    "m \\, \\ddot{x} = -\\frac{\\partial V(x)}{\\partial x}\n",
    "$$\n",
    "\n",
    "que es la ecuación de Newton."
   ]
  },
  {
   "cell_type": "markdown",
   "metadata": {
    "slideshow": {
     "slide_type": "slide"
    }
   },
   "source": [
    "En *teoría clasica de campos* definimos un campo $\\phi(x)$ en las coordenadas espacio temporales $x$ y el lagrangiano del campo como:\n",
    "\n",
    "$$\n",
    "L = \\int \\mathcal{L}(\\phi, \\partial_\\mu \\phi) \\, \\mathrm{d}^3x\n",
    "$$\n",
    "\n",
    "donde $\\mathcal{L}(\\phi, \\partial_\\mu \\phi)$ es la densidad lagrangiana, o por abuso del lenguaje, el lagrangiano.\n",
    "\n",
    "La ecuaciones del movimiento vienen dadas por:\n",
    "\n",
    "$$\n",
    "\\partial_\\mu \\left( \\frac{\\partial \\mathcal{L}}{\\partial (\\partial_\\mu \\phi)}\\right) = \\frac{\\partial \\mathcal{L}}{\\partial \\phi}\n",
    "$$"
   ]
  },
  {
   "cell_type": "markdown",
   "metadata": {},
   "source": [
    "que provienen de exigir que la acción es mínima, siendo la acción:\n",
    "\n",
    "$$\n",
    "S = \\int \\mathcal{L}(\\phi, \\partial_\\mu \\phi) \\, \\mathrm{d}^4x\n",
    "$$\n",
    "\n",
    "Notar que como la acción no tiene dimensiones y $\\mathrm{d}^4x$ tiene dimensiones de $[E]^{-4}$, el lagrangiano tiene dimensión $[E]^4$. Esto significa que los términos del lagrangiano deben tener dimesión 4 en energía."
   ]
  },
  {
   "cell_type": "markdown",
   "metadata": {
    "slideshow": {
     "slide_type": "slide"
    }
   },
   "source": [
    "#### Lagrangiano del campo escalar\n",
    "\n",
    "Sea $\\phi(x)$ un campo escalar *real* asociado a partículas de masa $m$, su lagrangiano viene dado por:\n",
    "\n",
    "$$\n",
    "\\mathcal{L} = \\frac{1}{2} \\partial_\\mu \\phi(x) \\, \\partial^\\mu \\phi(x) - \\frac{1}{2} m^2 \\phi^2(x)\n",
    "$$\n",
    "\n",
    "El primer cinético es cinético y el segundo es el potencial asociado a la masa de la partícula. La masa es entonces la energía mínima para crear la partícula asociada al campo.\n",
    "\n",
    "La ecuación de movimiento:\n",
    "\n",
    "$$\n",
    "\\partial_\\mu \\partial^\\mu \\phi(x) + m^2 \\phi(x) = 0\n",
    "$$\n",
    "\n",
    "es la ecuación de Klein-Gordon"
   ]
  },
  {
   "cell_type": "markdown",
   "metadata": {},
   "source": [
    "que también podemos escribirla como:\n",
    "\n",
    "$$\n",
    "\\square \\, \\phi(x) + m^2 \\phi(x) = 0\n",
    "$$\n",
    "\n",
    "donde hemos definido:\n",
    "\n",
    "$$\n",
    "\\square \\equiv \\partial_\\mu \\partial^\\mu\n",
    "$$"
   ]
  },
  {
   "cell_type": "markdown",
   "metadata": {},
   "source": [
    "Consideremos ahora un campo escalar *complejo*, $\\phi$, que está compuesto por dos campos escalares reales e independientes, $\\varphi_1, \\varphi_2$:\n",
    "\n",
    "$$\n",
    "\\phi(x) = \\varphi_1(x) + i \\varphi_2(x)\n",
    "$$ \n",
    "\n",
    "\n",
    "El lagrangiano del campo complejo corresponde al de los dos campos reales:\n",
    "\n",
    "$$\n",
    "\\mathcal{L}  = \\partial_\\mu \\phi^*(x) \\, \\partial^\\mu \\phi(x) - m^2 \\phi^*(x) \\phi(x) = \\\\\n",
    "\\sum_{i= 1, 2} \\frac{1}{2} \\partial_\\mu \\varphi_i(x) \\, \\partial^\\mu \\varphi_i(x) - \\frac{1}{2} m^2 \\varphi_i^2(x)\n",
    "$$"
   ]
  },
  {
   "cell_type": "markdown",
   "metadata": {},
   "source": [
    "Es fácil comprobar que el lagrangiano es invariante respecto a un cambio de fase global\n",
    "\n",
    "$$\n",
    "\\phi(x) \\to \\phi'(x) = e^{i\\theta} \\phi(x)\n",
    "$$\n",
    "\n",
    "Notar también que las dimensiones del campo, $\\phi$, son de energía, $[E]$."
   ]
  },
  {
   "cell_type": "markdown",
   "metadata": {},
   "source": [
    "#### Lagrangiano de Dirac\n",
    "\n",
    "\n",
    "El lagrangiano de un campo de Dirac es:\n",
    "\n",
    "$$\n",
    "\\mathcal{L} = i \\bar{\\Psi}(x) \\gamma^\\mu \\partial_\\mu \\Psi(x) - m \\bar{\\Psi}(x) \\Psi(x)\n",
    "$$\n",
    "\n",
    "que corresponde también a un término cinético y el del potencial asociado a su masa respectivamente.\n",
    "\n",
    "Recordemos que $\\bar{\\Psi}(x)$ es el espinor adjunto definido por:\n",
    "\n",
    "$$\n",
    "\\bar{\\Psi}(x) = \\Psi^\\dagger(x) \\, \\gamma^0 \n",
    "$$"
   ]
  },
  {
   "cell_type": "markdown",
   "metadata": {},
   "source": [
    "En total hay 8 funciones reales e independientes en $\\Psi$, y que podemos dar con $\\Psi$ y $\\bar{\\Psi}$, de manera similar a considerar como independientes $\\phi^*, \\phi$ en el caso de un campo escalar complejo en vez de los dos campos escalares reales $\\varphi_1, \\varphi_2$.\n",
    "\n",
    "Desde el punto de vista de las dimensiones, el espinor, $\\Psi$, tiene dimensión $[E]^{3/2}$, de tal forma que cada término del lagrangiano tiene dimensión $[E]^4$."
   ]
  },
  {
   "cell_type": "markdown",
   "metadata": {
    "slideshow": {
     "slide_type": "slide"
    }
   },
   "source": [
    "La ecuación de Dirac se obtiene a partir de la ecuación del movimiento derivando respecto al espinor adjunto, $\\bar{\\Psi}(x)$:\n",
    "\n",
    "\n",
    "$$\n",
    "(i \\gamma^\\mu \\partial_\\mu - m)  \\, \\Psi(x) = 0 \n",
    "$$\n"
   ]
  },
  {
   "cell_type": "markdown",
   "metadata": {},
   "source": [
    "Derivando respecto a $\\Psi(x)$, obtenemos a su vez la ec. de Dirac del espinor adjunto:\n",
    "\n",
    "$$\n",
    "i \\partial_\\mu \\bar{\\Psi}(x) \\, \\gamma^\\mu +  m \\bar{\\Psi}(x)  = 0 \n",
    "$$"
   ]
  },
  {
   "cell_type": "markdown",
   "metadata": {},
   "source": [
    "Vemos también que el lagrangiano de Dirac es invariante bajo un cambio global de fase:\n",
    "\n",
    "$$\n",
    "\\Psi(x) \\to \\Psi'(x) = e^{iQ \\theta} \\Psi(x)\n",
    "$$\n",
    "\n",
    "Donde $Q$ es una constante, que asociaremos a la carga eléctrica del fermión."
   ]
  },
  {
   "cell_type": "markdown",
   "metadata": {},
   "source": [
    "El campo $\\Psi(x)$ es invariante bajo una rotación $U(\\theta)$ del grupo $U(1)$\n",
    "\n",
    "$$\n",
    "\\Psi'(x) = U(\\theta) \\Psi(x), \\;\\; U(\\theta) = e^{iQ \\theta}\n",
    "$$"
   ]
  },
  {
   "cell_type": "markdown",
   "metadata": {},
   "source": [
    "Parece *natural* que si podemos cambiar la fase del campo de Dirac globalmente, esto es, igual en todos los puntos al mismo tiempo, podamos cambiarla de forma continua en una región o intervalo temporal, eso es cambiarla *localmente*. \n",
    "\n",
    "Sin embargo si realizamos un cambio de fase *local*:\n",
    "\n",
    "$$\n",
    "\\Psi(x) \\to \\Psi'(x) = e^{iQ \\theta(x)} \\Psi(x)\n",
    "$$\n",
    "\n",
    "donde ahora $\\theta(x)$ cambia continuamente con $x$.\n",
    "\n",
    "Esto es, si exigimos que el lagrangiano sea invariante gauge local respecto a una rotación, $U(\\theta(x))$ del grupo $U(1)$\n",
    "\n",
    "$$\n",
    "\\Psi'(x) = U(\\theta(x)) \\Psi(x), \\;\\;\\; U(\\theta(x)) =  e^{i Q\\theta(x)}\n",
    "$$"
   ]
  },
  {
   "cell_type": "markdown",
   "metadata": {},
   "source": [
    "obtenemos que el lagrangiano del campo transformado es:\n",
    "\n",
    "$$\n",
    "i \\bar{\\Psi}' \\gamma^\\mu \\partial_\\mu \\Psi' + m \\bar{\\Psi}' \\Psi' = \\\\\n",
    "i \\bar{\\Psi} \\gamma^\\mu \\partial_\\mu \\Psi + m \\bar{\\Psi} \\Psi\n",
    " - Q \\, \\bar{\\Psi} \\gamma^\\mu \\Psi \\, \\partial_\\mu \\theta(x)\n",
    "$$\n",
    "\n",
    "En el lagrangiano aparece el término:\n",
    "\n",
    "$$\n",
    "- Q \\, \\bar{\\Psi} \\gamma^\\mu \\Psi \\, \\partial_\\mu \\theta(x)\n",
    "$$\n",
    "\n",
    "que no preserva la invariante gauge."
   ]
  },
  {
   "cell_type": "markdown",
   "metadata": {},
   "source": [
    "Podemos interpretar ese término como el acoplo de la corriente:\n",
    "\n",
    "$$\n",
    "j^\\mu(x) \\equiv Q \\, \\bar{\\Psi}(x) \\gamma^\\mu \\Psi(x)\n",
    "$$\n",
    "\n",
    "con un campo vectorial, $-\\partial_\\mu \\theta(x)$.\n",
    "\n",
    "El campo es vectorial porque proviene de una derivada covariante, y se comporta por lo tanto como un vector."
   ]
  },
  {
   "cell_type": "markdown",
   "metadata": {
    "slideshow": {
     "slide_type": "slide"
    }
   },
   "source": [
    "#### Lagrangiano del campo electromagnético\n",
    "\n",
    "Sea ahora $A^\\mu(x)$ el campo vectorial del electromagnetismo:\n",
    "\n",
    "$$\n",
    "A^\\mu(x) = \\begin{pmatrix} \\phi(x) \\\\ {\\bf A}(x) \\end{pmatrix},\n",
    "$$\n",
    "\n",
    "donde $\\phi(x)$ es el potencial eléctrico y ${\\bf A(x)}$ el potencial vector magnético.\n",
    "\n",
    "Notar que se trata de 4 funciones reales."
   ]
  },
  {
   "cell_type": "markdown",
   "metadata": {},
   "source": [
    "[TODO] Ecuaciones de Maxwell"
   ]
  },
  {
   "cell_type": "markdown",
   "metadata": {},
   "source": [
    "Definimos el campo tensor de fuerza, $F^{\\mu\\nu}$, como:\n",
    "\n",
    "$$\n",
    "F^{\\mu \\nu} = \\partial^\\mu A^\\nu - \\partial^\\nu A^\\mu\n",
    "$$\n",
    "\n",
    "\n",
    "Lo que nos permite dar las ecuaciones de Maxwell en ausencia de cargas y corrientes, como:\n",
    "\n",
    "$$\n",
    "\\partial_\\mu F^{\\mu\\nu} = 0\n",
    "$$\n",
    "\n",
    "Estas ecuaciones provienen del lagrangiano:\n",
    "\n",
    "$$\n",
    "\\mathcal{L}  = - \\frac{1}{4} F_{\\mu\\nu} F^{\\mu\\nu}\n",
    "$$\n"
   ]
  },
  {
   "cell_type": "markdown",
   "metadata": {},
   "source": [
    "Notar que las dimensiones del campo $A_\\mu$ son de energía $[E]$."
   ]
  },
  {
   "cell_type": "markdown",
   "metadata": {},
   "source": [
    "Podemos explicitar las ecuaciones de Maxwell en función de $A_\\mu$:\n",
    "\n",
    "$$\n",
    "\\partial_\\mu \\partial^\\mu A^\\nu - \\partial^\\nu (\\partial_\\mu A^\\mu) = 0\n",
    "$$\n",
    "\n",
    "que podemos comprobar facilmente que es invariante bajo la transformación:\n",
    "\n",
    "$$\n",
    "A^\\mu(x) \\to A^\\mu(x) - \\partial^\\mu \\theta(x)\n",
    "$$\n",
    "\n",
    "siendo $\\theta(x)$ una transformación continua en $x$."
   ]
  },
  {
   "cell_type": "markdown",
   "metadata": {},
   "source": [
    "Esto es, hay un conjunto de campos que representan la misma física. La diferencia entre ellos es la derivada de una función continua $\\theta(x)$.\n",
    "\n",
    "Esta equivalencia de campos la llamamos **invariancia gauge**."
   ]
  },
  {
   "cell_type": "markdown",
   "metadata": {},
   "source": [
    "Podemos utilizar esta invariancia par escoger una *gauge* determinada, e imponer, sin pérdida de generalidad, que: \n",
    "\n",
    "$$\n",
    "\\partial_\\mu A^\\mu = 0\n",
    "$$\n",
    "\n",
    "A esta gauge la llamamos de Lorenz (¡no Lorentz!).\n",
    "\n",
    "Con lo que las ecuaciones del movimiento quedan:\n",
    "\n",
    "$$\n",
    "\\partial_\\mu \\partial^\\mu A^\\nu = 0, \\;\\;\\, \\square \\, A^\\nu = 0\n",
    "$$\n",
    "\n",
    "Esto es las cuatro componentes $A^\\mu$ cumplen la ecuación de Klein-Gordon para una partícula sin masa. De ahí que el fotón no tenga masa."
   ]
  },
  {
   "cell_type": "markdown",
   "metadata": {},
   "source": [
    "Las ecuaciones del campo y la condición de la gauge de Lorenz aún admiten una transformación más del tipo $A^\\mu - \\partial^\\mu \\theta$ que las deja invariantes,  siempre que se cumpla la condición adicional:\n",
    "\n",
    "$$\n",
    "\\partial_\\mu \\partial^\\mu \\theta(x) = 0, \\;\\;\\; \\square \\, \\theta(x) = 0\n",
    "$$\n",
    "\n",
    "Es fácil comprobar que un nuevo campo con esa condición, cumpliría también $\\partial_\\mu A^\\mu = 0, \\;\\; \\square A^\\mu = 0$.\n",
    "\n",
    "\n",
    "Asi de los cuatro grados de libertad iniciales del fotón, dadas las dos condiciones, solo quedan dos grados de libertad, que corresponden a las dos polarizaciones del fotón."
   ]
  },
  {
   "cell_type": "markdown",
   "metadata": {},
   "source": [
    "Sea ahora la corriente electromagnética $j^\\mu(x)$\n",
    "\n",
    "$$\n",
    "j^\\mu(x)_Q = Q \\, (\\rho(x), \\, {\\bf j}(x)),\n",
    "$$\n",
    "\n",
    "donde $\\rho(x)$ es la densidad y ${\\bf j}(x)$ la corriente espacial de probabilidad y $Q$ la carga eléctrica.\n",
    "\n",
    "Las ecuaciones de Maxwell, del movimiento, son ahora:\n",
    "\n",
    "$$\n",
    "\\partial_\\mu F^{\\mu\\nu} = j^\\nu_Q\n",
    "$$\n"
   ]
  },
  {
   "cell_type": "markdown",
   "metadata": {},
   "source": [
    "La corriente es una corriente conservada. Dado que $F^{\\mu\\nu}$ es un tensor antisimétrico se cumple:\n",
    "\n",
    "$$\n",
    "\\partial_\\nu\\partial_\\mu F^{\\mu\\nu} = 0  \\Rightarrow \\partial_\\nu j^\\nu_Q = 0.\n",
    "$$"
   ]
  },
  {
   "cell_type": "markdown",
   "metadata": {
    "slideshow": {
     "slide_type": "slide"
    }
   },
   "source": [
    "Las ecuaciones de Maxwell en presencia de carga y corrientes se obtienen de incluir en el lagrangiano un término adicional que acopla el fotón con la corriente:\n",
    "\n",
    "$$\n",
    "\\mathcal{L} = - \\frac{1}{4} F_{\\mu\\nu} F^{\\mu\\nu} - j^\\mu_Q A_\\mu\n",
    "$$"
   ]
  },
  {
   "cell_type": "markdown",
   "metadata": {},
   "source": [
    "Y finalmente para representar un fotón masivo, con masa, $m$, introducimos un término de masa en el lagrangiano:\n",
    "\n",
    "$$\n",
    "\\mathcal{L} = - \\frac{1}{4}  F_{\\mu\\nu} F^{\\mu\\nu} + \\frac{1}{2} m^2 A^\\mu A_\\mu\n",
    "$$\n",
    "\n",
    "que se conoce como lagrangiano de Proca.\n"
   ]
  },
  {
   "cell_type": "markdown",
   "metadata": {},
   "source": [
    "Que nos daría como ecuación del movimiento, en ausencia de cargas:\n",
    "\n",
    "$$\n",
    "\\partial_\\mu \\partial^\\mu A^\\nu - \\partial^\\nu (\\partial_\\mu A^\\mu) + m^2 A^\\nu = 0\n",
    "$$\n",
    "\n",
    "Que si contraemos con $\\partial_\\nu$ nos queda:\n",
    "\n",
    "$$\n",
    "\\partial_\\mu \\partial^\\mu (\\partial_\\nu A^\\nu )- \\partial_\\nu \\partial^\\nu (\\partial_\\mu A^\\mu) + m^2 \\partial_\\nu A^\\nu = 0, \n",
    "$$\n",
    "\n",
    "Esto es, se cumple automáticamente, si necesidad de seleccionarla,\n",
    "\n",
    "$$\n",
    "\\partial_\\mu A^\\mu = 0\n",
    "$$\n",
    "\n",
    "la condición de la *gauge de Lorenz*. "
   ]
  },
  {
   "cell_type": "markdown",
   "metadata": {},
   "source": [
    "La ecuación del movimiento podemos reescribirla entonces como:\n",
    "\n",
    "$$\n",
    "\\partial_\\mu \\partial^\\mu A^\\nu + m^2 A^\\nu = 0, \\;\\;\\; \\square \\, A^\\mu + m^2 A^\\mu = 0\n",
    "$$\n",
    "\n",
    "Ahora las cuatro componentes de $A^\\mu$ cumplen la ecuación de Klein-Gordon para una partícula de masa $m$."
   ]
  },
  {
   "cell_type": "markdown",
   "metadata": {},
   "source": [
    "Aunque la condición de la *gauge de Lorenz* se cumple automáticamente, aún podemos no obstante imponer la condición extra:\n",
    "\n",
    "$$\n",
    "\\square \\, \\theta = 0\n",
    "$$\n",
    "\n",
    "Como en este caso solo hay una condición sobre las cuatro componentes de $A^\\mu$, los grados de libertad del campo vectorial con son tres, que corresponden a tres polaridades."
   ]
  },
  {
   "cell_type": "markdown",
   "metadata": {},
   "source": [
    "No obstante un campo vectorial con masa no preserva la invariancia gauge, ya que:\n",
    "\n",
    "$$\n",
    "\\frac{1}{2} m^2 A'^\\mu A'_\\mu  = \\frac{1}{2}m^2 (A^\\mu - \\partial^\\mu \\theta) \\, (A_\\mu - \\partial_\\mu \\theta) \\neq \\frac{1}{2} m^2 A^\\mu A_\\mu\n",
    "$$\n",
    "\n",
    "por eso decimos que los terminos de masa de los bosones vectoriales rompen la simetría gauge local.\n"
   ]
  },
  {
   "cell_type": "markdown",
   "metadata": {},
   "source": [
    "### Recapitulación \n",
    "\n",
    "La siguiente tabla muestra las ecuaciones del movimiento y los lagrangianos de los campos escalar complejo, de Dirac y vectorial.\n",
    "\n",
    "| | | | |\n",
    "| :--: |:--: | :--: | :--: |\n",
    "| ----- Tipo ----- | --------- Escalar Complejo ---------- | ---------- Espinor ------------ | ------ Bosón vectorial ---------- |\n",
    "| | Klein-Gordon | Dirac | Maxwell |\n",
    "|Ecuación | $(\\partial^\\mu\\partial_\\mu + m^2) \\, \\phi = 0$ | $(i\\gamma^\\mu \\partial_\\mu - m) \\, \\Psi = 0$ | $\\partial_\\mu F^{\\mu\\nu} = [j^\\nu_Q]$ |\n",
    "|Lagrangiano| $(\\partial_\\mu \\phi)^* (\\partial^\\mu \\phi) - m^2 \\phi^* \\phi$ | $i\\bar{\\Psi}\\gamma^\\mu \\partial_\\mu \\Psi - m \\bar{\\Psi}\\Psi$|  $-\\frac{1}{4}F^{\\mu\\nu}F_{\\mu\\nu} \\left[-j^\\mu_Q A_\\mu + \\frac{1}{2} m^2 A_\\mu A^\\mu \\right]$|\n",
    "\n",
    "Donde:\n",
    "\n",
    "$$\n",
    "F^{\\mu\\nu} = \\partial^\\mu A^\\nu - \\partial^\\nu A^\\mu\n",
    "$$\n",
    "\n",
    "Y los términos entre paréntesis corresponde a la existencia de una corriente electromagnética, $j^\\nu_Q$ y un término de masas para el campo vectorial $A_\\mu$."
   ]
  },
  {
   "cell_type": "markdown",
   "metadata": {},
   "source": [
    "### Invariancia gauge\n",
    "\n",
    "#### Electromagnetismo. Derivada Covariante.\n",
    "\n",
    "Hemos visto por un lado que exigir la invariancia del lagrangiano con el cambio de fase local del campo de Dirac, implicaba la presencia de un término de interacción de la corriente electromagnética con un campo vectorial; y por otro lado que ese mismo término puede absorberse en el lagrangiano del campo vectorial electromagnético. \n",
    "\n",
    "Parece natural que unifiquemos entonces ambos en un solo lagrangiano que describa la interacciones electromagnéticas de un fermión de carga $Q$ y que además preserve la invariance gauge local del fermión:"
   ]
  },
  {
   "cell_type": "markdown",
   "metadata": {},
   "source": [
    "\n",
    "\n",
    "$$\n",
    "\\mathcal{L}  = i \\bar{\\Psi} \\gamma^\\mu \\partial_\\mu \\Psi - m \\bar{\\Psi}\\Psi -  j^\\mu_Q  A_\\mu - \\frac{1}{4} F_{\\mu\\nu}F^{\\mu\\nu}\n",
    "$$\n",
    "\n",
    "donde la corriente eléctrica viene dada:\n",
    "\n",
    "$$\n",
    "j^\\mu_Q \\equiv Q \\, \\bar{\\Psi} \\gamma^\\mu \\Psi\n",
    "$$\n",
    "\n",
    "$Q$ es la carga eléctrica, por ejemplo para el electrón $Q = -e$.\n"
   ]
  },
  {
   "cell_type": "markdown",
   "metadata": {},
   "source": [
    "Que podemos escribir de forma más compacta si introducimos la **derivada covariante generalizada**:\n",
    "\n",
    "$$\n",
    "D_\\mu = \\partial_\\mu + i Q A_\\mu\n",
    "$$\n",
    "\n",
    "Como:\n",
    "\n",
    "$$\n",
    "\\mathcal{L}  = i \\bar{\\Psi} \\gamma^\\mu D_\\mu \\Psi - m \\bar{\\Psi}\\Psi - \\frac{1}{4} F^{\\mu\\nu}F_{\\mu\\nu}\n",
    "$$\n"
   ]
  },
  {
   "cell_type": "markdown",
   "metadata": {
    "slideshow": {
     "slide_type": "slide"
    }
   },
   "source": [
    "Podemos comprobar que este lagrangiano es ahora invariante bajo la tranformación gauge local de $U(1)$ del campo del fermión, $\\Psi(x)$, si el campo vectorial, $A^\\mu(x)$, cambia de forma acorde:\n",
    "\n",
    "$$\n",
    "\\Psi'(x) = e^{i Q\\, \\theta(x)} \\, \\Psi(x),\n",
    "$$\n",
    "$$\n",
    "A'_\\mu(x) = A_\\mu(x) - \\partial_\\mu \\theta(x)\n",
    "$$\n"
   ]
  },
  {
   "cell_type": "markdown",
   "metadata": {},
   "source": [
    "Es inmediato verificar que el término de masa y el cinético del campo vectorial son invariantes bajo esta transformación.\n",
    "\n",
    "Para que el término cinético del fermión sea invariante debe cumplir:\n",
    "\n",
    "$$\n",
    "D'_\\mu \\, \\Psi' = D'_\\mu U(\\theta )  \\,\\Psi = U(\\theta ) D_\\mu \\, \\Psi\n",
    "$$\n",
    "\n",
    "donde:\n",
    "\n",
    "$$\n",
    "U(\\theta) = e^{iQ\\theta(x)}\n",
    "$$\n"
   ]
  },
  {
   "cell_type": "markdown",
   "metadata": {},
   "source": [
    "Comprobémoslo:\n",
    "\n",
    "$$\n",
    "\\left[ \\partial_\\mu + i Q A'_\\mu \\right] e^{iQ\\theta(x)} \\Psi =  \\\\\n",
    "\\left[ \\partial_\\mu + i Q (A_\\mu - \\partial_\\mu \\theta(x) ) \\right]  e^{iQ\\theta(x)} \\Psi = \\\\\n",
    "e^{iQ \\theta(x)} \\left[\\partial_\\mu + i Q \\partial_\\mu \\theta(x) + iQA_\\mu - i Q \\partial_\\mu \\theta(x) \\right] \\Psi = \\\\\n",
    "e^{iQ \\theta(x)} \\left[\\partial_\\mu + iQ A_\\mu \\right] \\Psi\n",
    "$$"
   ]
  },
  {
   "cell_type": "markdown",
   "metadata": {},
   "source": [
    "El campo vectorial de forma genérica debe transformar como:\n",
    "\n",
    "$$\n",
    "A'_\\mu = U A_\\mu U^{-1} + \\frac{i}{Q} (\\partial_\\mu U) \\, U^{-1}\n",
    "$$\n"
   ]
  },
  {
   "cell_type": "markdown",
   "metadata": {},
   "source": [
    "\n",
    "En este caso con $U(\\theta) = e^{iQ\\theta(x)}$, tenemos:\n",
    "\n",
    "\n",
    "$$\n",
    "A'_\\mu = A_\\mu + \\frac{i}{Q} (i Q \\partial_\\mu \\theta(x)) = A_\\mu -  \\partial_\\mu \\theta(x) \n",
    "$$"
   ]
  },
  {
   "cell_type": "markdown",
   "metadata": {},
   "source": [
    "Podemos concluir entonces, que si exigimos que el lagrangiano de Dirac sea invariante respecto a un cambio de fase *local* del campo $\\Psi$, aparece de forma natural la interacción electromagnética entre la carga eléctrica asociada al fermión y el campo vectorial del fotón. \n",
    "\n",
    "Decimos que el lagrangiano en invariante gauge bajo al grupo $U(1)_Q$, donde $Q$ es por carga.\n",
    "\n",
    "También vemos que cada fermión puede tener su propia carga eléctrica asociada, $Q$."
   ]
  },
  {
   "cell_type": "markdown",
   "metadata": {},
   "source": [
    "#### Invariance gauge bajo color\n",
    "\n",
    "Sabemos experimentalmente que existen 6 quarks, $u, d, s, c, b, t$, cada uno de ellos en tres colores. \n"
   ]
  },
  {
   "cell_type": "markdown",
   "metadata": {},
   "source": [
    "Vamos a extender el campo de Dirac para incluir el *color* de los quarks. Lo haremos asignando cada color a un elemento del triplete del grupo $SU(3)_C$, donde $C$ es por color, y exigiendo de nuevo que el lagrangiano sea invariante bajo rotaciones *locales* en el espacio *interno* del color, en $SU(3)_C$. \n",
    "\n",
    "Veremos que este caso es más complejo que el del electromagnetismo, dado que los generadores de las rotaciones no conmutan, esto es, se trata de un *grupo no abeliano*.\n",
    "\n",
    "El ejemplo del $SU(3)$ se puede extender a otros grupos $SU(N)$, en particular al $SU(2)$ como veremos más adelante en la sección de las interacciones electrodébiles.\n"
   ]
  },
  {
   "cell_type": "markdown",
   "metadata": {},
   "source": [
    "Sabemos que los quarks vienen en tres colores, *rojo, azul y verde*, podemos asignar el campo de cada color de un quark, $q^\\alpha$, al elemento $\\alpha$ de un triplete de $SU(3)$, con $\\alpha = r, b, g$. \n",
    "\n",
    "así:\n",
    "\n",
    "$$\n",
    "q \\equiv \\begin{pmatrix} q^r \\\\ q^b \\\\ q^g \\end{pmatrix} \n",
    "$$\n",
    "\n",
    "Estamos usando una notación vectorial donde cada elemento corresponde al espinor de Dirac asociado al color del quark."
   ]
  },
  {
   "cell_type": "markdown",
   "metadata": {},
   "source": [
    "El lagrangiano de Dirac para un quark de un sabor podemos darlo como:\n",
    "\n",
    "$$\n",
    "\\mathcal{L} = i \\bar{q} \\gamma^\\mu \\partial_\\mu q - m \\bar{q} q \n",
    "$$\n",
    "\n",
    "donde:\n",
    "\n",
    "$$\n",
    "\\bar{q} = (\\bar{q}^r, \\bar{q}^b, \\bar{q}^g)\n",
    "$$"
   ]
  },
  {
   "cell_type": "markdown",
   "metadata": {},
   "source": [
    "Se puede comprobar fácilmente que este lagrangiano es invariante bajo la rotación global en $SU(3)_C$.\n",
    "\n",
    "$$\n",
    "q \\to q' = U({\\bf \\theta}) \\, q, \\;\\;\\; U({\\bf \\theta}) =  e^{i g_S \\theta^a T_a} \n",
    "$$\n",
    "\n",
    "Donde $U({\\bf \\theta})$ es la matriz de rotación, que es unitaria, $U^\\dagger U = I$, y $g_S$ es una constante, que llamaremos constante de acoplo fuerte.\n",
    "\n",
    "Esto es rotamos *globalmente* por los ángulos $\\theta_a$ sobre cada generador, $T_a$, de $SU(3)$. \n",
    "\n",
    "El grupo $SU(3)$ tiene 8 generadores, $a = 1, \\dots, 8$."
   ]
  },
  {
   "cell_type": "markdown",
   "metadata": {},
   "source": [
    "Los generadores podemos expresarlos en función de las matrices de Geldmann:\n",
    "\n",
    "$$\n",
    "T_a = \\frac{1}{2} \\lambda_a\n",
    "$$\n",
    "\n",
    "que cumplen las siguientes reglas de conmutación:\n",
    "\n",
    "$$\n",
    "[\\lambda_a, \\lambda_b] = 2 i f^{abc} \\lambda_c\n",
    "$$\n",
    "\n",
    "donde $f^{abc}$ son las constantes de estructura del grupo, que son reales y totalmente antisimétricas.\n",
    "\n",
    "Lo que nos dice que los generadores no conmutan, así que tendremos que tener cuidado a la hora de expandir el exponente, $e^{i g_S \\theta^a T_a}$ para calcular la matriz de rotación, $U({\\bf \\theta})$."
   ]
  },
  {
   "cell_type": "markdown",
   "metadata": {},
   "source": [
    "Notar que la discusión sería similar si hubiésemos usando el grupo $SU(2)$, en ese caso el número de generadores sería tres.\n",
    "\n",
    "$$\n",
    "\\tau_i = \\frac{1}{2} \\sigma_i\n",
    "$$\n",
    "\n",
    "donde $\\sigma_i$ son las matrices de Pauli, con $i = 1, 2, 3$. \n",
    "\n",
    "La estructura del grupo $SU(2)$ es bien conocida:\n",
    "\n",
    "$$\n",
    "[\\tau_i, \\tau_j] = i \\epsilon_{ijk} \\tau_j\n",
    "$$\n",
    "\n",
    "que se sigue inmediatamente de las propiedades de las matrices de Pauli."
   ]
  },
  {
   "cell_type": "markdown",
   "metadata": {},
   "source": [
    "Exigimos ahora que el lagrangiano de Dirac del quark de colores sea invariante bajo rotaciones *locales* en el espacio interno de $SU(3)_C$, esto es, bajo:\n",
    "\n",
    "$$\n",
    "q \\to U(\\theta(x)) \\, q = e^{i g_S \\theta^a(x) T_a} q\n",
    "$$\n",
    "\n",
    "Para ello, de forma similar a como hicimos en el caso del electromagnetismo, introduciremos la derivada convariante:\n",
    "\n",
    "$$\n",
    "D_\\mu = \\partial_\\mu + i g_S T_a G^a_\\mu(x)\n",
    "$$\n",
    "\n",
    "Donde $g_S$ será la constante fuerte, y $G^a_\\mu(x)$ los 8 campos vectoriales asociados a cada generador. Notar que el índice $a$ esta contraido, luego significa un sumatorio en los 8 términos. Físicamente cada campo vectorial $G_\\mu^a(x)$ corresponde a cada uno de los 8 tipos de gluones de cromodinámica cuántica."
   ]
  },
  {
   "cell_type": "markdown",
   "metadata": {},
   "source": [
    "Al igual que hicimos en el electromagnetismo, las transformaciones de los campos, $G^a_\\mu(x)$ serán tales que la derivada covariante se transforme igual que $q$, esto es:\n",
    "\n",
    "$$\n",
    "D'_\\mu q' = D'_\\mu e^{i g_S \\theta^a(x) T_a} q = e^{i g_S \\theta^a(x) T_a} D_\\mu q\n",
    "$$\n",
    "\n",
    "para preservar la invariancia gauge local."
   ]
  },
  {
   "cell_type": "markdown",
   "metadata": {},
   "source": [
    "Las condiciones sobre la derivada covariante y sobre el campo transformado son iguales que para el caso del electromanetismo.\n",
    "\n",
    "El campo transformado será:\n",
    "\n",
    "$$\n",
    "G'^a_\\mu T_a = U G^a_\\mu T_a U^{-1} + \\frac{i}{g_S} (\\partial_\\mu U)  U^{-1}\n",
    "$$"
   ]
  },
  {
   "cell_type": "markdown",
   "metadata": {},
   "source": [
    "Consideremos una transformación infinitesimal:\n",
    "\n",
    "$$\n",
    "e^{i g_S \\theta^a T_a} \\simeq  I + i g_S \\theta^a T_a\n",
    "$$\n",
    "\n",
    "Por lo tanto el término:\n",
    "\n",
    "$$\n",
    "\\frac{i}{g_s} (\\partial_\\mu U) U^{-1} \\simeq - \\partial_\\mu \\theta^a T_a\n",
    "$$"
   ]
  },
  {
   "cell_type": "markdown",
   "metadata": {},
   "source": [
    "Mientras que el término:\n",
    "\n",
    "$$\n",
    "G^a_\\mu U T_a U^{-1} \\simeq G^a_\\mu \\, (I + i g_s \\theta^b T_b) \\, T_a \\, (I - i g_S \\theta^c T_c) \\\\\\simeq G^a_\\mu \\left(T_a + i g_s \\theta^b [T_a, T_b] \\right) = G^a_\\mu (T_a - g_S f_{abc} \\theta^b T_c)  = \\\\ G^a_\\mu T_a - g_S f_{abc} T_a \\theta^b G^c_\\mu \n",
    "$$\n",
    "\n"
   ]
  },
  {
   "cell_type": "markdown",
   "metadata": {},
   "source": [
    "Luego, componente a componente:\n",
    "\n",
    "$$\n",
    "G'^a_\\mu  = G^a_\\mu  -  \\partial_\\mu \\theta^a - g_S f_{abc} \\theta^b G^c_\\mu\n",
    "$$\n"
   ]
  },
  {
   "cell_type": "markdown",
   "metadata": {},
   "source": [
    "Vemos pues que las transformación de los campos de gluones es compleja e involucra todos los gluones. \n",
    "\n",
    "También vemos que nos aparece la constante $g_S$ en la transformación. Esto hace que el acoplo fuerte de todos los quarks sea el mismo, independiente de su sabor, mientras que para cada fermión  podíamos asociarle a cada uno una carga eléctrica.\n"
   ]
  },
  {
   "cell_type": "markdown",
   "metadata": {},
   "source": [
    "[EXT] comentario sobre la parte cinética del lagrangiano"
   ]
  },
  {
   "cell_type": "markdown",
   "metadata": {},
   "source": [
    "Finalmente si consideramos los seis sabores de quarks, $f = u, d, c, s, b, t$, el lagrangiano de QCD es:\n",
    "\n",
    "$$\n",
    "\\sum_{f} i \\bar{q}_f \\gamma^\\mu D_\\mu q - m \\bar{q}q - \\frac{1}{4} G^a_{\\mu\\nu} G^{\\mu\\nu}_a\n",
    "$$"
   ]
  },
  {
   "cell_type": "markdown",
   "metadata": {},
   "source": [
    "\n",
    "## Unificación electrodébil\n",
    "\n",
    "Las interacciones débiles, en concreto las cargadas, violan paridad, y ese implica que tratan de forma diferente las componentes de quiralidad a izquierdas y derechas de un campo fermiónico.\n",
    "\n",
    "Sabemos también que en la corrientes cargadas, mediadas por los bosones vectoriales, $W^\\pm$, solo interviene la quiralidad a izquierdas de los fermiones. Sin embargo en la corrientes neutras, mediadas por el bosón vectorial $Z^0$, intervienen ambas quiralidades y con pesos diferentes.\n",
    "\n",
    "Parece natural entonces que para dar las interaciones débiles debemos tratar las dos quiralidades por separado.\n"
   ]
  },
  {
   "cell_type": "markdown",
   "metadata": {},
   "source": [
    "Sabemos que $\\Psi$ se divide en sus dos componentes de quiralidad, via los proyectores a izquierdas y derechas, $P_L, \\, P_R$:\n",
    "\n",
    "$$\n",
    "\\Psi = \\Psi_L + \n",
    "\\Psi_R, \\;\\; \\Psi_R = P_R \\, \\Psi, \\;\\; \\Psi_L = P_L \\, \\Psi\n",
    "$$"
   ]
  },
  {
   "cell_type": "markdown",
   "metadata": {},
   "source": [
    "También sabemos que la corriente, la forma vectorial, se descompone en dos corrientes, una a izquierdas y otra derechas, pero que el término escalar, el asociado a la masa, mezcla las dos quiralidades, esto es:\n",
    "\n",
    "$$\n",
    "\\bar{\\Psi} \\gamma^\\mu \\Psi = \\bar{\\Psi}_R \\gamma^\\mu \\Psi_R + \\bar{\\Psi}_L \\gamma^\\mu \\Psi_L,\n",
    "$$\n",
    "$$\n",
    "\\bar{\\Psi} \\Psi = \\bar{\\Psi}_R \\Psi_L + \\bar{\\Psi}_L \\Psi_R\n",
    "$$"
   ]
  },
  {
   "cell_type": "markdown",
   "metadata": {},
   "source": [
    "Vimos también que la quiralidad se intercambiaba bajo la inversión por paridad:\n",
    "\n",
    "$$\n",
    "P : \\;\\; \\Psi_L \\leftrightarrow \\Psi_R\n",
    "$$"
   ]
  },
  {
   "cell_type": "markdown",
   "metadata": {},
   "source": [
    "Para construir el lagrangiano de las interacciones débiles, vamos a separar entonces las dos componentes de quiralidad.\n",
    "\n",
    "El lagrangiando de Dirac nos queda:\n",
    "\n",
    "$$\n",
    "i \\bar{\\Psi} \\gamma^\\mu \\partial_\\mu \\Psi - m \\bar{\\Psi} \\Psi = \\\\ i \\bar{\\Psi}_R \\gamma^\\mu \\partial_\\mu \\Psi_R + i \\bar{\\Psi}_L \\gamma^\\mu \\partial_\\mu \\Psi_L  - m \\bar{\\Psi}_R \\Psi_L - m \\bar{\\Psi}_L \\Psi_R \n",
    "$$\n",
    "\n"
   ]
  },
  {
   "cell_type": "markdown",
   "metadata": {},
   "source": [
    "Pero para separar completamente las dos quiralidades ¡estamos obligados a que el fermión no tenga masa!\n",
    "\n",
    "Admitamos por ahora fermiones sin masa e ignoremos por el momento (hasta más adelante) el hecho de que los fermiones sí tienen masas.\n",
    "\n",
    "En ese caso, tenemos dos campos independientes:\n",
    "\n",
    "$$\n",
    "i \\bar{\\Psi}_R \\gamma^\\mu \\partial_\\mu \\Psi_R + i \\bar{\\Psi}_L \\gamma^\\mu \\partial_\\mu \\Psi_L \n",
    "$$\n",
    "\n"
   ]
  },
  {
   "cell_type": "markdown",
   "metadata": {},
   "source": [
    "Sabemos también que en las desintegración débiles cargadas siempre aparecen los fermiones en parejas, por ejemplo el leptón cargado, el electrón, con el neutrino de su sabor, el $\\nu_e$. \n",
    "\n",
    "Para acomodar este hecho, podemos situar los campos a izquierdas del leptón cargado y su neutrino en un duplete que llamaremos de quiralidad a izquierdas:\n",
    "\n",
    "$$\n",
    "L_e \\equiv \\begin{pmatrix} \\nu_{eL} \\\\ e_L \\end{pmatrix} \n",
    "$$\n",
    "\n",
    "donde para facilitar la lectura vamos a introducir la notación:\n",
    "\n",
    "$$\n",
    "\\nu_{eL} \\equiv u^{(\\nu_e)}_L(p), \\;\\; e_L \\equiv u^{(e)}_L(p), \n",
    "$$\n",
    "\n",
    "esto es, el espinor a izquierdas del neutrino es $\\nu_{eL}$ y el del electrón, $e_L$\n"
   ]
  },
  {
   "cell_type": "markdown",
   "metadata": {},
   "source": [
    "Estamos pues asociando los espinores a izquierdas de las parejas en un duplete que llamamos de isoespín débil, del grupo $SU(2)_L$ donde $L$ es por la quiralidad a izquierdas.\n",
    "\n",
    "En este caso, el $\\nu_{eL}$ tiene tercera componente de isoespín débil $+1/2$ y el $e_L$ tiene $-1/2$.\n"
   ]
  },
  {
   "cell_type": "markdown",
   "metadata": {},
   "source": [
    "Al haber colocado los campos de las parejas en el duplete, podemos entender la acción de un campo $W^\\pm$ como subir o bajar los elementos del duplete."
   ]
  },
  {
   "cell_type": "markdown",
   "metadata": {},
   "source": [
    "Notar que esta agrupación es similar a cuando introdujimos la notación $q$ como un triplete donde situamos en sus elementos los campos asociadas a los colores de cada sabor de quark."
   ]
  },
  {
   "cell_type": "markdown",
   "metadata": {},
   "source": [
    "Sabemos no obstante que en las corrientes neutras participan los espinores a derechas luego es preciso incluirlos.\n",
    "\n",
    "La componente a derechas la situamos en un singlete de isoespín débil.\n",
    "\n",
    "$$\n",
    "e_R\n",
    "$$\n",
    "\n",
    "donde $e_R$ es el espinor a derechas del electrón.\n",
    "\n",
    "En este caso, el Modelo Estándar predice que el neutrino no tiene componente a derechas, no existe $\\nu_R$."
   ]
  },
  {
   "cell_type": "markdown",
   "metadata": {},
   "source": [
    "La primera familia de leptones es un duplete a inzquierdad y un singlete a derechas:\n",
    "\n",
    "$$\n",
    "L_e \\equiv \\begin{pmatrix} \\nu_{eL} \\\\ e_L \\end{pmatrix}, \\;\\;\\; e_R \n",
    "$$\n",
    "\n",
    "Y de forma similar agruparíamos las otras dos familias leptónicas"
   ]
  },
  {
   "cell_type": "markdown",
   "metadata": {},
   "source": [
    "Para los quarks, la situación es similar, los espinores a izquierdas forman un duplete y los de derechas un singlete de isoespín. \n",
    "\n",
    "El espinor del quark con mayor carga del duplete se situa en el elemento de arriba an el duplete, esto es, tiene tercera componente de isoespín débil, $I_{W3} =1/2$ mientras que el de menos carga aparece abajo en el duplete, con $I_{W3} = -1/2$. La diferencia de carga entre los dos es 1.\n",
    "\n",
    "Finalmente, los dos quarks de la pareja tiene ambos singletes a derechas."
   ]
  },
  {
   "cell_type": "markdown",
   "metadata": {},
   "source": [
    "Asi pues, los fermiones se agrupan en dupletes de quiralidad a izquierdas y singletes a derechas.\n",
    "\n",
    "Para la primera familia de fermiones:\n",
    "\n",
    "$$\n",
    "L_e \\equiv \\begin{pmatrix} \\nu_{eL} \\\\ e_L \\end{pmatrix}, \\;\\; e_R\n",
    "$$\n",
    "\n",
    "$$\n",
    "Q_u \\equiv \\begin{pmatrix} u_L \\\\ d_L \\end{pmatrix}, \\;\\; u_R, \\; d_R\n",
    "$$"
   ]
  },
  {
   "cell_type": "markdown",
   "metadata": {},
   "source": [
    "*Nota:* No confundir el espinor $u(p)$, con la notación $u_L$, este último significa el espinor a izquierdas del quark $u$.\n",
    "\n",
    "También hay que tener cuidado con los espinores conjugados, $\\bar{\\nu}_L$ corresponde al conjugado del espinor a izquierdas del neutrino, y no a la componente a izquierdas del anti-neutrino (¡que no existe!)."
   ]
  },
  {
   "cell_type": "markdown",
   "metadata": {},
   "source": [
    "\n",
    "La siguiente tabla muestra el isoespín débil y su tercera componentes para los leptones de la primera familia. \n",
    "\n",
    "En la primera familia, la electrónica:\n",
    "\n",
    "| | | | |\n",
    "| :--  | :-- | :-- | :-- |\n",
    "|  | $\\nu_{eL}$ | $e_L$ | $e_R$ |\n",
    "| $I_{W}$| +1/2 | +1/2 | 0 |\n",
    "| $I_{W3}$| +1/2 | -1/2 | 0 |\n",
    "\n",
    "La tabla para el resto de familias leptónicas sería similar.\n"
   ]
  },
  {
   "cell_type": "markdown",
   "metadata": {},
   "source": [
    "Y la siguiente tabla muestra el isoespín y tercera componente para la primera familia de quarks:\n",
    "\n",
    "| | | | | | \n",
    "| :--  | :-- | :-- | :-- | :-- |\n",
    "|  | $u_L$ | $d_L$ | $u_R$ | $d_R$ |\n",
    "| $I_{W}$| +1/2 | 1/2 | 0 | 0 |\n",
    "| $I_{W3}$| +1/2 | -1/2 | 0 | 0 |\n",
    "\n",
    "Y de forma similar obtendríamos la tabla para el resto de familias de quarks."
   ]
  },
  {
   "cell_type": "markdown",
   "metadata": {},
   "source": [
    "### Simetría gauge local $SU(2)$\n",
    "\n",
    "Separemos ahora el lagrangiano de Dirac en sus componentes del doblete de izquierdas y el singlete a derechas.\n",
    "\n",
    "Indicamos aquí solamente el de la primera familia de leptones, pero sería idéntico para los quarks y para el resto de familias de fermiones.\n",
    "\n",
    "\n",
    "$$\n",
    "i \\bar{L}_e \\gamma^\\mu \\partial_\\mu L_e + i \\bar{e}_R \\gamma^\\mu \\partial_\\mu e_R  = 0\n",
    "$$"
   ]
  },
  {
   "cell_type": "markdown",
   "metadata": {},
   "source": [
    "Podemos comprobar facilmente que el lagrangiano es invariante bajo una rotación global del duplete en el espacio de isospín débil.\n",
    "\n",
    "$$\n",
    "L_e \\to L'_e = U(\\theta) L_e, \\;\\;\\; U(\\theta) = e^{i g_W \\theta^i \\tau_i}\n",
    "$$\n",
    "\n",
    "Es este caso, el espacio interno $SU(2)_L$ tiene tres generadores, $\\tau_i$, que están relacionados con la matrices de Pauli, \n",
    "\n",
    "$$\n",
    "\\tau_i = \\frac{\\sigma_i}{2}\n",
    "$$\n",
    "\n",
    "con $i = 1, 2, 3$."
   ]
  },
  {
   "cell_type": "markdown",
   "metadata": {},
   "source": [
    "Notar que la rotación tienen tres fases, $\\theta_i$, asociadas a cada generadores.\n",
    "\n",
    "\n",
    "Y $g_W$ es una constante real, la constante de acoplo débil."
   ]
  },
  {
   "cell_type": "markdown",
   "metadata": {},
   "source": [
    "\n",
    "Exigimos ahora que lagrangiano sea invariante bajo una transformación gauge *local* del espacio interno del isospín débil, $SU(2)_L$, donde $L$ indica que solo afecta a los estados de quiralidad a izquierdas.\n",
    "\n",
    "El lagrangiano sería invariante bajo la rotación continua local:\n",
    "\n",
    "$$\n",
    "L_e \\to L'_e = U(\\theta(x)) \\, L_e\n",
    "$$\n",
    "\n",
    "Esto es, si modificamos las fases del espacio del isoespín de forma continua en el espacio tiempo.\n",
    "\n",
    "$$\n",
    "L'_e  = e^{i g_W \\theta^i(x) \\tau_i} \\, L_e\n",
    "$$\n",
    "\n",
    "El lagrangiano quedará invariante."
   ]
  },
  {
   "cell_type": "markdown",
   "metadata": {},
   "source": [
    "Lo que a su vez implica que para cada generador $\\tau_i$ existe un campo vectorial $W^i_\\mu(x)$ al que se acoplan las corrientes de los miembros del duplete.\n",
    "\n",
    "Introducimos la derivada covariante:\n",
    "\n",
    "$$\n",
    "D_\\mu = \\partial_\\mu + i g_W W^i_\\mu \\tau_i\n",
    "$$\n",
    "\n",
    "Podemos dar explícitamente la expresión:\n",
    "\n",
    "$$\n",
    "W^i_\\mu \\tau_i = \\frac{1}{2} \\begin{pmatrix} W^3_\\mu & W^1_\\mu - i W^2_\\mu \\\\ W^1_\\mu + i W^2_\\mu & -W^3_\\mu \\end{pmatrix}\n",
    "$$\n",
    "\n",
    "simplemente haciendo uso de las matrices de Pauli.\n"
   ]
  },
  {
   "cell_type": "markdown",
   "metadata": {},
   "source": [
    "\n",
    "Podemos también reescribir:\n",
    "\n",
    "$$\n",
    "\\frac{g_W}{2}(W^1_\\mu - i W^2_\\mu) \\sigma_+ +\n",
    "\\frac{g_W}{2}(W^1_\\mu + i W^2_\\mu) \\sigma_- +\n",
    "\\frac{g_W}{2} W^3_\\mu \\sigma_3 \n",
    "$$\n",
    "\n",
    "donde recordemos:\n",
    "\n",
    "$$\n",
    "\\sigma_\\pm = \\frac{1}{2}(\\sigma_1 \\pm i \\sigma_2)\n",
    "$$\n"
   ]
  },
  {
   "cell_type": "markdown",
   "metadata": {},
   "source": [
    "Si definimos los campos:\n",
    "\n",
    "$$\n",
    "W^\\pm_\\mu = \\frac{1}{\\sqrt{2}} (W^1_\\mu \\mp i W^2_\\mu)\n",
    "$$\n",
    "\n",
    "notar que:\n",
    "\n",
    "$$\n",
    "(W^\\pm_\\mu)^\\dagger = W^\\mp_\\mu\n",
    "$$\n",
    "\n",
    "Tenemos entonces que:\n",
    "\n",
    "$$\n",
    "g_W W^i_\\mu \\tau_i = \\frac{g_W}{\\sqrt{2}} W^+_\\mu \\sigma_+ + \\frac{g_W}{\\sqrt{2}} W^-_\\mu\\sigma_- + \\frac{g_W}{2} W^3_\\mu \\sigma_3 \n",
    "$$"
   ]
  },
  {
   "cell_type": "markdown",
   "metadata": {},
   "source": [
    "Los términos asociados que aparecen en el lagrangiano son:\n",
    "\n",
    "$$\n",
    "\\frac{g_W}{\\sqrt{2}} \\bar{L} W^+_\\mu \\sigma_+ L + \\frac{g_W}{\\sqrt{2}} \\bar{L} W^-_\\mu\\sigma_- L + \\frac{g_W}{2} \\bar{L}W^3_\\mu L = \\\\\n",
    "j^\\mu_+ W^+_\\mu + j^\\mu_-W^-_\\mu + j^\\mu_3 W^3_\\mu\n",
    "$$\n",
    "\n",
    "Donde definimos las corrientes cargadas como:\n",
    "\n",
    "$$\n",
    "j^\\mu_\\pm = \\frac{g_W}{\\sqrt{2}} \\bar{L} \\gamma^\\mu \\sigma_\\pm L\n",
    "$$\n",
    "\n",
    "con una constante de acoplo $g_W/\\sqrt{2}$\n"
   ]
  },
  {
   "cell_type": "markdown",
   "metadata": {},
   "source": [
    "Si desarrollamos explícitamente la corriente podemos comprobar que efectivamente obtenemos la corriente esperada:\n",
    "\n",
    "$$\n",
    " j^\\mu_+ = \\frac{g_W}{\\sqrt{2}} \\bar{L}_e \\sigma_+ \\gamma^\\mu L_e = \n",
    "$$\n",
    "$$\n",
    " \\frac{g_W}{\\sqrt{2}}\n",
    " \\begin{pmatrix} \\bar{\\nu}_{eL}, \\bar{e}_L \\end{pmatrix} \\, \n",
    "\\begin{pmatrix} 0 & 1 \\\\ 0 & 0 \\end{pmatrix}  \\gamma^\\mu\n",
    "\\begin{pmatrix} \\nu_{eL} \\\\ e_L \\end{pmatrix} =\n",
    "\\frac{g_W}{\\sqrt{2}} \\bar{\\nu}_{eL} \\, \\gamma^\\mu \\, e_L \n",
    "$$"
   ]
  },
  {
   "cell_type": "markdown",
   "metadata": {},
   "source": [
    "Así pues, hemos conseguido acomodar las corrientes cargadas débiles y nos han aparecido los campos vectoriales $W^{\\pm}$"
   ]
  },
  {
   "cell_type": "markdown",
   "metadata": {},
   "source": [
    "Sin embargo el término de interacción:\n",
    "\n",
    "$$\n",
    "j^\\mu_3 W^3_\\mu = \\frac{g_W}{2} (\\bar{\\nu}_{eL} \\gamma^\\mu \\nu_{eL} - \\bar{e}_L \\gamma^\\mu e_L)\n",
    "$$\n",
    "\n",
    "¡no corresponde a las corrientes neutras!, porque en las corrientes neutras intervienen también los espinores a derechas del electrón, $e_R$."
   ]
  },
  {
   "cell_type": "markdown",
   "metadata": {},
   "source": [
    "Para implementar las interacciones neutras, vamos a extender la simetría del lagrangiano exigiendo que sea *también* invariante gauge local también respecto a una fase, esto es respecto al grupo, $U(1)_Y$ donde $Y$ es por hypercarga. \n",
    "\n",
    "Así introducimos la derivada covariante extendida como:\n",
    "\n",
    "$$\n",
    "D_\\mu = \\partial_\\mu + i g_Y B_\\mu + i g_W W^i_\\mu \\tau_i \n",
    "$$\n",
    "\n",
    "siendo $B_\\mu$ es el campo vectorial asociado y $g_Y$ la constante de acoplo de la hypercarga."
   ]
  },
  {
   "cell_type": "markdown",
   "metadata": {},
   "source": [
    "Dado que se trata de una simetría de tipo $U(1)$ cada uno de los campos del lagrangiano, en este caso $L, e_R$,  tienen asociados un valor de hypercarga, $Y, Y_R$, respectivamente. \n",
    "\n",
    "Notar que si hubiésemos considerado que las partículas tienen masa, estos campos ya no sería independientes y no podríamos asociarles un valor distinto de hypercarga. \n",
    "\n",
    "Notar también que la hypercarga no puede ser la carga eléctrica, porque sabemos que los elementos del duplete tiene un mismo valor de hypercarga $Y$ mientras que el neutrino no tiene carga eléctrica y el electrón tiene carga -1 y ambos comparten duplete. "
   ]
  },
  {
   "cell_type": "markdown",
   "metadata": {},
   "source": [
    "Vamos a intentar asociar los términos que nos aparecen en el lagrangiano:\n",
    "\n",
    "$$\n",
    "j^\\mu_3 W^3_\\mu + j^\\mu_Y B_\\mu\n",
    "$$\n",
    "\n",
    "con la interacción débil neutra y a la interacción eléctromagnética:\n",
    "\n",
    "$$\n",
    "j^\\mu_Z Z_\\mu + j^\\mu_Q A_\\mu\n",
    "$$\n",
    "\n",
    "Donde, $Z_\\mu, A_\\mu$ son los campos asociados al bosón $Z^0$ y al fotón; y $j^\\mu_Z$ y $j^\\mu_{Q}$ las corrientes neutras y electromagnéticas respectivamente."
   ]
  },
  {
   "cell_type": "markdown",
   "metadata": {},
   "source": [
    "Por la expresión anterior, podemos considerar que los campos *físicos* $A_\\mu, \\, Z_\\mu$ son una combinación lineal de los campos subyacentes, $W^3_\\mu, \\, B_\\mu$.\n",
    "\n",
    "La relación entre ambos vendría dada por la matriz de mezcla:\n",
    "\n",
    "$$\n",
    "\\begin{pmatrix} A_\\mu \\\\ Z_\\mu \\end{pmatrix} = \n",
    "\\begin{pmatrix} \\cos \\theta_W  &  \\sin \\theta_W  \\\\\n",
    "-\\sin \\theta_W  &  \\cos \\theta_W  \\end{pmatrix}\n",
    "\\begin{pmatrix} B_\\mu \\\\  W^3_\\mu \\end{pmatrix}\n",
    "$$\n",
    "\n",
    "donde $\\theta_W$ se denomina ángulo de Weinberg.\n",
    "\n",
    "Para facilitar la lectura definimos: \n",
    "\n",
    "$$\n",
    "s_W \\equiv \\sin \\theta_W, \\;\\; c_W \\equiv \\cos \\theta_W.\n",
    "$$\n"
   ]
  },
  {
   "cell_type": "markdown",
   "metadata": {},
   "source": [
    "\n",
    "\n",
    "Si reescribimos los interacciones fundamentales en función de las físicas:\n",
    "\n",
    "$$\n",
    "j^\\mu_Y B_\\mu + j^\\mu_{3} W^3_\\mu =  \\\\\n",
    " j^\\mu_Y \\left( c_W A_\\mu - s_W Z_\\mu \\right) + j^\\mu_{3} \\left(s_W A_\\mu + c_W Z_\\mu\\right)  = \\\\\n",
    "(s_W j^\\mu_{3} +  c_W j^\\mu_Y) \\, A_\\mu + \n",
    "(c_W j^\\mu_{3} - s_W j^\\mu_Y) \\, Z_\\mu \n",
    "$$\n",
    "\n",
    "En el primer sumando, el término que se acopla al fotón, $A_\\mu$, debe corresponderse con la corriente electromagnética:\n",
    "\n",
    "$$\n",
    "j^\\mu_Q = s_W j^\\mu_{3} +  c_W j^\\mu_Y\n",
    "$$\n",
    "\n",
    "Y el segundo, con las corrientes neutras:\n",
    "\n",
    "$$\n",
    "j^\\mu_Z = c_W j^\\mu_{3} -  s_W j^\\mu_Y\n",
    "$$"
   ]
  },
  {
   "cell_type": "markdown",
   "metadata": {},
   "source": [
    "#### Corrientes electromagnéticas\n",
    "\n",
    "Si desarrollamos la expresión de la corriente electromagnética para el caso de las primera familia de los leptones obtenemos:\n",
    "\n",
    "$$\n",
    "j^\\mu_Q = s_W \\frac{g_W}{2} \\, \\bar{L} \\gamma^\\mu \\sigma_3 L +  c_W g_Y Y \\, \\bar{L} \\gamma^\\mu L  + c_W g_Y Y_R \\, \\bar{e}_R \\gamma^\\mu e_R \n",
    "$$\n",
    "\n",
    "Esto es:\n",
    "\n",
    "$$\n",
    "j^\\mu_{Q} = \n",
    "\\left(s_W \\frac{g_W}{2} + c_W g_Y Y \\right) \\, \\bar{\\nu}_{eL} \\gamma^\\mu \\nu_{eL} + \n",
    "\\left(-s_W \\frac{g_W}{2} + c_W g_Y Y \\right) \\bar{e}_L \\gamma^\\mu e_L + c_W g_Y Y_R \\, \\bar{e}_R \\gamma^\\mu e_R\n",
    " $$"
   ]
  },
  {
   "cell_type": "markdown",
   "metadata": {},
   "source": [
    "El neutrino no tiene corriente eléctrica, luego debe cumplirse que:\n",
    "\n",
    "$$\n",
    "s_W g_W  = - 2 c_W g_Y Y\n",
    "$$\n",
    "\n",
    "mientras que para electrón, las corrientes a izquierdas y derechas deben tener un mismo factor que es su carga eléctrica $Q = -e$.\n",
    "\n",
    "$$\n",
    "-s_W \\frac{g_W}{2} + c_W g_Y Y = - e \\\\\n",
    "c_W g_Y Y_R = -e \n",
    "$$\n",
    "\n",
    "Ambas condiciones se cumplen, si:\n",
    "\n",
    "$$\n",
    "e = g_W s_W = g_Y c_W\n",
    "$$\n",
    "\n",
    "esto es:\n",
    "\n",
    "$$\n",
    "g_Y = g_W \\tan \\theta_W\n",
    "$$\n",
    "\n",
    "El ángulo de Weinberger puede expresarse como:\n",
    "\n",
    "$$\n",
    "s_W = \\frac{g_Y}{\\sqrt{g^2_W+g^2_Y}}, \\;\\;\\; c_W = \\frac{g_W}{\\sqrt{g^2_W+g^2_Y}},\n",
    "\n",
    "$$\n",
    "\n",
    "y además:\n",
    "\n",
    "$$\n",
    "Y_R = -1, Y = -1/2\n",
    "$$\n"
   ]
  },
  {
   "cell_type": "markdown",
   "metadata": {},
   "source": [
    "En general vemos que para cada campo fermiónico a derechas se cumplirá: \n",
    "\n",
    "$$\n",
    "Y_R = Q,\n",
    "$$\n",
    "\n",
    "En el caso del $\\nu_e$, de forma natural $Y_R = 0$."
   ]
  },
  {
   "cell_type": "markdown",
   "metadata": {},
   "source": [
    "Mientras que la hypercarga tiene un valor tal que nos permite obtener la carga de los elementos del duplete:\n",
    "\n",
    "$$\n",
    "Q = Y + I_{W3}\n",
    "$$\n",
    "\n",
    "donde $I_{W3}$ es la tercera componente de isospín débil.\n",
    "\n",
    "Esto es el elemento de arriba del duplete tiene siempre una carga eléctrica +1 respecto a la de abajo."
   ]
  },
  {
   "cell_type": "markdown",
   "metadata": {},
   "source": [
    "La siguiente tabla muestra los valores de hypercargas para los leptones y los quarks a izquierdas:\n",
    "\n",
    "| |  $L_e$ | $Q_u$ | \n",
    "| :--  | :--  | :--  |\n",
    "| $Y$| -1/2 | 1/6 | \n",
    "\n",
    "Y para los componentes a derechas:\n",
    "\n",
    "| |  $e_R$ | $u_R$ | $d_R$ |\n",
    "| :--   | :--  | :--  | :-- |\n",
    "| $Y_R$ | -1 | 2/3 | -1/3 |\n",
    "\n",
    "\n",
    "\n"
   ]
  },
  {
   "cell_type": "markdown",
   "metadata": {},
   "source": [
    "Hemos recuperado pues la descripción de las interacciones electromagnéticas. \n"
   ]
  },
  {
   "cell_type": "markdown",
   "metadata": {},
   "source": [
    "#### Corrientes neutras\n",
    "\n",
    "\n",
    "Si regresamos a la corrientes débiles neutras nos encontramos con:\n",
    "\n",
    "$$\n",
    "j^\\mu_Z = c_W j^\\mu_3 - s_W j^\\mu_Y =  \\\\ \n",
    "c_W j^\\mu_3 - \\frac{s_W}{c_W} \\left( j^\\mu _Q - s_W j^\\mu_3 \\right)= \\\\\n",
    "\\frac{1}{c_W} \\left( j^\\mu_3 - s_W j^\\mu_Q \\right)\n",
    "$$\n"
   ]
  },
  {
   "cell_type": "markdown",
   "metadata": {},
   "source": [
    "Si explicitamos la corriente para el caso de la primera familia de leptones:\n",
    "\n",
    "$$\n",
    "j^\\mu_Z = \\frac{g_W}{2c_W} \\, \\bar{L} \\gamma^\\mu \\sigma_3 L  + \\frac{s_W}{c_W} e \\, \\bar{e}_R \\gamma^\\mu e_R + \\frac{s_W}{c_W} e \\, \\bar{e}_L \\gamma^\\mu e_L\n",
    "$$\n",
    "\n",
    "Introduciendo el valor de $e = s_W g_W$:\n",
    "\n",
    "$$\n",
    "j^\\mu_Z = \\frac{g_W}{c_W} \\left( \\frac{1}{2}\\bar{\\nu}_{eL} \\gamma^\\mu \\nu_{eL}\\right) + \n",
    "\\frac{g_W}{c_W} \\left[ s^2_W \\bar{e}_R \\gamma^\\mu e_R + (-\\frac{1}{2} + s^2_W) \\bar{e}_L \\gamma^\\mu e_L\\right]\n",
    "$$\n",
    "\n"
   ]
  },
  {
   "cell_type": "markdown",
   "metadata": {},
   "source": [
    "Sin definimos:\n",
    "\n",
    "$$\n",
    "g_Z \\equiv \\frac{g_W}{c_W}\n",
    "$$\n",
    "\n",
    "Obtenemos:\n",
    "\n",
    "$$\n",
    "j^\\mu_Z = g_Z \\left( \\frac{1}{2}\\bar{\\nu}_{eL} \\gamma^\\mu \\nu_{eL}\\right) + \n",
    "g_Z \\left[ s^2_W \\bar{e}_R \\gamma^\\mu e_R + (-\\frac{1}{2} + s^2_W) \\bar{e}_L \\gamma^\\mu e_L\\right]\n",
    "$$\n",
    "\n",
    "El acoplo con las componentes a izquierdas del neutrino es:\n",
    "\n",
    "$$\n",
    "c^{(\\nu_e)}_L= \\frac{1}{2}, \\;\\; c^{(\\nu_e)}_R = 0\n",
    "$$\n",
    "\n",
    "Mientras que para el electrón, el acoplo a izquierdas y derechas es diferente y vale:\n",
    "\n",
    "$$\n",
    "c^{(e)}_L = -\\frac{1}{2} + s^2_W, \\;\\; c^{(e)}_R = s^2_W\n",
    "$$"
   ]
  },
  {
   "cell_type": "markdown",
   "metadata": {},
   "source": [
    "De forma genérica, las corrientes neutras de un fermión con espinor $u$ son: \n",
    "\n",
    "$$\n",
    "j^\\mu_Z = -Q_f s^2_W g_z \\, \\bar{u}_R \\gamma^\\mu u_R + \\left( I_{W3} - Q_f s^2_W \\right) g_Z \\, \\bar{u}_L \\gamma^\\mu u_L\n",
    "$$\n",
    "\n",
    "donde $Q_f$ la carga eléctrica del fermión en unidades de electrón, por ejemplo para el $e$, $Q_f = -1$, y $I_{W3}$ es la tercera componente de isoespión débil."
   ]
  },
  {
   "cell_type": "markdown",
   "metadata": {},
   "source": [
    "Que podemos dar de forma compacta:\n",
    "\n",
    "$$\n",
    "j^\\mu_Z = g_Z c_R \\, (\\bar{u}_R \\gamma^\\mu u_R) + g_Z c_L \\, (\\bar{u}_L \\gamma^\\mu u_L)\n",
    "$$\n",
    "\n",
    "siendo $c_R, \\, c_L$ los factores a izquierdas y derechas:\n",
    "\n",
    "$$\n",
    "c_R = -Q_f s^2_W, \\;\\;\\; c_L = I_{W3} - Q_f s^2_W\n",
    "$$ \n"
   ]
  },
  {
   "cell_type": "markdown",
   "metadata": {},
   "source": [
    "La siguiente tabla da los distintos acoplos a izquierdas y derechas de la corriente neutras par la primera familia de fermiones:\n",
    "\n",
    "| | | | \n",
    "| :-- | :-- | :-- |\n",
    "| | ----- $c_R$ ---- | ----- $c_L$ ---- |\n",
    "| $\\nu_e$ | 0 | $\\frac{1}{2}$| \n",
    "| $e$ | $s^2_W$ | $-\\frac{1}{2} + s^2_W$| \n",
    "| $u$ | $-\\frac{2}{3}s^2_W$ | $\\frac{1}{2} - \\frac{2}{3}s^2_W$| \n",
    "| $d$ | $\\frac{1}{3}s^2_W$ | $-\\frac{1}{2} + \\frac{1}{3} s^2_W$| "
   ]
  },
  {
   "cell_type": "markdown",
   "metadata": {},
   "source": [
    "#### Resumen\n",
    "\n",
    "Hemos construido un lagrangiano que es invariante gauge local respecto a los grupos $SU(2)_L\\times U(1)_Y$,\n",
    "de tal forma que nos acomoda las corrientes neutras, débiles y electromagnéticas. \n",
    "\n",
    "Hemos agrupado los campos de los fermiones en dupletes a izquierdas y singlete a derechas, lo que impone que los fermiones no tengan masa. \n",
    "\n",
    "Hemos obtenido cuatro bosones vectoriales, dos de ellos son los bosones $W^\\pm$,\n",
    "que median entre las corrientes cargadas, y otros dos son los bosones $A, Z^0$, que a su vez median las corrientes \n",
    "electromagnéticas y neutras, respectivamente, y que son combinaciones lineales de los bosones subyacentes $B, W^3$\n",
    "a través de un ángulo de mezcla, $s_W$.\n",
    "\n",
    "El modelo tiene dos parámetros $g_Y, g_W$ que se corresponden con los parámetros físicos, $e, s_W$, y que fijan los acoplos de las tres corrientes: $e, g_W, g_Z$. \n",
    "\n",
    "Sin embargo, hemos pagado un precio elevadado: los fermiones y los bosones vectoriales no tienen masa. \n",
    "\n",
    "En la siguiente seccion vamos a tratar cómo resolver este problema."
   ]
  },
  {
   "cell_type": "markdown",
   "metadata": {},
   "source": [
    "## El mecanismo de Higgs\n",
    "\n",
    "Brout, Englert and Higgs desarrollaron en los 60 un mecanismo que permitía dotar de masa a los bosones vectoriales y también a los fermiones, y que preservaba la invariancia gauge del lagrangiano, fundamental para que la teoría fuera *renormalizable*.\n",
    "\n",
    "Este mecanismo introducía un campo escalar cuya partícula asociada es el bosón de Higgs. Pero no fue hasta la segunda década del siglo XXI cuando se descubrió el bosón de Higgs en los experimentos ATLAS y CMS. \n",
    "\n",
    "Inspeccionemos primero el término del lagrangiano asociado a la  masa de los fermiones\n",
    "\n",
    "$$\n",
    "m \\bar{\\Psi} \\Psi = m \\bar{\\Psi}_R \\Psi_L + m \\bar{\\Psi}_L \\Psi_R\n",
    "$$\n",
    "\n",
    "Vamos a intentar substituir $m$ por el acoplo a un campo escalar, $\\phi$, que la reemplace. Recordemos que $m$ y $\\phi$ tienen ambos dimensión de energía, $[E]$.\n"
   ]
  },
  {
   "cell_type": "markdown",
   "metadata": {},
   "source": [
    "Consideremos la interacción de los fermiones con un campo escalar complejo, $\\phi$, con una constante de acoplo $\\lambda$\n",
    "\n",
    "$$\n",
    "\\lambda \\Psi \\Psi \\phi\n",
    "$$\n",
    "\n",
    "que denominamos un acoplo de Yukawa.\n",
    "\n",
    "Y consideremos además que el campo $\\phi$ tiene un valor no nulo en el estado de mínima energía, esto es, en vacío, $\\phi_0$:\n",
    "\n",
    "$$\n",
    "\\phi(x) = \\phi_0 + H(x)\n",
    "$$"
   ]
  },
  {
   "cell_type": "markdown",
   "metadata": {},
   "source": [
    "El término de interacción que hemos introducido nos genera un término de masa y un término de interacción:\n",
    "\n",
    "$$\n",
    "\\lambda \\Psi \\Psi \\phi =  \\lambda \\phi_0 \\, \\bar{\\Psi} \\Psi + \\lambda \\bar{\\Psi} \\Psi H\n",
    "$$\n",
    "\n",
    "Donde podemos asociar la masa:\n",
    "\n",
    "$$\n",
    "m \\equiv  \\lambda \\phi_0\n",
    "$$"
   ]
  },
  {
   "cell_type": "markdown",
   "metadata": {},
   "source": [
    "Pero ¿cómo un campo escalar obtiene ese valor en vacío, $\\phi_0$?\n",
    "\n",
    "Examinemos ahora el lagrangiano de un campo escalar complejo, $\\phi(x)$:\n",
    "\n",
    "$$\n",
    "\\partial_\\mu \\phi^* \\partial^\\mu \\phi - m^2 \\phi^* \\phi\n",
    "$$"
   ]
  },
  {
   "cell_type": "markdown",
   "metadata": {},
   "source": [
    "El término de masas podemos entenderlo como un potencial parabólico en $\\phi^* \\phi$.\n",
    "\n",
    "$$\n",
    "V(\\phi) = m^2 \\phi^* \\phi\n",
    "$$\n",
    "\n",
    "Consideremos la primera extensión de ese potencial:\n",
    "\n",
    "$$\n",
    "V(\\phi) = \\mu^2 \\, \\phi^* \\phi + \\lambda \\, (\\phi^* \\phi)^2\n",
    "$$\n",
    "\n",
    "Recordemos que el potencial debe estar acotado inferiormente para que su energía mínima tenga un límite inferior, esto obliga a que $\\lambda \\gt 0$, ya que el término cuadrático es el dominante.\n"
   ]
  },
  {
   "cell_type": "markdown",
   "metadata": {},
   "source": [
    "[TODO] Mostrar la dependencia"
   ]
  },
  {
   "cell_type": "markdown",
   "metadata": {},
   "source": [
    "En el caso de que $\\lambda = 0$, $\\mu = m $, corresponde a la masa, y recuperamos la situación de partida. \n",
    "\n",
    "Para $\\lambda \\gt 0$ tenemos dos posibilididades:\n",
    "\n",
    "1. que $\\mu^2 \\gt 0$, en ese caso, el potencial tienen un mínimo trivial en $\\phi_0 = 0$.\n",
    "\n",
    "2. que $\\mu^2 \\lt 0$, y en este caso, tenemos un número infinitos de mínimos, que cumplen:\n",
    "\n",
    "$$\n",
    "|\\phi_0| = \\sqrt{-\\frac{\\mu^2}{2\\lambda}}\n",
    "$$\n"
   ]
  },
  {
   "cell_type": "markdown",
   "metadata": {},
   "source": [
    "El potencial con $\\mu^2 <0$ y $\\lambda >0$ se conoce como el potencial del sombrero mexicano:\n",
    "\n",
    "| | \n",
    "| :--: |\n",
    "|  <img src=\"./imgs/sm_mexican_hat.png\" width = 300 align=\"center\"> |\n",
    "| potencial del campo complejo de Higgs $V(\\phi)$ [Wikipedia]|\n",
    "\n",
    "Donde los ejes de la figuran son la componente real e imaginaria de $\\phi$.\n"
   ]
  },
  {
   "cell_type": "markdown",
   "metadata": {},
   "source": [
    "\n",
    "Así pues podemos conseguir un campo escalar complejo con un valor esperado en el vacío $\\phi_0$, si le dotamos de un potencial de sombrero mexicano con $\\mu^2 \\lt 0$ y $\\lambda \\gt 0$.\n",
    "\n",
    "En la literatura es habitual tomar como notación $\\phi_0 = v/\\sqrt{2}$, donde $v$ se denomina el valor esperado del campo en el vacío. \n",
    "\n",
    "Al cuantificar los campos, el campo tiene como valor esperado en vacío:\n",
    "\n",
    "$$\n",
    "|\\langle 0 |\\phi | 0 \\rangle | = \\frac{v}{\\sqrt{2}} \n",
    "$$"
   ]
  },
  {
   "cell_type": "markdown",
   "metadata": {},
   "source": [
    "*Cuestión* Verificar que:\n",
    "\n",
    "$$\n",
    "V(\\phi_0) = - \\frac{\\lambda}{4} v^4\n",
    "$$"
   ]
  },
  {
   "cell_type": "markdown",
   "metadata": {},
   "source": [
    "#### Bosón de Goldstone\n",
    "\n",
    "Resescribimos ahora nuestro campo complejo, $\\phi(x)$, con dos campos reales, $\\varphi_1(x), \\varphi_2(x)$, respecto al valor del campo que tiene solo parte real y que corresponde al mínimo del potencial.\n",
    "\n",
    "$$\n",
    "\\phi(x) = \\frac{1}{\\sqrt{2}} \\left( v + \\varphi_1(x) + i \\varphi_2(x) \\right)\n",
    "$$\n",
    "\n",
    "Esto es seleccionamos un valor del campo específico respecto al que desarrollar el campo. Esta elección rompe la simetría del campo con valor mínimo de potencial. De ahí que llamemos está elección *rotura espontánea de simetría*.\n",
    "\n",
    "Ciertamente la física no debe quedar afectada por la elección de este mínimo."
   ]
  },
  {
   "cell_type": "markdown",
   "metadata": {},
   "source": [
    "Así tenemos:\n",
    "\n",
    "$$\n",
    "\\phi^*\\phi = \\frac{1}{2}\\left[(v+\\varphi_1)^2 + \\varphi^2_2 \\right]=  \\frac{1}{2} \\left[ v^2 + 2v \\varphi_1 + (\\varphi^2_1 + \\varphi^2_2)\\right] \\\\\n",
    "$$\n",
    "\n",
    "y\n",
    "\n",
    "$$\n",
    "(\\phi^*\\phi)^2 = \\frac{1}{4} \\left[ (v^2+2v\\varphi_1)^2 + 2 (v^2+2v\\varphi_1) (\\varphi^2_1 + \\varphi^2_2) + \n",
    "(\\varphi^2_1 + \\varphi^2_2)^2 \\right] \\\\\n",
    "\\frac{1}{4} \\left[ (v^4+ 4v^3 \\varphi_1+ 4 v^2 \\varphi^2_1)+ 2 v^2(\\varphi^2_1 + \\varphi^2_2) + \n",
    "4v\\varphi_1 (\\varphi^2_1 + \\varphi^2_2) + \n",
    "(\\varphi^2_1 + \\varphi^2_2)^2 \\right]\n",
    "$$\n",
    "\n",
    "El potencial, al tomar $\\mu^2 = -\\lambda v$, sería:\n",
    "\n",
    "$$\n",
    "V(\\phi) = - \\lambda v (\\phi^*\\phi) + \\lambda (\\phi^*\\phi)^2\n",
    "$$"
   ]
  },
  {
   "cell_type": "markdown",
   "metadata": {},
   "source": [
    "Notar que en el desarrollo del potencial los términos solo en $\\varphi_1$ y solo en $(\\varphi^2_1 + \\varphi^2_2)$ se anulan.\n",
    "\n",
    "Y el potencial queda:\n",
    "\n",
    "$$\n",
    "V(\\phi) = -\\frac{\\lambda v^4}{4} + \\lambda v^2 \\varphi^2_1 + 4 v \\lambda \\varphi_1 (\\varphi^2_1+\\varphi^2_2) + \\frac{1}{4} \\lambda (\\varphi^2_1+\\varphi^2_2)^2 \n",
    "$$\n"
   ]
  },
  {
   "cell_type": "markdown",
   "metadata": {},
   "source": [
    "donde el primer término es valor mínimo del potencial $V(\\phi)$, el segundo el término de masas del campo $\\varphi_1$, con masa:\n",
    "\n",
    "$$\n",
    "\\frac{1}{2} m^2_{\\varphi_1} = \\lambda v^2 = - \\mu^2, \\;\\;\\; (\\mu^2 <0)\n",
    "$$\n",
    "\n",
    "y los dos últimos términos corresponde a la interacción entre los campos, $\\varphi_1, \\varphi_2$.\n"
   ]
  },
  {
   "cell_type": "markdown",
   "metadata": {},
   "source": [
    "Luego de los dos campos reales, uno, el asociado a la componente real, adquiere masa, esto es requiere un mínimo de energía para crear su partícula asociada, dicha masa corresponde con la curvatura alrededor de la base del sombrero, y el segundo campo, el asociado a la componente compleja, no tiene una partícula con masa asociada y su potencial se corresponde con la variación a lo largo de la base del sombrero que es nula. \n",
    "\n",
    "Este segundo campo se le conoce como bosón de Goldstone, y refleja el hecho de que el mínimo del potencial tiene una simetría."
   ]
  },
  {
   "cell_type": "markdown",
   "metadata": {},
   "source": [
    "[TODO] dibujo indicativo"
   ]
  },
  {
   "cell_type": "markdown",
   "metadata": {},
   "source": [
    "Consideremos ahora que el lagrangiano del campo escalar complejo, $\\phi(x)$, con el potencial del sombrero mexicano:\n",
    "\n",
    "$$\n",
    "\\mathcal{L} = \\partial_\\mu \\phi^* \\partial^\\mu \\phi - V(\\phi)\n",
    "$$\n",
    "\n",
    "con\n",
    "\n",
    "$$\n",
    "V(\\phi) = \\mu^2 (\\phi^*\\phi) + \\lambda (\\phi^*\\phi)^2, \\;\\;\\, (-\\mu^2 \\lt 0, \\, \\lambda \\gt 0)\n",
    "$$"
   ]
  },
  {
   "cell_type": "markdown",
   "metadata": {},
   "source": [
    "E impongamos que el lagrangiano respecta la simetría gauge local respecto a un cambio de fase local en $\\phi(x)$,\n",
    "\n",
    "$$\n",
    "\\phi(x) \\to e^{i g\\theta(x)} \\phi(x)\n",
    "$$\n",
    "\n",
    "Sabemos que tenemos que extender el lagrangiano para incluir el término cinético de un campo vectorial, $A_\\mu(x)$, y sustituir la derivada por la derivada convariante. \n",
    "\n",
    "$$\n",
    "D_\\mu = \\partial_\\mu + i g A_\\mu\n",
    "$$"
   ]
  },
  {
   "cell_type": "markdown",
   "metadata": {},
   "source": [
    "Podemos dar el campo de forma genérico como:\n",
    "\n",
    "$$\n",
    "\\phi(x) = e^{ig\\theta(x)} \\varphi_1(x) \n",
    "$$\n",
    "\n",
    "a partir de su componente real $\\varphi_1(x)$ y una rotación $\\theta(x)$.\n",
    "\n",
    "Si escogemos una gauge tal que $\\theta(x) = 0$, que llamamos gauge unitaria, y desarrollamos el vampo  respecto al valor mínimo de potencial es:\n",
    "\n",
    "$$\n",
    "\\phi(x) = \\frac{1}{\\sqrt{2}} (v+ H(x)) \n",
    "$$\n",
    "\n",
    "donde $H(x)$ es un campo escalar real."
   ]
  },
  {
   "cell_type": "markdown",
   "metadata": {},
   "source": [
    "\n",
    "La derivada covariante queda:\n",
    "\n",
    "$$\n",
    "D_\\mu \\phi = \\left(\\partial_\\mu + i g A_\\mu\\right) \\frac{1}{\\sqrt{2}} \\left( v + H \\right)  = \\frac{1}{\\sqrt{2}} \\left[\\partial_\\mu H + ig (v + H)\\, A_\\mu \\right]\n",
    "$$\n",
    "\n",
    "\n",
    "El desarrollo del término cinético del campo escalar nos queda:\n",
    "\n",
    "$$\n",
    "D_\\mu \\phi^*(x) D^\\mu \\phi(x)= \\frac{1}{2} \\partial_\\mu H \\partial^\\mu H + \\frac{g^2}{2} (v+ H)^2 A_\\mu A^\\mu\n",
    "$$\n",
    "\n",
    "Esto es:\n",
    "\n",
    "$$\n",
    "\\frac{1}{2} \\partial_\\mu H \\partial^\\mu H + \\frac{g^2v^2}{2} A_\\mu A^\\mu + g^2v \\,H A_\\mu A^\\mu + \\frac{g^2}{2} H^2 A_\\mu A^\\mu \n",
    "$$"
   ]
  },
  {
   "cell_type": "markdown",
   "metadata": {},
   "source": [
    "Donde el primer término es el término cinético del campo $H$,\n",
    "\n",
    "El segundo término es un término de masa del bosón $A^\\mu$, con:\n",
    "\n",
    "$$\n",
    "m_A =  g \\, v\n",
    "$$\n",
    "\n",
    "Y los dos otros términos son la interacción entre el campo $H$ y el bosón $A_\\mu$, con vértices de tres y cuatro segmentos, respectivamente. "
   ]
  },
  {
   "cell_type": "markdown",
   "metadata": {},
   "source": [
    "Luego al imponer que el lagrangiano del campo escalar complejo con un potencial tipo sombrero mexicano presente una simetría gauge local, del grupo $U(1)$; al tomar una gauge específica en la que el campo solo tiene componente real, y desarrollando el campo a partir de su valor esperado en el vacío, hemos dado masa al bosón vectorial, $A_\\mu$.\n",
    "\n",
    "Si atendemos a los grados de libertad, el campo $\\varphi_2$ ha desaparecido y se ha \"convertido\" en un grado de libertad más del campo $A_\\mu$, que sin masa tiene dos polarizaciones, y con masa, tres.\n",
    "\n",
    "A veces en la literatura se dice que el campo $A_\\mu$ se ha *comido* el bosón de Goldstone $\\varphi_2$."
   ]
  },
  {
   "cell_type": "markdown",
   "metadata": {},
   "source": [
    "### Masa de los bosones vectoriales\n",
    "\n",
    "El caso anterior es un caso académico, donde hemos usando la simetría gauge U(1) del lagrangiano del campo escalar para dotar de masa a un hipotético bosón vectorial.\n",
    "\n",
    "Pero el problema real es cómo dotar de masa a los bosones vectoriales débiles, $W^\\pm, Z^0$.\n",
    "\n",
    "En este caso necesitaremos tres bosones de Goldstone para generar la masa de los tres bosones vectoriales, lo que nos lleva a que el campo de Higgs debe tener al menos 4 componentes reales. \n"
   ]
  },
  {
   "cell_type": "markdown",
   "metadata": {},
   "source": [
    "Consideremos que el campo de Higgs es un duplete de campos escalares complejos:\n",
    "\n",
    "$$\n",
    "\\Phi(x) \\equiv \\begin{pmatrix} \\phi^+(x) \\\\ \\phi^0(x) \\end{pmatrix} \n",
    "$$\n",
    "\n",
    "donde $\\phi^+(x)$ es un campo escalar complejo con una carga eléctrica asociada $+1$, mientras que $\\phi^0(x)$ es también un campo escalar complejo con carga eléctrica nula."
   ]
  },
  {
   "cell_type": "markdown",
   "metadata": {},
   "source": [
    "El porqué es un duplete quedará más claro cuando en la siguiente sección dotemos de masa a las fermiones."
   ]
  },
  {
   "cell_type": "markdown",
   "metadata": {},
   "source": [
    "Consideremos que el lagrangiano de este campo es:\n",
    "\n",
    "$$\n",
    "\\mathcal{L} = (D_\\mu \\Phi)^\\dagger D^\\mu \\Phi - V(\\Phi)\n",
    "$$\n",
    "\n",
    "donde:\n",
    "\n",
    "$$\n",
    "V(\\Phi) = \\mu^2 (\\Phi^\\dagger \\Phi) + \\lambda (\\Phi^\\dagger \\Phi)^2\n",
    "$$\n",
    "$$\n",
    "D_\\mu = \\partial_\\mu + i g_W W^i_\\mu \\tau_i + i g_Y B_\\mu\n",
    "$$\n",
    "\n",
    "con $\\mu^2<0, \\lambda \\gt0$, siendo $g_W, \\, g_Y$ la intensidad de los acoplos débil y de hypercarga respectivamente, y $\\tau_i = \\frac{\\sigma_i}{2}$ los generadores del grupo $SU(2)$. \n",
    "\n"
   ]
  },
  {
   "cell_type": "markdown",
   "metadata": {},
   "source": [
    "Este Lagrangiano es por lo tanto invariante gauge bajo el grupo $SU(2)_L \\times U(1)_Y$, y el campo está sometido a potencial del tipo sombrero mexicano.\n",
    "\n",
    "La hypercarga del duplete es $Y = 1/2$ de tal forma que la carga eléctrica del elemento de abajo del duplete de Higgs, $\\Phi$, sea nula:\n",
    "\n",
    "$$\n",
    "Q = I_{W3} + Y\n",
    "$$"
   ]
  },
  {
   "cell_type": "markdown",
   "metadata": {},
   "source": [
    "El mínimo de potencial es de nuevo $v/\\sqrt{2}$\n",
    "\n",
    "$$\n",
    "|\\Phi_0| = \\sqrt{-\\frac{\\mu^2}{2\\lambda}} \\equiv \\frac{v}{\\sqrt{2}}\n",
    "$$\n",
    "\n",
    "Rompemos la simetría del valor del campo en el mínimo de potencial y desarrollamos el campo de forma genérica a partir de valor en el mínimo que tiene solo componente real en el elemento de abajo del duplete: \n",
    "\n",
    "$$\n",
    "\\Phi(x) = e^{i \\tau_i \\theta^i(x)} \\frac{1}{\\sqrt{2}}\\begin{pmatrix} 0 \\\\ v+ H(x)\\end{pmatrix}\n",
    "$$\n",
    "\n",
    "donde $H(x)$ es un campo escalar real, y $\\theta^i(x)$ son 3 funciones reales."
   ]
  },
  {
   "cell_type": "markdown",
   "metadata": {},
   "source": [
    "Podemos usar la invariancia gauge para seleccionar una gauge específica donde $\\theta^i(x) = 0$, que llamamos unitaria.\n",
    "\n",
    "Notar que esta gauge nos asegura que el campo que sobrevive esté asociado con el campo *físico* que llamamos de Higgs.\n"
   ]
  },
  {
   "cell_type": "markdown",
   "metadata": {},
   "source": [
    "La derivada covariante:\n",
    "\n",
    "$$\n",
    "D_\\mu \\Phi = \\left(\\partial_\\mu + i g_W \\frac{\\sigma_i}{2} W^i_\\mu + i Y g_Y B_\\mu\\right) \\Phi\n",
    "$$\n",
    "\n",
    "donde $Y= \\frac{1}{2}$.\n",
    "\n",
    "Si la expresamos con el campo desarrollado a partir del valor en el vacío y en la gauge unitaria.\n",
    "\n",
    "$$\n",
    "D_\\mu \\Phi = \\\\ \\frac{1}{\\sqrt{2}} \\begin{pmatrix} 0 \\\\ \\partial_\\mu H \\end{pmatrix} + \n",
    " \\frac{i}{2} \\begin{pmatrix} g_W W^3_\\mu + g_Y B_\\mu & g_W(W^1_\\mu - i W^2_\\mu) \\\\ g_W(W^1_\\mu + i W^2_\\mu) & -g_W W^3_\\mu + g_Y B_\\mu\\end{pmatrix} \\frac{1}{\\sqrt{2}} \\begin{pmatrix} 0 \\\\ v+H \\end{pmatrix} \n",
    "$$\n",
    "$$\n",
    " \\frac{1}{\\sqrt{2}} \\begin{pmatrix} 0 \\\\ \\partial_\\mu H \\end{pmatrix} +\n",
    " \\frac{i}{2\\sqrt{2}} \\begin{pmatrix} \\sqrt{2} g_W W^+_\\mu \\\\ - g_W W^3_\\mu + g_Y B_\\mu \\end{pmatrix} (v+H)\n",
    "$$\n"
   ]
  },
  {
   "cell_type": "markdown",
   "metadata": {},
   "source": [
    "Podemos reescribir el término donde aparecen los campos $W^3_\\mu, B_\\mu$ con los de los bosones físicos, $A_\\mu, Z_\\mu$:\n",
    "\n",
    "$$\n",
    "-g_W W^3_\\mu + g_Y B_\\mu = -g_W (s_W A_\\mu + c_W Z_\\mu) + g_Y (c_WA_\\mu - s_W Z_\\mu) = \\\\\n",
    "(-g_W s_W + g_Y c_W) A_\\mu - (g_W c_W + g_Y s_W) Z = -\\frac{g_W}{c_W} Z_\\mu = - g_Z Z_\\mu\n",
    "$$\n",
    "\n",
    "donde hemos usando que $g_Y = g_W \\tan \\theta_W, g_Z = g_W/c_W$."
   ]
  },
  {
   "cell_type": "markdown",
   "metadata": {},
   "source": [
    "O equivalentemente, como el fotón no tiene masa, sabemos que para que se anule su factor en la expresión anterior debe cumplirse: \n",
    "\n",
    "$$\n",
    "g_W s_W = g_Y c_W\n",
    "$$\n",
    "\n",
    "esto es, debe cumplirse la siguiente una relación entre las intensidades de acoplo:\n",
    "\n",
    "$$\n",
    "g_Y = g_W \\tan \\theta_W\n",
    "$$\n",
    "\n",
    "que es relación que nos había aparecido antes, al desarrollar la unificación electrodébil."
   ]
  },
  {
   "cell_type": "markdown",
   "metadata": {},
   "source": [
    "Así:\n",
    "\n",
    "$$\n",
    "D_\\mu \\Phi =\n",
    " \\frac{1}{\\sqrt{2}} \\begin{pmatrix} 0 \\\\ \\partial_\\mu H \\end{pmatrix} +\n",
    " \\frac{i}{2\\sqrt{2}} \\begin{pmatrix} \\sqrt{2} g_W W^+_\\mu \\\\ -g_Z Z_\\mu \\end{pmatrix} (v+H)\n",
    "$$\n"
   ]
  },
  {
   "cell_type": "markdown",
   "metadata": {},
   "source": [
    "Teniendo en cuenta que $(W^+)^\\dagger = W^-$, el término cinético del lagrangiano en la gauge unitaria queda:\n",
    "\n",
    "$$\n",
    "(D_\\mu \\Phi)^\\dagger D^\\mu \\Phi = \\\\ \\frac{1}{2} \\partial_\\mu H \\partial^\\mu H + (v+H)^2 \\left[ \\frac{1}{4} g^2_W W^-_\\mu W^{+\\mu} + \\frac{g^2_Z}{8} Z_\\mu Z^\\mu \\right]\n",
    "$$"
   ]
  },
  {
   "cell_type": "markdown",
   "metadata": {},
   "source": [
    "Luego hemos obtenido un término de masas para los bosones vectoriales $W^\\pm, Z^0$, que es:\n",
    "\n",
    "$$\n",
    "M_W = \\frac{1}{2} v g_W, \\;\\;\\; M_Z = \\frac{1}{2} v g_Z \n",
    "$$\n",
    "\n",
    "Lo que establece la misma relación entre las masas que entre los acoplos:\n",
    "\n",
    "$$\n",
    "\\frac{M_W}{M_Z} = \\frac{g_W}{g_Z} = c_W \n",
    "$$"
   ]
  },
  {
   "cell_type": "markdown",
   "metadata": {},
   "source": [
    "Notar que dadas las constantes de acoplo débil, que fijan las interacciones débiles con los fermiones, junto con $v$, también fijan la masa de los bosones vectoriales. \n",
    "\n",
    "Esto es, el modelo de Higgs no introduce parámetros adicionales asociados con la masa de los bosones $W^\\pm, Z^0$, y ésta esta fijada por los parámetros $g_Y, g_W, v$."
   ]
  },
  {
   "cell_type": "markdown",
   "metadata": {},
   "source": [
    "Pero notar también que además de los términos de masa de los bosones, nos han aparecido en el lagrangiano una serie de términos que corresponden a las interacciónes de Higgs con los bosones vectorials $W^\\pm, Z^0$. \n",
    "\n",
    "La física que se deduce de estas interacciones es muy rica y compleja, que no vemos en estas notas. \n",
    "\n",
    "Pero si havemos notar que intensidad de la interacción de los campos vectoriales con el Higgs:\n",
    "\n",
    "$$\n",
    "g_W = 2 \\frac{M_W}{v}, \\;\\;\\; g_Z = 2 \\frac{M_Z}{v}\n",
    "$$\n",
    "\n",
    "es proporcional a su masa de los bosones."
   ]
  },
  {
   "cell_type": "markdown",
   "metadata": {},
   "source": [
    "Recordemos ahora que en los diagramas de Feynman de las corrientes débiles nos aparece el factor (al cuadrado) asociado a los vértices y el propagador, que si el cuadrimomento transferido es pequeño comparada con la masa de los bosones podemos aproximar por:\n",
    "\n",
    "$$\n",
    "\\frac{g^2_W}{2} \\frac{4}{M^2_W} = \\frac{1}{2v^2} \n",
    "$$\n",
    "\n",
    "Y sabemos que este factor está asociado a la constante de Fermi:\n",
    "\n",
    "$$\n",
    "G_F = \\frac{1}{2v^2} \\Rightarrow v = \\left(\\sqrt{2} G_F\\right)^{-1/2} = 246 \\;\\; \\mathrm{GeV}\n",
    "$$\n",
    "\n",
    "Esto es el valor esperado en el vacío, $v$, está asociado con la constante de Fermi, $G_F$.\n"
   ]
  },
  {
   "cell_type": "markdown",
   "metadata": {},
   "source": [
    "Asi pues la unificación electrodébil tiene cuatro parámetros físicos, dos asociados al bosón de Higgs, $G_F, m_H$, la constante de acoplo de Fermi y la masa del Higgs, y $e, s_W$, la carga eléctrica del electrón y el seno del ángulo de Weinberger. \n",
    "\n",
    "Desde punto de vista teórico los parámetros son $v, \\lambda, g_Y, g_W$.\n"
   ]
  },
  {
   "cell_type": "markdown",
   "metadata": {},
   "source": [
    "### Masas de los fermiones\n",
    "\n",
    "Para dotar de masa a los fermiones debemos recuperar el término en el lagrangiano que acople el campo a izquierdas con el de derechas a través del campo de Higgs.\n",
    "\n",
    "$$\n",
    "m \\bar{\\Psi} \\Psi = m \\bar{\\Psi}_R\\Psi_L + m \\bar{\\Psi}_L \\Psi_R \n",
    "$$"
   ]
  },
  {
   "cell_type": "markdown",
   "metadata": {},
   "source": [
    "\n",
    "Al haber situado los campos a izquierdas en un duplete y los de derechas en un singlete de isospín, debemos establecer un acoplo con el campo de Higgs de tal forma que sea un escalar e invariante Lorentz. Por ello, introducimos los términos:\n",
    "\n",
    "$$\n",
    "\\lambda_e \\, \\bar{L} \\Phi \\, e_R + \\lambda_e \\, (\\bar{L} \\Phi e_R)^\\dagger\n",
    "$$\n",
    "\n",
    "donde $\\lambda_e$ es una constante de acoplo de Yukawa. El segundo término simplemente es el hermítico conjugado, $\\mathrm{h.c.}$ "
   ]
  },
  {
   "cell_type": "markdown",
   "metadata": {},
   "source": [
    "Tras la rotura espontánea de simetría el término queda:\n",
    "\n",
    "$$\n",
    "\\lambda \\begin{pmatrix} \\bar{\\nu}_L, & \\bar{e}_L \\end{pmatrix} \\frac{1}{\\sqrt{2}} \\begin{pmatrix} 0 \\\\ v+H \\end{pmatrix} e_R + \\mathrm{h.c.}\n",
    "$$\n",
    "\n",
    "Esto es:\n",
    "\n",
    "$$\n",
    "\\frac{1}{\\sqrt{2}} \\lambda \\bar{e}_L e_R (v+H)+ \\mathrm{h.c.}\n",
    "$$"
   ]
  },
  {
   "cell_type": "markdown",
   "metadata": {},
   "source": [
    "Nos aparece un término de masas del electrón:\n",
    "\n",
    "$$\n",
    "\\frac{1}{\\sqrt{2}} \\lambda_e v (\\bar{e}_L e_R + \\bar{e}_R e_L) = m_e \\bar{e} e\n",
    "$$\n",
    "\n",
    "y un término de interacción del electrón con el campo de Higgs:\n",
    "\n",
    "$$\n",
    "\\frac{1}{\\sqrt{2}} \\lambda_e H (\\bar{e}_L e_R + \\bar{e}_R e_L) = \\frac{\\lambda_e}{\\sqrt{2}} H \\, \\bar{e} e\n",
    "$$\n",
    "\n"
   ]
  },
  {
   "cell_type": "markdown",
   "metadata": {},
   "source": [
    "\n",
    "La masa del electrón es entonces:\n",
    "\n",
    "$$\n",
    "m_e = \\frac{1}{\\sqrt{2}} \\lambda_e v\n",
    "$$\n",
    "\n",
    "Y la interacción del electrón con el Higgs es proporcional a:\n",
    "\n",
    "$$\n",
    "\\lambda_e = \\sqrt{2} \\frac{m_e}{v}\n",
    "$$\n",
    "\n",
    "la masa del electrón."
   ]
  },
  {
   "cell_type": "markdown",
   "metadata": {},
   "source": [
    "Y obraríamos de forma simular para el resto de familias leptónicas.\n",
    "\n",
    "En este caso al no existir el campo a derechas del neutrino no podemos dotarle de masa."
   ]
  },
  {
   "cell_type": "markdown",
   "metadata": {},
   "source": [
    "Si consideramos ahora la primera familia de los quarks, unos terminos similar a los anteriores nos dotaría de masa al quark $d$ pero para dotar de masa al quark $u$ necesitamos introducir términos adicionales.\n",
    "\n",
    "Para ello definimos primero el conjugado del duplete del campo de Higgs:\n",
    "\n",
    "$$\n",
    "\\Phi^c = i \\sigma_2 \\Phi^*\n",
    "$$\n",
    "\n",
    "que tras la rotura espontánea de simetría y la elección de la gauge unitaria queda:\n",
    "\n",
    "$$\n",
    "\\Phi^c = \\begin{pmatrix} 0 & 1 \\\\ -1 & 1 \\end{pmatrix} \\frac{1}{\\sqrt{2}} \\begin{pmatrix} 0 \\\\ v+H \\end{pmatrix} =\n",
    "\\frac{1}{\\sqrt{2}} \\begin{pmatrix} v+H \\\\  0\\end{pmatrix}\n",
    "$$"
   ]
  },
  {
   "cell_type": "markdown",
   "metadata": {},
   "source": [
    "Si introducimos ahora los términos de interacción de los quarks con el campo de Higgs como:\n",
    "\n",
    "$$\n",
    "\\lambda_u \\bar{Q}_u \\Phi u_R + \\lambda_d \\bar{Q}_u \\Phi^c  d_R + \\mathrm{h.c.}\n",
    "$$\n",
    "\n",
    "donde $\\lambda_u, \\lambda_d$ son las constante de acoplo de Yukawa del quark $u, d$ respectivamente.\n",
    "\n",
    "Notar que ambos términos son escalares respecto al isoespín débil, y nos acoplan los campos a izquierdas y derechas de cada quark."
   ]
  },
  {
   "cell_type": "markdown",
   "metadata": {},
   "source": [
    "Tras la rotura espontánea de simetría y en la gauge unitaria obtenemos:\n",
    "\n",
    "$$\n",
    "\\lambda_u  (\\bar{u}_L u_R + \\bar{u}_L u_R) \\frac{1}{\\sqrt{2}} (v+H) + \\lambda_d (\\bar{d}_Ld_R + \\bar{d}_L d_R) \\frac{1}{\\sqrt{2}} (v+H)\n",
    "$$\n",
    "\n",
    "Esto es, los términos de masas para los quarks $u, d$:\n",
    "\n",
    "$$\n",
    "m_u = \\frac{1}{\\sqrt{2}} \\lambda_u v, \\;\\;\\; m_u = \\frac{1}{\\sqrt{2}} \\lambda_u v,\n",
    "$$\n",
    "\n",
    "Y los de la iteracción de los quarks con el bosón de Higgs, cuya constante de acoplo de Yukawa:\n",
    "\n",
    "$$\n",
    "\\lambda_u = \\sqrt{2} \\frac{m_u}{v}, \\;\\;\\; \\lambda_d = \\sqrt{2} \\frac{m_d}{v}\n",
    "$$\n",
    "\n",
    "es proporcional a la masa de quada quark."
   ]
  },
  {
   "cell_type": "markdown",
   "metadata": {},
   "source": [
    "Obraríamos de igual forma para el resto de familias de quark.\n",
    "\n",
    "Notar por lo tanto que para cada fermión cargado introducimos una constante de acoplo de Yukawa. Esto es hay tantos parámetros libres adicionales como masas de los quarks.\n",
    "\n",
    "Y también que el acoplo con el campo de bosón de Higgs es proporcional a la masa de cada fermión. El bosón de Higgs se acopla con más intensidad con los fermiones más pesados.\n",
    "\n",
    "En resumen el Higgs se acopla a los fermiones y los bosones vectoriales, $W^\\pm, Z^0$, proporcionalmente a su masa.\n"
   ]
  },
  {
   "cell_type": "markdown",
   "metadata": {},
   "source": [
    "Recapitulemos, para dotar de masa a la primera familia de fermiones introducimos los siguientes términos de interacción:\n",
    "\n",
    "$$\n",
    "\\lambda_e \\bar{L}_e \\Phi e_R + \\lambda_u \\bar{Q}_u \\Phi^c u_R + \\lambda_d \\bar{Q}_u \\Phi d_R + \\mathrm{h.c.}\n",
    "$$\n",
    "\n",
    "que además de dotar de masa al electrón y a los quarks $u, d$, fijan las interacciones de los mismos con el bosón de Higgs."
   ]
  },
  {
   "cell_type": "markdown",
   "metadata": {},
   "source": [
    "### Parámetros del modelo\n",
    "\n",
    "Recapitulemos y resumamos los parámetros que aparecen en el Modelo Estándar.\n",
    "\n",
    "El campo de Higgs introduce dos parámetros, $v, \\lambda$, que experimentalmente están asociados a $G_F$ y la masa del Higgs $m_H$\n",
    "\n",
    "La interacción electrodébil introduce dos parámetros $g_W, g_Y$ que experimentalmente están asociados a la carga del electrón, $e$, (o la constante de estructura fina $\\alpha$) y el seno del ángulo de Weinberger $s_W$. Y que, junto con $v$ (o $G_F$), establecen la masa de los bosones vectoriales $M_W, M_Z$.\n",
    "\n",
    "La interacción fuerte introduce una constante de acoplo $g_S$ o experimentalmente la constante $\\alpha_S$.\n",
    "\n",
    "Finalmente tenemos tantos acoplos de Yukawa como fermiones cargados, esto es, 3 por familia. Para la primera familia, $\\lambda_e, \\lambda_u, \\lambda_d$, o experimentalmente las masas $m_e, m_u, m_d$.\n",
    "\n",
    "No hemos considerano en nuestra discusión la mezcla de sabores de los quarks que nos introduciría 4 parámetros adicionales, asociados a la matriz CKM, tres ángulos de mezcla y una fase compleja.\n",
    "\n",
    "Si consideramos la masa de los neutrinos y su mezcla el modelo tiene 3 más 4 (o 6) parámetros adicionales, 3 de las masas y 4 de la matriz de mezcla PMNS y dos posibles fases si los neutrinos son de Majorana.\n"
   ]
  },
  {
   "cell_type": "markdown",
   "metadata": {},
   "source": [
    "----------"
   ]
  },
  {
   "cell_type": "markdown",
   "metadata": {},
   "source": [
    "## Bibliografía\n",
    "\n",
    "\n",
    "  * [MT] Mark Tomsom, \"Modern Particle Physics\", Cambridge U. press, Temas 15, 16 y 17.\n",
    "  \n",
    "  * [AB] Alessandro Bettini, \"Introduction to Elementary Particle Physcs\", Cambridge U. press, Tema 9. \n",
    "\n",
    "  * [TP] Antonio Pich, \"The Standard Model of Electroweak Interactions\", (2012), [arXiv:1201.0537v1](https://arxiv.org/abs/1201.0537v1)\n",
    "  \n",
    "  * [PK] M. Peskin, Lectures on the Theory of the Weak Interaction, SLAC–PUB–17142, (2017), [arXiv:1708.0943v1](https://arxiv.org/abs/1708.09043)\n",
    "  "
   ]
  }
 ],
 "metadata": {
  "anaconda-cloud": {},
  "celltoolbar": "Slideshow",
  "kernelspec": {
   "display_name": "Python 3",
   "language": "python",
   "name": "python3"
  },
  "language_info": {
   "codemirror_mode": {
    "name": "ipython",
    "version": 3
   },
   "file_extension": ".py",
   "mimetype": "text/x-python",
   "name": "python",
   "nbconvert_exporter": "python",
   "pygments_lexer": "ipython3",
   "version": "3.8.8"
  }
 },
 "nbformat": 4,
 "nbformat_minor": 4
}
