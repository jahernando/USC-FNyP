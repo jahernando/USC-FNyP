{
 "cells": [
  {
   "cell_type": "markdown",
   "metadata": {
    "slideshow": {
     "slide_type": "slide"
    }
   },
   "source": [
    "# Apéndice B : Ecuación de Dirac\n",
    "\n",
    "\n",
    "Jose A. Hernando\n",
    "\n",
    "*Departamento de Física de Partículas. Universidade de Santiago de Compostela*\n",
    "\n",
    "Noviembre 2023\n"
   ]
  },
  {
   "cell_type": "code",
   "execution_count": 1,
   "metadata": {
    "slideshow": {
     "slide_type": "fragment"
    }
   },
   "outputs": [
    {
     "name": "stdout",
     "output_type": "stream",
     "text": [
      " Last version  Mon Nov 27 11:47:57 2023\n"
     ]
    }
   ],
   "source": [
    "import time\n",
    "print(' Last version ', time.asctime() )"
   ]
  },
  {
   "cell_type": "code",
   "execution_count": 2,
   "metadata": {},
   "outputs": [],
   "source": [
    "# general imports\n",
    "%matplotlib inline\n",
    "%reload_ext autoreload\n",
    "%autoreload 2\n",
    "\n",
    "# numpy and matplotlib\n",
    "import numpy as np\n",
    "import matplotlib\n",
    "import matplotlib.pyplot as plt"
   ]
  },
  {
   "cell_type": "markdown",
   "metadata": {},
   "source": [
    "## Sobre la ecuación de Dirac"
   ]
  },
  {
   "cell_type": "markdown",
   "metadata": {},
   "source": [
    "### La condición de las matrices $\\gamma$"
   ]
  },
  {
   "cell_type": "markdown",
   "metadata": {},
   "source": [
    "### Invariance gauge local y la interacción con un campo vectorial"
   ]
  },
  {
   "cell_type": "markdown",
   "metadata": {},
   "source": [
    "### Sobre la Helicidad"
   ]
  },
  {
   "cell_type": "markdown",
   "metadata": {
    "slideshow": {
     "slide_type": "slide"
    }
   },
   "source": [
    "Definimos la helicidad, $h$, como la proyección normalizada del spin sobre el momento:\n",
    "\n",
    "$$\n",
    "h \\equiv \\frac{{\\bf S} \\cdot {\\bf p}}{p}.\n",
    "$$\n",
    "\n",
    "Para un espinor de Dirac el operador de helicidad, $\\hat{h}$, en la representación Pauli-Dirac es:\n",
    "\n",
    "$$\n",
    "{\\hat h} = \\frac{{\\bf \\Sigma} \\cdot {\\hat {\\bf p}}}{ 2 p} = \\frac{1}{2p} \n",
    "\\begin{pmatrix} {\\bf \\sigma} \\cdot {\\bf {\\hat p}} & 0 \\\\ 0 & {\\bf \\sigma} \\cdot {\\bf {\\hat p}} \\end{pmatrix}\n",
    "$$\n"
   ]
  },
  {
   "cell_type": "markdown",
   "metadata": {
    "slideshow": {
     "slide_type": "slide"
    }
   },
   "source": [
    "El operador helicidad conmuta con el hamiltoniano: $[{\\hat H}, {\\hat h}] = 0 $ y por lo tanto la helicidad se conserva.\n",
    "\n",
    "Pero no es un invariante Lorentz, para una partícula siempre podemos encontrar un sistema de referencia (con una velocidad mayor) que revierta el momento y por lo tanto la helicidad.\n",
    "\n",
    "Vamos a calcular la representación de los espinores, $u, v$ que sean autoestados de helicidad.\n",
    "\n",
    "Estos espinores son de gran utilidad cuando se calculan los elementos de matriz de las desintegraciones o interacciones de partículas."
   ]
  },
  {
   "cell_type": "markdown",
   "metadata": {
    "slideshow": {
     "slide_type": "slide"
    }
   },
   "source": [
    "#### Espinores de helicidad\n",
    "\n",
    "Recordemos que la parde de arriba y abajo, $u_A, u_B$, del espinor $u = \\begin{pmatrix} u_A \\\\ u_B \\end{pmatrix}$ están relacionadas por:\n",
    "\n",
    "$$\n",
    "u_B = \\frac{{\\bf \\sigma \\cdot p}}{E+m} \\, u_A\n",
    "$$\n",
    "\n",
    "Solo necesitamos calcular las componentes, $a, b$, de $u_A = \\begin{pmatrix} a \\\\ b \\end{pmatrix}$\n",
    "\n",
    "Siendo $u$ autoestado de helicidad\n"
   ]
  },
  {
   "cell_type": "markdown",
   "metadata": {
    "slideshow": {
     "slide_type": "slide"
    }
   },
   "source": [
    "\n",
    "##### Autovalores de helicidad\n",
    "\n",
    "la condición de autoestado de helicidad, $\\hat{h}\\, u = \\lambda \\, u$:\n",
    "\n",
    "$$\n",
    "\\frac{1}{2p} \\begin{pmatrix} \\sigma \\cdot {\\bf p} & 0 \\\\ 0  & \\sigma \\cdot {\\bf p}\\end{pmatrix} \\, \n",
    "\\begin{pmatrix} u_A \\\\ u_B \\end{pmatrix} = \\lambda \\, \\begin{pmatrix} u_A \\\\ u_B \\end{pmatrix},\n",
    "$$\n",
    "se traduce en dos condiciones:\n",
    "$$\n",
    "(\\sigma \\cdot {\\bf p}) \\, u_A = (2p) \\lambda u_A, \\\\ (\\sigma \\cdot {\\bf p}) \\, u_B = (2p) \\lambda u_B\n",
    "$$\n",
    "\n",
    "si multiplicamos la primera ecuación a ambos lados por $(\\sigma \\cdot {\\bf p})$ y teniendo en cuenta que $(\\sigma \\cdot {\\bf p})^2 = p^2$, obtenemos:\n",
    "\n",
    "$$\n",
    "p^2 u_A = (2p) \\lambda (\\sigma \\cdot {\\bf p}) u_A = 4p^2 \\lambda^2 u_A \n",
    "$$\n",
    "\n",
    "de donde obtenemos los autovalores de helicidad:\n",
    "\n",
    "$$\n",
    "\\lambda = \\pm \\frac{1}{2}\n",
    "$$"
   ]
  },
  {
   "cell_type": "markdown",
   "metadata": {
    "slideshow": {
     "slide_type": "slide"
    }
   },
   "source": [
    "##### Autoestados de helicidad\n",
    "\n",
    "Si expresamos el momento en coordenadas esféricas ${\\bf p} = p \\, (\\sin \\theta \\cos \\phi, \\sin \\theta, \\cos \\theta)$, obtenemos:\n",
    "\n",
    "$$\n",
    "\\frac{{\\bf \\sigma} \\cdot {\\bf p}}{p} = \\frac{1}{p}\\begin{pmatrix} p_z & p_x - ip_y \\\\ p_x+ip_y & -p_z \\end{pmatrix} = \n",
    "\\begin{pmatrix} \\cos\\theta & \\sin\\theta e^{-i\\phi} \\\\ \\sin\\theta e^{i\\phi} & -\\cos\\theta \\end{pmatrix}\n",
    "$$\n",
    "\n",
    "La condición de autoestado de $u_A$ es:\n",
    "\n",
    "$$\n",
    "\\begin{pmatrix} \\cos\\theta & \\sin\\theta e^{-i\\phi} \\\\ \\sin\\theta e^{i\\phi} & -\\cos\\theta \\end{pmatrix}\n",
    "\\begin{pmatrix} a \\\\ b \\end{pmatrix} = \n",
    "2 \\lambda \\begin{pmatrix} a \\\\ b \\end{pmatrix}\n",
    "$$\n"
   ]
  },
  {
   "cell_type": "markdown",
   "metadata": {},
   "source": [
    "Esto es:\n",
    "\n",
    "$$\n",
    "a \\cos \\theta + \\sin \\theta e^{-i\\phi} b = 2 \\lambda a, \\\\\n",
    "\\sin \\theta e^{-i\\phi} b = (2\\lambda -  \\cos\\theta) a \\\\\n",
    "$$\n",
    "\n",
    "Por lo tanto, las componentes $a, b$ cumplen:\n",
    "\n",
    "$$\n",
    "\\frac{b}{a} = \\frac{2\\lambda -\\cos \\theta}{\\sin\\theta} e^{i\\phi}\n",
    "$$"
   ]
  },
  {
   "cell_type": "markdown",
   "metadata": {
    "slideshow": {
     "slide_type": "slide"
    }
   },
   "source": [
    "Para el caso de helicidad positiva $\\lambda = 1/2$, obtenemos:\n",
    "\n",
    "$$\n",
    "\\frac{b}{a} = \\frac{1 -\\cos \\theta}{\\sin\\theta} e^{i\\phi} = e^{i\\phi} \\tan \\frac{\\theta}{2}\n",
    "$$\n",
    "\n",
    "De tal forma:\n",
    "$$\n",
    "u_A = \\begin{pmatrix} \\cos \\frac{\\theta}{2} \\\\ e^{i\\phi}\\sin \\frac{\\theta}{2}\\end{pmatrix} = \\begin{pmatrix} c \\\\ e^{i\\phi}c \\end{pmatrix}\n",
    "$$\n",
    "\n",
    "donde $c = \\cos \\theta/2, \\; s = \\sin \\theta/2$.\n"
   ]
  },
  {
   "cell_type": "markdown",
   "metadata": {
    "slideshow": {
     "slide_type": "slide"
    }
   },
   "source": [
    "La ecuación de Dirac liga $u_B$ con $u_A$\n",
    "\n",
    "$$\n",
    "u_B = \\frac{{\\bf \\sigma \\cdot p}}{E+m} \\, u_A\n",
    "$$\n",
    "\n",
    "como $u_A$ es autoestado de helicidad, también cumple:\n",
    "\n",
    "$$\n",
    "({\\bf \\sigma \\cdot p}) \\, u_A = (2p) \\lambda \\, u_A\n",
    "$$\n",
    "\n",
    "Para  $\\lambda = 1/2$ obtenemos el espinor $u_+$, de helicidad positiva:\n",
    "\n",
    "$$\n",
    "u_{+} = N \\begin{pmatrix} c \\\\ s e^{i\\phi} \\\\ \\frac{p}{E+m} c \\\\ \\frac{p}{E+m} s e^{i\\phi} \\end{pmatrix},\n",
    "$$\n",
    "donde $c = \\cos \\theta/2, s = \\sin \\theta/2$, y $N$ el factor de normalización.\n",
    "\n",
    "\n",
    "que es autovector del operador helicidad, $\\hat{h}$ con autovalor $1/2$, helicidad positiva:\n",
    "\n",
    "$$\n",
    "\\hat{h} \\, u_+ = \\frac{1}{2} \\, u_+\n",
    "$$"
   ]
  },
  {
   "cell_type": "markdown",
   "metadata": {
    "slideshow": {
     "slide_type": "slide"
    }
   },
   "source": [
    "Procediendo de forma similar para el espinor $u$ con $\\lambda = -1/2$ y para los espinores $v$ con $\\lambda = \\pm 1/2$ obtenemos los **espinores de helicidad**:\n",
    "\n",
    "\n",
    "$$\n",
    "u_{+} = N \\begin{pmatrix} c \\\\ s e^{i\\theta} \\\\ \\kappa c \\\\ \\kappa s e^{i\\theta} \\end{pmatrix}, \\;\n",
    "u_{-} = N \\begin{pmatrix} -s \\\\ c e^{i\\theta} \\\\ \\kappa s \\\\ -\\kappa c e^{i\\theta}\\end{pmatrix}, \\;\n",
    "v_{+} = N \\begin{pmatrix} \\kappa s \\\\ -\\kappa c e^{i\\theta}\\\\ -s \\\\ ce^{i\\theta} \\end{pmatrix}, \\;\n",
    "v_{-} = N \\begin{pmatrix} \\kappa c \\\\ \\kappa s e^{i\\theta}\\\\ c \\\\ s e^{i\\theta} \\end{pmatrix}. \n",
    "$$\n",
    "\n",
    "donde $\\kappa = \\frac{p}{E+m}, c = \\cos \\theta/2, s = \\sin \\theta/2$ y $N$ el factor normalización.\n",
    "\n",
    "que cumplen:\n",
    "\n",
    "$$\n",
    "\\hat{h} \\, u_\\pm = \\pm \\frac{1}{2} \\, u_\\pm, \\;\\;\\; \\hat{h}^v \\, v_\\pm = \\pm \\frac{1}{2} \\, v_\\pm\n",
    "$$\n"
   ]
  },
  {
   "cell_type": "markdown",
   "metadata": {},
   "source": [
    "[  ] TODO: hacer los calculos y verificar que h cambia de signo para los v-espinores"
   ]
  },
  {
   "cell_type": "markdown",
   "metadata": {
    "slideshow": {
     "slide_type": "slide"
    }
   },
   "source": [
    "Los espinores de quiralidad se suelen representar de forma gráfica con la siguientes figuras:\n",
    "\n",
    "| |\n",
    "|:--:|\n",
    "|<img src=\"./imgs/dirac_spinors_helicities.png\" width = 400 align=\"center\">|\n",
    "| spín (flecha azul) y momento (negra) de los spinores de helicidad|\n",
    "\n",
    "$u_\\pm, v_\\pm$ son los espinores de las partículas y antipartículas respectivamente.\n",
    "\n",
    "$u_{+}, v_{+}$ son espinores de **helicidad positiva** (el espín tiene el mismo sentido que el momento).\n",
    "\n",
    "$u_{-}, v_{-}$ tienen **helicidad negativa** (el spín y momento tienen sentido opuesto).\n",
    "\n"
   ]
  },
  {
   "cell_type": "markdown",
   "metadata": {},
   "source": [
    "En el caso en que tomemos como la dirección $\\hat{h}$ la del movimiento de la partícula ${\\bf p}$, tenemos que $\\theta = 0, \\phi = 0$ (por convención), tenemos:\n",
    "\n",
    "$$\n",
    "u_{+} = N \\begin{pmatrix} 1 \\\\ 0 \\\\ \\kappa  \\\\ 0 \\end{pmatrix}, \\;\n",
    "u_{-} = N \\begin{pmatrix} 0 \\\\ 1 \\\\ 0 \\\\ -\\kappa \\end{pmatrix}, \\;\n",
    "v_{+} = N \\begin{pmatrix} 0  \\\\ -\\kappa \\\\ 0 \\\\ 1 \\end{pmatrix}, \\;\n",
    "v_{-} = N \\begin{pmatrix} \\kappa  \\\\ 0 \\\\ 1 \\\\ 0 \\end{pmatrix}. \n",
    "$$"
   ]
  },
  {
   "cell_type": "markdown",
   "metadata": {
    "slideshow": {
     "slide_type": "slide"
    }
   },
   "source": [
    "Si consideramos ahora el caso de partículas ultrarelativistas, $E \\gg m$, o sin masa $m=0$, por ejemplo el neutrino, tenemos $E = p$ y por lo tanto $\\kappa = 1$.\n",
    "\n",
    "Los espinores de helicidad para el caso ultrarelativista son:\n",
    "\n",
    "$$\n",
    "u_{+} = N \\begin{pmatrix} c \\\\ s e^{i\\theta} \\\\ c \\\\  s e^{i\\theta} \\end{pmatrix}, \\;\n",
    "u_{-} = N \\begin{pmatrix} -s \\\\ c e^{i\\theta} \\\\ s \\\\ - c e^{i\\theta}\\end{pmatrix}, \\;\n",
    "v_{+} = N \\begin{pmatrix}  s \\\\ -c e^{i\\theta}\\\\ -s \\\\ ce^{i\\theta} \\end{pmatrix}, \\;\n",
    "v_{-} = N \\begin{pmatrix} c \\\\ s e^{i\\theta}\\\\ c \\\\ s e^{i\\theta} \\end{pmatrix}. \n",
    "$$\n",
    "\n",
    "\n"
   ]
  },
  {
   "cell_type": "markdown",
   "metadata": {},
   "source": [
    "### El espinor adjunto y la corriente fermiónica"
   ]
  },
  {
   "cell_type": "markdown",
   "metadata": {},
   "source": [
    "#### El espinor de Dirac adjunto\n",
    "\n",
    "Es conveniente también definir el **spinor adjunto** como:\n",
    "\n",
    "$$\n",
    "\\bar{\\Psi} = \\Psi^\\dagger \\gamma^0\n",
    "$$\n",
    "\n",
    "En la representación de Pauli-Dirac:\n",
    "$$\\bar{\\Psi} = (\\psi^*_1, \\psi^*_2, -\\psi^*_3, -\\psi^*_4),$$\n",
    "que tiene forma de vector fila."
   ]
  },
  {
   "cell_type": "markdown",
   "metadata": {},
   "source": [
    "#### Densidad y corriente de probabilidad\n",
    "\n",
    "La densidad, $\\rho$, y la corriente, $j^k$  con $k=1, 2, 3$, de probabilidad del spinor de Dirac son:\n",
    "\n",
    "$$\n",
    "\\rho = \\Psi^\\dagger \\Psi = |\\psi_1|^2 + |\\psi_2|^2 + |\\psi_3|^2 + |\\psi_4|^2, \\;\\; j^k  = \\Psi^\\dagger \\alpha_k \\Psi\n",
    "$$\n",
    "\n",
    "que cumplen:\n",
    "$$\n",
    "\\frac{\\partial \\rho}{\\partial t} + \\nabla \\cdot {\\bf j} = 0.\n",
    "$$\n",
    "\n",
    "Podemos introducir el cuadrivector corriente de probabilidad:\n",
    "\n",
    "$$\n",
    "j^\\mu = \\Psi^\\dagger \\gamma^0 \\gamma^\\mu \\Psi = \\bar{\\Psi} \\gamma^\\mu \\Psi,\n",
    "$$\n",
    "\n",
    "Y la conservación de probabilidad puede expresarse:\n",
    "\n",
    "$$\n",
    "\\partial_\\mu j^\\mu = 0\n",
    "$$\n"
   ]
  },
  {
   "cell_type": "markdown",
   "metadata": {
    "slideshow": {
     "slide_type": "slide"
    }
   },
   "source": [
    "## Bibliografía\n",
    "\n",
    " * [MT] Mark Tomson, \"Modern Particle Physics\", Cambridge U. press. Tema 4 y 6.4\n"
   ]
  }
 ],
 "metadata": {
  "anaconda-cloud": {},
  "celltoolbar": "Slideshow",
  "kernelspec": {
   "display_name": "Python 3",
   "language": "python",
   "name": "python3"
  },
  "language_info": {
   "codemirror_mode": {
    "name": "ipython",
    "version": 3
   },
   "file_extension": ".py",
   "mimetype": "text/x-python",
   "name": "python",
   "nbconvert_exporter": "python",
   "pygments_lexer": "ipython3",
   "version": "3.9.13"
  }
 },
 "nbformat": 4,
 "nbformat_minor": 4
}
