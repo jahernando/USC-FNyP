{
 "cells": [
  {
   "cell_type": "markdown",
   "metadata": {
    "slideshow": {
     "slide_type": "slide"
    }
   },
   "source": [
    "# Apéndice B : Ecuación de Dirac\n",
    "\n",
    "\n",
    "Jose A. Hernando\n",
    "\n",
    "*Departamento de Física de Partículas. Universidade de Santiago de Compostela*\n",
    "\n",
    "Diciembre 2023\n"
   ]
  },
  {
   "cell_type": "code",
   "execution_count": 1,
   "metadata": {
    "slideshow": {
     "slide_type": "fragment"
    }
   },
   "outputs": [
    {
     "name": "stdout",
     "output_type": "stream",
     "text": [
      " Last version  Sat Dec  9 16:37:10 2023\n"
     ]
    }
   ],
   "source": [
    "import time\n",
    "print(' Last version ', time.asctime() )"
   ]
  },
  {
   "cell_type": "code",
   "execution_count": 2,
   "metadata": {},
   "outputs": [],
   "source": [
    "# general imports\n",
    "%matplotlib inline\n",
    "%reload_ext autoreload\n",
    "%autoreload 2\n",
    "\n",
    "# numpy and matplotlib\n",
    "import numpy as np\n",
    "import matplotlib\n",
    "import matplotlib.pyplot as plt"
   ]
  },
  {
   "cell_type": "markdown",
   "metadata": {},
   "source": [
    "## Sobre la ecuación de Dirac\n",
    "\n",
    "Dirac propuso en los años 30 del siglo XX una ecuación que describe la dinámica de los fermiones libres.\n",
    "\n",
    "Construyó su ecuación de tal forma que fuera invariente Lorentz, apareciesen linealmente los operadores de energía y momento de la mecánica cuántica, por ejemplo $\\hat{p} = -i \\nabla$, y contuviese implícitamente la ecuación de Einstein, $E = m^2 + p^2$.\n",
    "\n",
    "La solución de la ecuación de dirac, $\\Psi(x)$, es un nuevo tipo de objeto físico, un **espinor**, que describe los fermiones libres, partículas con un momento angular intrínseco o espín de $1/2$. No es sólo una función de ondas, si no cuatro, puestas en forma de columna. Este nuevo objeto se transformará con una reglas específicas bajo transformaciones Lorentz, que veremos, se derivan de la invariancia Lorentz de la propia ecuación de Dirac. En particular un espinor  bajo rotaciones regresa a a su forma original tras girar dos veces, $4\\pi$, esto es un giro le afecta \"la mitad\", de ahí que su *espín* sea 1/2. \n",
    "\n",
    "Inicialmente dos de las soluciones de Dirac tenían energía negativa. Dirac mismo propuso una interpretación muy iluminadora de su significado, indicando que las soluciones de energía negativa se correspondían con anti-partículas. Anti-partícula sería la *ausencia* de partícula, y por lo tanto tendría sus cargas opuestas. El descubrimiento del positrón supuso el espaldarazo de la existencia de las anti-partículas y de la ecuación de Dirac. \n",
    "\n",
    "Las cuatro soluciones indenpendientes de Dirac corresponden ùes un fermión y sus dos componentes de espín, por ejemplo el electrón con carga $-e$, y al anti-fermión, el positrón, que tiene las cargas opuestas, $+e$, y sus dos componentes de espín. La ecuación de Dirac da paso al **espín**, el momento angular intrínsico de una partícula, y a las **antipartículas**. ¡Todo un logro!\n",
    "\n",
    "En la ecuación aparecen ademas cuatro matrices, $\\gamma^\\mu$ con $\\mu = 0, 1, 2, 3$, iguales en todos los sistemas inerciales, que aunque admiten diversas representaciones, cumplen unas reglas de conmutación que permiten como un engranaje, al asociarlas, al momento y la energía de la partícula, recuperar de nuevo la relación $E^2 = m^2 + p^2$. Podemos decir que las matrices $\\gamma$ asociadas con los operadores energía y momento están codificando, encriptando, linealmente la famosa ecuación de Einstein."
   ]
  },
  {
   "cell_type": "markdown",
   "metadata": {},
   "source": [
    "La ecuación de Dirac es uno de los grandes logros de la Física Teórica, matemáticamente es de una simpleza sorprendente y al mismo tiempo de una riqueza física desbordante.\n",
    "\n",
    "En lo siguiente desvelaremos algunos de sus secretos e intentaremos asociarlos a los elementos fundamentales de las interacciones."
   ]
  },
  {
   "cell_type": "markdown",
   "metadata": {},
   "source": [
    "### Representación covariante de la ecuación de Dirac \n",
    "\n",
    "La representación covariante de la ecuación de Dirac es:\n",
    "\n",
    "$$\n",
    "(i \\gamma^\\mu \\partial_\\mu  - m) \\, \\Psi = 0.\n",
    "$$\n",
    "\n",
    "donde $\\partial_\\mu$ es la  **derivada covariante**:\n",
    "\n",
    "$$\n",
    "\\partial_\\mu = \\left( \\frac{\\partial}{\\partial t}, \\frac{\\partial}{\\partial x},  \n",
    "                \\frac{\\partial}{\\partial y}, \\frac{\\partial}{\\partial z}  \\right),\n",
    "$$\n",
    "\n",
    "y $\\gamma^\\mu$, con $\\mu = 0, 1, 2, 3$, son la matrices gamma.\n"
   ]
  },
  {
   "cell_type": "markdown",
   "metadata": {},
   "source": [
    "*Nota_* entendemos la contracción de índices en $\\mu$ como un sumatorio:\n",
    "\n",
    "$$\n",
    "\\gamma^\\mu \\, \\partial_\\mu \\equiv \\sum_{\\nu= 0}^{3} \\gamma^\\nu \\partial_\\nu\n",
    "$$\n",
    "\n",
    "En estas notas, y habitualmente en la literatura, los índices griegos, $\\mu, \\nu = 0, 1,2, 3$, estarán asociados a las componente temporales y especiales, meintras que los índices latinos, $i, j, k = 1, 2, 3$, representarán las componentes espaciales. En ambos caso si aparecen contraidos, implican un sumatorio."
   ]
  },
  {
   "cell_type": "markdown",
   "metadata": {},
   "source": [
    "#### Las matrices $\\gamma$\n",
    "\n",
    "Las matrices-$\\gamma$ cumplen:\n",
    "\n",
    "$$\n",
    "(\\gamma^0)^2 = I, \\; (\\gamma^k)^2 = - I, \\;\\; \\gamma^\\mu \\gamma^\\nu = - \\gamma^\\nu \\gamma^\\mu \\, (\\mu \\neq \\nu),\n",
    "$$\n",
    "\n",
    "con $k=1, 2, 3$, y $\\mu = 0, 1, 2, 3$.\n",
    "\n",
    "De forma equivalente, cumplen las siguientes relaciones de anti-conmutación: \n",
    "\n",
    "$$\n",
    "\\{ \\gamma^\\mu, \\gamma^\\nu \\} \\equiv \\gamma^\\mu \\gamma^\\nu + \\gamma^\\nu \\gamma^\\mu = 2 g^{\\mu\\nu}\n",
    "$$\n",
    "\n",
    "Donde $g_{\\mu\\nu}$ es la métrica de Minkowski.\n",
    "\n",
    "$$\n",
    "g_{\\mu\\nu} = \\begin{pmatrix} 1 & 0 & 0 & 0 \\\\ 0 & -1 & 0 & 0 \\\\ 0 & 0 & -1 & 0 \\\\ 0 & 0 & 0 & -1 \\end{pmatrix}\n",
    "$$"
   ]
  },
  {
   "cell_type": "markdown",
   "metadata": {},
   "source": [
    "Vamos a deducir estas reglas de conmutación a partir de la asociación de los operadores momento y energía con la derivas *lineal* en espacio y tiempo.\n",
    "\n",
    "Si hacemos la asociación habitual de mecánica cuántica:\n",
    "\n",
    "$$\n",
    "i\\partial_0 \\Psi = E, \\;\\;\\; -i\\partial_i \\Psi = p_i,\n",
    "$$\n",
    "\n",
    "y elevando al cuadro la ec. de Dirac, obtenemos:\n",
    "\n",
    "$$\n",
    "E - p^2 =  \\left(\\gamma^0 E - \\sum_k \\gamma^k p_k \\right) \\left(\\gamma^0 E - \\sum_i\\gamma^i p_i\\right) = \\\\\n",
    "(\\gamma^0)^2 E^2 + \\sum_k (\\gamma^k)^2 p^2_k +\\\\\n",
    " \\sum_{k, i, k \\neq 1}(\\gamma^k \\gamma^i + \\gamma^i \\gamma^k) p_k p_i -   \\sum_k(\\gamma^0 \\gamma^k + \\gamma^k \\gamma^0) E p_k\n",
    "$$\n",
    "\n",
    "con $k, i = 1, 2, 3$.\n",
    "\n",
    "*Nota:* A partir de ahora, no explicitaremos los sumatorios."
   ]
  },
  {
   "cell_type": "markdown",
   "metadata": {},
   "source": [
    "Si asociamos término a término, concluimos:\n",
    "\n",
    "$$\n",
    "(\\gamma^0)^2 = I, \\;\\, (\\gamma^k)^2 = -I, \\;\\; \\\\\n",
    "\\{\\gamma^k, \\gamma^i\\} = 0, \\;\\; \\{\\gamma^0, \\gamma^k\\} = 0,\n",
    "$$\n",
    "\n",
    "con $ i \\neq k, \\;\\; i,k = 1, 2, 3$\n",
    "\n",
    "Esto es:\n",
    "\n",
    "$$\n",
    "\\{\\gamma^\\mu, \\gamma^\\nu\\} = 2 g^{\\mu\\nu}, \\;\\; \\mu, \\nu = 0, 1, 2, 3.\n",
    "$$\n",
    "\n",
    "con $\\mu, \\nu = 0, 1, 2, 3.$"
   ]
  },
  {
   "cell_type": "markdown",
   "metadata": {},
   "source": [
    "Veamos además que la matrix $\\gamma^0$ es hermítica y las $\\gamma^k$, con $k=1, 2, 3$, anti-hermíticas:\n",
    "\n",
    "$$\n",
    "\\gamma^{0\\dagger} = \\gamma^0, \\;\\; \\gamma^{k \\dagger} = - \\gamma^{k}\n",
    "$$\n",
    "\n",
    "Estas propiedades se derivan de que el hamiltoniano es hermítico, $H^\\dagger = H$, dado que sus autoesados son reales.\n",
    "\n",
    "Si escribimos:\n",
    "\n",
    "$$\n",
    "H = i \\partial_0 = \\gamma^0 (m -i \\gamma^k \\partial_k) \\\\ \n",
    "E = \\gamma^0  m +  \\gamma^0 \\gamma^k p_k\\\\\n",
    "E = (\\gamma^0)^\\dagger m + (\\gamma^0 \\gamma^k)^\\dagger p_k, \\\\\n",
    "$$\n",
    "\n",
    "obtenemos:\n",
    "\n",
    "$$\n",
    "(\\gamma^0)^\\dagger = \\gamma^0; \\\\\n",
    "(\\gamma^0 \\gamma^k)^\\dagger =   \\gamma^0 \\gamma^k, \\;\\;  (\\gamma^k)^\\dagger \\gamma^0 =  \\gamma^0 \\gamma^k, \\\\\n",
    "(\\gamma^k)^\\dagger \\gamma^0 = - \\gamma^k \\gamma^0, (\\gamma^k)^\\dagger = \\gamma^k\n",
    "$$\n",
    "\n",
    "Esto es $\\gamma^0$ es una matriz hermítica y $\\gamma^k$, con $k = 1, 2, 3$, anti-hermítica."
   ]
  },
  {
   "cell_type": "markdown",
   "metadata": {},
   "source": [
    "#### Matrix $\\gamma^5$\n",
    "\n",
    "Vamos a introducir una quinta matriz, $\\gamma^5$, que va a estar muy relacionada con una propiedad que llamaremos *quiralidad* (ver al final del apéndice) y que juega un papel fundamental en la interacciones débiles.\n",
    "\n",
    "La matriz $\\gamma^5$ se define:\n",
    "\n",
    "$$\n",
    "\\gamma^5 \\equiv i \\gamma^0 \\gamma^1 \\gamma^2 \\gamma^3,\n",
    "$$\n",
    "\n",
    "Y tiene las siguientes propiedades:\n",
    "\n",
    "$$\n",
    "(\\gamma^5)^2 = I, \\;\\; \\gamma^{5\\dagger} = \\gamma^5, \\;\\; \\gamma^5\\gamma^\\mu = - \\gamma^\\mu \\gamma^5\n",
    "$$\n",
    "\n",
    "que se derivan de las propiedades de las matrices $\\gamma^\\mu$.\n",
    "\n",
    "*Cuestión:* Verifica las propiedades de $\\gamma^5$"
   ]
  },
  {
   "cell_type": "markdown",
   "metadata": {},
   "source": [
    "La matrices $\\gamma^\\mu$ adimiten diversas representaciones, la más común, que usaremos aquí es la **representación de Pauli-Dirac**, dada por:\n",
    "\n",
    "$$\n",
    "\\gamma^0 = \\begin{pmatrix} I & 0 \\\\ 0 & -I \\end{pmatrix}, \\;\\;\n",
    "\\gamma^k = \\begin{pmatrix} 0 & \\sigma_k \\\\ -\\sigma_k & 0 \\end{pmatrix}, \\;\\;\n",
    "\\gamma^5 = \\begin{pmatrix} 0 & I \\\\ I & 0 \\end{pmatrix},\n",
    "$$\n",
    "\n",
    "donde $I$ es la matriz identidad $2\\times2$, y $\\sigma_k$ son las matrices de Pauli:\n",
    "\n",
    "$$\n",
    "\\sigma_1 = \\begin{pmatrix} 0 & 1 \\\\ 1 & 0 \\end{pmatrix}, \\;\\;\n",
    "\\sigma_2 = \\begin{pmatrix} 0 & -i \\\\ i & 0 \\end{pmatrix}, \\;\\;\n",
    "\\sigma_3 = \\begin{pmatrix} 1 & 0 \\\\ 0 & -1\\end{pmatrix}.\n",
    "$$\n",
    "\n",
    "que recordemos cumplen:\n",
    "\n",
    "$$\n",
    "\\{\\sigma_i, \\sigma_j\\} = \\delta_{ij}, \\;\\; [\\sigma_i, \\sigma_j] = 2i \\, \\epsilon_{ijk} \\sigma_k\n",
    "$$\n",
    "\n",
    "*Cuestión:* Comprueba que las $\\gamma^\\mu$ cumplen las reglas de conmutación y sus propiedades de hermicidad."
   ]
  },
  {
   "cell_type": "markdown",
   "metadata": {},
   "source": [
    "## Soluciones de la ecuación de Dirac\n",
    "\n",
    "La solución de la ecuación de Dirac para un fermión libre, $\\Psi(x)$, es un **cuadri-spinor de Dirac**:\n",
    "\n",
    "$$\n",
    "\\Psi(x) = \\begin{pmatrix} \\psi_1(x) \\\\ \\psi_2(x) \\\\ \\psi_3(x) \\\\ \\psi_4(x)\\end{pmatrix},\n",
    "$$\n",
    "\n",
    "que tiene cuatro componentes, $\\psi_i$ con $i=1, 4$, complejas en forma vector columna.\n",
    "\n",
    "Esto es, tiene cuatro soluciones complejas independientes."
   ]
  },
  {
   "cell_type": "markdown",
   "metadata": {},
   "source": [
    "Las cuatro soluciones se puede agrupar en dos: \n",
    "\n",
    "* las soluciones de los **fermiones**, $\\Psi_s(x)$, \n",
    "\n",
    "* y las de los **anti-fermiones**, $\\Phi_s(x)$,\n",
    "\n",
    "cada una con dos posibilidades de espín arriba y abajo, $s = 1, 2$ en una dirección.\n",
    "\n",
    "Las soluciones admiten, como veremos en breve, la expresión:\n",
    "\n",
    "$$\n",
    "\\Psi_s(x) = u_s(p) \\, e^{-i \\, x \\cdot p}, \\;\\;\\; \\Phi_s(x) = v_s(p) \\, e^{+i \\, x \\cdot p}.\n",
    "$$"
   ]
  },
  {
   "cell_type": "markdown",
   "metadata": {},
   "source": [
    "Que tiene dos partes,\n",
    "\n",
    "*  una parte de onda plana, $e^{\\mp i \\, x \\cdot p}$, que contiene toda la dependencia espacio-temporal, \n",
    "\n",
    "* y otra parte espinorial, 4 componentes puestas en forma columna, que corresponde al espinor del fermión $u_s(p)$ y del antifermión $v_s(p)$ con dos posibilidades de espín, $s= 1, 2$, que dependen sólo del cuadrimomento $p$.\n",
    "\n",
    "Vamos a posponer la discusión de qué significan las antipartículas, y vamos a obtener primero las soluciones de la ec. de Dirac."
   ]
  },
  {
   "cell_type": "markdown",
   "metadata": {},
   "source": [
    "### Espinores de los fermiones\n",
    "\n",
    "Las soluciones de los fermiones, $\\Psi(x) = u_s(x)\\, e^{-i \\, xp}$, tienen como energía:\n",
    "\n",
    "$$\n",
    "i \\partial_0 \\, \\Psi_s(x) = i \\partial_o \\, u_s(p) \\, e^{-i \\, xp} = u_s(p) \\, i \\partial_o \\, e^{-i \\, (Et - {\\bf p} \\cdot {\\bf x})}  =   \\\\ \n",
    "u_s(p) i (-Ei)\\, e^{-i\\, xp} = E  \\, u_s(p) \\, e^{-i\\, xp} = E \\, \\Psi_s(x)\n",
    "$$\n",
    "\n",
    "y componentes del momento:\n",
    "\n",
    "$$\n",
    "- i \\partial_k \\, \\Psi_s(x) = -i \\partial_k \\, u_s(p) \\, e^{-i \\, xp} = - i u_s(p) \\, \\partial_k \\, u_s(p) \\, e^{-i \\, (Et - {\\bf p} \\cdot {\\bf x})} =  \\\\\n",
    " u_s(p) \\, (-i) (ip_k) \\, e^{-i\\, xp} = p_k \\,  u_s(p) \\, e^{-i\\, xp}  = p_k \\, \\Psi_s(x)\n",
    "$$"
   ]
  },
  {
   "cell_type": "markdown",
   "metadata": {},
   "source": [
    "A aplicar la ec. de Dirac sobre la solución, nos queda solo la ecuación de Dirac para el espinor, $u_s(p)$:\n",
    "\n",
    "$$\n",
    "(i \\gamma^\\mu \\partial_\\mu - m ) \\, \\Psi_s(x) = 0, \\\\\n",
    "(i \\gamma^\\mu \\partial_\\mu - m ) \\, u_s(p) \\, e^{-i \\, xp } = 0, \\\\\n",
    "[i \\gamma^\\mu (-iE) + i \\gamma^k (i p_k) - m] \\, u_s(p) = 0 \\\\\n",
    "(\\gamma^0 E - p_k \\gamma^k - m) \\, u_s(p) = 0 \n",
    "$$\n",
    "\n",
    "donde $k = 1, 2, 3$, y los índices contraidos indican sumatorio. \n",
    "\n",
    "Esto es:\n",
    "\n",
    "$$\n",
    "(\\gamma^\\mu \\, p_\\mu - m) \\, u_s(p) = 0\n",
    "$$"
   ]
  },
  {
   "cell_type": "markdown",
   "metadata": {},
   "source": [
    "Notar que en esta notación, donde se baja el índice, $p_\\mu$ corresponde a:\n",
    "\n",
    "$$\n",
    "p_\\mu \\equiv g_{\\mu\\nu} \\, p^\\nu = \\begin{pmatrix} E \\\\ -{\\bf p} \\end{pmatrix}, \\;\\;\\;\n",
    "p^\\mu = \\begin{pmatrix} E \\\\ {\\bf p} \\end{pmatrix}\n",
    "$$\n",
    "\n",
    "Llamamos a $p_\\mu$ vector *covariante* y a $p^\\mu$ *contra-variante*."
   ]
  },
  {
   "cell_type": "markdown",
   "metadata": {},
   "source": [
    "Podemos dar las cuatro componenetes del espinor $u_s(p)$ con dos bi-spinores, $u^a_s(p), \\, u^b_s(p)$, cada uno de ellos a su vez compuestos por dos componentes en vertical.\n",
    "\n",
    "$$\n",
    "u_s(p) \\equiv \\begin{pmatrix} u^a_s(p) \\\\ u^b_s(p) \\end{pmatrix} \n",
    "$$\n",
    "\n",
    "La ecuación de Dirac, en la representación Pauli-Dirac, sobre el espinor $u_s(p)$ queda:\n",
    "\n",
    "$$\n",
    "\\left[ E \\begin{pmatrix} I & 0 \\\\ 0 & -I \\end{pmatrix}  -\n",
    "       \\text{p} \\begin{pmatrix} 0 & \\hat{\\bf v} \\cdot \\vec{\\sigma} \\\\ -\\hat{\\bf v} \\cdot \\vec{\\sigma} & 0 \\end{pmatrix}\n",
    "       - m \\begin{pmatrix} I & 0 \\\\ 0 & I \\end{pmatrix} \\right]\n",
    "       \\begin{pmatrix} u^a_s(p) \\\\ u^b_s(p) \\end{pmatrix} = 0\n",
    "$$\n",
    "\n",
    "Donde estamos dando el momento ${\\bf p} = \\text{p} \\, \\hat{\\bf v}$, a partir del módulo del momento $\\text{p} = |{\\bf p}|$ y de su dirección $\\hat{\\bf v}$.\n"
   ]
  },
  {
   "cell_type": "markdown",
   "metadata": {},
   "source": [
    "Que nos da dos ecuaciones acopladas:\n",
    "\n",
    "$$\n",
    "+ E \\, u^a_s(p) - \\text{p} \\,  (\\hat{\\bf v} \\cdot \\vec{\\sigma}) \\, u^b_s(p) - m \\, u^a_s(p) = 0 \\\\\n",
    "- E \\, u^b_s(p) + \\text{p} \\,  (\\hat{\\bf v} \\cdot \\vec{\\sigma}) \\, u^a_s(p) - m \\, u^b_s(p) = 0 \n",
    "$$\n",
    "\n",
    "De la segunda, podemos dar el bi-espinor de abajo $u^b_s(p)$ en función del bi-espinor de arriba, $u^a_s(p)$:\n",
    "\n",
    "$$\n",
    "u^b_s(p) = \\frac{\\text{p}}{E+m} (\\hat{\\bf v} \\cdot \\vec{\\sigma}) \\, u^a_s(p)\n",
    "$$"
   ]
  },
  {
   "cell_type": "markdown",
   "metadata": {},
   "source": [
    "Si definimos el factor:\n",
    "\n",
    "$$\n",
    "\\kappa \\equiv \\frac{\\text{p}}{E+m}\n",
    "$$\n",
    "\n",
    "Observamos que toma el valor:\n",
    "\n",
    "\n",
    "* $\\kappa = 0$ para el caso de la partícula en reposo, $\\text{p} = 0$, \n",
    "\n",
    "* $\\kappa = 1$ para el caso de una partícula ultra-relativista $E \\gg m$ o sin masa, $m=0 \\, (\\text{p} = E)$.\n",
    "\n",
    "La relación entre los dos bi-espinores queda simplemente:\n",
    "\n",
    "$$\n",
    "u^b_s(p) = \\kappa \\, (\\hat{\\bf v} \\cdot \\vec{\\sigma}) \\, u^a_s(p)\n",
    "$$"
   ]
  },
  {
   "cell_type": "markdown",
   "metadata": {},
   "source": [
    "Podemos explicitar el factor $(\\hat{\\bf v} \\cdot \\vec{\\sigma})$, donde, recordemos, $\\hat{\\bf v}$ es la dirección del momento, ${\\bf p}$:\n",
    "\n",
    "$$\n",
    "(\\vec{\\sigma} \\cdot \\hat{\\bf v}) = \\begin{pmatrix} v_z & v_x - i v_y \\\\ v_x+iv_y & -v_z \\end{pmatrix} = \n",
    "\\begin{pmatrix} \\cos\\theta & \\sin\\theta e^{-i\\phi} \\\\ \\sin\\theta e^{i\\phi} & -\\cos\\theta \\end{pmatrix}\n",
    "$$\n",
    "\n",
    "Dejamos como ejercicio comprobar a partir de las propiedades de las matrices $\\sigma_i$, que:\n",
    "\n",
    "$$\n",
    "(\\vec{\\sigma} \\cdot \\hat{\\bf v})^2 = |{\\hat{\\bf v}}| \\, I = I\n",
    "$$\n"
   ]
  },
  {
   "cell_type": "markdown",
   "metadata": {},
   "source": [
    "Tomemos las posibilidades del bi-espinor de arriba, $u^a_s(p)$, con $s=1, 2$, como:\n",
    "\n",
    "$$\n",
    "\\chi_1 = \\begin{pmatrix} 1 \\\\ 0 \\end{pmatrix},\\;\\; \\chi_2 = \\begin{pmatrix} 0 \\\\ 1 \\end{pmatrix}\n",
    "$$\n",
    "\n",
    "que como veremos corresponde a un espinor con el espín alineado hacia arriba o abajo en $z$ respectivamente.\n",
    "\n",
    "Las dos soluciones de los espinores de los fermiones son:\n",
    "\n",
    "$$\n",
    "u_s(p) = N \\begin{pmatrix} \\chi_s \\\\ \\kappa \\,  (\\hat{\\bf v} \\cdot \\vec{\\sigma}) \\, \\chi_s \\end{pmatrix}\n",
    "$$\n",
    "\n",
    "Donde $N$ es una constante de normalización, cuyo origen es cinemático (ver apéndice), y que vale:\n",
    "\n",
    "$$\n",
    "N = \\sqrt{E + m}\n",
    "$$"
   ]
  },
  {
   "cell_type": "markdown",
   "metadata": {},
   "source": [
    "Para el caso de un fermión en reposo, los dos posibles espinores son:\n",
    "\n",
    "$$\n",
    "u_s(m) = \\sqrt{2m} \\begin{pmatrix} \\chi_s \\\\ 0 \\end{pmatrix} \n",
    "$$\n",
    "\n",
    "Que podemos explicitar:\n",
    "\n",
    "$$\n",
    "u_1(m) = \\sqrt{2m} \\begin{pmatrix} 1 \\\\ 0 \\\\ 0 \\\\ 0 \\end{pmatrix}, \\;\\; \n",
    "u_2(m) = \\sqrt{2m} \\begin{pmatrix} 0 \\\\ 1 \\\\ 0 \\\\ 0 \\end{pmatrix},  \n",
    "$$"
   ]
  },
  {
   "cell_type": "markdown",
   "metadata": {},
   "source": [
    "Introducimos ahora el operador **espín**, ${\\bf S}$:\n",
    "\n",
    "$$\n",
    "{\\bf S} \\equiv \\frac{1}{2} {\\bf \\Sigma}, \\;\\; \\Sigma_k \\equiv \\begin{pmatrix} \\sigma_k & 0 \\\\ 0 & \\sigma_k \\end{pmatrix}\n",
    "$$\n",
    "\n",
    "Comprobamos que la tercera componente de espín del espinor en reposo, $u_1(m)$ es hacia arriba, y de $u_2(m)$ hacia abajo:\n",
    "\n",
    "$$\n",
    "\\text{S}_3 \\, u_1(m)= \\frac{1}{2} \\Sigma_3 \\, u_1(m)= +\\frac{1}{2} \\, u_1(m) \\\\\n",
    "\\text{S}_3 \\, u_2(m)= \\frac{1}{2} \\Sigma_3 \\, u_2(m)= -\\frac{1}{2} \\, u_2(m) \\\\\n",
    "$$"
   ]
  },
  {
   "cell_type": "markdown",
   "metadata": {},
   "source": [
    "*Nota:* Este operador nos aparecerá cuando estudiemos cómo rotan los espinores. El espín será el generador de las rotaciones de los espines. El espín cumple las mismas reglas de conmutación que el momento angular, lo cual es fácil de comprobar a partir de las propiedades de las matrices $\\sigma_i$.\n"
   ]
  },
  {
   "cell_type": "markdown",
   "metadata": {},
   "source": [
    "El espinor $u_s(p)$, de un fermión que se mueve en la dirección $z, (\\hat{\\bf v} = \\hat{k})$, con momento $\\text{p}$ es:\n",
    "\n",
    "$$\n",
    "u_s(p) = \\sqrt{E+m} \\begin{pmatrix} \\chi_s \\\\ \\kappa \\, \\sigma_3 \\, \\chi_s \\end{pmatrix};  \n",
    "$$\n",
    "\n",
    "Que podemos explicitar:\n",
    "\n",
    "$$\n",
    "u_1(p) = \\sqrt{E+m} \\begin{pmatrix} 1 \\\\ 0 \\\\ \\kappa \\\\ 0 \\end{pmatrix}, \\;\\; \n",
    "u_2(p) = \\sqrt{E+m} \\begin{pmatrix} 0 \\\\ 1 \\\\ 0 \\\\ - \\kappa \\end{pmatrix},  \n",
    "$$"
   ]
  },
  {
   "cell_type": "markdown",
   "metadata": {},
   "source": [
    "Definimos el operador **helicidad**, $h$, como la componente (o proyección) del espín en la dirección del momento:\n",
    "\n",
    "$$\n",
    "h = {\\bf S} \\cdot \\hat{\\bf v} = \\frac{1}{2}\n",
    "\\begin{pmatrix} (\\hat{\\bf v} \\cdot \\vec{\\sigma}) & 0 \\\\ 0 & (\\hat{\\bf v} \\cdot \\vec{\\sigma}) \\end{pmatrix}\n",
    "$$\n",
    "\n",
    "Para el caso de espinor $u_s(p)$ cuyo momento va en la dirección $z$, la tercera componente de espín y helicidad, por definición, coinciden, $\\text{S}_3 = h$. \n",
    "\n",
    "$$\n",
    "\\text{S}_3 \\, u_1(p) = +\\frac{1}{2} \\, u_1(p), \\;\\; h \\, u_1(p) = +\\frac{1}{2} \\, u_1(p), \\\\\n",
    "\\text{S}_3 \\, u_2(p) = -\\frac{1}{2} \\, u_2(p), \\;\\; h \\, u_2(p) = -\\frac{1}{2} \\, u_2(p), \\\\\n",
    "$$"
   ]
  },
  {
   "cell_type": "markdown",
   "metadata": {},
   "source": [
    "Los espinores $u_s(p)$ con el momento en la dirección $z$ son autoestados de helicidad, y podemos renombrarlos:\n",
    "\n",
    "$$\n",
    "u_+(p) = u_1(p), \\;\\; u_-(p) = u_2(p)\n",
    "$$\n",
    "\n",
    "Así:\n",
    "\n",
    "$$\n",
    "h \\, u_\\pm (p) = \\pm \\frac{1}{2}\\, u_\\pm(p)\n",
    "$$"
   ]
  },
  {
   "cell_type": "markdown",
   "metadata": {},
   "source": [
    "[ADD] Espinor en funcion de v"
   ]
  },
  {
   "cell_type": "markdown",
   "metadata": {},
   "source": [
    "*Nota* El espinor $u_s(m)$ y $u_s(p)$ están relacionados entre sí. El espinor $u(p)$ corresponde al espinor en reposo, $u_s(m)$, después de hacerle un boost en $z$ con $\\beta \\, \\hat{\\bf v} =\\frac{\\bf p}{E}$. En la sección de transformaciones veremos cómo al aplicar un boost a un espinor."
   ]
  },
  {
   "cell_type": "markdown",
   "metadata": {},
   "source": [
    "### Espinores de los anti-fermiones\n",
    "\n",
    "Las soluciones de los anti-fermiones, $\\Phi_s(x) = v_s(x)\\, e^{+i \\, xp}$, tiene como energía:\n",
    "\n",
    "$$\n",
    "i \\partial_0 \\, \\Phi_s(x) = i \\partial_o \\, v_s(p) \\, e^{+i \\, xp} = v_s(p)\\,  \\partial_o \\, e^{+i \\, (Et - {\\bf p} \\cdot {\\bf x})} =  \\\\ \n",
    "v_s(p) \\, i \\, (+Ei) e^{+i\\, xp} = -E \\, v_s(p) \\,  e^{+i\\, xp}  = - E \\, \\Phi_(x)\n",
    "$$\n",
    "\n",
    "Esto es¡son autoestados de energía negativa!\n",
    "\n",
    "Y componentes del momento:\n",
    "\n",
    "$$\n",
    "- i \\partial_k \\, \\Phi(x) = -i \\partial_k \\, v_s(p) \\, e^{+i \\, xp} = v_s(p) \\, (-i) \\partial_k \\, e^{+i \\, (Et - {\\bf p} \\cdot {\\bf x})} =  \\\\ \n",
    "v_s(p) \\, (-i) (-i p_k) \\, e^{+i\\, xp} = - p_k \\, v_s(p) \\, e^{+i\\, xp}  = - p_k \\, \\Phi(x)\n",
    "$$\n",
    "\n",
    "¡están invertidas!"
   ]
  },
  {
   "cell_type": "markdown",
   "metadata": {},
   "source": [
    "#### Interpretación de las antipartículas\n",
    "\n",
    "Fue Feynman y Stückelberg quienes propusieron que las anti-partículas son \"partículas que van hacia atrás en el tiempo\".\n",
    "\n",
    "Con esta interpretación, la inversion temporal implica cambiar  $t \\to -t$, y también ${\\bf p} \\to - {\\bf p}$, con lo que:\n",
    "\n",
    "$$\n",
    "\\Phi_s(t, {\\bf x}) \\to \\Phi_s(-t, {\\bf x}) = v_s(E, -{\\bf p}) \\, e^{-i (E t - {\\bf p} \\cdot {\\bf x})}\n",
    "$$\n",
    "\n",
    "es ahora un función de ondas de una partícula.\n",
    "\n",
    "Notar que la parte espacio-temporal de la función de ondas cambia de signo, lo que recupera el signo adecuado de la energía y el momento. Veámoslo:\n",
    "\n",
    "$$\n",
    "i \\partial_0 \\, \\Phi_s(-t,{\\bf x}) = E \\, \\Phi_s(-t,{\\bf x}), \\;\\; -i \\partial_k \\, \\Phi_s(-t, {\\bf x}) = p_k \\, \\Phi_s(-t, {\\bf x})\n",
    "$$\n",
    "\n",
    "La anti-partícula proviene de una partícula que viaja \"hacia atrás en el tiempo\" y que tiene energía positiva.\n",
    "\n",
    "En esta visión, no solo cambia de signo la energía, sino también el momento o es espín.\n",
    "\n",
    "La interpretación de las anti-partículas de la ecuación de Dirac es *controvertida*, y su sentido aparece de forma natural cuando se cuantifica el campo de Dirac, esto es, en teoría cuántica de campos.\n"
   ]
  },
  {
   "cell_type": "markdown",
   "metadata": {},
   "source": [
    "[ADD] Interpretación de Dirac"
   ]
  },
  {
   "cell_type": "markdown",
   "metadata": {},
   "source": [
    "#### Ecuación de dirac para el espinor de los anti-fermiones\n",
    "\n",
    "La ecuación de Dirac aplicada ahora sobre las solucioens de las antipartículas:\n",
    "\n",
    "$$\n",
    "(i\\gamma^\\mu \\partial_\\mu - m) \\, \\Phi_s(x) = 0 \\\\\n",
    "(i\\gamma^\\mu \\partial_\\mu - m) \\, v_s(p) \\, e^{+i \\, px} = 0 \\\\\n",
    "[i \\gamma^0 \\, (iE) + i \\gamma^k \\, (-ip_k) - m] \\, v_s(p) = 0 \\\\\n",
    "(-\\gamma^0 E + \\gamma^k p_k - m) \\, v_s(p) = 0\n",
    "$$\n",
    "\n",
    "se traduce en una ecuación para sus espinores:\n",
    "\n",
    "$$\n",
    "(\\gamma^\\mu p_\\mu + m) \\, v_s(p) = 0\n",
    "$$"
   ]
  },
  {
   "cell_type": "markdown",
   "metadata": {},
   "source": [
    "Si escribimos $v_s(p)$ también con dos bi-spinores, $v^a_s(p), \\, v^b_s(p)$, cada uno a su vez con dos componentes en vertical.\n",
    "\n",
    "$$\n",
    "v_s(p) \\equiv \\begin{pmatrix} v^a_s(p) \\\\ v^b_s(p) \\end{pmatrix}, \n",
    "$$\n",
    "\n",
    "la ecuación de Dirac del espinor $v_s(p)$ en la representación Pauli-Dirac queda:\n",
    "\n",
    "$$\n",
    "\\left[ E \\begin{pmatrix} I & 0 \\\\ 0 & -I \\end{pmatrix}  -\n",
    "       \\text{p} \\begin{pmatrix} 0 & \\hat{\\bf v} \\cdot \\vec{\\sigma} \\\\ -\\hat{\\bf v} \\cdot \\vec{\\sigma} & 0 \\end{pmatrix}\n",
    "       + m \\begin{pmatrix} I & 0 \\\\ 0 & I \\end{pmatrix} \\right]\n",
    "       \\begin{pmatrix} v^a_s(p) \\\\ v^b_s(p) \\end{pmatrix} = 0\n",
    "$$\n",
    "\n",
    "Donde estamos dando el momento ${\\bf p} = \\text{p} \\, \\hat{\\bf v}$, a partir del módulo del momento $\\text{p} = |{\\bf p}|$ y de su dirección $\\hat{\\bf v}$.\n"
   ]
  },
  {
   "cell_type": "markdown",
   "metadata": {},
   "source": [
    "Obtenemos de nuevo dos ecuaciones acopladas\n",
    "\n",
    "$$\n",
    "+ E \\, v^a_s(p) - \\text{p} \\,  (\\hat{\\bf v} \\cdot \\vec{\\sigma}) \\, v^b_s(p) + m \\, v^a_s(p) = 0 \\\\\n",
    "- E \\, v^b_s(p) + \\text{p} \\,  (\\hat{\\bf v} \\cdot \\vec{\\sigma}) \\, v^a_s(p) + m \\, v^b_s(p) = 0 \n",
    "$$\n",
    "\n",
    "De la primera, podemos dar el bi-espinor de arriba $v^a_s(p)$ en función del de abajo, $v^a_s(p)$:\n",
    "\n",
    "$$\n",
    "v^a_s(p) = \\frac{\\text{p}}{E+m} (\\hat{\\bf v} \\cdot \\vec{\\sigma}) \\, v^b_s(p) \\\\\n",
    "v^a_s(p) = \\kappa \\, (\\hat{\\bf v} \\cdot \\vec{\\sigma}) \\, v^b_s(p)\n",
    "$$\n"
   ]
  },
  {
   "cell_type": "markdown",
   "metadata": {},
   "source": [
    "Tomamos las dos posibilidades del bi-espinor de abajo, $v^b_s(p), \\;\\; s = 1, 2$, como:\n",
    "\n",
    "$$\n",
    "\\xi_1 = \\begin{pmatrix} 0 \\\\ 1 \\end{pmatrix},\\;\\; \\xi_2 =  \\begin{pmatrix} 1 \\\\ 0 \\end{pmatrix}\n",
    "$$\n",
    "\n",
    "Los espinores de los fermiones son:\n",
    "\n",
    "$$\n",
    "v_s(p) = \\sqrt{E+m} \\begin{pmatrix} \\kappa \\,  (\\hat{\\bf v} \\cdot \\vec{\\sigma}) \\, \\xi_s \\\\ \\xi_s \\end{pmatrix}\n",
    "$$"
   ]
  },
  {
   "cell_type": "markdown",
   "metadata": {},
   "source": [
    "Para el caso de un anti-fermión en reposo:\n",
    "\n",
    "$$\n",
    "v_s(m) = \\sqrt{2m} \\begin{pmatrix} 0 \\\\ \\xi_s \\end{pmatrix} \n",
    "$$\n",
    "\n",
    "De forma explícita:\n",
    "\n",
    "$$\n",
    "v_1(m) = \\sqrt{2m} \\begin{pmatrix} 0 \\\\ 0 \\\\ 0 \\\\ 1 \\end{pmatrix}, \\;\\; \n",
    "v_2(m) = \\sqrt{2m} \\begin{pmatrix} 0 \\\\ 0 \\\\ 1 \\\\ 0 \\end{pmatrix},  \n",
    "$$"
   ]
  },
  {
   "cell_type": "markdown",
   "metadata": {},
   "source": [
    "En la imagen Feynman-Stückelberg en las que las antipartículas son partículas hacia atrás en el tiempo, la inversión temporal, implica también la inversión del momento angular.\n",
    "\n",
    "Así la tercera componente del espín es:\n",
    "\n",
    "$$\n",
    "\\text{S}_3 \\, v_s(m) = - \\frac{1}{2} \\, \\Sigma_3 \\, v_s(m)\n",
    "$$\n",
    "\n",
    "Luego, $v_1(m)$ tiene tercera componente de espín $+1/2$ y $v_2(m)$, $-1/2$. \n",
    "\n",
    "$$\n",
    "\\text{S}_3 \\, v_1(m) = \\frac{1}{2} \\, v_1(m), \\;\\;\\; \\text{S}_3 \\, v_2(m) = - \\frac{1}{2} \\, v_2(m),\n",
    "$$\n"
   ]
  },
  {
   "cell_type": "markdown",
   "metadata": {},
   "source": [
    "El espinor de un anti-fermión que se mueve en la dirección $z, (\\hat{\\bf v} = \\hat{k})$, es:\n",
    "\n",
    "$$\n",
    "v_s(p) = \\sqrt{E+m} \\begin{pmatrix} \\kappa \\, \\sigma_3 \\, \\xi_s \\\\ \\xi_s \\end{pmatrix};  \n",
    "$$\n",
    "\n",
    "Que podemos explicitar:\n",
    "\n",
    "$$\n",
    "v_1(p) = \\sqrt{E+m} \\begin{pmatrix} 0 \\\\ -\\kappa \\\\ 0 \\\\ 1 \\end{pmatrix}, \\;\\; \n",
    "v_2(p) = \\sqrt{E+m} \\begin{pmatrix} \\kappa \\\\ 0 \\\\ 0 \\\\ 1 \\end{pmatrix},  \n",
    "$$"
   ]
  },
  {
   "cell_type": "markdown",
   "metadata": {},
   "source": [
    "En la interpretación Feynman-Stückelberg, la inversión temporal no afecta al operador helicidad, porque se produce un cambio de signo en el momento angular y el momento que se cancelan:\n",
    "\n",
    "$$\n",
    "h \\, v_s(p) =  \\frac{1}{2} ((-{\\bf \\Sigma}) \\cdot (- \\hat{\\bf v})) \\, v_s(p) = \\frac{1}{2} ({\\bf \\Sigma} \\cdot \\hat{\\bf v}) \\, v_s(p)\n",
    "$$\n",
    "\n",
    "Luego en este caso $v_+(p) = v_1(p)$ y $v_-(p) = v_2(p)$"
   ]
  },
  {
   "cell_type": "markdown",
   "metadata": {},
   "source": [
    "Así pues, las cuatro soluciones generales de la ecuación de Dirac son:\n",
    "\n",
    "$$\n",
    "\\Psi_s(x) = \\sqrt{E+m} \\begin{pmatrix} \\chi_s \\\\ \\kappa \\, (\\hat{\\bf v} \\cdot \\vec{\\sigma}) \\chi_s \\end{pmatrix} \\, e^{-i \\, px}; \\\\\n",
    "\\Phi_s(x) = \\sqrt{E+m} \\begin{pmatrix} \\kappa \\,  (\\hat{\\bf v} \\cdot \\vec{\\sigma}) \\, \\xi_s \\\\ \\xi_s \\end{pmatrix}\n",
    "\\, e^{+i \\, px},\n",
    "$$\n",
    "\n",
    "donde $s = 1, 2$."
   ]
  },
  {
   "cell_type": "markdown",
   "metadata": {},
   "source": [
    "[ADD] espinor en funcion de v"
   ]
  },
  {
   "cell_type": "markdown",
   "metadata": {},
   "source": [
    "### Soluciones autoestados de helicidad\n",
    "\n",
    "El operador helicidad corresponde por definición a la componente del espín en la dirección del movimiento, $\\hat{\\bf v}$. De ahí que en el caso de una partícula moviéndose en $z$, la componente $z$ del espín y la helicidad coincidan.\n",
    "\n",
    "Nos podemos preguntar ahora cuáles son las soluciones de la ec. de Dirac que son a su vez autoestados de helicidad, esto es que tienen su espín alineado con el momento.\n",
    "\n",
    "Los autovalores de helicidad, como los de tercera componete de spín, son $\\pm 1/2$. \n",
    "\n",
    "$$\n",
    "h \\, u_s(p) = \\pm \\frac{1}{2} u_s(p)\n",
    "$$"
   ]
  },
  {
   "cell_type": "markdown",
   "metadata": {},
   "source": [
    "Lo que se traduce:\n",
    "\n",
    "$$\n",
    "\\frac{1}{2} \\begin{pmatrix} (\\vec{\\sigma} \\cdot \\hat{\\bf v}) & 0 \\\\ 0  & (\\vec{\\sigma} \\cdot \\hat{\\bf v}) \\end{pmatrix} \\, \n",
    "\\begin{pmatrix} \\chi_r \\\\ \\kappa (\\vec{\\sigma} \\cdot \\hat{\\bf v}) \\chi_r  \\end{pmatrix} = \\pm \\frac{1}{2} \\, \\begin{pmatrix} \\chi_r \\\\  \\kappa (\\vec{\\sigma} \\cdot \\hat{\\bf v}) \\chi_r\\end{pmatrix}\n",
    "$$\n",
    "\n",
    "Y a su vez, en la condición para el bi-espinor $\\chi_r(\\hat{\\bf v})$: \n",
    "\n",
    "[ADD] La segunda ecuación \n",
    "\n",
    "$$\n",
    "(\\sigma \\cdot \\hat{\\bf v}) \\, \\chi_r(\\hat{\\bf v}) =  \\pm \\, \\chi_r(\\hat{\\bf v})\n",
    "$$\n",
    "\n",
    "que vemos que depende ahora de $\\hat{\\bf v}$. Esto es, Antes $\\chi_s$ correspondía a seleccionar como dirección $\\hat{\\bf v} = \\hat{k}$."
   ]
  },
  {
   "cell_type": "markdown",
   "metadata": {},
   "source": [
    "Si escribimos explícitamente:\n",
    "\n",
    "$$\n",
    "(\\vec{\\sigma} \\cdot \\hat{\\bf v}) = \\begin{pmatrix} v_z & v_x - i v_y \\\\ v_x+iv_y & -v_z \\end{pmatrix} = \n",
    "\\begin{pmatrix} \\cos\\theta & \\sin\\theta e^{-i\\phi} \\\\ \\sin\\theta e^{i\\phi} & -\\cos\\theta \\end{pmatrix}\n",
    "$$\n",
    "\n",
    "La condición de las dos componentes $a, b$ de $\\chi_r(\\hat{\\bf v})$ es:\n",
    "\n",
    "$$\n",
    "\\begin{pmatrix} \\cos\\theta & \\sin\\theta e^{-i\\phi} \\\\ \\sin\\theta e^{i\\phi} & -\\cos\\theta \\end{pmatrix}\n",
    "\\begin{pmatrix} a \\\\ b \\end{pmatrix} = \n",
    "\\pm \\begin{pmatrix} a \\\\ b \\end{pmatrix}\n",
    "$$\n",
    "\n"
   ]
  },
  {
   "cell_type": "markdown",
   "metadata": {},
   "source": [
    "Esto es, con $\\lambda = \\pm 1$:\n",
    "\n",
    "$$\n",
    "a \\cos \\theta + b \\sin \\theta e^{-i\\phi}  = \\lambda \\, a, \\\\\n",
    "b \\sin \\theta e^{-i\\phi}  = (\\lambda -  \\cos\\theta) \\, a \\\\\n",
    "$$\n",
    "\n",
    "Por lo tanto, las componentes $a, b$ cumplen:\n",
    "\n",
    "$$\n",
    "\\frac{b}{a} = \\frac{\\lambda -\\cos \\theta}{\\sin\\theta} e^{i\\phi}\n",
    "$$\n"
   ]
  },
  {
   "cell_type": "markdown",
   "metadata": {
    "slideshow": {
     "slide_type": "slide"
    }
   },
   "source": [
    "Para el caso de helicidad positiva $\\lambda = +1$, obtenemos:\n",
    "\n",
    "$$\n",
    "\\frac{b}{a} = \\frac{\\lambda -\\cos \\theta}{\\sin\\theta} e^{i\\phi} = e^{i\\phi} \\tan \\frac{\\theta}{2}\n",
    "$$\n",
    "\n",
    "Resolviendo también para $\\lambda = -1$, imponiendo que tienen norma unidad, los bi-espinores quedan:\n",
    "\n",
    "$$\n",
    "\\chi_+(\\hat{\\bf v}) = \\begin{pmatrix} \\cos \\frac{\\theta}{2} \\\\ e^{i\\phi}\\sin \\frac{\\theta}{2}\\end{pmatrix}, \\;\\;\\;\n",
    "\\chi_-(\\hat{\\bf v}) = \\begin{pmatrix} -\\sin \\frac{\\theta}{2} \\\\ e^{i\\phi}\\cos \\frac{\\theta}{2}\\end{pmatrix}, \\;\\;\\;\n",
    "$$\n",
    "\n"
   ]
  },
  {
   "cell_type": "markdown",
   "metadata": {},
   "source": [
    "De forma similar, los bi-espinores de los anti-fermiones que son autoestados de helicidad quedan:\n",
    "\n",
    "$$\n",
    "\\xi_+(\\hat{\\bf v}) = \\begin{pmatrix} -\\sin \\frac{\\theta}{2} \\\\ e^{i\\phi}\\cos \\frac{\\theta}{2}\\end{pmatrix}, \\;\\;\\;\n",
    "\\xi_-(\\hat{\\bf v}) = \\begin{pmatrix} \\cos \\frac{\\theta}{2} \\\\ e^{i\\phi}\\sin \\frac{\\theta}{2}\\end{pmatrix}, \\;\\;\\;\n",
    "$$\n",
    "\n",
    "Los espinores autoestados de helicidad que son soluciones de la ec. de Dirac son entonces:\n",
    "\n",
    "$$\n",
    "u_r(p) = \\begin{pmatrix} \\chi_r(\\hat{\\bf v}) \\\\ \\lambda_s \\kappa \\, \\chi_r(\\hat{\\bf v}) \\end{pmatrix}, \\;\\;\\;\n",
    "v_r(p) = \\begin{pmatrix} -\\lambda_s \\kappa \\, \\xi_r(\\hat{\\bf v}) \\\\ \\xi_r(\\hat{\\bf v}) \\end{pmatrix}, \\;\\;\\;\n",
    "$$\n",
    "\n",
    "donde $r = \\pm, \\, \\lambda_\\pm = \\pm 1$.\n"
   ]
  },
  {
   "cell_type": "markdown",
   "metadata": {},
   "source": [
    "Si reescribimos explícitamente los espinores de helicidad en la dirección $z$, ($\\theta = \\phi = 0$), volvemos a obtener:\n",
    "\n",
    "$$\n",
    "u_{+}(p) = N \\begin{pmatrix} 1 \\\\ 0 \\\\ \\kappa  \\\\ 0 \\end{pmatrix}, \\;\n",
    "u_{-}(p) = N \\begin{pmatrix} 0 \\\\ 1 \\\\ 0 \\\\ -\\kappa \\end{pmatrix}, \\;\n",
    "v_{+}(p) = N \\begin{pmatrix} 0  \\\\ -\\kappa \\\\ 0 \\\\ 1 \\end{pmatrix}, \\;\n",
    "v_{-}(p) = N \\begin{pmatrix} \\kappa  \\\\ 0 \\\\ 1 \\\\ 0 \\end{pmatrix}. \n",
    "$$\n",
    "\n",
    "con el factor de normalización $N = \\sqrt{E+m}$"
   ]
  },
  {
   "cell_type": "markdown",
   "metadata": {
    "slideshow": {
     "slide_type": "slide"
    }
   },
   "source": [
    "Los espinores de quiralidad se suelen representar de forma gráfica con la siguientes figuras:\n",
    "\n",
    "| |\n",
    "|:--:|\n",
    "|<img src=\"./imgs/dirac_spinors_helicities.png\" width = 400 align=\"center\">|\n",
    "| spín (flecha azul) y momento (negra) de los spinores de helicidad|\n",
    "\n",
    "$u_\\pm(p), v_\\pm(p)$ son los espinores de las partículas y antipartículas respectivamente.\n",
    "\n",
    "$u_{+}(p), v_{+}(p)$ son espinores de **helicidad positiva** (el espín tiene el mismo sentido que el momento).\n",
    "\n",
    "$u_{-}(p), v_{-}(p)$ tienen **helicidad negativa** (el spín y momento tienen sentido opuesto).\n",
    "\n"
   ]
  },
  {
   "cell_type": "markdown",
   "metadata": {},
   "source": [
    "*Nota*: Podemos reinterpretar el espinor $u_+(p)$ como aquel que se obtiene de rotar un espinor inicialmente en $u_1(p)$, con su espín alineado en la dirección hacia arriba en $z$, hasta situar su espín alineado con $\\hat{\\bf v}$, con la dirección y sentido del momento, ${\\bf p}$.\n",
    "\n",
    "En la sección sobre transformaciones Lorentz, trataremos de nuevo la rotación del espinor."
   ]
  },
  {
   "cell_type": "markdown",
   "metadata": {},
   "source": [
    "## Espinores y transformaciones de Lorentz\n"
   ]
  },
  {
   "cell_type": "markdown",
   "metadata": {},
   "source": [
    "### Recordatorio de las transformaciones de Lorentz\n",
    "\n",
    "La definición de las transformaciones de Lorentz es que conservan el producto escalar de los cuadri-vectores:\n",
    "\n",
    "$$\n",
    "x' \\cdot y' = x \\cdot y \\\\\n",
    "(\\Lambda^{\\rho}_{\\;\\;\\mu} x^\\mu) \\, g_{\\rho\\sigma} \\, (\\Lambda^{\\sigma}_{\\;\\;\\nu} y^{\\nu}) = g_{\\mu\\nu} x^\\mu y^\\nu \n",
    "$$\n",
    "\n",
    "Esto es:\n",
    "\n",
    "$$\n",
    "g_{\\rho\\sigma} \\Lambda^{\\sigma}_{\\;\\;\\mu} \\Lambda^{\\rho}_{\\;\\;\\nu} = g_{\\mu\\nu}\n",
    "$$\n",
    "\n",
    "O en forma matricial:\n",
    "\n",
    "$$\n",
    "\\Lambda^{T} g \\Lambda = g\n",
    "$$"
   ]
  },
  {
   "cell_type": "markdown",
   "metadata": {},
   "source": [
    "\n",
    "Además existe la transformación inversa $\\Lambda^{-1}$\n",
    "\n",
    "$$\n",
    "\\Lambda \\, \\Lambda^{-1} = I, \\;\\; \\Lambda^{\\nu}_{\\;\\;\\rho} (\\Lambda^{-1})^{\\rho}_{\\;\\; \\mu} = \\delta^{\\nu}_{\\;\\;\\mu}\n",
    "$$\n"
   ]
  },
  {
   "cell_type": "markdown",
   "metadata": {},
   "source": [
    "Las transformaciones *propias* de Lorentz son las rotaciones y los boost."
   ]
  },
  {
   "cell_type": "markdown",
   "metadata": {},
   "source": [
    "#### Transformaciones activas y pasivas.\n",
    "\n",
    "Existen dos formas complementarias de tratar las transformaciones, de forma *activa* o *pasiva*.\n",
    "\n",
    "Las transformaciones son pasivas cuando cambian el sistema de referencia dejando fijo el espacio físico. \n",
    "Mientras que las **transformaciones activas** son aquellas que cambian el espacio físico y mantienen el sistema de coordenadas. \n",
    "\n",
    "Si hacemos una rotación activa un punto ${\\bf x}$ se traslada a otro punto ${\\bf x}'$, pero los dos los damos en el mismo sistema de coordenadas, $\\{{\\bf e}_i\\}$. Mientras que cuando hacemos una rotación pasiva, rotamos los ejes de coordenadas y expresamos un mismo punto $x$ en el sistema inicial $\\{{\\bf e}_i\\}$ o rotado $\\{{\\bf e}'_i\\}$. En las transformaciones activas pensamos en que un punto se traslada en otro y no en un cambio de coordenadas.\n",
    "\n",
    "Asi la rotación activa de un ángulo $\\theta$ alrededor de $z$ trasladaría el punto $(1, 0, 0) \\to (\\cos \\theta, \\sin \\theta, 0)$. Mientras que una rotación pasiva expresaríamos el mismo punto como $(1, 0, 0)$ en el sistema original y  $(\\cos \\theta, -\\sin \\theta, 0)$ en el nuevo sistema de coordenadas girado respecto al primero un ángulo $\\theta$ respecto al eje inicial $z$."
   ]
  },
  {
   "cell_type": "markdown",
   "metadata": {},
   "source": [
    "Es más natural introducir las transformaciones de Lorentz desde un punto de vista pasivo, como cambio de coordenadas, pero resulta más conveniente tomar un punto de vista activo cuando se trabaja con conceptos más abstractos como campos. \n",
    "\n",
    "En la literatura aparecen las transformaciones activas o pasivas y a veces no se indica de cuál se trata. Es importante saber siempre con qué tipo de transformación se está trabajando. Nosotros, en este apéndice, usaremos siempre transformaciones activas. "
   ]
  },
  {
   "cell_type": "markdown",
   "metadata": {},
   "source": [
    "Las transformaciones de Lorentz los cuadrimomentos se representadan con las matrices, $\\Lambda$:\n",
    "\n",
    "$$\n",
    "x' = \\Lambda \\, x, \\;\\;\\; x'^\\mu = \\Lambda^{\\mu}_{\\;\\;\\nu} \\, x^\\nu \\\\\n",
    "p' = \\Lambda \\, p, \\;\\;\\; p'^{\\mu} = \\Lambda^{\\mu}_{\\;\\;\\nu} \\, p^{\\nu}\n",
    "$$\n",
    "\n",
    "donde los índices $\\mu, \\nu$ hacen referencia a las columnas y filas respectivamente de la matriz $\\Lambda$.\n",
    "\n",
    "La transformación activa asociada a una rotación $\\theta$ en el eje $z$ (en sentido antihorario) y un *boost* en z con velocidad $\\beta$ son respectivamente:\n",
    "\n",
    "$$\n",
    "\\Lambda(\\theta) = \n",
    "\\begin{pmatrix} 1    & 0 & 0 & 0 \\\\\n",
    "                 0   & \\cos\\theta & -\\sin\\theta & 0 \\\\\n",
    "                 0   & \\sin\\theta & \\cos\\theta & 0 \\\\\n",
    "                 1  & 0 & 0 & 1 \n",
    "\\end{pmatrix}\n",
    "\\;\\;\\; \n",
    "\\Lambda(\\beta) =  \n",
    "\\begin{pmatrix} \\gamma         & 0 & 0 & \\gamma \\beta \\\\\n",
    "                 0             & 1 & 0 & 0 \\\\\n",
    "                 0             & 0 & 1 & 0 \\\\\n",
    "                 \\gamma \\beta & 0 & 0 & \\gamma \n",
    "\\end{pmatrix}\n",
    "$$\n",
    "\n",
    "En un boost activo convertimos una partícula en reposo, con cuadri-momento $p = (m, {\\bf 0})$, en una partícula en movimiento con velocidad $\\beta$ en dirección $\\hat{{\\bf v}}$ cuyo cuadrimomento es $p' = (E, {\\bf p}) = (\\gamma m, \\gamma \\beta \\hat{{\\bf v}}$).\n",
    "\n",
    "El cambio de una transformación activa a pasiva -y viceversa- implica cambiar $\\theta \\to - \\theta$ y $\\beta \\to -\\beta$ en las matrices de sus representaciones."
   ]
  },
  {
   "cell_type": "markdown",
   "metadata": {},
   "source": [
    "*Ejercicio:* Comprueba $\\Lambda^T g \\Lambda = g, \\;\\; \\Lambda^{-1}  \\Lambda  = I$ con las representaciones de $\\Lambda(\\theta)$ y $\\Lambda(\\beta)$"
   ]
  },
  {
   "cell_type": "markdown",
   "metadata": {},
   "source": [
    "#### Generadores en el espacio-tiempo\n",
    "\n",
    "Las transformaciones de Lorentz se pueden construir a partir de la sucesión de transformaciones infinitesimales. \n",
    "\n",
    "La rotación de un angulo *infinitesimal* $\\theta$ a lo largo del eje $z$ viene dada por:\n",
    "\n",
    "$$\n",
    "\\Lambda(\\theta) = \n",
    "\\begin{pmatrix} 1    & 0 & 0 & 0 \\\\\n",
    "                 0   & 1 & -\\theta & 0 \\\\\n",
    "                 0   & \\theta & 1 & 0 \\\\\n",
    "                 0  & 0 & 0 & 1 \n",
    "\\end{pmatrix} = \n",
    "\\begin{pmatrix}  1    & 0 & 0 & 0 \\\\\n",
    "                 0   & 1 & 0 & 0 \\\\\n",
    "                 0   & 0 & 1 & 0 \\\\\n",
    "                 0  & 0 & 0 & 1 \\end{pmatrix}\n",
    " +\n",
    " \\theta\n",
    "\\begin{pmatrix} 0    & 0 & 0 & 0 \\\\\n",
    "                 0   & 0 & -1 & 0 \\\\\n",
    "                 0   & 1 & 0 & 0 \\\\\n",
    "                 0  & 0 & 0 & 0 \\end{pmatrix} \n",
    "$$"
   ]
  },
  {
   "cell_type": "markdown",
   "metadata": {},
   "source": [
    "Podemos dar la rotación anterior como:\n",
    "\n",
    "$$\n",
    "\\Lambda(\\theta) = e^{-i\\theta J_3} \\simeq I -i \\theta J_{3},\n",
    "$$\n",
    "\n",
    "donde:\n",
    "\n",
    "$$\n",
    "\\;\\; J_{3} \\equiv  i \\begin{pmatrix} 0    & 0 & 0 & 0 \\\\\n",
    "                 0   & 0 & -1 & 0 \\\\\n",
    "                 0   & 1 & 0 & 0 \\\\\n",
    "                 0  & 0 & 0 & 0 \\end{pmatrix} \n",
    "$$\n",
    "\n",
    "A $J_3$ lo llamamos el **generador** de las rotaciones en torno al eje $z$.\n"
   ]
  },
  {
   "cell_type": "markdown",
   "metadata": {},
   "source": [
    "*Nota:* El factor *-i* que aparece en el exponente, $e^{-i\\theta J_3}$, es una convención. Sirve para facilitar los cálculos, nos recuerda expresiones conocidas de mecánica cuántica, y nos permite dar el momento angular y el espín como generadores de las rotaciones.\n"
   ]
  },
  {
   "cell_type": "markdown",
   "metadata": {},
   "source": [
    "\n",
    "La transformación de la rotación de un ángulo $\\theta$ en $z$ \n",
    "Podemos dar la transformación asociada a la rotación de un ángulo $\\theta$ en torno a $z$ como una sucessión de rotaciones infinitesimales:\n",
    "\n",
    "$$\n",
    "\\Lambda(\\theta) = e^{-i \\theta J_3} \\equiv \\sum_{k=0} \\frac{(-i \\theta)^k}{k!} (J_3)^k \n",
    "$$\n",
    "\n",
    "Dado que:\n",
    "\n",
    "$$\n",
    "\\Lambda(\\theta) = \\Lambda\\left(\\sum_N \\frac{\\theta}{N}\\right) = \\prod_{N} \\Lambda\\left(\\frac{\\theta}{N}\\right) = \\lim_{N \\to \\infty} \\left(I + \\frac{\\theta}{N}J_3 \\right)^N\n",
    "$$"
   ]
  },
  {
   "cell_type": "markdown",
   "metadata": {},
   "source": [
    "Si separamos en términos pares e impares:\n",
    "\n",
    "$$\n",
    "I + \\sum_{k=1} (-1)^{k} \\frac{\\theta^{2k}}{2k!} (J_3)^{2k} - i \\sum_{k=1} (-1)^{k}  \\frac{\\theta^{2k+1}}{(2k+1)!} (J_3)^{2k+1} =  \\\\\n",
    "$$\n",
    "\n",
    "y haciendo uso de:\n",
    "\n",
    "$$\n",
    "(J_3)^{2k} = \\begin{pmatrix}  0    & 0 & 0 & 0 \\\\\n",
    "                 0   & 1 & 0 & 0 \\\\\n",
    "                 0   & 0 & 1 & 0 \\\\\n",
    "                 0  & 0 & 0 & 0 \\end{pmatrix} \\equiv  I_{12}, \\;\\;\n",
    "(J_3)^{2k+1} = J_3,\n",
    "$$\n",
    "\n",
    "Obtenemos:\n",
    "\n",
    "$$\n",
    "I + \\cos \\theta \\,  I_{12}  - i  \\sin \\theta \\, J_3, \n",
    "$$\n",
    "\n",
    "Y de forma explícita:\n",
    "\n",
    "$$\n",
    "\\Lambda(\\theta) = \\begin{pmatrix}  1    & 0 & 0 & 0 \\\\\n",
    "                 0   & \\cos\\theta & -\\sin\\theta & 0 \\\\\n",
    "                 0   & \\sin\\theta & \\cos\\theta & 0 \\\\\n",
    "                 0  & 0 & 0 & 1 \\end{pmatrix}, \n",
    "$$"
   ]
  },
  {
   "cell_type": "markdown",
   "metadata": {},
   "source": [
    "Vamos a determinar ahora la matriz asociada a un boost. \n",
    "\n",
    "Definimos primero el parámetro $\\eta$, llamado **rapidez**, como $\\beta = \\tanh \\eta$, lo que implica:\n",
    "\n",
    "$$\n",
    "\\gamma = \\cosh \\eta, \\;\\; \\beta = \\tanh \\eta, \\;\\; \\gamma \\beta = \\sinh \\eta.\n",
    "$$\n",
    "\n",
    "Notar que el rango de $\\beta$, que es $(-1, 1)$, se traslada en $\\eta$ en $(-\\infty, \\infty)$.\n",
    "\n",
    "La transformación de Lorentz de un boots en $z$ con velocidad $\\beta$ o rapidez $\\eta$ queda:\n",
    "\n",
    "$$\n",
    "\\Lambda(\\eta) =  \n",
    "\\begin{pmatrix} \\cosh \\eta         & 0 & 0 & \\sinh \\eta \\\\\n",
    "                 0             & 1 & 0 & 0 \\\\\n",
    "                 0             & 0 & 1 & 0 \\\\\n",
    "                 \\sinh \\eta & 0 & 0 & \\cosh \\eta \n",
    "\\end{pmatrix}\n",
    "$$"
   ]
  },
  {
   "cell_type": "markdown",
   "metadata": {},
   "source": [
    "que podemos dar como sucesivos boost infinitesimales en la dirección $z$\n",
    "\n",
    "$$\n",
    "\\Lambda(\\eta) = e^{-i \\eta K_3}, \\;\\;  K_3 = i \\begin{pmatrix} 0   & 0 & 0 & 1 \\\\\n",
    "                 0   & 0 & 0 & 0 \\\\\n",
    "                 0   & 0 & 0 & 0 \\\\\n",
    "                 1  & 0 & 0 & 0 \\end{pmatrix} \n",
    "$$\n",
    "\n",
    "donde $K_3$ es el generador de los boost en $z$."
   ]
  },
  {
   "cell_type": "markdown",
   "metadata": {},
   "source": [
    "\n",
    "A partir de:\n",
    "\n",
    "$$\n",
    "\\Lambda(\\eta) = e^{-i\\eta K_3} \\equiv \\sum_{k} \\frac{(-i\\eta)^k}{k!} \\, (K_3)^k\n",
    "$$\n",
    "\n",
    "separando en términos pares e impares:\n",
    "\n",
    "$$\n",
    "I + \\sum_{k=1} (-1)^{k} \\frac{\\eta^{2k}}{2k!} (K_3)^{2k} - i \\sum_{k=1} (-1)^{k}  \\frac{\\eta^{2k+1}}{(2k+1)!} (K_3)^{2k+1} =  \\\\\n",
    "$$\n",
    "\n",
    "y dado que:\n",
    "\n",
    "$$\n",
    "(K_3)^{2k} = (-1)^k \\begin{pmatrix} 1   & 0 & 0 & 0 \\\\\n",
    "                 0   & 0 & 0 & 0 \\\\\n",
    "                 0   & 0 & 0 & 0 \\\\\n",
    "                 0  & 0 & 0 & 1 \\end{pmatrix} \\equiv (-1)^k I_{03}, \\;\\; \n",
    "(K_3)^{2k+1} = (-1)^k K_3\n",
    "$$"
   ]
  },
  {
   "cell_type": "markdown",
   "metadata": {},
   "source": [
    "obtenemos\n",
    "\n",
    "$$\n",
    "\\Lambda(\\eta) = I +  \\sum_{k=1} \\frac{\\eta^{2k}}{(2k)!} \\, I_{03} - i \\sum_{k=1}  \\frac{\\eta^{2k+1}}{(2k+1)!} \\, K_3 = \\\\\n",
    "\\cosh \\frac{\\eta}{2} - i \\sinh \\frac{\\eta}{2} K_3\n",
    "$$\n",
    "\n",
    "de forma explícita:\n",
    "\n",
    "$$\n",
    "\\Lambda(\\eta) =  \n",
    "\\begin{pmatrix} \\cosh \\eta         & 0 & 0 & \\sinh \\eta \\\\\n",
    "                 0             & 1 & 0 & 0 \\\\\n",
    "                 0             & 0 & 1 & 0 \\\\\n",
    "                 \\sinh \\eta & 0 & 0 & \\cosh \\eta \n",
    "\\end{pmatrix}\n",
    "$$"
   ]
  },
  {
   "cell_type": "markdown",
   "metadata": {},
   "source": [
    "Así pues, las transformaciones de Lorentz quedan definidas de forma genérica con un ángulo de rotación $\\theta$ alrededor de un eje $\\hat{{\\bf n}}$ en sentido antihorario, y un boost de rapidez $\\eta$ en la dirección $\\hat{\\bf v}$; y con sus correspondientes \"vectores\" de generadores ${\\bf J}, {\\bf K}$.\n",
    "\n",
    "$$\n",
    "\\Lambda(\\theta \\, \\hat{{\\bf n}}+ \\eta \\, \\hat{{\\bf v}})  = e^{-i (\\theta {\\hat{\\bf n}} \\, {\\bf J}  + {\\eta \\hat{\\bf v} \\, {\\bf K}})}\n",
    "$$"
   ]
  },
  {
   "cell_type": "markdown",
   "metadata": {},
   "source": [
    "Las expresiones de los generadores son:\n",
    "\n",
    "$$\n",
    "J_1 = i\\begin{pmatrix} 0   & 0 & 0 & 0 \\\\\n",
    "                 0   & 0 & 0 & 0 \\\\\n",
    "                 0   & 0 & 0 & -1 \\\\\n",
    "                 0  & 0 & 1 & 0 \\end{pmatrix}, \\;\\;\n",
    "J_2 = i\\begin{pmatrix} 0   & 0 & 0 & 0 \\\\\n",
    "                 0   & 0 & 0 & 1 \\\\\n",
    "                 0   & 0 & 0 & 0 \\\\\n",
    "                 0  & -1 & 0 & 0 \\end{pmatrix}, \\;\\;\n",
    "J_3 = i\\begin{pmatrix} 0   & 0 & 0 & 0 \\\\\n",
    "                 0   & 0 & -1 & 0 \\\\\n",
    "                 0   & 1 & 0 & 0 \\\\\n",
    "                 0  & 0 & 0 & 0 \\end{pmatrix}, \\\\\n",
    "K_1 = i\\begin{pmatrix} 0   & 1 & 0 & 0 \\\\\n",
    "                 1   & 0 & 0 & 0 \\\\\n",
    "                 0   & 0 & 0 & 0 \\\\\n",
    "                 0  & 0 & 0 & 0 \\end{pmatrix}, \\;\\;\n",
    "K_2 = i\\begin{pmatrix} 0   & 0 & 1 & 0 \\\\\n",
    "                 0   & 0 & 0 & 0 \\\\\n",
    "                 1   & 0 & 0 & 0 \\\\\n",
    "                 0  & 0 & 0 & 0 \\end{pmatrix}, \\;\\;\n",
    "K_3 = i\\begin{pmatrix} 0   & 0 & 0 & 1 \\\\\n",
    "                 0   & 0 & 0 & 0 \\\\\n",
    "                 0   & 0 & 0 & 0 \\\\\n",
    "                 1  & 0 & 0 & 0 \\end{pmatrix}. \n",
    "$$\n",
    "\n",
    "*Ejercicio:* Comprueba que: \n",
    "\n",
    "$$\n",
    "[J_i, J_j] =  i\\epsilon_{ijk} J_k, \\; [K_i, K_j] = -i\\epsilon_{ijk} J_k, \\; [J_i, K_j] = i\\epsilon_{ijk} K_k\n",
    "$$ \n"
   ]
  },
  {
   "cell_type": "markdown",
   "metadata": {},
   "source": [
    "### Inversión de Paridad\n",
    "\n",
    "La inversión de paridad invierte la coordenadas especiales, ${\\bf x } \\to -{\\bf x}$. Es una transformación de Lorentz, preserva el producto escalar de cuadrivectores, pero es una transformación *impropia*.\n",
    "\n",
    "$$\n",
    "x'^\\mu = \\Lambda^{\\mu}_{\\;\\;\\nu}(P) x^\\nu\n",
    "$$\n",
    "\n",
    "donde:\n",
    "\n",
    "$$\n",
    "\\Lambda(P) = \\begin{pmatrix} 1 &  0 &  0 &  0 \\\\\n",
    "                            0 & -1 &  0 &  0 \\\\\n",
    "                            0 &  0 & -1 &  0 \\\\\n",
    "                            0 &  0 &  0 & -1 \\end{pmatrix}  \n",
    "$$\n",
    "\n",
    "Llamamos transformación impropia a aquellas cuyo \n",
    "\n",
    "$$\n",
    "\\det(\\Lambda) = -1\n",
    "$$\n",
    "\n",
    "como es el caso de la inversión por paridad."
   ]
  },
  {
   "cell_type": "markdown",
   "metadata": {},
   "source": [
    "Genéricamente el grupo de Lorentz son las matrices ortogonales que preservan la métrica de Minkowski, $g_{\\mu\\nu}$, o en otras palabras, preservan el producto escalar de dos cuadrivectores, esto es, la matrices cumplen:\n",
    "\n",
    "$$\n",
    "\\Lambda^T g \\Lambda  = g\n",
    "$$\n",
    "\n",
    "El grupo de Lorentz se denota como $O(1,3)$.\n",
    "\n",
    "De la condición anterior se sigue:\n",
    "\n",
    "$$\n",
    "\\det(\\Lambda) = \\pm 1\n",
    "$$\n",
    "\n",
    "Las matrices con $\\det(\\Lambda) = +1$ forman un subgrupo, llamado $SO(1, 3)$, el de transformaciones propias. Este subgrupo incluye las rotaciones y los *boosts*.\n",
    "\n",
    "Las transformaciones con $\\det(\\Lambda) = -1$ se llaman impropias, pero no forman un subgrupo porque no contienen el elemento identidad $I$. La transformación de la inversión de paridad es impropia."
   ]
  },
  {
   "cell_type": "markdown",
   "metadata": {},
   "source": [
    "### Transformacion activa de los campos\n",
    "\n",
    "Recordemos que si hacemos una transformación activa, esto es transformamos los campos manteniendo las coordenadas, un campo escalar, $\\phi(x)$, y otro vectorial, $A^\\mu(x)$, transforman de la siguiente manera:\n",
    "\n",
    "$$\n",
    "\\phi'(x) = \\phi(\\Lambda^{-1} x)\\\\\n",
    "A'^\\mu(x) = \\Lambda^{\\mu}_{\\;\\; \\nu} \\, A^{\\nu} (\\Lambda^{-1} x)\n",
    "$$\n",
    "\n",
    "Por ejemplo, el campo escalar transformado $\\phi'(x)$ vale en un punto $x$ lo que vale el campo en el punto de origen antes de la transformación, $\\phi(\\Lambda^{-1} x)$.\n",
    "\n",
    "[ADD] Dibujo de la transformación activa de un campo escalar y vectorial"
   ]
  },
  {
   "cell_type": "markdown",
   "metadata": {},
   "source": [
    "La cuestión ahora es ¿Cómo transforma el nuevo objeto, el espinor, que introduce la ec. de Dirac? ¿Cómo se transforma un campo espinorial, $\\Psi(x)$, frente a transformaciones Lorentz?\n",
    "\n",
    "Como $\\Psi(x)$ tiene cuatro componentes complejas, la representación de la transformación de Lorentz en el espacio espinorial será una matriz compleja  $4\\times4$ que dependera de $\\Lambda$, que denotamos $S(\\Lambda)$ y que transformará linealmente el campo:\n",
    "\n",
    "$$\n",
    "\\Psi'(x) = S(\\Lambda) \\, \\Psi( \\Lambda^{-1}x)\n",
    "$$\n",
    "\n",
    "De esta forma, la transformación que corresponde a dos transformaciones consecutivas $\\Lambda = \\Lambda_2 \\Lambda_1$  cumple:\n",
    "\n",
    "$$\n",
    "\\Psi'(x) = S(\\Lambda) \\, \\Psi( \\Lambda^{-1} x) = S(\\Lambda_2) S(\\Lambda_1) \\, \\Psi(\\Lambda_1^{-1} \\Lambda_2^{-1} x) \n",
    "$$\n",
    "\n",
    "Esto significa que las matrices $S(\\Lambda)$ forman una representación del grupo de Lorentz:\n",
    "\n",
    "$$\n",
    "\\Lambda \\to S(\\Lambda), \\\\\n",
    "\\Lambda  =\\Lambda_2 \\,\\Lambda_1 \\to S(\\Lambda) = S(\\Lambda_2) \\, S(\\Lambda_1)\n",
    "$$\n",
    "\n",
    "A cada transformación de Lorentz le corresponde una matriz en el espacio espinorial que la representa. La matriz que representa la sucesión de las dos transformaciones es el producto de las matrices de cada transformación por separado.\n",
    "\n",
    "A partir de ahora no explicitaremos la dependencia de $S$ con $\\Lambda$ por simplicidad."
   ]
  },
  {
   "cell_type": "markdown",
   "metadata": {},
   "source": [
    "### Condiciones de las matrices $S(\\Lambda)$\n",
    "\n",
    "Para establecer la condiciones de las matrices $S$, utilizamos que la ec. de Dirac debe ser válida para los campos transformados.\n",
    "\n",
    "Esto es:\n",
    "\n",
    "$$\n",
    "(i\\gamma^\\mu \\partial_\\mu - m) \\, S \\, \\Psi(\\Lambda^{-1} x) = 0\n",
    "$$\n",
    "\n",
    "Si definimos $y = \\Lambda^{-1} x, \\; y^\\mu = (\\Lambda^{-1})^\\mu_{\\;\\; \\nu} x^{\\nu}$, el término:\n",
    "\n",
    "$$\n",
    "\\partial_\\mu (S \\Psi(y)) = S \\frac{\\partial \\Psi(y)}{\\partial x^\\mu} = S  \\frac{\\partial \\Psi(y)}{\\partial y^\\nu} \\frac{\\partial y^\\nu}{\\partial x^\\mu} = S \\, \\frac{\\partial \\Psi(y)}{\\partial y^\\nu} \\, (\\Lambda^{-1})^\\nu_{\\;\\; \\mu}\n",
    "$$\n",
    "\n",
    "La ecuación de Dirac queda:\n",
    "\n",
    "$$\n",
    "i \\gamma^\\mu S (\\Lambda^{-1})^\\nu_{\\;\\;\\mu} \\frac{\\partial \\Psi(y)} {\\partial y^\\nu} - m S \\Psi(y) = 0\n",
    "$$\n",
    "\n",
    "Si multiplicamos por $S^{-1}$ por la izquierda.\n",
    "\n",
    "$$\n",
    "i  S^{-1} \\gamma^\\mu S \\; (\\Lambda^{-1})^\\nu_{\\;\\;\\mu} \\frac{\\partial \\Psi(y)}{\\partial y^\\nu} - m \\Psi(y) = 0 \n",
    "$$\n"
   ]
  },
  {
   "cell_type": "markdown",
   "metadata": {},
   "source": [
    "Si imponemos que $\\Psi(y)$ cumple la ecuación de Dirac en coordenadas $y$, esto es:\n",
    "\n",
    "$$\n",
    "i \\gamma^\\nu \\frac{\\partial \\Psi(y)}{\\partial y^\\nu} - m \\Psi(y) = 0\n",
    "$$\n",
    "\n",
    "se cumple:\n",
    "\n",
    "$$\n",
    "S^{-1} \\gamma^\\mu S \\; (\\Lambda^{-1})^\\nu_{\\;\\;\\mu} = \\gamma^\\nu\n",
    "$$\n",
    "\n",
    "Si multiplicamos por la derecha por $\\Lambda$, esto es por $\\Lambda^{\\rho}_{\\;\\; \\nu}$:\n",
    "\n",
    "$$\n",
    "S^{-1} \\gamma^\\mu S \\; (\\Lambda^{-1})^\\nu_{\\;\\;\\mu} \\Lambda^{\\rho}_{\\;\\; \\nu} = \\gamma^\\nu \\, \\Lambda^{\\rho}_{\\;\\; \\nu} \\\\\n",
    "S^{-1} \\gamma^\\mu S \\, \\delta^\\rho_{\\;\\;\\mu}  = \\Lambda^{\\rho}_{\\;\\; \\nu} \\, \\gamma^\\nu \\\\\n",
    "$$"
   ]
  },
  {
   "cell_type": "markdown",
   "metadata": {},
   "source": [
    "\n",
    "Obtenemos finalmente:\n",
    "\n",
    "$$\n",
    "S^{-1} \\gamma^\\mu S  = \\Lambda^\\mu_{\\;\\;\\nu}\\gamma^\\nu\n",
    "$$\n",
    "\n",
    "Esta ecuación nos dice las condiciones que deben cumplir las matrices $S$ para ser la representación de las transformaciones de Lorentz $\\Lambda$. "
   ]
  },
  {
   "cell_type": "markdown",
   "metadata": {},
   "source": [
    "### Generadores de boost y rotaciones"
   ]
  },
  {
   "cell_type": "markdown",
   "metadata": {},
   "source": [
    "Vamos a determinar ahora los generadores de las transformaciones de Lorentz en el espacio de los espinores.\n",
    "\n",
    "Podemos suponer que las matrices $S$ se pueden generar a partir de sucesivas transformaciones infinitesimales.\n",
    "Cada una de ellas estará definida a partir de unos generadores asociados a las rotaciones o al boost, de forma similar a como sucede con el espacio espacio-temporal. \n"
   ]
  },
  {
   "cell_type": "markdown",
   "metadata": {},
   "source": [
    "\n",
    "Consideremos un *boost* $\\eta$ *infinitesimal* en $z$. La matriz de Lorentz asociada es:\n",
    "\n",
    "$$\n",
    "\\Lambda(\\eta) = I -i \\eta K_3\n",
    "$$\n",
    "\n",
    "donde $K_3$ es el generador del boost en $z$ en el espacio espacio-temporal.\n",
    "\n",
    "Y la representación de boost infinitesimal en el espacio de espinores será:\n",
    "\n",
    "$$\n",
    "S(\\eta)  = I -i \\eta \\, K^S_3 \n",
    "$$\n",
    "\n",
    "donde $K^S_3$ es el generador de los boost en el espacio de los espinores."
   ]
  },
  {
   "cell_type": "markdown",
   "metadata": {},
   "source": [
    "Las condiciones de las matrices $S$ se traducen para esta caso en:\n",
    "\n",
    "$$\n",
    "S^{-1} \\gamma^0 S =  \\gamma^0   + \\eta \\, \\gamma^3\\\\\n",
    "S^{-1}\\gamma^1 S = \\gamma^1 \\\\\n",
    "S^{-1}\\gamma^2 S = \\gamma^2 \\\\\n",
    "S^{-1 }\\gamma^3 S = \\eta \\, \\gamma^0 + \\gamma^3 \\\\\n",
    "$$\n",
    "\n",
    "De la segunda y tercera condición deducimos que $S$ y por lo tanto $K^S_3$ conmutan con $\\gamma^1, \\gamma^2$. Con lo que podemos proponer:\n",
    "\n",
    "$$\n",
    "K^S_3 = \\alpha i \\gamma^0 \\gamma^3\n",
    "$$\n",
    "\n",
    "que conmuta con $\\gamma^2, \\gamma^3$, y donde $\\alpha$ es una constante que vamos a determinar."
   ]
  },
  {
   "cell_type": "markdown",
   "metadata": {},
   "source": [
    "De la primera condición:\n",
    "\n",
    "$$\n",
    "(I - \\eta \\, \\alpha \\gamma^0\\gamma^3) \\gamma^0 (I + \\eta \\, \\alpha \\gamma^0 \\gamma^3) =  \\gamma^0   + \\gamma^3  \\eta\n",
    "$$\n",
    "\n",
    "Si en la parte de la izquierda de la ecuación trasladamos $\\gamma^0$ del centro a la izquierda, usando las propiedades de conmutación de las $\\gamma$, obtenemos:\n",
    "\n",
    "$$\n",
    "\\gamma^0 \\, (I + \\eta \\, \\alpha \\gamma^0\\gamma^3)^2 =  \\gamma^0   + \\gamma^3  \\eta\n",
    "$$\n",
    "\n",
    "Multiplicando por $\\gamma^0$ por la izquierda, desarrollando el cuadrado, y despreciando términos en $\\eta^2$ al tratarse de un boost infinitesimal:\n",
    "\n",
    "$$\n",
    "(I + \\eta \\, 2 \\alpha \\gamma^0\\gamma^3) =  I   + \\eta \\gamma^0 \\gamma^3 \n",
    "$$\n",
    "\n",
    "De donde concluimos que:\n",
    "\n",
    "$$\n",
    "K^S_3 = \\frac{1}{2} i \\gamma^0 \\gamma^3\n",
    "$$\n"
   ]
  },
  {
   "cell_type": "markdown",
   "metadata": {},
   "source": [
    "Consideremos ahora una rotación infinitesimal $\\theta$ a lo largo del eje $z$. \n",
    "\n",
    "La transformación infinitesimal en el espacio espacio-temporal viene dada por:\n",
    "\n",
    "$$\n",
    "\\Lambda(\\theta) = I -i \\theta \\, J_3 \n",
    "$$\n",
    "\n",
    "Mientras que en el espacio de espinores:\n",
    "\n",
    "$$\n",
    "S(\\theta) = I -i \\theta \\, J^S_3\n",
    "$$\n"
   ]
  },
  {
   "cell_type": "markdown",
   "metadata": {},
   "source": [
    "Las condiciones que deben cumplir son:\n",
    "\n",
    "$$\n",
    "S^{-1} \\gamma^0 S =  \\gamma^0  \\\\\n",
    "S^{-1}\\gamma^1 S = \\gamma^1 - \\theta \\, \\gamma^2 \\\\\n",
    "S^{-1}\\gamma^2 S = \\theta \\, \\gamma^1 + \\gamma^2 \\\\\n",
    "S^{-1 }\\gamma^3 S = \\gamma^3 \\\\\n",
    "$$\n",
    "\n",
    "Vemos que $S$ \\, y por lo tanto $J^S_3$ deben conmutar con $\\gamma^0, \\, \\gamma^3$, luego podemos suponer que:\n",
    "\n",
    "$$\n",
    "J^S_3 = \\alpha i \\gamma^1\\gamma^2\n",
    "$$\n",
    "\n",
    "donde $\\alpha$ es de nuevo una constante."
   ]
  },
  {
   "cell_type": "markdown",
   "metadata": {},
   "source": [
    "De la segunda condición, obtenemos:\n",
    "\n",
    "$$\n",
    "(I - \\theta \\, \\alpha \\gamma^1 \\gamma^2) \\gamma^1 (I + \\theta \\, \\alpha \\gamma^1 \\gamma^2) = \\gamma^1 - \\theta \\, \\gamma^2\n",
    "$$\n",
    "\n",
    "Transladando $\\gamma^1$ en la parte de la izquierda de la igualdad a la izquierda, y usando las reglas de conmutación de las matrices $\\gamma$:\n",
    "\n",
    "$$\n",
    "\\gamma^1 \\, (I + \\theta \\, \\alpha \\gamma^1 \\gamma^2)^2 = \\gamma^1 - \\theta \\, \\gamma^2 \n",
    "$$\n",
    "\n",
    "Multiplicando ambos lados por $\\gamma^1$ y recordando que $(\\gamma^1)^2 = -I$\n",
    "\n",
    "$$\n",
    "(I + 2 \\theta \\, \\alpha \\gamma^1 \\gamma^2) = I + \\theta \\gamma^1\\gamma^2\n",
    "$$\n",
    "Obtenemos que:\n",
    "\n",
    "$$\n",
    "J^S_3 = \\frac{1}{2} i \\gamma^1\\gamma^2 \n",
    "$$\n"
   ]
  },
  {
   "cell_type": "markdown",
   "metadata": {},
   "source": [
    "\n",
    "Los generadores, $J_s, K_3$ en la representación de Pauli-Dirac.\n",
    "\n",
    "$$\n",
    "K^S_3  = \\frac{1}{2}  i \\gamma^0 \\gamma^3 = \\frac{1}{2} i \\begin{pmatrix} I & 0 \\\\ 0 & - I \\end{pmatrix} \\begin{pmatrix} 0 & \\sigma_3 \\\\ -\\sigma_3 & 0 \\end{pmatrix} = \\frac{1}{2} i \n",
    "\\begin{pmatrix} 0 & \\sigma_3 \\\\ \\sigma_3 & 0 \\end{pmatrix}\n",
    "$$\n",
    "\n",
    "$$\n",
    "J^S_3 = \\frac{1}{2} i \\gamma^1\\gamma^2 = \\frac{1}{2} i \\begin{pmatrix} 0 & \\sigma_1  \\\\ -\\sigma_1 & 0 \\end{pmatrix} \\begin{pmatrix} 0 & \\sigma_2  \\\\ -\\sigma_2 & 0 \\end{pmatrix} =   \\frac{1}{2} \\begin{pmatrix}  \\sigma_3 & 0  \\\\ 0 &  \\sigma_3 \\end{pmatrix} =  \\frac{1}{2}\\Sigma_3\n",
    "$$"
   ]
  },
  {
   "cell_type": "markdown",
   "metadata": {},
   "source": [
    "De forma similar daríamos el resto de rotaciones y boost, obtenemos\n",
    "\n",
    "$$\n",
    "K^S_i = \\frac{1}{2}i \\sigma^0\\sigma^i, \\;\\; J^S_k = \\epsilon_{ijk} \\, \\frac{1}{2} i \\gamma^i\\gamma^k\n",
    "$$\n",
    "\n",
    "donde $i \\lt j, \\, i, j = 1, 2, 3$.\n",
    "\n",
    "De tal forma que recuperamos los generadores en $z$ y podemos dar además los de $x, y$."
   ]
  },
  {
   "cell_type": "markdown",
   "metadata": {},
   "source": [
    "Vemos que el generador de las rotaciones en el espacio de los espinores es el **espín**\n",
    "\n",
    "$$\n",
    "\\text{\\bf S } = \\frac{1}{2} {\\bf \\Sigma}\n",
    "$$"
   ]
  },
  {
   "cell_type": "markdown",
   "metadata": {},
   "source": [
    "### Representaciones espinoriales de *boosts* y rotaciones.\n",
    "\n",
    "Calculemos ahora la representación espinorial, $S(\\eta)$, de un boost $\\eta$ en $z$\n",
    "\n",
    "Que obtendríamos de la sucesión de transformación infinitesimales, esto es:\n",
    "\n",
    "$$\n",
    "S(\\eta) = e^{-i \\eta K^S_3}  = e^{\\frac{\\eta}{2} \\gamma^0\\gamma^3} \\equiv \\sum_{k= 0}^\\infty \\frac{1}{k!} \\left(\\frac{\\eta}{2} \\right)^k \\begin{pmatrix} 0 & \\sigma_3 \\\\ \\sigma_3 & 0 \\end{pmatrix}^k \n",
    "$$\n",
    "\n",
    "\n",
    "Dado que \n",
    "\n",
    "$$\n",
    "\\begin{pmatrix} 0 & \\sigma_3 \\\\ \\sigma_3 & 0 \\end{pmatrix}^2 = \\begin{pmatrix} I & 0 \\\\ 0 & I \\end{pmatrix}\n",
    "$$\n",
    "\n",
    "podemos separar los términos pares e impares:\n",
    "\n",
    "\n",
    "$$\n",
    "S(\\eta) = \\sum_{k= 0}^\\infty \\left(\\frac{\\eta}{2}\\right)^{2k} \\frac{1}{2k!} \\begin{pmatrix} I & 0 \\\\ 0 & I \\end{pmatrix} \n",
    "+ \\sum_{k= 0}^\\infty \\left(\\frac{\\eta}{2}\\right)^{2k+1} \\frac{1}{(2k+1)!} \\begin{pmatrix} 0 & \\sigma_3 \\\\ \\sigma_3 & 0 \\end{pmatrix} \n",
    "$$\n",
    "\n",
    "Y podemos expresar $S(\\eta)$ como:\n",
    "\n",
    "$$\n",
    "S(\\eta)  = \\cosh \\frac{\\eta}{2}  \\begin{pmatrix} I & 0 \\\\ 0 & I \\end{pmatrix} + \\sinh \\frac{\\eta}{2} \\begin{pmatrix} 0 & \\sigma_3 \\\\ \\sigma_3 & 0 \\end{pmatrix} = \\\\\n",
    "\\cosh \\frac{\\eta}{2} \\, I + \\gamma^0\\gamma^3 \\, \\sinh \\frac{\\eta}{2} \n",
    "$$"
   ]
  },
  {
   "cell_type": "markdown",
   "metadata": {},
   "source": [
    "O simplemente:\n",
    "\n",
    "$$\n",
    "S(\\eta)  = \\begin{pmatrix} \\cosh \\frac{\\eta}{2} I  & \\sinh \\frac{\\eta}{2} \\sigma_3 \\\\ \\sinh \\frac{\\eta}{2} \\sigma_3 & \\cosh \\frac{\\eta}{2} I \\end{pmatrix} \n",
    "$$\n"
   ]
  },
  {
   "cell_type": "markdown",
   "metadata": {},
   "source": [
    "Que podemos reescribir en una expresión más conocida, si usamos las relaciones trigonométricas hyperbólicas: \n",
    "\n",
    "$$\n",
    "\\cosh \\frac{\\eta}{2} = \\sqrt{\\frac{\\cosh \\eta + 1}{2}} = \\sqrt{\\frac{\\gamma+1}{2}}, \\;\\; \\sinh \\frac{\\eta}{2} = \\text{sign}(\\eta) \\, \\sqrt{\\frac{\\cosh \\eta-1}{2}} = \\text{sign}(\\eta) \\, \\sqrt{\\frac{\\gamma-1}{2}}\n",
    "$$\n",
    "\n",
    "Si introducimos que $E = \\gamma m$, obtenemos las siguientes relaciones:\n",
    "\n",
    "$$\n",
    "\\sqrt{\\frac{\\gamma+1}{2}} = \\sqrt{\\frac{E+m}{2m}}, \\;\\; \\sqrt{\\frac{\\gamma-1}{\\gamma+1}} = \\sqrt{\\frac{E-m}{E+m}} = \\frac{\\sqrt{E^2-m^2}}{E+m} = \\frac{p}{E+m} = \\kappa\n",
    "$$"
   ]
  },
  {
   "cell_type": "markdown",
   "metadata": {},
   "source": [
    "Asi pues, la matriz $S$, al hacer un boost en la dirección $z$, queda:\n",
    "\n",
    "$$\n",
    "S(\\beta) = \\sqrt{\\frac{E+m}{2m}} \\begin{pmatrix} I & \\kappa \\, \\sigma_3 \\\\ \\kappa \\, \\sigma_3 & I \\end{pmatrix}\n",
    "$$\n",
    "\n",
    "Si aplicamos un boost sobre un espinor en reposo, $u_s(m)$, el espinor que obtendríamos sería, $u_s(p)$:\n",
    "\n",
    "$$\n",
    "u_s(p) = S(\\beta) \\, u_s(m),\n",
    "$$\n",
    "\n",
    "Esto es:\n",
    "\n",
    "$$\n",
    "u_s(p) = \\sqrt{\\frac{E+m}{2m}} \\begin{pmatrix} I & \\kappa \\, \\sigma_3 \\\\ \\kappa \\, \\sigma_3 & I \\end{pmatrix} \n",
    "\\, \\sqrt{2m} \\begin{pmatrix} \\chi_s \\\\ 0 \\end{pmatrix} =\n",
    "\\sqrt{E+m} \\begin{pmatrix} \\chi_s \\\\ \\kappa \\sigma_3 \\chi_s \\end{pmatrix}\n",
    "$$\n",
    "\n",
    "que es el espinor $u_s(p)$ para un fermión en movimiento en la dirección $z$, que hemos obtenido al resolver en la sección anterior la ecuación de Dirac."
   ]
  },
  {
   "cell_type": "markdown",
   "metadata": {},
   "source": [
    "*Ejercicio:* Comprobar que $S(\\eta)$ cumple las condiciones de las matrices $S$"
   ]
  },
  {
   "cell_type": "markdown",
   "metadata": {},
   "source": [
    "Por similitud, las matrices $S(\\eta_i)$ que representan a los boosts en las tres posibles direcciones, $\\eta_i, \\, i = 1, 2, 3$, son:\n",
    "\n",
    "$$\n",
    "S(\\eta_i) = e^{-i \\eta_i K^S_i } = e^{\\frac{\\eta_i}{2} \\gamma^0\\gamma^i } = \\begin{pmatrix} \\cosh \\frac{\\eta_i}{2} I  & \\sinh \\frac{\\eta_i}{2} \\sigma_i \\\\ \\sinh \\frac{\\eta_i}{2} \\sigma_i & \\cosh \\frac{\\eta_i}{2} I \\end{pmatrix}\n",
    "$$\n",
    "\n",
    "Y si hacemos un boost con rapidez $\\eta$ en la dirección $\\hat{{\\bf v}}$:\n",
    "\n",
    "$$\n",
    "S(\\eta \\, \\hat{{\\bf v}}) = \\begin{pmatrix} \\cosh \\frac{\\eta}{2} I  & \\sinh \\frac{\\eta}{2} \\, (\\vec{\\sigma} \\cdot \\hat{{\\bf v}}) \\\\ \\sinh \\frac{\\eta}{2} \\, ({\\vec \\sigma} \\cdot \\hat{{\\bf v}}) & \\cosh \\frac{\\eta}{2} I \\end{pmatrix} = \\\\\n",
    "$$\n",
    "\n",
    "Esto es:\n",
    "\n",
    "$$\n",
    "S(\\beta \\hat{\\bf v}) = \\sqrt{\\frac{E+m}{2m}} \\begin{pmatrix} I & \\kappa \\, (\\vec{\\sigma} \\cdot \\hat{{\\bf v}}) \\\\ \\kappa \\, (\\vec{\\sigma} \\cdot \\hat{\\bf v}) & I \\end{pmatrix}\n",
    "$$"
   ]
  },
  {
   "cell_type": "markdown",
   "metadata": {},
   "source": [
    "Determinemos ahora las matrices $S(\\theta)$ asociadas a una rotación $\\theta$ alrededor de $z$:\n",
    "\n",
    "$$\n",
    "S(\\theta) = e^{-i \\theta S_3} = e^{-i \\frac{\\theta}{2} \\Sigma_3}\n",
    "$$\n",
    "\n",
    "En la representación Pauli-Dirac:\n",
    "\n",
    "$$\n",
    "\\begin{pmatrix}  \\sigma_3 & 0  \\\\ 0 &  \\sigma_3 \\end{pmatrix}\n",
    "$$\n"
   ]
  },
  {
   "cell_type": "markdown",
   "metadata": {},
   "source": [
    "A partir de:\n",
    "\n",
    "$$\n",
    "S(\\theta) = e^{-i \\frac{\\theta}{2} \\Sigma_3} = \\sum_{k=0} \\frac{1}{k!} \\left(-i \\frac{\\theta}{2} \\right)^k  (\\Sigma_3)^k\n",
    "$$\n",
    "\n",
    "separando en términos pares e impares\n",
    "\n",
    "$$\n",
    "\\sum_{k=0} (-1)^k \\frac{1}{2k!}\\left(\\frac{\\theta}{2}\\right)^{2k} I - i \\sum_{k=0} (-1)^k \\frac{1}{(2k+1)!} \\left(\\frac{\\theta}{2}\\right)^{2k+1}  \\Sigma_3 \n",
    "$$\n",
    "\n",
    "usando:\n",
    "$$\n",
    "(\\Sigma_k)^{2k} =  I, \\;\\; (\\Sigma_3)^{2k+1} = \\Sigma_3\n",
    "$$\n",
    "\n",
    "obtenemos:\n",
    "\n",
    "$$\n",
    "  \\cos \\frac{\\theta}{2} \\, I - i \\sin \\frac{\\theta}{2} \\, \\Sigma_3\n",
    "$$"
   ]
  },
  {
   "cell_type": "markdown",
   "metadata": {},
   "source": [
    "Dado que también:\n",
    "\n",
    "$$\n",
    "e^{-i \\frac{\\theta}{2} \\sigma_k}  = \\cos \\frac{\\theta}{2} I - i \\sin \\frac{\\theta}{2} \\sigma_k \n",
    "$$\n",
    "\n",
    "Obtenemos:\n",
    "\n",
    "$$\n",
    "S(\\theta) = \\begin{pmatrix} \\cos \\frac{\\theta}{2} I - i \\sin \\frac{\\theta}{2} \\sigma_3  \\\\ 0 & \\cos \\frac{\\theta}{2} I - i \\sin \\frac{\\theta}{2} \\sigma_3 \\end{pmatrix} = \\begin{pmatrix} e^{-i\\frac{\\theta}{2} \\sigma_3} & 0 \\\\ 0 & e^{-i\\frac{\\theta}{2} \\sigma_3} \\end{pmatrix}\n",
    "$$\n"
   ]
  },
  {
   "cell_type": "markdown",
   "metadata": {},
   "source": [
    "Para el caso de las rotaciones de un ángulo $\\theta$ alrededor de un eje coordenado $k$, las matrices son, con $i <j, \\, i,j = 1, 2, 3$:\n",
    "\n",
    "$$\n",
    "S(\\theta) = e^{-i \\theta S_k} = e^{-i \\frac{\\theta}{2} \\Sigma_k} = \\\\  \n",
    "\\cos \\frac{\\theta}{2} \\, I -i \\sin \\frac{\\theta}{2} \\, \\Sigma_k \\\\\n",
    "$$\n",
    "\n",
    "O también:\n",
    "\n",
    "$$\n",
    "\\begin{pmatrix} e^{-i\\frac{\\theta}{2} \\sigma_k} & 0 \\\\ 0 & e^{-i\\frac{\\theta}{2} \\sigma_k} \\end{pmatrix} \n",
    "$$\n"
   ]
  },
  {
   "cell_type": "markdown",
   "metadata": {},
   "source": [
    "Para una rotación de un ángulo $\\theta$ alrededor de un eje dado por $\\hat{{\\bf n}}$ en sentido anti-horario, la expresión de $S$ es:\n",
    "\n",
    "$$\n",
    "S(\\theta \\, \\hat{\\bf n}) = e^{-i\\frac{\\theta}{2} \\hat{\\bf n} \\, {\\bf \\Sigma}} = \\cos \\frac{\\theta}{2} I - i \\sin \\frac{\\theta}{2} (\\hat{\\bf n} \\cdot {\\bf \\Sigma})  \n",
    "$$\n",
    "\n",
    "O simplemente:\n",
    "\n",
    "$$ \n",
    "S(\\theta \\, \\hat{\\bf n})  = \\begin{pmatrix} e^{-i\\frac{\\theta}{2} \\, (\\hat{{\\bf n}} \\cdot {\\vec \\sigma})} & 0 \\\\ 0 & e^{-i\\frac{\\theta}{2} \\, (\\hat{{\\bf n}} \\cdot {\\vec \\sigma})} \\end{pmatrix} \n",
    "$$"
   ]
  },
  {
   "cell_type": "markdown",
   "metadata": {},
   "source": [
    "Vemos que para $\\theta = 2 \\pi$ tenemos $S(2\\pi ) = -I$, y que hacen falta dos vueltas completas, $\\theta = 4 \\pi$, para regresar a la identidad $S(4\\pi) = I$. \n",
    "\n",
    "¡La rotación de un espinor es diferente a la de un vector!\n",
    "\n",
    "También observamos que los dos bi-espinores del espinor de Dirac se transforman igual pero independientemente, sin afectar uno a otro."
   ]
  },
  {
   "cell_type": "markdown",
   "metadata": {},
   "source": [
    "Recopilemos: de forma genérica podemos dar ahora la representación $S$ de una rotación $\\theta$ alrededor de un eje $\\hat{{\\bf n}}$ en sentido anti-horario y un boost de rapidez $\\eta$ en dirección $\\hat{{\\bf v}}$ como:\n",
    "\n",
    "$$\n",
    "S(\\theta \\, \\hat{{\\bf n}}, \\, \\eta \\hat{{\\bf v}}) = e^{-i \\theta \\, \\hat{{\\bf n}} \\cdot \\text{\\bf S} + \\eta \\, \\hat{{\\bf v}} \\cdot {\\bf K^S} }\n",
    "$$\n",
    "\n",
    "*Ejercicio:* A partir de las expresiones de los generadores en la representación Pauli-Dirac comprueba las reglas de conmutación:\n",
    "\n",
    "$$\n",
    "[S_i, S_j] =  i\\epsilon_{ijk} S_k, \\; [K^S_i, K^S_j] = -i\\epsilon_{ijk} S_k, \\; [S_i, K^S_j] = i\\epsilon_{ijk} K^S_k\n",
    "$$ \n",
    "\n",
    "\n"
   ]
  },
  {
   "cell_type": "markdown",
   "metadata": {},
   "source": [
    "*Ejercicio:* Rota el espinor en reposo $u_s(m)$ respecto al eje $y$ por un ángulo $\\theta$, y verfica que se trata del espinor cuyo espín entá alineado en la dirección donde queda el vector ${\\hat k}$ tras la rotación."
   ]
  },
  {
   "cell_type": "markdown",
   "metadata": {},
   "source": [
    "*solución*:\n",
    "\n",
    "Sea el espinor en reposo $u_1(m)$, que corresponde al espín en dirección hacia arriba en $z$. \n",
    "\n",
    "La matriz de rotación que lo rote un ángulo $\\theta$ alrededor del eje $y$ es:\n",
    "\n",
    "$$\n",
    "S(\\theta) = \\begin{pmatrix} \\cos \\frac{\\theta}{2} - i \\sigma_2 \\sin \\frac{\\theta}{2} & 0  \\\\ \n",
    "0 & \\cos \\frac{\\theta}{2} -i \\sigma_2 \\sin \\frac{\\theta}{2} \\end{pmatrix} \n",
    "$$\n",
    "\n",
    "Donde: \n",
    "\n",
    "$$\n",
    "\\cos \\frac{\\theta}{2} -i \\sigma_2 \\sin \\frac{\\theta}{2}  = \n",
    "\\begin{pmatrix} \\cos \\frac{\\theta}{2} & -\\sin \\frac{\\theta}{2} \\\\\n",
    "\\sin \\frac{\\theta}{2} & \\cos \\frac{\\theta}{2} \\end{pmatrix}\n",
    "$$"
   ]
  },
  {
   "cell_type": "markdown",
   "metadata": {},
   "source": [
    "\n",
    "La rotación de $\\chi_1$ es:\n",
    "\n",
    "$$\n",
    "\\begin{pmatrix} \\cos \\frac{\\theta}{2} & -\\sin \\frac{\\theta}{2} \\\\\n",
    "\\sin \\frac{\\theta}{2} & \\cos \\frac{\\theta}{2} \\end{pmatrix} \n",
    "\\begin{pmatrix} 1 \\\\ 0 \\end{pmatrix} = \n",
    "\\begin{pmatrix} \\cos \\frac{\\theta}{2} \\\\ \\sin \\frac{\\theta}{2} \\end{pmatrix}\n",
    "$$\n",
    "\n"
   ]
  },
  {
   "cell_type": "markdown",
   "metadata": {},
   "source": [
    "### No unitariedad de los *boosts*\n",
    "\n",
    "\n",
    "Una último apunte importante: *Las transformaciones por boost no son unitarias*, pero sí las rotaciones.\n",
    "\n",
    "Para que la transformación, $S$, sea unitaria debe cumplir\n",
    "\n",
    "$$\n",
    "S^{-1} = S^\\dagger, \\;\\; S^\\dagger \\, S = I\n",
    "$$"
   ]
  },
  {
   "cell_type": "markdown",
   "metadata": {},
   "source": [
    "*Nota:* recordar que la unitariedad es una propiedad fundamental en mecánica cuántica, que nos asegura que un estado transformado mantiene la norma, y que exige de la transformación $U$ debe ser unitaria y cumplir $U^\\dagger U = I$."
   ]
  },
  {
   "cell_type": "markdown",
   "metadata": {},
   "source": [
    "Véamoslo con la expresión infinitesimal, (aunque puede verse igualmente con la expresión explícita $S(\\eta)$).\n",
    "\n",
    "La transformación inversa es $S^{-1}(\\eta) =  S(-\\eta)$, que viene de exigir que al hacer la transformación inversa obtenemos la identidad, lo que para la representación se traduce\n",
    "\n",
    "$$\n",
    "S(\\Lambda^{-1}) \\, S(\\Lambda) = I, \\;\\; S(\\Lambda^{-1}) = S^{-1}(\\Lambda)\n",
    "$$\n",
    "\n",
    "Si hacemos el traspuesto conjungado de $S(\\eta)$ para un boost, $\\eta$, infinitesimal en $z$.\n",
    "\n",
    "$$\n",
    "S^\\dagger(\\eta) = \n",
    "I + \\frac{\\eta}{2} (\\gamma^0 \\gamma^1)^\\dagger = I + \\frac{\\eta}{2} (\\gamma^1)^\\dagger (\\gamma^0)^\\dagger = \\\\\n",
    "I + \\frac{\\eta}{2} (-\\gamma^1)(\\gamma^0) = I + \\frac{1}{2} (\\gamma^0\\gamma^i) = S(\\eta)\n",
    "$$\n",
    "\n",
    "Luego:\n",
    "\n",
    "$$\n",
    " S^{-1}(\\eta) \\neq S^\\dagger(\\eta)\n",
    "$$\n",
    "\n",
    "Esto tendrá consecuencias relevantes cuando más tarde, cuando veamos que el término $\\Psi^\\dagger(x) \\Psi(x)$, no es un invariante Lorentz."
   ]
  },
  {
   "cell_type": "markdown",
   "metadata": {},
   "source": [
    "Sin embargo, para rotaciones:\n",
    "\n",
    "$$\n",
    "S^{-1}(\\theta) = S(-\\theta) = S^\\dagger(\\theta)\n",
    "$$\n",
    "\n",
    "Veámoslo con una rotación $\\theta$ infinitesimal alrededor de $z$, \n",
    "\n",
    "$$\n",
    "S^\\dagger(\\theta) = I + \\frac{\\theta}{2} (\\gamma^1\\gamma^2)^\\dagger = \n",
    " I + \\frac{\\theta}{2} (\\gamma^2)^\\dagger(\\gamma^1)^\\dagger = \\\\\n",
    " I + \\frac{\\theta}{2} (-\\gamma^2)(-\\gamma^1) = I + \\frac{\\theta}{2} \\gamma^2\\gamma^1 \\\\\n",
    " I - \\frac{\\theta}{2} \\gamma^1 \\gamma^2 = S(-\\theta) = S^{-1}(\\theta)\n",
    "$$\n",
    "\n",
    "Luego las rotaciones si son transformaciones unitarias en el espacio de los espinores."
   ]
  },
  {
   "cell_type": "markdown",
   "metadata": {},
   "source": [
    "### Inversión por paridad\n",
    "\n",
    "La matriz que representa la inversión por paridad, $S(P)$, debe cumplir (por las condiciones de las matrices $S$, ver arriba):\n",
    "\n",
    "$$\n",
    "S^{-1}\\gamma^0 S = \\gamma^0, \\;\\; \\gamma^0 S = S \\gamma^0, \\\\\n",
    "S^{-1}\\gamma^1 S = -\\gamma^1, \\;\\;  \\gamma^1 S = -S \\gamma^1,\\\\\n",
    "S^{-1}\\gamma^2 S = -\\gamma^2, \\;\\;  \\gamma^2 S = -S \\gamma^2,\\\\\n",
    "S^{-1}\\gamma^3 S = -\\gamma^3, \\;\\;  \\gamma^3 S = -S \\gamma^3\\\\\n",
    "$$\n",
    "\n",
    "Esto es:\n",
    "\n",
    "$$\n",
    "S \\gamma^0 = \\gamma^0 S, \\;\\; S \\gamma^i = - \\gamma^{i} S\n",
    "$$\n",
    "\n",
    "La matriz que cumple esta condición es:\n",
    "\n",
    "$$\n",
    "S(P) = \\gamma^{0}\n",
    "$$\n",
    "\n",
    "La matriz $S$ podría incluir una pase compleja, pero por convención se tomó como 1."
   ]
  },
  {
   "cell_type": "markdown",
   "metadata": {},
   "source": [
    "Si aplicamos paridad sobre los espinores nos encontramos:\n",
    "\n",
    "$$\n",
    "u_s(E, {\\bf p}) \\to S(P) \\, u_s(E, -{\\bf p}) = + \\, u_s(E, {\\bf p}), \\\\\n",
    "v_s(E, {\\bf p}) \\to S(P) \\, v_s(E, -{\\bf p}) = - \\, v_s(E, {\\bf p}), \\;\\;\n",
    "$$\n",
    "\n",
    "Los espinores son autoestados de paridad, los de los fermiones, $u_s(p)$, tienen paridad positiva, mientras que los de los antifermiones $v_s(p)$, negativa."
   ]
  },
  {
   "cell_type": "markdown",
   "metadata": {},
   "source": [
    "*Ejercio* Comprobar que la operación de paridad transforma los espinores $u_+(p) \\to u_-(p)$. "
   ]
  },
  {
   "cell_type": "markdown",
   "metadata": {},
   "source": [
    "#### Inversión bajo Carga\n",
    "\n",
    "La operación de inversión de carga debe cambiar las soluciones de Dirac de fermiones a anti-fermiones, $\\Psi(x) \\to \\Phi(x)$.\n",
    "\n",
    "Para cambiar la parte espacio-temporal, la operación debe incluir el complejo conjugado.\n",
    "\n",
    "La operación de carga debe tener la expresión:\n",
    "\n",
    "$$\n",
    "\\Psi(x) \\to S(C) \\, \\Psi^*(x)\n",
    "$$\n",
    "\n",
    "Donde $S(C)$ es la matriz que representa la inversión de carga en el espacio espinorial."
   ]
  },
  {
   "cell_type": "markdown",
   "metadata": {},
   "source": [
    "\n",
    "Si exigimos que la ecuación de Dirac sea válida para $S \\, \\Psi^*(x)$:\n",
    "\n",
    "$$\n",
    "(i \\gamma^{\\mu} S \\partial_\\mu - m) \\,S \\, \\Psi^*(x) = 0\n",
    "$$\n",
    "\n",
    "Si multiplicamos por la izquierda por $S^{-1}$ obtenemos:\n",
    "\n",
    "$$\n",
    "(i S^{-1} \\gamma^{\\mu} S \\partial_\\mu - m)\\, \\Psi^*(x) = 0\n",
    "$$\n",
    "\n",
    "Por otro lado, si tomamos el complejo conjugado de la ecuación de Dirac inicial:\n",
    "\n",
    "$$\n",
    "(-i (\\gamma^\\mu)^* \\partial_\\mu - m) \\, \\Psi^*(x) = 0\n",
    "$$\n",
    "\n",
    "Para que ambas sean iguales debe cumplirse que:\n",
    "\n",
    "$$\n",
    "S^{-1} \\gamma^\\mu S = - (\\gamma^\\mu)^*\n",
    "$$"
   ]
  },
  {
   "cell_type": "markdown",
   "metadata": {},
   "source": [
    "En la representación de Pauli-Dirac, la única matriz $\\gamma^\\mu$ que cambia al aplicar el complejo conjugado es $(\\gamma^2)^* = - \\gamma^2$, asi pues, las condiciones anteriores se traducen en:\n",
    "\n",
    "$$\n",
    "S^{-1}\\gamma^0 S = - \\gamma^0, \\;\\; \\gamma^0 S = - S \\gamma^0, \\\\\n",
    "S^{-1}\\gamma^1 S = - \\gamma^1, \\;\\;  \\gamma^1 S = S \\gamma^1,\\\\\n",
    "S^{-1}\\gamma^2 S = \\gamma^2, \\;\\;  \\gamma^2 S = S \\gamma^2,\\\\\n",
    "S^{-1}\\gamma^3 S = - \\gamma^3, \\;\\;  \\gamma^3 S = S \\gamma^3\\\\\n",
    "$$"
   ]
  },
  {
   "cell_type": "markdown",
   "metadata": {},
   "source": [
    "Y la matriz que las cumple es:\n",
    "\n",
    "$$\n",
    "S(C) = i \\gamma^2 \n",
    "$$\n",
    "\n",
    "Donde el factor $i$ es una convención, que permite que la matriz $S$ sea real.\n",
    "\n",
    "$$\n",
    "i \\gamma^2 = i \\begin{pmatrix} 0 &  0 &  0 &  -i \\\\\n",
    "                            0 & 0 &  i &  0 \\\\\n",
    "                            0 &  i & 0 &  0 \\\\\n",
    "                            -i &  0 &  0 & 0 \\end{pmatrix} = \n",
    "              \\begin{pmatrix} 0 &  0 &  0 &  1 \\\\\n",
    "                            0 & 0 &  -1 &  0 \\\\\n",
    "                            0 &  -1 & 0 &  0 \\\\\n",
    "                            1 &  0 &  0 & 0 \\end{pmatrix}\n",
    "$$"
   ]
  },
  {
   "cell_type": "markdown",
   "metadata": {},
   "source": [
    "*Ejercicio:* Verifica que la conjungación de carga cambia $\\Psi_i(x) \\to \\Phi_i(x)$. Usa los espinores autoestados de helicidad que se deplazan en la dirección $z$"
   ]
  },
  {
   "cell_type": "markdown",
   "metadata": {},
   "source": [
    "#### Relación con la inversión de las cargas\n",
    "\n",
    "Para incluir la interacción del fermión con carga $q$ con un campo electromagnético $A_\\mu$ modificamos de forma mínima la ecuación de Dirac:\n",
    "\n",
    "$$\n",
    "\\left[\\gamma^\\mu (i\\partial_\\mu - q A_\\mu) - m \\right] \\, \\Psi(x) = 0\n",
    "$$\n",
    "\n",
    "Vamos a transformar las soluciones de fermiones en las de antifermiones y ver cómo queda la interacción con el campo $A_\\mu$.\n",
    "\n"
   ]
  },
  {
   "cell_type": "markdown",
   "metadata": {},
   "source": [
    "Si tomamos el complejo conjugado y multiplicamos por $i\\gamma^2$ por la izquierda:\n",
    "\n",
    "$$\n",
    "i\\gamma^2 \\left[-i (\\gamma^\\mu)^* \\partial_\\mu - q (\\gamma^\\mu)^* A_\\mu - m \\right] \\, \\Psi^*(x) = 0\n",
    "$$\n",
    "\n",
    "Aplicando las reglas de conmutación de las matrices $\\gamma^2 \\gamma^\\mu$ y el hecho de que bajo el conjugado solo cambia $(\\gamma^2)^* = - \\gamma^2$, obtenemos:\n",
    "\n",
    "$$\n",
    "\\left[i \\gamma^\\mu \\partial_\\mu + q \\gamma^\\mu A_\\mu -m \\right] \\, i \\gamma^2 \\Psi^*(x) = 0 \\\\\n",
    "\\left[\\gamma^\\mu (i\\partial_\\mu + q A_\\mu) - m \\right] \\, i \\gamma^2 \\Psi^*(x) = 0\n",
    "$$\n",
    "\n",
    "Luego al intercambiar las gammas en $\\gamma^2(\\gamma^\\mu)^*$, el factor que se acopla con $A_\\mu$, se produce un cambio de signo.\n",
    "\n",
    "Esto es la solución $\\Phi(x) = i \\gamma^2 \\Psi^*(x)$ tiene carga opuesta: en la ecuación de Dirac ha cambiado $-q \\to q$.\n",
    "\n",
    "$$\n",
    "\\left[i\\gamma^\\mu(i\\partial_\\mu + q A_\\mu) -m \\right] \\Phi(x) = 0\n",
    "$$\n",
    "\n"
   ]
  },
  {
   "cell_type": "markdown",
   "metadata": {},
   "source": [
    "## Espinor adjunto y formas bilineales\n",
    "\n",
    "En cuántica la densidad de probabilidad estaba asociada a $\\psi^*(x) \\psi(x)$, sin embargo la expresión equivalente construida con los espinores de Dirac, $\\Psi^\\dagger(x) \\Psi(x)$, no es un escalar bajo transformaciones de Lorentz.\n",
    "\n",
    "La ecuación de Dirac nos provee no obstante de una corriente de probabilidad conservada, válida en todos los sistemas inerciales. Esa corriente se transforma como un vector. Y para construirla necesitamos introducir el espinor adjunto:\n",
    "\n",
    "$$\n",
    "\\bar{\\Psi}(x) = \\Psi^\\dagger(x) \\, \\gamma^0\n",
    "$$\n",
    "\n",
    "Veremos que la presencia de $\\gamma^0$ hace que la forma $\\bar{\\Psi}(x)\\Psi(x)$ sea un escalar Lorentz, y $\\bar{\\Psi}(x) \\gamma^\\mu \\Psi(x)$ la corriente de probabilidad. \n",
    "\n",
    "También estudiaremos otras formas bilineales (donde aparecen contraidos $\\bar{\\Psi}(x)$ y $\\Psi(x)$, y cómo se comportan con respecto a las transformaciones de Lorentz, en especial con la inversión por paridad."
   ]
  },
  {
   "cell_type": "markdown",
   "metadata": {},
   "source": [
    "### El espinor de Dirac adjunto\n",
    "\n",
    "El término \n",
    "\n",
    "$$\n",
    "\\Psi^\\dagger \\Psi = |\\psi_1|^2 + |\\psi_2|^2 + |\\psi_2|^2 + |\\psi_4|^2\n",
    "$$\n",
    "\n",
    "está asociado a la densidad de probabilidad, es siempre una cantidad positiva."
   ]
  },
  {
   "cell_type": "markdown",
   "metadata": {},
   "source": [
    "Sin embargo no es un invariante Lorentz, debido a que las matrices que representan el boost en el espacio de los espinores no son unitarias.\n",
    "\n",
    "Sabemos que:\n",
    "\n",
    "$$\n",
    "S^{-1}(\\eta) = S(-\\eta) \\neq S(\\eta)^\\dagger\n",
    "$$\n",
    "\n",
    "Por lo tanto la transformación por boost del término $\\Psi^\\dagger(x) \\Psi(x)$,\n",
    "\n",
    "$$\n",
    "\\Psi^\\dagger(x) \\Psi(x) \\to \\Psi'^\\dagger(x) \\Psi'(x)  = \\\\\n",
    "\\Psi^\\dagger(y) S^{\\dagger}(\\eta) S(\\eta) \\Psi(y) \\neq \\Psi^\\dagger(y) \\Psi(y)\n",
    "$$\n",
    "\n",
    "con $y = \\Lambda^{-1} x$, no es invariante Lorentz.\n"
   ]
  },
  {
   "cell_type": "markdown",
   "metadata": {},
   "source": [
    "El término $\\Psi^\\dagger(x)\\Psi(x)$ será no obstante la densidad de probabilidad de la corriente (el elemento 0 de un cuadri-vector) de probabilidad."
   ]
  },
  {
   "cell_type": "markdown",
   "metadata": {},
   "source": [
    "Para definir la corriente de probabilidad introducimos el espinor adjunto:\n",
    "\n",
    "$$\n",
    "\\bar{\\Psi}(x) = \\Psi^\\dagger(x) \\gamma^0\n",
    "$$\n",
    "\n",
    "En la representación de Pauli-Dirac:\n",
    "\n",
    "$$\n",
    "\\bar{\\Psi}(x) = (\\psi^*_1(x), \\psi^*_2(x), -\\psi^*_3(x), -\\psi^*_4(x)),\n",
    "$$\n",
    "\n",
    "que tiene forma de vector fila."
   ]
  },
  {
   "cell_type": "markdown",
   "metadata": {},
   "source": [
    "#### La ecuación de Dirac para el espinor adjunto\n",
    "\n",
    "Vamos a determinar la ecuación de Dirac para el espinor adjunto.\n",
    "\n",
    "para ello, aplicamos primero el transpuesto conjugado a la ec. de Dirac:\n",
    "\n",
    "$$\n",
    "- i \\partial_\\mu \\Psi^\\dagger \\, (\\gamma^\\mu)^\\dagger - m \\Psi^\\dagger = 0 \\\\\n",
    "$$\n",
    "\n",
    "si primero usamos $(\\gamma^0)^\\dagger = \\gamma^0, \\, (\\gamma^k)^\\dagger = - \\gamma^k$, luego multiplicamos por $\\gamma^0$ por la derecha, y aplicando $\\gamma^k\\gamma^0 = - \\gamma^0\\gamma^k$, obtenemos:\n",
    "\n",
    "$$\n",
    "-i\\partial_0 \\Psi^\\dagger \\gamma^0 + i \\partial_k \\Psi^\\dagger \\gamma^k - m \\Psi^\\dagger = 0 \\\\\n",
    "-i\\partial_0 \\Psi^\\dagger \\gamma^0 \\gamma^0 + i \\partial_k \\Psi^\\dagger \\gamma^k  \\gamma^0 - m \\Psi^\\dagger \\gamma^0 = 0 \\\\\n",
    "-i\\partial_0 \\Psi^\\dagger \\gamma^0 \\gamma^0 - i \\partial_k \\Psi^\\dagger \\gamma^0  \\gamma^k - m \\Psi^\\dagger \\gamma^0 = 0 \\\\\n",
    "-i\\partial_\\mu \\bar{\\Psi} \\gamma^\\mu - m \\bar{\\Psi}= 0 \\\\\n",
    "$$\n",
    "\n",
    "Finalmente:\n",
    "\n",
    "$$\n",
    "i\\partial_\\mu \\bar{\\Psi} \\, \\gamma^\\mu + m \\bar{\\Psi}= 0\n",
    "$$\n",
    "\n",
    "que es la ecuación de Dirac para el espinor adjunto.\n"
   ]
  },
  {
   "cell_type": "markdown",
   "metadata": {},
   "source": [
    "### Norma\n",
    "\n",
    "El término $\\bar{\\Psi}(x)\\Psi(x)$ es un invariante Lorentz y está asociado a la masa de la partícula. \n",
    "\n",
    "Hemos visto que para boosts, $S(\\eta)$ no es unitaria, pero que $S(\\theta)$, asociada a las rotaciones, sí lo es.\n",
    "\n",
    "Pero podemos construir fácilmente $S^{-1}(\\eta)$:\n",
    "\n",
    "$$\n",
    "S^{-1}(\\eta)   = \\gamma^0 S^\\dagger(\\eta) \\gamma^0 \\neq S^{\\dagger}(\\eta) \\\\\n",
    "S^{-1}(\\theta) = \\gamma^0 S^\\dagger(\\theta) \\gamma^0 = S^\\dagger(\\theta)\n",
    "$$"
   ]
  },
  {
   "cell_type": "markdown",
   "metadata": {},
   "source": [
    "Podemos ahora comprobar que para cualquier transformación Lorentz, $\\bar{\\Psi}(x) \\Psi(x)$ es un escalar:\n",
    "\n",
    "$$\n",
    "\\bar{\\Psi}(x) \\Psi(x) \\to \\bar{\\Psi}'(x) \\Psi'(x) = \\\\\n",
    "(S \\, \\Psi(y))^\\dagger \\gamma^0 (S \\, \\Psi(y)) = \n",
    "\\Psi^\\dagger(y) \\, S^{\\dagger} \\gamma^ 0 S \\, \\Psi(y)  = \n",
    "\\Psi^\\dagger(y) \\gamma^0 (\\gamma^0 S^{\\dagger} \\gamma^ 0)  S \\, \\Psi(y)  = \\\\\n",
    "\\Psi^\\dagger(y) \\gamma^0 (S^{-1} S)  \\Psi(y)) = \n",
    "\\Psi^\\dagger(y) \\gamma^0 \\Psi(y) = \\bar{\\Psi}(y) \\Psi(y)\n",
    "$$\n",
    "\n",
    "donde $y = \\Lambda^{-1} x$.\n"
   ]
  },
  {
   "cell_type": "markdown",
   "metadata": {},
   "source": [
    "Vamos a explicitar su valor, usando las soluciones de la ecuación de Dirac para los fermiones en la representación Pauli-Dirac.\n",
    "\n",
    "$$\n",
    "\n",
    "\\Psi_s(x) \\Psi_s(x) = \n",
    " (E+m) \\, \n",
    "\\begin{pmatrix} \\chi^\\dagger_s, & \\kappa \\, \\chi^\\dagger _s(\\hat{\\bf v} \\cdot \\vec{\\sigma})^\\dagger \\end{pmatrix} \\, e^{+i \\, px} \\,\n",
    "\\begin{pmatrix} I & 0 \\\\ 0 & - I \\end{pmatrix} \\,\n",
    "\\begin{pmatrix} \\chi_s \\\\ \\kappa \\, (\\hat{\\bf v} \\cdot \\vec{\\sigma}) \\chi_s \\end{pmatrix} \\, e^{-i \\, px}  = \\\\\n",
    "(E+m) \\, \n",
    "\\begin{pmatrix} \\chi^\\dagger_s, & \\kappa \\, \\chi^\\dagger_s (\\hat{\\bf v} \\cdot \\vec{\\sigma})^\\dagger \\end{pmatrix} \\begin{pmatrix} \\chi_s \\\\ - \\kappa \\, (\\hat{\\bf v} \\cdot \\vec{\\sigma}) \\chi_s \\end{pmatrix}  \n",
    "$$\n",
    "\n",
    "Como:\n",
    "\n",
    "$$\n",
    "(\\hat{\\bf v} \\cdot \\vec{\\sigma})^\\dagger \\,  (\\hat{\\bf v} \\cdot \\vec{\\sigma}) = (\\hat{\\bf v} \\cdot \\vec{\\sigma}) ^2 = |{\\hat{\\bf v}}|^2 I= I\n",
    "$$\n",
    "\n"
   ]
  },
  {
   "cell_type": "markdown",
   "metadata": {},
   "source": [
    "Obtenemos\n",
    "\n",
    "$$\n",
    "\\bar{\\Psi}(x) \\, \\Psi(x) = (E+m) \\chi^\\dagger_s \\, \\chi_s - \\kappa^2 \\chi^\\dagger_s \\, (\\hat{\\bf v} \\cdot \\vec{\\sigma})^\\dagger \\,  (\\hat{\\bf v} \\cdot \\vec{\\sigma})  \\, \\chi_s  = \\\\(E+m) \\, (1 - \\kappa^2)\n",
    "$$\n",
    "\n",
    "Si operamos\n",
    "\n",
    "$$\n",
    "1-\\kappa^2 =  1 - \\frac{\\text{p}^2}{(E+m)^2} = 1 - \\frac{(E^2-m^2)}{(E+m)^2} = \\\\\n",
    "1 - \\frac{(E-m)(E+m)}{(E+m)^2}  = 1 - \\frac{E-m}{E+m} = \\frac{2m}{E+m} \n",
    "$$\n",
    "\n",
    "Concluimos por lo tanto que:\n",
    "\n",
    "$$\n",
    "\\bar{\\Psi}(x) \\, \\Psi(x) = 2m\n",
    "$$\n",
    "\n",
    "El factor $2$ es una convención. "
   ]
  },
  {
   "cell_type": "markdown",
   "metadata": {},
   "source": [
    "#### Densidad y corriente de probabilidad\n",
    "\n",
    "La corriente de probabilidad fermiónica es un cuadrivector dado por:\n",
    "\n",
    "$$\n",
    "\\bar{\\Psi} \\gamma^\\mu \\Psi = (\\rho, {\\bf j})\n",
    "$$\n",
    "\n",
    "donde $\\rho$, es la densidad, y ${\\bf j}$ será el corriente de probabilidad del spinor de Dirac.\n",
    "\n",
    "Notar que los cuatro elementos de la corriente corresponden al valor de los índices de $\\mu$\n",
    "\n",
    "\n",
    "La densidad, nos ha aparecido antes:\n",
    "\n",
    "$$\n",
    "\\rho = \\bar{\\Psi} \\gamma^0 \\Psi = \\Psi^\\dagger \\Psi = \\sum_{\\mu = 0}^3 |\\psi_i|^2\n",
    "$$\n",
    "\n",
    "Podemos ver primero que la corriente se conserva, esto es que cumple la ecuación de conservación:\n",
    "\n",
    "\n",
    "$$\n",
    "\\frac{\\partial \\rho}{\\partial t} + \\nabla \\cdot {\\bf j} = 0.\n",
    "$$\n",
    "\n",
    "O en forma covariante:\n",
    "\n",
    "$$\n",
    "\\partial_\\mu j^\\mu = 0\n",
    "$$\n"
   ]
  },
  {
   "cell_type": "markdown",
   "metadata": {},
   "source": [
    "Podemos comprobar que es cierto:\n",
    "\n",
    "$$\n",
    "\\partial_\\mu \\left(\\bar{\\Psi} \\gamma^\\mu \\Psi\\right) = (\\partial_\\mu \\bar{\\Psi}) \\gamma^\\mu \\Psi + \\bar{\\Psi} \\gamma^\\mu \\partial_\\mu\\Psi\n",
    "$$\n",
    "\n",
    "De las ecuaciones de Dirac del espinor y el espinor adjunto, tenemos que:\n",
    "\n",
    "$$\n",
    "\\partial_\\mu \\bar{\\Psi} \\gamma^\\mu = -i m \\bar{\\Psi}, \\;\\;\\; \\gamma^\\mu \\partial_\\mu \\Psi = +i m \\Psi\n",
    "$$\n",
    "\n",
    "Si sustituimos:\n",
    "\n",
    "$$\n",
    "(\\partial_\\mu \\bar{\\Psi} \\gamma^\\mu) \\Psi + \\bar{\\Psi} (\\gamma^\\mu \\partial_\\mu\\Psi) = (-i m \\bar{\\Psi}) \\Psi + \\bar{\\Psi} (i m \\Psi) = 0.\n",
    "$$\n",
    "\n",
    "Luego:\n",
    "\n",
    "$$\n",
    "\\partial_\\mu \\left(\\bar{\\Psi} \\gamma^\\mu \\Psi\\right) = 0, \\;\\; \\partial_\\mu j^\\mu = 0.\n",
    "$$\n",
    "\n",
    "$j^\\mu$ es una corriente conservada."
   ]
  },
  {
   "cell_type": "markdown",
   "metadata": {},
   "source": [
    "Vamos a comprobar ahora que $\\bar{\\psi}(x) \\gamma^\\mu \\Psi(x)$ es un cuadri-vector y que se transforma como tal bajo transformaciones Lorentz.\n",
    "\n",
    "Si aplicamos una transformación de Lorentz, con representación espinorial $S$, la corriente transforma como:\n",
    "\n",
    "$$\n",
    "\\bar{\\Psi} \\gamma^\\mu \\Psi \\to \\bar{\\Psi}'(x) \\gamma^\\mu \\Psi'(x) = \\Psi(y)^\\dagger S^\\dagger \\, \\gamma^0 \\gamma^\\mu \\, S \\Psi(y)\n",
    "$$\n",
    "\n",
    "con $y = \\Lambda^{-1} x$.\n",
    "\n",
    "Que la corriente se transforme como un vector implica que:\n",
    "\n",
    "$$\n",
    "\\bar{\\Psi}'(x) \\gamma^\\mu \\Psi'(x) = \\Lambda^{\\mu}_{\\;\\;\\nu} \\, \\bar{\\Psi}(y) \\gamma^\\nu \\Psi(y) \n",
    "$$\n",
    "\n",
    "Esto es:\n",
    "\n",
    "$$\n",
    "\\Psi^\\dagger(y) \\, S^\\dagger \\gamma^0 \\gamma^\\mu S \\, \\Psi(y) = \\Lambda^{\\mu}_{\\;\\;\\nu} \\, \\Psi^\\dagger(y) \\gamma^0 \\gamma^\\nu \\Psi(y) \\\\\n",
    "$$\n",
    "\n",
    "O que se cumple:\n",
    "\n",
    "$$\n",
    "S^\\dagger \\gamma^0 \\gamma^\\mu \\, S  = \\Lambda^{\\mu}_{\\;\\;\\nu} \\gamma^0 \\gamma^\\nu\n",
    "$$"
   ]
  },
  {
   "cell_type": "markdown",
   "metadata": {},
   "source": [
    "En la parte derecha de la ecuación, haciendo uso $S^\\dagger \\gamma^0 = \\gamma^0 S^{-1}$, \n",
    "\n",
    "$$\n",
    "\\gamma^0 S^{-1} \\gamma^\\mu S \n",
    "$$\n",
    "\n",
    "Y aplicando las condiciones de las matrices $S$, esto es, $S^{-1} \\gamma^\\mu S  = \\Lambda^\\mu_{\\;\\;\\nu}\\gamma^\\nu\n",
    "$\n",
    "\n",
    "nos queda:\n",
    "\n",
    "$$\n",
    "\\Lambda^{\\mu}_{\\;\\;\\nu} \\gamma^0 \\gamma^\\nu \n",
    "$$ \n",
    "\n",
    "Luego, efecticamente, $\\bar{\\Psi}(x) \\gamma^\\mu \\Psi(x)$ se comporta como vector con respecto a las transformaciones Lorentz.\n",
    "\n"
   ]
  },
  {
   "cell_type": "markdown",
   "metadata": {},
   "source": [
    "### Comportamiento bajo paridad\n",
    "\n",
    "\n",
    "Además de las formas anteriores vamos a introducir dos más que resultaran fundamentales al tratar las interacciones débiles:\n",
    "\n",
    "Una cantidad que veremos es pseudo-escalar:\n",
    "\n",
    "$$\n",
    "\\bar{\\Psi}(x) \\gamma^5 \\Psi(x)\n",
    "$$\n",
    "\n",
    "Y otra cantidad que es un vector axial:\n",
    "\n",
    "$$\n",
    "\\bar{\\Psi}(x) \\gamma^\\mu \\gamma^5 \\Psi(x)\n",
    "$$\n",
    "\n",
    "A partir del hecho que:\n",
    "\n",
    "$$\n",
    "S^{-1} \\gamma^5 S = \\gamma^5, \\;\\; \\gamma^5 S = S \\gamma^5\n",
    "$$\n",
    "\n",
    "es sencillo comprobar que $\\bar{\\Psi}(x) \\gamma^5 \\Psi(x)$ y $\\bar{\\Psi}(x) \\gamma^\\mu \\gamma^5 \\Psi(x)$ se transforman frente a boosts y rotaciones como un escalar y un vector respectivamente.\n"
   ]
  },
  {
   "cell_type": "markdown",
   "metadata": {},
   "source": [
    "Vamos a vér como se comportan con respecto a la inversión por paridad.\n",
    "\n",
    "Recordemos que la representación espinorial de la inversión de paridad es simplemente, $S(P) = \\gamma^0$.\n",
    "\n",
    "Apliquemos inversión de paridad a $\\bar{\\Psi}(x) \\Psi(x)$:\n",
    "\n",
    "$$\n",
    "\\bar{\\Psi}(x) \\Psi(x) \\to (S \\Psi(y))^\\dagger \\gamma^0 (S \\Psi(x)) = \\\\\n",
    "\\Psi^\\dagger(y) (\\gamma^0)^\\dagger \\gamma^0 \\gamma^0 \\Psi(y) = \\Psi^\\dagger(y) \\gamma^0 \\Psi(y) = \\bar{\\Psi}(y) \\Psi(y)\n",
    "$$\n",
    "\n",
    "donde $y = \\Lambda^{-1}x$. \n",
    "\n",
    "Por lo tanto $\\bar{\\Psi}(x) \\Psi(x)$ es un escalar bajo paridad."
   ]
  },
  {
   "cell_type": "markdown",
   "metadata": {},
   "source": [
    "Apliquemos inversión de paridad ahora a $\\Psi(x) \\gamma^5 \\Psi(x)$:\n",
    "\n",
    "$$\n",
    "\\bar{\\Psi}(x) \\gamma^5 \\Psi(x) \\to (S \\Psi(y))^\\dagger \\gamma^0 \\gamma^5 (S \\Psi(y)) = \\\\\n",
    "\\Psi^\\dagger(y) (\\gamma^0)^\\dagger \\gamma^0 \\gamma^5 \\gamma^0 \\Psi(y) = \n",
    "\\Psi^\\dagger(y) \\gamma^5 \\gamma^0 \\Psi(y) = \\\\\n",
    "- \\Psi^\\dagger(y) \\gamma^0 \\gamma^5 \\Psi(y) = - \\bar{\\Psi}(y) \\gamma^5 \\Psi(y)\n",
    "$$\n",
    "\n",
    "donde $y = \\Lambda^{-1}x$. \n",
    "\n",
    "Por lo tanto $\\Psi(x) \\gamma^5 \\Psi(x)$ es un pseudo-escalar bajo paridad."
   ]
  },
  {
   "cell_type": "markdown",
   "metadata": {},
   "source": [
    "Aplicamos inversión de paridad a la corriente $\\bar{\\Psi}(x) \\gamma^\\mu \\Psi(x)$:\n",
    "\n",
    "$$\n",
    "\\bar{\\Psi}(x) \\gamma^\\mu \\Psi(x) \\to (S \\Psi(y))^\\dagger \\gamma^0 \\gamma^\\mu (S \\Psi(y)) = \\\\\n",
    "\\Psi^\\dagger(y) (\\gamma^0)^\\dagger \\gamma^0 \\gamma^\\mu \\gamma^0 \\Psi(y) = \n",
    "\\Psi^\\dagger(y) \\gamma^\\mu  \\gamma^0 \\Psi(y) \n",
    "$$\n",
    "\n",
    "donde $y= \\Lambda^{-1}x$.\n",
    "\n",
    "para $\\mu = 0$\n",
    "\n",
    "$$\n",
    "(\\Psi^\\dagger(y) \\gamma^0)  \\gamma^0 \\Psi(y)  = \\bar{\\Psi}(y) \\gamma^0 \\Psi(y)\n",
    "$$\n",
    "\n",
    "para los índices espaciales, $k = 1, 2, 3$.\n",
    "\n",
    "$$\n",
    "\\Psi^\\dagger(y) \\gamma^k  \\gamma^0 \\Psi(y)  = - (\\Psi^\\dagger(y) \\gamma^0)  \\gamma^k \\Psi(y)  = - \\bar{\\Psi}(y) \\gamma^k \\Psi(y)\n",
    "$$"
   ]
  },
  {
   "cell_type": "markdown",
   "metadata": {},
   "source": [
    "\n",
    "Luego bajo paridad:\n",
    "\n",
    "$$\n",
    "\\bar{\\Psi}(x) \\gamma^\\mu \\Psi(x) = (\\bar{\\Psi}(x) \\gamma^0 \\Psi(x), \\bar{\\Psi}(x) \\gamma^k \\Psi(x)) \\to \\\\\n",
    "\\bar{\\Psi}'(x) \\gamma^\\mu \\Psi'(x) = (\\bar{\\Psi}(y) \\gamma^0 \\Psi(y), -\\bar{\\Psi}(y) \\gamma^k \\Psi(y))\n",
    "$$\n",
    "\n",
    "La componente temporal no cambia de signo, pero si las espaciales, que es justamente la operación de paridad sobre un cuadri-vector.\n",
    "\n",
    "Luego $\\Psi(x) \\gamma^\\mu\\Psi(x)$ es un vector bajo paridad."
   ]
  },
  {
   "cell_type": "markdown",
   "metadata": {},
   "source": [
    "Aplicamos ahora inversión de paridad a $\\bar{\\Psi}(x) \\gamma^\\mu \\gamma^5 \\Psi(x)$:\n",
    "\n",
    "$$\n",
    "\\bar{\\Psi}(x) \\gamma^\\mu \\gamma^5 \\Psi(x) \\to (S \\Psi(y))^\\dagger \\gamma^0 \\gamma^\\mu \\gamma^5 (S \\Psi(y)) = \\\\ \\Psi^\\dagger(y) (\\gamma^0)^\\dagger \\gamma^0 \\gamma^\\mu \\gamma^5 \\gamma^0 \\Psi(y) = \n",
    "\\Psi^\\dagger(y) \\gamma^\\mu \\gamma^5 \\gamma^0 \\Psi(y) = - \\Psi^\\dagger(y) \\gamma^\\mu \\gamma^0 \\gamma^5 \\Psi(y)\n",
    "$$\n",
    "\n",
    "Reencontramos la misma situación que antes, al intercambair $\\gamma^\\mu\\gamma^0 \\to \\gamma^0 \\gamma^\\mu$, la parte temporal no introduce cambio de signo $\\mu = 0$, pero si la espacial, $k = 1, 2, 3$. \n",
    "\n",
    "Así pues:\n",
    "\n",
    "$$\n",
    "\\bar{\\Psi}(x) \\gamma^\\mu \\gamma^5 \\Psi(x) = (\\bar{\\Psi}(x) \\gamma^0 \\gamma^5 \\Psi(x), \\bar{\\Psi}(x) \\gamma^k \\gamma^5 \\Psi(x)) \\to \\\\\n",
    "\\bar{\\Psi}'(x) \\gamma^\\mu \\gamma^5 \\Psi'(x) = (-\\bar{\\Psi}(y) \\gamma^0 \\gamma^5\\Psi(y), \\bar{\\Psi}(y) \\gamma^k \\gamma^5 \\Psi(y)) \\\\\n",
    "$$\n",
    "\n",
    "Cambia de signo la parte temporal pero no la espcial.\n",
    "\n",
    "Luego $\\Psi(x) \\gamma^\\mu \\gamma^5 \\Psi(x)$ se comporta como un vector axial bajo paridad.\n",
    "\n"
   ]
  },
  {
   "cell_type": "markdown",
   "metadata": {},
   "source": [
    "## Quiralidad\n",
    "\n",
    "La violación de paridad de las interacciones débiles está relacionada con una propiedad del espinor de Dirac, llamada quiralidad.\n",
    "\n",
    "Veremos que un espinor de Dirac puede descomponerse en dos espinores, que se llaman de quiralidad a izquierdas y derechas, tales que la inversión de paridad intercambia la quiralidad, la derecha por la izquierda y viceversa.\n",
    "\n",
    "Esto hace que una interacción que sea invariante por paridad, no hará distinción entre los dos quiralidades, pero una que sí lo haga, favorecerá o incluso suprimirá una quiralidad."
   ]
  },
  {
   "cell_type": "markdown",
   "metadata": {},
   "source": [
    "La quiralidad está ligada con la matriz $\\gamma^5$ que nos divide el espacio de espinores en dos, mediante los proyectores de quiralidad:\n",
    "\n",
    "$$\n",
    "P_L = \\frac{1}{2} (1-\\gamma^5), \\;\\;\\; P_R = \\frac{1}{2} (1+\\gamma^5)\n",
    "$$\n",
    "\n",
    "De tal forma que $\\Psi(x)$ se descompone en dos partes, a izquierdas y derechas.\n",
    "\n",
    "$$\n",
    "\\Psi_L(x) = P_L \\, \\Psi(x), \\;\\;\\, \\Psi_R(x) = P_R \\, \\Psi(x)\n",
    "$$"
   ]
  },
  {
   "cell_type": "markdown",
   "metadata": {},
   "source": [
    "Los proyectores son en realidad dos matrices que están actuado sobre la parte espinorial de $\\Psi(x)$.\n",
    "\n",
    "Esto es para los espinores de los fermiones, actuan sobre $u(p)$:\n",
    "\n",
    "$$\n",
    "u_L(p) = P_L \\, u(p), \\;\\;\\, u_R(p) = P_L \\, u(p)\n",
    "$$\n",
    "\n",
    "donde hemos eliminado el subíndice $s$ de los espinores $u_s(p)$ por simplicidad."
   ]
  },
  {
   "cell_type": "markdown",
   "metadata": {},
   "source": [
    "Vamos a comprobar que se trata de proyectores.\n",
    "\n",
    "Estos deben cumplir:\n",
    "\n",
    "$$\n",
    "P_R + P_L = I, \\;\\; P^2_R = P_R, \\;\\;, P^2_L = P_L, \\;\\; P_L P_R = P_R P_L = 0\n",
    "$$\n",
    "\n",
    "La primera es inmediata."
   ]
  },
  {
   "cell_type": "markdown",
   "metadata": {},
   "source": [
    "Comprobemos que $P^2_R = P_R$\n",
    "\n",
    "$$\n",
    "\\left[\\frac{1}{2} (1+\\gamma^5) \\right]^2 =\n",
    "\\frac{1}{4}(I + 2\\gamma^5 + (\\gamma^5)^2) = \\frac{1}{4}(I + 2\\gamma^5 + I) = \\frac{1}{2}(1+\\gamma^5)\n",
    "$$\n",
    "\n",
    "dado que $(\\gamma^5)^2 = I$.\n",
    "\n",
    "De igual manera obraríamos con $P^2_L = P_L$\n",
    "\n",
    "Y finalmente, $P_L \\, P_R = P_R \\, P_L = 0$:\n",
    "\n",
    "$$\n",
    "\\frac{1}{2}(1-\\gamma^5) \\frac{1}{2}(1+\\gamma^5) = \\frac{1}{4} (I-(\\gamma^5)^2) = 0\n",
    "$$\n"
   ]
  },
  {
   "cell_type": "markdown",
   "metadata": {},
   "source": [
    "Vamos a aplicar paridad sobre $u_L(p), \\; u_R(p)$, recordemos que la representación espinorial de la inversión por paridad es $S(P) = \\gamma^0$\n",
    "\n",
    "$$\n",
    "\\frac{1}{2}(1\\pm\\gamma^5) \\, u(p) \\to S(P) \\, \\frac{1}{2}(1 \\pm \\gamma^5) \\, u(E, -{\\bf p}) = \\\\\n",
    "\\gamma^0 \\, \\frac{1}{2}(1 \\pm \\gamma^5) \\, u(E, -{\\bf p}) = \\\\ \\frac{1}{2} (1 \\mp \\gamma^5) (\\gamma^0 \\, u(E, -{\\bf p})) = \\frac{1}{2}(1 \\mp \\gamma^5) u(p)\n",
    "$$\n",
    "\n",
    "Luego la inversión por paridad nos intercambia los espinores de quiralidad a derechas por izquierdas y viceversa:\n",
    "\n",
    "$$\n",
    "u_L(p) \\leftrightarrow u_R(p)\n",
    "$$\n"
   ]
  },
  {
   "cell_type": "markdown",
   "metadata": {},
   "source": [
    "Para los espinores de los antifermiones definimos la quiralidad de forma complementaria a la de los fermiones, esto es:\n",
    "\n",
    "$$\n",
    "v_R(p) =  P_L\\, v(p), \\;\\;\\; v_L(p) = P_R \\, v(p), \\;\\;\\; \n",
    "$$\n",
    "\n",
    "Igualmente la inversión por paridad intercambia sus quiralidades\n",
    "\n",
    "$$\n",
    "v_R(p) \\leftrightarrow v_L(p) \n",
    "$$"
   ]
  },
  {
   "cell_type": "markdown",
   "metadata": {},
   "source": [
    "Como $(\\gamma^5)^\\dagger = \\gamma^5$, los projectores no se ven afectados por la operación $\\dagger$:\n",
    "\n",
    "$$\n",
    "\\frac{1}{2}(1\\pm \\gamma^5)^\\dagger = \\frac{1}{2}(1\\pm \\gamma^5), \\;\\; P^\\dagger_{L/R} = P_{L/R}\n",
    "$$\n",
    "\n",
    "Mientras que el intercambio con $\\gamma^0$ intercambia los proyectores:\n",
    "\n",
    "$$\n",
    "\\gamma^0 \\, P_{L/R} = P_{R/L} \\, \\gamma^0\n",
    "$$"
   ]
  },
  {
   "cell_type": "markdown",
   "metadata": {},
   "source": [
    "Esto separa en dos las formas invariantes Lorentz\n",
    "\n",
    "Para la escalar:\n",
    "\n",
    "$$\n",
    "\\bar{u}(p) \\, u_L(p) = \\bar{u}(p) \\, P_L u_L(p) = (u^\\dagger(p) \\gamma^0) P_L \\, u_L(p) = \\\\ \n",
    "(u^\\dagger(p)  P_R \\gamma^0) \\, u_L(p) = \n",
    "(P_R u(p))^\\dagger \\gamma^0 u_L(p) = u^\\dagger_R(p) \\gamma^0 u_L(p) = \\bar{u}_R(p) u_L(p)\n",
    "$$\n",
    "\n",
    "Y de forma recíproca:\n",
    "\n",
    "$$\n",
    "\\bar{u}(p) \\, u_R(p) = \\bar{u}_L \\, u_R(p)\n",
    "$$\n",
    "\n",
    "Luego la forma escalar:\n",
    "\n",
    "$$\n",
    "\\bar{u}(p) \\, u(p) = \\bar{u}_R \\, u_L(p) + \\bar{u}_L \\, u_R(p)\n",
    "$$\n",
    "\n",
    "Se compone de dos partes donde las dos quiralidades se acoplan una a la otra. \n",
    "\n",
    "Esto implica que un término escalar en el Lagrangiano (el que estará asociado a la masa) exige la existencia de las dos quiralidades."
   ]
  },
  {
   "cell_type": "markdown",
   "metadata": {},
   "source": [
    "Recordando que $\\gamma^5\\gamma^\\mu = - \\gamma^\\mu\\gamma^5$, vemos que:\n",
    "\n",
    "$$\n",
    "\\gamma^\\mu \\, P_{L/R} = P_{R/L} \\gamma^\\mu\n",
    "$$\n",
    "\n",
    "el intercambio de lado de $\\gamma^\\mu$, intercambia los proyectores.\n",
    "\n",
    "Veamos ahora cómo queda la forma vectorial escrita en sus componentes de quiralidad.\n",
    "\n",
    "$$\n",
    "\\bar{u}(p) \\gamma^\\mu u_L(p) = \\bar{u}(p) \\gamma^\\mu P_L u_L(p) =  (u^\\dagger(p) \\gamma^0) \\gamma^\\mu P_L \\, u_L(p) = \\\\ \n",
    "u^\\dagger(p) \\gamma^0 P_R \\, \\gamma^\\mu \\, u_L(p) = (u^\\dagger(p) P_L) \\gamma^0 \\gamma^\\mu \\, u_L(p) = \\\\\n",
    "(P_L u(p))^\\dagger \\gamma^0 \\gamma^\\mu u_L(p) = (u^\\dagger_L(p) \\gamma^0) \\gamma^\\mu u_L(p) = \\bar{u}_L(p) \\gamma^\\mu u_L(p)\n",
    "$$\n",
    "\n",
    "De forma similar:\n",
    "\n",
    "$$\n",
    "\\bar{u}(p) \\gamma^\\mu u_R(p) = \\bar{u}_R(p) \\gamma^\\mu u_R(p)\n",
    "$$"
   ]
  },
  {
   "cell_type": "markdown",
   "metadata": {},
   "source": [
    "Así la forma vectorial queda:\n",
    "\n",
    "$$\n",
    "\\bar{u}(p) \\gamma^\\mu u(p) = \\bar{u}_R(p) \\gamma^\\mu u_R(p) + \\bar{u}_L(p) \\gamma^\\mu u_L(p)\n",
    "$$\n",
    "\n",
    "Esto es la corriente se divide en dos, una corriente de quiralidad a izquierdas y otra a derechas."
   ]
  },
  {
   "cell_type": "markdown",
   "metadata": {},
   "source": [
    "Podemos especificar los proyectores de quiralidad en la representación Pauli-Dirac:\n",
    "\n",
    "$$\n",
    "P_R = \\frac{1}{2}\\begin{pmatrix} I & I \\\\ I & I \\end{pmatrix}, \\;\\;\\;\n",
    "P_L = \\frac{1}{2}\\begin{pmatrix} I & -I \\\\ -I & I \\end{pmatrix},\n",
    "$$\n"
   ]
  },
  {
   "cell_type": "markdown",
   "metadata": {},
   "source": [
    "Si los aplicamos sobre los espinores de Dirac que son autoestados de helicidad. Recordémos que son:\n",
    "\n",
    "$$\n",
    "u_r(p) = N \\begin{pmatrix} \\chi_r(\\hat{\\bf v}) \\\\ \\lambda_s \\kappa \\, \\chi_r(\\hat{\\bf v}) \\end{pmatrix}, \\;\\;\\;\n",
    "v_r(p) = N \\begin{pmatrix} -\\lambda_s \\kappa \\, \\xi_r(\\hat{\\bf v}) \\\\ \\xi_r(\\hat{\\bf v}) \\end{pmatrix}, \\;\\;\\;\n",
    "$$\n",
    "\n",
    "donde $r = \\pm, \\, \\lambda_\\pm = \\pm 1$.\n",
    "\n"
   ]
  },
  {
   "cell_type": "markdown",
   "metadata": {},
   "source": [
    "Obtenemos:\n",
    "\n",
    "$$\n",
    "P_R u_\\pm(p) = \\frac{1}{2} (1 \\pm \\kappa) N \\begin{pmatrix} \\chi_\\pm(\\hat{\\bf v}) \\\\ \\chi_\\pm(\\hat{\\bf v}) \\end{pmatrix}, \\;\\;\\;\n",
    "P_L u_\\pm(p) = \\frac{1}{2} (1 \\mp \\kappa) N \\begin{pmatrix} \\chi_\\pm(\\hat{\\bf v}) \\\\ -\\chi_\\pm(\\hat{\\bf v}) \\end{pmatrix}, \\;\\;\\;\n",
    "$$\n",
    "\n",
    "Que podemos explicitar en la siguiente tabla:\n",
    "\n",
    "| helicidad $\\downarrow$ \\ quiralidad  $\\rightarrow$| --- R --- | --- L --- |\n",
    "| :--: | :--: | :--: | \n",
    "| + | $\\frac{1}{2}(1+\\kappa)$ | $\\frac{1}{2}(1-\\kappa)$ |\n",
    "| - | $\\frac{1}{2}(1-\\kappa)$ | $\\frac{1}{2}(1+\\kappa)$ |\n",
    "\n"
   ]
  },
  {
   "cell_type": "markdown",
   "metadata": {},
   "source": [
    "En el caso en el que la partícula es ultra-relativista $E \\gg m$ o sin masa, $m=0$, esto es, cuando $\\kappa = 1$\n",
    "\n",
    "En ese caso el espinor de helicidad negativa solo tiene componene de quiralidad a izquierdas. Y el espinor de helicidad positiva solo quiralidad a derechas.\n",
    "\n",
    "\n",
    "$$\n",
    "u_R(p) = u_+(p) = N \\begin{pmatrix} \\chi_+(\\hat{\\bf v}) \\\\ \\chi_+(\\hat{\\bf v}) \\end{pmatrix}, \\;\\;\\;\n",
    "u_L(p) = u_-(p) = N \\begin{pmatrix} \\chi_-(\\hat{\\bf v}) \\\\ -\\chi_-(\\hat{\\bf v}) \\end{pmatrix}, \\;\\;\\;\n",
    "$$\n",
    "\n",
    "solo cuando $\\kappa = 1$."
   ]
  },
  {
   "cell_type": "markdown",
   "metadata": {},
   "source": [
    "Que si explicitamos para el caso $\\hat{\\bf v} = \\hat{k}$, esto es, elegimos el eje $z$ como la dirección de movimiento de la partícula.\n",
    "\n",
    "y en el caso ultra-relativista, \n",
    "\n",
    "$$\n",
    "u_R(p) =  u_+(p) = \\sqrt{E} \\begin{pmatrix} 1 \\\\ 0 \\\\ 1  \\\\ 0 \\end{pmatrix}, \\;\\;\\;\n",
    "u_L(p) =  u_-(p) = \\sqrt{E} \\begin{pmatrix} 0 \\\\ 1 \\\\ 0  \\\\  -1 \\end{pmatrix}, \\;\\;\\;\n",
    "$$\n",
    "\n",
    "Donde, recordemos $N = \\sqrt{E + m } = \\sqrt{E}$\n"
   ]
  },
  {
   "cell_type": "markdown",
   "metadata": {},
   "source": [
    "Para los espinores de los antifermiones:\n",
    "\n",
    "$$\n",
    "v_R(p) = P_L v_\\pm(p) = \\frac{1}{2} (1 \\pm \\kappa)  N \\begin{pmatrix} - \\xi_\\pm(\\hat{\\bf v}) \\\\ \\xi_\\pm(\\hat{\\bf v}) \\end{pmatrix}, \\;\\;\\;\n",
    "v_L(p) = P_R v_\\pm(p) = \\frac{1}{2} (1 \\mp \\kappa)  N \\begin{pmatrix}  \\xi_\\pm(\\hat{\\bf v}) \\\\ \\xi_\\pm(\\hat{\\bf v}) \\end{pmatrix}, \\;\\;\\;\n",
    "$$\n",
    "\n",
    "que si explicitamos para el caso $\\hat{\\bf v} = \\hat{k}$ y en el caso ultra-relativista, \n",
    "\n",
    "$$\n",
    "v_R(p) =  P_L v_+(p) = \\sqrt{E} \\begin{pmatrix} 0 \\\\ -1 \\\\ 0  \\\\ 1 \\end{pmatrix}, \\;\\;\\;\n",
    "v_L(p) =  P_R v_-(p) = \\sqrt{E} \\begin{pmatrix} 1 \\\\ 0 \\\\ 1  \\\\  0 \\end{pmatrix}, \\;\\;\\;\n",
    "$$"
   ]
  }
 ],
 "metadata": {
  "anaconda-cloud": {},
  "celltoolbar": "Slideshow",
  "kernelspec": {
   "display_name": "Python 3",
   "language": "python",
   "name": "python3"
  },
  "language_info": {
   "codemirror_mode": {
    "name": "ipython",
    "version": 3
   },
   "file_extension": ".py",
   "mimetype": "text/x-python",
   "name": "python",
   "nbconvert_exporter": "python",
   "pygments_lexer": "ipython3",
   "version": "3.9.13"
  }
 },
 "nbformat": 4,
 "nbformat_minor": 4
}
