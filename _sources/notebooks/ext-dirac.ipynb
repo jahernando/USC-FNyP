{
 "cells": [
  {
   "cell_type": "markdown",
   "metadata": {
    "slideshow": {
     "slide_type": "slide"
    }
   },
   "source": [
    "# Extensión: La ecuación de Dirac"
   ]
  },
  {
   "cell_type": "code",
   "execution_count": 1,
   "metadata": {
    "slideshow": {
     "slide_type": "fragment"
    }
   },
   "outputs": [
    {
     "name": "stdout",
     "output_type": "stream",
     "text": [
      " Last version  Mon Nov 25 07:49:35 2024\n"
     ]
    }
   ],
   "source": [
    "import time\n",
    "print(' Last version ', time.asctime() )"
   ]
  },
  {
   "cell_type": "markdown",
   "metadata": {},
   "source": [
    "## Introducción\n",
    "\n",
    "En la presente extensión vamos a introducir con cierto detalle la ecuación de Dirac, los espinores de Dirac de fermiones y antifermiones, así como los conceptos fundamentales de espín, helicidad y chiralidad. También introduciremos el espinor adjunto y la corriente fermónica. Introduciremos también las otras formas bilineales.\n",
    "\n",
    "Todos ellos son conceptos fundamentales en Física de Partículas.\n",
    "\n",
    "Por otro lado la relación entre los espinores de Dirac y las transformación de Lorentz, *boost* y rotaciónes, así como también la inversión por paridad y carga, se tratan en las extensiones de [ext-trans-Lorentz].\n"
   ]
  },
  {
   "cell_type": "markdown",
   "metadata": {},
   "source": [
    "## Sobre la ecuación de Dirac\n",
    "\n",
    "Dirac propuso en los años 30 del siglo XX una ecuación que describe la dinámica de los fermiones libres.\n",
    "\n",
    "Construyó su ecuación de tal forma que fuera invariente Lorentz, apareciesen linealmente los operadores de energía y momento de la mecánica cuántica,  $\\hat{E} = i \\partial_0, \\; \\hat{p} = -i \\nabla$, y que contuviese implícitamente la ecuación de Einstein, $E = m^2 + p^2$.\n",
    "\n",
    "La solución de la ecuación de dirac, $\\Psi(x)$, contiene un nuevo tipo de objeto físico, un **espinor**, que describe los fermiones libres, partículas con un momento angular intrínseco o espín de $1/2$. $\\Psi(x)$ no es sólo una función de ondas, si no cuatro, puestas en forma de columna. Este nuevo objeto se transformará con una reglas específicas bajo transformaciones Lorentz, que veremos, se derivan de la invariancia Lorentz de la propia ecuación de Dirac. En particular un espinor bajo rotaciones regresa a a su forma original tras girar dos veces, $4\\pi$, esto es, un giro le afecta \"la mitad\", de ahí que su *espín* sea 1/2. "
   ]
  },
  {
   "cell_type": "markdown",
   "metadata": {},
   "source": [
    "Dos de las soluciones de Dirac tenían energía negativa. Dirac mismo propuso una interpretación muy iluminadora de su significado, indicando que las soluciones de energía negativa se correspondían con anti-partículas. Anti-partícula sería la *ausencia* de partícula, y por lo tanto tendría sus cargas opuestas. El descubrimiento del positrón supuso el espaldarazo de la existencia de las anti-partículas y de la ecuación de Dirac. \n",
    "\n",
    "Las cuatro soluciones indenpendientes de Dirac corresponden a un fermión y sus dos componentes de espín, por ejemplo el electrón con carga $-e$, y al anti-fermión, por ejemplo, el positrón, que tiene la cargas opuesta, $+e$, y sus dos componentes de espín. La ecuación de Dirac introduce de forma natural el **espín**, el momento angular intrínsico de una partícula, y a las **antipartículas**. ¡Todo un logro!\n",
    "\n",
    "En la ecuación aparecen ademas cuatro matrices, $\\gamma^\\mu$ con $\\mu = 0, 1, 2, 3$, iguales en todos los sistemas inerciales, que aunque admiten diversas representaciones, cumplen unas reglas de conmutación que permiten como un engranaje, al asociarlas al momento y la energía de la partícula, recuperar de nuevo la relación $E^2 = m^2 + p^2$. Podemos decir que las matrices $\\gamma$ asociadas con los operadores energía y momento están codificando, \"encriptando\", linealmente la famosa ecuación de Einstein."
   ]
  },
  {
   "cell_type": "markdown",
   "metadata": {},
   "source": [
    "La ecuación de Dirac es uno de los grandes logros de la Física Teórica, matemáticamente es de una simpleza sorprendente y al mismo tiempo de una riqueza física desbordante.\n",
    "\n",
    "En lo siguiente desvelaremos algunos de sus secretos e intentaremos asociarlos a los elementos fundamentales de las interacciones."
   ]
  },
  {
   "cell_type": "markdown",
   "metadata": {},
   "source": [
    "### Representación covariante de la ecuación de Dirac \n",
    "\n",
    "La representación covariante de la ecuación de Dirac es:\n",
    "\n",
    "$$\n",
    "(i \\gamma^\\mu \\partial_\\mu  - m) \\, \\Psi = 0.\n",
    "$$\n",
    "\n",
    "donde $\\partial_\\mu$ es la  **derivada covariante**:\n",
    "\n",
    "$$\n",
    "\\partial_\\mu = \\left( \\frac{\\partial}{\\partial t}, \\frac{\\partial}{\\partial x},  \n",
    "                \\frac{\\partial}{\\partial y}, \\frac{\\partial}{\\partial z}  \\right),\n",
    "$$\n",
    "\n",
    "y $\\gamma^\\mu$, con $\\mu = 0, 1, 2, 3$, son la matrices gamma.\n"
   ]
  },
  {
   "cell_type": "markdown",
   "metadata": {},
   "source": [
    "*Nota:* entendemos la contracción de índices en $\\mu$ como un sumatorio:\n",
    "\n",
    "$$\n",
    "\\gamma^\\mu \\, \\partial_\\mu \\equiv \\sum_{\\nu= 0}^{3} \\gamma^\\nu \\partial_\\nu\n",
    "$$\n",
    "\n",
    "En estos apuntes, y habitualmente en la literatura, los índices griegos, $\\mu, \\nu = 0, 1,2, 3$, estarán asociados a las componente temporales y especiales, meintras que los índices latinos, $i, j, k = 1, 2, 3$, representarán las componentes espaciales. En ambos caso si aparecen contraidos, implican un sumatorio."
   ]
  },
  {
   "cell_type": "markdown",
   "metadata": {},
   "source": [
    "#### Las matrices $\\gamma$\n",
    "\n",
    "Las matrices-$\\gamma$ cumplen:\n",
    "\n",
    "$$\n",
    "(\\gamma^0)^2 = I, \\; (\\gamma^k)^2 = - I, \\;\\; \\gamma^\\mu \\gamma^\\nu = - \\gamma^\\nu \\gamma^\\mu \\, (\\mu \\neq \\nu),\n",
    "$$\n",
    "\n",
    "con $k=1, 2, 3$, y $\\mu = 0, 1, 2, 3$.\n",
    "\n",
    "De forma equivalente, cumplen las siguientes relaciones de anti-conmutación: \n",
    "\n",
    "$$\n",
    "\\{ \\gamma^\\mu, \\gamma^\\nu \\} \\equiv \\gamma^\\mu \\gamma^\\nu + \\gamma^\\nu \\gamma^\\mu = 2 g^{\\mu\\nu}\n",
    "$$\n",
    "\n",
    "Donde $g_{\\mu\\nu}$ es la métrica de Minkowski.\n",
    "\n",
    "$$\n",
    "g_{\\mu\\nu} = \\begin{pmatrix} 1 & 0 & 0 & 0 \\\\ 0 & -1 & 0 & 0 \\\\ 0 & 0 & -1 & 0 \\\\ 0 & 0 & 0 & -1 \\end{pmatrix}\n",
    "$$"
   ]
  },
  {
   "cell_type": "markdown",
   "metadata": {},
   "source": [
    "Vamos a deducir estas reglas de conmutación a partir de la asociación de los operadores momento y energía con la derivas *lineal* en espacio y tiempo.\n",
    "\n",
    "Si hacemos la asociación habitual de mecánica cuántica:\n",
    "\n",
    "$$\n",
    "i\\partial_0 \\Psi(x) = E, \\;\\;\\; -i\\partial_i \\Psi(x) = p_i,\n",
    "$$\n",
    "\n",
    "y elevando al cuadro la ec. de Dirac, obtenemos:\n",
    "\n",
    "$$\n",
    "E - p^2 =  \\left(\\gamma^0 E - \\sum_k \\gamma^k p_k \\right) \\left(\\gamma^0 E - \\sum_i\\gamma^i p_i\\right) = \\\\\n",
    "(\\gamma^0)^2 E^2 + \\sum_k (\\gamma^k)^2 p^2_k +\\\\\n",
    " \\sum_{k, i, k \\neq 1}(\\gamma^k \\gamma^i + \\gamma^i \\gamma^k) p_k p_i -   \\sum_k(\\gamma^0 \\gamma^k + \\gamma^k \\gamma^0) E p_k\n",
    "$$\n",
    "\n",
    "con $k, i = 1, 2, 3$.\n",
    "\n",
    "*Nota:* A partir de ahora no explicitaremos los sumatorios."
   ]
  },
  {
   "cell_type": "markdown",
   "metadata": {},
   "source": [
    "Si asociamos término a término, concluimos:\n",
    "\n",
    "$$\n",
    "(\\gamma^0)^2 = I, \\;\\, (\\gamma^k)^2 = -I, \\;\\; \\\\\n",
    "\\{\\gamma^k, \\gamma^i\\} = 0, \\;\\; \\{\\gamma^0, \\gamma^k\\} = 0,\n",
    "$$\n",
    "\n",
    "con $ i \\neq k, \\;\\; i,k = 1, 2, 3$\n",
    "\n",
    "Esto es:\n",
    "\n",
    "$$\n",
    "\\{\\gamma^\\mu, \\gamma^\\nu\\} = 2 g^{\\mu\\nu},\n",
    "$$\n",
    "\n",
    "con $\\mu, \\nu = 0, 1, 2, 3.$"
   ]
  },
  {
   "cell_type": "markdown",
   "metadata": {},
   "source": [
    "Veamos además que la matrix $\\gamma^0$ es hermítica y las $\\gamma^k$ anti-hermíticas:\n",
    "\n",
    "$$\n",
    "\\gamma^{0\\dagger} = \\gamma^0, \\;\\; \\gamma^{k \\dagger} = - \\gamma^{k}\n",
    "$$\n",
    "\n",
    "Estas propiedades se derivan de que el hamiltoniano es hermítico, $H^\\dagger = H$, dado que sus autovalores debe ser reales.\n",
    "\n",
    "El Hamiltoniano de Dirac es:\n",
    "$$\n",
    "H = i \\partial_0 = \\gamma^0 (m -i \\gamma^k \\partial_k) \\\\ \n",
    "$$\n",
    "\n",
    "Si escribimos:\n",
    "$$\n",
    "E = \\gamma^0  m +  \\gamma^0 \\gamma^k p_k\\\\\n",
    "E = (\\gamma^0)^\\dagger m + (\\gamma^0 \\gamma^k)^\\dagger p_k, \\\\\n",
    "$$\n",
    "\n",
    "obtenemos:\n",
    "\n",
    "$$\n",
    "(\\gamma^0)^\\dagger = \\gamma^0; \\\\\n",
    "(\\gamma^0 \\gamma^k)^\\dagger =   \\gamma^0 \\gamma^k, \\;\\;  (\\gamma^k)^\\dagger \\gamma^0 =  \\gamma^0 \\gamma^k, \\\\\n",
    "(\\gamma^k)^\\dagger \\gamma^0 = - \\gamma^k \\gamma^0, (\\gamma^k)^\\dagger = \\gamma^k\n",
    "$$\n",
    "\n",
    "Esto es $\\gamma^0$ es una matriz hermítica y $\\gamma^k$, con $k = 1, 2, 3$, anti-hermítica."
   ]
  },
  {
   "cell_type": "markdown",
   "metadata": {},
   "source": [
    "#### Matrix $\\gamma^5$\n",
    "\n",
    "Vamos a introducir una quinta matriz, $\\gamma^5$, que va a estar muy relacionada con una propiedad que llamaremos *quiralidad* (ver al final del apéndice) y que juega un papel fundamental en la interacciones débiles.\n",
    "\n",
    "La matriz $\\gamma^5$ se define:\n",
    "\n",
    "$$\n",
    "\\gamma^5 \\equiv i \\gamma^0 \\gamma^1 \\gamma^2 \\gamma^3,\n",
    "$$\n",
    "\n",
    "Y tiene las siguientes propiedades:\n",
    "\n",
    "$$\n",
    "(\\gamma^5)^2 = I, \\;\\; \\gamma^{5\\dagger} = \\gamma^5, \\;\\; \\gamma^5\\gamma^\\mu = - \\gamma^\\mu \\gamma^5\n",
    "$$\n",
    "\n",
    "que se derivan de las propiedades de las matrices $\\gamma^\\mu$.\n",
    "\n",
    "*Cuestión:* Verifica las propiedades de $\\gamma^5$"
   ]
  },
  {
   "cell_type": "markdown",
   "metadata": {},
   "source": [
    "La matrices $\\gamma^\\mu$ adimiten diversas representaciones, la más común, que usaremos aquí, es la **representación de Pauli-Dirac**, dada por:\n",
    "\n",
    "$$\n",
    "\\gamma^0 = \\begin{pmatrix} I & 0 \\\\ 0 & -I \\end{pmatrix}, \\;\\;\n",
    "\\gamma^k = \\begin{pmatrix} 0 & \\sigma_k \\\\ -\\sigma_k & 0 \\end{pmatrix}, \\;\\;\n",
    "\\gamma^5 = \\begin{pmatrix} 0 & I \\\\ I & 0 \\end{pmatrix},\n",
    "$$\n",
    "\n",
    "donde $I$ es la matriz identidad $2\\times2$, y $\\sigma_k$ son las matrices de Pauli:\n",
    "\n",
    "$$\n",
    "\\sigma_1 = \\begin{pmatrix} 0 & 1 \\\\ 1 & 0 \\end{pmatrix}, \\;\\;\n",
    "\\sigma_2 = \\begin{pmatrix} 0 & -i \\\\ i & 0 \\end{pmatrix}, \\;\\;\n",
    "\\sigma_3 = \\begin{pmatrix} 1 & 0 \\\\ 0 & -1\\end{pmatrix}.\n",
    "$$\n",
    "\n",
    "que recordemos cumplen:\n",
    "\n",
    "$$\n",
    "\\{\\sigma_i, \\sigma_j\\} = \\delta_{ij}, \\;\\; [\\sigma_i, \\sigma_j] = 2i \\, \\epsilon_{ijk} \\sigma_k\n",
    "$$\n",
    "\n",
    "*Cuestión:* Comprueba que las $\\gamma^\\mu$ cumplen las reglas de conmutación y sus propiedades de hermicidad."
   ]
  },
  {
   "cell_type": "markdown",
   "metadata": {},
   "source": [
    "## El espinor adjunto, la norma y la corriente\n",
    "\n",
    "En mecánica cuántica nuestra función de ondas esta normalizada, toda transformación física preserva la norma. Además exite una corriente de probabilidad que cumple la ecuación de continuidad.\n",
    "\n",
    "Vamos a identificar ahora la norma y la corriente para los soluciones de la ec. de Dirac, pero para ello necesitamos introducir antes el espinor adjunto.\n"
   ]
  },
  {
   "cell_type": "markdown",
   "metadata": {},
   "source": [
    "### El espinor adjunto\n",
    "\n",
    "Definimos el espinor adjunto como:\n",
    "\n",
    "$$\n",
    "\\bar{\\Psi}(x) \\equiv \\Psi^\\dagger(x) \\gamma^0\n",
    "$$\n",
    "\n",
    "En la representación de Pauli-Dirac:\n",
    "\n",
    "$$\n",
    "\\bar{\\Psi}(x) = (\\psi^*_1(x), \\psi^*_2(x), -\\psi^*_3(x), -\\psi^*_4(x)),\n",
    "$$\n",
    "\n",
    "que tiene forma de vector fila."
   ]
  },
  {
   "cell_type": "markdown",
   "metadata": {},
   "source": [
    "### La ecuación de Dirac para el espinor adjunto\n",
    "\n",
    "\n",
    "La ec. de Dirac para el espinor adjunto se obtiene tras aplicar el transpuesto conjugado a la ec. de Dirac:\n",
    "\n",
    "$$\n",
    "- i \\partial_\\mu \\Psi^\\dagger \\, (\\gamma^\\mu)^\\dagger - m \\Psi^\\dagger = 0 \\\\\n",
    "$$\n",
    "\n",
    "si primero usamos $(\\gamma^0)^\\dagger = \\gamma^0, \\, (\\gamma^k)^\\dagger = - \\gamma^k$, luego multiplicamos por $\\gamma^0$ por la derecha, y aplicando $\\gamma^k\\gamma^0 = - \\gamma^0\\gamma^k$, obtenemos:\n",
    "\n",
    "$$\n",
    "-i\\partial_0 \\Psi^\\dagger \\gamma^0 + i \\partial_k \\Psi^\\dagger \\gamma^k - m \\Psi^\\dagger = 0 \\\\\n",
    "-i\\partial_0 \\Psi^\\dagger \\gamma^0 \\gamma^0 + i \\partial_k \\Psi^\\dagger \\gamma^k  \\gamma^0 - m \\Psi^\\dagger \\gamma^0 = 0 \\\\\n",
    "-i\\partial_0 \\Psi^\\dagger \\gamma^0 \\gamma^0 - i \\partial_k \\Psi^\\dagger \\gamma^0  \\gamma^k - m \\Psi^\\dagger \\gamma^0 = 0 \\\\\n",
    "-i\\partial_\\mu \\bar{\\Psi} \\gamma^\\mu - m \\bar{\\Psi}= 0 \\\\\n",
    "$$\n",
    "\n",
    "Finalmente:\n",
    "\n",
    "$$\n",
    "i\\partial_\\mu \\bar{\\Psi} \\, \\gamma^\\mu + m \\bar{\\Psi}= 0\n",
    "$$\n",
    "\n",
    "que es la ecuación de Dirac para el espinor adjunto.\n"
   ]
  },
  {
   "cell_type": "markdown",
   "metadata": {},
   "source": [
    "### Norma\n",
    "\n",
    "La norma asociada a las soluciones de la ecuación de dirac es:\n",
    "\n",
    "$$\n",
    "\\bar{\\Psi}(x)\\Psi(x)\n",
    "$$\n",
    "\n",
    "que se trata de un escalar Lorentz, preserva unitariedad (ver extensión]y cuyo valor (por convención) se toma como $2m$.\n"
   ]
  },
  {
   "cell_type": "markdown",
   "metadata": {},
   "source": [
    "### Corriente fermiónica de probabilidad\n",
    "\n",
    "La corriente de probabilidad fermiónica es:\n",
    "\n",
    "$$\n",
    "\\bar{\\Psi} \\gamma^\\mu \\Psi = (\\rho, {\\bf j})\n",
    "$$\n",
    "\n",
    "donde $\\rho$, es la densidad, y ${\\bf j}$ será el corriente de probabilidad del spinor de Dirac.\n",
    "\n",
    "Notar que los cuatro elementos de la corriente corresponden al valor de los índices de $\\mu$\n",
    "\n",
    "En la extensión [ext-trans-Lorentz] se demuestra que efecticamente la corriente se transforma como un vector bajo transformaciones de Lorentz. Veamos aquí que cumple la ecuación de conservación:\n",
    "\n",
    "$$\n",
    "\\frac{\\partial \\rho}{\\partial t} + \\nabla \\cdot {\\bf j} = 0.\n",
    "$$\n",
    "\n",
    "O en forma covariante:\n",
    "\n",
    "$$\n",
    "\\partial_\\mu j^\\mu = 0\n",
    "$$"
   ]
  },
  {
   "cell_type": "markdown",
   "metadata": {},
   "source": [
    "\n",
    "La densidad es:\n",
    "\n",
    "$$\n",
    "\\rho = \\bar{\\Psi} \\gamma^0 \\Psi = \\Psi^\\dagger \\Psi = \\sum_{\\mu = 0}^3 |\\psi_i|^2\n",
    "$$\n",
    "\n",
    "Podemos ver primero que la corriente se conserva, esto es que cumple la ecuación de conservación:\n",
    "\n",
    "\n",
    "Podemos comprobar que es cierto:\n",
    "\n",
    "$$\n",
    "\\partial_\\mu \\left(\\bar{\\Psi} \\gamma^\\mu \\Psi\\right) = (\\partial_\\mu \\bar{\\Psi}) \\gamma^\\mu \\Psi + \\bar{\\Psi} \\gamma^\\mu \\partial_\\mu\\Psi\n",
    "$$\n",
    "\n",
    "De las ecuaciones de Dirac del espinor y el espinor adjunto, tenemos que:\n",
    "\n",
    "$$\n",
    "\\partial_\\mu \\bar{\\Psi} \\gamma^\\mu = -i m \\bar{\\Psi}, \\;\\;\\; \\gamma^\\mu \\partial_\\mu \\Psi = +i m \\Psi\n",
    "$$\n",
    "\n",
    "Si sustituimos:\n",
    "\n",
    "$$\n",
    "(\\partial_\\mu \\bar{\\Psi} \\gamma^\\mu) \\Psi + \\bar{\\Psi} (\\gamma^\\mu \\partial_\\mu\\Psi) = (-i m \\bar{\\Psi}) \\Psi + \\bar{\\Psi} (i m \\Psi) = 0.\n",
    "$$\n",
    "\n",
    "Luego:\n",
    "\n",
    "$$\n",
    "\\partial_\\mu \\left(\\bar{\\Psi} \\gamma^\\mu \\Psi\\right) = 0, \\;\\; \\partial_\\mu j^\\mu = 0.\n",
    "$$\n",
    "\n",
    "Concluimos que $j^\\mu = \\bar{\\Psi} \\gamma^\\mu \\Psi$ es una corriente conservada, que llamaremos corriente fermiónica.\n"
   ]
  },
  {
   "cell_type": "markdown",
   "metadata": {},
   "source": [
    "## Soluciones de la ecuación de Dirac\n",
    "\n",
    "La solución de la ecuación de Dirac para un fermión libre, $\\Psi(x)$, es un **cuadri-spinor de Dirac**:\n",
    "\n",
    "$$\n",
    "\\Psi(x) = \\begin{pmatrix} \\psi_1(x) \\\\ \\psi_2(x) \\\\ \\psi_3(x) \\\\ \\psi_4(x)\\end{pmatrix},\n",
    "$$\n",
    "\n",
    "que tiene cuatro componentes, $\\psi_i(x)$ con $i=1, 4$, complejas en forma vector columna.\n",
    "\n",
    "Esto es, tiene cuatro soluciones complejas independientes."
   ]
  },
  {
   "cell_type": "markdown",
   "metadata": {},
   "source": [
    "Las cuatro soluciones se puede agrupar en dos: \n",
    "\n",
    "* las soluciones de los **fermiones**, $\\Psi_s(x)$, \n",
    "\n",
    "* y las de los **anti-fermiones**, $\\Phi_s(x)$,\n",
    "\n",
    "cada una con dos posibilidades de espín arriba y abajo, $s = 1, 2$ en una dirección.\n",
    "\n",
    "Las soluciones admiten, como veremos en breve, la expresión:\n",
    "\n",
    "$$\n",
    "\\Psi_s(x) = u_s(p) \\, e^{-i \\, x \\cdot p}, \\;\\;\\; \\Phi_s(x) = v_s(p) \\, e^{+i \\, x \\cdot p}.\n",
    "$$"
   ]
  },
  {
   "cell_type": "markdown",
   "metadata": {},
   "source": [
    "Que tiene dos partes,\n",
    "\n",
    "*  una parte de onda plana, $e^{\\mp i \\, x \\cdot p}$, que contiene toda la dependencia espacio-temporal, \n",
    "\n",
    "* y otra parte espinorial, 4 componentes puestas en forma columna, que corresponde al espinor del fermión $u_s(p)$ y del antifermión $v_s(p)$ con dos posibilidades de espín, $s= 1, 2$, que dependen sólo del cuadrimomento $p$.\n",
    "\n",
    "Vamos a posponer la discusión de qué significan las antipartículas, y vamos a obtener primero las soluciones de la ec. de Dirac."
   ]
  },
  {
   "cell_type": "markdown",
   "metadata": {},
   "source": [
    "### Espinores de los fermiones\n",
    "\n",
    "Las soluciones de los fermiones, $\\Psi_s(x) = u_s(x)\\, e^{-i \\, xp}$, tienen como energía:\n",
    "\n",
    "$$\n",
    "i \\partial_0 \\, \\Psi_s(x) = i \\partial_o \\, u_s(p) \\, e^{-i \\, xp} = u_s(p) \\, i \\partial_o \\, e^{-i \\, (Et - {\\bf p} \\cdot {\\bf x})}  =   \\\\ \n",
    "u_s(p) i (-Ei)\\, e^{-i\\, xp} = E  \\, u_s(p) \\, e^{-i\\, xp} = E \\, \\Psi_s(x)\n",
    "$$\n",
    "\n",
    "y componentes del momento:\n",
    "\n",
    "$$\n",
    "- i \\partial_k \\, \\Psi_s(x) = -i \\partial_k \\, u_s(p) \\, e^{-i \\, xp} = - i u_s(p) \\, \\partial_k \\, e^{-i \\, (Et - {\\bf p} \\cdot {\\bf x})} =  \\\\\n",
    " u_s(p) \\, (-i) (ip_k) \\, e^{-i\\, xp} = p_k \\,  u_s(p) \\, e^{-i\\, xp}  = p_k \\, \\Psi_s(x)\n",
    "$$"
   ]
  },
  {
   "cell_type": "markdown",
   "metadata": {},
   "source": [
    "A aplicar la ec. de Dirac sobre la solución $\\Psi(x)$ nos queda solo la ecuación de Dirac para el espinor, $u_s(p)$, que veremos solo depende de $p$:\n",
    "\n",
    "$$\n",
    "(i \\gamma^\\mu \\partial_\\mu - m ) \\, \\Psi_s(x) = 0, \\\\\n",
    "(i \\gamma^\\mu \\partial_\\mu - m ) \\, u_s(p) \\, e^{-i \\, xp } = 0, \\\\\n",
    "[i \\gamma^\\mu (-iE) + i \\gamma^k (i p_k) - m] \\, u_s(p) = 0 \\\\\n",
    "(\\gamma^0 E - p_k \\gamma^k - m) \\, u_s(p) = 0 \n",
    "$$\n",
    "\n",
    "donde $k = 1, 2, 3$, y los índices contraidos indican sumatorio. \n",
    "\n",
    "Esto es:\n",
    "\n",
    "$$\n",
    "(\\gamma^\\mu \\, p_\\mu - m) \\, u_s(p) = 0\n",
    "$$"
   ]
  },
  {
   "cell_type": "markdown",
   "metadata": {},
   "source": [
    "Notar que en esta notación, donde se baja el índice, $p_\\mu$ corresponde a:\n",
    "\n",
    "$$\n",
    "p_\\mu \\equiv g_{\\mu\\nu} \\, p^\\nu = \\begin{pmatrix} E \\\\ -{\\bf p} \\end{pmatrix}, \\;\\;\\;\n",
    "p^\\mu = \\begin{pmatrix} E \\\\ {\\bf p} \\end{pmatrix}\n",
    "$$\n",
    "\n",
    "Llamamos a $p_\\mu$ vector *covariante* y a $p^\\mu$ *contra-variante*."
   ]
  },
  {
   "cell_type": "markdown",
   "metadata": {},
   "source": [
    "Podemos dar las cuatro componentes del espinor $u_s(p)$ con dos bi-spinores, $u^a_s(p), \\, u^b_s(p)$, cada uno de ellos a su vez compuestos por dos componentes en vertical.\n",
    "\n",
    "$$\n",
    "u_s(p) \\equiv \\begin{pmatrix} u^a_s(p) \\\\ u^b_s(p) \\end{pmatrix} \n",
    "$$\n",
    "\n",
    "La ecuación de Dirac, en la representación Pauli-Dirac, sobre el espinor $u_s(p)$ queda:\n",
    "\n",
    "$$\n",
    "\\left[ E \\begin{pmatrix} I & 0 \\\\ 0 & -I \\end{pmatrix}  -\n",
    "       \\text{p} \\begin{pmatrix} 0 & \\hat{\\bf v} \\cdot \\vec{\\sigma} \\\\ -\\hat{\\bf v} \\cdot \\vec{\\sigma} & 0 \\end{pmatrix}\n",
    "       - m \\begin{pmatrix} I & 0 \\\\ 0 & I \\end{pmatrix} \\right]\n",
    "       \\begin{pmatrix} u^a_s(p) \\\\ u^b_s(p) \\end{pmatrix} = 0\n",
    "$$\n",
    "\n",
    "Donde estamos dando el momento ${\\bf p} = \\text{p} \\, \\hat{\\bf v}$, a partir del módulo del momento $\\text{p} = |{\\bf p}|$ y de su dirección $\\hat{\\bf v}$.\n"
   ]
  },
  {
   "cell_type": "markdown",
   "metadata": {},
   "source": [
    "Que nos da dos ecuaciones acopladas:\n",
    "\n",
    "$$\n",
    "+ E \\, u^a_s(p) - \\text{p} \\,  (\\hat{\\bf v} \\cdot \\vec{\\sigma}) \\, u^b_s(p) - m \\, u^a_s(p) = 0 \\\\\n",
    "- E \\, u^b_s(p) + \\text{p} \\,  (\\hat{\\bf v} \\cdot \\vec{\\sigma}) \\, u^a_s(p) - m \\, u^b_s(p) = 0 \n",
    "$$\n",
    "\n",
    "De la segunda, podemos dar el bi-espinor de abajo $u^b_s(p)$ en función del bi-espinor de arriba, $u^a_s(p)$:\n",
    "\n",
    "$$\n",
    "u^b_s(p) = \\frac{\\text{p}}{E+m} (\\hat{\\bf v} \\cdot \\vec{\\sigma}) \\, u^a_s(p)\n",
    "$$"
   ]
  },
  {
   "cell_type": "markdown",
   "metadata": {},
   "source": [
    "Si definimos el factor:\n",
    "\n",
    "$$\n",
    "\\kappa \\equiv \\frac{\\text{p}}{E+m}\n",
    "$$\n",
    "\n",
    "Observamos que toma el valor:\n",
    "\n",
    "\n",
    "* $\\kappa = 0$ para el caso de la partícula en reposo, $\\text{p} = 0$, \n",
    "\n",
    "* $\\kappa = 1$ para el caso de una partícula ultra-relativista $E \\gg m$ o sin masa, $m=0 \\, (\\text{p} = E)$.\n",
    "\n",
    "La relación entre los dos bi-espinores queda simplemente:\n",
    "\n",
    "$$\n",
    "u^b_s(p) = \\kappa \\, (\\hat{\\bf v} \\cdot \\vec{\\sigma}) \\, u^a_s(p)\n",
    "$$"
   ]
  },
  {
   "cell_type": "markdown",
   "metadata": {},
   "source": [
    "Podemos explicitar el factor $(\\hat{\\bf v} \\cdot \\vec{\\sigma})$, donde, recordemos, $\\hat{\\bf v}$ es la dirección unitaria del momento, ${\\bf p}$:\n",
    "\n",
    "$$\n",
    "(\\vec{\\sigma} \\cdot \\hat{\\bf v}) = \\begin{pmatrix} v_z & v_x - i v_y \\\\ v_x+iv_y & -v_z \\end{pmatrix} = \n",
    "\\begin{pmatrix} \\cos\\theta & \\sin\\theta e^{-i\\phi} \\\\ \\sin\\theta e^{i\\phi} & -\\cos\\theta \\end{pmatrix}\n",
    "$$\n",
    "\n",
    "Dejamos como ejercicio comprobar a partir de las propiedades de las matrices $\\sigma_i$, que:\n",
    "\n",
    "$$\n",
    "(\\vec{\\sigma} \\cdot \\hat{\\bf v})^2 = |{\\hat{\\bf v}}| \\, I = I\n",
    "$$\n"
   ]
  },
  {
   "cell_type": "markdown",
   "metadata": {},
   "source": [
    "Tomemos las posibilidades del bi-espinor de arriba, $u^a_s(p)$, con $s=1, 2$, como:\n",
    "\n",
    "$$\n",
    "\\chi_1 = \\begin{pmatrix} 1 \\\\ 0 \\end{pmatrix},\\;\\; \\chi_2 = \\begin{pmatrix} 0 \\\\ 1 \\end{pmatrix}\n",
    "$$\n",
    "\n",
    "que como veremos corresponde a un espinor con el espín alineado hacia arriba o abajo en $z$ respectivamente.\n",
    "\n",
    "Las dos soluciones de los espinores de los fermiones son:\n",
    "\n",
    "$$\n",
    "u_s(p) = N \\begin{pmatrix} \\chi_s \\\\ \\kappa \\,  (\\hat{\\bf v} \\cdot \\vec{\\sigma}) \\, \\chi_s \\end{pmatrix}\n",
    "$$\n",
    "\n",
    "Donde $N$ es una constante de normalización, cuyo origen es cinemático (ver apéndice), y que vale:\n",
    "\n",
    "$$\n",
    "N = \\sqrt{E + m}\n",
    "$$"
   ]
  },
  {
   "cell_type": "markdown",
   "metadata": {},
   "source": [
    "Para el caso de un fermión en reposo, los dos posibles espinores son:\n",
    "\n",
    "$$\n",
    "u_s(m) = \\sqrt{2m} \\begin{pmatrix} \\chi_s \\\\ 0 \\end{pmatrix} \n",
    "$$\n",
    "\n",
    "Que podemos explicitar:\n",
    "\n",
    "$$\n",
    "u_1(m) = \\sqrt{2m} \\begin{pmatrix} 1 \\\\ 0 \\\\ 0 \\\\ 0 \\end{pmatrix}, \\;\\; \n",
    "u_2(m) = \\sqrt{2m} \\begin{pmatrix} 0 \\\\ 1 \\\\ 0 \\\\ 0 \\end{pmatrix},  \n",
    "$$"
   ]
  },
  {
   "cell_type": "markdown",
   "metadata": {},
   "source": [
    "#### proyecciones de espín\n",
    "\n",
    "Introducimos ahora el operador **espín**, ${\\bf S}$:\n",
    "\n",
    "$$\n",
    "{\\bf S} \\equiv \\frac{1}{2} {\\bf \\Sigma}, \\;\\; \\Sigma_k \\equiv \\begin{pmatrix} \\sigma_k & 0 \\\\ 0 & \\sigma_k \\end{pmatrix}\n",
    "$$\n",
    "\n",
    "Comprobamos que la tercera componente de espín del espinor en reposo, $u_1(m)$ es hacia arriba, y de $u_2(m)$ hacia abajo:\n",
    "\n",
    "$$\n",
    "\\text{S}_3 \\, u_1(m)= \\frac{1}{2} \\Sigma_3 \\, u_1(m)= +\\frac{1}{2} \\, u_1(m) \\\\\n",
    "\\text{S}_3 \\, u_2(m)= \\frac{1}{2} \\Sigma_3 \\, u_2(m)= -\\frac{1}{2} \\, u_2(m) \\\\\n",
    "$$"
   ]
  },
  {
   "cell_type": "markdown",
   "metadata": {},
   "source": [
    "El espinor $u_s(p)$ de un fermión que se mueve en la dirección $z, (\\hat{\\bf v} = \\hat{k})$, con momento $\\text{p}$ es:\n",
    "\n",
    "$$\n",
    "u_s(p) = \\sqrt{E+m} \\begin{pmatrix} \\chi_s \\\\ \\kappa \\, \\sigma_3 \\, \\chi_s \\end{pmatrix};  \n",
    "$$\n",
    "\n",
    "Que podemos explicitar:\n",
    "\n",
    "$$\n",
    "u_1(p) = \\sqrt{E+m} \\begin{pmatrix} 1 \\\\ 0 \\\\ \\kappa \\\\ 0 \\end{pmatrix}, \\;\\; \n",
    "u_2(p) = \\sqrt{E+m} \\begin{pmatrix} 0 \\\\ 1 \\\\ 0 \\\\ - \\kappa \\end{pmatrix},  \n",
    "$$"
   ]
  },
  {
   "cell_type": "markdown",
   "metadata": {},
   "source": [
    "#### proyecciones de helicidad\n",
    "\n",
    "Definimos el operador **helicidad**, $h$, como la componente (o proyección) del espín en la dirección del momento:\n",
    "\n",
    "$$\n",
    "h = {\\bf S} \\cdot \\hat{\\bf v} = \\frac{1}{2}\n",
    "\\begin{pmatrix} (\\hat{\\bf v} \\cdot \\vec{\\sigma}) & 0 \\\\ 0 & (\\hat{\\bf v} \\cdot \\vec{\\sigma}) \\end{pmatrix}\n",
    "$$\n",
    "\n",
    "Para el caso de espinor $u_s(p)$ cuyo momento va en la dirección $z$, la tercera componente de espín y helicidad, por definición, coinciden, $\\text{S}_3 = h$. \n",
    "\n",
    "$$\n",
    "\\text{S}_3 \\, u_1(p) = +\\frac{1}{2} \\, u_1(p), \\;\\; h \\, u_1(p) = +\\frac{1}{2} \\, u_1(p), \\\\\n",
    "\\text{S}_3 \\, u_2(p) = -\\frac{1}{2} \\, u_2(p), \\;\\; h \\, u_2(p) = -\\frac{1}{2} \\, u_2(p), \\\\\n",
    "$$"
   ]
  },
  {
   "cell_type": "markdown",
   "metadata": {},
   "source": [
    "Los espinores $u_s(p)$ con el momento en la dirección $z$ son autoestados de helicidad, y podemos renombrarlos:\n",
    "\n",
    "$$\n",
    "u_+(p) = u_1(p), \\;\\; u_-(p) = u_2(p)\n",
    "$$\n",
    "\n",
    "Así:\n",
    "\n",
    "$$\n",
    "h \\, u_\\pm (p) = \\pm \\frac{1}{2}\\, u_\\pm(p)\n",
    "$$"
   ]
  },
  {
   "cell_type": "markdown",
   "metadata": {},
   "source": [
    "*Nota* El espinor $u_s(m)$ y $u_s(p)$ están relacionados entre sí. El espinor $u(p)$ corresponde al espinor en reposo, $u_s(m)$, después de hacerle un boost en $z$ con $\\beta \\, \\hat{\\bf v} =\\frac{\\bf p}{E}$. En la sección de transformaciones veremos cómo al aplicar un boost a un espinor."
   ]
  },
  {
   "cell_type": "markdown",
   "metadata": {},
   "source": [
    "### Espinores de los anti-fermiones\n",
    "\n",
    "Las soluciones de los anti-fermiones, $\\Phi_s(x) = v_s(x)\\, e^{+i \\, xp}$, tiene como energía:\n",
    "\n",
    "$$\n",
    "i \\partial_0 \\, \\Phi_s(x) = i \\partial_o \\, v_s(p) \\, e^{+i \\, xp} = i \\, v_s(p)\\,  \\partial_o \\, e^{+i \\, (Et - {\\bf p} \\cdot {\\bf x})} =  \\\\ \n",
    "v_s(p) \\, i \\, (+Ei) e^{+i\\, xp} = -E \\, v_s(p) \\,  e^{+i\\, xp}  = - E \\, \\Phi_(x)\n",
    "$$\n",
    "\n",
    "Esto es, ¡son autoestados de energía negativa!\n",
    "\n",
    "Y componentes del momento:\n",
    "\n",
    "$$\n",
    "- i \\partial_k \\, \\Phi(x) = -i \\partial_k \\, v_s(p) \\, e^{+i \\, xp} = v_s(p) \\, (-i) \\partial_k \\, e^{+i \\, (Et - {\\bf p} \\cdot {\\bf x})} =  \\\\ \n",
    "v_s(p) \\, (-i) (-i p_k) \\, e^{+i\\, xp} = - p_k \\, v_s(p) \\, e^{+i\\, xp}  = - p_k \\, \\Phi(x)\n",
    "$$\n",
    "\n",
    "¡están invertidas!"
   ]
  },
  {
   "cell_type": "markdown",
   "metadata": {},
   "source": [
    "#### Interpretación de las antipartículas\n",
    "\n",
    "Fue Feynman y Stückelberg quienes propusieron que las anti-partículas son \"partículas que van hacia atrás en el tiempo\".\n",
    "\n",
    "Con esta interpretación, la inversion temporal implica cambiar  $t \\to -t$, pero también ${\\bf p} \\to - {\\bf p}$, con lo que la fase asociada a $\\Psi_s(x)$ cambia:\n",
    "\n",
    "$$\n",
    "e^{+i(Et - {\\bf p} {\\bf x}) } \\to \\, e^{-i (E t - {\\bf p} \\cdot {\\bf x})}\n",
    "$$\n",
    "\n",
    "es ahora un función de ondas de una partícula.\n",
    "\n",
    "Notar que la parte espacio-temporal de la función de ondas cambia de signo, lo que recupera el signo adecuado de la energía y el momento. Veámoslo:\n",
    "\n",
    "$$\n",
    "i \\partial_0 \\, \\Phi_s(-t,{\\bf x}) = E \\, \\Phi_s(-t,{\\bf x}), \\;\\; -i \\partial_k \\, \\Phi_s(-t, {\\bf x}) = p_k \\, \\Phi_s(-t, {\\bf x})\n",
    "$$\n",
    "\n",
    "La anti-partícula proviene de una partícula que viaja \"hacia atrás en el tiempo\" y que tiene energía positiva.\n",
    "\n",
    "En esta visión, no solo cambia de signo la energía, sino también el momento y el espín, las cantidades que se inviertan an invertir el tiempo.\n",
    "\n",
    "La interpretación de las anti-partículas de la ecuación de Dirac es *controvertida*, y su sentido aparece de forma natural cuando se cuantifica el campo de Dirac, esto es, en teoría cuántica de campos.\n",
    "\n",
    "Tanto en TCQ como experimentalmente, la antipartícula es igual que su partícula en espín, masa, vida media pero con las cargas opuestas.\n"
   ]
  },
  {
   "cell_type": "markdown",
   "metadata": {},
   "source": [
    "#### Ecuación de dirac para el espinor de los anti-fermiones\n",
    "\n",
    "La ecuación de Dirac aplicada ahora sobre las soluciones de las antipartículas, $\\Phi_s(x)$, queda:\n",
    "\n",
    "$$\n",
    "(i\\gamma^\\mu \\partial_\\mu - m) \\, \\Phi_s(x) = 0 \\\\\n",
    "(i\\gamma^\\mu \\partial_\\mu - m) \\, v_s(p) \\, e^{+i \\, px} = 0 \\\\\n",
    "[i \\gamma^0 \\, (iE) + i \\gamma^k \\, (-ip_k) - m] \\, v_s(p) = 0 \\\\\n",
    "(-\\gamma^0 E + \\gamma^k p_k - m) \\, v_s(p) = 0\n",
    "$$\n",
    "\n",
    "que traduce en una ecuación para los espinores $v_s(p)$:\n",
    "\n",
    "$$\n",
    "(\\gamma^\\mu p_\\mu + m) \\, v_s(p) = 0\n",
    "$$\n",
    "\n",
    "donde en $p = (E, {\\bf p})$ tanto la energía como el momento son físicas, esto es $E >0$ y ${\\bf p}$ es el momento de la antipartícula."
   ]
  },
  {
   "cell_type": "markdown",
   "metadata": {},
   "source": [
    "Si escribimos $v_s(p)$ también con dos bi-spinores, $v^a_s(p), \\, v^b_s(p)$, cada uno a su vez con dos componentes en vertical.\n",
    "\n",
    "$$\n",
    "v_s(p) \\equiv \\begin{pmatrix} v^a_s(p) \\\\ v^b_s(p) \\end{pmatrix}, \n",
    "$$\n",
    "\n",
    "la ecuación de Dirac del espinor $v_s(p)$ en la representación Pauli-Dirac queda:\n",
    "\n",
    "$$\n",
    "\\left[ E \\begin{pmatrix} I & 0 \\\\ 0 & -I \\end{pmatrix}  -\n",
    "       \\text{p} \\begin{pmatrix} 0 & \\hat{\\bf v} \\cdot \\vec{\\sigma} \\\\ -\\hat{\\bf v} \\cdot \\vec{\\sigma} & 0 \\end{pmatrix}\n",
    "       + m \\begin{pmatrix} I & 0 \\\\ 0 & I \\end{pmatrix} \\right]\n",
    "       \\begin{pmatrix} v^a_s(p) \\\\ v^b_s(p) \\end{pmatrix} = 0\n",
    "$$\n",
    "\n",
    "Donde estamos dando el momento ${\\bf p} = \\text{p} \\, \\hat{\\bf v}$, a partir del módulo del momento $\\text{p} = |{\\bf p}|$ y de su dirección $\\hat{\\bf v}$.\n"
   ]
  },
  {
   "cell_type": "markdown",
   "metadata": {},
   "source": [
    "Obtenemos de nuevo dos ecuaciones acopladas\n",
    "\n",
    "$$\n",
    "+ E \\, v^a_s(p) - \\text{p} \\,  (\\hat{\\bf v} \\cdot \\vec{\\sigma}) \\, v^b_s(p) + m \\, v^a_s(p) = 0 \\\\\n",
    "- E \\, v^b_s(p) + \\text{p} \\,  (\\hat{\\bf v} \\cdot \\vec{\\sigma}) \\, v^a_s(p) + m \\, v^b_s(p) = 0 \n",
    "$$\n",
    "\n",
    "De la primera, podemos dar el bi-espinor de arriba $v^a_s(p)$ en función del de abajo, $v^a_s(p)$:\n",
    "\n",
    "$$\n",
    "v^a_s(p) = \\frac{\\text{p}}{E+m} (\\hat{\\bf v} \\cdot \\vec{\\sigma}) \\, v^b_s(p) \\\\\n",
    "v^a_s(p) = \\kappa \\, (\\hat{\\bf v} \\cdot \\vec{\\sigma}) \\, v^b_s(p)\n",
    "$$\n"
   ]
  },
  {
   "cell_type": "markdown",
   "metadata": {},
   "source": [
    "Tomamos las dos posibilidades del bi-espinor de abajo, $v^b_s(p), \\;\\; s = 1, 2$, como:\n",
    "\n",
    "$$\n",
    "\\xi_1 = \\begin{pmatrix} 0 \\\\ 1 \\end{pmatrix},\\;\\; \\xi_2 =  \\begin{pmatrix} 1 \\\\ 0 \\end{pmatrix}\n",
    "$$\n",
    "\n",
    "Los espinores de los fermiones son:\n",
    "\n",
    "$$\n",
    "v_s(p) = \\sqrt{E+m} \\begin{pmatrix} \\kappa \\,  (\\hat{\\bf v} \\cdot \\vec{\\sigma}) \\, \\xi_s \\\\ \\xi_s \\end{pmatrix}\n",
    "$$"
   ]
  },
  {
   "cell_type": "markdown",
   "metadata": {},
   "source": [
    "Para el caso de un anti-fermión en reposo:\n",
    "\n",
    "$$\n",
    "v_s(m) = \\sqrt{2m} \\begin{pmatrix} 0 \\\\ \\xi_s \\end{pmatrix} \n",
    "$$\n",
    "\n",
    "De forma explícita:\n",
    "\n",
    "$$\n",
    "v_1(m) = \\sqrt{2m} \\begin{pmatrix} 0 \\\\ 0 \\\\ 0 \\\\ 1 \\end{pmatrix}, \\;\\; \n",
    "v_2(m) = \\sqrt{2m} \\begin{pmatrix} 0 \\\\ 0 \\\\ 1 \\\\ 0 \\end{pmatrix},  \n",
    "$$"
   ]
  },
  {
   "cell_type": "markdown",
   "metadata": {},
   "source": [
    "En la imagen Feynman-Stückelberg en las que las antipartículas son partículas hacia atrás en el tiempo, la inversión temporal, implica también la inversión del momento angular.\n",
    "\n",
    "Así la tercera componente del espín del espinor $v_s(p)$ es:\n",
    "\n",
    "$$\n",
    "\\text{S}_3 \\, v_s(m) = - \\frac{1}{2} \\, \\Sigma_3 \\, v_s(m)\n",
    "$$\n",
    "\n",
    "Luego, $v_1(m)$ tiene tercera componente de espín $+1/2$ y $v_2(m)$, $-1/2$. \n",
    "\n",
    "$$\n",
    "\\text{S}_3 \\, v_1(m) = \\frac{1}{2} \\, v_1(m), \\;\\;\\; \\text{S}_3 \\, v_2(m) = - \\frac{1}{2} \\, v_2(m),\n",
    "$$\n"
   ]
  },
  {
   "cell_type": "markdown",
   "metadata": {},
   "source": [
    "El espinor de un anti-fermión que se mueve en la dirección $z, (\\hat{\\bf v} = \\hat{k})$, es:\n",
    "\n",
    "$$\n",
    "v_s(p) = \\sqrt{E+m} \\begin{pmatrix} \\kappa \\, \\sigma_3 \\, \\xi_s \\\\ \\xi_s \\end{pmatrix};  \n",
    "$$\n",
    "\n",
    "Que podemos explicitar:\n",
    "\n",
    "$$\n",
    "v_1(p) = \\sqrt{E+m} \\begin{pmatrix} 0 \\\\ -\\kappa \\\\ 0 \\\\ 1 \\end{pmatrix}, \\;\\; \n",
    "v_2(p) = \\sqrt{E+m} \\begin{pmatrix} \\kappa \\\\ 0 \\\\ 0 \\\\ 1 \\end{pmatrix},  \n",
    "$$"
   ]
  },
  {
   "cell_type": "markdown",
   "metadata": {},
   "source": [
    "En la interpretación Feynman-Stückelberg, la inversión temporal no afecta al operador helicidad, porque se produce un cambio de signo en el momento angular y el momento que se cancelan:\n",
    "\n",
    "$$\n",
    "h \\, v_s(p) =  \\frac{1}{2} ((-{\\bf \\Sigma}) \\cdot (- \\hat{\\bf v})) \\, v_s(p) = \\frac{1}{2} ({\\bf \\Sigma} \\cdot \\hat{\\bf v}) \\, v_s(p)\n",
    "$$\n",
    "\n",
    "Luego en este caso $v_+(p) = v_1(p)$ y $v_-(p) = v_2(p)$"
   ]
  },
  {
   "cell_type": "markdown",
   "metadata": {},
   "source": [
    "Así pues, las cuatro soluciones generales de la ecuación de Dirac son:\n",
    "\n",
    "$$\n",
    "\\Psi_s(x) = \\sqrt{E+m} \\begin{pmatrix} \\chi_s \\\\ \\kappa \\, (\\hat{\\bf v} \\cdot \\vec{\\sigma}) \\chi_s \\end{pmatrix} \\, e^{-i \\, px}; \\\\\n",
    "\\Phi_s(x) = \\sqrt{E+m} \\begin{pmatrix} \\kappa \\,  (\\hat{\\bf v} \\cdot \\vec{\\sigma}) \\, \\xi_s \\\\ \\xi_s \\end{pmatrix}\n",
    "\\, e^{+i \\, px},\n",
    "$$\n",
    "\n",
    "donde $s = 1, 2$."
   ]
  },
  {
   "cell_type": "markdown",
   "metadata": {},
   "source": [
    "### Soluciones autoestados de helicidad\n",
    "\n",
    "El operador helicidad corresponde por definición a la componente del espín en la dirección del movimiento, $\\hat{\\bf v}$. De ahí que en el caso de una partícula moviéndose en $z$, la componente $z$ del espín y la helicidad coincidan.\n",
    "\n",
    "Nos podemos preguntar ahora cuáles son las soluciones de la ec. de Dirac que son a su vez autoestados de helicidad, esto es que tienen su espín alineado con el momento.\n",
    "\n",
    "Los autovalores de helicidad, como los de tercera componete de spín, son $\\pm 1/2$. \n",
    "\n",
    "$$\n",
    "h \\, u_s(p) = \\pm \\frac{1}{2} u_s(p)\n",
    "$$"
   ]
  },
  {
   "cell_type": "markdown",
   "metadata": {},
   "source": [
    "Lo que se traduce:\n",
    "\n",
    "$$\n",
    "\\frac{1}{2} \\begin{pmatrix} (\\vec{\\sigma} \\cdot \\hat{\\bf v}) & 0 \\\\ 0  & (\\vec{\\sigma} \\cdot \\hat{\\bf v}) \\end{pmatrix} \\, \n",
    "\\begin{pmatrix} \\chi_r \\\\ \\kappa (\\vec{\\sigma} \\cdot \\hat{\\bf v}) \\chi_r  \\end{pmatrix} = \\pm \\frac{1}{2} \\, \\begin{pmatrix} \\chi_r \\\\  \\kappa (\\vec{\\sigma} \\cdot \\hat{\\bf v}) \\chi_r\\end{pmatrix}\n",
    "$$\n",
    "\n",
    "Que se traduce en dos ecuaciones, pero la segunda es una identidad si se cumple la primera:\n",
    "\n",
    "$$\n",
    "(\\sigma \\cdot \\hat{\\bf v}) \\, \\chi_r(\\hat{\\bf v}) =  \\pm \\, \\chi_r(\\hat{\\bf v}) \\\\\n",
    "\\kappa \\, (\\sigma \\cdot \\hat{\\bf v}) \\left[ (\\sigma \\cdot \\hat{\\bf v}) \\, \\chi_r(\\hat{\\bf v}) \\right]=  \\pm \\kappa \\, (\\sigma \\cdot \\hat{\\bf v}) \\, \\chi_r(\\hat{\\bf v})\n",
    "$$\n",
    "\n"
   ]
  },
  {
   "cell_type": "markdown",
   "metadata": {},
   "source": [
    "Vamos a encontrar pues el bi-espinor, $\\chi_r(\\hat{\\bf v})$, que cumple\n",
    "\n",
    "$$\n",
    "(\\sigma \\cdot \\hat{\\bf v}) \\, \\chi_r(\\hat{\\bf v}) =  \\pm \\, \\chi_r(\\hat{\\bf v})\n",
    "$$\n",
    "\n",
    "que vemos que depende ahora de $\\hat{\\bf v}$. "
   ]
  },
  {
   "cell_type": "markdown",
   "metadata": {},
   "source": [
    "Si escribimos explícitamente:\n",
    "\n",
    "$$\n",
    "(\\vec{\\sigma} \\cdot \\hat{\\bf v}) = \\begin{pmatrix} v_z & v_x - i v_y \\\\ v_x+iv_y & -v_z \\end{pmatrix} = \n",
    "\\begin{pmatrix} \\cos\\theta & \\sin\\theta e^{-i\\phi} \\\\ \\sin\\theta e^{i\\phi} & -\\cos\\theta \\end{pmatrix}\n",
    "$$\n",
    "\n",
    "La condición de las dos componentes $a, b$ de $\\chi_r(\\hat{\\bf v})$ es:\n",
    "\n",
    "$$\n",
    "\\begin{pmatrix} \\cos\\theta & \\sin\\theta e^{-i\\phi} \\\\ \\sin\\theta e^{i\\phi} & -\\cos\\theta \\end{pmatrix}\n",
    "\\begin{pmatrix} a \\\\ b \\end{pmatrix} = \n",
    "\\pm \\begin{pmatrix} a \\\\ b \\end{pmatrix}\n",
    "$$\n",
    "\n"
   ]
  },
  {
   "cell_type": "markdown",
   "metadata": {},
   "source": [
    "Esto es, con $\\lambda = \\pm 1$:\n",
    "\n",
    "$$\n",
    "a \\cos \\theta + b \\sin \\theta e^{-i\\phi}  = \\lambda \\, a, \\\\\n",
    "b \\sin \\theta e^{-i\\phi}  = (\\lambda -  \\cos\\theta) \\, a \\\\\n",
    "$$\n",
    "\n",
    "Por lo tanto, las componentes $a, b$ cumplen:\n",
    "\n",
    "$$\n",
    "\\frac{b}{a} = \\frac{\\lambda -\\cos \\theta}{\\sin\\theta} e^{i\\phi}\n",
    "$$\n"
   ]
  },
  {
   "cell_type": "markdown",
   "metadata": {
    "slideshow": {
     "slide_type": "slide"
    }
   },
   "source": [
    "Para el caso de helicidad positiva $\\lambda = +1$, obtenemos:\n",
    "\n",
    "$$\n",
    "\\frac{b}{a} = \\frac{\\lambda -\\cos \\theta}{\\sin\\theta} e^{i\\phi} = e^{i\\phi} \\tan \\frac{\\theta}{2}\n",
    "$$\n",
    "\n",
    "Resolviendo también para $\\lambda = -1$, imponiendo que tienen norma unidad, y haciendo uso que sin pérdida de generalidad podemos tomar la componente de arriba, $a$, como real, los bi-espinores quedan:\n",
    "\n",
    "$$\n",
    "\\chi_+(\\hat{\\bf v}) = \\begin{pmatrix} \\cos \\frac{\\theta}{2} \\\\ e^{i\\phi}\\sin \\frac{\\theta}{2}\\end{pmatrix}, \\;\\;\\;\n",
    "\\chi_-(\\hat{\\bf v}) = \\begin{pmatrix} -\\sin \\frac{\\theta}{2} \\\\ e^{i\\phi}\\cos \\frac{\\theta}{2}\\end{pmatrix}, \\;\\;\\;\n",
    "$$\n",
    "\n"
   ]
  },
  {
   "cell_type": "markdown",
   "metadata": {},
   "source": [
    "Notar que el bi-espinor definido antes, $\\chi_s$,  es simplemente $\\chi_r(\\hat{k})$, que corresponde a seleccionar como dirección $\\hat{\\bf v} = \\hat{k}$."
   ]
  },
  {
   "cell_type": "markdown",
   "metadata": {},
   "source": [
    "De forma similar, los bi-espinores de los anti-fermiones que son autoestados de helicidad quedan:\n",
    "\n",
    "$$\n",
    "\\xi_+(\\hat{\\bf v}) = \\begin{pmatrix} -\\sin \\frac{\\theta}{2} \\\\ e^{i\\phi}\\cos \\frac{\\theta}{2}\\end{pmatrix}, \\;\\;\\;\n",
    "\\xi_-(\\hat{\\bf v}) = \\begin{pmatrix} \\cos \\frac{\\theta}{2} \\\\ e^{i\\phi}\\sin \\frac{\\theta}{2}\\end{pmatrix}, \\;\\;\\;\n",
    "$$\n",
    "\n",
    "Así pues, los espinores autoestados de helicidad que son soluciones de la ec. de Dirac son entonces:\n",
    "\n",
    "$$\n",
    "u_r(p) = \\begin{pmatrix} \\chi_r(\\hat{\\bf v}) \\\\ \\lambda_r \\kappa \\, \\chi_r(\\hat{\\bf v}) \\end{pmatrix}, \\;\\;\\;\n",
    "v_r(p) = \\begin{pmatrix} -\\lambda_r \\kappa \\, \\xi_r(\\hat{\\bf v}) \\\\ \\xi_r(\\hat{\\bf v}) \\end{pmatrix}, \\;\\;\\;\n",
    "$$\n",
    "\n",
    "donde $r = \\pm, \\, \\lambda_\\pm = \\pm$.\n"
   ]
  },
  {
   "cell_type": "markdown",
   "metadata": {},
   "source": [
    "Si reescribimos explícitamente los espinores de helicidad en la dirección $z$, ($\\theta = \\phi = 0$), volvemos a obtener:\n",
    "\n",
    "$$\n",
    "u_{+}(p) = N \\begin{pmatrix} 1 \\\\ 0 \\\\ \\kappa  \\\\ 0 \\end{pmatrix}, \\;\n",
    "u_{-}(p) = N \\begin{pmatrix} 0 \\\\ 1 \\\\ 0 \\\\ -\\kappa \\end{pmatrix}, \\;\n",
    "v_{+}(p) = N \\begin{pmatrix} 0  \\\\ -\\kappa \\\\ 0 \\\\ 1 \\end{pmatrix}, \\;\n",
    "v_{-}(p) = N \\begin{pmatrix} \\kappa  \\\\ 0 \\\\ 1 \\\\ 0 \\end{pmatrix}. \n",
    "$$\n",
    "\n",
    "con el factor de normalización $N = \\sqrt{E+m}$"
   ]
  },
  {
   "cell_type": "markdown",
   "metadata": {
    "slideshow": {
     "slide_type": "slide"
    }
   },
   "source": [
    "Los espinores de quiralidad se suelen representar de forma gráfica con la siguientes figuras:\n",
    "\n",
    "| |\n",
    "|:--:|\n",
    "|<img src=\"./imgs/dirac_spinors_helicities.png\" width = 400 align=\"center\">|\n",
    "| spín (flecha azul) y momento (negra) de los spinores de helicidad|\n",
    "\n",
    "$u_\\pm(p), v_\\pm(p)$ son los espinores de las partículas y antipartículas respectivamente.\n",
    "\n",
    "$u_{+}(p), v_{+}(p)$ son espinores de **helicidad positiva** (el espín tiene el mismo sentido que el momento).\n",
    "\n",
    "$u_{-}(p), v_{-}(p)$ tienen **helicidad negativa** (el spín y momento tienen sentido opuesto).\n",
    "\n"
   ]
  },
  {
   "cell_type": "markdown",
   "metadata": {},
   "source": [
    "*Nota*: Podemos reinterpretar el espinor $u_+(p)$ como aquel que se obtiene de rotar un espinor inicialmente en $u_1(p)$, con su espín alineado en la dirección hacia arriba en $z$, hasta situar su espín alineado con $\\hat{\\bf v}$, con la dirección y sentido del momento, ${\\bf p}$.\n",
    "\n",
    "En la sección sobre transformaciones Lorentz, trataremos de nuevo la rotación del espinor."
   ]
  },
  {
   "cell_type": "markdown",
   "metadata": {},
   "source": [
    "## Quiralidad\n",
    "\n",
    "La violación de paridad de las interacciones débiles está relacionada con una propiedad del espinor de Dirac, llamada quiralidad.\n",
    "\n",
    "Decimos que un espinor tiene quiralidad a derechas o izquierdas si es autoestado de $\\gamma^5$ con autovalores +1 y -1 respectivamente. Esto es:\n",
    "\n",
    "$$\n",
    "\\gamma^5 \\, u_R = + u_R, \\;\\;\\; \\gamma^5 \\, u_L = - u_L\n",
    "$$\n",
    "\n",
    "La quiralidad es una propiedad *matemática* que no tiene un equivalente simple físico. Contrariamente a la helicidad, que si tiene un equivalente físico: la proyección del espín en la dirección el momento.\n",
    "\n",
    "Veremos que un espinor de Dirac puede descomponerse en un espinor de quiralidad a izquierdas y otro a derechas, tales que la inversión de paridad intercambia la quiralidad, la derecha por la izquierda y viceversa.\n",
    "\n",
    "Esto hace que una interacción que sea invariante por paridad, no hará distinción entre los dos quiralidades, pero una que sí lo haga, favorecerá o incluso suprimirá una quiralidad."
   ]
  },
  {
   "cell_type": "markdown",
   "metadata": {},
   "source": [
    "Los proyectores de quiralidad son:\n",
    "\n",
    "$$\n",
    "P_L = \\frac{1}{2} (1-\\gamma^5), \\;\\;\\; P_R = \\frac{1}{2} (1+\\gamma^5)\n",
    "$$\n",
    "\n",
    "De tal forma que $\\Psi(x)$ se descompone en dos partes, a izquierdas y derechas.\n",
    "\n",
    "$$\n",
    "\\Psi_L(x) = P_L \\, \\Psi(x), \\;\\;\\, \\Psi_R(x) = P_R \\, \\Psi(x)\n",
    "$$\n",
    "\n",
    "Los proyectores son en realidad dos matrices que están actuado sobre la parte espinorial de $\\Psi(x)$.\n",
    "\n",
    "\n",
    "Vemos que efectivamene un espinor de quiralidad a derechas o izquierdas cumple:\n",
    "\n",
    "$$\n",
    "\\gamma^5 u_R = + u_R \\Rightarrow P_R \\,u_R = \\frac{1}{2}(1+\\gamma^5) \\, u_R = u_R, \n",
    "$$\n",
    "$$\n",
    "\\gamma^5 u_L = - u_L \\Rightarrow P_L \\,u_L = \\frac{1}{2}(1-\\gamma^5) \\, u_L = u_L. \n",
    "$$"
   ]
  },
  {
   "cell_type": "markdown",
   "metadata": {},
   "source": [
    "\n",
    "Esto es para los espinores de los fermiones, actuan sobre $u(p)$:\n",
    "\n",
    "$$\n",
    "u_L(p) = P_L \\, u(p), \\;\\;\\, u_R(p) = P_L \\, u(p)\n",
    "$$\n",
    "\n",
    "donde hemos eliminado el subíndice $s$ de los espinores $u_s(p)$ por simplicidad."
   ]
  },
  {
   "cell_type": "markdown",
   "metadata": {},
   "source": [
    "Vamos a comprobar que se trata de proyectores.\n",
    "\n",
    "Estos deben cumplir:\n",
    "\n",
    "$$\n",
    "P_R + P_L = I, \\;\\; P^2_R = P_R, \\;\\;, P^2_L = P_L, \\;\\; P_L P_R = P_R P_L = 0\n",
    "$$\n",
    "\n",
    "La primera es inmediata."
   ]
  },
  {
   "cell_type": "markdown",
   "metadata": {},
   "source": [
    "Comprobemos que $P^2_R = P_R$\n",
    "\n",
    "$$\n",
    "\\left[\\frac{1}{2} (1+\\gamma^5) \\right]^2 =\n",
    "\\frac{1}{4}(I + 2\\gamma^5 + (\\gamma^5)^2) = \\frac{1}{4}(I + 2\\gamma^5 + I) = \\frac{1}{2}(1+\\gamma^5)\n",
    "$$\n",
    "\n",
    "dado que $(\\gamma^5)^2 = I$.\n",
    "\n",
    "De igual manera obraríamos con $P^2_L = P_L$\n",
    "\n",
    "Y finalmente, $P_L \\, P_R = P_R \\, P_L = 0$:\n",
    "\n",
    "$$\n",
    "\\frac{1}{2}(1-\\gamma^5) \\frac{1}{2}(1+\\gamma^5) = \\frac{1}{4} (I-(\\gamma^5)^2) = 0\n",
    "$$\n"
   ]
  },
  {
   "cell_type": "markdown",
   "metadata": {},
   "source": [
    "Vamos a aplicar paridad sobre $u_L(p), \\; u_R(p)$, recordemos que la representación espinorial de la inversión por paridad es $S(P) = \\gamma^0$\n",
    "\n",
    "$$\n",
    "\\frac{1}{2}(1\\pm\\gamma^5) \\, u(p) \\to S(P) \\, \\frac{1}{2}(1 \\pm \\gamma^5) \\, u(E, -{\\bf p}) = \\\\\n",
    "\\gamma^0 \\, \\frac{1}{2}(1 \\pm \\gamma^5) \\, u(E, -{\\bf p}) = \\\\ \\frac{1}{2} (1 \\mp \\gamma^5) (\\gamma^0 \\, u(E, -{\\bf p})) = \\frac{1}{2}(1 \\mp \\gamma^5) u(p)\n",
    "$$\n",
    "\n",
    "Luego la inversión por paridad nos intercambia los espinores de quiralidad a derechas por izquierdas y viceversa:\n",
    "\n",
    "$$\n",
    "u_L(p) \\leftrightarrow u_R(p)\n",
    "$$\n"
   ]
  },
  {
   "cell_type": "markdown",
   "metadata": {},
   "source": [
    "Para los espinores de los antifermiones definimos la quiralidad de forma complementaria a la de los fermiones, esto es:\n",
    "\n",
    "$$\n",
    "v_R(p) =  P_L\\, v(p), \\;\\;\\; v_L(p) = P_R \\, v(p), \\;\\;\\; \n",
    "$$\n",
    "\n",
    "Igualmente la inversión por paridad intercambia sus quiralidades\n",
    "\n",
    "$$\n",
    "v_R(p) \\leftrightarrow v_L(p) \n",
    "$$"
   ]
  },
  {
   "cell_type": "markdown",
   "metadata": {},
   "source": [
    "### Las espinores en su expresión quiral\n",
    "\n",
    "Si los aplicamos sobre los espinores de Dirac que son autoestados de helicidad. Recordémos que son:\n",
    "\n",
    "$$\n",
    "u_r(p) = N \\begin{pmatrix} \\chi_r(\\hat{\\bf v}) \\\\ \\lambda_s \\kappa \\, \\chi_r(\\hat{\\bf v}) \\end{pmatrix}, \\;\\;\\;\n",
    "v_r(p) = N \\begin{pmatrix} -\\lambda_s \\kappa \\, \\xi_r(\\hat{\\bf v}) \\\\ \\xi_r(\\hat{\\bf v}) \\end{pmatrix}, \\;\\;\\;\n",
    "$$\n",
    "\n",
    "donde $r = \\pm, \\, \\lambda_\\pm = \\pm 1$.\n",
    "\n"
   ]
  },
  {
   "cell_type": "markdown",
   "metadata": {},
   "source": [
    "Obtenemos:\n",
    "\n",
    "$$\n",
    "P_R u_\\pm(p) = \\frac{1}{2} (1 \\pm \\kappa) N \\begin{pmatrix} \\chi_\\pm(\\hat{\\bf v}) \\\\ \\chi_\\pm(\\hat{\\bf v}) \\end{pmatrix}, \\;\\;\\;\n",
    "P_L u_\\pm(p) = \\frac{1}{2} (1 \\mp \\kappa) N \\begin{pmatrix} \\chi_\\pm(\\hat{\\bf v}) \\\\ -\\chi_\\pm(\\hat{\\bf v}) \\end{pmatrix}, \\;\\;\\;\n",
    "$$\n",
    "\n",
    "Que podemos explicitar en la siguiente tabla:\n",
    "\n",
    "| helicidad $\\downarrow$ \\ quiralidad  $\\rightarrow$| --- R --- | --- L --- |\n",
    "| :--: | :--: | :--: | \n",
    "| + | $\\frac{1}{2}(1+\\kappa)$ | $\\frac{1}{2}(1-\\kappa)$ |\n",
    "| - | $\\frac{1}{2}(1-\\kappa)$ | $\\frac{1}{2}(1+\\kappa)$ |\n",
    "\n"
   ]
  },
  {
   "cell_type": "markdown",
   "metadata": {},
   "source": [
    "En el caso en el que la partícula es ultra-relativista $E \\gg m$ o sin masa, $m=0$, esto es, cuando $\\kappa = 1$\n",
    "\n",
    "En ese caso el espinor de helicidad negativa solo tiene componene de quiralidad a izquierdas. Y el espinor de helicidad positiva solo quiralidad a derechas.\n",
    "\n",
    "\n",
    "$$\n",
    "u_R(p) = u_+(p) = N \\begin{pmatrix} \\chi_+(\\hat{\\bf v}) \\\\ \\chi_+(\\hat{\\bf v}) \\end{pmatrix}, \\;\\;\\;\n",
    "u_L(p) = u_-(p) = N \\begin{pmatrix} \\chi_-(\\hat{\\bf v}) \\\\ -\\chi_-(\\hat{\\bf v}) \\end{pmatrix}, \\;\\;\\;\n",
    "$$\n",
    "\n",
    "solo cuando $\\kappa = 1$."
   ]
  },
  {
   "cell_type": "markdown",
   "metadata": {},
   "source": [
    "Que si explicitamos para el caso $\\hat{\\bf v} = \\hat{k}$, esto es, elegimos el eje $z$ como la dirección de movimiento de la partícula.\n",
    "\n",
    "y en el caso ultra-relativista, \n",
    "\n",
    "$$\n",
    "u_R(p) =  u_+(p) = \\sqrt{E} \\begin{pmatrix} 1 \\\\ 0 \\\\ 1  \\\\ 0 \\end{pmatrix}, \\;\\;\\;\n",
    "u_L(p) =  u_-(p) = \\sqrt{E} \\begin{pmatrix} 0 \\\\ 1 \\\\ 0  \\\\  -1 \\end{pmatrix}, \\;\\;\\;\n",
    "$$\n",
    "\n",
    "Donde, recordemos $N = \\sqrt{E + m } = \\sqrt{E}$\n"
   ]
  },
  {
   "cell_type": "markdown",
   "metadata": {},
   "source": [
    "Para los espinores de los antifermiones:\n",
    "\n",
    "$$\n",
    "v_R(p) = P_L v_\\pm(p) = \\frac{1}{2} (1 \\pm \\kappa)  N \\begin{pmatrix} - \\xi_\\pm(\\hat{\\bf v}) \\\\ \\xi_\\pm(\\hat{\\bf v}) \\end{pmatrix}, \\;\\;\\;\n",
    "v_L(p) = P_R v_\\pm(p) = \\frac{1}{2} (1 \\mp \\kappa)  N \\begin{pmatrix}  \\xi_\\pm(\\hat{\\bf v}) \\\\ \\xi_\\pm(\\hat{\\bf v}) \\end{pmatrix}, \\;\\;\\;\n",
    "$$\n",
    "\n",
    "que si explicitamos para el caso $\\hat{\\bf v} = \\hat{k}$ y en el caso ultra-relativista, \n",
    "\n",
    "$$\n",
    "v_R(p) =  P_L v_+(p) = \\sqrt{E} \\begin{pmatrix} 0 \\\\ -1 \\\\ 0  \\\\ 1 \\end{pmatrix}, \\;\\;\\;\n",
    "v_L(p) =  P_R v_-(p) = \\sqrt{E} \\begin{pmatrix} 1 \\\\ 0 \\\\ 1  \\\\  0 \\end{pmatrix}, \\;\\;\\;\n",
    "$$"
   ]
  },
  {
   "cell_type": "markdown",
   "metadata": {},
   "source": [
    "Podemos especificar los proyectores de quiralidad en la representación Pauli-Dirac:\n",
    "\n",
    "$$\n",
    "P_R = \\frac{1}{2}\\begin{pmatrix} I & I \\\\ I & I \\end{pmatrix}, \\;\\;\\;\n",
    "P_L = \\frac{1}{2}\\begin{pmatrix} I & -I \\\\ -I & I \\end{pmatrix},\n",
    "$$\n"
   ]
  },
  {
   "cell_type": "markdown",
   "metadata": {},
   "source": [
    "### La representación Weyl o quiral\n",
    "\n",
    "Vamos a considerar la representación de Weyl (o quiral) de las matrices $\\gamma^\\mu$:\n",
    "\n",
    "$$\n",
    "\\gamma^0 = \\begin{pmatrix} 0 & I \\\\ I & 0 \\end{pmatrix}, \\;\\;\n",
    "\\gamma^k = \\begin{pmatrix} 0 & \\sigma^k \\\\ -\\sigma^k & 0 \\end{pmatrix}, \\;\\;\n",
    "\\gamma^5 = \\begin{pmatrix} -I & 0 \\\\ 0 & I \\end{pmatrix}\n",
    "$$\n",
    "\n",
    "Con lo que que:\n",
    "\n",
    "$$\n",
    "P_L = \\begin{pmatrix} I & 0 \\\\ 0 & 0 \\end{pmatrix}, \\;\n",
    "P_R = \\begin{pmatrix} 0 & 0 \\\\ 0 & I \\end{pmatrix} \\;\n",
    "$$"
   ]
  },
  {
   "cell_type": "markdown",
   "metadata": {},
   "source": [
    "Esto es el espinor de Dirac está compuesto de dos bi-espinores, $u_L, u_R$, llamados de Weyl, que corresponden con la parte de quiralidad a izquierdas y a derechas del espinor de Dirac.\n",
    "\n",
    "$$\n",
    "u(p) = \\begin{pmatrix} u_L(p) \\\\ u_R(p)\\end{pmatrix}\n",
    "$$\n",
    "\n",
    "Si ahora consideramos el caso revelador de un fermión sin masa $m=0$, la ec. de Dirac queda:\n",
    "\n",
    "$$\n",
    "\\gamma^\\mu p_\\mu \\, u(p) = 0\n",
    "$$"
   ]
  },
  {
   "cell_type": "markdown",
   "metadata": {},
   "source": [
    "que se descompone en dos ecuaciones independientes:\n",
    "\n",
    "$$\n",
    "(E - {\\bf p} \\cdot \\vec{\\sigma}) \\, u_R(p) = 0, \\\\\n",
    "(E + {\\bf p} \\cdot \\vec{\\sigma}) \\, u_L(p) = 0.\n",
    "$$\n",
    "\n",
    "Esto es, el espinor de Dirac se compone de dos espinores de Weyl independientes. \n",
    "\n",
    "O en otras palabras, es el término de masa en la ec. de Dirac, la que hace que los dos espinores de Weyl estén conectados.\n"
   ]
  },
  {
   "cell_type": "markdown",
   "metadata": {},
   "source": [
    "dado que $E = \\text{p}$, donde ${\\bf p} = \\text{p} \\hat{\\bf v}$, estas ecuaciones son equivalentes a:\n",
    "\n",
    "$$\n",
    "(\\hat{\\bf v} \\cdot \\vec{\\sigma}) \\; u_R(p) = + u_R(p), \\\\ (\\hat{\\bf v} \\cdot \\vec{\\sigma}) \\; u_L(p) = - u_L(p).\n",
    "$$\n",
    "\n",
    "Esto es, hay una conexión uno a uno entre helicidad y quiralidad. El espinor de Weyl a izquierdas tiene helicidad negativa y el de derechas positiva.\n",
    "\n",
    "En este caso de las partículas sin masa, quiralidad y la helicidad son ambas propiedades estacionarias e invariantes Lorentz.\n",
    "\n",
    "En el Modelo Estándard este caso correspondía al neutrino.\n"
   ]
  },
  {
   "cell_type": "markdown",
   "metadata": {},
   "source": [
    "### la norma y la corriente bajo quiralidad\n",
    "\n",
    "Como $(\\gamma^5)^\\dagger = \\gamma^5$, los projectores no se ven afectados por la operación $\\dagger$:\n",
    "\n",
    "$$\n",
    "\\frac{1}{2}(1\\pm \\gamma^5)^\\dagger = \\frac{1}{2}(1\\pm \\gamma^5), \\;\\; P^\\dagger_{L/R} = P_{L/R}\n",
    "$$\n",
    "\n",
    "Mientras que el intercambio con $\\gamma^0$ intercambia los proyectores:\n",
    "\n",
    "$$\n",
    "\\gamma^0 \\, P_{L/R} = P_{R/L} \\, \\gamma^0\n",
    "$$"
   ]
  },
  {
   "cell_type": "markdown",
   "metadata": {},
   "source": [
    "Esto separa en dos las formas invariantes Lorentz\n",
    "\n",
    "Para la escalar $\\bar{\\Psi}(x) \\Psi(x)$, si la escribimos solo en función de sus espinores $\\bar{u}(p) u(p)$:\n",
    "\n",
    "$$\n",
    "\\bar{u}(p) \\, u_L(p) = \\bar{u}(p) \\, P_L u_L(p) = (u^\\dagger(p) \\gamma^0) P_L \\, u_L(p) = \\\\ \n",
    "(u^\\dagger(p)  P_R \\gamma^0) \\, u_L(p) = \n",
    "(P_R u(p))^\\dagger \\gamma^0 u_L(p) = u^\\dagger_R(p) \\gamma^0 u_L(p) = \\bar{u}_R(p) u_L(p)\n",
    "$$\n",
    "\n",
    "Y de forma recíproca:\n",
    "\n",
    "$$\n",
    "\\bar{u}(p) \\, u_R(p) = \\bar{u}_L \\, u_R(p)\n",
    "$$\n",
    "\n",
    "Luego la forma escalar:\n",
    "\n",
    "$$\n",
    "\\bar{u}(p) \\, u(p) = \\bar{u}_R \\, u_L(p) + \\bar{u}_L \\, u_R(p)\n",
    "$$\n",
    "\n",
    "Se compone de dos partes donde las dos quiralidades se acoplan una a la otra. \n",
    "\n",
    "Esto implica que un término escalar en el Lagrangiano (el que estará asociado a la masa) exige la existencia de las dos quiralidades."
   ]
  },
  {
   "cell_type": "markdown",
   "metadata": {},
   "source": [
    "Recordando que $\\gamma^5\\gamma^\\mu = - \\gamma^\\mu\\gamma^5$, vemos que:\n",
    "\n",
    "$$\n",
    "\\gamma^\\mu \\, P_{L/R} = P_{R/L} \\gamma^\\mu\n",
    "$$\n",
    "\n",
    "el intercambio de lado de $\\gamma^\\mu$, intercambia los proyectores.\n",
    "\n",
    "Veamos ahora cómo queda la forma vectorial, $\\bar{\\Psi}(x)\\gamma^\\mu\\Psi(x)$ escrita en sus componentes de quiralidad. Desarrollamos nuevamente la expresión con os espinores, $\\bar{u}(p) \\gamma^\\mu u(p)$.\n",
    "\n",
    "$$\n",
    "\\bar{u}(p) \\gamma^\\mu u_L(p) = \\bar{u}(p) \\gamma^\\mu P_L u_L(p) =  (u^\\dagger(p) \\gamma^0) \\gamma^\\mu P_L \\, u_L(p) = \\\\ \n",
    "u^\\dagger(p) \\gamma^0 P_R \\, \\gamma^\\mu \\, u_L(p) = (u^\\dagger(p) P_L) \\gamma^0 \\gamma^\\mu \\, u_L(p) = \\\\\n",
    "(P_L u(p))^\\dagger \\gamma^0 \\gamma^\\mu u_L(p) = (u^\\dagger_L(p) \\gamma^0) \\gamma^\\mu u_L(p) = \\bar{u}_L(p) \\gamma^\\mu u_L(p)\n",
    "$$\n",
    "\n",
    "De forma similar:\n",
    "\n",
    "$$\n",
    "\\bar{u}(p) \\gamma^\\mu u_R(p) = \\bar{u}_R(p) \\gamma^\\mu u_R(p)\n",
    "$$"
   ]
  },
  {
   "cell_type": "markdown",
   "metadata": {},
   "source": [
    "Así la forma vectorial queda:\n",
    "\n",
    "$$\n",
    "\\bar{u}(p) \\gamma^\\mu u(p) = \\bar{u}_R(p) \\gamma^\\mu u_R(p) + \\bar{u}_L(p) \\gamma^\\mu u_L(p)\n",
    "$$\n",
    "\n",
    "Esto es la corriente se divide en dos, una corriente de quiralidad a izquierdas y otra a derechas."
   ]
  },
  {
   "cell_type": "markdown",
   "metadata": {},
   "source": [
    "En resumen:\n",
    "\n",
    "$$\n",
    "\\bar{\\Psi}\\Psi =  \\bar{\\Psi}_R \\Psi_L + \\bar{\\Psi}_L \\Psi_R, \\\\\n",
    "\\bar{\\Psi} \\gamma^\\mu \\Psi = \\bar{\\Psi}_R \\gamma^\\mu \\Psi_R + \\bar{\\Psi}_L \\gamma^\\mu \\Psi_L\n",
    "$$\n"
   ]
  }
 ],
 "metadata": {
  "anaconda-cloud": {},
  "celltoolbar": "Slideshow",
  "kernelspec": {
   "display_name": "Python 3 (ipykernel)",
   "language": "python",
   "name": "python3"
  },
  "language_info": {
   "codemirror_mode": {
    "name": "ipython",
    "version": 3
   },
   "file_extension": ".py",
   "mimetype": "text/x-python",
   "name": "python",
   "nbconvert_exporter": "python",
   "pygments_lexer": "ipython3",
   "version": "3.9.13"
  }
 },
 "nbformat": 4,
 "nbformat_minor": 4
}
