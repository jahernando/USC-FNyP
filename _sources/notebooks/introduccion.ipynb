{
 "cells": [
  {
   "cell_type": "markdown",
   "metadata": {
    "slideshow": {
     "slide_type": "slide"
    }
   },
   "source": [
    "# Introducción a Física de Partículas\n"
   ]
  },
  {
   "cell_type": "code",
   "execution_count": 1,
   "metadata": {
    "slideshow": {
     "slide_type": "fragment"
    }
   },
   "outputs": [
    {
     "name": "stdout",
     "output_type": "stream",
     "text": [
      " Last version  Wed Dec 18 11:34:42 2024\n"
     ]
    }
   ],
   "source": [
    "import time\n",
    "print(' Last version ', time.asctime() )"
   ]
  },
  {
   "cell_type": "code",
   "execution_count": 2,
   "metadata": {
    "slideshow": {
     "slide_type": "subslide"
    }
   },
   "outputs": [],
   "source": [
    "# general imports\n",
    "%matplotlib inline\n",
    "%reload_ext autoreload\n",
    "%autoreload 2\n",
    "\n",
    "# numpy and matplotlib\n",
    "import numpy as np\n",
    "import matplotlib\n",
    "import matplotlib.pyplot as plt\n",
    "\n",
    "import scipy.constants as units"
   ]
  },
  {
   "cell_type": "markdown",
   "metadata": {
    "slideshow": {
     "slide_type": "slide"
    }
   },
   "source": [
    "## Objetivos\n",
    "\n",
    "* Dar una visión del campo de la Física de Partículas:  \n",
    "  - su propósito, sus relaciones con otras ramas de la Física y los laboratorios principales. \n",
    "  \n",
    "* Dar una introducción general del Modelo Estándar:\n",
    "  - de los componentes de la materia (fermiones) y de las fuerzas (bosones) que median entre ellas.\n",
    "  "
   ]
  },
  {
   "cell_type": "markdown",
   "metadata": {
    "slideshow": {
     "slide_type": "slide"
    }
   },
   "source": [
    "## Sobre la Física de Partículas\n",
    "\n",
    "  La Física de Partículas es la rama de la Física que estudia los **corpúsculos** más pequeños (algunos de ellos quizás elementales) de la Naturaleza y las **interacciones** que median entre ellos.\n",
    "\n",
    "\n",
    "### Escala de la Física de Partículas\n",
    "\n",
    "La siguiente figura muestra las diferentes escalas en *distancia* (m). Conforme reducimos la escala pasamos del sólido, al átomo, al núcleo, y finalmente a las partículas.\n",
    "\n",
    "\n",
    "| |\n",
    "|:--:|\n",
    "| <img src=\"./imgs/intro_distances_scale.jpg\" width = 500 align=\"center\">|\n",
    "\n",
    "La escala en distancia que corresponde a la Física de Partículas es inferior al femtometro,  $< 10^{-15}$ m.\n"
   ]
  },
  {
   "cell_type": "markdown",
   "metadata": {
    "slideshow": {
     "slide_type": "slide"
    }
   },
   "source": [
    "Profundizamos en el interior de las partículas usando otras partículas como sonda, por ejemplo electrones. \n",
    "\n",
    "Para explorar distancias cada vez más pequeñas, por la relación de Broglie, $\\lambda = h /p$, necesitamos cada vez sondas con energías mayores.\n",
    "\n",
    "La siguiente tabla muestra las escalas típicas de **distancia** (m) y **energía** (eV):\n",
    "  \n",
    "  || Atómica | Nuclear | Partículas|\n",
    "  | -- | --       | --     | --        |\n",
    "  distancia (m)|  $10^{-10}$ | $10^{-14}$ | $10^{-18}$ |\n",
    "  Energía (eV) |  $1$ | $10^{6}$ | $10^{9-11}$ |\n",
    "  |          | $\\mathcal{O}$(eV) | $\\mathcal{O}$ (MeV) | $\\mathcal{O}$(GeV-TeV) |          \n",
    "\n"
   ]
  },
  {
   "cell_type": "markdown",
   "metadata": {},
   "source": [
    "En rango de energías de Física de Partículas es $>$ GeV.\n",
    "\n",
    "Por eso a la Física de Partículas también se la conoce como **Física de Altas Energías**.\n",
    "\n",
    "En general, a estas energías, las partículas son relativistas. Así que nuestro entorno será la física cuántica y relativista."
   ]
  },
  {
   "cell_type": "markdown",
   "metadata": {
    "slideshow": {
     "slide_type": "slide"
    }
   },
   "source": [
    "### Metodología\n",
    "\n",
    "Estudiamos las interacciones de las partículas mediante  dos tipos de experimentos: **dispersión** (*scattering*) o **colisiones**.\n",
    "\n",
    "| | | \n",
    "|:--:| :--: |\n",
    "| <img src=\"./imgs/intro_dispersion.png\" width = 300 align=\"center\">| <img src=\"./imgs/intro_colision.png\" width = 300 align=\"center\">|\n",
    "| Esquema de dispersión | Esquema de  colisión |\n",
    "    \n",
    "Literalmente lanzamos haces de partículas (principalmente $e, p, \\nu$) a muy altas energías (GeV-TeV) contra blancos (formados por otras partículas, principalmente nucleones) y observamos las partículas que se producen y sus distribuciones en energía y angulares."
   ]
  },
  {
   "cell_type": "markdown",
   "metadata": {
    "slideshow": {
     "slide_type": "slide"
    }
   },
   "source": [
    "### Física de Altas energías y aceleradores\n",
    "\n",
    "En general la materia ordinaria, a excepción de los rayos cósmicos, no es relativista.\n",
    "\n",
    "¿Cómo podemos obtener haces de partículas a altas energías? \n",
    "\n",
    "Mediante **aceleradores de partículas** como el **LHC** [[>]](https://www.youtube.com/watch?v=pQhbhpU9Wrg), o mediante los **rayos cósmicos** que alcanzan la Tierra (principalmente protones, pero también neutrinos) producidos en estructuras del Cosmos que actuan como aceleradores naturales.\n",
    "\n",
    "Por ejemplo el detector IceCube [[>]](https://www.youtube.com/watch?v=D50LNnioXQc) detecta interacciones de neutrinos atmosféricos, solares y cósmicos."
   ]
  },
  {
   "cell_type": "markdown",
   "metadata": {
    "slideshow": {
     "slide_type": "slide"
    }
   },
   "source": [
    "### Partículas y Cosmología\n",
    "\n",
    "La Física de Partículas está muy relacionada con la Cosmología.\n",
    "\n",
    "Durante los primeros segundos del Universo, éste se componía de una sopa de partículas. \n",
    "\n",
    "| |\n",
    "| :--: |\n",
    "| <img src=\"./imgs/intro_universe_history_2.jpg\" width = 500 align=\"center\"> |\n",
    "| Esquema de la evolución del Universo [PDG]|\n"
   ]
  },
  {
   "cell_type": "markdown",
   "metadata": {
    "slideshow": {
     "slide_type": "slide"
    }
   },
   "source": [
    "Conforme el Universo se enfrió, las partículas crearon primero bariones, luego núcleos, átomos, y finalmente las estrellas y galaxias.\n",
    "\n",
    "A partir de $10^{-32}$ s después del Big Bang, el Universo se rige por el Modelo Estándar hasta 100 s después cuando empiezan a formarse núcleos.\n",
    "\n",
    "Detengámanos por ejemplo, en la desintegración del neutrón, la desintegración $\\beta$\n",
    "\n",
    "$$\n",
    "n \\to p + e + \\bar{\\nu}_e\n",
    "$$\n",
    "\n",
    "Después de su creacción, el neutrón vive aproximadamente 10 mins, tiempo suficiente afortunadamente para que se formasen los primeros núcleos de Helio estables, lo que sucedió aproximadamente a los 6 mins."
   ]
  },
  {
   "cell_type": "markdown",
   "metadata": {},
   "source": [
    "Podemos decir por lo tanto que existe una relación de continuidad entre ramas de la física:\n",
    "\n",
    "$$\n",
    "\\mathrm{Astropartículas} \\Leftrightarrow \\mathrm{Partículas} \\Leftrightarrow \\mathrm{Nuclear}\n",
    "$$\n",
    " \n",
    "El *Instituto Galego de Física de Altas Enerxías*, [IGFAE](https://igfae.usc.es/igfae/gl/), cubre las tres ramas y sus posibles aplicaciones. Puedes explorar su página web para más información."
   ]
  },
  {
   "cell_type": "markdown",
   "metadata": {
    "slideshow": {
     "slide_type": "slide"
    }
   },
   "source": [
    "### Relación entre teoría, experimentos y detectores\n",
    "\n",
    "La Física de Partículas involucra a la física teórica, experimental y la de detectores.\n",
    "\n",
    " $$\n",
    "\\mathrm{Detectores} \\Leftrightarrow \\mathrm{Experimentos} \\Leftrightarrow \\mathrm{Teorías}\n",
    " $$\n",
    "  \n",
    "\n",
    "Las tres son esenciales y se complementan: \n",
    "\n",
    "   * Los avances en detección hacen posible nuevos descubrimientos\n",
    "\n",
    "   * Los descubrimientos marcan las líneas permitidas de las teorías \n",
    "\n",
    "   * La teoría indica qué experimentos son de interés\n",
    "   \n",
    "\n",
    "Pero no unicamente, también es son cruciales la ingeniería, química y computación.\n",
    " "
   ]
  },
  {
   "cell_type": "markdown",
   "metadata": {
    "slideshow": {
     "slide_type": "slide"
    }
   },
   "source": [
    "### La gran ciencia\n",
    "\n",
    "Los aceleradores y los experimentos de partículas son grandes construcciones, en muchas ocasiones únicas y singulares, que requieren de la participación de cientos o miles de científicos y una gran financiación.\n",
    "\n",
    "Los experimentos son muy complejos. Su planificación, construcción y explotación duran a veces décadas. Por ejemplo, [ATLAS](https://atlas.cern/) en el LHC,\n",
    "\n",
    "| |\n",
    "| :--: |\n",
    "| <img src=\"./imgs/intro_atlas.jpg\" width = 500 align=\"center\"> |\n",
    "| Imagen del detector ATLAS durante su construcción [ATLAS]|\n",
    "\n",
    "es uno de los más grandes experimentos construidos y donde trabajan más de 2000 físicos del todo el mundo.\n"
   ]
  },
  {
   "cell_type": "markdown",
   "metadata": {
    "slideshow": {
     "slide_type": "slide"
    }
   },
   "source": [
    "### Los grandes Laboratorios\n",
    "\n",
    "Los experimentos de Física de Partículas tienen lugar principalmente en grandes laboratorios internacionales.\n",
    "\n",
    "El CERN, en Ginebra, Suiza, fundando en los años 50 del siglo XX, es desde los 80 el principal laboratorio de Física de Partículas. El CERN es un gran campus europeo de investigación donde han tenido lugar experimentos esenciales en Física de Partículas, avances fundamentales como la aparición de la *www*, y descubrimientos como los de los bosones vectoriales $W^\\pm, Z^0$ y el Higgs.\n",
    "\n",
    "La actual directora del CERN es F. Gianotti.\n",
    "\n",
    "| |\n",
    "| :--: |\n",
    "| <img src=\"./imgs/Dr_Fabiola_Gianotti.jpg\" width = 100 align=\"center\"> |\n",
    "| F. Gianotti, directora del [CERN](https://home.cern)|\n"
   ]
  },
  {
   "cell_type": "markdown",
   "metadata": {
    "slideshow": {
     "slide_type": "slide"
    }
   },
   "source": [
    "\n",
    "Los principales laboratorios de partículas son:\n",
    "\n",
    "basados en aceleradores:\n",
    "  \n",
    "   * [CERN](https://home.cern) (Ginebra, Suiza).\n",
    "     \n",
    "   * [Fermilab](https://www.fnal.gov/) (Chicago, Illinois), [SLAC](https://www6.slac.stanford.edu/) (Stanford, California), [Brookhaven](https://www.bnl.gov/world/) (New York)\n",
    "     \n",
    "   * [KEK](https://www.kek.jp/en/) (Japón)\n",
    "     \n",
    "y subterráneos:\n",
    "  \n",
    "   * [LNGS](https://www.lngs.infn.it/en) (Italia), [Kamioka](http://www-sk.icrr.u-tokyo.ac.jp/index-e.html) (Japon), [SNOLAB](https://www.snolab.ca/) (Canada), [Canfranc](https://lsc-canfranc.es/) [[>](https://lsc-canfranc.es/media-videos/)] (Spain)."
   ]
  },
  {
   "cell_type": "markdown",
   "metadata": {
    "slideshow": {
     "slide_type": "slide"
    }
   },
   "source": [
    "### Aplicaciones prácticas\n",
    "\n",
    "Las técnicas de construcción de los detectores y de desarrollo de los algoritmos de tratamiento de datos han dado lugar a aplicaciones importantísimas en otros campos:\n",
    "\n",
    "   * en Física Médica, como por ejemplo, los rayos-X, o la terapia hadrónica.\n",
    "   \n",
    "   \n",
    "   * o la aparición de la *World Wide Web* ([WWW](https://home.cern/science/computing/birth-web/short-history-web)), quizás unos de los momentos revolucionaros de la Humanidad.\n",
    "\n",
    "      La *web* se desarrolló en el CERN para poder presentar y compartir la información."
   ]
  },
  {
   "cell_type": "markdown",
   "metadata": {
    "slideshow": {
     "slide_type": "slide"
    }
   },
   "source": [
    "## Introducción al modelo estandar\n",
    "\n",
    "EL modelo estandar (SM) de Física de Partículas es uno de los grandes logros de la Física (a pesar de su pobre nombre). \n",
    "\n",
    "El Modelo clasifica todas partículas elementales y establece las interacciones entre ellas. \n",
    "\n",
    "El *Particle Data Group* ([PDG](https://pdg.lbl.gov/)) es un grupo de trabajo que se encarga de recopilar y publicar toda la información relevante sobre física de partículas. Puedes consultar su página donde está *toda* la información.\n",
    "\n",
    "En esta sección veremos brevemente cómo se clasifican las partículas y sus características principales."
   ]
  },
  {
   "cell_type": "markdown",
   "metadata": {},
   "source": [
    "\n",
    "\n",
    "Hasta donde sabemos la Naturaleza está compuesta de 12 partículas que forman la materia, que llamamos fermiones, 12 bosones que transmiten la fuerzas y una última, el bosón de Higgs, que les *otorga* las masas.\n",
    "\n",
    "Aunque la materia ordinaria, y la mayoría del Universo, está formada por 4 partículas de materia. Esencialmente el protón, el neutrón, el electrón y el neutrino. De ellas son estables el protón, el electrón y el neutrino.\n",
    "\n",
    "El resto de partículas jugaron un papel relevante durante los primeros segundos del Universo. En la actualidad, se producen principalmente en los experimentos, y son, con excepción del neutrino, inestables y se desintegran.\n",
    "\n",
    "Junto a las partículas tenemos sus antipartículas, que a pesar de su nombre, son igual a las partículas pero con  sus cargas opuestas. \n",
    "\n",
    "Las antipartículas aparecen en condición de igualdad y de forma complementaria a las partículas en las ecuaciones de la teoría. Sin embargo, el Universo actual está prácticamente formado por materia. No sabemos qué ocurrió en los primeros segundos del Universo que provocó que sobreviviese solamente la materia."
   ]
  },
  {
   "cell_type": "markdown",
   "metadata": {},
   "source": [
    "En cuanto a las fuerzas, sabemos que hay 3 interacciones principales:\n",
    "\n",
    "  * la electromagnética, mediada por el fotón.\n",
    "\n",
    "  * la débil, mediada, cuando se produce cambio de carga eléctrica, por los bosones vectoriales, $W^\\pm$, (donde el signo hace referencia a la carga), y las que no cambian la carga eléctrica, mediadas por el $Z$\n",
    "\n",
    "  * la fuerte fundamental, mediada por los gruones. La fuerza responsable de la estabilidad y dinámica de los núcleos, es una fuerza fuerte residual. Similar al papel que juega el electromagnetismo en la formación de moléculas."
   ]
  },
  {
   "cell_type": "markdown",
   "metadata": {},
   "source": [
    "Finalmente, la masa, que en principio es una propiedad de la partícula, es en realidad la consecuencia de la interacción de la partícula con el bosón de Higgs. Cuanto más masa tiene una partícula, más fuerte interacciona con el bosón de Higgs."
   ]
  },
  {
   "cell_type": "markdown",
   "metadata": {
    "slideshow": {
     "slide_type": "slide"
    }
   },
   "source": [
    "### El SM a simple vista\n",
    "\n",
    "La siguiente tabla muestra las partículas fundamentales y sus propiedades principales:\n",
    "\n",
    "| |\n",
    "|:--:|\n",
    "|<img src=\"./imgs/intro_SM_table.png\" width = 500 align=\"center\">|\n",
    "|Las partículas del modelo estandar|\n"
   ]
  },
  {
   "cell_type": "markdown",
   "metadata": {
    "slideshow": {
     "slide_type": "slide"
    }
   },
   "source": [
    "La materia está formada por los **fermiones**, que son partículas elementales de spín $1/2$.\n",
    "\n",
    "Los **bosones vectoriales**, con spín $1$, son los mediadores de las fuerzas **fuerte, débil y electromagnética**.\n",
    "\n",
    "El **bosón scalar de Higgs**, que tiene spín 0, dota de masas a los fermiones y a los bosones vectoriales de la fuerza débil.\n"
   ]
  },
  {
   "cell_type": "markdown",
   "metadata": {
    "slideshow": {
     "slide_type": "slide"
    }
   },
   "source": [
    "### Fermiones\n",
    "\n",
    "Los fermiones son las partículas que constituyen la materia, tienen spín $1/2$ y obedecen a la ecuación de Dirac. \n",
    "\n",
    "Los fermiones obedecen a la estadística de Fermi, por ello no encontramos dos fermiones en un mismo estado, de ahí que formen los componentes, los bloques, de la materia.\n",
    "\n",
    "Los fermiones se dividen en:\n",
    "\n",
    "  * **quarks** : si interaccionan fuertemente\n",
    "  \n",
    "  * **leptones**: si no interaccionan fuertemente\n",
    "    \n",
    "| fuerte | electromagnética | débil | \n",
    "|---      |:--       | :--          |\n",
    "| quarks | quarks y leptones cargados  | quarks y leptones |\n",
    "\n"
   ]
  },
  {
   "cell_type": "markdown",
   "metadata": {
    "slideshow": {
     "slide_type": "slide"
    }
   },
   "source": [
    "#### las anti-partículas\n",
    "\n",
    "Sabemos que los fermiones se rigen por la ecuación de Dirac, y se describen con un nuevo objeto matemático, los **espinores de Dirac**.\n",
    "\n",
    "Fue Dirac quien a partir de su famosa ecuación, propuso que cada partícula, tiene su **anti-partícula**. La diferencia entre ellas son las cargas. Las antipartículas tienen las cargas opuestas a la partícula, pero tienen la misma masa, espín y vida media.\n",
    "\n",
    "Si $f$ es un fermión, denotamos $\\bar{f}$ como su antifermión, aunque para los antileptones, que tienen carga eléctrica (+), los llamaremos simplemente: $e^+, \\mu^+, \\tau^+$.\n"
   ]
  },
  {
   "cell_type": "markdown",
   "metadata": {
    "slideshow": {
     "slide_type": "slide"
    }
   },
   "source": [
    "#### generaciones\n",
    "\n",
    "Por alguna razón que desconocemos, existen tres generaciones o familias idénticas de partículas, que son una copia con más masa, de la primera familia. Pero sí sabemos que solo hay 3 familias.\n",
    "\n",
    "Decimos que los fermiones (tanto leptones como quarks) aparecen en **tres generaciones** o familias. \n",
    "\n",
    "$$\n",
    "\\begin{pmatrix} \\nu_e \\\\ e \\end{pmatrix}, \\begin{pmatrix} \\nu_\\mu \\\\ \\mu \\end{pmatrix}, \n",
    "\\begin{pmatrix} \\nu_\\tau \\\\ \\tau \\end{pmatrix} \n",
    "$$\n",
    "$$\n",
    "\\begin{pmatrix} u \\\\ d \\end{pmatrix}, \\begin{pmatrix} c \\\\ s \\end{pmatrix}, \n",
    "\\begin{pmatrix} t \\\\ b \\end{pmatrix} \\\\\n",
    "$$\n",
    "\n",
    "En cada generación, tanto leptones como quarks, se agrupan en **dupletes** con posiciones **arriba** y **abajo**.\n"
   ]
  },
  {
   "cell_type": "markdown",
   "metadata": {},
   "source": [
    "Decimos que las tres generaciones de leptones se comportan con **universalidad** (de igual manera) frente a las interacciones si se tiene en cuenta que sus masas son diferentes. \n",
    "\n",
    "Decimos también que las partículas tienen **sabor**, que en realidad se corresponde con la identidad de la partícula. Por ejemplo decimos que el quark *s* tiene *extrañeza*, el quark *b*, belleza, el neutrino electrónico tiene *sabor electrónico*. Y para los leptones cargados, decimos un leptón cargado de sabor *electrónico*, para referirnos al electrón.\n",
    "\n",
    "Por alguna razón que desconocemos las partículas desde el punto de la interacción débil no se corresponden exactamente con las partículas de masa, en otras palabras, la interacción con los campos vectoriales no está alineada con la interacción con el bosón de Higgs. Lo que da lugar a una física compleja y muy rica, que se conoce como **física del sabor**. Un ejemplo de esta física son las oscilaciones de neutrinos.\n"
   ]
  },
  {
   "cell_type": "markdown",
   "metadata": {
    "slideshow": {
     "slide_type": "slide"
    }
   },
   "source": [
    "La siguiente tabla muestra los fermiones agrupados por familias, su carga eléctrica y las fuerzas que sienten: \n",
    "\n",
    "|   |  1   |  2   |  3  | Q (e) | fuerte | electromag. | débil | Higgs |\n",
    "|-- | :--  | :--  | :-- | :--   | :--    |:--               |:--    | :-- | \n",
    "|         |\n",
    "|quarks   |  u | c  | t   | $\\frac{2}{3}$   | sí | sí | sí | sí |\n",
    "|         |  d   | s   | b   |  $-\\frac{1}{3}$ | sí | sí|  sí | sí |\n",
    "|         |\n",
    "| leptons | $\\nu_e$| $\\nu_\\mu$  | $\\nu_\\tau$   | 0  | no | no | sí | ? |\n",
    "|         | $e$   | $\\mu$  | $\\tau$  | -1 | no | sí | sí | sí |\n",
    "\n",
    "\n",
    "La carga eléctrica depende de su posición en el duplete. El fermión de arriba tiene una carga $+1$ comparada con la del de abajo.\n"
   ]
  },
  {
   "cell_type": "markdown",
   "metadata": {},
   "source": [
    "La siguiente tabla muestra la masa de los fermiones\n",
    "\n",
    "|       |           |    |  \n",
    "| :--      |:--       | :--         |\n",
    "|         |        \n",
    "|  u  (2 MeV) | c (1.2 GeV) | t (170 GeV)  | \n",
    "|  d  (5 MeV)  | s (93 MeV)  | b (4.2 GeV)  | \n",
    "|         |\n",
    "| $\\nu_e$ (< eV)| $\\nu_\\mu$ (< eV) | $\\nu_\\tau$ (<eV)   | \n",
    "| $e$   (511 keV)| $\\mu$  (106 MeV)| $\\tau$  (1.77 GeV) | \n",
    "\n",
    "Podemos notar que el quark top es extremadamente pesado, mientras que el neutrino, del que no sabemos su masa es extraordinariamente ligero, del orden de $10^6$ veces más ligero que el electrón.\n",
    "\n",
    "De las dos tablas anteriores vemos que el neutrino es particular, diferente, solo interacciona débilmente. Veremos a lo largo de estas clases como el neutrino ejemplifica muy bien las características fundamentales del Modelo Estándar, además, hoy en día oculta todavía varios misterios por resolver, como si es o no su propia antiparticula o como interacciona con el bosón de Higgs.\n"
   ]
  },
  {
   "cell_type": "markdown",
   "metadata": {
    "slideshow": {
     "slide_type": "slide"
    }
   },
   "source": [
    "La siguiente figura muestra de forma gráfica la disparidad de masas entre los fermiones:\n",
    "\n",
    "\n",
    "| |\n",
    "|:--:|\n",
    "|<img src=\"./imgs/intro_masas.png\" width = 400 align=\"center\">|\n",
    "|Masas de los fermiones [MT1.1]|\n",
    "\n",
    "No sabemos por qué los fermiones tienen este patrón de masas, que al final, equivale a decir que no sabemos por qué se acoplan al bosón de Higgs de forma tan dispar. \n",
    "\n",
    "Puede que necesitamos conocer mejor la física de Higgs para entender el origen de los valores de las masas de los fermiones."
   ]
  },
  {
   "cell_type": "markdown",
   "metadata": {
    "slideshow": {
     "slide_type": "slide"
    }
   },
   "source": [
    "### Leptones\n",
    "\n",
    "Las tres familias de leptones son:\n",
    "\n",
    "$$\n",
    "\\begin{pmatrix} \\nu_e \\\\ e \\end{pmatrix}, \\begin{pmatrix} \\nu_\\mu \\\\ \\mu \\end{pmatrix}, \n",
    "\\begin{pmatrix} \\nu_\\tau \\\\ \\tau \\end{pmatrix}\n",
    "$$\n",
    "\n",
    "Los leptones cargados $\\mu, \\tau$ son una copia con más masa del $e$.\n",
    "\n",
    "En la Naturaleza, hasta la fecha, hemos verificado que las interacciones conservan el **número leptónico**, $L$, que es el número de leptones menos el de anti-leptones. \n"
   ]
  },
  {
   "cell_type": "markdown",
   "metadata": {
    "slideshow": {
     "slide_type": "slide"
    }
   },
   "source": [
    "\n",
    "Por ejemplo en la desintegración $\\beta$:\n",
    "\n",
    "$$\n",
    "n \\to p + e + \\bar{\\nu}_e\n",
    "$$\n",
    "\n",
    "El número leptónico antes y después de de la desintegración es $L = 0$. Dado que $e$ es un leptón, $L = +1$  y $\\bar{\\nu}_e$ un anti-lepton, $L=-1$.\n",
    "\n",
    "Por lo tanto **el neutrino**, que es el leptón más ligero, **es estable**.\n",
    "\n",
    "Por supuesto, todas las interacciones conservan la energía, el momento lineal y angular, y la carga eléctrica. \n"
   ]
  },
  {
   "cell_type": "markdown",
   "metadata": {
    "slideshow": {
     "slide_type": "slide"
    }
   },
   "source": [
    "Los leptones cargados se desintegran via las interacciones débiles.\n",
    "\n",
    "La siguiente tabla muestras sus vidas medias:\n",
    "\n",
    "| $e$  |  --------- $\\mu$ --------- | ------- $\\tau$ ----|\n",
    "| :--: | :--: | :--: | \n",
    "| estable | $2.6 \\, 10^{-6}$ s| $2.9 \\, 10^{-13}$ s|\n",
    "\n",
    "**El electrón es estable**, porque todas las interacciones conservan la carga eléctrica, y es el leptón cargado más ligero.\n",
    "\n",
    "Los muones de 10 GeV, recorren habitualmente unos metros antes de desintegrarse. \n",
    "\n",
    "Mientras que los tauones se desintegran al poco de ser producidos, a 45 GeV por ejemplo a recorren unos mm.\n"
   ]
  },
  {
   "cell_type": "markdown",
   "metadata": {
    "slideshow": {
     "slide_type": "slide"
    }
   },
   "source": [
    "Existen tres neutrinos de sabor, $\\nu_e, \\nu_\\mu, \\nu_\\tau$ asociados a sus parejas leptónicas $e, \\mu, \\tau$ respectivamente.\n",
    "\n",
    "**El SM postulaba que no tienen masa**, pero gracias a los experimentos de oscilaciones de neutrinos sabemos que tienen masa.\n",
    "\n",
    "Su masa se desconoce pero es muy pequeña $\\lt 1$ eV, a comparar con los 511 keV del electrón.\n",
    "\n",
    "**Los neutrinos** no tienen carga eléctrica, **tienen una masa muy pequeña**, **son estables**, y **sólo interactuan débilmente**.  ¡Son muy *cool*! Solo hace falta ver las tablas anteriores para dease cuenta.\n",
    "\n",
    "Son los leptones más peculiares del SM y que tengan masa es **la única prueba hasta el momento de que el SM es incompleto o incorrecto**.\n",
    "\n",
    "Las características de los leptones y las peculiaridades de la desintegración débil y de los neutrinos las estudiaremos en el [Tema-leptones]."
   ]
  },
  {
   "cell_type": "markdown",
   "metadata": {
    "slideshow": {
     "slide_type": "slide"
    }
   },
   "source": [
    "### Los quarks\n",
    "\n",
    "Las tres generaciones de quarks son:\n",
    "\n",
    "$$\n",
    "\\begin{pmatrix} u \\\\ d \\end{pmatrix}, \\begin{pmatrix} c \\\\ s \\end{pmatrix}, \n",
    "\\begin{pmatrix} t \\\\ b \\end{pmatrix} \\\\\n",
    "$$\n",
    "\n",
    "Los quarks $(c, s)$, encanto y extrañeza respectivamente, y $(t, b)$, top y bottom (o belleza), son copias con más masa del par $(u, d)$, arriba y abajo.\n",
    "\n",
    "Los quarks $u, d, s$ son ligeros, los quark $c, b$ son pesados. El top, $t$, es incluso más pesado que los bosones vectoriales $W^\\pm, Z$ y no llega a producir hadrones. Esta diferencia hará que la física de los hadrones formados por quark ligeros y pesados sea diferente."
   ]
  },
  {
   "cell_type": "markdown",
   "metadata": {},
   "source": [
    "**Los quarks tienen carga fraccionaria**: los de arriba $+2/3$ y los de abajo $-1/3$ en unidades de $e$. No hay nada extraño en que la carga sea fraccionaria. Debemos a uno de los padres de la constitución americana, B. Flanklin, que el electrón se defina como carga eléctrica negativa, pero eso es solo una convención.\n",
    "\n",
    "**Los quarks no son libres**, sólo aparecen en partíclas compuestas, los **hadrones**. Este fenómeno se conoce como **confinamiento**.\n",
    "\n",
    "Si los quarks fueran partículas libres, los habríamos detectado facilmente, ya que en presencia de un campo magnético, sus trayectorias se curvarían de acuerdo a su carga."
   ]
  },
  {
   "cell_type": "markdown",
   "metadata": {
    "slideshow": {
     "slide_type": "slide"
    }
   },
   "source": [
    "Todavía no tenemos una explicación exacta del confinamiento de los quarks, pero la teoría que rigue las interacciones fuertes, la **cromodinámica cuántica**, QCD, permite una explicación.\n",
    "\n",
    "Los quarks aparecen con tres cargas fuertes o de **color**, que se denominan: **rojo, verde y azul**, $r, g, b$. Y por supuesto no tiene nada que ver con los colores habituales. \n",
    "\n",
    "Esto es, un mismo quark existe en tres colores, por ejemplo el quark belleza, $b$, puede ser rojo, verde o azul. Esto quiere decir que en realidad no tenemos 6 quarks sino 18. Decimos que *cada quark de sabor se presenta en tres colores* (no solo hay simetría en física, a veces, también hay poesía).\n",
    "\n",
    "Para cada color existe también su anti-color, esto es anti-rojo, anti-verde o anti-azul, que viene asociado a los anti-quarks.\n",
    "\n",
    "Sin embargo, la QCD exige que los únicos hadrones reales sean **neutros al color**, digamos que son *descoloridos* o *blancos*, de forma similar al hecho de que los átomos son eléctricamente neutros.\n",
    "\n",
    "Estudiaremos los quarks, los hadrones y el color en el [Tema-quarks]."
   ]
  },
  {
   "cell_type": "markdown",
   "metadata": {
    "slideshow": {
     "slide_type": "slide"
    }
   },
   "source": [
    "Sólo hay dos posibilidades de combinación de quarks para que los hadrones sean *incoloros*, o bien mediante una combinación de tres quarks (o antiquarks), cada uno con un color, lo que llamamos barión (o antibarión), o un mesón, formado por un quark y un antiquark con colores complementarios (por ejemplo, rojo y anti-rojo)\n",
    "\n",
    "Los **hadrones** se clasifican en.\n",
    "\n",
    "  * **bariones**, formados por tres quarks.\n",
    "  \n",
    "  * **mesones**, formados por un par quark y antiquark.\n",
    "\n",
    "| |\n",
    "| :--| \n",
    "| <img src=\"./imgs/intro_hadrons.png\" width = 300 align=\"center\"> |\n",
    "| Imagen esquemática de un mesón y un barión|\n",
    "\n",
    "Con estas dos posibilidades, la carga eléctrica de los hadrones es entera.\n"
   ]
  },
  {
   "cell_type": "markdown",
   "metadata": {
    "slideshow": {
     "slide_type": "slide"
    }
   },
   "source": [
    "El protón y el neutrón son bariones. El protón está formado por el trío de quarks de valencia ($uud$), cuya carga es $+e$,  y el neutrón por ($udd$), cuya carga es nula.\n",
    "\n",
    "También, en la Naturaleza, hasta le fecha, hemos comprobado que se conserva el número de quarks, decimos que se conserva **el número bariónico**, $B$, (el número de bariones menos el de antibariones).\n",
    "\n",
    "Notar que los mesones tienen número de quarks nulo porque son la combinación de un quark y un antiquark. Así que en vez de contar quarks contamos bariones en las interacciones.\n",
    "\n",
    "Por ejemplo, de nuevo, en la desintegración $\\beta$:\n",
    "\n",
    "$$\n",
    "n \\to p + e + \\bar{\\nu}_e.\n",
    "$$\n",
    "\n",
    "A ambos lados de la interacción el número bariónico es 1. El $p$ y el $n$ tienen los dos $B = 1$\n",
    "\n",
    "Como **el protón**, que es el barión más ligero, **es estable**.\n"
   ]
  },
  {
   "cell_type": "markdown",
   "metadata": {
    "slideshow": {
     "slide_type": "slide"
    }
   },
   "source": [
    "Remarquemos que la desintegración $\\beta$ \n",
    "    \n",
    "$$\n",
    "n \\to p + e + \\bar{\\nu}_e.\n",
    "$$\n",
    "\n",
    "y el resto de **interacciones conservan**:\n",
    "  * la *carga eléctrica*, $Q$,  \n",
    "  * el *número leptónico*, $L$,\n",
    "  * el *número bariónico*, $B$.\n",
    "\n",
    "La anterior desintegración es posible energéticamente, porque el $n$ tiene una masa (939  MeV) ligeramente superior al $p$ (938.3 MeV). De esa pequeña diferencia proviene que la vida media del neutrón sea aproximadamente de 10 mins.\n",
    "\n",
    "Dado que la partícula estable de los leptones es el $e$ y de los bariones el $p$. La conservación del número leptónico y bariónico, a igualdad del número de ambas partículas, nos asegura que el Universo sea eléctricamente neutro.\n",
    "\n",
    "\n",
    "Muy diferente sería si la Naturaleza si el neutrino hubiese sido una partícula masiva con posibilidad de desintegrarse, o si el protón tuviera más masa que el neutrón.\n",
    "\n"
   ]
  },
  {
   "cell_type": "markdown",
   "metadata": {
    "slideshow": {
     "slide_type": "slide"
    }
   },
   "source": [
    "El resto de hadrones, (ya sean mesones o bariones), así como leptones cargados $\\mu, \\tau$, se desintegran:\n",
    "\n",
    "La vida media de la desintegración depende de:\n",
    "\n",
    "  * del tipo de desintegración permitida, ya sea ésta fuerte (via gluones), electromagnética (via un fotón) o débil (vía bosones $W^\\pm$).\n",
    "  \n",
    "  * del espacio fásico permitido. A mayor diferencia de masas entre la partícula madre y las hijas más espacio fásico.\n",
    "  "
   ]
  },
  {
   "cell_type": "markdown",
   "metadata": {
    "slideshow": {
     "slide_type": "slide"
    }
   },
   "source": [
    "\n",
    "La figura muestra la vida media de varias partículas y su tipo de desintegración. \n",
    "\n",
    "| |\n",
    "|:--|\n",
    "| <img src=\"./imgs/intro_lifetimes.png\" width = 400 align=\"center\">|\n",
    "| Vida media de algunas partículas dependiendo del tipo de desintegración [MT1.1]\n",
    "\n",
    "La partículas que se desintegran débilmente son aquellas con una vida media \"mayor\".\n",
    "\n",
    "*cuestión:* ¿Por qué la vida media del $n$ es tan alta?"
   ]
  },
  {
   "cell_type": "markdown",
   "metadata": {
    "slideshow": {
     "slide_type": "slide"
    }
   },
   "source": [
    "### Los mediadores de las fuerzas\n",
    "\n",
    "Recordemos que la fuerzas son responsables entre otros fenómenos de:\n",
    "    \n",
    "   * la **electromagnética**, de la estabilidad y complejidad de los átomos\n",
    "   \n",
    "   * la **débil**, de las desintegraciones $\\beta$ nucleares.\n",
    "        \n",
    "   * la **fuerte**, de la estabilidad y complejidad de los núcleos (protones y neutrones) y de los hadrones.\n",
    "        "
   ]
  },
  {
   "cell_type": "markdown",
   "metadata": {
    "slideshow": {
     "slide_type": "slide"
    }
   },
   "source": [
    "#### Propiedades de los portadores\n",
    "\n",
    "Describimos las interacciones de las partículas como el intercambio de un mediador o portador de la fuerza entre ellas.\n",
    "\n",
    "Cada portador interviene según la carga (por ejemplo eléctrica o color) de los fermiones a los que interacciona.\n",
    "\n",
    "Los portadores **son bosones vectoriales** (spín 1) y obedecen la ecuación de Maxwell.\n",
    "\n",
    "En la tabla se muestra la intensidad aproximada de las distintas fuerzas, su carga eléctrica y su masa: \n",
    "\n",
    "| fuerza            | intensidad | bosón            | Q (e) | masa (GeV) |\n",
    "| :--               | :--        | :--              | :--   | :--     | \n",
    "| fuerte            | 1          | $g$ (gluón)      | 0     | 0       | \n",
    "| electromagnetismo | $10^{-3}$  | $\\gamma$ (fotón) | 0     | 0       | \n",
    "| débil             | $10^{-8}$  | $W^{\\pm}$        | $\\pm1$  | 80.4 | \n",
    "|                   |           | $Z^0$              | 0  | 91.2 |\n",
    "| gravedad          | $10^{-37}$| "
   ]
  },
  {
   "cell_type": "markdown",
   "metadata": {},
   "source": [
    "El fotón carece de masa, es el responsable de las interacciones electromagnéticas, y éstas tienen rango *infinito*, lo que está relacionado con su masa.\n",
    "\n",
    "Sin embargo, los bosones vectoriales débiles, $W^\\pm, Z^0$, tiene una masa elevada $80$ y $91$ GeV respectivamente, y su alcance es *puntual*.\n",
    "\n",
    "Fue Yukawa quien para explicar la fuerza que mantenía los nucleones en el interior del núcleo, sugirió un potencial que decayera exponencialmente a partir de un radio típico, (el fm). Asociado a ese potencial debía existir una partícula masiva (200 MeV), el pión, que cuyo alcance de acción estuviera en ese rango de distancia del nucleón.\n",
    "\n",
    "Las interacciones débiles, mediadas por portadores muy masivos, tienen, en la interpretación de Yukawa, un rango puntual.\n",
    "\n",
    "A la escala de masa de los portadores débiles la llamamos **escala electrodébil**, $\\mathcal{O}(100)$ GeV, que corresonde a una interacción puntual de $10^{-18}$ m.\n"
   ]
  },
  {
   "cell_type": "markdown",
   "metadata": {
    "slideshow": {
     "slide_type": "slide"
    }
   },
   "source": [
    "Los bosones $W^\\pm$ son cargados eléctricamente. En las interacciones que median trasportan consigo una carga eléctrica ($\\pm$). Por eso sus interacciones se conocen también, por abuso del lenguaje, como **corrientes cargadas** (CC). \n",
    "\n",
    "Las interacciones del bosón $Z^0$ se denominan también **corrientes neutras** (NC). Y en este caso, como en el del fotón, el portador no transmite carga eléctrica."
   ]
  },
  {
   "cell_type": "markdown",
   "metadata": {},
   "source": [
    "Existen 8 tipos de gluones, que son electricamente neutros y de masa nula, pero sí tienen color. Intercambian el color de los quarks. Por ejemplo, decimos que un gluón cambia un quark rojo en azul y a cambio convierte un quark azul en rojo.\n",
    "\n",
    "Como los gluones transmiten color, pueden interaccionar entre sí, intercambiandose entre ellos colores, esto es, interaccionan entre ellos. \n",
    "\n",
    "De nuevo aunque no tenemos una expliación exacta en QCD, podemos entender el rango de interacción de los gluones limitado por las propias interacciones entre ellos."
   ]
  },
  {
   "cell_type": "markdown",
   "metadata": {
    "slideshow": {
     "slide_type": "slide"
    }
   },
   "source": [
    "#### Propiedades de las fuerzas\n",
    "\n",
    "Adelantamos ahora algunas propiedades de las fuerzas que se discutirán en los temas siguientes:\n",
    "\n",
    "**Las interacciones electromagnética y fuerte conservan**:\n",
    "   * **el sabor**,\n",
    "\n",
    "   * **la paridad**.\n",
    "   \n",
    "Recordemos que paridad es la inversión de ${\\bf x} \\to - {\\bf x}$, cambio de signo en las coordenadas espaciales; y la inversión de carga cambia todas las cargas de las partículas.\n"
   ]
  },
  {
   "cell_type": "markdown",
   "metadata": {},
   "source": [
    "**La interacción fuerte conserva** además:\n",
    "\n",
    "   * las cargas de **color**.\n",
    "\n",
    "Esto es si los quarks iniciales son rojo y azul, entre los quarks finales hay rojo y azul.\n",
    "\n",
    "En este sentido, las interacciones fuertes y electromagnéticas, son *clásicas*."
   ]
  },
  {
   "cell_type": "markdown",
   "metadata": {
    "slideshow": {
     "slide_type": "slide"
    }
   },
   "source": [
    "\n",
    "Por el contrario, la interacciones débiles, son *peculiares* y *sorprendentes*, poque violan\n",
    "    \n",
    "   * la **paridad**, (las cargadas de forma máxima).\n",
    "   \n",
    "   Lo que es una caractística esencial de la interacción débil y una de las piezas angulares del Modelo Estándar.\n",
    "   \n",
    "   * la inversión conjunta de **carga y paridad**, CP. \n",
    "   \n",
    "   Se viola de forma mínima y solo en corrientes cargadas en hadrones, (no sabemos hoy en día si también se viola en leptones). Aunque esta violación es muy relevante, sin embargo no tiene un caracter fundamental en la teoría, sino que aparece como una posibilidad al existir tres generaciones. Tampoco sabemos por qué se produce este nivel de violación CP, que matemáticamente se traduce en el valor de una fase compleja en una matriz unitaria (ver tema quark-hadrones).\n",
    "\n",
    "Además, **las corrientes cargadas cambian el sabor, pero las neutras lo conservan**.\n",
    "\n",
    "Por ejemplo, la interacción débil neutra entre un neutrino y un leptón cargado iniciales da lugar a una dispersión con el mismo neutrino y leptón cargado en el estado final.\n",
    "\n",
    "Luego, la interacción más peculiar de todas, es con diferencia *la interacción débil cargada*, la que media la desintegración $\\beta$ del neutrón.\n"
   ]
  },
  {
   "cell_type": "markdown",
   "metadata": {
    "slideshow": {
     "slide_type": "slide"
    }
   },
   "source": [
    "### El bosón de Higgs\n",
    "\n",
    "Ahora sabemos, o entendemos, que las partículas de forma primigenia no tienen masa, y ésta no es una propiedad intrínsica suya, sino que aparece por la interacción de cada tipo de fermión con el bosón de Higgs. \n",
    "\n",
    "El bosón de Higgs es un **scalar**, su espín es $0$, y obedece a la ecuación de Klein-Gordon.\n",
    "\n",
    "Y como vemos juega un papel crucial en el SM:\n",
    "\n",
    "   * **dota de masas a las partículas**.\n",
    "   \n",
    "   * dota de masas **a los bosones véctoriales débiles $W^\\pm, Z^0$**.\n",
    "   \n",
    "Aunque la masa aparece como consecuencia de la interacción con el Higgs, el modelo no predice sin embargo qué masa tienen los fermiones, ni qué masa tiene el Higgs. Lo que hace que las masas sean parámetros libres del modelo.\n",
    "\n",
    "El Higgs además presenta interacciones entre otros higgs, con los bosones vectoriales débiles, y con los fermiones, lo que da lugar a la predicción de una física muy rica y compleja que es motivo de estudio actual en el LHC y lo será con seguridad en futuros aceleradores.\n",
    "\n",
    "Estudiaremos las características del SM y del bosón de Higgs en el [Tema-SM]"
   ]
  },
  {
   "cell_type": "markdown",
   "metadata": {
    "slideshow": {
     "slide_type": "slide"
    }
   },
   "source": [
    "## Un repaso a la historia\n",
    "\n",
    "### Hitos principales\n",
    "\n",
    "La siguiente tabla presenta algunos de los hitos principales en Física de Partículas, experimental, teórica y de detectores.\n",
    "\n",
    "| |\n",
    "| :--: | \n",
    "| <img src=\"./imgs/intro_particles_history.jpg\" width = 800 align=\"center\">|\n",
    "| Hitos de la Historia de Física de Partículas|"
   ]
  },
  {
   "cell_type": "markdown",
   "metadata": {},
   "source": [
    "A vuelo de pájaro:\n",
    "\n",
    "* Durante las primeras décadas del siglo XX se descubrieron los componentes del núcleo (*los componentes de la materia ordinaria: protón, neutrón, electrón, neutrino*).\n",
    "\n",
    "* En las décadas siguientes se descubrieron nuevos hadrones y leptones que se desintegraban (*¿Quién ha ordenado ésto?, ¿por qué este bestiario de nuevas partículas?*)\n",
    "\n",
    "* A principios de los 60' a partir del estudio de la estructura de los nucleones, se establece la existencia de los quarks (*¡orden al fin!*)\n",
    "\n",
    "* En las décadas de los 80-90 se confirma el Modelo Estándar (*todo encaja, pero falta una pieza, el bosón de Higgs*)\n",
    "\n",
    "* En el 2012 de descubre el bosón de Higgs (*El modelo está completo, pero no es suficiente...*)"
   ]
  },
  {
   "cell_type": "markdown",
   "metadata": {
    "slideshow": {
     "slide_type": "slide"
    }
   },
   "source": [
    "### Detectores, Experimentos, Teoría\n",
    "\n",
    "Enumeramos ahora como las tres ramas: detectores, experimental y teoría se complementan, y como han influido unas en otras a lo largo de la historia de la Física de Partículas\n",
    "\n",
    "Nuevos detectores permiten nuevos descubrimientos:\n",
    "\n",
    "  * Las emulsiones fotográficas permitieron la observación de partículas, $\\mu, \\pi$\n",
    "\n",
    "  * Las centelleadores y los reactores nucleares el descubrimiento del neutrino $\\nu_e$. \n",
    "    \n",
    "  * Los detectores de silicio la determinación de partículas con vida corta $\\tau, B$"
   ]
  },
  {
   "cell_type": "markdown",
   "metadata": {
    "slideshow": {
     "slide_type": "slide"
    }
   },
   "source": [
    "Los experimentos revelan una Naturaleza inesperada:\n",
    "\n",
    "  * La violación de Paridad y CP en corrientes débiles.\n",
    "  \n",
    "  * Tres familias de leptones y de quarks.\n",
    "  \n",
    "  * La matrix de mezcla, CKM, que rigue los corrientes cargadas entre los quarks.\n",
    "  \n",
    "  * Oscilaciones de neutrinos."
   ]
  },
  {
   "cell_type": "markdown",
   "metadata": {
    "slideshow": {
     "slide_type": "slide"
    }
   },
   "source": [
    "La construcción de la teoría guía a los descubrimientos:\n",
    "\n",
    "  * Pauli postula la existencia del neutrino.\n",
    "\n",
    "  * Gellman propone el modelo de quarks y la ordenación de 'zoo' de hadrones.\n",
    "    \n",
    "  * La unificación electro-débil predice las corrientes neutras de neutrinos.\n",
    "  \n",
    "  * La rotura espontánea de simetría postula la existencia del bosón de Higgs."
   ]
  },
  {
   "cell_type": "markdown",
   "metadata": {
    "slideshow": {
     "slide_type": "slide"
    }
   },
   "source": [
    "Algunos de los avaces experimentales más relevantes son:\n",
    "    \n",
    "  * El descubrimento del positron (antimateria)\n",
    "  \n",
    "  * El descubrimiento de partículas inesperadas: $\\mu, ...$\n",
    "  \n",
    "  * El descubrimiento del neutrino y sus propiedades.\n",
    "  \n",
    "  * La violación de Paridad y de CP en corrientes débiles\n",
    "  \n",
    "  * La existencia de los quarks y los gluones\n",
    "  \n",
    "  * La existencia de las corrientes neutras y la verificación del SM\n",
    "  \n",
    "  * La verificación de la matrix de mezclas CKM que rige la física del sabor de los hadrones.\n",
    "  \n",
    "  * El descubrimiento de oscilaciones de neutrinos\n",
    "  \n",
    "  * El descubrimiento del bosón de Higgs"
   ]
  },
  {
   "cell_type": "markdown",
   "metadata": {
    "slideshow": {
     "slide_type": "slide"
    }
   },
   "source": [
    "Los avances teóricos más importantes:\n",
    "\n",
    "  * La ecuación de Dirac y la existencia de la antimateria\n",
    "  \n",
    "  * El potencial de Yukawa\n",
    "  \n",
    "  * La teoría de Fermi de interacciones entre corrientes.\n",
    "  \n",
    "  * Los diagramas de Feynman (QED)\n",
    "  \n",
    "  * El modelo de quarks de Gellman and Zweig.\n",
    "  \n",
    "  * La unificación electro-débil, el Modelo Estándar (SM) de Glashow, Salam y Weinberg.\n",
    "  \n",
    "  * El mecanismo de Higgs y Englert."
   ]
  },
  {
   "cell_type": "markdown",
   "metadata": {
    "slideshow": {
     "slide_type": "slide"
    }
   },
   "source": [
    "### Preguntas sin respuesta\n",
    "\n",
    "Aún quedan por resolver bastantes preguntas de las que no conocemos la respuesta:\n",
    "\n",
    "* ¿Se conserva el número bariónico? ¿Se desintegra el protón?\n",
    "\n",
    "* ¿Se conserva el número leptónico? ¿Es el neutrino su propia anti-partícula?\n",
    "\n",
    "* ¿Son los quarks y leptones elementales? ¿Y el bosón de Higgs?\n",
    "\n",
    "* ¿Por qué hay 3 generaciones?\n",
    "\n",
    "* ¿Hay un patrón que explique las masas de los fermiones?\n",
    "\n",
    "* ¿Por qué hay tanta disparidad de masas entre el neutrino y el resto de fermiones? ¿Se acopla el neutrino al bosón de Higgs?\n",
    "\n",
    "* ¿Por qué el Universo está formado por materia y no por anti-materia? ¿Qué paso con la anti-materia del Universo?\n",
    "\n",
    "* ¿Qué forma la materia oscura?\n",
    "\n",
    "Si tenemos en cuenta que la materia del Universo que conocemos o decimos conocer supone un 5% del total, nos damos cuenta que queda aún mucho camino por recorrer..."
   ]
  },
  {
   "cell_type": "markdown",
   "metadata": {
    "slideshow": {
     "slide_type": "slide"
    }
   },
   "source": [
    "### Nomenclatura:\n",
    "\n",
    "| nombres          | definición |\n",
    "| :---          | :--- |\n",
    "| *partícula*  | corpúsculo que puede sentir la fuerzas electromagnética, débil o fuerte |\n",
    "| *antipartícula* | partícula con las cargas y números cuánticos (excepto masa y spín) opuestos a la partícula|\n",
    "| *fermión*  | partícula de spin 1/2 |\n",
    "| *leptón*  (ligero) | fermión que no siente la fuerza fuerte |\n",
    "| *quark*    | fermión que siente la fuerza fuerte |\n",
    "| *bosón*    | particula de spín entero |\n",
    "| *gauge boson*| bosones portadores de la fuerza $W, Z, \\gamma$ tienen spín 1 (vectoriales) |\n",
    "| *hadrón*  (fuerte) | partícula compuesta que siente la fuerza fuerte|\n",
    "| *barión*   | hadrón compuesto de tres quarks |\n",
    "| *mesón*   (mediano)| hadrón compuesto de quark y antiquark |\n",
    "\n"
   ]
  },
  {
   "cell_type": "markdown",
   "metadata": {},
   "source": [
    "[Para esta sección ver MT1.1 y AB1.8, AB1.9]"
   ]
  },
  {
   "cell_type": "markdown",
   "metadata": {
    "slideshow": {
     "slide_type": "slide"
    }
   },
   "source": [
    "\n",
    "\n",
    "## Bibliografía\n",
    "\n",
    " * [AB] Alessandro Bettini, \"Introduction to Elementary Particle Physcs\", Cambridge U. press. Tema 1\n",
    "\n",
    " * [MT] Mark Tomson, \"Modern Particle Physics\", Cambridge U. press. Tema 1\n",
    "    \n",
    " * [PDG](https://pdg.lbl.gov/) Particle Data Group."
   ]
  },
  {
   "cell_type": "markdown",
   "metadata": {},
   "source": []
  }
 ],
 "metadata": {
  "anaconda-cloud": {},
  "celltoolbar": "Slideshow",
  "kernelspec": {
   "display_name": "base",
   "language": "python",
   "name": "python3"
  },
  "language_info": {
   "codemirror_mode": {
    "name": "ipython",
    "version": 3
   },
   "file_extension": ".py",
   "mimetype": "text/x-python",
   "name": "python",
   "nbconvert_exporter": "python",
   "pygments_lexer": "ipython3",
   "version": "3.9.13"
  }
 },
 "nbformat": 4,
 "nbformat_minor": 4
}
