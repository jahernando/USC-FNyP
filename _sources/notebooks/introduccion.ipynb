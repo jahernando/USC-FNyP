{
 "cells": [
  {
   "cell_type": "markdown",
   "metadata": {
    "slideshow": {
     "slide_type": "slide"
    }
   },
   "source": [
    "# Introducción a Física de Partículas\n",
    "\n",
    "\n",
    "## Introducción\n",
    "\n",
    "\n",
    "*Jose A. Hernando Morata*\n",
    "\n",
    "*Departamento de Física de Partículas. Universidade de Santiago de Compostela*\n",
    "\n",
    "*primera versión: Septiembre 2021; última versión: Octubre 2023*\n"
   ]
  },
  {
   "cell_type": "code",
   "execution_count": 3,
   "metadata": {
    "slideshow": {
     "slide_type": "fragment"
    }
   },
   "outputs": [
    {
     "name": "stdout",
     "output_type": "stream",
     "text": [
      " Last version  Tue Oct 31 16:03:01 2023\n"
     ]
    }
   ],
   "source": [
    "import time\n",
    "print(' Last version ', time.asctime() )"
   ]
  },
  {
   "cell_type": "code",
   "execution_count": 2,
   "metadata": {
    "slideshow": {
     "slide_type": "subslide"
    }
   },
   "outputs": [],
   "source": [
    "# general imports\n",
    "%matplotlib inline\n",
    "%reload_ext autoreload\n",
    "%autoreload 2\n",
    "\n",
    "# numpy and matplotlib\n",
    "import numpy as np\n",
    "import matplotlib\n",
    "import matplotlib.pyplot as plt\n",
    "\n",
    "import scipy.constants as units"
   ]
  },
  {
   "cell_type": "markdown",
   "metadata": {
    "slideshow": {
     "slide_type": "slide"
    }
   },
   "source": [
    "## Objetivos\n",
    "\n",
    "* Dar una visión del entorno de la Física de Partículas:  \n",
    "  - Historia, relaciones con otras ramas, los laboratorios. \n",
    "  \n",
    "* Dar una introducción general del Modelo Estándar.\n",
    "  - La materia (fermiones),  las fuerzas (bosones), y el aglutinador (Higgs)\n",
    "  "
   ]
  },
  {
   "cell_type": "markdown",
   "metadata": {
    "slideshow": {
     "slide_type": "slide"
    }
   },
   "source": [
    "## Primeros pasos en Física de Partículas\n",
    "\n",
    "### ¿Qué es la Física de Partículas?\n",
    "\n",
    "\n",
    "  Física de Partículas es la rama de la Física que estudia los **corpúsculos** más pequeños (elementales?) de la Naturaleza y las **interacciones** que median entre ellos.\n",
    "\n",
    "| |\n",
    "|:--:|\n",
    "| <img src=\"./imgs/intro_distances_scale.jpg\" width = 800 align=\"center\">|\n",
    "\n",
    "\n",
    "Las escalas de **distancia** (m) y **energía** (eV):\n",
    "  \n",
    "  || Atómica | Nuclear | Partículas|\n",
    "  | -- | --       | --     | --        |\n",
    "  distancia (m)|  $10^{-10}$ | $10^{-14}$ | $10^{-18}$ |\n",
    "  Energía (eV) |  $1$ | $10^{6}$ | $10^{9-11}$ |\n",
    "  \n",
    "Si queremos explorar distancias muy cortas necesitamos, por la relación de Broglie, $\\lambda = h /p$, energías más altas."
   ]
  },
  {
   "cell_type": "markdown",
   "metadata": {
    "slideshow": {
     "slide_type": "slide"
    }
   },
   "source": [
    "### Metodología\n",
    "\n",
    "Estudiamos la naturaleza mediante pruebas con dispersión (*scattering*) o colisiones.\n",
    "\n",
    "| | | \n",
    "|:--:| :--: |\n",
    "| <img src=\"./imgs/intro_dispersion.png\" width = 400 align=\"center\">| <img src=\"./imgs/intro_colision.png\" width = 400 align=\"center\">|\n",
    "| Esquema de dispersión | Esquema de  colisión |\n",
    "    \n",
    "Literalmente lanzamos unas partículas ($e, p, \\nu$) contra otras a muy altas energías (GeV-TeV) y observamos sus productos."
   ]
  },
  {
   "cell_type": "markdown",
   "metadata": {
    "slideshow": {
     "slide_type": "slide"
    }
   },
   "source": [
    "### Partículas y Energía\n",
    "\n",
    "Se conoce también a Física de Partículas como **Física de Altas Energías**, ordenes típicos $\\mathcal{0}(1-10^3) $GeV.\n",
    "\n",
    "La Física de Partículas está asociada con el desarrollo de aceleradores de partículas y detectores.\n",
    "\n",
    "   * El acelerador más potente es el LHC [[>]](https://www.youtube.com/watch?v=pQhbhpU9Wrg)\n",
    "   \n",
    "   * Existen aceleradores cósmicos naturales que producen rayos cósmicos que alcanzan la Tierra. Ver el detector IceCube [[>]](https://www.youtube.com/watch?v=D50LNnioXQc)"
   ]
  },
  {
   "cell_type": "markdown",
   "metadata": {
    "slideshow": {
     "slide_type": "slide"
    }
   },
   "source": [
    "### Partículas y Cosmología\n",
    "\n",
    "| |\n",
    "| :--: |\n",
    "| <img src=\"./imgs/intro_universe_history_2.jpg\" width = 600 align=\"center\"> |\n",
    "| Esquema de la evolución del Universo [PDG]|\n"
   ]
  },
  {
   "cell_type": "markdown",
   "metadata": {
    "slideshow": {
     "slide_type": "slide"
    }
   },
   "source": [
    "La Física de Partículas nos permite entender la evolución primigenia del Universo (Cosmología).\n",
    "\n",
    "A partir de los $10^{-32}$ s después del Big Bang el Universo se rige por el Modelo Estándar, (SM) y depués de 100 s tiene lugar la Nucleosíntesis (Nuclear).\n",
    "\n",
    "Existe una relación de continuidad entre ramas de la física:\n",
    "\n",
    "<center>\n",
    "Astropartículas $\\Leftrightarrow$ Partículas $\\Leftrightarrow$ Nuclear\n",
    "</center>\n",
    " \n",
    "El *Instituto Galego de Fíxica de Altas Enerxías*, [IGFAE](https://igfae.usc.es/igfae/gl/), cubre las tres ramas y sus posibles aplicaciones."
   ]
  },
  {
   "cell_type": "markdown",
   "metadata": {
    "slideshow": {
     "slide_type": "slide"
    }
   },
   "source": [
    "### Teoría, experimentos, detectores\n",
    "\n",
    "La Física de Partículas es una rama que involucra a la física teórica, experimental y la de detectores.\n",
    "\n",
    "   * Los avances en detección hacen posible nuevos discubrimientos\n",
    "\n",
    "   * Los descubrimientos marcan las líneas permitidas de las teorías \n",
    "\n",
    "   * La teoría indica qué experimentos son de interés\n",
    "   \n",
    "   \n",
    " <center>\n",
    "   Detectores $\\Leftrightarrow$ Experimentos $\\Leftrightarrow$ Teorías\n",
    " </center>\n",
    " \n",
    " y se relaciona con otras áreas:\n",
    " \n",
    " <center>\n",
    "    Ingeniería | Química | Computación\n",
    " </center>"
   ]
  },
  {
   "cell_type": "markdown",
   "metadata": {
    "slideshow": {
     "slide_type": "slide"
    }
   },
   "source": [
    "### La gran ciencia\n",
    "\n",
    "Los experimentos y los acelerados son grandes construcciones, únicas, que requieren de la participación de miles de científicos y una gran financiación.\n",
    "\n",
    "Las estructuras de los experimentos son complejos, su planificación, construcción y explotación duran décadas. Un ejemplo: [ATLAS](https://atlas.cern/)\n",
    "\n",
    "| |\n",
    "| :--: |\n",
    "| <img src=\"./imgs/intro_atlas.jpg\" width = 600 align=\"center\"> |\n",
    "| Imagen del detector ATLAS durante su construcción [ATLAS]|\n",
    "\n",
    "El experimento [ATLAS](https://atlas.cern/) del LHC es uno de los más grandes experimentos construidos. \n"
   ]
  },
  {
   "cell_type": "markdown",
   "metadata": {
    "slideshow": {
     "slide_type": "slide"
    }
   },
   "source": [
    "### Los grandes Laboratorios\n",
    "\n",
    "Los experimentos de Física de Partículas tienen lugar en grandes laboratorios internacionales.\n",
    "\n",
    "| |\n",
    "| :--: |\n",
    "| <img src=\"./imgs/Dr_Fabiola_Gianotti.jpg\" width = 300 align=\"center\"> |\n",
    "| F. Gianotti, directora del [CERN](https://home.cern)|\n"
   ]
  },
  {
   "cell_type": "markdown",
   "metadata": {
    "slideshow": {
     "slide_type": "slide"
    }
   },
   "source": [
    "\n",
    "Basados en aceleradores:\n",
    "  \n",
    "   * [CERN](https://home.cern) (Ginebra, Suiza).\n",
    "     \n",
    "   * [Fermilab](https://www.fnal.gov/) (Chicago, Illinois), [SLAC](https://www6.slac.stanford.edu/) (Stanford, California), [Brookhaven](https://www.bnl.gov/world/) (New York)\n",
    "     \n",
    "   * [KEK](https://www.kek.jp/en/) (Japón)\n",
    "     \n",
    "Subterráneos:\n",
    "  \n",
    "   * [LNGS](https://www.lngs.infn.it/en) (Italia), [Kamioka](http://www-sk.icrr.u-tokyo.ac.jp/index-e.html) (Japon), [SNOLAB](https://www.snolab.ca/) (Canada), [Canfranc](https://lsc-canfranc.es/) (Spain)."
   ]
  },
  {
   "cell_type": "markdown",
   "metadata": {
    "slideshow": {
     "slide_type": "slide"
    }
   },
   "source": [
    "#### Aplicaciones prácticas\n",
    "\n",
    "Las técnicas desarrolladas para los detectores y los algoritmos para el tratamiento del gran volumen de tratamiento de datos han generados aplicaciones fundamentales en otros campos:\n",
    "\n",
    "   * Física Médica (rayos-X, PEP, terapia hadrónica)\n",
    "   \n",
    "   * World Wide Web ([WWW](https://home.cern/science/computing/birth-web/short-history-web)) "
   ]
  },
  {
   "cell_type": "markdown",
   "metadata": {
    "slideshow": {
     "slide_type": "slide"
    }
   },
   "source": [
    "### Historia\n",
    "\n",
    "Una vista a vuelo de pájaro de la historia de la Física de Partículas:\n",
    "\n",
    "| |\n",
    "| :--: | \n",
    "| <img src=\"./imgs/intro_particles_history.jpg\" width = 800 align=\"center\">|\n",
    "| Hitos de la Historia de Física de Partículas|"
   ]
  },
  {
   "cell_type": "markdown",
   "metadata": {
    "slideshow": {
     "slide_type": "slide"
    }
   },
   "source": [
    "Los grandes desarrollos de detetectores y aceleradores se traducen en descubrimientos científicos.\n",
    "\n",
    "  * Las emulsiones fotográficas permitieron la observación de partículas, $\\mu, \\pi$\n",
    "\n",
    "  * Las centelleadores y los reactores nucleares el descubrimiento del neutrino $\\nu_e$. \n",
    "    \n",
    "  * Los detectores de silicio la determinación de partículas con vida corta $\\tau, B$"
   ]
  },
  {
   "cell_type": "markdown",
   "metadata": {
    "slideshow": {
     "slide_type": "slide"
    }
   },
   "source": [
    "Los experimentos revelan una Naturaleza inesperada:\n",
    "\n",
    "  * La violación de Paridad y CP en corrientes débiles.\n",
    "  \n",
    "  * Tres familias de leptones y de quarks.\n",
    "  \n",
    "  * La matrix de mezcla, CKM, que rigue los corrientes cargadas entre los quarks.\n",
    "  \n",
    "  * Oscilaciones de neutrinos."
   ]
  },
  {
   "cell_type": "markdown",
   "metadata": {
    "slideshow": {
     "slide_type": "slide"
    }
   },
   "source": [
    "La construcción de la teoría guía a los descubrimientos:\n",
    "\n",
    "  * Pauli postula la existencia del neutrino.\n",
    "\n",
    "  * Gellman propone el modelo de quarks y la ordenación de 'zoo' de hadrones.\n",
    "    \n",
    "  * La unificación electro-débil predice las corrientes neutras de neutrinos.\n",
    "  \n",
    "  * La rotura espontánea de simetría postula la existencia del bosón de Higgs."
   ]
  },
  {
   "cell_type": "markdown",
   "metadata": {
    "slideshow": {
     "slide_type": "slide"
    }
   },
   "source": [
    "Los avacen experimentales más relevantes:\n",
    "    \n",
    "  * El descubrimento del positron (antimateria)\n",
    "  \n",
    "  * El descubrimiento de partículas inesperadas: $\\mu, ...$\n",
    "  \n",
    "  * El descubrimiento del neutrino y sus propiedades.\n",
    "  \n",
    "  * La violación de Paridad y de CP en corrientes débiles\n",
    "  \n",
    "  * La existencia de los quarks y los gluones\n",
    "  \n",
    "  * La existencia de las corrientes neutras y la verificación del SM\n",
    "  \n",
    "  * La verificación de la matrix de mezclas CKM\n",
    "  \n",
    "  * El descubrimiento de oscilaciones de neutrinos\n",
    "  \n",
    "  * El descubrimiento del bosón de Higgs"
   ]
  },
  {
   "cell_type": "markdown",
   "metadata": {
    "slideshow": {
     "slide_type": "slide"
    }
   },
   "source": [
    "Los avances teóricos más importantes:\n",
    "\n",
    "  * La ecuación de Dirac y la existencia de la antimateria\n",
    "  \n",
    "  * El potencial de Yukawa\n",
    "  \n",
    "  * La teoría de Fermi de interacciones entre corrientes.\n",
    "  \n",
    "  * Los diagramas de Feynman (QED)\n",
    "  \n",
    "  * El modelo de quarks de Gellman and Zweig.\n",
    "  \n",
    "  * La unificación electro-débil, el Modelo Estándar (SM) de Glashow, Salam y Weinberg.\n",
    "  \n",
    "  * El mecanismo de Higgs y Englert."
   ]
  },
  {
   "cell_type": "markdown",
   "metadata": {
    "slideshow": {
     "slide_type": "slide"
    }
   },
   "source": [
    "## Introducción al modelo estandar\n",
    "\n",
    "EL modelo estandar (SM) de Física de Partículas clasifica las partículas elementales y establece sus interacciones a través de las fuerzas electromagnética, débil y fuerte.\n",
    "\n",
    "El *Particle Data Group* ([PDG](https://pdg.lbl.gov/)) recopila toda la información relevante sobre física de partículas. "
   ]
  },
  {
   "cell_type": "markdown",
   "metadata": {
    "slideshow": {
     "slide_type": "slide"
    }
   },
   "source": [
    "### El SM a simple vista\n",
    "\n",
    "\n",
    "| |\n",
    "|:--:|\n",
    "|<img src=\"./imgs/intro_SM_table.png\" width = 600 align=\"center\">|\n",
    "|Las partículas del modelo estandar|\n"
   ]
  },
  {
   "cell_type": "markdown",
   "metadata": {
    "slideshow": {
     "slide_type": "slide"
    }
   },
   "source": [
    "La materia está formada por los **fermiones**, que son partículas elementales de spín $1/2$.\n",
    "\n",
    "Los **bosones vectoriales**, con spín $1$, son los mediadores de las fuerzas fuerte, débil y electromagnética.\n",
    "\n",
    "El **bosón scalar de Higgs**, que tiene spín 0, dota de masas a los fermiones y a los bosones vectoriales de la fuerza débil.\n"
   ]
  },
  {
   "cell_type": "markdown",
   "metadata": {
    "slideshow": {
     "slide_type": "slide"
    }
   },
   "source": [
    "### Fermiones\n",
    "\n",
    "Los fermiones se dividen en:\n",
    "\n",
    "  * **quarks** : si interaccionan fuertemente\n",
    "  \n",
    "  * **leptons**: si no interaccionan fuertemente\n",
    "    \n",
    "| fuerte | electromagnética | débil | \n",
    "|---      |:--       | :--          |\n",
    "| quarks | quarks y leptones cargados  | quarks y leptones |\n",
    "\n"
   ]
  },
  {
   "cell_type": "markdown",
   "metadata": {
    "slideshow": {
     "slide_type": "slide"
    }
   },
   "source": [
    "#### anti-fermiones\n",
    "\n",
    "Los fermiones se rigen por la ecuación de Dirac. Son espinores de Dirac. (ver [Apéndice-Dirac])\n",
    "\n",
    "Por cada fermión existe un antifermión.\n",
    "\n",
    "Una **antipartícula** tiene las cargas y los números cuánticos opuestos a su partícula, a excepción del espín y la masa que no cambian.\n",
    "\n",
    "Si $f$ es un fermión, denotamos $\\bar{f}$ como su antifermión.\n",
    "\n",
    "Indicamos los antileptones con carga (+): $e^+, \\mu^+, \\tau^+$"
   ]
  },
  {
   "cell_type": "markdown",
   "metadata": {
    "slideshow": {
     "slide_type": "slide"
    }
   },
   "source": [
    "#### generaciones\n",
    "\n",
    "Los fermiones (tanto leptones como quarks) aparecen en **tres generaciones** o familias. \n",
    "\n",
    "$$\n",
    "\\begin{pmatrix} \\nu_e \\\\ e \\end{pmatrix}, \\begin{pmatrix} \\nu_\\mu \\\\ \\mu \\end{pmatrix}, \n",
    "\\begin{pmatrix} \\nu_\\tau \\\\ \\tau \\end{pmatrix}; \\;\\;\\;\n",
    "\\begin{pmatrix} u \\\\ d \\end{pmatrix}, \\begin{pmatrix} c \\\\ s \\end{pmatrix}, \n",
    "\\begin{pmatrix} t \\\\ b \\end{pmatrix} \\\\\n",
    "$$\n",
    "\n",
    "Decimos que las partículas se presentan en tres **sabores**. Por ejemplo neutrino se presenta en sabor electrónico, muónico y tauónico.\n",
    "\n",
    "Las tres generaciones de leptones se comportan con **universalidad** (de igual manera) frente a las interacciones si se tiene en cuenta que sus masas son diferentes. \n",
    "\n",
    "No hay una motivación de por qué hay tres generaciones.\n",
    "\n",
    "En cada generación, tanto leptones como quarks, se agrupan en **dupletes** con posiciones **arriba** y **abajo**."
   ]
  },
  {
   "cell_type": "markdown",
   "metadata": {
    "slideshow": {
     "slide_type": "slide"
    }
   },
   "source": [
    "La siguiente tabla muestra los fermiones agrupados por familias, su carga eléctrica y las fuerzas que sienten: \n",
    "\n",
    "|         | posición |             | generación        |              | Q (e)           | fuerte | electromagnética | débil | \n",
    "|---      |:--       | :--         |:--          | :--          | :--             | :--    |:--     |:--   |\n",
    "|         |          |      I       |    II      |       III            |           |  |  | | \n",
    "|quarks   | up       |  u  (2 MeV) | c (1.2 GeV) | t (170 GeV)  | $\\frac{2}{3}$   | sí | sí | sí |\n",
    "|         | down     |  d  (5 MeV)  | s (93 MeV)  | b (4.2 GeV)  |  $\\frac{-1}{3}$ | sí | sí|  sí |\n",
    "|         |\n",
    "| leptons | up       | $\\nu_e$ (< eV)| $\\nu_\\mu$ (< eV) | $\\nu_\\tau$ (<eV)   | 0  | no | no | sí |\n",
    "|         | down     | $e$   (511 keV)| $\\mu$  (106 MeV)| $\\tau$  (1.77 GeV) | -1 | no | sí | sí |\n",
    "\n",
    "\n",
    "La carga eléctrica depende de su posición en el duplete. El fermión de arriba tiene una carga $+1$ comparada con la del de abajo.\n"
   ]
  },
  {
   "cell_type": "markdown",
   "metadata": {
    "slideshow": {
     "slide_type": "slide"
    }
   },
   "source": [
    "La siguiente figura muestra de forma gráfica la disparidad de masas entre los fermiones:\n",
    "\n",
    "\n",
    "| |\n",
    "|:--:|\n",
    "|<img src=\"./imgs/intro_masas.png\" width = 500 align=\"center\">|\n",
    "|Masas de los fermiones [MT1.1]|\n",
    "\n",
    "El electrón es 2000 veces más ligero que el protón. \n",
    "\n",
    "Del neutrino desconocemos su masa, pero ésta es al menos $5 \\times 10^5$ veces más pequeña que el electrón. \n",
    "\n",
    "Como veremos en el [Tema-SM] la masa de los fermiones aparece de su interacción con el bosón de Higgs. En el SM aparecen las masas como parámetros libres del modelo."
   ]
  },
  {
   "cell_type": "markdown",
   "metadata": {
    "slideshow": {
     "slide_type": "slide"
    }
   },
   "source": [
    "### Leptones\n",
    "\n",
    "Las tres familias de leptones son:\n",
    "\n",
    "$$\n",
    "\\begin{pmatrix} \\nu_e \\\\ e \\end{pmatrix}, \\begin{pmatrix} \\nu_\\mu \\\\ \\mu \\end{pmatrix}, \n",
    "\\begin{pmatrix} \\nu_\\tau \\\\ \\tau \\end{pmatrix}\n",
    "$$\n",
    "\n",
    "Los leptones cargados $\\mu, \\tau$ son una copia con más masa del $e$.\n",
    "\n",
    "Las interacciones conservan el **número leptónico**, $L$, que es el número de leptones menos el de anti-leptones. \n"
   ]
  },
  {
   "cell_type": "markdown",
   "metadata": {
    "slideshow": {
     "slide_type": "slide"
    }
   },
   "source": [
    "\n",
    "Por ejemplo en la desintegración $\\beta$:\n",
    "\n",
    "$$\n",
    "n \\to p + e + \\bar{\\nu}_e\n",
    "$$\n",
    "\n",
    "El número leptónico antes y después de de la desintegración es $L = 0$. Dado que $e$ es un leptón, $L = +1$  y $\\bar{\\nu}_e$ un anti-lepton, $L=-1$.\n",
    "\n",
    "Notar que en la desintegración $\\beta$ **se conserva la carga eléctrica.**\n",
    "\n",
    "**El electrón**, que es el leptón cargado más ligero, **es estable**. "
   ]
  },
  {
   "cell_type": "markdown",
   "metadata": {
    "slideshow": {
     "slide_type": "slide"
    }
   },
   "source": [
    "Los leptones cargados se desintegran débilmente:\n",
    "\n",
    "Sus vidas medias son:\n",
    "\n",
    "| $e$  |  --------- $\\mu$ --------- | ------- $\\tau$ ----|\n",
    "| :--: | :--: | :--: | \n",
    "| estable | $2.6 \\, 10^{-6}$ s| $2.9 \\, 10^{-13}$ s|\n",
    "\n",
    "Los electrones interaccionan con los átomos de la materia, ionizando y radiando fotones por *Bremsstrahlung*. \n",
    "\n",
    "Los muones son partículas penetrantes, del orden de $\\mathcal{0}(10)$m (depende de su momento) porque su radiación de *Bremsstrahlung* está suprimida por $1/m^2_\\mu$ comparada con los electrones.\n",
    "\n",
    "Los tauones se desintegran al poco de ser producidos. Pueden llegar a recorrer $\\mathcal{0}$(cm).\n"
   ]
  },
  {
   "cell_type": "markdown",
   "metadata": {
    "slideshow": {
     "slide_type": "slide"
    }
   },
   "source": [
    "Existen tres neutrinos de sabor, $\\nu_e, \\nu_\\mu, \\nu_\\tau$ asociados a sus parejas leptónicas $e, \\mu, \\tau$ respectivamente.\n",
    "\n",
    "**El SM postula que no tienen masa**, pero gracias a los experimentos de oscilaciones de neutrinos sabemos que tienen masa.\n",
    "\n",
    "Su masa se desconoce pero es muy pequeña $\\lt 1$ eV comparada con la del $e$.\n",
    "\n",
    "**Los neutrinos** no tienen carga eléctrica, **tienen una masa muy pequeña**, **son estables**, y **sólo interactuan débilmente**.  ¡Son muy *cool*!\n",
    "\n",
    "Son los leptones más peculiares del SM y que tengan masa es **la única prueba hasta el momento de que el SM es incompleto o incorrecto**.\n",
    "\n",
    "Las características de los leptones y las peculiaridades de la desintegración débil y de los neutrinos las estudiaremos en el [Tema-leptones]."
   ]
  },
  {
   "cell_type": "markdown",
   "metadata": {
    "slideshow": {
     "slide_type": "slide"
    }
   },
   "source": [
    "### Los quarks\n",
    "\n",
    "Las tres generaciones de quarks son:\n",
    "\n",
    "$$\n",
    "\\begin{pmatrix} u \\\\ d \\end{pmatrix}, \\begin{pmatrix} c \\\\ s \\end{pmatrix}, \n",
    "\\begin{pmatrix} t \\\\ b \\end{pmatrix} \\\\\n",
    "$$\n",
    "\n",
    "Los quarks $(c, s)$, encanto y extrañeza respectivamente, y $(t, b)$, top y bottom (o belleza), son copias con más masa del par $(u, d)$, arriba y abajo.\n",
    "\n",
    "Los quarks $u, d, s$ son ligeros, los quark $c, b$ son pesados. El top, $t$, es incluso más pesado que los bosones vectoriales $W^\\pm, Z$ y el Higgs, $H$, y no llega a producir hadrones.\n",
    "\n",
    "**Los quarks tienen carga fraccionaria**: los de arriba $+2/3$ y los de abajo $-1/3$ en unidades de $e$.\n",
    "\n",
    "**Los quarks no son libres**, sólo aparecen en partíclas compuestas, los **hadrones**. Este fenómeno se conoce como **confinamiento**.\n"
   ]
  },
  {
   "cell_type": "markdown",
   "metadata": {
    "slideshow": {
     "slide_type": "slide"
    }
   },
   "source": [
    "\n",
    "Los quarks aparecen con tres cargas fuertes o de **color**, que se denominan: **rojo, verde y azul**, $r, g, b$. Y por supuesto no tiene nada que ver con los colores habituales. \n",
    "\n",
    "Un mismo quark existe en tres colores, por ejemplo el quark belleza, $b$, puede ser rojo, verde o azul. Hay por lo tanto 18 quarks diferentes.\n",
    "\n",
    "Los únicos hadrones que existen son **neutros al color**, digamos que son *descoloridos* o *blancos*, de forma similar al hecho de que los átomos sean eléctricamente neutros.\n",
    "\n",
    "Estudiaremos los quarks, los hadrones y el color en el [Tema-quarks]."
   ]
  },
  {
   "cell_type": "markdown",
   "metadata": {
    "slideshow": {
     "slide_type": "slide"
    }
   },
   "source": [
    "Los **hadrones** se clasifican en.\n",
    "\n",
    "  * **bariones**, formados por tres quarks.\n",
    "  \n",
    "  * **mesones**, formados por un par quark y antiquark.\n",
    "\n",
    "| |\n",
    "| :--| \n",
    "| <img src=\"./imgs/intro_hadrons.png\" width = 500 align=\"center\"> |\n",
    "| Imagen esquemática de un mesón y un barión|\n",
    "\n",
    "que como veremos ([Tema-quarks]) son las únicas combinaciones de singletes de color y por lo tanto los únicos hadrones blancos.\n",
    "\n",
    "Notar que la carga eléctrica de los hadrones es entera."
   ]
  },
  {
   "cell_type": "markdown",
   "metadata": {
    "slideshow": {
     "slide_type": "slide"
    }
   },
   "source": [
    "El protón y el neutrón son bariones.\n",
    "\n",
    "El protón está formado por el trío de quarks de valencia ($uud$), cuya carga es $+e$,  y el neutrón por ($udd$), cuya carga es nula.\n",
    "\n",
    "En las interacciones se conserva **el número bariónico**, $B$, (el número de bariones menos el de antibariones).\n",
    "\n",
    "Por ejemplo, de nuevo, en la desintegración $\\beta$:\n",
    "\n",
    "$$\n",
    "n \\to p + e + \\bar{\\nu}_e.\n",
    "$$\n",
    "\n",
    "A ambos lados de la interacción el número bariónico es 1. El $p$ y el $n$ tienen los dos $B = 1$\n",
    "\n",
    "**El protón**, que es el barión más ligero, **es estable**.\n"
   ]
  },
  {
   "cell_type": "markdown",
   "metadata": {
    "slideshow": {
     "slide_type": "slide"
    }
   },
   "source": [
    "Remarquemos que la desintegración $\\beta$ \n",
    "    \n",
    "$$\n",
    "n \\to p + e + \\bar{\\nu}_e.\n",
    "$$\n",
    "\n",
    "y el resto de **interacciones conservan**:\n",
    "\n",
    "    \n",
    "  * la **carga eléctrica**, $Q$,\n",
    "  \n",
    "  * el **número leptónico**, $L$,\n",
    "  \n",
    "  * el **número bariónico**, $B$."
   ]
  },
  {
   "cell_type": "markdown",
   "metadata": {
    "slideshow": {
     "slide_type": "slide"
    }
   },
   "source": [
    "\n",
    "A excepción del protón, el resto de hadrones, así como los leptones cargados $\\mu, \\tau$, se desintegran:\n",
    "\n",
    "La vida media de la desintegración depende:\n",
    "\n",
    "  * del tipo de desintegración permitida, ya sea ésta fuerte, electromagnética (via un fotón) o débil (vía bosones $W^\\pm$).\n",
    "  \n",
    "  * del espacio fásico permitido. A mayor diferencia de masas entre la partícula madre y las hijas más espacio fásico.\n",
    "  "
   ]
  },
  {
   "cell_type": "markdown",
   "metadata": {
    "slideshow": {
     "slide_type": "slide"
    }
   },
   "source": [
    "\n",
    "La figura muestra la vida media de varias partículas y su tipo de desintegración. \n",
    "\n",
    "| |\n",
    "|:--|\n",
    "| <img src=\"./imgs/intro_lifetimes.png\" width = 900 align=\"center\">|\n",
    "| Vida media de algunas partículas dependiendo del tipo de desintegración [MT1.1]\n",
    "\n",
    "La partículas que se desintegran débilmente son aquellas con una vida media \"mayor\"."
   ]
  },
  {
   "cell_type": "markdown",
   "metadata": {
    "slideshow": {
     "slide_type": "slide"
    }
   },
   "source": [
    "### Los mediadores de las fuerzas\n",
    "\n",
    "Recordemos que la fuerzas son responsables entre otros fenómenos de:\n",
    "    \n",
    "   * la **electromagnética**, de la estabilidad y complejidad de los átomos\n",
    "   \n",
    "   * la **débil**, de las desintegraciones $\\beta$ nucleares.\n",
    "        \n",
    "   * la **fuerte**, de la estabilidad y complejidad de los núcleos (protones y neutrones) y de los hadrones.\n",
    "        "
   ]
  },
  {
   "cell_type": "markdown",
   "metadata": {
    "slideshow": {
     "slide_type": "slide"
    }
   },
   "source": [
    "#### Propiedades de los portadores\n",
    "\n",
    "La interacción se describe como el intercambio de un mediador o portador de la fuerza entre corrientes de fermiones.\n",
    "\n",
    "Cada portador interviene según la carga (por ejemplo eléctrica o color) de los fermiones a los que se acopla.\n",
    "\n",
    "Los portadores **son bosones vectoriales** (spín 1).\n",
    "\n",
    "En la tabla se muestra intensidad aproximada de las distintas fuerzas: \n",
    "\n",
    "| fuerza            | intensidad | bosón            | Q (e) | mass (GeV) |\n",
    "| :--               | :--        | :--              | :--   | :--     | \n",
    "| fuerte            | 1          | $g$ (gluón)      | 0     | 0       | \n",
    "| electromagnetismo | $10^{-3}$  | $\\gamma$ (fotón) | 0     | 0       | \n",
    "| débil             | $10^{-8}$  | $W^{\\pm}$        | $\\pm1$  | 80.4 | \n",
    "|                   |           | $Z^0$              | 0  | 91.2 |\n",
    "| gravedad          | $10^{-37}$| "
   ]
  },
  {
   "cell_type": "markdown",
   "metadata": {
    "slideshow": {
     "slide_type": "slide"
    }
   },
   "source": [
    "La masa del bosón determina el rango (en distancia) de la interacción. El rango de la interacciones débiles es de $<10^{-18}$ m. \n",
    "\n",
    "El rango de $100$ GeV, aproximadamente la masa del bosón $Z$, se conoce como **escala electrodébil.**\n",
    "\n",
    "Los bosones $W^\\pm$ son cargados. Sus interacciones se conocen como **corrientes cargadas** (CC).\n",
    "\n",
    "Las interacciones del bosón $Z^0$ se denominan también **corrientes neutras** (NC). \n",
    "\n",
    "Existen 8 tipos de gluones, que cambian el color de los quarks, son electricamente neutros y de masa nula. Los gluones tienen carga de color e interaccionan entre sí, generando \"lazos\" entre ellos y reduciendo la interacción fuerte al rango de fm.\n",
    "\n",
    "El rango de los fotones en infinito mientras que el de los bosones débiles y los gluones es puntual."
   ]
  },
  {
   "cell_type": "markdown",
   "metadata": {
    "slideshow": {
     "slide_type": "slide"
    }
   },
   "source": [
    "#### Propiedades de las fuerzas\n",
    "\n",
    "Adelantamos ahora algunas propiedades de las fuerzas que se discutirán en los temas siguientes:\n",
    "\n",
    "**Las interacciones electromagnética y fuerte conservan**:\n",
    "   * **el sabor**,\n",
    "\n",
    "   * **la paridad**.\n",
    "   \n",
    "Recordemos que paridad es la inversión de ${\\bf x} \\to - {\\bf x}$, cambio de signo en las coordenadas espaciales; y la inversión de carga cambia todas las cargas de las partículas (a excepción del espín y la masa).\n",
    "\n",
    "La conservación del sabor implica que el número de partículas menos el antipartículas de un sabor, por ejemplo del quark belleza, se conserva antes y después de una interacción."
   ]
  },
  {
   "cell_type": "markdown",
   "metadata": {
    "slideshow": {
     "slide_type": "slide"
    }
   },
   "source": [
    "\n",
    "En los temas siguientes veremos también que:\n",
    "\n",
    "**las interacciones débiles violan**:\n",
    "    \n",
    "   * **paridad**, (las cargadas de forma máxima),\n",
    "   \n",
    "   * **carga y paridad**, CP, mínimamente y solo en corrientes cargadas en hadrones, (no sabemos si también se viola en leptones).\n",
    "    \n",
    "**las corrientes cargadas cambian el sabor, pero las neutras lo conservan**.\n",
    "   \n",
    "**La interacción fuerte conserva** además:\n",
    "\n",
    "   * las cargas de **color**.\n",
    "   \n",
    "*Las interacciones débiles son \"peculiares\", especialmente la cargada.*"
   ]
  },
  {
   "cell_type": "markdown",
   "metadata": {
    "slideshow": {
     "slide_type": "slide"
    }
   },
   "source": [
    "### El bosón de Higgs\n",
    "\n",
    "El bosón de Higgs es un **scalar**, su espín es $0$.\n",
    "\n",
    "Juega un papel crucial en el SM:\n",
    "\n",
    "   * **dota de masas a las partículas**.\n",
    "   \n",
    "   * dota de masas **a los bosones véctoriales débiles $W^\\pm, Z$**, **manteniendo las simetrías** de la teoría.\n",
    "   \n",
    "Sin embargo el SM introduce las masas de los fermiones como parámetros libres del modelo.\n",
    "   \n",
    "Estudiaremos las características del SM y del bosón de Higgs en el [Tema-SM]"
   ]
  },
  {
   "cell_type": "markdown",
   "metadata": {
    "slideshow": {
     "slide_type": "slide"
    }
   },
   "source": [
    "### El Universo está formado de materia\n",
    "\n",
    "No hay evidencia de partes del Universo formadas por antimateria.\n",
    "\n",
    "Los átomos están formados por electrones y núcleos, éstos a su vez por protones (que son un trío de quarks ($uud$) y neutrones ($udd$)).\n",
    "\n",
    "El Universo está compuesto pues **por electrones, neutrinos y quarks $(u, d)$.**\n",
    "Decimos que el Universo es de \"baja\" energía.\n",
    "\n",
    "El Universo primigenio estaba a más energía, y existían leptones y quarks (hadrones) de las otras generaciones. \n",
    "\n",
    "Conforme el Universo se enfrió solo los elementos estables sobrevivieron.\n",
    "\n",
    "No sabemos por qué en el Universo solo sobrevivió la materia dado que inicialmente debió existir la misma cantidad de partículas que anti-partículas."
   ]
  },
  {
   "cell_type": "markdown",
   "metadata": {
    "slideshow": {
     "slide_type": "slide"
    }
   },
   "source": [
    "### Algunas preguntas sin respuesta\n",
    "\n",
    "* ¿Son los quarks y leptones elementales? ¿Y el bosón de Higgs?\n",
    "\n",
    "* ¿Por qué hay 3 generaciones?\n",
    "\n",
    "* ¿Hay un patrón de masas de los fermiones?\n",
    "\n",
    "* ¿Por qué hay tanta disparidad de masas entre el neutrino y el resto de fermiones?\n",
    "\n",
    "* ¿Es el neutrino su propia anti-partícula?\n",
    "\n",
    "* ¿Por qué el Universo está formado por materia y no por anti-materia? ¿Qué paso con la anti-materia del Universo?\n",
    "\n",
    "* ¿Qué forma la materia oscura?\n",
    "\n"
   ]
  },
  {
   "cell_type": "markdown",
   "metadata": {
    "slideshow": {
     "slide_type": "slide"
    }
   },
   "source": [
    "#### Nomenclatura:\n",
    "\n",
    "| nombres          | definición |\n",
    "| :---          | :--- |\n",
    "| *partícula*  | corpúsculo que puede sentir la fuerzas electromagnética, débil o fuerte |\n",
    "| *antipartícula* | partícula con las cargas y números cuánticos (excepto masa y spín) opuestos a la partícula|\n",
    "| *fermión*  | partícula de spin 1/2 |\n",
    "| *leptón*  (ligero) | fermión que no siente la fuerza fuerte |\n",
    "| *quark*    | fermión que siente la fuerza fuerte |\n",
    "| *bosón*    | particula de spín entero |\n",
    "| *gauge boson*| bosones portadores de la fuerza $W, Z, \\gamma$ tienen spín 1 (vectoriales) |\n",
    "| *hadrón*  (fuerte) | partícula compuesta que siente la fuerza fuerte|\n",
    "| *barión*   | hadrón compuesto de tres quarks |\n",
    "| *mesón*   (mediano)| hadrón compuesto de quark y antiquark |\n",
    "\n"
   ]
  },
  {
   "cell_type": "markdown",
   "metadata": {},
   "source": [
    "[Para esta sección ver MT1.1 y AB1.8, AB1.9]"
   ]
  },
  {
   "cell_type": "markdown",
   "metadata": {
    "slideshow": {
     "slide_type": "slide"
    }
   },
   "source": [
    "\n",
    "\n",
    "## Bibliografía\n",
    "\n",
    " * [AB] Alessandro Bettini, \"Introduction to Elementary Particle Physcs\", Cambridge U. press. Tema 1\n",
    "\n",
    " * [MT] Mark Tomson, \"Modern Particle Physics\", Cambridge U. press. Tema 1\n",
    "    \n",
    " * [PDG](https://pdg.lbl.gov/) Particle Data Group."
   ]
  },
  {
   "cell_type": "markdown",
   "metadata": {},
   "source": []
  }
 ],
 "metadata": {
  "anaconda-cloud": {},
  "celltoolbar": "Slideshow",
  "kernelspec": {
   "display_name": "Python 3 (ipykernel)",
   "language": "python",
   "name": "python3"
  },
  "language_info": {
   "codemirror_mode": {
    "name": "ipython",
    "version": 3
   },
   "file_extension": ".py",
   "mimetype": "text/x-python",
   "name": "python",
   "nbconvert_exporter": "python",
   "pygments_lexer": "ipython3",
   "version": "3.9.13"
  }
 },
 "nbformat": 4,
 "nbformat_minor": 4
}
