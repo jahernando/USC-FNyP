{
 "cells": [
  {
   "cell_type": "markdown",
   "metadata": {
    "slideshow": {
     "slide_type": "slide"
    }
   },
   "source": [
    "# Introducción a Física de Partículas\n"
   ]
  },
  {
   "cell_type": "code",
   "execution_count": 5,
   "metadata": {
    "slideshow": {
     "slide_type": "fragment"
    }
   },
   "outputs": [
    {
     "name": "stdout",
     "output_type": "stream",
     "text": [
      " Last version  Wed Sep 10 17:07:57 2025\n"
     ]
    }
   ],
   "source": [
    "import time\n",
    "print(' Last version ', time.asctime() )"
   ]
  },
  {
   "cell_type": "code",
   "execution_count": 6,
   "metadata": {
    "slideshow": {
     "slide_type": "subslide"
    }
   },
   "outputs": [],
   "source": [
    "# general imports\n",
    "%matplotlib inline\n",
    "%reload_ext autoreload\n",
    "%autoreload 2\n",
    "\n",
    "# numpy and matplotlib\n",
    "import numpy as np\n",
    "import matplotlib\n",
    "import matplotlib.pyplot as plt\n",
    "\n",
    "import scipy.constants as units"
   ]
  },
  {
   "cell_type": "markdown",
   "metadata": {
    "slideshow": {
     "slide_type": "slide"
    }
   },
   "source": [
    "## Objetivos\n",
    "\n",
    "* Una visión del campo de la Física de Partículas:  \n",
    "  - su propósito, sus relaciones con otras ramas de la Física y los laboratorios principales. \n",
    "  \n",
    "* Conceptos básicos: Interacciones y cantidades conservadas\n",
    "  \n",
    "* Sección Eficaz y vida meda\n",
    "\n",
    "* radiaciones alpha, bega, gamma. De los nucleos a los quarks.\n",
    "\n",
    "* Una introducción general del Modelo Estándar:\n",
    "  - de los componentes de la materia (fermiones) y de las fuerzas (bosones) que median entre ellas.\n",
    "  "
   ]
  },
  {
   "cell_type": "markdown",
   "metadata": {
    "slideshow": {
     "slide_type": "slide"
    }
   },
   "source": [
    "## Sobre la Física de Partículas\n",
    "\n",
    "  La Física de Partículas es la rama de la Física que estudia los **corpúsculos** más pequeños (algunos de ellos quizás elementales) de la Naturaleza y las **interacciones** que median entre ellos.\n",
    "\n"
   ]
  },
  {
   "cell_type": "markdown",
   "metadata": {
    "slideshow": {
     "slide_type": "slide"
    }
   },
   "source": [
    "### Escala de la Física de Partículas\n",
    "\n",
    "La siguiente figura muestra las diferentes escalas en *distancia* (m). Conforme reducimos la escala pasamos del sólido, al átomo, al núcleo, y finalmente a las partículas.\n",
    "\n",
    "\n",
    "\n",
    "| |\n",
    "|:--:|\n",
    "| <img src=\"./imgs/intro_distances_scale.jpg\" width = 500 align=\"center\">|\n",
    "\n",
    "La escala en distancia que corresponde a la Física de Partículas es inferior al femtometro,  $< 10^{-15}$ m.\n"
   ]
  },
  {
   "cell_type": "markdown",
   "metadata": {
    "slideshow": {
     "slide_type": "slide"
    }
   },
   "source": [
    "Profundizamos en el interior de las partículas usando otras partículas como sonda, por ejemplo electrones. \n",
    "\n",
    "Para explorar distancias cada vez más pequeñas, por la relación de Broglie, $\\lambda = h /p$, necesitamos cada vez sondas con energías mayores.\n",
    "\n",
    "La siguiente tabla muestra las escalas típicas de **distancia** (m) y **energía** (eV):\n",
    "  \n",
    "  || Atómica | Nuclear | Partículas|\n",
    "  | -- | --       | --     | --        |\n",
    "  distancia (m)|  $10^{-10}$ | $10^{-14}$ | $10^{-18}$ |\n",
    "  Energía (eV) |  $1$ | $10^{6}$ | $10^{9-11}$ |\n",
    "  |          | $\\mathcal{O}$(eV) | $\\mathcal{O}$ (MeV) | $\\mathcal{O}$(GeV-TeV) |          \n",
    "\n"
   ]
  },
  {
   "cell_type": "markdown",
   "metadata": {
    "slideshow": {
     "slide_type": "slide"
    }
   },
   "source": [
    "En rango de energías de Física de Partículas es $>$ GeV.\n",
    "\n",
    "Por eso a la Física de Partículas también se la conoce como **Física de Altas Energías**.\n",
    "\n",
    "En general, a estas energías, las partículas son relativistas. Así que nuestro entorno será la física cuántica y relativista."
   ]
  },
  {
   "cell_type": "markdown",
   "metadata": {
    "slideshow": {
     "slide_type": "slide"
    }
   },
   "source": [
    "### Metodología\n",
    "\n",
    "Estudiamos las interacciones de las partículas mediante  dos tipos de experimentos: **dispersión** (*scattering*) o **colisiones**.\n",
    "\n",
    "| | | \n",
    "|:--:| :--: |\n",
    "| <img src=\"./imgs/intro_dispersion.png\" width = 300 align=\"center\">| <img src=\"./imgs/intro_colision.png\" width = 300 align=\"center\">|\n",
    "| Esquema de dispersión | Esquema de  colisión |\n",
    "    \n",
    "Literalmente lanzamos haces de partículas (principalmente $e, p, \\nu$) a muy altas energías (GeV-TeV) contra blancos (formados por otras partículas, principalmente nucleones) y observamos las partículas que se producen y sus distribuciones en energía y angulares."
   ]
  },
  {
   "cell_type": "markdown",
   "metadata": {
    "slideshow": {
     "slide_type": "slide"
    }
   },
   "source": [
    "### Física de Altas energías y aceleradores\n",
    "\n",
    "En general la materia ordinaria, a excepción de los rayos cósmicos, no es relativista.\n",
    "\n",
    "¿Cómo podemos obtener haces de partículas a altas energías? \n",
    "\n",
    "Mediante **aceleradores de partículas** como el **LHC** [[>]](https://www.youtube.com/watch?v=pQhbhpU9Wrg), o mediante los **rayos cósmicos** que alcanzan la Tierra (principalmente protones, pero también neutrinos) producidos en estructuras del Cosmos que actuan como aceleradores naturales.\n",
    "\n",
    "Por ejemplo el detector IceCube [[>]](https://www.youtube.com/watch?v=D50LNnioXQc) detecta interacciones de neutrinos atmosféricos, solares y cósmicos."
   ]
  },
  {
   "cell_type": "markdown",
   "metadata": {
    "slideshow": {
     "slide_type": "slide"
    }
   },
   "source": [
    "### Partículas y Cosmología\n",
    "\n",
    "La Física de Partículas está muy relacionada con la Cosmología.\n",
    "\n",
    "Durante los primeros segundos del Universo, éste se componía de una sopa de partículas. \n",
    "\n",
    "| |\n",
    "| :--: |\n",
    "| <img src=\"./imgs/intro_universe_history_2.jpg\" width = 500 align=\"center\"> |\n",
    "| Esquema de la evolución del Universo [PDG]|\n"
   ]
  },
  {
   "cell_type": "markdown",
   "metadata": {
    "slideshow": {
     "slide_type": "slide"
    }
   },
   "source": [
    "Conforme el Universo se enfrió, las partículas crearon primero bariones, luego núcleos, átomos, y finalmente las estrellas y galaxias.\n",
    "\n",
    "A partir de $10^{-32}$ s después del Big Bang, el Universo se rige por el Modelo Estándar hasta 100 s después cuando empiezan a formarse núcleos.\n",
    "\n",
    "Detengámanos por ejemplo, en la desintegración del neutrón, la desintegración $\\beta$\n",
    "\n",
    "$$\n",
    "n \\to p + e + \\bar{\\nu}_e\n",
    "$$\n",
    "\n",
    "Después de su creacción, el neutrón vive aproximadamente 10 mins, tiempo suficiente afortunadamente para que se formasen los primeros núcleos de Helio estables, lo que sucedió aproximadamente a los 6 mins."
   ]
  },
  {
   "cell_type": "markdown",
   "metadata": {
    "slideshow": {
     "slide_type": "slide"
    }
   },
   "source": [
    "Podemos decir por lo tanto que existe una relación de continuidad entre ramas de la física:\n",
    "\n",
    "$$\n",
    "\\mathrm{Astropartículas} \\Leftrightarrow \\mathrm{Partículas} \\Leftrightarrow \\mathrm{Nuclear}\n",
    "$$\n",
    " \n",
    "El *Instituto Galego de Física de Altas Enerxías*, [IGFAE](https://igfae.usc.es/igfae/gl/), cubre las tres ramas y sus posibles aplicaciones. Puedes explorar su página web para más información."
   ]
  },
  {
   "cell_type": "markdown",
   "metadata": {
    "slideshow": {
     "slide_type": "slide"
    }
   },
   "source": [
    "### Relación entre teoría, experimentos y detectores\n",
    "\n",
    "La Física de Partículas involucra a la física teórica, experimental y la de detectores.\n",
    "\n",
    " $$\n",
    "\\mathrm{Detectores} \\Leftrightarrow \\mathrm{Experimentos} \\Leftrightarrow \\mathrm{Teorías}\n",
    " $$\n",
    "  \n",
    "\n",
    "Las tres son esenciales y se complementan: \n",
    "\n",
    "   * Los avances en detección hacen posible nuevos descubrimientos\n",
    "\n",
    "   * Los descubrimientos marcan las líneas permitidas de las teorías \n",
    "\n",
    "   * La teoría indica qué experimentos son de interés\n",
    "   \n",
    "\n",
    "Pero no unicamente, La física de Partículas necesita de la ingeniería, química y computación.\n",
    " "
   ]
  },
  {
   "cell_type": "markdown",
   "metadata": {
    "slideshow": {
     "slide_type": "slide"
    }
   },
   "source": [
    "### La gran ciencia\n",
    "\n",
    "Los aceleradores y los experimentos de partículas son grandes construcciones, en muchas ocasiones únicas y singulares, que requieren de la participación de cientos o miles de científicos y una gran financiación.\n",
    "\n",
    "Los experimentos son muy complejos. Su planificación, construcción y explotación duran a veces décadas. Por ejemplo, [ATLAS](https://atlas.cern/) en el LHC,\n",
    "\n",
    "| |\n",
    "| :--: |\n",
    "| <img src=\"./imgs/intro_atlas.jpg\" width = 500 align=\"center\"> |\n",
    "| Imagen del detector ATLAS durante su construcción [ATLAS]|\n",
    "\n",
    "es uno de los más grandes experimentos construidos y donde trabajan más de 2000 físicos del todo el mundo.\n"
   ]
  },
  {
   "cell_type": "markdown",
   "metadata": {
    "slideshow": {
     "slide_type": "slide"
    }
   },
   "source": [
    "### Los grandes Laboratorios\n",
    "\n",
    "Los experimentos de Física de Partículas tienen lugar principalmente en grandes laboratorios internacionales.\n",
    "\n",
    "El CERN, en Ginebra, Suiza, fundando en los años 50 del siglo XX, es desde los 80 el principal laboratorio de Física de Partículas. El CERN es un gran campus europeo de investigación donde han tenido lugar experimentos esenciales en Física de Partículas, avances fundamentales como la aparición de la *WWW*, y descubrimientos como los de los bosones vectoriales $W^\\pm, Z^0$ y el Higgs.\n"
   ]
  },
  {
   "cell_type": "markdown",
   "metadata": {},
   "source": [
    "La actual directora del CERN es F. Gianotti.\n",
    "\n",
    "| |\n",
    "| :--: |\n",
    "| <img src=\"./imgs/Dr_Fabiola_Gianotti.jpg\" width = 200 align=\"center\"> |\n",
    "| F. Gianotti, directora del [CERN](https://home.cern)|\n"
   ]
  },
  {
   "cell_type": "markdown",
   "metadata": {
    "slideshow": {
     "slide_type": "slide"
    }
   },
   "source": [
    "\n",
    "Los principales laboratorios de partículas son:\n",
    "\n",
    "basados en aceleradores:\n",
    "  \n",
    "   * [CERN](https://home.cern) (Ginebra, Suiza).\n",
    "     \n",
    "   * [Fermilab](https://www.fnal.gov/) (Chicago, Illinois), [SLAC](https://www6.slac.stanford.edu/) (Stanford, California), [Brookhaven](https://www.bnl.gov/world/) (New York)\n",
    "     \n",
    "   * [KEK](https://www.kek.jp/en/) (Japón)\n",
    "     \n",
    "y subterráneos:\n",
    "  \n",
    "   * [LNGS](https://www.lngs.infn.it/en) (Italia), [Kamioka](http://www-sk.icrr.u-tokyo.ac.jp/index-e.html) (Japon), [SNOLAB](https://www.snolab.ca/) (Canada), [Canfranc](https://lsc-canfranc.es/) [[>](https://lsc-canfranc.es/media-videos/)] (Spain)."
   ]
  },
  {
   "cell_type": "markdown",
   "metadata": {
    "slideshow": {
     "slide_type": "slide"
    }
   },
   "source": [
    "### Aplicaciones prácticas\n",
    "\n",
    "Las técnicas de construcción de los detectores y de desarrollo de los algoritmos de tratamiento de datos han dado lugar a aplicaciones importantísimas en otros campos:\n",
    "\n",
    "   * en Física Médica, como por ejemplo, los rayos-X, o la terapia hadrónica.\n",
    "   \n",
    "   \n",
    "   * o la aparición de la *World Wide Web* ([WWW](https://home.cern/science/computing/birth-web/short-history-web)), quizás unos de los momentos revolucionaros de la Humanidad.\n",
    "\n",
    "      La *web* se desarrolló en el CERN para poder presentar y compartir la información."
   ]
  },
  {
   "cell_type": "markdown",
   "metadata": {
    "slideshow": {
     "slide_type": "slide"
    }
   },
   "source": [
    "## Conceptos básicos\n",
    "\n",
    "### Interacciones\n",
    "\n",
    "Las interacciones, tanto las nucleares como las de las partículas, las describimos mediante ecuaciones como la siguiente:\n",
    "\n",
    "$$ \n",
    "a + b \\to c + d\n",
    "$$\n",
    "\n",
    "donde $a, b$ son las partículas iniciales y $c, d$ son las finales.\n",
    "\n",
    "O en las desintegraciónes:\n",
    "\n",
    "$$\n",
    "a \\to b + c + d\n",
    "$$\n",
    "\n",
    "donde la partícula $a$  se desintegra a las partículas $b, \\, c, \\, d$\n",
    "\n",
    "En este caso aparecen 4 partículas en la interaccion o desintegración, pero pueden ser otro número.\n",
    "\n",
    "Por ejemplo:\n",
    "$$\n",
    "\\alpha + \\, {}^9\\text{Be} \\;\\longrightarrow\\; \\,{} ^{12}\\text{C} + \\, n \\\\\n",
    "n \\to p \\, + e + \\bar{\\nu}_e\n",
    "$$\n",
    "\n"
   ]
  },
  {
   "cell_type": "markdown",
   "metadata": {
    "slideshow": {
     "slide_type": "slide"
    }
   },
   "source": [
    "### Sistema del laboratorio y centro de masas\n",
    "\n",
    "Las interacciones las referimos habitualmente a dos sistemas de referencia:\n",
    "\n",
    "* sistema del centro de masas (el suma de los momentos lineales de las partículas iniciales es cero)\n",
    "\n",
    "* sistema de laboratorio (una de las partículas iniciales está en reposo, típicamente $b$).\n",
    "\n",
    "\n",
    "| |\n",
    "|:--|\n",
    "| <img src=\"./imgs/intro_collider_target.png\" width = 800 align=\"center\">|\n",
    "| colisión en el centro de masas (izda) y en blanco fijo (derecha) de dos partículas $a, \\, b$.|\n"
   ]
  },
  {
   "cell_type": "markdown",
   "metadata": {
    "slideshow": {
     "slide_type": "slide"
    }
   },
   "source": [
    "### Cantidades continuas conservadas\n",
    "\n",
    "Sabemos por el teorema de M. Noether que por cada simetría continua que presenta un sistema físico se conserva una cantidad asociada.\n",
    "\n",
    "En este caso para:\n",
    "\n",
    "* simetría temporal, conservación de la energía\n",
    "\n",
    "* simetría traslacional, conservación del momento lineal.\n",
    "\n",
    "* simetría rotacional, conservación del momento angular\n"
   ]
  },
  {
   "cell_type": "markdown",
   "metadata": {
    "slideshow": {
     "slide_type": "slide"
    }
   },
   "source": [
    "| |\n",
    "|:--|\n",
    "| <img src=\"./imgs/gen_interaction_diagram.png\" width = 500 align=\"center\">|\n",
    "| cuadrimomentos de la interacción (blanco fijo) [M. Caamaño]|\n",
    "\n",
    "\n",
    "Por lo tanto tenemos:\n",
    "\n",
    "$$\n",
    "p_a + p_b = p_c + p_d \n",
    "$$\n",
    "\n",
    "La energía el momento lineal:\n",
    "$$\n",
    "E_a + E_b = E_c + E_d \\\\\n",
    "\\mathrm{p}_a + \\mathrm{p}_b = \\mathrm{p}_c + \\mathrm{p}_d\n",
    "$$\n",
    "\n",
    "Y damos la energía cinética, $T$, como:\n",
    "\n",
    "$$\n",
    "E = \\sqrt{m^2c^4 + \\mathrm{p}^2 c^2} = m \\, c^2 + \\, T\n",
    "$$"
   ]
  },
  {
   "cell_type": "markdown",
   "metadata": {
    "slideshow": {
     "slide_type": "slide"
    }
   },
   "source": [
    "Definimos la energía de la interacción, $a + b \\to c + d$, o $Q$ como la diferencia de masas iniciales y finales:\n",
    "\n",
    "$$\n",
    "Q = (m_a + m_b - m_c - m_d) \\, c^2\n",
    "$$\n",
    "\n",
    "como la energía liberada tras la interacción (si $Q>0$) o la energía mínima necesaria para que la interacción puede tener lugar (si $Q <0$).\n",
    "\n",
    "En el caso de la desintegraciones: $a \\to b + c + d$, para que tenga lugar debe cumplirse que:\n",
    "\n",
    "$$\n",
    "Q =  (m_a - m_b - m_c - m_d) \\, c^2 > 0\n",
    "$$\n",
    "\n",
    "Con la energía mínima $Q$ las partículas se creen en reposo, sin movimiento, en el c.m."
   ]
  },
  {
   "cell_type": "markdown",
   "metadata": {
    "slideshow": {
     "slide_type": "slide"
    }
   },
   "source": [
    "En el caso del momento lineal se cumple que la suma de los momentos lineales antes y después de la interacción es la misma.\n",
    "\n",
    "$$\n",
    "\\sum_i^{iniciales} \\mathrm{p}_i = \\sum_j^{finales} \\mathrm{p}_j\n",
    "$$\n",
    "\n",
    "En el caso de que estemos en el entro de masa la suma de los momentos lineales antes y después es nula.\n",
    "\n",
    "\n",
    "| | |\n",
    "| :--: | :--: | \n",
    "| <img src=\"./imgs/gen_plab.png\" width = 400 align=\"center\"> | <img src=\"./imgs/gen_pcm.png\" width = 400 align=\"center\"> |\n",
    "| momento en el sis. lab| |momentos en el sis. c.m [M. Caamaño]|\n",
    "\n",
    "\n",
    "¿Qué valor tiene $\\mathrm{p}_b$? ¿Y $\\mathrm{p}'_b$?"
   ]
  },
  {
   "cell_type": "markdown",
   "metadata": {
    "slideshow": {
     "slide_type": "slide"
    }
   },
   "source": [
    "Es muy útil considerar cantidades invariantes Lorentz, que no dependan del sistema de coordenadas.\n",
    "\n",
    "En particular en la iteracción $a + b \\to c+ d$ hay cuatro cuadrimomentos, los iniciales $p_a, p_b$ y los finales $p_c, p_d$, y podemos definir tres invariantes Lorentz llamados los invariantes de Mandelstam:\n",
    "\n",
    "$$\n",
    "s = (p_a + p_b)^2 = (p_c + p_d)^2 \\\\\n",
    "t = (p_a - p_c)^2 = (p_b - p_d)^2 \\\\\n",
    "u = (p_a - p_d)^2 = (p_b - p_c)^2 \\\\\n",
    "$$\n",
    "\n",
    "Veremos más adelante el significado y utilidad del invariante $s$."
   ]
  },
  {
   "cell_type": "markdown",
   "metadata": {
    "slideshow": {
     "slide_type": "slide"
    }
   },
   "source": [
    "En particular en el caso de la conservación del momento angular debemos considera el espín de las partículas!\n",
    "\n",
    "$$\n",
    "J_a + J_b + I_{ab} = J_c + J_d + I_{cd}\n",
    "$$\n",
    "\n",
    "| | |\n",
    "| :--: | :--: | \n",
    "| <img src=\"./imgs/gen_jlab.png\" width = 500 align=\"center\"> | <img src=\"./imgs/gen_jcm.png\" width = 500 align=\"center\"> |\n"
   ]
  },
  {
   "cell_type": "markdown",
   "metadata": {
    "slideshow": {
     "slide_type": "slide"
    }
   },
   "source": [
    "### cantidades discretas\n",
    "\n",
    "En las interacciones se conservan determinadas cantidades aditivas:\n",
    "\n",
    "* la carga eléctrica\n",
    "\n",
    "$$\n",
    "\\sum_i^{iniciales} Q_i = \\sum_j^{finales} Q_j\n",
    "$$\n",
    "\n",
    "donde $Q_i$ es la carga de cada partícula.\n",
    "\n",
    "Y veremos que las interacciones se conservan diversos números cuánticos aditivos:\n",
    "\n",
    "* número leptónico\n",
    "\n",
    "* número bariónico\n",
    "\n",
    "Lo que nos permite saber si una interacción se realiza o no en la Natureleza\n"
   ]
  },
  {
   "cell_type": "markdown",
   "metadata": {
    "slideshow": {
     "slide_type": "slide"
    }
   },
   "source": [
    "Una de las propiedades que estudiaremos de las interacciones es su comportamiento frente a dos transformaciones discretas:\n",
    "\n",
    "* la conjugación de carga: cambiar partículas por antipartículas y viceversa. Esto es invertimos sus cargas y números cuánticos.\n",
    "\n",
    "* la inversión de paridad: cambiar el sistema de referencia $(t, {\\bf x}) \\to (t, -{\\bf x})$\n",
    "\n",
    "   En esféricas $(r, \\theta, \\phi) \\to (r, \\pi - \\theta, \\phi + \\pi)$\n",
    "\n",
    "Veremos que tienen asociados unos números cuánticos multiplicativos.\n",
    "\n",
    "En particular, la carga y la paridad se conservan en las interacciones electromagnéticas y fuertes, pero no en la débiles.\n",
    "\n",
    "En concreto no se conserva paridad en la desintegración $\\beta$:  $n \\to p + e + \\bar{\\nu}_e$"
   ]
  },
  {
   "cell_type": "markdown",
   "metadata": {
    "slideshow": {
     "slide_type": "slide"
    }
   },
   "source": [
    "Podemos \"ilustrar\" la conjugación de carga e inversión de paridad con una imagen de Escher:\n",
    "\n",
    "| | |\n",
    "| :--: | :--: | \n",
    "| <img src=\"./imgs/gen_escher_daynight.jpg\" width = 450 align=\"center\"> | <img src=\"./imgs/gen_escher_daynight_p.jpg\" width = 450 align=\"center\"> |\n",
    "| <img src=\"./imgs/gen_escher_daynight_p.jpg\" width = 450 align=\"center\"> | <img src=\"./imgs/gen_escher_daynight.jpg\" width = 450 align=\"center\"> |"
   ]
  },
  {
   "cell_type": "markdown",
   "metadata": {
    "slideshow": {
     "slide_type": "slide"
    }
   },
   "source": [
    "Frente a la paridad, clasificaremos las cantitades en:\n",
    "\n",
    "* escalares: $X \\to X$\n",
    "\n",
    "* pseudo-escalares $Y \\to -Y$\n",
    "\n",
    "* vectoriales: ${\\bf V} \\to -{\\bf V}$\n",
    "\n",
    "* pseudo-vectoriales ${\\bf A} \\to {\\bf A}$"
   ]
  },
  {
   "cell_type": "markdown",
   "metadata": {
    "slideshow": {
     "slide_type": "slide"
    }
   },
   "source": [
    "## Sección efifaz y tiempo de vida media\n",
    "\n",
    "### Sección eficaz\n",
    "\n",
    "Una buena parte de los experimentos en Nuclear y Partículas son de dispersión: lanzamos partículas sonda contra un blando de otras partículas.  Y estudiamos la dispersión de las partículas sonda $a$ o las interacciones $a + b \\to c + d$.\n",
    "\n",
    "| |\n",
    "|:--|\n",
    "| <img src=\"./imgs/gen_xsec.png\" width = 500 align=\"center\">|\n",
    "| ilustración de sección eficaz diferencial [M.Caamaño]|\n",
    "\n",
    "\n"
   ]
  },
  {
   "cell_type": "markdown",
   "metadata": {
    "slideshow": {
     "slide_type": "slide"
    }
   },
   "source": [
    "Para ello determinamos primero el número de interacciones que tienen lugar respecto al flujo de partículas sonda y de partículas blanco definimos la sección eficaz en el caso de experimentos en blanco fijo como:\n",
    "\n",
    "\n",
    "$$\n",
    "\\sigma = \\frac{N}{N_b \\phi_a}\n",
    "$$\n",
    "\n",
    "donde $N$ es el número de interacciones de un determiando tipo, $a + b \\to c + d$, $N_b$ en número de partículas blanco, y $\\phi_a$ el flujo de partículas sonda, esto es $N_a/S$, donde $S$ el el área de exposición.\n",
    "\n",
    "\n",
    "\n",
    "La sección eficaz tiene dimensiones de área $\\mathrm{m}^2$ y la unidad habitual es el barn $b = 10^{-24}\\, \\mathrm{cm}^2$ "
   ]
  },
  {
   "cell_type": "markdown",
   "metadata": {
    "slideshow": {
     "slide_type": "slide"
    }
   },
   "source": [
    "En muchas ocasiones, consderamos la sección eficaz diferencial respecto a la energía de la partícula sonda:\n",
    "\n",
    "$$\n",
    "\\frac{\\mathrm{d} \\sigma}{\\mathrm{d}E} \\rightarrow \\sigma = \\int \\frac{\\mathrm{d} \\sigma}{\\mathrm{d}E} \\, \\mathrm{d}E\n",
    "$$\n",
    "\n",
    "O respecto al ángulo de dispersión\n",
    "\n",
    "$$\n",
    "\\frac{\\mathrm{d} \\sigma}{\\mathrm{d}\\Omega} \\rightarrow \\sigma = \\int \\frac{\\mathrm{d} \\sigma}{\\mathrm{d}\\Omega} \\, \\mathrm{d}\\Omega = 2 \\pi \\int \\frac{\\mathrm{d}\\sigma}{\\mathrm{d}\\theta} \\sin \\theta \\, \\mathrm{d}\\theta\n",
    "$$\n",
    "\n",
    "| | |\n",
    "|:--: | :--: |\n",
    "| <img src=\"./imgs/gen_xsec_omega.png\" width = 400 align=\"center\">|  <img src=\"./imgs/gen_xsecdif.png\" width = 400 align=\"center\">|\n",
    "| ilustración de sección eficaz diferencial [M. Caamaño]| [Wiki] | \n"
   ]
  },
  {
   "cell_type": "markdown",
   "metadata": {
    "slideshow": {
     "slide_type": "slide"
    }
   },
   "source": [
    "#### blancos extensos\n",
    "\n",
    "¿Qué pasa si el blanco tienen un espesor $d$, con una densidad $\\rho_b$ y masa atómica, $M_B$? ¿Cuánto se reduce el flujo de partículas inicial $\\phi_a$?\n",
    "\n",
    "\n",
    "\n",
    "| | \n",
    "|:--: | \n",
    "| <img src=\"./imgs/gen_xsec_espesor.png\" width = 500 align=\"center\">|  \n",
    "| Interacciones an blanco extenso [M. Caamaño]| | \n",
    "\n",
    "\n"
   ]
  },
  {
   "cell_type": "markdown",
   "metadata": {
    "slideshow": {
     "slide_type": "slide"
    }
   },
   "source": [
    "### Vida media\n",
    "\n",
    "Otro de los observables principales en Física Nuclear y de Partículas es el tiempo de desintegración. \n",
    "\n",
    "Si consideramos la desintegración $a \\to b + c +d$, y disponemos de $N_a$ partículas $a$ independientes, en una unidad de tiempo esperamos que se produzcan un número de desintegracional proporcional a $N_a$:\n",
    "\n",
    "$$\n",
    "\\frac{\\mathrm{d}N}{\\mathrm{d}t} = - \\frac{N_a}{\\tau} \\to N(t) = N_a \\, e^{-t/\\tau}\n",
    "$$\n",
    "\n",
    "Las desintegraciones siguen una ley exponencial con una constante característica que llamamos tiempo de vida media, $\\tau$.\n",
    "\n",
    "Por ejemplo, para la desintegración del neutrón, $n  \\to + p + e + \\bar{\\nu}_e$, el tiempo de vida es 878.4 s."
   ]
  },
  {
   "cell_type": "markdown",
   "metadata": {
    "slideshow": {
     "slide_type": "slide"
    }
   },
   "source": [
    "## Radiación $\\alpha, \\beta, \\gamma$\n",
    "\n",
    "### De los griegos clásicos a nuestros días\n",
    "\n",
    "En el De Rerum Natura de [Lucrecio](https://es.wikipedia.org/wiki/Lucrecio) (siglo I a.C.), el poeta romano, inspirado por Epicuro y en última instancia por Demócrito, expone una visión la visión de la Naturaleza: \n",
    "\n",
    "_todo lo que existe está hecho de átomos y vacío_.\n",
    "\n",
    "En nuestra visión contemporanea: el mundo está consitutido por partículas fundamentales y por vacío.\n",
    "\n",
    "También argumenta que:\n",
    "\n",
    "_\"Haud igitur redit ad nihilum res ulla, sed omnes\n",
    "dissoluuntur et in res cunctas remeare videntur.\"_\n",
    "\n",
    "(Ninguna cosa vuelve a la nada: todas se disuelven y parecen regresar a otros cuerpos.)\n",
    "\n",
    "En nuestra versión moderna: La energía ni se crea ni se destruye, se conserva. Las partículas se transforman unas en otras.\n",
    "\n",
    "$$\n",
    "E = m \\, c^2\n",
    "$$"
   ]
  },
  {
   "cell_type": "markdown",
   "metadata": {
    "slideshow": {
     "slide_type": "slide"
    }
   },
   "source": [
    "En la actualidad nuestro conocimiento de los componentes fundamentales de la Naturaleza está contenida en el _Modelo Estándar_\n",
    "\n",
    "(un nombre muy desafortunado y modesto para la embargadura del proyecto)\n",
    "\n",
    "Clasificar y comprender las interacciones de las partículas es una tarea comunitaria que dura desde finales del siglo XIX, se inicial con el descubrimiento del electrón, y llega hasta nuestros días, siendo el último gran descubrimiento el del bosón de Higgs en 2012.\n",
    "\n",
    "No obstante la imagen que surge del Modelo Estándard, aunque poco intuitiva, es relativamente simple. "
   ]
  },
  {
   "cell_type": "markdown",
   "metadata": {
    "slideshow": {
     "slide_type": "slide"
    }
   },
   "source": [
    "### La tabla periódica\n",
    "\n",
    "Mendeleev (1869) clasifica por propiedades los átomos y Moseley (1913) los ordena por Z.\n",
    "\n",
    "| |\n",
    "|:--:|\n",
    "| <img src=\"./imgs/gen_tabla_periodica.png\" width = 700 align=\"center\">|\n",
    "| Table periódica de los elementos [Wikipedia](https://es.wikipedia.org/wiki/Tabla_peri%C3%B3dica_de_los_elementos)\n",
    "\n",
    "\n",
    "\n",
    "La table periódica supone una ordenación de los elementos.\n",
    "- Disposición por **número atómico** (Z).\n",
    "- **Periodos** (filas) y **grupos** (columnas).\n",
    "- Bloques electrónicos: **s, p, d, f**."
   ]
  },
  {
   "cell_type": "markdown",
   "metadata": {
    "slideshow": {
     "slide_type": "slide"
    }
   },
   "source": [
    "### Radiaciones α, β, γ\n",
    "\n",
    "A finales del siglo XIX y del siglo XX se descubrieron distintos tipos de radiaciones, cuyos nombres aún se utilizan: $\\alpha, \\beta, \\gamma$. Y que corresponden respectivamente a interacciones fuerte, débil y electromágnética.\n",
    "\n",
    "Estas radiaciones tienen un rango típico de energía de MeV.\n",
    "\n"
   ]
  },
  {
   "cell_type": "markdown",
   "metadata": {
    "slideshow": {
     "slide_type": "slide"
    }
   },
   "source": [
    "### Radiación $\\alpha$\n",
    "\n",
    "La radiación nuclear la descubrió (accidentalmente) Becquerel (1896) y la estudió en detalle Marie Curie.\n",
    "\n",
    "Henri Becquerel, físico francés, estaba estudiando la fluorescencia de sales de uranio.\n",
    "Creía que, al exponerse al sol, éstas emitirían rayos X.\n",
    "\n",
    "Un día nublado, sin sol, guardó sus placas fotográficas envueltas junto con el uranio.\n",
    "Cuando las reveló, vio que estaban veladas.\n",
    "\n",
    "«Les sels d’uranium émettent spontanément des rayonnements capables d’impressionner une plaque photographique à travers un papier opaque.» (H. Becquerel)\n",
    "\n",
    "El uranio emitía una radiación invisible, espontánea, sin necesidad de excitación externa.\n",
    "Eso fue el nacimiento del concepto de radiactividad natural.\n",
    "\n",
    "Actualmente el becquerio se usa como unidad para indicar desintegraciones/segundo."
   ]
  },
  {
   "cell_type": "markdown",
   "metadata": {
    "slideshow": {
     "slide_type": "slide"
    }
   },
   "source": [
    "\n",
    "Posteriormente [Maria Curie (Skłodowska)](https://en.wikipedia.org/wiki/Marie_Curie) y su marido Pièrre Curie descubrieron dos nuevos elementos mucho más radiactivos que el uranio: Polonio y el Radio.\n",
    "\n",
    "Marie acuñó el término “radioactividad”. \n",
    "\n",
    "En esta desintegración del uranio se emite una radiación $\\alpha$, esto es un núcleo de helio (esto es con carga +2):\n",
    "\n",
    "$$\n",
    "{}^{238}_{92}\\mathrm{U} \\rightarrow {}^{234}_{90}\\mathrm{Th} + {}^{4}_{2}\\mathrm{He}\n",
    "$$\n",
    "\n",
    "La radiación $\\alpha$ es poco penetrante.\n",
    "\n",
    "Actualmente el becquerio se usa como unidad para medir las desintegraciones/segundo.\n"
   ]
  },
  {
   "cell_type": "markdown",
   "metadata": {
    "slideshow": {
     "slide_type": "slide"
    }
   },
   "source": [
    "### radiación beta\n",
    "\n",
    "Se trata de la emisión por un núcleo de electrón, por ejemplo:\n",
    "\n",
    "$$\n",
    "{}^{14}_{6}\\mathrm{C} \\;\\rightarrow\\; {}^{14}_{7}\\mathrm{N} \\;+\\; e \\;+\\; \\bar{\\nu}_e\n",
    "$$\n",
    "\n",
    "En 1899 Wilhelm Wien y Ernest Rutherford notan que algunas partículas emitidas de núcleos radiactivos son mucho más ligeras que las alfa y se comportan como electrones.\n",
    "\n",
    "En 1913 James Chadwick estudia la dispersión de estas partículas y confirma que son electrones emitidos desde el núcleo.\n",
    "\n",
    "La desintegración $\\beta$\n",
    "\n",
    "$$\n",
    "n \\;\\rightarrow\\; p \\;+\\; e \\;+\\; \\bar{\\nu}_e\n",
    "$$\n",
    "\n",
    "será nuestra guía para entender las desintegraciones débiles\n",
    "\n",
    "La historia del neutrino merece su lugar aparte y la contaremos en otra ocasión.\n"
   ]
  },
  {
   "cell_type": "markdown",
   "metadata": {
    "slideshow": {
     "slide_type": "slide"
    }
   },
   "source": [
    "### radiación $\\gamma$\n",
    "\n",
    "Finalmente, algunos núcleos emiten fotones de alta energía, penetrantes, que se denominan rayos $\\gamma$.\n",
    "\n",
    "Como es el caso del Cobalto:\n",
    "\n",
    "$$\n",
    "{}^{60}_{27}\\mathrm{Co} \\;\\xrightarrow{\\beta}\\; {}^{60}_{28}\\mathrm{Ni}^* + e^- + \\bar{\\nu}_e \\;\\xrightarrow{\\gamma}\\; {}^{60}_{28}\\mathrm{Ni} + \\gamma\n",
    "$$\n",
    "\n",
    "En 1900 y 1903 Ernest Rutherford y Paul Villard estudian la radiación del torio y del radio, notando que hay un componente extremadamente penetrante: lo llaman rayos gamma. Rutherford identifica que no son partículas cargadas (como $\\alpha$ o $\\beta$), sino radiación electromagnética de alta energía.\n",
    "\n"
   ]
  },
  {
   "cell_type": "markdown",
   "metadata": {
    "slideshow": {
     "slide_type": "slide"
    }
   },
   "source": [
    "Más adelante utilizaremos los diagramas de niveles para indicar las desintegraciones:\n",
    "\n",
    "| |\n",
    "|:--:|\n",
    "| <img src=\"./imgs/gen_Co60_decay.png\" width = 300 align=\"center\">|\n",
    "| Diagrama de desintegración del ${}^{60}\\mathrm{Co}$ [Wikipedia] |\n",
    "\n",
    "Puedes explorar [aquí](https://www-nds.iaea.org/relnsd/vcharthtml/VChartHTML.html) otros diagramas de niveles"
   ]
  },
  {
   "cell_type": "markdown",
   "metadata": {
    "slideshow": {
     "slide_type": "slide"
    }
   },
   "source": [
    "### Interacciones electromagnética, débil y fuerte.\n",
    "\n",
    "Recordemos que la energía típica de las radiaciones nucleares $\\alpha, \\beta, \\gamma$ son del MeV.\n",
    "\n",
    "La radiación $\\gamma$ es _electromagnética_, tiene referente clásico.\n",
    "\n",
    "La desintegración $\\beta$ es _débil_, tiene un rago muy pequeño $10^{-3}$ fm (fm = $10^{-15}$m), y aparece por primera vez en la reacciones nucleares. Su tratamiento es cuántico.\n",
    "\n",
    "La desintegración $\\alpha$ es una manifestación de la interacción _fuerte_, la responsable de la existencia del núcleo, entre otros fenómenos, y su alcance es del fm. De nuevo su tratamiento es cuántico.\n",
    "\n",
    "En Física Nuclear haremos un tratamiento cuántico y -en general- no relativista, mientras que en Física de Partículas, el tratamiento es cuántico y -casi siempre- relativista."
   ]
  },
  {
   "cell_type": "markdown",
   "metadata": {
    "slideshow": {
     "slide_type": "slide"
    }
   },
   "source": [
    "## De los nucleos a los quarks\n",
    "\n",
    "### Dispersión del núcleo\n",
    "\n",
    "En 1909, H. Geiger and E. Marsden estudiaban la dispersión de partículas alfa en una lámina de oro, y E. Rutherford sugerió estudiar si existían dispersiones a altos ángulos.\n",
    "\n",
    "| | \n",
    "|:--:| \n",
    "| <img src=\"./imgs/gen_alphaexp_diagram.png\" width = 240 align=\"center\">|\n",
    "| Esquema de dispersión [Geiger, Marsen] | \n",
    "\n"
   ]
  },
  {
   "cell_type": "markdown",
   "metadata": {
    "slideshow": {
     "slide_type": "slide"
    }
   },
   "source": [
    "Rutherford: “It was quite the most incredible event that has ever happened to me in my\n",
    "life. It was almost as incredible as if you fired a 15-inch shell at a piece of\n",
    "tissue paper and it came back and hit you.” \n",
    "\n",
    "Rutherford concluyó, entre otras cosas, que la mayor\n",
    "parte de la masa y la carga positiva del átomo se concentran en una región\n",
    "extremadamente pequeña, a lo que se denominó núcleo.\n",
    "\n",
    "| | \n",
    "|:--:| \n",
    "| <img src=\"./imgs/gen_alpha_dispersion_diagram.png\" width = 500 align=\"center\"> |\n",
    "| Dispersión parábólica [Rutherford]|\n",
    "\n"
   ]
  },
  {
   "cell_type": "markdown",
   "metadata": {
    "slideshow": {
     "slide_type": "slide"
    }
   },
   "source": [
    "Rutherford describió la dispersión de las partículas alfa a través de ka\n",
    "interacción electromagnética. Asumiendo que el núcleo no tenía retroceso e\n",
    "ignorando la interacción con los electrones, la situación es matemáticamente la\n",
    "misma que las soluciones de Kepler a las órbitas planetarias: la partícula alfa recorre\n",
    "una hipérbola\n",
    "\n",
    "| | \n",
    "|:--:| \n",
    "| <img src=\"./imgs/gen_alphadisp_parabol.png\" width = 240 align=\"center\"> |\n",
    "| Dispersión parábólica [Rutherford]|\n",
    "\n",
    "$$\n",
    "\\frac{d\\sigma}{d\\Omega} \\;=\\;\n",
    "\\left( \\frac{1}{4\\pi \\varepsilon_0} \\,\n",
    "\\frac{Z_1 Z_2 e^2}{4E} \\right)^{\\!2}\n",
    "\\frac{1}{\\sin^4\\!\\left(\\tfrac{\\theta}{2}\\right)}\n",
    "$$"
   ]
  },
  {
   "cell_type": "markdown",
   "metadata": {
    "slideshow": {
     "slide_type": "slide"
    }
   },
   "source": [
    "### Dispersión de Mott\n",
    "\n",
    "Mott estudió la dispersión de electrones de alta energía en los núcleos, para ello hay que tener en cuenta el espín del electrón y la mecánica cuántica relativista.\n",
    "\n",
    "$$\n",
    "\\frac{d\\sigma}{d\\Omega} \\;=\\;\n",
    "\\left( \\frac{Z e^2}{16 \\pi \\varepsilon_0 E} \\right)^2\n",
    "\\frac{1}{\\sin^4\\!\\left(\\tfrac{\\theta}{2}\\right)}\n",
    "\\;\\Big[ 1 - \\beta^2 \\sin^2\\!\\left(\\tfrac{\\theta}{2}\\right) \\Big]\n",
    "$$\n",
    "\n",
    "Y si consideramos el retroceso del núcleo:\n",
    "\n",
    "$$\n",
    "\\frac{d\\sigma}{d\\Omega} \\;=\\;\n",
    "\\left( \\frac{Z e^2}{16 \\pi \\varepsilon_0 E} \\right)^2\n",
    "\\frac{1}{\\sin^4\\!\\left(\\tfrac{\\theta}{2}\\right)} \\; \\frac{E}{E'} \\;\n",
    "\\;\\Big[ 1 - \\beta^2 \\sin^2\\!\\left(\\tfrac{\\theta}{2}\\right) \\Big]\n",
    "$$\n",
    "\n",
    "\n",
    "$$\n",
    "\\quad \\text{con} \\quad\n",
    "E' = \\frac{E}{1 + \\frac{2 E}{M c^2} \\sin^2(\\theta/2)}, \n",
    "%\\quad Q^2 = 4 E E' \\sin^2(\\theta/2)\n",
    "$$\n",
    "\n",
    "donde:\n",
    "- $Z$: número atómico del núcleo\n",
    "- $E$: energía total del electrón incidente\n",
    "- $M$: masa del núcleo\n",
    "- $\\theta$: ángulo de dispersión en el laboratorio\n",
    "\n"
   ]
  },
  {
   "cell_type": "code",
   "execution_count": null,
   "metadata": {
    "slideshow": {
     "slide_type": "slide"
    }
   },
   "outputs": [],
   "source": [
    "import numpy as np\n",
    "import matplotlib.pyplot as plt\n",
    "from scipy import constants as const\n",
    "\n",
    "# --------------------------------------------------\n",
    "# 1) Dispersión de Rutherford\n",
    "def sigma_rutherford(Z1, Z2, E, theta):\n",
    "    \"\"\"\n",
    "    Sección eficaz diferencial de Rutherford\n",
    "    Z1: carga de la partícula incidente\n",
    "    Z2: carga del núcleo\n",
    "    E: energía cinética [J]\n",
    "    theta: ángulo de dispersión [rad]\n",
    "    \"\"\"\n",
    "    factor = (Z1 * Z2 * const.e**2 / (16 * np.pi * const.epsilon_0 * E))**2\n",
    "    return factor / (np.sin(theta/2)**4)\n",
    "\n",
    "# --------------------------------------------------\n",
    "# 2) Dispersión de Mott con retroceso del núcleo\n",
    "def sigma_mott(Z, E, M, theta):\n",
    "    \"\"\"\n",
    "    Sección eficaz diferencial de Mott con recoil\n",
    "    Z: número atómico del blanco\n",
    "    E: energía del electrón incidente [J]\n",
    "    M: masa del núcleo [kg]\n",
    "    theta: ángulo de dispersión [rad]\n",
    "    \"\"\"\n",
    "    # energía del electrón dispersado considerando retroceso\n",
    "    E_prime = E / (1 + (2*E/(M*const.c**2)) * np.sin(theta/2)**2)\n",
    "    # corrección relativista por espín (aproximada)\n",
    "    beta = np.sqrt(1 - (const.m_e * const.c**2 / E)**2)\n",
    "    factor = (Z * const.e**2 / (16 * np.pi * const.epsilon_0 * E))**2\n",
    "    return factor * (E_prime / E) * (1 - beta**2 * np.sin(theta/2)**2)\n",
    "\n",
    "# --------------------------------------------------\n",
    "# \n",
    "\n",
    "def plot_cross_sections(E_alpha = 5e6, E_electron = 5e6, M_nucleus = 197):\n",
    "    theta       = np.linspace(0.01, np.pi, 100)\n",
    "    E_alpha    *= const.e       # MeV en julios\n",
    "    E_electron *= const.e  # MeV en julios\n",
    "    M_nucleus  *= const.u         # masa en kg (1 u = 1.660539e-27 kg)\n",
    "\n",
    "    sigma_R = sigma_rutherford(2, 79, E_alpha, theta)\n",
    "    sigma_M = sigma_mott(79, E_electron, M_nucleus, theta)\n",
    "\n",
    "    barn = 1e-24  # 1 barn en m²\n",
    "\n",
    "    plt.plot(theta/np.pi, sigma_R/barn, label='Rutherford (α)')\n",
    "    plt.plot(theta/np.pi, sigma_M/barn, label=r'Mott ($\\beta$)')\n",
    "    plt.yscale('log')\n",
    "    plt.xlabel('Ángulo de dispersión [rad]')\n",
    "    plt.ylabel('dσ/dΩ [barn/sr]')\n",
    "    plt.title('cross sections: Rutherford α and Mott β')\n",
    "    plt.legend()\n",
    "    plt.show()"
   ]
  },
  {
   "cell_type": "code",
   "execution_count": null,
   "metadata": {
    "slideshow": {
     "slide_type": "slide"
    }
   },
   "outputs": [
    {
     "data": {
      "image/png": "[encoded data removed]",
      "text/plain": [
       "<Figure size 640x480 with 1 Axes>"
      ]
     },
     "metadata": {},
     "output_type": "display_data"
    }
   ],
   "source": [
    "# Energy in eV, Mass in amu\n",
    "plot_cross_sections(E_alpha = 5e6, E_electron = 5e6, M_nucleus = 197)"
   ]
  },
  {
   "cell_type": "markdown",
   "metadata": {
    "slideshow": {
     "slide_type": "slide"
    }
   },
   "source": [
    "### Descubrimiento del protón\n",
    "\n",
    "Fue Ernest Rutherford, en 1917, identificó el protón. Al borbardear nitrógeno con partículas alfa observó que en la colisión aparecía una partícula más ligera que la alfa, con la misma carga positiva pero de masa mucho menor.\n",
    "\n",
    "$$\n",
    "{}^{14}\\text{N} + \\alpha \\;\\;\\longrightarrow\\;\\; {}^{17}\\text{O} + p\n",
    "$$\n",
    "\n",
    "En 1919, Rutherfod concluyó que el núcleo del hidrógeno era un constituyente fundamental de la materia, presente en todos los núcleos atómicos. Así nació el concepto de protón como partícula elemental de carga positiva.\n",
    "\n",
    "Permitió entender que todos los núcleos podían concebirse como combinaciones de protones (y más tarde neutrones, tras su descubrimiento en 1932).\n",
    "\n",
    "Abrió la puerta a la idea de transmutaciones nucleares: un elemento podía convertirse en otro."
   ]
  },
  {
   "cell_type": "markdown",
   "metadata": {
    "slideshow": {
     "slide_type": "slide"
    }
   },
   "source": [
    "### Descibrimiento del neutrón\n",
    "\n",
    "El modelo nuclear de Rutherford planteaba que los núcleos estaban compuestos únicamente de protones, pero la masa de los núcleos era mayor de lo que explicaba el número de protones. \n",
    "\n",
    "Por ejemplo, el núcleo de helio debía tener masa ~4 amu, pero con 2 protones y 2 electrones (como se especulaba) no cuadraba. Faltaba “algo” en el núcleo.\n",
    "\n",
    "En 1930, Walther Bothe y Herbert Becker bombardearon berilio con partículas alfa y detectaron una radiación muy penetrante, más que los rayos gamma. Al principio se pensó que era radiación gamma de alta energía.\n",
    "\n",
    "James Chadwick, en el laboratorio Cavendish (Cambridge), estudió con detalle esa radiación: Usó como blanco el berilio:\n",
    "\n",
    "$$\n",
    "\\alpha + \\, {}^9\\text{Be} \\;\\longrightarrow\\; \\,{} ^{12}\\text{C} + \\, n\n",
    "$$\n",
    "\n",
    "Esa radiación impactaba en parafina (rica en protones), expulsando protones de la cera. Si fueran fotones gamma, la energía necesaria para expulsar protones sería enorme, Concluyó que la radiación no eran fotones, sino partículas neutras de masa comparable a la del protón. Chadwick llamó a estas partículas neutrones.\n",
    "\n",
    "De esta forma los núcleos estaban formados por protones y neutrones (llamados ambos nucleones).\n",
    "\n",
    "Explicó por qué los núcleos no explotaban electrostáticamente: los neutrones añadían masa y la fuerza fuerte es la que ligua los nucleones en el núcleo."
   ]
  },
  {
   "cell_type": "markdown",
   "metadata": {
    "slideshow": {
     "slide_type": "slide"
    }
   },
   "source": [
    "### Los cuatro magníficos\n",
    "\n",
    "La Naturaleza está formada por átomos eléctricamente neutros formados por un núcleo masivo y electrones en capas. El núcleo está formado por protonoes (asociado con el número atómico $Z$) y neutrones (que conjuntamente dan el número másico $A$). Los electrones solo aportan del orden del 0.1 \\% de la masa del átomo.\n",
    "\n",
    "El átomo está vacío, los núcloes tiene un tamaño del orde del 1-10 fm (fm = $10^{-15}$ m), mientras que el átomo tiene $10^{-10}$ m, esto es, entre ambos ¡hay un factor $10^5$!\n",
    "\n",
    "Así pues en primera aproximación la Naturaleza está compuesta por:\n",
    "\n",
    "$$\n",
    "p, \\;\\; n, \\;\\ e\n",
    "$$\n",
    "\n",
    "Además del neutrino, $\\nu$, que aparece en la desintegración $\\beta$ (y cuya historia contaremos más adelante)\n",
    "\n",
    "Esto es la materia del Universo está compuesta por 4 partículas \"fundamentales\":\n",
    "\n",
    "\n",
    "$$\n",
    "p, \\;\\; n, \\;\\; e, \\;\\; \\nu\n",
    "$$\n",
    "\n",
    "Está visión del mundo construido con $p, n, e$ duro 100 días ¡hasta que se descubrió el positrón! "
   ]
  },
  {
   "cell_type": "markdown",
   "metadata": {
    "slideshow": {
     "slide_type": "slide"
    }
   },
   "source": [
    "### Dispersión de electrones a alta energía.\n",
    "\n",
    "En la década de los 50's Hofstadter realizó una serie de experimentos con el acelerador Mark III en Stanford (California, EEUU) de dispersión de núcleos con electrones de muy alta energía (100 MeV). Y descubrió que los electrones exploraban la estructura nuclear al penetrar dentro del núcleo. Acuñó el tamaño de fermi (fm = $10^{-15}$ m) y estableció que el núcleo no es una bola rígida.\n",
    "\n",
    "| | \n",
    "|:--:| \n",
    "| <img src=\"./imgs/gen_hofstadter_diagram.png\" width = 500 align=\"center\"> |\n",
    "| Diagerama de la dispersión de Hofstadler|\n",
    "\n"
   ]
  },
  {
   "cell_type": "markdown",
   "metadata": {
    "slideshow": {
     "slide_type": "slide"
    }
   },
   "source": [
    "Holfstadter verificó que la dispersión de Mott se modifica por un factor, llamado de forma, $F(q^2)$\n",
    "\n",
    "$$\n",
    "\\left(\\frac{d\\sigma}{d\\Omega}\\right)_{\\text{exp}}\n",
    "\\;=\\;\n",
    "\\left(\\frac{d\\sigma}{d\\Omega}\\right)_{\\text{Mott}}\n",
    "\\;\\; |F(q^2)|^2\n",
    "$$\n",
    "\n",
    "donde\n",
    "\n",
    "$$\n",
    "q = p - p' =  (E - E', \\; {\\bf p} - {\\bf p}')\n",
    "$$\n",
    "\n",
    "siendo $p, \\; p'$ el cuadrimomento inicial y final del electrón. A $q$ se le llama cuadrimomento transferido.\n"
   ]
  },
  {
   "cell_type": "markdown",
   "metadata": {
    "slideshow": {
     "slide_type": "slide"
    }
   },
   "source": [
    "Este factor de forma, como veremos en la parte de Nuclear, depende de la estructura del núcleo:\n",
    "\n",
    "| | \n",
    "|:--:| \n",
    "| <img src=\"./imgs/gen_factorforma.png\" width = 800 align=\"center\"> |\n",
    "| Factores de forma [M. Caamaño]|\n"
   ]
  },
  {
   "cell_type": "markdown",
   "metadata": {
    "slideshow": {
     "slide_type": "slide"
    }
   },
   "source": [
    "### Three quark for the Muster Mark!\n",
    "\n",
    "En la década de los 60 usando electrones de más alta energía se pudo explorar el interior de los propios nucleones.\n",
    "\n",
    "Así, la distribuciones de forma mostraban patrones que coincidían con la posible existencia de partículas puntuales en el interior de los nucleones. R. Feynman los llamó partones.\n",
    "\n",
    "Los conocemos como quarks. El término fue introducido por Murray Gell-Mann en 1964 cuando propuso su modelo de “quarks” para explicar la estructura de los hadrones (protones, neutrones, mesones), que tomó el nombre de la novela “Finnegans Wake” (1939) de James Joyce, un libro experimental y casi impenetrable, famoso por su lenguaje inventivo. Gell-Mann creía que los quarks era solo una herramiento matemática para explicar la composición de las partículas llamadas hadrones descubiertas hasta la fecha\n",
    "\n",
    "De forma simultánea, George Zweig en el CERN también propuso un modelo de constituyentes internos para los hadrones.\n",
    "Él los llamó “aces” (como los ases de una baraja). Él si creía que eran reales.\n"
   ]
  },
  {
   "cell_type": "markdown",
   "metadata": {
    "slideshow": {
     "slide_type": "slide"
    }
   },
   "source": [
    "Actualemente decimos que el protón y el neutrón están formados por dos quarks.\n",
    "\n",
    "El quark _up_ ($u$) con carga $2|e|/3$  y el quark _down_ ($d$) con carga $-1|e|/3$. \n",
    "\n",
    "De tal forma cada nucleón esta compuesto por tres quarks mediante la fuerza fuerte y cuya carga entera:\n",
    "\n",
    "$$\n",
    "n = udd, \\;\\; p = uud\n",
    "$$\n",
    "\n",
    "| |\n",
    "| :--| \n",
    "| <img src=\"./imgs/gen_proton_neutron.jpg\" width = 400 align=\"center\"> |\n",
    "| Estructura del protón y del neutrón [Wikipedia]|\n",
    "\n"
   ]
  },
  {
   "cell_type": "markdown",
   "metadata": {
    "slideshow": {
     "slide_type": "slide"
    }
   },
   "source": [
    "### Los cuatro y su compañía\n",
    "\n",
    "Las cuatro partículas fundamentales son:\n",
    "\n",
    "$$\n",
    "u, \\;\\; d, \\;\\; e, \\;\\; \\nu\n",
    "$$\n",
    "\n",
    "Pero la Naturaleza es más diversa:\n",
    "\n",
    "* además de las partículas, existen las _antipartículas_, que tiene las cargas opuestas a las partículas, por ejemplo el positrón, $e^+$\n",
    "\n",
    "* existen partículas como otros _leptones_ (que se comportan como el electrón) y los _hadrones_ (que están formados por quarks) y que son inestables.\n",
    "\n",
    "Clasificar y ordenar las partículas en la tabla de partículas del Modelo Estándar supuso un reto durante más de 40 años.\n"
   ]
  },
  {
   "cell_type": "markdown",
   "metadata": {
    "slideshow": {
     "slide_type": "slide"
    }
   },
   "source": [
    "## Introducción al modelo estandar\n",
    "\n",
    "EL modelo estandar (SM) de Física de Partículas es uno de los grandes logros de la Física (a pesar de su pobre nombre). \n",
    "\n",
    "El Modelo clasifica todas partículas elementales y establece las interacciones entre ellas. \n",
    "\n",
    "El *Particle Data Group* ([PDG](https://pdg.lbl.gov/)) es un grupo de trabajo que se encarga de recopilar y publicar toda la información relevante sobre física de partículas. Puedes consultar su página donde está *toda* la información.\n",
    "\n",
    "En esta sección veremos brevemente cómo se clasifican las partículas y sus características principales."
   ]
  },
  {
   "cell_type": "markdown",
   "metadata": {
    "slideshow": {
     "slide_type": "slide"
    }
   },
   "source": [
    "\n",
    "\n",
    "Hasta donde sabemos la Naturaleza está compuesta de 12 partículas que forman la materia, que llamamos fermiones, 12 bosones que transmiten la fuerzas y una última, el bosón de Higgs, que les *otorga* las masas.\n",
    "\n",
    "Aunque la materia ordinaria, y la mayoría del Universo, está formada por 4 partículas de materia. Esencialmente el protón, el neutrón, el electrón y el neutrino. De ellas son estables el protón, el electrón y el neutrino.\n",
    "\n",
    "El resto de partículas jugaron un papel relevante durante los primeros segundos del Universo. En la actualidad, se producen principalmente en los experimentos, y son, con excepción del neutrino, inestables y se desintegran.\n",
    "\n",
    "Junto a las partículas tenemos sus antipartículas, que a pesar de su nombre, son igual a las partículas pero con  sus cargas opuestas. \n",
    "\n",
    "Las antipartículas aparecen en condición de igualdad y de forma complementaria a las partículas en las ecuaciones de la teoría. Sin embargo, el Universo actual está prácticamente formado por materia. No sabemos qué ocurrió en los primeros segundos del Universo que provocó que sobreviviese solamente la materia."
   ]
  },
  {
   "cell_type": "markdown",
   "metadata": {
    "slideshow": {
     "slide_type": "slide"
    }
   },
   "source": [
    "En cuanto a las fuerzas, sabemos que hay 3 interacciones principales:\n",
    "\n",
    "  * la electromagnética, mediada por el fotón.\n",
    "\n",
    "  * la débil, mediada, cuando se produce cambio de carga eléctrica, por los bosones vectoriales, $W^\\pm$, (donde el signo hace referencia a la carga), y las que no cambian la carga eléctrica, mediadas por el $Z$\n",
    "\n",
    "  * la fuerte fundamental, mediada por los gruones. La fuerza responsable de la estabilidad y dinámica de los núcleos, es una fuerza fuerte residual. Similar al papel que juega el electromagnetismo en la formación de moléculas."
   ]
  },
  {
   "cell_type": "markdown",
   "metadata": {
    "slideshow": {
     "slide_type": "slide"
    }
   },
   "source": [
    "Finalmente, la masa, que en principio es una propiedad de la partícula, es en realidad la consecuencia de la interacción de la partícula con el bosón de Higgs. Cuanto más masa tiene una partícula, más fuerte interacciona con el bosón de Higgs."
   ]
  },
  {
   "cell_type": "markdown",
   "metadata": {
    "slideshow": {
     "slide_type": "slide"
    }
   },
   "source": [
    "### El SM a simple vista\n",
    "\n",
    "La siguiente tabla muestra las partículas fundamentales y sus propiedades principales:\n",
    "\n",
    "| |\n",
    "|:--:|\n",
    "|<img src=\"./imgs/intro_SM_table.png\" width = 500 align=\"center\">|\n",
    "|Las partículas del modelo estandar|\n"
   ]
  },
  {
   "cell_type": "markdown",
   "metadata": {
    "slideshow": {
     "slide_type": "slide"
    }
   },
   "source": [
    "La materia está formada por los **fermiones**, que son partículas elementales de spín $1/2$.\n",
    "\n",
    "Los **bosones vectoriales**, con spín $1$, son los mediadores de las fuerzas **fuerte, débil y electromagnética**.\n",
    "\n",
    "El **bosón scalar de Higgs**, que tiene spín 0, dota de masas a los fermiones y a los bosones vectoriales de la fuerza débil.\n"
   ]
  },
  {
   "cell_type": "markdown",
   "metadata": {
    "slideshow": {
     "slide_type": "slide"
    }
   },
   "source": [
    "### Fermiones\n",
    "\n",
    "Los fermiones son las partículas que constituyen la materia, tienen spín $1/2$ y obedecen a la ecuación de Dirac. \n",
    "\n",
    "Los fermiones obedecen a la estadística de Fermi, por ello no encontramos dos fermiones en un mismo estado, de ahí que formen los componentes, los bloques, de la materia.\n",
    "\n",
    "Los fermiones se dividen en:\n",
    "\n",
    "  * **quarks** : si interaccionan fuertemente\n",
    "  \n",
    "  * **leptones**: si no interaccionan fuertemente\n",
    "    \n",
    "| fuerte | electromagnética | débil | \n",
    "|---      |:--       | :--          |\n",
    "| quarks | quarks y leptones cargados  | quarks y leptones |\n",
    "\n"
   ]
  },
  {
   "cell_type": "markdown",
   "metadata": {
    "slideshow": {
     "slide_type": "slide"
    }
   },
   "source": [
    "#### las anti-partículas\n",
    "\n",
    "Sabemos que los fermiones se rigen por la ecuación de Dirac, y se describen con un nuevo objeto matemático, los **espinores de Dirac**.\n",
    "\n",
    "Fue Dirac quien a partir de su famosa ecuación, propuso que cada partícula, tiene su **anti-partícula**. La diferencia entre ellas son las cargas. Las antipartículas tienen las cargas opuestas a la partícula, pero tienen la misma masa, espín y vida media.\n",
    "\n",
    "Si $f$ es un fermión, denotamos $\\bar{f}$ como su antifermión, aunque para los antileptones, que tienen carga eléctrica (+), los llamaremos simplemente: $e^+, \\mu^+, \\tau^+$.\n"
   ]
  },
  {
   "cell_type": "markdown",
   "metadata": {
    "slideshow": {
     "slide_type": "slide"
    }
   },
   "source": [
    "#### generaciones\n",
    "\n",
    "Por alguna razón que desconocemos, existen tres generaciones o familias idénticas de partículas, que son una copia con más masa, de la primera familia. Pero sí sabemos que solo hay 3 familias.\n",
    "\n",
    "Decimos que los fermiones (tanto leptones como quarks) aparecen en **tres generaciones** o familias. \n",
    "\n",
    "$$\n",
    "\\begin{pmatrix} \\nu_e \\\\ e \\end{pmatrix}, \\begin{pmatrix} \\nu_\\mu \\\\ \\mu \\end{pmatrix}, \n",
    "\\begin{pmatrix} \\nu_\\tau \\\\ \\tau \\end{pmatrix} \n",
    "$$\n",
    "$$\n",
    "\\begin{pmatrix} u \\\\ d \\end{pmatrix}, \\begin{pmatrix} c \\\\ s \\end{pmatrix}, \n",
    "\\begin{pmatrix} t \\\\ b \\end{pmatrix} \\\\\n",
    "$$\n",
    "\n",
    "En cada generación, tanto leptones como quarks, se agrupan en **dupletes** con posiciones **arriba** y **abajo**.\n"
   ]
  },
  {
   "cell_type": "markdown",
   "metadata": {
    "slideshow": {
     "slide_type": "slide"
    }
   },
   "source": [
    "Decimos que las tres generaciones de leptones se comportan con **universalidad** (de igual manera) frente a las interacciones si se tiene en cuenta que sus masas son diferentes. \n",
    "\n",
    "Decimos también que las partículas tienen **sabor**, que en realidad se corresponde con la identidad de la partícula. Por ejemplo decimos que el quark *s* tiene *extrañeza*, el quark *b*, belleza, el neutrino electrónico tiene *sabor electrónico*. Y para los leptones cargados, decimos un leptón cargado de sabor *electrónico*, para referirnos al electrón.\n",
    "\n",
    "Por alguna razón que desconocemos las partículas desde el punto de la interacción débil no se corresponden exactamente con las partículas de masa, en otras palabras, la interacción con los campos vectoriales no está alineada con la interacción con el bosón de Higgs. Lo que da lugar a una física compleja y muy rica, que se conoce como **física del sabor**. Un ejemplo de esta física son las oscilaciones de neutrinos.\n"
   ]
  },
  {
   "cell_type": "markdown",
   "metadata": {
    "slideshow": {
     "slide_type": "slide"
    }
   },
   "source": [
    "La siguiente tabla muestra los fermiones agrupados por familias, su carga eléctrica y las fuerzas que sienten: \n",
    "\n",
    "|   |  1   |  2   |  3  | Q (e) | fuerte | electromag. | débil | Higgs |\n",
    "|-- | :--  | :--  | :-- | :--   | :--    |:--               |:--    | :-- | \n",
    "|         |\n",
    "|quarks   |  u | c  | t   | $\\frac{2}{3}$   | sí | sí | sí | sí |\n",
    "|         |  d   | s   | b   |  $-\\frac{1}{3}$ | sí | sí|  sí | sí |\n",
    "|         |\n",
    "| leptons | $\\nu_e$| $\\nu_\\mu$  | $\\nu_\\tau$   | 0  | no | no | sí | ? |\n",
    "|         | $e$   | $\\mu$  | $\\tau$  | -1 | no | sí | sí | sí |\n",
    "\n",
    "\n",
    "La carga eléctrica depende de su posición en el duplete. El fermión de arriba tiene una carga $+1$ comparada con la del de abajo.\n"
   ]
  },
  {
   "cell_type": "markdown",
   "metadata": {
    "slideshow": {
     "slide_type": "slide"
    }
   },
   "source": [
    "La siguiente tabla muestra la masa de los fermiones\n",
    "\n",
    "|       |           |    |  \n",
    "| :--      |:--       | :--         |\n",
    "|         |        \n",
    "|  u  (2 MeV) | c (1.2 GeV) | t (170 GeV)  | \n",
    "|  d  (5 MeV)  | s (93 MeV)  | b (4.2 GeV)  | \n",
    "|         |\n",
    "| $\\nu_e$ (< eV)| $\\nu_\\mu$ (< eV) | $\\nu_\\tau$ (<eV)   | \n",
    "| $e$   (511 keV)| $\\mu$  (106 MeV)| $\\tau$  (1.77 GeV) | \n",
    "\n",
    "Podemos notar que el quark top es extremadamente pesado, mientras que el neutrino, del que no sabemos su masa es extraordinariamente ligero, del orden de $10^6$ veces más ligero que el electrón.\n",
    "\n",
    "De las dos tablas anteriores vemos que el neutrino es particular, diferente, solo interacciona débilmente. Veremos a lo largo de estas clases como el neutrino ejemplifica muy bien las características fundamentales del Modelo Estándar, además, hoy en día oculta todavía varios misterios por resolver, como si es o no su propia antiparticula o como interacciona con el bosón de Higgs.\n"
   ]
  },
  {
   "cell_type": "markdown",
   "metadata": {
    "slideshow": {
     "slide_type": "slide"
    }
   },
   "source": [
    "La siguiente figura muestra de forma gráfica la disparidad de masas entre los fermiones:\n",
    "\n",
    "\n",
    "| |\n",
    "|:--:|\n",
    "|<img src=\"./imgs/intro_masas.png\" width = 400 align=\"center\">|\n",
    "|Masas de los fermiones [MT1.1]|\n",
    "\n",
    "No sabemos por qué los fermiones tienen este patrón de masas, que al final, equivale a decir que no sabemos por qué se acoplan al bosón de Higgs de forma tan dispar. \n",
    "\n",
    "Puede que necesitamos conocer mejor la física de Higgs para entender el origen de los valores de las masas de los fermiones."
   ]
  },
  {
   "cell_type": "markdown",
   "metadata": {
    "slideshow": {
     "slide_type": "slide"
    }
   },
   "source": [
    "### Leptones\n",
    "\n",
    "Las tres familias de leptones son:\n",
    "\n",
    "$$\n",
    "\\begin{pmatrix} \\nu_e \\\\ e \\end{pmatrix}, \\begin{pmatrix} \\nu_\\mu \\\\ \\mu \\end{pmatrix}, \n",
    "\\begin{pmatrix} \\nu_\\tau \\\\ \\tau \\end{pmatrix}\n",
    "$$\n",
    "\n",
    "Los leptones cargados $\\mu, \\tau$ son una copia con más masa del $e$.\n",
    "\n",
    "En la Naturaleza, hasta la fecha, hemos verificado que las interacciones conservan el **número leptónico**, $L$, que es el número de leptones menos el de anti-leptones. \n"
   ]
  },
  {
   "cell_type": "markdown",
   "metadata": {
    "slideshow": {
     "slide_type": "slide"
    }
   },
   "source": [
    "\n",
    "Por ejemplo en la desintegración $\\beta$:\n",
    "\n",
    "$$\n",
    "n \\to p + e + \\bar{\\nu}_e\n",
    "$$\n",
    "\n",
    "El número leptónico antes y después de de la desintegración es $L = 0$. Dado que $e$ es un leptón, $L = +1$  y $\\bar{\\nu}_e$ un anti-lepton, $L=-1$.\n",
    "\n",
    "Por lo tanto **el neutrino**, que es el leptón más ligero, **es estable**.\n",
    "\n",
    "Por supuesto, todas las interacciones conservan la energía, el momento lineal y angular, y la carga eléctrica. \n"
   ]
  },
  {
   "cell_type": "markdown",
   "metadata": {
    "slideshow": {
     "slide_type": "slide"
    }
   },
   "source": [
    "Los leptones cargados se desintegran via las interacciones débiles.\n",
    "\n",
    "La siguiente tabla muestras sus vidas medias:\n",
    "\n",
    "| $e$  |  --------- $\\mu$ --------- | ------- $\\tau$ ----|\n",
    "| :--: | :--: | :--: | \n",
    "| estable | $2.6 \\, 10^{-6}$ s| $2.9 \\, 10^{-13}$ s|\n",
    "\n",
    "**El electrón es estable**, porque todas las interacciones conservan la carga eléctrica, y es el leptón cargado más ligero.\n",
    "\n",
    "Los muones de 10 GeV, recorren habitualmente unos metros antes de desintegrarse. \n",
    "\n",
    "Mientras que los tauones se desintegran al poco de ser producidos, a 45 GeV por ejemplo a recorren unos mm.\n"
   ]
  },
  {
   "cell_type": "markdown",
   "metadata": {
    "slideshow": {
     "slide_type": "slide"
    }
   },
   "source": [
    "Existen tres neutrinos de sabor, $\\nu_e, \\nu_\\mu, \\nu_\\tau$ asociados a sus parejas leptónicas $e, \\mu, \\tau$ respectivamente.\n",
    "\n",
    "**El SM postulaba que no tienen masa**, pero gracias a los experimentos de oscilaciones de neutrinos sabemos que tienen masa.\n",
    "\n",
    "Su masa se desconoce pero es muy pequeña $\\lt 1$ eV, a comparar con los 511 keV del electrón.\n",
    "\n",
    "**Los neutrinos** no tienen carga eléctrica, **tienen una masa muy pequeña**, **son estables**, y **sólo interactuan débilmente**.  ¡Son muy *cool*! Solo hace falta ver las tablas anteriores para dease cuenta.\n",
    "\n",
    "Son los leptones más peculiares del SM y que tengan masa es **la única prueba hasta el momento de que el SM es incompleto o incorrecto**.\n",
    "\n",
    "Las características de los leptones y las peculiaridades de la desintegración débil y de los neutrinos las estudiaremos en el [Tema-leptones]."
   ]
  },
  {
   "cell_type": "markdown",
   "metadata": {
    "slideshow": {
     "slide_type": "slide"
    }
   },
   "source": [
    "### Los quarks\n",
    "\n",
    "Las tres generaciones de quarks son:\n",
    "\n",
    "$$\n",
    "\\begin{pmatrix} u \\\\ d \\end{pmatrix}, \\begin{pmatrix} c \\\\ s \\end{pmatrix}, \n",
    "\\begin{pmatrix} t \\\\ b \\end{pmatrix} \\\\\n",
    "$$\n",
    "\n",
    "Los quarks $(c, s)$, encanto y extrañeza respectivamente, y $(t, b)$, top y bottom (o belleza), son copias con más masa del par $(u, d)$, arriba y abajo.\n",
    "\n",
    "Los quarks $u, d, s$ son ligeros, los quark $c, b$ son pesados. El top, $t$, es incluso más pesado que los bosones vectoriales $W^\\pm, Z$ y no llega a producir hadrones. Esta diferencia hará que la física de los hadrones formados por quark ligeros y pesados sea diferente."
   ]
  },
  {
   "cell_type": "markdown",
   "metadata": {
    "slideshow": {
     "slide_type": "slide"
    }
   },
   "source": [
    "**Los quarks tienen carga fraccionaria**: los de arriba $+2/3$ y los de abajo $-1/3$ en unidades de $e$. No hay nada extraño en que la carga sea fraccionaria. Debemos a uno de los padres de la constitución americana, B. Flanklin, que el electrón se defina como carga eléctrica negativa, pero eso es solo una convención.\n",
    "\n",
    "**Los quarks no son libres**, sólo aparecen en partíclas compuestas, los **hadrones**. Este fenómeno se conoce como **confinamiento**.\n",
    "\n",
    "Si los quarks fueran partículas libres, los habríamos detectado facilmente, ya que en presencia de un campo magnético, sus trayectorias se curvarían de acuerdo a su carga."
   ]
  },
  {
   "cell_type": "markdown",
   "metadata": {
    "slideshow": {
     "slide_type": "slide"
    }
   },
   "source": [
    "Todavía no tenemos una explicación exacta del confinamiento de los quarks, pero la teoría que rigue las interacciones fuertes, la **cromodinámica cuántica**, QCD, permite una explicación.\n",
    "\n",
    "Los quarks aparecen con tres cargas fuertes o de **color**, que se denominan: **rojo, verde y azul**, $r, g, b$. Y por supuesto no tiene nada que ver con los colores habituales. \n",
    "\n",
    "Esto es, un mismo quark existe en tres colores, por ejemplo el quark belleza, $b$, puede ser rojo, verde o azul. Esto quiere decir que en realidad no tenemos 6 quarks sino 18. Decimos que *cada quark de sabor se presenta en tres colores* (no solo hay simetría en física, a veces, también hay poesía).\n",
    "\n",
    "Para cada color existe también su anti-color, esto es anti-rojo, anti-verde o anti-azul, que viene asociado a los anti-quarks.\n",
    "\n",
    "Sin embargo, la QCD exige que los únicos hadrones reales sean **neutros al color**, digamos que son *descoloridos* o *blancos*, de forma similar al hecho de que los átomos son eléctricamente neutros.\n",
    "\n",
    "Estudiaremos los quarks, los hadrones y el color en el [Tema-quarks]."
   ]
  },
  {
   "cell_type": "markdown",
   "metadata": {
    "slideshow": {
     "slide_type": "slide"
    }
   },
   "source": [
    "Sólo hay dos posibilidades de combinación de quarks para que los hadrones sean *incoloros*, o bien mediante una combinación de tres quarks (o antiquarks), cada uno con un color, lo que llamamos barión (o antibarión), o un mesón, formado por un quark y un antiquark con colores complementarios (por ejemplo, rojo y anti-rojo)\n",
    "\n",
    "Los **hadrones** se clasifican en.\n",
    "\n",
    "  * **bariones**, formados por tres quarks.\n",
    "  \n",
    "  * **mesones**, formados por un par quark y antiquark.\n",
    "\n",
    "| |\n",
    "| :--| \n",
    "| <img src=\"./imgs/intro_hadrons.png\" width = 300 align=\"center\"> |\n",
    "| Imagen esquemática de un mesón y un barión|\n",
    "\n",
    "Con estas dos posibilidades, la carga eléctrica de los hadrones es entera.\n"
   ]
  },
  {
   "cell_type": "markdown",
   "metadata": {
    "slideshow": {
     "slide_type": "slide"
    }
   },
   "source": [
    "El protón y el neutrón son bariones. El protón está formado por el trío de quarks de valencia ($uud$), cuya carga es $+e$,  y el neutrón por ($udd$), cuya carga es nula.\n",
    "\n",
    "También, en la Naturaleza, hasta le fecha, hemos comprobado que se conserva el número de quarks, decimos que se conserva **el número bariónico**, $B$, (el número de bariones menos el de antibariones).\n",
    "\n",
    "Notar que los mesones tienen número de quarks nulo porque son la combinación de un quark y un antiquark. Así que en vez de contar quarks contamos bariones en las interacciones.\n",
    "\n",
    "Por ejemplo, de nuevo, en la desintegración $\\beta$:\n",
    "\n",
    "$$\n",
    "n \\to p + e + \\bar{\\nu}_e.\n",
    "$$\n",
    "\n",
    "A ambos lados de la interacción el número bariónico es 1. El $p$ y el $n$ tienen los dos $B = 1$\n",
    "\n",
    "Como **el protón**, que es el barión más ligero, **es estable**.\n"
   ]
  },
  {
   "cell_type": "markdown",
   "metadata": {
    "slideshow": {
     "slide_type": "slide"
    }
   },
   "source": [
    "Remarquemos que la desintegración $\\beta$ \n",
    "    \n",
    "$$\n",
    "n \\to p + e + \\bar{\\nu}_e.\n",
    "$$\n",
    "\n",
    "y el resto de **interacciones conservan**:\n",
    "  * la *carga eléctrica*, $Q$,  \n",
    "  * el *número leptónico*, $L$,\n",
    "  * el *número bariónico*, $B$.\n",
    "\n",
    "La anterior desintegración es posible energéticamente, porque el $n$ tiene una masa (939  MeV) ligeramente superior al $p$ (938.3 MeV). De esa pequeña diferencia proviene que la vida media del neutrón sea aproximadamente de 10 mins.\n",
    "\n",
    "Dado que la partícula estable de los leptones es el $e$ y de los bariones el $p$. La conservación del número leptónico y bariónico, a igualdad del número de ambas partículas, nos asegura que el Universo sea eléctricamente neutro.\n",
    "\n",
    "\n",
    "Muy diferente sería si la Naturaleza si el neutrino hubiese sido una partícula masiva con posibilidad de desintegrarse, o si el protón tuviera más masa que el neutrón.\n",
    "\n"
   ]
  },
  {
   "cell_type": "markdown",
   "metadata": {
    "slideshow": {
     "slide_type": "slide"
    }
   },
   "source": [
    "El resto de hadrones, (ya sean mesones o bariones), así como leptones cargados $\\mu, \\tau$, se desintegran:\n",
    "\n",
    "La vida media de la desintegración depende de:\n",
    "\n",
    "  * del tipo de desintegración permitida, ya sea ésta fuerte (via gluones), electromagnética (via un fotón) o débil (vía bosones $W^\\pm$).\n",
    "  \n",
    "  * del espacio fásico permitido. A mayor diferencia de masas entre la partícula madre y las hijas más espacio fásico.\n",
    "  "
   ]
  },
  {
   "cell_type": "markdown",
   "metadata": {
    "slideshow": {
     "slide_type": "slide"
    }
   },
   "source": [
    "\n",
    "La figura muestra la vida media de varias partículas y su tipo de desintegración. \n",
    "\n",
    "| |\n",
    "|:--|\n",
    "| <img src=\"./imgs/intro_lifetimes.png\" width = 400 align=\"center\">|\n",
    "| Vida media de algunas partículas dependiendo del tipo de desintegración [MT1.1]\n",
    "\n",
    "La partículas que se desintegran débilmente son aquellas con una vida media \"mayor\".\n",
    "\n",
    "*cuestión:* ¿Por qué la vida media del $n$ es tan alta?"
   ]
  },
  {
   "cell_type": "markdown",
   "metadata": {
    "slideshow": {
     "slide_type": "slide"
    }
   },
   "source": [
    "### Los mediadores de las fuerzas\n",
    "\n",
    "Recordemos que la fuerzas son responsables entre otros fenómenos de:\n",
    "    \n",
    "   * la **electromagnética**, de la estabilidad y complejidad de los átomos\n",
    "   \n",
    "   * la **débil**, de las desintegraciones $\\beta$ nucleares.\n",
    "        \n",
    "   * la **fuerte**, de la estabilidad y complejidad de los núcleos (protones y neutrones) y de los hadrones.\n",
    "        "
   ]
  },
  {
   "cell_type": "markdown",
   "metadata": {
    "slideshow": {
     "slide_type": "slide"
    }
   },
   "source": [
    "#### Propiedades de los portadores\n",
    "\n",
    "Describimos las interacciones de las partículas como el intercambio de un mediador o portador de la fuerza entre ellas.\n",
    "\n",
    "Cada portador interviene según la carga (por ejemplo eléctrica o color) de los fermiones a los que interacciona.\n",
    "\n",
    "Los portadores **son bosones vectoriales** (spín 1) y obedecen la ecuación de Maxwell.\n",
    "\n",
    "En la tabla se muestra la intensidad aproximada de las distintas fuerzas, su carga eléctrica y su masa: \n",
    "\n",
    "| fuerza            | intensidad | bosón            | Q (e) | masa (GeV) |\n",
    "| :--               | :--        | :--              | :--   | :--     | \n",
    "| fuerte            | 1          | $g$ (gluón)      | 0     | 0       | \n",
    "| electromagnetismo | $10^{-3}$  | $\\gamma$ (fotón) | 0     | 0       | \n",
    "| débil             | $10^{-8}$  | $W^{\\pm}$        | $\\pm1$  | 80.4 | \n",
    "|                   |           | $Z^0$              | 0  | 91.2 |\n",
    "| gravedad          | $10^{-37}$| "
   ]
  },
  {
   "cell_type": "markdown",
   "metadata": {
    "slideshow": {
     "slide_type": "slide"
    }
   },
   "source": [
    "El fotón carece de masa, es el responsable de las interacciones electromagnéticas, y éstas tienen rango *infinito*, lo que está relacionado con su masa.\n",
    "\n",
    "Sin embargo, los bosones vectoriales débiles, $W^\\pm, Z^0$, tiene una masa elevada $80$ y $91$ GeV respectivamente, y su alcance es *puntual*.\n",
    "\n",
    "Fue Yukawa quien para explicar la fuerza que mantenía los nucleones en el interior del núcleo, sugirió un potencial que decayera exponencialmente a partir de un radio típico, (el fm). Asociado a ese potencial debía existir una partícula masiva (200 MeV), el pión, que cuyo alcance de acción estuviera en ese rango de distancia del nucleón.\n",
    "\n",
    "Las interacciones débiles, mediadas por portadores muy masivos, tienen, en la interpretación de Yukawa, un rango puntual.\n",
    "\n",
    "A la escala de masa de los portadores débiles la llamamos **escala electrodébil**, $\\mathcal{O}(100)$ GeV, que corresonde a una interacción puntual de $10^{-18}$ m.\n"
   ]
  },
  {
   "cell_type": "markdown",
   "metadata": {
    "slideshow": {
     "slide_type": "slide"
    }
   },
   "source": [
    "Los bosones $W^\\pm$ son cargados eléctricamente. En las interacciones que median trasportan consigo una carga eléctrica ($\\pm$). Por eso sus interacciones se conocen también, por abuso del lenguaje, como **corrientes cargadas** (CC). \n",
    "\n",
    "Las interacciones del bosón $Z^0$ se denominan también **corrientes neutras** (NC). Y en este caso, como en el del fotón, el portador no transmite carga eléctrica."
   ]
  },
  {
   "cell_type": "markdown",
   "metadata": {
    "slideshow": {
     "slide_type": "slide"
    }
   },
   "source": [
    "Existen 8 tipos de gluones, que son electricamente neutros y de masa nula, pero sí tienen color. Intercambian el color de los quarks. Por ejemplo, decimos que un gluón cambia un quark rojo en azul y a cambio convierte un quark azul en rojo.\n",
    "\n",
    "Como los gluones transmiten color, pueden interaccionar entre sí, intercambiandose entre ellos colores, esto es, interaccionan entre ellos. \n",
    "\n",
    "De nuevo aunque no tenemos una expliación exacta en QCD, podemos entender el rango de interacción de los gluones limitado por las propias interacciones entre ellos."
   ]
  },
  {
   "cell_type": "markdown",
   "metadata": {
    "slideshow": {
     "slide_type": "slide"
    }
   },
   "source": [
    "#### Propiedades de las fuerzas\n",
    "\n",
    "Adelantamos ahora algunas propiedades de las fuerzas que se discutirán en los temas siguientes:\n",
    "\n",
    "**Las interacciones electromagnética y fuerte conservan**:\n",
    "   * **el sabor**,\n",
    "\n",
    "   * **la paridad**.\n",
    "   \n",
    "Recordemos que paridad es la inversión de ${\\bf x} \\to - {\\bf x}$, cambio de signo en las coordenadas espaciales; y la inversión de carga cambia todas las cargas de las partículas.\n"
   ]
  },
  {
   "cell_type": "markdown",
   "metadata": {
    "slideshow": {
     "slide_type": "slide"
    }
   },
   "source": [
    "**La interacción fuerte conserva** además:\n",
    "\n",
    "   * las cargas de **color**.\n",
    "\n",
    "Esto es si los quarks iniciales son rojo y azul, entre los quarks finales hay rojo y azul.\n",
    "\n",
    "En este sentido, las interacciones fuertes y electromagnéticas, son *clásicas*."
   ]
  },
  {
   "cell_type": "markdown",
   "metadata": {
    "slideshow": {
     "slide_type": "slide"
    }
   },
   "source": [
    "\n",
    "Por el contrario, la interacciones débiles, son *peculiares* y *sorprendentes*, poque violan\n",
    "    \n",
    "   * la **paridad**, (las cargadas de forma máxima).\n",
    "   \n",
    "   Lo que es una caractística esencial de la interacción débil y una de las piezas angulares del Modelo Estándar.\n",
    "   \n",
    "   * la inversión conjunta de **carga y paridad**, CP. \n",
    "   \n",
    "   Se viola de forma mínima y solo en corrientes cargadas en hadrones, (no sabemos hoy en día si también se viola en leptones). Aunque esta violación es muy relevante, sin embargo no tiene un caracter fundamental en la teoría, sino que aparece como una posibilidad al existir tres generaciones. Tampoco sabemos por qué se produce este nivel de violación CP, que matemáticamente se traduce en el valor de una fase compleja en una matriz unitaria (ver tema quark-hadrones).\n",
    "\n",
    "Además, **las corrientes cargadas cambian el sabor, pero las neutras lo conservan**.\n",
    "\n",
    "Por ejemplo, la interacción débil neutra entre un neutrino y un leptón cargado iniciales da lugar a una dispersión con el mismo neutrino y leptón cargado en el estado final.\n",
    "\n",
    "Luego, la interacción más peculiar de todas, es con diferencia *la interacción débil cargada*, la que media la desintegración $\\beta$ del neutrón.\n"
   ]
  },
  {
   "cell_type": "markdown",
   "metadata": {
    "slideshow": {
     "slide_type": "slide"
    }
   },
   "source": [
    "### El bosón de Higgs\n",
    "\n",
    "Ahora sabemos, o entendemos, que las partículas de forma primigenia no tienen masa, y ésta no es una propiedad intrínsica suya, sino que aparece por la interacción de cada tipo de fermión con el bosón de Higgs. \n",
    "\n",
    "El bosón de Higgs es un **scalar**, su espín es $0$, y obedece a la ecuación de Klein-Gordon.\n",
    "\n",
    "Y como vemos juega un papel crucial en el SM:\n",
    "\n",
    "   * **dota de masas a las partículas**.\n",
    "   \n",
    "   * dota de masas **a los bosones véctoriales débiles $W^\\pm, Z^0$**.\n",
    "   \n",
    "Aunque la masa aparece como consecuencia de la interacción con el Higgs, el modelo no predice sin embargo qué masa tienen los fermiones, ni qué masa tiene el Higgs. Lo que hace que las masas sean parámetros libres del modelo.\n",
    "\n",
    "El Higgs además presenta interacciones entre otros higgs, con los bosones vectoriales débiles, y con los fermiones, lo que da lugar a la predicción de una física muy rica y compleja que es motivo de estudio actual en el LHC y lo será con seguridad en futuros aceleradores.\n",
    "\n",
    "Estudiaremos las características del SM y del bosón de Higgs en el [Tema-SM]"
   ]
  },
  {
   "cell_type": "markdown",
   "metadata": {
    "slideshow": {
     "slide_type": "slide"
    }
   },
   "source": [
    "## Un repaso a la historia\n",
    "\n",
    "### Hitos principales\n",
    "\n",
    "La siguiente tabla presenta algunos de los hitos principales en Física de Partículas, experimental, teórica y de detectores.\n",
    "\n",
    "| |\n",
    "| :--: | \n",
    "| <img src=\"./imgs/intro_particles_history.jpg\" width = 800 align=\"center\">|\n",
    "| Hitos de la Historia de Física de Partículas|"
   ]
  },
  {
   "cell_type": "markdown",
   "metadata": {
    "slideshow": {
     "slide_type": "slide"
    }
   },
   "source": [
    "A vuelo de pájaro:\n",
    "\n",
    "* Durante las primeras décadas del siglo XX se descubrieron los componentes del núcleo (*los componentes de la materia ordinaria: protón, neutrón, electrón, neutrino*).\n",
    "\n",
    "* En las décadas siguientes se descubrieron nuevos hadrones y leptones que se desintegraban (*¿Quién ha ordenado ésto?, ¿por qué este bestiario de nuevas partículas?*)\n",
    "\n",
    "* A principios de los 60' a partir del estudio de la estructura de los nucleones, se establece la existencia de los quarks (*¡orden al fin!*)\n",
    "\n",
    "* En las décadas de los 80-90 se confirma el Modelo Estándar (*todo encaja, pero falta una pieza, el bosón de Higgs*)\n",
    "\n",
    "* En el 2012 de descubre el bosón de Higgs (*El modelo está completo, pero no es suficiente...*)"
   ]
  },
  {
   "cell_type": "markdown",
   "metadata": {
    "slideshow": {
     "slide_type": "slide"
    }
   },
   "source": [
    "### Detectores, Experimentos, Teoría\n",
    "\n",
    "Enumeramos ahora como las tres ramas: detectores, experimental y teoría se complementan, y como han influido unas en otras a lo largo de la historia de la Física de Partículas\n",
    "\n",
    "Nuevos detectores permiten nuevos descubrimientos:\n",
    "\n",
    "  * Las emulsiones fotográficas permitieron la observación de partículas, $\\mu, \\pi$\n",
    "\n",
    "  * Las centelleadores y los reactores nucleares el descubrimiento del neutrino $\\nu_e$. \n",
    "    \n",
    "  * Los detectores de silicio la determinación de partículas con vida corta $\\tau, B$"
   ]
  },
  {
   "cell_type": "markdown",
   "metadata": {
    "slideshow": {
     "slide_type": "slide"
    }
   },
   "source": [
    "Los experimentos revelan una Naturaleza inesperada:\n",
    "\n",
    "  * La violación de Paridad y CP en corrientes débiles.\n",
    "  \n",
    "  * Tres familias de leptones y de quarks.\n",
    "  \n",
    "  * La matrix de mezcla, CKM, que rigue los corrientes cargadas entre los quarks.\n",
    "  \n",
    "  * Oscilaciones de neutrinos."
   ]
  },
  {
   "cell_type": "markdown",
   "metadata": {
    "slideshow": {
     "slide_type": "slide"
    }
   },
   "source": [
    "La construcción de la teoría guía a los descubrimientos:\n",
    "\n",
    "  * Pauli postula la existencia del neutrino.\n",
    "\n",
    "  * Gellman propone el modelo de quarks y la ordenación de 'zoo' de hadrones.\n",
    "    \n",
    "  * La unificación electro-débil predice las corrientes neutras de neutrinos.\n",
    "  \n",
    "  * La rotura espontánea de simetría postula la existencia del bosón de Higgs."
   ]
  },
  {
   "cell_type": "markdown",
   "metadata": {
    "slideshow": {
     "slide_type": "slide"
    }
   },
   "source": [
    "Algunos de los avaces experimentales más relevantes son:\n",
    "    \n",
    "  * El descubrimento del positron (antimateria)\n",
    "  \n",
    "  * El descubrimiento de partículas inesperadas: $\\mu, ...$\n",
    "  \n",
    "  * El descubrimiento del neutrino y sus propiedades.\n",
    "  \n",
    "  * La violación de Paridad y de CP en corrientes débiles\n",
    "  \n",
    "  * La existencia de los quarks y los gluones\n",
    "  \n",
    "  * La existencia de las corrientes neutras y la verificación del SM\n",
    "  \n",
    "  * La verificación de la matrix de mezclas CKM que rige la física del sabor de los hadrones.\n",
    "  \n",
    "  * El descubrimiento de oscilaciones de neutrinos\n",
    "  \n",
    "  * El descubrimiento del bosón de Higgs"
   ]
  },
  {
   "cell_type": "markdown",
   "metadata": {
    "slideshow": {
     "slide_type": "slide"
    }
   },
   "source": [
    "Los avances teóricos más importantes:\n",
    "\n",
    "  * La ecuación de Dirac y la existencia de la antimateria\n",
    "  \n",
    "  * El potencial de Yukawa\n",
    "  \n",
    "  * La teoría de Fermi de interacciones entre corrientes.\n",
    "  \n",
    "  * Los diagramas de Feynman (QED)\n",
    "  \n",
    "  * El modelo de quarks de Gellman and Zweig.\n",
    "  \n",
    "  * La unificación electro-débil, el Modelo Estándar (SM) de Glashow, Salam y Weinberg.\n",
    "  \n",
    "  * El mecanismo de Higgs y Englert."
   ]
  },
  {
   "cell_type": "markdown",
   "metadata": {
    "slideshow": {
     "slide_type": "slide"
    }
   },
   "source": [
    "### Preguntas sin respuesta\n",
    "\n",
    "Aún quedan por resolver bastantes preguntas de las que no conocemos la respuesta:\n",
    "\n",
    "* ¿Se conserva el número bariónico? ¿Se desintegra el protón?\n",
    "\n",
    "* ¿Se conserva el número leptónico? ¿Es el neutrino su propia anti-partícula?\n",
    "\n",
    "* ¿Son los quarks y leptones elementales? ¿Y el bosón de Higgs?\n",
    "\n",
    "* ¿Por qué hay 3 generaciones?\n",
    "\n",
    "* ¿Hay un patrón que explique las masas de los fermiones?\n",
    "\n",
    "* ¿Por qué hay tanta disparidad de masas entre el neutrino y el resto de fermiones? ¿Se acopla el neutrino al bosón de Higgs?\n",
    "\n",
    "* ¿Por qué el Universo está formado por materia y no por anti-materia? ¿Qué paso con la anti-materia del Universo?\n",
    "\n",
    "* ¿Qué forma la materia oscura?\n",
    "\n",
    "Si tenemos en cuenta que la materia del Universo que conocemos o decimos conocer supone un 5% del total, nos damos cuenta que queda aún mucho camino por recorrer..."
   ]
  },
  {
   "cell_type": "markdown",
   "metadata": {
    "slideshow": {
     "slide_type": "slide"
    }
   },
   "source": [
    "### Nomenclatura:\n",
    "\n",
    "| nombres          | definición |\n",
    "| :---          | :--- |\n",
    "| *partícula*  | corpúsculo que puede sentir la fuerzas electromagnética, débil o fuerte |\n",
    "| *antipartícula* | partícula con las cargas y números cuánticos (excepto masa y spín) opuestos a la partícula|\n",
    "| *fermión*  | partícula de spin 1/2 |\n",
    "| *leptón*  (ligero) | fermión que no siente la fuerza fuerte |\n",
    "| *quark*    | fermión que siente la fuerza fuerte |\n",
    "| *bosón*    | particula de spín entero |\n",
    "| *gauge boson*| bosones portadores de la fuerza $W, Z, \\gamma$ tienen spín 1 (vectoriales) |\n",
    "| *hadrón*  (fuerte) | partícula compuesta que siente la fuerza fuerte|\n",
    "| *barión*   | hadrón compuesto de tres quarks |\n",
    "| *mesón*   (mediano)| hadrón compuesto de quark y antiquark |\n",
    "\n"
   ]
  },
  {
   "cell_type": "markdown",
   "metadata": {
    "slideshow": {
     "slide_type": "slide"
    }
   },
   "source": [
    "[Para esta sección ver MT1.1 y AB1.8, AB1.9]"
   ]
  },
  {
   "cell_type": "markdown",
   "metadata": {
    "slideshow": {
     "slide_type": "slide"
    }
   },
   "source": [
    "\n",
    "\n",
    "## Bibliografía\n",
    "\n",
    " * [AB] Alessandro Bettini, \"Introduction to Elementary Particle Physcs\", Cambridge U. press. Tema 1\n",
    "\n",
    " * [MT] Mark Tomson, \"Modern Particle Physics\", Cambridge U. press. Tema 1\n",
    "    \n",
    " * [PDG](https://pdg.lbl.gov/) Particle Data Group."
   ]
  }
 ],
 "metadata": {
  "anaconda-cloud": {},
  "celltoolbar": "Slideshow",
  "kernelspec": {
   "display_name": "Python 3 (ipykernel)",
   "language": "python",
   "name": "python3"
  },
  "language_info": {
   "codemirror_mode": {
    "name": "ipython",
    "version": 3
   },
   "file_extension": ".py",
   "mimetype": "text/x-python",
   "name": "python",
   "nbconvert_exporter": "python",
   "pygments_lexer": "ipython3",
   "version": "3.9.13"
  }
 },
 "nbformat": 4,
 "nbformat_minor": 4
}
