{
 "cells": [
  {
   "cell_type": "markdown",
   "id": "5bb90161",
   "metadata": {
    "slideshow": {
     "slide_type": "slide"
    }
   },
   "source": [
    "# Conceptos básicos"
   ]
  },
  {
   "cell_type": "markdown",
   "id": "67e6edad",
   "metadata": {
    "slideshow": {
     "slide_type": "slide"
    }
   },
   "source": [
    "## Radiación $\\alpha, \\beta, \\gamma$\n",
    "\n",
    "### De los griegos clásicos a nuestros días\n",
    "\n",
    "En el De Rerum Natura de [Lucrecio](https://es.wikipedia.org/wiki/Lucrecio) (siglo I a.C.), el poeta romano, inspirado por Epicuro y en última instancia por Demócrito, expone una visión la visión de la Naturaleza: _todo lo que existe está hecho de átomos y vacío_.\n",
    "\n",
    "En nuestra visión contemporanea: el mundo está consitutido por partículas fundamentales y por vacío.\n",
    "\n",
    "También argumenta que:\n",
    "\n",
    "_\"Haud igitur redit ad nihilum res ulla, sed omnes\n",
    "dissoluuntur et in res cunctas remeare videntur.\"_\n",
    "\n",
    "(Ninguna cosa vuelve a la nada: todas se disuelven y parecen regresar a otros cuerpos.)\n",
    "\n",
    "En nuestra versión moderna: La energía ni se crea ni se destruye, se conserva. Las partículas se transforman unas en otras.\n",
    "\n",
    "$$\n",
    "E = m \\, c^2\n",
    "$$"
   ]
  },
  {
   "cell_type": "markdown",
   "id": "90d50706",
   "metadata": {
    "slideshow": {
     "slide_type": "slide"
    }
   },
   "source": [
    "En la actualidad nuestro conocimiento de los componentes fundamentales de la Naturaleza está contenida en el _Modelo Estándar_\n",
    "\n",
    "(un nombre muy desafortunado y modesto para la embargadura del proyecto)\n",
    "\n",
    "Clasificar y comprender las interacciones de las partículas es una tarea comunitaria que dura desde finales del siglo XIX, se inicial con el descubrimiento del electrón, y llega hasta nuestros días, siendo el último gran descubrimiento el del bosón de Higgs en 2012.\n",
    "\n",
    "No obstante la imagen que surge del Modelo Estándard, aunque poco intuitiva, es relativamente simple. "
   ]
  },
  {
   "cell_type": "markdown",
   "id": "7be225b8",
   "metadata": {
    "slideshow": {
     "slide_type": "slide"
    }
   },
   "source": [
    "### La tabla periódica\n",
    "\n",
    "Mendeleev (1869) clasifica por propiedades los átomos y Moseley (1913) los ordena por Z.\n",
    "\n",
    "| |\n",
    "|:--:|\n",
    "| <img src=\"./imgs/gen_tabla_periodica.png\" width = 500 align=\"center\">|\n",
    "| Table periódica de los elementos [Wikipedia](https://es.wikipedia.org/wiki/Tabla_peri%C3%B3dica_de_los_elementos)\n",
    "\n",
    "\n",
    "\n",
    "La table periódica supone una ordenación de los elementos.\n",
    "- Disposición por **número atómico** (Z).\n",
    "- **Periodos** (filas) y **grupos** (columnas).\n",
    "- Bloques electrónicos: **s, p, d, f**."
   ]
  },
  {
   "cell_type": "markdown",
   "id": "bea1019a",
   "metadata": {
    "slideshow": {
     "slide_type": "slide"
    }
   },
   "source": [
    "## Radiaciones ionizantes: α, β, γ\n",
    "\n",
    "A finales del siglo XIX y del siglo XX se descubrieron distintos tipos de radiaciones, cuyos nombres aún se utilizan: $\\alpha, \\beta, \\gamma$. Y que corresponden respectivamente a interacciones fuerte, débil y electromágnética.\n",
    "\n",
    "Estas radiaciones tienen un rango típico de energía de MeV.\n",
    "\n",
    "### Radiación $\\alpha$\n",
    "\n",
    "La radiación nuclear la descubrió (accidentalmente) Becquerel (1896) y la estudió en detalle Marie Curie.\n",
    "\n",
    "Henri Becquerel, físico francés, estaba estudiando la fluorescencia de sales de uranio.\n",
    "Creía que, al exponerse al sol, éstas emitirían rayos X.\n",
    "\n",
    "Un día nublado, sin sol, guardó sus placas fotográficas envueltas junto con el uranio.\n",
    "Cuando las reveló, vio que estaban veladas.\n",
    "\n",
    "«Les sels d’uranium émettent spontanément des rayonnements capables d’impressionner une plaque photographique à travers un papier opaque.» (H. Becquerel)\n",
    "\n",
    "El uranio emitía una radiación invisible, espontánea, sin necesidad de excitación externa.\n",
    "Eso fue el nacimiento del concepto de radiactividad natural.\n",
    "\n",
    "Actualmente el becquerio se usa como unidad para indicar desintegraciones/segundo."
   ]
  },
  {
   "cell_type": "markdown",
   "id": "172bdd36",
   "metadata": {
    "slideshow": {
     "slide_type": "slide"
    }
   },
   "source": [
    "\n",
    "Posteriormente [Maria Curie (Skłodowska)](https://en.wikipedia.org/wiki/Marie_Curie) y su marido Pièrre Curie descubrieron dos nuevos elementos mucho más radiactivos que el uranio: Polonio y el Radio.\n",
    "\n",
    "Marie acuñó el término “radioactividad”. \n",
    "\n",
    "En esta desintegración del uranio se emite una radiación $\\alpha$, esto es un núcleo de helio (esto es con carga +2):\n",
    "\n",
    "$$\n",
    "{}^{238}_{92}\\mathrm{U} \\rightarrow {}^{234}_{90}\\mathrm{Th} + {}^{4}_{2}\\mathrm{He}\n",
    "$$\n",
    "\n",
    "La radiación $\\alpha$ es poco penetrante.\n",
    "\n",
    "Actualmente el becquerio se usa como unidad para medir las desintegraciones/segundo.\n"
   ]
  },
  {
   "cell_type": "markdown",
   "id": "f2347877",
   "metadata": {
    "slideshow": {
     "slide_type": "slide"
    }
   },
   "source": [
    "### radiación beta\n",
    "\n",
    "Se trata de la emisión por un núcleo de electrón, por ejemplo:\n",
    "\n",
    "$$\n",
    "{}^{14}_{6}\\mathrm{C} \\;\\rightarrow\\; {}^{14}_{7}\\mathrm{N} \\;+\\; e \\;+\\; \\bar{\\nu}_e\n",
    "$$\n",
    "\n",
    "En 1899 Wilhelm Wien y Ernest Rutherford notan que algunas partículas emitidas de núcleos radiactivos son mucho más ligeras que las alfa y se comportan como electrones.\n",
    "\n",
    "En 1913 James Chadwick estudia la dispersión de estas partículas y confirma que son electrones emitidos desde el núcleo.\n",
    "\n",
    "La desintegración $\\beta$\n",
    "\n",
    "$$\n",
    "n \\;\\rightarrow\\; p \\;+\\; e \\;+\\; \\bar{\\nu}_e\n",
    "$$\n",
    "\n",
    "será nuestra guía para entender las desintegraciones débiles\n"
   ]
  },
  {
   "cell_type": "markdown",
   "id": "b93e4224",
   "metadata": {
    "slideshow": {
     "slide_type": "slide"
    }
   },
   "source": [
    "### radiación $\\gamma$\n",
    "\n",
    "Finalmente, algunos núcleos emiten fotones de alta energía, penetrantes, que se denominan rayos $\\gamma$.\n",
    "\n",
    "Como es el caso del Cobalto:\n",
    "\n",
    "$$\n",
    "{}^{60}_{27}\\mathrm{Co} \\;\\xrightarrow{\\beta}\\; {}^{60}_{28}\\mathrm{Ni}^* + e^- + \\bar{\\nu}_e \\;\\xrightarrow{\\gamma}\\; {}^{60}_{28}\\mathrm{Ni} + \\gamma\n",
    "$$\n",
    "\n",
    "En 1900 y 1903 Ernest Rutherford y Paul Villard estudian la radiación del torio y del radio, notando que hay un componente extremadamente penetrante: lo llaman rayos gamma. Rutherford identifica que no son partículas cargadas (como $\\alpha$ o $\\beta$), sino radiación electromagnética de alta energía.\n",
    "\n"
   ]
  },
  {
   "cell_type": "markdown",
   "id": "316d7fc8",
   "metadata": {
    "slideshow": {
     "slide_type": "slide"
    }
   },
   "source": [
    "Más adelante utilizaremos los diagramas de niveles para indicar las desintegraciones:\n",
    "\n",
    "| |\n",
    "|:--:|\n",
    "| <img src=\"./imgs/gen_Co60_decay.png\" width = 300 align=\"center\">|\n",
    "| Diagrama de desintegración del ${}^{60}\\mathrm{Co}$ [Wikipedia] |\n",
    "\n",
    "Puedes explorar [aquí](https://www-nds.iaea.org/relnsd/vcharthtml/VChartHTML.html) otros diagramas de niveles"
   ]
  },
  {
   "cell_type": "markdown",
   "id": "09783c3e",
   "metadata": {
    "slideshow": {
     "slide_type": "slide"
    }
   },
   "source": [
    "### Interacciones electromagnética, débil y fuerte.\n",
    "\n",
    "Recordemos que la energía típica de las radiaciones nucleares $\\alpha, \\beta, \\gamma$ son del MeV.\n",
    "\n",
    "La radiación $\\gamma$ es _electromagnética_, tiene referente clásico.\n",
    "\n",
    "La desintegración $\\beta$ es _débil_, tiene un rago muy pequeño $10^{-3}$ fm (fm = $10^{-15}$m), y aparece por primera vez en la reacciones nucleares. Su tratamiento es cuántico.\n",
    "\n",
    "La desintegración $\\alpha$ es una manifestación de la interacción _fuerte_, la responsable de la existencia del núcleo, entre otros fenómenos, y su alcance es del fm. De nuevo su tratamiento es cuántico.\n",
    "\n",
    "En Física Nuclear haremos un tratamiento cuántico y -en general- no relativista, mientras que en Física de Partículas, el tratamiento es cuántico y -casi siempre- relativista."
   ]
  },
  {
   "cell_type": "markdown",
   "id": "b6a1c1d8",
   "metadata": {
    "slideshow": {
     "slide_type": "slide"
    }
   },
   "source": [
    "## De los nucleos a los quarks\n",
    "\n",
    "### Dispersión del núcleo\n",
    "\n",
    "En 1909, H. Geiger and E. Marsden estudiaban la dispersión de partículas alfa en una lámina de oro, y E. Rutherford sugerió estudiar si existían dispersiones a altos ángulos.\n",
    "\n",
    "| | \n",
    "|:--:| \n",
    "| <img src=\"./imgs/gen_alphaexp_diagram.png\" width = 240 align=\"center\">|\n",
    "| Esquema de dispersión [Geiger, Marsen] | \n",
    "\n",
    "\n",
    "Rutherford: “It was quite the most incredible event that has ever happened to me in my\n",
    "life. It was almost as incredible as if you fired a 15-inch shell at a piece of\n",
    "tissue paper and it came back and hit you.” "
   ]
  },
  {
   "cell_type": "markdown",
   "id": "c4b38ec0",
   "metadata": {
    "slideshow": {
     "slide_type": "slide"
    }
   },
   "source": [
    "Rutherford: “It was quite the most incredible event that has ever happened to me in my\n",
    "life. It was almost as incredible as if you fired a 15-inch shell at a piece of\n",
    "tissue paper and it came back and hit you.” \n",
    "\n",
    "Rutherford concluyó, entre otras cosas, que la mayor\n",
    "parte de la masa y la carga positiva del átomo se concentran en una región\n",
    "extremadamente pequeña, a lo que se denominó núcleo.\n"
   ]
  },
  {
   "cell_type": "markdown",
   "id": "4507686c",
   "metadata": {
    "slideshow": {
     "slide_type": "slide"
    }
   },
   "source": [
    "Rutherford describió la dispersión de las partículas alfa a través de ka\n",
    "interacción electromagnética. Asumiendo que el núcleo no tenía retroceso e\n",
    "ignorando la interacción con los electrones, la situación es matemáticamente la\n",
    "misma que las soluciones de Kepler a las órbitas planetarias: la partícula alfa recorre\n",
    "una hipérbola\n",
    "\n",
    "| | \n",
    "|:--:| \n",
    "| <img src=\"./imgs/gen_alphadisp_parabol.png\" width = 240 align=\"center\"> |\n",
    "| Dispersión hyperbólica [Rutherford]|\n",
    "\n",
    "$$\n",
    "\\frac{d\\sigma}{d\\Omega} \\;=\\;\n",
    "\\left( \\frac{1}{4\\pi \\varepsilon_0} \\,\n",
    "\\frac{Z_1 Z_2 e^2}{4E} \\right)^{\\!2}\n",
    "\\frac{1}{\\sin^4\\!\\left(\\tfrac{\\theta}{2}\\right)}\n",
    "$$"
   ]
  },
  {
   "cell_type": "markdown",
   "id": "9c799f80",
   "metadata": {},
   "source": [
    "Dispersión de Rutherford: derivación clásica\n",
    "\n",
    "Con un potencial central la trayectoria de la partícula corresponde a una hypérbola\n",
    "\n",
    "$$\n",
    "\\tan \\frac{\\theta}{2} = \\frac{1}{\\sqrt\n",
    "$$\n",
    "\n",
    "\n",
    "Relación parámetro de impacto-ángulo:\n",
    "\n",
    "$$\n",
    "\\tan \\frac{\\theta}{2} = \\frac{k\\,q_1 q_2}{2E} \\frac{1}{b}\n",
    "\\qquad a \\equiv \\frac{k\\,q_1 q_2}{2E}.\n",
    "$$\n",
    "\n",
    "Sección eficaz diferencial\n",
    "\n",
    "$$\n",
    "\\frac{d\\sigma}{d\\Omega} = \\frac{b}{\\sin\\theta}\\left|\\frac{db}{d\\theta}\\right|.\n",
    "$$"
   ]
  },
  {
   "cell_type": "markdown",
   "id": "cee39501",
   "metadata": {},
   "source": [
    "$$\n",
    "\\frac{db}{d\\theta} = -\\frac{a}{2}\\csc^2\\frac{\\theta}{2}\n",
    "\\quad\\Rightarrow\\quad\n",
    "\\left|\\frac{db}{d\\theta}\\right| = \\frac{a}{2}\\csc^2\\frac{\\theta}{2}.\n",
    "$$\n",
    "\n",
    "$$\n",
    "\\frac{b}{\\sin\\theta} = \\frac{a}{2\\sin^2(\\theta/2)}.\n",
    "$$\n",
    "\n",
    "$$\n",
    "\\frac{d\\sigma}{d\\Omega}\n",
    "= \\frac{a^2}{4}\\,\\frac{1}{\\sin^4(\\theta/2)}.\n",
    "$$\n"
   ]
  },
  {
   "cell_type": "markdown",
   "id": "b432d664",
   "metadata": {},
   "source": [
    "$$\n",
    "\\frac{d\\sigma}{d\\Omega}\n",
    "= \\left(\\frac{k\\,q_1 q_2}{4E}\\right)^2 \\frac{1}{\\sin^4(\\theta/2)}.\n",
    "$$\n",
    "\n",
    "En términos de números atómicos $Z_1, Z_2$ y carga elemental $e$:\n",
    "\n",
    "$$\n",
    "\\frac{d\\sigma}{d\\Omega}\n",
    "= \\left(\\frac{1}{4\\pi\\varepsilon_0} \\frac{Z_1 Z_2 e^2}{4E}\\right)^2 \n",
    "\\frac{1}{\\sin^4(\\theta/2)} \n",
    "$$\n"
   ]
  },
  {
   "cell_type": "markdown",
   "id": "120ee449",
   "metadata": {},
   "source": [
    "Dispersión de Rutherford: derivación clásica\n",
    "\n",
    " Relación parámetro de impacto--ángulo}\n",
    "$$\n",
    "b = \\frac{k\\,q_1 q_2}{2E}\\cot\\frac{\\theta}{2}, \n",
    "\\qquad a \\equiv \\frac{k\\,q_1 q_2}{2E}.\n",
    "$$\n",
    "\n",
    "\\subsection*{2) Sección eficaz diferencial}\n",
    "\\[\n",
    "\\frac{d\\sigma}{d\\Omega} = \\frac{b}{\\sin\\theta}\\left|\\frac{db}{d\\theta}\\right|.\n",
    "\\]\n",
    "\n",
    "\\[\n",
    "\\frac{db}{d\\theta} = -\\frac{a}{2}\\csc^2\\frac{\\theta}{2}\n",
    "\\quad\\Rightarrow\\quad\n",
    "\\left|\\frac{db}{d\\theta}\\right| = \\frac{a}{2}\\csc^2\\frac{\\theta}{2}.\n",
    "\\]\n",
    "\n",
    "\\[\n",
    "\\frac{b}{\\sin\\theta} = \\frac{a}{2\\sin^2(\\theta/2)}.\n",
    "\\]\n",
    "\n",
    "\\[\n",
    "\\frac{d\\sigma}{d\\Omega}\n",
    "= \\frac{a^2}{4}\\,\\frac{1}{\\sin^4(\\theta/2)}.\n",
    "\\]\n",
    "\n",
    "\\subsection*{3) Forma final}\n",
    "\\[\n",
    "\\frac{d\\sigma}{d\\Omega}\n",
    "= \\left(\\frac{k\\,q_1 q_2}{4E}\\right)^2 \\frac{1}{\\sin^4(\\theta/2)}.\n",
    "\\]\n",
    "\n",
    "En términos de números atómicos $Z_1, Z_2$ y carga elemental $e$:\n",
    "\\[\n",
    "\\boxed{\n",
    "\\frac{d\\sigma}{d\\Omega}\n",
    "= \\left(\\frac{Z_1 Z_2 e^2}{16\\pi \\varepsilon_0 E}\\right)^2 \n",
    "\\frac{1}{\\sin^4(\\theta/2)} }\n",
    "\\]\n",
    "\n",
    "\\end{document}\n"
   ]
  },
  {
   "cell_type": "markdown",
   "id": "ecb6e2f6",
   "metadata": {
    "slideshow": {
     "slide_type": "slide"
    }
   },
   "source": [
    "### Dispersión de Mott\n",
    "\n",
    "Mott estudió la dispersión de electrones de alta energía en los núcleos, para ello hay que tener en cuenta el espín del electrón y la mecánica cuántica relativista.\n",
    "\n",
    "$$\n",
    "\\frac{d\\sigma}{d\\Omega} \\;=\\;\n",
    "\\left( \\frac{Z e^2}{16 \\pi \\varepsilon_0 E} \\right)^2\n",
    "\\frac{1}{\\sin^4\\!\\left(\\tfrac{\\theta}{2}\\right)}\n",
    "\\;\\Big[ 1 - \\beta^2 \\sin^2\\!\\left(\\tfrac{\\theta}{2}\\right) \\Big]\n",
    "$$\n",
    "\n",
    "Y si consideramos el retroceso del núcleo:\n",
    "\n",
    "$$\n",
    "\\frac{d\\sigma}{d\\Omega} \\;=\\;\n",
    "\\left( \\frac{Z e^2}{16 \\pi \\varepsilon_0 E} \\right)^2\n",
    "\\frac{1}{\\sin^4\\!\\left(\\tfrac{\\theta}{2}\\right)} \\; \\frac{E}{E'} \\;\n",
    "\\;\\Big[ 1 - \\beta^2 \\sin^2\\!\\left(\\tfrac{\\theta}{2}\\right) \\Big]\n",
    "$$\n",
    "\n",
    "\n",
    "$$\n",
    "\\quad \\text{con} \\quad\n",
    "E' = \\frac{E}{1 + \\frac{2 E}{M c^2} \\sin^2(\\theta/2)}, \n",
    "%\\quad Q^2 = 4 E E' \\sin^2(\\theta/2)\n",
    "$$\n",
    "\n",
    "donde:\n",
    "- $Z$: número atómico del núcleo\n",
    "- $E$: energía total del electrón incidente\n",
    "- $M$: masa del núcleo\n",
    "- $\\theta$: ángulo de dispersión en el laboratorio\n",
    "\n"
   ]
  },
  {
   "cell_type": "code",
   "execution_count": 26,
   "id": "d984aca6",
   "metadata": {
    "slideshow": {
     "slide_type": "slide"
    }
   },
   "outputs": [],
   "source": [
    "import numpy as np\n",
    "import matplotlib.pyplot as plt\n",
    "from scipy import constants as const\n",
    "\n",
    "# --------------------------------------------------\n",
    "# 1) Dispersión de Rutherford\n",
    "def sigma_rutherford(Z1, Z2, E, theta):\n",
    "    \"\"\"\n",
    "    Sección eficaz diferencial de Rutherford\n",
    "    Z1: carga de la partícula incidente\n",
    "    Z2: carga del núcleo\n",
    "    E: energía cinética [J]\n",
    "    theta: ángulo de dispersión [rad]\n",
    "    \"\"\"\n",
    "    factor = (Z1 * Z2 * const.e**2 / (16 * np.pi * const.epsilon_0 * E))**2\n",
    "    return factor / (np.sin(theta/2)**4)\n",
    "\n",
    "# --------------------------------------------------\n",
    "# 2) Dispersión de Mott con retroceso del núcleo\n",
    "def sigma_mott(Z, E, M, theta):\n",
    "    \"\"\"\n",
    "    Sección eficaz diferencial de Mott con recoil\n",
    "    Z: número atómico del blanco\n",
    "    E: energía del electrón incidente [J]\n",
    "    M: masa del núcleo [kg]\n",
    "    theta: ángulo de dispersión [rad]\n",
    "    \"\"\"\n",
    "    # energía del electrón dispersado considerando retroceso\n",
    "    E_prime = E / (1 + (2*E/(M*const.c**2)) * np.sin(theta/2)**2)\n",
    "    # corrección relativista por espín (aproximada)\n",
    "    beta = np.sqrt(1 - (const.m_e * const.c**2 / E)**2)\n",
    "    factor = (Z * const.e**2 / (16 * np.pi * const.epsilon_0 * E))**2\n",
    "    return factor * (E_prime / E) * (1 - beta**2 * np.sin(theta/2)**2)\n",
    "\n",
    "# --------------------------------------------------\n",
    "# \n",
    "\n",
    "def plot_cross_sections(E_alpha = 5e6, E_electron = 5e6, M_nucleus = 197):\n",
    "    theta       = np.linspace(0.01, np.pi, 100)\n",
    "    E_alpha    *= const.e       # MeV en julios\n",
    "    E_electron *= const.e  # MeV en julios\n",
    "    M_nucleus  *= const.u         # masa en kg (1 u = 1.660539e-27 kg)\n",
    "\n",
    "    sigma_R = sigma_rutherford(2, 79, E_alpha, theta)\n",
    "    sigma_M = sigma_mott(79, E_electron, M_nucleus, theta)\n",
    "\n",
    "    barn = 1e-24  # 1 barn en m²\n",
    "\n",
    "    plt.plot(theta/np.pi, sigma_R/barn, label='Rutherford (α)')\n",
    "    plt.plot(theta/np.pi, sigma_M/barn, label=r'Mott ($\\beta$)')\n",
    "    plt.yscale('log')\n",
    "    plt.xlabel('Ángulo de dispersión [rad]')\n",
    "    plt.ylabel('dσ/dΩ [barn/sr]')\n",
    "    plt.title('cross sections: Rutherford α and Mott β')\n",
    "    plt.legend()\n",
    "    plt.show()"
   ]
  },
  {
   "cell_type": "code",
   "execution_count": 27,
   "id": "990f2f91",
   "metadata": {
    "slideshow": {
     "slide_type": "slide"
    }
   },
   "outputs": [
    {
     "data": {
      "image/png": "[encoded data removed]",
      "text/plain": [
       "<Figure size 640x480 with 1 Axes>"
      ]
     },
     "metadata": {},
     "output_type": "display_data"
    }
   ],
   "source": [
    "# Energy in eV, Mass in amu\n",
    "plot_cross_sections(E_alpha = 5e6, E_electron = 5e6, M_nucleus = 197)"
   ]
  },
  {
   "cell_type": "markdown",
   "id": "018edf1e",
   "metadata": {
    "slideshow": {
     "slide_type": "slide"
    }
   },
   "source": [
    "### Descubrimiento del protón\n",
    "\n",
    "Fue Ernest Rutherford, en 1917, identificó el protón. Al borbardear nitrógeno con partículas alfa observó que en la colisión aparecía una partícula más ligera que la alfa, con la misma carga positiva pero de masa mucho menor.\n",
    "\n",
    "$$\n",
    "{}^{14}\\text{N} + \\alpha \\;\\;\\longrightarrow\\;\\; {}^{17}\\text{O} + p\n",
    "$$\n",
    "\n",
    "En 1919, Rutherfod concluyó que el núcleo del hidrógeno era un constituyente fundamental de la materia, presente en todos los núcleos atómicos. Así nació el concepto de protón como partícula elemental de carga positiva.\n",
    "\n",
    "Permitió entender que todos los núcleos podían concebirse como combinaciones de protones (y más tarde neutrones, tras su descubrimiento en 1932).\n",
    "\n",
    "Abrió la puerta a la idea de transmutaciones nucleares: un elemento podía convertirse en otro."
   ]
  },
  {
   "cell_type": "markdown",
   "id": "c98d058c",
   "metadata": {
    "slideshow": {
     "slide_type": "slide"
    }
   },
   "source": [
    "### Descibrimiento del neutrón\n",
    "\n",
    "El modelo nuclear de Rutherford planteaba que los núcleos estaban compuestos únicamente de protones, pero la masa de los núcleos era mayor de lo que explicaba el número de protones. \n",
    "\n",
    "Por ejemplo, el núcleo de helio debía tener masa ~4 amu, pero con 2 protones y 2 electrones (como se especulaba) no cuadraba. Faltaba “algo” en el núcleo.\n",
    "\n",
    "En 1930, Walther Bothe y Herbert Becker bombardearon berilio con partículas alfa y detectaron una radiación muy penetrante, más que los rayos gamma. Al principio se pensó que era radiación gamma de alta energía.\n",
    "\n",
    "James Chadwick, en el laboratorio Cavendish (Cambridge), estudió con detalle esa radiación: Usó como blanco el berilio:\n",
    "\n",
    "$$\n",
    "\\alpha + \\, {}^9\\text{Be} \\;\\longrightarrow\\; \\,{} ^{12}\\text{C} + \\, n\n",
    "$$\n",
    "\n",
    "Esa radiación impactaba en parafina (rica en protones), expulsando protones de la cera. Si fueran fotones gamma, la energía necesaria para expulsar protones sería enorme, Concluyó que la radiación no eran fotones, sino partículas neutras de masa comparable a la del protón. Chadwick llamó a estas partículas neutrones.\n",
    "\n",
    "De esta forma los núcleos estaban formados por protones y neutrones (llamados ambos nucleones).\n",
    "\n",
    "Explicó por qué los núcleos no explotaban electrostáticamente: los neutrones añadían masa y la fuerza fuerte es la que ligua los nucleones en el núcleo."
   ]
  },
  {
   "cell_type": "markdown",
   "id": "c2c99a6d",
   "metadata": {
    "slideshow": {
     "slide_type": "slide"
    }
   },
   "source": [
    "### Los cuatro magníficos\n",
    "\n",
    "La Naturaleza está formada por átomos eléctricamente neutros formados por un núcleo masivo y electrones en capas. El núcleo está formado por protonoes (asociado con el número atómico $Z$) y neutrones (que conjuntamente dan el número másico $A$). Los electrones solo aportan del orden del 0.1 \\% de la masa del átomo.\n",
    "\n",
    "El átomo está vacío, los núcloes tiene un tamaño del orde del 1-10 fm (fm = $10^{-15}$ m), mientras que el átomo tiene $10^{-10}$ m, esto es, entre ambos ¡hay un factor $10^5$!\n",
    "\n",
    "Así pues en primera aproximación la Naturaleza está compuesta por:\n",
    "\n",
    "$$\n",
    "p, \\;\\; n, \\;\\ e\n",
    "$$\n",
    "\n",
    "Además del neutrino, $\\nu$, que aparece en la desintegración $\\beta$ (y cuya historia contaremos más adelante)\n",
    "\n",
    "Esto es la materia del Universo está compuesta por 4 partículas \"fundamentales\":\n",
    "\n",
    "\n",
    "$$\n",
    "p, \\;\\; n, \\;\\; e, \\;\\; \\nu\n",
    "$$\n",
    "\n",
    "Está visión del mundo construido con $p, n, e$ duro 100 días ¡hasta que se descubrió el positrón! "
   ]
  },
  {
   "cell_type": "markdown",
   "id": "44c0d910",
   "metadata": {
    "slideshow": {
     "slide_type": "slide"
    }
   },
   "source": [
    "### Dispersión de electrones a alta energía.\n",
    "\n",
    "En la década de los 50's Hofstadter realizó una serie de experimentos con el acelerador Mark III en Stanford (California, EEUU) de dispersión de núcleos con electrones de muy alta energía (100 MeV). Y descubrió que los electrones exploraban la estructura nuclear al penetrar dentro del núcleo. Acuñó el tamaño de fermi (fm = $10^{-15}$ m) y estableció que el núcleo no es una bola rígida.\n",
    "\n",
    "| | \n",
    "|:--:| \n",
    "| <img src=\"./imgs/gen_hofstadter_diagram.png\" width = 300 align=\"center\"> |\n",
    "| Diagerama de la dispersión de Hofstadler|\n",
    "\n"
   ]
  },
  {
   "cell_type": "markdown",
   "id": "aad99769",
   "metadata": {
    "slideshow": {
     "slide_type": "slide"
    }
   },
   "source": [
    "Holfstadter verificó que la dispersión de Mott se modifica por un factor, llamado de forma, $F(q^2)$\n",
    "\n",
    "$$\n",
    "\\left(\\frac{d\\sigma}{d\\Omega}\\right)_{\\text{exp}}\n",
    "\\;=\\;\n",
    "\\left(\\frac{d\\sigma}{d\\Omega}\\right)_{\\text{Mott}}\n",
    "\\;\\; |F(q^2)|^2\n",
    "$$\n",
    "\n",
    "donde\n",
    "\n",
    "$$\n",
    "q = p - p' =  (E - E', \\; {\\bf p} - {\\bf p}')\n",
    "$$\n",
    "\n",
    "siendo $p, \\; p'$ el cuadrimomento inicial y final del electrón. A $q$ se le llama cuadrimomento transferido.\n"
   ]
  },
  {
   "cell_type": "markdown",
   "id": "1415ed61",
   "metadata": {
    "slideshow": {
     "slide_type": "slide"
    }
   },
   "source": [
    "Este factor de forma, como veremos en la parte de Nuclear, depende de la estructura del núcleo:\n",
    "\n",
    "| | \n",
    "|:--:| \n",
    "| <img src=\"./imgs/gen_factorforma.png\" width = 500 align=\"center\"> |\n",
    "| Factores de forma|\n"
   ]
  },
  {
   "cell_type": "markdown",
   "id": "07325dca",
   "metadata": {
    "slideshow": {
     "slide_type": "slide"
    }
   },
   "source": [
    "### Three quark for the Muster Mark!\n",
    "\n",
    "En la década de los 60 usando electrones de más alta energía se pudo explorar el interior de los propios nucleones.\n",
    "\n",
    "Así, la distribuciones de forma mostraban patrones que coincidían con la posible existencia de partículas puntuales en el interior de los nucleones. R. Feynman los llamó partones.\n",
    "\n",
    "Los conocemos como quarks. El término fue introducido por Murray Gell-Mann en 1964 cuando propuso su modelo de “quarks” para explicar la estructura de los hadrones (protones, neutrones, mesones), que tomó el nombre de la novela “Finnegans Wake” (1939) de James Joyce, un libro experimental y casi impenetrable, famoso por su lenguaje inventivo. Gell-Mann creía que los quarks era solo una herramiento matemática para explicar la composición de las partículas llamadas hadrones descubiertas hasta la fecha\n",
    "\n",
    "De forma simultánea, George Zweig en el CERN también propuso un modelo de constituyentes internos para los hadrones.\n",
    "Él los llamó “aces” (como los ases de una baraja). Él si creía que eran reales.\n"
   ]
  },
  {
   "cell_type": "markdown",
   "id": "88de1550",
   "metadata": {
    "slideshow": {
     "slide_type": "slide"
    }
   },
   "source": [
    "Actualemente decimos que el protón y el neutrón están formados por dos quarks.\n",
    "\n",
    "El quark _up_ ($u$) con carga $2|e|/3$  y el quark _down_ ($d$) con carga $-1|e|/3$. \n",
    "\n",
    "De tal forma cada nucleón esta compuesto por tres quarks mediante la fuerza fuerte y cuya carga entera:\n",
    "\n",
    "$$\n",
    "n = udd, \\;\\; p = uud\n",
    "$$\n",
    "\n",
    "| |\n",
    "| :--| \n",
    "| <img src=\"./imgs/gen_proton_neutron.jpg\" width = 400 align=\"center\"> |\n",
    "| Estructura del protón y del neutrón [Wikipedia]|\n",
    "\n"
   ]
  },
  {
   "cell_type": "markdown",
   "id": "2c55257b",
   "metadata": {
    "slideshow": {
     "slide_type": "slide"
    }
   },
   "source": [
    "### Los cuatro y su compañía\n",
    "\n",
    "Las cuatro partículas fundamentales son:\n",
    "\n",
    "$$\n",
    "u, \\;\\; d, \\;\\; e, \\;\\; \\nu\n",
    "$$\n",
    "\n",
    "Pero la Naturaleza es más diversa:\n",
    "\n",
    "* además de las partículas, existen las _antipartículas_, que tiene las cargas opuestas a las partículas, por ejemplo el positrón, $e^+$\n",
    "\n",
    "* existen partículas como otros _leptones_ (que se comportan como el electrón) y los _hadrones_ (que están formados por quarks) y que son inestables.\n",
    "\n",
    "Clasificar y ordenar las partículas en la tabla de partículas del Modelo Estándar supuso un reto durante más de 40 años.\n"
   ]
  },
  {
   "cell_type": "markdown",
   "id": "cd5e57b6",
   "metadata": {
    "slideshow": {
     "slide_type": "slide"
    }
   },
   "source": [
    "## Conceptos básicos\n",
    "\n",
    "Las interacciones, tanto las nucleares como las de las partículas, las describimos mediante ecuaciones como la siguiente:\n",
    "\n",
    "$$ \n",
    "a + b \\to c + d\n",
    "$$\n",
    "\n",
    "donde $a, b$ son las partículas iniciales y $c, d$ son las finales.\n",
    "\n",
    "O en las desintegraciónes:\n",
    "\n",
    "$$\n",
    "a \\to b + c + d\n",
    "$$\n",
    "\n",
    "donde la partícula $a$  se desintegra a las partículas $b, \\, c, \\, d$\n",
    "\n",
    "En este caso aparecen 4 partículas en la interaccion o desintegración, pero pueden ser otro número.\n",
    "\n",
    "Por ejemplo:\n",
    "$$\n",
    "\\alpha + \\, {}^9\\text{Be} \\;\\longrightarrow\\; \\,{} ^{12}\\text{C} + \\, n \\\\\n",
    "n \\to p \\, + e + \\bar{\\nu}_e\n",
    "$$\n",
    "\n"
   ]
  },
  {
   "cell_type": "markdown",
   "id": "00273deb",
   "metadata": {
    "slideshow": {
     "slide_type": "slide"
    }
   },
   "source": [
    "### Sistema del laboratorio y centro de masas\n",
    "\n",
    "Las interacciones las referimos habitualmente a dos sistemas de referencia:\n",
    "\n",
    "* sistema del centro de masas (el suma de los momentos lineales de las partículas iniciales es cero)\n",
    "\n",
    "* sistema de laboratorio (una de las partículas iniciales está en reposo, típicamente $b$).\n",
    "\n",
    "\n",
    "| |\n",
    "|:--|\n",
    "| <img src=\"./imgs/intro_collider_target.png\" width = 600 align=\"center\">|\n",
    "| colisión en el centro de masas (izda) y en blanco fijo (derecha) de dos partículas $a, \\, b$.|\n"
   ]
  },
  {
   "cell_type": "markdown",
   "id": "976a9028",
   "metadata": {
    "slideshow": {
     "slide_type": "slide"
    }
   },
   "source": [
    "### Cantidades continuas conservadas\n",
    "\n",
    "Sabemos por el teorema de M. Noether que por cada simetría continua que presenta un sistema físico se conserva una cantidad asociada.\n",
    "\n",
    "En este caso para:\n",
    "\n",
    "* simetría temporal, conservación de la energía\n",
    "\n",
    "* simetría traslacional, conservación del momento lineal.\n",
    "\n",
    "* simetría rotacional, conservación del momento angular\n"
   ]
  },
  {
   "cell_type": "markdown",
   "id": "f489750a",
   "metadata": {
    "slideshow": {
     "slide_type": "slide"
    }
   },
   "source": [
    "Definimos la energía de la interacción, $a + b \\to c + d$, o $Q$ como la diferencia de masas iniciales y finales:\n",
    "\n",
    "$$\n",
    "Q = (m_a + m_b - m_c - m_d) \\, c^2\n",
    "$$\n",
    "\n",
    "como la energía liberada tras la interacción (si $Q>0$) o la energía mínima necesaria para que la interacción puede tener lugar (si $Q <0$).\n",
    "\n",
    "En el caso de la desintegraciones: $a \\to b + c + d$, para que tenga lugar debe cumplirse que:\n",
    "\n",
    "$$\n",
    "Q =  (m_a - m_b - m_c - m_d) \\, c^2 > 0\n",
    "$$"
   ]
  },
  {
   "cell_type": "markdown",
   "id": "a10ab524",
   "metadata": {
    "slideshow": {
     "slide_type": "slide"
    }
   },
   "source": [
    "En el caso del momento lineal se cumple que la suma de los momentos lineales antes y después de la interacción es la misma.\n",
    "\n",
    "$$\n",
    "\\sum_i^{iniciales} \\mathrm{p}_i = \\sum_j^{finales} \\mathrm{p}_j\n",
    "$$\n",
    "\n",
    "En el caso de que estemos en el entro de masa la suma de los momentos lineales antes y después es nula.\n",
    "\n",
    "\n",
    "| | |\n",
    "| :--: | :--: | \n",
    "| <img src=\"./imgs/gen_plab.png\" width = 300 align=\"center\"> | <img src=\"./imgs/gen_pcm.png\" width = 300 align=\"center\"> |\n",
    "| momento en el sis. lab| |momentos en el sis. c.m [M. Caamaño]|\n",
    "\n",
    "\n",
    "¿Qué valor tiene $p_b$? ¿Y $p'_b$?"
   ]
  },
  {
   "cell_type": "markdown",
   "id": "d3e1eb36",
   "metadata": {
    "slideshow": {
     "slide_type": "slide"
    }
   },
   "source": [
    "Es muy útil considerar cantidades invariantes Lorentz y por lo tanto no dependan del sistema de coordenadas\n",
    "\n",
    "En particular en la iteracción $a + b \\to c+ d$ donde hay cuatro cuadrimomentos, los iniciales $p_a, p_b$ y los finales $p_c, p_d$, podemos definir cuatro invariantes Lorentz llamados los invariantes de Mandelstam:\n",
    "\n",
    "$$\n",
    "s = (p_a + p_b)^2 = (p_c + p_d)^2 \\\\\n",
    "t = (p_a - p_c)^2 = (p_b - p_d)^2 \\\\\n",
    "u = (p_a - p_d)^2 = (p_b - P_c)^2 \\\\\n",
    "$$\n",
    "\n",
    "Veremos más adelante el significado y utilidad del invariante $s$."
   ]
  },
  {
   "cell_type": "markdown",
   "id": "ddcd4b1f",
   "metadata": {
    "slideshow": {
     "slide_type": "slide"
    }
   },
   "source": [
    "En particular en el caso de la conservación del momento angular debemos considera el espín de las partículas!\n",
    "\n",
    "$$\n",
    "J_a + J_b + I_{ab} = J_c + J_d + I_{cd}\n",
    "$$\n",
    "\n",
    "| | |\n",
    "| :--: | :--: | \n",
    "| <img src=\"./imgs/gen_jlab.png\" width = 400 align=\"center\"> | <img src=\"./imgs/gen_jcm.png\" width = 400 align=\"center\"> |\n"
   ]
  },
  {
   "cell_type": "markdown",
   "id": "831bbfd8",
   "metadata": {
    "slideshow": {
     "slide_type": "slide"
    }
   },
   "source": [
    "### Cantidades discretas\n",
    "\n",
    "En las interacciones se conservan determinadas cantidades aditivas:\n",
    "\n",
    "* la carga eléctrica\n",
    "\n",
    "$$\n",
    "\\sum_i^{iniciales} Q_i = \\sum_j^{finales} Q_j\n",
    "$$\n",
    "\n",
    "donde $Q_i$ es la carga de cada partícula.\n",
    "\n",
    "Y veremos que las interacciones se conservan diversos números cuánticos aditivos:\n",
    "\n",
    "* número leptónico\n",
    "\n",
    "* número bariónico\n",
    "\n",
    "Lo que nos permite saber si una interacción se realiza o no en la Natureleza\n"
   ]
  },
  {
   "cell_type": "markdown",
   "id": "398d6ae4",
   "metadata": {
    "slideshow": {
     "slide_type": "slide"
    }
   },
   "source": [
    "Una de las propiedades que estudiaremos de las interacciones es su comportamiento frente a dos transformaciones discretas:\n",
    "\n",
    "* la conjugación de carga: cambiar partículas por antipartículas y viceversa\n",
    "\n",
    "* la inversión de paridad: cambiar el sistema de referencia ${\\bf x} \\to -{\\bf x}$\n",
    "\n",
    "Veremos que tienen asociados unos números cuánticos multiplicativos.\n",
    "\n",
    "En particular, la carga y la paridad no conservan en las interacciones electromagnéticas y fuertes, pero no en la débiles.\n",
    "\n",
    "En concreto no se conserva paridad en la desintegración $\\beta$:  $n \\to p + e + \\bar{\\nu}_e$"
   ]
  },
  {
   "cell_type": "markdown",
   "id": "fcba34a5",
   "metadata": {
    "slideshow": {
     "slide_type": "slide"
    }
   },
   "source": [
    "Podemos \"ilustrar\" la conjugación de carga e inversión de paridad con una imagen de Escher:\n",
    "\n",
    "| | |\n",
    "| :--: | :--: | \n",
    "| <img src=\"./imgs/gen_escher_daynight.jpg\" width = 400 align=\"center\"> | <img src=\"./imgs/gen_escher_daynight_p.jpg\" width = 400 align=\"center\"> |\n",
    "| <img src=\"./imgs/gen_escher_daynight_p.jpg\" width = 400 align=\"center\"> | <img src=\"./imgs/gen_escher_daynight.jpg\" width = 400 align=\"center\"> |"
   ]
  },
  {
   "cell_type": "markdown",
   "id": "5e7c23f0",
   "metadata": {
    "slideshow": {
     "slide_type": "slide"
    }
   },
   "source": [
    "Frente a la paridad, clasificaremos las cantitades en:\n",
    "\n",
    "* escalares: $X \\to X$\n",
    "\n",
    "* pseudo-escalares $Y \\to -Y$\n",
    "\n",
    "* vectoriales: $\\mathrm{V} \\to -\\mathrm{V}$\n",
    "\n",
    "* pseudo-vectoriales $\\mathrm{A} \\to \\mathrm{A}$"
   ]
  },
  {
   "cell_type": "markdown",
   "id": "971355f3",
   "metadata": {
    "slideshow": {
     "slide_type": "slide"
    }
   },
   "source": [
    "## Oservables principales: sección efifaz y tiempo de vida media\n",
    "\n",
    "### Sección eficaz\n",
    "\n",
    "Una buena parte de los experimentos en Nuclear y Partículas son de dispersión: lanzamos partículas sonda contra un blando de otras partículas.  Y estudiamos la dispersión de las partículas sonda $a$ o las interacciones $a + b \\to c + d$.\n",
    "\n",
    "Para ello determinamos primero el número de interacciones que tienen lugar respecto al flujo de partículas sonda y de partículas blanco (en el caso de experimentos en blanco fijo), definimos la sección eficaz como\n"
   ]
  },
  {
   "cell_type": "markdown",
   "id": "a1935531",
   "metadata": {
    "slideshow": {
     "slide_type": "slide"
    }
   },
   "source": [
    "en blanco fijo), definimos la sección eficaz como\n",
    "\n",
    "| |\n",
    "|:--|\n",
    "| <img src=\"./imgs/gen_xsec.png\" width = 400 align=\"center\">|\n",
    "| ilustración de sección eficaz diferencial [M.Caamaño]|\n",
    "\n",
    "\n",
    "$$\n",
    "\\sigma = \\frac{N}{N_b \\phi_a}\n",
    "$$\n",
    "\n",
    "donde $N$ es el número de interacciones de un determiando tipo, $a + b \\to c + d$, $N_b$ en número de partículas blanco, y $\\phi_a$ el flujo de partículas sonda, esto es $N_a/S$, donde $S$ el el área de exposición.\n",
    "\n",
    "\n",
    "\n",
    "La sección eficaz tiene dimensiones de área $\\mathrm{m}^2$ y la unidad habitual es el barn $b = 10^{-24}\\, \\mathrm{cm}^2$ "
   ]
  },
  {
   "cell_type": "markdown",
   "id": "0a82e12c",
   "metadata": {
    "slideshow": {
     "slide_type": "slide"
    }
   },
   "source": [
    "En muchas ocasiones, consderamos la sección eficaz diferencial respecto a la energía de la partícula sonda:\n",
    "\n",
    "$$\n",
    "\\frac{\\mathrm{d} \\sigma}{\\mathrm{d}E} \\rightarrow \\sigma = \\int \\frac{\\mathrm{d} \\sigma}{\\mathrm{d}E} \\, \\mathrm{d}E\n",
    "$$\n",
    "\n",
    "O respecto al ángulo de dispersión\n",
    "\n",
    "$$\n",
    "\\frac{\\mathrm{d} \\sigma}{\\mathrm{d}\\Omega} \\rightarrow \\sigma = \\int \\frac{\\mathrm{d} \\sigma}{\\mathrm{d}\\Omega} \\, \\mathrm{d}\\Omega = 2 \\pi \\int \\frac{\\mathrm{d}\\sigma}{\\mathrm{d}\\theta} \\sin \\theta \\, \\mathrm{d}\\theta\n",
    "$$\n",
    "\n",
    "| | |\n",
    "|:--: | :--: |\n",
    "| <img src=\"./imgs/gen_xsec_omega.png\" width = 400 align=\"center\">|  <img src=\"./imgs/gen_xsecdif.png\" width = 400 align=\"center\">|\n",
    "| ilustración de sección eficaz diferencial [M. Caamaño]| [Wiki] | \n"
   ]
  },
  {
   "cell_type": "markdown",
   "id": "15f98496",
   "metadata": {
    "slideshow": {
     "slide_type": "slide"
    }
   },
   "source": [
    "### vida media\n",
    "\n",
    "Otro de los observables principales en Física Nuclear y de Partículas es el tiempo de desintegración. \n",
    "\n",
    "Si consideramos la desintegración $a \\to b + c +d$, y disponemos de $N_a$ partículas $a$ independientes, en una unidad de tiempo esperamos que se produzcan un número de desintegracional proporcional a $N_a$:\n",
    "\n",
    "$$\n",
    "\\frac{\\mathrm{d}N}{\\mathrm{d}t} = - \\frac{N_a}{\\tau} \\to N(t) = N_a \\, e^{-t/\\tau}\n",
    "$$\n",
    "\n",
    "Las desintegraciones siguen una ley exponencial con una constante característica que llamamos tiempo de vida media, $\\tau$.\n",
    "\n",
    "Por ejemplo, para la desintegración del neutrón, $n  \\to + p + e + \\bar{\\nu}_e$, el tiempo de vida es 878.4 s."
   ]
  },
  {
   "cell_type": "markdown",
   "id": "c6d50b79",
   "metadata": {
    "slideshow": {
     "slide_type": "slide"
    }
   },
   "source": [
    "## Bibliografía\n",
    "\n",
    "M. Caamaño, material para el curso de Física Nuclear y de Partículas.\n",
    "\n",
    "[[Geiger, Marshen]](https://scholar.google.com/scholar_url?url=https://royalsocietypublishing.org/doi/pdf/10.1098/rspa.1909.0054%3Fdownload%3Dtrue&hl=es&sa=T&oi=ucasa&ct=ufr&ei=ZPi7aPLdOPvoieoPtJ70sAg&scisig=AAZF9b9liGIxuWb0WdsEmpLWlvJk) \"On a Diffuse Reflection of the α-Particles\". Proceedings of the Royal Society of London A. 82, 557 (1909) 495\n",
    "\n",
    "[[Rutherford]](https://web.mit.edu/8.13/8.13c/references-fall/rutherford/rutherford-scattering-of-alpha-and-beta-particles.pdf) \"LXXIX. The scattering of α and β particles by matter and the\n",
    "structure of the atom”. Philosophical Magazine Series 6, 21, 125 (1911) 669\n",
    "\n",
    "[[Hofstadter]](https://journals.aps.org/pr/abstract/10.1103/PhysRev.92.978) R. Hofstadter et al. “High-Energy Electron Scattering and Nuclear Structure\n",
    "Determinations”. Physical Review 92, 4 (1953) 978"
   ]
  },
  {
   "cell_type": "markdown",
   "id": "71cf4975",
   "metadata": {
    "slideshow": {
     "slide_type": "subslide"
    }
   },
   "source": [
    "_Para estos apuntes se utilizó IA_"
   ]
  },
  {
   "cell_type": "code",
   "execution_count": null,
   "id": "16afa2e9",
   "metadata": {},
   "outputs": [],
   "source": []
  }
 ],
 "metadata": {
  "celltoolbar": "Slideshow",
  "kernelspec": {
   "display_name": "base",
   "language": "python",
   "name": "python3"
  },
  "language_info": {
   "codemirror_mode": {
    "name": "ipython",
    "version": 3
   },
   "file_extension": ".py",
   "mimetype": "text/x-python",
   "name": "python",
   "nbconvert_exporter": "python",
   "pygments_lexer": "ipython3",
   "version": "3.9.13"
  },
  "rise": {
   "enable_chalkboard": true,
   "slideNumber": true,
   "start_slideshow_at": "selected",
   "theme": "simple",
   "transition": "fade"
  }
 },
 "nbformat": 4,
 "nbformat_minor": 5
}
