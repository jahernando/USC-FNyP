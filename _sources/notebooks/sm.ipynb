{
 "cells": [
  {
   "cell_type": "markdown",
   "metadata": {
    "slideshow": {
     "slide_type": "slide"
    }
   },
   "source": [
    "# Sobre el Modelo Estándar\n"
   ]
  },
  {
   "cell_type": "code",
   "execution_count": 1,
   "metadata": {
    "slideshow": {
     "slide_type": "fragment"
    }
   },
   "outputs": [
    {
     "name": "stdout",
     "output_type": "stream",
     "text": [
      " Last version  Mon Dec  9 15:20:08 2024\n"
     ]
    }
   ],
   "source": [
    "import time\n",
    "print(' Last version ', time.asctime() )"
   ]
  },
  {
   "cell_type": "code",
   "execution_count": 2,
   "metadata": {},
   "outputs": [],
   "source": [
    "# general imports\n",
    "%matplotlib inline\n",
    "%reload_ext autoreload\n",
    "%autoreload 2\n",
    "\n",
    "# numpy and matplotlib\n",
    "import numpy as np\n",
    "import matplotlib\n",
    "import matplotlib.pyplot as plt\n",
    "\n",
    "import scipy.constants as units"
   ]
  },
  {
   "cell_type": "markdown",
   "metadata": {
    "slideshow": {
     "slide_type": "slide"
    }
   },
   "source": [
    "### Objetivos\n",
    "  \n",
    "Conocer:\n",
    "  \n",
    "  * Los elementos principales de la unificación electrodébil.\n",
    "  \n",
    "  * La física principal del bosón $Z$. La anchura del $Z$ y la existencia de tres neutrinos.\n",
    "  \n",
    "  * Los elementos que permiten que el bosón de Higgs dote de la masa de los bosones $W, Z$ y de los fermiones. Descubrimiento del bosón de Higgs."
   ]
  },
  {
   "cell_type": "markdown",
   "metadata": {
    "slideshow": {
     "slide_type": "slide"
    }
   },
   "source": [
    "## Introducción\n",
    "\n",
    "El Modelo Estándar es uno de los grandes logros de la Física del siglo XX. Explica los resultados experimentales obtenidos hasta la fecha en Física de Partículas, con la excepción de las oscilaciones de neutrinos. No obstante sabemos que el modelo es incompleto porque hay fenómenos que no explica, como la asimetría materia-antimateria o la existencia de la materia oscura del Universo.\n",
    "\n",
    "Varios son los elementos sobre los que se construye el SM:\n",
    "  \n",
    "  * El modelo debe **dar cabida a las partículas conocidas** (por construcción) y respetar **las interacciones conocidas**, por ejemplo que la corrientes débiles cargadas violan paridad, y las **leyes de conservación**. \n",
    "\n",
    "  * El modelo debe estar basado en un **lagrangiano invariante Lorentz, que preserve unitariedad**. Requisitos básicos de la relatividad especial y de la mecánica cuántica.\n",
    "\n",
    "  * Las interacciones entre fermiones y campos vectoriales aparecen a partir de la **invariancia gauge local** de lagrangiano. Requisito que impone la TCQ, para que la teoría sea renormalizable, esto es, los observables sean finitos. \n",
    "\n",
    "  * Existe el **mecanismo de Higgs** que dota de masas a los bosones $W^\\pm, Z$ y a los fermiones.\n"
   ]
  },
  {
   "cell_type": "markdown",
   "metadata": {
    "slideshow": {
     "slide_type": "slide"
    }
   },
   "source": [
    "### Hitos de la creacción del SM\n",
    "\n",
    "  * 1964 Teoría del bosón de Higgs, Englert, Brout. \n",
    "\n",
    "  * 1961-1964-1967 Teoría electrodébil de S. Glashow, A. Salam and S. Weinberg.\n",
    "  \n",
    "  * 1973 Descubrimiento de las corrientes neutras en Gargamelle (CERN)\n",
    "  \n",
    "  * 1973 G.'t Hooft et al, renormalización de la teoría gauge.\n",
    "  \n",
    "  * 1983 Rubbia et al, descubrimiento de los bosones $W^\\pm, Z$ en el CERN.\n",
    "  \n",
    "  * 1990's Los experimentos del CERN confirman el SM, la física del Z y la existencia de tres familias de neutrinos.\n",
    "  \n",
    "  * 2014 Descubrimiento del Higgs en los experimentos ATLAS y CMS del LHC. \n",
    "  "
   ]
  },
  {
   "cell_type": "markdown",
   "metadata": {
    "slideshow": {
     "slide_type": "slide"
    }
   },
   "source": [
    "## Unificación electrodébil\n",
    "\n",
    "### El descubrimiento de las corrientes neutras\n",
    "\n",
    "Los bosones $W^\\pm$ son cargados, luego interaccionan con el fotón. \n",
    "\n",
    "El cálculo de la interacción $e^+ + e \\to W^+ + W^-$, mediada por un fotón, presentaba un problema, no preservaba unitariedad, crecía indefinidamente con la energía. \n",
    "\n",
    "| |\n",
    "|:--:|\n",
    "|<img src=\"./imgs/sm_eeWW.png\" width = 400 align=\"center\">|\n",
    "| sección eficaz $e+e^+ \\to W^++W^-$ vs $\\sqrt{s}$ [LEP, MT]|\n",
    "\n",
    "a no ser que... existiese un bosón neutro, el $Z^0$, que mediase la interacción e introdujese en un nuevo diagrama de Feynman que interfiriese negativamente con el del fotón y de esta forma la sección eficaz no creciese infinitamente.\n",
    "\n",
    "Si existía ese bosón, cabía espera la existencia de **corrientes débiles neutras**."
   ]
  },
  {
   "cell_type": "markdown",
   "metadata": {
    "slideshow": {
     "slide_type": "slide"
    }
   },
   "source": [
    "\n",
    "La observación más clara de estar corrientes sería la interacción de los neutrinos (que no interacionan electromagnéticamente) con los nucleones. \n",
    "\n",
    "[Gargamelle](https://home.cern/science/experiments/gargamelle), en el CERN, en los 70's, fue el experimento que observó las corrientes neutras. Mediante un haz estaba compuesto principalmente por $\\nu_\\mu$ observó las interacciones de estos con los nucleones del blanco.\n",
    "\n",
    "Las corrientes cargadas de neutrinos con los nucleones producían un $\\mu$, una partícula altamente penetrante.\n",
    "\n",
    "$$\n",
    "\\nu_\\mu + N \\to \\mu + X\n",
    "$$\n",
    "\n",
    "Mientras que en las corrientes neutras el neutrino escapaba indetectado pero deja trazas debidas a la ruptura de nucleón.\n",
    "\n",
    "$$\n",
    "\\nu_\\mu + N \\to \\nu_\\mu + X\n",
    "$$\n"
   ]
  },
  {
   "cell_type": "markdown",
   "metadata": {
    "slideshow": {
     "slide_type": "slide"
    }
   },
   "source": [
    "Gargamel era una gran cámara de burbujas, en un campo magnético, donde se tomaban fotografías pautadas con la llegada del haz de neutrinos\n",
    "\n",
    "| |\n",
    "|:--:|\n",
    "|<img src=\"./imgs/sm_gargamelle_event.jpeg\" width = 400 align=\"center\">|\n",
    "| Evento de corriente neutra observado en [Gargamelle](https://en.wikipedia.org/wiki/Gargamelle) [CERN]|\n",
    "\n",
    "¡El neutrino interacciona con un nucleón sin producir su leptón asociado!\n",
    "\n",
    "Las corrientes neutras observadas en Gargamelle estaban de acuerdo con la teoría de unificación electrodébil desarrollada unos años antes."
   ]
  },
  {
   "cell_type": "markdown",
   "metadata": {
    "slideshow": {
     "slide_type": "slide"
    }
   },
   "source": [
    "### la interacción electromagnética\n",
    "\n",
    "En la electrodinámica cuántica, QED, la interacción de los fermiones cargados con el fotón se origina al exigir invariance gauge local del lagrangiano frente a un cambio de fase de $\\Psi(x)$.\n",
    "\n",
    "*Nota:* A partir de aquí, necesitamos al menos introducir los lagrangianos, para poder al menos seguir algunas de las conclusiones de forma natural."
   ]
  },
  {
   "cell_type": "markdown",
   "metadata": {
    "slideshow": {
     "slide_type": "slide"
    }
   },
   "source": [
    "\n",
    "Los lagrangianos y ec. del movimiento de los **campos libres**:\n",
    "\n",
    "| | | | |\n",
    "| :--: |:--: | :--: | :--: |\n",
    "| ----- Tipo ----- | ----- Escalar Complejo ------ | ------ Espinor -------- | -- Bosón vectorial ----- |\n",
    "| | Klein-Gordon | Dirac | Maxwell |\n",
    "|Ecuación | $(\\partial^\\mu\\partial_\\mu + m^2) \\, \\phi = 0$ | $(i\\gamma^\\mu \\partial_\\mu - m) \\, \\Psi = 0$ | $\\partial_\\mu F^{\\mu\\nu} = 0$ |\n",
    "|Lagrangiano| $(\\partial_\\mu \\phi)^* (\\partial^\\mu \\phi) - m^2 \\phi^* \\phi$ | $i\\bar{\\Psi}\\gamma^\\mu \\partial_\\mu \\Psi - m \\bar{\\Psi}\\Psi$|  $-\\frac{1}{4}F^{\\mu\\nu}F_{\\mu\\nu}$|\n",
    "\n",
    "Donde:\n",
    "\n",
    "$$\n",
    "F_{\\mu\\nu} = \\partial_\\mu A_\\nu - \\partial_\\nu A_\\mu\n",
    "$$\n",
    "\n",
    "Pero la física *interesante* sucede en la **interacción entre los campos**."
   ]
  },
  {
   "cell_type": "markdown",
   "metadata": {
    "slideshow": {
     "slide_type": "slide"
    }
   },
   "source": [
    "El lagrangiano del fermión y su interacción con el fotón es:\n",
    "\n",
    "$$\n",
    "\\mathcal{L}  = i \\bar{\\Psi} \\gamma^\\mu \\partial_\\mu \\Psi - m \\bar{\\Psi}\\Psi - Q  \\, \\bar{\\Psi} \\gamma^\\mu \\Psi  A_\\mu - \\frac{1}{4} F_{\\mu\\nu}F^{\\mu\\nu}\n",
    "$$\n",
    "\n",
    "donde $Q$ es la carga eléctrica del fermión.\n",
    "\n",
    "El término de interacción es:\n",
    "\n",
    "$$\n",
    "-  Q \\bar{\\Psi} \\gamma^\\mu \\Psi \\, A_\\mu\n",
    "$$\n",
    "\n",
    "que corresponde al vértice de los diagramas de Feynman entre una corriente fermiónica y un fotón:\n",
    "\n",
    "| |\n",
    "|:--:|\n",
    "|<img src=\"./imgs/sm_emcur.png\" width = 250 align=\"center\">|\n",
    "| vértice electromagnético $Q$, es la carga eléctrica en unidades de $e$|\n"
   ]
  },
  {
   "cell_type": "markdown",
   "metadata": {
    "slideshow": {
     "slide_type": "slide"
    }
   },
   "source": [
    "La interacción electromagnética aparece al exigir que el lagrangiano de fermiones y bosones vectoriales admita la **invariance gauge local**\n",
    "\n",
    "Esto es, el lagrangiano es invariante frente a un cambio local de fase, $\\theta(x)$ del fermión, con carga $Q$:\n",
    "\n",
    "$$\n",
    "\\Psi'(x) = e^{i Q\\, \\theta(x)} \\, \\Psi(x),\n",
    "$$\n",
    "\n",
    "Decimos que el lagrangiano es invariante $U(1)_Q$, el grupo de rotaciones unitarias de dimensión 1, asociado a las carga eléctrica, y que la invariancia gauge local respecto a este grupo da lugar al campo, el fotón $A_\\mu$, y la interacción electro magnética del fermión cargado con el fotón.\n",
    "\n",
    "*ejercicio:* Verifica que el lagrangiano anterior es invariante gauge local."
   ]
  },
  {
   "cell_type": "markdown",
   "metadata": {
    "slideshow": {
     "slide_type": "subslide"
    }
   },
   "source": [
    "G. t'Hooft demostró que los lagrangianos con invariance gauge local son *renormalizables*, esto es, al cuantificar los campos y calcular las secciones eficaces se pueden obtener resultados finitos."
   ]
  },
  {
   "cell_type": "markdown",
   "metadata": {
    "slideshow": {
     "slide_type": "slide"
    }
   },
   "source": [
    "### Teoría electro-debil\n",
    "\n",
    "No vamos a desarrollar la teoría electrodébil, solo vamos a indicar cómo se clasifican las partículas conocidas, comentar la importancia de la invariancia guage local, y dar los términos de interacción que aparecen en el lagrangiano.\n",
    "\n",
    "Respecto a las interaciones débiles cargadas, mediadas por  $W^\\pm$, sabemos que:\n",
    "\n",
    "  * Intervienen solo los espinores de quiralidad a izquierdas\n",
    "\n",
    "  * Siempre aparecen en pares. En la primera familia entre:\n",
    "\n",
    "  $$\n",
    "  \\begin{pmatrix} \\nu_e \\\\ e \\end{pmatrix}, \\;\\;\\;   \\begin{pmatrix} u \\\\ d \\end{pmatrix}\n",
    "  $$"
   ]
  },
  {
   "cell_type": "markdown",
   "metadata": {
    "slideshow": {
     "slide_type": "slide"
    }
   },
   "source": [
    "La **teoría electrodébil**, para reflejar lo anterior, se construye, a partir principalmente de:\n",
    "\n",
    "* situar los espinores de izquierdas en un duplete de un espacio interno que llamaremos **isospín débil** de $SU(2)$ y los de derechas en singletes:\n",
    "\n",
    "$$\n",
    "L  \\equiv \\begin{pmatrix} \\Psi^{\\nu_e}_L \\\\ \\Psi^{e}_L \\end{pmatrix}; \\;\\; \\Psi^{e}_R\n",
    "$$\n",
    "$$\n",
    "Q  \\equiv \\begin{pmatrix} \\Psi^{u}_L \\\\ \\Psi^{d}_L \\end{pmatrix}; \\;\\; \\Psi^{u}_R, \\,\\Psi^{d}_R\n",
    "$$\n",
    "\n",
    "* y considerar que los **fermiones no tienen masa** -por el momento-"
   ]
  },
  {
   "cell_type": "markdown",
   "metadata": {
    "slideshow": {
     "slide_type": "slide"
    }
   },
   "source": [
    "Con esta configuracióin podemos dar el lagrangiano de la primera familia de leptones como:\n",
    "\n",
    "$$\n",
    "i\\bar{L} \\gamma^\\mu \\partial_\\mu L + i \\bar{\\Psi}^e_R \\gamma^\\mu \\partial_\\mu \\Psi^e_R \n",
    "$$\n",
    "\n",
    "El primer término es un acomplo entre dos dupletes y nos da un escalar. Notar ademas que no hay término de masas, ya que consideramos fermiones sin masa.\n",
    "\n",
    "Si desarrollamos el primer término, el asociado al duplete:\n",
    "\n",
    "$$\n",
    "i \\bar{L} \\gamma^\\mu  \\partial_\\mu L = \n",
    "i \\begin{pmatrix} \\bar{\\Psi}^{\\nu}_L, \\bar{\\Psi}^{e}_L \\end{pmatrix} \\gamma^\\mu \\partial_\\mu \\begin{pmatrix} \\bar{\\Psi}^{\\nu}_L \\\\ \\bar{\\Psi}^{e}_L \\end{pmatrix} = \\\\\n",
    "i \\bar{\\Psi}^{\\nu}_L \\gamma^\\mu  \\partial_\\mu \\Psi^{\\nu}_L + i \\gamma^\\mu \\bar{\\Psi}^{e}_L \\gamma^\\mu  \\partial_\\mu \\Psi^{e}_L   \\\\\n",
    "$$\n",
    "\n",
    "Si añadimos ahora  de nuevo el segundo término, el asociado al singlete, obtenemos: \n",
    "\n",
    "$$\n",
    "i \\bar{\\Psi}^{\\nu}_L \\gamma^\\mu  \\partial_\\mu \\Psi^{\\nu}_L + i \\gamma^\\mu \\bar{\\Psi}^{e}_L \\gamma^\\mu  \\partial_\\mu \\Psi^{e}_L + i \\gamma^\\mu \\bar{\\Psi}^{e}_R \\gamma^\\mu  \\partial_\\mu \\Psi^{e}_R = \\\\ i \\bar{\\Psi}^{\\nu}_L \\gamma^\\mu  \\partial_\\mu \\Psi^{\\nu}_L + i \\bar{\\Psi}^{e} \\gamma^\\mu  \\partial_\\mu \\Psi^e   \n",
    "$$\n",
    "\n",
    "que corresponde al lagrangiano de Dirac del neutrino y del electrón sin masa."
   ]
  },
  {
   "cell_type": "markdown",
   "metadata": {
    "slideshow": {
     "slide_type": "slide"
    }
   },
   "source": [
    "El lagrangiano, de nuevo, de la primera familia:\n",
    "\n",
    "$$\n",
    "i\\bar{L} \\gamma^\\mu \\partial_\\mu L + i \\bar{\\Psi}^e_R \\gamma^\\mu \\partial_\\mu \\Psi^e_R \n",
    "$$\n",
    "\n",
    "Este lagrangiano es invariante bajo:\n",
    "\n",
    "  * $U(1)$ una rotación de fase:\n",
    "\n",
    "  $$\n",
    "  L' = e^{i\\theta} L, \\,\\, (\\Psi^e_R )' = e^{i\\theta'} \\Psi^e_R\n",
    "  $$\n",
    "\n",
    "  * $SU(2)$ una transformación unitaria, una rotación $U({\\bf \\theta})$ en el espacio interno de *isoespín débil*, $SU(2)$, que depende de tres ángulos $\\theta_i$.\n",
    "\n",
    "  $$\n",
    "  L' = U({\\bf \\theta})\\, L = e^{i\\theta_i \\frac{\\sigma^i}{2}} \\, L\n",
    "  $$\n",
    "\n",
    "Recordemos que el generador de las rotaciones en $U(1)$ es la identidad, 1, y en $SU(3)$ los generadores son las matrices de Pauli $\\sigma^i/2$."
   ]
  },
  {
   "cell_type": "markdown",
   "metadata": {},
   "source": [
    "*cuestión*: verificar que el lagrangiango anterior es invariante\n",
    "\n",
    "Respecto a la rotación $U(\\theta)$:\n",
    "\n",
    "$$\n",
    "L' = U(\\theta) \\, L, \\;\\; \\bar{L}' = U^\\dagger(\\theta) L\n",
    "$$\n",
    "\n",
    "luego\n",
    "$$\n",
    "i \\bar{L}' \\gamma^\\mu \\partial_\\mu L' = i \\bar{L} U^\\dagger \\gamma^\\mu U \\partial_\\mu L = \\\\ \n",
    "i \\bar{L} U^\\dagger U \\gamma_\\mu \\partial_\\mu L = i \\bar{L} \\gamma^\\mu \\partial_\\mu L\n",
    "$$\n",
    "\n",
    "dado que:\n",
    "\n",
    "$$\n",
    "U^\\dagger U = I\n",
    "$$"
   ]
  },
  {
   "cell_type": "markdown",
   "metadata": {
    "slideshow": {
     "slide_type": "slide"
    }
   },
   "source": [
    "Para obtener la interacción entre los fermiones y los campos vectoriales exigimos que el lagrangiano sea **invariante gauge local** respecto $SU(2)\\times U(1)$. Esto es, para el duplete $L$, debe ser invariante bajo:\n",
    "\n",
    "$$\n",
    "L' = e^{i \\theta(x)} L, \\;\\; L' = e^{i \\theta(x)_i \\frac{\\sigma^i}{2}}\n",
    "$$\n",
    "\n",
    "donde hay cuatro ángulos $\\theta$, uno respecto a la fase global de $U(1)$, y 3 respecto a las rotaciones en $SU(2)$. Para cada uno de ellos apararecerá un campo vectorial asociado.\n",
    "\n",
    "Omitimos aquí el desarrollo de la teoría electrodébil, que contiene detalles relevantes, para indicar solo sus implicaciones y los términos de interacciones a los que da lugar. (ver la extensión y [MT])\n",
    "\n",
    "Los cuatro campos vectoriales físicos son:\n",
    "\n",
    "$$\n",
    "W_\\mu^\\pm, \\, Z_\\mu, \\, A_\\mu\n",
    "$$\n",
    "\n",
    "Los $W^\\pm$ son cargados, con carga eléctrica $\\pm e$, y los campos $Z, A$, son neutros. El campo $A$ corresponde al campo electromagnético."
   ]
  },
  {
   "cell_type": "markdown",
   "metadata": {
    "slideshow": {
     "slide_type": "slide"
    }
   },
   "source": [
    "La teoría electrodébil tiene solo dos parámetros: \n",
    "\n",
    "  * $e$, la carga eléctrica, (o la constante de estrucura fina, $\\alpha$)\n",
    "  \n",
    "  * $\\theta_W$, un ángulo, llamado de Weinberg.\n",
    "\n",
    "El ángulo de Weinberg, medido en numerosos procesos experimentales (ver después), vale $\\theta_W \\simeq 33^o$\n",
    "\n",
    "$$\n",
    "\\sin^2 \\theta_W = 0.23146 \\pm 0.000012\n",
    "$$\n",
    "\n",
    "La relación entre las constantes de acoplo débil y electromagnética está dada por:\n",
    "\n",
    "$$\n",
    "g_W = \\frac{e}{\\sin \\theta_W}, \\;\\; g_z  = \\frac{g_W}{\\cos \\theta_W} = \\frac{e}{\\sin \\theta_W \\cos \\theta_W}\n",
    "$$"
   ]
  },
  {
   "cell_type": "markdown",
   "metadata": {
    "slideshow": {
     "slide_type": "slide"
    }
   },
   "source": [
    "\n",
    "En el lagrangiano aparecen cuatro términos de interacción entre cada uno de los campos y el fermión.\n",
    "Estos son:\n",
    "\n",
    "  * las **interacciones electromagnéticas**, con el fotón. El término de interacción es:\n",
    "\n",
    "$$\n",
    "  - Q \\, (\\bar{\\Psi} \\gamma^\\mu \\Psi) \\, A_\\mu  \n",
    "$$\n",
    "\n",
    "   donde $Q$ es la carga del fermión, $-e$ para el electrón.\n",
    "\n",
    "  * las interacciónes débiles cargadas, las **corrientes cargadas**,  con los bosones $W^\\pm$, y términos:\n",
    "\n",
    "$$\n",
    "\\frac{g_W}{\\sqrt{2}} (\\bar{L} \\gamma^\\mu \\sigma^+ L) \\, W^+_\\mu \n",
    "+ \\frac{g_W}{\\sqrt{2}} (\\bar{L} \\gamma^\\mu \\sigma^- L) \\, W^-_\\mu\n",
    "$$\n",
    "\n",
    "  donde $g_W$ es la constante de acoplo débil, y $\\sigma^\\pm = (\\sigma^1\\pm i\\sigma^2)/2$. \n"
   ]
  },
  {
   "cell_type": "markdown",
   "metadata": {},
   "source": [
    " * las interacciones débiles neutras, o **corrientes neutras**, con el $Z$, y término:\n",
    "\n",
    "$$\n",
    "g_Z \\left( c_L \\, \\bar{\\Psi}_L \\gamma^\\mu \\bar{\\Psi}_L + c_R \\, \\bar{\\Psi}_R \\gamma^\\mu \\bar{\\Psi}_R \\right) \\, Z_\\mu\n",
    "$$\n",
    "\n",
    "\n",
    " donde $g_Z$ es la constante de acoplo débil neutra, y $c_L, c_R$ son dos coeficientes que dependen de la quiralidad y del fermión en cuestión (que daremos más adelante).\n"
   ]
  },
  {
   "cell_type": "markdown",
   "metadata": {
    "slideshow": {
     "slide_type": "slide"
    }
   },
   "source": [
    "#### la corrientes electromagnéticas\n",
    "\n",
    "La interacción electromagnética\n",
    "\n",
    "$$\n",
    "-  Q \\bar{\\Psi} \\gamma^\\mu \\Psi \\, A_\\mu =  \n",
    "-  Q \\bar{\\Psi}_L \\gamma^\\mu \\Psi_L \\, A_\\mu -  Q \\bar{\\Psi}_R \\gamma^\\mu \\Psi_R \\, A_\\mu\n",
    "$$\n",
    "\n",
    "conserva paridad.\n",
    "\n",
    "y es nula para el caso del neutrino $Q = 0$."
   ]
  },
  {
   "cell_type": "markdown",
   "metadata": {
    "slideshow": {
     "slide_type": "slide"
    }
   },
   "source": [
    "#### la corrientes cargadas\n",
    "\n",
    "Si desarrollamos el término de interacción débil cargada:\n",
    "\n",
    "$$\n",
    "\\frac{g_W}{\\sqrt{2}} (\\bar{L} \\gamma^\\mu \\sigma^+ L) \\, W^+_\\mu = \n",
    "$$\n",
    "\n",
    "par la primera familia de leptones, recuperamos la expresión:\n",
    "\n",
    "$$\n",
    " \\frac{g_W}{\\sqrt{2}}\n",
    " \\begin{pmatrix} \\bar{\\Psi}^{\\nu}_{L}, \\bar{\\Psi}^e_L \\end{pmatrix} \\, \n",
    "\\begin{pmatrix} 0 & 1 \\\\ 0 & 0 \\end{pmatrix}  \\gamma^\\mu\n",
    "\\begin{pmatrix} \\Psi^\\nu_L \\\\ \\Psi^e_L \\end{pmatrix} \\, W^+_\\mu=\n",
    "\\frac{g_W}{\\sqrt{2}} \\bar{\\Psi}^\\nu_L \\, \\gamma^\\mu \\, \\Psi^e_L \\, W^+_\\mu \n",
    "$$\n",
    "\n",
    "Esto es acopla cada fermión del duplete.\n",
    "\n",
    "Vemos que la interacción débil cargada viola paridad de forma máxima, ya que solo intervienen los espinores a izquierdas."
   ]
  },
  {
   "cell_type": "markdown",
   "metadata": {
    "slideshow": {
     "slide_type": "slide"
    }
   },
   "source": [
    "#### Las corrientes neutras\n",
    "\n",
    "El término de interacción:\n",
    "\n",
    "$$\n",
    "g_Z \\left( c_L \\, \\bar{\\Psi}_L \\gamma^\\mu \\bar{\\Psi}_L + c_R \\, \\bar{\\Psi}_R \\gamma^\\mu \\bar{\\Psi}_R \\right) \\, Z_\\mu\n",
    "$$\n",
    "\n",
    "donde $g_Z$ es la constante de acoplo del $Z$\n",
    "\n",
    "\n",
    "Los coeficientes $c_L, c_R$ son:\n",
    "\n",
    "$$\n",
    "c_L  = T^3 - Q \\sin^2 \\theta_W, \\;\\; c_R = -Q \\sin^2 \\theta_W\n",
    "$$  \n",
    "\n",
    "Donde $Q$ es la carga en unidades de electrón $e$, esto es -1 para el electrón, y $T^3$ es la tercera componente de isospín débil\n",
    "\n",
    "Las corrientes débiles neutras violan también paridad, porque tratan de forma distinta cada quiralidad, pero no de forma máxima como lo hacían las corrientes débiles cargadas."
   ]
  },
  {
   "cell_type": "markdown",
   "metadata": {
    "slideshow": {
     "slide_type": "slide"
    }
   },
   "source": [
    "\n",
    "Podemos calcular los valores $c_L, c_R$ para el $\\nu_e$ y el $e$\n",
    "\n",
    "Para el electrón:\n",
    "\n",
    "$$\n",
    "c^e_L = -\\frac{1}{2} + s^2_W, \\;\\; c^e_R = s^2_W\n",
    "$$\n",
    "\n",
    "Para el neutrino\n",
    "\n",
    "$$\n",
    "c^{\\nu}_L = \\frac{1}{2}, \\;\\; c^\\nu_R = 0\n",
    "$$\n",
    "\n",
    "Donde $s_W \\equiv \\sin \\theta_W$\n"
   ]
  },
  {
   "cell_type": "markdown",
   "metadata": {
    "slideshow": {
     "slide_type": "subslide"
    }
   },
   "source": [
    "\n",
    "La interacción del neutrino con el $Z$ será:\n",
    "    \n",
    "$$\n",
    "\\frac{g_Z}{2} \\bar{\\Psi}^{\\nu_e}_L \\gamma^\\mu \\Psi^{\\nu_e}_L \\, Z_\\mu\n",
    "$$\n",
    "\n",
    "Mientras que la del electrón:\n",
    "\n",
    "$$\n",
    "g_Z \\left(-\\frac{1}{2} + s^2_W \\right) \\, \\bar{\\Psi}^{e}_L \\gamma^\\mu \\Psi^{e}_L \\, Z_\\mu + g_Z s^2_W \\, \\bar{\\Psi}^{e}_R \\gamma^\\mu \\Psi^{e}_R \\, Z_\\mu\n",
    "$$"
   ]
  },
  {
   "cell_type": "markdown",
   "metadata": {
    "slideshow": {
     "slide_type": "slide"
    }
   },
   "source": [
    "### Aniquilación a muones, $e+e^+ \\to \\mu+\\mu^+$ y la asimetría adelante y atrás.\n",
    "\n",
    "En la aniquilación $e + e^+ \\to \\mu + \\mu^+$ intervienen el $\\gamma$ y el $Z$. Nota que el portador debe ser necesariamente neutro.\n",
    "\n",
    "| |\n",
    "|:--:|\n",
    "|<img src=\"./imgs/sm_gz.png\" width = 400 align=\"center\">|\n",
    "| aniquilación $e+e^+ \\to \\mu + \\mu^+$ mediada por el fotón (izda) o el $Z$ (derecha) |\n",
    "\n",
    "Recordemos los propagadores respectivos son proporcionales a:\n",
    "\n",
    "$$\n",
    "\\frac{g_{\\mu\\nu}}{q^2}, \\;\\; \\frac{g_{\\mu\\nu}}{q^2 - m_Z^2},\n",
    "$$\n",
    "donde $m_Z = 91.2$ GeV es la masa del $Z$, y $q^2$ el cuadrado del cuadrimomento transferido al bosón.\n"
   ]
  },
  {
   "cell_type": "markdown",
   "metadata": {
    "slideshow": {
     "slide_type": "slide"
    }
   },
   "source": [
    "Tenemos tres regímenes de $q^2$ diferentes:\n",
    "\n",
    "* $q^2 \\ll m^2_Z$, en ese caso domina el propagador del fotón, la interacción es mayoritariamente electromagnética, y preserva paridad.\n",
    "\n",
    "* $q^2 \\sim m^2_Z$ domina el propagador del $Z$, la interacción es mayoritariamente débil neutra, y cambia al pasar por el valor $q^2 = m^2_Z$\n",
    "\n",
    "* $q^2 \\gg m^2_Z$ los dos propagadores contribuyen con una fracción cada uno."
   ]
  },
  {
   "cell_type": "markdown",
   "metadata": {
    "slideshow": {
     "slide_type": "slide"
    }
   },
   "source": [
    "La figura muestra la sección eficaz $\\sigma(e+e^+ \\to \\mathrm{hadrons})$ con los datos de diversos experimentos y la curva teórica.\n",
    "\n",
    "En la figura se muestra también la sección eficaz debida solo al fotón (curva punteada).\n",
    "\n",
    "Se observa que la contribución del fotón, es dominante a baja energía. que luego domina la resonancia del $Z$, y finalmente hay un equilibrio.\n",
    "\n",
    "La sección eficaz no se explicaría sin la interferencia del $Z$.\n",
    "                  \n",
    "                                                                                     "
   ]
  },
  {
   "cell_type": "markdown",
   "metadata": {
    "slideshow": {
     "slide_type": "slide"
    }
   },
   "source": [
    "| |\n",
    "|:--:|\n",
    "|<img src=\"./imgs/sm_sigma_eeqq.png\" width = 400 align=\"center\">|\n",
    "| $\\sigma(e+e^+ \\to \\mathrm{hadrons})$ vs $\\sqrt{s}$ de [MT16.2] [LEP-SLD]|\n"
   ]
  },
  {
   "cell_type": "markdown",
   "metadata": {
    "slideshow": {
     "slide_type": "slide"
    }
   },
   "source": [
    "En la región donde $Z$ domine o sea relevante aparecen efectos de violación de paridad que dependerán de $s^2_W$.\n",
    "\n",
    "Experimentalmente calculamos asimetrías. Consideramos el eje dado por el choque $e+e^+$ y la dirección hacia delante dada por el $e$ y contamos cuantos $\\mu$ salen hacia delante, $N_F$, *forward* y hacia atrás, $N_B$, *backwards*, y calculamos la *asimetría adelante-atrás*, $A_{FB}$:\n",
    "\n",
    "$$\n",
    "A_{FB} = \\frac{N_F - N_B}{N_F + N_B}\n",
    "$$\n",
    "\n",
    "Si no hay violación de paridad $A_{FB} = 0$\n",
    "\n"
   ]
  },
  {
   "cell_type": "markdown",
   "metadata": {
    "slideshow": {
     "slide_type": "slide"
    }
   },
   "source": [
    "\n",
    "\n",
    "Estos son los valores experimentales obtenidos por el experimento DELPHI y el la predicción (línea) para $s^2_W \\simeq 0.23$.\n",
    "\n",
    "| |\n",
    "|:--|\n",
    "|<img src=\"./imgs/sm_afb.png\" width = 400 align=\"center\">|\n",
    "| Asimetría *forward-backward* $e+e^+ \\to \\mu + \\mu^+$ vs $\\sqrt{s}$|\n",
    "| datos (puntos) del experimento [DELPHI] y predicción del SM para $s^2_W \\simeq 0.23$ (línea)|\n"
   ]
  },
  {
   "cell_type": "markdown",
   "metadata": {
    "slideshow": {
     "slide_type": "slide"
    }
   },
   "source": [
    "### Anchura de desintegración del $Z$\n",
    "\n",
    "El colisionador LEP $e+e^+$ que operó durante los 90's verificó con gran detalle las predicciones del SM, especialmente la física del Z.\n",
    "\n",
    "Durante un periodo LEP operó a $\\sqrt{s} = m_Z = 91$ GeV produciendo millones de $Z$.\n",
    "\n",
    "Uno de los estudios más importantes de LEP es la medición de la anchura de desintegración de $Z$."
   ]
  },
  {
   "cell_type": "markdown",
   "metadata": {
    "slideshow": {
     "slide_type": "slide"
    }
   },
   "source": [
    "#### Sección eficaz\n",
    "\n",
    "Aunque no la calcularemos, vamos a presentar ahora los distintos elementos que se necesitan en la sección eficaz de $e+e^+ \\to f + \\bar{f}$ en el $Z$, donde recordemos la contribución del $\\gamma$ es pequeña.\n",
    "\n",
    "Sabemos que la sección eficaz viene dada por:\n",
    "\n",
    "$$\n",
    "\\sigma = \\frac{1}{64 \\pi^2 s} \\frac{p^*_f}{p^*_i} \\int_\\Omega \\langle |M_{fi}|^2 \\rangle \\, \\mathrm{d}\\Omega\n",
    "$$\n",
    "\n",
    "Donde en este caso $p^*_i = p^*_f = m_Z/2$, en el CM, podemos despreciar las masas de los fermiones en comparación con $m_Z$."
   ]
  },
  {
   "cell_type": "markdown",
   "metadata": {
    "slideshow": {
     "slide_type": "slide"
    }
   },
   "source": [
    "La sección eficaz expresada en función de las anchuras de desintegración parciales, $\\Gamma_{ee}, \\Gamma_{\\mu\\mu}$ y total, $\\Gamma_Z$, es:\n",
    "\n",
    "$$\n",
    "\\sigma (e+e^+\\to Z \\to \\mu+\\mu^+)= \\frac{12 \\pi s}{m^2_Z} \\frac{\\Gamma_{ee} \\Gamma_{\\mu\\mu}}{(s-m^2_Z)^2 + m^2_Z\\Gamma^2_Z} \n",
    "$$\n",
    "\n",
    "Las datos experimentales confirmaron que las anchuras $\\Gamma_{ee} = \\Gamma_{\\mu\\mu}$ son iguales, como predecía el modelo."
   ]
  },
  {
   "cell_type": "markdown",
   "metadata": {
    "slideshow": {
     "slide_type": "slide"
    }
   },
   "source": [
    "Observamos:\n",
    "    \n",
    "  * Se trata de una función de tipo Breit-Wigner\n",
    "  \n",
    "  * En el polo $\\sqrt{s} = m_z$ obtenemos el máximo de la sección eficaz:\n",
    "  \n",
    "  $$\n",
    "  \\sigma_{\\max} = \\frac{12\\pi}{m^2_Z} \\frac{\\Gamma_{ee}\\Gamma_{\\mu\\mu}}{\\Gamma^2_Z} \n",
    "  $$\n",
    "  \n",
    "  * En los valores $\\sqrt{s} = m_Z \\pm \\Gamma_Z/2$ la sección eficaz:\n",
    "  \n",
    "  $$\n",
    "  \\sigma \\left(\\sqrt{s} = m_Z \\pm \\Gamma_Z/2 \\right) = \\frac{\\sigma_{\\max}}{2}\n",
    "  $$\n",
    "  \n",
    "  O lo que es lo mismo la anchura a mitad de altura, FWHM, es $\\Gamma_Z$"
   ]
  },
  {
   "cell_type": "markdown",
   "metadata": {
    "slideshow": {
     "slide_type": "subslide"
    }
   },
   "source": [
    "*Cuestión* Calcula el máximo de la sección eficaz para $e+e^+\\to \\mu+\\mu^+$ y $e+e^+\\to \\mathrm{hadrones}$ y la curva se la sección eficaz para hadrones en el pico del $Z$."
   ]
  },
  {
   "cell_type": "code",
   "execution_count": 3,
   "metadata": {
    "slideshow": {
     "slide_type": "subslide"
    }
   },
   "outputs": [
    {
     "name": "stdout",
     "output_type": "stream",
     "text": [
      "sigma max (ee->mumu) 2.1 nbarns \n",
      "sigma max (ee->had)  41.6 nbarns \n",
      "sigma max (ee->Z)    60.2 nbarns \n"
     ]
    }
   ],
   "source": [
    "Gee = 0.0838 # GeV \n",
    "Gmm = 0.0838 # GeV\n",
    "Gnn = 0.1657 # GeV\n",
    "Guu = 0.2894 # GeV\n",
    "Gdd = 0.3713 # GeV\n",
    "Ghad = 2 * Guu + 3 * Gdd\n",
    "Gtot = Ghad + 3 * Gee + 3 * Gnn\n",
    "#print(Gtot)\n",
    "mz  = 91.19  # GeV\n",
    "Gz  =  2.45  # GeV\n",
    "sigma_mumu = (12 * np.pi)/(mz**2) * (Gee * Gmm)/Gz**2\n",
    "sigma_had  = (12 * np.pi)/(mz**2) * (Gee * Ghad)/Gz**2\n",
    "sigma_tot  = (12 * np.pi)/(mz**2) * (Gee * Gz)/(Gz**2)\n",
    "hbarc  = 0.197 * units.femto # GeV m\n",
    "barn =  1e-28 # m^2\n",
    "sigma_to_barn = (hbarc**2) / barn\n",
    "print('sigma max (ee->mumu) {:3.1f} nbarns '.format(sigma_to_barn * sigma_mumu / units.nano))\n",
    "print('sigma max (ee->had)  {:3.1f} nbarns '.format(sigma_to_barn * sigma_had /units.nano))\n",
    "print('sigma max (ee->Z)    {:3.1f} nbarns '.format(sigma_to_barn * sigma_tot /units.nano))"
   ]
  },
  {
   "cell_type": "code",
   "execution_count": 4,
   "metadata": {
    "slideshow": {
     "slide_type": "subslide"
    }
   },
   "outputs": [
    {
     "data": {
      "image/png": "[encoded data removed]",
      "text/plain": [
       "<Figure size 640x480 with 1 Axes>"
      ]
     },
     "metadata": {},
     "output_type": "display_data"
    }
   ],
   "source": [
    "def sigma(s, Gff = Gmm):\n",
    "    return (12 * np.pi *s)/(mz**2) * (Gee*Gff/((s-mz**2)**2 + (mz*Gz)**2))\n",
    "ss = np.linspace(mz-8, mz+8, 100)\n",
    "plt.plot(ss, sigma_to_barn * sigma(ss*ss, Ghad) / units.nano); \n",
    "plt.grid(); plt.xlabel(r'$\\sqrt{s}$ (GeV)'); plt.ylabel(r'$\\sigma$ (nbarn)');"
   ]
  },
  {
   "cell_type": "markdown",
   "metadata": {
    "slideshow": {
     "slide_type": "slide"
    }
   },
   "source": [
    "#### Anchura de desintegración parcial\n",
    "\n",
    "\n",
    "La anchura de desintegración viene dada por:\n",
    "\n",
    "$$\n",
    "\\Gamma = \\frac{p^*}{8 \\pi s} \\langle |M_{fi}|^2 \\rangle\n",
    "$$\n",
    "\n",
    "En el caso de  $Z \\to f + \\bar{f}$, $\\sqrt{s} = m_Z$ y $p^* = m_z/2$, (en el CM), si despreciamos la masa del fermión en comparación con la del $m_Z$."
   ]
  },
  {
   "cell_type": "markdown",
   "metadata": {
    "slideshow": {
     "slide_type": "slide"
    }
   },
   "source": [
    "La anchura parcial de desintegración $Z \\to f + \\bar{f}$ es:\n",
    "\n",
    "$$\n",
    "\\Gamma(Z \\to f + \\bar{f}) = \\frac{m_Z}{16 \\pi m^2_Z} \\frac{2}{3} (c^2_L + c^2_R)\\,  g^2_Z m^2_Z = \\frac{g^2_Z m_Z}{24 \\pi} (c^2_L + c^2_R)\n",
    "$$\n",
    "\n",
    "Por ejemplo para $\\nu_e$ como $c^{(\\nu_e)}_L = 1/2, \\; c^{(\\nu_e)}_R = 0$:\n",
    "\n",
    "$$\n",
    "\\Gamma (Z \\to \\nu_e + \\bar{\\nu}_e) = \\frac{g^2_Z m_Z}{96 \\pi} = 166 \\; \\mathrm{MeV}\n",
    "$$"
   ]
  },
  {
   "cell_type": "markdown",
   "metadata": {
    "slideshow": {
     "slide_type": "subslide"
    }
   },
   "source": [
    "*Cuestión*: Calcula las anchuras de desintegración parciales y totales de $Z$ y sus fracciones de desintegración."
   ]
  },
  {
   "cell_type": "code",
   "execution_count": 5,
   "metadata": {
    "slideshow": {
     "slide_type": "subslide"
    }
   },
   "outputs": [
    {
     "name": "stdout",
     "output_type": "stream",
     "text": [
      "gw    0.6526\n",
      "gz    0.7403\n",
      "Gamma nue 0.1657 GeV\n"
     ]
    }
   ],
   "source": [
    "GF  = units.value(\"Fermi coupling constant\")\n",
    "s2t = units.value(\"weak mixing angle\")\n",
    "MW  = 80.34 # GeV \n",
    "MZ  = 91.19 # GeV\n",
    "g2w = 8 * MW**2 * GF /np.sqrt(2)\n",
    "g2z = g2w/(1-s2t) \n",
    "gamma_nu = g2z*MZ/(96*np.pi)\n",
    "print('gw    {:5.4f}'.format(np.sqrt(g2w)))\n",
    "print('gz    {:5.4f}'.format(np.sqrt(g2z)))\n",
    "print('Gamma nue {:5.4f} GeV'.format(gamma_nu))"
   ]
  },
  {
   "cell_type": "code",
   "execution_count": 6,
   "metadata": {
    "slideshow": {
     "slide_type": "subslide"
    }
   },
   "outputs": [
    {
     "name": "stdout",
     "output_type": "stream",
     "text": [
      "Gamma e 0.0838 GeV\n",
      "Gamma nue 0.1657 GeV\n",
      "Gamma u 0.2894 GeV\n",
      "Gamma d 0.3713 GeV\n"
     ]
    }
   ],
   "source": [
    "nc   = 3 # 3 colors for the quarks\n",
    "pars = {'e':(-0.5+s2t, s2t), 'nue': (0.5, 0), 'u' : (0.5-2*s2t/3, -2*s2t/3), 'd': (-0.5+s2t/3, s2t/3)}\n",
    "gamma = lambda cl, cr: g2z*MZ/(24*np.pi)*(cl**2 + cr**2)\n",
    "gammas = {}\n",
    "for key in pars.keys():\n",
    "    cl, cr = pars[key]\n",
    "    gammai = gamma(cl, cr)\n",
    "    gammai = nc * gammai if key in ('u', 'd') else gammai\n",
    "    comment = 'Gamma ' + key + ' {:5.4f} GeV'.format(gammai) \n",
    "    print(comment)\n",
    "    gammas[key] = gammai"
   ]
  },
  {
   "cell_type": "markdown",
   "metadata": {
    "slideshow": {
     "slide_type": "slide"
    }
   },
   "source": [
    "La anchura total del $Z \\to f + \\bar{f}$ será la suma de las parciales:\n",
    "\n",
    "$$\n",
    "\\Gamma_Z = 3 \\Gamma_{ll} +  \\Gamma_{\\mathrm{hadrons}} + N_\\nu \\Gamma_{\\nu\\nu}\n",
    "$$\n",
    "\n",
    "donde $3\\Gamma_{ll} = \\Gamma_{ee} + \\Gamma_{\\mu\\mu} + \\Gamma_{\\tau\\tau}$, $\\Gamma_{\\mathrm{hadrons}}$, la anchura de desintegración a hadrones (la total a $q\\bar{q}$) y $N_\\nu$ es el número de neutrinos, y $\\Gamma_{\\nu\\nu}$, la achura a un tipo de neutrino.\n",
    "\n",
    "Los neutrinos no se observan, pero si medimos la anchura total $\\Gamma_Z$ podemos estimar el número de neutrinos, $N_\\nu$."
   ]
  },
  {
   "cell_type": "code",
   "execution_count": 7,
   "metadata": {
    "slideshow": {
     "slide_type": "slide"
    }
   },
   "outputs": [
    {
     "name": "stdout",
     "output_type": "stream",
     "text": [
      "Total Gamma 2.4414 GeV \n",
      "BR e 3.4 %\n",
      "BR nue 6.8 %\n",
      "BR u 11.9 %\n",
      "BR d 15.2 %\n"
     ]
    }
   ],
   "source": [
    "gamma_total = 3 * gammas['nue'] + 3 * gammas['e'] + 2 * gammas['u'] + 3 * gammas['d']\n",
    "print('Total Gamma {:5.4f} GeV '.format(gamma_total))\n",
    "for key in gammas.keys():\n",
    "    #n  = 2 if key == 'u' else 3\n",
    "    br = 100 * gammas[key]/gamma_total\n",
    "    print('BR ' + key + ' {:3.1f} %'.format(br))"
   ]
  },
  {
   "cell_type": "markdown",
   "metadata": {
    "slideshow": {
     "slide_type": "slide"
    }
   },
   "source": [
    "### Tres familias de neutrinos\n",
    "\n",
    "Uno de los resultados más importantes de la era LEP es la determinación del número de neutrinos a partir de la anchura de desintegración, $\\Gamma_Z$, del $Z$, obtenida por la anchura de la resonancia en la sección eficaz $\\sigma(e+e^+ \\to \\mathrm{hadrones})$.\n",
    "\n",
    "En la figura, la vista transversal de varios eventos en ALEP, $e+e^+ \\to Z$ y $Z \\to$ hadrons, $e+e^+, \\mu+\\mu^+, \\tau+\\tau^+$:\n",
    "\n",
    "| | \n",
    "| :--: |\n",
    "|  <img src=\"./imgs/sm_Zevents_ALEPH.png\" width = 400 align=\"center\"> |\n",
    "| $Z\\to$ hadrons, $e+e^+$, $\\mu+\\mu^+$, $\\tau + \\tau^+$ [ALEPH]|"
   ]
  },
  {
   "cell_type": "markdown",
   "metadata": {
    "slideshow": {
     "slide_type": "slide"
    }
   },
   "source": [
    "La siguiente figura muestra la sección eficaz $\\sigma(e+e^+ \\to \\mathrm{hadrons})$  en función de $\\sqrt{s}$ obtenida por los experimentos de LEP: ALEPH, DELPHI, L3, OPAL. \n",
    "\n",
    "\n",
    "| | \n",
    "| :--: |\n",
    "|  <img src=\"./imgs/sm_zresonance.png\" width = 350 align=\"center\"> |\n",
    "| $\\sigma(e+e^+ \\to \\mathrm{hadrons})$ vs $\\sqrt{s}$ de los experimentos de LEP [PDG]|\n",
    "\n",
    "\n",
    "Se muestra sobreimpuesta la curva teórica cuando consideramos $N_\\nu$ neutrinos.\n",
    "\n",
    "Nota: los errores están reprensentados por un factor 10 de su valor para que sean visibles."
   ]
  },
  {
   "cell_type": "markdown",
   "metadata": {
    "slideshow": {
     "slide_type": "slide"
    }
   },
   "source": [
    "\n",
    "Recordemos que el número de neutrinos, $N_\\nu$, entra en la anchura de desintegración:\n",
    "\n",
    "$$\n",
    "\\Gamma_Z = 3 \\Gamma_{ll} +  \\Gamma_{\\mathrm{hadrons}} + N_\\nu \\, \\Gamma_{\\nu\\nu}\n",
    "$$\n",
    "\n",
    "A partir de la medida de $\\Gamma_Z = 2.4952 \\pm 0.0023$, y de las anchuras medidas $\\Gamma_{ll}, \\, \\Gamma_{\\mathrm{hadrons}}$ y del valor teórico de $\\Gamma_{\\nu\\nu}$:\n",
    "\n",
    "$$\n",
    "\\Gamma (\\nu_e + \\bar{\\nu}_e) = \\frac{g^2_Z m_Z}{96 \\pi} = 166 \\; \\mathrm{MeV}\n",
    "$$\n",
    "\n",
    "Obtenemos el número de neutrinos:\n",
    "\n",
    "$$\n",
    "N_\\nu = 2.9840\\pm 0.0082\n",
    "$$\n",
    "\n",
    "Existen por lo tanto **tres familias de neutrinos**."
   ]
  },
  {
   "cell_type": "markdown",
   "metadata": {
    "slideshow": {
     "slide_type": "slide"
    }
   },
   "source": [
    "## El bosón de Higgs\n",
    "\n",
    "El modelo de Higgs da respuesta (quizás la única posible) a los siguientes problemas graves que presentaba la teoría:\n",
    "\n",
    "  * Los bosones débiles son masivos, sin embargo las teorías gauge exigen bosones sin masa. ¿Cómo dotar entonces de masa a los bosones $W^\\pm, Z$?\n",
    "\n",
    "  * La teoría electrodébil separa fermiones a derechas e izquierdas, en dupletes y singletes, y exige que no tengan masas. ¡Pero sabemos que los fermiones tienen masa!\n",
    "  "
   ]
  },
  {
   "cell_type": "markdown",
   "metadata": {
    "slideshow": {
     "slide_type": "slide"
    }
   },
   "source": [
    "El mecanismo de Higgs permite dotar de masa a fermiones y bosones preservando la invariancia gauge de la teoría.\n",
    "\n",
    "Es imposible discutir sobre el mecanismo de Higgs sin recurrir de forma breve al TCQ y al Lagrangiano del Modelo Estándar.\n",
    "\n",
    "Vamos a dar solo unas ideas que nos permitan entender su comportamiento y descubrimiento."
   ]
  },
  {
   "cell_type": "markdown",
   "metadata": {
    "slideshow": {
     "slide_type": "slide"
    }
   },
   "source": [
    "### La invariance gauge\n",
    "\n",
    "Podemos reescribir la interacción entre fermiones y los bosones vectoriales introduciendo directamente la derivada covariante generalizada $D_\\mu$ en el legrangiano.\n",
    "\n",
    "\n",
    "| | | | |\n",
    "| :--: |:--: | :--: | :--: |\n",
    "| ----- Tipo ----- | --------------- Escalar ---------------- | ---------- Espinor ------------ | ------ Bosón vectorial ---------- |\n",
    "| | Klein-Gordon | Dirac | Maxwell |\n",
    "|Lagrangiano| $(D_\\mu \\phi)^\\dagger (D^\\mu \\phi) - m^2 \\phi^\\dagger \\phi$ | $i\\bar{\\Psi}\\gamma^\\mu D_\\mu \\Psi - m \\bar{\\Psi}\\Psi$|  $-\\frac{1}{4}F^{\\mu\\nu}F_{\\mu\\nu} \\left[+ \\frac{1}{2} m^2 A_\\mu A^\\mu \\right]$|\n",
    "\n",
    "\n",
    "La derivada covariante generalizada para el caso del fotón sería:\n",
    "\n",
    "$$\n",
    "D_\\mu = \\partial_\\mu + i g A_\\mu, \\;\\;\\; F^{\\mu\\nu} = \\partial^\\mu A^\\nu - \\partial^\\nu A^\\mu\n",
    "$$\n",
    "\n",
    "En este caso por ejemplo $g=Q$ la carga eléctrica y  $A_\\mu$ correspondería al campo del fotón.\n",
    "\n",
    "De forma similar actuaríamos para el resto de los bosones vectoriales."
   ]
  },
  {
   "cell_type": "markdown",
   "metadata": {
    "slideshow": {
     "slide_type": "subslide"
    }
   },
   "source": [
    "El lagrangiano de espinores y bosones vectoriales (sin masa), por ejemplo del electromagnetismo es:\n",
    "\n",
    "$$\n",
    "i \\bar{\\Psi} \\gamma^\\mu D_\\mu \\Psi - m \\bar{\\Psi} \\Psi - \\frac{1}{4} F^{\\mu\\nu}F_{\\mu\\nu}\n",
    "$$\n",
    "\n",
    "y es invariante bajo la **simetría gauge local**, dada por un *cambio de fase local continuo*, $e^{ig\\theta(x)}$, en cada punto $x$:\n",
    "    \n",
    "$$\n",
    "\\Psi'(x) = e^{i g \\theta(x)} \\, \\Psi(x), \\;\\;\\; A'_\\mu(x) = A_\\mu(x) - \\partial_\\mu \\theta(x)\n",
    "$$ "
   ]
  },
  {
   "cell_type": "markdown",
   "metadata": {
    "slideshow": {
     "slide_type": "slide"
    }
   },
   "source": [
    "Si desarrollamos el término $i \\bar{\\Psi} \\gamma^\\mu D_\\mu \\Psi$:\n",
    "    \n",
    "$$\n",
    " i \\bar{\\Psi} \\gamma^\\mu  (\\partial_\\mu + i g A_\\mu) \\Psi = i \\bar{\\Psi} \\gamma^\\mu \\partial_\\mu \\Psi - g \\bar{\\Psi} \\gamma^\\mu \\Psi \\, A_\\mu  \n",
    "$$\n",
    "\n",
    "que es el acoplo de una corriente fermiónica, si $g = -e$, la interacción de la corriente electromagnética del electrón, con el fotón. E interpretamos el término como un vértices de tres ramas con acoplo $e$.\n",
    "\n",
    "$$\n",
    " e \\bar{\\Psi} \\gamma^\\mu \\Psi \\, A_\\mu\n",
    "$$\n",
    "\n",
    "y que tiene asociado su correspondiente vértice de Feynman."
   ]
  },
  {
   "cell_type": "markdown",
   "metadata": {
    "slideshow": {
     "slide_type": "subslide"
    }
   },
   "source": [
    "*ejercicio* Verifificar que el lagrangiano anterior es invariate gaugle local, \n",
    "\n",
    "Sin embargo un término de masas del bosón vectorial, que viene dada por:\n",
    "\n",
    "$$\n",
    "\\frac{1}{2} m_A^2 A^\\mu A_\\mu \n",
    "$$\n",
    "\n",
    "no es invariante gauge:\n",
    "\n",
    "$$\n",
    "\\frac{1}{2} m_A^2 A'^\\mu A'_\\mu  = \\frac{1}{2}m_A^2 (A^\\mu - \\partial^\\mu \\theta) \\, (A_\\mu - \\partial_\\mu \\theta) \\neq \\frac{1}{2} m_A^2 A^\\mu A_\\mu \n",
    "$$\n"
   ]
  },
  {
   "cell_type": "markdown",
   "metadata": {
    "slideshow": {
     "slide_type": "slide"
    }
   },
   "source": [
    "\n",
    "### Masa de los fermiones\n",
    "\n",
    "El término de masa asociado a los fermiones que aparece en el Lagrangiano es:\n",
    "\n",
    "$$\n",
    "m \\bar{\\Psi} \\Psi\n",
    "$$\n",
    "\n",
    "Si suponemos que los fermiones se acoplan con un campo escalar $\\phi$, podemos añadir un término de interaccion en el lagrangiano como:\n",
    "\n",
    "$$\n",
    "\\lambda \\bar{\\Psi} \\Psi \\phi\n",
    "$$\n",
    "\n",
    "O gráficamente, hemos pasado de la interacción del campo escalar, $\\phi$\n",
    "\n",
    "| |\n",
    "|:--:|\n",
    "|<img src=\"./imgs/sm_higgs_2.png\" width = 150 align=\"center\">|\n",
    "| Acoplo del campo de Higgs con el fermión|\n",
    "\n",
    "\n",
    "que corresponde a un vértice de tres ramas con un acoplo $\\lambda$, adimensional, que llamamos **acoplo de Yukawa**. \n"
   ]
  },
  {
   "cell_type": "markdown",
   "metadata": {
    "slideshow": {
     "slide_type": "slide"
    }
   },
   "source": [
    "Consideremos ahora un campo complejo escalar particular, $\\phi$, con un **valor esperado en el vacío**, $v$, no nulo:\n",
    "\n",
    "$$\n",
    "\\phi(x) = \\frac{1}{\\sqrt{2}}\\left(v + h(x)\\right) \n",
    "$$\n",
    "\n",
    "(el factor $1/\\sqrt{2}$ simplifica luego los cálculos, pero no es relevante).\n",
    "\n",
    "La interacción que hemos escrito anteriormente entre fermiones y el campo $\\phi$ queda:\n",
    "\n",
    "$$\n",
    "\\lambda \\bar{\\Psi} \\Psi \\, \\phi = \\frac{\\lambda v}{\\sqrt{2}} \\bar{\\Psi} \\Psi + \\frac{\\lambda}{\\sqrt{2}} \\bar{\\Psi} \\, \\Psi h(x)\n",
    "$$\n"
   ]
  },
  {
   "cell_type": "markdown",
   "metadata": {
    "slideshow": {
     "slide_type": "subslide"
    }
   },
   "source": [
    "El primer término lo asociamos a la masa del fermión:\n",
    "\n",
    "$$\n",
    "m \\bar{\\Psi} \\Psi = \\frac{\\lambda v}{\\sqrt{2}} \\bar{\\Psi} \\Psi \\Rightarrow m= \\frac{\\lambda v}{\\sqrt{2}}.\n",
    "$$\n",
    "\n",
    "La masa aparece como la fricción, via el acoplo de Yukawa, $\\lambda$, con el valor esperado del campo escalar (de Higgs) en el vacío, $v$.\n",
    "\n",
    "El segundo término $\\bar{\\Psi} \\Psi h$ lo interpretamos como la interacción del Higgs con un fermión.\n",
    "\n",
    "A la de su desarrollo a partir del valor en el vacío, que nos da la masa del fermión y su interacción con el higgs:\n",
    "\n",
    "| |\n",
    "|:--:|\n",
    "|<img src=\"./imgs/sm_higgs_0.png\" width = 250 align=\"center\">|\n",
    "| Masa de los fermiones y la interacción con el higgs, $h(x)$|\n",
    "\n"
   ]
  },
  {
   "cell_type": "markdown",
   "metadata": {
    "slideshow": {
     "slide_type": "slide"
    }
   },
   "source": [
    "#### Bosones\n",
    "\n",
    "El mecanismo que dota de masa a los bosones es más complejo.\n",
    "\n",
    "La masa de un bosón vectorial tiene el siguiente término asociado: \n",
    "\n",
    "$$\n",
    "\\left[+ \\frac{1}{2} m^2 A_\\mu A^\\mu \\right]\n",
    "$$\n",
    "\n",
    "Consideramos que el campo escalar, $\\phi(s)$ es invariante gauge local respecto al campo de fase, $\\phi'(x) = e^{i g \\theta(x)} \\phi$, esto es $U(1)$, lo que implica un campo vectorial asociado $A_\\mu$.\n",
    "\n",
    "Si desarrollamos ahora la derivada covariante, al desarrollar el campo escalar respecto el valor en el vacío $\\phi(x) = v + h(x)$, obtenemos:\n",
    "\n",
    "$$\n",
    "D_\\mu \\phi = (\\partial_\\mu + i g A_\\mu) \\frac{1}{\\sqrt{2}} \\left[ v + h(x) \\right]  = \\frac{1}{\\sqrt{2}} \\left(\\partial_\\mu h(x) + ig v \\, A_\\mu + i g h(x) A_\\mu \\right)\n",
    "$$\n",
    "\n"
   ]
  },
  {
   "cell_type": "markdown",
   "metadata": {},
   "source": [
    "En el lagrangiano del campo escalar aparece el producto escalar de derivada covariante consigo misma, que si lo desarrollamos:\n",
    "\n",
    "$$\n",
    "(D^\\mu \\phi)^*(D_\\mu \\phi) = \\dots + \\frac{1}{2} g^2 v^2 A^\\mu A_\\mu + \\dots \n",
    "$$\n",
    "\n",
    "El término que hemos dejado explícito lo asociamos ahora con el término de masas del bosón. \n",
    "\n",
    "$$\n",
    "m = g v\n",
    "$$"
   ]
  },
  {
   "cell_type": "markdown",
   "metadata": {
    "slideshow": {
     "slide_type": "notes"
    }
   },
   "source": [
    "En el Modelo Estándar el cálculo es similar, aunque más complejo, y obtenemos:\n",
    "\n",
    "$$\n",
    "m_W = \\frac{g_W v}{2}, \\;\\; m_Z = \\frac{g_z v}{2} = \\frac{g_W v}{2 \\cos \\theta_W}\n",
    "$$\n",
    "\n",
    "Esto es, la unificación electrodébil y el mecanismo de Higgs predicen:\n",
    "\n",
    "$$\n",
    "\\frac{m_W}{m_Z} = \\cos \\theta_W\n",
    "$$\n",
    "\n",
    "A partir de los datos experimentales, $m_z, \\sin^2 \\theta_W$, el SM predice,\n",
    "\n",
    "$$\n",
    "m_W \\simeq 80.34 \\;\\; \\mathrm{GeV}\n",
    "$$\n",
    "\n",
    "¡que se aproxima mucho al valor experimental! \n",
    "\n",
    "Esta relación dio credibilidad al mecanismo de Higgs antes de que se descubriera el Higgs."
   ]
  },
  {
   "cell_type": "code",
   "execution_count": 3,
   "metadata": {
    "slideshow": {
     "slide_type": "slide"
    }
   },
   "outputs": [
    {
     "name": "stdout",
     "output_type": "stream",
     "text": [
      " W mass esperada a primer orde 80.385 GeV, medida 80.378 GeV\n"
     ]
    }
   ],
   "source": [
    "s2t = units.value(\"weak mixing angle\")\n",
    "MW  = 80.378 # GeV \n",
    "MZ  = 91.1876 # GeV\n",
    "cw = np.sqrt(1 - s2t)\n",
    "mw_pred = MZ * cw\n",
    "print(' W mass esperada a primer orde {:4.3f} GeV, medida {:4.3f} GeV'.format(mw_pred, MW))"
   ]
  },
  {
   "cell_type": "markdown",
   "metadata": {
    "slideshow": {
     "slide_type": "slide"
    }
   },
   "source": [
    "### El campo del bosón de Higgs\n",
    "\n",
    "Hemos visto que podemos dotar de masa a los fermiones y bosones vectoriales débiles con un campo escalar cuyo valor en el vacío, $v$, sea no nulo, ¿pero cómo obtenemos ese valor $v$?\n",
    "\n",
    "Consideremos un campo escalar complejo, que llamaremos campo de Higgs, su langrangiano es:\n",
    "\n",
    "$$\n",
    "(D_\\mu \\phi)^\\dagger (D^\\mu \\phi) -  m^2 \\, (\\phi^\\dagger \\phi),\n",
    "$$\n",
    "\n",
    "Notar que el lagrangiano presenta una simetría respecto a un cambio de fase $\\phi' = e^{i \\theta} \\, \\phi$\n",
    "\n",
    "\n",
    "El segundo término del lagrangiano, el de masas, lo asociamos a un potencial.\n",
    "\n",
    "$$\n",
    "V(\\phi) =  m^2 \\, (\\phi^\\dagger \\phi)\n",
    "$$\n",
    "\n",
    "que tienen una dependencia parabólica en términos de $(\\phi^\\dagger \\phi)$."
   ]
  },
  {
   "cell_type": "markdown",
   "metadata": {},
   "source": [
    "Consideremos la extensión más sencilla de ese potencial, que sería cuadrática.\n",
    "\n",
    "$$\n",
    "V(\\phi) = \\frac{\\mu^2}{2} (\\phi^\\dagger \\phi) + \\frac{\\lambda}{4} (\\phi^\\dagger \\phi)^2\n",
    "$$\n",
    "\n",
    "que depende de los parámetros $\\mu, \\lambda$. \n",
    "\n",
    "Notar que si $\\mu = \\sqrt{2} m$ y $\\lambda = 0$, recuperamos el potencial inicial.\n",
    "\n",
    "(de nuevo los factores $1/2, 1/4$ sirven para simplificar los cálculos, pero no son relevantes).\n"
   ]
  },
  {
   "cell_type": "markdown",
   "metadata": {
    "slideshow": {
     "slide_type": "slide"
    }
   },
   "source": [
    "Las siguientes figuras muestran el potencial para los casos $\\mu^2>0, \\mu^2<0$ con $\\lambda > 0$.\n",
    "Observa el valor $v$, que corresponde al mínimo."
   ]
  },
  {
   "cell_type": "code",
   "execution_count": null,
   "metadata": {
    "slideshow": {
     "slide_type": "fragment"
    }
   },
   "outputs": [
    {
     "data": {
      "image/png": "[encoded data removed]",
      "text/plain": [
       "<Figure size 432x288 with 2 Axes>"
      ]
     },
     "metadata": {
      "needs_background": "light"
     },
     "output_type": "display_data"
    }
   ],
   "source": [
    "higgs_potential = lambda phi, mu, xlambda : ((mu**2).real * phi**2)/2 + (xlambda/4) * (phi**2)**2\n",
    "phis = np.linspace(-10, 10, 100)\n",
    "mu  = 6; xlambda = 1\n",
    "plt.subplot(1, 2, 1); plt.plot(phis, higgs_potential(phis, mu, xlambda));\n",
    "plt.subplot(1, 2, 2); plt.plot(phis, higgs_potential(phis, mu*(1j), xlambda));"
   ]
  },
  {
   "cell_type": "markdown",
   "metadata": {
    "slideshow": {
     "slide_type": "slide"
    }
   },
   "source": [
    "El estado del vacío es el estado de mínima energía: \n",
    "\n",
    "* El el caso $\\mu^2 >0$ el potencial tiene un mínimo en $v = 0$.\n",
    "\n",
    "* Mientras que el caso $\\mu^2 <0$ tiene dos mínimos en:\n",
    "\n",
    "$$\n",
    "v = \\pm  \\sqrt{\\frac{-\\mu^2}{\\lambda}}\n",
    "$$\n",
    "\n",
    "donde a  $v$ es el **valor esperado en el vacío** (*vev*)."
   ]
  },
  {
   "cell_type": "markdown",
   "metadata": {},
   "source": [
    "Siempre desarrollamos el campo alredor del valor en el vacío, esto es, escribimos:\n",
    "\n",
    "$$\n",
    "\\phi(x) = v + h(x), \n",
    "$$\n",
    "\n",
    "Tras la elección de uno de los mínimos, al haber centrado el campo en $v$, decimos que rompemos la simetría inicial.\n",
    "\n",
    "Llamamos **rotura espontánea de simetría** al hecho de que aunque un sistema físico, un lagrangiano, aunque tenga una simetría dada, el vacío, esto es el valor mínimo del campo, no la cumple."
   ]
  },
  {
   "cell_type": "markdown",
   "metadata": {
    "slideshow": {
     "slide_type": "slide"
    }
   },
   "source": [
    "En el caso de que $\\phi$ sea un complejo obtenemos la curva del potencial conocida como sobrero mexicano, donde uno de los ejes es la componente real del campo y la otra la imaginaria:\n",
    "\n",
    "| | \n",
    "| :--: |\n",
    "|  <img src=\"./imgs/sm_mexican_hat.png\" width = 300 align=\"center\"> |\n",
    "| potencial del campo complejo de Higgs $V(\\phi)$ [Wikipedia]|\n",
    "\n",
    "Luego la existencia de un campo escalar complejo, con un potencial tipo *sombrero mexicano*,  nos permite obtener un valor esperado en el vacío, con el que dotar de masa a los fermiones y bosones vectoriales.\n",
    "\n",
    "Pero, sin embargo, no tenemos un principio o una explicación de *por qué este potencial*."
   ]
  },
  {
   "cell_type": "markdown",
   "metadata": {
    "slideshow": {
     "slide_type": "slide"
    }
   },
   "source": [
    "Tras la rotura espontánea de simetría, el campo de Higgs da lugar:\n",
    "\n",
    " * a la **masa de los bosones $W^\\pm, Z$**.\n",
    " \n",
    " * las **masas de los fermiones**.\n",
    " \n",
    " * a las interacciones entre el higgs, $h(x)$, y los bosones débiles, $W, Z$, y dar lugar a **desintegraciones del Higgs a los bosones vectoriales**\n",
    " \n",
    " * a las interacciones entre el higgs, $h(x)$, y los fermiones, que a su vez da lugar a **desintegraciones a pares fermión-antifermión**\n",
    " \n",
    "Además el higgs se acopla consigo mismo en vértices de tres y cuatro ramas, y con los bosones vectoriales débiles en vértices de cuatro ramas. Esto es, genera nuevas interacciones entre sí, y con los bosones vectoriales."
   ]
  },
  {
   "cell_type": "markdown",
   "metadata": {
    "slideshow": {
     "slide_type": "slide"
    }
   },
   "source": [
    "#### Las masas\n",
    "\n",
    "En la tabla se muestra la relación entre las masas se relacionan con el *vev* y las costantes de acoplo:\n",
    "\n",
    "|  ---- fermión ---- |  ---- bosones $W^\\pm$  -----  | ------ bosón $Z$ ------ | ----- Higgs ----- |\n",
    "| :--: | :--: | :--: | :--: |\n",
    "| $m_f = \\frac{1}{\\sqrt{2}}\\lambda_f v $ | $m_W = \\frac{1}{2} g_W v$| $ m_Z = \\frac{1}{2} \\frac{g_W}{\\cos \\theta_W} v$ | $m_H = 2 \\lambda v^2$|\n",
    "\n",
    "Observamos:\n",
    "    \n",
    "   * Hay un parámetro del modelo $\\lambda_f$, que se llama **acoplo de Yukawa**, para dar la masa de cada fermión y del vev $v$. ¡Hay tantos acoplos de Yukawa como fermiones cargados!\n",
    "    \n",
    "   * Que la masa de los bosones vectoriales, $m_W, m_Z$ está fijada por $v$ y los acoplos, $g_W, g_Z$.\n",
    "   \n",
    "   * Que la masa del Higgs depende de $v^2$ y $\\lambda$. El parámetro $\\lambda$ solo interviene en la masa del Higgs.\n"
   ]
  },
  {
   "cell_type": "markdown",
   "metadata": {
    "slideshow": {
     "slide_type": "slide"
    }
   },
   "source": [
    "El valor del $v$ es un viejo conocido, se puede determinar a partir de $g_W, M_W$, esto es de $G_F$:\n",
    "\n",
    "$$\n",
    "M_W = \\frac{1}{2} g_W v \\Rightarrow v = \\frac{2M_W}{g_W} = \\sqrt{\\frac{1}{\\sqrt{2} G_F}} = 246 \\; \\mathrm{GeV}\n",
    "$$\n",
    "\n",
    "medir $G_F$ es medir $v$.\n"
   ]
  },
  {
   "cell_type": "code",
   "execution_count": 10,
   "metadata": {
    "slideshow": {
     "slide_type": "subslide"
    }
   },
   "outputs": [
    {
     "name": "stdout",
     "output_type": "stream",
     "text": [
      "valor esperado del vacío 246.2 GeV\n"
     ]
    }
   ],
   "source": [
    "GF = units.value(\"Fermi coupling constant\") # 1/GeV^2\n",
    "v  = np.sqrt(1/(np.sqrt(2)*GF))\n",
    "print('valor esperado del vacío {:4.1f} GeV'.format(v))"
   ]
  },
  {
   "cell_type": "markdown",
   "metadata": {
    "slideshow": {
     "slide_type": "slide"
    }
   },
   "source": [
    "#### Las desintegraciones del bosón de Higgs\n",
    "\n",
    "La interacción del Higgs con los fermiones y bosones vectoriales determina sus fracciones de desintegración.\n",
    "\n",
    "| | \n",
    "| :--: |\n",
    "|  <img src=\"./imgs/sm_higgs_decay.png\" width = 400 align=\"center\"> |\n",
    "| Canales de desintegración principales del Higgs |\n",
    "\n",
    "Notar que el Higgs se acopla a sus canales de desintegración proporcionalmente a la masa de éstos:\n",
    "\n",
    "\n",
    "|  ---- fermión ---- |  ---- bosones $W^\\pm$  -----  | ------ bosón $Z$ ------ |\n",
    "| :--: | :--: | :--: |\n",
    "| $\\frac{\\lambda_f}{\\sqrt{2}} = \\frac{m_f}{v} $ | $g_Z m_W $| $ g_Z m_Z$ |\n"
   ]
  },
  {
   "cell_type": "markdown",
   "metadata": {
    "slideshow": {
     "slide_type": "slide"
    }
   },
   "source": [
    "Las fracciones de desintegracción de Higgs dependeran a qué canales pueda desintegrarse dependiendo de su masa.\n",
    "\n",
    "Como el acoplo del Higgs es proporcional a la masa, aquellos canales permitidos con mayor masa son los favorecidos.\n",
    "\n",
    "| --------- canal ------- | ----- $Br$ ----- |\n",
    "| :--          | --: | \n",
    "| $H\\to b + \\bar{b}$ | 57.8 % |\n",
    "| $H \\to W^+ + W^-$  | 21.6 % |\n",
    "| $H \\to \\tau + \\tau^+$| 6.4 % |\n",
    "| $H \\to g + g$         |  8.6 % |\n",
    "| $H \\to c + \\bar{c}$   | 2.9 % |\n",
    "| $H \\to Z + Z^*$       | 2.7 % |\n",
    "| $H \\to \\gamma + \\gamma$| 0.2 % |\n",
    "\n",
    "En la tabla se muestran las fracciones de desintegración del Higgs para $m_H = 125$ GeV.\n",
    "\n",
    "*Nota adicional* Las desintegraciones $H\\to \\gamma + \\gamma, H \\to g + g$ ocurren a través de diagramas de lazo, por ejemplo, con el intercambio en triángulo de un $t$."
   ]
  },
  {
   "cell_type": "markdown",
   "metadata": {
    "slideshow": {
     "slide_type": "slide"
    }
   },
   "source": [
    "### Descubrimiento del bosón de Higgs\n",
    "\n",
    "El bosón de Higgs se descubrió en 2012 en los experimentos ATLAS y CMS del LHC del CERN.\n",
    "\n",
    "Con anterioridad los experimentos de LEP y los experimentos CDF y D0 de Fermilab habían constreñido el valor de su masa más ligera entre: $115-150$ GeV.\n",
    "\n",
    "Los experimentos y el acelerador LHC se diseñaron en los 90's y su operación se inición a finales de los 2000's.\n",
    "\n",
    "En el LHC colisionan $p+p$ a una energía $\\sqrt{s}= 7- 13$ TeV y con una luminosidad $\\mathcal{L}(t) = 10^{34} \\; \\mathrm{cm}^{-2}$. Hay $10^{11}$ protones por paquete y una frecuencia de colisión de 40 MHz (cada 25 ns).\n",
    "\n",
    "El número de colisiones $10^{9}$ por segundo y por cada cruce hay como máximo $35$ colisiones, lo que de denomila *pile-up* (apilamiento)."
   ]
  },
  {
   "cell_type": "markdown",
   "metadata": {
    "slideshow": {
     "slide_type": "slide"
    }
   },
   "source": [
    "Las sección eficaz $p+p$ is del ~100 mbars en el LHC.\n",
    "\n",
    "Las sección eficaz medida de producción del $H$ para $\\sqrt{s}=13$ TeV es 54 pbarns.\n",
    "\n",
    "Los canales de desintegración dónde la señal es más fácil distinguible del fondo son $H\\to Z+Z^*$ y $H \\to \\gamma \\gamma$.\n",
    "\n",
    "Eso equivale a buscar una desintegración relevante entre $10^{13}$."
   ]
  },
  {
   "cell_type": "markdown",
   "metadata": {
    "slideshow": {
     "slide_type": "slide"
    }
   },
   "source": [
    "#### El descubrimiento del Higgs en ATLAS y CMS\n",
    "\n",
    "\n",
    "En la figura se muestra el esquema del experimento CMS del LHC:\n",
    "\n",
    "| |\n",
    "|:-- |\n",
    "| <img src=\"./imgs/det_CMS_subdetectors.png\" width = 500 align = \"center\"> |\n",
    "| Esquema de un sector del *Compact Muon Selenoid* ([CMS](https://cms.cern/detector)) del LHC|\n"
   ]
  },
  {
   "cell_type": "markdown",
   "metadata": {
    "slideshow": {
     "slide_type": "slide"
    }
   },
   "source": [
    "El Higgs se descubrió en dos canales limpios (donde los sucesos de contaminación son o afectan menos).\n",
    "\n",
    "  * $H \\to \\gamma + \\gamma$, buscando dos deposiciones en el calorímetro electromagnético, $\\gamma$.\n",
    "  \n",
    "  Se calcula la masa invariante de los dos $\\gamma$, $m_{\\gamma\\gamma}$, que provienen del punto de interacción.\n",
    "\n",
    "\n",
    "  * En el canal $H \\to Z + Z^* \\to (l+l^+) + (l'+l'^+)$, en cuatro leptones ($4l$), agrupados en dos parejas del mismo sabor y carga opuesta.\n",
    "  \n",
    "  Se calcula la masa invariante de los 4 leptones, $m_{4l}$.\n",
    "   "
   ]
  },
  {
   "cell_type": "markdown",
   "metadata": {
    "slideshow": {
     "slide_type": "slide"
    }
   },
   "source": [
    "La siguiente figura muestra la presenta la distribución de la masa invariante de $2 \\gamma$ (izda) para el caso de CMS y de $(4 l)$ para el caso de ATLAS con la estadística de Run-I del LHC \n",
    "\n",
    "| | \n",
    "| :--: |\n",
    "|  <img src=\"./imgs/sm_higgs_CMS_ATLAS.png\" width = 600 align=\"center\"> |\n",
    "| masa invariante para $H \\to \\gamma \\gamma$ (izda, [CMS]) y $H \\to Z+ Z^* \\to 4 l$ (derecha, [ATLAS])|\n"
   ]
  },
  {
   "cell_type": "markdown",
   "metadata": {
    "slideshow": {
     "slide_type": "slide"
    }
   },
   "source": [
    "Observamos:\n",
    "    \n",
    "   * La presencia de un pico en la masa invariante en ambas distribuciones a 125 GeV.\n",
    "   \n",
    "   * Ese pico es incompatible con el fondo, en combinación a ~6 desviaciones estandars. \n",
    "  \n",
    "Con los datos del run-I del LHC se pudo concluir además:\n",
    "   \n",
    "   * que se trataba de una partícula escalar a partir de las distribuciones angulares de los $(4l)$ en el canal $H\\to 4 l$.\n",
    "   \n",
    "   * que el acoplo a otros canales $\\tau\\tau^+, b \\bar{b}$ es el esperado por el SM"
   ]
  },
  {
   "cell_type": "markdown",
   "metadata": {
    "slideshow": {
     "slide_type": "slide"
    }
   },
   "source": [
    "En la figura dos eventos de ATLAS, identificados como $H \\to \\gamma\\gamma$ (izda) y $H \\to e+e^++\\mu+\\mu^+$\n",
    "\n",
    "| | |\n",
    "| :--: | :--: |\n",
    "|  <img src=\"./imgs/sm_atlas_h2gammas_event.png\" width = 320 align=\"center\"> | <img src=\"./imgs/sm_atlas_h4leptons_event.png\" width = 320 align=\"center\"> |\n",
    "| $H \\to \\gamma + \\gamma$ event | $H \\to 4l$ event [ATLAS events](https://twiki.cern.ch/twiki/bin/view/AtlasPublic/EventDisplaysFromHiggsSearches) |"
   ]
  },
  {
   "cell_type": "markdown",
   "metadata": {
    "slideshow": {
     "slide_type": "slide"
    }
   },
   "source": [
    "## Conclusions\n",
    "\n",
    "El SM:\n",
    "\n",
    "  * El SM clasifica las partículas conocidas y describe con precisión las interacciones electrodébiles y fuertes entre ellas.\n",
    "  \n",
    "  * El SM se ha verificado en una gran cantidad de procesos físicos.\n",
    "  \n",
    "  * No obstante sabemos que los neutrinos tienen masa, lo que implica que debemos extender el SM.\n",
    "  \n",
    "Pero:\n",
    "  \n",
    "  * No incluye otra Física conocida, como la materia oscura, ¿qué partículas la forman?\n",
    "  \n",
    "  * El modelo tiene cinco parámetros fundamentales $e, g_W, g_S, v, \\lambda$, dos de ellos corresponden al Higgs. Experimentalmente $\\alpha, G_L, \\alpha_S, M_Z, M_H$.\n",
    "\n",
    "  * Tiene 9 parámetros adionales, que son los acoplos de Yukawa (las masas de los leptones cargados y de los quarks); 4 más para acomodar la matriz CKM de los quarks, y 4 más para la PNMS de los leptones (la que rige las ocilaciones de neutrinos). \n"
   ]
  },
  {
   "cell_type": "markdown",
   "metadata": {
    "slideshow": {
     "slide_type": "slide"
    }
   },
   "source": [
    "### cuestiones abiertas\n",
    "\n",
    " * ¿Es el neutrino su propia antipartícula? ¿Cómo se acopla al Higgs?\n",
    "\n",
    " * ¿Cuál es el origen de los valores de masas? ¿Por qué es tan pequeña la del neutrino?\n",
    "\n",
    " * ¿Por qué hay 3 familias? ¿Qué relación guardan, si la hay, la matriz CKM y PNMS?\n",
    "\n",
    " * ¿Es el Higgs único? ¿Es el Higgs compuesto?\n",
    " \n",
    " * ¿Cuál es el origen del potencial del bosón de Higgs, $V(\\Phi)$?\n",
    " \n",
    " * ¿Hasta qué escala de energía, $\\Lambda$, es válido el SM? ¿A qué energía aparecerá nueva física?\n"
   ]
  },
  {
   "cell_type": "markdown",
   "metadata": {
    "slideshow": {
     "slide_type": "slide"
    }
   },
   "source": [
    "## Bibliografía\n",
    "\n",
    "\n",
    "  * [MT] Mark Tomsom, \"Modern Particle Physics\", Cambridge U. press, Temas 15, 16 y 17.\n",
    "  \n",
    "  * [AB] Alessandro Bettini, \"Introduction to Elementary Particle Physcs\", Cambridge U. press, Tema 9. \n",
    "  \n",
    "  * [PK] M. Peskik, Lectures on the Theory of the Weak Interaction, SLAC–PUB–17142, (2017), [arXiv:1708.0943v1](https://arxiv.org/abs/1708.09043)\n",
    "  \n",
    "  * [PDG](https://pdg.lbl.gov/) Particle Data Group.\n",
    "  \n",
    "  * [LEP-SLD] LEP and SLD Collaborations. 2006. Phys. Rept., 427, 257–454.\n",
    "  \n",
    "  * [DELPHI] P. Abreu et al., DELPHI Collaboration, *Eur. Phys. J.* **C 11**, 383 (1999).\n",
    "  \n",
    "  * [ALEPH] D. Decamp et al., ALEPH Collaboration, *Z. Phys.* **C 48**, 365 (1990)\n",
    "\n",
    "  * [CMS] V. Khachatryan et al., CMS Collaboration, *Eur. Phys. J.* **C 74**, no. 10, 3076 (2014) [arXiv:1407.0558](https://arxiv.org/abs/1407.0558) \n",
    "  \n",
    "  * [ATLAS] G. Aad et al., ATLAS Collaboration, *Phys. Lett.* **B 726**, 88 (2013) Erratum: [Phys. Lett. B 734, 406 (2014)] [arXiv:1307.1427](https://arxiv.org/abs/1307.1427)"
   ]
  }
 ],
 "metadata": {
  "anaconda-cloud": {},
  "celltoolbar": "Slideshow",
  "kernelspec": {
   "display_name": "base",
   "language": "python",
   "name": "python3"
  },
  "language_info": {
   "codemirror_mode": {
    "name": "ipython",
    "version": 3
   },
   "file_extension": ".py",
   "mimetype": "text/x-python",
   "name": "python",
   "nbconvert_exporter": "python",
   "pygments_lexer": "ipython3",
   "version": "3.9.13"
  }
 },
 "nbformat": 4,
 "nbformat_minor": 4
}
