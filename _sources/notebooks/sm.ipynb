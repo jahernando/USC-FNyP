{
 "cells": [
  {
   "cell_type": "markdown",
   "metadata": {
    "slideshow": {
     "slide_type": "slide"
    }
   },
   "source": [
    "# Sobre el Modelo Estándar\n"
   ]
  },
  {
   "cell_type": "code",
   "execution_count": 2,
   "metadata": {
    "slideshow": {
     "slide_type": "fragment"
    }
   },
   "outputs": [
    {
     "name": "stdout",
     "output_type": "stream",
     "text": [
      " Last version  Thu Oct 16 16:11:31 2025\n"
     ]
    }
   ],
   "source": [
    "import time\n",
    "print(' Last version ', time.asctime() )"
   ]
  },
  {
   "cell_type": "code",
   "execution_count": 3,
   "metadata": {
    "slideshow": {
     "slide_type": "slide"
    }
   },
   "outputs": [],
   "source": [
    "# general imports\n",
    "%matplotlib inline\n",
    "%reload_ext autoreload\n",
    "%autoreload 2\n",
    "\n",
    "# numpy and matplotlib\n",
    "import numpy as np\n",
    "import matplotlib\n",
    "import matplotlib.pyplot as plt\n",
    "\n",
    "import scipy.constants as units"
   ]
  },
  {
   "cell_type": "markdown",
   "metadata": {
    "slideshow": {
     "slide_type": "slide"
    }
   },
   "source": [
    "### Objetivos\n",
    "  \n",
    "Conocer:\n",
    "  \n",
    "  * Los elementos principales de la unificación electrodébil.\n",
    "  \n",
    "  * La física principal del bosón $Z$. La anchura de desintegración del $Z$ y la existencia de tres neutrinos.\n",
    "  \n",
    "  * Los elementos que permiten que el bosón de Higgs dote de la masa de los fermiones. \n",
    "  \n",
    "  * El descubrimiento del bosón de Higgs."
   ]
  },
  {
   "cell_type": "markdown",
   "metadata": {
    "slideshow": {
     "slide_type": "slide"
    }
   },
   "source": [
    "## Introducción\n",
    "\n",
    "El Modelo Estándar (SM) es uno de los grandes logros de la Física del siglo XX. Describe con gran precisión todos los resultados experimentales obtenidos en Física de Partículas, con la excepción de los fenómenos de oscilación de neutrinos.\n",
    "\n",
    "No obstante sabemos que el modelo es incompleto, ya que no explica ciertos aspectos fundamentales del Universo, como la asimetría materia–antimateria o la naturaleza de la materia oscura."
   ]
  },
  {
   "cell_type": "markdown",
   "metadata": {
    "slideshow": {
     "slide_type": "slide"
    }
   },
   "source": [
    "El SM se construye a partir de varios principios esenciales:\n",
    "\n",
    "* El modelo debe **incorporar las partículas e interacciones conocidas**, y **respetar las leyes de conservación** observadas experimentalmente. En particular, debe reproducir hechos empíricos como la violación de paridad en las corrientes débiles cargadas.\n",
    "\n",
    "* Debe estar formulado mediante **un lagrangiano invariante de Lorentz y unitario**, en cumplimiento de los principios de la relatividad especial y la mecánica cuántica.\n",
    "\n",
    "* Las interacciones entre fermiones y campos vectoriales emergen de la **invariancia gauge local del lagrangiano**. Este principio, central en la teoría cuántica de campos, garantiza la renormalizabilidad de la teoría: que las cantidades físicas observables sean finitas y bien definidas.\n",
    "\n",
    "* Finalmente, el mecanismo de Higgs proporciona una forma coherente de generar la masa de los bosones $W^\\pm$ y $Z$, así como de los fermiones, sin romper la invariancia gauge fundamental del modelo."
   ]
  },
  {
   "cell_type": "markdown",
   "metadata": {
    "slideshow": {
     "slide_type": "slide"
    }
   },
   "source": [
    "### Hitos de la creacción del SM\n",
    "\n",
    "* 1961–1967 — Formulación de la teoría electrodébil por S. Glashow, A. Salam y S. Weinberg, unificando las interacciones electromagnética y débil.\n",
    "\n",
    "* 1964 — Desarrollo del mecanismo de Higgs por F. Englert y R. Brout, y de forma independiente por P. Higgs, introduciendo el campo y el bosón asociados a la ruptura espontánea de simetría gauge.\n",
    "\n",
    "* 1973 — Descubrimiento de las corrientes neutras en el experimento Gargamelle (CERN), confirmando una de las predicciones clave del modelo electrodébil.\n",
    "\n",
    "* 1973 — G. ’t Hooft y M. Veltman demuestran la renormalizabilidad de las teorías gauge con rotura de simetría mediante el mecanismo de Higgs, consolidando la consistencia matemática del Modelo Estándar."
   ]
  },
  {
   "cell_type": "markdown",
   "metadata": {
    "slideshow": {
     "slide_type": "slide"
    }
   },
   "source": [
    "* 1983 — C. Rubbia y colaboradores (en el experimento UA1, CERN) descubren los bosones $W^\\pm$ y $Z$, las partículas mediadoras de la interacción débil.\n",
    "\n",
    "* Década de 1990 — Los experimentos de precisión en LEP (CERN) confirman las predicciones del Modelo Estándar, incluyendo la física del bosón $Z$ y la existencia de tres familias de neutrinos.\n",
    "\n",
    "* 2012 — Descubrimiento del bosón de Higgs por los experimentos ATLAS y CMS del LHC (CERN), completando el esquema del Modelo Estándar."
   ]
  },
  {
   "cell_type": "markdown",
   "metadata": {
    "slideshow": {
     "slide_type": "slide"
    }
   },
   "source": [
    "## Unificación electrodébil\n",
    "\n",
    "### El descubrimiento de las corrientes neutras\n",
    "\n",
    "En los años 60 se sospechaba de la posible existencia de un nuevo mediador débil neutro, el bosón vectorial $Z$. En particular la sección eficaz del proceso $e^+ + e \\to W^+ + W^-$ crecía infinitamente con la energía si en su cálculo solo intervenía como mediador el fotón, pero si se consideraba la mediación de un $Z$, la sección eficaz se moderaba y alcazaba un valor máximo.\n",
    "\n",
    "La predición más genuina de la presencia de un $Z$ era la existencia de corrientes débiles neutras, y de forma límpia entre neutrinos. Los neutrinos podrían ahora interactuar débilmente con la materia, mediante el $Z$, y, si tenían suficiente energía, romper los nucleones y producir hadrones sin dar lugar a su leptón cargado asociado:\n",
    "\n",
    "$$\n",
    "\\nu_\\mu + N \\to \\nu_\\mu + \\mathrm{hadrones}\n",
    "$$\n",
    "\n",
    "donde $N$ es un nucleón."
   ]
  },
  {
   "cell_type": "markdown",
   "metadata": {
    "slideshow": {
     "slide_type": "slide"
    }
   },
   "source": [
    "\n",
    "[Gargamelle](https://home.cern/science/experiments/gargamelle)\n",
    ", en el CERN, en los años 70, fue el experimento que observó por primera vez las corrientes neutras. Utilizando un haz compuesto principalmente por $\\nu_\\mu$, estudió las interacciones de estos neutrinos con los nucleones del blanco.\n",
    "\n",
    "* En las corrientes cargadas, los neutrinos producían un $\\mu$, una partícula altamente penetrante:\n",
    "$$\n",
    "\\nu_\\mu + N \\to \\mu + X\n",
    "$$\n",
    "\n",
    "\n",
    "* En las corrientes neutras, el neutrino escapaba indetectado, pero la ruptura del nucleón dejaba trazas observables:\n",
    "\n",
    "$$\n",
    "\\nu_\\mu + N \\to \\nu_\\mu + X\n",
    "$$\n",
    "\n",
    "donde $X$ representa los posibles hadrones."
   ]
  },
  {
   "cell_type": "markdown",
   "metadata": {
    "slideshow": {
     "slide_type": "slide"
    }
   },
   "source": [
    "\n",
    "Gargamelle era una gran cámara de burbujas ubicada en un campo magnético, donde se tomaban fotografías sincronizadas con la llegada del haz de neutrinos.\n",
    "\n",
    "La figura muestra una de las primeras corrientes neutras observada. A la llegada del neutrino se produce un puñado de trazas y ningún muón. \n",
    "\n",
    "| |\n",
    "|:--:|\n",
    "|<img src=\"./imgs/sm_gargamelle_event.jpeg\" width = 400 align=\"center\">|\n",
    "| Evento de corriente neutra observado en [Gargamelle](https://en.wikipedia.org/wiki/Gargamelle) [CERN]|\n",
    "\n",
    "Las mediciones de la frecuencia con las que suceden las corrientes neutras con respecto a las cargadas que realizó Gargamelle mostraron un buen acuerdo con las prediciones del modelo estándar y supusieron la primera confirmación seria de la vigencia del mismo.\n"
   ]
  },
  {
   "cell_type": "markdown",
   "metadata": {
    "slideshow": {
     "slide_type": "slide"
    }
   },
   "source": [
    "### La interacción electromagnética y la invariancia gauge\n",
    "\n",
    "Vamos ahora a introducir brevemente el modelo estándar, dar unas pautas de cómo surgen los bosones vectoriales y sus interacciones débiles y cargadas.\n",
    "\n",
    "A partir de este punto es necesario introducir los lagrangianos. \n"
   ]
  },
  {
   "cell_type": "markdown",
   "metadata": {
    "slideshow": {
     "slide_type": "slide"
    }
   },
   "source": [
    "\n",
    "Los lagrangianos y las ecuaciones del movimiento de los **campos libres** son:\n",
    "\n",
    "| | | | |\n",
    "| :--: |:--: | :--: | :--: |\n",
    "| ----- Tipo ----- | ----- Escalar Complejo ------ | -------- Espinor -------- | -- Bosón vectorial ----- |\n",
    "| | Klein-Gordon | Dirac | Maxwell |\n",
    "|Ecuación | $(\\partial^\\mu\\partial_\\mu + m^2) \\, \\phi = 0$ | $(i\\gamma^\\mu \\partial_\\mu - m) \\, \\Psi = 0$ | $\\partial_\\mu F^{\\mu\\nu} = 0$ |\n",
    "|Lagrangiano| $(\\partial_\\mu \\phi)^* (\\partial^\\mu \\phi) - m^2 \\phi^* \\phi$ | $i\\bar{\\Psi}\\gamma^\\mu \\partial_\\mu \\Psi - m \\bar{\\Psi}\\Psi$|  $-\\frac{1}{4}F^{\\mu\\nu}F_{\\mu\\nu}$|\n",
    "\n",
    "Donde:\n",
    "\n",
    "$$\n",
    "F_{\\mu\\nu} = \\partial_\\mu A_\\nu - \\partial_\\nu A_\\mu\n",
    "$$\n",
    "\n",
    "Pero la física *interesante* sucede en la **interacción entre los campos**."
   ]
  },
  {
   "cell_type": "markdown",
   "metadata": {
    "slideshow": {
     "slide_type": "slide"
    }
   },
   "source": [
    "La interacción electromagnética surge al exigir que el lagrangiano de fermiones sea **invariance gauge local**.\n",
    "\n",
    "Podemos verificar fácilmente que el lagragiano de Dirac es invariante bajo una cambio de fase global $\\theta$\n",
    " en el espinor $\\Psi(x)$.\n",
    "\n",
    "$$\n",
    "\\Psi'(x) \\to e^{i q\\, \\theta} \\,\\, \\Psi(x)\n",
    "$$\n",
    "\n",
    "donde $q$ es la carga eléctrica del fermión.\n",
    "\n",
    "Para que el lagrangiano sea invariante bajo una transformación local, esto es, con un cambio de fase que depende localmente, $\\theta(x)$, \n",
    "\n",
    "$$\n",
    "\\Psi'(x) \\to e^{i q\\, \\theta(x)} \\, \\Psi(x)\n",
    "$$\n",
    "\n",
    "Debemos considerar conjuntamente la existencia del campo fermiónico con el del campo vectorial de fotón."
   ]
  },
  {
   "cell_type": "markdown",
   "metadata": {
    "slideshow": {
     "slide_type": "slide"
    }
   },
   "source": [
    "Para ello, debemos sustituir la derivada covariante por la derivada covariante generalizada.\n",
    "\n",
    "$$\n",
    "D_\\mu = \\partial_\\mu + i q A_\\mu\n",
    "$$\n",
    "\n",
    "\n",
    "El lagrangiano conjunto del fermión cargado y el fotón es:\n",
    "\n",
    "$$\n",
    "\\mathcal{L}  = i \\bar{\\Psi} \\gamma^\\mu D_\\mu \\Psi - m \\bar{\\Psi} \\Psi  - \\frac{1}{4} F_{\\mu\\nu}F^{\\mu\\nu}  \\\\\n",
    "=  i \\bar{\\Psi} \\gamma^\\mu \\partial_\\mu \\Psi  - q  \\, \\bar{\\Psi} \\gamma^\\mu \\Psi  A_\\mu - m \\bar{\\Psi}\\Psi- \\frac{1}{4} F_{\\mu\\nu}F^{\\mu\\nu}\n",
    "$$\n",
    "\n",
    "Aquí, $q$, es la carga eléctrica del fermión.\n",
    "\n",
    "De esta forma, la interacción con el fotón emerge de la simetría, y no se introduce “a mano”, cumpliendo el principio fundamental de invarianza gauge."
   ]
  },
  {
   "cell_type": "markdown",
   "metadata": {
    "slideshow": {
     "slide_type": "subslide"
    }
   },
   "source": [
    "*ejercicio:* Verifica que el lagrangiano anterior es efectivamente invariante gauge local.\n",
    "\n",
    "Usar que la parte del campo vectorial no se ve afectado por un cambio:\n",
    "\n",
    "$$\n",
    "A'_\\mu(x) = A_\\mu(x) - \\partial_\\mu \\theta(x)\n",
    "$$"
   ]
  },
  {
   "cell_type": "markdown",
   "metadata": {
    "slideshow": {
     "slide_type": "slide"
    }
   },
   "source": [
    "En el lagrangiano, el término:\n",
    "\n",
    "$$\n",
    " q \\bar{\\Psi} \\gamma^\\mu \\Psi \\, A_\\mu\n",
    "$$\n",
    "\n",
    "corresponde a la interacción entre un fermión cargado con carga $q$ y el fotón, y tiene asociado el siguiente vértice de los diagramas de Feynman.\n",
    "\n",
    "| |\n",
    "|:--:|\n",
    "|<img src=\"./imgs/sm_emcur.png\" width = 250 align=\"center\">|\n",
    "| vértice electromagnético $Q$, es la carga eléctrica en unidades de $e$|\n",
    "\n",
    "La corriente fermíonica $\\bar{\\Psi}\\gamma^\\mu \\Psi$ se acompla con un fotón $A_\\mu$ con una intensidad dada por su carga $q = Qe$ (dende $e$ es la carga eléctrica y $Q$ la carga del fermión en unidades de $e$).\n"
   ]
  },
  {
   "cell_type": "markdown",
   "metadata": {
    "slideshow": {
     "slide_type": "subslide"
    }
   },
   "source": [
    "Decimos que el lagrangiano tiene una simetría $U(1)$, o es invariante, bajo un cambio de fase.\n",
    "\n",
    "\n",
    "G. t'Hooft demostró que los lagrangianos con invariance gauge local son *renormalizables*, esto es, al cuantificar los campos y calcular las secciones eficaces se pueden obtener resultados finitos. \n"
   ]
  },
  {
   "cell_type": "markdown",
   "metadata": {
    "slideshow": {
     "slide_type": "slide"
    }
   },
   "source": [
    "### Teoría electro-débil\n",
    "\n",
    "Respecto a las interacciones débiles cargadas, mediadas por los $W^\\pm$, sabemos que:\n",
    "\n",
    "* Solo intervienen los espinores de quiralidad izquierda.\n",
    "\n",
    "* Siempre aparecen en pares. En la primera familia, los pares son:\n",
    "\n",
    "\n",
    "  $$\n",
    "  \\begin{pmatrix} \\nu_e \\\\ e \\end{pmatrix}, \\;\\;\\;   \\begin{pmatrix} u \\\\ d \\end{pmatrix}\n",
    "  $$"
   ]
  },
  {
   "cell_type": "markdown",
   "metadata": {
    "slideshow": {
     "slide_type": "slide"
    }
   },
   "source": [
    "Para preservar los dos hechos anteriores, la **teoría electrodébil** se construye a partir de:\n",
    "\n",
    "* considerar que los **fermiones no tienen masa** -por el momento-\n",
    "\n",
    "* situar los espinores de izquierdas en un duplete de un espacio interno que llamaremos **isospín débil** de $SU(2)$ y los de derechas en singletes:\n",
    "\n",
    "$$\n",
    "L  \\equiv \\begin{pmatrix} \\Psi^{\\nu_e}_L \\\\ \\Psi^{e}_L \\end{pmatrix}; \\;\\; \\Psi^{e}_R\n",
    "$$\n",
    "$$\n",
    "Q  \\equiv \\begin{pmatrix} \\Psi^{u}_L \\\\ \\Psi^{d}_L \\end{pmatrix}; \\;\\; \\Psi^{u}_R, \\,\\Psi^{d}_R\n",
    "$$\n",
    "\n",
    "\n",
    "Notar que, por construcción, el neutrino solo tiene componente de quiralidad a izquierdas. Y también que los fermiones deben carecer de masa para poder separar las dos componentes de quiralidad en campos independientes."
   ]
  },
  {
   "cell_type": "markdown",
   "metadata": {
    "slideshow": {
     "slide_type": "slide"
    }
   },
   "source": [
    "Con esta configuración, el lagrangiano de la primera familia de leptones se puede escrbir como:\n",
    "\n",
    "$$\n",
    "i\\bar{L} \\gamma^\\mu \\partial_\\mu L + i \\bar{\\Psi}^e_R \\gamma^\\mu \\partial_\\mu \\Psi^e_R \n",
    "$$\n",
    "\n",
    "El primer término es un producto escalar entre dos dupletes. \n",
    "\n",
    "Recodemos que no hay término de masas, ya que consideramos fermiones sin masa."
   ]
  },
  {
   "cell_type": "markdown",
   "metadata": {
    "slideshow": {
     "slide_type": "slide"
    }
   },
   "source": [
    "Si desarrollamos el primer término, el asociado al duplete, obtenemos:\n",
    "\n",
    "$$\n",
    "i \\bar{L} \\gamma^\\mu  \\partial_\\mu L = \n",
    "i \\begin{pmatrix} \\bar{\\Psi}^{\\nu}_L, \\bar{\\Psi}^{e}_L \\end{pmatrix} \\gamma^\\mu \\partial_\\mu \\begin{pmatrix} \\Psi^{\\nu}_L \\\\ \\Psi^{e}_L \\end{pmatrix} = \\\\\n",
    "i \\bar{\\Psi}^{\\nu}_L \\gamma^\\mu  \\partial_\\mu \\Psi^{\\nu}_L + i \\gamma^\\mu \\bar{\\Psi}^{e}_L \\gamma^\\mu  \\partial_\\mu \\Psi^{e}_L   \\\\\n",
    "$$\n",
    "\n",
    "Si añadimos ahora  de nuevo el segundo término, el asociado al singlete, obtenemos: \n",
    "\n",
    "$$\n",
    "i \\bar{\\Psi}^{\\nu}_L \\gamma^\\mu  \\partial_\\mu \\Psi^{\\nu}_L + i \\gamma^\\mu \\bar{\\Psi}^{e}_L \\gamma^\\mu  \\partial_\\mu \\Psi^{e}_L + i \\gamma^\\mu \\bar{\\Psi}^{e}_R \\gamma^\\mu  \\partial_\\mu \\Psi^{e}_R \n",
    "$$\n",
    "\n",
    "donde hemos usado que:\n",
    "\n",
    "$$\n",
    "\\bar{\\Psi}^{e} \\gamma^\\mu  \\partial_\\mu \\Psi^e  = \\bar{\\Psi}^{e}_L \\gamma^\\mu  \\partial_\\mu \\Psi^{e}_L + \\bar{\\Psi}^{e}_R \\gamma^\\mu  \\partial_\\mu \\Psi^{e}_R\n",
    "$$\n",
    "\n",
    "de esta forma, recuperamos la forma inicial del lagrangiano de Dirac para un neutrino y un electrón sin masa:\n",
    "\n",
    "$$\n",
    "i \\bar{\\Psi}^{\\nu}_L \\gamma^\\mu  \\partial_\\mu \\Psi^{\\nu}_L + i \\bar{\\Psi}^{e} \\gamma^\\mu  \\partial_\\mu \\Psi^e   \n",
    "$$\n"
   ]
  },
  {
   "cell_type": "markdown",
   "metadata": {
    "slideshow": {
     "slide_type": "slide"
    }
   },
   "source": [
    "El lagrangiano de la primera familia, la parte del duplete,\n",
    "\n",
    "$$\n",
    "i\\bar{L} \\gamma^\\mu \\partial_\\mu L + i \\bar{\\Psi}^e_R \\gamma^\\mu \\partial_\\mu \\Psi^e_R \n",
    "$$\n",
    "\n",
    "es ahora invariante bajo cuatro cambios de fase:\n",
    "\n",
    "| | | \n",
    "| :--: | :--: | \n",
    "| del grupo $U(1)$ | del grupo $SU(2)$ | \n",
    "|  $L' = e^{i\\theta} \\, L$ |   $L' = e^{i\\theta_i \\frac{\\sigma^i}{2}} \\, L$ | \n",
    "\n",
    "Recordemos que el generador de las rotaciones en $U(1)$ es la identidad, 1, y en $SU(2)$ los generadores son las matrices de Pauli $\\sigma^i/2$."
   ]
  },
  {
   "cell_type": "markdown",
   "metadata": {
    "slideshow": {
     "slide_type": "subslide"
    }
   },
   "source": [
    "*cuestión*: verificar que el lagrangiano anterior es invariante\n",
    "\n",
    "Respecto a la rotación $U(\\theta)$:\n",
    "\n",
    "$$\n",
    "U(\\theta) = e^{i\\theta_i \\frac{\\sigma^i}{2}}\n",
    "$$\n",
    "\n",
    "$$\n",
    "L' = U(\\theta) \\, L, \\;\\; \\bar{L}' = U^\\dagger(\\theta) L\n",
    "$$\n",
    "\n",
    "luego\n",
    "$$\n",
    "i \\bar{L}' \\gamma^\\mu \\partial_\\mu L' = i \\bar{L} U^\\dagger \\gamma^\\mu U \\partial_\\mu L =  \n",
    "i \\bar{L} U^\\dagger U \\gamma_\\mu \\partial_\\mu L = i \\bar{L} \\gamma^\\mu \\partial_\\mu L\n",
    "$$\n",
    "\n",
    "dado que:\n",
    "\n",
    "$$\n",
    "U^\\dagger U = I\n",
    "$$"
   ]
  },
  {
   "cell_type": "markdown",
   "metadata": {},
   "source": [
    "Exigiendo que la invariancia del lagrangiano sera local, para cada una de las posibles fases aparece ahora un campo vectorial y la interacción entre el fermión y los campos.\n",
    "\n",
    "Omitimos aquí el desarrollo de la teoría electrodébil, que contiene detalles sutiles muy importantes, entre ellos cómo aparece en ángulo de Weinberg, (ver la extensión y [MT]), para indicar que los campos vectoriales físicos son:\n",
    "\n",
    "$$\n",
    "W_\\mu^\\pm, \\, Z_\\mu, \\, A_\\mu\n",
    "$$\n",
    "\n",
    "Los $W^\\pm_\\mu$ son bosones vectoriales cargados, con carga eléctrica $\\pm e$, y los campos $Z_\\mu, A_\\mu$, son bosones vectoriales neutros. El campo $A_\\mu$ corresponde al fotón y $Z_\\mu$ al bosón vectorial neutro $Z$."
   ]
  },
  {
   "cell_type": "markdown",
   "metadata": {
    "slideshow": {
     "slide_type": "slide"
    }
   },
   "source": [
    "La teoría electrodébil tiene solo dos parámetros: \n",
    "\n",
    "  * La **carga eléctrica**, $e$, -o si se prefiere la constante de estrucura fina, $\\alpha$-.\n",
    "  \n",
    "  * El acoplo débil $g_W$.\n",
    "\n",
    "En vez de $g_W$ en la Literatura se utiliza por razones históricas **el ángulo de Weinberg**, $\\theta_W$, cuyo valor se conoce con precisión:\n",
    "\n",
    "$$\n",
    "\\sin^2 \\theta_W = 0.23146 \\pm 0.000012\n",
    "$$\n",
    "\n",
    "\n",
    "La relación de las constante de acoplo con $e$ y $\\theta_W$ es\n",
    "\n",
    "| | | | \n",
    "| :--: | :--: | :--: |\n",
    "| electromagnética | ------  débil cargada -------- | --------- débil neutra -------------|\n",
    "| $e$ |  $g_W = \\frac{e}{\\sin \\theta_W}$ | $g_Z  = \\frac{g_W}{\\cos \\theta_W} = \\frac{e}{\\sin \\theta_W \\cos \\theta_W}$ |"
   ]
  },
  {
   "cell_type": "markdown",
   "metadata": {
    "slideshow": {
     "slide_type": "slide"
    }
   },
   "source": [
    "\n",
    "En el lagrangiano aparecen ahora cuatro términos de interacción entre cada uno de los campos bosónicos y los fermiones, que son:\n",
    "\n",
    "| | | \n",
    "| :--: | :--: | \n",
    "| corriente | ----------------------   forma ----------------------------- | \n",
    "| electromagnética |  $Q e \\, (\\bar{\\Psi} \\gamma^\\mu \\Psi) \\, A_\\mu$ |\n",
    "| débil cargada | $\\frac{g_W}{\\sqrt{2}} (\\bar{L} \\gamma^\\mu \\sigma^+ L) \\, W^+_\\mu + \\frac{g_W}{\\sqrt{2}} (\\bar{L} \\gamma^\\mu \\sigma^- L) \\, W^-_\\mu$ |\n",
    "| débil neutra | $g_Z \\left( c_L \\, \\bar{\\Psi}_L \\gamma^\\mu \\Psi_L + c_R \\, \\bar{\\Psi}_R \\gamma^\\mu \\Psi_R \\right) \\, Z_\\mu $|\n",
    "\n",
    "donde: \n",
    "\n",
    "  * $Q$ es la carga del fermión en unidades del electrón, esto es, $-1$ para el electrón.\n",
    "\n",
    "  * $\\sigma^\\pm = (\\sigma^1\\pm i\\sigma^2)/2$, son las matrices escalera que conectan los elementos de arriba con los de abajo del duplete.\n",
    "\n",
    "  * $c_L, c_R$, son dos coeficientes que dependen de la carga eléctrica del fermión y de su posición en el duplete."
   ]
  },
  {
   "cell_type": "markdown",
   "metadata": {
    "slideshow": {
     "slide_type": "slide"
    }
   },
   "source": [
    "Si desarrollamos el término de interacción débil cargada:\n",
    "\n",
    "$$\n",
    "\\frac{g_W}{\\sqrt{2}} (\\bar{L} \\gamma^\\mu \\sigma^+ L) \\, W^+_\\mu = \n",
    "$$\n",
    "\n",
    "para la primera familia de leptones, recuperamos la expresión habitual de las interacciones débiles cargadas:\n",
    "\n",
    "$$\n",
    " \\frac{g_W}{\\sqrt{2}}\n",
    " \\begin{pmatrix} \\bar{\\Psi}^{\\nu}_{L}, \\bar{\\Psi}^e_L \\end{pmatrix} \\, \n",
    "\\begin{pmatrix} 0 & 1 \\\\ 0 & 0 \\end{pmatrix}  \\gamma^\\mu\n",
    "\\begin{pmatrix} \\Psi^\\nu_L \\\\ \\Psi^e_L \\end{pmatrix} \\, W^+_\\mu=\n",
    "\\frac{g_W}{\\sqrt{2}} \\bar{\\Psi}^\\nu_L \\, \\gamma^\\mu \\, \\Psi^e_L \\, W^+_\\mu \n",
    "$$\n",
    "\n",
    "Vemos que, por construcción, la interacción débil cargada viola paridad de forma máxima, ya que solo intervienen los espinores a izquierdas."
   ]
  },
  {
   "cell_type": "markdown",
   "metadata": {
    "slideshow": {
     "slide_type": "slide"
    }
   },
   "source": [
    "Remarcar que las interacciones con el $Z$ están completamente determinadas por el modelo. \n",
    "\n",
    "Los coeficientes $c_L, c_R$ son:\n",
    "\n",
    "$$\n",
    "c_L  = T^3 - Q \\sin^2 \\theta_W, \\;\\; c_R = -Q \\sin^2 \\theta_W\n",
    "$$  \n",
    "\n",
    "Donde $Q$ es la carga en unidades de electrón $e$, esto es -1 para el electrón, y $T^3$ es la tercera componente de isospín débil. Esto es, para el neutrino $Q = 0$ y $T^3 = 1/2$, y para el electrón $Q = -1, \\; T^3 = -1/2$.\n",
    "\n",
    "La siguiente tabla muestra los coeficientes para la primera familia de leptones:\n",
    "\n",
    "| | | | \n",
    "| :-- | :-- | :-- |\n",
    "| | -------- $c_R$ -------- | -------- $c_L$ --------  |\n",
    "| $\\nu_e$ | 0 | $\\frac{1}{2}$| \n",
    "| $e$ | $s^2_W$ | $-\\frac{1}{2} + s^2_W$| \n",
    "\n",
    "donde $s^2_W \\equiv \\sin^2 \\theta_W$.\n",
    "\n",
    "Podemos comprobar que en las corrientes neutras solo interviene nuevamente la componente de quiralidad a izquierdas del neutrino."
   ]
  },
  {
   "cell_type": "markdown",
   "metadata": {
    "slideshow": {
     "slide_type": "slide"
    }
   },
   "source": [
    "## Física del $Z$\n",
    "\n",
    "### Interacción $e + e^+$\n",
    "\n",
    "En la aniquilación $e + e^+ \\to \\mu + \\mu^+$ intervienen dos mediadores, el $\\gamma$ y el $Z$. Nota que el portador debe ser necesariamente neutro.\n",
    "\n",
    "La siguiente figura muestra los diagramas de Feynman de la aniquilación $e+e^+ \\to \\mu+\\mu^+$:\n",
    "\n",
    "| |\n",
    "|:--:|\n",
    "|<img src=\"./imgs/sm_gz.png\" width = 400 align=\"center\">|\n",
    "| aniquilación $e+e^+ \\to \\mu + \\mu^+$ mediada por el fotón (izda) o el $Z$ (derecha) |\n"
   ]
  },
  {
   "cell_type": "markdown",
   "metadata": {
    "slideshow": {
     "slide_type": "slide"
    }
   },
   "source": [
    "Los propagadores del fotón y del $Z$ son:\n",
    "\n",
    "$$\n",
    "\\frac{g_{\\mu\\nu}}{q^2}, \\;\\; \\frac{g_{\\mu\\nu}}{q^2 - m_Z^2},\n",
    "$$\n",
    "donde $m_Z = 91.2$ GeV es la masa del $Z$, y $q^2$ el cuadrado del cuadrimomento transferido del bosón.\n",
    "\n",
    "Tenemos tres regímenes de $q^2$ diferentes:\n",
    "\n",
    "* $q^2 \\ll m^2_Z$, en ese caso domina el propagador del fotón, la interacción es mayoritariamente electromagnética, y preserva paridad.\n",
    "\n",
    "* $q^2 \\sim m^2_Z$ domina el propagador del $Z$, la interacción es mayoritariamente débil neutra, y cambia al pasar por el valor $q^2 = m^2_Z$\n",
    "\n",
    "* $q^2 \\gg m^2_Z$ los dos propagadores contribuyen con una fracción cada uno."
   ]
  },
  {
   "cell_type": "markdown",
   "metadata": {
    "slideshow": {
     "slide_type": "slide"
    }
   },
   "source": [
    "La figura muestra las medidas de la sección eficaz $\\sigma(e+e^+ \\to \\mathrm{hadrons})$ obtenidas por diversos experimentos y sobreimpuesta la curva teórica. Se muestra también la sección eficaz debida solo al fotón con la curva punteada.\n",
    "\n",
    "| |\n",
    "|:--:|\n",
    "|<img src=\"./imgs/sm_sigma_eeqq.png\" width = 400 align=\"center\">|\n",
    "| $\\sigma(e+e^+ \\to \\mathrm{hadrons})$ vs $\\sqrt{s}$ de [MT16.2] [LEP-SLD]|\n",
    "\n",
    "\n",
    "Se observa que la contribución del fotón, es dominante a baja energía, que luego domina, en la resonancia, el $Z$, y finalmente hay un equilibrio entre los dos bosones.\n",
    "\n",
    "También que sería imposible explicar los datos experimentales sin la existencia del $Z$ y que la predicción teórica está en excelente acuerdo con los datos.\n",
    "                                                                                     "
   ]
  },
  {
   "cell_type": "markdown",
   "metadata": {
    "slideshow": {
     "slide_type": "slide"
    }
   },
   "source": [
    "### Asimetría delante-atrás\n",
    "\n",
    "En la región donde el $Z$ domine o sea relevante aparecen efectos de violación de paridad que dependerán de $s^2_W$ en el proceso $e+e^+ \\to \\mu +\\mu^+$.\n",
    "\n",
    "Consideramos el eje de choque $e+e^+$ y tomamos la dirección hacia delante la que define el $e$. Definimos la asimetría delante-atras, $A_{FB}$, a partir del número de $\\mu$ que salen hacia delante, $N_F$, (o *forward*) y hacia atrás, $N_B$, (lo *backwards*) como:\n",
    "\n",
    "$$\n",
    "A_{FB} = \\frac{N_F - N_B}{N_F + N_B}\n",
    "$$\n",
    "\n",
    "Si se conserva paridad, debe cumplirse que $A_{FB} = 0$\n",
    "\n"
   ]
  },
  {
   "cell_type": "markdown",
   "metadata": {
    "slideshow": {
     "slide_type": "slide"
    }
   },
   "source": [
    "\n",
    "En la figura, se muestran los valores experimentales de la asimetría delante-atrás, $A_{FB}$, obtenidos por el experimento DELPHI, en función de la energía en el centro de masas, o $\\sqrt{s}$, y sobreimpuesta se muestra la línea que corresponde a la predicción del Modelo Estandar para un valor de $s^2_W \\simeq 0.23$.\n",
    "\n",
    "| |\n",
    "|:--|\n",
    "|<img src=\"./imgs/sm_afb.png\" width = 400 align=\"center\">|\n",
    "| Asimetría *forward-backward* $e+e^+ \\to \\mu + \\mu^+$ vs $\\sqrt{s}$|\n",
    "| datos (puntos) del experimento [DELPHI] y predicción del SM para $s^2_W \\simeq 0.23$ (línea)|\n",
    "\n",
    "La medida de la asimetría delante-atrás confirma la teoría electrodébil y nos permite determinar $s^2 \\theta_W$ -o el ángulo de Weinberg-"
   ]
  },
  {
   "cell_type": "markdown",
   "metadata": {
    "slideshow": {
     "slide_type": "slide"
    }
   },
   "source": [
    "### Anchura de desintegración del $Z$\n",
    "\n",
    "En la década de los 90, El colisionador LEP $e+e^+$ del CERN operó a $\\sqrt{s} = m_Z = 91$ GeV produciendo millones de $Z$, lo que permitió estudar su física con gran precisión.\n",
    "\n",
    "Uno de los resultados más importantes de LEP es la medida de la anchura de desintegración del $Z$, que se obtienen a partir de la sección eficaz."
   ]
  },
  {
   "cell_type": "markdown",
   "metadata": {
    "slideshow": {
     "slide_type": "slide"
    }
   },
   "source": [
    "#### Sección eficaz\n",
    "\n",
    "La sección eficaz $e+e^+ \\to \\mu + \\mu^+$ en función del invariante $s$ en la región dominada por el $Z$ viene dada por:\n",
    "$$\n",
    "\\sigma (e+e^+\\to Z \\to \\mu+\\mu^+)= \\frac{12 \\pi s}{m^2_Z} \\frac{\\Gamma_{ee} \\Gamma_{\\mu\\mu}}{(s-m^2_Z)^2 + m^2_Z\\Gamma^2_Z} \n",
    "$$\n",
    "\n",
    "Donde $m_Z, \\, \\Gamma_Z$ son la masa y la anchura de desintegración del $Z$ respectivamente; y $\\Gamma_{ee}, \\Gamma_{\\mu\\mu}$ son las anchuras parciales de desintegración del $Z$ a $e+e^+$ y $\\mu+\\mu^+$ respectivamente -el Modelo Estandar predice que son iguales-."
   ]
  },
  {
   "cell_type": "markdown",
   "metadata": {
    "slideshow": {
     "slide_type": "slide"
    }
   },
   "source": [
    "La sección eficaz sigue una función de tipo Breit-Wigner donde:\n",
    "  \n",
    "  * existe un el polo, donde la sección eficaz es máxima, en $\\sqrt{s} = m_z$ \n",
    "  $$\n",
    "  \\sigma_{\\max} = \\frac{12\\pi}{m^2_Z} \\frac{\\Gamma_{ee}\\Gamma_{\\mu\\mu}}{\\Gamma^2_Z} \n",
    "  $$\n",
    "  \n",
    "  * y en los valores $\\sqrt{s} = m_Z \\pm \\Gamma_Z/2$ la sección eficaz vale la mitad del máximo:\n",
    "  \n",
    "  $$\n",
    "  \\sigma \\left(\\sqrt{s} = m_Z \\pm \\Gamma_Z/2 \\right) = \\frac{\\sigma_{\\max}}{2}\n",
    "  $$\n",
    "  \n",
    "  o lo que es lo mismo, la anchura a mitad de altura, FWHM, es la anchura de desintegración $\\Gamma_Z$"
   ]
  },
  {
   "cell_type": "markdown",
   "metadata": {
    "slideshow": {
     "slide_type": "subslide"
    }
   },
   "source": [
    "*Cuestión* Calcula el máximo de la sección eficaz para $e+e^+\\to \\mu+\\mu^+$ y $e+e^+\\to \\mathrm{hadrones}$ y la curva se la sección eficaz para hadrones en el pico del $Z$."
   ]
  },
  {
   "cell_type": "code",
   "execution_count": 4,
   "metadata": {
    "slideshow": {
     "slide_type": "subslide"
    }
   },
   "outputs": [
    {
     "name": "stdout",
     "output_type": "stream",
     "text": [
      "sigma max (ee->mumu) 2.1 nbarns \n",
      "sigma max (ee->had)  41.6 nbarns \n",
      "sigma max (ee->Z)    60.2 nbarns \n"
     ]
    }
   ],
   "source": [
    "Gee = 0.0838 # GeV \n",
    "Gmm = 0.0838 # GeV\n",
    "Gnn = 0.1657 # GeV\n",
    "Guu = 0.2894 # GeV\n",
    "Gdd = 0.3713 # GeV\n",
    "Ghad = 2 * Guu + 3 * Gdd\n",
    "Gtot = Ghad + 3 * Gee + 3 * Gnn\n",
    "#print(Gtot)\n",
    "mz  = 91.19  # GeV\n",
    "Gz  =  2.45  # GeV\n",
    "sigma_mumu = (12 * np.pi)/(mz**2) * (Gee * Gmm)/Gz**2\n",
    "sigma_had  = (12 * np.pi)/(mz**2) * (Gee * Ghad)/Gz**2\n",
    "sigma_tot  = (12 * np.pi)/(mz**2) * (Gee * Gz)/(Gz**2)\n",
    "hbarc  = 0.197 * units.femto # GeV m\n",
    "barn =  1e-28 # m^2\n",
    "sigma_to_barn = (hbarc**2) / barn\n",
    "print('sigma max (ee->mumu) {:3.1f} nbarns '.format(sigma_to_barn * sigma_mumu / units.nano))\n",
    "print('sigma max (ee->had)  {:3.1f} nbarns '.format(sigma_to_barn * sigma_had /units.nano))\n",
    "print('sigma max (ee->Z)    {:3.1f} nbarns '.format(sigma_to_barn * sigma_tot /units.nano))"
   ]
  },
  {
   "cell_type": "code",
   "execution_count": 5,
   "metadata": {
    "slideshow": {
     "slide_type": "subslide"
    }
   },
   "outputs": [
    {
     "data": {
      "image/png": "[encoded data removed]",
      "text/plain": [
       "<Figure size 640x480 with 1 Axes>"
      ]
     },
     "metadata": {},
     "output_type": "display_data"
    }
   ],
   "source": [
    "def sigma(s, Gff = Gmm):\n",
    "    return (12 * np.pi *s)/(mz**2) * (Gee*Gff/((s-mz**2)**2 + (mz*Gz)**2))\n",
    "ss = np.linspace(mz-8, mz+8, 100)\n",
    "plt.plot(ss, sigma_to_barn * sigma(ss*ss, Ghad) / units.nano); \n",
    "plt.grid(); plt.xlabel(r'$\\sqrt{s}$ (GeV)'); plt.ylabel(r'$\\sigma$ (nbarn)');"
   ]
  },
  {
   "cell_type": "markdown",
   "metadata": {
    "slideshow": {
     "slide_type": "slide"
    }
   },
   "source": [
    "#### Anchura de desintegración parcial\n",
    "\n",
    "Por otro lado, la anchura parcial de desintegración del $Z \\to f + \\bar{f}$ viene dada por:\n",
    "\n",
    "$$\n",
    "\\Gamma(Z \\to f + \\bar{f}) = \\frac{g^2_Z m_Z}{24 \\pi} (c^2_L + c^2_R)\n",
    "$$\n",
    "\n",
    "Por ejemplo para $\\nu_e$ como $c^{(\\nu_e)}_L = 1/2, \\; c^{(\\nu_e)}_R = 0$:\n",
    "\n",
    "$$\n",
    "\\Gamma (Z \\to \\nu_e + \\bar{\\nu}_e) = \\frac{g^2_Z m_Z}{96 \\pi} = 166 \\; \\mathrm{MeV}\n",
    "$$\n",
    "\n"
   ]
  },
  {
   "cell_type": "markdown",
   "metadata": {
    "slideshow": {
     "slide_type": "subslide"
    }
   },
   "source": [
    "*Cuestión*: Calcula las anchuras de desintegración parciales y totales de $Z$ y sus fracciones de desintegración."
   ]
  },
  {
   "cell_type": "code",
   "execution_count": 6,
   "metadata": {
    "slideshow": {
     "slide_type": "subslide"
    }
   },
   "outputs": [
    {
     "name": "stdout",
     "output_type": "stream",
     "text": [
      "gw    0.6526\n",
      "gz    0.7403\n",
      "Gamma nue 0.1657 GeV\n"
     ]
    }
   ],
   "source": [
    "GF  = units.value(\"Fermi coupling constant\")\n",
    "s2t = units.value(\"weak mixing angle\")\n",
    "MW  = 80.34 # GeV \n",
    "MZ  = 91.19 # GeV\n",
    "g2w = 8 * MW**2 * GF /np.sqrt(2)\n",
    "g2z = g2w/(1-s2t) \n",
    "gamma_nu = g2z*MZ/(96*np.pi)\n",
    "print('gw    {:5.4f}'.format(np.sqrt(g2w)))\n",
    "print('gz    {:5.4f}'.format(np.sqrt(g2z)))\n",
    "print('Gamma nue {:5.4f} GeV'.format(gamma_nu))"
   ]
  },
  {
   "cell_type": "code",
   "execution_count": 7,
   "metadata": {
    "slideshow": {
     "slide_type": "subslide"
    }
   },
   "outputs": [
    {
     "name": "stdout",
     "output_type": "stream",
     "text": [
      "Gamma e 0.0838 GeV\n",
      "Gamma nue 0.1657 GeV\n",
      "Gamma u 0.2894 GeV\n",
      "Gamma d 0.3713 GeV\n"
     ]
    }
   ],
   "source": [
    "nc   = 3 # 3 colors for the quarks\n",
    "pars = {'e':(-0.5+s2t, s2t), 'nue': (0.5, 0), 'u' : (0.5-2*s2t/3, -2*s2t/3), 'd': (-0.5+s2t/3, s2t/3)}\n",
    "gamma = lambda cl, cr: g2z*MZ/(24*np.pi)*(cl**2 + cr**2)\n",
    "gammas = {}\n",
    "for key in pars.keys():\n",
    "    cl, cr = pars[key]\n",
    "    gammai = gamma(cl, cr)\n",
    "    gammai = nc * gammai if key in ('u', 'd') else gammai\n",
    "    comment = 'Gamma ' + key + ' {:5.4f} GeV'.format(gammai) \n",
    "    print(comment)\n",
    "    gammas[key] = gammai"
   ]
  },
  {
   "cell_type": "markdown",
   "metadata": {
    "slideshow": {
     "slide_type": "slide"
    }
   },
   "source": [
    "La anchura total del $Z \\to f + \\bar{f}$ es la suma de las parciales:\n",
    "\n",
    "$$\n",
    "\\Gamma_Z = 3 \\Gamma_{ll} +  \\Gamma_{\\mathrm{had}} + N_\\nu \\Gamma_{\\nu\\nu}\n",
    "$$\n",
    "\n",
    "donde $\\Gamma_{ll} = \\Gamma_{ee} = \\Gamma_{\\mu\\mu} = \\Gamma_{\\tau\\tau}$ es la anchura de desintegración parcial a leptones cargados -que el modelo predice es la misma-, $\\Gamma_{\\mathrm{had}}$ es la anchura de desintegración a hadrones (la total a $q\\bar{q}$), y finalmente $N_\\nu$ es el número de neutrinos, y $\\Gamma_{\\nu\\nu}$ la anchura de desintegración a un neutrino de un solo sabor -el modelo también predice que es la misma para cada sabor de neutrinos-.\n"
   ]
  },
  {
   "cell_type": "code",
   "execution_count": 8,
   "metadata": {
    "slideshow": {
     "slide_type": "slide"
    }
   },
   "outputs": [
    {
     "name": "stdout",
     "output_type": "stream",
     "text": [
      "Total Gamma 2.4414 GeV \n",
      "BR e 3.4 %\n",
      "BR nue 6.8 %\n",
      "BR u 11.9 %\n",
      "BR d 15.2 %\n"
     ]
    }
   ],
   "source": [
    "gamma_total = 3 * gammas['nue'] + 3 * gammas['e'] + 2 * gammas['u'] + 3 * gammas['d']\n",
    "print('Total Gamma {:5.4f} GeV '.format(gamma_total))\n",
    "for key in gammas.keys():\n",
    "    #n  = 2 if key == 'u' else 3\n",
    "    br = 100 * gammas[key]/gamma_total\n",
    "    print('BR ' + key + ' {:3.1f} %'.format(br))"
   ]
  },
  {
   "cell_type": "markdown",
   "metadata": {
    "slideshow": {
     "slide_type": "slide"
    }
   },
   "source": [
    "### Tres familias de neutrinos\n",
    "\n",
    "A partir de la medidad de la sección eficaz en torno al $Z$ podemos determinar experimentalmente de forma directamente $m_Z, \\Gamma_Z, \\Gamma_{had}, \\Gamma_{ll}$ y de forma indirecta el número de familias de neutrinos $N_\\nu$.\n",
    "\n",
    "En la figura se muestra la vista transversal de varios eventos en ALEP: $e+e^+ \\to Z$ y $Z \\to$ hadrons, $e+e^+, \\mu+\\mu^+, \\tau+\\tau^+$:\n",
    "\n",
    "| | \n",
    "| :--: |\n",
    "|  <img src=\"./imgs/sm_Zevents_ALEPH.png\" width = 400 align=\"center\"> |\n",
    "| $Z\\to$ hadrons, $e+e^+$, $\\mu+\\mu^+$, $\\tau + \\tau^+$ [ALEPH]|\n",
    "\n",
    "Como el momento transversal se conserva, observamos que el caso por ejemplo $e+e^+ \\to \\mu+\\mu^+$ los muones salen enfrentados. La signatura experimental es muy clara y diferente en cada uno de los casos. "
   ]
  },
  {
   "cell_type": "markdown",
   "metadata": {
    "slideshow": {
     "slide_type": "slide"
    }
   },
   "source": [
    "La siguiente figura muestra la sección eficaz $\\sigma(e+e^+ \\to \\mathrm{hadrons})$  en función de $\\sqrt{s}$ obtenida *conjuntamente* por los experimentos de LEP: ALEPH, DELPHI, L3 y OPAL. \n",
    "\n",
    "\n",
    "| | \n",
    "| :--: |\n",
    "|  <img src=\"./imgs/sm_zresonance.png\" width = 350 align=\"center\"> |\n",
    "| $\\sigma(e+e^+ \\to \\mathrm{hadrons})$ vs $\\sqrt{s}$ de los experimentos de LEP [PDG]|\n",
    "\n",
    "\n",
    "Y en ella se muestra sobreimpuesta la línea con la predicción teórica para el caso de varios números de neutrinos (2, 3 y 4). \n",
    "\n",
    "Hay que remarcar que los errores de los datos están dibujados cun un factor 10 de su valor real para que sean visibles en el dibujo."
   ]
  },
  {
   "cell_type": "markdown",
   "metadata": {},
   "source": [
    "A partir de los resultados experimentales, principalmente de LEP, se obtiene:\n",
    "\n",
    "| | | \n",
    "| :--: | :--: |\n",
    "| $M_Z$ | $91.1880 \\pm 0.0020$ GeV |\n",
    "| $\\Gamma_Z$ | $2.4955\\pm 0.0023$ GeV |\n",
    "| $\\Gamma_{ll}$ | $83.984 \\pm 0.086$ MeV |\n",
    "| $\\Gamma_{\\mathrm{had}}$ | $1744.4 \\pm 2.0$ MeV |\n",
    "| $\\Gamma_{\\mu\\mu}/\\Gamma_{ee}$ | $1.0001\\pm0.0024$|\n",
    "| $\\Gamma_{\\tau\\tau}/\\Gamma_{ee}$ | $1.0020 \\pm0.0032$ | "
   ]
  },
  {
   "cell_type": "markdown",
   "metadata": {
    "slideshow": {
     "slide_type": "slide"
    }
   },
   "source": [
    "Y podemos calcular el número de neutrinos.\n",
    "\n",
    "Recordemos que el número de neutrinos, $N_\\nu$, entra en la anchura de desintegración como:\n",
    "\n",
    "$$\n",
    "\\Gamma_Z = 3 \\Gamma_{ll} +  \\Gamma_{\\mathrm{had}} + N_\\nu \\, \\Gamma_{\\nu\\nu}\n",
    "$$\n",
    "\n",
    "A partir de la medida de $\\Gamma_Z = 2.4952 \\pm 0.0023$, y de las anchuras medidas $\\Gamma_{ll} = 83.984 \\pm 0.086$ MeV,  $\\Gamma_{\\mathrm{had}} = 1744.4 \\pm 2.0$ MeV y del valor teórico de $\\Gamma_{\\nu\\nu} = 166 \\, \\mathrm{MeV}$, estimamos el número de neutrinos:\n",
    "\n",
    "$$\n",
    "N_\\nu = 2.9840\\pm 0.0082\n",
    "$$\n",
    "\n",
    "Esto es, existen solo **tres familias de neutrinos**.\n",
    "\n",
    "Sin embargo, no sabemos por qué solo tres, ¡todo un misterio!"
   ]
  },
  {
   "cell_type": "markdown",
   "metadata": {
    "slideshow": {
     "slide_type": "slide"
    }
   },
   "source": [
    "## El bosón de Higgs\n",
    "\n",
    "El modelo de Higgs da respuesta (quizás la única posible) a los siguientes problemas graves que presentaba la teoría electro-debil.\n",
    "\n",
    "  * Los bosones débiles son masivos, sin embargo las teorías gauge exigen bosones sin masa. ¿Cómo dotar entonces de masa a los bosones $W^\\pm, Z$?\n",
    "\n",
    "  * La teoría electrodébil separa fermiones a derechas e izquierdas, en dupletes y singletes, y exige que no tengan masas. ¡Pero sabemos que los fermiones tienen masa!\n",
    "  "
   ]
  },
  {
   "cell_type": "markdown",
   "metadata": {
    "slideshow": {
     "slide_type": "slide"
    }
   },
   "source": [
    "El mecanismo de Higgs permite dotar de masa a fermiones y bosones preservando la invariancia gauge de la teoría.\n",
    "\n",
    "Es muy dificil esquivar el Lagrangiano del Modelo Estándar para hablar del Higgs.\n",
    "\n",
    "Vamos a dar aquí solo unas ideas que nos permitan entender su comportamiento y descubrimiento."
   ]
  },
  {
   "cell_type": "markdown",
   "metadata": {
    "slideshow": {
     "slide_type": "slide"
    }
   },
   "source": [
    "\n",
    "### Masa de los fermiones\n",
    "\n",
    "El término de masa asociado a los fermiones que aparece en el Lagrangiano es:\n",
    "\n",
    "$$\n",
    "m \\bar{\\Psi} \\Psi\n",
    "$$\n",
    "\n",
    "La masa es en principio una propiedad *intrísica* de la partícula, pero ¿qué si fuera la consecuencia de una interacción con un nuevo campo?\n",
    "\n",
    "Supongamos que los fermiones se acoplan con un campo escalar $\\phi(x)$, cada ellos con un acoplo adimensional, $\\lambda$, -que llameremos de Yukawa-. El término de interacción en el lagrangiano será:\n",
    "\n",
    "$$\n",
    "\\lambda \\bar{\\Psi} \\Psi \\phi\n",
    "$$\n"
   ]
  },
  {
   "cell_type": "markdown",
   "metadata": {
    "slideshow": {
     "slide_type": "slide"
    }
   },
   "source": [
    "O gráficamente:\n",
    "\n",
    "| |\n",
    "|:--:|\n",
    "|<img src=\"./imgs/sm_higgs_2.png\" width = 150 align=\"center\">|\n",
    "| Acoplo del campo de Higgs con el fermión|\n",
    "\n",
    "\n",
    "que corresponde a un vértice de tres ramas con un acoplo de Yukawa $\\lambda$. \n"
   ]
  },
  {
   "cell_type": "markdown",
   "metadata": {
    "slideshow": {
     "slide_type": "slide"
    }
   },
   "source": [
    "Consideremos ahora un campo complejo escalar *singular*, $\\phi(x)$, con un valor mínimo, lo que llamamos un **valor esperado en el vacío**, $v$, no nulo:\n",
    "\n",
    "$$\n",
    "\\phi(x) = \\frac{1}{\\sqrt{2}}\\left(v + h(x)\\right) \n",
    "$$\n",
    "\n",
    "(el factor $1/\\sqrt{2}$ simplifica luego los cálculos, pero no es relevante).\n",
    "\n",
    "La interacción que hemos escrito anteriormente entre fermiones y el campo $\\phi$ queda:\n",
    "\n",
    "$$\n",
    "\\lambda \\bar{\\Psi} \\Psi \\, \\phi = \\frac{\\lambda v}{\\sqrt{2}} \\bar{\\Psi} \\Psi + \\frac{\\lambda}{\\sqrt{2}} \\bar{\\Psi} \\, \\Psi h(x)\n",
    "$$\n"
   ]
  },
  {
   "cell_type": "markdown",
   "metadata": {
    "slideshow": {
     "slide_type": "subslide"
    }
   },
   "source": [
    "El primer término podemos asociarlo a la masa del fermión:\n",
    "\n",
    "$$\n",
    "m \\bar{\\Psi} \\Psi = \\frac{\\lambda v}{\\sqrt{2}} \\bar{\\Psi} \\Psi \\; \\Rightarrow \\; m= \\frac{\\lambda v}{\\sqrt{2}}.\n",
    "$$\n",
    "\n",
    "Podemos decir entonces que la masa aparece como la fricción, via el acoplo de Yukawa, $\\lambda$, con el valor esperado del campo escalar (de Higgs) en el vacío, $v$.\n",
    "\n",
    "El segundo término $\\bar{\\Psi} \\Psi h$ lo interpretamos como la interacción del campo $h(x)$ con un fermión.\n",
    "\n",
    "\n",
    "| |\n",
    "|:--:|\n",
    "|<img src=\"./imgs/sm_higgs_0.png\" width = 250 align=\"center\">|\n",
    "| Masa de los fermiones y la interacción con el higgs, $h(x)$|\n",
    "\n"
   ]
  },
  {
   "cell_type": "markdown",
   "metadata": {
    "slideshow": {
     "slide_type": "slide"
    }
   },
   "source": [
    "### El campo del bosón de Higgs\n",
    "\n",
    "Hemos visto que podemos dotar de masa a los fermiones con un campo escalar, $\\phi(x)$, cuyo valor en el vacío, $v$, sea no nulo, ¿pero cómo obtenemos ese valor $v$?\n",
    "\n",
    "Consideremos un campo escalar complejo, que llamaremos campo de Higgs, su langrangiano es:\n",
    "\n",
    "$$\n",
    "(D_\\mu \\phi)^\\dagger (D^\\mu \\phi) -  m^2 \\, (\\phi^\\dagger \\phi),\n",
    "$$\n",
    "\n",
    "Por cierto, notar que el lagrangiano presenta una simetría respecto a un cambio de fase $\\phi'(x) = e^{i \\theta} \\, \\phi(x)$\n",
    "\n",
    "\n",
    "El segundo término del lagrangiano, el de masas, lo asociamos a un potencial.\n",
    "\n",
    "$$\n",
    "V(\\phi) =  m^2 \\, (\\phi^\\dagger \\phi)\n",
    "$$\n",
    "\n",
    "que tienen una dependencia parabólica en términos de $(\\phi^\\dagger \\phi)$."
   ]
  },
  {
   "cell_type": "markdown",
   "metadata": {
    "slideshow": {
     "slide_type": "slide"
    }
   },
   "source": [
    "Consideremos la extensión más sencilla de ese potencial, que sería cuadrática.\n",
    "\n",
    "$$\n",
    "V(\\phi) = \\frac{\\mu^2}{2} (\\phi^\\dagger \\phi) + \\frac{\\lambda}{4} (\\phi^\\dagger \\phi)^2\n",
    "$$\n",
    "\n",
    "que depende de los parámetros $\\mu, \\lambda$. \n",
    "\n",
    "Notar que si $\\mu = \\sqrt{2} m$ y $\\lambda = 0$, recuperamos el potencial inicial.\n",
    "\n",
    "Los factores $1/2, 1/4$ sirven para simplificar los cálculos, pero no son relevantes.\n"
   ]
  },
  {
   "cell_type": "markdown",
   "metadata": {
    "slideshow": {
     "slide_type": "slide"
    }
   },
   "source": [
    "Las siguientes figuras muestran el potencial para los casos $\\mu^2>0, \\mu^2<0$ con $\\lambda > 0$.\n",
    "Observa el valor $v$, que corresponde al mínimo."
   ]
  },
  {
   "cell_type": "code",
   "execution_count": 9,
   "metadata": {
    "slideshow": {
     "slide_type": "fragment"
    }
   },
   "outputs": [
    {
     "data": {
      "image/png": "[encoded data removed]",
      "text/plain": [
       "<Figure size 640x480 with 2 Axes>"
      ]
     },
     "metadata": {},
     "output_type": "display_data"
    }
   ],
   "source": [
    "higgs_potential = lambda phi, mu, xlambda : ((mu**2).real * phi**2)/2 + (xlambda/4) * (phi**2)**2\n",
    "phis = np.linspace(-10, 10, 100)\n",
    "mu  = 6; xlambda = 1\n",
    "plt.subplot(1, 2, 1); plt.plot(phis, higgs_potential(phis, mu, xlambda));\n",
    "plt.subplot(1, 2, 2); plt.plot(phis, higgs_potential(phis, mu*(1j), xlambda));"
   ]
  },
  {
   "cell_type": "markdown",
   "metadata": {
    "slideshow": {
     "slide_type": "slide"
    }
   },
   "source": [
    "El valor esperado del vacío, $v$, es el estado de mínima energía: \n",
    "\n",
    "* El el caso $\\mu^2 >0$ el potencial tiene un mínimo en $v = 0$.\n",
    "\n",
    "* Mientras que el caso $\\mu^2 <0$ tiene dos mínimos en:\n",
    "\n",
    "$$\n",
    "v = \\pm  \\sqrt{\\frac{-\\mu^2}{\\lambda}}\n",
    "$$\n",
    "\n",
    "Nos referimos también a $v$ como *vev* (por *valor esperado en el vacío*)."
   ]
  },
  {
   "cell_type": "markdown",
   "metadata": {
    "slideshow": {
     "slide_type": "slide"
    }
   },
   "source": [
    "Para desarrollar el campo alredor del vev:\n",
    "\n",
    "$$\n",
    "\\phi(x) = v + h(x), \n",
    "$$\n",
    "\n",
    "debemos elegir un mínimo, esto es, ¡rompemos la simetría inicial!\n",
    "\n",
    "Llamamos **rotura espontánea de simetría** al hecho de que aunque un sistema físico -esto es su lagrangiano-, tenga una simetría dada, el vacío -esto es el valor mínimo del campo- la rompe."
   ]
  },
  {
   "cell_type": "markdown",
   "metadata": {
    "slideshow": {
     "slide_type": "slide"
    }
   },
   "source": [
    "En el caso de que $\\phi$ sea un complejo obtenemos la curva del potencial conocida como sobrero mexicano, donde uno de los ejes es la componente real del campo y la otra la imaginaria:\n",
    "\n",
    "| | \n",
    "| :--: |\n",
    "|  <img src=\"./imgs/sm_mexican_hat.png\" width = 300 align=\"center\"> |\n",
    "| potencial del campo complejo de Higgs $V(\\phi)$ [Wikipedia]|\n",
    "\n",
    "Luego la existencia de un campo escalar complejo, con un potencial tipo *sombrero mexicano*,  nos permite obtener un valor esperado en el vacío, con el que dotar de masa a los fermiones y bosones vectoriales.\n",
    "\n",
    "Pero, sin embargo, no tenemos un principio o una explicación de *por qué este potencial*. *¡Otro gran misterio!*"
   ]
  },
  {
   "cell_type": "markdown",
   "metadata": {
    "slideshow": {
     "slide_type": "slide"
    }
   },
   "source": [
    "El potencial de Higgs introduce dos parámetros libres (indeterminados), $v$ y $\\lambda$ -o si se prefiere $v$ y $m_H$, el velor esperado en el vacío y la masa de Higgs-.\n",
    "\n",
    "El mecanismo introduce además un parámetro adicional, el acoplo de Yukawa $\\lambda_f$, por cada fermión:\n",
    "\n",
    "A cambio tras la rotura espontánea de simetría, el campo de Higgs da lugar:\n",
    " \n",
    " * a las **masas de los fermiones** (aunque no las predice, porque cada fermión tiene asociada una constante de Yukawa propia)\n",
    "\n",
    " * (aunque no lo vemos) a la **masa de los besones vectoriales**, $m_W, m_Z$. En este caso predice el ratio entre las masas $m_W$ y $m_Z$.\n",
    " \n",
    " * su propia masa, $m_H$, (aunque no la predice)\n",
    "\n",
    "El modelo nos da un mecanismo para dotar de masas a los fermiones, pero no hace ninguna predicción sobre las mismas."
   ]
  },
  {
   "cell_type": "markdown",
   "metadata": {
    "slideshow": {
     "slide_type": "slide"
    }
   },
   "source": [
    "Pero sí predice:\n",
    "\n",
    " * que existen interacciones entre el higgs, $h(x)$, y los bosones débiles, $W, Z$, y dan lugar a las **desintegraciones del Higgs a los bosones vectoriales**\n",
    " \n",
    " * que las interacciones entre el higgs, $h(x)$, y los fermiones, dan lugar a **desintegraciones a pares fermión-antifermión**\n",
    " \n",
    "No solo eso, si no que el higgs se acopla también consigo mismo en vértices de tres y cuatro ramas, y con los bosones vectoriales débiles en vértices de cuatro ramas. Esto es, genera nuevas interacciones entre sí, y con los bosones vectoriales. En otras palabras, el Higgs presenta una física muy variada, en su mayor parte inexplorada todavía."
   ]
  },
  {
   "cell_type": "markdown",
   "metadata": {
    "slideshow": {
     "slide_type": "slide"
    }
   },
   "source": [
    "Por último, aunque no lo hemos desarrollado, el modelo estandar predice la masa del $W^\\pm$, $m_W$\n",
    "\n",
    "$$\n",
    "m_W = \\frac{1}{2} g_W v \n",
    "$$\n",
    "\n",
    "Por lo tanto, a partir de la medida de $M_W$ y de $g_W$ podemos determinar $v$\n",
    "\n",
    "$$\n",
    "v = \\frac{2m_W}{g_W} = \\sqrt{\\frac{1}{\\sqrt{2} G_F}} = 246 \\; \\mathrm{GeV}\n",
    "$$\n",
    "\n",
    "esto es, $v$ viene dado por la constante de Fermi, $G_F$."
   ]
  },
  {
   "cell_type": "code",
   "execution_count": 14,
   "metadata": {
    "slideshow": {
     "slide_type": "subslide"
    }
   },
   "outputs": [
    {
     "name": "stdout",
     "output_type": "stream",
     "text": [
      "valor esperado del vacío 246.2 GeV\n"
     ]
    }
   ],
   "source": [
    "GF = units.value(\"Fermi coupling constant\") # 1/GeV^2\n",
    "v  = np.sqrt(1/(np.sqrt(2)*GF))\n",
    "print('valor esperado del vacío {:4.1f} GeV'.format(v))"
   ]
  },
  {
   "cell_type": "markdown",
   "metadata": {
    "slideshow": {
     "slide_type": "slide"
    }
   },
   "source": [
    "#### Las desintegraciones del bosón de Higgs\n",
    "\n",
    "El Higgs se acopla con los fermiones dependiendo de sus masas, a mayor masa, mayor acoplo. Esto va a determinar las posibles desintegraciones del Higgs.\n",
    "\n",
    "Como el acoplo del Higgs es proporcional a la masa, aquellos canales permitidos con mayor masa son los favorecidos.\n",
    "\n"
   ]
  },
  {
   "cell_type": "markdown",
   "metadata": {
    "slideshow": {
     "slide_type": "slide"
    }
   },
   "source": [
    "La siguiente tabla muestra las fracciones de desintegración para los distintos canales de un Higgs con una masa $m_H = 125$ GeV\n",
    "\n",
    "| --------- canal ------- | ----- $Br$ ----- |\n",
    "| :--          | --: | \n",
    "| $H\\to b + \\bar{b}$ | 57.8 % |\n",
    "| $H \\to W^+ + W^-$  | 21.6 % |\n",
    "| $H \\to \\tau + \\tau^+$| 6.4 % |\n",
    "| $H \\to g + g$         |  8.6 % |\n",
    "| $H \\to c + \\bar{c}$   | 2.9 % |\n",
    "| $H \\to Z + Z^*$       | 2.7 % |\n",
    "| $H \\to \\gamma + \\gamma$| 0.2 % |\n",
    "\n",
    "\n",
    "*Nota adicional* Las desintegraciones $H\\to \\gamma + \\gamma, H \\to g + g$ ocurren a través de diagramas de lazo, por ejemplo, con el intercambio en triángulo de un $t$."
   ]
  },
  {
   "cell_type": "markdown",
   "metadata": {
    "slideshow": {
     "slide_type": "slide"
    }
   },
   "source": [
    "### Descubrimiento del bosón de Higgs\n",
    "\n",
    "El bosón de Higgs se descubrió en 2012 en los experimentos ATLAS y CMS del LHC del CERN.\n",
    "\n",
    "Con anterioridad los experimentos de LEP y los experimentos CDF y D0 de Fermilab habían constreñido el valor de su masa más ligera entre: $115-150$ GeV.\n",
    "\n",
    "Los experimentos y el acelerador LHC se diseñaron en los 80's y entraron en operación a finales de los 2000's.\n",
    "\n",
    "En el LHC colisionan $p+p$ a una energía $\\sqrt{s}= 7- 13$ TeV y con una luminosidad $\\mathcal{L}(t) = 10^{34} \\; \\mathrm{cm}^{-2}$. Hay $10^{11}$ protones por paquete y una frecuencia de colisión de 40 MHz (cada 25 ns).\n",
    "\n",
    "El número de colisiones $10^{9}$ por segundo y por cada cruce hay como máximo $35$ colisiones, lo que de denomila *pile-up* (apilamiento)."
   ]
  },
  {
   "cell_type": "markdown",
   "metadata": {
    "slideshow": {
     "slide_type": "slide"
    }
   },
   "source": [
    "Las sección eficaz $p+p$ is del ~100 mbars en el LHC.\n",
    "\n",
    "Las sección eficaz medida de producción del $H$ para $\\sqrt{s}=13$ TeV es 54 pbarns.\n",
    "\n",
    "Los canales de desintegración dónde la señal es más fácil distinguible del fondo son $H\\to Z+Z^*$ y $H \\to \\gamma \\gamma$.\n",
    "\n",
    "Eso equivale a buscar una desintegración relevante entre $10^{13}$."
   ]
  },
  {
   "cell_type": "markdown",
   "metadata": {
    "slideshow": {
     "slide_type": "slide"
    }
   },
   "source": [
    "#### El descubrimiento del Higgs en ATLAS y CMS\n",
    "\n",
    "\n",
    "En la figura se muestra el esquema del experimento CMS del LHC:\n",
    "\n",
    "| |\n",
    "|:-- |\n",
    "| <img src=\"./imgs/det_CMS_subdetectors.png\" width = 500 align = \"center\"> |\n",
    "| Esquema de un sector del *Compact Muon Selenoid* ([CMS](https://cms.cern/detector)) del LHC|\n"
   ]
  },
  {
   "cell_type": "markdown",
   "metadata": {
    "slideshow": {
     "slide_type": "slide"
    }
   },
   "source": [
    "El Higgs se descubrió en dos canales limpios (donde los sucesos de contaminación son o afectan menos).\n",
    "\n",
    "  * $H \\to \\gamma + \\gamma$, buscando dos deposiciones en el calorímetro electromagnético, $\\gamma$.\n",
    "  \n",
    "mediante el cálculo de la masa invariante de los dos $\\gamma$, $m_{\\gamma\\gamma}$, que provienen del punto de interacción.\n",
    "\n",
    "\n",
    "  * En el canal $H \\to Z + Z^* \\to (l+l^+) + (l'+l'^+)$, en cuatro leptones ($4l$), agrupados en dos parejas del mismo sabor y carga opuesta.\n",
    "  \n",
    "A partir de la masa invariante de los 4 leptones, $m_{4l}$.\n",
    "   "
   ]
  },
  {
   "cell_type": "markdown",
   "metadata": {
    "slideshow": {
     "slide_type": "slide"
    }
   },
   "source": [
    "La siguiente figura muestra la presenta la distribución de la masa invariante de $2 \\gamma$ (izda) para el caso de CMS y de $(4 l)$ para el caso de ATLAS con la estadística de Run-I del LHC \n",
    "\n",
    "| | \n",
    "| :--: |\n",
    "|  <img src=\"./imgs/sm_higgs_CMS_ATLAS.png\" width = 600 align=\"center\"> |\n",
    "| masa invariante para $H \\to \\gamma \\gamma$ (izda, [CMS]) y $H \\to Z+ Z^* \\to 4 l$ (derecha, [ATLAS])|\n"
   ]
  },
  {
   "cell_type": "markdown",
   "metadata": {
    "slideshow": {
     "slide_type": "slide"
    }
   },
   "source": [
    "Observamos:\n",
    "    \n",
    "   * La presencia de un pico en la masa invariante en ambas distribuciones a 125 GeV.\n",
    "   \n",
    "   * Ese pico es incompatible con el fondo, en combinación a ~6 desviaciones estandars. \n",
    "  \n",
    "El valor esperimental de la masa del bosón de Higgs es $m_H = 125.20 \\pm 0.11$ GeV.\n",
    "\n",
    "Con los datos del run-I del LHC se pudo concluir además:\n",
    "   \n",
    "   * que se trataba de una partícula escalar a partir de las distribuciones angulares de los $(4l)$ en el canal $H\\to 4 l$.\n",
    "   \n",
    "   * que el acoplo a otros canales $\\tau\\tau^+, b \\bar{b}$ es el esperado por el SM"
   ]
  },
  {
   "cell_type": "markdown",
   "metadata": {
    "slideshow": {
     "slide_type": "slide"
    }
   },
   "source": [
    "En la figura dos eventos de ATLAS, identificados como $H \\to \\gamma\\gamma$ (izda) y $H \\to e+e^++\\mu+\\mu^+$\n",
    "\n",
    "| | |\n",
    "| :--: | :--: |\n",
    "|  <img src=\"./imgs/sm_atlas_h2gammas_event.png\" width = 320 align=\"center\"> | <img src=\"./imgs/sm_atlas_h4leptons_event.png\" width = 320 align=\"center\"> |\n",
    "| $H \\to \\gamma + \\gamma$ event | $H \\to 4l$ event [ATLAS events](https://twiki.cern.ch/twiki/bin/view/AtlasPublic/EventDisplaysFromHiggsSearches) |"
   ]
  },
  {
   "cell_type": "markdown",
   "metadata": {
    "slideshow": {
     "slide_type": "slide"
    }
   },
   "source": [
    "## Conclusions\n",
    "\n",
    "El SM:\n",
    "\n",
    "  * El SM clasifica las partículas conocidas y describe con precisión las interacciones electrodébiles y fuertes entre ellas.\n",
    "  \n",
    "  * El SM se ha verificado en numerosos procesos físicos y experimentos.\n",
    "  \n",
    "  * No obstante sabemos que los neutrinos tienen masa, lo que implica que debemos extender el SM.\n",
    "  \n",
    "Pero:\n",
    "  \n",
    "  * No incluye otra Física conocida, como la materia oscura, ¿qué partículas la forman?\n",
    "  \n",
    "  * El modelo tiene cinco parámetros fundamentales $e, g_W, g_S, v, \\lambda$, dos de ellos corresponden al Higgs. Experimentalmente $\\alpha, G_L, \\alpha_S, M_Z, M_H$.\n",
    "\n",
    "  * Tiene 9 parámetros adicionales, que son los acoplos de Yukawa (las masas de los leptones cargados y de los quarks); 4 más para acomodar la matriz CKM de los quarks, y 4 más para la PNMS de los leptones (la que rige las ocilaciones de neutrinos). \n"
   ]
  },
  {
   "cell_type": "markdown",
   "metadata": {
    "slideshow": {
     "slide_type": "slide"
    }
   },
   "source": [
    "### cuestiones abiertas\n",
    "\n",
    " * ¿Es el neutrino su propia antipartícula? ¿Cómo se acopla al Higgs?\n",
    "\n",
    " * ¿Cuál es el origen de los valores de masas? ¿Por qué es tan pequeña la masa del neutrino?\n",
    "\n",
    " * ¿Por qué hay 3 familias? ¿Qué relación guardan, si la hay, la matriz CKM y PNMS?\n",
    "\n",
    " * ¿Es el Higgs único? ¿Es el Higgs compuesto?\n",
    " \n",
    " * ¿Cuál es el origen del potencial del bosón de Higgs, $V(\\phi)$?\n",
    " \n",
    " * ¿Hasta qué escala de energía, $\\Lambda$, es válido el SM? ¿A qué energía aparecerá nueva física?\n"
   ]
  },
  {
   "cell_type": "markdown",
   "metadata": {
    "slideshow": {
     "slide_type": "slide"
    }
   },
   "source": [
    "## Bibliografía\n",
    "\n",
    "\n",
    "  * [MT] Mark Tomsom, \"Modern Particle Physics\", Cambridge U. press, Temas 15, 16 y 17.\n",
    "  \n",
    "  * [AB] Alessandro Bettini, \"Introduction to Elementary Particle Physcs\", Cambridge U. press, Tema 9. \n",
    "  \n",
    "  * [PK] M. Peskik, Lectures on the Theory of the Weak Interaction, SLAC–PUB–17142, (2017), [arXiv:1708.0943v1](https://arxiv.org/abs/1708.09043)\n",
    "  \n",
    "  * [PDG](https://pdg.lbl.gov/) Particle Data Group.\n",
    "  \n",
    "  * [LEP-SLD] LEP and SLD Collaborations. 2006. Phys. Rept., 427, 257–454.\n",
    "  \n",
    "  * [DELPHI] P. Abreu et al., DELPHI Collaboration, *Eur. Phys. J.* **C 11**, 383 (1999).\n",
    "  \n",
    "  * [ALEPH] D. Decamp et al., ALEPH Collaboration, *Z. Phys.* **C 48**, 365 (1990)\n",
    "\n",
    "  * [CMS] V. Khachatryan et al., CMS Collaboration, *Eur. Phys. J.* **C 74**, no. 10, 3076 (2014) [arXiv:1407.0558](https://arxiv.org/abs/1407.0558) \n",
    "  \n",
    "  * [ATLAS] G. Aad et al., ATLAS Collaboration, *Phys. Lett.* **B 726**, 88 (2013) Erratum: [Phys. Lett. B 734, 406 (2014)] [arXiv:1307.1427](https://arxiv.org/abs/1307.1427)"
   ]
  }
 ],
 "metadata": {
  "anaconda-cloud": {},
  "celltoolbar": "Slideshow",
  "kernelspec": {
   "display_name": "base",
   "language": "python",
   "name": "python3"
  },
  "language_info": {
   "codemirror_mode": {
    "name": "ipython",
    "version": 3
   },
   "file_extension": ".py",
   "mimetype": "text/x-python",
   "name": "python",
   "nbconvert_exporter": "python",
   "pygments_lexer": "ipython3",
   "version": "3.9.13"
  }
 },
 "nbformat": 4,
 "nbformat_minor": 4
}
