{
 "cells": [
  {
   "cell_type": "markdown",
   "metadata": {
    "slideshow": {
     "slide_type": "slide"
    }
   },
   "source": [
    "# A quick look at Particle Physics\n"
   ]
  },
  {
   "cell_type": "code",
   "execution_count": 1,
   "metadata": {
    "slideshow": {
     "slide_type": "fragment"
    }
   },
   "outputs": [
    {
     "name": "stdout",
     "output_type": "stream",
     "text": [
      " Last version  Thu Apr 10 09:27:15 2025\n"
     ]
    }
   ],
   "source": [
    "import time\n",
    "print(' Last version ', time.asctime() )"
   ]
  },
  {
   "cell_type": "markdown",
   "metadata": {
    "slideshow": {
     "slide_type": "slide"
    }
   },
   "source": [
    "*Do you know who is this man?*\n",
    "\n",
    "| |\n",
    "|:--:|\n",
    "| <img src=\"./imgs/div_borges.jpg\" width = 200 align=\"center\">|\n",
    "\n",
    "Read his mathematical short stories about laberithms, mirrors, maps...\n",
    "\n",
    "\"There is a tribu where names do not exits. Things are named by they properties, their adjectives...\"\n"
   ]
  },
  {
   "cell_type": "markdown",
   "metadata": {
    "slideshow": {
     "slide_type": "slide"
    }
   },
   "source": [
    "## CERN is here\n",
    "\n",
    "| |\n",
    "|:--:|\n",
    "| <img src=\"./imgs/div_CERN_logo.png\" width = 120 align=\"center\">|\n",
    "\n",
    "[CERN](https://www.home.cern/about) is the world's largest particle physics laboratory.\n",
    "\n",
    "Hundreds of crucial discoveries and measurements in particle physics have been made there.\n",
    "\n",
    "It is one of the most successful examples of European collaboration."
   ]
  },
  {
   "cell_type": "markdown",
   "metadata": {
    "slideshow": {
     "slide_type": "slide"
    }
   },
   "source": [
    "## What is particle Physics\n",
    "\n",
    "It is the part of Physics that studies the most elementary elements of Nature and their interactions.\n",
    "\n",
    "### Escale\n",
    "\n",
    "\n",
    "\n",
    "| |\n",
    "|:--:|\n",
    "| <img src=\"./imgs/intro_distances_scale.jpg\" width = 800 align=\"center\">|\n",
    "\n",
    "We look for distance bellow $10^{-15}$ m, That is quite small!!\n"
   ]
  },
  {
   "cell_type": "markdown",
   "metadata": {
    "slideshow": {
     "slide_type": "slide"
    }
   },
   "source": [
    "Matter is made up of atoms.\n",
    "\n",
    "The atom is like a solar system: the nucleus is at the center and contains almost all the mass, and electrons orbit around it.\n",
    "\n",
    "| |\n",
    "|:--:|\n",
    "| <img src=\"./imgs/div_atom.jpg\" width = 500 align=\"center\">|\n",
    "\n"
   ]
  },
  {
   "cell_type": "markdown",
   "metadata": {
    "slideshow": {
     "slide_type": "slide"
    }
   },
   "source": [
    "If the CERN globe were an atom, all its weight would be in the center, in a very small point (the nucleus), and the electrons would be like flies outside the globe.\n",
    "\n",
    "| | | | \n",
    "|:--:| :--: | :--: |\n",
    "| <img src=\"./imgs/div_CERN_globe.jpg\" width = 200 align=\"center\"> | <img src=\"./imgs/div_peso_nucleo.png\" width = 200 align=\"center\"> |  <img src=\"./imgs/div_mosca.png\" width = 150 align=\"center\"> |"
   ]
  },
  {
   "cell_type": "markdown",
   "metadata": {
    "slideshow": {
     "slide_type": "slide"
    }
   },
   "source": [
    "To study the interior of a particle, we need another particle as a probe.\n",
    "To reach increasingly shorter distances, probes with increasingly higher energies are needed.\n",
    "\n",
    "Relation of distance and energy:\n",
    " \n",
    "\n",
    "The basic energy is eV, that is the energy of the attachment of electrons in light atoms.\n",
    "\n",
    "Particle Physics study very small distances $10^{-15}$ m or very large energies $10^9$ eV (GeV) or $10^{12}$ eV (TeV)\n"
   ]
  },
  {
   "cell_type": "markdown",
   "metadata": {
    "slideshow": {
     "slide_type": "slide"
    }
   },
   "source": [
    "Probing with electrons the nucleon and proton we discover they were made of another more elementary particle: *quarks*!\n",
    "\n",
    "| |  \n",
    "|:--:| \n",
    "<img src=\"./imgs/div_nucleons_quarks.jpg\" width = 400 align=\"center\">| \n",
    "\n",
    "Electrons are 'still' elementary"
   ]
  },
  {
   "cell_type": "markdown",
   "metadata": {
    "slideshow": {
     "slide_type": "slide"
    }
   },
   "source": [
    "### The experiments\n",
    "\n",
    "We are very primitive: we study interaction with two types of experiments: target and collision experiments\n",
    "\n",
    "\n",
    "| | | \n",
    "|:--:| :--: |\n",
    "| <img src=\"./imgs/intro_dispersion.png\" width = 300 align=\"center\">| <img src=\"./imgs/intro_colision.png\" width = 300 align=\"center\">|\n",
    "| Targer | Colision |\n",
    "\n",
    "We smash bunch of particles at high energy with a targer or between them, and observe and measure what happens!\n"
   ]
  },
  {
   "cell_type": "markdown",
   "metadata": {
    "slideshow": {
     "slide_type": "slide"
    }
   },
   "source": [
    "| | | \n",
    "|:--:| :--: |\n",
    "| <img src=\"./imgs/div_indio.jpg\" width = 250 align=\"center\">| <img src=\"./imgs/div_train_crash.jpg\" width = 500 align=\"center\">|\n",
    "| Target | Colision |"
   ]
  },
  {
   "cell_type": "markdown",
   "metadata": {
    "slideshow": {
     "slide_type": "slide"
    }
   },
   "source": [
    "### How to accelerate particles?\n",
    "\n",
    "\n",
    "* We can construct acelerators, for example the  **LHC** [[>]](https://www.youtube.com/watch?v=pQhbhpU9Wrg) where we crush trains of protons agains trains of protons at TeV energies\n",
    "\n",
    "* In the cosmos there are *natural accelerator* that send to the Earth bunch or particles, the IceCube [[>]](https://www.youtube.com/watch?v=D50LNnioXQc) look for high energy neutrinos."
   ]
  },
  {
   "cell_type": "markdown",
   "metadata": {
    "slideshow": {
     "slide_type": "slide"
    }
   },
   "source": [
    "### Particles at High Energy\n",
    "\n",
    "But during the first seconds of the Universe, the particles had high energies. The initial moments where a 'soup' of high energy particles.\n",
    "\n",
    "| |\n",
    "| :--: |\n",
    "| <img src=\"./imgs/intro_universe_history_2.jpg\" width = 500 align=\"center\"> |\n",
    "|  [PDG]|\n",
    "\n",
    "The Universe started with a Big Banf but now goes 'zen' and quiet as time pass.\n"
   ]
  },
  {
   "cell_type": "markdown",
   "metadata": {
    "slideshow": {
     "slide_type": "slide"
    }
   },
   "source": [
    "When the Universe cooled slightly, particles first formed protons, neutrons, then nuclei, then atoms, and finally, stars and galaxies.\n",
    "\n",
    "We now know that some particles decay and become others, for example:\n",
    "\n",
    "\n",
    "$$\n",
    "n \\to p + e + \\bar{\\nu}_e\n",
    "$$\n",
    "\n",
    "And we are very, very lucky!!\n",
    "\n",
    "After its creation, the neutron lives for 10 minutes, long enough to create the first stable helium nuclei in the Universe, which took 6 minutes!"
   ]
  },
  {
   "cell_type": "markdown",
   "metadata": {
    "slideshow": {
     "slide_type": "slide"
    }
   },
   "source": [
    "### The Fabulous four\n",
    "\n",
    "In the neutron decay there are the main four particles that compose our Universe today:\n",
    "\n",
    "$$\n",
    "n \\to p + e + \\bar{\\nu}_e\n",
    "$$\n",
    "\n",
    "This is call: *beta decay*! \n",
    "\n",
    "| | \n",
    "|:--:|\n",
    "| <img src=\"./imgs/div_beta_decay.png\" width = 300 align=\"center\">| "
   ]
  },
  {
   "cell_type": "markdown",
   "metadata": {
    "slideshow": {
     "slide_type": "slide"
    }
   },
   "source": [
    "### The big Science\n",
    "\n",
    "The accelerator and experiments are *unique* and complex. They planning takes decades. Like [ATLAS](https://atlas.cern/) at LHC,\n",
    "\n",
    "| |\n",
    "| :--: |\n",
    "| <img src=\"./imgs/intro_atlas.jpg\" width = 600 align=\"center\"> |\n",
    "\n",
    "In ATLAS works thousand physicist from all the World.\n"
   ]
  },
  {
   "cell_type": "markdown",
   "metadata": {
    "slideshow": {
     "slide_type": "slide"
    }
   },
   "source": [
    "### The big laboratories\n",
    "\n",
    "The experiments are carried out in large laboratories.\n",
    "\n",
    "CERN was created in the 1950s to bring together and foster European science. Since then, it has been a model for science and humanity.\n",
    "\n",
    "Do you know who is she?\n",
    "\n",
    "| |\n",
    "| :--: |\n",
    "| <img src=\"./imgs/Dr_Fabiola_Gianotti.jpg\" width = 200 align=\"center\"> |\n"
   ]
  },
  {
   "cell_type": "markdown",
   "metadata": {
    "slideshow": {
     "slide_type": "slide"
    }
   },
   "source": [
    "### Aplicaciones prácticas\n",
    "\n",
    "Do you know that the [WWW](https://www.youtube.com/watch?v=sSqZ_hJu9zA) born at CERN in the late 80's?\n",
    "\n",
    "It was designed to share information between the physicist around the World.\n",
    "\n",
    "What you will do without Internet and the Web?\n"
   ]
  },
  {
   "cell_type": "markdown",
   "metadata": {
    "slideshow": {
     "slide_type": "slide"
    }
   },
   "source": [
    "## Introduction to the Standard Model\n",
    "\n",
    "The Standard Model of Particle Physics is one of the greatest achievements in physics. Unfortunately, its name is very poor!\n",
    "\n",
    "It classifies all elementary particles and the interactions between them.\n",
    "\n",
    "All we know, with the devil details, is here:  *Particle Data Group* ([PDG](https://pdg.lbl.gov/)) \n",
    "\n"
   ]
  },
  {
   "cell_type": "markdown",
   "metadata": {
    "slideshow": {
     "slide_type": "slide"
    }
   },
   "source": [
    "Let's go back to the *beta decay*.\n",
    "\n",
    "This decay can happen in certain nucleus, a neutron convert to a proton, and an electron and neutrino that escapes. \n",
    "\n",
    "| |\n",
    "| :--: |\n",
    "| <img src=\"./imgs/div_beta_dec_nucl.png\" width = 350 align=\"center\"> |\n",
    "\n",
    "But at the begining this was a mistery!"
   ]
  },
  {
   "cell_type": "markdown",
   "metadata": {
    "slideshow": {
     "slide_type": "slide"
    }
   },
   "source": [
    "The daughter nucleus has less mass than the mother nucleus, but the electron's energy is not as high as it should be. Where did the energy go?\n",
    "\n",
    "| |\n",
    "|:--:|\n",
    "|<img src=\"./imgs/intro_bspectrum_1935.png\" width=400 align=\"center\">|\n",
    "\n",
    "Remember Einstein relation between mass and energy:\n",
    "\n",
    "$$\n",
    "E = m c^2\n",
    "$$\n",
    "\n",
    "Of course, The missing energy was taken away by the neutrino, that escaped undetected!\n"
   ]
  },
  {
   "cell_type": "markdown",
   "metadata": {
    "slideshow": {
     "slide_type": "slide"
    }
   },
   "source": [
    "[Pauli](https://en.wikipedia.org/wiki/Wolfgang_Pauli) wrote his famous letter proposing the neutrino\n",
    "\n",
    "| |\n",
    "| :--: |\n",
    "|<img src=\"./imgs/intro_Pauli_letter.jpg\" width=800 align=\"center\">|\n",
    "||"
   ]
  },
  {
   "cell_type": "markdown",
   "metadata": {
    "slideshow": {
     "slide_type": "slide"
    }
   },
   "source": [
    "B. Pontecorvo proposed that, if there is a large neutrino flux and a massive target, we could detect them even if their interaction is very weak.\n",
    "\n",
    "F. Reines and C. L. Cowan detected the first neutrinos using the neutrino flux generated in the first nuclear reactor at Savanna River, South Carolina, USA, in 1953.\n",
    "\n",
    "| | \n",
    "| :--: | \n",
    "| <img src=\"./imgs/intro_cowan_reines_telegram.png\" width=500 align=\"center\">|\n"
   ]
  },
  {
   "cell_type": "markdown",
   "metadata": {
    "slideshow": {
     "slide_type": "slide"
    }
   },
   "source": [
    "For a moment, everything was simple: neutron, proton, electron, neutrino.\n",
    "\n",
    "But when observing the interactions of cosmic rays (extraterrestrial particles entering the atmosphere), a new particle appeared: the muon!\n",
    "\n",
    "The muon was like the electron, but with greater mass. The muon is the electron's sister!\n",
    "\n",
    "Why do we need the muon? Our universe was so simple, with only four particles!"
   ]
  },
  {
   "cell_type": "markdown",
   "metadata": {
    "slideshow": {
     "slide_type": "slide"
    }
   },
   "source": [
    "Not only that, this man:\n",
    "\n",
    "| | \n",
    "| :--: | \n",
    "| <img src=\"./imgs/div_Paul_Dirac.jpg\" width=150 align=\"center\">|\n",
    "\n",
    "Proposed an equation for the free electron in 1932. \n",
    "\n",
    "$$\n",
    "i \\gamma^\\mu \\partial_\\mu \\Psi - m \\Psi = 0\n",
    "$$\n",
    "\n",
    "This equation is so important that you should put it as a magnet on your refrigerator!"
   ]
  },
  {
   "cell_type": "markdown",
   "metadata": {
    "slideshow": {
     "slide_type": "slide"
    }
   },
   "source": [
    "Why is so important?\n",
    "\n",
    "Dirac unified the two great revolutions, Relativity and Quantum Mechanics, to get his equation.\n",
    "\n",
    "And he predicted that the electron was not alone. The electron should have its anti-particle, the positron. Same mass, but oposite charge.\n",
    "\n",
    "| | \n",
    "| :--: | \n",
    "| <img src=\"./imgs/div_antiparticle.png\" width=200 align=\"center\">|\n",
    "\n",
    "One year later they found the positron!\n",
    "\n",
    "Each particle has its anti-particle!\n",
    " But why there is no anti-particles in our Universe! Where did they go? We have no idea!!"
   ]
  },
  {
   "cell_type": "markdown",
   "metadata": {
    "slideshow": {
     "slide_type": "slide"
    }
   },
   "source": [
    "Soon they were discover so many particles and anti-particles, all unstable, that physicists went mad!!\n",
    "\n",
    "| | \n",
    "| :--: | \n",
    "| <img src=\"./imgs/div_fisico_loco.jpg\" width=600 align=\"center\">|\n"
   ]
  },
  {
   "cell_type": "markdown",
   "metadata": {
    "slideshow": {
     "slide_type": "slide"
    }
   },
   "source": [
    "| |\n",
    "|:--|\n",
    "| <img src=\"./imgs/intro_lifetimes.png\" width = 600 align=\"center\">|\n"
   ]
  },
  {
   "cell_type": "markdown",
   "metadata": {
    "slideshow": {
     "slide_type": "slide"
    }
   },
   "source": [
    "But in the 60's we got peace. The physicists put order in the quaos!\n",
    "\n",
    "There are of two types of particles:\n",
    "\n",
    "* **hadrons**, like the neutron and proton, that are made of **quarks**. \n",
    "\n",
    "* **leptons**, like the electron and the neutrino, and the muon, the muon neutrino, and the tau and the tau neutrino!\n",
    " \n",
    "Only the quarks $(u, d)$ that makes the proton and  neutron and the (e, $\\nu$) are estable!\n",
    " "
   ]
  },
  {
   "cell_type": "markdown",
   "metadata": {
    "slideshow": {
     "slide_type": "slide"
    }
   },
   "source": [
    "\n",
    "Quarks have electric charge: u (2/3), and d (-1/3), and they always show in groups never alone! they form **hadrons**.\n",
    "\n",
    "| | \n",
    "|:--:|\n",
    "| <img src=\"./imgs/div_beta_decay.png\" width = 500 align=\"center\">| "
   ]
  },
  {
   "cell_type": "markdown",
   "metadata": {
    "slideshow": {
     "slide_type": "slide"
    }
   },
   "source": [
    "These are the elementary particles in Nature:\n",
    "\n",
    "| |\n",
    "|:--:|\n",
    "|<img src=\"./imgs/intro_SM_table.png\" width = 500 align=\"center\">|\n",
    "|Las partículas del modelo estandar|\n",
    "\n"
   ]
  },
  {
   "cell_type": "markdown",
   "metadata": {
    "slideshow": {
     "slide_type": "slide"
    }
   },
   "source": [
    "But there was a problem. The data agreed with the theory, but... the theory required that particles be massless.\n",
    "\n",
    "Mass is not a property of a particle! Mass appears when a particle interacts with the Higgs field! It's a characteristic of an interaction!\n",
    "\n",
    "But years passed, and the Higgs particle was not discovered.\n",
    "\n",
    "\n",
    "| | \n",
    "| :--: |\n",
    "|  <img src=\"./imgs/div_snow.jpg\" width = 300 align=\"center\"> |\n"
   ]
  },
  {
   "cell_type": "markdown",
   "metadata": {
    "slideshow": {
     "slide_type": "slide"
    }
   },
   "source": [
    "The theory in a T-shirt!\n",
    "\n",
    "| | \n",
    "| :--: |\n",
    "|  <img src=\"./imgs/div_SM_theory.jpg\" width = 400 align=\"center\"> |"
   ]
  },
  {
   "cell_type": "markdown",
   "metadata": {
    "slideshow": {
     "slide_type": "slide"
    }
   },
   "source": [
    "|  |\n",
    "|:-- |\n",
    "| <img src=\"./imgs/det_CMS_subdetectors.png\" width = 700 align = \"center\"> |"
   ]
  },
  {
   "cell_type": "markdown",
   "metadata": {
    "slideshow": {
     "slide_type": "slide"
    }
   },
   "source": [
    "But then finally the LHC found the Higgs particle. Remember $E = m c^2$\n",
    "\n",
    "| | \n",
    "| :--: |\n",
    "|  <img src=\"./imgs/sm_higgs_CMS_ATLAS.png\" width = 750 align=\"center\"> |"
   ]
  },
  {
   "cell_type": "markdown",
   "metadata": {
    "slideshow": {
     "slide_type": "slide"
    }
   },
   "source": [
    "But there are still many misteries:\n",
    "\n",
    "* Where is the anti-matter?\n",
    "\n",
    "* Why are only 3 families?\n",
    "\n",
    "* Why the Higgs interacts differently with each particle?\n",
    "\n",
    "* Is the anti-neutrino the same as the neutrino?\n",
    "\n",
    "* But we know the Universe has also other matter, that we do not know about it, that we call *dark matter*"
   ]
  },
  {
   "cell_type": "markdown",
   "metadata": {
    "slideshow": {
     "slide_type": "slide"
    }
   },
   "source": [
    "Do you want to be a detective in Physics?\n",
    "\n",
    "| |\n",
    "|:--|\n",
    "| <img src=\"./imgs/div_pantera_rosa.jpg\" width = 600 align=\"center\">|\n",
    "\n"
   ]
  },
  {
   "cell_type": "code",
   "execution_count": null,
   "metadata": {},
   "outputs": [],
   "source": []
  }
 ],
 "metadata": {
  "anaconda-cloud": {},
  "celltoolbar": "Slideshow",
  "kernelspec": {
   "display_name": "Python 3 (ipykernel)",
   "language": "python",
   "name": "python3"
  },
  "language_info": {
   "codemirror_mode": {
    "name": "ipython",
    "version": 3
   },
   "file_extension": ".py",
   "mimetype": "text/x-python",
   "name": "python",
   "nbconvert_exporter": "python",
   "pygments_lexer": "ipython3",
   "version": "3.9.13"
  }
 },
 "nbformat": 4,
 "nbformat_minor": 4
}
