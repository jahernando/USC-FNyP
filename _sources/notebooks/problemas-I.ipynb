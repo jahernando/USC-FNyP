{
 "cells": [
  {
   "cell_type": "markdown",
   "metadata": {
    "slideshow": {
     "slide_type": "slide"
    }
   },
   "source": [
    "# Introducción a Física de Partículas\n",
    "\n",
    "\n",
    "## Boletín de problemas I\n",
    "\n",
    "\n",
    "Jose A. Hernando\n",
    "\n",
    "*Departamento de Física de Partículas. Universidade de Santiago de Compostela*\n",
    "\n",
    "Octubre 2021\n"
   ]
  },
  {
   "cell_type": "code",
   "execution_count": 1,
   "metadata": {
    "slideshow": {
     "slide_type": "fragment"
    }
   },
   "outputs": [
    {
     "name": "stdout",
     "output_type": "stream",
     "text": [
      " Last version  Tue Jun 28 17:22:36 2022\n"
     ]
    }
   ],
   "source": [
    "import time\n",
    "print(' Last version ', time.asctime() )"
   ]
  },
  {
   "cell_type": "code",
   "execution_count": 2,
   "metadata": {},
   "outputs": [],
   "source": [
    "# general imports\n",
    "%matplotlib inline\n",
    "%reload_ext autoreload\n",
    "%autoreload 2\n",
    "\n",
    "# numpy and matplotlib\n",
    "import numpy as np\n",
    "import matplotlib\n",
    "import matplotlib.pyplot as plt\n",
    "\n",
    "import scipy.constants as units"
   ]
  },
  {
   "cell_type": "markdown",
   "metadata": {
    "slideshow": {
     "slide_type": "slide"
    }
   },
   "source": [
    "## Unidades "
   ]
  },
  {
   "cell_type": "code",
   "execution_count": 3,
   "metadata": {
    "slideshow": {
     "slide_type": "slide"
    }
   },
   "outputs": [
    {
     "name": "stdout",
     "output_type": "stream",
     "text": [
      "hbar = 1.054572e-34 J/s\n",
      "c  = 2.997925e+08 m/s\n",
      "GeV  = 1.602177e-10 J \n",
      "hbar c  =  1.973270e-01 GeV fm\n"
     ]
    }
   ],
   "source": [
    "print('hbar = {:4e} J/s'.format(units.hbar))\n",
    "print('c  = {:4e} m/s'.format(units.c))\n",
    "GeV_to_Julio = units.giga * units.eV\n",
    "print('GeV  = {:4e} J '.format(GeV_to_Julio))\n",
    "hbarc = units.hbar * units.c / (GeV_to_Julio * units.femto) # GeV fm\n",
    "print('hbar c  =  {:4e} GeV fm'.format(hbarc))"
   ]
  },
  {
   "cell_type": "code",
   "execution_count": 4,
   "metadata": {
    "slideshow": {
     "slide_type": "slide"
    }
   },
   "outputs": [
    {
     "name": "stdout",
     "output_type": "stream",
     "text": [
      "electron mass 0.511 MeV\n",
      "proton   mass 0.938 GeV\n"
     ]
    }
   ],
   "source": [
    "me = (units.m_e * units.c**2)/(GeV_to_Julio) # GeV\n",
    "mp = (units.m_p * units.c**2)/(GeV_to_Julio) # GeV\n",
    "\n",
    "print('electron mass {:4.3f} MeV'.format(me *1e3))\n",
    "print('proton   mass {:4.3f} GeV'.format(mp))"
   ]
  },
  {
   "cell_type": "code",
   "execution_count": 5,
   "metadata": {
    "slideshow": {
     "slide_type": "slide"
    }
   },
   "outputs": [],
   "source": [
    "energy         = lambda m, p : np.sqrt(m**2 + p**2)\n",
    "momentum       = lambda m, E : np.sqrt(E**2 - m**2)\n",
    "gamma_lorentz  = lambda m, E : m/E\n",
    "beta_lorentz   = lambda p, E : p/E\n",
    "kinetic_energy = lambda m, E : E - m"
   ]
  },
  {
   "cell_type": "code",
   "execution_count": 6,
   "metadata": {},
   "outputs": [],
   "source": [
    "mass_invariant   = lambda p: np.sqrt(p[0]**2 - momentum_module(p)**2)\n",
    "momentum_module  = lambda p: np.sqrt( p[1:].dot(p[1:]) )\n",
    "phi_angle        = lambda p: np.arctan2(p[2], p[1])\n",
    "\n",
    "def theta_angle(p):\n",
    "    rho   = np.sqrt(p[1]**2 +p[2]**2)\n",
    "    theta = np.arctan2(rho, p[3])\n",
    "    phi   = np.arctan2(p[2], p[1])\n",
    "    return theta if phi < np.pi/2 else -theta\n",
    "\n",
    "def lorentz_matrix(beta):\n",
    "    gamma = 1/np.sqrt(1 - beta**2)\n",
    "    lorentz = np.zeros(16).reshape(4, 4)\n",
    "    lorentz[0, 0] = gamma; lorentz[0, 3] =  gamma * beta\n",
    "    lorentz[1, 1] = 1    ; lorentz[2, 2] = 1\n",
    "    lorentz[3, 3] = gamma; lorentz[3, 0] =  gamma*beta\n",
    "    return lorentz\n",
    "\n",
    "def lorentz_transform(beta, p):\n",
    "    lorentz = lorentz_matrix(beta)\n",
    "    return lorentz.dot(p.transpose())\n",
    "\n",
    "def p_write(p, name):\n",
    "    print('{:s}:  p  = [{:4.3f}, {:4.3f}, {:4.3f}, {:4.3f}]'.format(name, *p))\n",
    "    print('{:s}: |p| =  {:4.3f}, mass = {:4.3f}'.format(name, momentum_module(p), mass_invariant(p)))\n",
    "    return"
   ]
  },
  {
   "cell_type": "code",
   "execution_count": 7,
   "metadata": {},
   "outputs": [],
   "source": [
    "energy_cm_2body_s   = lambda s , mb, mc: (s + mb**2 - mc**2)/ (2 * np.sqrt(s))\n",
    "energy_cm_2body     = lambda ma, mb, mc: energy_cm_2body_s(ma**2, mb, mc)  \n",
    "momentum_cm_2body_s = lambda s , mb, mc: np.sqrt( (s - (mb + mc)**2) * ( s - (mb - mc)**2) )/ (2 * np.sqrt(s))\n",
    "momentum_cm_2body   = lambda ma, mb, mc: momentum_cm_2body_s(ma**2, mb, mc) "
   ]
  },
  {
   "cell_type": "markdown",
   "metadata": {
    "slideshow": {
     "slide_type": "slide"
    }
   },
   "source": [
    "### 1.2 ejercicio\n",
    "\n",
    "¿Cuál es la energía y velocidad de una partícula de 3 GeV de masa con un momento de 4 GeV en la dirección $z$? "
   ]
  },
  {
   "cell_type": "code",
   "execution_count": 8,
   "metadata": {
    "slideshow": {
     "slide_type": "subslide"
    }
   },
   "outputs": [
    {
     "name": "stdout",
     "output_type": "stream",
     "text": [
      "energy   (MeV) 5.000\n",
      "velocity (beta) 0.80 velocity (m/s) 2.398340e+08\n"
     ]
    },
    {
     "data": {
      "image/png": "[encoded data removed]",
      "text/plain": [
       "<Figure size 432x288 with 2 Axes>"
      ]
     },
     "metadata": {
      "needs_background": "light"
     },
     "output_type": "display_data"
    }
   ],
   "source": [
    "m, p   = 3, 4 # GeV\n",
    "E      = energy(m, p)\n",
    "b      = beta_lorentz(p, E)\n",
    "print('energy   (MeV) {:3.3f}'.format(E))\n",
    "print('velocity (beta) {:3.2f} velocity (m/s) {:2e}'.format(b, b * units.c))\n",
    "\n",
    "ps = np.linspace(1, 15, 100)\n",
    "plt.plot(ps, energy(m, ps), c = 'black', label = 'E')\n",
    "plt.xlabel(' p (GeV)'); plt.ylabel('E (GeV)'); plt.title('m = 3 GeV')\n",
    "plt.grid(); plt.legend();\n",
    "ax = plt.gca().twinx()\n",
    "plt.plot(ps, beta_lorentz(ps, energy(m, ps)), c = 'blue', label = r'$\\beta$')\n",
    "plt.ylabel(r'$\\beta$', c = 'blue', fontsize = 15); plt.legend(loc=4);"
   ]
  },
  {
   "cell_type": "markdown",
   "metadata": {
    "slideshow": {
     "slide_type": "slide"
    }
   },
   "source": [
    "### 1.3 ejercicio\n",
    "\n",
    "Compara energía de un Boeing 747, cuya masa es 400 toneladas, a su velocidad crucero de 850 km/h, con la aniquilación de un mosquito por un antimosquito, siendo la masa del mosquito 1 mg. [AB.1P1]"
   ]
  },
  {
   "cell_type": "code",
   "execution_count": 9,
   "metadata": {
    "slideshow": {
     "slide_type": "subslide"
    }
   },
   "outputs": [
    {
     "name": "stdout",
     "output_type": "stream",
     "text": [
      "energy boeing/mosquito 0.062\n",
      "boeing 1.114969e+10 J, mosquito 1.797510e+11 J\n",
      "boeing 6.959090e+19 GeV, mosquito 1.121918e+21 GeV\n"
     ]
    }
   ],
   "source": [
    "mb = 400e3  # kg\n",
    "mm = 1.0e-6 # kg\n",
    "v  = 850e3/(60*60) # m/s\n",
    "boeing_ene   = 0.5 * mb * v**2\n",
    "mosquito_ene = 2   * mm * units.c**2\n",
    "print('energy boeing/mosquito {:4.3f}'.format(boeing_ene/mosquito_ene))\n",
    "print('boeing {:e} J, mosquito {:e} J'.format(boeing_ene, mosquito_ene))\n",
    "print('boeing {:e} GeV, mosquito {:e} GeV'.format(boeing_ene/GeV_to_Julio, mosquito_ene/GeV_to_Julio))"
   ]
  },
  {
   "cell_type": "markdown",
   "metadata": {
    "slideshow": {
     "slide_type": "slide"
    }
   },
   "source": [
    "### 1.4 ejercicio\n",
    "\n",
    "La vida media del $\\pi^0$ es $\\tau_{\\pi} = 8.4 \\, 10^{-17}$ s, ¿cuál es su anchura de desintegración?. La anchura del mesón $\\eta$ es $\\Gamma_\\eta = $ 1.3 keV, ¿Cuál es su vida media? [AB.1.5]"
   ]
  },
  {
   "cell_type": "code",
   "execution_count": 10,
   "metadata": {
    "slideshow": {
     "slide_type": "subslide"
    }
   },
   "outputs": [
    {
     "name": "stdout",
     "output_type": "stream",
     "text": [
      " Gamma pi 7.835857e+00 eV\n",
      " tau eta 5.063169e-19 s\n"
     ]
    }
   ],
   "source": [
    "gamma = lambda tau   : units.hbar / (tau * units.eV)\n",
    "tau   = lambda gamma : units.hbar / (gamma * units.eV)\n",
    "tau_pi    = 8.4e-17 # 1/s\n",
    "gamma_eta = 1.3e3  # eV\n",
    "print(' Gamma pi {:e} eV'.format(gamma(tau_pi)))\n",
    "print(' tau eta {:e} s'.format(tau(gamma_eta)))"
   ]
  },
  {
   "cell_type": "markdown",
   "metadata": {
    "slideshow": {
     "slide_type": "slide"
    }
   },
   "source": [
    "### 1-5 ejercicio:\n",
    "\n",
    "Da en unidades naturales los valores:\n",
    "\n",
    "  * a) fs y fm en potencias de GeVs. \n",
    "\n",
    "  * b) m, s en potencias de eV.\n",
    "\n",
    "  * c) barn en función de GeV."
   ]
  },
  {
   "cell_type": "markdown",
   "metadata": {
    "slideshow": {
     "slide_type": "subslide"
    }
   },
   "source": [
    "a) sabemos $\\hbar c = 197 $ MeV fm = 1, luego fm $= \\frac{1}{197}$ MeV$^{-1}$\n",
    "\n",
    "c) sabemos $c = 2.9998 \\, 10^8$ m/s = 1,luego s $= 2.9998 \\, 10^8$ m, luego fs = c fm \n",
    "\n",
    "d) sabemos 1 barn = $10^{-28}$ m$^2$, cambiamos m a 1/GeV"
   ]
  },
  {
   "cell_type": "code",
   "execution_count": 12,
   "metadata": {
    "slideshow": {
     "slide_type": "subslide"
    }
   },
   "outputs": [
    {
     "name": "stdout",
     "output_type": "stream",
     "text": [
      "hbarc = 1.973270e-01 GeV fm\n",
      "fm    = 5.067731e+00 1/GeV \n",
      "fs    = 1.519267e+09 1/GeV \n",
      "m  = 5.067731e+06 1/eV, eV = 1.973270e-07 1/m \n",
      "barn = 2.568189e+03 1/GeV2 \n"
     ]
    }
   ],
   "source": [
    "print('hbarc = {:e} GeV fm'.format(hbarc))\n",
    "fm_un = 1/hbarc #1/GeV\n",
    "print('fm    = {:e} 1/GeV '.format(fm_un))\n",
    "ps_un = units.femto * (units.c / (units.femto)) * fm_un\n",
    "print('fs    = {:e} 1/GeV '.format(ps_un))\n",
    "m_un = fm_un/(units.femto) # 1/GeV\n",
    "print('m  = {:e} 1/eV, eV = {:e} 1/m '.format(m_un/units.giga, units.giga/m_un))\n",
    "#s_un = fs_un / (units.femto)\n",
    "#print('s  = {:e} 1/eV, eV = {:e} 1/s '.format(s_un/units.giga, units.giga/s_un))\n",
    "m_un = fm_un / (units.femto)\n",
    "barn = 1e-28 * (m_un)**2\n",
    "print('barn = {:e} 1/GeV2 '.format(barn))"
   ]
  },
  {
   "cell_type": "markdown",
   "metadata": {},
   "source": [
    "## Experimentos de blanco fijo y colisionador"
   ]
  },
  {
   "cell_type": "markdown",
   "metadata": {
    "slideshow": {
     "slide_type": "subslide"
    }
   },
   "source": [
    "### 2.1 ejercicio\n",
    "\n",
    "Demostrar que los procesos: $\\gamma \\to e + e^+$, $e + \\gamma \\to e$ no pueden tener lugar. [AB1.4]"
   ]
  },
  {
   "cell_type": "markdown",
   "metadata": {
    "slideshow": {
     "slide_type": "fragment"
    }
   },
   "source": [
    "En ambos casos no se conserva la energía y el momento entre el estado inicial y final\n",
    "\n",
    "a) Para $\\gamma \\to e + e^+$.\n",
    "\n",
    "Sea $a = \\gamma, b = e, c = e^+$, se cumple $p_a = p_b + p_c$. En el CM del sistema final  $p_b = (E, {\\bf p}), p_c = (E, - {\\bf p})$, que hace $p_b + p_c = (2E, {\\bf 0})$, donde $E = 2 \\sqrt{m^2_e + p^2} \\ge 2m_e \\gt 0$ mientras que en estado inicial $p_a = (E_i, E_i)$, lo que obligaría a que el fotón estuviese en reposo y en ese caso $E_i = 0$, .\n",
    "\n",
    "b) Para el caso $e + \\gamma \\to e$. Sea $a + b \\to c$. En el CM el estado final es $(m_e, {\\bf0})$ que debe ser igual a $p_a + p_b, \\, p_a= (E_e, {\\bf p}), p_b = (p, -{\\bf p})$, Ese hace:\n",
    "\n",
    "$$\n",
    "m^2_e = E^2_e + p^2 + 2Ep = m^2_e + 2 E_e p\n",
    "$$\n",
    "pero como $E_e \\gt m_e$, no puede cumplirse\n",
    "\n",
    "\n",
    "\n"
   ]
  },
  {
   "cell_type": "markdown",
   "metadata": {
    "slideshow": {
     "slide_type": "slide"
    }
   },
   "source": [
    "### 2.2 ejercicio\n",
    "\n",
    "Sean tres protones de $p = 3$ GeV emitidos entre ellos $120^o$ en un plano. ¿cuál es su masa invariante? [AB1.P2]"
   ]
  },
  {
   "cell_type": "markdown",
   "metadata": {
    "slideshow": {
     "slide_type": "subslide"
    }
   },
   "source": [
    "La masa invariante de un sistema de n-partículas con cuadrimomentos $p_i$ con $i=1, \\dots, n$ es:\n",
    "\n",
    "$$\n",
    "m^2 = \\left( \\sum_i p_i\\right)^2\n",
    "$$\n",
    "\n",
    "\n",
    "En la suma de los cuadrimomentos el momento se anula y la energís es:\n",
    "\n",
    "$$\n",
    "\\sum_i p_i = (3E, 0)\n",
    "$$\n",
    "\n",
    "Luego la masa es $3E$. "
   ]
  },
  {
   "cell_type": "code",
   "execution_count": 13,
   "metadata": {
    "slideshow": {
     "slide_type": "subslide"
    }
   },
   "outputs": [
    {
     "name": "stdout",
     "output_type": "stream",
     "text": [
      "mass 9.430 GeV \n"
     ]
    }
   ],
   "source": [
    "pp = 3 # GeV\n",
    "mp = units.m_p * units.c**2 / GeV_to_Julio # GeV\n",
    "ene = energy(mp, pp)\n",
    "print('mass {:4.3f} GeV '.format(3 * ene))"
   ]
  },
  {
   "cell_type": "markdown",
   "metadata": {
    "slideshow": {
     "slide_type": "slide"
    }
   },
   "source": [
    "### 2.3 ejercicio\n",
    "\n",
    "Calcula la luminosidad equivalente de un haz de protones de intensidad $10^{13}$ 1/s que golpea un tanque de 10 cm de hidrógeno líquido, $\\rho = 60$ kg/m$^3$. [AB1.6]"
   ]
  },
  {
   "cell_type": "markdown",
   "metadata": {
    "slideshow": {
     "slide_type": "subslide"
    }
   },
   "source": [
    "La razón de interacción en un blanco fijo es:\n",
    "$$\n",
    "R = \\phi_a \\sigma N_b\n",
    "$$\n",
    "\n",
    "donde $\\phi_a$ es el flujo, $\\sigma$, la sección eficaz, $N_b$, el número de partículas blanco.\n",
    "\n",
    "Y en función de la luminosidad $\\mathcal{L}$ de un colisionador:\n",
    "$$\n",
    "R = \\mathcal{L} \\sigma\n",
    "$$\n",
    "\n",
    "Por lo tanto, la luminosidad equivalente en un blanco fijo es:\n",
    "\n",
    "$$\n",
    "\\mathcal{L} = \\phi_a N_b\n",
    "$$"
   ]
  },
  {
   "cell_type": "markdown",
   "metadata": {
    "slideshow": {
     "slide_type": "subslide"
    }
   },
   "source": [
    "\n",
    "En este caso, dada una intensidad $I_a$, en una seccion $S$ tenemos un flujo:\n",
    "\n",
    "$$\n",
    "\\phi_a = I_a / S\n",
    "$$\n",
    "\n",
    "Y en esa sección $S$, una longitud $L$ y densidad $\\rho$ (en kg/m$^3$) tenemos tantos nucleones blanco:\n",
    "\n",
    "$$\n",
    "N_b = 10^{3} \\rho S L N_A,\n",
    "$$\n",
    "\n",
    "donde $N_A = 6.022 \\, 10^{23}$ es el número de Avogadro de átomos en un mol.\n",
    " \n",
    "Luego la luminosidad equivalente es:\n",
    "$$\n",
    "\\mathcal{L} = \\phi_a N_b = I_a \\rho 10^3 L\n",
    "$$"
   ]
  },
  {
   "cell_type": "code",
   "execution_count": 14,
   "metadata": {
    "slideshow": {
     "slide_type": "subslide"
    }
   },
   "outputs": [
    {
     "name": "stdout",
     "output_type": "stream",
     "text": [
      " Luminosity 3.613284e+40 1/(m2 s)\n"
     ]
    }
   ],
   "source": [
    "rho    = 60 # kg/m3\n",
    "length = 0.1 # m\n",
    "I_a    = 1e13\n",
    "n_sec  = rho * length * 1e3 * units.N_A\n",
    "print(' Luminosity {:e} 1/(m2 s)'.format(I_a * n_sec))"
   ]
  },
  {
   "cell_type": "markdown",
   "metadata": {
    "slideshow": {
     "slide_type": "slide"
    }
   },
   "source": [
    "### 2.4 ejercicio\n",
    "\n",
    "Sea la colisión de $p + p \\to p + p + a$, donde $a$ es una nueva partícula. ¿Cuál es la energía umbral del haz para producir la partícula $a$ con masa $m_a$ en:\n",
    "\n",
    "  * a) blanco fijo, \n",
    "  \n",
    "  * b) colisión en el CM? Sea esa partícula un $\\pi$, \n",
    "  \n",
    "  ¿Cuál es el momento del pión y la energía umbral en cada caso? \n",
    "  \n",
    "[AB1.P6]"
   ]
  },
  {
   "cell_type": "markdown",
   "metadata": {
    "slideshow": {
     "slide_type": "subslide"
    }
   },
   "source": [
    "a) en el caso de colisión en el CM, en el estado de menor energía las partículas están en reposo, tenemos, que los protones antes de la colisión tienen cuadrimomentos $p_i = (E_i, {\\bf p}_i)$ y después $(E_f, {\\bf p}_f)$, y la partícula a, $p_a = (m_a, {\\bf 0})$. La conservación de energía momento queda: $(2E_i,0) = (2E_f + m_a)$. Por lo tanto $ E_i = E_f + m_a/2$. Si consideramos que los protones finales quedan en reposo: \n",
    "\n",
    "$$\n",
    "E_i \\ge m_p + m_a/2\n",
    "$$\n",
    "\n",
    "\n",
    "b) en el caso de blanco fijo, el invariante $s$, que es un invariante Lorentz y no cambia antes y después de la interacción, es en laboratorio antes de la colisión $s = (E_i+m_p, {\\bf p})^2$ y en el CM después, $s = (2m_p +m_a, {\\bf 0})^2$. Así pues:\n",
    "\n",
    "$$\n",
    "(E_i+m_p)^2 - p^2 = (2m_p + m_a)^2, \\;\\; E_i^2 + 2 m_p E_i + m_p^2 - (E_i^2 - m^2_p) = (2m_p + m_a)^2, \\;\\;2 m_p E_i = (2m_p + m_a)^2 - 2 m^2_p\n",
    "$$\n",
    "\n",
    "Esto es:\n",
    "\n",
    "$$\n",
    "E_i = m_p + 2 m_a + \\frac{m^2_a}{m_p}\n",
    "$$"
   ]
  },
  {
   "cell_type": "code",
   "execution_count": 15,
   "metadata": {
    "slideshow": {
     "slide_type": "subslide"
    }
   },
   "outputs": [
    {
     "name": "stdout",
     "output_type": "stream",
     "text": [
      "threshold energy in (target)      = 1.228 GeV\n",
      "momentum of proton (target)       = 0.792 GeV\n",
      "kinetic energy of proton (target) = 0.289 GeV\n"
     ]
    }
   ],
   "source": [
    "ene_thr_tar = lambda ma, mp : mp + 2 * ma + ma * ma/mp\n",
    "ene_thr_col = lambda ma, mp : mp + ma/2\n",
    "\n",
    "mp = (units.m_p * units.c**2)/(GeV_to_Julio) # GeV\n",
    "ma = 0.135 # GeV\n",
    "\n",
    "e0lab = ene_thr_tar(ma, mp)\n",
    "plab = np.sqrt(e0lab**2 - mp**2)\n",
    "ekinlab = e0lab - mp\n",
    "\n",
    "print('threshold energy in (target)      = {:4.3f} GeV'.format(e0lab))\n",
    "print('momentum of proton (target)       = {:4.3f} GeV'.format(plab))\n",
    "print('kinetic energy of proton (target) = {:4.3f} GeV'.format(ekinlab))"
   ]
  },
  {
   "cell_type": "code",
   "execution_count": 16,
   "metadata": {
    "slideshow": {
     "slide_type": "subslide"
    }
   },
   "outputs": [
    {
     "name": "stdout",
     "output_type": "stream",
     "text": [
      "threshold energy in (coll)     = 1.006 GeV\n",
      "momentum of proton (coll)      = 0.362 GeV\n",
      "kinetic energy of proton (col) = 0.067 GeV\n"
     ]
    }
   ],
   "source": [
    "e0col = ene_thr_col(ma, mp)\n",
    "pcol = np.sqrt(e0col**2 - mp**2) \n",
    "ekincol = e0col - mp\n",
    "\n",
    "print('threshold energy in (coll)     = {:4.3f} GeV'.format(e0col))\n",
    "print('momentum of proton (coll)      = {:4.3f} GeV'.format(pcol))\n",
    "print('kinetic energy of proton (col) = {:4.3f} GeV'.format(ekincol))"
   ]
  },
  {
   "cell_type": "code",
   "execution_count": 17,
   "metadata": {
    "slideshow": {
     "slide_type": "subslide"
    }
   },
   "outputs": [
    {
     "data": {
      "image/png": "[encoded data removed]",
      "text/plain": [
       "<Figure size 432x288 with 1 Axes>"
      ]
     },
     "metadata": {
      "needs_background": "light"
     },
     "output_type": "display_data"
    }
   ],
   "source": [
    "mas = np.linspace(0., 1)\n",
    "plt.plot(mas, ene_thr_tar(mas, mp), label = 'target')\n",
    "plt.plot(mas, ene_thr_col(mas, mp), label = 'collider')\n",
    "plt.xlabel(r'$m_a$ (GeV)'); plt.ylabel('Energy (GeV)'); plt.grid(); plt.legend();"
   ]
  },
  {
   "cell_type": "markdown",
   "metadata": {},
   "source": [
    "### 2.5 ejercicio\n",
    "\n",
    "En un experimento de blanco fijo un haz de protones golpea un blanco, encontrar la energía del haz, $E$, para que tenga lugar el proceso:\n",
    "\n",
    "$$\n",
    "p + p \\to p + p + p + \\bar{p}\n",
    "$$"
   ]
  },
  {
   "cell_type": "markdown",
   "metadata": {},
   "source": [
    "El invariante $s$ es igual en los casos:\n",
    "\n",
    "i) inicial en el laboratorio: $s = (E+m_p,  {\\bf p})^2$\n",
    "\n",
    "ii) final en el CM con el caso de menor energía en el que las partículas quedan en reposo: $s = (4 m_p, {\\bf 0})$\n",
    "\n",
    "Así:\n",
    "\n",
    "$$\n",
    "(E+m_p)^2 - p^2 = 16 m^2_p, \\;\\; E^2 + 2Em_p + m^2_p - p^2 = 16 m^2_p, \\\\\n",
    "m^2_p + p^2 + 2 E m_p + m^2_p - p^2 = 16 m^2_p \\\\\n",
    "2 E m_p = 14 m^2_p, \\;\\; E = 7 m_p\n",
    "$$"
   ]
  },
  {
   "cell_type": "code",
   "execution_count": null,
   "metadata": {},
   "outputs": [],
   "source": [
    "print('Threshold energy {:4.3f} GeV'.format(7 * mp))"
   ]
  },
  {
   "cell_type": "markdown",
   "metadata": {
    "slideshow": {
     "slide_type": "slide"
    }
   },
   "source": [
    "### 2.5 ejercicio\n",
    "\n",
    "Considera un experimento de blanco fijo $p+p$, ¿cuál es la energía del haz de protones para que en el CM tenga la energía del LHC, $\\sqrt{s} = 14$ TeV?\n",
    "\n",
    "[MT1.P10]"
   ]
  },
  {
   "cell_type": "markdown",
   "metadata": {
    "slideshow": {
     "slide_type": "subslide"
    }
   },
   "source": [
    "En el sistema de laboratorio: $s = (E + m_p, {\\bf p})$, por lo que:\n",
    "\n",
    "$$\n",
    "(E+m_p)^2 - p^2 = s, \\;\\; 2E m_p + 2m^2_p = s \\\\\n",
    "E = \\frac{s- 2m^2_p}{2m_p}\n",
    "$$"
   ]
  },
  {
   "cell_type": "code",
   "execution_count": null,
   "metadata": {
    "slideshow": {
     "slide_type": "subslide"
    }
   },
   "outputs": [],
   "source": [
    "ss   = (14 * 1e3) **2 ## GeV^2\n",
    "ethr =  (ss - 2 * mp**2)/(2*mp)\n",
    "print('Energy threshold {:e} TeV'.format(ethr/1e3))"
   ]
  },
  {
   "cell_type": "markdown",
   "metadata": {
    "slideshow": {
     "slide_type": "slide"
    }
   },
   "source": [
    "*ejercicio*: La producción resonante del barión $\\Delta^0$ ocurren en la interacción de $\\pi^- + p$ en un experimento de blanco fijo con el momento del $\\pi^-$ es 300 MeV. Indica el valor de la masa del $\\Delta^0$."
   ]
  },
  {
   "cell_type": "markdown",
   "metadata": {
    "slideshow": {
     "slide_type": "slide"
    }
   },
   "source": [
    "*ejercicio*: En LEP el colisionador $e + e^+$ las corrientes de los haces eran de 1 mA, tenía una circunferencia de 27 km y cuatro paquetes en cada haz con una sección $1.8 \\, 10^4$ $\\mu$m$^2$. Calcula la luminosidad instantánea, $\\mathcal{L}(t)$."
   ]
  },
  {
   "cell_type": "markdown",
   "metadata": {
    "slideshow": {
     "slide_type": "slide"
    }
   },
   "source": [
    "*ejercicio*: En un futuro colisionador $e+e^+$ con $\\sqrt{s} = 250$ GeV, la sección eficaz $e+e^+ \\to H + Z$ es 250 fbarns. Si su luminosidad instantánea es $\\mathcal{L}(t) = 2 \\, 10^{34}$ cm$^{-2}$s$^{-1}$ y está operacional el 60% del tiempo, ¿cuántos bosones de Higgs produce en 5 años?"
   ]
  },
  {
   "cell_type": "markdown",
   "metadata": {
    "slideshow": {
     "slide_type": "slide"
    }
   },
   "source": [
    "*ejercicio*: En el colisionador HERA colisionaban protones de 820 GeV con electrones de 27.5 GeV, calcula su energía en el centro de masas."
   ]
  },
  {
   "cell_type": "markdown",
   "metadata": {
    "slideshow": {
     "slide_type": "slide"
    }
   },
   "source": [
    "## Cambios de sistema de referencia"
   ]
  },
  {
   "cell_type": "markdown",
   "metadata": {
    "slideshow": {
     "slide_type": "slide"
    }
   },
   "source": [
    "### 3.1 ejercicio\n",
    "\n",
    "El siguiente proceso se llama fotoproducción, $\\gamma + p \\to p + \\pi^0$, con en protón en reposo, encuentra la energía umbral del fotón. \n",
    "\n",
    "Los fotones de la radiación electromagnética de fondo del Universo tienen una energía máxima de 1 meV (el pico de la distribución está en 0.37 meV, corresponde a una temperatura de 3 K). Calcula la energía mínima de los protones de los rayos cósmicos para que se produzca fotoproducción. \n",
    "\n",
    "[AB1.P7]"
   ]
  },
  {
   "cell_type": "markdown",
   "metadata": {
    "slideshow": {
     "slide_type": "subslide"
    }
   },
   "source": [
    "a) El invariante $s$ antes de la interacción en el laboratorio y después en el CM son iguales:\n",
    "\n",
    "$$\n",
    "(E_\\gamma + m_p, {\\bf p_\\gamma})^2 = (m_p + m_\\pi, {\\bf 0})^2\n",
    "$$\n",
    "\n",
    "donde $|{\\bf p}_\\gamma| = E_\\gamma$, luego:\n",
    "$$\n",
    "(E_\\gamma + m_p)^2 - E^2_\\gamma = (m_p + m_\\pi)^2, \\\\\n",
    "2E_\\gamma m_p + m^2_p = m^2_p + 2 m_p m_\\pi + m^2_\\pi \\\\\n",
    "$$\n",
    "\n",
    "Por lo tanto:\n",
    "$$\n",
    "E_\\gamma = m_\\pi + \\frac{m^2_\\pi}{2m_p} \n",
    "$$"
   ]
  },
  {
   "cell_type": "code",
   "execution_count": null,
   "metadata": {
    "slideshow": {
     "slide_type": "subslide"
    }
   },
   "outputs": [],
   "source": [
    "mpi = 0.135 # GeV\n",
    "photoprod_ethr = lambda mpi, mp : mpi + 0.5 * mpi**2 /mp\n",
    "egamma = photoprod_ethr(mpi, mp)\n",
    "ss  = (mpi + mp)**2\n",
    "print('E threshold of photoproduction {:4.3f} GeV'.format(egamma))\n",
    "print('s           of photoproduction {:4.3f} GeV^2'.format(ss))"
   ]
  },
  {
   "cell_type": "markdown",
   "metadata": {
    "slideshow": {
     "slide_type": "subslide"
    }
   },
   "source": [
    "b) La colisión $\\gamma + p $ es máxima si es enfrentada, en ese caso tenemos:\n",
    "\n",
    "$$\n",
    "s = (E_\\gamma + E_p, {\\bf p}_\\gamma + {\\bf p}_p)^2 = (E_\\gamma + E_p)^2 - ({\\bf p}_\\gamma + {\\bf p}_p) = E^2_\\gamma + E^2_p + 2E_\\gamma E_p - E^2_\\gamma - p^2_p - 2 E_\\gamma p_p \\\\\n",
    "s = m^2_p + 2 E_\\gamma (E_p + p_p)\n",
    "$$\n",
    "\n",
    "La energía del protón, que como veremos es muy alta ypor lo tanto podemos aproximar $p_p \\simeq E_p, es$\n",
    "\n",
    "$$\n",
    "E_p \\simeq \\frac{s-m^2_p}{4E_\\gamma}\n",
    "$$\n",
    "\n"
   ]
  },
  {
   "cell_type": "code",
   "execution_count": null,
   "metadata": {
    "slideshow": {
     "slide_type": "fragment"
    }
   },
   "outputs": [],
   "source": [
    "egamma = 1e-3 / units.giga# # GeV\n",
    "ep     = (ss - mp**2) / ( 4 * egamma)\n",
    "print('proton energy {:e} GeV'.format(ep))"
   ]
  },
  {
   "cell_type": "markdown",
   "metadata": {
    "slideshow": {
     "slide_type": "slide"
    }
   },
   "source": [
    "### 3.2 ejercicio\n",
    "\n",
    "Sea una partícula $a$ con masa $m_a$ que se desintegra a otras dos $a \\to b+c$, con masas $m_b, m_c$. Da las expresiones de la energía y momento de $b, c$ en el CM. Demostrar que el momento de las partículas hijas en el CM es:\n",
    "            \n",
    "$$\n",
    "p^* = \\frac{1}{2m_a} \\sqrt{[m^2_a - (m_b+m_c)^2] [m^2_a - (m_b - m_c)^2]}\n",
    "$$\n",
    "\n",
    "[AB1.P11]"
   ]
  },
  {
   "cell_type": "markdown",
   "metadata": {
    "slideshow": {
     "slide_type": "subslide"
    }
   },
   "source": [
    "Ver [apéndice-fundamentos, sección del invariante s]\n",
    "\n",
    "$$\n",
    "E^*_b = \\frac{m^2_a + m^2_b - m^2_c}{2 m_a}, \\\\\n",
    "E^*_c = \\frac{m^2_a + m^2_c - m^2_b}{2 m_a}, \\\\\n",
    "$$\n",
    "$$\n",
    "p^*   = \\frac{\\sqrt{\\left[m^2_a - (m_b+m_c)^2 \\right] \\left[ m^2_a - (m_b - m_a)^2 \\right]}}{2m_a}   \n",
    "$$"
   ]
  },
  {
   "cell_type": "markdown",
   "metadata": {
    "slideshow": {
     "slide_type": "slide"
    }
   },
   "source": [
    "### 3.3 ejercicio\n",
    "\n",
    "Calcula la energía y momento de las partículas finales en el CM en la desintegración $\\pi^+ \\to \\mu^+ + \\nu_\\mu$ y $\\pi^+ \\to e^+ + \\nu_e$."
   ]
  },
  {
   "cell_type": "code",
   "execution_count": 18,
   "metadata": {
    "slideshow": {
     "slide_type": "subslide"
    }
   },
   "outputs": [
    {
     "name": "stdout",
     "output_type": "stream",
     "text": [
      "E muon 109.740 MeV\n",
      "E nu   29.860 MeV\n",
      "p      29.860 MeV\n"
     ]
    }
   ],
   "source": [
    "mpi = 139.6 # MeV\n",
    "mmu = 105.6 # MeV\n",
    "ss  = mpi**2\n",
    "emu = energy_cm_2body  (mpi, mmu, 0)\n",
    "enu = energy_cm_2body  (mpi, 0  , mmu)\n",
    "pcm = momentum_cm_2body(mpi, mmu, 0)\n",
    "print('E muon {:4.3f} MeV'.format(emu))\n",
    "print('E nu   {:4.3f} MeV'.format(enu))\n",
    "print('p      {:4.3f} MeV'.format(pcm))"
   ]
  },
  {
   "cell_type": "code",
   "execution_count": 19,
   "metadata": {},
   "outputs": [
    {
     "name": "stdout",
     "output_type": "stream",
     "text": [
      "E elec 69.801 MeV\n",
      "E nu   69.799 MeV\n",
      "p      69.799 MeV\n"
     ]
    }
   ],
   "source": [
    "mpi = 139.6 # MeV\n",
    "me  = 0.511 # MeV\n",
    "emu = energy_cm_2body  (mpi, me, 0)\n",
    "enu = energy_cm_2body  (mpi, 0 , me)\n",
    "pcm = momentum_cm_2body(mpi, me, 0)\n",
    "print('E elec {:4.3f} MeV'.format(emu))\n",
    "print('E nu   {:4.3f} MeV'.format(enu))\n",
    "print('p      {:4.3f} MeV'.format(pcm))"
   ]
  },
  {
   "cell_type": "markdown",
   "metadata": {
    "slideshow": {
     "slide_type": "slide"
    }
   },
   "source": [
    "### 3.4 ejercicio\n",
    "\n",
    "Sean $\\Lambda \\to p + \\pi^-$ y $\\Xi^- \\to \\Lambda + \\pi^-$. ¿Cuál es la carga de $\\Lambda$? Indica si son bariones o mesones $\\Lambda$ y $\\Xi^-$. Busca sus masas en PDG, sus vidad medias y su fracción de desintegración. ¿Qué tipo de desintegración es, débil o fuerte? Da el momento y energía en CM de la desintegración\n",
    "\n",
    "[AB1.P12]"
   ]
  },
  {
   "cell_type": "markdown",
   "metadata": {
    "slideshow": {
     "slide_type": "subslide"
    }
   },
   "source": [
    "Del [PDG](https://pdg.lbl.gov/2021/listings/contents_listings.html)\n",
    "\n",
    "$m(\\Lambda) = 1115.683 \\pm 0.006$ MeV, $\\mathcal{Br}(\\Lambda \\to p + \\pi^-) = 63.9 \\pm 0.5$ %, $\\tau = (2.632 \\pm 0.02) \\, 10^{-10}$ s\n",
    "\n",
    "Del [PDG](https://pdg.lbl.gov/2021/listings/contents_listings.html)\n",
    "                                        \n",
    "$m(\\Xi^-) = 1321.71 \\pm 0.07$ MeV, $\\mathcal{Br}(\\Xi^- \\to \\Lambda + \\pi^-) = 99.9$ %, $\\tau = (1.639 \\pm 0.015) \\, 10^{-10}$ s\n",
    "\n",
    "Los dos son bariones, $\\Lambda$ tiene carga 0, y por el valor de la vida media se desintegran débilmente."
   ]
  },
  {
   "cell_type": "code",
   "execution_count": null,
   "metadata": {
    "slideshow": {
     "slide_type": "subslide"
    }
   },
   "outputs": [],
   "source": [
    "mlambda = 1115.68 # MeV\n",
    "mp      = 938.27 # MeV\n",
    "mpi     = 139.6 # MeV\n",
    "ep  = energy_cm_2body  (mlambda, mp , mpi)\n",
    "epi = energy_cm_2body  (mlambda, mpi, mp)\n",
    "pp  = momentum_cm_2body(mlambda, mp , mpi)\n",
    "print('E p {:4.3f} MeV'   .format(ep))\n",
    "print('E pi   {:4.3f} MeV'.format(epi))\n",
    "print('p      {:4.3f} MeV'.format(pp))"
   ]
  },
  {
   "cell_type": "code",
   "execution_count": null,
   "metadata": {},
   "outputs": [],
   "source": [
    "mxi     = 1321.71 # MeV\n",
    "ep  = energy_cm_2body  (mxi, mlambda, mpi)\n",
    "epi = energy_cm_2body  (mxi, mpi    , mlambda)\n",
    "pp  = momentum_cm_2body(mxi, mlambda, mpi)\n",
    "print('E p {:4.3f} MeV'   .format(ep))\n",
    "print('E pi   {:4.3f} MeV'.format(epi))\n",
    "print('p      {:4.3f} MeV'.format(pp))"
   ]
  },
  {
   "cell_type": "markdown",
   "metadata": {
    "slideshow": {
     "slide_type": "slide"
    }
   },
   "source": [
    "### 3.5 ejercicio\n",
    "\n",
    "Encontrar el ángulo mínimo de apertura entre los fotones de la desintegración $\\pi^0 \\to \\gamma \\gamma$ si la energía del pión es 10 GeV. [MT2.9]"
   ]
  },
  {
   "cell_type": "markdown",
   "metadata": {
    "slideshow": {
     "slide_type": "subslide"
    }
   },
   "source": [
    "Sea $a \\to b + c$, $p_a = p_b + p_c$, en el sistema laboratorio\n",
    "$$\n",
    "s = (E_b + E_c, {\\bf p}_b + {\\bf p_c})^2 = (E_b + E_c)^2 - E^2_b - E^2_c- 2 E_b E_c \\cos \\theta_{bc} \\\\\n",
    " s = 2 E_b E_c ( 1 - \\cos \\theta_{bc}) = 4 E^2 x (1-x) \\sin^2 \\frac{\\theta_{bc}}{2} \\\\\n",
    " \\sin \\frac{\\theta_{bc}}{2} = \\sqrt{\\frac{s}{4 E^2 x (1-x)}}\n",
    "$$\n",
    "donde $x  \\in [0, 1]$, siendo $s = m^2_\\pi = (0.135)^2$ GeV$^2$ y $E = 10$ GeV.\n",
    "\n",
    "El valor mínimo de $\\theta_{bc}$ corresponde al máximo de $x(1-x)$ que es $x = 1/2$, esto es $E_b = E_c = 5$ GeV\n"
   ]
  },
  {
   "cell_type": "code",
   "execution_count": 24,
   "metadata": {
    "slideshow": {
     "slide_type": "subslide"
    }
   },
   "outputs": [
    {
     "name": "stdout",
     "output_type": "stream",
     "text": [
      "theta min angle 0.0270 rad, 1.547 degrees\n"
     ]
    },
    {
     "data": {
      "image/png": "[encoded data removed]",
      "text/plain": [
       "<Figure size 432x288 with 1 Axes>"
      ]
     },
     "metadata": {
      "needs_background": "light"
     },
     "output_type": "display_data"
    }
   ],
   "source": [
    "mpi = 0.135 ## GeV\n",
    "E   = 10 # GeV\n",
    "\n",
    "def pi_theta(x, ss, E):    \n",
    "    den = 4 * E**2 * x * (1 - x)\n",
    "    if (den == 0): return np.nan\n",
    "    return 2 * np.arcsin( np.sqrt(ss/den) )\n",
    "\n",
    "xs = np.linspace(0., 1.,  100)\n",
    "thetas = [180 * pi_theta(xi, mpi*mpi, E)/ np.pi for xi in xs]\n",
    "plt.plot(E * xs, thetas); \n",
    "plt.xlabel(r'$E_b$ foton (GeV)'); plt.ylabel(r'$\\theta_{bc}$ ($^O$)'); plt.grid();\n",
    "\n",
    "theta_min = pi_theta(0.5, mpi*mpi, E)\n",
    "print('theta min angle {:5.4f} rad, {:5.3f} degrees'.format(theta_min, 180*theta_min/np.pi))"
   ]
  },
  {
   "cell_type": "markdown",
   "metadata": {
    "slideshow": {
     "slide_type": "subslide"
    }
   },
   "source": [
    "Por otro lado el valor mínimo de la energía, de la fracción $x$, debe corresponder al máximo $\\theta = \\pi, \\sin^2 \\theta/2 = 1$, por lo que:\n",
    "\n",
    "$$\n",
    "x(1-x) = \\frac{s}{4E^2},\\;\\; x = \\frac{1 - \\sqrt{1 - s/E^2}}{2} \n",
    "$$"
   ]
  },
  {
   "cell_type": "code",
   "execution_count": 25,
   "metadata": {
    "slideshow": {
     "slide_type": "subslide"
    }
   },
   "outputs": [
    {
     "name": "stdout",
     "output_type": "stream",
     "text": [
      "minimum energy 455.646 keV\n"
     ]
    }
   ],
   "source": [
    "mpi = 0.135 # GeV\n",
    "E   = 10. # GeV\n",
    "xmin = (1 - np.sqrt(1 - mpi*mpi/E**2))/2\n",
    "print('minimum energy {:4.3f} keV'.format(E * xmin * 1e6))"
   ]
  },
  {
   "cell_type": "markdown",
   "metadata": {
    "slideshow": {
     "slide_type": "subslide"
    }
   },
   "source": [
    "Otra forma de hacer el ejercicio es mediante las transformaciones de Lorentz.\n",
    "\n",
    "En el sistema CM, los cuadrimomentos de los fotones son:\n",
    "\n",
    "$$\n",
    "p_b = \\frac{m_\\pi}{2} (1, 0, \\sin \\theta^*, \\cos \\theta^*), \\\\\n",
    "p_c = \\frac{m_\\pi}{2} (1, 0, -\\sin \\theta^*, -\\cos \\theta^*),\n",
    "$$\n",
    "donde $\\theta^*$ es el ángulo respecto al eje $z$.\n",
    "\n",
    "En el sistema de laboratorio, los cuadrimomentos son:\n",
    "$$\n",
    "p'_b = \\frac{m_\\pi}{2} \\left(\\gamma(1 + \\beta \\cos \\theta^*), 0, \\sin \\theta^*, \\gamma(\\beta + \\cos \\theta^*) \\right), \\\\\n",
    "p'_c = \\frac{m_\\pi}{2} \\left(\\gamma(1 - \\beta \\cos \\theta^*), 0, -\\sin \\theta^*, \\gamma(\\beta - \\cos \\theta^*) \\right),\n",
    "$$"
   ]
  },
  {
   "cell_type": "markdown",
   "metadata": {
    "slideshow": {
     "slide_type": "subslide"
    }
   },
   "source": [
    "En producto escalar de los momentos de los fotones en el sistema laboratorio es:\n",
    "  \n",
    "$$\n",
    "{\\bf p'}_{b} {\\bf p'}_c = \\frac{m^2_\\pi}{4} \\left( - \\sin^2 \\theta^* + \\gamma^2 (\\beta^2 - \\cos^2 \\theta^*)\\right) \\\\\n",
    "= \\frac{m^2_\\pi}{4} \\gamma^2 \\left( -(1 - \\beta^2) (1-\\cos^2\\theta^*) + (\\beta^2 - \\cos^2 \\theta^*) )\\right)\n",
    "= \\frac{m^2_\\pi}{4}\\gamma^2 \\left( \\beta^2 - 1 - \\beta^2 \\cos^2\\theta^* \\right)\n",
    "$$\n",
    "donde $\\gamma^2 = (1-\\beta^2)^{-1}$\n"
   ]
  },
  {
   "cell_type": "markdown",
   "metadata": {
    "slideshow": {
     "slide_type": "subslide"
    }
   },
   "source": [
    "\n",
    "Por otra parte: ${\\bf p'}_{b} {\\bf p'}_c = E_b E_c \\cos \\theta_{bc}$, así:\n",
    "\n",
    "$$\n",
    "E_b = \\frac{m_\\pi}{2} \\gamma (1 + \\beta \\cos \\theta^*), \\\\\n",
    "E_c = \\frac{m_\\pi}{2} \\gamma (1 - \\beta \\cos \\theta^*), \\\\\n",
    "\\cos \\theta_{bc} = \\frac{2\\beta^2 -1 - \\beta^2 \\cos^2 \\theta^*}{1 - \\beta^2 \\cos^2 \\theta^*}\n",
    "$$\n",
    "\n",
    "En este caso para $\\theta^* = \\pi/2$ tenemos $\\theta_{bc}$ mínimo:\n",
    "$$\n",
    "\\cos \\theta_{bc} = 2\\beta^2 -1\n",
    "$$\n",
    "Donde:\n",
    "$$\n",
    "    \\beta = \\frac{p}{E} = \\sqrt{1 - \\frac{m^2}{E^2}}\n",
    "$$"
   ]
  },
  {
   "cell_type": "code",
   "execution_count": null,
   "metadata": {
    "slideshow": {
     "slide_type": "subslide"
    }
   },
   "outputs": [],
   "source": [
    "beta = np.sqrt(E**2 - mpi*mpi)/E\n",
    "ctheta = 2*beta*beta -1\n",
    "thetamin = np.arccos(ctheta)\n",
    "print('theta min {:4.3f} rad, {:4.3f} degrees'.format(thetamin, 180 * thetamin / np.pi)) \n",
    "\n",
    "ctheta_bc = lambda theta: (2*beta**2 -1 - beta**2 * np.cos(theta)**2) / (1 - beta**2 * np.cos(theta)**2)\n",
    "thetas = np.linspace(0, np.pi, 100)\n",
    "plt.plot(thetas, np.arccos(ctheta_bc(thetas)));\n",
    "plt.grid(); plt.xlabel(r'$\\theta^*$ (rad)'); plt.ylabel(r'$\\theta_{bc}$ (rad)');"
   ]
  },
  {
   "cell_type": "markdown",
   "metadata": {
    "slideshow": {
     "slide_type": "subslide"
    }
   },
   "source": [
    "La energía mínima de $E_c$ correspondera para el caso $\\theta^* = 0$.\n",
    "\n",
    "$$\n",
    "E^{min}_c = \\frac{m_\\pi}{2} \\gamma (1 - \\beta)\n",
    "$$\n"
   ]
  },
  {
   "cell_type": "code",
   "execution_count": 23,
   "metadata": {
    "slideshow": {
     "slide_type": "subslide"
    }
   },
   "outputs": [
    {
     "ename": "NameError",
     "evalue": "name 'beta' is not defined",
     "output_type": "error",
     "traceback": [
      "\u001b[0;31m---------------------------------------------------------------------------\u001b[0m",
      "\u001b[0;31mNameError\u001b[0m                                 Traceback (most recent call last)",
      "\u001b[0;32m/var/folders/56/_pmdccc97ljb_l3v3s6gkrxm0000gn/T/ipykernel_97114/520478694.py\u001b[0m in \u001b[0;36m<module>\u001b[0;34m\u001b[0m\n\u001b[0;32m----> 1\u001b[0;31m \u001b[0memin\u001b[0m \u001b[0;34m=\u001b[0m \u001b[0;34m(\u001b[0m\u001b[0mmpi\u001b[0m\u001b[0;34m/\u001b[0m\u001b[0;36m2\u001b[0m\u001b[0;34m)\u001b[0m \u001b[0;34m*\u001b[0m \u001b[0;34m(\u001b[0m\u001b[0mE\u001b[0m\u001b[0;34m/\u001b[0m\u001b[0mmpi\u001b[0m\u001b[0;34m)\u001b[0m \u001b[0;34m*\u001b[0m \u001b[0;34m(\u001b[0m\u001b[0;36m1\u001b[0m \u001b[0;34m-\u001b[0m \u001b[0mbeta\u001b[0m\u001b[0;34m)\u001b[0m\u001b[0;34m\u001b[0m\u001b[0;34m\u001b[0m\u001b[0m\n\u001b[0m\u001b[1;32m      2\u001b[0m \u001b[0mprint\u001b[0m\u001b[0;34m(\u001b[0m\u001b[0;34m'E foton min {:4.3f} KeV'\u001b[0m\u001b[0;34m.\u001b[0m\u001b[0mformat\u001b[0m\u001b[0;34m(\u001b[0m\u001b[0memin\u001b[0m \u001b[0;34m*\u001b[0m \u001b[0;36m1e6\u001b[0m\u001b[0;34m)\u001b[0m\u001b[0;34m)\u001b[0m\u001b[0;34m\u001b[0m\u001b[0;34m\u001b[0m\u001b[0m\n",
      "\u001b[0;31mNameError\u001b[0m: name 'beta' is not defined"
     ]
    }
   ],
   "source": [
    "emin = (mpi/2) * (E/mpi) * (1 - beta)\n",
    "print('E foton min {:4.3f} KeV'.format(emin * 1e6))"
   ]
  },
  {
   "cell_type": "markdown",
   "metadata": {
    "slideshow": {
     "slide_type": "slide"
    }
   },
   "source": [
    "### Ejercicio 3.6\n",
    "\n",
    "La partícula $\\Lambda$, se desintegra $\\Lambda \\to p + \\pi^-$. Si $p_\\Lambda = 2$ GeV y el $p$ sale con $\\theta^* = 30^o$ en el CM respecto la dirección de $\\Lambda$, calcular: \n",
    "\n",
    "a) la energía de $\\Lambda, \\pi^-$ en el CM. \n",
    "\n",
    "b) el factor de Lorentz $\\gamma$ y $\\beta$ entre el sistema laboratorio y el CM.\n",
    "\n",
    "c) ángulo y momento del $\\pi, p$ en el sistema laboratorio.\n",
    "\n",
    "[AB1.15]"
   ]
  },
  {
   "cell_type": "code",
   "execution_count": null,
   "metadata": {
    "slideshow": {
     "slide_type": "subslide"
    }
   },
   "outputs": [],
   "source": [
    "mlambda = 1115.68 # MeV\n",
    "mp      = 938.27 # MeV\n",
    "mpi     = 139.57 # MeV\n",
    "ep  = energy_cm_2body  (mlambda, mp , mpi)\n",
    "epi = energy_cm_2body  (mlambda, mpi, mp)\n",
    "pp  = momentum_cm_2body(mlambda, mp , mpi)\n",
    "print('E p  = {:4.3f} MeV'.format(ep))\n",
    "print('E pi = {:4.3f} MeV'.format(epi))\n",
    "print('p    = {:4.3f} MeV'.format(pp))"
   ]
  },
  {
   "cell_type": "code",
   "execution_count": null,
   "metadata": {
    "slideshow": {
     "slide_type": "slide"
    }
   },
   "outputs": [],
   "source": [
    "plambda = 2000\n",
    "elambda = energy(mlambda, plambda)\n",
    "print('lambda energy {:4.3f} MeV'.format(elambda))\n",
    "gamma = gamma_lorentz(elambda, mlambda)\n",
    "beta  = beta_lorentz (plambda, elambda)\n",
    "print('beta = {:4.3f}, gamma {:4.3f} '.format(beta, gamma))"
   ]
  },
  {
   "cell_type": "markdown",
   "metadata": {},
   "source": [
    "Se cumple que: \n",
    "$$\n",
    " p_x  = p \\sin \\theta = p^* \\sin \\theta^*,\\\\ \n",
    "p_z  = p \\cos \\theta = \\gamma(\\beta E + p^* \\cos \\theta^*) \n",
    "$$\n",
    "donde $p, \\theta$ es el momento y el ángulo en el lab.\n",
    "\n",
    "Luego:\n",
    "\n",
    "$$\n",
    "\\tan \\theta = \\frac{p^* \\sin \\theta}{\\gamma(\\beta E + p^* \\cos \\theta^*)}\n",
    "$$\n"
   ]
  },
  {
   "cell_type": "code",
   "execution_count": null,
   "metadata": {},
   "outputs": [],
   "source": [
    "theta_cm = (30./180.) * np.pi\n",
    "pp_cm   = np.array((ep ,  pp *np.sin(theta_cm), 0,  pp * np.cos (theta_cm)))\n",
    "ppi_cm  = np.array((epi, -pp *np.sin(theta_cm), 0, -pp * np.cos (theta_cm)))\n",
    "pla_cm  = ppi_cm + pp_cm\n",
    "\n",
    "p_write(ppi_cm, 'pi')\n",
    "p_write(pp_cm , 'p')\n",
    "p_write(pla_cm, 'lambda')\n",
    "print('pi : theta = {:4.1f} (o) '.format(theta_angle(ppi_cm) * (180/np.pi)))"
   ]
  },
  {
   "cell_type": "code",
   "execution_count": null,
   "metadata": {},
   "outputs": [],
   "source": [
    "lorentz = lorentz_matrix(beta)\n",
    "pp_lab  = lorentz.dot( pp_cm .transpose() )\n",
    "ppi_lab = lorentz.dot( ppi_cm.transpose() )\n",
    "pla_lab = ppi_lab + pp_lab\n",
    "\n",
    "p_write(ppi_lab, 'pi')\n",
    "p_write(pp_lab , 'p')\n",
    "p_write(pla_lab, 'lambda')\n",
    "print('p  : theta = {:4.1f} (o) '.format(theta_angle(pp_lab ) * (180/np.pi)))\n",
    "print('pi : theta = {:4.1f} (o) '.format(theta_angle(ppi_lab) * (180/np.pi)))"
   ]
  },
  {
   "cell_type": "markdown",
   "metadata": {
    "slideshow": {
     "slide_type": "slide"
    }
   },
   "source": [
    "### Ejercicio \n",
    "\n",
    "Calcula el número de $Z$ producidos en OPAL en la energía $\\sqrt{s}= m_Z$ y durante un año ($10^7$ s). Calcula el número de pares $\\tau + \\tau^+$ producidos, la distancia media que recorren, y el número de eventos esperados $\\mu+ \\mu^+$ que provienen de $\\tau + \\tau^+$.\n",
    "\n",
    "Calcula la distancia media recorrida por los $\\tau$"
   ]
  },
  {
   "cell_type": "markdown",
   "metadata": {
    "slideshow": {
     "slide_type": "subslide"
    }
   },
   "source": [
    "La luminosidad del LEP $\\mathcal{L} = 10^{32}$ 1/cm$^2$s, y la sección eficaz en el pico $\\sigma = $\n",
    "\n",
    "La amchura desintegración a $\\tau + \\tau^+$ es $\\Gamma_{\\tau\\tau}$ siendo la total $\\Gamma_Z = 2.5$ GeV\n",
    "\n",
    "Y finalmente la fracción de desintegración $\\mathcal{Br}(\\tau \\to \\mu + \\bar{\\nu}_\\mu + \\nu_\\tau)$\n",
    "\n",
    "Luego\n",
    "\n",
    "$$\n",
    "N = \\mathcal{L} \\, \\sigma \\, t \\, \\frac{\\Gamma_{\\tau\\tau}}{\\Gamma_Z} \\, \\mathcal{Br}^2\n",
    "$$    "
   ]
  },
  {
   "cell_type": "code",
   "execution_count": 1,
   "metadata": {},
   "outputs": [
    {
     "name": "stdout",
     "output_type": "stream",
     "text": [
      "Z producced 30.0000 M \n",
      "Z mumu producced 1.0200 M\n",
      "Z mumu detected  1.0200 M\n"
     ]
    }
   ],
   "source": [
    "sigma = 60e-9   # nb\n",
    "barn  = 1e-24 # cm2\n",
    "lumi  = 5e31  # 1/cm2s\n",
    "time  = 1e7\n",
    "G_Z   = 2.5   # GeV\n",
    "G_Zmu = 0.085 # GeV\n",
    "eff   = 1. \n",
    "\n",
    "nZ      = lumi * sigma * barn * time\n",
    "nZ_mumu = nZ * G_Zmu/G_Z\n",
    "n_mumu  = nZ_mumu * (eff**2)\n",
    "\n",
    "print('Z producced {:4.4f} M '.format(nZ/1e6))\n",
    "print('Z mumu producced {:4.4f} M'.format(nZ_mumu/1e6))\n",
    "print('Z mumu detected  {:4.4f} M'.format(n_mumu/1e6))"
   ]
  },
  {
   "cell_type": "code",
   "execution_count": 3,
   "metadata": {},
   "outputs": [
    {
     "name": "stdout",
     "output_type": "stream",
     "text": [
      "Z producted 30.0 M\n",
      "Zmumu estimated 1.020 M\n",
      "Br (Z->mumu) 0.0340\n",
      "Gamma Z->mumu 85.0000 MeV\n"
     ]
    }
   ],
   "source": [
    "n  = n_mumu\n",
    "nZ = sigma * barn * time * lumi\n",
    "print('Z producted {:4.1f} M'.format(nZ/1e6))\n",
    "nZ_mumu = n/(eff**2)\n",
    "print('Zmumu estimated {:4.3f} M'.format(nZ_mumu/1e6))\n",
    "Br   = nZ_mumu / nZ\n",
    "print('Br (Z->mumu) {:4.4f}'.format(Br))\n",
    "G_mumu = Br * G_Z\n",
    "print('Gamma Z->mumu {:4.4f} MeV'.format(1e3*G_mumu))"
   ]
  },
  {
   "cell_type": "code",
   "execution_count": null,
   "metadata": {},
   "outputs": [],
   "source": []
  },
  {
   "cell_type": "markdown",
   "metadata": {
    "slideshow": {
     "slide_type": "slide"
    }
   },
   "source": [
    "*ejercicio*: En el proceso $a + b \\to c + d$, consideramos los tres invarantes de Maldelstam, $s = (p_a+p_b)^2, \\, t = (p_c-p_a)^2, \\, u = (p_d-p_a)^2$, demostrar que:\n",
    "\n",
    "$$\n",
    "s + t + u = m^2_a + m^2_b + m^2_c + m^2_d\n",
    "$$"
   ]
  },
  {
   "cell_type": "markdown",
   "metadata": {},
   "source": [
    "## 4 Básicos de diagramas de Feynman"
   ]
  },
  {
   "cell_type": "markdown",
   "metadata": {
    "slideshow": {
     "slide_type": "slide"
    }
   },
   "source": [
    "*ejercicio*: Indica si son posibles o no y por qué los siguientes vértices:\n",
    "        \n",
    "  * $e, e, \\gamma$\n",
    "  \n",
    "  * $\\nu_e, \\nu_e, \\gamma$\n",
    "  \n",
    "  * $e, e^+, \\gamma$\n",
    "  \n",
    "  * $\\nu_e, \\nu_e, Z$\n",
    "  \n",
    "  * $e, \\mu, \\gamma$\n",
    "  \n",
    "  * $e, \\nu_e, W$\n",
    "  \n",
    "  * $e, \\tau, Z$\n",
    "  \n",
    "  * $e, \\nu_\\mu, W$\n",
    "  \n",
    "  * $e, e, g$\n",
    "  \n",
    "  * $b, b, g$\n",
    "  \n",
    "  * $d, s, g$\n",
    "  \n",
    "  * $\\gamma, \\gamma, \\gamma$\n",
    "  \n",
    "  * $u, u, W$\n",
    "  \n",
    "  * $u, d, W$\n",
    "  \n",
    "  * $d, t, W$\n",
    "  "
   ]
  },
  {
   "cell_type": "markdown",
   "metadata": {
    "slideshow": {
     "slide_type": "slide"
    }
   },
   "source": [
    "*ejercicio*: Dibuja los diagramas de Feynman para los siguientes procesos:\n",
    "\n",
    "  * $\\tau \\to \\pi^- + \\nu_\\tau$, siendo $\\pi^-$ la combinación de quarks ($d\\bar{u}$)\n",
    "  \n",
    "  * $\\pi^+ \\to \\mu^+ + \\nu_\\mu$.\n",
    "  \n",
    "  * $K^+ \\to  \\mu^+ + \\nu_\\mu$, siendo $K^+$ la combinación ($s\\bar{u}$)\n"
   ]
  },
  {
   "cell_type": "markdown",
   "metadata": {
    "slideshow": {
     "slide_type": "slide"
    }
   },
   "source": [
    "*ejercicio*: Dibuja los diagramas de Fynman para los sigientes procesos:\n",
    "\n",
    "  * $\\tau \\to \\mu + \\bar{\\nu}_\\mu + \\nu_\\tau$\n",
    "  \n",
    "  * $\\tau \\to e + \\bar{\\nu}_e + \\nu_\\tau$\n",
    "  \n",
    "  * $\\mu \\to e + \\bar{\\nu}_e + \\nu_\\mu$"
   ]
  },
  {
   "cell_type": "markdown",
   "metadata": {
    "slideshow": {
     "slide_type": "slide"
    }
   },
   "source": [
    "*ejercicio*: Considera $\\pi^0$ una combinación $(u\\bar{u})$ y dibuja e indica su relativa intensidad de las siguientes desintegraciones teniendo en cuenta en número de vértices:\n",
    "\n",
    "  * $\\pi^0 \\to \\gamma \\gamma$\n",
    "  \n",
    "  * $\\pi^0 \\to \\gamma + e + e^+$\n",
    "  \n",
    "  * $\\pi^0 \\to e + e^+$"
   ]
  },
  {
   "cell_type": "markdown",
   "metadata": {
    "slideshow": {
     "slide_type": "slide"
    }
   },
   "source": [
    "*ejercicio*: Dibuja los diagramas árbol de las posible interacciones, e indica si son aniquilaciones o interacciones:\n",
    "        \n",
    "  * $e+e\\to e+e$\n",
    "  \n",
    "  * $e+e^+ \\to \\mu + \\mu^+$\n",
    "  \n",
    "  * $e + e^+ \\to e + e^+$\n",
    "  \n",
    "  * $e + \\nu_e \\to e + \\nu_e$\n",
    "  \n",
    "  * $e + \\bar{\\nu}_e \\to e + \\bar{\\nu}_e$"
   ]
  },
  {
   "cell_type": "markdown",
   "metadata": {
    "slideshow": {
     "slide_type": "slide"
    }
   },
   "source": [
    "## 4 Detectors\n"
   ]
  },
  {
   "cell_type": "markdown",
   "metadata": {},
   "source": [
    "### 4.1 ejercicio\n",
    "\n",
    "Sea un $\\pi^\\pm$ y un $K^\\pm$ con el mismo momento $p$ 4 GeV, evaluar la distancia $L$ que deben recorrer entre dos centelleadores cuya resolución temporal es $\\sigma_t = 300$ ps, para que puedan distinguirse con la medida de su tiempo de vuelo en al menos dos descibaciones estándard.\n",
    "\n",
    "[AB1.24]"
   ]
  },
  {
   "cell_type": "markdown",
   "metadata": {},
   "source": [
    "## Otros"
   ]
  },
  {
   "cell_type": "markdown",
   "metadata": {
    "slideshow": {
     "slide_type": "slide"
    }
   },
   "source": [
    "*ejercicio*: Demostrar que en un sistema de partículas con cuadrimomentos $p_i$, $i = 1, \\dots, n$, la cantidad: \n",
    "$$\n",
    "\\left( \\sum_i E_i \\right)^2 - \\left( \\sum_i {\\bf p}_i \\right)^2\n",
    "$$\n",
    "es un invariante Lorentz"
   ]
  },
  {
   "cell_type": "markdown",
   "metadata": {},
   "source": [
    "*ejercicio*: Demostrar que $\\hat{P} \\, u_+ (\\theta, \\phi) = v_-(\\pi-\\theta, \\pi + \\theta)$"
   ]
  },
  {
   "cell_type": "markdown",
   "metadata": {
    "slideshow": {
     "slide_type": "slide"
    }
   },
   "source": [
    "### Bibliografía\n",
    "\n",
    "* \"Elementary Particle Physics\", S. Bettini, Cambridge.\n",
    "\n",
    "* \"Modern Particle Physics\", Mark Thomson, Cambridge.\n",
    "\n",
    "* \"Lepton and Quark\", Francis Halzen, Alan D. Martin, Josh Wiley & Sons.\n",
    "\n"
   ]
  }
 ],
 "metadata": {
  "anaconda-cloud": {},
  "celltoolbar": "Slideshow",
  "kernelspec": {
   "display_name": "Python 3",
   "language": "python",
   "name": "python3"
  },
  "language_info": {
   "codemirror_mode": {
    "name": "ipython",
    "version": 3
   },
   "file_extension": ".py",
   "mimetype": "text/x-python",
   "name": "python",
   "nbconvert_exporter": "python",
   "pygments_lexer": "ipython3",
   "version": "3.8.8"
  }
 },
 "nbformat": 4,
 "nbformat_minor": 4
}
