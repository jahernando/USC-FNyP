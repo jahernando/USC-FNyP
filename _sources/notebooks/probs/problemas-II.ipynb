{
 "cells": [
  {
   "cell_type": "markdown",
   "metadata": {
    "slideshow": {
     "slide_type": "slide"
    }
   },
   "source": [
    "## Boletín de problemas II\n",
    "\n",
    "\n",
    "Jose A. Hernando\n",
    "\n",
    "*Departamento de Física de Partículas. Universidade de Santiago de Compostela*\n",
    "\n",
    "November 2024\n"
   ]
  },
  {
   "cell_type": "code",
   "execution_count": 1,
   "metadata": {
    "slideshow": {
     "slide_type": "fragment"
    }
   },
   "outputs": [
    {
     "name": "stdout",
     "output_type": "stream",
     "text": [
      " Last version  Mon Nov  4 11:20:17 2024\n"
     ]
    }
   ],
   "source": [
    "import time\n",
    "print(' Last version ', time.asctime() )"
   ]
  },
  {
   "cell_type": "code",
   "execution_count": 2,
   "metadata": {},
   "outputs": [],
   "source": [
    "# general imports\n",
    "%matplotlib inline\n",
    "%reload_ext autoreload\n",
    "%autoreload 2\n",
    "\n",
    "# numpy and matplotlib\n",
    "import numpy as np\n",
    "import matplotlib\n",
    "import matplotlib.pyplot as plt\n",
    "\n",
    "import scipy.constants as units"
   ]
  },
  {
   "cell_type": "code",
   "execution_count": 4,
   "metadata": {},
   "outputs": [],
   "source": [
    "energy         = lambda m, p : np.sqrt(m**2 + p**2)\n",
    "momentum       = lambda m, E : np.sqrt(E**2 - m**2)\n",
    "gamma_lorentz  = lambda m, E : m/E\n",
    "beta_lorentz   = lambda p, E : p/E\n",
    "kinetic_energy = lambda m, E : E - m"
   ]
  },
  {
   "cell_type": "markdown",
   "metadata": {},
   "source": [
    "------\n",
    "\n",
    "**problema 1**\n",
    "\n",
    "La vida media del $\\pi^0$ es $\\tau_{\\pi} = 8.4 \\, 10^{-17}$ s, ¿cuál es su anchura de desintegración?. La anchura del mesón $\\eta$ es $\\Gamma_\\eta = $ 1.3 keV, ¿Cuál es su vida media? [AB.1.5]\n"
   ]
  },
  {
   "cell_type": "code",
   "execution_count": 11,
   "metadata": {},
   "outputs": [
    {
     "name": "stdout",
     "output_type": "stream",
     "text": [
      " Gamma pi 7.835857e+00 eV\n",
      " tau eta 5.063169e-19 s\n"
     ]
    }
   ],
   "source": [
    "gamma = lambda tau   : units.hbar / (tau * units.eV)\n",
    "tau   = lambda gamma : units.hbar / (gamma * units.eV)\n",
    "tau_pi    = 8.4e-17 # 1/s\n",
    "gamma_eta = 1.3e3  # eV\n",
    "print(' Gamma pi {:e} eV'.format(gamma(tau_pi)))\n",
    "print(' tau eta {:e} s'.format(tau(gamma_eta)))"
   ]
  },
  {
   "cell_type": "markdown",
   "metadata": {},
   "source": [
    "----\n",
    "\n",
    "**problema 2**\n",
    "\n",
    "Considera un experimento de blanco fijo $p+p$, ¿cuál es la energía del haz de protones para que en el CM tenga la energía del LHC, $\\sqrt{s} = 14$ TeV?\n",
    "\n",
    "[MT1.P10]"
   ]
  },
  {
   "cell_type": "markdown",
   "metadata": {},
   "source": [
    "*solución*\n",
    "\n",
    "En el sistema de laboratorio: $s = (E + m_p, {\\bf p})$, por lo que:\n",
    "\n",
    "$$\n",
    "(E+m_p)^2 - p^2 = s, \\;\\; 2E m_p + 2m^2_p = s \\\\\n",
    "E = \\frac{s- 2m^2_p}{2m_p}\n",
    "$$"
   ]
  },
  {
   "cell_type": "code",
   "execution_count": 8,
   "metadata": {},
   "outputs": [
    {
     "name": "stdout",
     "output_type": "stream",
     "text": [
      "Energy threshold 1.044776e+05 TeV\n"
     ]
    }
   ],
   "source": [
    "ss   = (14 * 1e3) **2 ## GeV^2\n",
    "ethr =  (ss - 2 * mp**2)/(2*mp)\n",
    "print('Energy threshold {:e} TeV'.format(ethr/1e3))"
   ]
  },
  {
   "cell_type": "markdown",
   "metadata": {},
   "source": [
    "-----\n",
    "\n",
    "**problema 3**\n",
    "\n",
    "Sean tres protones de $p = 3$ GeV emitidos entre ellos $120^o$ en un plano. ¿cuál es su masa invariante? [AB1.P2]"
   ]
  },
  {
   "cell_type": "markdown",
   "metadata": {},
   "source": [
    "*solución*\n",
    "\n",
    "La masa invariante de un sistema de n-partículas con cuadrimomentos $p_i$ con $i=1, \\dots, n$ es:\n",
    "\n",
    "$$\n",
    "m^2 = \\left( \\sum_i p_i\\right)^2\n",
    "$$\n",
    "\n",
    "\n",
    "En la suma de los cuadrimomentos el momento se anula y la energís es:\n",
    "\n",
    "$$\n",
    "\\sum_i p_i = (3E, 0)\n",
    "$$\n",
    "\n",
    "Luego la masa es $3E$"
   ]
  },
  {
   "cell_type": "code",
   "execution_count": 7,
   "metadata": {},
   "outputs": [
    {
     "name": "stdout",
     "output_type": "stream",
     "text": [
      "mass 9.430 GeV \n"
     ]
    }
   ],
   "source": [
    "pp = 3 # GeV\n",
    "mp = 0.938 # GeV\n",
    "ene = energy(mp, pp)\n",
    "print('mass {:4.3f} GeV '.format(3 * ene))"
   ]
  },
  {
   "cell_type": "markdown",
   "metadata": {},
   "source": [
    "----\n",
    "\n",
    "**problema 4**\n",
    "\n",
    "Considera la interacción $\\gamma + p \\to p + \\pi^0$. ¿Cuál es la energía mínima de los fotones para que tenga lugar la interacción si éstos golpean un blanco formado por protones en reposo? ¿Qué energía mímina deben tener los protones de los rayos cósmicos (esto es ultrarelativistas) para que la interacción tenga lugar con los fotones de 1 meV del fondo cósmico?\n"
   ]
  },
  {
   "cell_type": "markdown",
   "metadata": {},
   "source": [
    "*solución*\n",
    "\n",
    "Utilizaremos la variable de Mandelstam $s$ es invariante Lorentz.\n",
    "\n",
    "El caso en el que las dos partículas tienen menos energía en el CM es\n",
    "\n",
    "$$\n",
    "s = (m_p + m_\\pi, {\\bf 0})^2\n",
    "$$\n",
    "\n",
    "En el caso en el que los protones están en reposo, en el sistema laboratorio, el invariante vale:\n",
    "\n",
    "$$\n",
    "s = ((E, E {\\hat{k}}) + (m_p, {\\bf 0}))^2 = (E + m_p, E \\hat{k})^2 = E^2 + 2 E m_p + m^2_p - E^2 = 2 E m_p + m^2_p\n",
    "$$\n",
    "\n",
    "por lo tanto:\n",
    "\n",
    "$$\n",
    "E = \\frac{(m_p+m_\\pi)^2 - m^2_p}{2 m_p}\n",
    "$$"
   ]
  },
  {
   "cell_type": "code",
   "execution_count": 13,
   "metadata": {},
   "outputs": [
    {
     "name": "stdout",
     "output_type": "stream",
     "text": [
      "E(gamma) lab 0.144 GeV\n"
     ]
    }
   ],
   "source": [
    "mp  = 0.938 # GeV\n",
    "mpi = 0.134 # GeV\n",
    "\n",
    "E = ((mp + mpi)**2 - mp**2)/(2*mp)\n",
    "\n",
    "print('E(gamma) lab {:4.3f} GeV'.format(E))"
   ]
  },
  {
   "cell_type": "markdown",
   "metadata": {},
   "source": [
    "En el caso de los protones cósmicos, ultrarelativistas, su cuadrimomento es $(E_p, E_p \\hat{k})$ que golpean los fotones de cuadrimomento $(E_\\gamma, E_\\gamma \\hat{k}')$\n",
    "\n",
    "$$\n",
    "s = (E_p + E_\\gamma, E_p {\\hat k} + E_\\gamma \\hat{k}') = (E_p+E_\\gamma)^2 -  (E_p {\\hat k} + E_\\gamma \\hat{k}')^2 = \\\\ \n",
    "2 E_p E_\\gamma -  2 E_p E_\\gamma \\cos \\theta = 2 E_p E_\\gamma (1 - \\cos \\theta)\n",
    "$$\n",
    "\n",
    "El valor mínimo de $E_p$ corresponde a $\\cos \\theta = -1$, al choque frontal, luego:\n",
    "\n",
    "$$\n",
    "4 E_p E_\\gamma = (m_p + m_\\pi)^2 \\to E_p = \\frac{(m_p + m_\\pi)^2}{4 E_\\gamma}\n",
    "$$"
   ]
  },
  {
   "cell_type": "code",
   "execution_count": 17,
   "metadata": {},
   "outputs": [
    {
     "name": "stdout",
     "output_type": "stream",
     "text": [
      "E(p) 2.87e+12 GeV\n"
     ]
    }
   ],
   "source": [
    "mp     = 0.938 # GeV\n",
    "mpi    = 0.134 # GeV\n",
    "Egamma = 0.1e-3 * 1e-9 # meV in GeV \n",
    "\n",
    "E = ((mp + mpi)**2)/(4*Egamma)\n",
    "\n",
    "print('E(p) {:1.2e} GeV'.format(E))"
   ]
  },
  {
   "cell_type": "markdown",
   "metadata": {},
   "source": [
    "----\n",
    "\n",
    "**problema 5**\n",
    "\n",
    "En un experimento de blanco fijo un haz de protones golpea un blanco, encontrar la energía del haz, $E$, para que tenga lugar el proceso: $p + p \\to p + p + p + \\bar{p}$"
   ]
  },
  {
   "cell_type": "markdown",
   "metadata": {},
   "source": [
    "El invariante $s$ es igual en los casos:\n",
    "\n",
    "i) inicial en el laboratorio: $s = (E+m_p,  {\\bf p})^2$\n",
    "\n",
    "ii) final en el CM con el caso de menor energía en el que las partículas quedan en reposo: $s = (4 m_p, {\\bf 0})$\n",
    "\n",
    "Así:\n",
    "\n",
    "$$\n",
    "(E+m_p)^2 - p^2 = 16 m^2_p, \\;\\; E^2 + 2Em_p + m^2_p - p^2 = 16 m^2_p, \\\\\n",
    "m^2_p + p^2 + 2 E m_p + m^2_p - p^2 = 16 m^2_p \\\\\n",
    "2 E m_p = 14 m^2_p, \\;\\; E = 7 m_p\n",
    "$$"
   ]
  },
  {
   "cell_type": "code",
   "execution_count": 10,
   "metadata": {},
   "outputs": [
    {
     "name": "stdout",
     "output_type": "stream",
     "text": [
      "Threshold energy 6.566 GeV\n"
     ]
    }
   ],
   "source": [
    "mp = 0.938 # GeV\n",
    "print('Threshold energy {:4.3f} GeV'.format(7 * mp))"
   ]
  },
  {
   "cell_type": "markdown",
   "metadata": {},
   "source": [
    "-----\n",
    "\n",
    "**problema 5**\n",
    "\n",
    "Calcula la luminosidad equivalente de un haz de protones de intensidad $10^{13}$ 1/s que golpea un tanque de 10 cm de hidrógeno líquido, $\\rho = 60 \\; \\mathrm{kg/m}^3$. [AB1.6]"
   ]
  },
  {
   "cell_type": "markdown",
   "metadata": {},
   "source": [
    "La razón de interacción en un blanco fijo es:\n",
    "$$\n",
    "R = \\phi_a \\sigma N_b\n",
    "$$\n",
    "\n",
    "donde $\\phi_a$ es el flujo, $\\sigma$, la sección eficaz, $N_b$, el número de partículas blanco.\n",
    "\n",
    "Y en función de la luminosidad $\\mathcal{L}$ de un colisionador:\n",
    "$$\n",
    "R = \\mathcal{L} \\sigma\n",
    "$$\n",
    "\n",
    "Por lo tanto, la luminosidad equivalente en un blanco fijo es:\n",
    "\n",
    "$$\n",
    "\\mathcal{L} = \\phi_a N_b\n",
    "$$"
   ]
  },
  {
   "cell_type": "markdown",
   "metadata": {},
   "source": [
    "\n",
    "En este caso, dada una intensidad $I_a$, en una seccion $S$ tenemos un flujo:\n",
    "\n",
    "$$\n",
    "\\phi_a = I_a / S\n",
    "$$\n",
    "\n",
    "Y en esa sección $S$, una longitud $L$ y densidad $\\rho$ (en $\\mathrm{kg/m}^3$) tenemos tantos nucleones blanco:\n",
    "\n",
    "$$\n",
    "N_b = 10^{3} \\rho S L N_A,\n",
    "$$\n",
    "\n",
    "donde $N_A = 6.022 \\, 10^{23}$ es el número de Avogadro de átomos en un mol.\n",
    " \n",
    "Luego la luminosidad equivalente es:\n",
    "$$\n",
    "\\mathcal{L} = \\phi_a N_b = I_a \\rho 10^3 L N_A\n",
    "$$"
   ]
  },
  {
   "cell_type": "code",
   "execution_count": 20,
   "metadata": {},
   "outputs": [
    {
     "name": "stdout",
     "output_type": "stream",
     "text": [
      "Luminosidad 3.61e+34 1/(cm2 s)\n"
     ]
    }
   ],
   "source": [
    "Ia = 1e3 # s-1\n",
    "L  = 0.1 # m\n",
    "rho = 60e3 # g/m3\n",
    "N_A = units.N_A\n",
    "\n",
    "lumi = (Ia * rho * L * N_A) \n",
    "print('Luminosidad {:1.2e} 1/(cm2 s)'.format(lumi * 1e4))\n",
    "\n"
   ]
  },
  {
   "cell_type": "markdown",
   "metadata": {},
   "source": [
    "----\n",
    "\n",
    "**problema 7**\n",
    "\n",
    "La sección eficaz del producción del bosón de Higgs es 50  pbarn en colisiones $p+p$ a $\\sqrt{s} = $8 TeV, esto es a la energía en el centro de masas de la primera toma de datos del LHC. Si la fracción de desintegración del $H \\to \\gamma + \\gamma$ es de solo $2.2 \\times 10^{-3}$ ¿Cuántos eventos de este tipo se produjeron en un año de tomas de datos en el LHC? ¿Cuánto luminosidad integrada se precisa para observar 100 eventos de este tipo? \n",
    "\n",
    "Datos: luminosidad del LHC $\\mathcal{L} = 10^{34}$ $\\mathrm{cm}^{-2} s^{-1}$, considera que 1 año son $10^7$ s\n",
    "\n"
   ]
  },
  {
   "cell_type": "markdown",
   "metadata": {},
   "source": [
    "*solución*\n",
    "\n",
    "La razón de producción viene dada por:\n",
    "\n",
    "$$\n",
    "\\nu = \\mathcal{L} \\sigma \\, \\mathcal{B}\n",
    "$$\n",
    "\n",
    "En $T = 1e7$ se se han producido\n",
    "\n",
    "$$\n",
    "N = \\mathcal{L} T \\, \\sigma \\, \\mathcal{B}\n",
    "$$\n",
    "\n",
    "\n",
    "La luminosidad integrada $\\mathcal{L}_T$ para producir $N$ eventos es:\n",
    "\n",
    "$$\n",
    "\\mathcal{L}_T = \\frac{N}{\\sigma \\mathcal{B}}\n",
    "$$\n"
   ]
  },
  {
   "cell_type": "code",
   "execution_count": 23,
   "metadata": {},
   "outputs": [
    {
     "name": "stdout",
     "output_type": "stream",
     "text": [
      "Higgs -> gamma + gamma 1.10e+04 producidos\n"
     ]
    }
   ],
   "source": [
    "sigma = 50e-12 * 1e-24 # cm2\n",
    "B     = 2.2e-3\n",
    "lumi  = 1e34  # 1/cm2 s\n",
    "T     = 1e7\n",
    "\n",
    "N     = lumi * T * sigma * B\n",
    "print('Higgs -> gamma + gamma {:1.2e} producidos'.format(N))"
   ]
  },
  {
   "cell_type": "code",
   "execution_count": 27,
   "metadata": {},
   "outputs": [
    {
     "name": "stdout",
     "output_type": "stream",
     "text": [
      "Integrated luminosity 909.09 (1/pb) \n"
     ]
    }
   ],
   "source": [
    "N = 100\n",
    "LT = N/(sigma * B)\n",
    "print('Integrated luminosity {:1.2f} (1/pb) '.format(LT*1e-24*1e-12))"
   ]
  },
  {
   "cell_type": "markdown",
   "metadata": {},
   "source": [
    "\n",
    "----\n",
    "\n",
    "**problema 8**\n",
    "\n",
    "La sección eficaz $e+e^+\\to \\tau + \\tau^+$ es 1.7 nbars a $\\sqrt{s} = 91$ GeV, si la luminosidad del colisionador es $10^{32}$ 1/\n",
    "($\\mathrm{cm}^2$ s) ¿Cuál es la razón de producción de $\\tau+\\tau^+$? Si la vida media del $\\tau$ es 0.29 ps, ¿Qué recorrido medio tendrá? En el plano transverso de la colisión ¿Qué relación guarda el momento transverso del $\\tau$ con respecto al del $\\tau^+$?\n"
   ]
  },
  {
   "cell_type": "markdown",
   "metadata": {},
   "source": [
    "*solución*\n",
    "\n",
    "La razón de producción es:\n",
    "\n",
    "$$\n",
    "N = \\mathcal{L} \\, \\sigma \n",
    "$$\n"
   ]
  },
  {
   "cell_type": "code",
   "execution_count": 30,
   "metadata": {},
   "outputs": [
    {
     "name": "stdout",
     "output_type": "stream",
     "text": [
      "razón de producción 0.170 Hz\n"
     ]
    }
   ],
   "source": [
    "lumi = 1e32 # 1/cm2 \n",
    "sigma = 1.7e-9* 1e-24 # cm2\n",
    "\n",
    "nu = lumi * sigma\n",
    "\n",
    "print('razón de producción {:4.3f} Hz'.format(nu))"
   ]
  },
  {
   "cell_type": "markdown",
   "metadata": {},
   "source": [
    "La energía del tau es $45.5$ GeV, siendo su masa $m = 1.78$ GeV, con, $\\gamma = E/m$, y $\\beta = p/E$\n",
    "\n",
    "La distancia media recorrida es:\n",
    "\n",
    "$$\n",
    "d = \\tau \\beta \\gamma  \\, c\n",
    "$$"
   ]
  },
  {
   "cell_type": "code",
   "execution_count": 35,
   "metadata": {},
   "outputs": [
    {
     "name": "stdout",
     "output_type": "stream",
     "text": [
      "tau momenta 45.465 GeV\n",
      "beta tau 0.999 \n",
      "gamma 25.562\n",
      "distance 2.221 mm\n"
     ]
    }
   ],
   "source": [
    "Etau = 45.5 # GeV\n",
    "mtau = 1.78 # GeV\n",
    "\n",
    "ptau = np.sqrt(Etau**2 - mtau**2)\n",
    "\n",
    "gamma = Etau/mtau\n",
    "beta  = ptau/Etau \n",
    "\n",
    "tau = 0.29e-12 # s\n",
    "c   = units.speed_of_light\n",
    "\n",
    "dd  = tau * beta * gamma * c\n",
    "\n",
    "print('tau momenta {:4.3f} GeV'.format(ptau))\n",
    "print('beta tau {:4.3f} '.format(beta))\n",
    "print('gamma {:4.3f}'.format(gamma))\n",
    "print('distance {:4.3f} mm'.format(dd *1e3))\n"
   ]
  },
  {
   "cell_type": "markdown",
   "metadata": {},
   "source": [
    "En el plano transverso la suma de los dos momentos se anula, luego el momento transverso del $\\tau$ es opuesto al del $\\tau^+$"
   ]
  },
  {
   "cell_type": "markdown",
   "metadata": {},
   "source": [
    "------"
   ]
  }
 ],
 "metadata": {
  "anaconda-cloud": {},
  "celltoolbar": "Slideshow",
  "kernelspec": {
   "display_name": "base",
   "language": "python",
   "name": "python3"
  },
  "language_info": {
   "codemirror_mode": {
    "name": "ipython",
    "version": 3
   },
   "file_extension": ".py",
   "mimetype": "text/x-python",
   "name": "python",
   "nbconvert_exporter": "python",
   "pygments_lexer": "ipython3",
   "version": "3.9.13"
  }
 },
 "nbformat": 4,
 "nbformat_minor": 4
}
