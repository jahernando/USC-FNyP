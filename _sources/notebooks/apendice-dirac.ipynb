{
 "cells": [
  {
   "cell_type": "markdown",
   "metadata": {
    "slideshow": {
     "slide_type": "slide"
    }
   },
   "source": [
    "# Introducción a Física de Partículas\n",
    "\n",
    "\n",
    "## Apéndice: Unidades, relatividad y ecuación de Dirac\n",
    "\n",
    "\n",
    "Jose A. Hernando\n",
    "\n",
    "*Departamento de Física de Partículas. Universidade de Santiago de Compostela*\n",
    "\n",
    "Septiembre-Octubre 2021\n"
   ]
  },
  {
   "cell_type": "code",
   "execution_count": 1,
   "metadata": {
    "slideshow": {
     "slide_type": "fragment"
    }
   },
   "outputs": [
    {
     "name": "stdout",
     "output_type": "stream",
     "text": [
      " Last version  Tue Nov  9 12:40:02 2021\n"
     ]
    }
   ],
   "source": [
    "import time\n",
    "print(' Last version ', time.asctime() )"
   ]
  },
  {
   "cell_type": "code",
   "execution_count": 2,
   "metadata": {},
   "outputs": [],
   "source": [
    "# general imports\n",
    "%matplotlib inline\n",
    "%reload_ext autoreload\n",
    "%autoreload 2\n",
    "\n",
    "# numpy and matplotlib\n",
    "import numpy as np\n",
    "import matplotlib\n",
    "import matplotlib.pyplot as plt"
   ]
  },
  {
   "cell_type": "markdown",
   "metadata": {
    "slideshow": {
     "slide_type": "slide"
    }
   },
   "source": [
    "# Indice\n",
    "\n",
    " * Ecuación de Dirac\n",
    "    * Ecuación de Dirac\n",
    "    * Matrices $\\gamma$\n",
    " * Soluciones de la partícula libre - espinores\n",
    " * Helicidad y quiralidad"
   ]
  },
  {
   "cell_type": "markdown",
   "metadata": {},
   "source": [
    "## Ecuación de Dirac\n",
    "\n",
    "\n",
    "### Formulación de la ecuación de Dirac\n",
    "\n",
    "Para dar una versión relativista de la mecánica cuántica, Dirac propuso una ecuación lineal en la primera derivada temporal y en las derivadas espaciales a los que multiplicó por los factores $\\alpha, \\beta$.\n",
    "\n",
    "La **ecuación de Dirac** es:\n",
    "\n",
    "$$\n",
    "\\hat{H} \\,\\Psi = \\left( \\bf{\\alpha} \\cdot {\\bf \\hat p} + \\beta \\, m \\right) \\, \\Psi,\n",
    "$$\n",
    "\n",
    "donde $\\hat{H} = i \\frac{\\partial}{\\partial t}$ es el hamiltoniano de la partícula libre, ${\\hat {\\bf p}} = -i \\nabla$ el operador momento lineal y $\\Psi$ la función de ondas. "
   ]
  },
  {
   "cell_type": "markdown",
   "metadata": {
    "slideshow": {
     "slide_type": "slide"
    }
   },
   "source": [
    "\n",
    "#### Las matrices $\\alpha, \\beta$\n",
    "\n",
    "Al elevar al cuadrado la ecuación se obtiene la relación de Einstein:\n",
    "$$\n",
    " E^2 = p^2 + m^2\n",
    "$$\n",
    "\n",
    "siempre que los factores ${\\bf \\alpha}, \\beta$ sean matrices y cumplan las condiciones:\n",
    "\n",
    "$$\n",
    "\\alpha_i^2 = \\beta^2 = I, \\;\\; \\alpha_i \\alpha_j + \\alpha_j \\alpha_i = 0 \\; (i \\neq j), \\;\\; \\alpha_i \\beta + \\beta \\alpha_i = 0,\n",
    "$$\n",
    "con $i= 1, 2, 3$. \n",
    "\n",
    "Deben ser además matrices hermíticas, $\\alpha_i = \\alpha_i^\\dagger, \\; \\beta = \\beta^\\dagger$, para que el hamiltonianto tenga valores reales.\n",
    "\n"
   ]
  },
  {
   "cell_type": "markdown",
   "metadata": {},
   "source": [
    "Las soluciones más sencillas son matrices $4 \\times 4$.\n",
    "\n",
    "Una **representación** de las matrices conveniente es la **Pauli-Dirac** que usa las **matrices de Dirac** $2 \\times 2$, $\\sigma_i$ con $i=1, 2, 3$.\n",
    "\n",
    "$$\n",
    "\\beta = \\begin{pmatrix} I & 0 \\\\ 0 & I \\end{pmatrix}, \\;\\;\n",
    "\\alpha_i = \\begin{pmatrix} 0 & \\sigma_i \\\\ \\sigma_i & 0 \\end{pmatrix}\n",
    "$$\n",
    "\n",
    "Donde:\n",
    "\n",
    "$$\n",
    "I = \\begin{pmatrix} 1 & 0 \\\\ 0 & 1 \\end{pmatrix}, \\;\\;\n",
    "\\sigma_1 = \\begin{pmatrix} 0 & 1 \\\\ 1 & 0 \\end{pmatrix}, \\;\\;\n",
    "\\sigma_2 = \\begin{pmatrix} 0 & -i \\\\ i & 0 \\end{pmatrix}, \\;\\;\n",
    "\\sigma_3 = \\begin{pmatrix} 1 & 0 \\\\ 0 & -1 \\end{pmatrix}, \\;\\;\n",
    "$$\n",
    "\n",
    "Existen otras representaciones útiles, por ejemplo la quiral, pero la física de la ecuación de Dirac no depende de la representación."
   ]
  },
  {
   "cell_type": "markdown",
   "metadata": {
    "slideshow": {
     "slide_type": "slide"
    }
   },
   "source": [
    "#### El espinor de Dirac\n",
    "\n",
    "La función de onda, solución de la ecuación de Dirac, $\\Psi$, es un **cuadri-spinor de Dirac**:\n",
    "\n",
    "$$\n",
    "\\Psi = \\begin{pmatrix} \\psi_1 \\\\ \\psi_2 \\\\ \\psi_3 \\\\ \\psi_4\\end{pmatrix},\n",
    "$$\n",
    "\n",
    "que tiene cuatro componentes, $\\psi_i$ con $i=1, 4$, complejas en forma vector columna.\n"
   ]
  },
  {
   "cell_type": "markdown",
   "metadata": {
    "slideshow": {
     "slide_type": "slide"
    }
   },
   "source": [
    "### Representación covariante de la ecuación de Dirac \n",
    "\n",
    "La representación más común de la ecuación de Dirac es la covariante. \n",
    "\n",
    "Introducimos primero las  **matrices-$\\gamma$** que se definen como:\n",
    "\n",
    "$$\n",
    "\\gamma^0 = \\beta, \\;\\; \\gamma^1 = \\beta \\alpha_1, \\; \\gamma^2 = \\beta \\alpha_2, \\;\\; \\gamma^3 = \\beta \\alpha_3\n",
    "$$\n",
    "\n",
    "y la **derivada covariante**:\n",
    "\n",
    "$$\\partial_\\mu = \\left( \\frac{\\partial}{\\partial t}, \\frac{\\partial}{\\partial x},  \n",
    "                \\frac{\\partial}{\\partial y}, \\frac{\\partial}{\\partial z}  \\right),$$\n",
    "\n",
    "La ecuación de Dirac se escribe de forma **covariante** como:\n",
    "\n",
    "$$\n",
    "(i \\gamma^\\mu \\partial_\\mu  - m) \\, \\Psi = 0.\n",
    "$$"
   ]
  },
  {
   "cell_type": "markdown",
   "metadata": {
    "slideshow": {
     "slide_type": "slide"
    }
   },
   "source": [
    "#### Las matrices $\\gamma$\n",
    "\n",
    "Las matrices-$\\gamma$ cumplen:\n",
    "$$\n",
    "(\\gamma^0)^2 = I, \\; (\\gamma^k)^2 = - I, \\;\\; \\gamma^\\mu \\gamma^\\nu = - \\gamma^\\nu \\gamma^\\mu \\, (\\mu \\neq \\nu),\n",
    "$$\n",
    "con $k=1, 2, 3$, y $\\mu = 0, 1, 2, 3$.\n",
    "\n",
    "De forma equivalente, cumplen las siguientes relaciones de anti-conmutación: \n",
    "\n",
    "$$\n",
    "\\{ \\gamma^\\mu, \\gamma^\\nu \\} \\equiv \\gamma^\\mu \\gamma^\\nu + \\gamma^\\nu \\gamma^\\mu = 2 g^{\\mu\\nu}\n",
    "$$\n",
    "\n",
    "La matrix $\\gamma^0$ es hermítica y las $\\gamma^k$, con $k=1, 2, 3$, anti-hermíticas:\n",
    "\n",
    "$$\n",
    "\\gamma^{0\\dagger} = \\gamma^0, \\;\\; \\gamma^{k \\dagger} = - \\gamma^{k}\n",
    "$$"
   ]
  },
  {
   "cell_type": "markdown",
   "metadata": {
    "slideshow": {
     "slide_type": "slide"
    }
   },
   "source": [
    "#### Matrix $\\gamma^5$\n",
    "\n",
    "Definimos la matrix $\\gamma^5$ a partir del producto de las otras matrices gamma:\n",
    "\n",
    "$$\n",
    "\\gamma^5 \\equiv i \\gamma^0 \\gamma^1 \\gamma^2 \\gamma^3,\n",
    "$$\n",
    "\n",
    "La matriz $\\gamma^5$ juega un papel fundamental en la interacciones débiles.\n",
    "\n",
    "Tiene las siguientes propiedades:\n",
    "\n",
    "$$\n",
    "(\\gamma^5)^2 = I, \\;\\; \\gamma^{5\\dagger} = \\gamma^5, \\;\\; \\gamma^5\\gamma^\\mu = - \\gamma^\\mu \\gamma^5\n",
    "$$"
   ]
  },
  {
   "cell_type": "markdown",
   "metadata": {
    "slideshow": {
     "slide_type": "slide"
    }
   },
   "source": [
    "En la representación de Pauli-Dirac, la matrices $\\gamma$ son:\n",
    "\n",
    "$$\n",
    "\\gamma^0 = \\begin{pmatrix} I & 0 \\\\ 0 & -I \\end{pmatrix}, \\;\\;\n",
    "\\gamma^k = \\begin{pmatrix} 0 & \\sigma_k \\\\ -\\sigma_k & 0 \\end{pmatrix}, \\;\\;\n",
    "\\gamma^5 = \\begin{pmatrix} 0 & I \\\\ I & 0 \\end{pmatrix},\n",
    "$$\n",
    "\n",
    "donde $I$ es la matriz identidad $2\\times2$."
   ]
  },
  {
   "cell_type": "markdown",
   "metadata": {
    "slideshow": {
     "slide_type": "slide"
    }
   },
   "source": [
    "#### El espinor de Dirac adjunto\n",
    "\n",
    "Es conveniente también definir el **spinor adjunto** como:\n",
    "\n",
    "$$\n",
    "\\bar{\\Psi} = \\Psi^\\dagger \\gamma^0\n",
    "$$\n",
    "\n",
    "En la representación de Pauli-Dirac:\n",
    "$$\\bar{\\Psi} = (\\psi^*_1, \\psi^*_2, -\\psi^*_3, -\\psi^*_4),$$\n",
    "que tiene forma de vector fila."
   ]
  },
  {
   "cell_type": "markdown",
   "metadata": {
    "slideshow": {
     "slide_type": "slide"
    }
   },
   "source": [
    "#### Densidad y corriente de probabilidad\n",
    "\n",
    "La densidad, $\\rho$, y la corriente, $j^k$  con $k=1, 2, 3$, de probabilidad del spinor de Dirac son:\n",
    "\n",
    "$$\n",
    "\\rho = \\Psi^\\dagger \\Psi = |\\psi_1|^2 + |\\psi_2|^2 + |\\psi_3|^2 + |\\psi_4|^2, \\;\\; j^k  = \\Psi^\\dagger \\alpha_k \\Psi\n",
    "$$\n",
    "\n",
    "que cumplen:\n",
    "$$\n",
    "\\frac{\\partial \\rho}{\\partial t} + \\nabla \\cdot {\\bf j} = 0.\n",
    "$$\n",
    "\n",
    "Podemos introducir el cuadrivector corriente de probabilidad:\n",
    "\n",
    "$$\n",
    "j^\\mu = \\Psi^\\dagger \\gamma^0 \\gamma^\\mu \\Psi = \\bar{\\Psi} \\gamma^\\mu \\Psi,\n",
    "$$\n",
    "\n",
    "Y la conservación de probabilidad puede expresarse:\n",
    "\n",
    "$$\n",
    "\\partial_\\mu j^\\mu = 0\n",
    "$$\n"
   ]
  },
  {
   "cell_type": "markdown",
   "metadata": {
    "slideshow": {
     "slide_type": "slide"
    }
   },
   "source": [
    "### Spin en la ecuación de Dirac\n",
    "\n",
    "En mecánica cuántica la evolución temporal de un observable, O, con operador, $\\hat O$, y hamiltoniano $\\hat H$, viene dada por:\n",
    "\n",
    "$$\\frac{d O}{dt} = i \\langle | \\Psi | [\\hat H, \\hat O] | \\Psi \\rangle $$ \n",
    "\n",
    "En el caso del operador momento angular: ${\\bf \\hat L} = {\\bf \\hat r} \\times {\\bf \\hat p}$, y el hamiltoniano de Dirac: $\\hat H = {\\bf \\alpha } \\cdot {\\bf \\hat p} + \\beta m$, obtenemos:\n",
    "\n",
    "$$[\\hat H, {\\bf \\hat L}] = - i {\\bf \\alpha} \\times {\\bf \\hat p}$$\n",
    "\n",
    "No se conserva en el tiempo.\n",
    "\n",
    "(Para los detalles del cálculo ver [MT4.4])"
   ]
  },
  {
   "cell_type": "markdown",
   "metadata": {
    "slideshow": {
     "slide_type": "slide"
    }
   },
   "source": [
    "Pero si consideramos el operador spín, ${\\bf \\hat S}$, definido por:\n",
    "\n",
    "$$\n",
    "{\\bf \\hat S } = \\frac{1}{2} {\\bf \\hat \\Sigma} = \n",
    "\\frac{1}{2} \\begin{pmatrix} {\\bf \\sigma} & 0 \\\\ 0 & {\\bf \\sigma} \\end{pmatrix} \n",
    "$$\n",
    "\n",
    "obtenemos que:\n",
    "\n",
    "$$\n",
    "[\\hat H, {\\bf \\hat S}] = i {\\bf \\alpha} \\times {\\bf \\hat p}\n",
    "$$"
   ]
  },
  {
   "cell_type": "markdown",
   "metadata": {
    "slideshow": {
     "slide_type": "slide"
    }
   },
   "source": [
    "Luego el momento angular total: ${\\bf \\hat J} = {\\bf \\hat L} + {\\bf \\hat S}$, se conserva.\n",
    "    \n",
    "Podemos interpretar ${\\bf \\hat S}$ como un momento angular intrínsico, el spín, de la partícula.\n",
    "\n",
    "${\\bf \\hat S}$ tiene las mismas relaciones de conmutación que ${\\bf \\hat L}$:\n",
    "\n",
    "$$\n",
    "[\\hat S_x, \\hat S_y] = i \\hat S_z, \\;\\; \n",
    "[\\hat S_y, \\hat S_z] = i \\hat S_z, \\;\\,\n",
    "[\\hat S_z, \\hat S_x] = i \\hat S_y, \\\\\n",
    "[\\hat S^2, \\hat S_y] =  [\\hat S^2, \\hat S_z] = [\\hat S^2, \\hat S_x] = 0. \n",
    "$$"
   ]
  },
  {
   "cell_type": "markdown",
   "metadata": {
    "slideshow": {
     "slide_type": "slide"
    }
   },
   "source": [
    "\n",
    "\n",
    "## Soluciones de la ecuación de Dirac\n",
    "\n",
    "Vamos a obtener la soluciones de la ecuación de Dirac a partir de las funciones de la onda plana de una partícula libre:\n",
    "\n",
    "$$\n",
    "\\Psi = u(E, {\\bf p}) \\, e^{i ({\\bf p} \\cdot {\\bf x} - E t)}\n",
    "$$\n",
    "\n",
    "Donde $u(E,{\\bf p})$ es un espinor de Dirac que no depende ahora de ${\\bf x}, t$.\n",
    "\n",
    "Al aplicar la ecuación de Dirac obtenemos:\n",
    "\n",
    "$$\n",
    "(i\\gamma^\\mu \\partial_\\mu - m) \\, \\Psi = (\\gamma^0 E - \\gamma^1 p_1 -\\gamma^2 p_2 - \\gamma^3 p_3) \\, u(E, {\\bf p}) \\, e^{i({\\bf p \\cdot x} - E t)}\n",
    "$$\n",
    "\n",
    "luego $u(E, {\\bf p})$ debe cumplir la ecuación:\n",
    "\n",
    "$$\n",
    "(\\gamma^\\mu p_\\mu - m) \\, u(E, {\\bf p}) = 0,\n",
    "$$\n",
    "donde $p_\\mu = (E, -p_x, -p_y, -p_z)$ es el cuadrimomento *covariante*.\n",
    "\n",
    "Notar que ecuación ahora no contiene derivadas.\n"
   ]
  },
  {
   "cell_type": "markdown",
   "metadata": {
    "slideshow": {
     "slide_type": "slide"
    }
   },
   "source": [
    "### Soluciones de la partícula en reposo\n",
    "\n",
    "Para una partícula en reposo ${\\bf p} = {\\bf 0}$, la onda de la partícula libre es: $\\Psi = u(E, {\\bf 0})\\,e^{-iEt}$ y la ecuación para el espinor $u(E, {\\bf 0})$:\n",
    "\n",
    "$$\n",
    "\\left(E \\gamma^0 - m  \\right) \\, u = 0\n",
    "$$\n",
    "\n",
    "En la representación de Pauli-Dirac, hay cuatro soluciones:\n",
    "\n",
    "$$\n",
    "u_1 = N \\begin{pmatrix} 1 \\\\ 0 \\\\ 0 \\\\ 0 \\end{pmatrix} \\;\n",
    "u_2 = N \\begin{pmatrix} 0 \\\\ 1 \\\\ 0 \\\\ 0 \\end{pmatrix} \\;\n",
    "u_3 = N \\begin{pmatrix} 0 \\\\ 0 \\\\ 1 \\\\ 0 \\end{pmatrix} \\;\n",
    "u_4 = N \\begin{pmatrix} 0 \\\\ 0 \\\\ 0 \\\\ 1 \\end{pmatrix} . \n",
    "$$\n",
    "Donde $N$ es un factor de normalización.\n"
   ]
  },
  {
   "cell_type": "markdown",
   "metadata": {
    "slideshow": {
     "slide_type": "slide"
    }
   },
   "source": [
    "La ecuación de Dirac, $(E\\gamma^0 - m) \\, u_i$, aplicada a:\n",
    "\n",
    "   * $u_1, u_2$ queda, $E - m = 0$. Esto es, $u_1, u_2$ tienen energía positiva, $E = m$\n",
    "\n",
    "   * $u_3, u_4$ queda $-E -m = 0$. Esto es $u_3, u_4$ tiene energía negativa, $E = -m$.\n",
    "\n",
    "Respecto al spín ${\\hat S_z}$\n",
    "\n",
    "   * $u_1, u_3$ tiene spín $1/2$, arriba. \n",
    "   \n",
    "   * $u_2, u_4$ tiene spin $-1/2$, abajo.\n",
    "   \n",
    "Asociamos estas soluciones de energía positiva con una partícula de spín $1/2$, un **fermión**, y las soluciones de energía negativa con una antipartícula de spín $1/2$, **antifermión**."
   ]
  },
  {
   "cell_type": "markdown",
   "metadata": {},
   "source": [
    "#### ¿Cuál es el significado de la solución de energía negativa?\n",
    "\n",
    "Dirac propuso la teoría del \"mar de Dirac\". El *vacío* estaba lleno con todos los estados de energía negativos ocupados. Un fotón con $E > 2 m_e c^2$ podía hacer saltar un electrón del vacío a la zona de energía positiva produciendo un electrón y un hueco en el mar que se interpreta como el positrón.\n",
    "\n",
    "Feynman y Stückelberg propusieron que las soluciones de energía negativa eran en realidad partículas que se propagaban hacía atrás en el tiempo o equivalente antipartículas con cargas opuestas que se propagan hacia delante en el tiempo con energía positiva. \n",
    "\n",
    "Experimentalmente las antipartículas se comportan como las partículas solo que tienen sus cargas opuestas."
   ]
  },
  {
   "cell_type": "markdown",
   "metadata": {
    "slideshow": {
     "slide_type": "slide"
    }
   },
   "source": [
    "En la interpretación de Feynman-Stückerlberg $t \\to -t$, lo que cambia el momento ${\\bf p} \\to -{\\bf p}$.\n",
    "\n",
    "Las funciones de ondas de las partículas, $\\Psi$, son:\n",
    "$$\n",
    "\\Psi = u(E, {\\bf p}) \\, e^{+i({\\bf p \\cdot x} - Et)},\n",
    "$$\n",
    "\n",
    "y las de las antipartículas, $\\Psi^v$, quedan:\n",
    "\n",
    "$$\n",
    "\\Psi^v = v(E, {\\bf p}) \\, e^{-i({\\bf p \\cdot x} - Et)}\n",
    "$$\n",
    "\n",
    "donde $v(E, {\\bf p})$ es el espinor de las antipartículas.\n",
    "\n",
    "Darse cuenta del cambio de signo en el exponente en la función de ondas.\n",
    "\n",
    "*Nota adicional* Veremos que en los diagramas de Feynman los anti-fermiones se dibujan con una flecha en sentido opuesto al tiempo."
   ]
  },
  {
   "cell_type": "markdown",
   "metadata": {
    "slideshow": {
     "slide_type": "slide"
    }
   },
   "source": [
    "#### Ecuación de Dirac para los espinores $v$\n",
    "\n",
    "Si aplicamos la ecuación de Dirac sobre la función de onda de las antipartículas, $\\Psi^v$\n",
    "\n",
    "$$\n",
    "\\psi^v ({\\bf x}, t) = v(E, {\\bf p}) \\, e^{-i ({\\bf p \\cdot x} - E t)}\n",
    "$$\n",
    "\n",
    "obtenemos:\n",
    "\n",
    "$$\n",
    "(-\\gamma^0E + \\gamma^1p_1 + \\gamma^2 p_2 + \\gamma^3 p_3 -m) \\, v(E, {\\bf p}) = 0\n",
    "$$\n",
    "\n",
    "que reescribimos para dar la ecuación de Dirac en los espinores $v$:\n",
    "\n",
    "$$\n",
    "(\\gamma^\\mu p_\\mu + m) \\, v(E, {\\bf p}) = 0\n",
    "$$\n",
    "\n",
    "Notar que cambia de signo el término de masa."
   ]
  },
  {
   "cell_type": "markdown",
   "metadata": {
    "slideshow": {
     "slide_type": "slide"
    }
   },
   "source": [
    "### Soluciones generales de la partícula libre\n",
    "\n",
    "Vamos a calcular primero las soluciones generales de la ecuación de Dirac para los espinores $u$ y $v$.\n",
    "\n",
    "En cada caso aparecen cuatro soluciones, dos con energía positiva y dos con negativa.\n",
    "\n",
    "Pero resulta más conveniente trabajar con las dos soluciones de energía positiva de $u$, las partículas, y las dos de $v$, las antipartículas. \n",
    "\n",
    "Recordemos la ecuación de Dirac para ambos es:\n",
    "\n",
    "$$\n",
    "(\\gamma^\\mu p_\\mu- m) \\, u = 0, \\;\\; (\\gamma^\\mu p_\\mu + m) \\, v = 0\n",
    "$$"
   ]
  },
  {
   "cell_type": "markdown",
   "metadata": {
    "slideshow": {
     "slide_type": "slide"
    }
   },
   "source": [
    "#### los espinores de las partículas $u$\n",
    "\n",
    "La ecuación de Dirac sobre el espinor $u$, esto es $(\\gamma^\\mu p_\\mu -m ) \\,u = 0$, queda:\n",
    "\n",
    "$$\n",
    "\\left[ \\begin{pmatrix} I & 0 \\\\ 0 & - I\\end{pmatrix} E - \n",
    "        \\begin{pmatrix} 0 & \\sigma \\cdot {\\bf p} \\\\ - \\sigma \\cdot {\\bf p} & 0 \\end{pmatrix} - \n",
    "        m \\begin{pmatrix} I & 0 \\\\ 0 & I \\end{pmatrix}\\right] u = 0\n",
    "$$\n",
    "\n",
    "si expresamos el spinor a partir de dos vectores columna con dos componentes cada uno, $u_A, u_B$: \n",
    "\n",
    "$$\n",
    "u = \\begin{pmatrix} u_A \\\\ u_B \\end{pmatrix}\n",
    "$$\n",
    "Obtenemos:\n",
    "\n",
    "$$\n",
    "\\begin{pmatrix} (E-m) I & - \\sigma \\cdot {\\bf p} \\\\ \\sigma \\cdot {\\bf p} & - (E + m) I\\end{pmatrix}  \n",
    "\\begin{pmatrix} u_A \\\\ u_B \\end{pmatrix} = 0\n",
    "$$\n"
   ]
  },
  {
   "cell_type": "markdown",
   "metadata": {
    "slideshow": {
     "slide_type": "slide"
    }
   },
   "source": [
    "que se reduce a dos equaciones acopladas:\n",
    "$$\n",
    "u_A = \\frac{\\sigma \\cdot {\\bf p}}{E - m} u_B \\\\\n",
    "u_B = \\frac{\\sigma \\cdot {\\bf p}}{E + m} u_A \\\\\n",
    "$$\n",
    "\n",
    "Notar que la parte arriba está relacionada con la de abajo.\n",
    "\n",
    "Para más claridad, reescribimos:\n",
    "\n",
    "$$\n",
    "\\sigma \\cdot {\\bf p } =  \\begin{pmatrix} p_z & p_x -  i p_y \\\\ p_x +i p_y & - p_z  \\end{pmatrix}  \n",
    "$$\n",
    "\n",
    "Si consideramos estas cuatro posibilidades para las componentes $u_A, u_B$:\n",
    "\n",
    "$$\n",
    "u^1_A = \\begin{pmatrix} 1 \\\\ 0 \\end{pmatrix}, \\;\\; \n",
    "u^2_A = \\begin{pmatrix} 0 \\\\ 1 \\end{pmatrix}, \\;\\;\n",
    "u^3_B = \\begin{pmatrix} 1 \\\\ 0 \\end{pmatrix}, \\; \n",
    "u^4_B = \\begin{pmatrix} 0 \\\\ 1 \\end{pmatrix} \n",
    "$$\n"
   ]
  },
  {
   "cell_type": "markdown",
   "metadata": {},
   "source": [
    "\n",
    "Obtenemos las cuatro soluciones:\n",
    "\n",
    "$$\n",
    "u_1 = N \\begin{pmatrix} 1 \\\\ 0 \\\\ \\frac{p_z}{E+m} \\\\ \\frac{p_x+ip_y}{E+m} \\end{pmatrix}, \\;\\;\n",
    "u_2 = N \\begin{pmatrix} 0 \\\\ 1 \\\\ \\frac{p_x-ip_y}{E+m} \\\\ \\frac{-p_z}{E+m} \\end{pmatrix}, \\;\\;\n",
    "u_3 = N \\begin{pmatrix} \\frac{p_z}{E-m} \\\\ \\frac{p_x+ip_y}{E-m} \\\\ 1 \\\\ 0 \\end{pmatrix}, \\;\\;\n",
    "u_4 = N \\begin{pmatrix} \\frac{p_x-ip_y}{E-m} \\\\ \\frac{-p_z}{E-m} \\\\ 0 \\\\ 1 \\end{pmatrix}. \n",
    "$$\n",
    "\n",
    "Donde $N$ son factores de normalización.\n",
    "\n",
    "Que en el límite ${\\bf p} = {\\bf 0}$, se reducen a los casos con energía positiva y negativa.\n",
    "\n",
    "$u_1, u_2$ están asociados a las partículas de energía positiva: $E = + \\sqrt{p^2 + m^2}$\n",
    "\n",
    "$u_3, u_4$ están asociados a la partículas de energía negativa: $E = - \\sqrt{p^2 + m^2}$"
   ]
  },
  {
   "cell_type": "markdown",
   "metadata": {
    "slideshow": {
     "slide_type": "slide"
    }
   },
   "source": [
    "#### espinores de las antipartículas $v$\n",
    "\n",
    "De marera similar, la ecuación para los spinores $v$\n",
    "\n",
    "$$ \n",
    "\\left(\\gamma^\\mu p_\\mu + m \\right) v = 0\n",
    "$$\n",
    "\n",
    "Si consideramos un espinor como dos vectores columna, arriba y abajo, $v_A, v_B$, con dos componentes cada uno:\n",
    "\n",
    "$$\n",
    "v = \\begin{pmatrix} v_A \\\\ v_B\\end{pmatrix}\n",
    "$$\n",
    "Obtenemos de nuevos dos ecuaciones acopladas:\n",
    "\n",
    "$$\n",
    "v_A = \\frac{{\\bf \\sigma} \\cdot {\\bf p}}{E + m} v_B, \\;\\; v_B = \\frac{{\\bf \\sigma} \\cdot {\\bf p}}{E - m} v_A,\n",
    "$$"
   ]
  },
  {
   "cell_type": "markdown",
   "metadata": {
    "slideshow": {
     "slide_type": "slide"
    }
   },
   "source": [
    "Que da lugar a a cuatro soluciones para $v$:\n",
    "\n",
    "$$\n",
    "v_1 = N \\begin{pmatrix} \\frac{p_x - ip_y}{E+m} \\\\ \\frac{-p_z}{E+m} \\\\ 0 \\\\ 1 \\end{pmatrix}, \\;\\;\n",
    "v_2 = N \\begin{pmatrix} \\frac{p_z}{E+m} \\\\ \\frac{p_x + ip_y}{E+m} \\\\ 1 \\\\ 0 \\end{pmatrix}, \\;\\;\n",
    "v_3 = N \\begin{pmatrix} 1 \\\\ 0 \\\\ \\frac{p_z}{E-m} \\\\ \\frac{p_x + ip_y}{E-m}  \\end{pmatrix}, \\;\\;\n",
    "v_4 = N \\begin{pmatrix} 0 \\\\ 1 \\\\ \\frac{p_x - ip_y}{E-m} \\\\ \\frac{-p_z}{E-m} \\end{pmatrix}, \\;\\;\n",
    "$$\n",
    "\n",
    "Los espinores $v_1, v_2$ tienen ahora energía positiva, $E = \\sqrt{{\\bf p}^2 + m^2}$\n",
    "\n",
    "Los espinores $v_3, v_4$ tienen ahora energía negativa, $E = - \\sqrt{{\\bf p}^2 + m^2}$"
   ]
  },
  {
   "cell_type": "markdown",
   "metadata": {
    "slideshow": {
     "slide_type": "slide"
    }
   },
   "source": [
    "#### Los espinores $u$ de las partículas y $v$ de las antipartículas\n",
    "\n",
    "Resulta conviente utilizar los espinores $u_i$ y $v_i$, con $i=1, 2$, asociados a partículas y antipartículas con energía positiva.\n",
    "\n",
    "$$\n",
    "\\Psi_i = u_i(E, {\\bf p}) \\, e^{+i({\\bf p} \\cdot {\\bf x} - E t)}, \\;\\; \n",
    "\\Psi^v_i = v_i(E, {\\bf p}) \\, e^{-i({\\bf p} \\cdot {\\bf x} - E t)},\n",
    "$$\n",
    "\n",
    "donde:\n",
    "$$\n",
    "u_1 = N \\begin{pmatrix} 1 \\\\ 0 \\\\ \\frac{p_z}{E+m} \\\\ \\frac{p_x+ip_y}{E+m} \\end{pmatrix}, \\;\n",
    "u_2 = N \\begin{pmatrix} 0 \\\\ 1 \\\\ \\frac{p_x-ip_y}{E+m} \\\\ \\frac{-p_z}{E+m} \\end{pmatrix}, \\;\n",
    "v_1 = N \\begin{pmatrix} \\frac{p_x-ip_y}{E+m} \\\\ \\frac{-p_z}{E+m} \\\\ 0 \\\\ 1 \\end{pmatrix}, \\;\n",
    "v_2 = N \\begin{pmatrix} \\frac{p_z}{E+m} \\\\ \\frac{p_x + ip_y}{E+m} \\\\ 1 \\\\ 0 \\end{pmatrix}. \n",
    "$$\n",
    "\n"
   ]
  },
  {
   "cell_type": "markdown",
   "metadata": {
    "slideshow": {
     "slide_type": "slide"
    }
   },
   "source": [
    "### Operadores sobre los spinores de anti-partículas\n",
    "\n",
    "Los operadores ${\\hat H} = i \\frac{\\partial}{\\partial t}, \\; {\\hat {\\bf p}} = - i \\nabla$. Al aplicarlos sobre las soluciones de las anti-partículas nos dan:\n",
    "\n",
    "$$\n",
    "\\hat{H} \\, \\Psi^v = - E \\, \\Psi^v, \\;\\; {\\bf \\hat p} \\, \\Psi^v = - {\\bf p} \\, \\Psi^v,\n",
    "$$\n",
    "\n",
    "que son las soluciones de energía negativa yendo hacia atrás en el tiempo.\n",
    "\n",
    "A los operadores de las antipartículas afectados por la interpretación de Feynman-Stückelber los denotaremos con $\\hat{O}^v$. \n",
    "\n",
    "Estos operadores, para que den las cantidades *física* adecuadas, son:\n",
    "\n",
    "$$\n",
    "{\\hat H}^v = - i \\frac{\\partial}{\\partial t}, \\;\\;\\;\n",
    "{\\hat {\\bf p}}^v = i \\nabla, \\;\\;\\; {\\hat S}_z^v = - {\\hat S}_z\n",
    "$$"
   ]
  },
  {
   "cell_type": "markdown",
   "metadata": {
    "slideshow": {
     "slide_type": "slide"
    }
   },
   "source": [
    "### Conjungación de carga\n",
    "\n",
    "La conjungación de carga cambia partículas por antipartículas.\n",
    "\n",
    "El **operador cojungación de carga** viene dado por:\n",
    "\n",
    "$$\n",
    "\\Psi' = \\hat{C} \\, \\Psi = i \\gamma^2 \\Psi^*\n",
    "$$\n",
    "\n",
    "Este operador cambia $\\Psi_1 = u_1 \\, e^{+i({\\bf p \\cdot x} - Et)}$  en $\\Psi^v_1 = v_1 \\, e^{-i({\\bf p \\cdot x} - Et)}$\n",
    "\n",
    "Veámoslo:\n",
    "\n",
    "$$\n",
    "\\Psi' = \\hat{C} \\, \\Psi_1 = i \\gamma^2 \\left[u_i e^{+i ({\\bf p} \\cdot {\\bf x} - Et)} \\, \\right]^* = i \\gamma^2 u^*_1 \\, e^{-i ({\\bf p} \\cdot {\\bf x} - Et)} \n",
    "$$"
   ]
  },
  {
   "cell_type": "markdown",
   "metadata": {
    "slideshow": {
     "slide_type": "slide"
    }
   },
   "source": [
    "Queda comprobar que $i\\gamma^2 u^*_1 = v_1$\n",
    "\n",
    "En la representación de Pauli-Dirac: \n",
    "$$\n",
    "i \\gamma^2 u^*_1 = \n",
    "i \n",
    "\\begin{pmatrix} 0 & 0 & 0 & -i  \\\\ 0 & 0 & i & 0 \\\\ \n",
    "                0 & i & 0 & 0   \\\\ -i & 0 & 0 & 0  \\end{pmatrix}\n",
    "\\begin{pmatrix} 1 \\\\ 0 \\\\ \\frac{p_z}{E+m} \\\\ \\frac{p_x - i p_y}{E+m}\\end{pmatrix} = \n",
    "\\begin{pmatrix} \\frac{p_x - ip_y}{E+m} \\\\ \\frac{-p_z}{E+m} \\\\ 0 \\\\ 1 \\end{pmatrix} = v_1\n",
    "$$\n",
    "\n",
    "Verificamos que no la conjungación de carga no cambia el espín:\n",
    "$$\n",
    "\\hat{S}_z \\, \\Psi_1 = \\hat{S}^v_z \\Psi^v_1\n",
    "$$\n",
    "\n",
    "Se comprueba de la misma forma para $u_2, v_1, v_2$."
   ]
  },
  {
   "cell_type": "markdown",
   "metadata": {
    "slideshow": {
     "slide_type": "slide"
    }
   },
   "source": [
    "### Paridad\n",
    "\n",
    "La operación de paridad, ${\\hat P}$, cambia ${\\bf x} \\to -{\\bf x}$. Lo que tiene como consecuencia que también cambie ${\\bf p} \\to - {\\bf p}$, pero no el momento angular.\n",
    "\n",
    "Definimos el operador paridad como: \n",
    "$$\n",
    "\\hat{P} \\equiv \\gamma^0,\n",
    "$$\n",
    "\n",
    "De tal forma que los fermiones en reposo, tienen autovalor +1 bajo paridad y las antifermiones -1:\n",
    "\n",
    "$$\n",
    "\\hat{P} \\, u_i(m, {\\bf 0}) = \\gamma^0 u_i(m, {\\bf 0})  = + u_i (m, {\\bf 0}), \\;\\; \\hat{P} \\, v_i(m, {\\bf 0}) = \\gamma^0 v_i(m, {\\bf 0}) = - v_i(m, {\\bf 0}),\n",
    "$$\n",
    "con $i = 1, 2$.\n"
   ]
  },
  {
   "cell_type": "markdown",
   "metadata": {
    "slideshow": {
     "slide_type": "slide"
    }
   },
   "source": [
    "Si aplicamos paridad, $\\hat{P}$ sobre $\\Psi_1$\n",
    "\n",
    "El exponente de la función de ondas, $\\Psi$, no cambia por paridad ya que si ${\\bf x \\to -x}$ entonces ${\\bf p} \\to -{\\bf p}$.\n",
    "\n",
    "Y al aplicar $\\hat{P} \\, u_1(E, {\\bf p})$ obtenemos:\n",
    "\n",
    "$$\n",
    " N \\begin{pmatrix} 1 & 0 & 0 & 0 \\\\ 0 & 1 & 0 & 0 \\\\ 0 & 0 & -1 & 0 \\\\ 0 & 0 & 0 & -1 \\end{pmatrix} \n",
    "\\begin{pmatrix} 1 \\\\ 0 \\\\ \\frac{p_x +i p_y}{E+m} \\\\ \\frac{p_z}{E+m} \\end{pmatrix} = \n",
    "N \\begin{pmatrix} 1 \\\\ 0 \\\\ \\frac{-p_x - i p_y}{E+m} \\\\ \\frac{-p_z}{E+m} \\end{pmatrix} = u_1(E, - {\\bf p}) \n",
    "$$\n",
    "\n",
    "comprobamos que en el espinor cambia ${\\bf p} \\to - {\\bf p}$\n",
    "\n",
    "Se comprueba de forma simular para $u_2, v_1, v_2$."
   ]
  },
  {
   "cell_type": "markdown",
   "metadata": {
    "slideshow": {
     "slide_type": "slide"
    }
   },
   "source": [
    "### Factor de normalización\n",
    "\n",
    "La función de ondas en la versión relativista se normaliza a $2E$ partículas en una unidad de volumen $V$ (ver [apéndice-fundamentos])\n",
    "\n",
    "Si normalizamos por ejemplo para $\\Psi_1$ obtenemos:\n",
    "\n",
    "$$\n",
    "\\Psi_1^\\dagger \\Psi_1 = u_1^\\dagger u_1 = |N|^2 \\, \n",
    "\\left(1 + \\frac{p_z^2}{(E+m)^2} + \\frac{p^2_x + p^2_y}{(E+m)^2} \\right) = |N|^2 \\frac{2E}{E+m} = 2E\n",
    "$$\n",
    "\n",
    "El factor de normalización es:\n",
    "$$\n",
    "N = \\sqrt{E + m}\n",
    "$$"
   ]
  },
  {
   "cell_type": "markdown",
   "metadata": {
    "slideshow": {
     "slide_type": "slide"
    }
   },
   "source": [
    "## Helicidad y Quiralidad\n",
    "\n",
    "#### Tercera componente de spin\n",
    "\n",
    "Los espinores, $u, v$, son autoestados del operador tercera componente de espín, ${\\hat S}_z$.\n",
    "\n",
    "Se comprueba fácil para el caso en reposo, $u_i(m, {\\bf 0}), \\, v_i(m, {\\bf 0})$, con $i=1, 2$.\n",
    "\n",
    "Para las partículas en movimiento siempre podemos definar la dirección $z$ como la de momento, ${\\bf p} = p {\\hat k}$. En ese caso:\n",
    "\n",
    "$$\n",
    "u_1 = N \\begin{pmatrix} 1 \\\\ 0 \\\\ \\frac{p}{E+m} \\\\ 0 \\end{pmatrix}, \\;\n",
    "u_2 = N \\begin{pmatrix} 0 \\\\ 1 \\\\ 0 \\\\ \\frac{-p_z}{E+m} \\end{pmatrix}, \\;\n",
    "v_1 = N \\begin{pmatrix} 0 \\\\ \\frac{-p_z}{E+m} \\\\ 0 \\\\ 1 \\end{pmatrix}, \\;\n",
    "v_2 = N \\begin{pmatrix} \\frac{p_z}{E+m} \\\\ 0 \\\\ 1 \\\\ 0 \\end{pmatrix} \n",
    "$$\n",
    " \n",
    "se cumple:\n",
    "$$\n",
    "\\hat{S}_z \\, u_i(E, p \\hat{k}) = \\pm \\frac{1}{2} u_i(E, p \\hat{k}), \\;\\;\\;\n",
    "\\hat{S}^v_z \\, v_i(E, p \\hat{k}) = \\pm \\frac{1}{2} v_i(E, p \\hat{k}),\n",
    "$$\n",
    "\n",
    "Los espinores con $i=1$ tiene autovalores $+1/2$ (up) y los de $i=2$, $-1/2$ (down) de la tercera componente de spin."
   ]
  },
  {
   "cell_type": "markdown",
   "metadata": {
    "slideshow": {
     "slide_type": "slide"
    }
   },
   "source": [
    "### Helicidad\n",
    "\n",
    "Definimos la helicidad, $h$, como la proyección normalizada del spin sobre el momento:\n",
    "\n",
    "$$\n",
    "h \\equiv \\frac{{\\bf S} \\cdot {\\bf p}}{p}.\n",
    "$$\n",
    "\n",
    "Para un espinor de Dirac el operador de helicidad, $\\hat{h}$, en la representación Pauli-Dirac:\n",
    "\n",
    "$$\n",
    "{\\hat h} = \\frac{{\\bf \\Sigma} \\cdot {\\hat {\\bf p}}}{ 2 p} = \\frac{1}{2p} \n",
    "\\begin{pmatrix} {\\bf \\sigma} \\cdot {\\bf {\\hat p}} & 0 \\\\ 0 & {\\bf \\sigma} \\cdot {\\bf {\\hat p}} \\end{pmatrix}\n",
    "$$\n"
   ]
  },
  {
   "cell_type": "markdown",
   "metadata": {
    "slideshow": {
     "slide_type": "slide"
    }
   },
   "source": [
    "El operador helicidad conmuta con el hamiltoniano: $[{\\hat H}, {\\hat h}] = 0 $ y por lo tanto la helicidad se conserva.\n",
    "\n",
    "Pero no es un invariante Lorentz, para una partícula siempre podemos encontrar un sistema de referencia (con una velocidad mayor) que revierta el momento y por lo tanto la helicidad.\n",
    "\n",
    "Vamos a calcular la representación de los espinores, $u, v$ que sean autoestados de helicidad.\n",
    "\n",
    "Estos espinores son de gran utilidad cuando se calculan los elementos de matriz de las desintegraciones o interacciones de partículas."
   ]
  },
  {
   "cell_type": "markdown",
   "metadata": {
    "slideshow": {
     "slide_type": "slide"
    }
   },
   "source": [
    "### Espinores de helicidad\n",
    "\n",
    "Recordemos que la parde de arriba y abajo, $u_A, u_B$, del espinor $u = \\begin{pmatrix} u_A \\\\ u_B \\end{pmatrix}$ están relacionadas:\n",
    "\n",
    "$$\n",
    "u_B = \\frac{{\\bf \\sigma \\cdot p}}{E+m} \\, u_A\n",
    "$$\n",
    "\n",
    "Solo necesitamos calcular las componentes, $a, b$, de $u_A = \\begin{pmatrix} a \\\\ b \\end{pmatrix}$\n",
    "\n",
    "Siendo $u$ autoestado de helicidad\n"
   ]
  },
  {
   "cell_type": "markdown",
   "metadata": {
    "slideshow": {
     "slide_type": "slide"
    }
   },
   "source": [
    "\n",
    "#### Autovalores de helicidad\n",
    "\n",
    "la condición de autoestado de helicidad, $\\hat{h}\\, u = \\lambda \\, u$:\n",
    "\n",
    "$$\n",
    "\\frac{1}{2p} \\begin{pmatrix} \\sigma \\cdot {\\bf p} & 0 \\\\ 0  & \\sigma \\cdot {\\bf p}\\end{pmatrix} \\, \n",
    "\\begin{pmatrix} u_A \\\\ u_B \\end{pmatrix} = \\lambda \\, \\begin{pmatrix} u_A \\\\ u_B \\end{pmatrix},\n",
    "$$\n",
    "se traduce en dos condiciones:\n",
    "$$\n",
    "(\\sigma \\cdot {\\bf p}) \\, u_A = (2p) \\lambda u_A, \\;\\; (\\sigma \\cdot {\\bf p}) \\, u_B = (2p) \\lambda u_B\n",
    "$$\n",
    "\n",
    "si multiplicamos la primera ecuación a ambos lados por $(\\sigma \\cdot {\\bf p})$ y teniendo en cuenta que $(\\sigma \\cdot {\\bf p})^2 = p^2$, obtenemos:\n",
    "\n",
    "$$\n",
    "p^2 u_A = (2p) \\lambda (\\sigma \\cdot {\\bf p}) u_A = 4p^2 \\lambda^2 u_A \n",
    "$$\n",
    "\n",
    "de donde obtenemos los autovalores de helicidad:\n",
    "\n",
    "$$\n",
    "\\lambda = \\pm \\frac{1}{2}\n",
    "$$"
   ]
  },
  {
   "cell_type": "markdown",
   "metadata": {
    "slideshow": {
     "slide_type": "slide"
    }
   },
   "source": [
    "#### Autoestados de helicidad\n",
    "\n",
    "Si expresamos el momento en coordenadas esféricas ${\\bf p} = p \\, (\\sin \\theta \\cos \\phi, \\sin \\theta, \\cos \\theta)$, obtenemos:\n",
    "\n",
    "$$\n",
    "\\frac{{\\bf \\sigma} \\cdot {\\bf p}}{p} = \\frac{1}{p}\\begin{pmatrix} p_z & p_x - ip_y \\\\ p_x+ip_y & -p_z \\end{pmatrix} = \n",
    "\\begin{pmatrix} \\cos\\theta & \\sin\\theta e^{-i\\phi} \\\\ \\sin\\theta e^{i\\phi} & -\\cos\\theta \\end{pmatrix}\n",
    "$$\n",
    "\n",
    "La condición de autoestado de $u_A$ es:\n",
    "\n",
    "$$\n",
    "\\begin{pmatrix} \\cos\\theta & \\sin\\theta e^{-i\\phi} \\\\ \\sin\\theta e^{i\\phi} & -\\cos\\theta \\end{pmatrix}\n",
    "\\begin{pmatrix} a \\\\ b \\end{pmatrix} = \n",
    "2 \\lambda \\begin{pmatrix} a \\\\ b \\end{pmatrix}\n",
    "$$\n"
   ]
  },
  {
   "cell_type": "markdown",
   "metadata": {
    "slideshow": {
     "slide_type": "slide"
    }
   },
   "source": [
    "\n",
    "Las componentes $a, b$ cumplen:\n",
    "$$\n",
    "\\frac{b}{a} = \\frac{2\\lambda -\\cos \\theta}{\\sin\\theta} e^{i\\phi}\n",
    "$$\n",
    "\n",
    "Para el caso de helicidad positiva $\\lambda = 1/2$, obtenemos:\n",
    "\n",
    "$$\n",
    "\\frac{b}{a} = \\frac{1 -\\cos \\theta}{\\sin\\theta} e^{i\\phi} = e^{i\\phi} \\tan \\frac{\\theta}{2}\n",
    "$$\n",
    "\n",
    "De tal forma:\n",
    "$$\n",
    "u_A = \\begin{pmatrix} \\cos \\frac{\\theta}{2} \\\\ e^{i\\phi}\\sin \\frac{\\theta}{2}\\end{pmatrix}\n",
    "$$\n"
   ]
  },
  {
   "cell_type": "markdown",
   "metadata": {
    "slideshow": {
     "slide_type": "slide"
    }
   },
   "source": [
    "Por la relación entre las partes $u_B$ y $u_A$ que impone la ecuación de Dirac, $(E+m) \\, u_B = ({\\bf \\sigma \\cdot p \\cdot}) \\, u_A$ obtenemos y por ser autoestado de helicidad, $({\\bf \\sigma \\cdot p}) \\, u_A = (2p) \\lambda u_A$, obtenemos el espinor $u_+$ con $\\lambda = 1/2$\n",
    "\n",
    "$$\n",
    "u_{+} = N \\begin{pmatrix} c \\\\ s e^{i\\theta} \\\\ \\frac{p}{E+m} c \\\\ \\frac{p}{E+m} s e^{i\\theta} \\end{pmatrix},\n",
    "$$\n",
    "donde $c = \\cos \\theta/2, s = \\sin \\theta/2$, y $N$ el factor de normalización.\n",
    "\n",
    "\n",
    "que es autovector del operador helicidad, $\\hat{h}$ con autovalor $1/2$, helicidad positiva:\n",
    "\n",
    "$$\n",
    "\\hat{h} \\, u_+ = \\frac{1}{2} \\, u_+\n",
    "$$"
   ]
  },
  {
   "cell_type": "markdown",
   "metadata": {
    "slideshow": {
     "slide_type": "slide"
    }
   },
   "source": [
    "Procediendo de forma similar para el espinor $u$ con $\\lambda = -1/2$ y para los espinores $v$ con $\\lambda = \\pm 1/2$ obtenemos los **espinores de helicidad**:\n",
    "\n",
    "\n",
    "$$\n",
    "u_{+} = N \\begin{pmatrix} c \\\\ s e^{i\\theta} \\\\ \\kappa c \\\\ \\kappa s e^{i\\theta} \\end{pmatrix}, \\;\n",
    "u_{-} = N \\begin{pmatrix} -s \\\\ c e^{i\\theta} \\\\ \\kappa s \\\\ -\\kappa c e^{i\\theta}\\end{pmatrix}, \\;\n",
    "v_{+} = N \\begin{pmatrix} \\kappa s \\\\ -\\kappa c e^{i\\theta}\\\\ -s \\\\ ce^{i\\theta} \\end{pmatrix}, \\;\n",
    "v_{-} = N \\begin{pmatrix} \\kappa c \\\\ \\kappa s e^{i\\theta}\\\\ c \\\\ s e^{i\\theta} \\end{pmatrix}. \n",
    "$$\n",
    "\n",
    "donde $\\kappa = \\frac{p}{E+m}, c = \\cos \\theta/2, s = \\sin \\theta/2$ y $N$ el factor normalización.\n",
    "\n",
    "que cumplen:\n",
    "\n",
    "$$\n",
    "\\hat{h} \\, u_\\pm = \\pm \\frac{1}{2} \\, u_\\pm, \\;\\;\\; \\hat{h}^v \\, v_\\pm = \\pm \\frac{1}{2} \\, v_\\pm\n",
    "$$\n"
   ]
  },
  {
   "cell_type": "markdown",
   "metadata": {
    "slideshow": {
     "slide_type": "slide"
    }
   },
   "source": [
    "Los espinores de quiralidad se suelen representar de forma gráfica con la siguientes figuras:\n",
    "\n",
    "| |\n",
    "|:--:|\n",
    "|<img src=\"./imgs/dirac_spinors_helicities.png\" width = 400 align=\"center\">|\n",
    "| spín (flecha azul) y momento (negra) de los spinores de helicidad|\n",
    "\n",
    "$u_\\pm, v_\\pm$ son los espinores de las partículas y antipartículas respectivamente.\n",
    "\n",
    "$u_{+}, v_{+}$ son espinores de **helicidad positiva** (el espín tiene el mismo sentido que el momento).\n",
    "\n",
    "$u_{-}, v_{-}$ tienen **helicidad negativa** (el spín y momento tienen sentido opuesto).\n",
    "\n"
   ]
  },
  {
   "cell_type": "markdown",
   "metadata": {
    "slideshow": {
     "slide_type": "slide"
    }
   },
   "source": [
    "##### Caso de partículas ultrarelativistas\n",
    "\n",
    "Si consideramos elcaso de partículas ultrarelativistas, $E \\gg m$, o sin masa $m=0$, como es el caso del neutrino, tenemos $E = p$ y por lo tanto $\\kappa = 1$.\n",
    "\n",
    "Los espinores de helicidad para el caso ultrarelativista son:\n",
    "\n",
    "$$\n",
    "u_{+} = N \\begin{pmatrix} c \\\\ s e^{i\\theta} \\\\ c \\\\  s e^{i\\theta} \\end{pmatrix}, \\;\n",
    "u_{-} = N \\begin{pmatrix} -s \\\\ c e^{i\\theta} \\\\ s \\\\ - c e^{i\\theta}\\end{pmatrix}, \\;\n",
    "v_{+} = N \\begin{pmatrix}  s \\\\ -c e^{i\\theta}\\\\ -s \\\\ ce^{i\\theta} \\end{pmatrix}, \\;\n",
    "v_{-} = N \\begin{pmatrix} c \\\\ s e^{i\\theta}\\\\ c \\\\ s e^{i\\theta} \\end{pmatrix}. \n",
    "$$\n",
    "\n",
    "\n"
   ]
  },
  {
   "cell_type": "markdown",
   "metadata": {
    "slideshow": {
     "slide_type": "slide"
    }
   },
   "source": [
    "### Quiralidad\n",
    "\n",
    "La quiralidad juega un papel fundamental en la interacciones débiles.\n",
    "\n",
    "La quiralidad se corresponde con la matriz $\\gamma^5$. Los autoestados de $\\gamma^5$ son autoestados de quiralidad. \n",
    "\n",
    "Recordemos que $\\gamma^5$ en la representación de Pauli-Dirac es:\n",
    "\n",
    "$$\n",
    "\\gamma^5 = \\begin{pmatrix} 0 & I \\\\ I & 0 \\end{pmatrix}\n",
    "$$\n",
    "\n"
   ]
  },
  {
   "cell_type": "markdown",
   "metadata": {
    "slideshow": {
     "slide_type": "slide"
    }
   },
   "source": [
    "En esta representación, los espinores $u = \\begin{pmatrix} u_A \\\\ u_B \\end{pmatrix}$ son autoestados de quiralidad si sus componentes $u_A, u_B$ cumplen:  \n",
    "\n",
    "$$\n",
    "u_B = \\pm u_A\n",
    "$$\n",
    "\n",
    "Los espinores\n",
    "\n",
    "$$\n",
    "u_R = \\begin{pmatrix} u_A \\\\ u_A \\end{pmatrix}, \\;\\;\\; u_L = \\begin{pmatrix} u_A \\\\ -u_A \\end{pmatrix},\n",
    "$$\n",
    "\n",
    "cumplen:\n",
    "\n",
    "$$\n",
    "\\gamma^5 \\, u_R = + u_R; \\;\\;\\; \\gamma^5 \\, u_L = - u_L\n",
    "$$\n",
    "\n",
    "Decimos que $u_R$ tiene quiralidad a derechas y $u_L$ a izquierdas."
   ]
  },
  {
   "cell_type": "markdown",
   "metadata": {},
   "source": [
    "Para los espinores $v$ de las antipartículas, la situación se invierte.\n",
    "\n",
    "Los espinores:\n",
    "\n",
    "$$\n",
    "v_R = \\begin{pmatrix} -v_B \\\\ v_B \\end{pmatrix}, \\;\\;\\;\n",
    "v_L = \\begin{pmatrix} v_B \\\\ v_B \\end{pmatrix}\n",
    "$$\n",
    "\n",
    "Son autoestados de quiralidad $v_R$ a derechas y $v_L$ a izquierdas, y cumplen:\n",
    "\n",
    "$$\n",
    "\\gamma^5 \\, v_R = - v_R, \\;\\;\\; \\gamma^5 v_L = +v_L\n",
    "$$"
   ]
  },
  {
   "cell_type": "markdown",
   "metadata": {
    "slideshow": {
     "slide_type": "slide"
    }
   },
   "source": [
    "Si definimos $\\gamma^{5v} = - \\gamma^5$, para los espinores $v$, tenemos:\n",
    "    \n",
    "$$\n",
    "\\gamma^{5v} v_R = + v_R, \\;\\; \\gamma^{5v} v_L = - v_L \n",
    "$$"
   ]
  },
  {
   "cell_type": "markdown",
   "metadata": {
    "slideshow": {
     "slide_type": "slide"
    }
   },
   "source": [
    "#### quiralidad de los espinores de helicidad de las partículas ultra-relativistas\n",
    "\n",
    "Si consideramos los **estados de helicidad de partículas ultra-relativistas**,\n",
    "\n",
    "$$\n",
    "u_{+} = N \\begin{pmatrix} c \\\\ s e^{i\\theta} \\\\ c \\\\  s e^{i\\theta} \\end{pmatrix}, \\;\n",
    "u_{-} = N \\begin{pmatrix} -s \\\\ c e^{i\\theta} \\\\ s \\\\ - c e^{i\\theta}\\end{pmatrix}, \\;\n",
    "v_{+} = N \\begin{pmatrix}  s \\\\ -c e^{i\\theta}\\\\ -s \\\\ ce^{i\\theta} \\end{pmatrix}, \\;\n",
    "v_{-} = N \\begin{pmatrix} c \\\\ s e^{i\\theta}\\\\ c \\\\ s e^{i\\theta} \\end{pmatrix}. \n",
    "$$\n",
    "\n",
    "observamos que **son autoestados de quiralidad**:\n",
    "\n",
    "\n",
    "$$\n",
    "\\gamma^5 \\, u_+ = +u_+, \\;\\;\\; \\gamma^5 \\, u_- = -u_-, \\;\\;\\; \n",
    "\\gamma^{5} \\, v_+ = -v_+, \\;\\;\\; \\gamma^{5} \\, v_- = +v_-\n",
    "$$\n",
    "\n",
    "Esto es:\n",
    "$$\n",
    "u_R = u_+, \\;\\;\\; u_L = u_-, \\;\\;\\; v_R = v_+, \\;\\;\\; v_L = v_-\n",
    "$$\n",
    "\n",
    "*Cuidado*: ¡sólo es válido para partículas ultra-relativistas!"
   ]
  },
  {
   "cell_type": "markdown",
   "metadata": {
    "slideshow": {
     "slide_type": "slide"
    }
   },
   "source": [
    "#### Proyectores de quiralidad\n",
    "\n",
    "Los proyectores de quiralidad a derechas, $P_R$, y a izquierdad, $P_L$ son:\n",
    "\n",
    "$$\n",
    "P_R = \\frac{1}{2} (I + \\gamma^5), \\;\\;\\, P_L = \\frac{1}{2} (I - \\gamma^5)\n",
    "$$\n",
    "\n",
    "Es fácil comprobar a partir de las proiedades de la $\\gamma^5$ que $P_R, \\, P_L$ cumplen las condiciones de proyectores:\n",
    "\n",
    "$$\n",
    "P_R + P_L = I, \\;\\; P^2_R = P_R, \\;\\;, P^2_L = P_L, \\;\\; P_L P_R = P_R P_L = 0\n",
    "$$\n",
    "\n",
    "En la representación de Pauli-Dirac son:\n",
    "\n",
    "$$\n",
    "P_R = \\frac{1}{2}\\begin{pmatrix} I & I \\\\ I & I \\end{pmatrix}, \\;\\;\\;\n",
    "P_L = \\frac{1}{2}\\begin{pmatrix} I & -I \\\\ -I & I \\end{pmatrix},\n",
    "$$\n"
   ]
  },
  {
   "cell_type": "markdown",
   "metadata": {
    "slideshow": {
     "slide_type": "slide"
    }
   },
   "source": [
    "Los proyectores actuan sobre los espinores $u$ de la siguiente forma:\n",
    "\n",
    "$$\n",
    "P_R \\, u_R = u_R, \\;\\; P_R \\, u_L = 0, \\;\\;\\; P_L \\, u_R = 0, \\;\\; P_L \\, u_L = u_L.\n",
    "$$\n",
    "\n",
    "De tal forma que un espinor $u$ se puede descomponer en su parte a derechas e izquierdas:\n",
    "\n",
    "$$\n",
    "P_R \\, u = \\alpha \\, u_R, \\;\\;\\; P_L \\, u = \\beta \\, u_L, \\;\\;\\; u = \\alpha \\, u_R + \\beta \\,u_L\n",
    "$$\n",
    "donde $\\alpha, \\beta$ son dos coeficientes complejos.\n",
    "\n",
    "Mientras que sobre los espinores $v$, actuan:\n",
    "\n",
    "$$\n",
    "P_R \\, v_R = 0, \\;\\; P_R \\, v_L = v_L, \\;\\;\\; P_L \\, v_R = v_R, \\;\\; P_L \\, v_L = 0.\n",
    "$$\n",
    "\n",
    "Y un espinor $v$ puede descomponerse en partes a izquierdas y derechas:\n",
    "\n",
    "$$\n",
    "P_L \\, v = \\alpha' \\, v_R, \\;\\; P_R \\, v = \\beta' \\, v_L, \\;\\; v = \\alpha' \\, v_L + \\beta' \\, v_R\n",
    "$$\n"
   ]
  },
  {
   "cell_type": "markdown",
   "metadata": {
    "slideshow": {
     "slide_type": "subslide"
    }
   },
   "source": [
    "Si definimos los operadores proyección para los espinores $v$ como:\n",
    "\n",
    "$$\n",
    " P^{v}_R = \\frac{1}{2} (1 + \\gamma^{5v}), \\;\\; P^{v}_L = \\frac{1}{2} (1 - \\gamma^{5v})\n",
    "$$\n",
    "\n",
    "Recuperamos la notación simétrica:\n",
    "\n",
    "$$\n",
    "P^v_R \\, v_R = v_R, \\;\\; P^v_R \\, v_L = 0, \\;\\;\\; P^v_L \\, v_R = 0, \\;\\; P^v_L \\, v_L = v_L.\n",
    "$$"
   ]
  },
  {
   "cell_type": "markdown",
   "metadata": {
    "slideshow": {
     "slide_type": "slide"
    }
   },
   "source": [
    "\n",
    "Resulta muy útil reconocer que las siguientes corrientes entre proyecciones de quiralidas son nulas:\n",
    "\n",
    "$$\n",
    "{\\bar u}_L \\gamma^\\mu u_R = {\\bar u}_R \\gamma^\\mu u_L = {\\bar v}_L \\gamma^\\mu u_R = {\\bar v}_R \\gamma^\\mu u_L = \n",
    "{\\bar v}_L \\gamma^\\mu v_R = {\\bar v}_R \\gamma^\\mu v_L = 0\n",
    "$$\n",
    "\n",
    "Por ejemplo:\n",
    "\n",
    "$$\n",
    "\\bar{u}_L \\gamma^\\mu u_R = u^\\dagger \\frac{1}{2}(1 - \\gamma^5)^\\dagger \\gamma^0 \\gamma^\\mu \\frac{1}{2} (1 + \\gamma^5) = u^\\dagger \\, \\gamma^0 \\gamma^\\mu \\frac{1}{2}(1-\\gamma^5) \\frac{1}{2}(1+\\gamma^5) u = \\bar{u} \\gamma^\\mu P_L P_R u = 0\n",
    "$$\n",
    "\n",
    "por las propiedades de las $\\gamma$'s: $\\gamma^{5\\dagger} = \\gamma^5, \\, \\gamma^\\mu \\gamma^5 = - \\gamma^\\mu \\gamma^5$.\n",
    "\n",
    "\n",
    "De las posibles corrientes fermiónicas, solo pueden ser no nulas las que tienen fermiones con la misma quiralidad en ambos lados de la corriente. Estas son:\n",
    "\n",
    "$$\n",
    "{\\bar u}_L \\gamma^\\mu u_L, \\;\\; {\\bar u}_R \\gamma^\\mu u_R, \\;\\;  {\\bar v}_L \\gamma^\\mu u_L, \\;\\; {\\bar v}_R \\gamma^\\mu v_R \n",
    "$$\n",
    "\n",
    "*Nota adicional*: En las corrientes débiles cargadas intervienen solamente, $u_L$, espinores de izquierdas de los fermiones, y $v_R$, espinores de derechas de los antifermiones."
   ]
  },
  {
   "cell_type": "markdown",
   "metadata": {
    "slideshow": {
     "slide_type": "slide"
    }
   },
   "source": [
    "### Relación entre helicidad y quiralidad\n",
    "\n",
    "Ya vimos que los espinores de helicidad para las partículas ultrarelativistas $E >> m$ o sin masa $m = 0$ eran\n",
    "también autoestados de quiralidad.\n",
    "\n",
    "Si aplicamos los proyectores de quiralidad sobre el autoestado de helicidad $u_+$, obtenemos:\n",
    "\n",
    "$$\n",
    "P_R \\, u_+ = N \\frac{1}{2} (1 + \\kappa) \\, \\begin{pmatrix} c \\\\ s e^{i\\phi} \\\\ c \\\\ se^{i\\phi} \\end{pmatrix}, \\;\\; \n",
    "P_L \\, u_+ = N \\frac{1}{2} (1 - \\kappa) \\, \\begin{pmatrix} c \\\\ -s e^{i\\phi} \\\\ -c \\\\ -se^{i\\phi} \\end{pmatrix}, \n",
    "$$\n",
    "\n",
    "La componente de quiralidad a izquierdas de un espinor con helicidad positiva es proporcional a:\n",
    "\n",
    "$$\n",
    "\\frac{1}{2} (1-\\kappa)\n",
    "$$\n",
    "\n",
    "De forma similar obtendríamos la descomposición de $u_-$ y $v_\\pm$.\n",
    "\n",
    "Luego sólo cuando $\\kappa = 1$, la autoestados de quiralidad y helicidad coinciden, esto es solo el régimen ultrarelativista $E \\gg m$ o sin masa $m=0$."
   ]
  },
  {
   "cell_type": "markdown",
   "metadata": {
    "slideshow": {
     "slide_type": "slide"
    }
   },
   "source": [
    "### Paridad y conjugación de carga en espinores de quiralidad\n",
    "\n",
    "Si aplicamos el operador **paridad**, $\\hat{P} = \\gamma^0$, y los proyectores de quiralidad, $P_{R/L}$:\n",
    "    \n",
    "$$\n",
    "\\gamma^0 \\frac{1}{2} (1 \\pm \\gamma^5) = \\frac{1}{2}(1 \\mp \\gamma^5) \\gamma^0 \n",
    "$$\n",
    "\n",
    "**intercambia las componentes de izquierdas y las de derechas**.\n",
    "\n",
    "Notar que si una teoría es invariante bajo paridad debe tratar por igual a las componentes de quiralidad a izquierdas que a derechas."
   ]
  },
  {
   "cell_type": "markdown",
   "metadata": {
    "slideshow": {
     "slide_type": "slide"
    }
   },
   "source": [
    "Si aplicamos conjugación de carga, $\\hat{C} \\, \\Psi = i \\gamma^2 \\Psi^*$, a los proyectores de quiralidad, $P_{R/L}$:\n",
    "    \n",
    "$$\n",
    "i \\gamma^2 \\frac{1}{2} (1 \\pm \\gamma^5) =  (1 \\mp \\gamma^5) i \\gamma^2\n",
    "$$\n",
    "  \n",
    "Como los proyectores de quiralidad sobre los espores $v$ tienen el comportamiento complementario que sobre los $u$. Vemos que **conjugación de carga no cambia la quiralidad**."
   ]
  },
  {
   "cell_type": "markdown",
   "metadata": {
    "slideshow": {
     "slide_type": "slide"
    }
   },
   "source": [
    "## Bibliografía\n",
    "\n",
    " * [MT] Mark Tomson, \"Modern Particle Physics\", Cambridge U. press. Tema 4 y 6.4\n"
   ]
  }
 ],
 "metadata": {
  "anaconda-cloud": {},
  "celltoolbar": "Slideshow",
  "kernelspec": {
   "display_name": "Python 3",
   "language": "python",
   "name": "python3"
  },
  "language_info": {
   "codemirror_mode": {
    "name": "ipython",
    "version": 3
   },
   "file_extension": ".py",
   "mimetype": "text/x-python",
   "name": "python",
   "nbconvert_exporter": "python",
   "pygments_lexer": "ipython3",
   "version": "3.8.8"
  }
 },
 "nbformat": 4,
 "nbformat_minor": 4
}
