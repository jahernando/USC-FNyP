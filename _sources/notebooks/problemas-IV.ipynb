{
 "cells": [
  {
   "cell_type": "markdown",
   "metadata": {
    "slideshow": {
     "slide_type": "slide"
    }
   },
   "source": [
    "## Boletín de problemas IV\n",
    "\n",
    "Jose A. Hernando\n",
    "\n",
    "*Departamento de Física de Partículas. Universidade de Santiago de Compostela*\n",
    "\n",
    "Noviembre 2024\n"
   ]
  },
  {
   "cell_type": "code",
   "execution_count": 1,
   "metadata": {
    "slideshow": {
     "slide_type": "fragment"
    }
   },
   "outputs": [
    {
     "name": "stdout",
     "output_type": "stream",
     "text": [
      " Last version  Fri Nov  8 17:11:38 2024\n"
     ]
    }
   ],
   "source": [
    "import time\n",
    "print(' Last version ', time.asctime() )"
   ]
  },
  {
   "cell_type": "code",
   "execution_count": 2,
   "metadata": {},
   "outputs": [],
   "source": [
    "# general imports\n",
    "%matplotlib inline\n",
    "%reload_ext autoreload\n",
    "%autoreload 2\n",
    "\n",
    "# numpy and matplotlib\n",
    "import numpy as np\n",
    "import matplotlib\n",
    "import matplotlib.pyplot as plt\n",
    "\n",
    "import scipy.constants as units"
   ]
  },
  {
   "cell_type": "markdown",
   "metadata": {},
   "source": [
    "-----\n",
    "\n",
    "**ejercicio**\n",
    "\n",
    "Escribir explícita la expresión $\\vec{\\sigma} \\cdot \\vec{p}$ en función de las coordenadas cartesianas del momento $(p_x, p_y, p_z)$ y de las esféricas $(\\text{p}, \\theta, \\phi)$. Demostrar que $(\\vec{\\sigma} \\cdot \\vec{p})^2 = \\text{p}^2$\n"
   ]
  },
  {
   "cell_type": "markdown",
   "metadata": {},
   "source": [
    "*solución:*\n",
    "\n",
    "Como las matrices de Pauli son:\n",
    "\n",
    "$$\n",
    "\\sigma_1 = \\begin{pmatrix} 0 & 1 \\\\ 1 & 0 \\end{pmatrix}, \\;\\;\n",
    "\\sigma_2 = \\begin{pmatrix} 0 & -i \\\\ i & 0 \\end{pmatrix}, \\;\\;\n",
    "\\sigma_3 = \\begin{pmatrix} 1 & 0 \\\\ 0 & -1\\end{pmatrix}.\n",
    "$$\n",
    "\n",
    "obtenemos\n",
    "\n",
    "$$\n",
    "\\vec{\\sigma} \\cdot \\vec{p} = \\begin{pmatrix} p_z & p_x-ip_y \\\\ p_x+ip_y & -pz \\end{pmatrix} = \n",
    "\\text{p} \\begin{pmatrix} \\cos\\theta & e^{-i\\phi} \\sin\\theta \\\\ e^{i\\phi} \\sin\\theta & -\\cos\\theta \\end{pmatrix}\n",
    "$$\n"
   ]
  },
  {
   "cell_type": "markdown",
   "metadata": {},
   "source": [
    "A partir de ésta última expresión:\n",
    "\n",
    "$$\n",
    "(\\vec{\\sigma} \\cdot \\vec{p})^2 = \\text{p}^2 \\begin{pmatrix} 1 & 0 \\\\ 0 & 1 \\end{pmatrix}\n",
    "$$"
   ]
  },
  {
   "cell_type": "markdown",
   "metadata": {},
   "source": [
    "*solución*"
   ]
  },
  {
   "cell_type": "markdown",
   "metadata": {},
   "source": [
    "----\n",
    "\n",
    "**ejercicio**\n",
    "\n",
    "Verificar que el operador paridad sobre los espinores es $P = \\gamma^0$, de tal forma que $P \\, u_{s}(E, \\vec{p}) \\equiv \\gamma^0 u_s(E, \\vec{p}) = u_s(E, - \\vec{p})$. Verificar que los espinores en reposo $u_s(m,{\\bf 0}), \\, v_s(m, {\\bf 0})$, son autoestados de paridad con autovalores +1 y -1 respecticamente. Verificar con los espinores de helicidad en la dirección $z$ que la paridad invierte la helicidad.\n",
    "\n",
    "Al aplicar inversión por paridad sobre la ecuación de Dirac del espinor obtenemos: \n",
    "\n",
    "$$\n",
    "(i\\gamma^0 \\partial_0 - i \\gamma^k \\partial_k - m) \\, u_s(E, -\\vec{p}) = 0\n",
    "$$\n",
    "\n",
    "Verificar que si multiplicamos por la izquierda $\\gamma^0$ recuperamos la ec. de Dirac para los espinores $u_s(E, {\\bf p})$."
   ]
  },
  {
   "cell_type": "markdown",
   "metadata": {},
   "source": [
    "*solución*\n",
    "\n",
    "1) Tomemos los espinores:\n",
    "\n",
    "$$\n",
    "u_s(E, \\vec{p}) = N \\begin{pmatrix} \\chi_s \\\\ \\kappa (\\vec{\\sigma} \\cdot \\hat{{\\bf v}}) \\chi_s \\end{pmatrix} \n",
    "$$\n",
    "\n",
    "donde $N = \\sqrt{E+m}$ es una factor de normalización, $\\kappa = \\text{p}/(E+m)$ es un factor cinemático, y $\\hat{{\\bf v}}$ el vector unitario de la velocidad y \n",
    "\n",
    "$$\n",
    "\\chi_1 = \\begin{pmatrix} 1 \\\\ 0 \\end{pmatrix}, \\;\\;\\; \\chi_2 = \\begin{pmatrix} 0 \\\\ 1 \\end{pmatrix}.\n",
    "$$"
   ]
  },
  {
   "cell_type": "markdown",
   "metadata": {},
   "source": [
    "A aplicar \n",
    "\n",
    "$$\n",
    "\\gamma^0 u_s(E, \\vec{p}) = N \\begin{pmatrix} I & 0 \\\\ 0 & -I \\end{pmatrix}  \\begin{pmatrix} \\chi_s \\\\ \\kappa (\\vec{\\sigma} \\cdot \\hat{v}) \\chi_s \\end{pmatrix}  =  \\\\\n",
    "N  \\begin{pmatrix} \\chi_s \\\\ -\\kappa (\\vec{\\sigma} \\cdot \\hat{{\\bf v}}) \\chi_s \\end{pmatrix} = \n",
    "N  \\begin{pmatrix} \\chi_s \\\\ \\kappa (\\vec{\\sigma} \\cdot (-\\hat{{\\bf v}})) \\chi_s \\end{pmatrix} = u_s(E, -\\vec{p})\n",
    "$$\n"
   ]
  },
  {
   "cell_type": "markdown",
   "metadata": {},
   "source": [
    "1.b) Los espinores en reposo son simplemente:\n",
    "\n",
    "$$\n",
    "u_s(m, {\\bf 0}) = \\sqrt{2m} \\begin{pmatrix} \\chi_s \\\\ 0 \\end{pmatrix}\n",
    "$$\n",
    "\n",
    "La paridad cambia solo el bi-espinor de abajo, luego:\n",
    "$$\n",
    "\\gamma^0 u_s(m, {\\bf 0}) = u_s(m, {\\bf 0})\n",
    "$$\n",
    "\n",
    "Mientras que para las antipartículas, sus espinores son:\n",
    "\n",
    "$$\n",
    "v_s(m, {\\bf 0}) = \\sqrt{2m} \\begin{pmatrix} 0 \\\\ \\xi_s \\end{pmatrix}\n",
    "$$\n",
    "\n",
    "donde $\\xi_2 = \\chi_1, \\; \\xi_2 = \\chi_1$\n",
    "\n",
    "Al aplicar paridad si cambia los bi-espinores de abajo \n",
    "\n",
    "$$\n",
    "\\gamma^0 v_s(m, {\\bf 0}) = - v_s(m, {\\bf 0})\n",
    "$$\n",
    "\n",
    "Luego $u_s(m, {\\bf 0}), \\, v_s(m, {\\bf 0}))$ son autoestados de paridad con autovalores $+1, -1$ respectivamente."
   ]
  },
  {
   "cell_type": "markdown",
   "metadata": {},
   "source": [
    "1.c Si aplicamos paridad a los espinores de helicidad en la dirección $z$\n",
    "\n",
    "$$\n",
    "\\gamma^0 u_\\pm(p) = \n",
    "$$"
   ]
  },
  {
   "cell_type": "markdown",
   "metadata": {},
   "source": [
    "2. La ecuación de Dirac aplicando paridad queda (notar que la derivadas de las coordenadas espaciales invierten el signo):\n",
    "\n",
    "$$\n",
    "(i\\gamma^0 \\partial_0 - i \\gamma^k \\partial_k - m) \\, u_s(E, -\\vec{p}) = 0\n",
    "$$\n",
    "\n",
    "Si multiplicamos por $\\gamma^0$ por la derecha (esto es aplicamos la inversión por paridad de nuevo), dado que $\\gamma^0 \\gamma^k = - \\gamma^k \\gamma^0$\n",
    "\n",
    "$$\n",
    "\\gamma^0 (i\\gamma^0 \\partial_0 - i \\gamma^k \\partial_k - m) \\, u_s(E, -\\vec{p}) = 0 \\\\\n",
    "(i\\gamma^0 \\partial_0 + i \\gamma^k \\partial_k - m) \\, \\gamma^0 \\, u_s(E, -\\vec{p}) = \\\\\n",
    "(i\\gamma^\\mu \\partial_\\mu - m) \\, u_s(E, \\vec{p}) = 0\n",
    "$$\n",
    "\n",
    "que es la ec. de Dirac para los espinores $u_s(p)$.\n"
   ]
  },
  {
   "cell_type": "markdown",
   "metadata": {},
   "source": [
    "-----\n",
    "\n",
    "**ejercicio**\n",
    "\n",
    "La transformación por carga, en la representación Pauli-Dirac, para las soluciones de Dirac es $C \\, \\Psi_s(x) \\equiv i \\gamma^2 \\Psi^*_s(x) = \\eta_C \\Phi_s(x)$, (siendo $\\eta_C$ una fase compleja), esto es cambiamos partícula por antipartícula. Verificar que para los espinores de helicidad (en la dirección $z$) la operación bajo carga es: \n",
    "\n",
    "$$\n",
    "C \\, u_\\pm(p) \\equiv i\\gamma^2 u^{*}_\\pm(p) = \\pm v_\\pm(p)\n",
    "$$\n",
    "\n",
    "Considera ahora la ecuación de Dirac con interacción con el campo electromagnético:\n",
    "\n",
    "$$\n",
    "[\\gamma^\\mu( i \\partial_\\mu   - q A_\\mu) - m] \\, \\Psi_s(x) = 0\n",
    "$$\n",
    "\n",
    "Aplicar la operación conjugación de Carga sobre la ecuación, esto es, aplica el complejo conjugado y luego multiplica por $i\\gamma^2$ por la derecha, y verifica que obtienes la ec. de Dirac para las antipartículas. Usa que el campo electromagnético $A_\\mu$ es hermítico. En vista de la ecuación que queda, ¿qué carga tienen las antipartículas?\n",
    "\n"
   ]
  },
  {
   "cell_type": "markdown",
   "metadata": {},
   "source": [
    "*solución:*\n",
    "\n",
    "Recordemos que en la representación de Pauli-Dirac, $\\gamma^2$ es la única matriz compleja (el resto son reales)\n",
    "\n",
    "$$\n",
    "i \\gamma^2 = i \\begin{pmatrix} 0 & \\sigma^2 \\\\ - \\sigma^2 & 0 \\end{pmatrix}  = \n",
    "\\begin{pmatrix} 0 & 0 & 0 & 1 \\\\ 0 & 0 & -1 & 0 \\\\ 0 & -1 & 0 & 0 \\\\ 1 & 0 & 0 & 0 \\end{pmatrix}\n",
    "$$\n",
    "\n",
    "Si lo aplicamos sobre $u_\\pm(p)$, los espinores de helicidad en la dirección $z$. \n",
    "\n",
    "$$\n",
    "i \\gamma^2 u^*_+(p) = N \\begin{pmatrix} 0 & 0 & 0 & 1 \\\\ 0 & 0 & -1 & 0 \\\\ 0 & -1 & 0 & 0 \\\\ 1 & 0 & 0 & 0 \\end{pmatrix}\n",
    "\\begin{pmatrix} 1 \\\\ 0 \\\\ \\kappa \\\\ 0 \\end{pmatrix}  = N \\begin{pmatrix} 0 \\\\ -\\kappa \\\\ 0 \\\\ 1 \\end{pmatrix} = v_+(p)\n",
    "$$\n",
    "\n",
    "$$\n",
    "i \\gamma^2 u^*_-(p) = N \\begin{pmatrix} 0 & 0 & 0 & 1 \\\\ 0 & 0 & -1 & 0 \\\\ 0 & -1 & 0 & 0 \\\\ 1 & 0 & 0 & 0 \\end{pmatrix}\n",
    "\\begin{pmatrix} 0 \\\\ 1 \\\\ 0 \\\\ -\\kappa \\end{pmatrix}  = N \\begin{pmatrix} -\\kappa \\\\ 0 \\\\ -1 \\\\ 0 \\end{pmatrix} = - v_-(p)\n",
    "$$\n"
   ]
  },
  {
   "cell_type": "markdown",
   "metadata": {},
   "source": [
    "Podemos hacerlo de forma génerica con $u_s(p)$\n",
    "\n",
    "A partir de la expresión $u_s(p)$ en polares:\n",
    "\n",
    "$$\n",
    "i \\gamma^2 u^*_s(p) = N \\, i \\begin{pmatrix} 0 &  \\sigma^2 \\\\ -\\sigma^2 & 0 \\end{pmatrix} \n",
    "\\begin{pmatrix} \\chi_s \\\\ \\kappa (\\vec{\\sigma} \\cdot \\hat{v})^* \\chi_s \\end{pmatrix} \n",
    "$$"
   ]
  },
  {
   "cell_type": "markdown",
   "metadata": {},
   "source": [
    "analicemos el caso $s = 1$:\n",
    "\n",
    "$$\n",
    "\\hat{C} u^*_1(p) = N \\begin{pmatrix} 0 & 0 & 0 & 1 \\\\ 0 & 0 & -1 & 0 \\\\ 0 & -1 & 0 & 0 \\\\ 1 & 0 & 0 & 0 \\end{pmatrix} \\begin{pmatrix} 1 \\\\ 0 \\\\ \\kappa \\, \\cos \\theta \\\\ \\kappa  e^{-i\\phi} \\sin \\theta  \\end{pmatrix} = N \\begin{pmatrix} \\kappa  e^{-i\\phi} \\sin \\theta \\\\ -\\kappa \\, \\cos \\theta \\\\ 0 \\\\ 1  \\end{pmatrix} \n",
    "$$\n",
    "\n",
    "y por otro lado, la expresión de $v_1(p)$ es:\n",
    "\n",
    "$$\n",
    "v_1(p) = N \\begin{pmatrix} \\kappa e^{-i\\phi} \\sin \\theta \\\\ - \\kappa \\cos \\theta \\\\ 0 \\\\ 1\\end{pmatrix}\n",
    "$$"
   ]
  },
  {
   "cell_type": "markdown",
   "metadata": {},
   "source": [
    "para $s = 2$\n",
    "\n",
    "$$\n",
    "\\hat{C} u^*_2(p) = N \\begin{pmatrix} 0 & 0 & 0 & 1 \\\\ 0 & 0 & -1 & 0 \\\\ 0 & -1 & 0 & 0 \\\\ 1 & 0 & 0 & 0 \\end{pmatrix} \\begin{pmatrix} 0 \\\\ 1 \\\\ \\kappa \\, e^{i\\theta }\\sin \\theta \\\\ -\\kappa  \\cos \\theta  \\end{pmatrix} = - N \\begin{pmatrix}  \\kappa  \\cos \\theta \\\\ \\kappa \\, e^{i\\phi} \\sin \\theta \\\\ 1 \\\\ 0  \\end{pmatrix} \n",
    "$$\n",
    "\n",
    "y por otro lado, la expresión de $v_1(p)$ es:\n",
    "\n",
    "$$\n",
    "v_2(p) = N \\begin{pmatrix} \\kappa \\cos \\theta \\\\ \\kappa e^{i \\phi} \\sin \\theta \\\\ 1 \\\\ 0\\end{pmatrix}\n",
    "$$\n"
   ]
  },
  {
   "cell_type": "markdown",
   "metadata": {},
   "source": [
    "Para la ec. de Dirac en presencia del campo $A_\\mu$\n",
    "\n",
    "$$\n",
    "[\\gamma^\\mu(i\\partial_\\mu - q A_\\mu) -m] \\, \\Psi_s = 0\n",
    "$$\n",
    "\n",
    "Si tomamos el complejo conjugado y multiplicamos por la izquierda por $i \\gamma^2$\n",
    "\n",
    "$$\n",
    "i \\gamma^2 \\; [(\\gamma^\\mu)^* (-i\\partial_\\mu - q A_\\mu) -m] \\, \\Psi_s^* = 0\n",
    "$$\n",
    "\n",
    "La única $\\gamma^\\mu$ que cambia al aplicar el conjugado es la $\\mu=2$, como $(\\gamma^2)^* = - \\gamma^2$.\n",
    "Ahora como la $\\gamma^2$ de la izquierda anti-conmuta con todas las gammas, $\\gamma^\\mu$ a excepción de con $\\gamma^2$ con la que conmuta, tenemos.\n",
    "\n",
    "$$\n",
    "[-(\\gamma^\\mu) (-i\\partial_\\mu -q A_\\mu) - m] \\; (i \\gamma^2) \\, \\Psi_s^* = 0\n",
    "$$\n",
    "\n",
    "Luego\n",
    "\n",
    "$$\n",
    "[\\gamma^\\mu (i \\partial_\\mu + q A_\\mu) - m] \\, \\eta_C \\Phi_s(x) = 0\n",
    "$$\n",
    "\n",
    "que es la ec. de Dirac para las antipartículas, pero ahora el signo de $q$ ha cambiado, antes era $-q$ y ahora $+q$. ¡Luego es la misma ecuación de interacción pero con la carga opuesta!\n"
   ]
  },
  {
   "cell_type": "markdown",
   "metadata": {},
   "source": [
    "----\n",
    "**ejercicio**\n",
    "\n",
    "Determina el biespinor $\\xi_\\lambda(\\hat{\\bf v})$ que es autoestado de $(\\vec{\\sigma} \\cdot {\\hat {\\bf v}})$ con autovalores $\\lambda = \\pm 1$. Usa la expresión de $(\\vec{\\sigma} \\cdot \\hat{\\bf v})$ en polares.\n",
    "\n",
    "Verifica que los espinores dados por: \n",
    "\n",
    "$$\n",
    "u_\\lambda(p) = N \\begin{pmatrix} \\xi_\\lambda(\\hat{\\bf v}) \\\\ \\lambda \\kappa \\, \\xi_\\lambda (\\hat{\\bf v})\\end{pmatrix}\n",
    "$$\n",
    "\n",
    "son autoestados de helicidad con autovalores $\\lambda$ y soluciones de la ec. de Dirac.\n"
   ]
  },
  {
   "cell_type": "markdown",
   "metadata": {},
   "source": [
    "*solución*\n",
    "\n",
    "(ver extensión cinemática, TM)\n",
    "\n",
    "1. Cálculo de los autoestados\n",
    "\n",
    "$$\n",
    "\\begin{pmatrix} \\cos\\theta & e^{-i\\phi} \\sin\\theta \\\\ e^{i\\phi} \\sin\\theta & -\\cos\\theta \\end{pmatrix} \\begin{pmatrix} a \\\\ b \\end{pmatrix} = \\lambda \\begin{pmatrix} a \\\\ b \\end{pmatrix} \n",
    "$$\n",
    "\n",
    "$$\n",
    "a \\cos \\theta + b e^{-i\\phi} \\sin \\theta = \\lambda a \\\\\n",
    "a e^{+i\\phi} \\sin \\theta + b \\cos \\theta = \\lambda b \n",
    "$$\n",
    "\n",
    "de la primera obtenemos:\n",
    "$$\n",
    "\\frac{b}{a} = e^{+i\\phi} \\frac{(\\lambda - \\cos \\theta)} {\\sin \\theta}\n",
    "$$\n",
    "\n",
    "luego para $\\lambda = +1$:\n",
    "$$\n",
    "\\frac{b}{a} = e^{+i\\phi} \\frac{(1 - \\cos \\theta)} {\\sin \\theta} = e^{i\\phi} \\tan \\frac{\\theta}{2} \\\\\n",
    "%\\frac{b}{a} = -e^{+i\\phi} \\frac{(1 + \\cos \\theta)} {\\sin \\theta} = -e^{i\\phi} \\tan \\frac{\\theta}{2}\n",
    "$$\n",
    "\n",
    "Para $\\lambda = -1$\n",
    "\n",
    "$$\n",
    "\\frac{b}{a} = -e^{+i\\phi} \\frac{(1 + \\cos \\theta)} {\\sin \\theta} \\\\\n",
    "$$\n",
    "\n",
    "\n",
    "y podemos tomar\n",
    "\n",
    "$$\n",
    "\\xi_+(\\hat{\\bf v}) = \\begin{pmatrix}  \\cos \\frac{\\theta}{2} \\\\ e^{+i\\phi} \\sin \\frac{\\theta}{2} \\end{pmatrix}, \\;\\;\\;\n",
    "\\xi_+(\\hat{\\bf v}) = \\begin{pmatrix}  -\\sin \\frac{\\theta}{2} \\\\ e^{+i\\phi} \\cos \\frac{\\theta}{2} \\end{pmatrix}, \\;\\;\\;\n",
    "$$\n"
   ]
  },
  {
   "cell_type": "markdown",
   "metadata": {},
   "source": [
    "2- Sabemos que los dos bi-espinores de cada espinor de Dirac $u_\\lambda(p)$, la parte de abajo se relaciona con la de arriba por:\n",
    "\n",
    "$$\n",
    "u^b_\\lambda = \\kappa \\, (\\vec{\\sigma} \\cdot \\hat{\\bf v}) \\, u^q_\\lambda\n",
    "$$\n",
    "\n",
    "\n",
    "tomando $u^a_\\lambda = \\xi_\\lambda(\\hat{\\bf v})$, al ser éste autoestado de $(\\vec{\\sigma} \\cdot \\hat{\\bf v})$ con autovalores $\\lambda = \\pm 1$, los espinores solución de la ec. de Dirac y autoestados de helicidad quedan:\n",
    "\n",
    "$$\n",
    "u_\\pm(p) = N \\begin{pmatrix} \\xi_\\lambda(\\hat{\\bf v}) \\\\ \\lambda \\kappa \\xi_\\lambda(\\hat{\\bf v})\\end{pmatrix}\n",
    "$$"
   ]
  },
  {
   "cell_type": "markdown",
   "metadata": {},
   "source": [
    "----\n",
    "\n",
    "**ejercicio**\n",
    "\n",
    "Demostrar que $P_L = \\frac{1}{2}(1-\\gamma^5)$ y $P_R = \\frac{1}{2}(1-\\gamma^5), $ son proyectores, (los proyectores de *quiralidad* a izquierda $L$ o derecha $R$), esto es, cumplen:\n",
    "\n",
    "$$\n",
    "P^2_R = P_R, \\; P^2_L = P_L, \\; P_L + P_R = I, \\; P_L P_R = P_R P_L = 0.\n",
    "$$\n",
    "\n",
    "Calcula la proyección de quiralidad a izquierda y derecha de $u_\\pm(p_z)$, los espinores de helicidad, donde $\\vec{p}$ va en la dirección $z$. Considera el caso de partícula ultrarelativistas $E \\gg m$.\n",
    "\n",
    "Demostrar que la inversión de paridad revierte los proyectores de quiralidad, esto es: $P^{-1} \\, P_{L/R} \\, P = P_{R/L}$.\n"
   ]
  },
  {
   "cell_type": "markdown",
   "metadata": {},
   "source": [
    "*solución*\n",
    "\n",
    "1) Demostramos las condiciones de proyectores:\n",
    "\n",
    "$$\n",
    "P^2_L = \\frac{1}{2}(1-\\gamma^5) \\frac{1}{2}(1-\\gamma^5) = \\frac{1}{4} (1 - 2 \\gamma^5 + (\\gamma^5)^2) = \n",
    "\\frac{1}{4}(2 - 2 \\gamma^5) = \\frac{1}{2} (1 - \\gamma^5) = P_L\n",
    "$$\n",
    "\n",
    "$$\n",
    "P^2_R = \\frac{1}{2}(1+\\gamma^5) \\frac{1}{2}(1+\\gamma^5) = \\frac{1}{4} (1 + 2 \\gamma^5 + (\\gamma^5)^2) = \n",
    "\\frac{1}{4}(2 + 2 \\gamma^5) = \\frac{1}{2} (1 + \\gamma^5) = P_R\n",
    "$$\n",
    "\n",
    "$$\n",
    "P_L + P_ R = \\frac{1}{2}(1-\\gamma^5) + \\frac{1}{2}(1+\\gamma^5) = I\n",
    "$$\n",
    "\n",
    "$$\n",
    "P_L P_R = \\frac{1}{2}(1-\\gamma^5)  \\frac{1}{2}(1+\\gamma^5) = \\frac{1}{4} (I - \\gamma^5 + \\gamma^5 - (\\gamma^5)^2) = 0\n",
    "$$"
   ]
  },
  {
   "cell_type": "markdown",
   "metadata": {},
   "source": [
    "2) Calculamos las proyecciones de quiralidad de los espinores de helicidad en $z$\n",
    "\n",
    "La forma explícita de $P_L, \\, P_R$ en la representación Pauli-Dirac\n",
    "\n",
    "$$\n",
    "P_L = \\frac{1}{2} \\begin{pmatrix} I & -I \\\\ -I & I \\end{pmatrix}, \\;\\;\\; \n",
    "P_R = \\frac{1}{2} \\begin{pmatrix} I & I \\\\ I & I \\end{pmatrix}\n",
    "$$\n",
    "\n",
    "Luego aplicada a los espinores de helicidad (en la dirección $z$)\n",
    "\n",
    "$$\n",
    "P_L \\, u_+(p) = \\frac{1}{2} \\begin{pmatrix} I & -I \\\\ -I & I \\end{pmatrix}\n",
    "N  \\begin{pmatrix} 1 \\\\ 0 \\\\ \\kappa \\\\ 0\\end{pmatrix} = \n",
    "\\frac{N}{2} (1 - \\kappa) \\begin{pmatrix} 1 \\\\ 0 \\\\ -1 \\\\ 0 \\end{pmatrix} \\\\\n",
    "P_R \\, u_+(p) = \\frac{1}{2} \\begin{pmatrix} I & I \\\\ I & I \\end{pmatrix}\n",
    "N  \\begin{pmatrix} 1 \\\\ 0 \\\\ \\kappa \\\\ 0\\end{pmatrix} = \n",
    "\\frac{N}{2} (1 + \\kappa) \\begin{pmatrix} 1 \\\\ 0 \\\\ 1 \\\\ 0 \\end{pmatrix} \\\\\n",
    "$$"
   ]
  },
  {
   "cell_type": "markdown",
   "metadata": {},
   "source": [
    "$$\n",
    "P_L \\, u_-(p) = \\frac{1}{2} \\begin{pmatrix} I & -I \\\\ -I & I \\end{pmatrix}\n",
    "N  \\begin{pmatrix} 0 \\\\ 1 \\\\ 0 \\\\ - \\kappa \\end{pmatrix} = \n",
    "\\frac{N}{2} (1 + \\kappa) \\begin{pmatrix} 0 \\\\ 1 \\\\ 0 \\\\ -1 \\end{pmatrix} \\\\\n",
    "P_R \\, u_-(p) = \\frac{1}{2} \\begin{pmatrix} I & I \\\\ I & I \\end{pmatrix}\n",
    "N  \\begin{pmatrix} 0 \\\\ 1 \\\\ 0 \\\\  -\\kappa \\end{pmatrix} = \n",
    "\\frac{N}{2} (1 - \\kappa) \\begin{pmatrix} 0 \\\\ 1 \\\\ 0 \\\\ 1 \\end{pmatrix} \\\\\n",
    "$$"
   ]
  },
  {
   "cell_type": "markdown",
   "metadata": {},
   "source": [
    "En el caso de la partícula ultra relativista $\\kappa \\to 1$\n",
    "\n",
    "$$\n",
    "P_L u_- = u_-, \\;\\; P_R u_+ = u_+\n",
    "$$\n",
    "\n",
    "Mientras que:\n",
    "\n",
    "$$\n",
    "P_R u_- = 0, \\;\\; P_L u_+ = 0\n",
    "$$\n",
    "\n",
    "helicidad y quiralidad coinciden el caso ultra-relativista. "
   ]
  },
  {
   "cell_type": "markdown",
   "metadata": {},
   "source": [
    "3. El operador paridad sobre los espinores es $\\hat{P} = \\gamma^0$, y $\\hat{P}^{-1} = \\gamma$, dado que $(\\gamma^0)^2 = I$.\n",
    "\n",
    "Luego\n",
    "\n",
    "$$\n",
    "\\hat{P}^{-1} P_{R/L} \\hat{P} = \\gamma^0 \\, \\frac{1}{2} (1 \\pm \\gamma^5) \\, \\gamma^0 = \\frac{1}{2} (1 \\mp  \\gamma^5) \\, (\\gamma^0)^2 = P_{L/R}\n",
    "$$\n",
    "\n"
   ]
  },
  {
   "cell_type": "markdown",
   "metadata": {},
   "source": [
    "----\n",
    "\n",
    "**ejercicio**\n",
    "\n",
    "Verifica que la corriente fermiónica se puede descomponer en dos corrientes, una con quiralidad a izquierdas y otra a derechas.\n",
    "\n",
    "$$\n",
    "\\bar{\\Psi} \\gamma^\\mu \\Psi = \\bar{\\Psi}_L \\gamma^\\mu \\Psi_L + \\bar{\\Psi}_R \\gamma^\\mu \\Psi_R\n",
    "$$\n",
    "\n",
    "Mientras que el término escalar, mezcla ambas quiralidades:\n",
    "\n",
    "$$\n",
    "\\bar{\\Psi} \\Psi = \\bar{\\Psi}_L \\Psi_R + \\bar{\\Psi}_R \\Psi_L \n",
    "$$"
   ]
  },
  {
   "cell_type": "markdown",
   "metadata": {},
   "source": [
    "*solución*\n",
    "\n"
   ]
  },
  {
   "cell_type": "markdown",
   "metadata": {},
   "source": [
    "----\n",
    "\n",
    "**ejercicio**\n",
    "\n",
    "*ejercicio*: Indica si son posibles o no y por qué los siguientes vértices:\n",
    "        \n",
    "  * $e, e, \\gamma$\n",
    "  \n",
    "  * $\\nu_e, \\nu_e, \\gamma$\n",
    "  \n",
    "  * $e, e^+, \\gamma$\n",
    "  \n",
    "  * $\\nu_e, \\nu_e, Z$\n",
    "  \n",
    "  * $e, \\mu, \\gamma$\n",
    "  \n",
    "  * $e, \\nu_e, W$\n",
    "  \n",
    "  * $e, \\tau, Z$\n",
    "  \n",
    "  * $e, \\nu_\\mu, W$\n",
    "  \n",
    "  * $e, e, g$\n",
    "  \n",
    "  * $b, b, g$\n",
    "  \n",
    "  * $d, s, g$\n",
    "  \n",
    "  * $\\gamma, \\gamma, \\gamma$\n",
    "  \n",
    "  * $u, u, W$\n",
    "  \n",
    "  * $u, d, W$\n",
    "  \n",
    "  * $d, t, W$\n",
    "  "
   ]
  },
  {
   "cell_type": "markdown",
   "metadata": {},
   "source": [
    "*solución*\n",
    "\n",
    "  * $e, e, \\gamma$: Sí, interacción electromagnética\n",
    "  \n",
    "  * $\\nu_e, \\nu_e, \\gamma$: No, el neutrino no interacciona con el fotón\n",
    "  \n",
    "  * $e, e^+, \\gamma$: Sí, aniquilación\n",
    "  \n",
    "  * $\\nu_e, \\nu_e, Z$: Sí, el neutrino interacciona débil con el $Z$\n",
    "  \n",
    "  * $e, \\mu, \\gamma$: No, se produce un cambio de sabor de la partícula que no está permitido en las interaccionel electromagnéticas.\n",
    "  \n",
    "  * $e, \\nu_e, W$: Sí, interacción débil cargada\n",
    "  \n",
    "  * $e, \\tau, Z$: No, el $Z$ no cambia el sabor de las partículas,\n",
    "  \n",
    "  * $e, \\nu_\\mu, W$: No, el nuetrino debería ser electrónico, \n",
    "  \n",
    "  * $e, e, g$: No, el electrón no interacciona fuertemente\n",
    "  \n",
    "  * $b, b, g$: Sí, el gluón conserva el sabor e interacciona con los quarks\n",
    "  \n",
    "  * $d, s, g$: No, el gluón conserva el sabor\n",
    "  \n",
    "  * $\\gamma, \\gamma, \\gamma$: No, los fotones no interacciona entre sí\n",
    "  \n",
    "  * $u, u, W$: No, el W cambia el sabor y combina un quark (o leptón) del duplete de arriba con uno de abajo\n",
    "  \n",
    "  * $u, d, W$: Sí, es una corriente cargada débil\n",
    "  \n",
    "  * $d, t, W$: Sí, es una corriente cargada débil (el $d$ está abajo en el duplete y el $t$ arriba)\n",
    "\n",
    "\n"
   ]
  },
  {
   "cell_type": "markdown",
   "metadata": {},
   "source": [
    "-----\n",
    "\n",
    "**ejercicio** Dibuja los siguientes diagramas de Feynman.\n",
    "\n",
    "  * $\\tau \\to \\mu + \\bar{\\nu}_\\mu + \\nu_\\tau$\n",
    "  \n",
    "  * $\\tau \\to e + \\bar{\\nu}_e + \\nu_\\tau$\n",
    "  \n",
    "  * $\\mu \\to e + \\bar{\\nu}_e + \\nu_\\mu$"
   ]
  },
  {
   "cell_type": "markdown",
   "metadata": {},
   "source": [
    "----\n",
    "\n",
    "**ejercicio**: Dibuja los diagramas de Feynman para los siguientes procesos:\n",
    "\n",
    "  * $\\tau \\to \\pi^- + \\nu_\\tau$, siendo $\\pi^-$ la combinación de quarks ($d\\bar{u}$)\n",
    "  \n",
    "  * $\\pi^+ \\to \\mu^+ + \\nu_\\mu$.\n",
    "  \n",
    "  * $K^+ \\to  \\mu^+ + \\nu_\\mu$, siendo $K^+$ la combinación ($s\\bar{u}$)\n"
   ]
  },
  {
   "cell_type": "markdown",
   "metadata": {},
   "source": [
    "----\n",
    "\n",
    "**ejercicio**: Dibuja los diagramas árbol de las posible interacciones, e indica si son aniquilaciones o interacciones:\n",
    "        \n",
    "  * $e+e\\to e+e$\n",
    "  \n",
    "  * $e+e^+ \\to \\mu + \\mu^+$\n",
    "  \n",
    "  * $e + e^+ \\to e + e^+$\n",
    "  \n",
    "  * $e + \\nu_e \\to e + \\nu_e$\n",
    "  \n",
    "  * $e + \\bar{\\nu}_e \\to e + \\bar{\\nu}_e$"
   ]
  }
 ],
 "metadata": {
  "anaconda-cloud": {},
  "celltoolbar": "Slideshow",
  "kernelspec": {
   "display_name": "Python 3 (ipykernel)",
   "language": "python",
   "name": "python3"
  },
  "language_info": {
   "codemirror_mode": {
    "name": "ipython",
    "version": 3
   },
   "file_extension": ".py",
   "mimetype": "text/x-python",
   "name": "python",
   "nbconvert_exporter": "python",
   "pygments_lexer": "ipython3",
   "version": "3.9.13"
  }
 },
 "nbformat": 4,
 "nbformat_minor": 4
}
