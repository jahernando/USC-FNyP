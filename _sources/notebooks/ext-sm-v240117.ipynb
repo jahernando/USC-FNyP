{
 "cells": [
  {
   "cell_type": "markdown",
   "metadata": {
    "slideshow": {
     "slide_type": "slide"
    }
   },
   "source": [
    "# Apéndice D :  Modelo Estándar\n",
    "\n",
    "Jose A. Hernando\n",
    "\n",
    "*Departamento de Física de Partículas. Universidade de Santiago de Compostela*\n",
    "\n",
    "Diciembre 2023\n"
   ]
  },
  {
   "cell_type": "code",
   "execution_count": null,
   "metadata": {
    "slideshow": {
     "slide_type": "fragment"
    }
   },
   "outputs": [
    {
     "name": "stdout",
     "output_type": "stream",
     "text": [
      " Last version  Thu Dec  9 15:51:18 2021\n"
     ]
    }
   ],
   "source": [
    "import time\n",
    "print(' Last version ', time.asctime() )"
   ]
  },
  {
   "cell_type": "code",
   "execution_count": 3,
   "metadata": {},
   "outputs": [],
   "source": [
    "# general imports\n",
    "%matplotlib inline\n",
    "%reload_ext autoreload\n",
    "%autoreload 2\n",
    "\n",
    "# numpy and matplotlib\n",
    "import numpy as np\n",
    "import matplotlib\n",
    "import matplotlib.pyplot as plt\n",
    "\n",
    "import scipy.constants as units"
   ]
  },
  {
   "cell_type": "markdown",
   "metadata": {
    "slideshow": {
     "slide_type": "slide"
    }
   },
   "source": [
    "## Índice\n",
    "\n",
    "  * Lagrangiano de Dirac y de Campos vectoriales\n",
    "\n",
    "  * Simetría Gauge\n",
    "\n",
    "  * Isoespín débil\n",
    "\n",
    "  * Campos vectoriales débiles\n",
    "  \n",
    "  * Unificación electrodébil\n",
    "  \n",
    "  * Campo Escalar\n",
    "\n",
    "  * Mecanismo de Higgs"
   ]
  },
  {
   "cell_type": "markdown",
   "metadata": {},
   "source": [
    "### Introducción\n",
    "\n",
    "El Modelo Estandar define el marco teórico que clasifica la materia y las interacciones. Su construcción constituye uno de los grandes logros en Física Teórica y su construcción está ligada a la evolución de nuestro conocimiento de las interacciones fundamentales a lo largo del siglo XX. \n",
    "\n",
    "El Modelo no se basa en principios fundacionales, pero sí en requisitos esenciales, principalmente que el lagrangiano debe ser invarante Lorentz y que las teorías subjectentes tienen que ser invariantes gauge local. Esta última condición es necesaria para que las teorías sean *renormalizables* y se pueden calcular observables como la sección eficaz y las anchuras de desintegración sin que aparezcan infinitos en los cálculos.\n",
    "\n",
    "Las interacciones electromagnéticas y fuertes aparecen en el modelo de manera natural. Sin embargo, la inclusión de las interacciones débiles requiere cierto encaje, primero porque las interacciones non preservan paridad, y separan los campos en quiralidad a izquierdas y derechas, y segundo porque para dotar de masa a las partículas es preciso incorporar un mecanismo específico, que se denomina el macanismo de Higgs, sin el cual el modelo carece de sentido.\n",
    "\n",
    "En estas notas revisaremos primero los lagrangianos de los campos escalar, espinorial y vectorial, introduciremos despúes la invariancia gauge en la interaciones electromagnéticas y fuertes de los quarks. Luego la introduciremos la interacción electrodébil, veremos cómo aparecen las corrientes cargadas y neutras, y terminaremos con el mecanismo de Higgs. \n",
    "\n",
    "Introduciremos pues los distintos elementos del modelo sucesivamente intentando asociarlos a los resultados observacionales de los que provienen.\n",
    "\n",
    "\n",
    "\n"
   ]
  },
  {
   "cell_type": "markdown",
   "metadata": {},
   "source": [
    "## Simetría gauge\n",
    "\n",
    "Vamos a introducir el concepto de simetría gauge utilizando para ello el lagrangiano de Dirac y del campo electromagnético. De tal forma que veremos que podemos dar la interacción electromagnética como una consecuencia de la posibilidad de cambiar rotar el campo por un fase local, esto es, el lagrangiano será invariance gauge bajo el grupo $U(1)$.\n",
    "\n",
    "Posteriormente extenderemos el lagrangiano de Dirac para incluir el *color* de los quaks. En este caso asignaremos los tres colores de un mismo quark a los elementos del triplete del grupo $SU(3)_C$, donde $C$ es por color, y veremos que la invariancia gauge de este lagrangiano bajo transformaciones en $SU(3)_C$ es más rica y compleja que con $U(1)$."
   ]
  },
  {
   "cell_type": "markdown",
   "metadata": {
    "slideshow": {
     "slide_type": "slide"
    }
   },
   "source": [
    "## Simetría gauge del electromagnetismo\n",
    "\n",
    "\n",
    "### Recordatorio sobre el lagrangiano\n",
    "\n",
    "Recordemos que en mecánica clásica definimos el lagrangiano como:\n",
    "\n",
    "$$\n",
    "L(q, \\dot{q}) = T -V\n",
    "$$\n",
    "\n",
    "donde $T$ es la energía cinética, $V$ el potencial, $q_i$, con $i=1, \\dots, n$, son las coordenadas generalizadas y $\\dot{q}$ sus derivadas temporales.\n",
    "\n",
    "y las ecuaciones del movimiento viene dadas por las escuaciones de Euler-Lagrange:\n",
    "\n",
    "$$\n",
    "\\frac{\\mathrm{d}}{\\mathrm{dt}} \\left( \\frac{\\partial L}{\\partial \\dot{q}_i}\\right) = \\frac{\\partial L}{\\partial q_i}\n",
    "$$\n",
    "\n",
    "que provienen de exigir que la acción del sistema, $S$, sea mínima, siendo:\n",
    "\n",
    "$$\n",
    "S = \\int L(q_i, \\dot{q}_i) \\, \\mathrm{d} t\n",
    "$$"
   ]
  },
  {
   "cell_type": "markdown",
   "metadata": {
    "slideshow": {
     "slide_type": "subslide"
    }
   },
   "source": [
    "En el caso de una partícula en un potencial, el lagrangiano es su energía cinética menos su potencial:\n",
    "\n",
    "$$\n",
    "L = \\frac{1}{2} m \\dot{x}^2 - V(x) \n",
    "$$\n",
    "\n",
    "las ecuaciones del movimiento dan:\n",
    "$$\n",
    "m \\, \\ddot{x} = -\\frac{\\partial V(x)}{\\partial x}\n",
    "$$\n",
    "\n",
    "que es la ecuación de Newton."
   ]
  },
  {
   "cell_type": "markdown",
   "metadata": {
    "slideshow": {
     "slide_type": "slide"
    }
   },
   "source": [
    "En teoría clasica de campos definimos un campo $\\phi(x)$ en las coordenadas espacio temporales $x$ y el lagrangiano del campo como:\n",
    "\n",
    "$$\n",
    "L = \\int \\mathcal{L}(\\phi, \\partial_\\mu \\phi) \\, \\mathrm{d}^3x\n",
    "$$\n",
    "\n",
    "donde $\\mathcal{L}(\\phi, \\partial_\\mu \\phi)$ es la densidad lagrangiana, o por abuso del lenguaje, el lagrangiano.\n",
    "\n",
    "La ecuaciones del movimiento vienen dadas por:\n",
    "\n",
    "$$\n",
    "\\partial_\\mu \\left( \\frac{\\partial \\mathcal{L}}{\\partial (\\partial_\\mu \\phi)}\\right) = \\frac{\\partial \\mathcal{L}}{\\partial \\phi}\n",
    "$$"
   ]
  },
  {
   "cell_type": "markdown",
   "metadata": {},
   "source": [
    "En este caso la acción se define como:\n",
    "\n",
    "$$\n",
    "S = \\int \\mathcal{L}(\\phi, \\partial_\\mu \\phi) \\, \\mathrm{d}^4x\n",
    "$$\n",
    "\n",
    "Notar que si la acción no tiene dimensiones y $\\mathrm{d}^4x$ tiene dimensiones de $[E]^{-4}$, el lagrangiano tiene dimensión $[E^4]$. Recordemos pues que los términos del lagrangiano deben tener dimesión 4 en energía."
   ]
  },
  {
   "cell_type": "markdown",
   "metadata": {
    "slideshow": {
     "slide_type": "slide"
    }
   },
   "source": [
    "### Lagrangiano del campo escalar\n",
    "\n",
    "Sea $\\phi(x)$ un campo escalar *real* asociado a partículas de masa $m$ su lagrangiano viene dado por:\n",
    "\n",
    "$$\n",
    "\\mathcal{L} = \\frac{1}{2} \\partial_\\mu \\phi(x) \\, \\partial^\\mu \\phi(x) - \\frac{1}{2} m^2 \\phi^2(x)\n",
    "$$\n",
    "\n",
    "El primer cinético es cinético y el segundo está asociado asociado a la masa de la partícula, al potencial. La masa es en ese caso la energía mínima para crear la partícula asociada al campo.\n",
    "\n",
    "Su ecuación de movimiento:\n",
    "\n",
    "$$\n",
    "\\partial_\\mu \\partial^\\mu \\phi(x) + m^2 \\phi(x) = 0\n",
    "$$\n",
    "\n",
    "es la ecuación Klein-Gordon"
   ]
  },
  {
   "cell_type": "markdown",
   "metadata": {},
   "source": [
    "que también se escribe como:\n",
    "\n",
    "$$\n",
    "\\square \\, \\phi(x) + m^2 \\phi(x) = 0\n",
    "$$\n",
    "\n",
    "donde hemos asignado:\n",
    "\n",
    "$$\n",
    "\\square \\equiv \\partial_\\mu \\partial^\\mu\n",
    "$$"
   ]
  },
  {
   "cell_type": "markdown",
   "metadata": {},
   "source": [
    "Consideremos ahora un campo escalar complejo, $\\phi(x)$, que está compuesto por dos campos escalares reales e independientes:\n",
    "\n",
    "$$\n",
    " \\phi(x) = \\varphi_1(x) + i \\varphi_2(x)\n",
    "$$. \n",
    "\n",
    "\n",
    "El lagrangiano del campo complejo corresponde al de los dos campos reales:\n",
    "\n",
    "$$\n",
    "\\mathcal{L}  = \\partial_\\mu \\phi^*(x) \\, \\partial^\\mu \\phi(x) - m^2 \\phi^*(x) \\phi(x) = \\\\\n",
    "\\sum_{i= 1, 2} \\frac{1}{2} \\partial_\\mu \\varphi_i(x) \\, \\partial^\\mu \\varphi_i(x) - \\frac{1}{2} m^2 \\varphi_i^2(x)\n",
    "$$"
   ]
  },
  {
   "cell_type": "markdown",
   "metadata": {},
   "source": [
    "Es fácil comprobar que el lagrangiano es invariente respecto a un cambio de fase global\n",
    "\n",
    "$$\n",
    "\\phi(x) \\to \\phi'(x) = e^{i\\theta} \\phi(x)\n",
    "$$\n",
    "\n",
    "Notar también que las dimensiones del campo son de energía, $[E]$."
   ]
  },
  {
   "cell_type": "markdown",
   "metadata": {},
   "source": [
    "### Lagrangiano de Dirac\n",
    "\n",
    "\n",
    "El lagrangiano de un campo espinorial de Dirac es:\n",
    "\n",
    "$$\n",
    "\\mathcal{L} = i \\bar{\\Psi}(x) \\gamma^\\mu \\partial_\\mu \\Psi(x) - m \\bar{\\Psi}(x) \\Psi(x)\n",
    "$$\n",
    "\n",
    "que corresponde también a un término cinético y el de su masa respectivamente.\n",
    "\n",
    "Recordemos que $\\bar{\\Psi}(x)$ es el espinor adjunto definido por:\n",
    "\n",
    "$$\n",
    "\\bar{\\Psi}(x) = \\Psi^\\dagger(x) \\, \\gamma^0 "
   ]
  },
  {
   "cell_type": "markdown",
   "metadata": {},
   "source": [
    "Notar que en total hay 8 funciones reales e independientes en $\\Psi$, y que también podemos dar como independientes $\\Psi, \\bar{\\Psi}$, de manera similar a considerar como independientes $\\phi^*, \\phi$ en el caso de un campo escalar complejo en vez de los dos campos escalares reales $\\varphi_1, \\varphi_2$.\n",
    "\n",
    "Desde el punto de vista de las dimensiones, el espinor, $\\Psi$, tiene dimensión $[E]^{3/2}$, de tal forma que cada término del lagrangiano tiene dimensión $[E]^4$."
   ]
  },
  {
   "cell_type": "markdown",
   "metadata": {
    "slideshow": {
     "slide_type": "slide"
    }
   },
   "source": [
    "La ecuación de Dirac se obtiene a partir de la ecuación del movimiento derivando respecto al espinor adjunto, $\\bar{\\Psi}(x)$:\n",
    "\n",
    "\n",
    "$$\n",
    "(i \\gamma^\\mu \\partial_\\mu - m)  \\, \\Psi(x) = 0 \n",
    "$$\n"
   ]
  },
  {
   "cell_type": "markdown",
   "metadata": {},
   "source": [
    "Derivando respecto a $\\Psi(x)$, obtenemos a su vez la ec. de Dirac del espinor adjunto:\n",
    "\n",
    "$$\n",
    "i \\partial_\\mu \\bar{\\Psi}(x) \\, \\gamma^\\mu +  m \\bar{\\Psi}(x)  = 0 \n",
    "$$"
   ]
  },
  {
   "cell_type": "markdown",
   "metadata": {},
   "source": [
    "Vemos también que el lagrangiano de Dirac es invariante bajo un cambio global de fase:\n",
    "\n",
    "$$\n",
    "\\Psi(x) \\to \\Psi'(x) = e^{iQ \\theta} \\Psi(x)\n",
    "$$\n",
    "\n",
    "Donde $Q$ es una constante, que asociaremos a la carga eléctrica del fermión que representa $\\Psi$."
   ]
  },
  {
   "cell_type": "markdown",
   "metadata": {},
   "source": [
    "El campo $\\Psi(x)$ es invariante bajo una rotación $U(\\theta)$ del grupo $U(1)$\n",
    "\n",
    "$$\n",
    "\\Psi'(x) = U(\\theta) \\Psi(x), \\;\\; U(\\theta) = e^{iQ \\theta x}\n",
    "$$\n",
    "\n",
    "Esta rotación no altera la Física."
   ]
  },
  {
   "cell_type": "markdown",
   "metadata": {},
   "source": [
    "Parece *natural* que si podemos cambiar la fase del campo de Dirac globalmente, esto es, igual en todos los puntos al mismo tiempo, podamos cambiarla de forma continua en una región o intervalo temporal, eso es cambiarla *localmente*. \n",
    "\n",
    "Sin embargo si realizamos un cambio de fase *local*:\n",
    "\n",
    "$$\n",
    "\\Psi(x) \\to \\Psi'(x) = e^{iQ \\theta(x)} \\Psi(x)\n",
    "$$\n",
    "\n",
    "donde ahora $\\theta(x)$ cambia continuamente con $x$.\n",
    "\n",
    "Esto es, exigimos que el lagrangiano sea invariante gauge local respecto a una rotación, $U(\\theta(x))$ del grupo $U(1)$\n",
    "\n",
    "$$\n",
    "\\Psi'(x) = U(\\theta(x)) \\Psi(x), \\;\\;\\; U(\\theta(x)) =  e^{i Q\\theta(x)}\n",
    "$$"
   ]
  },
  {
   "cell_type": "markdown",
   "metadata": {},
   "source": [
    "Obtenemos que el lagrangiano del campo transformado es:\n",
    "\n",
    "$$\n",
    "i \\bar{\\Psi}' \\gamma^\\mu \\partial_\\mu \\Psi' + m \\bar{\\Psi}' \\Psi' = \\\\\n",
    "i \\bar{\\Psi} \\gamma^\\mu \\partial_\\mu \\Psi + m \\bar{\\Psi} \\Psi\n",
    " - Q \\, \\bar{\\Psi} \\gamma^\\mu \\Psi \\, \\partial_\\mu \\theta(x)\n",
    "$$\n",
    "\n",
    "Esto es, en el lagrangiano aparece el término:\n",
    "\n",
    "$$\n",
    "- Q \\, \\bar{\\Psi} \\gamma^\\mu \\Psi \\, \\partial_\\mu \\theta(x)\n",
    "$$\n",
    "\n",
    "que no es invariante gauge."
   ]
  },
  {
   "cell_type": "markdown",
   "metadata": {},
   "source": [
    "Podemos interpretar ese término como el acoplo de la corriente:\n",
    "\n",
    "$$\n",
    "j^\\mu(x) \\equiv Q \\, \\bar{\\Psi}(x) \\gamma^\\mu \\Psi(x)\n",
    "$$\n",
    "\n",
    "con un campo vectorial, $A_\\mu(x)$:\n",
    "\n",
    "$$\n",
    "A_\\mu(x) = -\\partial_\\mu \\theta(x)\n",
    "$$\n",
    "\n",
    "El campo es vectorial porque proviene de una derivada covariante, y se comporta por lo tanto como un vector."
   ]
  },
  {
   "cell_type": "markdown",
   "metadata": {
    "slideshow": {
     "slide_type": "slide"
    }
   },
   "source": [
    "### Lagrangiano del campo electromagnético\n",
    "\n",
    "Sea ahora $A^\\mu(x)$ el campo vectorial del electromagnetismo:\n",
    "\n",
    "$$\n",
    "A^\\mu(x) = \\begin{pmatrix} \\phi(x) \\\\ {\\bf A}(x) \\end{pmatrix},\n",
    "$$\n",
    "\n",
    "donde $\\phi(x)$ es el potencial eléctrico y ${\\bf A(x)}$ el potencial vector magnético."
   ]
  },
  {
   "cell_type": "markdown",
   "metadata": {},
   "source": [
    "[TODO] Ecuaciones de Maxwell"
   ]
  },
  {
   "cell_type": "markdown",
   "metadata": {},
   "source": [
    "Definimos el campo tensor de fuerza, $F^{\\mu\\nu}$, como:\n",
    "\n",
    "$$\n",
    "F^{\\mu \\nu} = \\partial^\\mu A^\\nu - \\partial^\\nu A^\\mu\n",
    "$$\n",
    "\n",
    "\n",
    "Lo que nos permite dar las ecuaciones de Maxwell en ausencia de cargas y corrientes, como:\n",
    "\n",
    "$$\n",
    "\\partial_\\mu F^{\\mu\\nu} = 0\n",
    "$$\n",
    "\n",
    "Estas ecuaciones provienen del lagrangiano:\n",
    "\n",
    "$$\n",
    "\\mathcal{L}  = - \\frac{1}{4} F_{\\mu\\nu} F^{\\mu\\nu}\n",
    "$$\n"
   ]
  },
  {
   "cell_type": "markdown",
   "metadata": {},
   "source": [
    "Notar que las dimensiones del campo $A_\\mu$ son de energía $[E]$."
   ]
  },
  {
   "cell_type": "markdown",
   "metadata": {},
   "source": [
    "Podemos explicitar las ecuaciones de Maxwell en función de $A_\\mu$:\n",
    "\n",
    "$$\n",
    "\\partial_\\mu \\partial^\\mu A^\\nu - \\partial^\\nu (\\partial_\\mu A^\\mu) = 0\n",
    "$$\n",
    "\n",
    "que podemos comprobar facilmente que es invariante bajo la transformación:\n",
    "\n",
    "$$\n",
    "A^\\mu(x) \\to A^\\mu(x) - \\partial^\\mu \\theta(x)\n",
    "$$\n",
    "\n",
    "siendo $\\theta(x)$ una transformación continua en $x$."
   ]
  },
  {
   "cell_type": "markdown",
   "metadata": {},
   "source": [
    "Es es hay un conjunto de campos que representan la misma física. La diferencia entre ellos es la derivada de una función continua $\\theta(x)$.\n",
    "\n",
    "Esta multiplicidad de equivalencia de campos la llamamos **invariancia gauge**."
   ]
  },
  {
   "cell_type": "markdown",
   "metadata": {},
   "source": [
    "Podemos utilizar esta invariancia par escoger una *gauge* determinada, e imponer, sin pérdida de generalidad, que: \n",
    "\n",
    "$$\n",
    "\\partial_\\mu A^\\mu = 0\n",
    "$$\n",
    "\n",
    "A esta gauge la llamamos de Lorenz.\n",
    "\n",
    "Con lo que las ecuaciones quedan:\n",
    "\n",
    "$$\n",
    "\\partial_\\mu \\partial^\\mu A^\\nu = 0, \\;\\;\\, \\square \\, A^\\nu = 0\n",
    "$$\n",
    "\n",
    "Esto es las cuatro componentes $A^\\mu$ cumplen la ecuación de Klein-Gordon para una partícula sin masa. De ahí que el fotón no tenga masa."
   ]
  },
  {
   "cell_type": "markdown",
   "metadata": {},
   "source": [
    "Las ecuaciones del campo y la condición de la gauge de Lorenz aún admiten una transformación más del tipo $A^\\mu - \\partial^\\mu \\theta$ que las deja invariantes,  siempre que se cumple la condición adicional:\n",
    "\n",
    "$$\n",
    "\\partial_\\mu \\partial^\\mu \\theta(x) = 0, \\;\\;\\; \\square \\, \\theta(x) = 0\n",
    "$$\n",
    "\n",
    "Es fácil comprobar que un nuevo campo con esa condición, cumpliría $\\partial_\\mu A^\\mu = 0, \\;\\; \\square A^\\mu = 0$.\n",
    "\n",
    "\n",
    "Asi de los cuatro grados de libertad iniciales del fotón, dadas las dos condiciones, solo quedan dos grados de libertad, que corresponden a las dos polarizaciones del fotón."
   ]
  },
  {
   "cell_type": "markdown",
   "metadata": {},
   "source": [
    "Sea ahora la corriente electromagnética $j^\\mu(x)$\n",
    "\n",
    "$$\n",
    "j^\\mu(x)_Q = Q \\, (\\rho(x), \\, {\\bf j}(x)),\n",
    "$$\n",
    "\n",
    "donde $\\rho(x)$ es la densidad y ${\\bf j}(x)$ la corriente espacial de probabilidad y $Q$ la carga eléctrica.\n",
    "\n",
    "Las ecuaciones de Maxwell, del movimiento, son ahora:\n",
    "\n",
    "$$\n",
    "\\partial_\\mu F^{\\mu\\nu} = j^\\nu_Q\n",
    "$$\n"
   ]
  },
  {
   "cell_type": "markdown",
   "metadata": {},
   "source": [
    "La corriente es una corriente conservada. Dado que $F^{\\mu\\nu}$ es un tensor antisimétrico se cumple:\n",
    "\n",
    "$$\n",
    "\\partial_\\nu\\partial_\\mu F^{\\mu\\nu} = 0  \\Rightarrow \\partial_\\nu j^\\nu_Q = 0.\n",
    "$$"
   ]
  },
  {
   "cell_type": "markdown",
   "metadata": {
    "slideshow": {
     "slide_type": "slide"
    }
   },
   "source": [
    "Las ecuaciones de Maxwell en presencia de carga y corrientes se obtienen de incluir en el lagrangiano un término adicional que acopla el fotón con la corriente:\n",
    "\n",
    "$$\n",
    "\\mathcal{L} = - \\frac{1}{4} F_{\\mu\\nu} F^{\\mu\\nu} - j^\\mu_Q A_\\mu\n",
    "$$"
   ]
  },
  {
   "cell_type": "markdown",
   "metadata": {},
   "source": [
    "Y finalmente para representar un fotón masivo, con masa, $m$, introducimos un término de masa en el lagrangiano:\n",
    "$$\n",
    "\\mathcal{L} = - \\frac{1}{4}  F_{\\mu\\nu} F^{\\mu\\nu} + \\frac{1}{2} m^2 A^\\mu A_\\mu\n",
    "$$\n",
    "\n",
    "que se conoce como lagrangiano de Proca.\n"
   ]
  },
  {
   "cell_type": "markdown",
   "metadata": {},
   "source": [
    "Que nos daría como ecuación del movimiento, en ausencia de cargas:\n",
    "\n",
    "$$\n",
    "\\partial_\\mu \\partial^\\mu A^\\nu - \\partial^\\nu (\\partial_\\mu A^\\mu) + m^2 A^\\nu = 0\n",
    "$$\n",
    "\n",
    "Que si contraemos con $\\partial_\\nu$ nos queda:\n",
    "\n",
    "$$\n",
    "\\partial_\\mu \\partial^\\mu (\\partial_\\nu A^\\nu )- \\partial_\\nu \\partial^\\nu (\\partial_\\mu A^\\mu) + m^2 \\partial_\\nu A^\\nu = 0, \n",
    "$$\n",
    "\n",
    "Esto es, se cumple automáticamente, si necesidad de seleccionarla,\n",
    "\n",
    "$$\n",
    "\\partial_\\mu A^\\mu = 0\n",
    "$$\n",
    "\n",
    "la condición de la *gauge de Lorenz*. "
   ]
  },
  {
   "cell_type": "markdown",
   "metadata": {},
   "source": [
    "La ecuación del movimiento podemos reescribirla entonces como:\n",
    "\n",
    "$$\n",
    "\\partial_\\mu \\partial^\\mu A^\\nu + m^2 A^\\nu = 0, \\;\\;\\; \\square \\, A^\\mu + m^2 A^\\mu = 0\n",
    "$$\n",
    "\n",
    "Ahora las cuatro componentes de $A^\\mu$ cumplen la ecuación de Klein-Gordon para una partícula de masa $m$."
   ]
  },
  {
   "cell_type": "markdown",
   "metadata": {},
   "source": [
    "Aunque la condición de la *gauge de Lorenz* se cumple automáticamente, aún podemos no obstante imponer la condición extra:\n",
    "\n",
    "$$\n",
    "\\square \\, \\theta = 0\n",
    "$$\n",
    "\n",
    "Como en este caso solo hay una condición sobre las cuatro componentes de $A^\\mu$, los grados de libertad del campo vectorial con son tres, que corresponden a tres polaridades."
   ]
  },
  {
   "cell_type": "markdown",
   "metadata": {},
   "source": [
    "No obstante un campo vectorial con masa no preserva la invariancia gauge, ya que:\n",
    "\n",
    "$$\n",
    "\\frac{1}{2} m^2 A'^\\mu A'_\\mu  = \\frac{1}{2}m^2 (A^\\mu - \\partial^\\mu \\theta) \\, (A_\\mu - \\partial_\\mu \\theta) \\neq \\frac{1}{2} m^2 A^\\mu A_\\mu\n",
    "$$\n",
    "\n",
    "por eso decimos que los terminos de masa de los bosones vectoriales rompen la simetría gauge local.\n"
   ]
  },
  {
   "cell_type": "markdown",
   "metadata": {},
   "source": [
    "### Derivada convariante\n",
    "\n",
    "Hemos visto por un lado que exigir la invariancia de fase del campo de Dirac, implicaba la presencia de un término de interacción con un campo vectorial; y por otro lado que ese mismo término puede absorberse en el lagrangiano del campo vectorial electromagnético. \n",
    "\n",
    "Parece natural que reunamos entonces ambos en un solo lagrangiano que describa la interacciones electromagnéticas de un fermión de carga $Q$ y que además tienen invariance gauge local:"
   ]
  },
  {
   "cell_type": "markdown",
   "metadata": {},
   "source": [
    "\n",
    "\n",
    "$$\n",
    "\\mathcal{L}  = i \\bar{\\Psi} \\gamma^\\mu \\partial_\\mu \\Psi - m \\bar{\\Psi}\\Psi -  j^\\mu_Q  A_\\mu - \\frac{1}{4} F_{\\mu\\nu}F^{\\mu\\nu}\n",
    "$$\n",
    "\n",
    "donde la corriente eléctrica viene dada:\n",
    "\n",
    "$$\n",
    "j^\\mu_Q \\equiv Q \\, \\bar{\\Psi} \\gamma^\\mu \\Psi\n",
    "$$\n",
    "\n",
    "donde $Q$ la carga por ejemplo del electrón $Q = -e$.\n"
   ]
  },
  {
   "cell_type": "markdown",
   "metadata": {},
   "source": [
    "Que podemos escribir de forma más compacta si introducimos la **derivada covariante generalizada**:\n",
    "\n",
    "$$\n",
    "D_\\mu = \\partial_\\mu + i Q A_\\mu\n",
    "$$\n",
    "\n",
    "Como:\n",
    "\n",
    "$$\n",
    "\\mathcal{L}  = i \\bar{\\Psi} \\gamma^\\mu D_\\mu \\Psi - m \\bar{\\Psi}\\Psi - \\frac{1}{4} F^{\\mu\\nu}F_{\\mu\\nu}\n",
    "$$\n"
   ]
  },
  {
   "cell_type": "markdown",
   "metadata": {
    "slideshow": {
     "slide_type": "slide"
    }
   },
   "source": [
    "Podemos comprobar que este lagrangiano es ahora invariante bajo la tranformación gauge local de $U(1)$ del campo del fermión, $\\Psi(x)$, si el campo vectorial, $A^\\mu(x)$, cambia de forma acorde:\n",
    "\n",
    "$$\n",
    "\\Psi'(x) = e^{i Q\\, \\theta(x)} \\, \\Psi(x),\n",
    "$$\n",
    "$$\n",
    "A'_\\mu(x) = A_\\mu(x) - \\partial_\\mu \\theta(x)\n",
    "$$\n"
   ]
  },
  {
   "cell_type": "markdown",
   "metadata": {},
   "source": [
    "Es inmediato vertificar que tanto el término de masa como el cinético del vampo vectorial son invariantes bajo esta transformación.\n",
    "\n",
    "Para que el término cinético del fermión sea invariante debe cumplir:\n",
    "\n",
    "$$\n",
    "D'_\\mu U(\\theta )  = U(\\theta ) D_\\mu \n",
    "$$\n",
    "\n",
    "donde:\n",
    "\n",
    "$$\n",
    "U(\\theta) = e^{iQ\\theta(x)}\n",
    "$$\n"
   ]
  },
  {
   "cell_type": "markdown",
   "metadata": {},
   "source": [
    "Veámoslo:\n",
    "\n",
    "$$\n",
    "\\left[ \\partial_\\mu + i Q A'_\\mu \\right] e^{iQ\\theta(x)} \\Psi =  \\\\\n",
    "\\left[ \\partial_\\mu + i Q (A_\\mu - \\partial_\\mu \\theta(x) ) \\right]  e^{iQ\\theta(x)} \\Psi = \\\\\n",
    "e^{iQ \\theta(x)} \\left[\\partial_\\mu + i Q \\partial_\\mu \\theta(x) + iQA_\\mu - i Q \\partial_\\mu \\theta(x) \\right] \\Psi = \\\\\n",
    "e^{iQ \\theta(x)} \\left[\\partial_\\mu + iQ A_\\mu \\right] \\Psi\n",
    "$$"
   ]
  },
  {
   "cell_type": "markdown",
   "metadata": {},
   "source": [
    "El campo vectorial de forma genérica debe transformar como:\n",
    "\n",
    "$$\n",
    "A'_\\mu = U A_\\mu U^{-1} + \\frac{i}{Q} (\\partial_\\mu U) \\, U^{-1}\n",
    "$$\n"
   ]
  },
  {
   "cell_type": "markdown",
   "metadata": {},
   "source": [
    "\n",
    "En este caso con $U(\\theta) = e^{iQ\\theta(x)}$, tenemos:\n",
    "\n",
    "\n",
    "$$\n",
    "A'_\\mu = A_\\mu + \\frac{i}{Q} (i Q \\partial_\\mu \\theta(x)) = A_\\mu -  \\partial_\\mu \\theta(x) \n",
    "$$"
   ]
  },
  {
   "cell_type": "markdown",
   "metadata": {},
   "source": [
    "Podemos concluir entonces, que si exigimos que el lagrangiano de Dirac es invariante respecto a un cambio de fase *local* del campo $\\Psi$, nos aparece entonces de forma natural la interacción electromagnética entre la carga eléctrica asociada al fermión y el campo vectorial del fotón. \n",
    "\n",
    "Hemos visto que el cambio que introduce la invariance gauge en el lagrangiano de Dirac se absorbe en el lagrangiano del campo electromagnético. O simplemente que podemos reexpresar el lagrangiano compuesto, de Dirac y el campo electromagnético, usando la derivada covariante generalizada.\n",
    "\n",
    "Decimos que el cambio de fase local asociada a la carga del campo fermiónico es una invariancia gauge del lagrangiano frente al grupo $U(1)_Q$, donde $Q$ es por carga.\n",
    "\n",
    "También vemos que cada fermión puede tener su propia carga eléctrica asociada, $Q$."
   ]
  },
  {
   "cell_type": "markdown",
   "metadata": {},
   "source": [
    "### Invariance gauge bajo color\n",
    "\n",
    "Sabemos experimentalmente, por ejemplo por la razón:\n",
    "\n",
    "$$\n",
    "R_\\mu = \\frac{\\sigma(e+e^+ \\to q+\\bar{q})}{\\sigma(e+e^+\\to \\mu + \\mu^+)}\n",
    "$$\n",
    "\n",
    "que existen 6 quarks, $u, d, s, c, b, t$, cada uno de ellos en tres colores. \n"
   ]
  },
  {
   "cell_type": "markdown",
   "metadata": {},
   "source": [
    "Vamos a extender el campo de Dirac para incluir el *color* de los quarks. Lo haremos asignando cada color a un elemento del triplete del grupo $SU(3)_C$, donde $C$ es por color, y exigiendo de nuevo que el lagrangiano sea invariante bajo rotaciones *locales* en el espacio *interno* del color, en $SU(3)_C$. \n",
    "\n",
    "Veremos que este caso es más complejo que el del electromagnetismo, dado que los generadores de las rotaciones no conmutan, esto es, se trata de un *grupo no abeliano*.\n",
    "\n",
    "El ejemplo del $SU(3)$ se puede extender a otros grupos $SU(N)$, en particular al $SU(2)$ como vermos más adelante en la sección de las interacciones electrodébiles.\n"
   ]
  },
  {
   "cell_type": "markdown",
   "metadata": {},
   "source": [
    "Sabemos que los quarks vienen en tres colores, *rojo, azúl y verde*, podemos asignar el campo de cada color de un quark, $q^\\alpha$, al elemento $\\alpha$ de un triplete de $SU(3)$, con $\\alpha = r, b, g$. \n",
    "\n",
    "así:\n",
    "\n",
    "$$\n",
    "q \\equiv \\begin{pmatrix} q^r \\\\ q^b \\\\ q^g \\end{pmatrix} \n",
    "$$\n",
    "\n",
    "Estamos usando una notación vectorial donde cada elemento corresponde al espinor de Dirac asociado al color del quark."
   ]
  },
  {
   "cell_type": "markdown",
   "metadata": {},
   "source": [
    "El lagrangiano de Dirac para un quark de un sabor podemos darlo como:\n",
    "\n",
    "$$\n",
    "\\mathcal{L} = i \\bar{q} \\gamma^\\mu \\partial_\\mu q - m \\bar{q} q \n",
    "$$\n",
    "\n",
    "donde:\n",
    "\n",
    "$$\n",
    "\\bar{q} = (\\bar{q}^r, \\bar{q}^b, \\bar{q}^g)\n",
    "$$"
   ]
  },
  {
   "cell_type": "markdown",
   "metadata": {},
   "source": [
    "Se puede comprobar fácilmente que este lagrangiano es invariante bajo la rotación global en $SU(3)_C$.\n",
    "\n",
    "$$\n",
    "q \\to q' = U({\\bf \\theta}) \\, q = e^{i g_S \\theta^a T_a} \\,q\n",
    "$$\n",
    "\n",
    "Donde $U({\\bf \\theta})$ es la matriz de rotación, que es unitaria, $U^\\dagger U = I$. Y $g_S$ es una constante, que llamaremos constante de acoplo fuerte.\n",
    "\n",
    "Esto es rotamos *globalmente* por los ángulos $\\theta_a$ sobre cada generador, $T_a$, de $SU(3)$. \n",
    "\n",
    "El grupo $SU(3)$ tiene 8 generadores, $a = 1, \\dots, 8$."
   ]
  },
  {
   "cell_type": "markdown",
   "metadata": {},
   "source": [
    "Los generadores podemos expresarlos en función de las matrices de Geldmann:\n",
    "\n",
    "$$\n",
    "T_a = \\frac{1}{2} \\lambda_a\n",
    "$$\n",
    "\n",
    "que cumplen las siguientes reglas de conmutación:\n",
    "\n",
    "$$\n",
    "[\\lambda_a, \\lambda_b] = 2 i f^{abc} \\lambda_c\n",
    "$$\n",
    "\n",
    "donde $f^{abc}$ son las constantes de estructura del grupo, que son reales y totalmente antisimétricas.\n",
    "\n",
    "Lo que nos dice que los generadores no conmutan, así que tendremos que tener cuidado a la hora de expandir el exponente, $e^{i \\theta^a T_a}$ para calcular la matriz de rotación, $U({\\bf \\theta})$."
   ]
  },
  {
   "cell_type": "markdown",
   "metadata": {},
   "source": [
    "Notar que la discusión sería similar si hubiésemos usando el grupo $SU(2)$, en ese caso el número de generadores sería tres.\n",
    "\n",
    "$$\n",
    "T_i = \\frac{1}{2} \\sigma_i\n",
    "$$\n",
    "\n",
    "donde $\\sigma_i$ son las matrices de Pauli, con $i = 1, 2, 3$. \n",
    "\n",
    "La estructura del grupo $SU(2)$ es de sobra conocida:\n",
    "\n",
    "$$\n",
    "[T_i, T_j] = i \\epsilon_{ijk} T_j\n",
    "$$\n",
    "\n",
    "que se sigue inmediatamente de las propiedades de las matrices de Pauli."
   ]
  },
  {
   "cell_type": "markdown",
   "metadata": {},
   "source": [
    "Exigimos ahora que el lagrangiano de Dirac del quark de colores sea invariante bajo rotaciones *locales* en el espacio interno de $SU(3)_C$, esto es, bajo:\n",
    "\n",
    "$$\n",
    "q \\to U(\\theta(x)) \\, q = e^{i g_S \\theta^a(x) T_a} q\n",
    "$$\n",
    "\n",
    "Para ello, de forma similar a como hicimos en el caso del electromagnetismo, introduciremos la derivada convariante:\n",
    "\n",
    "$$\n",
    "D_\\mu = \\partial_\\mu + i g_S T_a G^a_\\mu(x)\n",
    "$$\n",
    "\n",
    "Donde $g_S$ será la constante fuerte de interacción, y $G^a_\\mu(x)$ los 8 campos vectoriales asociados a cada generador. Notar que el índice $a$ esta contraído, luego significa un sumatorio en los 8 términos. Físicamente cada campo $G_\\mu^a(x)$ vectorial corresponde a cada uno de los 8 tipos de gluones de cromodinámica cuántica."
   ]
  },
  {
   "cell_type": "markdown",
   "metadata": {},
   "source": [
    "Al igual que hicimos en el electromagnetismo, las transformaciones de los campos, $G^a_\\mu(x)$ serán tales que la derivada covariante se transforme igual que $q$, esto es:\n",
    "\n",
    "$$\n",
    "D'_\\mu q' = D'_\\mu e^{i g_S \\theta^a(x) T_a} q = e^{i g_S \\theta^a(x) T_a} D_\\mu q\n",
    "$$\n",
    "\n",
    "para preservar la invariancia gauge local."
   ]
  },
  {
   "cell_type": "markdown",
   "metadata": {},
   "source": [
    "Las condiciones sobre la derivada covariante y sobre el campo transformado son iguales que para el caso del electromanetismo.\n",
    "\n",
    "El campo transformado será:\n",
    "\n",
    "$$\n",
    "G'^a_\\mu T_a = U G^a_\\mu T_a U^{-1} + \\frac{i}{g_S} (\\partial_\\mu U)  U^{-1}\n",
    "$$"
   ]
  },
  {
   "cell_type": "markdown",
   "metadata": {},
   "source": [
    "Consideremos una transformación infinitesimal:\n",
    "\n",
    "$$\n",
    "U^{i g_S \\theta^a T_a} \\simeq  I + i g_S \\theta^a T_a\n",
    "$$\n",
    "\n",
    "Por lo tanto el termino:\n",
    "\n",
    "$$\n",
    "\\frac{i}{g_s} (\\partial_\\mu U) U^{-1} \\simeq - \\partial_\\mu \\theta^a T_a\n",
    "$$"
   ]
  },
  {
   "cell_type": "markdown",
   "metadata": {},
   "source": [
    "Mientras que el término:\n",
    "\n",
    "$$\n",
    "G^a_\\mu U T_a U^{-1} \\simeq G^a_\\mu \\, (I + i g_s \\theta^b T_b) \\, T_a \\, (I - i g_S \\theta^c T_c) \\\\\\simeq G^a_\\mu \\left(T_a + i g_s \\theta^b [T_a, T_b] \\right) = G^a_\\mu (T_a - g_S f_{abc} \\theta^b T_c)  = \\\\ G^a_\\mu T_a - g_S f_{abc} T_a \\theta^b G^c_\\mu \n",
    "$$\n",
    "\n"
   ]
  },
  {
   "cell_type": "markdown",
   "metadata": {},
   "source": [
    "Luego, componente a componente:\n",
    "\n",
    "$$\n",
    "G'^a_\\mu  = G^a_\\mu  -  \\partial_\\mu \\theta^a - g_S f_{abc} \\theta^b G^c_\\mu\n",
    "$$\n"
   ]
  },
  {
   "cell_type": "markdown",
   "metadata": {},
   "source": [
    "Vemos pues que las transformación de los campos de gluones es complicada e involucra todos los gluones. \n",
    "También vemos que nos aparece la constante $g_S$ en la transformación. Esto hace que el acoplo fuerte de todos los quarks sea el mismo, independiente de su sabor, mientras que para cada fermión  podíamos asociarle a cada uno una carga eléctrica.\n"
   ]
  },
  {
   "cell_type": "markdown",
   "metadata": {},
   "source": [
    "[EXT] comentario sobre la parte cinética del lagrangiano"
   ]
  },
  {
   "cell_type": "markdown",
   "metadata": {},
   "source": [
    "Finalmente si consideramos los seis sabores de quarks, $f = u, d, c, s, b, t$, el lagrangiano de QCD es:\n",
    "\n",
    "$$\n",
    "\\sum_{f} i \\bar{q}_f \\gamma^\\mu D_\\mu q - m \\bar{q}q - \\frac{1}{4} G^a_{\\mu\\nu} G^{\\mu\\nu}_a\n",
    "$$"
   ]
  },
  {
   "cell_type": "markdown",
   "metadata": {},
   "source": [
    "\n",
    "## Unificación electrodébil\n",
    "\n",
    "Las interacciones débiles, en concreto las cargadas, violan paridad, y ese implica que tratan de forma diferente las componentes de quiralidad a izquierdas y derechas de un campo fermiónico.\n",
    "\n",
    "Sabemos que en la corrientes cargadas, mediadas por los bosones vectoriales, $W^\\pm$, solo interviene la quiralidad a izquierdas de los fermiones. Sin embargo en la corrientes neutras, mediadas por el bosón vectorial $Z^0$, intervienen ambas quiralidades y con pesos diferentes.\n",
    "\n",
    "Parece natural entonces que para dar las interaciones débiles debemos tratar las dos quiralidades por separado.\n"
   ]
  },
  {
   "cell_type": "markdown",
   "metadata": {},
   "source": [
    "Sabemos que $\\Psi$ se divide en sus dos componentes de quiralidad, via los proyectores a inzquierdas y derechas, $P_L, \\, P_R$:\n",
    "\n",
    "$$\n",
    "\\Psi = \\Psi_L + \\Psi\n",
    "\\Psi_R = P_R \\, \\Psi, \\;\\; \\Psi_L = P_R \\, \\Psi\n",
    "$$"
   ]
  },
  {
   "cell_type": "markdown",
   "metadata": {},
   "source": [
    "También sabemos que la corriente de quiralidad son dos corrientes, una a izquierdas y otra derechas, pero que el término de masas mezcla las dos quiralidades, esto es:\n",
    "\n",
    "$$\n",
    "\\bar{\\Psi} \\gamma^\\mu \\Psi = \\bar{\\Psi}_R \\gamma^\\mu \\Psi_R + \\bar{\\Psi}_L \\gamma^\\mu \\Psi_L,\n",
    "$$\n",
    "$$\n",
    "\\bar{\\Psi} \\Psi = \\bar{\\Psi}_R \\Psi_L + \\bar{\\Psi}_L \\Psi_R\n",
    "$$"
   ]
  },
  {
   "cell_type": "markdown",
   "metadata": {},
   "source": [
    "Vimos también que la quiralidad se intercambiaba bajo la inversión por paridad:\n",
    "\n",
    "$$\n",
    "P : \\;\\; \\Psi_L \\leftrightarrow \\Psi_R\n",
    "$$"
   ]
  },
  {
   "cell_type": "markdown",
   "metadata": {},
   "source": [
    "Para construir el lagrangiano de las interacciones débiles, vamos a separar entonces las dos componentes.\n",
    "\n",
    "El lagrangiando de Dirac nos queda:\n",
    "\n",
    "$$\n",
    "i \\bar{\\Psi} \\gamma^\\mu \\partial_\\mu \\Psi - m \\bar{\\Psi} \\Psi = i \\bar{\\Psi}_R \\gamma^\\mu \\partial_\\mu \\Psi_R + i \\bar{\\Psi}_L \\gamma^\\mu \\partial_\\mu \\Psi_L  - m \\bar{\\Psi}_R \\Psi_L - m \\bar{\\Psi}_L \\Psi_R \n",
    "$$\n",
    "\n"
   ]
  },
  {
   "cell_type": "markdown",
   "metadata": {},
   "source": [
    "Pero para separar completamente las dos quiralidades, ¡estamos obligados a que el fermión tenga masa nula!\n",
    "\n",
    "Admitamos por ahora fermiones sin mesa e ignoremos por el momento (hasta más adelante) el hecho de que los fermiones sí tienen masas.\n",
    "\n",
    "En ese caso, tenemos dos ecuaciones separadas:\n",
    "\n",
    "$$\n",
    "i \\bar{\\Psi}_R \\gamma^\\mu \\partial_\\mu \\Psi_R + i \\bar{\\Psi}_L \\gamma^\\mu \\partial_\\mu \\Psi_L \n",
    "$$\n",
    "\n"
   ]
  },
  {
   "cell_type": "markdown",
   "metadata": {},
   "source": [
    "Sabemos también que en las desintegración débiles cargadas siempre aparecen los fermiones en parejas, por ejemplo el leptón cargado, el electrón, con el neutrino de su sabor, el $\\nu_e$. \n",
    "\n",
    "Para acomodar este hecho, podemos situar los campos a izquierdas del leptón cargado y su neutrino en un duplete que llamaremos de quiralidad a izquierdas:\n",
    "\n",
    "$$\n",
    "L_e \\equiv \\begin{pmatrix} \\nu_{eL} \\\\ e_L \\end{pmatrix} \n",
    "$$\n",
    "\n",
    "donde para facilitar la lectura vamos a introducir la notación:\n",
    "\n",
    "$$\n",
    "\\nu_{eL} \\equiv u^{(\\nu_e)}_L(p), \\;\\; e_L \\equiv u^{(e)}_L(p), \n",
    "$$\n",
    "\n",
    "esto es, el espinor a izquierdas del neutrino es $\\nu_{eL}$ y el del electrón, $e_L$\n"
   ]
  },
  {
   "cell_type": "markdown",
   "metadata": {},
   "source": [
    "Estamos pues asociando los espinores a izquierdas de las parejas en un duplete que llamamos de isoespín débil, del grupo $SU(2)_L$ donde $L$ es por la quiralidad a izquierdas.\n",
    "\n",
    "En este caso, el $\\nu_{eL}$ tiene tercera componente de isoespín débil $+1/2$ y el $e_L$ tiene $-1/2$.\n"
   ]
  },
  {
   "cell_type": "markdown",
   "metadata": {},
   "source": [
    "Al haber colocado los campos de las parejas en el duplete, podemos entender la acción de un campo $W^\\pm$ como subir o bajar los elementos del duplete."
   ]
  },
  {
   "cell_type": "markdown",
   "metadata": {},
   "source": [
    "Notar que esta agrupación es similar a cuando introdujimos la notación $q$ como un triplete donde situamos en sus elementos los campos asociadas a los colores de cada sabor de quark."
   ]
  },
  {
   "cell_type": "markdown",
   "metadata": {},
   "source": [
    "Sabemos no obstante que en las corrientes neutras participan los espinores a derechas luego es preciso hacerles cabida.\n",
    "\n",
    "La componente a derechas la situamos en un singlete de isoespín débil.\n",
    "\n",
    "$$\n",
    "e_R\n",
    "$$\n",
    "\n",
    "donde $e_R$ es el espinor a derechas del electrón.\n",
    "\n",
    "En este caso, el Modelo Estándar predice que el neutrino no tiene componente a derechas, no existe $\\nu_R$."
   ]
  },
  {
   "cell_type": "markdown",
   "metadata": {},
   "source": [
    "La primera familia de leptones quedaría agrupa en un duplete y un singlete:\n",
    "\n",
    "$$\n",
    "L_e \\equiv \\begin{pmatrix} \\nu_{eL} \\\\ e_L \\end{pmatrix}, \\;\\;\\; e_R \n",
    "$$\n",
    "\n",
    "Y de forma similar agruparíamos las otras dos familias leptónicas"
   ]
  },
  {
   "cell_type": "markdown",
   "metadata": {},
   "source": [
    "Para los quarks, la situación es similar, los espinores a izquierdas forman un duplete y los de derechas un singlete de isoespín. \n",
    "\n",
    "El miembro con mayor carga del par de quarks de la pareja aparece arriba an el duplete, esto es, tiene tercera componente de isoespín débil, $I_{W3} =1/2$ mientras que el de menos carga aparece abajo en el duplete, con $I_{W3} = -1/2$. La diferencia de carga entre los dos es 1.\n",
    "\n",
    "Finalmente, los dos quarks de la pareja tiene ambos singletes a derechas."
   ]
  },
  {
   "cell_type": "markdown",
   "metadata": {},
   "source": [
    "Asi pues, los fermiones se agrupan en dupletes de quiralidad a izquierdas y singletes a derechas.\n",
    "\n",
    "Para la primera familia de fermiones:\n",
    "\n",
    "$$\n",
    "L_e \\equiv \\begin{pmatrix} \\nu_{eL} \\\\ e_L \\end{pmatrix}, \\;\\; e_R\n",
    "$$\n",
    "\n",
    "$$\n",
    "Q_u \\equiv \\begin{pmatrix} u_L \\\\ d_L \\end{pmatrix}, \\;\\; u_R, \\; d_R\n",
    "$$"
   ]
  },
  {
   "cell_type": "markdown",
   "metadata": {},
   "source": [
    "*Nota* No confundir el espinor $u(p)$, con la notación $u_L$, este último significa el espinor a izquierdas del quark $u$.\n",
    "\n",
    "También hay que tener cuidado con los espinores conjugados, $\\bar{\\nu}_L$ correspondería al conjungado del espinor a izquierdas del neutrino, y no a la componente a izquierdas del anti-neutrino (¡que no existe!)."
   ]
  },
  {
   "cell_type": "markdown",
   "metadata": {},
   "source": [
    "\n",
    "La siguiente tabla muestra el isoespín débil y su tercera componentes para los leptones de la primera familia. \n",
    "\n",
    "En la primera familia, la electrónica:\n",
    "\n",
    "| | | | |\n",
    "| :--  | :-- | :-- | :-- |\n",
    "|  | $\\nu_{eL}$ | $e_L$ | $e_R$ |\n",
    "| $I_{W}$| +1/2 | +1/2 | 0 |\n",
    "| $I_{W3}$| +1/2 | -1/2 | 0 |\n",
    "\n",
    "La tabla para el resto de familias leptónicas sería similar.\n"
   ]
  },
  {
   "cell_type": "markdown",
   "metadata": {},
   "source": [
    "Y la siguiente tabla muestras el isoespín y tercera componente para la primera familia de quarks:\n",
    "\n",
    "| | | | | | \n",
    "| :--  | :-- | :-- | :-- | :-- |\n",
    "|  | $u_L$ | $d_L$ | $u_R$ | $d_R$ |\n",
    "| $I_{W}$| +1/2 | 1/2 | 0 | 0 |\n",
    "| $I_{W3}$| +1/2 | -1/2 | 0 | 0 |\n",
    "\n",
    "Y de forma similar obtendríamos la tabla para el resto de familias de quarks."
   ]
  },
  {
   "cell_type": "markdown",
   "metadata": {},
   "source": [
    "### Simetría gauge local $SU(2)$\n",
    "\n",
    "Separemos ahora el lagrangiano de Dirac en sus componentes del doblete de izquierdas y el singlete a derechas.\n",
    "\n",
    "Indicamos aquí solamente el de la primera familia de leptones, pero sería idéntico para el resto y para los quarks.\n",
    "\n",
    "\n",
    "$$\n",
    "i \\bar{L}_e \\gamma^\\mu \\partial_\\mu L_e + i \\bar{e}_R \\gamma^\\mu \\partial_\\mu e_R  = 0\n",
    "$$"
   ]
  },
  {
   "cell_type": "markdown",
   "metadata": {},
   "source": [
    "Podemos comprobar facilmente que el lagrangiano es invariante bajo una rotación global del duplete en el espacio de isospín débil.\n",
    "\n",
    "$$\n",
    "L_e \\to L'_e = U(\\theta) L_e, \\;\\;\\; e^{i g_W \\theta^i \\tau_i} L_e\n",
    "$$\n",
    "\n",
    "Es este caso, el espacio interno $SU(2)_L$ tiene tres generadores, $\\tau_i$, que están relacionados con la matrices de Pauli, \n",
    "\n",
    "$$\n",
    "\\tau_i = \\frac{\\sigma_i}{2}\n",
    "$$\n",
    "\n",
    "con $i = 1, 2, 3$."
   ]
  },
  {
   "cell_type": "markdown",
   "metadata": {},
   "source": [
    "Notar que la rotación tienen tres fases, $\\theta_i$, asociadas a cada generadores.\n",
    "\n",
    "\n",
    "Y $g_W$ es una constante real, la constante de acoplo débil."
   ]
  },
  {
   "cell_type": "markdown",
   "metadata": {},
   "source": [
    "\n",
    "Exigimos ahora que lagrangiano sea invariante bajo una transformación gauge *local* del espacio interno del isospín débil, $SU(2)_L$, donde $L$ indica que solo afecta a los estados de quiralidad a izquierdas.\n",
    "\n",
    "El lagrangiano sería invariante bajo la rotación continua local:\n",
    "\n",
    "$$\n",
    "L_e \\to L'_e = U(\\theta(x)) \\, L_e\n",
    "$$\n",
    "\n",
    "Esto es, si modificamos las fases del espacio del isoespín de forma continua en el espacio tiempo.\n",
    "\n",
    "$$\n",
    "L'_e  = e^{i g_W \\theta^i(x) \\tau_i} \\, L_e\n",
    "$$\n",
    "\n",
    "El lagrangiano quedará invariante."
   ]
  },
  {
   "cell_type": "markdown",
   "metadata": {},
   "source": [
    "Lo que a su vez implica que para cada generador $\\tau_i$ existe un campo vectorial $W^i_\\mu(x)$ al que se acoplan las corrientes de los miembros del duplete.\n",
    "\n",
    "Introducimos la derivada covariante:\n",
    "\n",
    "$$\n",
    "D_\\mu = \\partial_\\mu + i g_W W^i_\\mu \\tau_i\n",
    "$$\n",
    "\n",
    "Podemos dar explícitamente la expresión:\n",
    "\n",
    "$$\n",
    "W^i_\\mu \\tau_i = \\frac{1}{2} \\begin{pmatrix} W^3_\\mu & W^1_\\mu - i W^2_\\mu \\\\ W^1_\\mu + i W^2_\\mu & -W^3_\\mu \\end{pmatrix}\n",
    "$$\n",
    "\n",
    "simplemente haciendo uso de las matrices de Pauli.\n"
   ]
  },
  {
   "cell_type": "markdown",
   "metadata": {},
   "source": [
    "\n",
    "Podemos también reescribir:\n",
    "\n",
    "$$\n",
    "\\frac{g_W}{2}(W^1_\\mu - i W^2_\\mu) \\sigma^+ +\n",
    "\\frac{g_W}{2}(W^1_\\mu + i W^2_\\mu) \\sigma^- +\n",
    "\\frac{g_W}{2} W^3_\\mu \\sigma_3 \n",
    "$$\n",
    "\n",
    "donde recordemos:\n",
    "\n",
    "$$\n",
    "\\sigma_\\pm = \\frac{1}{2}(\\sigma_1 \\pm i \\sigma^2)\n",
    "$$\n"
   ]
  },
  {
   "cell_type": "markdown",
   "metadata": {},
   "source": [
    "Si definimos los campos:\n",
    "\n",
    "$$\n",
    "W^\\pm_\\mu = \\frac{1}{\\sqrt{2}} (W^1_\\mu \\mp i W^2_\\mu)\n",
    "$$\n",
    "\n",
    "notar que:\n",
    "\n",
    "$$\n",
    "(W^\\pm_\\mu)^\\dagger = W^\\mp_\\mu\n",
    "$$\n",
    "\n",
    "Tenemos entonces que:\n",
    "\n",
    "$$\n",
    "g_W W^i_\\mu \\tau_i = \\frac{g_W}{\\sqrt{2}} W^+_\\mu \\sigma_+ + \\frac{g_W}{\\sqrt{2}} W^-_\\mu\\sigma_- + \\frac{g_W}{2} W^3_\\mu \\sigma_3 \n",
    "$$"
   ]
  },
  {
   "cell_type": "markdown",
   "metadata": {},
   "source": [
    "Los términos asociados que aparecen en el lagrangiano son:\n",
    "\n",
    "$$\n",
    "\\frac{g_W}{\\sqrt{2}} \\bar{L} W^+_\\mu \\sigma_+ L + \\frac{g_W}{\\sqrt{2}} \\bar{L} W^-_\\mu\\sigma_- L + \\frac{g_W}{2} \\bar{L}W^3_\\mu L = \\\\\n",
    "j^\\mu_+ W^+_\\mu + j^\\mu_-W^-_\\mu + j^\\mu_3 W^3_\\mu\n",
    "$$\n",
    "\n",
    "Donde definimos las corrientes cargadas como:\n",
    "\n",
    "$$\n",
    "j^\\mu_\\pm = \\frac{g_W}{\\sqrt{2}} \\bar{L} \\gamma^\\mu \\sigma^\\pm L\n",
    "$$\n"
   ]
  },
  {
   "cell_type": "markdown",
   "metadata": {},
   "source": [
    "Si desarrollamos explícitamente la corriente podemos comprobar que efectivamente obtenemos la corriente esperada:\n",
    "\n",
    "$$\n",
    " j^+_\\mu = \\frac{g_W}{\\sqrt{2}} \\bar{L}_e \\sigma^+ \\gamma^\\mu L_e = \n",
    "$$\n",
    "$$\n",
    " \\frac{g_W}{\\sqrt{2}}\n",
    " \\begin{pmatrix} \\bar{\\nu}_{eL}, \\bar{e}_L \\end{pmatrix} \\, \n",
    "\\begin{pmatrix} 0 & 1 \\\\ 0 & 0 \\end{pmatrix}  \\gamma^\\mu\n",
    "\\begin{pmatrix} \\nu_{eL} \\\\ e_L \\end{pmatrix} =\n",
    "\\frac{g_W}{\\sqrt{2}} \\bar{\\nu}_{eL} \\, \\gamma^\\mu \\, e_L \n",
    "$$"
   ]
  },
  {
   "cell_type": "markdown",
   "metadata": {},
   "source": [
    "Así pues, hemos conseguido acomodar las corrientes cargadas débiles y nos han aparecido los campos vectorioales $W^{\\pm}$"
   ]
  },
  {
   "cell_type": "markdown",
   "metadata": {},
   "source": [
    "Sin embargo el término de interacción:\n",
    "\n",
    "$$\n",
    "j^\\mu_3 W^3_\\mu = \\frac{g_W}{2} (\\bar{\\nu}_{eL} \\gamma^\\mu \\nu_{eL} - \\bar{e}_L \\gamma^\\mu e_L)\n",
    "$$\n",
    "\n",
    "No corresponde a las corrientes neutras, porque en las corrientes neutras sabemos experimentalmente que en ellas intervienen también los espinores a derechas del electrón, $e_R$."
   ]
  },
  {
   "cell_type": "markdown",
   "metadata": {},
   "source": [
    "Para implementar las interacciones neutras, vamos a extender la simetría del lagrangiano exigiendo que sea invariante gauge local respecto a una fase, esto es respecto al grupo, $U(1)_Y$ donde $Y$ es por hypercarga. \n",
    "\n",
    "Así introducimos la derivada covariante extendida como:\n",
    "\n",
    "$$\n",
    "D_\\mu = \\partial_\\mu + i g_Y B_\\mu + i g_W W^i_\\mu \\tau_i \n",
    "$$\n",
    "\n",
    "siendo $B_\\mu$ es el campo vectorial asociado a la hypercarga."
   ]
  },
  {
   "cell_type": "markdown",
   "metadata": {},
   "source": [
    "Dado que se trata de una simetría de tipo $U(1)$ cada uno de los campos del lagrangiano, en este caso $L, e_R$,  tienen asociados un valor de hypercarga, $Y, Y_R$, respectivamente. Notar que si hubiésemos consideramos que las partículas tienen masa, estos campos ya no sería independientes y no podríamos asociarles un valor distinto de hypercarga. \n",
    "\n",
    "Notar que la hypercarga no puede ser la carga eléctrica, porque sabemos que los elementos del duplete tiene un mismo valor de hypercarga $Y$ mientras que el neutrino no tiene carga eléctrica y el electrón tiene carga -1 y ambos comparten duplete. "
   ]
  },
  {
   "cell_type": "markdown",
   "metadata": {},
   "source": [
    "Vamos a intentar asociar los términos que nos aparecen en el lagrangiano:\n",
    "\n",
    "$$\n",
    "j^\\mu_3 W^3_\\mu + j^\\mu_Y B_\\mu\n",
    "$$\n",
    "\n",
    "con la interacción débil neutra y a la interacción eléctromagnética:\n",
    "\n",
    "$$\n",
    "j^\\mu_Z Z_\\mu + j^\\mu_Q A_\\mu\n",
    "$$\n",
    "\n",
    "Donde, $Z_\\mu, A_\\mu$ son los campos asociados al bosón $Z^0$ y al fotón; y $j^\\mu_Z$ y $j^\\mu_{Q}$ las corrientes neutras y electromagnéticas respectivamente."
   ]
  },
  {
   "cell_type": "markdown",
   "metadata": {},
   "source": [
    "Por la expresión anterior, podemos considerar que los campos *físicos* $A_\\mu, \\, Z_\\mu$ son una combinación lineal de los campos subyacentes, $W^3_\\mu, \\, B_\\mu$.\n",
    "\n",
    "La relación entre ambos vendría dada por la matriz de mezcla:\n",
    "\n",
    "$$\n",
    "\\begin{pmatrix} A_\\mu \\\\ Z_\\mu \\end{pmatrix} = \n",
    "\\begin{pmatrix} \\cos \\theta_W  &  \\sin \\theta_W  \\\\\n",
    "-\\sin \\theta_W  &  \\cos \\theta_W  \\end{pmatrix}\n",
    "\\begin{pmatrix} B_\\mu \\\\  W^3_\\mu \\end{pmatrix}\n",
    "$$\n",
    "\n",
    "donde $\\theta_W$ se denomina ángulo de Weinberg.\n",
    "\n",
    "*Nota:* para facilitar la lectura definimos: \n",
    "\n",
    "$$\n",
    "s_W \\equiv \\sin \\theta_W, \\;\\; c_W \\equiv \\cos \\theta_W.\n",
    "$$\n"
   ]
  },
  {
   "cell_type": "markdown",
   "metadata": {},
   "source": [
    "\n",
    "\n",
    "Si reescribimos los interacciones fundamentales en función de las físicas:\n",
    "\n",
    "$$\n",
    "j^\\mu_Y B_\\mu + j^\\mu_{3} W^3_\\mu =  \\\\\n",
    " j^\\mu_Y \\left( c_W A_\\mu - s_W Z_\\mu \\right) + j^\\mu_{3} \\left(s_W A_\\mu + c_W Z_\\mu\\right)  = \\\\\n",
    "(s_W j^\\mu_{3} +  c_W j^\\mu_Y) \\, A_\\mu + \n",
    "(c_W j^\\mu_{3} - s_W j^\\mu_Y) \\, Z_\\mu \n",
    "$$\n",
    "\n",
    "En el primer sumando, el término que se acopla al fotón, $A_\\mu$, debe corresponderse con la corriente electromagnética:\n",
    "\n",
    "$$\n",
    "j^\\mu_Q = s_W j^\\mu_{3} +  c_W j^\\mu_Y\n",
    "$$\n",
    "\n",
    "Y el segundo, con las corrientes neutras:\n",
    "\n",
    "$$\n",
    "j^\\mu_Z = c_W j^\\mu_{3} -  s_W j^\\mu_Y\n",
    "$$"
   ]
  },
  {
   "cell_type": "markdown",
   "metadata": {},
   "source": [
    "#### Corrientes electromagnéticas\n",
    "\n",
    "Si desarrollamos la expresión de la corriente electromagnética para el caso de las primera familia de los leptones obtenemos:\n",
    "\n",
    "$$\n",
    "j^\\mu_Q = s_W \\frac{g_W}{2} \\, \\bar{L} \\gamma^\\mu \\sigma_3 L +  c_W g_Y Y \\, \\bar{L} \\gamma^\\mu L  + c_W g_Y Y_R \\, \\bar{e}_R \\gamma^\\mu e_R \n",
    "$$\n",
    "\n",
    "Esto es:\n",
    "\n",
    "$$\n",
    "j^\\mu_{Q} = \n",
    "\\left(\\frac{g_W}{2}s_W + c_W g_Y Y \\right) \\, \\bar{\\nu}_{eL} \\gamma^\\mu \\nu_{eL} + \n",
    "\\left(-\\frac{g_W}{2}s_W + g_Y c_W Y \\right) \\bar{e}_L \\gamma^\\mu e_L + Y_R g_Y c_W \\, \\bar{e}_R \\gamma^\\mu e_R\n",
    " $$"
   ]
  },
  {
   "cell_type": "markdown",
   "metadata": {},
   "source": [
    "El neutrino no tiene corriente eléctrica, luego debe cumplirse que:\n",
    "\n",
    "$$\n",
    "g_W s_W = - 2 Y g_Y c_W \n",
    "$$\n",
    "\n",
    "mientras que para electrón, las corrientes a izquierdas y derechas deben tener un mismo factor para poder recuperar la corriente eléctrica, y el factor asociado debe ser su carga, esto es $Q = -e$.\n",
    "\n",
    "$$\n",
    "-\\frac{g_W}{2}s_W + Y c_W g_Y = - e \\\\\n",
    "Y_R g_Y c_W = -e \n",
    "$$\n",
    "\n",
    "Ambas condiciones se cumplen, si imponemos:\n",
    "\n",
    "$$\n",
    "e = g_W s_W = g_Y c_W\n",
    "$$\n",
    "\n",
    "y además:\n",
    "\n",
    "$$\n",
    "Y_R = -1, Y = -1/2\n",
    "$$\n"
   ]
  },
  {
   "cell_type": "markdown",
   "metadata": {},
   "source": [
    "En general vemos que para cada campo fermíonico a derechas se cumplirá: \n",
    "\n",
    "$$\n",
    "Y_R = Q,\n",
    "$$\n",
    "\n",
    "En el caso del $\\nu_e$, de forma natural $Y_R = 0$."
   ]
  },
  {
   "cell_type": "markdown",
   "metadata": {},
   "source": [
    "Mientras que la hypercarga tiene un valor tal que nos permite obtener la carga de los elementos del duplete:\n",
    "\n",
    "$$\n",
    "Q = Y + I_{W3}\n",
    "$$\n",
    "\n",
    "donde $I_{W3}$ es la tercera componente de isospín débil.\n",
    "\n",
    "Esto es el elemento de arriba del duplete tiene siempre una carga eléctrica +1 respecto a la de abajo."
   ]
  },
  {
   "cell_type": "markdown",
   "metadata": {},
   "source": [
    "La siguiente tabla muestra los valores de hypercargas para los leptones y los quarks a izquierdas:\n",
    "\n",
    "| |  $L$ | $Q$ | \n",
    "| :--  | :--  | :--  |\n",
    "| $Y$| -1/2 | 1/6 | \n",
    "\n",
    "Y para los componentes a derechas:\n",
    "\n",
    "| |  $e_R$ | $u_R$ | $d_R$ |\n",
    "| :--   | :--  | :--  | :-- |\n",
    "| $Y_R$ | -1 | 2/3 | -1/3 |\n",
    "\n",
    "\n",
    "\n"
   ]
  },
  {
   "cell_type": "markdown",
   "metadata": {},
   "source": [
    "Hemos recuperado pues la descripción de las interacciones electromagnéticas. \n",
    "\n",
    "Notar que hubiese sido imposible recuperarlas si $s_W = 0$, dado que para describir las interacciones débiles cargadas hemos colocado en el duplete los campos de quiralidad a izquierdas que se acomplan con el bosón $W^\\pm$ y tienen distinta carga eléctrica."
   ]
  },
  {
   "cell_type": "markdown",
   "metadata": {},
   "source": [
    "#### Corrientes neutras\n",
    "\n",
    "\n",
    "Si regresamos a la corrientes débiles neutras nos encontramos con:\n",
    "\n",
    "$$\n",
    "j^\\mu_Z = c_W j^\\mu_3 - s_W j^\\mu_Y =  \\\\ \n",
    "c_W j^\\mu_3 - \\frac{s_W}{c_W} \\left( j^\\mu _Q - s_W j^\\mu_3 \\right)= \\\\\n",
    "\\frac{1}{c_W} \\left( j^\\mu_3 - s_W j^\\mu_Q \\right)\n",
    "$$\n"
   ]
  },
  {
   "cell_type": "markdown",
   "metadata": {},
   "source": [
    "Si explicitamos la corriente para el caso de la primera familia de leptones:\n",
    "\n",
    "$$\n",
    "j^\\mu_Z = \\frac{g_W}{2c_W} \\, \\bar{L} \\gamma^\\mu \\sigma_3 L  + \\frac{s_W}{c_W} e \\, \\bar{e}_R \\gamma^\\mu e_R + \\frac{s_W}{c_W} e \\, \\bar{e}_L \\gamma^\\mu e_L\n",
    "$$\n",
    "\n",
    "Introduciendo el valor de $e = g_W s_W$:\n",
    "\n",
    "$$\n",
    "j^\\mu_Z = \\frac{g_W}{c_W} \\left( \\frac{1}{2}\\bar{\\nu}_{eL} \\gamma^\\mu \\nu_{eL}\\right) + \n",
    "\\frac{g_W}{c_W} \\left[ s^2_W \\bar{e}_R \\gamma^\\mu e_R + (-\\frac{1}{2} + s^2_W) \\bar{e}_L \\gamma^\\mu e_L\\right]\n",
    "$$\n",
    "\n"
   ]
  },
  {
   "cell_type": "markdown",
   "metadata": {},
   "source": [
    "Sin definimos:\n",
    "\n",
    "$$\n",
    "g_Z \\equiv \\frac{g_W}{c_W}\n",
    "$$\n",
    "\n",
    "Las corrientes neutras de un fermión con espinor $u$ son: \n",
    "\n",
    "$$\n",
    "j^\\mu_Z = -Q_f s^2_W g_z \\, \\bar{u}_R \\gamma^\\mu u_R + \\left( I_{W3} - Q_f s^2_W \\right) g_Z \\, \\bar{u}_L \\gamma^\\mu u_L\n",
    "$$\n",
    "\n",
    "donde $Q_f$ la carga eléctrica del fermión e unidades de electrón, por ejemplo para el $e$, $Q_f = -1$, y $I_{W3}$ es la tercera componente de isoespión débil."
   ]
  },
  {
   "cell_type": "markdown",
   "metadata": {},
   "source": [
    "Que podemos dar de forma compacta:\n",
    "\n",
    "$$\n",
    "j^\\mu_Z = g_z c_R \\, (\\bar{u}_R \\gamma^\\mu u_R) + g_Z c_L \\, (\\bar{u}_L \\gamma^\\mu u_L)\n",
    "$$\n",
    "\n",
    "siendo $c_R, \\, c_L$ los factores a izquierdas y derechas:\n",
    "\n",
    "| | | \n",
    "|  :-- | :-- |\n",
    "|  cR | cL |\n",
    "| $-Q_f s^2_W$  | $I_{W3} - Q_f s^2_W$| \n"
   ]
  },
  {
   "cell_type": "markdown",
   "metadata": {},
   "source": [
    "La siguiente tabla da los distintos acoplos a izquierdas y derechas de la corriente neutras par la primera familia de fermiones:\n",
    "\n",
    "| | | | \n",
    "| :-- | :-- | :-- |\n",
    "| | cR | cL |\n",
    "| $\\nu_e$ | 0 | $\\frac{1}{2}$| \n",
    "| $e$ | $s^2_W$ | $-\\frac{1}{2} + s^2_W$| \n",
    "| $u$ | $-\\frac{2}{3}s^2_W$ | $\\frac{1}{2} - \\frac{2}{3}s^2_W$| \n",
    "| $d$ | $\\frac{1}{3}s^2_W$ | $-\\frac{1}{2} + \\frac{1}{3} s^2_W$| "
   ]
  },
  {
   "cell_type": "markdown",
   "metadata": {},
   "source": [
    "#### Resumen\n",
    "\n",
    "Hemos construido un lagrangiano que es invariante gauge local respecto a los grupos $SU(2)_L\\times U(1)_Y$,\n",
    "de tal forma que nos acomoda las corrientes neutras, débiles y electromagnéticas. \n",
    "\n",
    "Hemos agrupado los campos de los fermiones en dupletes a izquierdas y singlete a derechas, lo que obliga a que no tengan masa. \n",
    "\n",
    "Hemos obtenido cuatro bosones vectoriales, dos de ellos son los bosones $W^\\pm$,\n",
    "que median entre las corrientes cargadas, y otros dos son los bosones $A, Z^0$, que a su vez median las corrientes \n",
    "electromagnéticas y neutras, respectivamente, y que son combinaciones lineales de los bosones subyacentes $B, W^3$\n",
    "a través de un ángulo de mezcla, $s_W$.\n",
    "\n",
    "El modelo tiene dos parámetros físicos, $e, s_W$, que fijan los acoplos de las tres corrientes: $e, g_W, g_Z$. \n",
    "\n",
    "Sin embargo, hemos pagado un precio elevadado: los fermiones y los bosones vectoriales no tienen masa. \n",
    "Lo que sabemos no es así.\n",
    "\n",
    "En la siguiente seccion vamos a tratar cómo resolver este problema mediante el desarrollo de un mecanismo que genere su masa."
   ]
  },
  {
   "cell_type": "markdown",
   "metadata": {},
   "source": [
    "## El mecanismo de Higgs\n",
    "\n",
    "Brout, Englert and Higgs desarrollaron en los 60 un mecanismo que permitía dotar de masa a los botoriales y también a los fermiones, y que preservaba la invariancia gauge del lagrangiano, fundamental para que la teoría fuera *renormalizabe*.\n",
    "\n",
    "Este mecanismo introducía un campo escalar cuya partícula asociada es el bosón de Higgs. Pero no fue hasta la segunda década del siglo XXI cuando se descubrió el bosón de Higgs. \n",
    "\n",
    "Inspeccionemos primero el término del lagrangiano asociado a la  masa de los fermiones\n",
    "\n",
    "$$\n",
    "m \\bar{\\Psi} \\Psi = m \\bar{\\Psi}_R \\Psi_L + m \\bar{\\Psi}_L \\Psi_R\n",
    "$$\n",
    "\n",
    "Vamos a intentar substituir $m$ por el acoplo a un campo escalar, $\\phi$, que la reemplace.\n"
   ]
  },
  {
   "cell_type": "markdown",
   "metadata": {},
   "source": [
    "Consideremos a cambio la interacción de los fermiones con un campo escalar complejo, $\\phi$, con una constante de acoplo $\\lambda$\n",
    "\n",
    "$$\n",
    "\\lambda \\Psi \\Psi \\phi\n",
    "$$\n",
    "\n",
    "\n",
    "Y consideremos además que el campo $\\phi$ tiene un valor no nulo en el estado de mínima energía, esto es, en vacío, $\\phi_0$:\n",
    "\n",
    "$$\n",
    "\\phi(x) = \\phi_0 + H(x)\n",
    "$$"
   ]
  },
  {
   "cell_type": "markdown",
   "metadata": {},
   "source": [
    "El término de interacción que hemos introducido nos genera un término de masa y un término de interacción:\n",
    "\n",
    "$$\n",
    "\\lambda \\Psi \\Psi \\phi =  \\lambda \\phi_0 \\, \\bar{\\Psi} \\Psi + \\lambda \\bar{\\Psi} \\Psi H\n",
    "$$\n",
    "\n",
    "Donde podemos asociar la masa:\n",
    "\n",
    "$$\n",
    "m \\equiv  \\lambda \\Phi_0\n",
    "$$"
   ]
  },
  {
   "cell_type": "markdown",
   "metadata": {},
   "source": [
    "TODO *Interludio*: Dimensiones de los términos del lagrangiano"
   ]
  },
  {
   "cell_type": "markdown",
   "metadata": {},
   "source": [
    "Pero ¿cómo un campo escalar obtiene ese valor en vacío?\n",
    "\n",
    "Examinemos ahora el lagrangiano de un campo escalar complejo, $\\phi(x)$:\n",
    "\n",
    "$$\n",
    "\\partial_\\mu \\phi^* \\partial^\\mu \\phi + m^2 \\phi^* \\phi\n",
    "$$"
   ]
  },
  {
   "cell_type": "markdown",
   "metadata": {},
   "source": [
    "El término de masas podemos entenderlo como un potencial parabólico en $\\phi^* \\phi$.\n",
    "\n",
    "$$\n",
    "V(\\phi) = m^2 \\phi^* \\phi\n",
    "$$\n",
    "\n",
    "Consideremos la primera extensión de ese potencial:\n",
    "\n",
    "$$\n",
    "V(\\phi) = \\mu^2 \\, \\phi^* \\phi + \\lambda \\, (\\phi^* \\phi)^2\n",
    "$$\n",
    "\n",
    "Recordemos que el potencial debe estar acotado inferiormente para que su energía mínima tenga un límite inferior, esto obliga a que $\\lambda \\gt 0$, ya que el término cuadrático es el dominante.\n"
   ]
  },
  {
   "cell_type": "markdown",
   "metadata": {},
   "source": [
    "[TODO] Codigo para mostrar la deendencia"
   ]
  },
  {
   "cell_type": "markdown",
   "metadata": {},
   "source": [
    "En el caso de que $\\lambda = 0$, $\\mu = m $, corresponde a la masa, y recuperamos la situación de partida. \n",
    "\n",
    "Para $\\lambda \\gt 0$ tenemos dos posibilididades:\n",
    "\n",
    "1. que $\\mu^2 \\gt 0$, en ese caso, el potencial tienen un mínimo trivial en $\\phi_0 = 0$.\n",
    "\n",
    "2. que $\\mu^2 \\lt 0$, y en este caso, tenemos un número infinitos de mínimos, que cumplen:\n",
    "$$\n",
    "|\\phi_0| = \\sqrt{-\\frac{\\mu^2}{2\\lambda}}\n",
    "$$\n"
   ]
  },
  {
   "cell_type": "markdown",
   "metadata": {},
   "source": [
    "El potencial con $\\mu^2 <0$ y $\\lambda >0$ se conoce como el potencial del sombrero mexicano:\n",
    "\n",
    "| | \n",
    "| :--: |\n",
    "|  <img src=\"./imgs/sm_mexican_hat.png\" width = 300 align=\"center\"> |\n",
    "| potencial del campo complejo de Higgs $V(\\phi)$ [Wikipedia]|\n",
    "\n",
    "Donde los ejes de la figuran son la componente real e imaginara de $\\phi$.\n"
   ]
  },
  {
   "cell_type": "markdown",
   "metadata": {},
   "source": [
    "\n",
    "Así pues podemos conseguir un campo escalar complejo con un valor esperado en el vacío $\\phi_0$, si le dotamos de un potencial de sombrero mexicano con $\\mu^2 \\lt 0$ y $\\lambda \\gt 0$.\n",
    "\n",
    "En la literatura es habitual tomar como notación $\\phi_0 = v/\\sqrt{2}$, donde $v$ se denomina el valor esperado del campo en el vacío. \n",
    "\n",
    "Al cuantificar los campos, el campo tiene como valor esperado en vacío:\n",
    "\n",
    "$$\n",
    "|\\langle 0 |\\phi | 0 \\rangle | = \\frac{v}{\\sqrt{2}} \n",
    "$$"
   ]
  },
  {
   "cell_type": "markdown",
   "metadata": {},
   "source": [
    "*Cuestión* Verificar que:\n",
    "\n",
    "$$\n",
    "V(\\phi_0) = - \\frac{\\lambda}{4} v^4\n",
    "$$"
   ]
  },
  {
   "cell_type": "markdown",
   "metadata": {},
   "source": [
    "#### Bosón de Goldstone\n",
    "\n",
    "Resescribimos ahora nuestro campo complejo, $\\phi(x)$, con dos campos reales, $\\varphi_1(x), \\varphi_2(x)$, respecto al mínimo con solo tiene parte real,\n",
    "\n",
    "$$\n",
    "\\phi(x) = \\frac{1}{\\sqrt{2}} \\left( v + \\varphi_1(x) + i \\varphi_2(x) \\right)\n",
    "$$"
   ]
  },
  {
   "cell_type": "markdown",
   "metadata": {},
   "source": [
    "Así tenemos:\n",
    "\n",
    "$$\n",
    "\\phi^*\\phi = \\frac{1}{2}\\left[(v+\\varphi_1)^2 + \\varphi^2_2 \\right]=  \\frac{1}{2} \\left[ v^2 + 2v \\varphi_1 + (\\varphi^2_1 + \\varphi^2_2)\\right] \\\\\n",
    "$$\n",
    "\n",
    "y\n",
    "\n",
    "$$\n",
    "(\\phi^*\\phi)^2 = \\frac{1}{4} \\left[ (v^2+2v\\varphi_1)^2 + 2 (v^2+2v\\varphi_1) (\\varphi^2_1 + \\varphi^2_2) + \n",
    "(\\varphi^2_1 + \\varphi^2_2)^2 \\right] \\\\\n",
    "\\frac{1}{4} \\left[ (v^4+ 4v^3 \\varphi_1+ 4 v^2 \\varphi_1)+ 2 v^2(\\varphi^2_1 + \\varphi^2_2) + \n",
    "4v\\varphi_1 (\\varphi^2_1 + \\varphi^2_2) + \n",
    "(\\varphi^2_1 + \\varphi^2_2)^2 \\right]\n",
    "$$\n",
    "\n",
    "El potencial, al tomar $\\mu^2 = -\\lambda v$, sería:\n",
    "\n",
    "$$\n",
    "V(\\phi) = - \\lambda v (\\phi^*\\phi) + \\lambda (\\phi^*\\phi)^2\n",
    "$$"
   ]
  },
  {
   "cell_type": "markdown",
   "metadata": {},
   "source": [
    "Notar que en el desarrollo del potencial los términos solo en $\\varphi_1$ y solo en $(\\varphi^2_1 + \\varphi^2_2)$ se anulan.\n",
    "\n",
    "Y el potencial queda:\n",
    "\n",
    "$$\n",
    "V(\\phi) = -\\frac{\\lambda v^4}{4} + \\lambda v^2 \\varphi^2_1 + 4 v \\lambda \\varphi_1 (\\varphi^2_1+\\varphi^2_2) + \\frac{1}{4} \\lambda (\\varphi^2_1+\\varphi^2_2)^2 \n",
    "$$\n"
   ]
  },
  {
   "cell_type": "markdown",
   "metadata": {},
   "source": [
    "donde el primer término es valor mínimo del potencial $V(\\phi)$, el segundo el término de masas del campo $\\varphi_1$, con masa:\n",
    "\n",
    "$$\n",
    "\\frac{1}{2} m^2_{\\varphi_1} = \\lambda v^2 = - \\mu^2, \\;\\;\\; (\\mu^2 <0)\n",
    "$$\n",
    "\n",
    "y los dos últimos términos corresponde a la interacción entre los campos.\n",
    "\n",
    "*Nota:* el factor 1/2 delante de la masa es por ser un campo escalar\n"
   ]
  },
  {
   "cell_type": "markdown",
   "metadata": {},
   "source": [
    "Luego de los dos campos reales, uno adquiere masa, esto es requiere un mínimo de energía para crearlo, que es la componente real, y que corresponde a la curvatura alrededor de la base del sombrero, y un segundo, no tiene masa, no cuesta crearlo, que se corresponde con la variación a lo largo de la base del sombrero. \n",
    "\n",
    "Este segundo campo se le conoce como bosón de Goldstone, y refleja el hecho de que el mínimo del potencial tiene una simetría."
   ]
  },
  {
   "cell_type": "markdown",
   "metadata": {},
   "source": [
    "[TODO] dibujo indicativo"
   ]
  },
  {
   "cell_type": "markdown",
   "metadata": {},
   "source": [
    "Consideremos ahora que el lagrangiano del campo escalar complejo, $\\phi(x)$, con el potencial del sombrero mexicano:\n",
    "\n",
    "$$\n",
    "\\mathcal{L} = \\partial_\\mu \\phi^* \\partial^\\mu \\phi - V(\\phi)\n",
    "$$\n",
    "\n",
    "con\n",
    "\n",
    "$$\n",
    "V(\\phi) = \\mu^2 (\\phi^*\\phi) + \\lambda (\\phi^*\\phi)^2, \\;\\;\\, (-\\mu^2 \\lt 0, \\, \\lambda \\gt 0)\n",
    "$$"
   ]
  },
  {
   "cell_type": "markdown",
   "metadata": {},
   "source": [
    "E impongamos que el lagrangiano respecta la simetría gauge local respecto a un cambio de fase local en $\\phi(x)$,\n",
    "\n",
    "$$\n",
    "\\phi(x) \\to e^{i g \\theta(x)} \\phi(x)\n",
    "$$\n",
    "\n",
    "Sabemos que tenemos que extender el lagrangiano para incluir el término cinético de un campo vectorial, $A_\\mu(x)$, y sustituir la derivada por la derivada convariante. \n",
    "\n",
    "El lagrangiano completo es:\n",
    "\n",
    "$$\n",
    "\\mathcal{L} =  D_\\mu \\phi D^\\mu \\phi - V(\\phi) - \\frac{1}{4} F_{\\mu\\nu} F^{\\mu\\nu}\n",
    "$$\n",
    "\n",
    "con:\n",
    "\n",
    "$$\n",
    "D_\\mu = \\partial_\\mu + i g A_\\mu, \\;\\;\\; F_{\\mu\\nu} = \\partial_\\mu A_\\mu - \\partial_\\nu A_\\mu\n",
    "$$"
   ]
  },
  {
   "cell_type": "markdown",
   "metadata": {},
   "source": [
    "Podemos dar el campo de forma genérico como:\n",
    "\n",
    "$$\n",
    "\\phi(x) = e^{ig\\theta(x)} \\varphi_1(x) \n",
    "$$\n",
    "\n",
    "a partir de su componente real $\\varphi_1(x)$ y una rotación $\\theta(x)$.\n",
    "\n",
    "Si escogemos una gauge tal que $\\theta(x) = 0$, que llamamos gauge unitaria, y desarrollamos el vampo  respecto al valor mínimo de potencial es:\n",
    "\n",
    "$$\n",
    "\\phi(x) = \\frac{1}{\\sqrt{2}} (v+ H(x)) \n",
    "$$\n",
    "\n",
    "donde $H(x)$ es un campo escalar real."
   ]
  },
  {
   "cell_type": "markdown",
   "metadata": {},
   "source": [
    "\n",
    "La derivada covariante queda:\n",
    "\n",
    "$$\n",
    "D_\\mu \\phi = \\left(\\partial_\\mu + i g A_\\mu\\right) \\frac{1}{\\sqrt{2}} \\left( v + H \\right)  = \\frac{1}{\\sqrt{2}} \\left[\\partial_\\mu H + ig (v + H)\\, A_\\mu \\right]\n",
    "$$\n",
    "\n",
    "\n",
    "El desarrollo del término cinético del campo escalar nos queda:\n",
    "\n",
    "$$\n",
    "D_\\mu \\phi^*(x) D^\\mu \\phi(x)= \\frac{1}{2} \\partial_\\mu H \\partial^\\mu H + \\frac{g^2}{2} (v+ H)^2 A_\\mu A^\\mu\n",
    "$$\n",
    "\n",
    "Esto es:\n",
    "\n",
    "$$\n",
    "\\frac{1}{2} \\partial_\\mu H \\partial^\\mu H + \\frac{g^2v^2}{2} A_\\mu A^\\mu + g^2v \\,H A_\\mu A^\\mu + \\frac{g^2}{2} H^2 A_\\mu A^\\mu \n",
    "$$"
   ]
  },
  {
   "cell_type": "markdown",
   "metadata": {},
   "source": [
    "Donde el primer término es el término cinético del campo $H$,\n",
    "\n",
    "El segundo término es un término de masa del bosón $A^\\mu$, con:\n",
    "\n",
    "$$\n",
    "m_A =  g \\, v\n",
    "$$\n",
    "\n",
    "Y los dos otros términos son la interacción entre el campo $H$ y el bosón $A_\\mu$, con vértices de tres y cuatro segmentos, respectivamente. "
   ]
  },
  {
   "cell_type": "markdown",
   "metadata": {},
   "source": [
    "[TODO] check el factor del término de masas"
   ]
  },
  {
   "cell_type": "markdown",
   "metadata": {},
   "source": [
    "Luego al imponer que el lagrangiano del campo escalar complejo con un potencial tipo sombrero mexicano presente una simetría gauge local, del grupo $U(1)$, y al tomar una gauge específica en la que el campo solo tiene componente real, hemos dado masa al bosón vectorial, $A_\\mu$.\n",
    "\n",
    "Si atendemos a los grados de libertad, el campo $\\varphi_2$ ha desaparecido y se ha \"convertido\" en un grado de libertad más del campo $A_\\mu$, que sin masa tiene dos polarizaciones, y con masa, tres.\n",
    "\n",
    "A veces en la literatura se dice que el campo $A_\\mu$ se ha *comido* el bosón de Goldstone $\\varphi_2$."
   ]
  },
  {
   "cell_type": "markdown",
   "metadata": {},
   "source": [
    "### la masa de los bosones vectoriales\n",
    "\n",
    "El caso anterior es un caso académico, donde hemos usando la simetría gauge U(1) del lagrangiano del campo escalar para dotar de masa a un hipotético bosón vectorial.\n",
    "\n",
    "Pero el problema real es cómo dotar de masa a los bosones vectoriales débiles, $W^\\pm, Z^0$.\n",
    "\n",
    "En este caso necesitaremos tres bosones de Goldstone para generar la masa de los tres bosones vectoriales, lo que nos lleva a que el campo de Higgs debe tener al menos 4 componentes reales. \n"
   ]
  },
  {
   "cell_type": "markdown",
   "metadata": {},
   "source": [
    "Consideremos que el campo de Higgs es un duplete de campos escalares complejos:\n",
    "\n",
    "$$\n",
    "\\Phi(x) \\equiv \\begin{pmatrix} \\phi^+(x) \\\\ \\phi^0(x) \\end{pmatrix} \n",
    "$$\n",
    "\n",
    "donde $\\phi^+(x)$ es un campo escalar complejo con una carga eléctrica asociada $+1$, mientras que $\\phi^0(x)$ es también un campo escalar complejo con carga eléctrica nula."
   ]
  },
  {
   "cell_type": "markdown",
   "metadata": {},
   "source": [
    "El porqué es un duplete quedará más clara cuando en la siguiente sección dotemos de masa a las fermiones."
   ]
  },
  {
   "cell_type": "markdown",
   "metadata": {},
   "source": [
    "Consideremos que el lagrangiano de este campo es:\n",
    "\n",
    "$$\n",
    "\\mathcal{L} = (D_\\mu \\Phi)^\\dagger D^\\mu \\Phi - V(\\Phi)\n",
    "$$\n",
    "\n",
    "donde:\n",
    "\n",
    "$$\n",
    "V(\\Phi) = \\mu^2 (\\Phi^\\dagger \\Phi) + \\lambda (\\Phi^\\dagger \\Phi)^2\n",
    "$$\n",
    "$$\n",
    "D_\\mu = \\partial_\\mu + i g_W W^i_\\mu \\tau_i + i g_Y B_\\mu\n",
    "$$\n",
    "\n",
    "con $\\mu^2<0, \\lambda \\gt0$, siendo $g_W, \\, g_Y$ la intensidad de los acoplos débil y de hypercarga respectivamente, y $\\tau_i = \\frac{\\sigma_i}{2}$ los generadores del grupo $SU(2)$. \n",
    "\n"
   ]
  },
  {
   "cell_type": "markdown",
   "metadata": {},
   "source": [
    "Este Lagrangiano es por lo tanto invariante gauge bajo el grupo $SU(2)_L \\times U(1)_Y$, y el campo está sometido a potencial del tipo sombrero mexicano.\n",
    "\n",
    "La hypercarga del duplete es $Y = 1/2$ de tal forma que la carga eléctrica del elemento de abajo del duplete de Higgs, $\\Phi$, sea nula:\n",
    "\n",
    "$$\n",
    "Q = I_{W3} + Y\n",
    "$$"
   ]
  },
  {
   "cell_type": "markdown",
   "metadata": {},
   "source": [
    "El mínimo de potencial es de nuevo $v/\\sqrt{2}$\n",
    "\n",
    "$$\n",
    "|\\Phi_0| = \\sqrt{-\\frac{\\mu^2}{2\\lambda}} \\equiv \\frac{v}{\\sqrt{2}}\n",
    "$$\n",
    "\n",
    "Podemos dar el campo de forma genérica a partir de un valor en el mínimo del potencial en el elemento de abajo que es neutro, aquel que tiene componente real, esto es tras la rotura espóntanea de simetría, como:\n",
    "\n",
    "$$\n",
    "\\Phi(x) = e^{i \\tau_i \\theta^i(x)} \\frac{1}{\\sqrt{2}}\\begin{pmatrix} 0 \\\\ v+ H(x)\\end{pmatrix}\n",
    "$$\n",
    "\n",
    "donde $H(x)$ es un campo escalar real. "
   ]
  },
  {
   "cell_type": "markdown",
   "metadata": {},
   "source": [
    "Podemos usar la invariancia gauge para seleccionar una gauge específica donde $\\theta^i(x) = 0$, que llamamos unitaria.\n",
    "\n",
    "Notar que esta gauge nos asegura que el campo que sobrevive esté asociado con el campo *físico* que llamamos de Higgs.\n",
    "\n",
    "Notar también que el campo *físico*, $H(x)$, tiene carga eléctrica nula, con lo que podemos asociarle un valor esperado no nulo \n"
   ]
  },
  {
   "cell_type": "markdown",
   "metadata": {},
   "source": [
    "[TODO] Explorar por qué deber ser elnulo"
   ]
  },
  {
   "cell_type": "markdown",
   "metadata": {},
   "source": [
    "La derivada covariante:\n",
    "\n",
    "$$\n",
    "D_\\mu \\Phi = \\left(\\partial_\\mu + i g_W \\frac{\\sigma_i}{2} W^i_\\mu + i Y g_Y B_\\mu\\right) \\Phi\n",
    "$$\n",
    "\n",
    "donde $Y= \\frac{1}{2}$.\n",
    "\n",
    "Si la expresamos con el campo desarrollado a partir del valor en el vacío y en la gauge unitaria.\n",
    "\n",
    "$$\n",
    "D_\\mu \\Phi = \\frac{1}{\\sqrt{2}} \\begin{pmatrix} 0 \\\\ \\partial_\\mu H \\end{pmatrix} + \n",
    " \\frac{i}{2} \\begin{pmatrix} g_W W^3_\\mu + g_Y B_\\mu & g_W(W^1_\\mu - i W^2_\\mu) \\\\ g_W(W^1_\\mu + i W^2_\\mu) & -g_W W^3_\\mu + g_Y B_\\mu\\end{pmatrix} \\frac{1}{\\sqrt{2}} \\begin{pmatrix} 0 \\\\ v+H \\end{pmatrix} \n",
    "$$\n",
    "$$\n",
    " \\frac{1}{\\sqrt{2}} \\begin{pmatrix} 0 \\\\ \\partial_\\mu H \\end{pmatrix} +\n",
    " \\frac{i}{2\\sqrt{2}} \\begin{pmatrix} \\sqrt{2} g_W W^+_\\mu \\\\ - g_W W^3_\\mu + g_Y B_\\mu \\end{pmatrix} (v+H)\n",
    "$$\n"
   ]
  },
  {
   "cell_type": "markdown",
   "metadata": {},
   "source": [
    "Podemos reescribir en términos de los bosones físicos el término:\n",
    "\n",
    "$$\n",
    "-g_W W^3_\\mu + g_y B_\\mu = -g_W (s_W A_\\mu + c_W Z_\\mu) + g_Y (c_WA_\\mu - s_W Z_\\mu) = \\\\\n",
    "(-g_W s_W + g_Y c_W) A_\\mu - (g_W c_W + g_Y s_W) Z = -\\frac{g_W}{c_W} Z_\\mu = - g_Z Z_\\mu\n",
    "$$\n",
    "\n",
    "donde hemos usando que $g_Y = g_W \\tan \\theta_W, g_Z = g_W/c_W$."
   ]
  },
  {
   "cell_type": "markdown",
   "metadata": {},
   "source": [
    "O equivalentemente, como el fotón no tiene masa, sabemos que para que se anule su factor en la expresión anterior debe cumplirse: \n",
    "\n",
    "$$\n",
    "g_W s_W = g_Y c_W\n",
    "$$\n",
    "\n",
    "esto es, debe cumplirse la siguiente una relación entre las intensidades de acoplo:\n",
    "\n",
    "$$\n",
    "g_Y = g_W \\tan \\theta_W\n",
    "$$\n",
    "\n",
    "que es relación que nos había aparecido antes, al desarrollar la unificación electrodébil."
   ]
  },
  {
   "cell_type": "markdown",
   "metadata": {},
   "source": [
    "Así:\n",
    "\n",
    "$$\n",
    "D_\\mu \\Phi =\n",
    " \\frac{1}{\\sqrt{2}} \\begin{pmatrix} 0 \\\\ \\partial_\\mu H \\end{pmatrix} +\n",
    " \\frac{i}{2\\sqrt{2}} \\begin{pmatrix} \\sqrt{2} g_W W^+_\\mu \\\\ -g_Z Z_\\mu \\end{pmatrix} (v+H)\n",
    "$$\n"
   ]
  },
  {
   "cell_type": "markdown",
   "metadata": {},
   "source": [
    "Teniendo en cuenta que $(W^+)^\\dagger = W^-$, el término cinético del lagrangiano en la gauge unitaria queda:\n",
    "\n",
    "$$\n",
    "(D_\\mu \\Phi)^\\dagger D^\\mu \\Phi = \\frac{1}{2} \\partial_\\mu H \\partial^\\mu H + (v+H)^2 \\left[ \\frac{1}{4} g^2_W W^-_\\mu W^{+\\mu} + \\frac{g^2_Z}{8} Z_\\mu Z^\\mu \\right]\n",
    "$$"
   ]
  },
  {
   "cell_type": "markdown",
   "metadata": {},
   "source": [
    "Luego hemos obtenido un término de masas para los bosones vectoriales $W^\\pm, Z^0$, que es:\n",
    "\n",
    "$$\n",
    "M_W = \\frac{1}{2} v g_W, \\;\\;\\; M_Z = \\frac{1}{2} v g_Z \n",
    "$$\n",
    "\n",
    "Lo que establece la misma relación entre las masas que entre los acoplos:\n",
    "\n",
    "$$\n",
    "\\frac{M_W}{M_Z} = \\frac{g_W}{g_Z} = c_W \n",
    "$$"
   ]
  },
  {
   "cell_type": "markdown",
   "metadata": {},
   "source": [
    "Notar que dados las constantes de acoplo débil, que fijan las interacciones débiles con los fermiones, también fijan la masa de los bosones vectoriales. \n",
    "\n",
    "Esto es, el modelo de Higgs no introduce parámetros adicionales asociados con la masa de los bosones $W^\\pm, Z^0$, y ésta esta fijada por los parámetros\n",
    "\n",
    "$$\n",
    "g_W, s_W, v\n",
    "$$"
   ]
  },
  {
   "cell_type": "markdown",
   "metadata": {},
   "source": [
    "Pero notar también que además de los términos de masa de los bosones, nos han aparecido en el lagrangiano una serie de términos que corresponden a las interacciónes de Higgs con los bosones vectorials $W^\\pm, Z^0$.\n",
    "\n",
    "La intensidad de la interacción viene controlado por las constantes de acoplo:\n",
    "\n",
    "$$\n",
    "g_W = 2 \\frac{M_W}{v}, \\;\\;\\; g_Z = 2 \\frac{M_Z}{v}\n",
    "$$\n",
    "\n",
    "esto es, es proporcionall a su masa."
   ]
  },
  {
   "cell_type": "markdown",
   "metadata": {},
   "source": [
    "Recordemos ahora que en los diagramas de Feynman de las corrientes débiles nos aparece el factor (al cuadrado) asociado a los vértic es y el propagador, que si el cuadrimomento transferido es pequeño comparada con la masa de los bosones podemos aproximar por:\n",
    "\n",
    "$$\n",
    "\\frac{g^2_W}{2} \\frac{4}{M^2_W} = \\frac{2}{v^2}, \n",
    "$$\n",
    "\n",
    "Y sabemos que este factor está asociado a la constante de Fermi:\n",
    "\n",
    "$$\n",
    "G_F = \\frac{2}{v^2} \\Rightarrow v = \\left(\\sqrt{2} G_F\\right)^{-1/2} = 246 \\;\\; \\mathrm{GeV}\n",
    "$$"
   ]
  },
  {
   "cell_type": "markdown",
   "metadata": {},
   "source": [
    "[TODO] Revisar el factor 1/2 de la masa de los bosones"
   ]
  },
  {
   "cell_type": "markdown",
   "metadata": {},
   "source": [
    "### Masas de los fermiones\n",
    "\n",
    "Para dotar de masa a los fermiones debemos recuperar el término en el lagrangiano que acople el campo a izquierdas con el derechas a través del campo de Higgs.\n",
    "\n",
    "$$\n",
    "m \\bar{\\Psi} \\Psi = m \\bar{\\Psi}_R\\Psi_L + m \\bar{\\Psi}_L \\Psi_R \n",
    "$$\n",
    "\n",
    "Al haber situado los campos a izquierdas en un duplete y los de derechas en un singlete de isospín, debemos establecer un acoplo con el campo de Higgs de tal forma que sea un escalar e invariante Lorentz."
   ]
  },
  {
   "cell_type": "markdown",
   "metadata": {},
   "source": [
    "Como hemos definido el campo de Higgs en un duplete de isoespín podemos introducir dichos términos para la primera familia de leptones como:\n",
    "\n",
    "$$\n",
    "\\lambda_e \\, \\bar{L} \\Phi \\, e_R + \\lambda_e \\, (\\bar{L} \\Phi e_R)^\\dagger\n",
    "$$\n",
    "\n",
    "donde $\\lambda_e$ es una constante de acoplo de Yukawa. El segundo término simplemente es el hermítico conjugado, $\\mathrm{h.c.}$ "
   ]
  },
  {
   "cell_type": "markdown",
   "metadata": {},
   "source": [
    "Tras la rotura espontánea de simetría el término queda:\n",
    "\n",
    "$$\n",
    "\\lambda \\begin{pmatrix} \\bar{\\nu}_L, & \\bar{e}_L \\end{pmatrix} \\frac{1}{\\sqrt{2}} \\begin{pmatrix} 0 \\\\ v+H \\end{pmatrix} e_R + \\mathrm{h.c.}\n",
    "$$\n",
    "\n",
    "Esto es:\n",
    "\n",
    "$$\n",
    "\\frac{1}{\\sqrt{2}} \\lambda \\bar{e}_L e_R (v+H)+ \\mathrm{h.c.}\n",
    "$$"
   ]
  },
  {
   "cell_type": "markdown",
   "metadata": {},
   "source": [
    "Nos aparece un término de masas del electrón:\n",
    "\n",
    "$$\n",
    "\\frac{1}{\\sqrt{2}} \\lambda_e v (\\bar{e}_L e_R + \\bar{e}_R e_L) = m_e \\bar{e} e\n",
    "$$\n",
    "\n",
    "y un término de interacción del electrón con el campo de Higgs:\n",
    "\n",
    "$$\n",
    "\\frac{1}{\\sqrt{2}} \\lambda_e H (\\bar{e}_L e_R + \\bar{e}_R e_L) = \\lambda_e \\bar{e} e \\, H\n",
    "$$\n",
    "\n"
   ]
  },
  {
   "cell_type": "markdown",
   "metadata": {},
   "source": [
    "\n",
    "La masa del electrón es entonces:\n",
    "\n",
    "$$\n",
    "m_e = \\frac{1}{\\sqrt{2}} \\lambda_e v\n",
    "$$\n",
    "\n",
    "Y la interacción del electrón con el Higgs es proporcional a:\n",
    "\n",
    "$$\n",
    "\\lambda_e = \\frac{m_e}{v}\n",
    "$$\n",
    "\n",
    "la masa del electrón."
   ]
  },
  {
   "cell_type": "markdown",
   "metadata": {},
   "source": [
    "Y obraríamos de forma simular para el resto de familias leptónicas.\n",
    "\n",
    "En este caso al no existir el campo a derechas del neutrino no podemos dotarle de masa."
   ]
  },
  {
   "cell_type": "markdown",
   "metadata": {},
   "source": [
    "Si consideramos ahora la primera familia de los quarks, un término similar al anterior nos dotaría de masa al quark $d$ pero para dotar de masa al quark $u$ necesitamos introducir un término adicional.\n",
    "\n",
    "Para ello definimos primero el conjugado del duplete del campo de Higgs:\n",
    "\n",
    "$$\n",
    "\\Phi^c = i \\sigma_2 \\Phi^*\n",
    "$$\n",
    "\n",
    "que tras la rotura espontánea de simetría y la elección de la gauge unitaria queda:\n",
    "\n",
    "$$\n",
    "\\Phi^c = \\begin{pmatrix} 0 & 1 \\\\ -1 & 1 \\end{pmatrix} \\frac{1}{\\sqrt{2}} \\begin{pmatrix} 0 \\\\ v+H \\end{pmatrix} =\n",
    "\\frac{1}{\\sqrt{2}} \\begin{pmatrix} v+H \\\\  0\\end{pmatrix}\n",
    "$$"
   ]
  },
  {
   "cell_type": "markdown",
   "metadata": {},
   "source": [
    "Si introducimos ahora los términos de interacción de los quarks con el campo de Higgs como:\n",
    "\n",
    "$$\n",
    "\\lambda_u \\bar{Q}_u \\Phi u_R + \\lambda_d \\bar{Q}_u \\Phi^c  d_R + \\mathrm{h.c.}\n",
    "$$\n",
    "\n",
    "donde $\\lambda_u, \\lambda_d$ son las constante de acoplo de Yukawa del quark $u, d$ respectivamente.\n",
    "\n",
    "Notar que ambos términos son escalares respecto al isoespín débil, y nos acoplan los campos a izquierdas y derechas de cada quark."
   ]
  },
  {
   "cell_type": "markdown",
   "metadata": {},
   "source": [
    "Tras la rotura espontánea de simetría y en la gauge unitaria obtenemos:\n",
    "\n",
    "$$\n",
    "\\lambda_u  (\\bar{u}_L u_R + \\bar{u}_L u_R) \\frac{1}{\\sqrt{2}} (v+H) + \\lambda_d (\\bar{d}_Ld_R + \\bar{d}_L d_R) \\frac{1}{\\sqrt{2}} (v+H)\n",
    "$$\n",
    "\n",
    "Esto es los términos de masas para los quarks $u, d$:\n",
    "\n",
    "$$\n",
    "m_u = \\frac{1}{\\sqrt{2}} \\lambda_u v, \\;\\;\\; m_u = \\frac{1}{\\sqrt{2}} \\lambda_u v,\n",
    "$$\n",
    "\n",
    "Y los de la iteracción de los quarks con el bosón de Higgs, cuya constante de acoplo de Yukawa:\n",
    "\n",
    "$$\n",
    "\\lambda_u = \\frac{m_u}{v}, \\;\\;\\; \\lambda_d = \\frac{m_d}{v}\n",
    "$$\n",
    "\n",
    "es proporcional a la masa de quada quark."
   ]
  },
  {
   "cell_type": "markdown",
   "metadata": {},
   "source": [
    "Obraríamos de igual forma para el resto de familias de quark.\n",
    "\n",
    "Notar por lo tanto que para cada fermión cargado introducimos una constante de acoplo de Yukawa. Esto es hay tantos parámetros libres adicionales como masas de los quarks.\n",
    "\n",
    "Y también que el acoplo con el campo de bosón de Higgs es proporcional a la masa de cada fermión. El bosón de Higgs se acopla más con los fermiones más pesados.\n"
   ]
  },
  {
   "cell_type": "markdown",
   "metadata": {},
   "source": [
    "Recapitulemos, para dotar de masa a la primera familia de fermiones introducimos los siguientes términos de interacción:\n",
    "\n",
    "$$\n",
    "\\lambda_e \\bar{L}_e \\Phi e_R + \\lambda_u \\bar{Q}_u \\Phi^c u_R + \\lambda_d \\bar{Q}_u \\Phi d_R + \\mathrm{h.c.}\n",
    "$$\n",
    "\n",
    "que además de dotar de masa al electrón y a los quarks $u, d$, fijan las interacciones de los mismos con el bosón de Higgs."
   ]
  },
  {
   "cell_type": "markdown",
   "metadata": {},
   "source": [
    "### Parámetros del modelos\n",
    "\n",
    "Recapitulemos y resumamos los parámetros que aparecen en el Modelo Estándar.\n",
    "\n",
    "El campo de Higgs introduce dos parámetros, $v, \\lambda$, que experimentalmente están asociados a $G_F$ y la masa del Higgs $m_H$\n",
    "\n",
    "La interacción electrodébil introduce dos parámetros $g_W, g_Y$ que experimentalmente están asociados a la carga del electrón (o la constante de estructura fina $\\alpha$) y el seno del ángulo de Weinberger $s_W$. Y que nos establecen la masa de los bosones vectoriales $M_W, M_Z$.\n",
    "\n",
    "La interacción fuerte introduce una constante de acoplo $g_S$ o experimentalmente la constante $\\alpha_S$.\n",
    "\n",
    "Finalmente tenemos tantos acoplos de Yukawa como fermiones cargados, esto es, 3 por familia.\n",
    "\n",
    "No hemos considerano en nuestra discusión la mezcla de quarks que nos introduciría 4 parámetros adicionales, asociados a la matriz CKM, tres ángulos de mezcla y una fase compleja.\n",
    "\n",
    "Si consideramos la masa de los neutrinos y su mezcla el modelo tiene 3+4 (o 6) parámetros adicionales, 3 de las masas y 4 de la matriz de mezcla MNPS y dos posibles fases si los neutrinos son de Majorana.\n"
   ]
  },
  {
   "cell_type": "markdown",
   "metadata": {},
   "source": [
    "----------"
   ]
  },
  {
   "cell_type": "markdown",
   "metadata": {},
   "source": []
  },
  {
   "cell_type": "markdown",
   "metadata": {},
   "source": [
    "Para ello po"
   ]
  },
  {
   "cell_type": "markdown",
   "metadata": {},
   "source": [
    "Podemos hacer uso de la invariancia bajo"
   ]
  },
  {
   "cell_type": "markdown",
   "metadata": {},
   "source": [
    "Y los camos se transforman:\n",
    "\n",
    "$$\n",
    "W'^i_\\mu T_i = U W^i_\\mu T_i U^{-1} - \\frac{i}{g_W} (\\partial_\\mu U) \\, U^{-1}\n",
    "$$\n",
    "\n",
    "Operando de forma similar a como hicimos con el triplete de color de los quarks, obtenemos:\n",
    "\n",
    "$$\n",
    "W^i_\\mu = W^i_\\mu - \\partial_\\mu \\theta^i - g_W \\epsilon_{ijk} \\theta^{j} W^k_\\mu\n",
    "$$\n",
    "\n",
    "Como sucedió con el color, la constante $g_W$ es universal para todas las parejas de dupletes de leptones y quarks, ya que aparece en la transformación de los bosones vectoriales.\n"
   ]
  },
  {
   "cell_type": "markdown",
   "metadata": {},
   "source": [
    "Como hicimos antes, extendemos la derivada covariante para añadir ahora el acoplo de los campos fermiónicos con los campos vectoriales débiles. \n",
    "\n",
    "La derivada covariante generalizada queda ahora:\n",
    "\n",
    "$$\n",
    "D_\\mu = \\partial_\\mu - g A_\\mu - g_W {\\bf W}_\\mu\n",
    "$$\n",
    "\n",
    "También tenemos que añader el lagrangiano el términco cinético de los campos ${\\bf W}$, aunque esa parte no la desarrollamos en estas notas\n"
   ]
  },
  {
   "cell_type": "markdown",
   "metadata": {},
   "source": [
    "### Unificación electrodébil\n",
    "\n",
    "Vamos a desarrollar los elementos principales del Modelo Estándar, en realidad, de la teoría electro-débil. Este modelo lo desarrollaron  A. Salam, S. Weinberg y S. Glashow quienes en los años 60."
   ]
  },
  {
   "cell_type": "markdown",
   "metadata": {},
   "source": [
    "El Modelo Estándar establece que las simetrías fundamentales están asociadas a un grupo $U(1)_Y$ a su vez asociado a una nueva carga que llamamos **hypercarga** y un grupo $SU(2)_L$,  **isoespín débil**. \n",
    "\n",
    "Aunque aquí no lo vamos a desarrollar aquí, el Modelo Estándar se completa añadiendo la simetría gauge local respecto al grupo $SU(3)_C$, asignada esta vez al **color** de los quarks. \n",
    "\n",
    "Luego el grupo completo bajo el que preserva la simetría gauge local es:\n",
    "\n",
    "$$\n",
    "U(1)_Y \\times SU(2)_L \\times SU(3)_C\n",
    "$$\n",
    "\n",
    "[TODO] ¿van en cursiva?"
   ]
  },
  {
   "cell_type": "markdown",
   "metadata": {},
   "source": [
    "Sin embargo en la naturaleza sabemos que se conserva de la carga eléctrica. \n",
    "\n",
    "Veremos que la hypercarga y la carga eléctriva están relacionadas, pero continuemos nuestras discusión admitiendo que el lagrangiano es invariante bajo $U(1)_Y$"
   ]
  },
  {
   "cell_type": "markdown",
   "metadata": {},
   "source": [
    "Exiguimos que el campo del fermión sea invariante bajo dos transformaciones locales:\n",
    "\n",
    "   * frente de una fase local, $\\theta(x)$, del grupo $U(1)_Y$, relacionada con la hypercarga débil $Y$, cuyo acoplo denotamos por $g_Y$,\n",
    "   \n",
    "   * frente a una triple fase local, $\\alpha(x)_i$ con $i=1, 2, 3$ del grupo $SU(2)_L$, asociada al isosespín débil SU(2)$_L$, cuyo acoplo es $g_W$.\n",
    "\n",
    "$$\n",
    "\\Psi'(x) = e^{ig_Y \\frac{\\theta(x)}{2}} \\, e^{i g_W \\bf{T} \\cdot {\\bf \\alpha}(x)} \\,\\, \\Psi(x)\n",
    "$$\n",
    "\n",
    "donde ${\\bf T}$ son los generadores de SU(2), la matrices de Pauli, $T_i = \\frac{\\sigma_i}{2}$ con $i=1, 2, 3$. \n",
    "\n",
    "El factor $1/2$ en el primer exponente es por conveniencia."
   ]
  },
  {
   "cell_type": "markdown",
   "metadata": {},
   "source": [
    "La derivada covariante generalizada asociada con la hypercarga y el isoespín de un fermión es:\n",
    "\n",
    "$$\n",
    "D_\\mu \\equiv \\partial_\\mu - \\frac{g_Y}{2} B_\\mu(x) - \\frac{g_W}{2} \\vec{\\sigma} \\cdot {\\bf W}_\\mu(x)\n",
    "$$\n",
    "\n",
    "Donde $B_\\mu(x)$ es el campo vectorial asociado a la hypercarga y ${\\bf W}(x)$ los campos vectoriales asociados al isospín débil."
   ]
  },
  {
   "cell_type": "markdown",
   "metadata": {},
   "source": [
    "A partir de la derivada covariante generalizada nos aparecen la interacción de cuatro corrientes que se acoplan con los cuatro campos vectoriales $B_\\mu, {\\bf W}_\\mu$:\n",
    "\n",
    "$$\n",
    "j^\\mu_Y B_\\mu + j^\\mu_{iW} W^i_W\n",
    "$$\n",
    "\n",
    "Donde aparece el sumatorio en $i=1, 2, 3$.\n",
    "\n",
    "Las corrientes son:\n",
    "\n",
    "$$\n",
    "j^\\mu_Y = \\frac{g_Y}{2} \\bar{\\Psi} \\gamma^\\mu \\Psi, \\;\\;\\;\n",
    "j^\\mu_{Wi} = g_W \\bar{\\Psi} \\frac{1}{2}\\sigma_i \\gamma^\\mu \\Psi,\n",
    "$$\n",
    "\n",
    "Vamos a relacionar estar corrientes *fundamentales* con las corrientes *físicas* del electromagnetismo y débiles."
   ]
  },
  {
   "cell_type": "markdown",
   "metadata": {},
   "source": [
    "#### Correntes cargadas\n",
    "\n",
    "Vamos a reescribir los términos de las interacciones débiles $i=1, 2$.\n",
    "\n",
    "$$\n",
    "\\frac{g_W}{2} \\left(j^\\mu_{W1} W^1_\\mu(x) + j^\\mu_{W2} W^2_\\mu(x) \\right)\n",
    "$$\n"
   ]
  },
  {
   "cell_type": "markdown",
   "metadata": {},
   "source": [
    "definiendo los campos cargados $W^{\\pm}(x)$ como:\n",
    "\n",
    "$$\n",
    "W^{\\pm} = \\frac{1}{\\sqrt{2}}(W^{1}(x) \\mp W^2(x)),\n",
    "$$\n",
    "\n",
    "y las corrientes cargadas:\n",
    "\n",
    "$$\n",
    "j^\\mu_{W\\pm} = \\frac{g_W}{\\sqrt{2}} (j^\\mu_1 \\pm i j^\\mu_2),\n",
    "$$\n"
   ]
  },
  {
   "cell_type": "markdown",
   "metadata": {},
   "source": [
    "Si expresamos las corrientes con las matrices de Pauli\n",
    "\n",
    "$$\n",
    "j^\\mu_{W\\pm} = \\frac{g_W}{\\sqrt{2}} \\bar{\\Psi} \\, \\frac{1}{2}(\\sigma_1 \\pm i \\sigma_2) \\, \\gamma^\\mu \\Psi\n",
    "$$"
   ]
  },
  {
   "cell_type": "markdown",
   "metadata": {},
   "source": [
    "nos aparecen las matrices asociadas a la subida y bajada de las componentes del duplete:\n",
    "\n",
    "$$\n",
    "\\sigma_\\pm = \\frac{1}{2}(\\sigma^1 \\pm i \\sigma^2)\n",
    "$$\n",
    "\n",
    "\n",
    "que recordemos que son simplemente:\n",
    "\n",
    "$$\n",
    "\\sigma_+ = \\begin{pmatrix} 0 & 1 \\\\ 0 & 0 \\end{pmatrix}, \\;\\;\\;\n",
    "\\sigma_- = \\begin{pmatrix} 0 & 0 \\\\ 1 & 0 \\end{pmatrix}.\n",
    "$$\n"
   ]
  },
  {
   "cell_type": "markdown",
   "metadata": {},
   "source": [
    "Así las corrientes cargadas son:\n",
    "\n",
    "$$\n",
    "j^\\mu_{W\\pm} = \\frac{g_W}{\\sqrt{2}} \\bar{\\Psi} \\, \\sigma^\\pm \\, \\gamma^\\mu \\Psi\n",
    "$$"
   ]
  },
  {
   "cell_type": "markdown",
   "metadata": {},
   "source": [
    "\n",
    "Los términos de interacción quedan ahora como:\n",
    "\n",
    "$$\n",
    " j^\\mu_{W1} W^1_\\mu + j^\\mu_{W2} W^2 = j^\\mu_{W+} W^+_\\mu + j^\\mu_{W-} W^-_\\mu \n",
    "$$\n",
    "\n",
    "\n"
   ]
  },
  {
   "cell_type": "markdown",
   "metadata": {},
   "source": [
    "[TODO] Ejemplo de los neutrinos y los electrones,"
   ]
  },
  {
   "cell_type": "markdown",
   "metadata": {},
   "source": [
    "Podemos explicitar la corriente cargada, $j^\\mu_+$ para la primera familia de leptones:\n",
    "\n",
    "$$\n",
    " j^\\mu_+ = \\frac{g_W}{\\sqrt{2}} \\bar{L}_e \\sigma^+ \\gamma^\\mu L_e = \\\\\n",
    " \\frac{g_W}{\\sqrt{2}}\n",
    " \\begin{pmatrix} \\bar{\\nu}_{eL}, \\bar{e}_L \\end{pmatrix} \\, \n",
    "\\begin{pmatrix} 0 & 1 \\\\ 0 & 0 \\end{pmatrix}  \\gamma^\\mu\n",
    "\\begin{pmatrix} \\nu_{eL} \\\\ e_L \\end{pmatrix} =\n",
    "\\frac{g_W}{\\sqrt{2}} \\bar{\\nu}_{eL} \\, \\gamma^\\mu \\, e_L \n",
    "$$\n",
    "\n",
    "Recuperamos ahora la notación con espinores:\n",
    "\n",
    "$$\n",
    "j^\\mu_+ = \\frac{g_W}{\\sqrt{2}}\\bar{u}^{(\\nu_e)}_L \\gamma^\\mu u^{(e)}_L\n",
    "$$"
   ]
  },
  {
   "cell_type": "markdown",
   "metadata": {},
   "source": [
    "### Corrientes electromagnéticas\n",
    "\n",
    "\n",
    "Sabemos que en la Naturaleza se conserva la carga y conocemos bien cómo son las interacciones de las corrientes cargadas con el fotón. \n",
    "\n",
    "En principio resulta tentador exigir que el lagrangiano que mantuviese invariance gauge con la simetría del grupo $U(1)_Q$ asociado a la carga eléctricas, y simplemente considerar que el tercer bosón vectorial $W^3_\\mu$ daba lugar a otro tipo de interacciones. Sin embargo, las interacciones del $W^3_\\mu$ no se corresponden con las corrientes neutras observadas en la Naturaleza. La Naturaleza nos muestra una estructura internal de simetrías que no se revelan en la primera inspección de las interacciones electromagnéticas.\n",
    "\n",
    "Por eso, el Modelo Estándar introduce una interacción *fundamental*, la de la hypercarga, a partir de la cual emergen las interacciones *observadas*, la electromagnética y la neutra débil.\n"
   ]
  },
  {
   "cell_type": "markdown",
   "metadata": {},
   "source": [
    "Los dos campos *fundamentales*, $B(x), \\; W^3(x)$, el primero asociado a $U(1)_Y$, y el tercero asociado al generador $T_3$ al grupo $SU(2)_L$, se mezclan para dar los campos *físicos* asociados con el fotón y el bosón $Z^0$, mediante una matriz de rotación.\n",
    "\n",
    "$$\n",
    "\\begin{pmatrix} A_\\mu \\\\ Z_\\mu \\end{pmatrix} = \n",
    "\\begin{pmatrix} \\cos \\theta_W  &  \\sin \\theta_W  \\\\\n",
    "-\\sin \\theta_W  &  \\cos \\theta_W  \\end{pmatrix}\n",
    "\\begin{pmatrix} B_\\mu \\\\  W^3_\\mu \\end{pmatrix}\n",
    "$$\n",
    "\n",
    "donde $\\theta_W$ se denomina ángulo de Weinberg.\n",
    "\n",
    "*Nota:* para facilitar la lectura definimos: \n",
    "\n",
    "$$\n",
    "s_W = \\sin \\theta_W, \\;\\; c_W = \\cos \\theta_W.\n"
   ]
  },
  {
   "cell_type": "markdown",
   "metadata": {},
   "source": [
    "Si especificamos la corriente electromagnéticas para el electrón:\n",
    "\n",
    "$$\n",
    "j^\\mu_{(e)} = Qe \\, (\\bar{e}_R \\gamma^\\mu e_R + \\bar{e}_L \\gamma^\\mu e_L)\n",
    "$$\n",
    "\n",
    "donde $e$ es la carga eléctrica y $Q = -1$ la unidad de carga eléctrica del electrón.\n",
    "\n",
    "Mientras que para el neutrino es nula, dado que $Q = 0$ en este caso."
   ]
  },
  {
   "cell_type": "markdown",
   "metadata": {},
   "source": [
    "Explicitemos las dos corrientes fundamentales para el caso del electrón y el neutrino electrónico\n",
    "\n",
    "\n",
    "$$\n",
    "j^\\mu_{W3} = g_W \\bar{L}_e \\gamma^\\mu \\sigma_3 L_e = \\frac{g_W}{2} \\left(\\bar{\\nu}_{eL} \\gamma^\\mu \\nu_{eL} - \\bar{e}_L \\gamma^\\mu e_L \\right) \n",
    "$$"
   ]
  },
  {
   "cell_type": "markdown",
   "metadata": {},
   "source": [
    "El cambio de fase global en la hypercarga se aplicará independientemente sobre cada elemento, sobre el duplete, que tendrá una hypercarga $Y_L$, y sobre el único singlete, el del electrón, $Y^e_R$ \n",
    "\n",
    "$$\n",
    "j^\\mu_Y = Y g_Y \\, \\bar{L}_e \\gamma^\\mu L_e + Y^e_R g_Y \\, \\bar{e}_R \\gamma^\\mu e_R\n",
    "$$\n",
    "\n",
    "Esto es:\n",
    "\n",
    "$$\n",
    "j^\\mu_Y = Y g_Y \\, \\bar{\\nu}_{eL} \\gamma^\\mu \\nu_{eL} + Y g_Y \\, \\bar{e}_L \\gamma^\\mu e_L+ Y^e_R g_Y \\, \\bar{e}_R \\gamma^\\mu e_R\n",
    "$$"
   ]
  },
  {
   "cell_type": "markdown",
   "metadata": {},
   "source": [
    "Si reunimos, la corriente electrónica del nuetrino a partir de $j^\\mu_Y$ y $j^\\mu_{W3}$, debe ser nula:\n",
    "\n",
    "$$\n",
    "s_W \\frac{g_W}{2} \\bar{\\nu}_{eL} \\gamma^\\mu \\nu_{eL} + c_W Y g_Y \\, \\bar{\\nu}_{eL} \\gamma^\\mu \\nu_{eL} = 0\n",
    "$$\n",
    "\n"
   ]
  },
  {
   "cell_type": "markdown",
   "metadata": {},
   "source": [
    "\n",
    "Mientras que  la corriente electromagnética del electrón es, en la parte izquierda su definición y en la derecha a partir de $j^\\mu_Y$ y $j^\\mu_{W3}$:\n",
    "\n",
    "$$\n",
    "- e \\, (\\bar{e}_R \\gamma^\\mu e_R + \\bar{e}_L \\gamma^\\mu e_L) =  -  \\frac{g_W}{2} s_W \\bar{e}_L \\gamma^\\mu e_L + Y g_Y c_W \\, \\bar{e}_L \\gamma^\\mu e_L+ Y^e_R g_Y c_W \\, \\bar{e}_R \\gamma^\\mu e_R\n",
    "$$"
   ]
  },
  {
   "cell_type": "markdown",
   "metadata": {},
   "source": [
    "La reescribimos en función de las contantes de acoplo,\n",
    "\n",
    "$$\n",
    "j^\\mu_{\\mathrm{em}} = s_W g_W  \\bar{\\Psi}_L \\frac{1}{2} \\sigma_3 \\gamma^\\mu \\Psi_L + c_W \\frac{g_Y}{2} Y^f_R \\bar{\\Psi}_R \\gamma^\\mu \\Psi_R + \\frac{g_Y}{2} Y_L \\bar{\\Psi}_L \\gamma^\\mu \\Psi_L\n",
    "$$\n",
    "\n",
    "Donde $Y^f$ es la hypercarga del fermión $f$.\n"
   ]
  },
  {
   "cell_type": "markdown",
   "metadata": {},
   "source": [
    "Recordemos que, $j^\\mu$, es la corriente de probabilidad fermiónica, o corrente fermónica, y que es la suma de la corriente a izquierdas y a derechas.\n",
    "\n",
    "$$\n",
    "j^\\mu = j^\\mu_L + j^\\mu_R; \\;\\;\\; \n",
    "j^\\mu = \\bar{\\Psi} \\gamma^\\mu \\Psi, \\;\\;\\; \\\\\n",
    "j^\\mu_R = \\bar{\\Psi}_R \\gamma^\\mu \\Psi_R, \\;\\; j^\\mu_R = \\bar{\\Psi}_L \\gamma^\\mu \\Psi_L,\n",
    "$$"
   ]
  },
  {
   "cell_type": "markdown",
   "metadata": {},
   "source": [
    "\n",
    "Podemos escribir explícitamente la corriente electromagnética en sus componentes de quiralidad. \n",
    "\n",
    "\n",
    "A partir del valor de tercera componente de isoespín débil, $I^f_{W3}$, de su carga $Q^f$, y de la hypercarga, $Y_R^f, \\;\\; Y^f_L$, que puede tener un valor distinto para el duplete a izquierdas que para el singlete a derechas, tenemos la ecuación.\n",
    "\n",
    "$$\n",
    "j^\\mu_{\\mathrm{em}} = (I^f_{W3} g_W s_W + Y_L^f \\frac{g_Y}{2}c_W) \\, j^\\mu_L + Y_R^f \\frac{g_Y}{2} \\, c_W j^\\mu_R\n",
    "$$"
   ]
  },
  {
   "cell_type": "markdown",
   "metadata": {},
   "source": [
    "Del hecho que las corrientes electromagnéticas tienen el mismo acoplo para la parte a iquierdas y derechas, ya que conservan paridad, y éste es igual a la carga del fermión, tenemos:\n",
    "\n",
    "$$\n",
    "j^\\mu_{\\mathrm{em}} = Q^f e j^\\mu_L + Q^f e j^\\mu_R\n",
    "$$\n",
    "\n"
   ]
  },
  {
   "cell_type": "markdown",
   "metadata": {},
   "source": [
    "Consideremos el duplete $(\\nu_e, \\, e)$, se debe cumplir:\n",
    "\n",
    "$$\n",
    "0 = I^{\\nu_e}_{W3} g_W s_W + Y_L \\frac{g_Y}{2} c_W, \\;\\;\n",
    "0 = Y^{\\nu_e}_R \\frac{g_Y}{2} c_W, \\\\\n",
    "Q^e e = I^e_{W3} g_W s_W + Y_L \\frac{g_Y}{2} c_W, \\;\\;\n",
    "Q^e e = Y^e_R \\frac{g_Y}{2} c_W, \\\\\n",
    "$$"
   ]
  },
  {
   "cell_type": "markdown",
   "metadata": {},
   "source": [
    "Esto es:\n",
    "\n",
    "$$\n",
    "0 = + g_W s_W + Y_L g_Y c_W, \\;\\;\n",
    "0 = Y^{\\nu_e}_R \\frac{g_Y}{2} c_W, \\\\\n",
    "-2 e = -g_W s_W + Y_L g_Y c_W, \\;\\;\n",
    "-2 e = Y^e_R g_Y c_W, \\\\\n",
    "$$"
   ]
  },
  {
   "cell_type": "markdown",
   "metadata": {},
   "source": [
    "De forma inmediata tenemos:\n",
    "\n",
    "$$\n",
    "Y^{\\nu_e}_R = 0\n",
    "$$\n",
    "\n",
    "y de la resta de las  dos expresiones de la izquierda:\n",
    "\n",
    "$$\n",
    "e = g_W s_W\n",
    "$$"
   ]
  },
  {
   "cell_type": "markdown",
   "metadata": {},
   "source": [
    "Vemos que para recuperar $e$ para los posibles ángulos que puede tener $\\theta_W$ se debe cumplir:\n",
    "\n",
    "$$\n",
    "e = g_W s_W = g_Y c_W\n",
    "$$\n",
    "\n",
    "Y también que:\n",
    "\n",
    "$$\n",
    "Y_L = -1, \\;\\; Y^e_R = -2\n",
    "$$"
   ]
  },
  {
   "cell_type": "markdown",
   "metadata": {},
   "source": [
    "\n",
    "De forma general para los fermiones recuperamos su corriente electromagnética, si\n",
    "\n",
    "$$\n",
    "Y = 2 (Q - I_{W3})\n",
    "$$\n",
    "\n",
    "donde $I_{W3}$ es el valor del isoespín, que para las componentes a derechas es $0$ y para las de izquierdad la pareja con más carga es $I_{W3} = 1/2$ y la de menor $I_{W3} = -1/2$."
   ]
  },
  {
   "cell_type": "markdown",
   "metadata": {},
   "source": [
    "Así, obtenemos la tabla para la primera familia de leptones:\n",
    "\n",
    "|  |  |  |  | \n",
    "| :-- |  :-- |  :-- | :-- |\n",
    "| | $Q$| $I_{W3}$ | $Y$ |  \n",
    "| $\\nu_{eL}$|  1/2 | 1/2 | -1 | \n",
    "| $e_L$| -1 |  -1/2 |  -1 | \n",
    "| $e_R$| -1 | 0  |  -2 | \n",
    "\n",
    "Y de forma idéntica para el resto de familias leptónicas."
   ]
  },
  {
   "cell_type": "markdown",
   "metadata": {},
   "source": [
    "Y para la primera familia de quarks\n",
    "\n",
    "|  |  |  |  | \n",
    "| :-- |  :-- |  :-- | :-- |\n",
    "| | $Q$| $I_{W3}$ | $Y$ |  \n",
    "| $u_L$|  2/3 | 1/2 | 1/3 | \n",
    "| $d_L$| -1/3 |  -1/2 |  1/3 | \n",
    "| $u_R$|  2/3 | 0 | 4/3 | \n",
    "| $d_L$| -1/3 | 0  |  -2/3 | \n",
    "\n",
    "\n",
    "Y de forma idéntica para el resto de familias de quarks."
   ]
  },
  {
   "cell_type": "markdown",
   "metadata": {},
   "source": [
    "Sustituyendo en la ecuación de abajo a la izquierda\n",
    "\n",
    "$$\n",
    "-\\frac{1}{e} e\n",
    "$$\n",
    "\n",
    "y de la expresión de arriba a la izquierda,\n",
    "\n",
    "$$\n",
    "Y_L g_Y c_W = -2 e\n",
    "$$"
   ]
  },
  {
   "cell_type": "markdown",
   "metadata": {},
   "source": [
    "De donde, atendiento al neutrino, deducimos:\n",
    "\n",
    "$$\n",
    "Y^{\\nu_e}_R = 0, \\;\\;\\;\n",
    "Y_L = - I^{\\nu_e}_W \\frac{g_W}{g_Y} \\frac{s_W}{c_W}\n",
    "$$\n",
    "\n",
    "Mientras que del electrón obtenemos:\n",
    "\n",
    "$$\n",
    "Y^e_R = \\frac{2Q^e e}{g_Y c_W}, \\;\\;\\;\n",
    "Y_L = (Q^ee - I^e_{W3} \\frac{g_W s_W}{2}) \\frac{2}{g_Y c_W}\n",
    "$$"
   ]
  },
  {
   "cell_type": "markdown",
   "metadata": {},
   "source": [
    "Del hecho que $I^{\\nu_e}_{W3} = 1/2, \\;\\; I^e_{W3} = 1/2$ e igualando las dos expresiones de $Y_L$ obtenemos:\n",
    "\n",
    "$$\n",
    "Y_L = \\frac{2Q^e e}{g_Y c_W}\n",
    "$$"
   ]
  },
  {
   "cell_type": "markdown",
   "metadata": {},
   "source": [
    " donde la intensidad del acoplo es $e$ y $Q_f$, la carga en unidades de $e$ del fermión, $f$, por ejemplo $Q_e = -1$ para el electrón.\n",
    "\n",
    "$$\n",
    "j^\\mu_{\\mathrm{em}} = Q^f \\, e \\, \\Psi \\gamma^\\mu \\Psi\n",
    "$$\n"
   ]
  },
  {
   "cell_type": "markdown",
   "metadata": {},
   "source": [
    "Si desarrollamos la corriente,  en componentes de quiralidad, la corriente"
   ]
  },
  {
   "cell_type": "markdown",
   "metadata": {
    "slideshow": {
     "slide_type": "slide"
    }
   },
   "source": [
    "### Clase acelerada sobre el Higgs en el SM:\n",
    "\n",
    "| | | | |\n",
    "| :--: |:--: | :--: | :--: |\n",
    "| ----- Tipo ----- | --------- Escalar Complejo ---------- | ---------- Espinor ------------ | ------ Bosón vectorial ---------- |\n",
    "| | Klein-Gordon | Dirac | Maxwell |\n",
    "|Ecuación | $(\\partial^\\mu\\partial_\\mu + m^2) \\, \\phi = 0$ | $(i\\gamma^\\mu \\partial_\\mu - m) \\, \\Psi = 0$ | $\\partial_\\mu F^{\\mu\\nu} = j^\\nu_Q$ |\n",
    "|Lagrangiano| $(D_\\mu \\phi)^\\dagger (D^\\mu \\phi) - m^2 \\phi^\\dagger \\phi$ | $i\\bar{\\Psi}\\gamma^\\mu D_\\mu \\Psi - m \\bar{\\Psi}\\Psi$|  $-\\frac{1}{4}F^{\\mu\\nu}F_{\\mu\\nu} \\left[- \\frac{1}{2} m^2 A_\\mu A^\\mu \\right]$|\n",
    "\n",
    "Donde:\n",
    "\n",
    "$$\n",
    "D_\\mu = \\partial_\\mu + i g A_\\mu, \\;\\;\\; F^{\\mu\\nu} = \\partial^\\mu A^\\nu - \\partial^\\nu A^\\mu\n",
    "$$\n",
    "\n",
    "siendo $g$ una constante de acoplo, por ejemplo $g=e$, y si $A_\\mu$, el fotón, obtenemos el electromagnetismo."
   ]
  },
  {
   "cell_type": "markdown",
   "metadata": {
    "slideshow": {
     "slide_type": "slide"
    }
   },
   "source": [
    "El Lagrangiano de espinores y bosones vectoriales:\n",
    "\n",
    "$$\n",
    "i \\bar{\\Psi} \\gamma^\\mu D_\\mu \\Psi - m \\bar{\\Psi} \\Psi - \\frac{1}{4} F^{\\mu\\nu}F_{\\mu\\nu}\n",
    "$$\n",
    "\n",
    "Es invariante bajo la simetría gauge local, dada por $\\theta(x)$:\n",
    "    \n",
    "$$\n",
    "\\Psi'(x) = e^{i g \\theta(x)} \\, \\Psi(x), \\;\\;\\; A'_\\mu(x) = A_\\mu(x) -i\\partial_\\mu \\theta(x)\n",
    "$$ \n",
    "\n",
    "Pero no el término de masas del bosón vectorial:\n",
    "\n",
    "$$\n",
    "\\frac{1}{2} m_A^2 A'^\\mu A'_\\mu  = \\frac{1}{2}m_A^2 (A^\\mu - \\partial^\\mu \\theta) \\, (A_\\mu - \\partial_\\mu \\theta)\n",
    "$$"
   ]
  },
  {
   "cell_type": "markdown",
   "metadata": {
    "slideshow": {
     "slide_type": "slide"
    }
   },
   "source": [
    "Notar que nos en lagrangiano aparece el término:\n",
    "    \n",
    "$$\n",
    "i \\bar{\\Psi} \\gamma^\\mu D_\\mu \\Psi = \\dots + (i g \\bar{\\Psi} \\gamma^\\mu \\Psi) \\, A_\\mu  \n",
    "$$\n",
    "\n",
    "que es el acoplo de una corriente fermiónica con un acoplo $g = e$ al fotón que interpretamos como el vértice:\n",
    "\n",
    "$$\n",
    "e \\bar{\\Psi} \\gamma^\\mu \\Psi \\, A_\\mu = j^\\mu_{EL} \\, A_\\mu\n",
    "$$"
   ]
  },
  {
   "cell_type": "markdown",
   "metadata": {
    "slideshow": {
     "slide_type": "slide"
    }
   },
   "source": [
    "### ¿Cómo el higgs da masa a fermiones y bosones?\n",
    "\n",
    "Consideremos un campo complejo escalar particular, con un valor $v$ en el **vacío**:\n",
    "\n",
    "$$\n",
    "\\phi(x) = \\frac{1}{\\sqrt{2}}\\left(v + h(x)\\right) \n",
    "$$\n",
    "\n",
    "Consideremos primero los fermiones:\n",
    "\n",
    "La posible interacción en el lagrangiano entre fermiones y este campo, controlada por un acoplo (llamado de **Yukawa**), $\\lambda$\n",
    "\n",
    "$$\n",
    "-\\lambda \\bar{\\Psi} \\Psi \\, \\phi = -\\frac{\\lambda v}{\\sqrt{2}} \\bar{\\Psi} \\Psi - \\frac{\\lambda}{\\sqrt{2}} \\bar{\\Psi} \\, \\Psi h(x)\n",
    "$$"
   ]
  },
  {
   "cell_type": "markdown",
   "metadata": {
    "slideshow": {
     "slide_type": "slide"
    }
   },
   "source": [
    "El primero nos da la masa del fermión:\n",
    "\n",
    "$$\n",
    "m= \\frac{\\lambda v}{\\sqrt{2}}\n",
    "$$\n",
    "\n",
    "Y el segundo la interacción (la desintegración por ejemplo) del Higgs a un par fermión, anti-fermión"
   ]
  },
  {
   "cell_type": "markdown",
   "metadata": {
    "slideshow": {
     "slide_type": "slide"
    }
   },
   "source": [
    "Veamos como el mecanismo dota de masa a los bosones:\n",
    "\n",
    "La deriviada covariante es:\n",
    "$$\n",
    "D_\\mu \\phi = (\\partial_\\mu + i g A_\\mu) \\frac{1}{\\sqrt{2}} \\left( v + h(x) \\right)  = \\frac{1}{\\sqrt{2}} \\left(\\partial_\\mu h(x) + ig v \\, A_\\mu + i g h(x) A_\\mu \\right)\n",
    "$$\n",
    "\n",
    "Con lo que en el término del lagrangiano aparecen, entre otros, los términos:\n",
    "\n",
    "$$\n",
    "\\frac{1}{4}(D^\\mu \\phi)^*(D_\\mu \\phi) = \\dots + \\frac{1}{4} \\frac{q^2 v^2}{2} A^\\mu A_\\mu + \n",
    "$$\n"
   ]
  },
  {
   "cell_type": "markdown",
   "metadata": {
    "slideshow": {
     "slide_type": "slide"
    }
   },
   "source": [
    "El primero es el término de masas del bosón vectorial:\n",
    "\n",
    "$$\n",
    "m_A = \\frac{g v}{\\sqrt{2}}\n",
    "$$\n",
    "\n",
    "Y el segundo la interacción del higgs con un par de bosones vectoriales:\n"
   ]
  },
  {
   "cell_type": "markdown",
   "metadata": {
    "slideshow": {
     "slide_type": "slide"
    }
   },
   "source": [
    "Un simil útil es considerar que el valor esperado en el vacío del campo de Higgs hace que el vacío sea en realidad una \"pradera cubierta de nieve\", y que las partículas cuando se deslizan sobre ella lo hacen con una inercia (masa) que depende de $\\lambda$."
   ]
  },
  {
   "cell_type": "markdown",
   "metadata": {},
   "source": [
    "### ¿Cómo aparece el campo de higgs?\n",
    "\n",
    "¿Cómo aparece un campo que tenga un valor en el vacío?\n",
    "\n",
    "No sabemos por qué, pero se puede obtener si consideramos que un campo escalar $\\phi(x)$ interacciona consigo mismo con un determinado potencial, que se llama, del sombrero mexicano:\n",
    "$$\n",
    "V(\\phi) = \\frac{\\mu^2}{2} (\\phi^\\dagger \\phi) + \\frac{\\lambda}{4} (\\phi^\\dagger \\phi)^2\n",
    "$$\n",
    "\n",
    "y desarrollando el campo escalar alrededor del mínimo, $v$, del potencial.\n",
    "\n",
    "$$\n",
    "\\phi(x) = \\frac{1}{\\sqrt{v}} \\left( v + h(x)\\right)\n",
    "$$"
   ]
  },
  {
   "cell_type": "markdown",
   "metadata": {
    "slideshow": {
     "slide_type": "slide"
    }
   },
   "source": [
    "Las siguientes figuras muestran el potencial del sombrero mexicano para el caso $\\mu^2>0, \\mu^2<0$ para un campo escalar real $\\phi(x)$"
   ]
  },
  {
   "cell_type": "code",
   "execution_count": 1,
   "metadata": {
    "slideshow": {
     "slide_type": "fragment"
    }
   },
   "outputs": [
    {
     "ename": "NameError",
     "evalue": "name 'np' is not defined",
     "output_type": "error",
     "traceback": [
      "\u001b[0;31m---------------------------------------------------------------------------\u001b[0m",
      "\u001b[0;31mNameError\u001b[0m                                 Traceback (most recent call last)",
      "\u001b[0;32m<ipython-input-1-0f53a0c4df17>\u001b[0m in \u001b[0;36m<module>\u001b[0;34m\u001b[0m\n\u001b[1;32m      1\u001b[0m \u001b[0mhiggs_potential\u001b[0m \u001b[0;34m=\u001b[0m \u001b[0;32mlambda\u001b[0m \u001b[0mphi\u001b[0m\u001b[0;34m,\u001b[0m \u001b[0mmu\u001b[0m\u001b[0;34m,\u001b[0m \u001b[0mxlambda\u001b[0m \u001b[0;34m:\u001b[0m \u001b[0;34m(\u001b[0m\u001b[0;34m(\u001b[0m\u001b[0mmu\u001b[0m\u001b[0;34m**\u001b[0m\u001b[0;36m2\u001b[0m\u001b[0;34m)\u001b[0m\u001b[0;34m.\u001b[0m\u001b[0mreal\u001b[0m \u001b[0;34m*\u001b[0m \u001b[0mphi\u001b[0m\u001b[0;34m**\u001b[0m\u001b[0;36m2\u001b[0m\u001b[0;34m)\u001b[0m\u001b[0;34m/\u001b[0m\u001b[0;36m2\u001b[0m \u001b[0;34m+\u001b[0m \u001b[0;34m(\u001b[0m\u001b[0mxlambda\u001b[0m\u001b[0;34m/\u001b[0m\u001b[0;36m4\u001b[0m\u001b[0;34m)\u001b[0m \u001b[0;34m*\u001b[0m \u001b[0;34m(\u001b[0m\u001b[0mphi\u001b[0m\u001b[0;34m**\u001b[0m\u001b[0;36m2\u001b[0m\u001b[0;34m)\u001b[0m\u001b[0;34m**\u001b[0m\u001b[0;36m2\u001b[0m\u001b[0;34m\u001b[0m\u001b[0;34m\u001b[0m\u001b[0m\n\u001b[0;32m----> 2\u001b[0;31m \u001b[0mphis\u001b[0m \u001b[0;34m=\u001b[0m \u001b[0mnp\u001b[0m\u001b[0;34m.\u001b[0m\u001b[0mlinspace\u001b[0m\u001b[0;34m(\u001b[0m\u001b[0;34m-\u001b[0m\u001b[0;36m10\u001b[0m\u001b[0;34m,\u001b[0m \u001b[0;36m10\u001b[0m\u001b[0;34m,\u001b[0m \u001b[0;36m100\u001b[0m\u001b[0;34m)\u001b[0m\u001b[0;34m\u001b[0m\u001b[0;34m\u001b[0m\u001b[0m\n\u001b[0m\u001b[1;32m      3\u001b[0m \u001b[0mmu\u001b[0m  \u001b[0;34m=\u001b[0m \u001b[0;36m6\u001b[0m\u001b[0;34m;\u001b[0m \u001b[0mxlambda\u001b[0m \u001b[0;34m=\u001b[0m \u001b[0;36m1\u001b[0m\u001b[0;34m\u001b[0m\u001b[0;34m\u001b[0m\u001b[0m\n\u001b[1;32m      4\u001b[0m \u001b[0mplt\u001b[0m\u001b[0;34m.\u001b[0m\u001b[0msubplot\u001b[0m\u001b[0;34m(\u001b[0m\u001b[0;36m1\u001b[0m\u001b[0;34m,\u001b[0m \u001b[0;36m2\u001b[0m\u001b[0;34m,\u001b[0m \u001b[0;36m1\u001b[0m\u001b[0;34m)\u001b[0m\u001b[0;34m;\u001b[0m \u001b[0mplt\u001b[0m\u001b[0;34m.\u001b[0m\u001b[0mplot\u001b[0m\u001b[0;34m(\u001b[0m\u001b[0mphis\u001b[0m\u001b[0;34m,\u001b[0m \u001b[0mhiggs_potential\u001b[0m\u001b[0;34m(\u001b[0m\u001b[0mphis\u001b[0m\u001b[0;34m,\u001b[0m \u001b[0mmu\u001b[0m\u001b[0;34m,\u001b[0m \u001b[0mxlambda\u001b[0m\u001b[0;34m)\u001b[0m\u001b[0;34m)\u001b[0m\u001b[0;34m;\u001b[0m\u001b[0;34m\u001b[0m\u001b[0;34m\u001b[0m\u001b[0m\n\u001b[1;32m      5\u001b[0m \u001b[0mplt\u001b[0m\u001b[0;34m.\u001b[0m\u001b[0msubplot\u001b[0m\u001b[0;34m(\u001b[0m\u001b[0;36m1\u001b[0m\u001b[0;34m,\u001b[0m \u001b[0;36m2\u001b[0m\u001b[0;34m,\u001b[0m \u001b[0;36m2\u001b[0m\u001b[0;34m)\u001b[0m\u001b[0;34m;\u001b[0m \u001b[0mplt\u001b[0m\u001b[0;34m.\u001b[0m\u001b[0mplot\u001b[0m\u001b[0;34m(\u001b[0m\u001b[0mphis\u001b[0m\u001b[0;34m,\u001b[0m \u001b[0mhiggs_potential\u001b[0m\u001b[0;34m(\u001b[0m\u001b[0mphis\u001b[0m\u001b[0;34m,\u001b[0m \u001b[0mmu\u001b[0m\u001b[0;34m*\u001b[0m\u001b[0;34m(\u001b[0m\u001b[0;36m1j\u001b[0m\u001b[0;34m)\u001b[0m\u001b[0;34m,\u001b[0m \u001b[0mxlambda\u001b[0m\u001b[0;34m)\u001b[0m\u001b[0;34m)\u001b[0m\u001b[0;34m;\u001b[0m\u001b[0;34m\u001b[0m\u001b[0;34m\u001b[0m\u001b[0m\n",
      "\u001b[0;31mNameError\u001b[0m: name 'np' is not defined"
     ]
    }
   ],
   "source": [
    "higgs_potential = lambda phi, mu, xlambda : ((mu**2).real * phi**2)/2 + (xlambda/4) * (phi**2)**2\n",
    "phis = np.linspace(-10, 10, 100)\n",
    "mu  = 6; xlambda = 1\n",
    "plt.subplot(1, 2, 1); plt.plot(phis, higgs_potential(phis, mu, xlambda));\n",
    "plt.subplot(1, 2, 2); plt.plot(phis, higgs_potential(phis, mu*(1j), xlambda));"
   ]
  },
  {
   "cell_type": "markdown",
   "metadata": {
    "slideshow": {
     "slide_type": "slide"
    }
   },
   "source": [
    "El el caso $\\mu^2 >0$ el potencial tiene un mínimo en $v = 0$\n",
    "\n",
    "Mientras que el caso $\\mu^2 <0$ tiene mínimos en:\n",
    "\n",
    "$$\n",
    "v = \\pm  \\sqrt{\\frac{-\\mu^2}{\\lambda}}\n",
    "$$\n",
    "\n",
    "a $v$ denomina **valor esperado en el vacío** (*vev*).\n",
    "\n"
   ]
  },
  {
   "cell_type": "markdown",
   "metadata": {
    "slideshow": {
     "slide_type": "slide"
    }
   },
   "source": [
    "Si consideramos un campo escalar complejo, obtenemos el potencial del sobrero\n",
    "\n",
    "En el caso de que $\\phi$ sea un complejo obtenemos la curva del potencial conocida como sobrero mexicano:\n",
    "\n",
    "| | \n",
    "| :--: |\n",
    "|  <img src=\"./imgs/sm_mexican_hat.png\" width = 300 align=\"center\"> |\n",
    "| potencial del campo complejo de Higgs $V(\\phi)$ [Wikipedia]|\n",
    "\n",
    "\n",
    "La elección de un mínimo de los infinitos se conoce como **rotura espontánea de simetría**"
   ]
  },
  {
   "cell_type": "markdown",
   "metadata": {
    "slideshow": {
     "slide_type": "slide"
    }
   },
   "source": [
    "Para dotar de masa a los bosones $W^\\pm, Z$ tendríamos que extender este mecanismo a las interacciones eletro-débiles.\n",
    "\n",
    "Pero aún así quedan dudas por responder:\n",
    "\n",
    "  * ¿Por qué esa interacción del campo de higgs consigo mismo¿ ¿Por qué el potencial del sobrero mexicano?\n",
    "  \n",
    "  * ¿Es el Higgs fundamental?"
   ]
  },
  {
   "cell_type": "markdown",
   "metadata": {},
   "source": [
    "\n",
    "## La teoría electrodébil en detalle\n",
    "\n",
    "El Modelo Estandard se desarrolló en los 60's por A. Salam, S. Weinberg y S. Glashow.\n",
    "\n",
    "Establece la unificación de las fuerzas débil y electromagnética en la fuerza electrodébil.\n",
    "\n",
    "El modelo incluye para ser coherente las fuerzas electrodébil y fuerte.\n",
    "\n",
    "Está basado en toerías gauge locales."
   ]
  },
  {
   "cell_type": "markdown",
   "metadata": {
    "slideshow": {
     "slide_type": "slide"
    }
   },
   "source": [
    "El SM establece la invariancia respecto a U(1)$_Y$ SU(2)$_L$ SU(3)$_C$\n",
    "\n",
    "Donde $Y$ es la hipercarga débil, $L$ es la quiralidad de los fermiones, y $C$ el color. El SM introduce para el grupo SU(2)$_L$ el isoespín débil, $I_W$. \n",
    "\n",
    "Consideraremos aquí solo la teoría electro-débil, sin el color, pero el tratamiento para éste es similar. \n",
    "\n",
    "Cada fermión tendrá asociada una carga de hypercarga, $Y$, e isospín débil, $I_w$."
   ]
  },
  {
   "cell_type": "markdown",
   "metadata": {
    "slideshow": {
     "slide_type": "slide"
    }
   },
   "source": [
    "### Hypercarga e isoespín débil.\n",
    "\n",
    "El SM organiza las partículas dependiendo de su quiralidad.\n",
    "\n",
    "Recordemos que todo espinor de Dirac se puede descomponer en parte a izquierdad y derechas de quiralidad.\n",
    "\n",
    "Cada generación se agrupa en un duplete a izquierdad para leptones, esto es $I_W = 1/2$, y quarks y singletes a derechas, $I_W = 0$:\n",
    "\n",
    "$$\n",
    "\\begin{pmatrix} \\nu_{eL} \\\\ e_L \\end{pmatrix}, \\, e_R; \\;\\;\\;  \n",
    "\\begin{pmatrix} u_L \\\\ d'_L \\end{pmatrix}, \\, u_R, d'_r. \n",
    "$$\n",
    "\n",
    "De igual forma para las otras dos generaciones.\n",
    "\n",
    "¡Notar que no existe el siglete a derechas para los neutrinos!"
   ]
  },
  {
   "cell_type": "markdown",
   "metadata": {
    "slideshow": {
     "slide_type": "slide"
    }
   },
   "source": [
    "Los dupletes tienen tercera componente de isoespín débil, $I^3_W$:\n",
    "\n",
    "$$\n",
    "I^3_W(\\nu_{eL}) = 1/2, \\;\\; I^3_W(e_L) = -1/2; \\\\\n",
    "I^3_W(u_L) = 1/2, \\;\\; I^3_W(d'_L) = -1/2 \n",
    "$$\n",
    "\n",
    "Por ejemplo, para el $\\nu_e$:\n",
    "\n",
    "$$\n",
    "\\frac{1}{2}\\sigma ^2 \\begin{pmatrix} \\nu_{eL} \\\\ 0 \\end{pmatrix} = \\frac{1}{2} \n",
    "\\begin{pmatrix} 1 & 0 \\\\ 0  & -1 \\end{pmatrix}\n",
    "\\begin{pmatrix} \\nu_{eL} \\\\ 0 \\end{pmatrix} = \n",
    "+ \\frac{1}{2} \\begin{pmatrix} \\nu_{eL} \\\\ 0 \\end{pmatrix}\n",
    "$$\n",
    "\n",
    "Mientras que los singletes no tienen tercera componente de isoespín débil:\n",
    "\n",
    "$$\n",
    "I^3_W (e_R) = I^3_W(u_R) = I^3_W(d'_R) = 0\n",
    "$$"
   ]
  },
  {
   "cell_type": "markdown",
   "metadata": {
    "slideshow": {
     "slide_type": "slide"
    }
   },
   "source": [
    "Definimos al hypercarga débil, $Y_W$, como:\n",
    "    \n",
    "$$\n",
    "Y_W \\equiv 2 (Q - I^3_W)\n",
    "$$\n",
    "\n",
    "Lo que nos da\n",
    "\n",
    "$$\n",
    "Y_W(\\nu_{eL}) = -1, \\;\\; Y_W(e_L) = -1; \\\\\n",
    "Y_W(u_L) = 1/2, \\;\\; I^3_W(d'_L) = -1/2 \n",
    "$$\n"
   ]
  },
  {
   "cell_type": "markdown",
   "metadata": {
    "slideshow": {
     "slide_type": "slide"
    }
   },
   "source": [
    "### Interacciones débiles y electromagnéticas\n",
    "\n",
    "\n",
    "El campo del fermión debe ser invariante bajo transformaciones locales\n",
    "\n",
    "   * una fase local, $\\theta(x)$, del grupo U(1), relacionada con la hypercarga débil $Y$, cuyo acoplo denotamos por $g_Y$,\n",
    "   \n",
    "   * una triple fase local, $\\alpha(x)_i$ con $i=1, 2, 3$ del grupo SU(2), asociada al isosespín débil SU(2)$_L$, cuyo acoplo es $g_W$.\n",
    "\n",
    "$$\n",
    "\\Psi'(x) = e^{ig' \\frac{\\theta(x)}{2}} \\, e^{ig \\bf{T} \\cdot {\\bf \\alpha}(x)} \\,\\, \\Psi(x)\n",
    "$$\n",
    "\n",
    "donde ${\\bf T}$ son los generadores de SU(2), esto es la matrices de Pauli, $T_i = \\frac{\\sigma_i}{2}$ con $i=1, 2, 3$. \n",
    "\n",
    "El factor $1/2$ en el primer exponente es por conveniencia."
   ]
  },
  {
   "cell_type": "markdown",
   "metadata": {
    "slideshow": {
     "slide_type": "slide"
    }
   },
   "source": [
    "\n",
    "Imponer invariance gauge en este grupo equivale a extender la derivada covariante generalizada:\n",
    "\n",
    "$$\n",
    "D_\\mu \\equiv \\partial_\\mu - \\frac{g'}{2} B_\\mu - g \\frac{\\sigma}{2} \\cdot {\\bf W}_\\mu\n",
    "$$\n",
    "\n",
    "Donde:\n",
    "\n",
    "  * $B_\\mu$ es el campo vectorial asociado al grupo U(1)\n",
    "\n",
    "  * ${\\bf W}_\\mu$ son tres campos vectoriales, $W^i_\\mu$, con $i=1, 2, 3$, asociados al grupo SU(2)"
   ]
  },
  {
   "cell_type": "markdown",
   "metadata": {
    "slideshow": {
     "slide_type": "subslide"
    }
   },
   "source": [
    "### Inciso\n",
    "\n",
    "La siguiente tabla muestra los generadores, los campos y el acoplo de los grupos de simetría de SM. \n",
    "\n",
    "\n",
    "\n",
    "|      |   hypercarga débil   | ---- isoespín débil ---- |   ----- color  ----- |\n",
    "| :--: | :--:                 | :--:           | :--:     |\n",
    "| grupo| U$_Y$(1) | SU(2)$_L$ | SU(3) |\n",
    "| generadores | $\\frac{1}{2}$ | $T^i = \\frac{1}{2} \\sigma^i$ | $\\frac{1}{2}\\lambda^j$ |\n",
    "| mediadores | $B_\\mu$ | $W^i_\\mu$| $a^j_\\mu$ |\n",
    "| acoplos    | $g'$ | $g$| $g_S$ |\n",
    "\n",
    "donde $\\sigma^i$ son las tres matrices de Pauli y $\\lambda^j$ las 8 matrices de Gellman.\n",
    "\n",
    "$g_s$ es el acoplo fuerte y $a^j_\\mu$ los campos vectoriales de los ocho gluones, $j = 1, \\dots, 8$.\n"
   ]
  },
  {
   "cell_type": "markdown",
   "metadata": {
    "slideshow": {
     "slide_type": "slide"
    }
   },
   "source": [
    "La derivada covariante generalizada nos dara lugar a la interacción de cuatro corrientes que se acopplan con los cuatro campos vectoriales $B_\\mu, {\\bf W}_\\mu$:\n",
    "\n",
    "\n",
    "$$\n",
    "(j^\\mu_{1W} W^1_\\mu + j^\\mu_{2W} W^2_\\mu + j^\\mu_{3W} W^3_\\mu) +  j^\\mu_Y B_\\mu\n",
    "$$\n",
    "\n",
    "Donde (con $i=1, 2, 3$):\n",
    "\n",
    "$$\n",
    "j^\\mu_{iW} = g_W \\bar{\\Psi} \\frac{\\sigma_i}{2} \\gamma^\\mu \\Psi, \\;\\;\\; j^\\mu_Y = \\frac{g_Y}{2} \\bar{\\Psi} \\gamma^\\mu \\Psi\n",
    "$$\n",
    "\n",
    "Vamos a relacionar estar corrientes con las corrientes físicas: la del electromagnetismo y la de las corrientes débiles.\n",
    "\n"
   ]
  },
  {
   "cell_type": "markdown",
   "metadata": {},
   "source": [
    "\n",
    "Si reescribimos los campos, y las corrientes:\n",
    "\n",
    "$$\n",
    "W^\\pm_\\mu = \\frac{1}{\\sqrt{2}}(W^1_\\mu \\mp i W^2_\\mu), \\;\\; j^\\mu_{\\pm} = \\frac{g_W}{\\sqrt{2}} (j^\\mu_1 \\pm i j^\\mu_2)\n",
    "$$\n",
    "\n",
    "Obtenemos:\n",
    "\n",
    "$$\n",
    " \\left(j^\\mu_+ W^+_\\mu + j^\\mu_- W^-_\\mu \\right) + j^\\mu_3 W^3_\\mu +  j^\\mu_Y B_\\mu\n",
    "$$\n",
    "\n",
    "\n",
    "Donde los dos primeros sumandos corresponden a la interacción de las corrientes débiles cargadas con los bosones $W^\\pm$."
   ]
  },
  {
   "cell_type": "markdown",
   "metadata": {
    "slideshow": {
     "slide_type": "subslide"
    }
   },
   "source": [
    "\n",
    "Podemos reescribir explícitamente las corrientes débiles cargadas:\n",
    "\n",
    "$$\n",
    "j^\\mu_{\\pm} = \\frac{g_W}{\\sqrt{2}} \\bar{\\Psi} \\sigma^\\pm \\Psi\n",
    "$$\n",
    "con:\n",
    "$$\n",
    "\\sigma^\\pm = \\frac{\\sigma_1}{2} \\pm i \\frac{\\sigma_2}{2}, \\;\\;\n",
    "\\sigma^+ = \\begin{pmatrix} 0 & 1 \\\\ 0 & 0 \\end{pmatrix}, \\;\\;\n",
    "\\sigma^- = \\begin{pmatrix} 0 & 0 \\\\ 1 & 0 \\end{pmatrix}\n",
    "$$"
   ]
  },
  {
   "cell_type": "markdown",
   "metadata": {
    "slideshow": {
     "slide_type": "slide"
    }
   },
   "source": [
    "Para más claridad escribimos expresamente la corriente positiva, la que se acopla a $W^+$, para los leptones de la primera familia:\n",
    "\n",
    "$$\n",
    " j^\\mu_+ = \\begin{pmatrix} \\bar{u}(\\nu_e)_{L}, \\bar{u}(e)_L \\end{pmatrix} \\, \\gamma^\\mu \\frac{1}{2}\\left(\\sigma^1 + i \\sigma^2 \\right)  \\, \\begin{pmatrix} \\bar{u}(\\nu_e)_{L} \\\\ \\bar{u}(e)_L \\end{pmatrix} = \\\\\n",
    "\\begin{pmatrix} \\bar{u}(\\nu_e)_{L}, \\bar{u}(e)_L \\end{pmatrix} \\, \\gamma^\\mu \\sigma^+  \\, \\begin{pmatrix} \\bar{u}(\\nu_e)_{L} \\\\ \\bar{u}(e)_L \\end{pmatrix} = \n",
    " \\begin{pmatrix} \\bar{u}(\\nu_e)_L, \\bar{u}(e)_L \\end{pmatrix} \\, \\gamma^\\mu \\begin{pmatrix} 0 & 1 \\\\ 0 & 0 \\end{pmatrix} \\begin{pmatrix} \\bar{u}(\\nu_e)_L \\\\ \\bar{e}_L \\end{pmatrix} = \\\\\n",
    " \\bar{u}(\\nu_e)_L \\, \\gamma^\\mu \\, u(e)_L = \n",
    " \\bar{u}(\\nu_e) \\, \\gamma^\\mu \\frac{1}{2} (I - \\gamma^5) \\, u(e)\n",
    "$$\n",
    "\n",
    "donde $u(\\nu_e), u(e)$ son los espinores de Dirac del $\\nu_e$ y $e$ respectivamente.\n",
    "\n",
    "Y de igual forma procederíamos para $j^\\mu_-$"
   ]
  },
  {
   "cell_type": "markdown",
   "metadata": {
    "slideshow": {
     "slide_type": "slide"
    }
   },
   "source": [
    "También por claridad podemos expresar la corriente $j^\\mu_3$:\n",
    "    \n",
    "$$\n",
    "j^\\mu_3 =  \\begin{pmatrix} \\bar{u}(\\nu_e)_{L}, \\bar{u}(e)_L \\end{pmatrix} \\, \\gamma^\\mu \\frac{1}{2} \\sigma^2  \\, \\begin{pmatrix} u(\\nu_e)_{L} \\\\ u(e)_L \\end{pmatrix} = \\\\\n",
    "\\begin{pmatrix} \\bar{u}(\\nu_e)_L, \\bar{u}(e)_L \\end{pmatrix} \\, \\gamma^\\mu \\frac{1}{2}\\begin{pmatrix} 1 & 0 \\\\ 0 & -1 \\end{pmatrix} \\begin{pmatrix} u(\\nu_e)_L \\\\ u(e)_L) \\end{pmatrix} = \\\\\n",
    "\\frac{1}{2} \\bar{u}(\\nu_e)_L \\gamma^\\mu u(\\nu_e)_L - \\frac{1}{2} \\bar{u}(e)_L \\gamma^\\mu u(e)_L = \\\\\n",
    "I^3_W(\\nu_{eL}) \\,\\,  \\bar{u}(\\nu_e)_L \\gamma^\\mu u(\\nu_e)_L + I^3_W(e_L) \\,\\, \\bar{u}(e)_L \\gamma^\\mu u(e)_L\n",
    "$$\n",
    "    \n",
    "Notar que los factores en cada sumando corresponde al valor de su tercera componente de isospín débil, esto es: $I^3_W(\\nu_{eL}) = 1/2, \\; I^3_W(e_L) = -1/2$."
   ]
  },
  {
   "cell_type": "markdown",
   "metadata": {
    "slideshow": {
     "slide_type": "slide"
    }
   },
   "source": [
    "#### Las corrientes neutras y electromagnéticas\n",
    "\n",
    "Para recuperar la interacción de las corrientes electromagnéticas con el fotón, la teoría electrodébil establece que existe una rotación entre los campos $B_\\mu, W^3_\\mu$ y los campos físicos $A_\\mu, Z_\\mu$. Donde $A$ es el fotón y $Z$ el bosón $Z$ neutro.\n",
    "\n",
    "$$\n",
    "A_\\mu = B_\\mu \\cos \\theta_W  + W^3_\\mu \\sin \\theta_W +\\\\\n",
    "Z_\\mu = -B_\\mu \\sin \\theta_W + W^3_\\mu \\cos \\theta_W\n",
    "$$\n",
    "\n",
    "donde $\\theta_W$ se denomina ángulo de Weinberg.\n",
    "\n"
   ]
  },
  {
   "cell_type": "markdown",
   "metadata": {},
   "source": [
    "Si reescribimos los dos sumandos anteriores\n",
    "\n",
    "$$\n",
    "j^\\mu_3 W^3_\\mu + j^\\mu_Y B_\\mu =  \\\\\n",
    "( \\sin \\theta_W j^\\mu_3 +  \\cos \\theta_W j^\\mu_Y) \\, A_\\mu + \n",
    "(\\cos \\theta_W j^\\mu_3 - \\sin \\theta_W j^\\mu_Y) \\, Z_\\mu \n",
    "$$\n",
    "\n",
    "En este caso, el primer sumando, corresponde a las interacciones electromagnéticas, donde la intensidad del acoplo es $e$ y $Q(f)$, la carga en unidades de $e$ del fermión, por ejemplo $Q(e) = -1$ para el electrón.\n",
    "\n",
    "$$\n",
    "j^\\mu_{EL} = Q(f) \\, e \\, \\Psi \\gamma^\\mu \\Psi\n",
    "$$\n"
   ]
  },
  {
   "cell_type": "markdown",
   "metadata": {},
   "source": [
    "En el caso de los neutrinos, que no interacciona electromagnéticamente, su corriente EL es nula:\n",
    "\n",
    "$$\n",
    "\\left[ I^3_W(\\nu_{eL}) \\, g_W \\sin \\theta_W + Y_W(\\nu_{eL}) \\, \\frac{g_Y}{2} \\cos \\theta_W  \\right] \\, \\bar{u}(\\nu_{e})_L \\gamma^\\mu u(\\nu_e)_L = 0\n",
    "$$\n",
    "\n",
    "donde $I^3_W(\\nu_{eL})$ es la tercera componente de isospín y $Y_W(\\nu_{eL})$ la hipercarga débil del $\\nu_{eL}$. Ambos son las cargas del $\\nu_{eL}$ respecto a la tercerca componente de isospín e hypercarga débil.\n",
    "\n",
    "Como: \n",
    "$$\n",
    "I^3_W(\\nu_{eL}) = 1/2, \\;\\;\\; Y_W(\\nu_{eL}) = 2 \\, (Q(\\nu_{eL}) - I^3_W(\\nu_{eL})) = 2 \\, (0 -1/2) = -1\n",
    "$$\n",
    "\n",
    "dado que la carga del neutrino es nula, $Q(\\nu_{eL}) = 0$, obtenemos la relación:\n",
    "\n",
    "$$\n",
    "-g_W \\sin \\theta_W + g_Y \\cos \\theta_W = 0, \\;\\;\\; \\tan \\theta_W = \\frac{g_Y}{g_W}\n",
    "$$\n"
   ]
  },
  {
   "cell_type": "markdown",
   "metadata": {
    "slideshow": {
     "slide_type": "slide"
    }
   },
   "source": [
    "Las corrientes que se acoplan al fotón y al $Z$ se simplifican:\n",
    "    \n",
    "$$\n",
    "\\sin \\theta_W (j^\\mu_3 + \\frac{1}{2} j^\\mu_Y) \\, A_\\mu + \\frac{1}{\\cos \\theta_W} (j^\\mu_3 \\cos^2 \\theta_W- \\sin^2 \\theta_W j^\\mu_Y) \\, Z_\\mu\n",
    "$$\n",
    "\n",
    "Dada la definición que hemos hecho de hypercarga $Y = 2(Q-I^3_W)$, vemos que efectivamente el primer sumando para un fermión, f, que tiene carga eléctrica Q:\n",
    "\n",
    "$$\n",
    "Q  \\, g_W \\sin \\theta_W \\,\\, \\bar{\\Psi} \\gamma^\\mu \\Psi  = Q \\, e \\, \\bar{\\Psi} \\, \\gamma^\\mu \\Psi\n",
    "$$\n",
    "\n",
    "Se cumple la relación:\n",
    "\n",
    "$$\n",
    "g_W \\sin \\theta_W = e = \\sqrt{4 \\pi \\alpha}\n",
    "$$\n",
    "\n",
    "donde $e$ es la carga eléctrica, y $\\alpha$ la constante de estructura fina."
   ]
  },
  {
   "cell_type": "markdown",
   "metadata": {
    "slideshow": {
     "slide_type": "slide"
    }
   },
   "source": [
    "Si atendemos a la interacción con el $Z$, si sustituimos $j^\\mu_Y = 2 (j^\\mu_Q - j^\\mu_3)$, obtenemos:\n",
    "\n",
    "$$\n",
    "\\frac{g_W}{\\cos \\theta_W} (j^\\mu_3 - Q \\, \\sin^2 \\theta_W j^\\mu_Q) \\, Z_\\mu\n",
    "$$\n",
    "\n",
    "Sea por ejemplo el neutrino como su carga es nula $Q(\\nu_{eL}) = 0$ y su tercera componente de isoespín débil, $I^3_W(\\nu_{eL}) = 1/2$, obtenemos:\n",
    "\n",
    "$$\n",
    "\\frac{g_W}{\\cos \\theta_W} \\frac{1}{2} \\; \\bar{u}(\\nu_e)_L \\gamma^\\mu u(\\nu_e)_L \\, Z_\\mu \n",
    "$$\n",
    "\n",
    "Podemos identificar la constante de acoplo $g_Z$:\n",
    "\n",
    "$$\n",
    "g_Z = \\frac{g_W}{ \\cos \\theta_W}\n",
    "$$\n"
   ]
  },
  {
   "cell_type": "markdown",
   "metadata": {
    "slideshow": {
     "slide_type": "slide"
    }
   },
   "source": [
    "De forma general para un fermión obtendremos para sus componentes a izquierdas y derechas:\n",
    "\n",
    "$$\n",
    "g_Z \\left[ \\left( I^3_W - Q \\sin^2 \\theta_W \\right) \\bar{u}_L \\gamma^\\mu u_L - Q \\sin^2 \\theta_W \\bar{u}_R \\gamma^\\mu u_R \\right] \n",
    "$$\n",
    "\n",
    "Donde $I^3_W$ es la tercera componente de isoespín débil del fermión a izquierdas y $Q$ la carga del fermión en unidades de $e$."
   ]
  },
  {
   "cell_type": "markdown",
   "metadata": {},
   "source": [
    "\n",
    "Que podemos reescribir:\n",
    "\n",
    "$$\n",
    "g_Z \\left[ \\left( I^3_W - Q \\sin^2 \\theta_W \\right) \\bar{u} \\gamma^\\mu \\frac{1}{2} (I - \\gamma^5) u - Q \\sin^2 \\theta_W \\bar{u} \\gamma^\\mu \\frac{1}{2}(I + \\gamma^5) u \\right] = \\\\\n",
    "g_Z \\; \\bar{u} \\gamma^\\mu \\left[ \\left( I^3_W - 2 Q(f) \\sin^2 \\theta_W \\right) I - I^3_W \\gamma^5 \\right] u\n",
    "$$\n",
    "\n",
    "Donde identificamos los factores vectorial y axial de las interacciones neutras de un fermión:\n",
    "\n",
    "$$\n",
    "c_V = I^3_W - 2 Q \\sin^2 \\theta_W, \\;\\;\\; c_A = I^3_W\n",
    "$$"
   ]
  },
  {
   "cell_type": "markdown",
   "metadata": {
    "slideshow": {
     "slide_type": "slide"
    }
   },
   "source": [
    "La siguiente tabla indica el valor $I^3_W, Q, c_V, c_A$ de los fermiones de la primera generación:\n",
    "\n",
    "| fermión | --- $I^3_W$ --- | --- $Q$ --- | --------- $c_V$ --------- | --- $c_A$ --- |\n",
    "| :--:    | :--:    | :--: | :--:  | :--: |\n",
    "| $\\nu_e$ | 1/2     | 0   | 1/2     | 1/2  |\n",
    "| $e$     | -1/2    | -1  | $-1/2 + s^2$ | -1/2|\n",
    "| $u$     | 1/2     | +2/3  | $1/2 - (2/3) s^2$ | 1/2 |\n",
    "| $d$     | -1/2    | -1/3 | $-1/2 + (1/3)s^2$ | -1/2|\n",
    "\n",
    "\n",
    "donde $s^2_W = \\sin^2 \\theta_W$"
   ]
  },
  {
   "cell_type": "markdown",
   "metadata": {
    "slideshow": {
     "slide_type": "slide"
    }
   },
   "source": [
    "y para los antifermiones:\n",
    "\n",
    "| antifermión | --- $I^3_W$ --- | --- $Q$ --- | ---------- $c_V$ ---------- | --- $c_A$ --- |\n",
    "| :--:    | :--:    | :--: | :--:  | :--: |\n",
    "| $e^+$ | 1/2     | +1   | $1/2 - s^2$      | 1/2  |\n",
    "| $\\bar{\\nu}_e$  | -1/2  | 0  | -1/2 | -1/2|\n",
    "| $\\bar{d}$     | 1/2     | +1/3  | $1/2 - (1/3) s^2$ | 1/2 |\n",
    "| $\\bar{u}$     | -1/2    | -2/3 | $-1/2 + (2/3) s^2$ | -1/2|"
   ]
  },
  {
   "cell_type": "markdown",
   "metadata": {
    "slideshow": {
     "slide_type": "slide"
    }
   },
   "source": [
    "### Las corrientes físicas: electromagnéticas, y débiles cargadas y neutras\n",
    "\n",
    "Recordemos pues la **relaciones entre las constantes de acoplo**:\n",
    "    \n",
    "$$\n",
    "e = g_W \\sin \\theta_W = g_Z \\sin \\theta_W \\cos \\theta_W\n",
    "$$\n",
    "    \n",
    "Esto es $g_W, g_Z$ vienen dadas por $e$ y el ángulo de Weinberg $\\theta_W$.\n",
    "\n",
    "Le valor $\\theta_W \\simeq 33^o$, se ha determinado de numerosas maneras, (ver después)\n",
    "\n",
    "$$\n",
    "\\sin^2 \\theta_W = 0.23146 \\pm 0.000012\n",
    "$$"
   ]
  },
  {
   "cell_type": "markdown",
   "metadata": {
    "slideshow": {
     "slide_type": "slide"
    }
   },
   "source": [
    "La parte electródebil del SM, en particular la interacción con el $Z$, queda determinada por tres parámetros:\n",
    "    \n",
    "$$\n",
    "e, \\sin \\theta_W, M_W\n",
    "$$\n",
    "    \n",
    "y experimentalmente por:\n",
    "    \n",
    "$$\n",
    "\\alpha, G_F, M_Z\n",
    "$$\n",
    "\n",
    "la constante de estructura fina, $\\alpha$, la constante de Fermi, $G_F$ y la masa del bosón, $M_Z$"
   ]
  },
  {
   "cell_type": "markdown",
   "metadata": {
    "slideshow": {
     "slide_type": "slide"
    }
   },
   "source": [
    "#### Las corrientes electromagnéticas y el vértice del fotón\n",
    "\n",
    "\n",
    "Las corrientes electromagnéticas no cambian la carga, ni el sabor y conservan paridad.\n",
    "\n",
    "| |\n",
    "|:--:|\n",
    "|<img src=\"./imgs/sm_emcur.png\" width = 250 align=\"center\">|\n",
    "| Corriente electromagnética|\n",
    "\n",
    "En el vértice con un fotón, introducimos (en la reglas de Feynman) la constante de acoplo $e$ y la carga, $Q$ del fermión:\n",
    "\n",
    "$$\n",
    "A: \\;\\;\\; Q e \\, \\bar{u} \\gamma^\\mu u = Q e \\, \\left( \\bar{u}_L \\gamma^\\mu u_L + \\bar{u}_R \\gamma^\\mu u_R \\right)\n",
    "$$"
   ]
  },
  {
   "cell_type": "markdown",
   "metadata": {
    "slideshow": {
     "slide_type": "slide"
    }
   },
   "source": [
    "#### Las corrientes cargadas y el vértice del $W$\n",
    "\n",
    "Las corrientes cargadas cambian el sabor, la carga en una unidad, y la tercerca componente de isoespín.\n",
    "\n",
    "En las corrientes mediadas por $W^+$ suben una unidad $I^3_W$, y $W^-$ lo bajan.\n",
    "\n",
    "Solo intervienen los estados de quiralidad a izquierdas para los fermiones.\n",
    "\n",
    "| |\n",
    "|:--:|\n",
    "|<img src=\"./imgs/sm_wcur.png\" width = 350 align=\"center\">|\n",
    "| Corriente cargada|"
   ]
  },
  {
   "cell_type": "markdown",
   "metadata": {
    "slideshow": {
     "slide_type": "slide"
    }
   },
   "source": [
    "\n",
    "En el vértice con un $W^+$ introducimos la constante de acoplo $g_W/\\sqrt{2}$ entre dos fermiones de arriba, $f_\\uparrow$ y abajo $f_\\downarrow$ del duplete de quiralidad a izquierdas:\n",
    "\n",
    "$$\n",
    "W^+: \\;\\; \\frac{g_W}{\\sqrt{2}} \\, \\bar{u}(f_\\uparrow)_L \\gamma^\\mu u(f_\\downarrow)_L = \\frac{g_W}{\\sqrt{2}} \\bar{u}(f_\\uparrow) \\gamma^\\mu \\frac{1}{2}(I-\\gamma^5) u(f_\\downarrow), \\\\\n",
    "W^-: \\;\\; \\frac{g_W}{\\sqrt{2}} \\, \\bar{u}(f_\\downarrow)_L \\gamma^\\mu u(f_\\uparrow)_L = \\frac{g_W}{\\sqrt{2}} \\bar{u}(f_\\downarrow) \\gamma^\\mu \\frac{1}{2}(I-\\gamma^5) u(f_\\uparrow),\n",
    "$$\n"
   ]
  },
  {
   "cell_type": "markdown",
   "metadata": {
    "slideshow": {
     "slide_type": "slide"
    }
   },
   "source": [
    "De otra forma podemos decir del vértice de las corrientes cargadas:\n",
    "    \n",
    "  * tiene la constante de acoplo $g_W/\\sqrt{2}$\n",
    "  \n",
    "  * solo afectan a los espinores de izquierdas de los fermiones, o equivalente, aparece un factor $\\frac{1}{2} (I-\\gamma^5)$\n",
    "  \n",
    "  * suben o bajan la tercera componente o aparece como factor la matriz $\\sigma^\\pm = \\frac{1}{2}(\\sigma^1 \\pm i \\sigma^2)$ que media entre los estados de los dupletes"
   ]
  },
  {
   "cell_type": "markdown",
   "metadata": {
    "slideshow": {
     "slide_type": "subslide"
    }
   },
   "source": [
    "Veámoslo de forma práctica para  el vértice de un $W^+$ con un $e$ y $\\nu_e$:\n",
    "\n",
    "$$\n",
    "\\frac{g_W}{\\sqrt{2}} \\begin{pmatrix}\\bar{u}(\\nu_e), & 0 \\end{pmatrix} \\gamma^\\mu \\frac{1}{2} (I - \\gamma^5) \\sigma^+ \n",
    "\\begin{pmatrix} 0 \\\\ u(e)\\end{pmatrix} = \\frac{g_W}{\\sqrt{2}} \\bar{u}(\\nu_e)_L \\gamma^\\mu u(e)_L \n",
    "$$"
   ]
  },
  {
   "cell_type": "markdown",
   "metadata": {
    "slideshow": {
     "slide_type": "slide"
    }
   },
   "source": [
    "#### El vértice del Z\n",
    "\n",
    "Las interacciones con el $Z$ no cambian el sabor de la partícula, ni tampoco su carga eléctrica, ni su tercerca componente de isoespín débil.\n",
    "\n",
    "Pero cambia de forma no trivial la paridad.\n",
    "\n",
    "El bosón $Z$ actua diferente para la quiralidad de izquierdas y de derechas, dependiendo del fermión.\n",
    "\n",
    "| |\n",
    "|:--:|\n",
    "|<img src=\"./imgs/sm_zcur.png\" width = 350 align=\"center\">|\n",
    "| Corriente neutra|"
   ]
  },
  {
   "cell_type": "markdown",
   "metadata": {
    "slideshow": {
     "slide_type": "slide"
    }
   },
   "source": [
    "La corriente neutra con el bosón $Z$ tiene la forma:\n",
    "\n",
    "$$\n",
    "Z: \\;\\;\\; g_Z \\left( c_L \\, \\bar{u}_L \\gamma^\\mu \\bar{u}_L + c_R \\, \\bar{u}_R \\gamma^\\mu \\bar{u}_R \\right) = g_Z \\,\\bar{u} \\frac{1}{2}\\left(c_V I - c_A \\gamma^5\\right) u \n",
    "$$\n",
    "\n",
    "donde $g_Z$ es la constante de acoplo y $c_L, c_R$ los factores asociados a la parte de quiralidad.\n",
    "\n",
    "O equivalente, dos factores $c_V, c_A$, vectorial y axial."
   ]
  },
  {
   "cell_type": "markdown",
   "metadata": {
    "slideshow": {
     "slide_type": "slide"
    }
   },
   "source": [
    "En el vértice de Feynman de una iteracción con el bosón $Z$ intervendrán los factores:\n",
    "    \n",
    "   * la intensidad: $g_Z$\n",
    "   \n",
    "   * las parte de quiralidad a izquierdas: $c_L = I^3_W - Q \\sin^2 \\theta_W$, donde $Q$ es la carga eléctrica del fermión en unidades de $e$ e $I^3_W$ la tercerca componente de isoespín débil\n",
    "   \n",
    "   * la parte de quiralidad a derechas: $c_R = -Q \\sin^2 \\theta_W$"
   ]
  },
  {
   "cell_type": "markdown",
   "metadata": {
    "slideshow": {
     "slide_type": "subslide"
    }
   },
   "source": [
    "Por ejemplo para el neutrino\n",
    "\n",
    "No tiene parte a derechas, ni tampoco carga $Q(\\nu)=0$, solo $I^3_W(\\nu) = 1/2$\n",
    "\n",
    "Su componente $c_L = 1/2$ y $c_R = 0$\n",
    "\n",
    "la corriente neutra con el $Z$ será:\n",
    "    \n",
    "$$\n",
    "\\frac{g_Z}{2} \\bar{u}(\\nu_e)_L \\gamma^\\mu u(\\nu_e)_L \n",
    "$$"
   ]
  },
  {
   "cell_type": "markdown",
   "metadata": {
    "slideshow": {
     "slide_type": "subslide"
    }
   },
   "source": [
    "Mientras que para el electrón\n",
    "\n",
    "Tiene carga $Q(e)=-1$ y su parte a izquierdas $I^3_W(e_L) = -1/2$. \n",
    "\n",
    "Por lo tanto $c_L = -\\frac{1}{2} + \\sin^2 \\theta_W$ y $c_R = \\sin^2 \\theta_W$.\n",
    "\n",
    "Así la corriente neutra con el $Z$ es:\n",
    "    \n",
    "$$\n",
    "g_Z \\left(  \\left(-\\frac{1}{2} + \\sin^2 \\theta_W\\right) \\, \\bar{u}_L \\gamma^\\mu u_L  + \\sin^2 \\theta_W \\, \\bar{u}_R \\gamma^\\mu u_R \\right)\n",
    "$$"
   ]
  },
  {
   "cell_type": "markdown",
   "metadata": {
    "slideshow": {
     "slide_type": "slide"
    }
   },
   "source": [
    "De forma equivalente podemos dar las componentes vectorial y axial de las corrientes neutras:\n",
    "    \n",
    "$$\n",
    "c_V = I^3_W - Q \\sin^2 \\theta_W, \\;\\; c_A = I^3_W \n",
    "$$\n"
   ]
  },
  {
   "cell_type": "markdown",
   "metadata": {
    "slideshow": {
     "slide_type": "slide"
    }
   },
   "source": [
    "### Proceso de aniquilación\n",
    "\n",
    "En la aniquilación $e + e^+ \\to \\mu + \\mu^+$ intervienen el $\\gamma$ y el $Z$.\n",
    "\n",
    "| |\n",
    "|:--:|\n",
    "|<img src=\"./imgs/sm_gz.png\" width = 400 align=\"center\">|\n",
    "| aniquilación $e+e^+ \\to \\mu + \\mu^+$ mediada por el fotín (izda) o el $Z$ (derecha) |\n",
    "\n",
    "Recordemos los propagadores:\n",
    "\n",
    "$$\n",
    "-i\\frac{g_{\\mu\\nu}}{q^2}, \\;\\; -i\\frac{g_{\\mu\\nu}}{q^2 - m_Z^2},\n",
    "$$\n",
    "donde $m_Z = 91.2$ GeV es la masa del $Z$.\n",
    "\n",
    "QED conserva paridad y las corrientes neutras no. \n"
   ]
  },
  {
   "cell_type": "markdown",
   "metadata": {
    "slideshow": {
     "slide_type": "slide"
    }
   },
   "source": [
    "La figura muestra la sección eficaz $\\sigma(e+e^+ \\to \\mathrm{hadrons}$ con los datos de diversos experimentos y la curva teórica.\n",
    "\n",
    "Se observa que QED, la contribución del fotón, es dominante a baja energía; y la resonancia del $Z$.\n",
    "                  \n",
    "| |\n",
    "|:--:|\n",
    "|<img src=\"./imgs/sm_sigma_eeqq.png\" width = 400 align=\"center\">|\n",
    "| $\\sigma(e+e^+ \\to \\mathrm{hadrons})$ vs $\\sqrt{s}$ de [MT16.2] [LEP-SLD]|\n",
    "\n",
    "En la región donde $Z$ domine deben aparecer efectos de violación de paridad que dependerán de $\\sin^2 \\theta_W$\n",
    "                                                                                     "
   ]
  },
  {
   "cell_type": "markdown",
   "metadata": {
    "slideshow": {
     "slide_type": "slide"
    }
   },
   "source": [
    "Experimentalmente calculamos asimetrías. La asimetría *forward-backward*, $A_{FB}, $que depende de forma no trivial de $\\sin^2 \\theta_W$ y de $\\sqrt{s}$, se calcula a partir del número de eventos $N_F$ en la que el $\\mu$ va en dirección hacia delante (dada por el $e$) o *forward* y $N_B$ hacia atrás o *backward*:\n",
    "\n",
    "$$\n",
    "A_{FB} = \\frac{N_F - N_B}{N_F + N_B}\n",
    "$$\n",
    "\n",
    "| |\n",
    "|:--:|\n",
    "|<img src=\"./imgs/sm_afb.png\" width = 400 align=\"center\">|\n",
    "| Asimetría *forward-backward* $e+e^+ \\to \\mu + \\mu^+$ vs $\\sqrt{s}$ de [DELPHI]|\n",
    "\n",
    "\n",
    "En la figura se muestran la asimetría, $A_{FB}$, medida en experimento DELPHI de LEP para $e+e^+ \\to \\mu+\\mu^+$ y $e+e^+ \\to \\tau + \\tau^+$ en función de $\\sqrt{s}$ y la predicción del SM para un valor $\\sin^2\\theta_W \\simeq 0.23$."
   ]
  },
  {
   "cell_type": "markdown",
   "metadata": {
    "slideshow": {
     "slide_type": "subslide"
    }
   },
   "source": [
    "*Nota adicional*\n",
    "\n",
    "Notar que la interferencia en el elemento de Matriz, por el efecto de los propagadores, es proporcional a:\n",
    "\n",
    "$$\n",
    "\\frac{Q^2 \\alpha }{q^2} + \\frac{g^2_Z \\beta}{q^2 - m^2_Z}\n",
    "$$\n",
    "\n",
    "el sugundo sumando cambia de signo al pasar por el polo del $m_Z$. \n",
    "\n",
    "El factor $\\beta$ dependerá de las 4 posibles combinaciones de helicidad."
   ]
  },
  {
   "cell_type": "markdown",
   "metadata": {
    "slideshow": {
     "slide_type": "slide"
    }
   },
   "source": [
    "## Anchura de desintegración del $Z$\n",
    "\n",
    "El colisionador LEP $e+e^+$ que operó durante los 90's verificó con gran detalle las predicciones del SM, especialmente la física del Z.\n",
    "\n",
    "Durante un periodo LEP operó a $\\sqrt{s} = m_Z = 91$ GeV produciendo millones de $Z$.\n",
    "\n",
    "Uno de los estudios más importantes de LEP es la medición de la anchura de desintegración de $Z$."
   ]
  },
  {
   "cell_type": "markdown",
   "metadata": {
    "slideshow": {
     "slide_type": "slide"
    }
   },
   "source": [
    "### Anchura de desintegración parcial\n",
    "\n",
    "Sea la desintegración: $ Z \\to f + \\bar{f}$, a un par de fermión y antifermión.\n",
    "\n",
    "La anchura de desintegración viene dada por:\n",
    "\n",
    "$$\n",
    "\\Gamma = \\frac{p^*}{8 \\pi s} \\langle |M_{fi}|^2 \\rangle\n",
    "$$\n",
    "\n",
    "donde en este caso $\\sqrt{s} = m_Z$ y $p^* = m_z/2$, si despreciamos la masa del fermión en comparación con la del $m_Z$"
   ]
  },
  {
   "cell_type": "markdown",
   "metadata": {
    "slideshow": {
     "slide_type": "slide"
    }
   },
   "source": [
    "El cálculo del $M_{fi}$, aunque no es complicado, escapa al nivel de este curso.\n",
    "\n",
    "aunque ya sabemos que debe involucrar a la corriente neutra:\n",
    "\n",
    "$$\n",
    "g_z \\left( c_L \\bar{u}_L \\gamma^\\mu v_L + c_R \\bar{u}_R \\gamma^\\mu v_R \\right)\n",
    "$$\n",
    "\n",
    "Su valor es:\n",
    "\n",
    "$$\n",
    "\\langle |M_{fi}|^2 \\rangle = \\frac{2}{3} (c^2_L + c^2_R) g^2_Z m^2_Z\n",
    "$$\n",
    "\n"
   ]
  },
  {
   "cell_type": "markdown",
   "metadata": {
    "slideshow": {
     "slide_type": "slide"
    }
   },
   "source": [
    "La anchura parcial de desintegración $Z \\to f + \\bar{f}$ es:\n",
    "\n",
    "$$\n",
    "\\Gamma(Z \\to f + \\bar{f}) = \\frac{m_Z}{16 \\pi m^2_Z} \\frac{2}{3} (c^2_L + c^2_R) g^2_Z m^2_Z = \\frac{g^2_Z m_Z}{24 \\pi} (c^2_L + c^2_R)\n",
    "$$"
   ]
  },
  {
   "cell_type": "markdown",
   "metadata": {
    "slideshow": {
     "slide_type": "slide"
    }
   },
   "source": [
    "Por ejemplo para $\\nu_e$ como $c^2_L = 1/4$\n",
    "\n",
    "$$\n",
    "\\Gamma (Z \\to \\nu_e + \\bar{\\nu}_e) = \\frac{g^2_Z m_Z}{96 \\pi} = 166 \\; \\mathrm{MeV}\n",
    "$$"
   ]
  },
  {
   "cell_type": "markdown",
   "metadata": {
    "slideshow": {
     "slide_type": "subslide"
    }
   },
   "source": [
    "*Cuestión*: Calcula las anchuras de desintegración parciales y totales de $Z$ y sus fracciones de desintegración."
   ]
  },
  {
   "cell_type": "code",
   "execution_count": 181,
   "metadata": {
    "slideshow": {
     "slide_type": "subslide"
    }
   },
   "outputs": [
    {
     "name": "stdout",
     "output_type": "stream",
     "text": [
      "gw    0.6526\n",
      "gz    0.7403\n",
      "Gamma nue 0.1657 GeV\n"
     ]
    }
   ],
   "source": [
    "GF  = units.value(\"Fermi coupling constant\")\n",
    "s2t = units.value(\"weak mixing angle\")\n",
    "MW  = 80.34 # GeV \n",
    "MZ  = 91.19 # GeV\n",
    "g2w = 8 * MW**2 * GF /np.sqrt(2)\n",
    "g2z = g2w/(1-s2t) \n",
    "gamma_nu = g2z*MZ/(96*np.pi)\n",
    "print('gw    {:5.4f}'.format(np.sqrt(g2w)))\n",
    "print('gz    {:5.4f}'.format(np.sqrt(g2z)))\n",
    "print('Gamma nue {:5.4f} GeV'.format(gamma_nu))"
   ]
  },
  {
   "cell_type": "code",
   "execution_count": 83,
   "metadata": {
    "slideshow": {
     "slide_type": "subslide"
    }
   },
   "outputs": [
    {
     "name": "stdout",
     "output_type": "stream",
     "text": [
      "Gamma e 0.0838 GeV\n",
      "Gamma nue 0.1657 GeV\n",
      "Gamma u 0.2894 GeV\n",
      "Gamma d 0.3713 GeV\n"
     ]
    }
   ],
   "source": [
    "nc   = 3 # 3 colors for the quarks\n",
    "pars = {'e':(-0.5+s2t, s2t), 'nue': (0.5, 0), 'u' : (0.5-2*s2t/3, -2*s2t/3), 'd': (-0.5+s2t/3, s2t/3)}\n",
    "gamma = lambda cl, cr: g2z*MZ/(24*np.pi)*(cl**2 + cr**2)\n",
    "gammas = {}\n",
    "for key in pars.keys():\n",
    "    cl, cr = pars[key]\n",
    "    gammai = gamma(cl, cr)\n",
    "    gammai = nc * gammai if key in ('u', 'd') else gammai\n",
    "    comment = 'Gamma ' + key + ' {:5.4f} GeV'.format(gammai) \n",
    "    print(comment)\n",
    "    gammas[key] = gammai"
   ]
  },
  {
   "cell_type": "code",
   "execution_count": 84,
   "metadata": {
    "slideshow": {
     "slide_type": "slide"
    }
   },
   "outputs": [
    {
     "name": "stdout",
     "output_type": "stream",
     "text": [
      "Total Gamma 2.4414 GeV \n",
      "BR e 3.4 %\n",
      "BR nue 6.8 %\n",
      "BR u 11.9 %\n",
      "BR d 15.2 %\n"
     ]
    }
   ],
   "source": [
    "gamma_total = 3 * gammas['nue'] + 3 * gammas['e'] + 2 * gammas['u'] + 3 * gammas['d']\n",
    "print('Total Gamma {:5.4f} GeV '.format(gamma_total))\n",
    "for key in gammas.keys():\n",
    "    #n  = 2 if key == 'u' else 3\n",
    "    br = 100 * gammas[key]/gamma_total\n",
    "    print('BR ' + key + ' {:3.1f} %'.format(br))"
   ]
  },
  {
   "cell_type": "markdown",
   "metadata": {
    "slideshow": {
     "slide_type": "slide"
    }
   },
   "source": [
    "### Sección eficaz\n",
    "\n",
    "Aunque no la calcularemos, vamos a presentar ahora los distintos elementos que se necesitan en la sección eficaz de $e+e^+ \\to f + \\bar{f}$ en el $Z$, donde recordemos la contribución del $\\gamma$ es pequeña.\n",
    "\n",
    "Sabemos que la sección eficaz viene dada por:\n",
    "\n",
    "$$\n",
    "\\sigma = \\frac{1}{64 \\pi^2 s} \\frac{p^*_f}{p^*_i} \\int_\\Omega \\langle |M_{fi}|^2 \\rangle \\, \\mathrm{d}\\Omega\n",
    "$$\n",
    "\n",
    "Donde en este caso $p^*_i = p^*_f = m_Z/2$ si despreciamos las masas de los fermiones en comparación con $m_Z$."
   ]
  },
  {
   "cell_type": "markdown",
   "metadata": {
    "slideshow": {
     "slide_type": "slide"
    }
   },
   "source": [
    "Al estar tan próximos del polo del $Z$ debemos incluir en el propagador la parte asociada a su anchura $\\Gamma_Z$ que habitualmente despreciamos:\n",
    "\n",
    "$$\n",
    "\\frac{1}{q^2 - m^2_Z} \\to \\frac{1}{q^2 - (m_Z - i \\Gamma_Z/2)^2} \\simeq \\frac{1}{q^2 - m^2_Z +i m_z\\Gamma_Z}\n",
    "$$\n",
    "\n",
    "que al elevar al cuadrado nos da la expresión:\n",
    "\n",
    "$$\n",
    "P_Z(s) \\equiv \\left|\\frac{1}{q^2 - m^2_Z +i m_z\\Gamma_Z} \\right|^2 = \\frac{1}{(s-m^2_Z)^2 + m^2_Z \\Gamma^2_Z} \n",
    "$$"
   ]
  },
  {
   "cell_type": "markdown",
   "metadata": {
    "slideshow": {
     "slide_type": "subslide"
    }
   },
   "source": [
    "#### Inciso: sobre la anchura y masa\n",
    "\n",
    "El cálculo correcto se hace en TQC, aquí solo damos una aproximación:\n",
    "\n",
    "Si una partícula, con masa $m$, es estable su función de ondas en reposo:\n",
    "\n",
    "$$\n",
    "\\Psi \\propto e^{-imt}.\n",
    "$$\n",
    "\n",
    "Si consideramos que es inestable con una anchura $\\Gamma = 1/\\tau$, modificamos la función de onda:\n",
    "\n",
    "$$\n",
    "\\Psi \\propto e^{-imt} e ^{-\\Gamma t/2}\n",
    "$$\n",
    "\n",
    "Que es equivalente, a reemplazar:\n",
    "\n",
    "$$\n",
    "m \\to m - i \\Gamma/2\n",
    "$$"
   ]
  },
  {
   "cell_type": "markdown",
   "metadata": {
    "slideshow": {
     "slide_type": "slide"
    }
   },
   "source": [
    "el proceso $e+e^+\\to \\mu+\\mu^+$, mediado solo por el fotón, lo estudiamos ya (ver hadrones).\n",
    "\n",
    "Las distintas combinaciones de helicidad son las mismas:\n",
    "\n",
    "| | \n",
    "| :--: |\n",
    "|  <img src=\"./imgs/hadrons_eemumu_helicities_2.png\" width = 600 align=\"center\"> |\n",
    "| Las posibles combinaciones de helicidad de $e^++e \\to \\mu^+ + \\mu$ en el CM en el régimen relativista |\n",
    "\n",
    "En el elemento de matriz cuando antes nos apareció $e^2$ ahora aparecerá $g^2_Z$ y los acoplos $c_L, c_R$ correspondientes.\n",
    "\n",
    "Los $M_{fi}$ contienen los acoplos de las corrientes y las distribuciones angulares siguientes:\n",
    "\n",
    "|      | | | | \n",
    "| :--: | :--: | :--: | :--: |\n",
    "| $LR \\to LR$ | $LR \\to RL$ | $RL \\to LR$ | $RL \\to RL$ |\n",
    "| $g^2_Z s (1+\\cos \\theta)$| $g^2_z s (1-\\cos \\theta)$ | $g^2_Z s (1-\\cos\\theta)$ | $g^2_Z s (1+\\cos\\theta)$ | \n",
    "| $c_L(e) \\, c_L(\\mu)$ |$c_L(e) \\, c_R(\\mu)$ | $c_R(e) \\, c_L(\\mu)$| $c_R(e) \\, c_R(\\mu)$ |\n"
   ]
  },
  {
   "cell_type": "markdown",
   "metadata": {
    "slideshow": {
     "slide_type": "slide"
    }
   },
   "source": [
    "Para dar la sección eficaz calculamos el promedio de los cuatro elementos de matriz e integramos en el ángulo sólido.\n",
    "\n",
    "No hacemos el cálculo, pero damos el resultado. \n",
    "\n",
    "La sección eficaz es:  \n",
    "\n",
    "$$\n",
    "\\sigma (e+e^+\\to Z \\to \\mu+\\mu^+)= \\frac{1}{64\\pi^2 s} \\frac{1}{4}\\frac{g^4_z s^2}{(s-m^2_Z)^2 + m^2_Z\\Gamma^2_Z} \n",
    "\\frac{16\\pi}{3} [c^2_L(e) + c^2_R(e)] [c^2_L(\\mu) + c^2_R(\\mu)] = \\\\\n",
    " \\frac{1}{48\\pi} \\frac{g^4_z s}{(s-m^2_Z)^2 + m^2_Z\\Gamma^2_Z}  [c^2_L(e) + c^2_R(e)] [c^2_L(\\mu) + c^2_R(\\mu)]\n",
    "$$\n",
    "\n",
    "En la segunda igualdad pueden identificarse los distintos factores que intervienen."
   ]
  },
  {
   "cell_type": "markdown",
   "metadata": {
    "slideshow": {
     "slide_type": "slide"
    }
   },
   "source": [
    "Que podemos reescribir introduciendo las anchuras de desintegración parciales:\n",
    "\n",
    "$$\n",
    "\\Gamma_{ee} = \\frac{g^2_z m_z}{24} [c^2_L(e) + c^2_R(e)] \\\\\n",
    "\\Gamma_{\\mu\\mu} = \\frac{g^2_z m_z}{24} [c^2_L(\\mu) + c^2_R(\\mu)] \\\\\n",
    "$$\n",
    "\n",
    "Por lo tanto:\n",
    "\n",
    "$$\n",
    "\\sigma (e+e^+\\to Z \\to \\mu+\\mu^+)= \\frac{12 \\pi s}{m^2_Z} \\frac{\\Gamma_{ee} \\Gamma_{\\mu\\mu}}{(s-m^2_Z)^2 + m^2_Z\\Gamma^2_Z} \n",
    "$$\n"
   ]
  },
  {
   "cell_type": "markdown",
   "metadata": {
    "slideshow": {
     "slide_type": "slide"
    }
   },
   "source": [
    "Observamos:\n",
    "    \n",
    "  * Se trata de una función de tipo Breit-Wigner\n",
    "  \n",
    "  * En el polo $\\sqrt{s} = m_z$ obtenemos el máximo de la sección eficaz:\n",
    "  \n",
    "  $$\n",
    "  \\sigma_{\\max} = \\frac{12\\pi}{m^2_Z} \\frac{\\Gamma_{ee}\\Gamma_{\\mu\\mu}}{\\Gamma^2_Z} \n",
    "  $$\n",
    "  \n",
    "  * En los valores $\\sqrt{s} = m_Z \\pm \\Gamma_Z/2$ la sección eficaz:\n",
    "  \n",
    "  $$\n",
    "  \\sigma \\left(\\sqrt{s} = m_Z \\pm \\Gamma_Z/2 \\right) = \\frac{\\sigma_{\\max}}{2}\n",
    "  $$\n",
    "  \n",
    "  O lo que es lo mismo la anchura a mitad de altura, FWHM, es $\\Gamma_Z$"
   ]
  },
  {
   "cell_type": "markdown",
   "metadata": {
    "slideshow": {
     "slide_type": "subslide"
    }
   },
   "source": [
    "*Cuestión* Calcula el máximo de la sección eficaz para $e+e^+\\to \\mu+\\mu^+$ y $e+e^+\\to \\mathrm{hadrones}$ y la curva se la sección eficaz para hadrones en el pico del $Z$."
   ]
  },
  {
   "cell_type": "code",
   "execution_count": 4,
   "metadata": {
    "slideshow": {
     "slide_type": "subslide"
    }
   },
   "outputs": [
    {
     "name": "stdout",
     "output_type": "stream",
     "text": [
      "sigma max (ee->mumu) 2.1 nbarns \n",
      "sigma max (ee->had) 41.6 nbarns \n"
     ]
    }
   ],
   "source": [
    "Gee = 0.0838 # GeV \n",
    "Gmm = 0.0838 # GeV\n",
    "Guu = 0.2894 # GeV\n",
    "Gdd = 0.3713 # GeV\n",
    "Ghad = 2 * Guu + 3 * Gdd\n",
    "mz  = 91.19  # GeV\n",
    "Gz  =  2.45  # GeV\n",
    "sigma_mumu = (12 * np.pi)/(mz**2) * (Gee * Gmm)/Gz**2\n",
    "sigma_had  = (12 * np.pi)/(mz**2) * (Gee * Ghad)/Gz**2\n",
    "hbarc  = 0.197 * units.femto # GeV m\n",
    "barn =  1e-28 # m^2\n",
    "sigma_to_barn = (hbarc**2) / barn\n",
    "print('sigma max (ee->mumu) {:3.1f} nbarns '.format(sigma_to_barn * sigma_mumu / units.nano))\n",
    "print('sigma max (ee->had) {:3.1f} nbarns '.format(sigma_to_barn * sigma_had /units.nano))"
   ]
  },
  {
   "cell_type": "code",
   "execution_count": 172,
   "metadata": {
    "slideshow": {
     "slide_type": "subslide"
    }
   },
   "outputs": [
    {
     "data": {
      "image/png": "[encoded data removed]",
      "text/plain": [
       "<Figure size 432x288 with 1 Axes>"
      ]
     },
     "metadata": {
      "needs_background": "light"
     },
     "output_type": "display_data"
    }
   ],
   "source": [
    "def sigma(s, Gff = Gmm):\n",
    "    return (12 * np.pi *s)/(mz**2) * (Gee*Gff/((s-mz**2)**2 + (mz*Gz)**2))\n",
    "ss = np.linspace(mz-8, mz+8, 100)\n",
    "plt.plot(ss, sigma_to_barn * sigma(ss*ss, Ghad) / units.nano); \n",
    "plt.grid(); plt.xlabel(r'$\\sqrt{s}$ (GeV)'); plt.ylabel(r'$\\sigma$ (nbarn)');"
   ]
  },
  {
   "cell_type": "markdown",
   "metadata": {
    "slideshow": {
     "slide_type": "slide"
    }
   },
   "source": [
    "### Tres familias de neutrinos\n",
    "\n",
    "Uno de los resultados más importantes de la era LEP es la determinación del número de neutrinos.\n",
    "\n",
    "Se obtiene a partir de la anchura de desintegración, $\\gamma_Z$, del $Z$."
   ]
  },
  {
   "cell_type": "markdown",
   "metadata": {
    "slideshow": {
     "slide_type": "slide"
    }
   },
   "source": [
    "\n",
    "| | \n",
    "| :--: |\n",
    "|  <img src=\"./imgs/sm_zresonance.png\" width = 350 align=\"center\"> |\n",
    "| $\\sigma(e+e^+ \\to \\mathrm{hadrons})$ vs $\\sqrt{s}$ de los experimentos de LEP [PDG]|\n",
    "\n",
    "La siguiente figura muestra la sección eficaz $\\sigma(e+e^+ \\to \\mathrm{hadrons})$  en función de $\\sqrt{s}$ obtenida por los experimentos de LEP: ALEPH, DELPHI, L3, OPAL. "
   ]
  },
  {
   "cell_type": "markdown",
   "metadata": {},
   "source": [
    "\n",
    "Se muestra sobreimpuesta la curva teórica cuando consideramos $N_\\nu$ neutrinos.\n",
    "\n",
    "Recordemos que el número de neutrinos, $N_\\nu$, entra en la anchura de desintegración:\n",
    "\n",
    "$$\n",
    "\\Gamma_Z = 3 \\Gamma_{ee} + 2 \\Gamma_{uu} + 3 \\Gamma_{dd} + N_\\nu \\, \\Gamma_{\\nu\\nu}\n",
    "$$\n",
    "\n",
    "A parti de la medida de $\\Gamma_Z$ y del valor esperado $\\Gamma_{\\nu\\nu}$ obtenemos:\n",
    "\n",
    "$$\n",
    "N_\\nu = 2.9840\\pm 0.0082\n",
    "$$\n",
    "\n",
    "por lo tanto, **existen tres familias de neutrinos**."
   ]
  },
  {
   "cell_type": "markdown",
   "metadata": {
    "slideshow": {
     "slide_type": "slide"
    }
   },
   "source": [
    "En la figura, la vista transversal de varios eventos en ALEP, $e+e^+ \\to Z$ y $Z \\to$ hadrons, $e+^+, \\mu+\\mu^+, \\tau+\\tau^+$:\n",
    "\n",
    "| | \n",
    "| :--: |\n",
    "|  <img src=\"./imgs/sm_Zevents_ALEPH.png\" width = 400 align=\"center\"> |\n",
    "| $Z\\to$ hadrons, $e+e^+$, $\\mu+\\mu^+$, $\\tau + \\tau^+$ [ALEPH]|"
   ]
  },
  {
   "cell_type": "markdown",
   "metadata": {
    "slideshow": {
     "slide_type": "slide"
    }
   },
   "source": [
    "## El bosón de Higgs\n",
    "\n",
    "La teoría electrodébil necesita para ser coherente del mecanismo de Higgs.\n",
    "\n",
    "El modelo de Higgs da respuesta (quizás la única posible) a los siguientes problemas graves:\n",
    "\n",
    "  * Los bosones débiles son masivos, sin embargo las teorías gauge existen bosones sin masa. ¿Cómo dotar de masa a los bosones $W^\\pm, Z$?\n",
    "\n",
    "\n",
    "  * La simetría electrodébil, U(1)$_Y$ SU(2)$_L$, separa fermiones a derechas e izquierdas, $f_L, f_R$, y exige que no tengan masas.\n",
    "\n",
    "\n",
    "  * otras sección eficaz, $W^+ + W^- \\to W^+ + W^-$, crece indefinidamente a no ser que un escalar con los acoplos apropiados la controle.\n",
    "  "
   ]
  },
  {
   "cell_type": "markdown",
   "metadata": {
    "slideshow": {
     "slide_type": "slide"
    }
   },
   "source": [
    "El mecanismo de Higgs permite resolver los tres problemas de una forma económica.\n",
    "\n",
    "Es imposible discutir sobre el mecanismo de Higgs sin recurrir a TQC y el lagrangiano del SM.\n",
    "\n",
    "Vamos a dar solo unas ideas que nos permitan entender su comportamiento y descubrimiento."
   ]
  },
  {
   "cell_type": "markdown",
   "metadata": {
    "slideshow": {
     "slide_type": "slide"
    }
   },
   "source": [
    "### El bosón Higgs y sus implicaciones\n",
    "\n",
    "La forma más económica del mecanismo de Higgs es considerar la existencia de un campo escalar complejo, $\\phi$, que interacciona consigo mismo con un potencial $V(\\phi)$.\n",
    "\n",
    "El campo es un doblete de U(1)$_Y$SU(2)$_L$:\n",
    "\n",
    "$$\n",
    "\\phi = \\begin{pmatrix} \\phi^+ \\\\ \\phi^o \\end{pmatrix}\n",
    "$$\n",
    "donde $\\phi^0, \\phi^+$ son campos complejos\n",
    "\n",
    "El potencial $V(\\Phi)$ se conoce como el potencial del sombrero mexicano\n",
    "\n",
    "$$\n",
    "V(\\phi) = \\frac{\\mu^2}{2} (\\phi^\\dagger \\phi) + \\frac{\\lambda}{4} (\\phi^\\dagger \\phi)^2\n",
    "$$"
   ]
  },
  {
   "cell_type": "markdown",
   "metadata": {},
   "source": [
    "La elección de unos de sus mínimos se denomina **rotura espontánea de simetría**.\n",
    "\n",
    "Expresamos el campo de Higgs, $h(x)$ como una perturbación respecto el valor en el vacío: \n",
    "\n",
    "$$\n",
    "\\langle \\phi(x) \\rangle = \\frac{1}{\\sqrt{2}}\\begin{pmatrix}  0 \\\\ v + h(x) \\end{pmatrix}\n",
    "$$\n",
    "\n",
    "Este elección se conoce como **gauge unitaria**.\n",
    "\n",
    "La elección no cambia la física subyacente pero nos da lugar a los campos físicos conocidos.\n",
    "\n",
    "*Nota adicional:* Matemáticamente de los 4 grados de libertad iniciales, $\\phi$, quedan en uno, el bosón de Higgs, $h(x)$, los otros tres se trasladarán a las componentes logitudinales de los bosones $W^\\pm, Z$."
   ]
  },
  {
   "cell_type": "markdown",
   "metadata": {
    "slideshow": {
     "slide_type": "slide"
    }
   },
   "source": [
    "Al establecer invariancia gauge, el campo de Higgs da lugar a las interacciones:\n",
    "\n",
    " * entre los bosones débiles, $W^\\pm, Z$ y el valor $v$ del vacío, que interpretamos como la **masa de los bosones $W^\\pm, Z$**.\n",
    " \n",
    " * entre las dos componentes de quiralidad de los fermiones y el *vev*, lo que da lugar a las **masas de los fermiones**.\n",
    " \n",
    " * a interacciones entre el higgs, $h(x)$, y los bosones débiles, $W, Z$, y dar lugar a **desintegraciones del Higgs a los bosones vectoriales**\n",
    " \n",
    " * a interacciones entre el higgs, $h(x)$, y los fermiones, que a su vez da lugar a **desintegraciones a pares fermión-antifermión**\n",
    " \n",
    "*nota adicional* Además el higgs se acopla consigo mismo en vértices de tres y cuatro ramas, y con los bosones vectorales débiles en vértices de cuatro ramas."
   ]
  },
  {
   "cell_type": "markdown",
   "metadata": {
    "slideshow": {
     "slide_type": "slide"
    }
   },
   "source": [
    "### Las masas\n",
    "\n",
    "La fricción de los bosones y los fermiones con el *vev* da lugar a las masas:\n",
    "\n",
    "| | \n",
    "| :--: |\n",
    "|  <img src=\"./imgs/sm_vev_mass.png\" width = 400 align=\"center\"> |\n",
    "| acción del *vev* sobre los fermiones y los bosones débiles |\n",
    "\n",
    "En la tabla se muestra la relación entre las masas se relacionan con el *vev* y las costantes de acoplo:\n",
    "\n",
    "|  ---- fermión ---- |  ---- bosones $W^\\pm$  -----  | ------ bosón $Z$ ------ | ----- Higgs ----- |\n",
    "| :--: | :--: | :--: | :--: |\n",
    "| $m_f = \\frac{1}{\\sqrt{2}}\\lambda_f v $ | $m_W = \\frac{1}{2} g_W v$| $ m_Z = \\frac{1}{2} \\frac{g_W}{\\cos \\theta_W} v$ | $m_H = 2 \\lambda v^2$|"
   ]
  },
  {
   "cell_type": "markdown",
   "metadata": {
    "slideshow": {
     "slide_type": "slide"
    }
   },
   "source": [
    "Observamos:\n",
    "    \n",
    "   * Hay un parámetro del modelo $\\lambda_f$, que se llama **acoplo de Yukawa**, para dar la masa de cada fermión y del vev $v$. ¡Hay tantos acoplos de Yukawa como fermiones cargados!\n",
    "    \n",
    "   * Que la masa de los bosones vectoriales, $m_W, m_Z$ está fijada por $v$ y los acoplos, $g_W, g_Z$.\n",
    "   \n",
    "   * Que la masa del Higgs depende de $v^2$ y $\\lambda$. El parámetro $\\lambda$ solo interviene en la masa del Higgs.\n",
    "    \n",
    "El mecanismo de Higgs establece una relación entre la masa de los bosones vectoriales:\n",
    "\n",
    "$$\n",
    " \\cos \\theta_W = \\frac{m_W}{m_Z}\n",
    "$$"
   ]
  },
  {
   "cell_type": "markdown",
   "metadata": {
    "slideshow": {
     "slide_type": "slide"
    }
   },
   "source": [
    "A partir de los datos experimentales, $M_z, \\sin^2 \\theta_W$, el SM predice:\n",
    "\n",
    "$$\n",
    "m_W \\simeq 80.34 \\;\\; \\mathrm{GeV}\n",
    "$$\n",
    "\n",
    "Que se aproxima mucho al valor experimental.\n",
    "\n",
    "Esta relación dio credibilidad al mecanismo de Higgs antes de que se el Higgs se descubriera.\n",
    "\n",
    "*Nota adicional*: En la determinación de la masa debemos considerar también diagramas de más dimensiones, las correcciones que introducen son de tipo logaritmico, cuya dependencia principal está relacionada con la masa del $t$.\n",
    "\n",
    "Estar correcciones predijeron que la masa del $t$ ~175 GeV. El top se descubrió con el Tevatron de Fermilab en 1995."
   ]
  },
  {
   "cell_type": "code",
   "execution_count": 183,
   "metadata": {},
   "outputs": [
    {
     "name": "stdout",
     "output_type": "stream",
     "text": [
      " W mass esperada a primer orde 80.385 GeV, medida 80.378 GeV\n"
     ]
    }
   ],
   "source": [
    "s2t = units.value(\"weak mixing angle\")\n",
    "MW  = 80.378 # GeV \n",
    "MZ  = 91.1876 # GeV\n",
    "cw = np.sqrt(1 - s2t)\n",
    "mw_pred = MZ * cw\n",
    "print(' W mass esperada a primer orde {:4.3f} GeV, medida {:4.3f} GeV'.format(mw_pred, MW))"
   ]
  },
  {
   "cell_type": "markdown",
   "metadata": {},
   "source": [
    "Finalmente el valor del $vev$ se puede determinar a partir de $g_W, m_W$, o simplemente de $G_F$:\n",
    "\n",
    "$$\n",
    "v = \\frac{2m_W}{g_W} = \\sqrt{\\frac{1}{\\sqrt{2} G_F}} = 246 \\; \\mathrm{GeV}\n",
    "$$\n"
   ]
  },
  {
   "cell_type": "markdown",
   "metadata": {
    "slideshow": {
     "slide_type": "slide"
    }
   },
   "source": [
    "### La desintegración\n",
    "\n",
    "La interacción del Higgs con los fermiones y bosones vectoriales determina sus fracciones de desintegración.\n",
    "\n",
    "| | \n",
    "| :--: |\n",
    "|  <img src=\"./imgs/sm_higgs_decay.png\" width = 400 align=\"center\"> |\n",
    "| Canales de desintegración principales del Higgs |\n",
    "\n",
    "Notar que el Higgs se acopla a sus canales de desintegración proporcionalmente a la masa de éstos:\n",
    "\n",
    "\n",
    "|  ---- fermión ---- |  ---- bosones $W^\\pm$  -----  | ------ bosón $Z$ ------ |\n",
    "| :--: | :--: | :--: |\n",
    "| $\\frac{\\lambda_f}{\\sqrt{2}} = \\frac{m_f}{v} $ | $g_Z m_W $| $ g_Z m_Z$ |\n",
    "\n",
    "*Nota adicional*: El macanimos introduce vértices adicionales tripes, $HHH$, y cuadrupes, $HHVV, HHHH$, donde $H$ es el Higgs y $V$ el bosón vectorial débil. "
   ]
  },
  {
   "cell_type": "markdown",
   "metadata": {
    "slideshow": {
     "slide_type": "slide"
    }
   },
   "source": [
    "Las fracciones de desintegracción de Higgs dependeran a qué canales pueda desintegrarse respecto a su masa.\n",
    "\n",
    "Como el acoplo del Higgs es proporcional a la masa, aquellos canales permitidos con mayor masa son los favorecidos.\n",
    "\n",
    "| --------- canal ------- | ----- $Br$ ----- |\n",
    "| :--          | --: | \n",
    "| $H\\to b + \\bar{b}$ | 57.8 % |\n",
    "| $H \\to W^+ + W^-$  | 21.6 % |\n",
    "| $H \\to \\tau + \\tau^+$| 6.4 % |\n",
    "| $H \\to g + g$         |  8.6 % |\n",
    "| $H \\to c + \\bar{c}$   | 2.9 % |\n",
    "| $H \\to Z + Z^*$       | 2.7 % |\n",
    "| $H \\to \\gamma + \\gamma$| 0.2 % |\n",
    "\n",
    "En la tabla se muestran las fracciones de desintegración del Higgs para diversos canales en función de su masa.\n",
    "\n",
    "*Nota adicional* Las desintegraciones $H\\to \\gamma + \\gamma, H \\to g + g$ ocurren a través de diagramas de lazo, por ejemplo, con el intercambio en triángulo de un $t$."
   ]
  },
  {
   "cell_type": "markdown",
   "metadata": {
    "slideshow": {
     "slide_type": "slide"
    }
   },
   "source": [
    "## Descubrimiento del bosón de Higgs\n",
    "\n",
    "El bosón de Higgs se descubrió en 2012 en los experimentos ATLAS y CMS del LHC del CERN.\n",
    "\n",
    "Con anterioridad los experimentos de LEP y los experimentos CDF y D0 de Fermilab habían constreñido el valor de su masa más ligera entre: $115-150$ GeV.\n",
    "\n",
    "Los experimentos y el acelerador LHC se diseñaron en los 90's y su operación se inición a finales de los 2000's.\n",
    "\n",
    "En el LHC colisionan $p+p$ a una energía $\\sqrt{s}= 7- 14$ TeV y con una luminosidad $\\mathcal{L}(t) = 10^{34}$ cm$^{-2}$. Hay $10^{11}$ protones por paquete y una frecuencia de colisión de 40 MHz (cada 25 ns).\n",
    "\n",
    "El número de colisiones $10^{9}$ por segundo y por cada cruce hay como máximo $35$ colisiones, lo que de denomila *pile-up* (apilamiento)."
   ]
  },
  {
   "cell_type": "markdown",
   "metadata": {
    "slideshow": {
     "slide_type": "slide"
    }
   },
   "source": [
    "Las sección eficaz $p+p$ is del ~100 mbars en el LHC.\n",
    "\n",
    "Las sección eficaz de producción del $H$ entre 20 pb y 60 pbs!\n",
    "\n",
    "Los canales de desintegración dónde la señal es más fácil distingible del fondo son $H\\to Z+Z^+$ y $H \\to \\gamma \\gamma$.\n",
    "\n",
    "Eso equivale a buscar una desintegración relevante entre $10^{13}$."
   ]
  },
  {
   "cell_type": "markdown",
   "metadata": {},
   "source": [
    "@check NUMBERS"
   ]
  },
  {
   "cell_type": "markdown",
   "metadata": {
    "slideshow": {
     "slide_type": "slide"
    }
   },
   "source": [
    "### Sobre ATLAS y CMS"
   ]
  },
  {
   "cell_type": "markdown",
   "metadata": {
    "slideshow": {
     "slide_type": "slide"
    }
   },
   "source": [
    "### El descubrimiento del Higgs"
   ]
  },
  {
   "cell_type": "markdown",
   "metadata": {
    "slideshow": {
     "slide_type": "slide"
    }
   },
   "source": [
    "El Higgs se descubrión en dos canales limpios (donde los sucesos de contaminación son o afectan menos).\n",
    "\n",
    "  * $H \\to \\gamma + \\gamma$, buscando dos deposiciones en el calorímetro electromagnético, $\\gamma$s.\n",
    "  \n",
    "  Se calcula la masa invariante de los $\\gamma$s que provienen del punto de interacción.\n",
    "\n",
    "\n",
    "  * En el canal $H \\to Z + Z^* \\to (l+l^+) + (l'+l'^+)$, en cuatro leptones ($4l$), agrupados en dos parejas del mismo sabor y carga opuesta.\n",
    "  \n",
    "  Una pareja proviene de un $Z$ real, *on-shell*, y su masa invariantes es próxima al $Z$, y otra del $Z^*$ *off-shell*, que tiene menor masa invariante que el $Z$. \n"
   ]
  },
  {
   "cell_type": "markdown",
   "metadata": {
    "slideshow": {
     "slide_type": "slide"
    }
   },
   "source": [
    "La siguiente figura muestra la presenta la distribución de la masa invariante de $2 \\gamma$ (izda) para el caso de CMS y de $(4 l)$ para el caso de ATLAS con la estadística de Run-I del LHC \n",
    "\n",
    "| | \n",
    "| :--: |\n",
    "|  <img src=\"./imgs/sm_higgs_CMS_ATLAS.png\" width = 600 align=\"center\"> |\n",
    "| masa invariante para $H \\to \\gamma \\gamma$ (izda, [CMS]) y $H \\to Z+ Z^* \\to 4 l$ (derecha, [ATLAS])|\n"
   ]
  },
  {
   "cell_type": "markdown",
   "metadata": {
    "slideshow": {
     "slide_type": "slide"
    }
   },
   "source": [
    "Observamos:\n",
    "    \n",
    "   * La presencia de un pico en la masa invariante en ambas distribuciones a 125 GeV.\n",
    "   \n",
    "   * Ese pico es incompatible con el fondo, en combinación a ~6 desviaciones estandars. \n",
    "  \n",
    "Con los datos del run-I del LHC se pudo concluir además:\n",
    "   \n",
    "   * que se trataba de una partícula escalar a partir de las distribuciones angulares de $(4l)$ en el canal $H\\to 4 l$.\n",
    "   \n",
    "   * que el acoplo a otros canales $\\tau\\tau^+, b \\bar{b}$ es el esperado por el SM"
   ]
  },
  {
   "cell_type": "markdown",
   "metadata": {
    "slideshow": {
     "slide_type": "slide"
    }
   },
   "source": [
    "En la figura dos eventos de ATLAS, identificados como $H \\to \\gamma\\gamma$ (izda) y $H \\to e+e^++\\mu+\\mu^+$\n",
    "\n",
    "| | |\n",
    "| :--: | :--: |\n",
    "|  <img src=\"./imgs/sm_atlas_h2gammas_event.png\" width = 320 align=\"center\"> | <img src=\"./imgs/sm_atlas_h4leptons_event.png\" width = 320 align=\"center\"> |\n",
    "| $H \\to \\gamma + \\gamma$ event | $H \\to 4l$ event [ATLAS events](https://twiki.cern.ch/twiki/bin/view/AtlasPublic/EventDisplaysFromHiggsSearches) |"
   ]
  },
  {
   "cell_type": "markdown",
   "metadata": {
    "slideshow": {
     "slide_type": "slide"
    }
   },
   "source": [
    "## Conclusions\n",
    "\n",
    "El SM:\n",
    "\n",
    "  * El SM describe con gran precisión las partículas y las interacciones que conocemos.\n",
    "  \n",
    "  * El SM se ha verificado en una gran cantidad de precesos físicos.\n",
    "  \n",
    "  * No obstante sabemos que los neutrinos tienen masa, lo que implica que debemos extender el SM.\n",
    "  \n",
    "Pero:\n",
    "  \n",
    "  * No incluye otra física conocida, como la materia oscura, ¿qué partículas la forman?\n",
    "  \n",
    "  * El modelo tiene cinco parámetros fundamentales $e, g_W, g_S, v, \\lambda$, dos de ellos corresponden al Higgs. Experimentalmente $\\alpha, G_L, \\alpha_S, m_W, M_H$.\n",
    "\n",
    "  * Tiene 9 parámetros adcionales, los acoplos de Yukawa; 4 más para acomodar la matriz CKM de los quarks, y 3 o 4 más para la PNMS de los leptones. \n"
   ]
  },
  {
   "cell_type": "markdown",
   "metadata": {
    "slideshow": {
     "slide_type": "slide"
    }
   },
   "source": [
    "### cuestiones abiertas\n",
    "\n",
    " * ¿Es el neutrino su propia antipartícula? ¿Cómo se acopla al Higgs?\n",
    "\n",
    " * ¿Cuál es el origen de los valores de masas? ¿Por qué es tan pequeña la del neutrino?\n",
    "\n",
    " * ¿Por qué hay 3 familias? ¿Qué releación guardan, si la hay, la matriz CKM y PNMS?\n",
    "\n",
    " * ¿El el Higgs único? ¿Es el Higgs compuesto?\n",
    " \n",
    " * ¿Cuál es el origen del potecial del bosón de Higgs, $V(\\Phi)$?\n",
    " \n",
    " * ¿Hasta qué escala de energía, $\\Lambda$, es válido el SM? ¿A qué energía aparecerá nueva física?\n"
   ]
  },
  {
   "cell_type": "markdown",
   "metadata": {},
   "source": [
    "## Bibliografía\n",
    "\n",
    "\n",
    "  * [MT] Mark Tomsom, \"Modern Particle Physics\", Cambridge U. press, Temas 15, 16 y 17.\n",
    "  \n",
    "  * [AB] Alessandro Bettini, \"Introduction to Elementary Particle Physcs\", Cambridge U. press, Tema 9. \n",
    "  \n",
    "  * [PK] M. Peskik, Lectures on the Theory of the Weak Interaction, SLAC–PUB–17142, (2017), [arXiv:1708.0943v1](https://arxiv.org/abs/1708.09043)\n",
    "  \n",
    "  * [PDG](https://pdg.lbl.gov/) Particle Data Group.\n",
    "  \n",
    "  * [LEP-SLD] LEP and SLD Collaborations. 2006. Phys. Rept., 427, 257–454.\n",
    "  \n",
    "  * [DELPHI] P. Abreu et al., DELPHI Collaboration, *Eur. Phys. J.* **C 11**, 383 (1999).\n",
    "  \n",
    "  * [ALEPH] D. Decamp et al., ALEPH Collaboration, *Z. Phys.* **C 48**, 365 (1990)\n",
    "\n",
    "  * [CMS] V. Khachatryan et al., CMS Collaboration, *Eur. Phys. J.* **C 74**, no. 10, 3076 (2014) [arXiv:1407.0558](https://arxiv.org/abs/1407.0558) \n",
    "  \n",
    "  * [ATLAS] G. Aad et al., ATLAS Collaboration, *Phys. Lett.* **B 726**, 88 (2013) Erratum: [Phys. Lett. B 734, 406 (2014)] [arXiv:1307.1427](https://arxiv.org/abs/1307.1427)"
   ]
  },
  {
   "cell_type": "code",
   "execution_count": null,
   "metadata": {
    "slideshow": {
     "slide_type": "slide"
    }
   },
   "outputs": [],
   "source": [
    "Ejercicio"
   ]
  },
  {
   "cell_type": "code",
   "execution_count": 7,
   "metadata": {},
   "outputs": [
    {
     "name": "stdout",
     "output_type": "stream",
     "text": [
      "Expected tau, tau+ events  2057142.857142857\n",
      "Observed mu, mu+   events  2378.057142857143\n"
     ]
    }
   ],
   "source": [
    "sigma   = 60 * units.nano * 1e-24\n",
    "lumi    = 1e32\n",
    "t       = 1e7\n",
    "Gz      = 2.45 # GeV\n",
    "Gl      = 0.084 # GeV\n",
    "Br      = 0.17\n",
    "epsilon = 0.2\n",
    "Ntau    = sigma * lumi * t * Gl /Gz\n",
    "Nmu     = Ntau * (Br * epsilon)**2\n",
    "print('Expected tau, tau+ events ', Ntau)\n",
    "print('Observed mu, mu+   events ', Nmu)"
   ]
  },
  {
   "cell_type": "markdown",
   "metadata": {
    "slideshow": {
     "slide_type": "slide"
    }
   },
   "source": [
    "#### Estabilidad.\n",
    "\n",
    "Las generaciones II y III son inestables, y se desintegran via la interación fuertes, débiles o electromagnéticas, dependiendo de la partícula y sus propiedades, hasta partículas compuestas por la generación I, neutrinos o fotones.\n",
    "\n",
    "Los leptones cargados se desintegran débilmente, sus vidas son (s):\n",
    "\n",
    "\n",
    "| $e$ | $\\mu$ | $\\tau$|\n",
    "| :------------| :------------- | :--------------- |\n",
    "| estable | $2.6 \\, 10^{-6}$| $2.9 \\, 10^{-13}$|\n",
    "\n",
    "\n",
    "Los leptones estables son el $e$ y los neutrinos.\n"
   ]
  },
  {
   "cell_type": "markdown",
   "metadata": {},
   "source": [
    "Los hadrones libres se desintegran, dependiendo de la interacción que tienen permitida.\n",
    "\n",
    "Vidas de algunos hadrones (s):\n",
    "\n",
    "\n",
    "| $p$ | $n$ | $\\pi^0$| $\\pi^\\pm$ | $K^\\pm$| \n",
    "| :--- | :--- | :--- | :-- | :-- | \n",
    "| estable | $900$| $8.4 \\, 10^{-17}$| $2.6 \\, 10^{-8}$| $1.23 \\, 10^{-8}$ |\n",
    "\n",
    "La única partícula hadrónica libre estable es el protón.\n",
    "\n",
    "El Universo está formado casi en totalidad por protones, neutrones, electrones y neutrinos. Esto es (𝑢,𝑑),(𝜈,𝑒)\n",
    "\n",
    "\n",
    "Por eso decimos que el Universo es de 'baja energía'.\n",
    "\n",
    "El átomo está compuesto de un núcleo con protones (que a su vez tiene un trio de quarks 𝑢𝑢𝑑\n",
    ") y neutrones (𝑢𝑑𝑑); y electrones.\n",
    "\n",
    "@todo plot con las vidas medias de algunas partículas."
   ]
  },
  {
   "cell_type": "markdown",
   "metadata": {},
   "source": [
    "#### Creación de partículas\n",
    "\n",
    "Para crear una partícula necesitamos al menos una energía equivalente a la masa de la nueva partícula. $E = m c^2$.\n",
    "\n",
    "Un par fermión-antifermión se puede aniquilar (mediante el intercambio de bosones neutros) para producir otro par de fermión-antifermión. $(e^- + e^- \\to \\mu^- + \\mu^+)$.\n",
    "\n",
    "Siempre que producimos una anti-fermión producimos también su fermión. Siempre que creamos anti-materia creamos materia.\n",
    "\n",
    "Existen dos tipos principales de experimentos de creacción de partículas:\n",
    "\n",
    "  * colisionador: haces de $e, e^+, p, \\bar{p}$ colisionan entre sí, por ejemplo [LEP](https://es.wikipedia.org/wiki/Large_Electron-Positron_collider) ($e^+e^-$)\n",
    "\n",
    "  * blanco fijo (*fixed target*): haces de $e, p, \\mu, \\nu$ contra un material (átomos, núcleos). Experimentos de neutrinos, por ejemplo el experimento [Gargamelle](https://en.wikipedia.org/wiki/Gargamelle).\n",
    "\n",
    " "
   ]
  },
  {
   "cell_type": "markdown",
   "metadata": {},
   "source": [
    "#### Colisionadores\n",
    "\n",
    "Colisionadores recientes:\n",
    "\n",
    "| collider | Laboratory | Type       | Period    | Energy, $\\sqrt{s}$, (GeV) | Luminosity, $\\mathcal{L}$, ($cm^{-2}s^{-1})$ |\n",
    "| :--      | :--        | :--        | :--       | :--              | :-- |\n",
    "| PEP-II   | SLAC       | $e^+e^-$   | 1999-2009 | 10.5             | $1.2 \\, 10^{34}$|\n",
    "| LEP      | CERN       | $e^+e^-$   | 1989-2000 | 90-209           |  $10^{32}$ |\n",
    "| Tevatron | Fermilab   | $p\\bar{p}$ | 1987-2012 | 1960             | $4 \\, 10^{32}$ |\n",
    "| LHC      | CERN       | $p p$      | 2009-     | 14000            | $10^{34}$| "
   ]
  },
  {
   "cell_type": "markdown",
   "metadata": {
    "slideshow": {
     "slide_type": "slide"
    }
   },
   "source": [
    "Los dos parámetros fundamentales de un colisionador son:\n",
    "    \n",
    " * **Energía** en el centro de masas, $\\sqrt{s}$, que limita la masa de las partículas que podemos crear.\n",
    "\n",
    " * **Luminosidad**, o el número de partículas que lanzamos entre ellas por unidad de área y tiempo.\n",
    "Delimita el número de interacciones interesantes en cada cruze. \n",
    "\n"
   ]
  },
  {
   "cell_type": "markdown",
   "metadata": {
    "slideshow": {
     "slide_type": "slide"
    }
   },
   "source": [
    "\n",
    "Para dos vagones con $n_1, n_2$ partículas que se cruzan entre sí en la dirección $z$ con una frecuencia $f$ y que tienen una sección transversal gausiana $\\sigma_x, \\sigma_y$, la luminosidad es:\n",
    " \n",
    " $$\n",
    " \\mathcal{L} = f \\frac{n_1 n_2}{ 4 \\pi \\sigma_x \\sigma_y}\n",
    " $$\n",
    " \n",
    " Si un tipo de interacción tiene una sección eficaz $\\sigma$, esperamos $n = \\sigma \\mathcal{L}$ interaciones por cruze. Recordar que la sección eficaz $\\sigma$ se mide en $m^2$ o en unidades naturales barns (1 barn = $10^{-24} cm^2$.\n",
    "\n",
    " Y a lo largo de un tiempo (típicamente años), $N = \\int_t \\sigma \\mathcal{L}(t) \\, \\mathrm{d}t$. \n",
    " \n",
    " Donde $\\mathcal{L}(t)$ es la luminosidad instantanea. A la canditad $\\int_t \\mathcal{L}(t) \\, \\mathrm{d}t$ la llamamos luminosidad integrada.\n",
    "\n",
    " A la interación por cruce se las conoce como **evento**.\n"
   ]
  },
  {
   "cell_type": "markdown",
   "metadata": {},
   "source": [
    "#### Alguna preguntas sin respuesta:\n",
    "\n",
    "* ¿Son los quarks y leptones elementales?\n",
    "\n",
    "* ¿Por qué hay 3 generaciones?\n",
    "\n",
    "* ¿Hay un patrón de masas de los fermiones?\n",
    "\n",
    "* ¿Por qué hay tanta disparidad de masas entre el neutrino y el resto de fermiones?\n",
    "\n",
    "* ¿Por qué el Universo está formado muy primordialmente por materia y no anti-materia?\n",
    "\n",
    "* ¿Por qué si el protón es compuesto su carga eléctrica es exactamente igual y opuesta a la del electrón?"
   ]
  },
  {
   "cell_type": "markdown",
   "metadata": {
    "slideshow": {
     "slide_type": "slide"
    }
   },
   "source": [
    "##### Propiedades de los portadores\n",
    "\n",
    "La interacción se describe entre dos fermiones mediante el intercambia de otra partícula (virtual) que es el portador.\n",
    "\n",
    "Cada portador interviene según la carga (eléctrica, isospín débil, color) del fermión al que se acopla.\n",
    "\n",
    "Los portadores son bosones vectoriales (spín 1), son los trasmisores de la fuerza.\n",
    "\n",
    "\n",
    "La intensidad approximada para dos partículas a una distancia de $10^{-15}$ m. \n",
    "\n",
    "| fuerza            | intensidad | bosón            | Q (e) | mass (GeV) |\n",
    "| :--               | :--        | :--              | :--   | :--     | \n",
    "| fuerte            | 1          | $g$ (gluón)      | 0     | 0       | \n",
    "| electromagnetismo | $10^{-3}$  | $\\gamma$ (fotón) | 0     | 0       | \n",
    "| débil             | $10^{-8}$  | $W^{\\pm}$        | $\\pm1$  | 80.4 | \n",
    "|                   |           | $Z^0$              | 0  | 91.2 |\n",
    "| gravedad          | $10^{-37}$| "
   ]
  },
  {
   "cell_type": "markdown",
   "metadata": {},
   "source": [
    "La masa del bosón determina el rango (en distancia) de la interacción. El rango de la interacciones débiles es de $10^{-15}$ m. \n",
    "\n",
    "El rango de $100$ GeV, aproximadamente la masa del bosón $Z$, se conoce como **escala electrodébil.**\n",
    "\n",
    "Los bosones $W^\\pm$ son cargados. Sus interacciones se conocen como **corrientes cargadas** (CC).\n",
    "\n",
    "Las interacciones del bosón $Z^0$ se denominan también **corrientes neutras** (NC). \n",
    "\n",
    "Existen 8 typos de gluones, que cambian el color de los quarks, son electricamente neutros y de masa nula. \n",
    "\n",
    "Los quarks y gluones exiben la propiedad de confinamiento y no pueden observarse aislados. Es por ello que a pesar de su masa nula, el rango de acción de la fuerza fuerte es también de $10^{-15}$ m."
   ]
  },
  {
   "cell_type": "markdown",
   "metadata": {},
   "source": [
    "### Observables\n",
    "\n",
    "En física de partículas habitualmente estimamos:\n",
    "\n",
    "  * La sección eficaz, $\\sigma$, de una interacción (barns).\n",
    "  \n",
    "  * El tiempo de vida, $\\tau$, (s) o su inverso, la anchura de desintegración, $\\Gamma$, (GeV).\n",
    "  \n",
    "  * La fracción de desintegración, $\\mathcal{BR}$, en un canal (%) (por ejemplo: $\\tau \\to \\mu \\bar{\\nu}_\\mu \\bar{\\nu}_\\tau$)\n",
    "  \n",
    " \n",
    "\n",
    "\n"
   ]
  },
  {
   "cell_type": "markdown",
   "metadata": {
    "slideshow": {
     "slide_type": "slide"
    }
   },
   "source": [
    "#### Elementos de la interacción.\n",
    "\n",
    "La ideas fundamentales sobre la interacción entre partículas:\n",
    "\n",
    "  * se produce mediante un portador o mediador (Yukawa).\n",
    "  \n",
    "  * tiene lugar entre dos corrientes de fermiones (Fermi).\n",
    "  \n",
    "  * Regla de Oro de Fermi. La probabilidad de la interacción es proporcional a $|M_{if}|^2$, donde $M_{if}$ es la matriz de transición entre los estados iniciales y finales.\n",
    "  "
   ]
  },
  {
   "cell_type": "markdown",
   "metadata": {},
   "source": [
    "#### Diagrammas de Feynman\n",
    "\n",
    "Son una representación gráfica de la interacción y proporcional una reglas de cálculo de la matriz de transición.\n",
    "\n",
    "La derivación se obtiene de teoría cuántica de campos (QFT)\n"
   ]
  },
  {
   "cell_type": "markdown",
   "metadata": {
    "slideshow": {
     "slide_type": "slide"
    }
   },
   "source": [
    "\n",
    "En los diagramas de Feynman:\n",
    "    \n",
    "<img src=\"./imgs/feynman_default.png\" width = 300 align=\"center\">\n",
    "\n",
    "   * partículas iniciales (a, b) y finales (c,d), el portador de la interacción (X), vértices de interacción, con itensidad dada por la **constante de acoplo** $g$. El eje temporal es el horizontal.\n",
    "\n",
    "   * Dado que no observamos $X$ lo colocamos verticalmente porque no sabemos su ordenamiento en el tiempo."
   ]
  },
  {
   "cell_type": "markdown",
   "metadata": {},
   "source": [
    "#### Vértices con las interacciones\n",
    "\n",
    "<img src=\"./imgs/feynman_forces.png\" width = 500 align=\"center\">\n",
    "\n",
    "\n",
    "En los vértices se conserva la carga eléctrica y el número total de partículas + antipartículas.\n",
    "\n",
    "Las interacciones no cambian la identidad del fermión a excepción de la corriente débil cargada (mediada por $W^\\pm$) que cambia la identidad, cambia el **sabor**.\n",
    "\n",
    "Cada interacción tiene una intensidad relacionada con (un scalar) asociado al vértice: $e, g_s, g_w, q_z$"
   ]
  },
  {
   "cell_type": "markdown",
   "metadata": {},
   "source": [
    "El bosón $W$ se acopla con un leptón de arriba y abajo pero siempre de la misma generación.\n",
    "\n",
    "$$\n",
    "\\begin{pmatrix}\\nu_e \\\\ e \\end{pmatrix}, \\; \\begin{pmatrix}\\nu_\\mu \\\\ \\mu \\end{pmatrix}, \\;\n",
    "\\begin{pmatrix}\\nu_\\tau \\\\ \\tau \\end{pmatrix}\n",
    "$$\n",
    "\n",
    "La constante de acoplo es la misma para las tres generaciones $g_W$ (universalidad).\n",
    "\n",
    "<img src=\"./imgs/feynman_wleptons.png\" width = 500 align=\"center\">\n"
   ]
  },
  {
   "cell_type": "markdown",
   "metadata": {
    "slideshow": {
     "slide_type": "slide"
    }
   },
   "source": [
    "O entre un quark de arriba y de abajo:\n",
    "$$\n",
    "\\begin{pmatrix}u \\\\ d \\end{pmatrix}, \\; \\begin{pmatrix} u \\\\ s \\end{pmatrix}, \\; \\begin{pmatrix}u \\\\ b \\end{pmatrix} \\\\\n",
    "\\begin{pmatrix}c \\\\ d \\end{pmatrix}, \\; \\begin{pmatrix} c \\\\ s \\end{pmatrix}, \\; \\begin{pmatrix}c \\\\ b \\end{pmatrix} \\\\\n",
    "\\begin{pmatrix}t \\\\ d \\end{pmatrix}, \\; \\begin{pmatrix} t \\\\ s \\end{pmatrix}, \\; \\begin{pmatrix}t \\\\ b \\end{pmatrix}\n",
    "$$\n",
    "\n",
    "La constante de acoplo depende del par arriba y abajo que se acopla, $g_W V_{ij}$, (donde $i = \\{u, c, t\\}, j = \\{d, s, b\\}$).\n",
    "\n",
    "Los elementos $V_{ij}$ forman una matriz unitaria llamada de **matrix CKM** (Cabibbo, Kobayashi, Maskawa). \n",
    "\n",
    "El acoplo es más intenso entre pares de la misma generación.\n",
    "\n",
    "<img src=\"./imgs/feynman_wquarks.png\" width = 500 align=\"center\">"
   ]
  },
  {
   "cell_type": "markdown",
   "metadata": {
    "slideshow": {
     "slide_type": "slide"
    }
   },
   "source": [
    "##### Dispersión y aniquilación\n",
    "\n",
    "Existen tres tipos de diagramas principales: **dispersión**, **desintegración** y **aniquilación**\n",
    "\n",
    "<img src=\"./imgs/feynman_annhilation.png\" width = 500 align=\"center\">"
   ]
  },
  {
   "cell_type": "markdown",
   "metadata": {
    "slideshow": {
     "slide_type": "slide"
    }
   },
   "source": [
    "Los líneas de los antifermiones llevan una fecha en sentido contratio al tiempo. De tal forma que una corriente no se crea, es una continuidad\n",
    "\n",
    "En los procesos de aniquilación un par fermión-antifermión se aniquilan y se median mediante ($Z, \\gamma$) y producen otro par fermión-antifermión."
   ]
  },
  {
   "cell_type": "markdown",
   "metadata": {
    "slideshow": {
     "slide_type": "slide"
    }
   },
   "source": [
    "\n",
    "ejemplos de dispersión de electrones, desintegración de un muón, y de aniquilación $e^+e^- \\to \\mu^+\\mu^-$\n",
    "\n",
    "<img src=\"./imgs/feynman_examples.png\" width = 450 align=\"center\">\n",
    "\n",
    "*cuestión*: verifica la conservación de la carga eléctrica y número de partículas y anti-partículas en cada vértice y en los estados iniciales y finales."
   ]
  },
  {
   "cell_type": "markdown",
   "metadata": {
    "slideshow": {
     "slide_type": "slide"
    }
   },
   "source": [
    "El diagrama de Feynman para la desintegración $\\beta$ de un neutrón sería:\n",
    "\n",
    "<img src=\"./imgs/feynman_neutron_decay.png\" width = 250 align=\"center\">\n",
    "\n",
    "Los quarks (ud) de arriba actuan como meros 'espectadores'."
   ]
  },
  {
   "cell_type": "markdown",
   "metadata": {
    "slideshow": {
     "slide_type": "slide"
    }
   },
   "source": [
    "#### Diagramas de árbol y de lazo\n",
    "\n",
    "En un diagrama de Feynman cada vértice introduce una constante de acoplo, $g$. \n",
    "\n",
    "La matriz de transición, $M_{if}$, de un diagrama árbol será proporcional a $g^2$. Y la probabilidad de una interacción a $|M_{if}|^2 \\propto g^4$.\n",
    "\n",
    "En algunas ocasiones se utiliza la constante sin dimensiones, $\\alpha \\propto g^2$, que caracteriza la intensidad de un diagrama. Para el electromagneticos asociamos $\\alpha$ a la constante de estructura fina:\n",
    "$$\n",
    "\\alpha = \\frac{e^2}{4 \\pi \\epsilon_0 \\hbar c}\n",
    "$$\n",
    "\n",
    "Las constantes de las fuerzas serían aproximadamente:\n",
    "\n",
    "| electromagnetismo | débil | fuerte |\n",
    "| :--  | :-- | :-- |  \n",
    "1/137 | 1/30 | 1 |\n"
   ]
  },
  {
   "cell_type": "markdown",
   "metadata": {},
   "source": [
    "Los siguientes diagramas corresponden a un diagrama de árbol y de lazo.\n",
    "\n",
    "\n",
    "<img src=\"./imgs/feynman_tree_loop.png\" width = 400 align=\"center\">\n",
    "\n",
    "La matriz de transición del primer diagrama es $\\propto \\alpha^2$, mientras que la del segundo $\\propto \\alpha^4$.\n",
    "\n",
    "Si aplicamos aproximaciones perturbativas, podemos considerar solo el primer nivel (*leading order*) o nivel árbol es relevante, pero dependera de cada situación.\n",
    "\n"
   ]
  },
  {
   "cell_type": "markdown",
   "metadata": {
    "slideshow": {
     "slide_type": "slide"
    }
   },
   "source": [
    "#### Nomenclatura:\n",
    "\n",
    "| nombres          | definición |\n",
    "| :---          | :--- |\n",
    "| *partícula*  | corpúsculo que puede sentir la fuerzas electromagnética, débil o fuerte |\n",
    "| *antipartícula* | partícula con las cargas y números cuánticos (excepto masa y spín) opuestos a la partícula|\n",
    "| *fermión*  | partícula de spin 1/2 |\n",
    "| *leptón*  (liguero) | fermión que no siente la fuerza fuerte |\n",
    "| *quark*    | fermión que siente la fuerta fuerte |\n",
    "| *bosón*    | particula de spín entero |\n",
    "| *gauge boson*| bosones portadores de la fuerza $W, Z, \\gamma$ tienen spín 1 (vectoriales) |\n",
    "| *hadrón*  (fuerte) | partícula compuesta que siente la fuerza fuerte|\n",
    "| *barión*   | hadrón compuesto de tres quarks |\n",
    "| *mesón*   (mediano)| hadrón compuesto de quark y antiquark |\n",
    "\n"
   ]
  },
  {
   "cell_type": "code",
   "execution_count": 11,
   "metadata": {
    "scrolled": false
   },
   "outputs": [
    {
     "data": {
      "image/png": "[encoded data removed]",
      "text/plain": [
       "<Figure size 432x288 with 1 Axes>"
      ]
     },
     "metadata": {
      "needs_background": "light"
     },
     "output_type": "display_data"
    }
   ],
   "source": [
    "labels = (r'$\\rho$', r'$J/\\psi$')\n",
    "forces = (3, 1)\n",
    "times  = (1e-24, 1e-21)\n",
    "\n",
    "plt.scatter(np.log(times), forces)\n",
    "ax  = plt.gca();\n",
    "for i, name in enumerate(labels):\n",
    "    ax.annotate(name, (np.log(times[i]), forces[i]), fontsize = 20)"
   ]
  },
  {
   "cell_type": "markdown",
   "metadata": {
    "slideshow": {
     "slide_type": "slide"
    }
   },
   "source": [
    "Las partículas se clasifican de acuerdo con sus 'cargas' frente a las fuerzas y determinados números cuánticos (spín).\n"
   ]
  },
  {
   "cell_type": "code",
   "execution_count": null,
   "metadata": {
    "slideshow": {
     "slide_type": "slide"
    }
   },
   "outputs": [],
   "source": [
    "Un poco de léxico:\n",
    "    \n",
    "    "
   ]
  },
  {
   "cell_type": "markdown",
   "metadata": {
    "slideshow": {
     "slide_type": "slide"
    }
   },
   "source": [
    "### Tema I \n",
    "\n"
   ]
  },
  {
   "cell_type": "markdown",
   "metadata": {
    "slideshow": {
     "slide_type": "slide"
    }
   },
   "source": [
    "### Extras\n"
   ]
  },
  {
   "cell_type": "markdown",
   "metadata": {
    "slideshow": {
     "slide_type": "slide"
    }
   },
   "source": [
    "La Física de Partículas está ligada al desarrollo tecnológico de aceleradores.\n",
    "   \n",
    "![](./imgs/intro_markII_colider.jpg) ![](./imgs/intro_slac_aerial.jpg \"title-2\")\n",
    "   \n",
    "<img src=\"./imgs/intro_markII_colider.jpg\" width = 100 /> <img src=\"./imgs/intro_slac_aerial.jpg\"    width = 100 /> \n",
    "\n",
    "<p float='center'>\n",
    "<img src=\"./imgs/intro_markII_colider.jpg\" width = 20 />\n",
    "<img src=\"./imgs/intro_slac_aerial.jpg\"    width = 20 />\n",
    "</p>\n",
    "   \n",
    "  * <font color= 'blue'> El acelarador actual más potentes el LHC (Large Hadron Collider) en el CERN </font>\n",
    "    \n",
    "Pero también hay aceleradores naturales:\n",
    "\n",
    "  * Rayos Cósmicos (protons, ...) pero también neutrinos\n",
    "  \n",
    "  "
   ]
  },
  {
   "cell_type": "markdown",
   "metadata": {},
   "source": [
    "##### Propiedades de los fermiones\n",
    "\n",
    "| lepton | Q (e) | mass (GeV) | lifetime (s) | | quark | Q (e) | mass (GeV) |\n",
    "| :--    | :--   | :--       | :--            | | :--   | ---   | :--        |\n",
    "| $\\nu_e$  | 0     | $<10^{-9}$ | $\\infty$   | | u     | $\\frac{-1}{3}$ | $\\sim0.002$         |\n",
    "| $e$      | -1    | 0.000511     | $\\infty$    | | d     |  $\\frac{2}{3}$  |$\\sim0.005$         |\n",
    "| --- |\n",
    "| $\\nu_\\mu$  | 0     | $<10^{-9}$ | $\\infty$  | | c     | $\\frac{-1}{3}$ | $\\sim1.2$         |\n",
    "| $\\mu$      | -1    | 0.106      |   $2.2 \\times 10^{-6}$        | | s     |  $\\frac{2}{3}$ | $\\sim0.093$         |\n",
    "| --- |\n",
    "| $\\nu_\\tau$ | 0     | $<10^{-9}$ | $\\infty$  | | t     | $\\frac{-1}{3}$ | $\\sim 170$         |\n",
    "| $\\tau$      | -1    | 1.850      |    $2.9 \\times 10^{-13}$         | | b     |  $\\frac{2}{3}$ | $\\sim $4.2$         |\n",
    "\n",
    "\n",
    "@todo hacer plot de scala de masas y puntos con labels"
   ]
  },
  {
   "cell_type": "markdown",
   "metadata": {
    "slideshow": {
     "slide_type": "slide"
    }
   },
   "source": [
    "### Tema III "
   ]
  },
  {
   "cell_type": "markdown",
   "metadata": {
    "slideshow": {
     "slide_type": "slide"
    }
   },
   "source": [
    "### Bibliografía\n",
    "\n",
    "* \"Elementary Particle Physics\", S. Bettini, Cambridge.\n",
    "\n",
    "* \"Modern Particle Physics\", Mark Thomson, Cambridge.\n",
    "\n",
    "* \"Lepton and Quark\", Francis Halzen, Alan D. Martin, Josh Wiley & Sons\n"
   ]
  },
  {
   "cell_type": "code",
   "execution_count": null,
   "metadata": {},
   "outputs": [],
   "source": []
  }
 ],
 "metadata": {
  "anaconda-cloud": {},
  "celltoolbar": "Slideshow",
  "kernelspec": {
   "display_name": "Python 3",
   "language": "python",
   "name": "python3"
  },
  "language_info": {
   "codemirror_mode": {
    "name": "ipython",
    "version": 3
   },
   "file_extension": ".py",
   "mimetype": "text/x-python",
   "name": "python",
   "nbconvert_exporter": "python",
   "pygments_lexer": "ipython3",
   "version": "3.8.8"
  }
 },
 "nbformat": 4,
 "nbformat_minor": 4
}
